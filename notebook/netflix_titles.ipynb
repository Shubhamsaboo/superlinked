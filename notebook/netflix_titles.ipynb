{
 "cells": [
  {
   "cell_type": "markdown",
   "id": "9b043a5f-b961-4c6c-9107-f9ae8f0778f3",
   "metadata": {},
   "source": [
    "# Netflix recommendations"
   ]
  },
  {
   "cell_type": "markdown",
   "id": "d460ac88-5a9b-4e43-80fa-3ddaad07538a",
   "metadata": {},
   "source": [
    "<div class=\"alert alert-block alert-warning\">\n",
    "Replace <code>YOUR_GITHUB_TOKEN</code> in the install script. To get your token follow the instructions in the <a href=\"../README.md\">README.md</a>\n",
    "</div>"
   ]
  },
  {
   "cell_type": "markdown",
   "id": "80fdfc22-58c9-4355-97e9-685ced8a8a1e",
   "metadata": {},
   "source": [
    "## Boilerplate\n",
    "\n",
    "### Installation"
   ]
  },
  {
   "cell_type": "code",
   "execution_count": 1,
   "id": "782788ff-ea73-4e06-8fd2-b4a114b5f25d",
   "metadata": {
    "scrolled": true
   },
   "outputs": [],
   "source": [
    "%pip install  'https://us-central1-data-359211.cloudfunctions.net/github-proxy/superlinked-2.21.0-py3-none-any.whl?token=YOUR_GITHUB_TOKEN'"
   ]
  },
  {
   "cell_type": "markdown",
   "id": "cb50885c-536e-480a-b3a1-3c0d4449d64b",
   "metadata": {},
   "source": [
    "### Imports and constants"
   ]
  },
  {
   "cell_type": "code",
   "execution_count": 2,
   "id": "f641dd4c-2df4-460d-bd96-f0b654e1bd05",
   "metadata": {},
   "outputs": [],
   "source": [
    "from datetime import timedelta, datetime\n",
    "\n",
    "import altair as alt\n",
    "import pandas as pd\n",
    "\n",
    "from superlinked.evaluation.charts.recency_plotter import RecencyPlotter\n",
    "from superlinked.framework.common.dag.period_time import PeriodTime\n",
    "from superlinked.framework.common.schema.schema import schema\n",
    "from superlinked.framework.common.schema.schema_object import String, Timestamp\n",
    "from superlinked.framework.common.schema.id_schema_object import IdField\n",
    "from superlinked.framework.common.parser.dataframe_parser import DataFrameParser\n",
    "from superlinked.framework.dsl.executor.in_memory.in_memory_executor import InMemoryExecutor, InMemoryApp\n",
    "from superlinked.framework.dsl.index.index import Index\n",
    "from superlinked.framework.dsl.query.param import Param\n",
    "from superlinked.framework.dsl.query.query import Query\n",
    "from superlinked.framework.dsl.query.result import Result\n",
    "from superlinked.framework.dsl.source.in_memory_source import InMemorySource\n",
    "from superlinked.framework.dsl.space.text_similarity_space import TextSimilaritySpace\n",
    "from superlinked.framework.dsl.space.recency_space import RecencySpace\n",
    "\n",
    "alt.renderers.enable('mimetype')\n",
    "pd.set_option('display.max_colwidth', 200)"
   ]
  },
  {
   "cell_type": "code",
   "execution_count": 3,
   "id": "2b55a3d8-dbe3-4f35-be21-11864226252d",
   "metadata": {},
   "outputs": [],
   "source": [
    "MODEL = \"sentence-transformers/paraphrase-MiniLM-L3-v2\"\n",
    "YEAR_IN_DAYS = 365\n",
    "TOP_N = 10\n",
    "DATASET_URL = \"https://storage.googleapis.com/superlinked-notebook-netflix-shows-dataset/titles.csv\""
   ]
  },
  {
   "cell_type": "markdown",
   "id": "480739b3-b03f-426d-9eec-affb54d86228",
   "metadata": {},
   "source": [
    "## Prepare dataset"
   ]
  },
  {
   "cell_type": "code",
   "execution_count": 4,
   "id": "339d4fcf-50d2-4d5c-a800-14807a2d4cfb",
   "metadata": {},
   "outputs": [
    {
     "data": {
      "text/html": [
       "<div>\n",
       "<style scoped>\n",
       "    .dataframe tbody tr th:only-of-type {\n",
       "        vertical-align: middle;\n",
       "    }\n",
       "\n",
       "    .dataframe tbody tr th {\n",
       "        vertical-align: top;\n",
       "    }\n",
       "\n",
       "    .dataframe thead th {\n",
       "        text-align: right;\n",
       "    }\n",
       "</style>\n",
       "<table border=\"1\" class=\"dataframe\">\n",
       "  <thead>\n",
       "    <tr style=\"text-align: right;\">\n",
       "      <th></th>\n",
       "      <th>description</th>\n",
       "      <th>genres</th>\n",
       "      <th>title</th>\n",
       "      <th>release_year</th>\n",
       "      <th>id</th>\n",
       "      <th>timestamp</th>\n",
       "    </tr>\n",
       "  </thead>\n",
       "  <tbody>\n",
       "    <tr>\n",
       "      <th>0</th>\n",
       "      <td>This collection includes 12 World War II-era propaganda films — many of which are graphic and offensive — discussed in the docuseries \"Five Came Back.\"</td>\n",
       "      <td>documentation</td>\n",
       "      <td>Five Came Back: The Reference Films</td>\n",
       "      <td>1945</td>\n",
       "      <td>ts300399</td>\n",
       "      <td>-788918400.0</td>\n",
       "    </tr>\n",
       "    <tr>\n",
       "      <th>1</th>\n",
       "      <td>A mentally unstable Vietnam War veteran works as a night-time taxi driver in New York City where the perceived decadence and sleaze feed his urge for violent action.</td>\n",
       "      <td>drama crime</td>\n",
       "      <td>Taxi Driver</td>\n",
       "      <td>1976</td>\n",
       "      <td>tm84618</td>\n",
       "      <td>189302400.0</td>\n",
       "    </tr>\n",
       "    <tr>\n",
       "      <th>2</th>\n",
       "      <td>Intent on seeing the Cahulawassee River before it's turned into one huge lake, outdoor fanatic Lewis Medlock takes his friends on a river-rafting trip they'll never forget into the dangerous Ameri...</td>\n",
       "      <td>drama action thriller european</td>\n",
       "      <td>Deliverance</td>\n",
       "      <td>1972</td>\n",
       "      <td>tm154986</td>\n",
       "      <td>63072000.0</td>\n",
       "    </tr>\n",
       "    <tr>\n",
       "      <th>3</th>\n",
       "      <td>King Arthur, accompanied by his squire, recruits his Knights of the Round Table, including Sir Bedevere the Wise, Sir Lancelot the Brave, Sir Robin the Not-Quite-So-Brave-As-Sir-Lancelot and Sir G...</td>\n",
       "      <td>fantasy action comedy</td>\n",
       "      <td>Monty Python and the Holy Grail</td>\n",
       "      <td>1975</td>\n",
       "      <td>tm127384</td>\n",
       "      <td>157766400.0</td>\n",
       "    </tr>\n",
       "    <tr>\n",
       "      <th>4</th>\n",
       "      <td>12 American military prisoners in World War II are ordered to infiltrate a well-guarded enemy château and kill the Nazi officers vacationing there. The soldiers, most of whom are facing death sent...</td>\n",
       "      <td>war action</td>\n",
       "      <td>The Dirty Dozen</td>\n",
       "      <td>1967</td>\n",
       "      <td>tm120801</td>\n",
       "      <td>-94694400.0</td>\n",
       "    </tr>\n",
       "  </tbody>\n",
       "</table>\n",
       "</div>"
      ],
      "text/plain": [
       "                                                                                                                                                                                               description  \\\n",
       "0                                                  This collection includes 12 World War II-era propaganda films — many of which are graphic and offensive — discussed in the docuseries \"Five Came Back.\"   \n",
       "1                                    A mentally unstable Vietnam War veteran works as a night-time taxi driver in New York City where the perceived decadence and sleaze feed his urge for violent action.   \n",
       "2  Intent on seeing the Cahulawassee River before it's turned into one huge lake, outdoor fanatic Lewis Medlock takes his friends on a river-rafting trip they'll never forget into the dangerous Ameri...   \n",
       "3  King Arthur, accompanied by his squire, recruits his Knights of the Round Table, including Sir Bedevere the Wise, Sir Lancelot the Brave, Sir Robin the Not-Quite-So-Brave-As-Sir-Lancelot and Sir G...   \n",
       "4  12 American military prisoners in World War II are ordered to infiltrate a well-guarded enemy château and kill the Nazi officers vacationing there. The soldiers, most of whom are facing death sent...   \n",
       "\n",
       "                           genres                                title  \\\n",
       "0                   documentation  Five Came Back: The Reference Films   \n",
       "1                     drama crime                          Taxi Driver   \n",
       "2  drama action thriller european                          Deliverance   \n",
       "3           fantasy action comedy      Monty Python and the Holy Grail   \n",
       "4                      war action                      The Dirty Dozen   \n",
       "\n",
       "   release_year        id    timestamp  \n",
       "0          1945  ts300399 -788918400.0  \n",
       "1          1976   tm84618  189302400.0  \n",
       "2          1972  tm154986   63072000.0  \n",
       "3          1975  tm127384  157766400.0  \n",
       "4          1967  tm120801  -94694400.0  "
      ]
     },
     "execution_count": 4,
     "metadata": {},
     "output_type": "execute_result"
    }
   ],
   "source": [
    "movie_df = pd.read_csv(DATASET_URL)\n",
    "movie_df = movie_df[[\"description\", \"genres\", \"title\", \"release_year\", \"id\"]].drop_duplicates(subset=[\"description\"]).dropna(how='any')\n",
    "movie_df[\"genres\"] = movie_df[\"genres\"].apply(lambda x: \" \".join(eval(x)))\n",
    "movie_df[\"timestamp\"] = [pd.Timestamp(year=year, month=1, day=1).timestamp() for year in movie_df[\"release_year\"].tolist()]\n",
    "movie_df.head()"
   ]
  },
  {
   "cell_type": "markdown",
   "id": "4405f9b4-8109-4cd1-ab80-9df69ee75671",
   "metadata": {},
   "source": [
    "## Set up Superlinked"
   ]
  },
  {
   "cell_type": "code",
   "execution_count": 5,
   "id": "363d1bfb-a842-49b6-a822-99db1f18daa8",
   "metadata": {},
   "outputs": [],
   "source": [
    "@schema\n",
    "class MovieSchema:\n",
    "    description: String\n",
    "    title: String\n",
    "    release_timestamp: Timestamp\n",
    "    genres: String\n",
    "    id: IdField"
   ]
  },
  {
   "cell_type": "code",
   "execution_count": 6,
   "id": "7b17ee72-539f-459a-ab8e-f1918579987d",
   "metadata": {},
   "outputs": [],
   "source": [
    "movie = MovieSchema()"
   ]
  },
  {
   "cell_type": "code",
   "execution_count": 7,
   "id": "abba40ea-a250-4b12-ad4b-ef90155c3175",
   "metadata": {},
   "outputs": [],
   "source": [
    "description_space = TextSimilaritySpace(text=movie.description, model=MODEL)\n",
    "title_space = TextSimilaritySpace(text=movie.title, model=MODEL)\n",
    "genre_space = TextSimilaritySpace(text=movie.genres, model=MODEL)\n",
    "recency_space = RecencySpace(timestamp=movie.release_timestamp, period_time_list=[\n",
    "    PeriodTime(timedelta(days=4 * YEAR_IN_DAYS)), \n",
    "    PeriodTime(timedelta(days=10 * YEAR_IN_DAYS)), \n",
    "    PeriodTime(timedelta(days=40 * YEAR_IN_DAYS))],\n",
    "    negative_filter=-0.25)"
   ]
  },
  {
   "cell_type": "code",
   "execution_count": 8,
   "id": "88e05778-8ab1-49c9-922d-cd825c65b93a",
   "metadata": {},
   "outputs": [],
   "source": [
    "movie_index = Index(spaces=[description_space, title_space, genre_space, recency_space])"
   ]
  },
  {
   "cell_type": "code",
   "execution_count": 9,
   "id": "b56927bf-503c-4f08-98c4-f5f9a49690af",
   "metadata": {},
   "outputs": [],
   "source": [
    "query_text_param = Param(\"query_text\")\n",
    "\n",
    "simple_query = (\n",
    "    Query(movie_index, weights={\n",
    "        description_space: Param(\"description_weight\"),\n",
    "        title_space: Param(\"title_weight\"),\n",
    "        genre_space: Param(\"genre_weight\"),\n",
    "        recency_space: Param(\"recency_weight\")\n",
    "    })\n",
    "    .find(movie)\n",
    "    .similar(description_space.text, query_text_param)\n",
    "    .similar(title_space.text, query_text_param)\n",
    "    .similar(genre_space.text, query_text_param)\n",
    "    .limit(TOP_N)\n",
    ")\n",
    "\n",
    "advanced_query = (\n",
    "    Query(movie_index, weights={\n",
    "        description_space: Param(\"description_weight\"),\n",
    "        title_space: Param(\"title_weight\"),\n",
    "        genre_space: Param(\"genre_weight\"),\n",
    "        recency_space: Param(\"recency_weight\")\n",
    "    })\n",
    "    .find(movie)\n",
    "    .similar(description_space.text, Param(\"description_query_text\"))\n",
    "    .similar(title_space.text, Param(\"title_query_text\"))\n",
    "    .similar(genre_space.text, Param(\"genre_query_text\"))\n",
    "    .limit(TOP_N)\n",
    ")"
   ]
  },
  {
   "cell_type": "code",
   "execution_count": 10,
   "id": "22069eb1-16d6-40db-b5ba-127fa1efa86e",
   "metadata": {},
   "outputs": [],
   "source": [
    "df_parser = DataFrameParser(schema=movie, mapping={movie.release_timestamp: \"timestamp\"})"
   ]
  },
  {
   "cell_type": "code",
   "execution_count": 11,
   "id": "14335931-ba95-45ec-8cb6-19f5e4905fbd",
   "metadata": {},
   "outputs": [],
   "source": [
    "source: InMemorySource = InMemorySource(movie, parser=df_parser)\n",
    "executor: InMemoryExecutor = InMemoryExecutor(sources=[source], indices=[movie_index])\n",
    "app: InMemoryApp = executor.run()"
   ]
  },
  {
   "cell_type": "markdown",
   "id": "29e6a6fc-ec5e-4a07-b9a8-9c8b38ac047b",
   "metadata": {},
   "source": [
    "This next one might take several minutes to run. Getting a coffee or water, or doing a quick planking workout is advised."
   ]
  },
  {
   "cell_type": "code",
   "execution_count": 12,
   "id": "683cbd59-0744-4cd9-9a36-18814be79760",
   "metadata": {},
   "outputs": [],
   "source": [
    "source.put([movie_df])"
   ]
  },
  {
   "cell_type": "markdown",
   "id": "09bcc1e1-91d1-400f-87c9-bfcda1bddded",
   "metadata": {},
   "source": [
    "## Understanding recency"
   ]
  },
  {
   "cell_type": "markdown",
   "id": "576214c2-8303-45d0-a5ae-8cffe5e70e42",
   "metadata": {},
   "source": [
    "Recency can seem quite complex at first, let's see how the score looks like for the relevant time periods"
   ]
  },
  {
   "cell_type": "code",
   "execution_count": 13,
   "id": "0bd07652-ebd9-4676-97b2-96eecd0b6089",
   "metadata": {},
   "outputs": [
    {
     "data": {
      "application/vnd.vegalite.v5+json": {
       "$schema": "https://vega.github.io/schema/vega-lite/v5.16.3.json",
       "config": {
        "view": {
         "continuousHeight": 300,
         "continuousWidth": 300
        }
       },
       "data": {
        "name": "data-56f1fe88d27faeb13969bd02efcbbbee"
       },
       "datasets": {
        "data-56f1fe88d27faeb13969bd02efcbbbee": [
         {
          "date": "1980-02-26T12:16:35",
          "score": -0.25
         },
         {
          "date": "1980-03-13T14:06:07.972973",
          "score": -0.25
         },
         {
          "date": "1980-03-29T15:55:40.945946",
          "score": -0.25
         },
         {
          "date": "1980-04-14T18:45:13.918919",
          "score": -0.25
         },
         {
          "date": "1980-04-30T20:34:46.891892",
          "score": -0.25
         },
         {
          "date": "1980-05-16T22:24:19.864865",
          "score": -0.25
         },
         {
          "date": "1980-06-02T00:13:52.837838",
          "score": -0.25
         },
         {
          "date": "1980-06-18T02:03:25.810811",
          "score": -0.25
         },
         {
          "date": "1980-07-04T03:52:58.783784",
          "score": -0.25
         },
         {
          "date": "1980-07-20T05:42:31.756757",
          "score": -0.25
         },
         {
          "date": "1980-08-05T07:32:04.729730",
          "score": -0.25
         },
         {
          "date": "1980-08-21T09:21:37.702703",
          "score": -0.25
         },
         {
          "date": "1980-09-06T11:11:10.675676",
          "score": -0.25
         },
         {
          "date": "1980-09-22T13:00:43.648649",
          "score": -0.25
         },
         {
          "date": "1980-10-08T13:50:16.621622",
          "score": -0.25
         },
         {
          "date": "1980-10-24T15:39:49.594595",
          "score": -0.25
         },
         {
          "date": "1980-11-09T17:29:22.567568",
          "score": -0.25
         },
         {
          "date": "1980-11-25T19:18:55.540541",
          "score": -0.25
         },
         {
          "date": "1980-12-11T21:08:28.513514",
          "score": -0.25
         },
         {
          "date": "1980-12-27T22:58:01.486486",
          "score": -0.25
         },
         {
          "date": "1981-01-13T00:47:34.459459",
          "score": -0.25
         },
         {
          "date": "1981-01-29T02:37:07.432432",
          "score": -0.25
         },
         {
          "date": "1981-02-14T04:26:40.405405",
          "score": -0.25
         },
         {
          "date": "1981-03-02T06:16:13.378378",
          "score": -0.25
         },
         {
          "date": "1981-03-18T08:05:46.351351",
          "score": -0.25
         },
         {
          "date": "1981-04-03T10:55:19.324324",
          "score": -0.25
         },
         {
          "date": "1981-04-19T12:44:52.297297",
          "score": -0.25
         },
         {
          "date": "1981-05-05T14:34:25.270270",
          "score": -0.25
         },
         {
          "date": "1981-05-21T16:23:58.243243",
          "score": -0.25
         },
         {
          "date": "1981-06-06T18:13:31.216216",
          "score": -0.25
         },
         {
          "date": "1981-06-22T20:03:04.189189",
          "score": -0.25
         },
         {
          "date": "1981-07-08T21:52:37.162162",
          "score": -0.25
         },
         {
          "date": "1981-07-24T23:42:10.135135",
          "score": -0.25
         },
         {
          "date": "1981-08-10T01:31:43.108108",
          "score": -0.25
         },
         {
          "date": "1981-08-26T03:21:16.081081",
          "score": -0.25
         },
         {
          "date": "1981-09-11T05:10:49.054054",
          "score": -0.25
         },
         {
          "date": "1981-09-27T06:00:22.027027",
          "score": -0.25
         },
         {
          "date": "1981-10-13T07:49:55",
          "score": -0.25
         },
         {
          "date": "1981-10-29T09:39:27.972973",
          "score": -0.25
         },
         {
          "date": "1981-11-14T11:29:00.945946",
          "score": -0.25
         },
         {
          "date": "1981-11-30T13:18:33.918919",
          "score": -0.25
         },
         {
          "date": "1981-12-16T15:08:06.891892",
          "score": -0.25
         },
         {
          "date": "1982-01-01T16:57:39.864865",
          "score": -0.25
         },
         {
          "date": "1982-01-17T18:47:12.837838",
          "score": -0.25
         },
         {
          "date": "1982-02-02T20:36:45.810811",
          "score": -0.25
         },
         {
          "date": "1982-02-18T22:26:18.783784",
          "score": -0.25
         },
         {
          "date": "1982-03-07T00:15:51.756757",
          "score": -0.25
         },
         {
          "date": "1982-03-23T02:05:24.729730",
          "score": -0.25
         },
         {
          "date": "1982-04-08T04:54:57.702703",
          "score": -0.25
         },
         {
          "date": "1982-04-24T06:44:30.675676",
          "score": -0.25
         },
         {
          "date": "1982-05-10T08:34:03.648649",
          "score": -0.25
         },
         {
          "date": "1982-05-26T10:23:36.621622",
          "score": -0.25
         },
         {
          "date": "1982-06-11T12:13:09.594595",
          "score": -0.25
         },
         {
          "date": "1982-06-27T14:02:42.567568",
          "score": -0.25
         },
         {
          "date": "1982-07-13T15:52:15.540541",
          "score": -0.25
         },
         {
          "date": "1982-07-29T17:41:48.513514",
          "score": -0.25
         },
         {
          "date": "1982-08-14T19:31:21.486486",
          "score": -0.25
         },
         {
          "date": "1982-08-30T21:20:54.459459",
          "score": -0.25
         },
         {
          "date": "1982-09-15T23:10:27.432432",
          "score": -0.25
         },
         {
          "date": "1982-10-02T00:00:00.405405",
          "score": -0.25
         },
         {
          "date": "1982-10-18T01:49:33.378378",
          "score": -0.25
         },
         {
          "date": "1982-11-03T03:39:06.351351",
          "score": -0.25
         },
         {
          "date": "1982-11-19T05:28:39.324324",
          "score": -0.25
         },
         {
          "date": "1982-12-05T07:18:12.297297",
          "score": -0.25
         },
         {
          "date": "1982-12-21T09:07:45.270270",
          "score": -0.25
         },
         {
          "date": "1983-01-06T10:57:18.243243",
          "score": -0.25
         },
         {
          "date": "1983-01-22T12:46:51.216216",
          "score": -0.25
         },
         {
          "date": "1983-02-07T14:36:24.189189",
          "score": -0.25
         },
         {
          "date": "1983-02-23T16:25:57.162162",
          "score": -0.25
         },
         {
          "date": "1983-03-11T18:15:30.135135",
          "score": -0.25
         },
         {
          "date": "1983-03-27T21:05:03.108108",
          "score": -0.25
         },
         {
          "date": "1983-04-12T22:54:36.081081",
          "score": -0.25
         },
         {
          "date": "1983-04-29T00:44:09.054054",
          "score": -0.25
         },
         {
          "date": "1983-05-15T02:33:42.027027",
          "score": -0.25
         },
         {
          "date": "1983-05-31T04:23:15",
          "score": -0.25
         },
         {
          "date": "1983-06-16T06:12:47.972973",
          "score": -0.25
         },
         {
          "date": "1983-07-02T08:02:20.945946",
          "score": -0.25
         },
         {
          "date": "1983-07-18T09:51:53.918919",
          "score": -0.25
         },
         {
          "date": "1983-08-03T11:41:26.891892",
          "score": -0.25
         },
         {
          "date": "1983-08-19T13:30:59.864865",
          "score": -0.25
         },
         {
          "date": "1983-09-04T15:20:32.837838",
          "score": -0.25
         },
         {
          "date": "1983-09-20T17:10:05.810811",
          "score": -0.25
         },
         {
          "date": "1983-10-06T17:59:38.783784",
          "score": -0.25
         },
         {
          "date": "1983-10-22T19:49:11.756757",
          "score": -0.25
         },
         {
          "date": "1983-11-07T21:38:44.729730",
          "score": -0.25
         },
         {
          "date": "1983-11-23T23:28:17.702703",
          "score": -0.25
         },
         {
          "date": "1983-12-10T01:17:50.675676",
          "score": -0.25
         },
         {
          "date": "1983-12-26T03:07:23.648649",
          "score": -0.25
         },
         {
          "date": "1984-01-11T04:56:56.621622",
          "score": -0.25
         },
         {
          "date": "1984-01-27T06:46:29.594595",
          "score": -0.25
         },
         {
          "date": "1984-02-12T08:36:02.567568",
          "score": -0.25
         },
         {
          "date": "1984-02-28T10:25:35.540541",
          "score": 0.00010482457797164362
         },
         {
          "date": "1984-03-15T12:15:08.513514",
          "score": 0.0006813592935627758
         },
         {
          "date": "1984-03-31T15:04:41.486486",
          "score": 0.00125789197084415
         },
         {
          "date": "1984-04-16T16:54:14.459459",
          "score": 0.0018344208850980413
         },
         {
          "date": "1984-05-02T18:43:47.432432",
          "score": 0.0024109443116181483
         },
         {
          "date": "1984-05-18T20:33:20.405405",
          "score": 0.002987460525714773
         },
         {
          "date": "1984-06-03T22:22:53.378378",
          "score": 0.0035639678027198024
         },
         {
          "date": "1984-06-20T00:12:26.351351",
          "score": 0.004140464417991907
         },
         {
          "date": "1984-07-06T02:01:59.324324",
          "score": 0.00471694864692072
         },
         {
          "date": "1984-07-22T03:51:32.297297",
          "score": 0.005293418764934316
         },
         {
          "date": "1984-08-07T05:41:05.270270",
          "score": 0.005869873047502173
         },
         {
          "date": "1984-08-23T07:30:38.243243",
          "score": 0.006446309770141176
         },
         {
          "date": "1984-09-08T09:20:11.216216",
          "score": 0.0070227272084210654
         },
         {
          "date": "1984-09-24T11:09:44.189189",
          "score": 0.007599123637969185
         },
         {
          "date": "1984-10-10T11:59:17.162162",
          "score": 0.008175497334475394
         },
         {
          "date": "1984-10-26T13:48:50.135135",
          "score": 0.008751846573698357
         },
         {
          "date": "1984-11-11T15:38:23.108108",
          "score": 0.009328169631468656
         },
         {
          "date": "1984-11-27T17:27:56.081081",
          "score": 0.009904464783696078
         },
         {
          "date": "1984-12-13T19:17:29.054054",
          "score": 0.010480730306373644
         },
         {
          "date": "1984-12-29T21:07:02.027027",
          "score": 0.011056964475583186
         },
         {
          "date": "1985-01-14T22:56:35",
          "score": 0.011633165567500362
         },
         {
          "date": "1985-01-31T00:46:07.972973",
          "score": 0.012209331858399345
         },
         {
          "date": "1985-02-16T02:35:40.945946",
          "score": 0.012785461624658925
         },
         {
          "date": "1985-03-04T04:25:13.918919",
          "score": 0.013361553142766776
         },
         {
          "date": "1985-03-20T06:14:46.891892",
          "score": 0.013937604689325214
         },
         {
          "date": "1985-04-05T09:04:19.864865",
          "score": 0.014513614541056189
         },
         {
          "date": "1985-04-21T10:53:52.837838",
          "score": 0.015089580974806487
         },
         {
          "date": "1985-05-07T12:43:25.810811",
          "score": 0.01566550226755192
         },
         {
          "date": "1985-05-23T14:32:58.783784",
          "score": 0.016241376696404106
         },
         {
          "date": "1985-06-08T16:22:31.756757",
          "score": 0.01681720253861504
         },
         {
          "date": "1985-06-24T18:12:04.729730",
          "score": 0.017392978071581487
         },
         {
          "date": "1985-07-10T20:01:37.702703",
          "score": 0.01796870157285111
         },
         {
          "date": "1985-07-26T21:51:10.675676",
          "score": 0.018544371320127245
         },
         {
          "date": "1985-08-11T23:40:43.648649",
          "score": 0.01911998559127356
         },
         {
          "date": "1985-08-28T01:30:16.621622",
          "score": 0.01969554266432066
         },
         {
          "date": "1985-09-13T03:19:49.594595",
          "score": 0.020271040817468854
         },
         {
          "date": "1985-09-29T04:09:22.567568",
          "score": 0.02084647832909573
         },
         {
          "date": "1985-10-15T05:58:55.540541",
          "score": 0.021421853477759885
         },
         {
          "date": "1985-10-31T07:48:28.513514",
          "score": 0.021997164542206807
         },
         {
          "date": "1985-11-16T09:38:01.486486",
          "score": 0.022572409801373608
         },
         {
          "date": "1985-12-02T11:27:34.459459",
          "score": 0.023147587534393856
         },
         {
          "date": "1985-12-18T13:17:07.432432",
          "score": 0.023722696020603742
         },
         {
          "date": "1986-01-03T15:06:40.405405",
          "score": 0.024297733539546017
         },
         {
          "date": "1986-01-19T16:56:13.378378",
          "score": 0.024872698370976103
         },
         {
          "date": "1986-02-04T18:45:46.351351",
          "score": 0.025447588794867245
         },
         {
          "date": "1986-02-20T20:35:19.324324",
          "score": 0.026022403091414098
         },
         {
          "date": "1986-03-08T22:24:52.297297",
          "score": 0.026597139541040007
         },
         {
          "date": "1986-03-25T00:14:25.270270",
          "score": 0.027171796424400877
         },
         {
          "date": "1986-04-10T03:03:58.243243",
          "score": 0.027746372022390973
         },
         {
          "date": "1986-04-26T04:53:31.216216",
          "score": 0.028320864616147176
         },
         {
          "date": "1986-05-12T06:43:04.189189",
          "score": 0.02889527248705517
         },
         {
          "date": "1986-05-28T08:32:37.162162",
          "score": 0.029469593916754005
         },
         {
          "date": "1986-06-13T10:22:10.135135",
          "score": 0.030043827187141395
         },
         {
          "date": "1986-06-29T12:11:43.108108",
          "score": 0.030617970580377973
         },
         {
          "date": "1986-07-15T14:01:16.081081",
          "score": 0.031192022378894034
         },
         {
          "date": "1986-07-31T15:50:49.054054",
          "score": 0.03176598086539404
         },
         {
          "date": "1986-08-16T17:40:22.027027",
          "score": 0.03233984432286099
         },
         {
          "date": "1986-09-01T19:29:55",
          "score": 0.0329136110345626
         },
         {
          "date": "1986-09-17T21:19:27.972973",
          "score": 0.03348727928405597
         },
         {
          "date": "1986-10-03T22:09:00.945946",
          "score": 0.03406084735519255
         },
         {
          "date": "1986-10-19T23:58:33.918919",
          "score": 0.03463431353212325
         },
         {
          "date": "1986-11-05T01:48:06.891892",
          "score": 0.03520767609930472
         },
         {
          "date": "1986-11-21T03:37:39.864865",
          "score": 0.03578093334150296
         },
         {
          "date": "1986-12-07T05:27:12.837838",
          "score": 0.0363540835437985
         },
         {
          "date": "1986-12-23T07:16:45.810811",
          "score": 0.03692712499159273
         },
         {
          "date": "1987-01-08T09:06:18.783784",
          "score": 0.037500055970612636
         },
         {
          "date": "1987-01-24T10:55:51.756757",
          "score": 0.03807287476691504
         },
         {
          "date": "1987-02-09T12:45:24.729730",
          "score": 0.038645579666892776
         },
         {
          "date": "1987-02-25T14:34:57.702703",
          "score": 0.039218168957279434
         },
         {
          "date": "1987-03-13T16:24:30.675676",
          "score": 0.039790640925154046
         },
         {
          "date": "1987-03-29T19:14:03.648649",
          "score": 0.04036299385794711
         },
         {
          "date": "1987-04-14T21:03:36.621622",
          "score": 0.040935226043445176
         },
         {
          "date": "1987-04-30T22:53:09.594595",
          "score": 0.04150733576979521
         },
         {
          "date": "1987-05-17T00:42:42.567568",
          "score": 0.042079321325511336
         },
         {
          "date": "1987-06-02T02:32:15.540541",
          "score": 0.04265118099947901
         },
         {
          "date": "1987-06-18T04:21:48.513514",
          "score": 0.043222913080960386
         },
         {
          "date": "1987-07-04T06:11:21.486486",
          "score": 0.04379451585959882
         },
         {
          "date": "1987-07-20T08:00:54.459459",
          "score": 0.044365987625425075
         },
         {
          "date": "1987-08-05T09:50:27.432432",
          "score": 0.044937326668861396
         },
         {
          "date": "1987-08-21T11:40:00.405405",
          "score": 0.04550853128072696
         },
         {
          "date": "1987-09-06T13:29:33.378378",
          "score": 0.04607959975224394
         },
         {
          "date": "1987-09-22T15:19:06.351351",
          "score": 0.046650530375041244
         },
         {
          "date": "1987-10-08T16:08:39.324324",
          "score": 0.047221321441159474
         },
         {
          "date": "1987-10-24T17:58:12.297297",
          "score": 0.047791971243057535
         },
         {
          "date": "1987-11-09T19:47:45.270270",
          "score": 0.04836247807361708
         },
         {
          "date": "1987-11-25T21:37:18.243243",
          "score": 0.04893284022614699
         },
         {
          "date": "1987-12-11T23:26:51.216216",
          "score": 0.04950305599438883
         },
         {
          "date": "1987-12-28T01:16:24.189189",
          "score": 0.050073123672522944
         },
         {
          "date": "1988-01-13T03:05:57.162162",
          "score": 0.0506430415551718
         },
         {
          "date": "1988-01-29T04:55:30.135135",
          "score": 0.05121280793740661
         },
         {
          "date": "1988-02-14T06:45:03.108108",
          "score": 0.05178242111475077
         },
         {
          "date": "1988-03-01T08:34:36.081081",
          "score": 0.05235187938318724
         },
         {
          "date": "1988-03-17T10:24:09.054054",
          "score": 0.052921181039161644
         },
         {
          "date": "1988-04-02T13:13:42.027027",
          "score": 0.053490324379588484
         },
         {
          "date": "1988-04-18T15:03:15",
          "score": 0.054059307701855824
         },
         {
          "date": "1988-05-04T16:52:47.972973",
          "score": 0.054628129303830215
         },
         {
          "date": "1988-05-20T18:42:20.945946",
          "score": 0.05519678748386198
         },
         {
          "date": "1988-06-05T20:31:53.918919",
          "score": 0.05576528054079062
         },
         {
          "date": "1988-06-21T22:21:26.891892",
          "score": 0.05633360677394956
         },
         {
          "date": "1988-07-08T00:10:59.864865",
          "score": 0.05690176448317088
         },
         {
          "date": "1988-07-24T02:00:32.837838",
          "score": 0.05746975196879172
         },
         {
          "date": "1988-08-09T03:50:05.810811",
          "score": 0.05803756753165704
         },
         {
          "date": "1988-08-25T05:39:38.783784",
          "score": 0.0586052094731271
         },
         {
          "date": "1988-09-10T07:29:11.756757",
          "score": 0.05917267609508163
         },
         {
          "date": "1988-09-26T08:18:44.729730",
          "score": 0.05973996569992427
         },
         {
          "date": "1988-10-12T10:08:17.702703",
          "score": 0.060307076590588767
         },
         {
          "date": "1988-10-28T11:57:50.675676",
          "score": 0.06087400707054299
         },
         {
          "date": "1988-11-13T13:47:23.648649",
          "score": 0.0614407554437953
         },
         {
          "date": "1988-11-29T15:36:56.621622",
          "score": 0.06200732001489757
         },
         {
          "date": "1988-12-15T17:26:29.594595",
          "score": 0.06257369908895238
         },
         {
          "date": "1988-12-31T19:16:02.567568",
          "score": 0.06313989097161743
         },
         {
          "date": "1989-01-16T21:05:35.540541",
          "score": 0.06370589396910974
         },
         {
          "date": "1989-02-01T22:55:08.513514",
          "score": 0.0642717063882119
         },
         {
          "date": "1989-02-18T00:44:41.486486",
          "score": 0.06483732653627658
         },
         {
          "date": "1989-03-06T02:34:14.459460",
          "score": 0.06540275272123133
         },
         {
          "date": "1989-03-22T04:23:47.432432",
          "score": 0.06596798325158401
         },
         {
          "date": "1989-04-07T07:13:20.405405",
          "score": 0.06653301643642803
         },
         {
          "date": "1989-04-23T09:02:53.378378",
          "score": 0.06709785058544716
         },
         {
          "date": "1989-05-09T10:52:26.351351",
          "score": 0.06766248400892061
         },
         {
          "date": "1989-05-25T12:41:59.324324",
          "score": 0.0682269150177272
         },
         {
          "date": "1989-06-10T14:31:32.297297",
          "score": 0.06879114192335262
         },
         {
          "date": "1989-06-26T16:21:05.270270",
          "score": 0.06935516303789228
         },
         {
          "date": "1989-07-12T18:10:38.243243",
          "score": 0.06991897667405744
         },
         {
          "date": "1989-07-28T20:00:11.216216",
          "score": 0.07048258114518012
         },
         {
          "date": "1989-08-13T21:49:44.189189",
          "score": 0.07104597476521816
         },
         {
          "date": "1989-08-29T23:39:17.162162",
          "score": 0.07160915584875979
         },
         {
          "date": "1989-09-15T01:28:50.135135",
          "score": 0.0721721227110298
         },
         {
          "date": "1989-10-01T02:18:23.108108",
          "score": 0.0727348736678926
         },
         {
          "date": "1989-10-17T04:07:56.081081",
          "score": 0.07329740703585932
         },
         {
          "date": "1989-11-02T05:57:29.054054",
          "score": 0.07385972113209206
         },
         {
          "date": "1989-11-18T07:47:02.027027",
          "score": 0.07442181427440883
         },
         {
          "date": "1989-12-04T09:36:35",
          "score": 0.07498368478128839
         },
         {
          "date": "1989-12-20T11:26:07.972973",
          "score": 0.07554533097187549
         },
         {
          "date": "1990-01-05T13:15:40.945946",
          "score": 0.07610675116598635
         },
         {
          "date": "1990-01-21T15:05:13.918919",
          "score": 0.07666794368411273
         },
         {
          "date": "1990-02-06T16:54:46.891892",
          "score": 0.07722890684742789
         },
         {
          "date": "1990-02-22T18:44:19.864865",
          "score": 0.07778963897779123
         },
         {
          "date": "1990-03-10T20:33:52.837838",
          "score": 0.07835013839775333
         },
         {
          "date": "1990-03-26T23:23:25.810811",
          "score": 0.07891040343055994
         },
         {
          "date": "1990-04-12T01:12:58.783784",
          "score": 0.07947043240015943
         },
         {
          "date": "1990-04-28T03:02:31.756757",
          "score": 0.08003022363120559
         },
         {
          "date": "1990-05-14T04:52:04.729730",
          "score": 0.08058977544906333
         },
         {
          "date": "1990-05-30T06:41:37.702703",
          "score": 0.08114908617981421
         },
         {
          "date": "1990-06-15T08:31:10.675676",
          "score": 0.08170815415026092
         },
         {
          "date": "1990-07-01T10:20:43.648649",
          "score": 0.08226697768793235
         },
         {
          "date": "1990-07-17T12:10:16.621622",
          "score": 0.08282555512108784
         },
         {
          "date": "1990-08-02T13:59:49.594595",
          "score": 0.08338388477872417
         },
         {
          "date": "1990-08-18T15:49:22.567568",
          "score": 0.08394196499057871
         },
         {
          "date": "1990-09-03T17:38:55.540541",
          "score": 0.08449979408713487
         },
         {
          "date": "1990-09-19T19:28:28.513514",
          "score": 0.08505737039962813
         },
         {
          "date": "1990-10-05T20:18:01.486486",
          "score": 0.08561469226004935
         },
         {
          "date": "1990-10-21T22:07:34.459460",
          "score": 0.08617175800115068
         },
         {
          "date": "1990-11-06T23:57:07.432432",
          "score": 0.086728565956451
         },
         {
          "date": "1990-11-23T01:46:40.405405",
          "score": 0.08728511446023965
         },
         {
          "date": "1990-12-09T03:36:13.378378",
          "score": 0.08784140184758267
         },
         {
          "date": "1990-12-25T05:25:46.351351",
          "score": 0.08839742645432751
         },
         {
          "date": "1991-01-10T07:15:19.324324",
          "score": 0.08895318661710652
         },
         {
          "date": "1991-01-26T09:04:52.297297",
          "score": 0.08950868067334423
         },
         {
          "date": "1991-02-11T10:54:25.270270",
          "score": 0.09006390696126075
         },
         {
          "date": "1991-02-27T12:43:58.243243",
          "score": 0.09061886381987769
         },
         {
          "date": "1991-03-15T14:33:31.216216",
          "score": 0.09117354958902207
         },
         {
          "date": "1991-03-31T17:23:04.189189",
          "score": 0.09172796260933237
         },
         {
          "date": "1991-04-16T19:12:37.162162",
          "score": 0.09228210122226291
         },
         {
          "date": "1991-05-02T21:02:10.135135",
          "score": 0.09283596377008899
         },
         {
          "date": "1991-05-18T22:51:43.108108",
          "score": 0.09338954859591087
         },
         {
          "date": "1991-06-04T00:41:16.081081",
          "score": 0.09394285404366094
         },
         {
          "date": "1991-06-20T02:30:49.054054",
          "score": 0.09449587845810647
         },
         {
          "date": "1991-07-06T04:20:22.027027",
          "score": 0.09504862018485606
         },
         {
          "date": "1991-07-22T06:09:55",
          "score": 0.09560107757036339
         },
         {
          "date": "1991-08-07T07:59:27.972973",
          "score": 0.09615324896193331
         },
         {
          "date": "1991-08-23T09:49:00.945946",
          "score": 0.09670513270772567
         },
         {
          "date": "1991-09-08T11:38:33.918919",
          "score": 0.09725672715676127
         },
         {
          "date": "1991-09-24T13:28:06.891892",
          "score": 0.09780803065892633
         },
         {
          "date": "1991-10-10T14:17:39.864865",
          "score": 0.09835904156497706
         },
         {
          "date": "1991-10-26T16:07:12.837838",
          "score": 0.09890975822654574
         },
         {
          "date": "1991-11-11T17:56:45.810811",
          "score": 0.09946017899614373
         },
         {
          "date": "1991-11-27T19:46:18.783784",
          "score": 0.10001030222716847
         },
         {
          "date": "1991-12-13T21:35:51.756757",
          "score": 0.10056012627390712
         },
         {
          "date": "1991-12-29T23:25:24.729730",
          "score": 0.10110964949154211
         },
         {
          "date": "1992-01-15T01:14:57.702703",
          "score": 0.10165887023615586
         },
         {
          "date": "1992-01-31T03:04:30.675676",
          "score": 0.10220778686473517
         },
         {
          "date": "1992-02-16T04:54:03.648649",
          "score": 0.10275639773517746
         },
         {
          "date": "1992-03-03T06:43:36.621622",
          "score": 0.1033047012062936
         },
         {
          "date": "1992-03-19T08:33:09.594595",
          "score": 0.10385269563781507
         },
         {
          "date": "1992-04-04T11:22:42.567568",
          "score": 0.10440037939039734
         },
         {
          "date": "1992-04-20T13:12:15.540541",
          "score": 0.10494775082562566
         },
         {
          "date": "1992-05-06T15:01:48.513514",
          "score": 0.10549480830601951
         },
         {
          "date": "1992-05-22T16:51:21.486486",
          "score": 0.10604155019503722
         },
         {
          "date": "1992-06-07T18:40:54.459460",
          "score": 0.10658797485708174
         },
         {
          "date": "1992-06-23T20:30:27.432432",
          "score": 0.10713408065750463
         },
         {
          "date": "1992-07-09T22:20:00.405405",
          "score": 0.10767986596261116
         },
         {
          "date": "1992-07-26T00:09:33.378378",
          "score": 0.10822532913966623
         },
         {
          "date": "1992-08-11T01:59:06.351351",
          "score": 0.10877046855689786
         },
         {
          "date": "1992-08-27T03:48:39.324324",
          "score": 0.10931528258350201
         },
         {
          "date": "1992-09-12T05:38:12.297297",
          "score": 0.10985976958964877
         },
         {
          "date": "1992-09-28T06:27:45.270270",
          "score": 0.11040392794648667
         },
         {
          "date": "1992-10-14T08:17:18.243243",
          "score": 0.11094775602614687
         },
         {
          "date": "1992-10-30T10:06:51.216216",
          "score": 0.11149125220174888
         },
         {
          "date": "1992-11-15T11:56:24.189189",
          "score": 0.11203441484740541
         },
         {
          "date": "1992-12-01T13:45:57.162162",
          "score": 0.11257724233822584
         },
         {
          "date": "1992-12-17T15:35:30.135135",
          "score": 0.11311973305032405
         },
         {
          "date": "1993-01-02T17:25:03.108108",
          "score": 0.113661885360819
         },
         {
          "date": "1993-01-18T19:14:36.081081",
          "score": 0.114203697647844
         },
         {
          "date": "1993-02-03T21:04:09.054054",
          "score": 0.11474516829054843
         },
         {
          "date": "1993-02-19T22:53:42.027027",
          "score": 0.11528629566910448
         },
         {
          "date": "1993-03-08T00:43:15",
          "score": 0.11582707816471063
         },
         {
          "date": "1993-03-24T02:32:47.972973",
          "score": 0.11636751415959705
         },
         {
          "date": "1993-04-09T05:22:20.945946",
          "score": 0.11690760203703114
         },
         {
          "date": "1993-04-25T07:11:53.918919",
          "score": 0.11744734018132129
         },
         {
          "date": "1993-05-11T09:01:26.891892",
          "score": 0.11798672697782199
         },
         {
          "date": "1993-05-27T10:50:59.864865",
          "score": 0.11852576081293882
         },
         {
          "date": "1993-06-12T12:40:32.837838",
          "score": 0.11906444007413407
         },
         {
          "date": "1993-06-28T14:30:05.810811",
          "score": 0.11960276314992876
         },
         {
          "date": "1993-07-14T16:19:38.783784",
          "score": 0.12014072842991176
         },
         {
          "date": "1993-07-30T18:09:11.756757",
          "score": 0.1206783343047409
         },
         {
          "date": "1993-08-15T19:58:44.729730",
          "score": 0.12121557916614978
         },
         {
          "date": "1993-08-31T21:48:17.702703",
          "score": 0.12175246140695152
         },
         {
          "date": "1993-09-16T23:37:50.675676",
          "score": 0.12228897942104457
         },
         {
          "date": "1993-10-03T00:27:23.648649",
          "score": 0.12282513160341697
         },
         {
          "date": "1993-10-19T02:16:56.621622",
          "score": 0.12336091635014981
         },
         {
          "date": "1993-11-04T04:06:29.594595",
          "score": 0.1238963320584252
         },
         {
          "date": "1993-11-20T05:56:02.567568",
          "score": 0.12443137712652853
         },
         {
          "date": "1993-12-06T07:45:35.540541",
          "score": 0.1249660499538538
         },
         {
          "date": "1993-12-22T09:35:08.513514",
          "score": 0.12550034894090858
         },
         {
          "date": "1994-01-07T11:24:41.486486",
          "score": 0.1260342724893192
         },
         {
          "date": "1994-01-23T13:14:14.459460",
          "score": 0.12656781900183467
         },
         {
          "date": "1994-02-08T15:03:47.432432",
          "score": 0.127100986882332
         },
         {
          "date": "1994-02-24T16:53:20.405405",
          "score": 0.1276337745358213
         },
         {
          "date": "1994-03-12T18:42:53.378378",
          "score": 0.12816618036844957
         },
         {
          "date": "1994-03-28T21:32:26.351351",
          "score": 0.12869820278750677
         },
         {
          "date": "1994-04-13T23:21:59.324324",
          "score": 0.12922984020142864
         },
         {
          "date": "1994-04-30T01:11:32.297297",
          "score": 0.12976109101980393
         },
         {
          "date": "1994-05-16T03:01:05.270270",
          "score": 0.13029195365337717
         },
         {
          "date": "1994-06-01T04:50:38.243243",
          "score": 0.13082242651405462
         },
         {
          "date": "1994-06-17T06:40:11.216216",
          "score": 0.13135250801490822
         },
         {
          "date": "1994-07-03T08:29:44.189189",
          "score": 0.13188219657018066
         },
         {
          "date": "1994-07-19T10:19:17.162162",
          "score": 0.13241149059529025
         },
         {
          "date": "1994-08-04T12:08:50.135135",
          "score": 0.13294038850683634
         },
         {
          "date": "1994-08-20T13:58:23.108108",
          "score": 0.13346888872260151
         },
         {
          "date": "1994-09-05T15:47:56.081081",
          "score": 0.1339969896615592
         },
         {
          "date": "1994-09-21T17:37:29.054054",
          "score": 0.1345246897438775
         },
         {
          "date": "1994-10-07T18:27:02.027027",
          "score": 0.13505198739092314
         },
         {
          "date": "1994-10-23T20:16:35",
          "score": 0.1355788810252668
         },
         {
          "date": "1994-11-08T22:06:07.972973",
          "score": 0.13610536907068796
         },
         {
          "date": "1994-11-24T23:55:40.945946",
          "score": 0.1366314499521797
         },
         {
          "date": "1994-12-11T01:45:13.918919",
          "score": 0.1371571220959526
         },
         {
          "date": "1994-12-27T03:34:46.891892",
          "score": 0.1376823839294401
         },
         {
          "date": "1995-01-12T05:24:19.864865",
          "score": 0.1382072338813035
         },
         {
          "date": "1995-01-28T07:13:52.837838",
          "score": 0.13873167038143616
         },
         {
          "date": "1995-02-13T09:03:25.810811",
          "score": 0.13925569186096712
         },
         {
          "date": "1995-03-01T10:52:58.783784",
          "score": 0.13977929675226872
         },
         {
          "date": "1995-03-17T12:42:31.756757",
          "score": 0.14030248348895882
         },
         {
          "date": "1995-04-02T15:32:04.729730",
          "score": 0.14082525050590586
         },
         {
          "date": "1995-04-18T17:21:37.702703",
          "score": 0.14134759623923443
         },
         {
          "date": "1995-05-04T19:11:10.675676",
          "score": 0.14186951912632909
         },
         {
          "date": "1995-05-20T21:00:43.648649",
          "score": 0.14239101760583966
         },
         {
          "date": "1995-06-05T22:50:16.621622",
          "score": 0.1429120901176847
         },
         {
          "date": "1995-06-22T00:39:49.594595",
          "score": 0.14343273510305812
         },
         {
          "date": "1995-07-08T02:29:22.567568",
          "score": 0.14395295100443256
         },
         {
          "date": "1995-07-24T04:18:55.540541",
          "score": 0.1444727362655638
         },
         {
          "date": "1995-08-09T06:08:28.513514",
          "score": 0.14499208933149652
         },
         {
          "date": "1995-08-25T07:58:01.486486",
          "score": 0.1455110086485679
         },
         {
          "date": "1995-09-10T09:47:34.459460",
          "score": 0.14602949266441262
         },
         {
          "date": "1995-09-26T10:37:07.432432",
          "score": 0.14654753982796812
         },
         {
          "date": "1995-10-12T12:26:40.405405",
          "score": 0.147065148589478
         },
         {
          "date": "1995-10-28T14:16:13.378378",
          "score": 0.14758231740049804
         },
         {
          "date": "1995-11-13T16:05:46.351351",
          "score": 0.14809904471389979
         },
         {
          "date": "1995-11-29T17:55:19.324324",
          "score": 0.1486153289838753
         },
         {
          "date": "1995-12-15T19:44:52.297297",
          "score": 0.14913116866594248
         },
         {
          "date": "1995-12-31T21:34:25.270270",
          "score": 0.1496465622169488
         },
         {
          "date": "1996-01-16T23:23:58.243243",
          "score": 0.15016150809507695
         },
         {
          "date": "1996-02-02T01:13:31.216216",
          "score": 0.15067600475984813
         },
         {
          "date": "1996-02-18T03:03:04.189189",
          "score": 0.15119005067212804
         },
         {
          "date": "1996-03-05T04:52:37.162162",
          "score": 0.15170364429413016
         },
         {
          "date": "1996-03-21T06:42:10.135135",
          "score": 0.15221678408942224
         },
         {
          "date": "1996-04-06T09:31:43.108108",
          "score": 0.15272946852292762
         },
         {
          "date": "1996-04-22T11:21:16.081081",
          "score": 0.1532416960609337
         },
         {
          "date": "1996-05-08T13:10:49.054054",
          "score": 0.1537534651710939
         },
         {
          "date": "1996-05-24T15:00:22.027027",
          "score": 0.1542647743224331
         },
         {
          "date": "1996-06-09T16:49:55",
          "score": 0.15477562198535247
         },
         {
          "date": "1996-06-25T18:39:27.972973",
          "score": 0.1552860066316331
         },
         {
          "date": "1996-07-11T20:29:00.945946",
          "score": 0.15579592673444223
         },
         {
          "date": "1996-07-27T22:18:33.918919",
          "score": 0.15630538076833575
         },
         {
          "date": "1996-08-13T00:08:06.891892",
          "score": 0.15681436720926453
         },
         {
          "date": "1996-08-29T01:57:39.864865",
          "score": 0.15732288453457774
         },
         {
          "date": "1996-09-14T03:47:12.837838",
          "score": 0.15783093122302883
         },
         {
          "date": "1996-09-30T05:36:45.810811",
          "score": 0.1583385057547773
         },
         {
          "date": "1996-10-16T07:26:18.783784",
          "score": 0.15884560661139727
         },
         {
          "date": "1996-11-01T08:15:51.756757",
          "score": 0.1593522322758786
         },
         {
          "date": "1996-11-17T10:05:24.729730",
          "score": 0.15985838123263327
         },
         {
          "date": "1996-12-03T11:54:57.702703",
          "score": 0.160364051967499
         },
         {
          "date": "1996-12-19T13:44:30.675676",
          "score": 0.16086924296774419
         },
         {
          "date": "1997-01-04T15:34:03.648649",
          "score": 0.16137395272207303
         },
         {
          "date": "1997-01-20T17:23:36.621622",
          "score": 0.16187817972062768
         },
         {
          "date": "1997-02-05T19:13:09.594595",
          "score": 0.16238192245499644
         },
         {
          "date": "1997-02-21T21:02:42.567568",
          "score": 0.16288517941821512
         },
         {
          "date": "1997-03-09T22:52:15.540541",
          "score": 0.16338794910477328
         },
         {
          "date": "1997-03-26T00:41:48.513514",
          "score": 0.16389023001061792
         },
         {
          "date": "1997-04-11T03:31:21.486487",
          "score": 0.1643920206331581
         },
         {
          "date": "1997-04-27T05:20:54.459459",
          "score": 0.1648933194712701
         },
         {
          "date": "1997-05-13T07:10:27.432432",
          "score": 0.1653941250253007
         },
         {
          "date": "1997-05-29T09:00:00.405405",
          "score": 0.1658944357970731
         },
         {
          "date": "1997-06-14T10:49:33.378378",
          "score": 0.1663942502898901
         },
         {
          "date": "1997-06-30T12:39:06.351351",
          "score": 0.16689356700853947
         },
         {
          "date": "1997-07-16T14:28:39.324324",
          "score": 0.16739238445929766
         },
         {
          "date": "1997-08-01T16:18:12.297297",
          "score": 0.16789070114993496
         },
         {
          "date": "1997-08-17T18:07:45.270270",
          "score": 0.16838851558972
         },
         {
          "date": "1997-09-02T19:57:18.243243",
          "score": 0.1688858262894234
         },
         {
          "date": "1997-09-18T21:46:51.216216",
          "score": 0.16938263176132315
         },
         {
          "date": "1997-10-04T23:36:24.189189",
          "score": 0.16987893051920835
         },
         {
          "date": "1997-10-21T01:25:57.162162",
          "score": 0.17037472107838383
         },
         {
          "date": "1997-11-06T02:15:30.135135",
          "score": 0.17087000195567573
         },
         {
          "date": "1997-11-22T04:05:03.108108",
          "score": 0.1713647716694333
         },
         {
          "date": "1997-12-08T05:54:36.081081",
          "score": 0.17185902873953612
         },
         {
          "date": "1997-12-24T07:44:09.054054",
          "score": 0.17235277168739688
         },
         {
          "date": "1998-01-09T09:33:42.027027",
          "score": 0.17284599903596667
         },
         {
          "date": "1998-01-25T11:23:15",
          "score": 0.1733387093097384
         },
         {
          "date": "1998-02-10T13:12:47.972973",
          "score": 0.17383090103475274
         },
         {
          "date": "1998-02-26T15:02:20.945946",
          "score": 0.17432257273860066
         },
         {
          "date": "1998-03-14T16:51:53.918919",
          "score": 0.17481372295042955
         },
         {
          "date": "1998-03-30T19:41:26.891892",
          "score": 0.17530435020094617
         },
         {
          "date": "1998-04-15T21:30:59.864865",
          "score": 0.17579445302242241
         },
         {
          "date": "1998-05-01T23:20:32.837838",
          "score": 0.1762840299486989
         },
         {
          "date": "1998-05-18T01:10:05.810811",
          "score": 0.17677307951518834
         },
         {
          "date": "1998-06-03T02:59:38.783784",
          "score": 0.1772616002588827
         },
         {
          "date": "1998-06-19T04:49:11.756757",
          "score": 0.1777495907183553
         },
         {
          "date": "1998-07-05T06:38:44.729730",
          "score": 0.1782370494337656
         },
         {
          "date": "1998-07-21T08:28:17.702703",
          "score": 0.17872397494686382
         },
         {
          "date": "1998-08-06T10:17:50.675676",
          "score": 0.1792103658009957
         },
         {
          "date": "1998-08-22T12:07:23.648649",
          "score": 0.17969622054110593
         },
         {
          "date": "1998-09-07T13:56:56.621622",
          "score": 0.18018153771374343
         },
         {
          "date": "1998-09-23T15:46:29.594595",
          "score": 0.18066631586706464
         },
         {
          "date": "1998-10-09T17:36:02.567568",
          "score": 0.18115055355083928
         },
         {
          "date": "1998-10-25T18:25:35.540541",
          "score": 0.18163424931645342
         },
         {
          "date": "1998-11-10T20:15:08.513514",
          "score": 0.18211740171691432
         },
         {
          "date": "1998-11-26T22:04:41.486487",
          "score": 0.182600009306855
         },
         {
          "date": "1998-12-12T23:54:14.459459",
          "score": 0.183082070642538
         },
         {
          "date": "1998-12-29T01:43:47.432432",
          "score": 0.1835635842818601
         },
         {
          "date": "1999-01-14T03:33:20.405405",
          "score": 0.18404454878435675
         },
         {
          "date": "1999-01-30T05:22:53.378378",
          "score": 0.1845249627112057
         },
         {
          "date": "1999-02-15T07:12:26.351351",
          "score": 0.18500482462523252
         },
         {
          "date": "1999-03-03T09:01:59.324324",
          "score": 0.18548413309091294
         },
         {
          "date": "1999-03-19T10:51:32.297297",
          "score": 0.18596288667437957
         },
         {
          "date": "1999-04-04T13:41:05.270270",
          "score": 0.18644108394342424
         },
         {
          "date": "1999-04-20T15:30:38.243243",
          "score": 0.18691872346750343
         },
         {
          "date": "1999-05-06T17:20:11.216216",
          "score": 0.1873958038177419
         },
         {
          "date": "1999-05-22T19:09:44.189189",
          "score": 0.18787232356693703
         },
         {
          "date": "1999-06-07T20:59:17.162162",
          "score": 0.18834828128956357
         },
         {
          "date": "1999-06-23T22:48:50.135135",
          "score": 0.18882367556177815
         },
         {
          "date": "1999-07-10T00:38:23.108108",
          "score": 0.1892985049614214
         },
         {
          "date": "1999-07-26T02:27:56.081081",
          "score": 0.18977276806802493
         },
         {
          "date": "1999-08-11T04:17:29.054054",
          "score": 0.19024646346281443
         },
         {
          "date": "1999-08-27T06:07:02.027027",
          "score": 0.19071958972871364
         },
         {
          "date": "1999-09-12T07:56:35",
          "score": 0.19119214545034866
         },
         {
          "date": "1999-09-28T09:46:07.972973",
          "score": 0.19166412921405307
         },
         {
          "date": "1999-10-14T11:35:40.945946",
          "score": 0.192135539607871
         },
         {
          "date": "1999-10-30T13:25:13.918919",
          "score": 0.1926063752215618
         },
         {
          "date": "1999-11-15T14:14:46.891892",
          "score": 0.19307663464660452
         },
         {
          "date": "1999-12-01T16:04:19.864865",
          "score": 0.19354631647620174
         },
         {
          "date": "1999-12-17T17:53:52.837838",
          "score": 0.19401541930528418
         },
         {
          "date": "2000-01-02T19:43:25.810811",
          "score": 0.19448394173051395
         },
         {
          "date": "2000-01-18T21:32:58.783784",
          "score": 0.19495188235029023
         },
         {
          "date": "2000-02-03T23:22:31.756757",
          "score": 0.19541923976475262
         },
         {
          "date": "2000-02-20T01:12:04.729730",
          "score": 0.19588601257578495
         },
         {
          "date": "2000-03-07T03:01:37.702703",
          "score": 0.19635219938702045
         },
         {
          "date": "2000-03-23T04:51:10.675676",
          "score": 0.19681779880384495
         },
         {
          "date": "2000-04-08T07:40:43.648649",
          "score": 0.1972828094334015
         },
         {
          "date": "2000-04-24T09:30:16.621622",
          "score": 0.19774722988459517
         },
         {
          "date": "2000-05-10T11:19:49.594595",
          "score": 0.1982110587680956
         },
         {
          "date": "2000-05-26T13:09:22.567568",
          "score": 0.1986742946963428
         },
         {
          "date": "2000-06-11T14:58:55.540541",
          "score": 0.19913693628355025
         },
         {
          "date": "2000-06-27T16:48:28.513514",
          "score": 0.1995989821457099
         },
         {
          "date": "2000-07-13T18:38:01.486487",
          "score": 0.2000604309005954
         },
         {
          "date": "2000-07-29T20:27:34.459459",
          "score": 0.20052128116776666
         },
         {
          "date": "2000-08-14T22:17:07.432432",
          "score": 0.2009815315685744
         },
         {
          "date": "2000-08-31T00:06:40.405405",
          "score": 0.20144118072616332
         },
         {
          "date": "2000-09-16T01:56:13.378378",
          "score": 0.20190022726547727
         },
         {
          "date": "2000-10-02T03:45:46.351351",
          "score": 0.2023586698132627
         },
         {
          "date": "2000-10-18T05:35:19.324324",
          "score": 0.20281650699807252
         },
         {
          "date": "2000-11-03T06:24:52.297297",
          "score": 0.20327373745027089
         },
         {
          "date": "2000-11-19T08:14:25.270270",
          "score": 0.20373035980203738
         },
         {
          "date": "2000-12-05T10:03:58.243243",
          "score": 0.20418637268737022
         },
         {
          "date": "2000-12-21T11:53:31.216216",
          "score": 0.20464177474209097
         },
         {
          "date": "2001-01-06T13:43:04.189189",
          "score": 0.2050965646038488
         },
         {
          "date": "2001-01-22T15:32:37.162162",
          "score": 0.2055507409121238
         },
         {
          "date": "2001-02-07T17:22:10.135135",
          "score": 0.20600430230823252
         },
         {
          "date": "2001-02-23T19:11:43.108108",
          "score": 0.2064572474353293
         },
         {
          "date": "2001-03-11T21:01:16.081081",
          "score": 0.2069095749384137
         },
         {
          "date": "2001-03-27T23:50:49.054054",
          "score": 0.2073612834643322
         },
         {
          "date": "2001-04-13T01:40:22.027027",
          "score": 0.20781237166178296
         },
         {
          "date": "2001-04-29T03:29:55",
          "score": 0.20826283818131996
         },
         {
          "date": "2001-05-15T05:19:27.972973",
          "score": 0.20871268167535742
         },
         {
          "date": "2001-05-31T07:09:00.945946",
          "score": 0.20916190079817248
         },
         {
          "date": "2001-06-16T08:58:33.918919",
          "score": 0.2096104942059109
         },
         {
          "date": "2001-07-02T10:48:06.891892",
          "score": 0.21005846055658978
         },
         {
          "date": "2001-07-18T12:37:39.864865",
          "score": 0.21050579851010248
         },
         {
          "date": "2001-08-03T14:27:12.837838",
          "score": 0.21095250672822155
         },
         {
          "date": "2001-08-19T16:16:45.810811",
          "score": 0.2113985838746039
         },
         {
          "date": "2001-09-04T18:06:18.783784",
          "score": 0.2118440286147947
         },
         {
          "date": "2001-09-20T19:55:51.756757",
          "score": 0.21228883961623027
         },
         {
          "date": "2001-10-06T21:45:24.729730",
          "score": 0.21273301554824328
         },
         {
          "date": "2001-10-22T23:34:57.702703",
          "score": 0.2131765550820659
         },
         {
          "date": "2001-11-08T00:24:30.675676",
          "score": 0.21361945689083414
         },
         {
          "date": "2001-11-24T02:14:03.648649",
          "score": 0.21406171964959214
         },
         {
          "date": "2001-12-10T04:03:36.621622",
          "score": 0.21450334203529553
         },
         {
          "date": "2001-12-26T05:53:09.594595",
          "score": 0.21494432272681532
         },
         {
          "date": "2002-01-11T07:42:42.567568",
          "score": 0.2153846604049426
         },
         {
          "date": "2002-01-27T09:32:15.540541",
          "score": 0.21582435375239212
         },
         {
          "date": "2002-02-12T11:21:48.513514",
          "score": 0.21626340145380585
         },
         {
          "date": "2002-02-28T13:11:21.486487",
          "score": 0.21670180219575727
         },
         {
          "date": "2002-03-16T15:00:54.459459",
          "score": 0.21713955466675564
         },
         {
          "date": "2002-04-01T17:50:27.432432",
          "score": 0.21757665755724898
         },
         {
          "date": "2002-04-17T19:40:00.405405",
          "score": 0.21801310955962905
         },
         {
          "date": "2002-05-03T21:29:33.378378",
          "score": 0.21844890936823455
         },
         {
          "date": "2002-05-19T23:19:06.351351",
          "score": 0.21888405567935526
         },
         {
          "date": "2002-06-05T01:08:39.324324",
          "score": 0.21931854719123559
         },
         {
          "date": "2002-06-21T02:58:12.297297",
          "score": 0.21975238260407948
         },
         {
          "date": "2002-07-07T04:47:45.270270",
          "score": 0.22018556062005312
         },
         {
          "date": "2002-07-23T06:37:18.243243",
          "score": 0.22061807994328936
         },
         {
          "date": "2002-08-08T08:26:51.216216",
          "score": 0.2210499392798919
         },
         {
          "date": "2002-08-24T10:16:24.189189",
          "score": 0.22148113733793817
         },
         {
          "date": "2002-09-09T12:05:57.162162",
          "score": 0.2219116728274847
         },
         {
          "date": "2002-09-25T13:55:30.135135",
          "score": 0.22234154446056967
         },
         {
          "date": "2002-10-11T15:45:03.108108",
          "score": 0.2227707509512167
         },
         {
          "date": "2002-10-27T16:34:36.081081",
          "score": 0.22319929101544
         },
         {
          "date": "2002-11-12T18:24:09.054054",
          "score": 0.2236271633712469
         },
         {
          "date": "2002-11-28T20:13:42.027027",
          "score": 0.22405436673864274
         },
         {
          "date": "2002-12-14T22:03:15",
          "score": 0.2244808998396334
         },
         {
          "date": "2002-12-30T23:52:47.972973",
          "score": 0.22490676139823085
         },
         {
          "date": "2003-01-16T01:42:20.945946",
          "score": 0.2253319501404551
         },
         {
          "date": "2003-02-01T03:31:53.918919",
          "score": 0.2257564647943395
         },
         {
          "date": "2003-02-17T05:21:26.891892",
          "score": 0.22618030408993353
         },
         {
          "date": "2003-03-05T07:10:59.864865",
          "score": 0.22660346675930784
         },
         {
          "date": "2003-03-21T09:00:32.837838",
          "score": 0.22702595153655586
         },
         {
          "date": "2003-04-06T11:50:05.810811",
          "score": 0.2274477571577998
         },
         {
          "date": "2003-04-22T13:39:38.783784",
          "score": 0.22786888236119388
         },
         {
          "date": "2003-05-08T15:29:11.756757",
          "score": 0.2282893258869274
         },
         {
          "date": "2003-05-24T17:18:44.729730",
          "score": 0.22870908647722896
         },
         {
          "date": "2003-06-09T19:08:17.702703",
          "score": 0.22912816287637003
         },
         {
          "date": "2003-06-25T20:57:50.675676",
          "score": 0.2295465538306693
         },
         {
          "date": "2003-07-11T22:47:23.648649",
          "score": 0.22996425808849555
         },
         {
          "date": "2003-07-28T00:36:56.621622",
          "score": 0.2303812744002722
         },
         {
          "date": "2003-08-13T02:26:29.594595",
          "score": 0.2307976015184801
         },
         {
          "date": "2003-08-29T04:16:02.567568",
          "score": 0.23121323819766262
         },
         {
          "date": "2003-09-14T06:05:35.540541",
          "score": 0.2316281831944281
         },
         {
          "date": "2003-09-30T07:55:08.513514",
          "score": 0.23204243526745413
         },
         {
          "date": "2003-10-16T09:44:41.486487",
          "score": 0.23245599317749138
         },
         {
          "date": "2003-11-01T10:34:14.459459",
          "score": 0.23286885568736695
         },
         {
          "date": "2003-11-17T12:23:47.432432",
          "score": 0.2332810215619884
         },
         {
          "date": "2003-12-03T14:13:20.405405",
          "score": 0.2336924895683473
         },
         {
          "date": "2003-12-19T16:02:53.378378",
          "score": 0.23410325847552257
         },
         {
          "date": "2004-01-04T17:52:26.351351",
          "score": 0.23451332705468517
         },
         {
          "date": "2004-01-20T19:41:59.324324",
          "score": 0.23492269407910038
         },
         {
          "date": "2004-02-05T21:31:32.297297",
          "score": 0.23533135832413277
         },
         {
          "date": "2004-02-21T23:21:05.270270",
          "score": 0.23573931856724886
         },
         {
          "date": "2004-03-09T01:10:38.243243",
          "score": 0.2361465735880217
         },
         {
          "date": "2004-03-25T03:00:11.216216",
          "score": 0.23655312216813368
         },
         {
          "date": "2004-04-10T05:49:44.189189",
          "score": 0.2369589630913804
         },
         {
          "date": "2004-04-26T07:39:17.162162",
          "score": 0.23736409514367532
         },
         {
          "date": "2004-05-12T09:28:50.135135",
          "score": 0.2377685171130512
         },
         {
          "date": "2004-05-28T11:18:23.108108",
          "score": 0.23817222778966593
         },
         {
          "date": "2004-06-13T13:07:56.081081",
          "score": 0.2385752259658049
         },
         {
          "date": "2004-06-29T14:57:29.054054",
          "score": 0.2389775104358854
         },
         {
          "date": "2004-07-15T16:47:02.027027",
          "score": 0.23937907999645916
         },
         {
          "date": "2004-07-31T18:36:35",
          "score": 0.239779933446217
         },
         {
          "date": "2004-08-16T20:26:07.972973",
          "score": 0.2401800695859921
         },
         {
          "date": "2004-09-01T22:15:40.945946",
          "score": 0.24057948721876332
         },
         {
          "date": "2004-09-18T00:05:13.918919",
          "score": 0.24097818514965874
         },
         {
          "date": "2004-10-04T01:54:46.891892",
          "score": 0.24137616218595997
         },
         {
          "date": "2004-10-20T03:44:19.864865",
          "score": 0.24177341713710473
         },
         {
          "date": "2004-11-05T04:33:52.837838",
          "score": 0.24216994881469095
         },
         {
          "date": "2004-11-21T06:23:25.810811",
          "score": 0.24256575603248073
         },
         {
          "date": "2004-12-07T08:12:58.783784",
          "score": 0.24296083760640275
         },
         {
          "date": "2004-12-23T10:02:31.756757",
          "score": 0.24335519235455688
         },
         {
          "date": "2005-01-08T11:52:04.729730",
          "score": 0.2437488190972171
         },
         {
          "date": "2005-01-24T13:41:37.702703",
          "score": 0.2441417166568356
         },
         {
          "date": "2005-02-09T15:31:10.675676",
          "score": 0.2445338838580458
         },
         {
          "date": "2005-02-25T17:20:43.648649",
          "score": 0.24492531952766539
         },
         {
          "date": "2005-03-13T19:10:16.621622",
          "score": 0.2453160224947012
         },
         {
          "date": "2005-03-29T21:59:49.594594",
          "score": 0.24570599159035206
         },
         {
          "date": "2005-04-14T23:49:22.567568",
          "score": 0.24609522564801173
         },
         {
          "date": "2005-05-01T01:38:55.540541",
          "score": 0.2464837235032729
         },
         {
          "date": "2005-05-17T03:28:28.513514",
          "score": 0.24687148399393102
         },
         {
          "date": "2005-06-02T05:18:01.486486",
          "score": 0.24725850595998689
         },
         {
          "date": "2005-06-18T07:07:34.459460",
          "score": 0.24764478824365113
         },
         {
          "date": "2005-07-04T08:57:07.432432",
          "score": 0.24803032968934677
         },
         {
          "date": "2005-07-20T10:46:40.405406",
          "score": 0.24841512914371308
         },
         {
          "date": "2005-08-05T12:36:13.378378",
          "score": 0.24879918545560922
         },
         {
          "date": "2005-08-21T14:25:46.351351",
          "score": 0.24918249747611768
         },
         {
          "date": "2005-09-06T16:15:19.324324",
          "score": 0.2495650640585473
         },
         {
          "date": "2005-09-22T18:04:52.297297",
          "score": 0.24994688405843637
         },
         {
          "date": "2005-10-08T19:54:25.270270",
          "score": 0.2503279563335574
         },
         {
          "date": "2005-10-24T21:43:58.243243",
          "score": 0.25070827974391957
         },
         {
          "date": "2005-11-09T22:33:31.216216",
          "score": 0.25108785315177196
         },
         {
          "date": "2005-11-26T00:23:04.189189",
          "score": 0.25146667542160767
         },
         {
          "date": "2005-12-12T02:12:37.162162",
          "score": 0.25184474542016727
         },
         {
          "date": "2005-12-28T04:02:10.135135",
          "score": 0.2522220620164405
         },
         {
          "date": "2006-01-13T05:51:43.108108",
          "score": 0.2525986240816719
         },
         {
          "date": "2006-01-29T07:41:16.081081",
          "score": 0.25297443048936313
         },
         {
          "date": "2006-02-14T09:30:49.054054",
          "score": 0.25334948011527625
         },
         {
          "date": "2006-03-02T11:20:22.027027",
          "score": 0.25372377183743716
         },
         {
          "date": "2006-03-18T13:09:55",
          "score": 0.25409730453613927
         },
         {
          "date": "2006-04-03T15:59:27.972973",
          "score": 0.2544700770939468
         },
         {
          "date": "2006-04-19T17:49:00.945946",
          "score": 0.25484208839569744
         },
         {
          "date": "2006-05-05T19:38:33.918919",
          "score": 0.2552133373285066
         },
         {
          "date": "2006-05-21T21:28:06.891892",
          "score": 0.25558382278177033
         },
         {
          "date": "2006-06-06T23:17:39.864865",
          "score": 0.2559535436471683
         },
         {
          "date": "2006-06-23T01:07:12.837838",
          "score": 0.2563224988186679
         },
         {
          "date": "2006-07-09T02:56:45.810811",
          "score": 0.2566906871925271
         },
         {
          "date": "2006-07-25T04:46:18.783784",
          "score": 0.25705810766729725
         },
         {
          "date": "2006-08-10T06:35:51.756757",
          "score": 0.2574247591438274
         },
         {
          "date": "2006-08-26T08:25:24.729730",
          "score": 0.257790640525267
         },
         {
          "date": "2006-09-11T10:14:57.702703",
          "score": 0.25815575071706925
         },
         {
          "date": "2006-09-27T12:04:30.675676",
          "score": 0.2585200886269945
         },
         {
          "date": "2006-10-13T13:54:03.648649",
          "score": 0.2588836531651128
         },
         {
          "date": "2006-10-29T14:43:36.621622",
          "score": 0.2592464432438084
         },
         {
          "date": "2006-11-14T16:33:09.594594",
          "score": 0.25960845777778246
         },
         {
          "date": "2006-11-30T18:22:42.567568",
          "score": 0.25996969568405565
         },
         {
          "date": "2006-12-16T20:12:15.540541",
          "score": 0.26033015588197256
         },
         {
          "date": "2007-01-01T22:01:48.513514",
          "score": 0.2606898372932037
         },
         {
          "date": "2007-01-17T23:51:21.486486",
          "score": 0.2610487388417499
         },
         {
          "date": "2007-02-03T01:40:54.459460",
          "score": 0.2614068594539447
         },
         {
          "date": "2007-02-19T03:30:27.432432",
          "score": 0.2617641980584577
         },
         {
          "date": "2007-03-07T05:20:00.405406",
          "score": 0.2621207535862982
         },
         {
          "date": "2007-03-23T07:09:33.378378",
          "score": 0.2624765249708179
         },
         {
          "date": "2007-04-08T09:59:06.351351",
          "score": 0.2628315111477146
         },
         {
          "date": "2007-04-24T11:48:39.324324",
          "score": 0.2631857110550348
         },
         {
          "date": "2007-05-10T13:38:12.297297",
          "score": 0.263539123633177
         },
         {
          "date": "2007-05-26T15:27:45.270270",
          "score": 0.2638917478248952
         },
         {
          "date": "2007-06-11T17:17:18.243243",
          "score": 0.264243582575302
         },
         {
          "date": "2007-06-27T19:06:51.216216",
          "score": 0.26459462683187174
         },
         {
          "date": "2007-07-13T20:56:24.189189",
          "score": 0.26494487954444285
         },
         {
          "date": "2007-07-29T22:45:57.162162",
          "score": 0.26529433966522303
         },
         {
          "date": "2007-08-15T00:35:30.135135",
          "score": 0.2656430061487894
         },
         {
          "date": "2007-08-31T02:25:03.108108",
          "score": 0.2659908779520944
         },
         {
          "date": "2007-09-16T04:14:36.081081",
          "score": 0.2663379540344676
         },
         {
          "date": "2007-10-02T06:04:09.054054",
          "score": 0.26668423335761854
         },
         {
          "date": "2007-10-18T07:53:42.027027",
          "score": 0.267029714885641
         },
         {
          "date": "2007-11-03T08:43:15",
          "score": 0.2673743975850146
         },
         {
          "date": "2007-11-19T10:32:47.972973",
          "score": 0.26771828042460943
         },
         {
          "date": "2007-12-05T12:22:20.945946",
          "score": 0.26806136237568806
         },
         {
          "date": "2007-12-21T14:11:53.918919",
          "score": 0.26840364241190884
         },
         {
          "date": "2008-01-06T16:01:26.891892",
          "score": 0.26874511950932906
         },
         {
          "date": "2008-01-22T17:50:59.864865",
          "score": 0.26908579264640836
         },
         {
          "date": "2008-02-07T19:40:32.837838",
          "score": 0.26942566080401115
         },
         {
          "date": "2008-02-23T21:30:05.810811",
          "score": 0.26976472296541015
         },
         {
          "date": "2008-03-10T23:19:38.783784",
          "score": 0.27010297811628886
         },
         {
          "date": "2008-03-27T01:09:11.756757",
          "score": 0.27044042524474554
         },
         {
          "date": "2008-04-12T03:58:44.729730",
          "score": 0.27077706334129537
         },
         {
          "date": "2008-04-28T05:48:17.702703",
          "score": 0.2711128913988736
         },
         {
          "date": "2008-05-14T07:37:50.675676",
          "score": 0.2714479084128395
         },
         {
          "date": "2008-05-30T09:27:23.648649",
          "score": 0.27178211338097746
         },
         {
          "date": "2008-06-15T11:16:56.621622",
          "score": 0.27211550530350176
         },
         {
          "date": "2008-07-01T13:06:29.594594",
          "score": 0.2724480831830592
         },
         {
          "date": "2008-07-17T14:56:02.567568",
          "score": 0.2727798460247315
         },
         {
          "date": "2008-08-02T16:45:35.540541",
          "score": 0.2731107928360385
         },
         {
          "date": "2008-08-18T18:35:08.513514",
          "score": 0.2734409226269414
         },
         {
          "date": "2008-09-03T20:24:41.486486",
          "score": 0.27377023440984555
         },
         {
          "date": "2008-09-19T22:14:14.459460",
          "score": 0.27409872719960315
         },
         {
          "date": "2008-10-06T00:03:47.432432",
          "score": 0.2744264000135168
         },
         {
          "date": "2008-10-22T01:53:20.405406",
          "score": 0.27475325187134186
         },
         {
          "date": "2008-11-07T02:42:53.378378",
          "score": 0.27507928179528957
         },
         {
          "date": "2008-11-23T04:32:26.351351",
          "score": 0.27540448881003027
         },
         {
          "date": "2008-12-09T06:21:59.324324",
          "score": 0.27572887194269613
         },
         {
          "date": "2008-12-25T08:11:32.297297",
          "score": 0.2760524302228833
         },
         {
          "date": "2009-01-10T10:01:05.270270",
          "score": 0.27637516268265594
         },
         {
          "date": "2009-01-26T11:50:38.243243",
          "score": 0.27669706835654906
         },
         {
          "date": "2009-02-11T13:40:11.216216",
          "score": 0.2770181462815705
         },
         {
          "date": "2009-02-27T15:29:44.189189",
          "score": 0.2773383954972045
         },
         {
          "date": "2009-03-15T17:19:17.162162",
          "score": 0.2776578150454147
         },
         {
          "date": "2009-03-31T20:08:50.135135",
          "score": 0.2779764039706461
         },
         {
          "date": "2009-04-16T21:58:23.108108",
          "score": 0.278294161319829
         },
         {
          "date": "2009-05-02T23:47:56.081081",
          "score": 0.2786110861423812
         },
         {
          "date": "2009-05-19T01:37:29.054054",
          "score": 0.27892717749021134
         },
         {
          "date": "2009-06-04T03:27:02.027027",
          "score": 0.2792424344177209
         },
         {
          "date": "2009-06-20T05:16:35",
          "score": 0.27955685598180796
         },
         {
          "date": "2009-07-06T07:06:07.972973",
          "score": 0.2798704412418697
         },
         {
          "date": "2009-07-22T08:55:40.945946",
          "score": 0.2801831892598048
         },
         {
          "date": "2009-08-07T10:45:13.918919",
          "score": 0.28049509910001663
         },
         {
          "date": "2009-08-23T12:34:46.891892",
          "score": 0.2808061698294163
         },
         {
          "date": "2009-09-08T14:24:19.864865",
          "score": 0.28111640051742487
         },
         {
          "date": "2009-09-24T16:13:52.837838",
          "score": 0.2814257902359762
         },
         {
          "date": "2009-10-10T18:03:25.810811",
          "score": 0.28173433805952075
         },
         {
          "date": "2009-10-26T18:52:58.783784",
          "score": 0.2820420430650266
         },
         {
          "date": "2009-11-11T20:42:31.756757",
          "score": 0.2823489043319837
         },
         {
          "date": "2009-11-27T22:32:04.729730",
          "score": 0.28265492094240574
         },
         {
          "date": "2009-12-14T00:21:37.702703",
          "score": 0.28296009198083377
         },
         {
          "date": "2009-12-30T02:11:10.675676",
          "score": 0.2832644165343381
         },
         {
          "date": "2010-01-15T04:00:43.648649",
          "score": 0.2835678936925207
         },
         {
          "date": "2010-01-31T05:50:16.621622",
          "score": 0.28387052254751943
         },
         {
          "date": "2010-02-16T07:39:49.594594",
          "score": 0.28417230219400974
         },
         {
          "date": "2010-03-04T09:29:22.567568",
          "score": 0.2844732317292073
         },
         {
          "date": "2010-03-20T11:18:55.540541",
          "score": 0.2847733102528709
         },
         {
          "date": "2010-04-05T14:08:28.513514",
          "score": 0.2850725368673052
         },
         {
          "date": "2010-04-21T15:58:01.486486",
          "score": 0.2853709106773635
         },
         {
          "date": "2010-05-07T17:47:34.459460",
          "score": 0.28566843079045023
         },
         {
          "date": "2010-05-23T19:37:07.432432",
          "score": 0.2859650963165235
         },
         {
          "date": "2010-06-08T21:26:40.405406",
          "score": 0.2862609063680982
         },
         {
          "date": "2010-06-24T23:16:13.378378",
          "score": 0.2865558600602483
         },
         {
          "date": "2010-07-11T01:05:46.351351",
          "score": 0.2868499565106096
         },
         {
          "date": "2010-07-27T02:55:19.324324",
          "score": 0.28714319483938283
         },
         {
          "date": "2010-08-12T04:44:52.297297",
          "score": 0.2874355741693345
         },
         {
          "date": "2010-08-28T06:34:25.270270",
          "score": 0.28772709362580223
         },
         {
          "date": "2010-09-13T08:23:58.243243",
          "score": 0.28801775233669535
         },
         {
          "date": "2010-09-29T10:13:31.216216",
          "score": 0.2883075494324982
         },
         {
          "date": "2010-10-15T12:03:04.189189",
          "score": 0.2885964840462727
         },
         {
          "date": "2010-10-31T12:52:37.162162",
          "score": 0.2888845553136614
         },
         {
          "date": "2010-11-16T14:42:10.135135",
          "score": 0.28917176237288855
         },
         {
          "date": "2010-12-02T16:31:43.108108",
          "score": 0.2894581043647644
         },
         {
          "date": "2010-12-18T18:21:16.081081",
          "score": 0.289743580432687
         },
         {
          "date": "2011-01-03T20:10:49.054054",
          "score": 0.2900281897226448
         },
         {
          "date": "2011-01-19T22:00:22.027027",
          "score": 0.29031193138321937
         },
         {
          "date": "2011-02-04T23:49:55",
          "score": 0.29059480456558745
         },
         {
          "date": "2011-02-21T01:39:27.972973",
          "score": 0.29087680842352437
         },
         {
          "date": "2011-03-09T03:29:00.945946",
          "score": 0.2911579421134056
         },
         {
          "date": "2011-03-25T05:18:33.918919",
          "score": 0.2914382047942102
         },
         {
          "date": "2011-04-10T08:08:06.891892",
          "score": 0.2917175956275224
         },
         {
          "date": "2011-04-26T09:57:39.864865",
          "score": 0.2919961137775349
         },
         {
          "date": "2011-05-12T11:47:12.837838",
          "score": 0.29227375841105113
         },
         {
          "date": "2011-05-28T13:36:45.810811",
          "score": 0.29255052869748754
         },
         {
          "date": "2011-06-13T15:26:18.783784",
          "score": 0.292826423808876
         },
         {
          "date": "2011-06-29T17:15:51.756757",
          "score": 0.2931014429198668
         },
         {
          "date": "2011-07-15T19:05:24.729730",
          "score": 0.2933755852077309
         },
         {
          "date": "2011-07-31T20:54:57.702703",
          "score": 0.29364884985236195
         },
         {
          "date": "2011-08-16T22:44:30.675676",
          "score": 0.2939212360362796
         },
         {
          "date": "2011-09-02T00:34:03.648649",
          "score": 0.2941927429446306
         },
         {
          "date": "2011-09-18T02:23:36.621622",
          "score": 0.2944633697651931
         },
         {
          "date": "2011-10-04T04:13:09.594594",
          "score": 0.2947331156883774
         },
         {
          "date": "2011-10-20T06:02:42.567568",
          "score": 0.29500197990722915
         },
         {
          "date": "2011-11-05T06:52:15.540541",
          "score": 0.29526996161743196
         },
         {
          "date": "2011-11-21T08:41:48.513514",
          "score": 0.29553706001730895
         },
         {
          "date": "2011-12-07T10:31:21.486486",
          "score": 0.29580327430782627
         },
         {
          "date": "2011-12-23T12:20:54.459460",
          "score": 0.2960686036925945
         },
         {
          "date": "2012-01-08T14:10:27.432432",
          "score": 0.29633304737787153
         },
         {
          "date": "2012-01-24T16:00:00.405406",
          "score": 0.29659660457256515
         },
         {
          "date": "2012-02-09T17:49:33.378378",
          "score": 0.29685927448823446
         },
         {
          "date": "2012-02-25T19:39:06.351351",
          "score": 0.29712105633909375
         },
         {
          "date": "2012-03-12T21:28:39.324324",
          "score": 0.2973819493420135
         },
         {
          "date": "2012-03-29T00:18:12.297297",
          "score": 0.29764195271652294
         },
         {
          "date": "2012-04-14T02:07:45.270270",
          "score": 0.29790106568481306
         },
         {
          "date": "2012-04-30T03:57:18.243243",
          "score": 0.29815928747173853
         },
         {
          "date": "2012-05-16T05:46:51.216216",
          "score": 0.2984166173048199
         },
         {
          "date": "2012-06-01T07:36:24.189189",
          "score": 0.2986730544142459
         },
         {
          "date": "2012-06-17T09:25:57.162162",
          "score": 0.29892859803287647
         },
         {
          "date": "2012-07-03T11:15:30.135135",
          "score": 0.2991832473962435
         },
         {
          "date": "2012-07-19T13:05:03.108108",
          "score": 0.29943700174255483
         },
         {
          "date": "2012-08-04T14:54:36.081081",
          "score": 0.29968986031269546
         },
         {
          "date": "2012-08-20T16:44:09.054054",
          "score": 0.29994182235023037
         },
         {
          "date": "2012-09-05T18:33:42.027027",
          "score": 0.30019288710140624
         },
         {
          "date": "2012-09-21T20:23:15",
          "score": 0.30044305381515407
         },
         {
          "date": "2012-10-07T22:12:47.972973",
          "score": 0.3006923217430917
         },
         {
          "date": "2012-10-24T00:02:20.945946",
          "score": 0.30094069013952546
         },
         {
          "date": "2012-11-09T00:51:53.918919",
          "score": 0.30118815826145257
         },
         {
          "date": "2012-11-25T02:41:26.891892",
          "score": 0.3014347253685635
         },
         {
          "date": "2012-12-11T04:30:59.864865",
          "score": 0.30168039072324443
         },
         {
          "date": "2012-12-27T06:20:32.837838",
          "score": 0.30192515359057875
         },
         {
          "date": "2013-01-12T08:10:05.810811",
          "score": 0.30216901323835005
         },
         {
          "date": "2013-01-28T09:59:38.783784",
          "score": 0.3024119689370435
         },
         {
          "date": "2013-02-13T11:49:11.756757",
          "score": 0.3026540199598488
         },
         {
          "date": "2013-03-01T13:38:44.729730",
          "score": 0.30289516558266194
         },
         {
          "date": "2013-03-17T15:28:17.702703",
          "score": 0.3031354050840874
         },
         {
          "date": "2013-04-02T18:17:50.675676",
          "score": 0.3033747377454406
         },
         {
          "date": "2013-04-18T20:07:23.648649",
          "score": 0.30361316285074913
         },
         {
          "date": "2013-05-04T21:56:56.621622",
          "score": 0.30385067968675644
         },
         {
          "date": "2013-05-20T23:46:29.594594",
          "score": 0.3040872875429224
         },
         {
          "date": "2013-06-06T01:36:02.567568",
          "score": 0.30432298571142663
         },
         {
          "date": "2013-06-22T03:25:35.540541",
          "score": 0.3045577734871698
         },
         {
          "date": "2013-07-08T05:15:08.513514",
          "score": 0.30479165016777615
         },
         {
          "date": "2013-07-24T07:04:41.486486",
          "score": 0.3050246150535954
         },
         {
          "date": "2013-08-09T08:54:14.459460",
          "score": 0.30525666744770513
         },
         {
          "date": "2013-08-25T10:43:47.432432",
          "score": 0.3054878066559125
         },
         {
          "date": "2013-09-10T12:33:20.405406",
          "score": 0.3057180319867566
         },
         {
          "date": "2013-09-26T14:22:53.378378",
          "score": 0.30594734275151025
         },
         {
          "date": "2013-10-12T16:12:26.351351",
          "score": 0.3061757382641825
         },
         {
          "date": "2013-10-28T17:01:59.324324",
          "score": 0.3064032178415204
         },
         {
          "date": "2013-11-13T18:51:32.297297",
          "score": 0.30662978080301057
         },
         {
          "date": "2013-11-29T20:41:05.270270",
          "score": 0.3068554264708821
         },
         {
          "date": "2013-12-15T22:30:38.243243",
          "score": 0.30708015417010837
         },
         {
          "date": "2014-01-01T00:20:11.216216",
          "score": 0.3073039632284084
         },
         {
          "date": "2014-01-17T02:09:44.189189",
          "score": 0.3075268529762498
         },
         {
          "date": "2014-02-02T03:59:17.162162",
          "score": 0.3077488227468504
         },
         {
          "date": "2014-02-18T05:48:50.135135",
          "score": 0.3080746964541519
         },
         {
          "date": "2014-03-06T07:38:23.108108",
          "score": 0.31060094401457994
         },
         {
          "date": "2014-03-22T09:27:56.081081",
          "score": 0.3131261542155966
         },
         {
          "date": "2014-04-07T12:17:29.054054",
          "score": 0.3156502160259817
         },
         {
          "date": "2014-04-23T14:07:02.027027",
          "score": 0.3181730184280821
         },
         {
          "date": "2014-05-09T15:56:35",
          "score": 0.32069445042309613
         },
         {
          "date": "2014-05-25T17:46:07.972973",
          "score": 0.323214401036356
         },
         {
          "date": "2014-06-10T19:35:40.945946",
          "score": 0.3257327593226122
         },
         {
          "date": "2014-06-26T21:25:13.918919",
          "score": 0.32824941437131333
         },
         {
          "date": "2014-07-12T23:14:46.891892",
          "score": 0.3307642553118873
         },
         {
          "date": "2014-07-29T01:04:19.864865",
          "score": 0.33327717131901863
         },
         {
          "date": "2014-08-14T02:53:52.837838",
          "score": 0.3357880516179258
         },
         {
          "date": "2014-08-30T04:43:25.810811",
          "score": 0.3382967854896292
         },
         {
          "date": "2014-09-15T06:32:58.783784",
          "score": 0.3408032622762321
         },
         {
          "date": "2014-10-01T08:22:31.756757",
          "score": 0.34330737138618217
         },
         {
          "date": "2014-10-17T10:12:04.729730",
          "score": 0.34580900229953804
         },
         {
          "date": "2014-11-02T11:01:37.702703",
          "score": 0.3483080445732323
         },
         {
          "date": "2014-11-18T12:51:10.675676",
          "score": 0.35080438784632945
         },
         {
          "date": "2014-12-04T14:40:43.648649",
          "score": 0.3532979218452817
         },
         {
          "date": "2014-12-20T16:30:16.621622",
          "score": 0.35578853638917474
         },
         {
          "date": "2015-01-05T18:19:49.594595",
          "score": 0.3582761213949811
         },
         {
          "date": "2015-01-21T20:09:22.567568",
          "score": 0.36076056688279845
         },
         {
          "date": "2015-02-06T21:58:55.540540",
          "score": 0.36324176298108585
         },
         {
          "date": "2015-02-22T23:48:28.513514",
          "score": 0.36571959993189695
         },
         {
          "date": "2015-03-11T01:38:01.486486",
          "score": 0.36819396809610533
         },
         {
          "date": "2015-03-27T03:27:34.459460",
          "score": 0.3706647579586272
         },
         {
          "date": "2015-04-12T06:17:07.432432",
          "score": 0.3731318601336351
         },
         {
          "date": "2015-04-28T08:06:40.405406",
          "score": 0.3755951653697669
         },
         {
          "date": "2015-05-14T09:56:13.378378",
          "score": 0.37805456455533093
         },
         {
          "date": "2015-05-30T11:45:46.351351",
          "score": 0.3805099487235006
         },
         {
          "date": "2015-06-15T13:35:19.324324",
          "score": 0.3829612090574998
         },
         {
          "date": "2015-07-01T15:24:52.297297",
          "score": 0.3854082368957938
         },
         {
          "date": "2015-07-17T17:14:25.270270",
          "score": 0.3878509237372589
         },
         {
          "date": "2015-08-02T19:03:58.243243",
          "score": 0.39028916124635005
         },
         {
          "date": "2015-08-18T20:53:31.216216",
          "score": 0.3927228412582618
         },
         {
          "date": "2015-09-03T22:43:04.189189",
          "score": 0.39515185578408024
         },
         {
          "date": "2015-09-20T00:32:37.162162",
          "score": 0.3975760970159262
         },
         {
          "date": "2015-10-06T02:22:10.135135",
          "score": 0.39999545733208663
         },
         {
          "date": "2015-10-22T04:11:43.108108",
          "score": 0.40240982930214686
         },
         {
          "date": "2015-11-07T05:01:16.081081",
          "score": 0.4048191056921041
         },
         {
          "date": "2015-11-23T06:50:49.054054",
          "score": 0.4072231794694752
         },
         {
          "date": "2015-12-09T08:40:22.027027",
          "score": 0.4096219438083959
         },
         {
          "date": "2015-12-25T10:29:55",
          "score": 0.41201529209470805
         },
         {
          "date": "2016-01-10T12:19:27.972973",
          "score": 0.4144031179310393
         },
         {
          "date": "2016-01-26T14:09:00.945946",
          "score": 0.41678531514187134
         },
         {
          "date": "2016-02-11T15:58:33.918919",
          "score": 0.41916177777859603
         },
         {
          "date": "2016-02-27T17:48:06.891892",
          "score": 0.4215324001245649
         },
         {
          "date": "2016-03-14T19:37:39.864865",
          "score": 0.42389707670012305
         },
         {
          "date": "2016-03-30T22:27:12.837838",
          "score": 0.4262557022676365
         },
         {
          "date": "2016-04-16T00:16:45.810811",
          "score": 0.42860817183649946
         },
         {
          "date": "2016-05-02T02:06:18.783784",
          "score": 0.4309543806681445
         },
         {
          "date": "2016-05-18T03:55:51.756757",
          "score": 0.43329422428102715
         },
         {
          "date": "2016-06-03T05:45:24.729730",
          "score": 0.4356275984556041
         },
         {
          "date": "2016-06-19T07:34:57.702703",
          "score": 0.43795439923929935
         },
         {
          "date": "2016-07-05T09:24:30.675676",
          "score": 0.44027452295145497
         },
         {
          "date": "2016-07-21T11:14:03.648649",
          "score": 0.44258786618827406
         },
         {
          "date": "2016-08-06T13:03:36.621622",
          "score": 0.4448943258277403
         },
         {
          "date": "2016-08-22T14:53:09.594595",
          "score": 0.44719379903454043
         },
         {
          "date": "2016-09-07T16:42:42.567568",
          "score": 0.4494861832649574
         },
         {
          "date": "2016-09-23T18:32:15.540541",
          "score": 0.45177137627175723
         },
         {
          "date": "2016-10-09T20:21:48.513514",
          "score": 0.4540492761090621
         },
         {
          "date": "2016-10-25T22:11:21.486486",
          "score": 0.4563197811372061
         },
         {
          "date": "2016-11-10T23:00:54.459460",
          "score": 0.4585827900275793
         },
         {
          "date": "2016-11-27T00:50:27.432432",
          "score": 0.46083820176745444
         },
         {
          "date": "2016-12-13T02:40:00.405406",
          "score": 0.46308591566480084
         },
         {
          "date": "2016-12-29T04:29:33.378378",
          "score": 0.4653258313530831
         },
         {
          "date": "2017-01-14T06:19:06.351351",
          "score": 0.4675578487960426
         },
         {
          "date": "2017-01-30T08:08:39.324324",
          "score": 0.4697818682924611
         },
         {
          "date": "2017-02-15T09:58:12.297297",
          "score": 0.47199779048091756
         },
         {
          "date": "2017-03-03T11:47:45.270270",
          "score": 0.47420551634451946
         },
         {
          "date": "2017-03-19T13:37:18.243243",
          "score": 0.4764049472156214
         },
         {
          "date": "2017-04-04T16:26:51.216216",
          "score": 0.4785959847805255
         },
         {
          "date": "2017-04-20T18:16:24.189189",
          "score": 0.48077853108416957
         },
         {
          "date": "2017-05-06T20:05:57.162162",
          "score": 0.48295248853479333
         },
         {
          "date": "2017-05-22T21:55:30.135135",
          "score": 0.485117759908585
         },
         {
          "date": "2017-06-07T23:45:03.108108",
          "score": 0.48727424835432154
         },
         {
          "date": "2017-06-24T01:34:36.081081",
          "score": 0.48942185739798066
         },
         {
          "date": "2017-07-10T03:24:09.054054",
          "score": 0.4915604909473371
         },
         {
          "date": "2017-07-26T05:13:42.027027",
          "score": 0.4936900532965442
         },
         {
          "date": "2017-08-11T07:03:15",
          "score": 0.49581044913069316
         },
         {
          "date": "2017-08-27T08:52:47.972973",
          "score": 0.4979215835303565
         },
         {
          "date": "2017-09-12T10:42:20.945946",
          "score": 0.5000233619761115
         },
         {
          "date": "2017-09-28T12:31:53.918919",
          "score": 0.5021156903530442
         },
         {
          "date": "2017-10-14T14:21:26.891892",
          "score": 0.5041984749552358
         },
         {
          "date": "2017-10-30T15:10:59.864865",
          "score": 0.5062716224902273
         },
         {
          "date": "2017-11-15T17:00:32.837838",
          "score": 0.508335040083468
         },
         {
          "date": "2017-12-01T18:50:05.810811",
          "score": 0.5103886352827364
         },
         {
          "date": "2017-12-17T20:39:38.783784",
          "score": 0.512432316062554
         },
         {
          "date": "2018-01-02T22:29:11.756757",
          "score": 0.5144659908285668
         },
         {
          "date": "2018-01-19T00:18:44.729730",
          "score": 0.5164895684219108
         },
         {
          "date": "2018-02-04T02:08:17.702703",
          "score": 0.5185029581235587
         },
         {
          "date": "2018-02-20T03:57:50.675676",
          "score": 0.5205060696586414
         },
         {
          "date": "2018-03-08T05:47:23.648649",
          "score": 0.5224988132007546
         },
         {
          "date": "2018-03-24T07:36:56.621622",
          "score": 0.5244810993762319
         },
         {
          "date": "2018-04-09T10:26:29.594595",
          "score": 0.5264528392684162
         },
         {
          "date": "2018-04-25T12:16:02.567568",
          "score": 0.5284139444218889
         },
         {
          "date": "2018-05-11T14:05:35.540541",
          "score": 0.5303643268466898
         },
         {
          "date": "2018-05-27T15:55:08.513514",
          "score": 0.5323038990225102
         },
         {
          "date": "2018-06-12T17:44:41.486486",
          "score": 0.5342325739028644
         },
         {
          "date": "2018-06-28T19:34:14.459460",
          "score": 0.53615026491924
         },
         {
          "date": "2018-07-14T21:23:47.432432",
          "score": 0.538056885985222
         },
         {
          "date": "2018-07-30T23:13:20.405406",
          "score": 0.5399523515005984
         },
         {
          "date": "2018-08-16T01:02:53.378378",
          "score": 0.5418365763554398
         },
         {
          "date": "2018-09-01T02:52:26.351351",
          "score": 0.5437094759341564
         },
         {
          "date": "2018-09-17T04:41:59.324324",
          "score": 0.545570966119529
         },
         {
          "date": "2018-10-03T06:31:32.297297",
          "score": 0.5474209632967227
         },
         {
          "date": "2018-10-19T08:21:05.270270",
          "score": 0.5492593843572713
         },
         {
          "date": "2018-11-04T09:10:38.243243",
          "score": 0.5510861467030372
         },
         {
          "date": "2018-11-20T11:00:11.216216",
          "score": 0.5529011682501511
         },
         {
          "date": "2018-12-06T12:49:44.189189",
          "score": 0.5547043674329225
         },
         {
          "date": "2018-12-22T14:39:17.162162",
          "score": 0.5564956632077318
         },
         {
          "date": "2019-01-07T16:28:50.135135",
          "score": 0.5582749750568867
         },
         {
          "date": "2019-01-23T18:18:23.108108",
          "score": 0.5600422229924682
         },
         {
          "date": "2019-02-08T20:07:56.081081",
          "score": 0.5617973275601402
         },
         {
          "date": "2019-02-24T21:57:29.054054",
          "score": 0.5635402098429365
         },
         {
          "date": "2019-03-12T23:47:02.027027",
          "score": 0.5652707914650239
         },
         {
          "date": "2019-03-29T01:36:35",
          "score": 0.5669889945954384
         },
         {
          "date": "2019-04-14T04:26:07.972973",
          "score": 0.5686947419517955
         },
         {
          "date": "2019-04-30T06:15:40.945946",
          "score": 0.5703879568039745
         },
         {
          "date": "2019-05-16T08:05:13.918919",
          "score": 0.5720685629777761
         },
         {
          "date": "2019-06-01T09:54:46.891892",
          "score": 0.5737364848585549
         },
         {
          "date": "2019-06-17T11:44:19.864865",
          "score": 0.5753916473948224
         },
         {
          "date": "2019-07-03T13:33:52.837838",
          "score": 0.5770339761018277
         },
         {
          "date": "2019-07-19T15:23:25.810811",
          "score": 0.5786633970651035
         },
         {
          "date": "2019-08-04T17:12:58.783784",
          "score": 0.5802798369439964
         },
         {
          "date": "2019-08-20T19:02:31.756757",
          "score": 0.5818832229751599
         },
         {
          "date": "2019-09-05T20:52:04.729730",
          "score": 0.5834734829760223
         },
         {
          "date": "2019-09-21T22:41:37.702703",
          "score": 0.5850505453482306
         },
         {
          "date": "2019-10-08T00:31:10.675676",
          "score": 0.5866143390810626
         },
         {
          "date": "2019-10-24T02:20:43.648649",
          "score": 0.5881647937548137
         },
         {
          "date": "2019-11-09T03:10:16.621622",
          "score": 0.5897018395441496
         },
         {
          "date": "2019-11-25T04:59:49.594595",
          "score": 0.5912254072214425
         },
         {
          "date": "2019-12-11T06:49:22.567568",
          "score": 0.5927354281600674
         },
         {
          "date": "2019-12-27T08:38:55.540541",
          "score": 0.5942318343376735
         },
         {
          "date": "2020-01-12T10:28:28.513514",
          "score": 0.5957145583394298
         },
         {
          "date": "2020-01-28T12:18:01.486486",
          "score": 0.5971835333612373
         },
         {
          "date": "2020-02-13T14:07:34.459460",
          "score": 0.5986386932129146
         },
         {
          "date": "2020-02-29T15:57:07.432432",
          "score": 0.6047969209682741
         },
         {
          "date": "2020-03-16T17:46:40.405406",
          "score": 0.6119880360400209
         },
         {
          "date": "2020-04-01T20:36:13.378378",
          "score": 0.6191620058165899
         },
         {
          "date": "2020-04-17T22:25:46.351351",
          "score": 0.626317043319933
         },
         {
          "date": "2020-05-04T00:15:19.324324",
          "score": 0.633451363654805
         },
         {
          "date": "2020-05-20T02:04:52.297297",
          "score": 0.6405631845268729
         },
         {
          "date": "2020-06-05T03:54:25.270270",
          "score": 0.647650726760164
         },
         {
          "date": "2020-06-21T05:43:58.243243",
          "score": 0.6547122148137599
         },
         {
          "date": "2020-07-07T07:33:31.216216",
          "score": 0.6617458772975614
         },
         {
          "date": "2020-07-23T09:23:04.189189",
          "score": 0.6687499474869745
         },
         {
          "date": "2020-08-08T11:12:37.162162",
          "score": 0.6757226638363626
         },
         {
          "date": "2020-08-24T13:02:10.135135",
          "score": 0.6826622704910931
         },
         {
          "date": "2020-09-09T14:51:43.108108",
          "score": 0.6895670177980907
         },
         {
          "date": "2020-09-25T16:41:16.081081",
          "score": 0.696435162814652
         },
         {
          "date": "2020-10-11T18:30:49.054054",
          "score": 0.7032649698154406
         },
         {
          "date": "2020-10-27T19:20:22.027027",
          "score": 0.7100547107974867
         },
         {
          "date": "2020-11-12T21:09:55",
          "score": 0.7168026659830382
         },
         {
          "date": "2020-11-28T22:59:27.972973",
          "score": 0.7235071243201233
         },
         {
          "date": "2020-12-15T00:49:00.945946",
          "score": 0.7301663839806661
         },
         {
          "date": "2020-12-31T02:38:33.918919",
          "score": 0.7367787528560137
         },
         {
          "date": "2021-01-16T04:28:06.891892",
          "score": 0.7433425490497222
         },
         {
          "date": "2021-02-01T06:17:39.864865",
          "score": 0.7498561013674607
         },
         {
          "date": "2021-02-17T08:07:12.837838",
          "score": 0.7563177498038848
         },
         {
          "date": "2021-03-05T09:56:45.810811",
          "score": 0.7627258460263128
         },
         {
          "date": "2021-03-21T11:46:18.783784",
          "score": 0.769078753855128
         },
         {
          "date": "2021-04-06T14:35:51.756757",
          "score": 0.7753748497406673
         },
         {
          "date": "2021-04-22T16:25:24.729730",
          "score": 0.781612523236533
         },
         {
          "date": "2021-05-08T18:14:57.702703",
          "score": 0.7877901774691501
         },
         {
          "date": "2021-05-24T20:04:30.675676",
          "score": 0.7939062296034349
         },
         {
          "date": "2021-06-09T21:54:03.648649",
          "score": 0.7999591113044483
         },
         {
          "date": "2021-06-25T23:43:36.621622",
          "score": 0.8059472691948589
         },
         {
          "date": "2021-07-12T01:33:09.594595",
          "score": 0.8118691653081545
         },
         {
          "date": "2021-07-28T03:22:42.567568",
          "score": 0.8177232775373737
         },
         {
          "date": "2021-08-13T05:12:15.540541",
          "score": 0.8235081000792913
         },
         {
          "date": "2021-08-29T07:01:48.513514",
          "score": 0.8292221438739014
         },
         {
          "date": "2021-09-14T08:51:21.486486",
          "score": 0.8348639370390671
         },
         {
          "date": "2021-09-30T10:40:54.459460",
          "score": 0.84043202530021
         },
         {
          "date": "2021-10-16T12:30:27.432432",
          "score": 0.8459249724149118
         },
         {
          "date": "2021-11-01T13:20:00.405406",
          "score": 0.8513413605923008
         },
         {
          "date": "2021-11-17T15:09:33.378378",
          "score": 0.8566797909070965
         },
         {
          "date": "2021-12-03T16:59:06.351351",
          "score": 0.8619388837081957
         },
         {
          "date": "2021-12-19T18:48:39.324324",
          "score": 0.8671172790216567
         },
         {
          "date": "2022-01-04T20:38:12.297297",
          "score": 0.8722136369480095
         },
         {
          "date": "2022-01-20T22:27:45.270270",
          "score": 0.877226638053712
         },
         {
          "date": "2022-02-06T00:17:18.243243",
          "score": 0.8821549837566787
         },
         {
          "date": "2022-02-22T02:06:51.216216",
          "score": 0.8869973967057545
         },
         {
          "date": "2022-03-10T03:56:24.189189",
          "score": 0.8917526211540169
         },
         {
          "date": "2022-03-26T05:45:57.162162",
          "score": 0.8964194233258026
         },
         {
          "date": "2022-04-11T08:35:30.135135",
          "score": 0.9009965917773322
         },
         {
          "date": "2022-04-27T10:25:03.108108",
          "score": 0.9054829377508641
         },
         {
          "date": "2022-05-13T12:14:36.081081",
          "score": 0.9098772955222207
         },
         {
          "date": "2022-05-29T14:04:09.054054",
          "score": 0.9141785227416203
         },
         {
          "date": "2022-06-14T15:53:42.027027",
          "score": 0.9183855007677015
         },
         {
          "date": "2022-06-30T17:43:15",
          "score": 0.9224971349946386
         },
         {
          "date": "2022-07-16T19:32:47.972973",
          "score": 0.9265123551722543
         },
         {
          "date": "2022-08-01T21:22:20.945946",
          "score": 0.9304301157190322
         },
         {
          "date": "2022-08-17T23:11:53.918919",
          "score": 0.9342493960279361
         },
         {
          "date": "2022-09-03T01:01:26.891892",
          "score": 0.9379692007649447
         },
         {
          "date": "2022-09-19T02:50:59.864865",
          "score": 0.9415885601602151
         },
         {
          "date": "2022-10-05T04:40:32.837838",
          "score": 0.945106530291785
         },
         {
          "date": "2022-10-21T06:30:05.810811",
          "score": 0.9485221933617237
         },
         {
          "date": "2022-11-06T07:19:38.783784",
          "score": 0.9518346579646747
         },
         {
          "date": "2022-11-22T09:09:11.756757",
          "score": 0.9550430593486718
         },
         {
          "date": "2022-12-08T10:58:44.729730",
          "score": 0.9581465596681806
         },
         {
          "date": "2022-12-24T12:48:17.702703",
          "score": 0.9611443482292767
         },
         {
          "date": "2023-01-09T14:37:50.675676",
          "score": 0.9640356417268939
         },
         {
          "date": "2023-01-25T16:27:23.648649",
          "score": 0.9668196844740675
         },
         {
          "date": "2023-02-10T18:16:56.621622",
          "score": 0.9694957486230963
         },
         {
          "date": "2023-02-26T20:06:29.594595",
          "score": 0.9720631343785875
         },
         {
          "date": "2023-03-14T21:56:02.567568",
          "score": 0.974521170202279
         },
         {
          "date": "2023-03-31T00:45:35.540541",
          "score": 0.9768692130096092
         },
         {
          "date": "2023-04-16T02:35:08.513514",
          "score": 0.9791066483579645
         },
         {
          "date": "2023-05-02T04:24:41.486486",
          "score": 0.9812328906265464
         },
         {
          "date": "2023-05-18T06:14:14.459460",
          "score": 0.983247383187813
         },
         {
          "date": "2023-06-03T08:03:47.432432",
          "score": 0.9851495985704329
         },
         {
          "date": "2023-06-19T09:53:20.405406",
          "score": 0.9869390386137111
         },
         {
          "date": "2023-07-05T11:42:53.378378",
          "score": 0.9886152346134389
         },
         {
          "date": "2023-07-21T13:32:26.351351",
          "score": 0.9901777474591219
         },
         {
          "date": "2023-08-06T15:21:59.324324",
          "score": 0.9916261677625452
         },
         {
          "date": "2023-08-22T17:11:32.297297",
          "score": 0.9929601159776462
         },
         {
          "date": "2023-09-07T19:01:05.270270",
          "score": 0.994179242511645
         },
         {
          "date": "2023-09-23T20:50:38.243243",
          "score": 0.9952832278274085
         },
         {
          "date": "2023-10-09T22:40:11.216216",
          "score": 0.9962717825370169
         },
         {
          "date": "2023-10-26T00:29:44.189189",
          "score": 0.9971446474865037
         },
         {
          "date": "2023-11-11T01:19:17.162162",
          "score": 0.9979015938317417
         },
         {
          "date": "2023-11-27T03:08:50.135135",
          "score": 0.9985424231054559
         },
         {
          "date": "2023-12-13T04:58:23.108108",
          "score": 0.9990669672753422
         },
         {
          "date": "2023-12-29T06:47:56.081081",
          "score": 0.9994750887932733
         },
         {
          "date": "2024-01-14T08:37:29.054054",
          "score": 0.9997666806355772
         },
         {
          "date": "2024-01-30T10:27:02.027027",
          "score": 0.9999416663343808
         },
         {
          "date": "2024-02-15T12:16:35",
          "score": 1.0000000000000002
         }
        ]
       },
       "encoding": {
        "tooltip": [
         {
          "field": "date",
          "type": "temporal"
         }
        ],
        "x": {
         "field": "date",
         "title": "Date",
         "type": "temporal"
        },
        "y": {
         "field": "score",
         "title": "Recency score",
         "type": "quantitative"
        }
       },
       "height": 380,
       "mark": {
        "color": "black",
        "filled": true,
        "size": 10,
        "type": "point"
       },
       "title": "Recency scores (unit weight)",
       "width": 500
      },
      "image/png": "[encoded data removed]",
      "text/plain": [
       "<VegaLite 5 object>\n",
       "\n",
       "If you see this message, it means the renderer has not been properly enabled\n",
       "for the frontend that you are using. For more information, see\n",
       "https://altair-viz.github.io/user_guide/display_frontends.html#troubleshooting\n"
      ]
     },
     "execution_count": 13,
     "metadata": {},
     "output_type": "execute_result"
    }
   ],
   "source": [
    "recency_plotter = RecencyPlotter(recency_space)\n",
    "chart = recency_plotter.plot_recency_curve()\n",
    "chart"
   ]
  },
  {
   "cell_type": "markdown",
   "id": "93c93476-cf28-4661-a793-f74d7c21b972",
   "metadata": {},
   "source": [
    "notice the breaks in the score at 4, 10 and 40 years - those are our period times. Titles older than 40 years get `negative_filter` score."
   ]
  },
  {
   "cell_type": "markdown",
   "id": "2ec1f453-6ec2-42e8-88b2-1c6692e9d57a",
   "metadata": {},
   "source": [
    "## Run queries"
   ]
  },
  {
   "cell_type": "markdown",
   "id": "c86b136f-467a-4618-88b9-cab92b798beb",
   "metadata": {},
   "source": [
    "Let's define a quick util function to present our results in the notebook"
   ]
  },
  {
   "cell_type": "code",
   "execution_count": 14,
   "id": "a3b1a5a9-7b81-4dff-82bb-9cb92abd58e2",
   "metadata": {},
   "outputs": [],
   "source": [
    "def present_result(result: Result, cols_to_keep: list[str] = [\"description\", \"title\", \"genres\", \"release_year\", \"id\"]) -> pd.DataFrame:\n",
    "    # parse result to dataframe\n",
    "    df: pd.DataFrame = pd.DataFrame([entry.stored_object for entry in result.entries])\n",
    "    # transform timestamp back to release year\n",
    "    df[\"release_year\"] = [datetime.fromtimestamp(timestamp).year for timestamp in df[\"release_timestamp\"]]\n",
    "    return df[cols_to_keep]"
   ]
  },
  {
   "cell_type": "markdown",
   "id": "65a1932e-4e84-4f84-bcdd-83eba95cb3cc",
   "metadata": {},
   "source": [
    "### Search with user queries"
   ]
  },
  {
   "cell_type": "markdown",
   "id": "de462025-40fb-4371-8160-9a315ab9e872",
   "metadata": {},
   "source": [
    "With the simple query, I can search with my text in all of the fields"
   ]
  },
  {
   "cell_type": "code",
   "execution_count": 15,
   "id": "d2ba2245-1d76-4283-a9f6-58179f5f7f7c",
   "metadata": {},
   "outputs": [
    {
     "data": {
      "text/html": [
       "<div>\n",
       "<style scoped>\n",
       "    .dataframe tbody tr th:only-of-type {\n",
       "        vertical-align: middle;\n",
       "    }\n",
       "\n",
       "    .dataframe tbody tr th {\n",
       "        vertical-align: top;\n",
       "    }\n",
       "\n",
       "    .dataframe thead th {\n",
       "        text-align: right;\n",
       "    }\n",
       "</style>\n",
       "<table border=\"1\" class=\"dataframe\">\n",
       "  <thead>\n",
       "    <tr style=\"text-align: right;\">\n",
       "      <th></th>\n",
       "      <th>description</th>\n",
       "      <th>title</th>\n",
       "      <th>genres</th>\n",
       "      <th>release_year</th>\n",
       "      <th>id</th>\n",
       "    </tr>\n",
       "  </thead>\n",
       "  <tbody>\n",
       "    <tr>\n",
       "      <th>0</th>\n",
       "      <td>When a group of people meets at the same party, they form four different relationships, each experiencing similar phases of love.</td>\n",
       "      <td>Love, Surreal and Odd</td>\n",
       "      <td>comedy romance</td>\n",
       "      <td>2017</td>\n",
       "      <td>tm313118</td>\n",
       "    </tr>\n",
       "    <tr>\n",
       "      <th>1</th>\n",
       "      <td>'Love Actually' follows the lives of eight very different couples dealing with their love lives, in various loosely and interrelated tales, all set during a frantic month before Christmas in Londo...</td>\n",
       "      <td>Love Actually</td>\n",
       "      <td>drama comedy romance</td>\n",
       "      <td>2003</td>\n",
       "      <td>tm133767</td>\n",
       "    </tr>\n",
       "    <tr>\n",
       "      <th>2</th>\n",
       "      <td>A young woman develops romantic feelings for her best friend, but problems arise when another gal enters the picture.</td>\n",
       "      <td>Must Be... Love</td>\n",
       "      <td>comedy romance</td>\n",
       "      <td>2013</td>\n",
       "      <td>tm188290</td>\n",
       "    </tr>\n",
       "    <tr>\n",
       "      <th>3</th>\n",
       "      <td>Romantic anthology web series revolving around 12 stories of 12 months of young people on their paths to love.</td>\n",
       "      <td>Love Daily</td>\n",
       "      <td>drama romance</td>\n",
       "      <td>2018</td>\n",
       "      <td>ts90869</td>\n",
       "    </tr>\n",
       "    <tr>\n",
       "      <th>4</th>\n",
       "      <td>Love You, is a 2011 Taiwanese drama starring Joseph Chang, Rainie Yang, Kingone Wang, Tiffany Hsu, Alien Huang and Tom Price. It is the second installment of the Fated to Love You trilogy. It star...</td>\n",
       "      <td>Drunken to Love You</td>\n",
       "      <td>comedy drama romance</td>\n",
       "      <td>2011</td>\n",
       "      <td>ts44064</td>\n",
       "    </tr>\n",
       "    <tr>\n",
       "      <th>5</th>\n",
       "      <td>Laida Magtalas is a modern-day Belle who works hard to provide for her family while hoping that someday she will meet her prince charming and that they will live happily ever after together. That ...</td>\n",
       "      <td>A Very Special Love</td>\n",
       "      <td>comedy drama romance</td>\n",
       "      <td>2008</td>\n",
       "      <td>tm28024</td>\n",
       "    </tr>\n",
       "    <tr>\n",
       "      <th>6</th>\n",
       "      <td>It tells the love story of two childhood sweethearts that spans 19 years. Chen Xiao Xi is a cute and small girl with a lot of positive energy. She gets to know Jiang Chen, a tall and proud genius ...</td>\n",
       "      <td>A Love So Beautiful</td>\n",
       "      <td>comedy romance</td>\n",
       "      <td>2017</td>\n",
       "      <td>ts77034</td>\n",
       "    </tr>\n",
       "    <tr>\n",
       "      <th>7</th>\n",
       "      <td>Christina's love life is stuck in neutral. After years of avoiding the hazards of a meaningful relationship, one night while club-hopping with her girlfriends, she meets Peter, her perfect match. ...</td>\n",
       "      <td>The Sweetest Thing</td>\n",
       "      <td>comedy romance</td>\n",
       "      <td>2002</td>\n",
       "      <td>tm111600</td>\n",
       "    </tr>\n",
       "    <tr>\n",
       "      <th>8</th>\n",
       "      <td>Mike Birbiglia shares a lifetime of romantic blunders and misunderstandings. On this painfully honest but hilarious journey, Birbiglia struggles to find reason in an area where it may be impossibl...</td>\n",
       "      <td>Mike Birbiglia: My Girlfriend's Boyfriend</td>\n",
       "      <td>comedy documentation romance</td>\n",
       "      <td>2013</td>\n",
       "      <td>tm171965</td>\n",
       "    </tr>\n",
       "    <tr>\n",
       "      <th>9</th>\n",
       "      <td>An LA girl, unlucky in love, falls for an East Coast guy on a dating app and decides to surprise him for the holidays, only to discover that she's been catfished. This lighthearted romantic comedy...</td>\n",
       "      <td>Love Hard</td>\n",
       "      <td>romance comedy</td>\n",
       "      <td>2021</td>\n",
       "      <td>tm1093099</td>\n",
       "    </tr>\n",
       "  </tbody>\n",
       "</table>\n",
       "</div>"
      ],
      "text/plain": [
       "                                                                                                                                                                                               description  \\\n",
       "0                                                                        When a group of people meets at the same party, they form four different relationships, each experiencing similar phases of love.   \n",
       "1  'Love Actually' follows the lives of eight very different couples dealing with their love lives, in various loosely and interrelated tales, all set during a frantic month before Christmas in Londo...   \n",
       "2                                                                                    A young woman develops romantic feelings for her best friend, but problems arise when another gal enters the picture.   \n",
       "3                                                                                           Romantic anthology web series revolving around 12 stories of 12 months of young people on their paths to love.   \n",
       "4  Love You, is a 2011 Taiwanese drama starring Joseph Chang, Rainie Yang, Kingone Wang, Tiffany Hsu, Alien Huang and Tom Price. It is the second installment of the Fated to Love You trilogy. It star...   \n",
       "5  Laida Magtalas is a modern-day Belle who works hard to provide for her family while hoping that someday she will meet her prince charming and that they will live happily ever after together. That ...   \n",
       "6  It tells the love story of two childhood sweethearts that spans 19 years. Chen Xiao Xi is a cute and small girl with a lot of positive energy. She gets to know Jiang Chen, a tall and proud genius ...   \n",
       "7  Christina's love life is stuck in neutral. After years of avoiding the hazards of a meaningful relationship, one night while club-hopping with her girlfriends, she meets Peter, her perfect match. ...   \n",
       "8  Mike Birbiglia shares a lifetime of romantic blunders and misunderstandings. On this painfully honest but hilarious journey, Birbiglia struggles to find reason in an area where it may be impossibl...   \n",
       "9  An LA girl, unlucky in love, falls for an East Coast guy on a dating app and decides to surprise him for the holidays, only to discover that she's been catfished. This lighthearted romantic comedy...   \n",
       "\n",
       "                                       title                        genres  \\\n",
       "0                      Love, Surreal and Odd                comedy romance   \n",
       "1                              Love Actually          drama comedy romance   \n",
       "2                            Must Be... Love                comedy romance   \n",
       "3                                 Love Daily                 drama romance   \n",
       "4                        Drunken to Love You          comedy drama romance   \n",
       "5                        A Very Special Love          comedy drama romance   \n",
       "6                        A Love So Beautiful                comedy romance   \n",
       "7                         The Sweetest Thing                comedy romance   \n",
       "8  Mike Birbiglia: My Girlfriend's Boyfriend  comedy documentation romance   \n",
       "9                                  Love Hard                romance comedy   \n",
       "\n",
       "   release_year         id  \n",
       "0          2017   tm313118  \n",
       "1          2003   tm133767  \n",
       "2          2013   tm188290  \n",
       "3          2018    ts90869  \n",
       "4          2011    ts44064  \n",
       "5          2008    tm28024  \n",
       "6          2017    ts77034  \n",
       "7          2002   tm111600  \n",
       "8          2013   tm171965  \n",
       "9          2021  tm1093099  "
      ]
     },
     "execution_count": 15,
     "metadata": {},
     "output_type": "execute_result"
    }
   ],
   "source": [
    "result: Result = app.query(\n",
    "    simple_query,\n",
    "    query_text=\"Heartfelt romantic comedy\",\n",
    "    description_weight=1,\n",
    "    title_weight=1,\n",
    "    genre_weight=1,\n",
    "    recency_weight=0\n",
    ")\n",
    "\n",
    "present_result(result)"
   ]
  },
  {
   "cell_type": "markdown",
   "id": "c12fa8c1-c013-44be-a326-a0dffa2e7d22",
   "metadata": {},
   "source": [
    "After looking at the results, I see some titles I have already seen. I can bias towards recent titles by upweighting recency. Weights are normalised to have unit sum, so you don't have to worry about how you set them."
   ]
  },
  {
   "cell_type": "code",
   "execution_count": 16,
   "id": "5941b41e-c2de-40df-b156-eed523b75c69",
   "metadata": {},
   "outputs": [
    {
     "data": {
      "text/html": [
       "<div>\n",
       "<style scoped>\n",
       "    .dataframe tbody tr th:only-of-type {\n",
       "        vertical-align: middle;\n",
       "    }\n",
       "\n",
       "    .dataframe tbody tr th {\n",
       "        vertical-align: top;\n",
       "    }\n",
       "\n",
       "    .dataframe thead th {\n",
       "        text-align: right;\n",
       "    }\n",
       "</style>\n",
       "<table border=\"1\" class=\"dataframe\">\n",
       "  <thead>\n",
       "    <tr style=\"text-align: right;\">\n",
       "      <th></th>\n",
       "      <th>description</th>\n",
       "      <th>title</th>\n",
       "      <th>genres</th>\n",
       "      <th>release_year</th>\n",
       "      <th>id</th>\n",
       "    </tr>\n",
       "  </thead>\n",
       "  <tbody>\n",
       "    <tr>\n",
       "      <th>0</th>\n",
       "      <td>In this romantic comedy, several friends, each dealing with unhappy love lives, turn to each other for help - but not always with the best results.</td>\n",
       "      <td>F*ck Love Too</td>\n",
       "      <td>comedy romance</td>\n",
       "      <td>2022</td>\n",
       "      <td>tm1203307</td>\n",
       "    </tr>\n",
       "    <tr>\n",
       "      <th>1</th>\n",
       "      <td>Fidelity tells a story of marital fidelity, in particular the one of Carlo and Margherita, a young couple who needs to face the deflagrant consequences of an alleged betrayal. Their relationship b...</td>\n",
       "      <td>Devotion, a Story of Love and Desire</td>\n",
       "      <td>drama romance</td>\n",
       "      <td>2022</td>\n",
       "      <td>ts280892</td>\n",
       "    </tr>\n",
       "    <tr>\n",
       "      <th>2</th>\n",
       "      <td>This black humor pan-Arabic anthology series is about love in general – and relationships in particular.</td>\n",
       "      <td>Love, Life &amp; Everything in Between</td>\n",
       "      <td>comedy drama romance</td>\n",
       "      <td>2022</td>\n",
       "      <td>ts329711</td>\n",
       "    </tr>\n",
       "    <tr>\n",
       "      <th>3</th>\n",
       "      <td>A relatable romance drama about a couple in their 30s preparing for marriage. While they were expecting a happy ending like something out of a fairy tale, the reality of their preparations proves ...</td>\n",
       "      <td>Welcome to Wedding Hell</td>\n",
       "      <td>drama romance</td>\n",
       "      <td>2022</td>\n",
       "      <td>ts344043</td>\n",
       "    </tr>\n",
       "    <tr>\n",
       "      <th>4</th>\n",
       "      <td>An ad executive and a fashion designer-blogger don't believe in love, so they place a bet to make the other fall head over heels - with unusual tactics.</td>\n",
       "      <td>Love Tactics</td>\n",
       "      <td>comedy romance</td>\n",
       "      <td>2022</td>\n",
       "      <td>tm1152224</td>\n",
       "    </tr>\n",
       "    <tr>\n",
       "      <th>5</th>\n",
       "      <td>Often (mis)guided by a cheeky imaginary wizard, an awkward and lonely 20-something struggles to get out of his own way in his quest for a girlfriend.</td>\n",
       "      <td>Eternally Confused and Eager for Love</td>\n",
       "      <td>comedy romance</td>\n",
       "      <td>2022</td>\n",
       "      <td>ts330012</td>\n",
       "    </tr>\n",
       "    <tr>\n",
       "      <th>6</th>\n",
       "      <td>Guille decides it's time to take the next step and that's how she looks to marry her sweetheart, but things get complicated and nothing goes as planned.</td>\n",
       "      <td>Let's Tie the Knot, Honey!</td>\n",
       "      <td>comedy romance</td>\n",
       "      <td>2022</td>\n",
       "      <td>tm1204412</td>\n",
       "    </tr>\n",
       "    <tr>\n",
       "      <th>7</th>\n",
       "      <td>A modern love story set in the near future where an AI building is powered by human feelings. Due to a software glitch, it falls in love with a real girl, escapes the building into the body of a r...</td>\n",
       "      <td>AI Love You</td>\n",
       "      <td>scifi comedy romance drama</td>\n",
       "      <td>2022</td>\n",
       "      <td>tm1160424</td>\n",
       "    </tr>\n",
       "    <tr>\n",
       "      <th>8</th>\n",
       "      <td>After his ad agency goes bankrupt, an indebted Fırat falls for a singer at a yoga retreat and joins her on a journey of self-realization.</td>\n",
       "      <td>Doom of Love</td>\n",
       "      <td>romance drama</td>\n",
       "      <td>2022</td>\n",
       "      <td>tm1218702</td>\n",
       "    </tr>\n",
       "    <tr>\n",
       "      <th>9</th>\n",
       "      <td>A wife who feels suffocated by her husband's incessant attention hires a psychologist to make him fall in love with her so that she can separate from him.</td>\n",
       "      <td>Hey! Sinamika</td>\n",
       "      <td>drama romance</td>\n",
       "      <td>2022</td>\n",
       "      <td>tm1143258</td>\n",
       "    </tr>\n",
       "  </tbody>\n",
       "</table>\n",
       "</div>"
      ],
      "text/plain": [
       "                                                                                                                                                                                               description  \\\n",
       "0                                                      In this romantic comedy, several friends, each dealing with unhappy love lives, turn to each other for help - but not always with the best results.   \n",
       "1  Fidelity tells a story of marital fidelity, in particular the one of Carlo and Margherita, a young couple who needs to face the deflagrant consequences of an alleged betrayal. Their relationship b...   \n",
       "2                                                                                                 This black humor pan-Arabic anthology series is about love in general – and relationships in particular.   \n",
       "3  A relatable romance drama about a couple in their 30s preparing for marriage. While they were expecting a happy ending like something out of a fairy tale, the reality of their preparations proves ...   \n",
       "4                                                 An ad executive and a fashion designer-blogger don't believe in love, so they place a bet to make the other fall head over heels - with unusual tactics.   \n",
       "5                                                    Often (mis)guided by a cheeky imaginary wizard, an awkward and lonely 20-something struggles to get out of his own way in his quest for a girlfriend.   \n",
       "6                                                 Guille decides it's time to take the next step and that's how she looks to marry her sweetheart, but things get complicated and nothing goes as planned.   \n",
       "7  A modern love story set in the near future where an AI building is powered by human feelings. Due to a software glitch, it falls in love with a real girl, escapes the building into the body of a r...   \n",
       "8                                                                After his ad agency goes bankrupt, an indebted Fırat falls for a singer at a yoga retreat and joins her on a journey of self-realization.   \n",
       "9                                               A wife who feels suffocated by her husband's incessant attention hires a psychologist to make him fall in love with her so that she can separate from him.   \n",
       "\n",
       "                                   title                      genres  \\\n",
       "0                          F*ck Love Too              comedy romance   \n",
       "1   Devotion, a Story of Love and Desire               drama romance   \n",
       "2     Love, Life & Everything in Between        comedy drama romance   \n",
       "3                Welcome to Wedding Hell               drama romance   \n",
       "4                           Love Tactics              comedy romance   \n",
       "5  Eternally Confused and Eager for Love              comedy romance   \n",
       "6             Let's Tie the Knot, Honey!              comedy romance   \n",
       "7                            AI Love You  scifi comedy romance drama   \n",
       "8                           Doom of Love               romance drama   \n",
       "9                          Hey! Sinamika               drama romance   \n",
       "\n",
       "   release_year         id  \n",
       "0          2022  tm1203307  \n",
       "1          2022   ts280892  \n",
       "2          2022   ts329711  \n",
       "3          2022   ts344043  \n",
       "4          2022  tm1152224  \n",
       "5          2022   ts330012  \n",
       "6          2022  tm1204412  \n",
       "7          2022  tm1160424  \n",
       "8          2022  tm1218702  \n",
       "9          2022  tm1143258  "
      ]
     },
     "execution_count": 16,
     "metadata": {},
     "output_type": "execute_result"
    }
   ],
   "source": [
    "result: Result = app.query(\n",
    "    simple_query,\n",
    "    query_text=\"Heartfelt romantic comedy\",\n",
    "    description_weight=1,\n",
    "    title_weight=1,\n",
    "    genre_weight=1,\n",
    "    recency_weight=3\n",
    ")\n",
    "\n",
    "present_result(result)"
   ]
  },
  {
   "cell_type": "markdown",
   "id": "f4a22174-d438-4b43-9e86-5fe883f139f8",
   "metadata": {},
   "source": [
    "Still using the simple query, I can give more weight to spaces if I think my query is more related to that space - matches there should count more. Here I give additional weight to the genre, leave the description as is, and downweight the title as my query text is mostly a genre with some additional context. I keep recency with unit weight too, as I would like my results to be a bit biased towards recent movies."
   ]
  },
  {
   "cell_type": "code",
   "execution_count": 17,
   "id": "4f5cfd0d-dfe6-40aa-9688-9e427f4890bf",
   "metadata": {},
   "outputs": [
    {
     "data": {
      "text/html": [
       "<div>\n",
       "<style scoped>\n",
       "    .dataframe tbody tr th:only-of-type {\n",
       "        vertical-align: middle;\n",
       "    }\n",
       "\n",
       "    .dataframe tbody tr th {\n",
       "        vertical-align: top;\n",
       "    }\n",
       "\n",
       "    .dataframe thead th {\n",
       "        text-align: right;\n",
       "    }\n",
       "</style>\n",
       "<table border=\"1\" class=\"dataframe\">\n",
       "  <thead>\n",
       "    <tr style=\"text-align: right;\">\n",
       "      <th></th>\n",
       "      <th>description</th>\n",
       "      <th>title</th>\n",
       "      <th>genres</th>\n",
       "      <th>release_year</th>\n",
       "      <th>id</th>\n",
       "    </tr>\n",
       "  </thead>\n",
       "  <tbody>\n",
       "    <tr>\n",
       "      <th>0</th>\n",
       "      <td>In this romantic comedy, several friends, each dealing with unhappy love lives, turn to each other for help - but not always with the best results.</td>\n",
       "      <td>F*ck Love Too</td>\n",
       "      <td>comedy romance</td>\n",
       "      <td>2022</td>\n",
       "      <td>tm1203307</td>\n",
       "    </tr>\n",
       "    <tr>\n",
       "      <th>1</th>\n",
       "      <td>An LA girl, unlucky in love, falls for an East Coast guy on a dating app and decides to surprise him for the holidays, only to discover that she's been catfished. This lighthearted romantic comedy...</td>\n",
       "      <td>Love Hard</td>\n",
       "      <td>romance comedy</td>\n",
       "      <td>2021</td>\n",
       "      <td>tm1093099</td>\n",
       "    </tr>\n",
       "    <tr>\n",
       "      <th>2</th>\n",
       "      <td>A relatable romance drama about a couple in their 30s preparing for marriage. While they were expecting a happy ending like something out of a fairy tale, the reality of their preparations proves ...</td>\n",
       "      <td>Welcome to Wedding Hell</td>\n",
       "      <td>drama romance</td>\n",
       "      <td>2022</td>\n",
       "      <td>ts344043</td>\n",
       "    </tr>\n",
       "    <tr>\n",
       "      <th>3</th>\n",
       "      <td>This black humor pan-Arabic anthology series is about love in general – and relationships in particular.</td>\n",
       "      <td>Love, Life &amp; Everything in Between</td>\n",
       "      <td>comedy drama romance</td>\n",
       "      <td>2022</td>\n",
       "      <td>ts329711</td>\n",
       "    </tr>\n",
       "    <tr>\n",
       "      <th>4</th>\n",
       "      <td>In this rom-com challenging the concept of soulmates, parallel storylines portray four single friends as they pair up in different couple combinations.</td>\n",
       "      <td>Four to Dinner</td>\n",
       "      <td>comedy romance</td>\n",
       "      <td>2022</td>\n",
       "      <td>tm1137862</td>\n",
       "    </tr>\n",
       "    <tr>\n",
       "      <th>5</th>\n",
       "      <td>Todd and Rory are intellectual soul mates. He might be gay. She might not care. A romantic-comedy drama with a twist; a love story without the thrill of copulation.</td>\n",
       "      <td>Straight Up</td>\n",
       "      <td>comedy romance</td>\n",
       "      <td>2019</td>\n",
       "      <td>tm494295</td>\n",
       "    </tr>\n",
       "    <tr>\n",
       "      <th>6</th>\n",
       "      <td>Short films follow young adults as they navigate the gamut of emotions that come with finding romantic connection in unexpected places.</td>\n",
       "      <td>Feels Like Ishq</td>\n",
       "      <td>drama romance comedy</td>\n",
       "      <td>2021</td>\n",
       "      <td>ts283610</td>\n",
       "    </tr>\n",
       "    <tr>\n",
       "      <th>7</th>\n",
       "      <td>Guille decides it's time to take the next step and that's how she looks to marry her sweetheart, but things get complicated and nothing goes as planned.</td>\n",
       "      <td>Let's Tie the Knot, Honey!</td>\n",
       "      <td>comedy romance</td>\n",
       "      <td>2022</td>\n",
       "      <td>tm1204412</td>\n",
       "    </tr>\n",
       "    <tr>\n",
       "      <th>8</th>\n",
       "      <td>Incurable romantic Lotte's life is upended when her plans for a picture-perfect wedding unravel--just as her self-absorbed sister gets engaged.</td>\n",
       "      <td>Just Say Yes</td>\n",
       "      <td>comedy romance</td>\n",
       "      <td>2021</td>\n",
       "      <td>tm904862</td>\n",
       "    </tr>\n",
       "    <tr>\n",
       "      <th>9</th>\n",
       "      <td>In pursuit of both success and validation, a group of tech-savvy individuals juggle intimate encounters, first impressions and romantic opportunities.</td>\n",
       "      <td>Slay</td>\n",
       "      <td>romance comedy</td>\n",
       "      <td>2021</td>\n",
       "      <td>tm1038025</td>\n",
       "    </tr>\n",
       "  </tbody>\n",
       "</table>\n",
       "</div>"
      ],
      "text/plain": [
       "                                                                                                                                                                                               description  \\\n",
       "0                                                      In this romantic comedy, several friends, each dealing with unhappy love lives, turn to each other for help - but not always with the best results.   \n",
       "1  An LA girl, unlucky in love, falls for an East Coast guy on a dating app and decides to surprise him for the holidays, only to discover that she's been catfished. This lighthearted romantic comedy...   \n",
       "2  A relatable romance drama about a couple in their 30s preparing for marriage. While they were expecting a happy ending like something out of a fairy tale, the reality of their preparations proves ...   \n",
       "3                                                                                                 This black humor pan-Arabic anthology series is about love in general – and relationships in particular.   \n",
       "4                                                  In this rom-com challenging the concept of soulmates, parallel storylines portray four single friends as they pair up in different couple combinations.   \n",
       "5                                     Todd and Rory are intellectual soul mates. He might be gay. She might not care. A romantic-comedy drama with a twist; a love story without the thrill of copulation.   \n",
       "6                                                                  Short films follow young adults as they navigate the gamut of emotions that come with finding romantic connection in unexpected places.   \n",
       "7                                                 Guille decides it's time to take the next step and that's how she looks to marry her sweetheart, but things get complicated and nothing goes as planned.   \n",
       "8                                                          Incurable romantic Lotte's life is upended when her plans for a picture-perfect wedding unravel--just as her self-absorbed sister gets engaged.   \n",
       "9                                                   In pursuit of both success and validation, a group of tech-savvy individuals juggle intimate encounters, first impressions and romantic opportunities.   \n",
       "\n",
       "                                title                genres  release_year  \\\n",
       "0                       F*ck Love Too        comedy romance          2022   \n",
       "1                           Love Hard        romance comedy          2021   \n",
       "2             Welcome to Wedding Hell         drama romance          2022   \n",
       "3  Love, Life & Everything in Between  comedy drama romance          2022   \n",
       "4                      Four to Dinner        comedy romance          2022   \n",
       "5                         Straight Up        comedy romance          2019   \n",
       "6                     Feels Like Ishq  drama romance comedy          2021   \n",
       "7          Let's Tie the Knot, Honey!        comedy romance          2022   \n",
       "8                        Just Say Yes        comedy romance          2021   \n",
       "9                                Slay        romance comedy          2021   \n",
       "\n",
       "          id  \n",
       "0  tm1203307  \n",
       "1  tm1093099  \n",
       "2   ts344043  \n",
       "3   ts329711  \n",
       "4  tm1137862  \n",
       "5   tm494295  \n",
       "6   ts283610  \n",
       "7  tm1204412  \n",
       "8   tm904862  \n",
       "9  tm1038025  "
      ]
     },
     "execution_count": 17,
     "metadata": {},
     "output_type": "execute_result"
    }
   ],
   "source": [
    "result = app.query(\n",
    "    simple_query,\n",
    "    query_text=\"Heartfelt romantic comedy\",\n",
    "    description_weight=1,\n",
    "    title_weight=0.1,\n",
    "    genre_weight=2,\n",
    "    recency_weight=1\n",
    ")\n",
    "\n",
    "present_result(result)"
   ]
  },
  {
   "cell_type": "markdown",
   "id": "7f213c52-900a-4a1b-9e02-9d681df7735b",
   "metadata": {},
   "source": [
    "With the advanced query, I can even supply different search terms for each attribute of the movie."
   ]
  },
  {
   "cell_type": "code",
   "execution_count": 18,
   "id": "1734d57b-5dbc-4c4c-a777-8be6717c3e6b",
   "metadata": {
    "scrolled": true
   },
   "outputs": [
    {
     "data": {
      "text/html": [
       "<div>\n",
       "<style scoped>\n",
       "    .dataframe tbody tr th:only-of-type {\n",
       "        vertical-align: middle;\n",
       "    }\n",
       "\n",
       "    .dataframe tbody tr th {\n",
       "        vertical-align: top;\n",
       "    }\n",
       "\n",
       "    .dataframe thead th {\n",
       "        text-align: right;\n",
       "    }\n",
       "</style>\n",
       "<table border=\"1\" class=\"dataframe\">\n",
       "  <thead>\n",
       "    <tr style=\"text-align: right;\">\n",
       "      <th></th>\n",
       "      <th>description</th>\n",
       "      <th>title</th>\n",
       "      <th>genres</th>\n",
       "      <th>release_year</th>\n",
       "      <th>id</th>\n",
       "    </tr>\n",
       "  </thead>\n",
       "  <tbody>\n",
       "    <tr>\n",
       "      <th>0</th>\n",
       "      <td>'Love Actually' follows the lives of eight very different couples dealing with their love lives, in various loosely and interrelated tales, all set during a frantic month before Christmas in Londo...</td>\n",
       "      <td>Love Actually</td>\n",
       "      <td>drama comedy romance</td>\n",
       "      <td>2003</td>\n",
       "      <td>tm133767</td>\n",
       "    </tr>\n",
       "    <tr>\n",
       "      <th>1</th>\n",
       "      <td>Rebellious Mickey and good-natured Gus navigate the thrills and agonies of modern relationships.</td>\n",
       "      <td>Love</td>\n",
       "      <td>comedy drama romance</td>\n",
       "      <td>2016</td>\n",
       "      <td>ts38511</td>\n",
       "    </tr>\n",
       "    <tr>\n",
       "      <th>2</th>\n",
       "      <td>A rising black painter tries to break into a competitive art world while balancing an unexpected romance with an ambitious law student.</td>\n",
       "      <td>Really Love</td>\n",
       "      <td>romance drama</td>\n",
       "      <td>2020</td>\n",
       "      <td>tm946360</td>\n",
       "    </tr>\n",
       "    <tr>\n",
       "      <th>3</th>\n",
       "      <td>An LA girl, unlucky in love, falls for an East Coast guy on a dating app and decides to surprise him for the holidays, only to discover that she's been catfished. This lighthearted romantic comedy...</td>\n",
       "      <td>Love Hard</td>\n",
       "      <td>romance comedy</td>\n",
       "      <td>2021</td>\n",
       "      <td>tm1093099</td>\n",
       "    </tr>\n",
       "    <tr>\n",
       "      <th>4</th>\n",
       "      <td>Romantic anthology web series revolving around 12 stories of 12 months of young people on their paths to love.</td>\n",
       "      <td>Love Daily</td>\n",
       "      <td>drama romance</td>\n",
       "      <td>2018</td>\n",
       "      <td>ts90869</td>\n",
       "    </tr>\n",
       "    <tr>\n",
       "      <th>5</th>\n",
       "      <td>Adam and Marklin’s 5-year relationship has gone from a passionate flame to a simmer, forcing them to reconcile with each other’s shortcomings while their friends endlessly search for love in New Y...</td>\n",
       "      <td>Almost Love</td>\n",
       "      <td>comedy drama romance</td>\n",
       "      <td>2019</td>\n",
       "      <td>tm472195</td>\n",
       "    </tr>\n",
       "    <tr>\n",
       "      <th>6</th>\n",
       "      <td>Laida Magtalas is a modern-day Belle who works hard to provide for her family while hoping that someday she will meet her prince charming and that they will live happily ever after together. That ...</td>\n",
       "      <td>A Very Special Love</td>\n",
       "      <td>comedy drama romance</td>\n",
       "      <td>2008</td>\n",
       "      <td>tm28024</td>\n",
       "    </tr>\n",
       "    <tr>\n",
       "      <th>7</th>\n",
       "      <td>Two young kids fall in love with each other. But the passion is too consuming for the parents of Jade. The parents try to stop them from seeing each other. But when this doesn't work, David burns ...</td>\n",
       "      <td>Endless Love</td>\n",
       "      <td>romance drama</td>\n",
       "      <td>1981</td>\n",
       "      <td>tm130586</td>\n",
       "    </tr>\n",
       "    <tr>\n",
       "      <th>8</th>\n",
       "      <td>Love is as tough as it is sweet for a lovestruck teenager, whose relationship with her next-door neighbor transforms as they grow into adulthood.</td>\n",
       "      <td>A Love So Beautiful</td>\n",
       "      <td>comedy drama</td>\n",
       "      <td>2020</td>\n",
       "      <td>ts357033</td>\n",
       "    </tr>\n",
       "    <tr>\n",
       "      <th>9</th>\n",
       "      <td>A young woman develops romantic feelings for her best friend, but problems arise when another gal enters the picture.</td>\n",
       "      <td>Must Be... Love</td>\n",
       "      <td>comedy romance</td>\n",
       "      <td>2013</td>\n",
       "      <td>tm188290</td>\n",
       "    </tr>\n",
       "  </tbody>\n",
       "</table>\n",
       "</div>"
      ],
      "text/plain": [
       "                                                                                                                                                                                               description  \\\n",
       "0  'Love Actually' follows the lives of eight very different couples dealing with their love lives, in various loosely and interrelated tales, all set during a frantic month before Christmas in Londo...   \n",
       "1                                                                                                         Rebellious Mickey and good-natured Gus navigate the thrills and agonies of modern relationships.   \n",
       "2                                                                  A rising black painter tries to break into a competitive art world while balancing an unexpected romance with an ambitious law student.   \n",
       "3  An LA girl, unlucky in love, falls for an East Coast guy on a dating app and decides to surprise him for the holidays, only to discover that she's been catfished. This lighthearted romantic comedy...   \n",
       "4                                                                                           Romantic anthology web series revolving around 12 stories of 12 months of young people on their paths to love.   \n",
       "5  Adam and Marklin’s 5-year relationship has gone from a passionate flame to a simmer, forcing them to reconcile with each other’s shortcomings while their friends endlessly search for love in New Y...   \n",
       "6  Laida Magtalas is a modern-day Belle who works hard to provide for her family while hoping that someday she will meet her prince charming and that they will live happily ever after together. That ...   \n",
       "7  Two young kids fall in love with each other. But the passion is too consuming for the parents of Jade. The parents try to stop them from seeing each other. But when this doesn't work, David burns ...   \n",
       "8                                                        Love is as tough as it is sweet for a lovestruck teenager, whose relationship with her next-door neighbor transforms as they grow into adulthood.   \n",
       "9                                                                                    A young woman develops romantic feelings for her best friend, but problems arise when another gal enters the picture.   \n",
       "\n",
       "                 title                genres  release_year         id  \n",
       "0        Love Actually  drama comedy romance          2003   tm133767  \n",
       "1                 Love  comedy drama romance          2016    ts38511  \n",
       "2          Really Love         romance drama          2020   tm946360  \n",
       "3            Love Hard        romance comedy          2021  tm1093099  \n",
       "4           Love Daily         drama romance          2018    ts90869  \n",
       "5          Almost Love  comedy drama romance          2019   tm472195  \n",
       "6  A Very Special Love  comedy drama romance          2008    tm28024  \n",
       "7         Endless Love         romance drama          1981   tm130586  \n",
       "8  A Love So Beautiful          comedy drama          2020   ts357033  \n",
       "9      Must Be... Love        comedy romance          2013   tm188290  "
      ]
     },
     "execution_count": 18,
     "metadata": {},
     "output_type": "execute_result"
    }
   ],
   "source": [
    "result = app.query(\n",
    "    advanced_query,\n",
    "    description_query_text=\"Heartfelt lovely romantic comedy for a cold autumn evening.\",\n",
    "    title_query_text=\"love\",\n",
    "    genre_query_text=\"drama comedy romantic\",\n",
    "    description_weight=1,\n",
    "    title_weight=1,\n",
    "    genre_weight=1,\n",
    "    recency_weight=0\n",
    ")\n",
    "\n",
    "present_result(result)"
   ]
  },
  {
   "cell_type": "markdown",
   "id": "c37b470e-760c-41c2-bcea-416f77898087",
   "metadata": {},
   "source": [
    "And even give different weights to each subsearch if I really do care that the title is related to love but I am not really emotionally attached to my description of the movie I would want to see."
   ]
  },
  {
   "cell_type": "code",
   "execution_count": 19,
   "id": "e2982995-08f7-4ac9-8398-925d8227591b",
   "metadata": {},
   "outputs": [
    {
     "data": {
      "text/html": [
       "<div>\n",
       "<style scoped>\n",
       "    .dataframe tbody tr th:only-of-type {\n",
       "        vertical-align: middle;\n",
       "    }\n",
       "\n",
       "    .dataframe tbody tr th {\n",
       "        vertical-align: top;\n",
       "    }\n",
       "\n",
       "    .dataframe thead th {\n",
       "        text-align: right;\n",
       "    }\n",
       "</style>\n",
       "<table border=\"1\" class=\"dataframe\">\n",
       "  <thead>\n",
       "    <tr style=\"text-align: right;\">\n",
       "      <th></th>\n",
       "      <th>description</th>\n",
       "      <th>title</th>\n",
       "      <th>genres</th>\n",
       "      <th>release_year</th>\n",
       "      <th>id</th>\n",
       "    </tr>\n",
       "  </thead>\n",
       "  <tbody>\n",
       "    <tr>\n",
       "      <th>0</th>\n",
       "      <td>Rebellious Mickey and good-natured Gus navigate the thrills and agonies of modern relationships.</td>\n",
       "      <td>Love</td>\n",
       "      <td>comedy drama romance</td>\n",
       "      <td>2016</td>\n",
       "      <td>ts38511</td>\n",
       "    </tr>\n",
       "    <tr>\n",
       "      <th>1</th>\n",
       "      <td>'Love Actually' follows the lives of eight very different couples dealing with their love lives, in various loosely and interrelated tales, all set during a frantic month before Christmas in Londo...</td>\n",
       "      <td>Love Actually</td>\n",
       "      <td>drama comedy romance</td>\n",
       "      <td>2003</td>\n",
       "      <td>tm133767</td>\n",
       "    </tr>\n",
       "    <tr>\n",
       "      <th>2</th>\n",
       "      <td>The story of a family and the various situations navigated by a husband and wife.</td>\n",
       "      <td>Love</td>\n",
       "      <td>thriller drama</td>\n",
       "      <td>2020</td>\n",
       "      <td>tm946277</td>\n",
       "    </tr>\n",
       "    <tr>\n",
       "      <th>3</th>\n",
       "      <td>A rising black painter tries to break into a competitive art world while balancing an unexpected romance with an ambitious law student.</td>\n",
       "      <td>Really Love</td>\n",
       "      <td>romance drama</td>\n",
       "      <td>2020</td>\n",
       "      <td>tm946360</td>\n",
       "    </tr>\n",
       "    <tr>\n",
       "      <th>4</th>\n",
       "      <td>Adam and Marklin’s 5-year relationship has gone from a passionate flame to a simmer, forcing them to reconcile with each other’s shortcomings while their friends endlessly search for love in New Y...</td>\n",
       "      <td>Almost Love</td>\n",
       "      <td>comedy drama romance</td>\n",
       "      <td>2019</td>\n",
       "      <td>tm472195</td>\n",
       "    </tr>\n",
       "    <tr>\n",
       "      <th>5</th>\n",
       "      <td>Two young kids fall in love with each other. But the passion is too consuming for the parents of Jade. The parents try to stop them from seeing each other. But when this doesn't work, David burns ...</td>\n",
       "      <td>Endless Love</td>\n",
       "      <td>romance drama</td>\n",
       "      <td>1981</td>\n",
       "      <td>tm130586</td>\n",
       "    </tr>\n",
       "    <tr>\n",
       "      <th>6</th>\n",
       "      <td>The story of Richard and Mildred Loving, an interracial couple, whose challenge of their anti-miscegenation arrest for their marriage in Virginia led to a legal battle that would end at the US Sup...</td>\n",
       "      <td>Loving</td>\n",
       "      <td>drama romance</td>\n",
       "      <td>2016</td>\n",
       "      <td>tm219233</td>\n",
       "    </tr>\n",
       "    <tr>\n",
       "      <th>7</th>\n",
       "      <td>Laida Magtalas is a modern-day Belle who works hard to provide for her family while hoping that someday she will meet her prince charming and that they will live happily ever after together. That ...</td>\n",
       "      <td>A Very Special Love</td>\n",
       "      <td>comedy drama romance</td>\n",
       "      <td>2008</td>\n",
       "      <td>tm28024</td>\n",
       "    </tr>\n",
       "    <tr>\n",
       "      <th>8</th>\n",
       "      <td>Love, Now is a 72 episode Taiwanese idol romance drama television series created and developed by SETTV. It stars Annie Chen, George Hu as the main leads and Bobby Dou, Harry Chang from Taiwanese ...</td>\n",
       "      <td>Love, Now</td>\n",
       "      <td>drama</td>\n",
       "      <td>2012</td>\n",
       "      <td>ts69208</td>\n",
       "    </tr>\n",
       "    <tr>\n",
       "      <th>9</th>\n",
       "      <td>Ian Montes is a picture of success. Despite being a son of a shipping tycoon, Ian refused to just ride in his father's empire. He built his own real estate company and earned his first million at ...</td>\n",
       "      <td>A Love Story</td>\n",
       "      <td>drama romance</td>\n",
       "      <td>2007</td>\n",
       "      <td>tm76399</td>\n",
       "    </tr>\n",
       "  </tbody>\n",
       "</table>\n",
       "</div>"
      ],
      "text/plain": [
       "                                                                                                                                                                                               description  \\\n",
       "0                                                                                                         Rebellious Mickey and good-natured Gus navigate the thrills and agonies of modern relationships.   \n",
       "1  'Love Actually' follows the lives of eight very different couples dealing with their love lives, in various loosely and interrelated tales, all set during a frantic month before Christmas in Londo...   \n",
       "2                                                                                                                        The story of a family and the various situations navigated by a husband and wife.   \n",
       "3                                                                  A rising black painter tries to break into a competitive art world while balancing an unexpected romance with an ambitious law student.   \n",
       "4  Adam and Marklin’s 5-year relationship has gone from a passionate flame to a simmer, forcing them to reconcile with each other’s shortcomings while their friends endlessly search for love in New Y...   \n",
       "5  Two young kids fall in love with each other. But the passion is too consuming for the parents of Jade. The parents try to stop them from seeing each other. But when this doesn't work, David burns ...   \n",
       "6  The story of Richard and Mildred Loving, an interracial couple, whose challenge of their anti-miscegenation arrest for their marriage in Virginia led to a legal battle that would end at the US Sup...   \n",
       "7  Laida Magtalas is a modern-day Belle who works hard to provide for her family while hoping that someday she will meet her prince charming and that they will live happily ever after together. That ...   \n",
       "8  Love, Now is a 72 episode Taiwanese idol romance drama television series created and developed by SETTV. It stars Annie Chen, George Hu as the main leads and Bobby Dou, Harry Chang from Taiwanese ...   \n",
       "9  Ian Montes is a picture of success. Despite being a son of a shipping tycoon, Ian refused to just ride in his father's empire. He built his own real estate company and earned his first million at ...   \n",
       "\n",
       "                 title                genres  release_year        id  \n",
       "0                 Love  comedy drama romance          2016   ts38511  \n",
       "1        Love Actually  drama comedy romance          2003  tm133767  \n",
       "2                 Love        thriller drama          2020  tm946277  \n",
       "3          Really Love         romance drama          2020  tm946360  \n",
       "4          Almost Love  comedy drama romance          2019  tm472195  \n",
       "5         Endless Love         romance drama          1981  tm130586  \n",
       "6               Loving         drama romance          2016  tm219233  \n",
       "7  A Very Special Love  comedy drama romance          2008   tm28024  \n",
       "8            Love, Now                 drama          2012   ts69208  \n",
       "9         A Love Story         drama romance          2007   tm76399  "
      ]
     },
     "execution_count": 19,
     "metadata": {},
     "output_type": "execute_result"
    }
   ],
   "source": [
    "result = app.query(\n",
    "    advanced_query,\n",
    "    description_query_text=\"Heartfelt lovely romantic comedy for a cold autumn evening.\",\n",
    "    title_query_text=\"love\",\n",
    "    genre_query_text=\"drama comedy romantic\",\n",
    "    description_weight=0.2,\n",
    "    title_weight=3,\n",
    "    genre_weight=1,\n",
    "    recency_weight=0\n",
    ")\n",
    "\n",
    "present_result(result)"
   ]
  },
  {
   "cell_type": "markdown",
   "id": "cb343f08-4c5b-4dee-a41f-0944f81aeddd",
   "metadata": {},
   "source": [
    "Then I can bias again towards recent movies"
   ]
  },
  {
   "cell_type": "code",
   "execution_count": 20,
   "id": "852cdad9-c8aa-4f0c-84e5-b39975d654d6",
   "metadata": {},
   "outputs": [
    {
     "data": {
      "text/html": [
       "<div>\n",
       "<style scoped>\n",
       "    .dataframe tbody tr th:only-of-type {\n",
       "        vertical-align: middle;\n",
       "    }\n",
       "\n",
       "    .dataframe tbody tr th {\n",
       "        vertical-align: top;\n",
       "    }\n",
       "\n",
       "    .dataframe thead th {\n",
       "        text-align: right;\n",
       "    }\n",
       "</style>\n",
       "<table border=\"1\" class=\"dataframe\">\n",
       "  <thead>\n",
       "    <tr style=\"text-align: right;\">\n",
       "      <th></th>\n",
       "      <th>description</th>\n",
       "      <th>title</th>\n",
       "      <th>genres</th>\n",
       "      <th>release_year</th>\n",
       "      <th>id</th>\n",
       "    </tr>\n",
       "  </thead>\n",
       "  <tbody>\n",
       "    <tr>\n",
       "      <th>0</th>\n",
       "      <td>After his ad agency goes bankrupt, an indebted Fırat falls for a singer at a yoga retreat and joins her on a journey of self-realization.</td>\n",
       "      <td>Doom of Love</td>\n",
       "      <td>romance drama</td>\n",
       "      <td>2022</td>\n",
       "      <td>tm1218702</td>\n",
       "    </tr>\n",
       "    <tr>\n",
       "      <th>1</th>\n",
       "      <td>An ad executive and a fashion designer-blogger don't believe in love, so they place a bet to make the other fall head over heels - with unusual tactics.</td>\n",
       "      <td>Love Tactics</td>\n",
       "      <td>comedy romance</td>\n",
       "      <td>2022</td>\n",
       "      <td>tm1152224</td>\n",
       "    </tr>\n",
       "    <tr>\n",
       "      <th>2</th>\n",
       "      <td>Fidelity tells a story of marital fidelity, in particular the one of Carlo and Margherita, a young couple who needs to face the deflagrant consequences of an alleged betrayal. Their relationship b...</td>\n",
       "      <td>Devotion, a Story of Love and Desire</td>\n",
       "      <td>drama romance</td>\n",
       "      <td>2022</td>\n",
       "      <td>ts280892</td>\n",
       "    </tr>\n",
       "    <tr>\n",
       "      <th>3</th>\n",
       "      <td>This black humor pan-Arabic anthology series is about love in general – and relationships in particular.</td>\n",
       "      <td>Love, Life &amp; Everything in Between</td>\n",
       "      <td>comedy drama romance</td>\n",
       "      <td>2022</td>\n",
       "      <td>ts329711</td>\n",
       "    </tr>\n",
       "    <tr>\n",
       "      <th>4</th>\n",
       "      <td>A modern love story set in the near future where an AI building is powered by human feelings. Due to a software glitch, it falls in love with a real girl, escapes the building into the body of a r...</td>\n",
       "      <td>AI Love You</td>\n",
       "      <td>scifi comedy romance drama</td>\n",
       "      <td>2022</td>\n",
       "      <td>tm1160424</td>\n",
       "    </tr>\n",
       "    <tr>\n",
       "      <th>5</th>\n",
       "      <td>Often (mis)guided by a cheeky imaginary wizard, an awkward and lonely 20-something struggles to get out of his own way in his quest for a girlfriend.</td>\n",
       "      <td>Eternally Confused and Eager for Love</td>\n",
       "      <td>comedy romance</td>\n",
       "      <td>2022</td>\n",
       "      <td>ts330012</td>\n",
       "    </tr>\n",
       "    <tr>\n",
       "      <th>6</th>\n",
       "      <td>An LA girl, unlucky in love, falls for an East Coast guy on a dating app and decides to surprise him for the holidays, only to discover that she's been catfished. This lighthearted romantic comedy...</td>\n",
       "      <td>Love Hard</td>\n",
       "      <td>romance comedy</td>\n",
       "      <td>2021</td>\n",
       "      <td>tm1093099</td>\n",
       "    </tr>\n",
       "    <tr>\n",
       "      <th>7</th>\n",
       "      <td>The story of a family and the various situations navigated by a husband and wife.</td>\n",
       "      <td>Love</td>\n",
       "      <td>thriller drama</td>\n",
       "      <td>2020</td>\n",
       "      <td>tm946277</td>\n",
       "    </tr>\n",
       "    <tr>\n",
       "      <th>8</th>\n",
       "      <td>Haruto Asakura falls in love with hairdresser Misaki Ariake and asks her out. Watching Misaki Ariake work hard to achieve what she wants, Haruto Asakura, who almost gave up his dream to become a p...</td>\n",
       "      <td>Love Like the Falling Petals</td>\n",
       "      <td>drama romance</td>\n",
       "      <td>2022</td>\n",
       "      <td>tm1119015</td>\n",
       "    </tr>\n",
       "    <tr>\n",
       "      <th>9</th>\n",
       "      <td>Inside a national weather service, love proves just as difficult to predict as rain or shine for a diligent forecaster and her free-spirited co-worker.</td>\n",
       "      <td>Forecasting Love and Weather</td>\n",
       "      <td>drama romance</td>\n",
       "      <td>2022</td>\n",
       "      <td>ts319412</td>\n",
       "    </tr>\n",
       "  </tbody>\n",
       "</table>\n",
       "</div>"
      ],
      "text/plain": [
       "                                                                                                                                                                                               description  \\\n",
       "0                                                                After his ad agency goes bankrupt, an indebted Fırat falls for a singer at a yoga retreat and joins her on a journey of self-realization.   \n",
       "1                                                 An ad executive and a fashion designer-blogger don't believe in love, so they place a bet to make the other fall head over heels - with unusual tactics.   \n",
       "2  Fidelity tells a story of marital fidelity, in particular the one of Carlo and Margherita, a young couple who needs to face the deflagrant consequences of an alleged betrayal. Their relationship b...   \n",
       "3                                                                                                 This black humor pan-Arabic anthology series is about love in general – and relationships in particular.   \n",
       "4  A modern love story set in the near future where an AI building is powered by human feelings. Due to a software glitch, it falls in love with a real girl, escapes the building into the body of a r...   \n",
       "5                                                    Often (mis)guided by a cheeky imaginary wizard, an awkward and lonely 20-something struggles to get out of his own way in his quest for a girlfriend.   \n",
       "6  An LA girl, unlucky in love, falls for an East Coast guy on a dating app and decides to surprise him for the holidays, only to discover that she's been catfished. This lighthearted romantic comedy...   \n",
       "7                                                                                                                        The story of a family and the various situations navigated by a husband and wife.   \n",
       "8  Haruto Asakura falls in love with hairdresser Misaki Ariake and asks her out. Watching Misaki Ariake work hard to achieve what she wants, Haruto Asakura, who almost gave up his dream to become a p...   \n",
       "9                                                  Inside a national weather service, love proves just as difficult to predict as rain or shine for a diligent forecaster and her free-spirited co-worker.   \n",
       "\n",
       "                                   title                      genres  \\\n",
       "0                           Doom of Love               romance drama   \n",
       "1                           Love Tactics              comedy romance   \n",
       "2   Devotion, a Story of Love and Desire               drama romance   \n",
       "3     Love, Life & Everything in Between        comedy drama romance   \n",
       "4                            AI Love You  scifi comedy romance drama   \n",
       "5  Eternally Confused and Eager for Love              comedy romance   \n",
       "6                              Love Hard              romance comedy   \n",
       "7                                   Love              thriller drama   \n",
       "8           Love Like the Falling Petals               drama romance   \n",
       "9           Forecasting Love and Weather               drama romance   \n",
       "\n",
       "   release_year         id  \n",
       "0          2022  tm1218702  \n",
       "1          2022  tm1152224  \n",
       "2          2022   ts280892  \n",
       "3          2022   ts329711  \n",
       "4          2022  tm1160424  \n",
       "5          2022   ts330012  \n",
       "6          2021  tm1093099  \n",
       "7          2020   tm946277  \n",
       "8          2022  tm1119015  \n",
       "9          2022   ts319412  "
      ]
     },
     "execution_count": 20,
     "metadata": {},
     "output_type": "execute_result"
    }
   ],
   "source": [
    "result = app.query(\n",
    "    advanced_query,\n",
    "    description_query_text=\"Heartfelt lovely romantic comedy for a cold autumn evening.\",\n",
    "    title_query_text=\"love\",\n",
    "    genre_query_text=\"drama comedy romantic\",\n",
    "    description_weight=0.2,\n",
    "    title_weight=3,\n",
    "    genre_weight=1,\n",
    "    recency_weight=5\n",
    ")\n",
    "\n",
    "present_result(result)"
   ]
  },
  {
   "cell_type": "markdown",
   "id": "04219f19-6857-4822-bf61-32f3893df736",
   "metadata": {},
   "source": [
    "Or maybe to older ones"
   ]
  },
  {
   "cell_type": "code",
   "execution_count": 21,
   "id": "7033a82a-5f04-4c7b-aa7c-e3122d8c7709",
   "metadata": {},
   "outputs": [
    {
     "data": {
      "text/html": [
       "<div>\n",
       "<style scoped>\n",
       "    .dataframe tbody tr th:only-of-type {\n",
       "        vertical-align: middle;\n",
       "    }\n",
       "\n",
       "    .dataframe tbody tr th {\n",
       "        vertical-align: top;\n",
       "    }\n",
       "\n",
       "    .dataframe thead th {\n",
       "        text-align: right;\n",
       "    }\n",
       "</style>\n",
       "<table border=\"1\" class=\"dataframe\">\n",
       "  <thead>\n",
       "    <tr style=\"text-align: right;\">\n",
       "      <th></th>\n",
       "      <th>description</th>\n",
       "      <th>title</th>\n",
       "      <th>genres</th>\n",
       "      <th>release_year</th>\n",
       "      <th>id</th>\n",
       "    </tr>\n",
       "  </thead>\n",
       "  <tbody>\n",
       "    <tr>\n",
       "      <th>0</th>\n",
       "      <td>Two young kids fall in love with each other. But the passion is too consuming for the parents of Jade. The parents try to stop them from seeing each other. But when this doesn't work, David burns ...</td>\n",
       "      <td>Endless Love</td>\n",
       "      <td>romance drama</td>\n",
       "      <td>1981</td>\n",
       "      <td>tm130586</td>\n",
       "    </tr>\n",
       "    <tr>\n",
       "      <th>1</th>\n",
       "      <td>Anil, a street singer, is humiliated and driven out of Bombay along with his mother. However, he soon becomes a famous performer but the enemies from his past try to destroy his hard-earned career.</td>\n",
       "      <td>Disco Dancer</td>\n",
       "      <td>drama romance</td>\n",
       "      <td>1982</td>\n",
       "      <td>tm52815</td>\n",
       "    </tr>\n",
       "    <tr>\n",
       "      <th>2</th>\n",
       "      <td>An honest man dreams of a better life for his family, but a childhood friend leads him into a world of crime that keeps happiness just out of reach.</td>\n",
       "      <td>Ujala</td>\n",
       "      <td>romance crime drama</td>\n",
       "      <td>1959</td>\n",
       "      <td>tm358653</td>\n",
       "    </tr>\n",
       "    <tr>\n",
       "      <th>3</th>\n",
       "      <td>Two talented song-and-dance men team up after the war to become one of the hottest acts in show business. In time they befriend and become romantically involved with the beautiful Haynes sisters w...</td>\n",
       "      <td>White Christmas</td>\n",
       "      <td>romance comedy</td>\n",
       "      <td>1954</td>\n",
       "      <td>tm16479</td>\n",
       "    </tr>\n",
       "    <tr>\n",
       "      <th>4</th>\n",
       "      <td>Brian Cohen is an average young Jewish man, but through a series of ridiculous events, he gains a reputation as the Messiah. When he's not dodging his followers or being scolded by his shrill moth...</td>\n",
       "      <td>Life of Brian</td>\n",
       "      <td>comedy</td>\n",
       "      <td>1979</td>\n",
       "      <td>tm70993</td>\n",
       "    </tr>\n",
       "    <tr>\n",
       "      <th>5</th>\n",
       "      <td>Geeky student Arnie Cunningham falls for Christine, a rusty 1958 Plymouth Fury, and becomes obsessed with restoring the classic automobile to her former glory. As the car changes, so does Arnie, w...</td>\n",
       "      <td>Christine</td>\n",
       "      <td>horror thriller european</td>\n",
       "      <td>1983</td>\n",
       "      <td>tm54450</td>\n",
       "    </tr>\n",
       "    <tr>\n",
       "      <th>6</th>\n",
       "      <td>Maharaj Brajbhan lives a wealthy lifestyle in Bharatpur, India along with his wife, Badi Rani, but have been unable to conceive for Bharatpur, and have no choice but to leave it's reigns with Braj...</td>\n",
       "      <td>Bandie</td>\n",
       "      <td>drama action romance</td>\n",
       "      <td>1978</td>\n",
       "      <td>tm16812</td>\n",
       "    </tr>\n",
       "    <tr>\n",
       "      <th>7</th>\n",
       "      <td>Shahjada Ijjat Beg comes to India with his caravan and settles in a town in Gujrat. Here he falls in love with Sohani, who keeps a shop in metal pots. Ijjat Beg buys pot from her with whatever mon...</td>\n",
       "      <td>Sohni Mahiwal</td>\n",
       "      <td>romance drama action</td>\n",
       "      <td>1984</td>\n",
       "      <td>tm172482</td>\n",
       "    </tr>\n",
       "    <tr>\n",
       "      <th>8</th>\n",
       "      <td>Two small children and a ship's cook survive a shipwreck and find safety on an idyllic tropical island. Soon, however, the cook dies and the young boy and girl are left on their own. Days become y...</td>\n",
       "      <td>The Blue Lagoon</td>\n",
       "      <td>romance action drama</td>\n",
       "      <td>1980</td>\n",
       "      <td>tm98978</td>\n",
       "    </tr>\n",
       "    <tr>\n",
       "      <th>9</th>\n",
       "      <td>In the 1930s, bored waitress Bonnie Parker falls in love with an ex-con named Clyde Barrow and together they start a violent crime spree through the country, stealing cars and robbing banks.</td>\n",
       "      <td>Bonnie and Clyde</td>\n",
       "      <td>crime drama action</td>\n",
       "      <td>1967</td>\n",
       "      <td>tm119281</td>\n",
       "    </tr>\n",
       "  </tbody>\n",
       "</table>\n",
       "</div>"
      ],
      "text/plain": [
       "                                                                                                                                                                                               description  \\\n",
       "0  Two young kids fall in love with each other. But the passion is too consuming for the parents of Jade. The parents try to stop them from seeing each other. But when this doesn't work, David burns ...   \n",
       "1    Anil, a street singer, is humiliated and driven out of Bombay along with his mother. However, he soon becomes a famous performer but the enemies from his past try to destroy his hard-earned career.   \n",
       "2                                                     An honest man dreams of a better life for his family, but a childhood friend leads him into a world of crime that keeps happiness just out of reach.   \n",
       "3  Two talented song-and-dance men team up after the war to become one of the hottest acts in show business. In time they befriend and become romantically involved with the beautiful Haynes sisters w...   \n",
       "4  Brian Cohen is an average young Jewish man, but through a series of ridiculous events, he gains a reputation as the Messiah. When he's not dodging his followers or being scolded by his shrill moth...   \n",
       "5  Geeky student Arnie Cunningham falls for Christine, a rusty 1958 Plymouth Fury, and becomes obsessed with restoring the classic automobile to her former glory. As the car changes, so does Arnie, w...   \n",
       "6  Maharaj Brajbhan lives a wealthy lifestyle in Bharatpur, India along with his wife, Badi Rani, but have been unable to conceive for Bharatpur, and have no choice but to leave it's reigns with Braj...   \n",
       "7  Shahjada Ijjat Beg comes to India with his caravan and settles in a town in Gujrat. Here he falls in love with Sohani, who keeps a shop in metal pots. Ijjat Beg buys pot from her with whatever mon...   \n",
       "8  Two small children and a ship's cook survive a shipwreck and find safety on an idyllic tropical island. Soon, however, the cook dies and the young boy and girl are left on their own. Days become y...   \n",
       "9           In the 1930s, bored waitress Bonnie Parker falls in love with an ex-con named Clyde Barrow and together they start a violent crime spree through the country, stealing cars and robbing banks.   \n",
       "\n",
       "              title                    genres  release_year        id  \n",
       "0      Endless Love             romance drama          1981  tm130586  \n",
       "1      Disco Dancer             drama romance          1982   tm52815  \n",
       "2             Ujala       romance crime drama          1959  tm358653  \n",
       "3   White Christmas            romance comedy          1954   tm16479  \n",
       "4     Life of Brian                    comedy          1979   tm70993  \n",
       "5         Christine  horror thriller european          1983   tm54450  \n",
       "6            Bandie      drama action romance          1978   tm16812  \n",
       "7     Sohni Mahiwal      romance drama action          1984  tm172482  \n",
       "8   The Blue Lagoon      romance action drama          1980   tm98978  \n",
       "9  Bonnie and Clyde        crime drama action          1967  tm119281  "
      ]
     },
     "execution_count": 21,
     "metadata": {},
     "output_type": "execute_result"
    }
   ],
   "source": [
    "result = app.query(\n",
    "    advanced_query,\n",
    "    description_query_text=\"Heartfelt lovely romantic comedy for a cold autumn evening.\",\n",
    "    title_query_text=\"love\",\n",
    "    genre_query_text=\"drama comedy romantic\",\n",
    "    description_weight=0.2,\n",
    "    title_weight=3,\n",
    "    genre_weight=1,\n",
    "    recency_weight=-10\n",
    ")\n",
    "\n",
    "present_result(result)"
   ]
  },
  {
   "cell_type": "markdown",
   "id": "9a922c32-891a-4826-ab0e-fc5f091e4791",
   "metadata": {},
   "source": [
    "notice that every movie before 1984 has the same recency score as our largest period time is 40 years."
   ]
  },
  {
   "cell_type": "markdown",
   "id": "6c86e22d-77d0-41a8-bc94-526bf341622a",
   "metadata": {},
   "source": [
    "### Search with a movie and queries\n",
    "\n",
    "Now I found a movie in the last result set that I have already seen but I would love something similar. White Christmas (1954) is a story about people forming a rock-band and of course there is some love along the way. It has the id \"tm16479\".\n",
    "\n",
    "I can query my dataset using this movie, too! Let's adjust the defined query first:"
   ]
  },
  {
   "cell_type": "code",
   "execution_count": 22,
   "id": "bd21e6cf-c901-469c-a59f-7aa0905e8157",
   "metadata": {},
   "outputs": [],
   "source": [
    "with_movie_query = advanced_query.with_vector(movie, Param(\"movie_id\"))"
   ]
  },
  {
   "cell_type": "markdown",
   "id": "5ec8badd-1082-4512-8953-c2c6e187f653",
   "metadata": {},
   "source": [
    "with this modification, I can add a movie from the dataset to the search.\n",
    "\n",
    "Let's first just focus on movies with similar descriptions. The first result will of course be the movie we are searching with."
   ]
  },
  {
   "cell_type": "code",
   "execution_count": 23,
   "id": "c957320a-9ab2-4377-b14b-48d6e7e564b6",
   "metadata": {},
   "outputs": [
    {
     "data": {
      "text/html": [
       "<div>\n",
       "<style scoped>\n",
       "    .dataframe tbody tr th:only-of-type {\n",
       "        vertical-align: middle;\n",
       "    }\n",
       "\n",
       "    .dataframe tbody tr th {\n",
       "        vertical-align: top;\n",
       "    }\n",
       "\n",
       "    .dataframe thead th {\n",
       "        text-align: right;\n",
       "    }\n",
       "</style>\n",
       "<table border=\"1\" class=\"dataframe\">\n",
       "  <thead>\n",
       "    <tr style=\"text-align: right;\">\n",
       "      <th></th>\n",
       "      <th>description</th>\n",
       "      <th>title</th>\n",
       "      <th>genres</th>\n",
       "      <th>release_year</th>\n",
       "      <th>id</th>\n",
       "    </tr>\n",
       "  </thead>\n",
       "  <tbody>\n",
       "    <tr>\n",
       "      <th>0</th>\n",
       "      <td>Two talented song-and-dance men team up after the war to become one of the hottest acts in show business. In time they befriend and become romantically involved with the beautiful Haynes sisters w...</td>\n",
       "      <td>White Christmas</td>\n",
       "      <td>romance comedy</td>\n",
       "      <td>1954</td>\n",
       "      <td>tm16479</td>\n",
       "    </tr>\n",
       "    <tr>\n",
       "      <th>1</th>\n",
       "      <td>Aditya, Joe, Kedar and Rob form a rock band, but break up after they fail to make a success of it. They establish regular lives until they decide to reunite and take another shot at fulfilling the...</td>\n",
       "      <td>Rock On!!</td>\n",
       "      <td>drama music</td>\n",
       "      <td>2008</td>\n",
       "      <td>tm37945</td>\n",
       "    </tr>\n",
       "    <tr>\n",
       "      <th>2</th>\n",
       "      <td>Go backstage with French rap duo Bigflo &amp; Oli in this intimate music documentary, then join the superstar siblings as they embark on a major tour.</td>\n",
       "      <td>Bigflo &amp; Oli: Hip Hop Frenzy</td>\n",
       "      <td>documentation music</td>\n",
       "      <td>2020</td>\n",
       "      <td>tm937044</td>\n",
       "    </tr>\n",
       "    <tr>\n",
       "      <th>3</th>\n",
       "      <td>A dream of the hope for intimacy and love in a brutal, divisive world.</td>\n",
       "      <td>Condom Lead</td>\n",
       "      <td>drama</td>\n",
       "      <td>2013</td>\n",
       "      <td>tm1036195</td>\n",
       "    </tr>\n",
       "    <tr>\n",
       "      <th>4</th>\n",
       "      <td>A duo of street performers learns how sound and picture work together to create amazing cinema experiences.</td>\n",
       "      <td>Silent</td>\n",
       "      <td>animation family action</td>\n",
       "      <td>2014</td>\n",
       "      <td>tm137379</td>\n",
       "    </tr>\n",
       "    <tr>\n",
       "      <th>5</th>\n",
       "      <td>Childhood friends Suresh and Vinnie want to become successful dancers. To fulfill their dreams, they form a dance group with their friends and compete in a hip-hop contest in Las Vegas.</td>\n",
       "      <td>ABCD 2</td>\n",
       "      <td>music drama</td>\n",
       "      <td>2015</td>\n",
       "      <td>tm207668</td>\n",
       "    </tr>\n",
       "    <tr>\n",
       "      <th>6</th>\n",
       "      <td>This documentary spotlights Debbie Allen's career and follows her group of dance students as they prepare for Allen's annual \"Hot Chocolate Nutcracker,\" a reimagining of the classic ballet.</td>\n",
       "      <td>Dance Dreams: Hot Chocolate Nutcracker</td>\n",
       "      <td>documentation family</td>\n",
       "      <td>2020</td>\n",
       "      <td>tm946927</td>\n",
       "    </tr>\n",
       "    <tr>\n",
       "      <th>7</th>\n",
       "      <td>Follow the lives of an elite group of young dancers who train at The Next Step Studio.</td>\n",
       "      <td>The Next Step</td>\n",
       "      <td>drama family romance</td>\n",
       "      <td>2013</td>\n",
       "      <td>ts35282</td>\n",
       "    </tr>\n",
       "    <tr>\n",
       "      <th>8</th>\n",
       "      <td>Sing along and dance with Bailey, Franny, Kip, Lulu and Tilly in this collection of music videos that will get you in the mood to move and groove!</td>\n",
       "      <td>Word Party Songs</td>\n",
       "      <td>animation family</td>\n",
       "      <td>2020</td>\n",
       "      <td>ts251607</td>\n",
       "    </tr>\n",
       "    <tr>\n",
       "      <th>9</th>\n",
       "      <td>Nine struggling musicians share the spotlight in this deeply personal reality series about the challenges and thrills of staging a Hollywood showcase.</td>\n",
       "      <td>Westside</td>\n",
       "      <td>reality</td>\n",
       "      <td>2018</td>\n",
       "      <td>ts84644</td>\n",
       "    </tr>\n",
       "  </tbody>\n",
       "</table>\n",
       "</div>"
      ],
      "text/plain": [
       "                                                                                                                                                                                               description  \\\n",
       "0  Two talented song-and-dance men team up after the war to become one of the hottest acts in show business. In time they befriend and become romantically involved with the beautiful Haynes sisters w...   \n",
       "1  Aditya, Joe, Kedar and Rob form a rock band, but break up after they fail to make a success of it. They establish regular lives until they decide to reunite and take another shot at fulfilling the...   \n",
       "2                                                       Go backstage with French rap duo Bigflo & Oli in this intimate music documentary, then join the superstar siblings as they embark on a major tour.   \n",
       "3                                                                                                                                   A dream of the hope for intimacy and love in a brutal, divisive world.   \n",
       "4                                                                                              A duo of street performers learns how sound and picture work together to create amazing cinema experiences.   \n",
       "5                Childhood friends Suresh and Vinnie want to become successful dancers. To fulfill their dreams, they form a dance group with their friends and compete in a hip-hop contest in Las Vegas.   \n",
       "6            This documentary spotlights Debbie Allen's career and follows her group of dance students as they prepare for Allen's annual \"Hot Chocolate Nutcracker,\" a reimagining of the classic ballet.   \n",
       "7                                                                                                                   Follow the lives of an elite group of young dancers who train at The Next Step Studio.   \n",
       "8                                                       Sing along and dance with Bailey, Franny, Kip, Lulu and Tilly in this collection of music videos that will get you in the mood to move and groove!   \n",
       "9                                                   Nine struggling musicians share the spotlight in this deeply personal reality series about the challenges and thrills of staging a Hollywood showcase.   \n",
       "\n",
       "                                    title                   genres  \\\n",
       "0                         White Christmas           romance comedy   \n",
       "1                               Rock On!!              drama music   \n",
       "2            Bigflo & Oli: Hip Hop Frenzy      documentation music   \n",
       "3                             Condom Lead                    drama   \n",
       "4                                  Silent  animation family action   \n",
       "5                                  ABCD 2              music drama   \n",
       "6  Dance Dreams: Hot Chocolate Nutcracker     documentation family   \n",
       "7                           The Next Step     drama family romance   \n",
       "8                        Word Party Songs         animation family   \n",
       "9                                Westside                  reality   \n",
       "\n",
       "   release_year         id  \n",
       "0          1954    tm16479  \n",
       "1          2008    tm37945  \n",
       "2          2020   tm937044  \n",
       "3          2013  tm1036195  \n",
       "4          2014   tm137379  \n",
       "5          2015   tm207668  \n",
       "6          2020   tm946927  \n",
       "7          2013    ts35282  \n",
       "8          2020   ts251607  \n",
       "9          2018    ts84644  "
      ]
     },
     "execution_count": 23,
     "metadata": {},
     "output_type": "execute_result"
    }
   ],
   "source": [
    "result = app.query(\n",
    "    with_movie_query,\n",
    "    description_query_text=\"\",\n",
    "    title_query_text=\"\",\n",
    "    genre_query_text=\"\",\n",
    "    description_weight=1,\n",
    "    title_weight=0,\n",
    "    genre_weight=0,\n",
    "    recency_weight=0,\n",
    "    movie_id=\"tm16479\"\n",
    ")\n",
    "\n",
    "present_result(result)"
   ]
  },
  {
   "cell_type": "markdown",
   "id": "e164bc36-ac70-4dae-a00e-062c5f68fa28",
   "metadata": {},
   "source": [
    "I got back movies that focus more on the rock-band aspect of the movie. With query parameters I can try to skew the results to be more related to family."
   ]
  },
  {
   "cell_type": "code",
   "execution_count": 24,
   "id": "0ddcf7ae-70fe-453b-8ea0-8af274ec4ee5",
   "metadata": {},
   "outputs": [
    {
     "data": {
      "text/html": [
       "<div>\n",
       "<style scoped>\n",
       "    .dataframe tbody tr th:only-of-type {\n",
       "        vertical-align: middle;\n",
       "    }\n",
       "\n",
       "    .dataframe tbody tr th {\n",
       "        vertical-align: top;\n",
       "    }\n",
       "\n",
       "    .dataframe thead th {\n",
       "        text-align: right;\n",
       "    }\n",
       "</style>\n",
       "<table border=\"1\" class=\"dataframe\">\n",
       "  <thead>\n",
       "    <tr style=\"text-align: right;\">\n",
       "      <th></th>\n",
       "      <th>description</th>\n",
       "      <th>title</th>\n",
       "      <th>genres</th>\n",
       "      <th>release_year</th>\n",
       "      <th>id</th>\n",
       "    </tr>\n",
       "  </thead>\n",
       "  <tbody>\n",
       "    <tr>\n",
       "      <th>0</th>\n",
       "      <td>Two talented song-and-dance men team up after the war to become one of the hottest acts in show business. In time they befriend and become romantically involved with the beautiful Haynes sisters w...</td>\n",
       "      <td>White Christmas</td>\n",
       "      <td>romance comedy</td>\n",
       "      <td>1954</td>\n",
       "      <td>tm16479</td>\n",
       "    </tr>\n",
       "    <tr>\n",
       "      <th>1</th>\n",
       "      <td>Romantic comedy following four couples who meet through a dating website. Four men go on a heroic mission to help four women and wind up experiencing a series of mishaps.</td>\n",
       "      <td>All's Well, Ends Well</td>\n",
       "      <td>romance comedy</td>\n",
       "      <td>2012</td>\n",
       "      <td>tm37573</td>\n",
       "    </tr>\n",
       "    <tr>\n",
       "      <th>2</th>\n",
       "      <td>An estranged family gathers together in New York for an event celebrating the artistic work of their father.</td>\n",
       "      <td>The Meyerowitz Stories (New and Selected)</td>\n",
       "      <td>comedy drama</td>\n",
       "      <td>2017</td>\n",
       "      <td>tm244206</td>\n",
       "    </tr>\n",
       "    <tr>\n",
       "      <th>3</th>\n",
       "      <td>Years after his father disowns his adopted brother for marrying a woman of lower social standing, a young man goes on a mission to reunite his family.</td>\n",
       "      <td>Kabhi Khushi Kabhie Gham</td>\n",
       "      <td>drama romance</td>\n",
       "      <td>2001</td>\n",
       "      <td>tm36475</td>\n",
       "    </tr>\n",
       "    <tr>\n",
       "      <th>4</th>\n",
       "      <td>Reunited in their hometown for their father's funeral, two self-interested brothers meet a peculiar woman who shares a huge secret about their family.</td>\n",
       "      <td>The Bros</td>\n",
       "      <td>comedy fantasy</td>\n",
       "      <td>2017</td>\n",
       "      <td>tm357708</td>\n",
       "    </tr>\n",
       "    <tr>\n",
       "      <th>5</th>\n",
       "      <td>A new couple, their exes and their children navigate the emotional challenges and tricky logistics of blended family life in this Swedish dramedy.</td>\n",
       "      <td>Bonus Family</td>\n",
       "      <td>drama comedy reality family documentation music european</td>\n",
       "      <td>2017</td>\n",
       "      <td>ts55939</td>\n",
       "    </tr>\n",
       "    <tr>\n",
       "      <th>6</th>\n",
       "      <td>Three prosperous women -- including a mother and her daughter -- fall for a seductive man in Colombia's Coffee Triangle.</td>\n",
       "      <td>Playing with Fire</td>\n",
       "      <td>drama</td>\n",
       "      <td>2019</td>\n",
       "      <td>ts87680</td>\n",
       "    </tr>\n",
       "    <tr>\n",
       "      <th>7</th>\n",
       "      <td>A young couple dream of growing old together as they deal with the struggles of being in a long-term relationship.</td>\n",
       "      <td>The Hows of Us</td>\n",
       "      <td>drama romance comedy</td>\n",
       "      <td>2018</td>\n",
       "      <td>tm430059</td>\n",
       "    </tr>\n",
       "    <tr>\n",
       "      <th>8</th>\n",
       "      <td>A dramatic story about a girl and her giving father.</td>\n",
       "      <td>Sen Benim HerŞeyimsin</td>\n",
       "      <td>comedy</td>\n",
       "      <td>2016</td>\n",
       "      <td>tm311456</td>\n",
       "    </tr>\n",
       "    <tr>\n",
       "      <th>9</th>\n",
       "      <td>The loves, heartbreak, jealousy and pain of the three Armoza sisters – Luna, Rachelika, and Becky - their parents, grandparents and children, set during the early-mid 20th century in Jerusalem.</td>\n",
       "      <td>The Beauty Queen of Jerusalem</td>\n",
       "      <td>drama</td>\n",
       "      <td>2021</td>\n",
       "      <td>ts252119</td>\n",
       "    </tr>\n",
       "  </tbody>\n",
       "</table>\n",
       "</div>"
      ],
      "text/plain": [
       "                                                                                                                                                                                               description  \\\n",
       "0  Two talented song-and-dance men team up after the war to become one of the hottest acts in show business. In time they befriend and become romantically involved with the beautiful Haynes sisters w...   \n",
       "1                               Romantic comedy following four couples who meet through a dating website. Four men go on a heroic mission to help four women and wind up experiencing a series of mishaps.   \n",
       "2                                                                                             An estranged family gathers together in New York for an event celebrating the artistic work of their father.   \n",
       "3                                                   Years after his father disowns his adopted brother for marrying a woman of lower social standing, a young man goes on a mission to reunite his family.   \n",
       "4                                                   Reunited in their hometown for their father's funeral, two self-interested brothers meet a peculiar woman who shares a huge secret about their family.   \n",
       "5                                                       A new couple, their exes and their children navigate the emotional challenges and tricky logistics of blended family life in this Swedish dramedy.   \n",
       "6                                                                                 Three prosperous women -- including a mother and her daughter -- fall for a seductive man in Colombia's Coffee Triangle.   \n",
       "7                                                                                       A young couple dream of growing old together as they deal with the struggles of being in a long-term relationship.   \n",
       "8                                                                                                                                                     A dramatic story about a girl and her giving father.   \n",
       "9        The loves, heartbreak, jealousy and pain of the three Armoza sisters – Luna, Rachelika, and Becky - their parents, grandparents and children, set during the early-mid 20th century in Jerusalem.   \n",
       "\n",
       "                                       title  \\\n",
       "0                            White Christmas   \n",
       "1                      All's Well, Ends Well   \n",
       "2  The Meyerowitz Stories (New and Selected)   \n",
       "3                   Kabhi Khushi Kabhie Gham   \n",
       "4                                   The Bros   \n",
       "5                               Bonus Family   \n",
       "6                          Playing with Fire   \n",
       "7                             The Hows of Us   \n",
       "8                      Sen Benim HerŞeyimsin   \n",
       "9              The Beauty Queen of Jerusalem   \n",
       "\n",
       "                                                     genres  release_year  \\\n",
       "0                                            romance comedy          1954   \n",
       "1                                            romance comedy          2012   \n",
       "2                                              comedy drama          2017   \n",
       "3                                             drama romance          2001   \n",
       "4                                            comedy fantasy          2017   \n",
       "5  drama comedy reality family documentation music european          2017   \n",
       "6                                                     drama          2019   \n",
       "7                                      drama romance comedy          2018   \n",
       "8                                                    comedy          2016   \n",
       "9                                                     drama          2021   \n",
       "\n",
       "         id  \n",
       "0   tm16479  \n",
       "1   tm37573  \n",
       "2  tm244206  \n",
       "3   tm36475  \n",
       "4  tm357708  \n",
       "5   ts55939  \n",
       "6   ts87680  \n",
       "7  tm430059  \n",
       "8  tm311456  \n",
       "9  ts252119  "
      ]
     },
     "execution_count": 24,
     "metadata": {},
     "output_type": "execute_result"
    }
   ],
   "source": [
    "result = app.query(\n",
    "    with_movie_query,\n",
    "    description_query_text=\"family\",\n",
    "    title_query_text=\"\",\n",
    "    genre_query_text=\"\",\n",
    "    description_weight=1,\n",
    "    title_weight=0,\n",
    "    genre_weight=0,\n",
    "    recency_weight=0,\n",
    "    description_query_weight=1,\n",
    "    movie_id=\"tm16479\"\n",
    ")\n",
    "\n",
    "present_result(result)"
   ]
  },
  {
   "cell_type": "markdown",
   "id": "b72f2b5e-2ee4-47e2-93d9-9ce0ca79e1b6",
   "metadata": {},
   "source": [
    "Taking a closer look at the description of these result movies, we can see that they share some aspect of the movie we are searching with - blended together with some notion of family:"
   ]
  },
  {
   "cell_type": "markdown",
   "id": "33d4cb73-1924-4653-89cc-5541a21a6fb5",
   "metadata": {},
   "source": [
    "After all, this evening I am in the mood for something light - I can also skew the results towards a specific genre: comedy"
   ]
  },
  {
   "cell_type": "code",
   "execution_count": 26,
   "id": "2efc1e79-2d13-4fae-bdf5-77a1e3d5d0c6",
   "metadata": {},
   "outputs": [
    {
     "data": {
      "text/html": [
       "<div>\n",
       "<style scoped>\n",
       "    .dataframe tbody tr th:only-of-type {\n",
       "        vertical-align: middle;\n",
       "    }\n",
       "\n",
       "    .dataframe tbody tr th {\n",
       "        vertical-align: top;\n",
       "    }\n",
       "\n",
       "    .dataframe thead th {\n",
       "        text-align: right;\n",
       "    }\n",
       "</style>\n",
       "<table border=\"1\" class=\"dataframe\">\n",
       "  <thead>\n",
       "    <tr style=\"text-align: right;\">\n",
       "      <th></th>\n",
       "      <th>description</th>\n",
       "      <th>title</th>\n",
       "      <th>genres</th>\n",
       "      <th>release_year</th>\n",
       "      <th>id</th>\n",
       "    </tr>\n",
       "  </thead>\n",
       "  <tbody>\n",
       "    <tr>\n",
       "      <th>0</th>\n",
       "      <td>Two talented song-and-dance men team up after the war to become one of the hottest acts in show business. In time they befriend and become romantically involved with the beautiful Haynes sisters w...</td>\n",
       "      <td>White Christmas</td>\n",
       "      <td>romance comedy</td>\n",
       "      <td>1954</td>\n",
       "      <td>tm16479</td>\n",
       "    </tr>\n",
       "    <tr>\n",
       "      <th>1</th>\n",
       "      <td>Romantic comedy following four couples who meet through a dating website. Four men go on a heroic mission to help four women and wind up experiencing a series of mishaps.</td>\n",
       "      <td>All's Well, Ends Well</td>\n",
       "      <td>romance comedy</td>\n",
       "      <td>2012</td>\n",
       "      <td>tm37573</td>\n",
       "    </tr>\n",
       "    <tr>\n",
       "      <th>2</th>\n",
       "      <td>On a bet, a gridiron hero at John Hughes High School sets out to turn a bespectacled plain Jane into a beautiful and popular prom queen in this outrageous send-up of the teen movies of the 1980s a...</td>\n",
       "      <td>Not Another Teen Movie</td>\n",
       "      <td>comedy</td>\n",
       "      <td>2001</td>\n",
       "      <td>tm58382</td>\n",
       "    </tr>\n",
       "    <tr>\n",
       "      <th>3</th>\n",
       "      <td>An original twist on an eternal triangle, where secret crush and unrequited love take on altogether newfangled meanings of their own.</td>\n",
       "      <td>Don't Go Breaking My Heart</td>\n",
       "      <td>romance comedy</td>\n",
       "      <td>2011</td>\n",
       "      <td>tm176128</td>\n",
       "    </tr>\n",
       "    <tr>\n",
       "      <th>4</th>\n",
       "      <td>Get ready to scream with laughter! Sam Kinison's primal scream will echo down through the comedy hall of fame summing up so much of modernity's horror and stupidity. This concert was taped at the ...</td>\n",
       "      <td>Sam Kinison: Family Entertainment Hour</td>\n",
       "      <td>comedy</td>\n",
       "      <td>1991</td>\n",
       "      <td>tm8687</td>\n",
       "    </tr>\n",
       "    <tr>\n",
       "      <th>5</th>\n",
       "      <td>The story of Nola Darling's simultaneous sexual relationships with three different men is told by her and by her partners and other friends. All three men wanted her to commit solely to them; Nola...</td>\n",
       "      <td>She's Gotta Have It</td>\n",
       "      <td>romance comedy</td>\n",
       "      <td>1986</td>\n",
       "      <td>tm117580</td>\n",
       "    </tr>\n",
       "    <tr>\n",
       "      <th>6</th>\n",
       "      <td>A vibrant, hopelessly romantic physiotherapist meets a handsome young Rajput prince who is the complete opposite of her – and is engaged to someone else.</td>\n",
       "      <td>Khoobsurat</td>\n",
       "      <td>comedy romance</td>\n",
       "      <td>2014</td>\n",
       "      <td>tm158980</td>\n",
       "    </tr>\n",
       "    <tr>\n",
       "      <th>7</th>\n",
       "      <td>On the eve of Nikhil and Karishma’s engagement, Karishma’s wealthy father, Devesh Solanki, expresses his disapproval, believing Nikhil to be a lackadaisical young man. With one week to prove himse...</td>\n",
       "      <td>Hasee Toh Phasee</td>\n",
       "      <td>comedy romance</td>\n",
       "      <td>2014</td>\n",
       "      <td>tm148457</td>\n",
       "    </tr>\n",
       "    <tr>\n",
       "      <th>8</th>\n",
       "      <td>A young woman develops romantic feelings for her best friend, but problems arise when another gal enters the picture.</td>\n",
       "      <td>Must Be... Love</td>\n",
       "      <td>comedy romance</td>\n",
       "      <td>2013</td>\n",
       "      <td>tm188290</td>\n",
       "    </tr>\n",
       "    <tr>\n",
       "      <th>9</th>\n",
       "      <td>A sitcom about a British-Nigerian family living in Peckham, covering themes such as financial worries, Bayo Adebanjo's insistence on instilling African style discipline on his children, and Auntie...</td>\n",
       "      <td>Meet the Adebanjos</td>\n",
       "      <td>comedy</td>\n",
       "      <td>2012</td>\n",
       "      <td>ts167724</td>\n",
       "    </tr>\n",
       "  </tbody>\n",
       "</table>\n",
       "</div>"
      ],
      "text/plain": [
       "                                                                                                                                                                                               description  \\\n",
       "0  Two talented song-and-dance men team up after the war to become one of the hottest acts in show business. In time they befriend and become romantically involved with the beautiful Haynes sisters w...   \n",
       "1                               Romantic comedy following four couples who meet through a dating website. Four men go on a heroic mission to help four women and wind up experiencing a series of mishaps.   \n",
       "2  On a bet, a gridiron hero at John Hughes High School sets out to turn a bespectacled plain Jane into a beautiful and popular prom queen in this outrageous send-up of the teen movies of the 1980s a...   \n",
       "3                                                                    An original twist on an eternal triangle, where secret crush and unrequited love take on altogether newfangled meanings of their own.   \n",
       "4  Get ready to scream with laughter! Sam Kinison's primal scream will echo down through the comedy hall of fame summing up so much of modernity's horror and stupidity. This concert was taped at the ...   \n",
       "5  The story of Nola Darling's simultaneous sexual relationships with three different men is told by her and by her partners and other friends. All three men wanted her to commit solely to them; Nola...   \n",
       "6                                                A vibrant, hopelessly romantic physiotherapist meets a handsome young Rajput prince who is the complete opposite of her – and is engaged to someone else.   \n",
       "7  On the eve of Nikhil and Karishma’s engagement, Karishma’s wealthy father, Devesh Solanki, expresses his disapproval, believing Nikhil to be a lackadaisical young man. With one week to prove himse...   \n",
       "8                                                                                    A young woman develops romantic feelings for her best friend, but problems arise when another gal enters the picture.   \n",
       "9  A sitcom about a British-Nigerian family living in Peckham, covering themes such as financial worries, Bayo Adebanjo's insistence on instilling African style discipline on his children, and Auntie...   \n",
       "\n",
       "                                    title          genres  release_year  \\\n",
       "0                         White Christmas  romance comedy          1954   \n",
       "1                   All's Well, Ends Well  romance comedy          2012   \n",
       "2                  Not Another Teen Movie          comedy          2001   \n",
       "3              Don't Go Breaking My Heart  romance comedy          2011   \n",
       "4  Sam Kinison: Family Entertainment Hour          comedy          1991   \n",
       "5                     She's Gotta Have It  romance comedy          1986   \n",
       "6                              Khoobsurat  comedy romance          2014   \n",
       "7                        Hasee Toh Phasee  comedy romance          2014   \n",
       "8                         Must Be... Love  comedy romance          2013   \n",
       "9                      Meet the Adebanjos          comedy          2012   \n",
       "\n",
       "         id  \n",
       "0   tm16479  \n",
       "1   tm37573  \n",
       "2   tm58382  \n",
       "3  tm176128  \n",
       "4    tm8687  \n",
       "5  tm117580  \n",
       "6  tm158980  \n",
       "7  tm148457  \n",
       "8  tm188290  \n",
       "9  ts167724  "
      ]
     },
     "execution_count": 26,
     "metadata": {},
     "output_type": "execute_result"
    }
   ],
   "source": [
    "result = app.query(\n",
    "    with_movie_query,\n",
    "    description_query_text=\"\",\n",
    "    title_query_text=\"\",\n",
    "    genre_query_text=\"comedy\",\n",
    "    description_weight=1,\n",
    "    title_weight=0,\n",
    "    genre_weight=2,\n",
    "    recency_weight=0,\n",
    "    description_query_weight=1,\n",
    "    movie_id=\"tm16479\"\n",
    ")\n",
    "\n",
    "present_result(result)"
   ]
  }
 ],
 "metadata": {
  "kernelspec": {
   "display_name": "superlinked-venv",
   "language": "python",
   "name": "superlinked-venv"
  },
  "language_info": {
   "codemirror_mode": {
    "name": "ipython",
    "version": 3
   },
   "file_extension": ".py",
   "mimetype": "text/x-python",
   "name": "python",
   "nbconvert_exporter": "python",
   "pygments_lexer": "ipython3",
   "version": "3.10.9"
  }
 },
 "nbformat": 4,
 "nbformat_minor": 5
}

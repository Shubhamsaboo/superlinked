{
 "cells": [
  {
   "cell_type": "markdown",
   "id": "9b043a5f-b961-4c6c-9107-f9ae8f0778f3",
   "metadata": {},
   "source": [
    "# Netflix recommendations"
   ]
  },
  {
   "cell_type": "markdown",
   "id": "d460ac88-5a9b-4e43-80fa-3ddaad07538a",
   "metadata": {},
   "source": [
    "<div class=\"alert alert-block alert-warning\">\n",
    "Replace <code>YOUR_GITHUB_TOKEN</code> in the install script. To get your token follow the instructions in the <a href=\"../README.md\">README.md</a>\n",
    "</div>"
   ]
  },
  {
   "cell_type": "markdown",
   "id": "80fdfc22-58c9-4355-97e9-685ced8a8a1e",
   "metadata": {},
   "source": [
    "## Boilerplate\n",
    "\n",
    "### Installation"
   ]
  },
  {
   "cell_type": "code",
   "execution_count": 1,
   "id": "782788ff-ea73-4e06-8fd2-b4a114b5f25d",
   "metadata": {
    "scrolled": true
   },
   "outputs": [],
   "source": [
    "%pip install  'https://us-central1-data-359211.cloudfunctions.net/github-proxy/superlinked-2.14.1-py3-none-any.whl?token=YOUR_GITHUB_TOKEN'"
   ]
  },
  {
   "cell_type": "markdown",
   "id": "cb50885c-536e-480a-b3a1-3c0d4449d64b",
   "metadata": {},
   "source": [
    "### Imports and constants"
   ]
  },
  {
   "cell_type": "code",
   "execution_count": 2,
   "id": "f641dd4c-2df4-460d-bd96-f0b654e1bd05",
   "metadata": {},
   "outputs": [],
   "source": [
    "from datetime import timedelta, datetime\n",
    "\n",
    "import altair as alt\n",
    "import pandas as pd\n",
    "\n",
    "from superlinked.evaluation.charts.recency_plotter import RecencyPlotter\n",
    "from superlinked.framework.common.dag.period_time import PeriodTime\n",
    "from superlinked.framework.common.schema.schema import schema\n",
    "from superlinked.framework.common.schema.schema_object import String, Timestamp\n",
    "from superlinked.framework.common.schema.id_schema_object import IdField\n",
    "from superlinked.framework.common.parser.dataframe_parser import DataFrameParser\n",
    "from superlinked.framework.dsl.executor.in_memory.in_memory_executor import InMemoryExecutor, InMemoryApp\n",
    "from superlinked.framework.dsl.index.index import Index\n",
    "from superlinked.framework.dsl.query.param import Param\n",
    "from superlinked.framework.dsl.query.query import Query\n",
    "from superlinked.framework.dsl.query.result import Result\n",
    "from superlinked.framework.dsl.source.in_memory_source import InMemorySource\n",
    "from superlinked.framework.dsl.space.text_similarity_space import TextSimilaritySpace\n",
    "from superlinked.framework.dsl.space.recency_space import RecencySpace\n",
    "\n",
    "alt.renderers.enable('mimetype')"
   ]
  },
  {
   "cell_type": "code",
   "execution_count": 3,
   "id": "2b55a3d8-dbe3-4f35-be21-11864226252d",
   "metadata": {},
   "outputs": [],
   "source": [
    "MODEL = \"sentence-transformers/paraphrase-MiniLM-L3-v2\"\n",
    "YEAR_IN_DAYS = 365\n",
    "TOP_N = 10\n",
    "DATASET_URL = \"https://storage.googleapis.com/superlinked-notebook-netflix-shows-dataset/titles.csv\""
   ]
  },
  {
   "cell_type": "markdown",
   "id": "480739b3-b03f-426d-9eec-affb54d86228",
   "metadata": {},
   "source": [
    "## Prepare dataset"
   ]
  },
  {
   "cell_type": "code",
   "execution_count": 4,
   "id": "339d4fcf-50d2-4d5c-a800-14807a2d4cfb",
   "metadata": {},
   "outputs": [
    {
     "data": {
      "text/html": [
       "<div>\n",
       "<style scoped>\n",
       "    .dataframe tbody tr th:only-of-type {\n",
       "        vertical-align: middle;\n",
       "    }\n",
       "\n",
       "    .dataframe tbody tr th {\n",
       "        vertical-align: top;\n",
       "    }\n",
       "\n",
       "    .dataframe thead th {\n",
       "        text-align: right;\n",
       "    }\n",
       "</style>\n",
       "<table border=\"1\" class=\"dataframe\">\n",
       "  <thead>\n",
       "    <tr style=\"text-align: right;\">\n",
       "      <th></th>\n",
       "      <th>description</th>\n",
       "      <th>genres</th>\n",
       "      <th>title</th>\n",
       "      <th>release_year</th>\n",
       "      <th>id</th>\n",
       "      <th>timestamp</th>\n",
       "    </tr>\n",
       "  </thead>\n",
       "  <tbody>\n",
       "    <tr>\n",
       "      <th>0</th>\n",
       "      <td>This collection includes 12 World War II-era p...</td>\n",
       "      <td>documentation</td>\n",
       "      <td>Five Came Back: The Reference Films</td>\n",
       "      <td>1945</td>\n",
       "      <td>ts300399</td>\n",
       "      <td>-788918400.0</td>\n",
       "    </tr>\n",
       "    <tr>\n",
       "      <th>1</th>\n",
       "      <td>A mentally unstable Vietnam War veteran works ...</td>\n",
       "      <td>drama crime</td>\n",
       "      <td>Taxi Driver</td>\n",
       "      <td>1976</td>\n",
       "      <td>tm84618</td>\n",
       "      <td>189302400.0</td>\n",
       "    </tr>\n",
       "    <tr>\n",
       "      <th>2</th>\n",
       "      <td>Intent on seeing the Cahulawassee River before...</td>\n",
       "      <td>drama action thriller european</td>\n",
       "      <td>Deliverance</td>\n",
       "      <td>1972</td>\n",
       "      <td>tm154986</td>\n",
       "      <td>63072000.0</td>\n",
       "    </tr>\n",
       "    <tr>\n",
       "      <th>3</th>\n",
       "      <td>King Arthur, accompanied by his squire, recrui...</td>\n",
       "      <td>fantasy action comedy</td>\n",
       "      <td>Monty Python and the Holy Grail</td>\n",
       "      <td>1975</td>\n",
       "      <td>tm127384</td>\n",
       "      <td>157766400.0</td>\n",
       "    </tr>\n",
       "    <tr>\n",
       "      <th>4</th>\n",
       "      <td>12 American military prisoners in World War II...</td>\n",
       "      <td>war action</td>\n",
       "      <td>The Dirty Dozen</td>\n",
       "      <td>1967</td>\n",
       "      <td>tm120801</td>\n",
       "      <td>-94694400.0</td>\n",
       "    </tr>\n",
       "  </tbody>\n",
       "</table>\n",
       "</div>"
      ],
      "text/plain": [
       "                                         description  \\\n",
       "0  This collection includes 12 World War II-era p...   \n",
       "1  A mentally unstable Vietnam War veteran works ...   \n",
       "2  Intent on seeing the Cahulawassee River before...   \n",
       "3  King Arthur, accompanied by his squire, recrui...   \n",
       "4  12 American military prisoners in World War II...   \n",
       "\n",
       "                           genres                                title  \\\n",
       "0                   documentation  Five Came Back: The Reference Films   \n",
       "1                     drama crime                          Taxi Driver   \n",
       "2  drama action thriller european                          Deliverance   \n",
       "3           fantasy action comedy      Monty Python and the Holy Grail   \n",
       "4                      war action                      The Dirty Dozen   \n",
       "\n",
       "   release_year        id    timestamp  \n",
       "0          1945  ts300399 -788918400.0  \n",
       "1          1976   tm84618  189302400.0  \n",
       "2          1972  tm154986   63072000.0  \n",
       "3          1975  tm127384  157766400.0  \n",
       "4          1967  tm120801  -94694400.0  "
      ]
     },
     "execution_count": 4,
     "metadata": {},
     "output_type": "execute_result"
    }
   ],
   "source": [
    "movie_df = pd.read_csv(DATASET_URL)\n",
    "movie_df = movie_df[[\"description\", \"genres\", \"title\", \"release_year\", \"id\"]].drop_duplicates(subset=[\"description\"]).dropna(how='any')\n",
    "movie_df[\"genres\"] = movie_df[\"genres\"].apply(lambda x: \" \".join(eval(x)))\n",
    "movie_df[\"timestamp\"] = [pd.Timestamp(year=year, month=1, day=1).timestamp() for year in movie_df[\"release_year\"].tolist()]\n",
    "movie_df.head()"
   ]
  },
  {
   "cell_type": "markdown",
   "id": "4405f9b4-8109-4cd1-ab80-9df69ee75671",
   "metadata": {},
   "source": [
    "## Set up Superlinked"
   ]
  },
  {
   "cell_type": "code",
   "execution_count": 5,
   "id": "363d1bfb-a842-49b6-a822-99db1f18daa8",
   "metadata": {},
   "outputs": [],
   "source": [
    "@schema\n",
    "class MovieSchema:\n",
    "    description: String\n",
    "    title: String\n",
    "    release_timestamp: Timestamp\n",
    "    genres: String\n",
    "    id: IdField"
   ]
  },
  {
   "cell_type": "code",
   "execution_count": 6,
   "id": "7b17ee72-539f-459a-ab8e-f1918579987d",
   "metadata": {},
   "outputs": [],
   "source": [
    "movie = MovieSchema()"
   ]
  },
  {
   "cell_type": "code",
   "execution_count": 7,
   "id": "abba40ea-a250-4b12-ad4b-ef90155c3175",
   "metadata": {},
   "outputs": [],
   "source": [
    "description_space = TextSimilaritySpace(text=movie.description, model=MODEL)\n",
    "title_space = TextSimilaritySpace(text=movie.title, model=MODEL)\n",
    "genre_space = TextSimilaritySpace(text=movie.genres, model=MODEL)\n",
    "recency_space = RecencySpace(timestamp=movie.release_timestamp, period_time_list=[\n",
    "    PeriodTime(timedelta(days=4 * YEAR_IN_DAYS)), \n",
    "    PeriodTime(timedelta(days=10 * YEAR_IN_DAYS)), \n",
    "    PeriodTime(timedelta(days=40 * YEAR_IN_DAYS))],\n",
    "    negative_filter=-0.25)"
   ]
  },
  {
   "cell_type": "code",
   "execution_count": 8,
   "id": "88e05778-8ab1-49c9-922d-cd825c65b93a",
   "metadata": {},
   "outputs": [],
   "source": [
    "movie_index = Index(spaces=[description_space, title_space, genre_space, recency_space])"
   ]
  },
  {
   "cell_type": "code",
   "execution_count": 9,
   "id": "b56927bf-503c-4f08-98c4-f5f9a49690af",
   "metadata": {},
   "outputs": [],
   "source": [
    "query_text_param = Param(\"query_text\")\n",
    "\n",
    "simple_query = (\n",
    "    Query(movie_index, weights={\n",
    "        description_space: Param(\"description_weight\"),\n",
    "        title_space: Param(\"title_weight\"),\n",
    "        genre_space: Param(\"genre_weight\"),\n",
    "        recency_space: Param(\"recency_weight\")\n",
    "    })\n",
    "    .find(movie)\n",
    "    .similar(description_space.text, query_text_param)\n",
    "    .similar(title_space.text, query_text_param)\n",
    "    .similar(genre_space.text, query_text_param)\n",
    "    .limit(10)\n",
    ")\n",
    "\n",
    "advanced_query = (\n",
    "    Query(movie_index, weights={\n",
    "        description_space: Param(\"description_weight\"),\n",
    "        title_space: Param(\"title_weight\"),\n",
    "        genre_space: Param(\"genre_weight\"),\n",
    "        recency_space: Param(\"recency_weight\")\n",
    "    })\n",
    "    .find(movie)\n",
    "    .similar(description_space.text, Param(\"description_query_text\"))\n",
    "    .similar(title_space.text, Param(\"title_query_text\"))\n",
    "    .similar(genre_space.text, Param(\"genre_query_text\"))\n",
    "    .limit(10)\n",
    ")"
   ]
  },
  {
   "cell_type": "code",
   "execution_count": 10,
   "id": "22069eb1-16d6-40db-b5ba-127fa1efa86e",
   "metadata": {},
   "outputs": [],
   "source": [
    "df_parser = DataFrameParser(schema=movie, mapping={movie.release_timestamp: \"timestamp\"})"
   ]
  },
  {
   "cell_type": "code",
   "execution_count": 11,
   "id": "14335931-ba95-45ec-8cb6-19f5e4905fbd",
   "metadata": {},
   "outputs": [],
   "source": [
    "source: InMemorySource = InMemorySource(movie, parser=df_parser)\n",
    "executor: InMemoryExecutor = InMemoryExecutor(sources=[source], indices=[movie_index])\n",
    "app: InMemoryApp = executor.run()"
   ]
  },
  {
   "cell_type": "markdown",
   "id": "29e6a6fc-ec5e-4a07-b9a8-9c8b38ac047b",
   "metadata": {},
   "source": [
    "This next one might take several minutes to run. Getting a coffee or water, or doing a quick planking workout is advised."
   ]
  },
  {
   "cell_type": "code",
   "execution_count": 12,
   "id": "683cbd59-0744-4cd9-9a36-18814be79760",
   "metadata": {},
   "outputs": [],
   "source": [
    "source.put([movie_df])"
   ]
  },
  {
   "cell_type": "markdown",
   "id": "09bcc1e1-91d1-400f-87c9-bfcda1bddded",
   "metadata": {},
   "source": [
    "## Understanding recency"
   ]
  },
  {
   "cell_type": "markdown",
   "id": "576214c2-8303-45d0-a5ae-8cffe5e70e42",
   "metadata": {},
   "source": [
    "Recency can seem quite complex at first, let's see how the score looks like for the relevant time periods"
   ]
  },
  {
   "cell_type": "code",
   "execution_count": 13,
   "id": "0bd07652-ebd9-4676-97b2-96eecd0b6089",
   "metadata": {},
   "outputs": [
    {
     "data": {
      "application/vnd.vegalite.v5+json": {
       "$schema": "https://vega.github.io/schema/vega-lite/v5.16.3.json",
       "config": {
        "view": {
         "continuousHeight": 300,
         "continuousWidth": 300
        }
       },
       "data": {
        "name": "data-595eba992eebef1dfcc516d7b64715c2"
       },
       "datasets": {
        "data-595eba992eebef1dfcc516d7b64715c2": [
         {
          "date": "1980-02-17T15:11:12",
          "score": -0.25
         },
         {
          "date": "1980-03-04T17:00:44.972973",
          "score": -0.25
         },
         {
          "date": "1980-03-20T18:50:17.945946",
          "score": -0.25
         },
         {
          "date": "1980-04-05T20:39:50.918919",
          "score": -0.25
         },
         {
          "date": "1980-04-21T23:29:23.891892",
          "score": -0.25
         },
         {
          "date": "1980-05-08T01:18:56.864865",
          "score": -0.25
         },
         {
          "date": "1980-05-24T03:08:29.837838",
          "score": -0.25
         },
         {
          "date": "1980-06-09T04:58:02.810811",
          "score": -0.25
         },
         {
          "date": "1980-06-25T06:47:35.783784",
          "score": -0.25
         },
         {
          "date": "1980-07-11T08:37:08.756757",
          "score": -0.25
         },
         {
          "date": "1980-07-27T10:26:41.729730",
          "score": -0.25
         },
         {
          "date": "1980-08-12T12:16:14.702703",
          "score": -0.25
         },
         {
          "date": "1980-08-28T14:05:47.675676",
          "score": -0.25
         },
         {
          "date": "1980-09-13T15:55:20.648649",
          "score": -0.25
         },
         {
          "date": "1980-09-29T16:44:53.621622",
          "score": -0.25
         },
         {
          "date": "1980-10-15T18:34:26.594595",
          "score": -0.25
         },
         {
          "date": "1980-10-31T20:23:59.567568",
          "score": -0.25
         },
         {
          "date": "1980-11-16T22:13:32.540541",
          "score": -0.25
         },
         {
          "date": "1980-12-03T00:03:05.513514",
          "score": -0.25
         },
         {
          "date": "1980-12-19T01:52:38.486486",
          "score": -0.25
         },
         {
          "date": "1981-01-04T03:42:11.459459",
          "score": -0.25
         },
         {
          "date": "1981-01-20T05:31:44.432432",
          "score": -0.25
         },
         {
          "date": "1981-02-05T07:21:17.405405",
          "score": -0.25
         },
         {
          "date": "1981-02-21T09:10:50.378378",
          "score": -0.25
         },
         {
          "date": "1981-03-09T11:00:23.351351",
          "score": -0.25
         },
         {
          "date": "1981-03-25T12:49:56.324324",
          "score": -0.25
         },
         {
          "date": "1981-04-10T15:39:29.297297",
          "score": -0.25
         },
         {
          "date": "1981-04-26T17:29:02.270270",
          "score": -0.25
         },
         {
          "date": "1981-05-12T19:18:35.243243",
          "score": -0.25
         },
         {
          "date": "1981-05-28T21:08:08.216216",
          "score": -0.25
         },
         {
          "date": "1981-06-13T22:57:41.189189",
          "score": -0.25
         },
         {
          "date": "1981-06-30T00:47:14.162162",
          "score": -0.25
         },
         {
          "date": "1981-07-16T02:36:47.135135",
          "score": -0.25
         },
         {
          "date": "1981-08-01T04:26:20.108108",
          "score": -0.25
         },
         {
          "date": "1981-08-17T06:15:53.081081",
          "score": -0.25
         },
         {
          "date": "1981-09-02T08:05:26.054054",
          "score": -0.25
         },
         {
          "date": "1981-09-18T09:54:59.027027",
          "score": -0.25
         },
         {
          "date": "1981-10-04T10:44:32",
          "score": -0.25
         },
         {
          "date": "1981-10-20T12:34:04.972973",
          "score": -0.25
         },
         {
          "date": "1981-11-05T14:23:37.945946",
          "score": -0.25
         },
         {
          "date": "1981-11-21T16:13:10.918919",
          "score": -0.25
         },
         {
          "date": "1981-12-07T18:02:43.891892",
          "score": -0.25
         },
         {
          "date": "1981-12-23T19:52:16.864865",
          "score": -0.25
         },
         {
          "date": "1982-01-08T21:41:49.837838",
          "score": -0.25
         },
         {
          "date": "1982-01-24T23:31:22.810811",
          "score": -0.25
         },
         {
          "date": "1982-02-10T01:20:55.783784",
          "score": -0.25
         },
         {
          "date": "1982-02-26T03:10:28.756757",
          "score": -0.25
         },
         {
          "date": "1982-03-14T05:00:01.729730",
          "score": -0.25
         },
         {
          "date": "1982-03-30T07:49:34.702703",
          "score": -0.25
         },
         {
          "date": "1982-04-15T09:39:07.675676",
          "score": -0.25
         },
         {
          "date": "1982-05-01T11:28:40.648649",
          "score": -0.25
         },
         {
          "date": "1982-05-17T13:18:13.621622",
          "score": -0.25
         },
         {
          "date": "1982-06-02T15:07:46.594595",
          "score": -0.25
         },
         {
          "date": "1982-06-18T16:57:19.567568",
          "score": -0.25
         },
         {
          "date": "1982-07-04T18:46:52.540541",
          "score": -0.25
         },
         {
          "date": "1982-07-20T20:36:25.513514",
          "score": -0.25
         },
         {
          "date": "1982-08-05T22:25:58.486486",
          "score": -0.25
         },
         {
          "date": "1982-08-22T00:15:31.459459",
          "score": -0.25
         },
         {
          "date": "1982-09-07T02:05:04.432432",
          "score": -0.25
         },
         {
          "date": "1982-09-23T03:54:37.405405",
          "score": -0.25
         },
         {
          "date": "1982-10-09T04:44:10.378378",
          "score": -0.25
         },
         {
          "date": "1982-10-25T06:33:43.351351",
          "score": -0.25
         },
         {
          "date": "1982-11-10T08:23:16.324324",
          "score": -0.25
         },
         {
          "date": "1982-11-26T10:12:49.297297",
          "score": -0.25
         },
         {
          "date": "1982-12-12T12:02:22.270270",
          "score": -0.25
         },
         {
          "date": "1982-12-28T13:51:55.243243",
          "score": -0.25
         },
         {
          "date": "1983-01-13T15:41:28.216216",
          "score": -0.25
         },
         {
          "date": "1983-01-29T17:31:01.189189",
          "score": -0.25
         },
         {
          "date": "1983-02-14T19:20:34.162162",
          "score": -0.25
         },
         {
          "date": "1983-03-02T21:10:07.135135",
          "score": -0.25
         },
         {
          "date": "1983-03-18T22:59:40.108108",
          "score": -0.25
         },
         {
          "date": "1983-04-04T01:49:13.081081",
          "score": -0.25
         },
         {
          "date": "1983-04-20T03:38:46.054054",
          "score": -0.25
         },
         {
          "date": "1983-05-06T05:28:19.027027",
          "score": -0.25
         },
         {
          "date": "1983-05-22T07:17:52",
          "score": -0.25
         },
         {
          "date": "1983-06-07T09:07:24.972973",
          "score": -0.25
         },
         {
          "date": "1983-06-23T10:56:57.945946",
          "score": -0.25
         },
         {
          "date": "1983-07-09T12:46:30.918919",
          "score": -0.25
         },
         {
          "date": "1983-07-25T14:36:03.891892",
          "score": -0.25
         },
         {
          "date": "1983-08-10T16:25:36.864865",
          "score": -0.25
         },
         {
          "date": "1983-08-26T18:15:09.837838",
          "score": -0.25
         },
         {
          "date": "1983-09-11T20:04:42.810811",
          "score": -0.25
         },
         {
          "date": "1983-09-27T20:54:15.783784",
          "score": -0.25
         },
         {
          "date": "1983-10-13T22:43:48.756757",
          "score": -0.25
         },
         {
          "date": "1983-10-30T00:33:21.729730",
          "score": -0.25
         },
         {
          "date": "1983-11-15T02:22:54.702703",
          "score": -0.25
         },
         {
          "date": "1983-12-01T04:12:27.675676",
          "score": -0.25
         },
         {
          "date": "1983-12-17T06:02:00.648649",
          "score": -0.25
         },
         {
          "date": "1984-01-02T07:51:33.621622",
          "score": -0.25
         },
         {
          "date": "1984-01-18T09:41:06.594595",
          "score": -0.25
         },
         {
          "date": "1984-02-03T11:30:39.567568",
          "score": -0.25
         },
         {
          "date": "1984-02-19T13:20:12.540541",
          "score": 0.00010482457797178153
         },
         {
          "date": "1984-03-06T15:09:45.513514",
          "score": 0.0006813592935629288
         },
         {
          "date": "1984-03-22T16:59:18.486486",
          "score": 0.0012578919708442667
         },
         {
          "date": "1984-04-07T19:48:51.459459",
          "score": 0.0018344208850980483
         },
         {
          "date": "1984-04-23T21:38:24.432432",
          "score": 0.0024109443116181314
         },
         {
          "date": "1984-05-09T23:27:57.405405",
          "score": 0.0029874605257149047
         },
         {
          "date": "1984-05-26T01:17:30.378378",
          "score": 0.0035639678027199195
         },
         {
          "date": "1984-06-11T03:07:03.351351",
          "score": 0.004140464417992045
         },
         {
          "date": "1984-06-27T04:56:36.324324",
          "score": 0.004716948646920853
         },
         {
          "date": "1984-07-13T06:46:09.297297",
          "score": 0.005293418764934285
         },
         {
          "date": "1984-07-29T08:35:42.270270",
          "score": 0.005869873047502174
         },
         {
          "date": "1984-08-14T10:25:15.243243",
          "score": 0.00644630977014117
         },
         {
          "date": "1984-08-30T12:14:48.216216",
          "score": 0.007022727208421187
         },
         {
          "date": "1984-09-15T14:04:21.189189",
          "score": 0.007599123637969328
         },
         {
          "date": "1984-10-01T14:53:54.162162",
          "score": 0.008175497334475399
         },
         {
          "date": "1984-10-17T16:43:27.135135",
          "score": 0.008751846573698485
         },
         {
          "date": "1984-11-02T18:33:00.108108",
          "score": 0.009328169631468623
         },
         {
          "date": "1984-11-18T20:22:33.081081",
          "score": 0.009904464783696065
         },
         {
          "date": "1984-12-04T22:12:06.054054",
          "score": 0.01048073030637362
         },
         {
          "date": "1984-12-21T00:01:39.027027",
          "score": 0.011056964475583315
         },
         {
          "date": "1985-01-06T01:51:12",
          "score": 0.011633165567500358
         },
         {
          "date": "1985-01-22T03:40:44.972973",
          "score": 0.012209331858399331
         },
         {
          "date": "1985-02-07T05:30:17.945946",
          "score": 0.01278546162465895
         },
         {
          "date": "1985-02-23T07:19:50.918919",
          "score": 0.013361553142766916
         },
         {
          "date": "1985-03-11T09:09:23.891892",
          "score": 0.013937604689325351
         },
         {
          "date": "1985-03-27T10:58:56.864865",
          "score": 0.014513614541056331
         },
         {
          "date": "1985-04-12T13:48:29.837838",
          "score": 0.015089580974806624
         },
         {
          "date": "1985-04-28T15:38:02.810811",
          "score": 0.015665502267551888
         },
         {
          "date": "1985-05-14T17:27:35.783784",
          "score": 0.0162413766964041
         },
         {
          "date": "1985-05-30T19:17:08.756757",
          "score": 0.016817202538615045
         },
         {
          "date": "1985-06-15T21:06:41.729730",
          "score": 0.017392978071581494
         },
         {
          "date": "1985-07-01T22:56:14.702703",
          "score": 0.017968701572851253
         },
         {
          "date": "1985-07-18T00:45:47.675676",
          "score": 0.018544371320127387
         },
         {
          "date": "1985-08-03T02:35:20.648649",
          "score": 0.019119985591273578
         },
         {
          "date": "1985-08-19T04:24:53.621622",
          "score": 0.019695542664320782
         },
         {
          "date": "1985-09-04T06:14:26.594595",
          "score": 0.020271040817468854
         },
         {
          "date": "1985-09-20T08:03:59.567568",
          "score": 0.02084647832909573
         },
         {
          "date": "1985-10-06T08:53:32.540541",
          "score": 0.021421853477759902
         },
         {
          "date": "1985-10-22T10:43:05.513514",
          "score": 0.021997164542206946
         },
         {
          "date": "1985-11-07T12:32:38.486486",
          "score": 0.02257240980137376
         },
         {
          "date": "1985-11-23T14:22:11.459459",
          "score": 0.023147587534393863
         },
         {
          "date": "1985-12-09T16:11:44.432432",
          "score": 0.02372269602060374
         },
         {
          "date": "1985-12-25T18:01:17.405405",
          "score": 0.024297733539546142
         },
         {
          "date": "1986-01-10T19:50:50.378378",
          "score": 0.024872698370976255
         },
         {
          "date": "1986-01-26T21:40:23.351351",
          "score": 0.025447588794867394
         },
         {
          "date": "1986-02-11T23:29:56.324324",
          "score": 0.026022403091414223
         },
         {
          "date": "1986-02-28T01:19:29.297297",
          "score": 0.02659713954104001
         },
         {
          "date": "1986-03-16T03:09:02.270270",
          "score": 0.02717179642440089
         },
         {
          "date": "1986-04-01T05:58:35.243243",
          "score": 0.02774637202239098
         },
         {
          "date": "1986-04-17T07:48:08.216216",
          "score": 0.028320864616147322
         },
         {
          "date": "1986-05-03T09:37:41.189189",
          "score": 0.028895272487055305
         },
         {
          "date": "1986-05-19T11:27:14.162162",
          "score": 0.02946959391675403
         },
         {
          "date": "1986-06-04T13:16:47.135135",
          "score": 0.030043827187141534
         },
         {
          "date": "1986-06-20T15:06:20.108108",
          "score": 0.03061797058037796
         },
         {
          "date": "1986-07-06T16:55:53.081081",
          "score": 0.031192022378894044
         },
         {
          "date": "1986-07-22T18:45:26.054054",
          "score": 0.03176598086539405
         },
         {
          "date": "1986-08-07T20:34:59.027027",
          "score": 0.03233984432286098
         },
         {
          "date": "1986-08-23T22:24:32",
          "score": 0.03291361103456272
         },
         {
          "date": "1986-09-09T00:14:04.972973",
          "score": 0.03348727928405595
         },
         {
          "date": "1986-09-25T02:03:37.945946",
          "score": 0.034060847355192526
         },
         {
          "date": "1986-10-11T02:53:10.918919",
          "score": 0.034634313532123394
         },
         {
          "date": "1986-10-27T04:42:43.891892",
          "score": 0.035207676099304856
         },
         {
          "date": "1986-11-12T06:32:16.864865",
          "score": 0.03578093334150311
         },
         {
          "date": "1986-11-28T08:21:49.837838",
          "score": 0.03635408354379848
         },
         {
          "date": "1986-12-14T10:11:22.810811",
          "score": 0.03692712499159289
         },
         {
          "date": "1986-12-30T12:00:55.783784",
          "score": 0.03750005597061263
         },
         {
          "date": "1987-01-15T13:50:28.756757",
          "score": 0.03807287476691503
         },
         {
          "date": "1987-01-31T15:40:01.729730",
          "score": 0.03864557966689291
         },
         {
          "date": "1987-02-16T17:29:34.702703",
          "score": 0.03921816895727957
         },
         {
          "date": "1987-03-04T19:19:07.675676",
          "score": 0.03979064092515418
         },
         {
          "date": "1987-03-20T21:08:40.648649",
          "score": 0.04036299385794709
         },
         {
          "date": "1987-04-05T23:58:13.621622",
          "score": 0.040935226043445315
         },
         {
          "date": "1987-04-22T01:47:46.594595",
          "score": 0.04150733576979523
         },
         {
          "date": "1987-05-08T03:37:19.567568",
          "score": 0.04207932132551132
         },
         {
          "date": "1987-05-24T05:26:52.540541",
          "score": 0.04265118099947915
         },
         {
          "date": "1987-06-09T07:16:25.513514",
          "score": 0.04322291308096052
         },
         {
          "date": "1987-06-25T09:05:58.486486",
          "score": 0.0437945158595988
         },
         {
          "date": "1987-07-11T10:55:31.459459",
          "score": 0.04436598762542506
         },
         {
          "date": "1987-07-27T12:45:04.432432",
          "score": 0.044937326668861396
         },
         {
          "date": "1987-08-12T14:34:37.405405",
          "score": 0.04550853128072711
         },
         {
          "date": "1987-08-28T16:24:10.378378",
          "score": 0.046079599752244085
         },
         {
          "date": "1987-09-13T18:13:43.351351",
          "score": 0.04665053037504137
         },
         {
          "date": "1987-09-29T19:03:16.324324",
          "score": 0.04722132144115945
         },
         {
          "date": "1987-10-15T20:52:49.297297",
          "score": 0.04779197124305752
         },
         {
          "date": "1987-10-31T22:42:22.270270",
          "score": 0.048362478073617085
         },
         {
          "date": "1987-11-17T00:31:55.243243",
          "score": 0.048932840226146995
         },
         {
          "date": "1987-12-03T02:21:28.216216",
          "score": 0.049503055994388985
         },
         {
          "date": "1987-12-19T04:11:01.189189",
          "score": 0.05007312367252309
         },
         {
          "date": "1988-01-04T06:00:34.162162",
          "score": 0.05064304155517178
         },
         {
          "date": "1988-01-20T07:50:07.135135",
          "score": 0.051212807937406596
         },
         {
          "date": "1988-02-05T09:39:40.108108",
          "score": 0.051782421114750746
         },
         {
          "date": "1988-02-21T11:29:13.081081",
          "score": 0.05235187938318722
         },
         {
          "date": "1988-03-08T13:18:46.054054",
          "score": 0.05292118103916164
         },
         {
          "date": "1988-03-24T15:08:19.027027",
          "score": 0.053490324379588616
         },
         {
          "date": "1988-04-09T17:57:52",
          "score": 0.05405930770185596
         },
         {
          "date": "1988-04-25T19:47:24.972973",
          "score": 0.05462812930383022
         },
         {
          "date": "1988-05-11T21:36:57.945946",
          "score": 0.055196787483861996
         },
         {
          "date": "1988-05-27T23:26:30.918919",
          "score": 0.05576528054079076
         },
         {
          "date": "1988-06-13T01:16:03.891892",
          "score": 0.05633360677394956
         },
         {
          "date": "1988-06-29T03:05:36.864865",
          "score": 0.05690176448317102
         },
         {
          "date": "1988-07-15T04:55:09.837838",
          "score": 0.05746975196879185
         },
         {
          "date": "1988-07-31T06:44:42.810811",
          "score": 0.0580375675316572
         },
         {
          "date": "1988-08-16T08:34:15.783784",
          "score": 0.05860520947312711
         },
         {
          "date": "1988-09-01T10:23:48.756757",
          "score": 0.05917267609508163
         },
         {
          "date": "1988-09-17T12:13:21.729730",
          "score": 0.05973996569992441
         },
         {
          "date": "1988-10-03T13:02:54.702703",
          "score": 0.060307076590588767
         },
         {
          "date": "1988-10-19T14:52:27.675676",
          "score": 0.06087400707054312
         },
         {
          "date": "1988-11-04T16:42:00.648649",
          "score": 0.061440755443795424
         },
         {
          "date": "1988-11-20T18:31:33.621622",
          "score": 0.0620073200148977
         },
         {
          "date": "1988-12-06T20:21:06.594595",
          "score": 0.06257369908895237
         },
         {
          "date": "1988-12-22T22:10:39.567568",
          "score": 0.06313989097161742
         },
         {
          "date": "1989-01-08T00:00:12.540541",
          "score": 0.06370589396910988
         },
         {
          "date": "1989-01-24T01:49:45.513514",
          "score": 0.06427170638821204
         },
         {
          "date": "1989-02-09T03:39:18.486486",
          "score": 0.06483732653627657
         },
         {
          "date": "1989-02-25T05:28:51.459460",
          "score": 0.06540275272123132
         },
         {
          "date": "1989-03-13T07:18:24.432432",
          "score": 0.06596798325158401
         },
         {
          "date": "1989-03-29T10:07:57.405405",
          "score": 0.06653301643642817
         },
         {
          "date": "1989-04-14T11:57:30.378378",
          "score": 0.0670978505854473
         },
         {
          "date": "1989-04-30T13:47:03.351351",
          "score": 0.06766248400892076
         },
         {
          "date": "1989-05-16T15:36:36.324324",
          "score": 0.06822691501772733
         },
         {
          "date": "1989-06-01T17:26:09.297297",
          "score": 0.06879114192335259
         },
         {
          "date": "1989-06-17T19:15:42.270270",
          "score": 0.0693551630378923
         },
         {
          "date": "1989-07-03T21:05:15.243243",
          "score": 0.06991897667405741
         },
         {
          "date": "1989-07-19T22:54:48.216216",
          "score": 0.07048258114518026
         },
         {
          "date": "1989-08-05T00:44:21.189189",
          "score": 0.07104597476521818
         },
         {
          "date": "1989-08-21T02:33:54.162162",
          "score": 0.07160915584875978
         },
         {
          "date": "1989-09-06T04:23:27.135135",
          "score": 0.07217212271102995
         },
         {
          "date": "1989-09-22T06:13:00.108108",
          "score": 0.0727348736678926
         },
         {
          "date": "1989-10-08T07:02:33.081081",
          "score": 0.07329740703585931
         },
         {
          "date": "1989-10-24T08:52:06.054054",
          "score": 0.0738597211320922
         },
         {
          "date": "1989-11-09T10:41:39.027027",
          "score": 0.07442181427440897
         },
         {
          "date": "1989-11-25T12:31:12",
          "score": 0.07498368478128838
         },
         {
          "date": "1989-12-11T14:20:44.972973",
          "score": 0.07554533097187546
         },
         {
          "date": "1989-12-27T16:10:17.945946",
          "score": 0.07610675116598634
         },
         {
          "date": "1990-01-12T17:59:50.918919",
          "score": 0.07666794368411273
         },
         {
          "date": "1990-01-28T19:49:23.891892",
          "score": 0.07722890684742803
         },
         {
          "date": "1990-02-13T21:38:56.864865",
          "score": 0.0777896389777914
         },
         {
          "date": "1990-03-01T23:28:29.837838",
          "score": 0.07835013839775345
         },
         {
          "date": "1990-03-18T01:18:02.810811",
          "score": 0.07891040343056008
         },
         {
          "date": "1990-04-03T04:07:35.783784",
          "score": 0.07947043240015943
         },
         {
          "date": "1990-04-19T05:57:08.756757",
          "score": 0.08003022363120557
         },
         {
          "date": "1990-05-05T07:46:41.729730",
          "score": 0.08058977544906333
         },
         {
          "date": "1990-05-21T09:36:14.702703",
          "score": 0.08114908617981435
         },
         {
          "date": "1990-06-06T11:25:47.675676",
          "score": 0.08170815415026104
         },
         {
          "date": "1990-06-22T13:15:20.648649",
          "score": 0.0822669776879325
         },
         {
          "date": "1990-07-08T15:04:53.621622",
          "score": 0.08282555512108782
         },
         {
          "date": "1990-07-24T16:54:26.594595",
          "score": 0.08338388477872417
         },
         {
          "date": "1990-08-09T18:43:59.567568",
          "score": 0.08394196499057872
         },
         {
          "date": "1990-08-25T20:33:32.540541",
          "score": 0.08449979408713502
         },
         {
          "date": "1990-09-10T22:23:05.513514",
          "score": 0.08505737039962827
         },
         {
          "date": "1990-09-27T00:12:38.486486",
          "score": 0.08561469226004932
         },
         {
          "date": "1990-10-13T01:02:11.459460",
          "score": 0.08617175800115069
         },
         {
          "date": "1990-10-29T02:51:44.432432",
          "score": 0.08672856595645097
         },
         {
          "date": "1990-11-14T04:41:17.405405",
          "score": 0.08728511446023977
         },
         {
          "date": "1990-11-30T06:30:50.378378",
          "score": 0.08784140184758281
         },
         {
          "date": "1990-12-16T08:20:23.351351",
          "score": 0.08839742645432763
         },
         {
          "date": "1991-01-01T10:09:56.324324",
          "score": 0.08895318661710666
         },
         {
          "date": "1991-01-17T11:59:29.297297",
          "score": 0.0895086806733442
         },
         {
          "date": "1991-02-02T13:49:02.270270",
          "score": 0.09006390696126075
         },
         {
          "date": "1991-02-18T15:38:35.243243",
          "score": 0.09061886381987767
         },
         {
          "date": "1991-03-06T17:28:08.216216",
          "score": 0.09117354958902207
         },
         {
          "date": "1991-03-22T19:17:41.189189",
          "score": 0.09172796260933248
         },
         {
          "date": "1991-04-07T22:07:14.162162",
          "score": 0.0922821012222629
         },
         {
          "date": "1991-04-23T23:56:47.135135",
          "score": 0.0928359637700891
         },
         {
          "date": "1991-05-10T01:46:20.108108",
          "score": 0.09338954859591099
         },
         {
          "date": "1991-05-26T03:35:53.081081",
          "score": 0.09394285404366091
         },
         {
          "date": "1991-06-11T05:25:26.054054",
          "score": 0.09449587845810661
         },
         {
          "date": "1991-06-27T07:14:59.027027",
          "score": 0.09504862018485606
         },
         {
          "date": "1991-07-13T09:04:32",
          "score": 0.09560107757036351
         },
         {
          "date": "1991-07-29T10:54:04.972973",
          "score": 0.09615324896193331
         },
         {
          "date": "1991-08-14T12:43:37.945946",
          "score": 0.09670513270772567
         },
         {
          "date": "1991-08-30T14:33:10.918919",
          "score": 0.0972567271567614
         },
         {
          "date": "1991-09-15T16:22:43.891892",
          "score": 0.09780803065892647
         },
         {
          "date": "1991-10-01T17:12:16.864865",
          "score": 0.0983590415649772
         },
         {
          "date": "1991-10-17T19:01:49.837838",
          "score": 0.0989097582265459
         },
         {
          "date": "1991-11-02T20:51:22.810811",
          "score": 0.09946017899614386
         },
         {
          "date": "1991-11-18T22:40:55.783784",
          "score": 0.10001030222716845
         },
         {
          "date": "1991-12-05T00:30:28.756757",
          "score": 0.10056012627390712
         },
         {
          "date": "1991-12-21T02:20:01.729730",
          "score": 0.10110964949154226
         },
         {
          "date": "1992-01-06T04:09:34.702703",
          "score": 0.10165887023615601
         },
         {
          "date": "1992-01-22T05:59:07.675676",
          "score": 0.10220778686473515
         },
         {
          "date": "1992-02-07T07:48:40.648649",
          "score": 0.10275639773517758
         },
         {
          "date": "1992-02-23T09:38:13.621622",
          "score": 0.1033047012062936
         },
         {
          "date": "1992-03-10T11:27:46.594595",
          "score": 0.10385269563781506
         },
         {
          "date": "1992-03-26T13:17:19.567568",
          "score": 0.10440037939039733
         },
         {
          "date": "1992-04-11T16:06:52.540541",
          "score": 0.10494775082562578
         },
         {
          "date": "1992-04-27T17:56:25.513514",
          "score": 0.10549480830601962
         },
         {
          "date": "1992-05-13T19:45:58.486486",
          "score": 0.1060415501950372
         },
         {
          "date": "1992-05-29T21:35:31.459460",
          "score": 0.10658797485708173
         },
         {
          "date": "1992-06-14T23:25:04.432432",
          "score": 0.10713408065750463
         },
         {
          "date": "1992-07-01T01:14:37.405405",
          "score": 0.1076798659626113
         },
         {
          "date": "1992-07-17T03:04:10.378378",
          "score": 0.10822532913966638
         },
         {
          "date": "1992-08-02T04:53:43.351351",
          "score": 0.108770468556898
         },
         {
          "date": "1992-08-18T06:43:16.324324",
          "score": 0.10931528258350201
         },
         {
          "date": "1992-09-03T08:32:49.297297",
          "score": 0.10985976958964876
         },
         {
          "date": "1992-09-19T10:22:22.270270",
          "score": 0.11040392794648667
         },
         {
          "date": "1992-10-05T11:11:55.243243",
          "score": 0.11094775602614684
         },
         {
          "date": "1992-10-21T13:01:28.216216",
          "score": 0.11149125220174902
         },
         {
          "date": "1992-11-06T14:51:01.189189",
          "score": 0.1120344148474054
         },
         {
          "date": "1992-11-22T16:40:34.162162",
          "score": 0.11257724233822598
         },
         {
          "date": "1992-12-08T18:30:07.135135",
          "score": 0.11311973305032405
         },
         {
          "date": "1992-12-24T20:19:40.108108",
          "score": 0.11366188536081902
         },
         {
          "date": "1993-01-09T22:09:13.081081",
          "score": 0.11420369764784397
         },
         {
          "date": "1993-01-25T23:58:46.054054",
          "score": 0.11474516829054841
         },
         {
          "date": "1993-02-11T01:48:19.027027",
          "score": 0.11528629566910446
         },
         {
          "date": "1993-02-27T03:37:52",
          "score": 0.1158270781647106
         },
         {
          "date": "1993-03-15T05:27:24.972973",
          "score": 0.11636751415959717
         },
         {
          "date": "1993-03-31T08:16:57.945946",
          "score": 0.11690760203703142
         },
         {
          "date": "1993-04-16T10:06:30.918919",
          "score": 0.1174473401813213
         },
         {
          "date": "1993-05-02T11:56:03.891892",
          "score": 0.11798672697782199
         },
         {
          "date": "1993-05-18T13:45:36.864865",
          "score": 0.11852576081293882
         },
         {
          "date": "1993-06-03T15:35:09.837838",
          "score": 0.11906444007413405
         },
         {
          "date": "1993-06-19T17:24:42.810811",
          "score": 0.11960276314992903
         },
         {
          "date": "1993-07-05T19:14:15.783784",
          "score": 0.12014072842991191
         },
         {
          "date": "1993-07-21T21:03:48.756757",
          "score": 0.12067833430474115
         },
         {
          "date": "1993-08-06T22:53:21.729730",
          "score": 0.12121557916614975
         },
         {
          "date": "1993-08-23T00:42:54.702703",
          "score": 0.1217524614069515
         },
         {
          "date": "1993-09-08T02:32:27.675676",
          "score": 0.12228897942104455
         },
         {
          "date": "1993-09-24T04:22:00.648649",
          "score": 0.12282513160341697
         },
         {
          "date": "1993-10-10T05:11:33.621622",
          "score": 0.12336091635014991
         },
         {
          "date": "1993-10-26T07:01:06.594595",
          "score": 0.12389633205842546
         },
         {
          "date": "1993-11-11T08:50:39.567568",
          "score": 0.12443137712652882
         },
         {
          "date": "1993-11-27T10:40:12.540541",
          "score": 0.1249660499538538
         },
         {
          "date": "1993-12-13T12:29:45.513514",
          "score": 0.12550034894090858
         },
         {
          "date": "1993-12-29T14:19:18.486486",
          "score": 0.12603427248931917
         },
         {
          "date": "1994-01-14T16:08:51.459460",
          "score": 0.12656781900183467
         },
         {
          "date": "1994-01-30T17:58:24.432432",
          "score": 0.127100986882332
         },
         {
          "date": "1994-02-15T19:47:57.405405",
          "score": 0.12763377453582134
         },
         {
          "date": "1994-03-03T21:37:30.378378",
          "score": 0.12816618036844954
         },
         {
          "date": "1994-03-19T23:27:03.351351",
          "score": 0.12869820278750677
         },
         {
          "date": "1994-04-05T02:16:36.324324",
          "score": 0.1292298402014286
         },
         {
          "date": "1994-04-21T04:06:09.297297",
          "score": 0.12976109101980393
         },
         {
          "date": "1994-05-07T05:55:42.270270",
          "score": 0.13029195365337728
         },
         {
          "date": "1994-05-23T07:45:15.243243",
          "score": 0.13082242651405462
         },
         {
          "date": "1994-06-08T09:34:48.216216",
          "score": 0.13135250801490822
         },
         {
          "date": "1994-06-24T11:24:21.189189",
          "score": 0.13188219657018066
         },
         {
          "date": "1994-07-10T13:13:54.162162",
          "score": 0.13241149059529053
         },
         {
          "date": "1994-07-26T15:03:27.135135",
          "score": 0.13294038850683634
         },
         {
          "date": "1994-08-11T16:53:00.108108",
          "score": 0.1334688887226015
         },
         {
          "date": "1994-08-27T18:42:33.081081",
          "score": 0.1339969896615592
         },
         {
          "date": "1994-09-12T20:32:06.054054",
          "score": 0.1345246897438775
         },
         {
          "date": "1994-09-28T21:21:39.027027",
          "score": 0.13505198739092314
         },
         {
          "date": "1994-10-14T23:11:12",
          "score": 0.1355788810252668
         },
         {
          "date": "1994-10-31T01:00:44.972973",
          "score": 0.1361053690706882
         },
         {
          "date": "1994-11-16T02:50:17.945946",
          "score": 0.13663144995217996
         },
         {
          "date": "1994-12-02T04:39:50.918919",
          "score": 0.1371571220959526
         },
         {
          "date": "1994-12-18T06:29:23.891892",
          "score": 0.1376823839294401
         },
         {
          "date": "1995-01-03T08:18:56.864865",
          "score": 0.13820723388130346
         },
         {
          "date": "1995-01-19T10:08:29.837838",
          "score": 0.13873167038143616
         },
         {
          "date": "1995-02-04T11:58:02.810811",
          "score": 0.13925569186096726
         },
         {
          "date": "1995-02-20T13:47:35.783784",
          "score": 0.13977929675226902
         },
         {
          "date": "1995-03-08T15:37:08.756757",
          "score": 0.14030248348895893
         },
         {
          "date": "1995-03-24T17:26:41.729730",
          "score": 0.14082525050590583
         },
         {
          "date": "1995-04-09T20:16:14.702703",
          "score": 0.14134759623923443
         },
         {
          "date": "1995-04-25T22:05:47.675676",
          "score": 0.14186951912632909
         },
         {
          "date": "1995-05-11T23:55:20.648649",
          "score": 0.14239101760583966
         },
         {
          "date": "1995-05-28T01:44:53.621622",
          "score": 0.14291209011768483
         },
         {
          "date": "1995-06-13T03:34:26.594595",
          "score": 0.14343273510305837
         },
         {
          "date": "1995-06-29T05:23:59.567568",
          "score": 0.14395295100443267
         },
         {
          "date": "1995-07-15T07:13:32.540541",
          "score": 0.14447273626556378
         },
         {
          "date": "1995-07-31T09:03:05.513514",
          "score": 0.14499208933149652
         },
         {
          "date": "1995-08-16T10:52:38.486486",
          "score": 0.14551100864856786
         },
         {
          "date": "1995-09-01T12:42:11.459460",
          "score": 0.14602949266441262
         },
         {
          "date": "1995-09-17T14:31:44.432432",
          "score": 0.1465475398279681
         },
         {
          "date": "1995-10-03T15:21:17.405405",
          "score": 0.147065148589478
         },
         {
          "date": "1995-10-19T17:10:50.378378",
          "score": 0.14758231740049804
         },
         {
          "date": "1995-11-04T19:00:23.351351",
          "score": 0.14809904471389979
         },
         {
          "date": "1995-11-20T20:49:56.324324",
          "score": 0.1486153289838753
         },
         {
          "date": "1995-12-06T22:39:29.297297",
          "score": 0.14913116866594245
         },
         {
          "date": "1995-12-23T00:29:02.270270",
          "score": 0.1496465622169488
         },
         {
          "date": "1996-01-08T02:18:35.243243",
          "score": 0.15016150809507692
         },
         {
          "date": "1996-01-24T04:08:08.216216",
          "score": 0.1506760047598481
         },
         {
          "date": "1996-02-09T05:57:41.189189",
          "score": 0.15119005067212804
         },
         {
          "date": "1996-02-25T07:47:14.162162",
          "score": 0.15170364429413044
         },
         {
          "date": "1996-03-12T09:36:47.135135",
          "score": 0.15221678408942224
         },
         {
          "date": "1996-03-28T11:26:20.108108",
          "score": 0.1527294685229276
         },
         {
          "date": "1996-04-13T14:15:53.081081",
          "score": 0.15324169606093369
         },
         {
          "date": "1996-04-29T16:05:26.054054",
          "score": 0.1537534651710939
         },
         {
          "date": "1996-05-15T17:54:59.027027",
          "score": 0.1542647743224331
         },
         {
          "date": "1996-05-31T19:44:32",
          "score": 0.15477562198535244
         },
         {
          "date": "1996-06-16T21:34:04.972973",
          "score": 0.1552860066316334
         },
         {
          "date": "1996-07-02T23:23:37.945946",
          "score": 0.15579592673444234
         },
         {
          "date": "1996-07-19T01:13:10.918919",
          "score": 0.15630538076833575
         },
         {
          "date": "1996-08-04T03:02:43.891892",
          "score": 0.15681436720926453
         },
         {
          "date": "1996-08-20T04:52:16.864865",
          "score": 0.1573228845345777
         },
         {
          "date": "1996-09-05T06:41:49.837838",
          "score": 0.15783093122302883
         },
         {
          "date": "1996-09-21T08:31:22.810811",
          "score": 0.15833850575477754
         },
         {
          "date": "1996-10-07T10:20:55.783784",
          "score": 0.1588456066113974
         },
         {
          "date": "1996-10-23T12:10:28.756757",
          "score": 0.15935223227587883
         },
         {
          "date": "1996-11-08T13:00:01.729730",
          "score": 0.15985838123263327
         },
         {
          "date": "1996-11-24T14:49:34.702703",
          "score": 0.160364051967499
         },
         {
          "date": "1996-12-10T16:39:07.675676",
          "score": 0.16086924296774419
         },
         {
          "date": "1996-12-26T18:28:40.648649",
          "score": 0.16137395272207303
         },
         {
          "date": "1997-01-11T20:18:13.621622",
          "score": 0.16187817972062793
         },
         {
          "date": "1997-01-27T22:07:46.594595",
          "score": 0.16238192245499655
         },
         {
          "date": "1997-02-12T23:57:19.567568",
          "score": 0.16288517941821537
         },
         {
          "date": "1997-03-01T01:46:52.540541",
          "score": 0.16338794910477328
         },
         {
          "date": "1997-03-17T03:36:25.513514",
          "score": 0.1638902300106179
         },
         {
          "date": "1997-04-02T06:25:58.486487",
          "score": 0.16439202063315808
         },
         {
          "date": "1997-04-18T08:15:31.459459",
          "score": 0.16489331947127006
         },
         {
          "date": "1997-05-04T10:05:04.432432",
          "score": 0.16539412502530082
         },
         {
          "date": "1997-05-20T11:54:37.405405",
          "score": 0.1658944357970731
         },
         {
          "date": "1997-06-05T13:44:10.378378",
          "score": 0.16639425028989008
         },
         {
          "date": "1997-06-21T15:33:43.351351",
          "score": 0.16689356700853944
         },
         {
          "date": "1997-07-07T17:23:16.324324",
          "score": 0.16739238445929763
         },
         {
          "date": "1997-07-23T19:12:49.297297",
          "score": 0.16789070114993496
         },
         {
          "date": "1997-08-08T21:02:22.270270",
          "score": 0.16838851558972
         },
         {
          "date": "1997-08-24T22:51:55.243243",
          "score": 0.16888582628942336
         },
         {
          "date": "1997-09-10T00:41:28.216216",
          "score": 0.16938263176132312
         },
         {
          "date": "1997-09-26T02:31:01.189189",
          "score": 0.16987893051920835
         },
         {
          "date": "1997-10-12T04:20:34.162162",
          "score": 0.17037472107838397
         },
         {
          "date": "1997-10-28T05:10:07.135135",
          "score": 0.17087000195567573
         },
         {
          "date": "1997-11-13T06:59:40.108108",
          "score": 0.1713647716694333
         },
         {
          "date": "1997-11-29T08:49:13.081081",
          "score": 0.17185902873953612
         },
         {
          "date": "1997-12-15T10:38:46.054054",
          "score": 0.17235277168739688
         },
         {
          "date": "1997-12-31T12:28:19.027027",
          "score": 0.17284599903596667
         },
         {
          "date": "1998-01-16T14:17:52",
          "score": 0.17333870930973866
         },
         {
          "date": "1998-02-01T16:07:24.972973",
          "score": 0.17383090103475285
         },
         {
          "date": "1998-02-17T17:56:57.945946",
          "score": 0.17432257273860094
         },
         {
          "date": "1998-03-05T19:46:30.918919",
          "score": 0.17481372295042955
         },
         {
          "date": "1998-03-21T21:36:03.891892",
          "score": 0.17530435020094615
         },
         {
          "date": "1998-04-07T00:25:36.864865",
          "score": 0.17579445302242241
         },
         {
          "date": "1998-04-23T02:15:09.837838",
          "score": 0.17628402994869888
         },
         {
          "date": "1998-05-09T04:04:42.810811",
          "score": 0.17677307951518847
         },
         {
          "date": "1998-05-25T05:54:15.783784",
          "score": 0.17726160025888296
         },
         {
          "date": "1998-06-10T07:43:48.756757",
          "score": 0.17774959071835555
         },
         {
          "date": "1998-06-26T09:33:21.729730",
          "score": 0.17823704943376556
         },
         {
          "date": "1998-07-12T11:22:54.702703",
          "score": 0.1787239749468638
         },
         {
          "date": "1998-07-28T13:12:27.675676",
          "score": 0.17921036580099567
         },
         {
          "date": "1998-08-13T15:02:00.648649",
          "score": 0.17969622054110593
         },
         {
          "date": "1998-08-29T16:51:33.621622",
          "score": 0.18018153771374354
         },
         {
          "date": "1998-09-14T18:41:06.594595",
          "score": 0.18066631586706486
         },
         {
          "date": "1998-09-30T20:30:39.567568",
          "score": 0.18115055355083953
         },
         {
          "date": "1998-10-16T22:20:12.540541",
          "score": 0.18163424931645342
         },
         {
          "date": "1998-11-01T23:09:45.513514",
          "score": 0.18211740171691432
         },
         {
          "date": "1998-11-18T00:59:18.486487",
          "score": 0.182600009306855
         },
         {
          "date": "1998-12-04T02:48:51.459459",
          "score": 0.183082070642538
         },
         {
          "date": "1998-12-20T04:38:24.432432",
          "score": 0.18356358428186012
         },
         {
          "date": "1999-01-05T06:27:57.405405",
          "score": 0.18404454878435672
         },
         {
          "date": "1999-01-21T08:17:30.378378",
          "score": 0.1845249627112057
         },
         {
          "date": "1999-02-06T10:07:03.351351",
          "score": 0.18500482462523252
         },
         {
          "date": "1999-02-22T11:56:36.324324",
          "score": 0.18548413309091294
         },
         {
          "date": "1999-03-10T13:46:09.297297",
          "score": 0.18596288667437957
         },
         {
          "date": "1999-03-26T15:35:42.270270",
          "score": 0.18644108394342424
         },
         {
          "date": "1999-04-11T18:25:15.243243",
          "score": 0.18691872346750343
         },
         {
          "date": "1999-04-27T20:14:48.216216",
          "score": 0.18739580381774187
         },
         {
          "date": "1999-05-13T22:04:21.189189",
          "score": 0.18787232356693703
         },
         {
          "date": "1999-05-29T23:53:54.162162",
          "score": 0.1883482812895638
         },
         {
          "date": "1999-06-15T01:43:27.135135",
          "score": 0.18882367556177812
         },
         {
          "date": "1999-07-01T03:33:00.108108",
          "score": 0.18929850496142137
         },
         {
          "date": "1999-07-17T05:22:33.081081",
          "score": 0.1897727680680249
         },
         {
          "date": "1999-08-02T07:12:06.054054",
          "score": 0.1902464634628144
         },
         {
          "date": "1999-08-18T09:01:39.027027",
          "score": 0.19071958972871364
         },
         {
          "date": "1999-09-03T10:51:12",
          "score": 0.1911921454503488
         },
         {
          "date": "1999-09-19T12:40:44.972973",
          "score": 0.1916641292140533
         },
         {
          "date": "1999-10-05T14:30:17.945946",
          "score": 0.19213553960787114
         },
         {
          "date": "1999-10-21T16:19:50.918919",
          "score": 0.1926063752215618
         },
         {
          "date": "1999-11-06T17:09:23.891892",
          "score": 0.19307663464660452
         },
         {
          "date": "1999-11-22T18:58:56.864865",
          "score": 0.1935463164762017
         },
         {
          "date": "1999-12-08T20:48:29.837838",
          "score": 0.19401541930528418
         },
         {
          "date": "1999-12-24T22:38:02.810811",
          "score": 0.19448394173051406
         },
         {
          "date": "2000-01-10T00:27:35.783784",
          "score": 0.19495188235029046
         },
         {
          "date": "2000-01-26T02:17:08.756757",
          "score": 0.19541923976475273
         },
         {
          "date": "2000-02-11T04:06:41.729730",
          "score": 0.19588601257578495
         },
         {
          "date": "2000-02-27T05:56:14.702703",
          "score": 0.19635219938702045
         },
         {
          "date": "2000-03-14T07:45:47.675676",
          "score": 0.19681779880384495
         },
         {
          "date": "2000-03-30T10:35:20.648649",
          "score": 0.1972828094334015
         },
         {
          "date": "2000-04-15T12:24:53.621622",
          "score": 0.1977472298845954
         },
         {
          "date": "2000-05-01T14:14:26.594595",
          "score": 0.19821105876809583
         },
         {
          "date": "2000-05-17T16:03:59.567568",
          "score": 0.19867429469634276
         },
         {
          "date": "2000-06-02T17:53:32.540541",
          "score": 0.19913693628355025
         },
         {
          "date": "2000-06-18T19:43:05.513514",
          "score": 0.1995989821457099
         },
         {
          "date": "2000-07-04T21:32:38.486487",
          "score": 0.20006043090059536
         },
         {
          "date": "2000-07-20T23:22:11.459459",
          "score": 0.20052128116776666
         },
         {
          "date": "2000-08-06T01:11:44.432432",
          "score": 0.20098153156857437
         },
         {
          "date": "2000-08-22T03:01:17.405405",
          "score": 0.20144118072616332
         },
         {
          "date": "2000-09-07T04:50:50.378378",
          "score": 0.2019002272654773
         },
         {
          "date": "2000-09-23T06:40:23.351351",
          "score": 0.2023586698132627
         },
         {
          "date": "2000-10-09T08:29:56.324324",
          "score": 0.20281650699807247
         },
         {
          "date": "2000-10-25T10:19:29.297297",
          "score": 0.20327373745027089
         },
         {
          "date": "2000-11-10T11:09:02.270270",
          "score": 0.20373035980203735
         },
         {
          "date": "2000-11-26T12:58:35.243243",
          "score": 0.20418637268737025
         },
         {
          "date": "2000-12-12T14:48:08.216216",
          "score": 0.20464177474209097
         },
         {
          "date": "2000-12-28T16:37:41.189189",
          "score": 0.2050965646038488
         },
         {
          "date": "2001-01-13T18:27:14.162162",
          "score": 0.20555074091212402
         },
         {
          "date": "2001-01-29T20:16:47.135135",
          "score": 0.2060043023082325
         },
         {
          "date": "2001-02-14T22:06:20.108108",
          "score": 0.20645724743532928
         },
         {
          "date": "2001-03-02T23:55:53.081081",
          "score": 0.20690957493841372
         },
         {
          "date": "2001-03-19T01:45:26.054054",
          "score": 0.2073612834643322
         },
         {
          "date": "2001-04-04T04:34:59.027027",
          "score": 0.20781237166178296
         },
         {
          "date": "2001-04-20T06:24:32",
          "score": 0.2082628381813202
         },
         {
          "date": "2001-05-06T08:14:04.972973",
          "score": 0.20871268167535753
         },
         {
          "date": "2001-05-22T10:03:37.945946",
          "score": 0.2091619007981727
         },
         {
          "date": "2001-06-07T11:53:10.918919",
          "score": 0.20961049420591088
         },
         {
          "date": "2001-06-23T13:42:43.891892",
          "score": 0.21005846055658978
         },
         {
          "date": "2001-07-09T15:32:16.864865",
          "score": 0.2105057985101026
         },
         {
          "date": "2001-07-25T17:21:49.837838",
          "score": 0.21095250672822155
         },
         {
          "date": "2001-08-10T19:11:22.810811",
          "score": 0.21139858387460414
         },
         {
          "date": "2001-08-26T21:00:55.783784",
          "score": 0.21184402861479484
         },
         {
          "date": "2001-09-11T22:50:28.756757",
          "score": 0.21228883961623052
         },
         {
          "date": "2001-09-28T00:40:01.729730",
          "score": 0.21273301554824328
         },
         {
          "date": "2001-10-14T02:29:34.702703",
          "score": 0.2131765550820659
         },
         {
          "date": "2001-10-30T03:19:07.675676",
          "score": 0.21361945689083414
         },
         {
          "date": "2001-11-15T05:08:40.648649",
          "score": 0.21406171964959214
         },
         {
          "date": "2001-12-01T06:58:13.621622",
          "score": 0.21450334203529572
         },
         {
          "date": "2001-12-17T08:47:46.594595",
          "score": 0.21494432272681543
         },
         {
          "date": "2002-01-02T10:37:19.567568",
          "score": 0.21538466040494259
         },
         {
          "date": "2002-01-18T12:26:52.540541",
          "score": 0.21582435375239212
         },
         {
          "date": "2002-02-03T14:16:25.513514",
          "score": 0.21626340145380585
         },
         {
          "date": "2002-02-19T16:05:58.486487",
          "score": 0.2167018021957573
         },
         {
          "date": "2002-03-07T17:55:31.459459",
          "score": 0.21713955466675558
         },
         {
          "date": "2002-03-23T19:45:04.432432",
          "score": 0.21757665755724898
         },
         {
          "date": "2002-04-08T22:34:37.405405",
          "score": 0.21801310955962908
         },
         {
          "date": "2002-04-25T00:24:10.378378",
          "score": 0.21844890936823455
         },
         {
          "date": "2002-05-11T02:13:43.351351",
          "score": 0.21888405567935523
         },
         {
          "date": "2002-05-27T04:03:16.324324",
          "score": 0.21931854719123559
         },
         {
          "date": "2002-06-12T05:52:49.297297",
          "score": 0.21975238260407945
         },
         {
          "date": "2002-06-28T07:42:22.270270",
          "score": 0.22018556062005315
         },
         {
          "date": "2002-07-14T09:31:55.243243",
          "score": 0.22061807994328936
         },
         {
          "date": "2002-07-30T11:21:28.216216",
          "score": 0.2210499392798919
         },
         {
          "date": "2002-08-15T13:11:01.189189",
          "score": 0.22148113733793837
         },
         {
          "date": "2002-08-31T15:00:34.162162",
          "score": 0.2219116728274848
         },
         {
          "date": "2002-09-16T16:50:07.135135",
          "score": 0.22234154446056964
         },
         {
          "date": "2002-10-02T18:39:40.108108",
          "score": 0.2227707509512167
         },
         {
          "date": "2002-10-18T20:29:13.081081",
          "score": 0.22319929101544
         },
         {
          "date": "2002-11-03T21:18:46.054054",
          "score": 0.22362716337124694
         },
         {
          "date": "2002-11-19T23:08:19.027027",
          "score": 0.22405436673864274
         },
         {
          "date": "2002-12-06T00:57:52",
          "score": 0.2244808998396335
         },
         {
          "date": "2002-12-22T02:47:24.972973",
          "score": 0.22490676139823093
         },
         {
          "date": "2003-01-07T04:36:57.945946",
          "score": 0.2253319501404553
         },
         {
          "date": "2003-01-23T06:26:30.918919",
          "score": 0.22575646479433947
         },
         {
          "date": "2003-02-08T08:16:03.891892",
          "score": 0.22618030408993353
         },
         {
          "date": "2003-02-24T10:05:36.864865",
          "score": 0.22660346675930781
         },
         {
          "date": "2003-03-12T11:55:09.837838",
          "score": 0.22702595153655583
         },
         {
          "date": "2003-03-28T13:44:42.810811",
          "score": 0.22744775715779988
         },
         {
          "date": "2003-04-13T16:34:15.783784",
          "score": 0.22786888236119407
         },
         {
          "date": "2003-04-29T18:23:48.756757",
          "score": 0.2282893258869276
         },
         {
          "date": "2003-05-15T20:13:21.729730",
          "score": 0.22870908647722898
         },
         {
          "date": "2003-05-31T22:02:54.702703",
          "score": 0.22912816287637006
         },
         {
          "date": "2003-06-16T23:52:27.675676",
          "score": 0.2295465538306693
         },
         {
          "date": "2003-07-03T01:42:00.648649",
          "score": 0.22996425808849552
         },
         {
          "date": "2003-07-19T03:31:33.621622",
          "score": 0.23038127440027228
         },
         {
          "date": "2003-08-04T05:21:06.594595",
          "score": 0.2307976015184803
         },
         {
          "date": "2003-08-20T07:10:39.567568",
          "score": 0.23121323819766262
         },
         {
          "date": "2003-09-05T09:00:12.540541",
          "score": 0.23162818319442813
         },
         {
          "date": "2003-09-21T10:49:45.513514",
          "score": 0.2320424352674541
         },
         {
          "date": "2003-10-07T12:39:18.486487",
          "score": 0.23245599317749138
         },
         {
          "date": "2003-10-23T14:28:51.459459",
          "score": 0.23286885568736693
         },
         {
          "date": "2003-11-08T15:18:24.432432",
          "score": 0.23328102156198843
         },
         {
          "date": "2003-11-24T17:07:57.405405",
          "score": 0.23369248956834726
         },
         {
          "date": "2003-12-10T18:57:30.378378",
          "score": 0.23410325847552252
         },
         {
          "date": "2003-12-26T20:47:03.351351",
          "score": 0.23451332705468514
         },
         {
          "date": "2004-01-11T22:36:36.324324",
          "score": 0.2349226940791004
         },
         {
          "date": "2004-01-28T00:26:09.297297",
          "score": 0.23533135832413277
         },
         {
          "date": "2004-02-13T02:15:42.270270",
          "score": 0.2357393185672489
         },
         {
          "date": "2004-02-29T04:05:15.243243",
          "score": 0.2361465735880217
         },
         {
          "date": "2004-03-16T05:54:48.216216",
          "score": 0.23655312216813368
         },
         {
          "date": "2004-04-01T08:44:21.189189",
          "score": 0.2369589630913805
         },
         {
          "date": "2004-04-17T10:33:54.162162",
          "score": 0.2373640951436753
         },
         {
          "date": "2004-05-03T12:23:27.135135",
          "score": 0.2377685171130512
         },
         {
          "date": "2004-05-19T14:13:00.108108",
          "score": 0.23817222778966593
         },
         {
          "date": "2004-06-04T16:02:33.081081",
          "score": 0.2385752259658049
         },
         {
          "date": "2004-06-20T17:52:06.054054",
          "score": 0.23897751043588536
         },
         {
          "date": "2004-07-06T19:41:39.027027",
          "score": 0.23937907999645924
         },
         {
          "date": "2004-07-22T21:31:12",
          "score": 0.23977993344621715
         },
         {
          "date": "2004-08-07T23:20:44.972973",
          "score": 0.24018006958599233
         },
         {
          "date": "2004-08-24T01:10:17.945946",
          "score": 0.24057948721876343
         },
         {
          "date": "2004-09-09T02:59:50.918919",
          "score": 0.24097818514965874
         },
         {
          "date": "2004-09-25T04:49:23.891892",
          "score": 0.24137616218595997
         },
         {
          "date": "2004-10-11T06:38:56.864865",
          "score": 0.2417734171371047
         },
         {
          "date": "2004-10-27T08:28:29.837838",
          "score": 0.24216994881469095
         },
         {
          "date": "2004-11-12T09:18:02.810811",
          "score": 0.24256575603248096
         },
         {
          "date": "2004-11-28T11:07:35.783784",
          "score": 0.24296083760640294
         },
         {
          "date": "2004-12-14T12:57:08.756757",
          "score": 0.24335519235455685
         },
         {
          "date": "2004-12-30T14:46:41.729730",
          "score": 0.24374881909721707
         },
         {
          "date": "2005-01-15T16:36:14.702703",
          "score": 0.2441417166568355
         },
         {
          "date": "2005-01-31T18:25:47.675676",
          "score": 0.24453388385804584
         },
         {
          "date": "2005-02-16T20:15:20.648649",
          "score": 0.24492531952766536
         },
         {
          "date": "2005-03-04T22:04:53.621622",
          "score": 0.24531602249470139
         },
         {
          "date": "2005-03-20T23:54:26.594594",
          "score": 0.24570599159035225
         },
         {
          "date": "2005-04-06T02:43:59.567568",
          "score": 0.2460952256480117
         },
         {
          "date": "2005-04-22T04:33:32.540541",
          "score": 0.24648372350327288
         },
         {
          "date": "2005-05-08T06:23:05.513514",
          "score": 0.24687148399393102
         },
         {
          "date": "2005-05-24T08:12:38.486486",
          "score": 0.24725850595998689
         },
         {
          "date": "2005-06-09T10:02:11.459460",
          "score": 0.2476447882436511
         },
         {
          "date": "2005-06-25T11:51:44.432432",
          "score": 0.24803032968934674
         },
         {
          "date": "2005-07-11T13:41:17.405406",
          "score": 0.24841512914371308
         },
         {
          "date": "2005-07-27T15:30:50.378378",
          "score": 0.24879918545560936
         },
         {
          "date": "2005-08-12T17:20:23.351351",
          "score": 0.24918249747611787
         },
         {
          "date": "2005-08-28T19:09:56.324324",
          "score": 0.2495650640585473
         },
         {
          "date": "2005-09-13T20:59:29.297297",
          "score": 0.24994688405843637
         },
         {
          "date": "2005-09-29T22:49:02.270270",
          "score": 0.2503279563335574
         },
         {
          "date": "2005-10-16T00:38:35.243243",
          "score": 0.2507082797439195
         },
         {
          "date": "2005-11-01T01:28:08.216216",
          "score": 0.25108785315177196
         },
         {
          "date": "2005-11-17T03:17:41.189189",
          "score": 0.2514666754216079
         },
         {
          "date": "2005-12-03T05:07:14.162162",
          "score": 0.25184474542016727
         },
         {
          "date": "2005-12-19T06:56:47.135135",
          "score": 0.25222206201644054
         },
         {
          "date": "2006-01-04T08:46:20.108108",
          "score": 0.2525986240816719
         },
         {
          "date": "2006-01-20T10:35:53.081081",
          "score": 0.2529744304893631
         },
         {
          "date": "2006-02-05T12:25:26.054054",
          "score": 0.25334948011527625
         },
         {
          "date": "2006-02-21T14:14:59.027027",
          "score": 0.25372377183743716
         },
         {
          "date": "2006-03-09T16:04:32",
          "score": 0.25409730453613943
         },
         {
          "date": "2006-03-25T17:54:04.972973",
          "score": 0.25447007709394687
         },
         {
          "date": "2006-04-10T20:43:37.945946",
          "score": 0.2548420883956976
         },
         {
          "date": "2006-04-26T22:33:10.918919",
          "score": 0.25521333732850665
         },
         {
          "date": "2006-05-13T00:22:43.891892",
          "score": 0.25558382278177033
         },
         {
          "date": "2006-05-29T02:12:16.864865",
          "score": 0.25595354364716827
         },
         {
          "date": "2006-06-14T04:01:49.837838",
          "score": 0.2563224988186679
         },
         {
          "date": "2006-06-30T05:51:22.810811",
          "score": 0.2566906871925273
         },
         {
          "date": "2006-07-16T07:40:55.783784",
          "score": 0.25705810766729736
         },
         {
          "date": "2006-08-01T09:30:28.756757",
          "score": 0.25742475914382734
         },
         {
          "date": "2006-08-17T11:20:01.729730",
          "score": 0.257790640525267
         },
         {
          "date": "2006-09-02T13:09:34.702703",
          "score": 0.25815575071706925
         },
         {
          "date": "2006-09-18T14:59:07.675676",
          "score": 0.2585200886269945
         },
         {
          "date": "2006-10-04T16:48:40.648649",
          "score": 0.25888365316511286
         },
         {
          "date": "2006-10-20T18:38:13.621622",
          "score": 0.2592464432438086
         },
         {
          "date": "2006-11-05T19:27:46.594594",
          "score": 0.2596084577777825
         },
         {
          "date": "2006-11-21T21:17:19.567568",
          "score": 0.25996969568405565
         },
         {
          "date": "2006-12-07T23:06:52.540541",
          "score": 0.26033015588197256
         },
         {
          "date": "2006-12-24T00:56:25.513514",
          "score": 0.2606898372932037
         },
         {
          "date": "2007-01-09T02:45:58.486486",
          "score": 0.26104873884174995
         },
         {
          "date": "2007-01-25T04:35:31.459460",
          "score": 0.2614068594539447
         },
         {
          "date": "2007-02-10T06:25:04.432432",
          "score": 0.2617641980584577
         },
         {
          "date": "2007-02-26T08:14:37.405406",
          "score": 0.2621207535862982
         },
         {
          "date": "2007-03-14T10:04:10.378378",
          "score": 0.262476524970818
         },
         {
          "date": "2007-03-30T12:53:43.351351",
          "score": 0.26283151114771464
         },
         {
          "date": "2007-04-15T14:43:16.324324",
          "score": 0.26318571105503485
         },
         {
          "date": "2007-05-01T16:32:49.297297",
          "score": 0.263539123633177
         },
         {
          "date": "2007-05-17T18:22:22.270270",
          "score": 0.2638917478248952
         },
         {
          "date": "2007-06-02T20:11:55.243243",
          "score": 0.264243582575302
         },
         {
          "date": "2007-06-18T22:01:28.216216",
          "score": 0.2645946268318717
         },
         {
          "date": "2007-07-04T23:51:01.189189",
          "score": 0.2649448795444429
         },
         {
          "date": "2007-07-21T01:40:34.162162",
          "score": 0.26529433966522303
         },
         {
          "date": "2007-08-06T03:30:07.135135",
          "score": 0.2656430061487894
         },
         {
          "date": "2007-08-22T05:19:40.108108",
          "score": 0.2659908779520944
         },
         {
          "date": "2007-09-07T07:09:13.081081",
          "score": 0.26633795403446753
         },
         {
          "date": "2007-09-23T08:58:46.054054",
          "score": 0.26668423335761854
         },
         {
          "date": "2007-10-09T10:48:19.027027",
          "score": 0.267029714885641
         },
         {
          "date": "2007-10-25T12:37:52",
          "score": 0.26737439758501463
         },
         {
          "date": "2007-11-10T13:27:24.972973",
          "score": 0.2677182804246096
         },
         {
          "date": "2007-11-26T15:16:57.945946",
          "score": 0.26806136237568823
         },
         {
          "date": "2007-12-12T17:06:30.918919",
          "score": 0.26840364241190884
         },
         {
          "date": "2007-12-28T18:56:03.891892",
          "score": 0.26874511950932906
         },
         {
          "date": "2008-01-13T20:45:36.864865",
          "score": 0.26908579264640836
         },
         {
          "date": "2008-01-29T22:35:09.837838",
          "score": 0.26942566080401115
         },
         {
          "date": "2008-02-15T00:24:42.810811",
          "score": 0.2697647229654102
         },
         {
          "date": "2008-03-02T02:14:15.783784",
          "score": 0.270102978116289
         },
         {
          "date": "2008-03-18T04:03:48.756757",
          "score": 0.27044042524474554
         },
         {
          "date": "2008-04-03T06:53:21.729730",
          "score": 0.27077706334129537
         },
         {
          "date": "2008-04-19T08:42:54.702703",
          "score": 0.27111289139887357
         },
         {
          "date": "2008-05-05T10:32:27.675676",
          "score": 0.2714479084128395
         },
         {
          "date": "2008-05-21T12:22:00.648649",
          "score": 0.27178211338097746
         },
         {
          "date": "2008-06-06T14:11:33.621622",
          "score": 0.27211550530350187
         },
         {
          "date": "2008-06-22T16:01:06.594594",
          "score": 0.27244808318305935
         },
         {
          "date": "2008-07-08T17:50:39.567568",
          "score": 0.2727798460247315
         },
         {
          "date": "2008-07-24T19:40:12.540541",
          "score": 0.27311079283603856
         },
         {
          "date": "2008-08-09T21:29:45.513514",
          "score": 0.2734409226269414
         },
         {
          "date": "2008-08-25T23:19:18.486486",
          "score": 0.2737702344098455
         },
         {
          "date": "2008-09-11T01:08:51.459460",
          "score": 0.27409872719960315
         },
         {
          "date": "2008-09-27T02:58:24.432432",
          "score": 0.2744264000135168
         },
         {
          "date": "2008-10-13T04:47:57.405406",
          "score": 0.2747532518713419
         },
         {
          "date": "2008-10-29T05:37:30.378378",
          "score": 0.2750792817952897
         },
         {
          "date": "2008-11-14T07:27:03.351351",
          "score": 0.27540448881003043
         },
         {
          "date": "2008-11-30T09:16:36.324324",
          "score": 0.27572887194269613
         },
         {
          "date": "2008-12-16T11:06:09.297297",
          "score": 0.2760524302228832
         },
         {
          "date": "2009-01-01T12:55:42.270270",
          "score": 0.27637516268265594
         },
         {
          "date": "2009-01-17T14:45:15.243243",
          "score": 0.2766970683565491
         },
         {
          "date": "2009-02-02T16:34:48.216216",
          "score": 0.27701814628157057
         },
         {
          "date": "2009-02-18T18:24:21.189189",
          "score": 0.27733839549720457
         },
         {
          "date": "2009-03-06T20:13:54.162162",
          "score": 0.2776578150454147
         },
         {
          "date": "2009-03-22T22:03:27.135135",
          "score": 0.2779764039706461
         },
         {
          "date": "2009-04-08T00:53:00.108108",
          "score": 0.278294161319829
         },
         {
          "date": "2009-04-24T02:42:33.081081",
          "score": 0.2786110861423812
         },
         {
          "date": "2009-05-10T04:32:06.054054",
          "score": 0.2789271774902113
         },
         {
          "date": "2009-05-26T06:21:39.027027",
          "score": 0.2792424344177209
         },
         {
          "date": "2009-06-11T08:11:12",
          "score": 0.27955685598180813
         },
         {
          "date": "2009-06-27T10:00:44.972973",
          "score": 0.2798704412418699
         },
         {
          "date": "2009-07-13T11:50:17.945946",
          "score": 0.2801831892598048
         },
         {
          "date": "2009-07-29T13:39:50.918919",
          "score": 0.28049509910001663
         },
         {
          "date": "2009-08-14T15:29:23.891892",
          "score": 0.2808061698294163
         },
         {
          "date": "2009-08-30T17:18:56.864865",
          "score": 0.28111640051742476
         },
         {
          "date": "2009-09-15T19:08:29.837838",
          "score": 0.28142579023597625
         },
         {
          "date": "2009-10-01T20:58:02.810811",
          "score": 0.2817343380595209
         },
         {
          "date": "2009-10-17T22:47:35.783784",
          "score": 0.2820420430650267
         },
         {
          "date": "2009-11-02T23:37:08.756757",
          "score": 0.2823489043319837
         },
         {
          "date": "2009-11-19T01:26:41.729730",
          "score": 0.2826549209424058
         },
         {
          "date": "2009-12-05T03:16:14.702703",
          "score": 0.28296009198083377
         },
         {
          "date": "2009-12-21T05:05:47.675676",
          "score": 0.28326441653433804
         },
         {
          "date": "2010-01-06T06:55:20.648649",
          "score": 0.28356789369252067
         },
         {
          "date": "2010-01-22T08:44:53.621622",
          "score": 0.28387052254751954
         },
         {
          "date": "2010-02-07T10:34:26.594594",
          "score": 0.28417230219400985
         },
         {
          "date": "2010-02-23T12:23:59.567568",
          "score": 0.2844732317292073
         },
         {
          "date": "2010-03-11T14:13:32.540541",
          "score": 0.28477331025287084
         },
         {
          "date": "2010-03-27T16:03:05.513514",
          "score": 0.2850725368673052
         },
         {
          "date": "2010-04-12T18:52:38.486486",
          "score": 0.2853709106773635
         },
         {
          "date": "2010-04-28T20:42:11.459460",
          "score": 0.2856684307904502
         },
         {
          "date": "2010-05-14T22:31:44.432432",
          "score": 0.2859650963165235
         },
         {
          "date": "2010-05-31T00:21:17.405406",
          "score": 0.28626090636809826
         },
         {
          "date": "2010-06-16T02:10:50.378378",
          "score": 0.2865558600602484
         },
         {
          "date": "2010-07-02T04:00:23.351351",
          "score": 0.28684995651060974
         },
         {
          "date": "2010-07-18T05:49:56.324324",
          "score": 0.28714319483938283
         },
         {
          "date": "2010-08-03T07:39:29.297297",
          "score": 0.2874355741693345
         },
         {
          "date": "2010-08-19T09:29:02.270270",
          "score": 0.2877270936258022
         },
         {
          "date": "2010-09-04T11:18:35.243243",
          "score": 0.28801775233669535
         },
         {
          "date": "2010-09-20T13:08:08.216216",
          "score": 0.28830754943249814
         },
         {
          "date": "2010-10-06T14:57:41.189189",
          "score": 0.28859648404627286
         },
         {
          "date": "2010-10-22T16:47:14.162162",
          "score": 0.28888455531366136
         },
         {
          "date": "2010-11-07T17:36:47.135135",
          "score": 0.28917176237288855
         },
         {
          "date": "2010-11-23T19:26:20.108108",
          "score": 0.2894581043647644
         },
         {
          "date": "2010-12-09T21:15:53.081081",
          "score": 0.28974358043268705
         },
         {
          "date": "2010-12-25T23:05:26.054054",
          "score": 0.2900281897226448
         },
         {
          "date": "2011-01-11T00:54:59.027027",
          "score": 0.2903119313832194
         },
         {
          "date": "2011-01-27T02:44:32",
          "score": 0.2905948045655876
         },
         {
          "date": "2011-02-12T04:34:04.972973",
          "score": 0.2908768084235244
         },
         {
          "date": "2011-02-28T06:23:37.945946",
          "score": 0.2911579421134056
         },
         {
          "date": "2011-03-16T08:13:10.918919",
          "score": 0.2914382047942102
         },
         {
          "date": "2011-04-01T11:02:43.891892",
          "score": 0.2917175956275224
         },
         {
          "date": "2011-04-17T12:52:16.864865",
          "score": 0.2919961137775349
         },
         {
          "date": "2011-05-03T14:41:49.837838",
          "score": 0.29227375841105113
         },
         {
          "date": "2011-05-19T16:31:22.810811",
          "score": 0.29255052869748766
         },
         {
          "date": "2011-06-04T18:20:55.783784",
          "score": 0.2928264238088761
         },
         {
          "date": "2011-06-20T20:10:28.756757",
          "score": 0.2931014429198668
         },
         {
          "date": "2011-07-06T22:00:01.729730",
          "score": 0.2933755852077309
         },
         {
          "date": "2011-07-22T23:49:34.702703",
          "score": 0.293648849852362
         },
         {
          "date": "2011-08-08T01:39:07.675676",
          "score": 0.2939212360362796
         },
         {
          "date": "2011-08-24T03:28:40.648649",
          "score": 0.29419274294463077
         },
         {
          "date": "2011-09-09T05:18:13.621622",
          "score": 0.2944633697651933
         },
         {
          "date": "2011-09-25T07:07:46.594594",
          "score": 0.29473311568837746
         },
         {
          "date": "2011-10-11T08:57:19.567568",
          "score": 0.2950019799072292
         },
         {
          "date": "2011-10-27T10:46:52.540541",
          "score": 0.29526996161743196
         },
         {
          "date": "2011-11-12T11:36:25.513514",
          "score": 0.29553706001730895
         },
         {
          "date": "2011-11-28T13:25:58.486486",
          "score": 0.29580327430782627
         },
         {
          "date": "2011-12-14T15:15:31.459460",
          "score": 0.29606860369259447
         },
         {
          "date": "2011-12-30T17:05:04.432432",
          "score": 0.29633304737787153
         },
         {
          "date": "2012-01-15T18:54:37.405406",
          "score": 0.2965966045725651
         },
         {
          "date": "2012-01-31T20:44:10.378378",
          "score": 0.2968592744882346
         },
         {
          "date": "2012-02-16T22:33:43.351351",
          "score": 0.2971210563390938
         },
         {
          "date": "2012-03-04T00:23:16.324324",
          "score": 0.2973819493420135
         },
         {
          "date": "2012-03-20T02:12:49.297297",
          "score": 0.2976419527165229
         },
         {
          "date": "2012-04-05T05:02:22.270270",
          "score": 0.2979010656848131
         },
         {
          "date": "2012-04-21T06:51:55.243243",
          "score": 0.2981592874717386
         },
         {
          "date": "2012-05-07T08:41:28.216216",
          "score": 0.2984166173048199
         },
         {
          "date": "2012-05-23T10:31:01.189189",
          "score": 0.29867305441424596
         },
         {
          "date": "2012-06-08T12:20:34.162162",
          "score": 0.29892859803287647
         },
         {
          "date": "2012-06-24T14:10:07.135135",
          "score": 0.2991832473962435
         },
         {
          "date": "2012-07-10T15:59:40.108108",
          "score": 0.29943700174255483
         },
         {
          "date": "2012-07-26T17:49:13.081081",
          "score": 0.2996898603126955
         },
         {
          "date": "2012-08-11T19:38:46.054054",
          "score": 0.29994182235023037
         },
         {
          "date": "2012-08-27T21:28:19.027027",
          "score": 0.30019288710140624
         },
         {
          "date": "2012-09-12T23:17:52",
          "score": 0.3004430538151541
         },
         {
          "date": "2012-09-29T01:07:24.972973",
          "score": 0.3006923217430918
         },
         {
          "date": "2012-10-15T02:56:57.945946",
          "score": 0.30094069013952546
         },
         {
          "date": "2012-10-31T03:46:30.918919",
          "score": 0.30118815826145257
         },
         {
          "date": "2012-11-16T05:36:03.891892",
          "score": 0.3014347253685635
         },
         {
          "date": "2012-12-02T07:25:36.864865",
          "score": 0.3016803907232444
         },
         {
          "date": "2012-12-18T09:15:09.837838",
          "score": 0.3019251535905787
         },
         {
          "date": "2013-01-03T11:04:42.810811",
          "score": 0.3021690132383501
         },
         {
          "date": "2013-01-19T12:54:15.783784",
          "score": 0.30241196893704353
         },
         {
          "date": "2013-02-04T14:43:48.756757",
          "score": 0.30265401995984875
         },
         {
          "date": "2013-02-20T16:33:21.729730",
          "score": 0.3028951655826619
         },
         {
          "date": "2013-03-08T18:22:54.702703",
          "score": 0.3031354050840874
         },
         {
          "date": "2013-03-24T20:12:27.675676",
          "score": 0.3033747377454406
         },
         {
          "date": "2013-04-09T23:02:00.648649",
          "score": 0.3036131628507493
         },
         {
          "date": "2013-04-26T00:51:33.621622",
          "score": 0.3038506796867565
         },
         {
          "date": "2013-05-12T02:41:06.594594",
          "score": 0.3040872875429225
         },
         {
          "date": "2013-05-28T04:30:39.567568",
          "score": 0.30432298571142663
         },
         {
          "date": "2013-06-13T06:20:12.540541",
          "score": 0.3045577734871698
         },
         {
          "date": "2013-06-29T08:09:45.513514",
          "score": 0.30479165016777615
         },
         {
          "date": "2013-07-15T09:59:18.486486",
          "score": 0.3050246150535954
         },
         {
          "date": "2013-07-31T11:48:51.459460",
          "score": 0.30525666744770513
         },
         {
          "date": "2013-08-16T13:38:24.432432",
          "score": 0.3054878066559125
         },
         {
          "date": "2013-09-01T15:27:57.405406",
          "score": 0.3057180319867566
         },
         {
          "date": "2013-09-17T17:17:30.378378",
          "score": 0.3059473427515103
         },
         {
          "date": "2013-10-03T19:07:03.351351",
          "score": 0.3061757382641826
         },
         {
          "date": "2013-10-19T20:56:36.324324",
          "score": 0.3064032178415204
         },
         {
          "date": "2013-11-04T21:46:09.297297",
          "score": 0.30662978080301057
         },
         {
          "date": "2013-11-20T23:35:42.270270",
          "score": 0.3068554264708821
         },
         {
          "date": "2013-12-07T01:25:15.243243",
          "score": 0.3070801541701083
         },
         {
          "date": "2013-12-23T03:14:48.216216",
          "score": 0.3073039632284084
         },
         {
          "date": "2014-01-08T05:04:21.189189",
          "score": 0.3075268529762499
         },
         {
          "date": "2014-01-24T06:53:54.162162",
          "score": 0.30774882274685045
         },
         {
          "date": "2014-02-09T08:43:27.135135",
          "score": 0.308074696454152
         },
         {
          "date": "2014-02-25T10:33:00.108108",
          "score": 0.31060094401457994
         },
         {
          "date": "2014-03-13T12:22:33.081081",
          "score": 0.3131261542155964
         },
         {
          "date": "2014-03-29T14:12:06.054054",
          "score": 0.3156502160259817
         },
         {
          "date": "2014-04-14T17:01:39.027027",
          "score": 0.3181730184280821
         },
         {
          "date": "2014-04-30T18:51:12",
          "score": 0.32069445042309613
         },
         {
          "date": "2014-05-16T20:40:44.972973",
          "score": 0.323214401036356
         },
         {
          "date": "2014-06-01T22:30:17.945946",
          "score": 0.32573275932261225
         },
         {
          "date": "2014-06-18T00:19:50.918919",
          "score": 0.32824941437131333
         },
         {
          "date": "2014-07-04T02:09:23.891892",
          "score": 0.33076425531188736
         },
         {
          "date": "2014-07-20T03:58:56.864865",
          "score": 0.3332771713190187
         },
         {
          "date": "2014-08-05T05:48:29.837838",
          "score": 0.33578805161792563
         },
         {
          "date": "2014-08-21T07:38:02.810811",
          "score": 0.3382967854896293
         },
         {
          "date": "2014-09-06T09:27:35.783784",
          "score": 0.34080326227623214
         },
         {
          "date": "2014-09-22T11:17:08.756757",
          "score": 0.343307371386182
         },
         {
          "date": "2014-10-08T13:06:41.729730",
          "score": 0.34580900229953787
         },
         {
          "date": "2014-10-24T14:56:14.702703",
          "score": 0.3483080445732323
         },
         {
          "date": "2014-11-09T15:45:47.675676",
          "score": 0.35080438784632934
         },
         {
          "date": "2014-11-25T17:35:20.648649",
          "score": 0.3532979218452818
         },
         {
          "date": "2014-12-11T19:24:53.621622",
          "score": 0.3557885363891747
         },
         {
          "date": "2014-12-27T21:14:26.594595",
          "score": 0.35827612139498105
         },
         {
          "date": "2015-01-12T23:03:59.567568",
          "score": 0.36076056688279845
         },
         {
          "date": "2015-01-29T00:53:32.540540",
          "score": 0.36324176298108585
         },
         {
          "date": "2015-02-14T02:43:05.513514",
          "score": 0.36571959993189684
         },
         {
          "date": "2015-03-02T04:32:38.486486",
          "score": 0.3681939680961052
         },
         {
          "date": "2015-03-18T06:22:11.459460",
          "score": 0.3706647579586272
         },
         {
          "date": "2015-04-03T09:11:44.432432",
          "score": 0.373131860133635
         },
         {
          "date": "2015-04-19T11:01:17.405406",
          "score": 0.3755951653697669
         },
         {
          "date": "2015-05-05T12:50:50.378378",
          "score": 0.37805456455533093
         },
         {
          "date": "2015-05-21T14:40:23.351351",
          "score": 0.3805099487235005
         },
         {
          "date": "2015-06-06T16:29:56.324324",
          "score": 0.38296120905749986
         },
         {
          "date": "2015-06-22T18:19:29.297297",
          "score": 0.38540823689579384
         },
         {
          "date": "2015-07-08T20:09:02.270270",
          "score": 0.3878509237372587
         },
         {
          "date": "2015-07-24T21:58:35.243243",
          "score": 0.3902891612463501
         },
         {
          "date": "2015-08-09T23:48:08.216216",
          "score": 0.3927228412582618
         },
         {
          "date": "2015-08-26T01:37:41.189189",
          "score": 0.39515185578408013
         },
         {
          "date": "2015-09-11T03:27:14.162162",
          "score": 0.3975760970159263
         },
         {
          "date": "2015-09-27T05:16:47.135135",
          "score": 0.39999545733208675
         },
         {
          "date": "2015-10-13T07:06:20.108108",
          "score": 0.40240982930214686
         },
         {
          "date": "2015-10-29T07:55:53.081081",
          "score": 0.4048191056921041
         },
         {
          "date": "2015-11-14T09:45:26.054054",
          "score": 0.4072231794694754
         },
         {
          "date": "2015-11-30T11:34:59.027027",
          "score": 0.40962194380839584
         },
         {
          "date": "2015-12-16T13:24:32",
          "score": 0.41201529209470805
         },
         {
          "date": "2016-01-01T15:14:04.972973",
          "score": 0.41440311793103946
         },
         {
          "date": "2016-01-17T17:03:37.945946",
          "score": 0.4167853151418712
         },
         {
          "date": "2016-02-02T18:53:10.918919",
          "score": 0.4191617777785959
         },
         {
          "date": "2016-02-18T20:42:43.891892",
          "score": 0.42153240012456494
         },
         {
          "date": "2016-03-05T22:32:16.864865",
          "score": 0.4238970767001231
         },
         {
          "date": "2016-03-22T00:21:49.837838",
          "score": 0.42625570226763654
         },
         {
          "date": "2016-04-07T03:11:22.810811",
          "score": 0.4286081718364995
         },
         {
          "date": "2016-04-23T05:00:55.783784",
          "score": 0.43095438066814445
         },
         {
          "date": "2016-05-09T06:50:28.756757",
          "score": 0.43329422428102715
         },
         {
          "date": "2016-05-25T08:40:01.729730",
          "score": 0.43562759845560417
         },
         {
          "date": "2016-06-10T10:29:34.702703",
          "score": 0.43795439923929924
         },
         {
          "date": "2016-06-26T12:19:07.675676",
          "score": 0.44027452295145497
         },
         {
          "date": "2016-07-12T14:08:40.648649",
          "score": 0.4425878661882742
         },
         {
          "date": "2016-07-28T15:58:13.621622",
          "score": 0.4448943258277406
         },
         {
          "date": "2016-08-13T17:47:46.594595",
          "score": 0.4471937990345406
         },
         {
          "date": "2016-08-29T19:37:19.567568",
          "score": 0.4494861832649574
         },
         {
          "date": "2016-09-14T21:26:52.540541",
          "score": 0.45177137627175706
         },
         {
          "date": "2016-09-30T23:16:25.513514",
          "score": 0.45404927610906215
         },
         {
          "date": "2016-10-17T01:05:58.486486",
          "score": 0.4563197811372061
         },
         {
          "date": "2016-11-02T01:55:31.459460",
          "score": 0.4585827900275791
         },
         {
          "date": "2016-11-18T03:45:04.432432",
          "score": 0.46083820176745444
         },
         {
          "date": "2016-12-04T05:34:37.405406",
          "score": 0.4630859156648009
         },
         {
          "date": "2016-12-20T07:24:10.378378",
          "score": 0.46532583135308303
         },
         {
          "date": "2017-01-05T09:13:43.351351",
          "score": 0.4675578487960426
         },
         {
          "date": "2017-01-21T11:03:16.324324",
          "score": 0.46978186829246116
         },
         {
          "date": "2017-02-06T12:52:49.297297",
          "score": 0.47199779048091745
         },
         {
          "date": "2017-02-22T14:42:22.270270",
          "score": 0.47420551634451946
         },
         {
          "date": "2017-03-10T16:31:55.243243",
          "score": 0.47640494721562116
         },
         {
          "date": "2017-03-26T19:21:28.216216",
          "score": 0.47859598478052545
         },
         {
          "date": "2017-04-11T21:11:01.189189",
          "score": 0.4807785310841697
         },
         {
          "date": "2017-04-27T23:00:34.162162",
          "score": 0.4829524885347934
         },
         {
          "date": "2017-05-14T00:50:07.135135",
          "score": 0.4851177599085849
         },
         {
          "date": "2017-05-30T02:39:40.108108",
          "score": 0.4872742483543215
         },
         {
          "date": "2017-06-15T04:29:13.081081",
          "score": 0.4894218573979807
         },
         {
          "date": "2017-07-01T06:18:46.054054",
          "score": 0.49156049094733706
         },
         {
          "date": "2017-07-17T08:08:19.027027",
          "score": 0.4936900532965442
         },
         {
          "date": "2017-08-02T09:57:52",
          "score": 0.4958104491306931
         },
         {
          "date": "2017-08-18T11:47:24.972973",
          "score": 0.4979215835303564
         },
         {
          "date": "2017-09-03T13:36:57.945946",
          "score": 0.5000233619761115
         },
         {
          "date": "2017-09-19T15:26:30.918919",
          "score": 0.5021156903530442
         },
         {
          "date": "2017-10-05T17:16:03.891892",
          "score": 0.5041984749552357
         },
         {
          "date": "2017-10-21T19:05:36.864865",
          "score": 0.5062716224902273
         },
         {
          "date": "2017-11-06T19:55:09.837838",
          "score": 0.5083350400834681
         },
         {
          "date": "2017-11-22T21:44:42.810811",
          "score": 0.5103886352827365
         },
         {
          "date": "2017-12-08T23:34:15.783784",
          "score": 0.512432316062554
         },
         {
          "date": "2017-12-25T01:23:48.756757",
          "score": 0.5144659908285667
         },
         {
          "date": "2018-01-10T03:13:21.729730",
          "score": 0.5164895684219107
         },
         {
          "date": "2018-01-26T05:02:54.702703",
          "score": 0.5185029581235587
         },
         {
          "date": "2018-02-11T06:52:27.675676",
          "score": 0.5205060696586417
         },
         {
          "date": "2018-02-27T08:42:00.648649",
          "score": 0.5224988132007545
         },
         {
          "date": "2018-03-15T10:31:33.621622",
          "score": 0.5244810993762321
         },
         {
          "date": "2018-03-31T13:21:06.594595",
          "score": 0.5264528392684162
         },
         {
          "date": "2018-04-16T15:10:39.567568",
          "score": 0.5284139444218889
         },
         {
          "date": "2018-05-02T17:00:12.540541",
          "score": 0.5303643268466898
         },
         {
          "date": "2018-05-18T18:49:45.513514",
          "score": 0.5323038990225102
         },
         {
          "date": "2018-06-03T20:39:18.486486",
          "score": 0.5342325739028644
         },
         {
          "date": "2018-06-19T22:28:51.459460",
          "score": 0.5361502649192399
         },
         {
          "date": "2018-07-06T00:18:24.432432",
          "score": 0.5380568859852222
         },
         {
          "date": "2018-07-22T02:07:57.405406",
          "score": 0.5399523515005984
         },
         {
          "date": "2018-08-07T03:57:30.378378",
          "score": 0.5418365763554397
         },
         {
          "date": "2018-08-23T05:47:03.351351",
          "score": 0.5437094759341565
         },
         {
          "date": "2018-09-08T07:36:36.324324",
          "score": 0.545570966119529
         },
         {
          "date": "2018-09-24T09:26:09.297297",
          "score": 0.5474209632967229
         },
         {
          "date": "2018-10-10T11:15:42.270270",
          "score": 0.5492593843572713
         },
         {
          "date": "2018-10-26T13:05:15.243243",
          "score": 0.5510861467030373
         },
         {
          "date": "2018-11-11T13:54:48.216216",
          "score": 0.552901168250151
         },
         {
          "date": "2018-11-27T15:44:21.189189",
          "score": 0.5547043674329226
         },
         {
          "date": "2018-12-13T17:33:54.162162",
          "score": 0.5564956632077318
         },
         {
          "date": "2018-12-29T19:23:27.135135",
          "score": 0.5582749750568865
         },
         {
          "date": "2019-01-14T21:13:00.108108",
          "score": 0.5600422229924683
         },
         {
          "date": "2019-01-30T23:02:33.081081",
          "score": 0.5617973275601402
         },
         {
          "date": "2019-02-16T00:52:06.054054",
          "score": 0.5635402098429365
         },
         {
          "date": "2019-03-04T02:41:39.027027",
          "score": 0.5652707914650239
         },
         {
          "date": "2019-03-20T04:31:12",
          "score": 0.5669889945954385
         },
         {
          "date": "2019-04-05T07:20:44.972973",
          "score": 0.5686947419517954
         },
         {
          "date": "2019-04-21T09:10:17.945946",
          "score": 0.5703879568039746
         },
         {
          "date": "2019-05-07T10:59:50.918919",
          "score": 0.5720685629777762
         },
         {
          "date": "2019-05-23T12:49:23.891892",
          "score": 0.5737364848585548
         },
         {
          "date": "2019-06-08T14:38:56.864865",
          "score": 0.5753916473948224
         },
         {
          "date": "2019-06-24T16:28:29.837838",
          "score": 0.5770339761018277
         },
         {
          "date": "2019-07-10T18:18:02.810811",
          "score": 0.5786633970651036
         },
         {
          "date": "2019-07-26T20:07:35.783784",
          "score": 0.5802798369439965
         },
         {
          "date": "2019-08-11T21:57:08.756757",
          "score": 0.5818832229751599
         },
         {
          "date": "2019-08-27T23:46:41.729730",
          "score": 0.5834734829760223
         },
         {
          "date": "2019-09-13T01:36:14.702703",
          "score": 0.5850505453482306
         },
         {
          "date": "2019-09-29T03:25:47.675676",
          "score": 0.5866143390810628
         },
         {
          "date": "2019-10-15T05:15:20.648649",
          "score": 0.5881647937548136
         },
         {
          "date": "2019-10-31T06:04:53.621622",
          "score": 0.5897018395441495
         },
         {
          "date": "2019-11-16T07:54:26.594595",
          "score": 0.5912254072214425
         },
         {
          "date": "2019-12-02T09:43:59.567568",
          "score": 0.5927354281600672
         },
         {
          "date": "2019-12-18T11:33:32.540541",
          "score": 0.5942318343376736
         },
         {
          "date": "2020-01-03T13:23:05.513514",
          "score": 0.5957145583394299
         },
         {
          "date": "2020-01-19T15:12:38.486486",
          "score": 0.5971835333612371
         },
         {
          "date": "2020-02-04T17:02:11.459460",
          "score": 0.5986386932129146
         },
         {
          "date": "2020-02-20T18:51:44.432432",
          "score": 0.6047969209682744
         },
         {
          "date": "2020-03-07T20:41:17.405406",
          "score": 0.6119880360400212
         },
         {
          "date": "2020-03-23T22:30:50.378378",
          "score": 0.61916200581659
         },
         {
          "date": "2020-04-09T01:20:23.351351",
          "score": 0.6263170433199333
         },
         {
          "date": "2020-04-25T03:09:56.324324",
          "score": 0.6334513636548051
         },
         {
          "date": "2020-05-11T04:59:29.297297",
          "score": 0.6405631845268732
         },
         {
          "date": "2020-05-27T06:49:02.270270",
          "score": 0.6476507267601643
         },
         {
          "date": "2020-06-12T08:38:35.243243",
          "score": 0.6547122148137599
         },
         {
          "date": "2020-06-28T10:28:08.216216",
          "score": 0.6617458772975616
         },
         {
          "date": "2020-07-14T12:17:41.189189",
          "score": 0.6687499474869747
         },
         {
          "date": "2020-07-30T14:07:14.162162",
          "score": 0.6757226638363625
         },
         {
          "date": "2020-08-15T15:56:47.135135",
          "score": 0.6826622704910933
         },
         {
          "date": "2020-08-31T17:46:20.108108",
          "score": 0.6895670177980907
         },
         {
          "date": "2020-09-16T19:35:53.081081",
          "score": 0.6964351628146519
         },
         {
          "date": "2020-10-02T21:25:26.054054",
          "score": 0.7032649698154408
         },
         {
          "date": "2020-10-18T23:14:59.027027",
          "score": 0.7100547107974867
         },
         {
          "date": "2020-11-04T00:04:32",
          "score": 0.7168026659830383
         },
         {
          "date": "2020-11-20T01:54:04.972973",
          "score": 0.7235071243201234
         },
         {
          "date": "2020-12-06T03:43:37.945946",
          "score": 0.7301663839806662
         },
         {
          "date": "2020-12-22T05:33:10.918919",
          "score": 0.7367787528560132
         },
         {
          "date": "2021-01-07T07:22:43.891892",
          "score": 0.7433425490497223
         },
         {
          "date": "2021-01-23T09:12:16.864865",
          "score": 0.7498561013674607
         },
         {
          "date": "2021-02-08T11:01:49.837838",
          "score": 0.7563177498038848
         },
         {
          "date": "2021-02-24T12:51:22.810811",
          "score": 0.762725846026313
         },
         {
          "date": "2021-03-12T14:40:55.783784",
          "score": 0.7690787538551278
         },
         {
          "date": "2021-03-28T17:30:28.756757",
          "score": 0.7753748497406673
         },
         {
          "date": "2021-04-13T19:20:01.729730",
          "score": 0.781612523236533
         },
         {
          "date": "2021-04-29T21:09:34.702703",
          "score": 0.7877901774691497
         },
         {
          "date": "2021-05-15T22:59:07.675676",
          "score": 0.7939062296034349
         },
         {
          "date": "2021-06-01T00:48:40.648649",
          "score": 0.7999591113044481
         },
         {
          "date": "2021-06-17T02:38:13.621622",
          "score": 0.8059472691948588
         },
         {
          "date": "2021-07-03T04:27:46.594595",
          "score": 0.8118691653081547
         },
         {
          "date": "2021-07-19T06:17:19.567568",
          "score": 0.8177232775373738
         },
         {
          "date": "2021-08-04T08:06:52.540541",
          "score": 0.8235081000792916
         },
         {
          "date": "2021-08-20T09:56:25.513514",
          "score": 0.8292221438739017
         },
         {
          "date": "2021-09-05T11:45:58.486486",
          "score": 0.8348639370390672
         },
         {
          "date": "2021-09-21T13:35:31.459460",
          "score": 0.8404320253002102
         },
         {
          "date": "2021-10-07T15:25:04.432432",
          "score": 0.845924972414912
         },
         {
          "date": "2021-10-23T17:14:37.405406",
          "score": 0.8513413605923008
         },
         {
          "date": "2021-11-08T18:04:10.378378",
          "score": 0.8566797909070965
         },
         {
          "date": "2021-11-24T19:53:43.351351",
          "score": 0.8619388837081958
         },
         {
          "date": "2021-12-10T21:43:16.324324",
          "score": 0.8671172790216567
         },
         {
          "date": "2021-12-26T23:32:49.297297",
          "score": 0.8722136369480097
         },
         {
          "date": "2022-01-12T01:22:22.270270",
          "score": 0.8772266380537121
         },
         {
          "date": "2022-01-28T03:11:55.243243",
          "score": 0.8821549837566789
         },
         {
          "date": "2022-02-13T05:01:28.216216",
          "score": 0.8869973967057547
         },
         {
          "date": "2022-03-01T06:51:01.189189",
          "score": 0.8917526211540169
         },
         {
          "date": "2022-03-17T08:40:34.162162",
          "score": 0.8964194233258028
         },
         {
          "date": "2022-04-02T11:30:07.135135",
          "score": 0.9009965917773322
         },
         {
          "date": "2022-04-18T13:19:40.108108",
          "score": 0.9054829377508641
         },
         {
          "date": "2022-05-04T15:09:13.081081",
          "score": 0.9098772955222209
         },
         {
          "date": "2022-05-20T16:58:46.054054",
          "score": 0.9141785227416204
         },
         {
          "date": "2022-06-05T18:48:19.027027",
          "score": 0.9183855007677015
         },
         {
          "date": "2022-06-21T20:37:52",
          "score": 0.9224971349946387
         },
         {
          "date": "2022-07-07T22:27:24.972973",
          "score": 0.9265123551722543
         },
         {
          "date": "2022-07-24T00:16:57.945946",
          "score": 0.9304301157190322
         },
         {
          "date": "2022-08-09T02:06:30.918919",
          "score": 0.9342493960279361
         },
         {
          "date": "2022-08-25T03:56:03.891892",
          "score": 0.9379692007649449
         },
         {
          "date": "2022-09-10T05:45:36.864865",
          "score": 0.941588560160215
         },
         {
          "date": "2022-09-26T07:35:09.837838",
          "score": 0.945106530291785
         },
         {
          "date": "2022-10-12T09:24:42.810811",
          "score": 0.9485221933617235
         },
         {
          "date": "2022-10-28T11:14:15.783784",
          "score": 0.9518346579646747
         },
         {
          "date": "2022-11-13T12:03:48.756757",
          "score": 0.9550430593486718
         },
         {
          "date": "2022-11-29T13:53:21.729730",
          "score": 0.9581465596681805
         },
         {
          "date": "2022-12-15T15:42:54.702703",
          "score": 0.9611443482292767
         },
         {
          "date": "2022-12-31T17:32:27.675676",
          "score": 0.9640356417268942
         },
         {
          "date": "2023-01-16T19:22:00.648649",
          "score": 0.9668196844740679
         },
         {
          "date": "2023-02-01T21:11:33.621622",
          "score": 0.9694957486230965
         },
         {
          "date": "2023-02-17T23:01:06.594595",
          "score": 0.9720631343785875
         },
         {
          "date": "2023-03-06T00:50:39.567568",
          "score": 0.9745211702022791
         },
         {
          "date": "2023-03-22T02:40:12.540541",
          "score": 0.9768692130096095
         },
         {
          "date": "2023-04-07T05:29:45.513514",
          "score": 0.9791066483579645
         },
         {
          "date": "2023-04-23T07:19:18.486486",
          "score": 0.9812328906265465
         },
         {
          "date": "2023-05-09T09:08:51.459460",
          "score": 0.9832473831878132
         },
         {
          "date": "2023-05-25T10:58:24.432432",
          "score": 0.9851495985704329
         },
         {
          "date": "2023-06-10T12:47:57.405406",
          "score": 0.9869390386137115
         },
         {
          "date": "2023-06-26T14:37:30.378378",
          "score": 0.988615234613439
         },
         {
          "date": "2023-07-12T16:27:03.351351",
          "score": 0.990177747459122
         },
         {
          "date": "2023-07-28T18:16:36.324324",
          "score": 0.9916261677625452
         },
         {
          "date": "2023-08-13T20:06:09.297297",
          "score": 0.9929601159776464
         },
         {
          "date": "2023-08-29T21:55:42.270270",
          "score": 0.9941792425116451
         },
         {
          "date": "2023-09-14T23:45:15.243243",
          "score": 0.9952832278274085
         },
         {
          "date": "2023-10-01T01:34:48.216216",
          "score": 0.996271782537017
         },
         {
          "date": "2023-10-17T03:24:21.189189",
          "score": 0.9971446474865036
         },
         {
          "date": "2023-11-02T04:13:54.162162",
          "score": 0.9979015938317419
         },
         {
          "date": "2023-11-18T06:03:27.135135",
          "score": 0.9985424231054559
         },
         {
          "date": "2023-12-04T07:53:00.108108",
          "score": 0.9990669672753422
         },
         {
          "date": "2023-12-20T09:42:33.081081",
          "score": 0.9994750887932731
         },
         {
          "date": "2024-01-05T11:32:06.054054",
          "score": 0.9997666806355773
         },
         {
          "date": "2024-01-21T13:21:39.027027",
          "score": 0.999941666334381
         },
         {
          "date": "2024-02-06T15:11:12",
          "score": 1.0000000000000002
         }
        ]
       },
       "encoding": {
        "tooltip": [
         {
          "field": "date",
          "type": "temporal"
         }
        ],
        "x": {
         "field": "date",
         "title": "Date",
         "type": "temporal"
        },
        "y": {
         "field": "score",
         "title": "Recency score",
         "type": "quantitative"
        }
       },
       "height": 380,
       "mark": {
        "color": "black",
        "filled": true,
        "size": 10,
        "type": "point"
       },
       "title": "Recency scores (unit weight)",
       "width": 500
      },
      "image/png": "[encoded data removed]",
      "text/plain": [
       "<VegaLite 5 object>\n",
       "\n",
       "If you see this message, it means the renderer has not been properly enabled\n",
       "for the frontend that you are using. For more information, see\n",
       "https://altair-viz.github.io/user_guide/display_frontends.html#troubleshooting\n"
      ]
     },
     "execution_count": 13,
     "metadata": {},
     "output_type": "execute_result"
    }
   ],
   "source": [
    "recency_plotter = RecencyPlotter(recency_space)\n",
    "chart = recency_plotter.plot_recency_curve()\n",
    "chart"
   ]
  },
  {
   "cell_type": "markdown",
   "id": "93c93476-cf28-4661-a793-f74d7c21b972",
   "metadata": {},
   "source": [
    "notice the breaks in the score at 4, 10 and 40 years - those are our period times. Titles older than 40 years get `negative_filter` score."
   ]
  },
  {
   "cell_type": "markdown",
   "id": "2ec1f453-6ec2-42e8-88b2-1c6692e9d57a",
   "metadata": {},
   "source": [
    "## Run queries"
   ]
  },
  {
   "cell_type": "markdown",
   "id": "c86b136f-467a-4618-88b9-cab92b798beb",
   "metadata": {},
   "source": [
    "Let's define a quick util function to present our results in the notebook"
   ]
  },
  {
   "cell_type": "code",
   "execution_count": 14,
   "id": "a3b1a5a9-7b81-4dff-82bb-9cb92abd58e2",
   "metadata": {},
   "outputs": [],
   "source": [
    "def present_result(result: Result, cols_to_keep: list[str] = [\"description\", \"title\", \"genres\", \"release_year\", \"id\"]) -> pd.DataFrame:\n",
    "    # parse result to dataframe\n",
    "    df: pd.DataFrame = pd.DataFrame([entry.stored_object for entry in result.entries])\n",
    "    # transform timestamp back to release year\n",
    "    df[\"release_year\"] = [datetime.fromtimestamp(timestamp).year for timestamp in df[\"release_timestamp\"]]\n",
    "    return df[cols_to_keep]"
   ]
  },
  {
   "cell_type": "markdown",
   "id": "65a1932e-4e84-4f84-bcdd-83eba95cb3cc",
   "metadata": {},
   "source": [
    "### Search with user queries"
   ]
  },
  {
   "cell_type": "markdown",
   "id": "de462025-40fb-4371-8160-9a315ab9e872",
   "metadata": {},
   "source": [
    "With the simple query, I can search with my text in all of the fields"
   ]
  },
  {
   "cell_type": "code",
   "execution_count": 15,
   "id": "d2ba2245-1d76-4283-a9f6-58179f5f7f7c",
   "metadata": {},
   "outputs": [
    {
     "data": {
      "text/html": [
       "<div>\n",
       "<style scoped>\n",
       "    .dataframe tbody tr th:only-of-type {\n",
       "        vertical-align: middle;\n",
       "    }\n",
       "\n",
       "    .dataframe tbody tr th {\n",
       "        vertical-align: top;\n",
       "    }\n",
       "\n",
       "    .dataframe thead th {\n",
       "        text-align: right;\n",
       "    }\n",
       "</style>\n",
       "<table border=\"1\" class=\"dataframe\">\n",
       "  <thead>\n",
       "    <tr style=\"text-align: right;\">\n",
       "      <th></th>\n",
       "      <th>description</th>\n",
       "      <th>title</th>\n",
       "      <th>genres</th>\n",
       "      <th>release_year</th>\n",
       "      <th>id</th>\n",
       "    </tr>\n",
       "  </thead>\n",
       "  <tbody>\n",
       "    <tr>\n",
       "      <th>0</th>\n",
       "      <td>When a group of people meets at the same party...</td>\n",
       "      <td>Love, Surreal and Odd</td>\n",
       "      <td>comedy romance</td>\n",
       "      <td>2017</td>\n",
       "      <td>tm313118</td>\n",
       "    </tr>\n",
       "    <tr>\n",
       "      <th>1</th>\n",
       "      <td>'Love Actually' follows the lives of eight ver...</td>\n",
       "      <td>Love Actually</td>\n",
       "      <td>drama comedy romance</td>\n",
       "      <td>2003</td>\n",
       "      <td>tm133767</td>\n",
       "    </tr>\n",
       "    <tr>\n",
       "      <th>2</th>\n",
       "      <td>A young woman develops romantic feelings for h...</td>\n",
       "      <td>Must Be... Love</td>\n",
       "      <td>comedy romance</td>\n",
       "      <td>2013</td>\n",
       "      <td>tm188290</td>\n",
       "    </tr>\n",
       "    <tr>\n",
       "      <th>3</th>\n",
       "      <td>Romantic anthology web series revolving around...</td>\n",
       "      <td>Love Daily</td>\n",
       "      <td>drama romance</td>\n",
       "      <td>2018</td>\n",
       "      <td>ts90869</td>\n",
       "    </tr>\n",
       "    <tr>\n",
       "      <th>4</th>\n",
       "      <td>Love You, is a 2011 Taiwanese drama starring J...</td>\n",
       "      <td>Drunken to Love You</td>\n",
       "      <td>comedy drama romance</td>\n",
       "      <td>2011</td>\n",
       "      <td>ts44064</td>\n",
       "    </tr>\n",
       "    <tr>\n",
       "      <th>5</th>\n",
       "      <td>Laida Magtalas is a modern-day Belle who works...</td>\n",
       "      <td>A Very Special Love</td>\n",
       "      <td>comedy drama romance</td>\n",
       "      <td>2008</td>\n",
       "      <td>tm28024</td>\n",
       "    </tr>\n",
       "    <tr>\n",
       "      <th>6</th>\n",
       "      <td>It tells the love story of two childhood sweet...</td>\n",
       "      <td>A Love So Beautiful</td>\n",
       "      <td>comedy romance</td>\n",
       "      <td>2017</td>\n",
       "      <td>ts77034</td>\n",
       "    </tr>\n",
       "    <tr>\n",
       "      <th>7</th>\n",
       "      <td>Christina's love life is stuck in neutral. Aft...</td>\n",
       "      <td>The Sweetest Thing</td>\n",
       "      <td>comedy romance</td>\n",
       "      <td>2002</td>\n",
       "      <td>tm111600</td>\n",
       "    </tr>\n",
       "    <tr>\n",
       "      <th>8</th>\n",
       "      <td>Mike Birbiglia shares a lifetime of romantic b...</td>\n",
       "      <td>Mike Birbiglia: My Girlfriend's Boyfriend</td>\n",
       "      <td>comedy documentation romance</td>\n",
       "      <td>2013</td>\n",
       "      <td>tm171965</td>\n",
       "    </tr>\n",
       "    <tr>\n",
       "      <th>9</th>\n",
       "      <td>An LA girl, unlucky in love, falls for an East...</td>\n",
       "      <td>Love Hard</td>\n",
       "      <td>romance comedy</td>\n",
       "      <td>2021</td>\n",
       "      <td>tm1093099</td>\n",
       "    </tr>\n",
       "  </tbody>\n",
       "</table>\n",
       "</div>"
      ],
      "text/plain": [
       "                                         description  \\\n",
       "0  When a group of people meets at the same party...   \n",
       "1  'Love Actually' follows the lives of eight ver...   \n",
       "2  A young woman develops romantic feelings for h...   \n",
       "3  Romantic anthology web series revolving around...   \n",
       "4  Love You, is a 2011 Taiwanese drama starring J...   \n",
       "5  Laida Magtalas is a modern-day Belle who works...   \n",
       "6  It tells the love story of two childhood sweet...   \n",
       "7  Christina's love life is stuck in neutral. Aft...   \n",
       "8  Mike Birbiglia shares a lifetime of romantic b...   \n",
       "9  An LA girl, unlucky in love, falls for an East...   \n",
       "\n",
       "                                       title                        genres  \\\n",
       "0                      Love, Surreal and Odd                comedy romance   \n",
       "1                              Love Actually          drama comedy romance   \n",
       "2                            Must Be... Love                comedy romance   \n",
       "3                                 Love Daily                 drama romance   \n",
       "4                        Drunken to Love You          comedy drama romance   \n",
       "5                        A Very Special Love          comedy drama romance   \n",
       "6                        A Love So Beautiful                comedy romance   \n",
       "7                         The Sweetest Thing                comedy romance   \n",
       "8  Mike Birbiglia: My Girlfriend's Boyfriend  comedy documentation romance   \n",
       "9                                  Love Hard                romance comedy   \n",
       "\n",
       "   release_year         id  \n",
       "0          2017   tm313118  \n",
       "1          2003   tm133767  \n",
       "2          2013   tm188290  \n",
       "3          2018    ts90869  \n",
       "4          2011    ts44064  \n",
       "5          2008    tm28024  \n",
       "6          2017    ts77034  \n",
       "7          2002   tm111600  \n",
       "8          2013   tm171965  \n",
       "9          2021  tm1093099  "
      ]
     },
     "execution_count": 15,
     "metadata": {},
     "output_type": "execute_result"
    }
   ],
   "source": [
    "result: Result = app.query(\n",
    "    simple_query,\n",
    "    query_text=\"Heartfelt romantic comedy\",\n",
    "    description_weight=1,\n",
    "    title_weight=1,\n",
    "    genre_weight=1,\n",
    "    recency_weight=0\n",
    ")\n",
    "\n",
    "present_result(result)"
   ]
  },
  {
   "cell_type": "markdown",
   "id": "c12fa8c1-c013-44be-a326-a0dffa2e7d22",
   "metadata": {},
   "source": [
    "After looking at the results, I see some titles I have already seen. I can bias towards recent titles by upweighting recency. Weights are normalised to have unit sum, so you don't have to worry about how you set them."
   ]
  },
  {
   "cell_type": "code",
   "execution_count": 16,
   "id": "5941b41e-c2de-40df-b156-eed523b75c69",
   "metadata": {},
   "outputs": [
    {
     "data": {
      "text/html": [
       "<div>\n",
       "<style scoped>\n",
       "    .dataframe tbody tr th:only-of-type {\n",
       "        vertical-align: middle;\n",
       "    }\n",
       "\n",
       "    .dataframe tbody tr th {\n",
       "        vertical-align: top;\n",
       "    }\n",
       "\n",
       "    .dataframe thead th {\n",
       "        text-align: right;\n",
       "    }\n",
       "</style>\n",
       "<table border=\"1\" class=\"dataframe\">\n",
       "  <thead>\n",
       "    <tr style=\"text-align: right;\">\n",
       "      <th></th>\n",
       "      <th>description</th>\n",
       "      <th>title</th>\n",
       "      <th>genres</th>\n",
       "      <th>release_year</th>\n",
       "      <th>id</th>\n",
       "    </tr>\n",
       "  </thead>\n",
       "  <tbody>\n",
       "    <tr>\n",
       "      <th>0</th>\n",
       "      <td>In this romantic comedy, several friends, each...</td>\n",
       "      <td>F*ck Love Too</td>\n",
       "      <td>comedy romance</td>\n",
       "      <td>2022</td>\n",
       "      <td>tm1203307</td>\n",
       "    </tr>\n",
       "    <tr>\n",
       "      <th>1</th>\n",
       "      <td>Fidelity tells a story of marital fidelity, in...</td>\n",
       "      <td>Devotion, a Story of Love and Desire</td>\n",
       "      <td>drama romance</td>\n",
       "      <td>2022</td>\n",
       "      <td>ts280892</td>\n",
       "    </tr>\n",
       "    <tr>\n",
       "      <th>2</th>\n",
       "      <td>This black humor pan-Arabic anthology series i...</td>\n",
       "      <td>Love, Life &amp; Everything in Between</td>\n",
       "      <td>comedy drama romance</td>\n",
       "      <td>2022</td>\n",
       "      <td>ts329711</td>\n",
       "    </tr>\n",
       "    <tr>\n",
       "      <th>3</th>\n",
       "      <td>A relatable romance drama about a couple in th...</td>\n",
       "      <td>Welcome to Wedding Hell</td>\n",
       "      <td>drama romance</td>\n",
       "      <td>2022</td>\n",
       "      <td>ts344043</td>\n",
       "    </tr>\n",
       "    <tr>\n",
       "      <th>4</th>\n",
       "      <td>An ad executive and a fashion designer-blogger...</td>\n",
       "      <td>Love Tactics</td>\n",
       "      <td>comedy romance</td>\n",
       "      <td>2022</td>\n",
       "      <td>tm1152224</td>\n",
       "    </tr>\n",
       "    <tr>\n",
       "      <th>5</th>\n",
       "      <td>Often (mis)guided by a cheeky imaginary wizard...</td>\n",
       "      <td>Eternally Confused and Eager for Love</td>\n",
       "      <td>comedy romance</td>\n",
       "      <td>2022</td>\n",
       "      <td>ts330012</td>\n",
       "    </tr>\n",
       "    <tr>\n",
       "      <th>6</th>\n",
       "      <td>Guille decides it's time to take the next step...</td>\n",
       "      <td>Let's Tie the Knot, Honey!</td>\n",
       "      <td>comedy romance</td>\n",
       "      <td>2022</td>\n",
       "      <td>tm1204412</td>\n",
       "    </tr>\n",
       "    <tr>\n",
       "      <th>7</th>\n",
       "      <td>A modern love story set in the near future whe...</td>\n",
       "      <td>AI Love You</td>\n",
       "      <td>scifi comedy romance drama</td>\n",
       "      <td>2022</td>\n",
       "      <td>tm1160424</td>\n",
       "    </tr>\n",
       "    <tr>\n",
       "      <th>8</th>\n",
       "      <td>After his ad agency goes bankrupt, an indebted...</td>\n",
       "      <td>Doom of Love</td>\n",
       "      <td>romance drama</td>\n",
       "      <td>2022</td>\n",
       "      <td>tm1218702</td>\n",
       "    </tr>\n",
       "    <tr>\n",
       "      <th>9</th>\n",
       "      <td>A wife who feels suffocated by her husband's i...</td>\n",
       "      <td>Hey! Sinamika</td>\n",
       "      <td>drama romance</td>\n",
       "      <td>2022</td>\n",
       "      <td>tm1143258</td>\n",
       "    </tr>\n",
       "  </tbody>\n",
       "</table>\n",
       "</div>"
      ],
      "text/plain": [
       "                                         description  \\\n",
       "0  In this romantic comedy, several friends, each...   \n",
       "1  Fidelity tells a story of marital fidelity, in...   \n",
       "2  This black humor pan-Arabic anthology series i...   \n",
       "3  A relatable romance drama about a couple in th...   \n",
       "4  An ad executive and a fashion designer-blogger...   \n",
       "5  Often (mis)guided by a cheeky imaginary wizard...   \n",
       "6  Guille decides it's time to take the next step...   \n",
       "7  A modern love story set in the near future whe...   \n",
       "8  After his ad agency goes bankrupt, an indebted...   \n",
       "9  A wife who feels suffocated by her husband's i...   \n",
       "\n",
       "                                   title                      genres  \\\n",
       "0                          F*ck Love Too              comedy romance   \n",
       "1   Devotion, a Story of Love and Desire               drama romance   \n",
       "2     Love, Life & Everything in Between        comedy drama romance   \n",
       "3                Welcome to Wedding Hell               drama romance   \n",
       "4                           Love Tactics              comedy romance   \n",
       "5  Eternally Confused and Eager for Love              comedy romance   \n",
       "6             Let's Tie the Knot, Honey!              comedy romance   \n",
       "7                            AI Love You  scifi comedy romance drama   \n",
       "8                           Doom of Love               romance drama   \n",
       "9                          Hey! Sinamika               drama romance   \n",
       "\n",
       "   release_year         id  \n",
       "0          2022  tm1203307  \n",
       "1          2022   ts280892  \n",
       "2          2022   ts329711  \n",
       "3          2022   ts344043  \n",
       "4          2022  tm1152224  \n",
       "5          2022   ts330012  \n",
       "6          2022  tm1204412  \n",
       "7          2022  tm1160424  \n",
       "8          2022  tm1218702  \n",
       "9          2022  tm1143258  "
      ]
     },
     "execution_count": 16,
     "metadata": {},
     "output_type": "execute_result"
    }
   ],
   "source": [
    "result: Result = app.query(\n",
    "    simple_query,\n",
    "    query_text=\"Heartfelt romantic comedy\",\n",
    "    description_weight=1,\n",
    "    title_weight=1,\n",
    "    genre_weight=1,\n",
    "    recency_weight=3\n",
    ")\n",
    "\n",
    "present_result(result)"
   ]
  },
  {
   "cell_type": "markdown",
   "id": "f4a22174-d438-4b43-9e86-5fe883f139f8",
   "metadata": {},
   "source": [
    "Still using the simple query, I can give more weight to spaces if I think my query is more related to that space - matches there should count more. Here I give additional weight to the genre, leave the description as is, and downweight the title as my query text is mostly a genre with some additional context. I keep recency with unit weight too, as I would like my results to be a bit biased towards recent movies."
   ]
  },
  {
   "cell_type": "code",
   "execution_count": 17,
   "id": "4f5cfd0d-dfe6-40aa-9688-9e427f4890bf",
   "metadata": {},
   "outputs": [
    {
     "data": {
      "text/html": [
       "<div>\n",
       "<style scoped>\n",
       "    .dataframe tbody tr th:only-of-type {\n",
       "        vertical-align: middle;\n",
       "    }\n",
       "\n",
       "    .dataframe tbody tr th {\n",
       "        vertical-align: top;\n",
       "    }\n",
       "\n",
       "    .dataframe thead th {\n",
       "        text-align: right;\n",
       "    }\n",
       "</style>\n",
       "<table border=\"1\" class=\"dataframe\">\n",
       "  <thead>\n",
       "    <tr style=\"text-align: right;\">\n",
       "      <th></th>\n",
       "      <th>description</th>\n",
       "      <th>title</th>\n",
       "      <th>genres</th>\n",
       "      <th>release_year</th>\n",
       "      <th>id</th>\n",
       "    </tr>\n",
       "  </thead>\n",
       "  <tbody>\n",
       "    <tr>\n",
       "      <th>0</th>\n",
       "      <td>In this romantic comedy, several friends, each...</td>\n",
       "      <td>F*ck Love Too</td>\n",
       "      <td>comedy romance</td>\n",
       "      <td>2022</td>\n",
       "      <td>tm1203307</td>\n",
       "    </tr>\n",
       "    <tr>\n",
       "      <th>1</th>\n",
       "      <td>An LA girl, unlucky in love, falls for an East...</td>\n",
       "      <td>Love Hard</td>\n",
       "      <td>romance comedy</td>\n",
       "      <td>2021</td>\n",
       "      <td>tm1093099</td>\n",
       "    </tr>\n",
       "    <tr>\n",
       "      <th>2</th>\n",
       "      <td>A relatable romance drama about a couple in th...</td>\n",
       "      <td>Welcome to Wedding Hell</td>\n",
       "      <td>drama romance</td>\n",
       "      <td>2022</td>\n",
       "      <td>ts344043</td>\n",
       "    </tr>\n",
       "    <tr>\n",
       "      <th>3</th>\n",
       "      <td>This black humor pan-Arabic anthology series i...</td>\n",
       "      <td>Love, Life &amp; Everything in Between</td>\n",
       "      <td>comedy drama romance</td>\n",
       "      <td>2022</td>\n",
       "      <td>ts329711</td>\n",
       "    </tr>\n",
       "    <tr>\n",
       "      <th>4</th>\n",
       "      <td>In this rom-com challenging the concept of sou...</td>\n",
       "      <td>Four to Dinner</td>\n",
       "      <td>comedy romance</td>\n",
       "      <td>2022</td>\n",
       "      <td>tm1137862</td>\n",
       "    </tr>\n",
       "    <tr>\n",
       "      <th>5</th>\n",
       "      <td>Short films follow young adults as they naviga...</td>\n",
       "      <td>Feels Like Ishq</td>\n",
       "      <td>drama romance comedy</td>\n",
       "      <td>2021</td>\n",
       "      <td>ts283610</td>\n",
       "    </tr>\n",
       "    <tr>\n",
       "      <th>6</th>\n",
       "      <td>Todd and Rory are intellectual soul mates. He ...</td>\n",
       "      <td>Straight Up</td>\n",
       "      <td>comedy romance</td>\n",
       "      <td>2019</td>\n",
       "      <td>tm494295</td>\n",
       "    </tr>\n",
       "    <tr>\n",
       "      <th>7</th>\n",
       "      <td>Guille decides it's time to take the next step...</td>\n",
       "      <td>Let's Tie the Knot, Honey!</td>\n",
       "      <td>comedy romance</td>\n",
       "      <td>2022</td>\n",
       "      <td>tm1204412</td>\n",
       "    </tr>\n",
       "    <tr>\n",
       "      <th>8</th>\n",
       "      <td>Incurable romantic Lotte's life is upended whe...</td>\n",
       "      <td>Just Say Yes</td>\n",
       "      <td>comedy romance</td>\n",
       "      <td>2021</td>\n",
       "      <td>tm904862</td>\n",
       "    </tr>\n",
       "    <tr>\n",
       "      <th>9</th>\n",
       "      <td>In pursuit of both success and validation, a g...</td>\n",
       "      <td>Slay</td>\n",
       "      <td>romance comedy</td>\n",
       "      <td>2021</td>\n",
       "      <td>tm1038025</td>\n",
       "    </tr>\n",
       "  </tbody>\n",
       "</table>\n",
       "</div>"
      ],
      "text/plain": [
       "                                         description  \\\n",
       "0  In this romantic comedy, several friends, each...   \n",
       "1  An LA girl, unlucky in love, falls for an East...   \n",
       "2  A relatable romance drama about a couple in th...   \n",
       "3  This black humor pan-Arabic anthology series i...   \n",
       "4  In this rom-com challenging the concept of sou...   \n",
       "5  Short films follow young adults as they naviga...   \n",
       "6  Todd and Rory are intellectual soul mates. He ...   \n",
       "7  Guille decides it's time to take the next step...   \n",
       "8  Incurable romantic Lotte's life is upended whe...   \n",
       "9  In pursuit of both success and validation, a g...   \n",
       "\n",
       "                                title                genres  release_year  \\\n",
       "0                       F*ck Love Too        comedy romance          2022   \n",
       "1                           Love Hard        romance comedy          2021   \n",
       "2             Welcome to Wedding Hell         drama romance          2022   \n",
       "3  Love, Life & Everything in Between  comedy drama romance          2022   \n",
       "4                      Four to Dinner        comedy romance          2022   \n",
       "5                     Feels Like Ishq  drama romance comedy          2021   \n",
       "6                         Straight Up        comedy romance          2019   \n",
       "7          Let's Tie the Knot, Honey!        comedy romance          2022   \n",
       "8                        Just Say Yes        comedy romance          2021   \n",
       "9                                Slay        romance comedy          2021   \n",
       "\n",
       "          id  \n",
       "0  tm1203307  \n",
       "1  tm1093099  \n",
       "2   ts344043  \n",
       "3   ts329711  \n",
       "4  tm1137862  \n",
       "5   ts283610  \n",
       "6   tm494295  \n",
       "7  tm1204412  \n",
       "8   tm904862  \n",
       "9  tm1038025  "
      ]
     },
     "execution_count": 17,
     "metadata": {},
     "output_type": "execute_result"
    }
   ],
   "source": [
    "result = app.query(\n",
    "    simple_query,\n",
    "    query_text=\"Heartfelt romantic comedy\",\n",
    "    description_weight=1,\n",
    "    title_weight=0.1,\n",
    "    genre_weight=2,\n",
    "    recency_weight=1\n",
    ")\n",
    "\n",
    "present_result(result)"
   ]
  },
  {
   "cell_type": "markdown",
   "id": "7f213c52-900a-4a1b-9e02-9d681df7735b",
   "metadata": {},
   "source": [
    "With the advanced query, I can even supply different search terms for each attribute of the movie."
   ]
  },
  {
   "cell_type": "code",
   "execution_count": 18,
   "id": "1734d57b-5dbc-4c4c-a777-8be6717c3e6b",
   "metadata": {
    "scrolled": true
   },
   "outputs": [
    {
     "data": {
      "text/html": [
       "<div>\n",
       "<style scoped>\n",
       "    .dataframe tbody tr th:only-of-type {\n",
       "        vertical-align: middle;\n",
       "    }\n",
       "\n",
       "    .dataframe tbody tr th {\n",
       "        vertical-align: top;\n",
       "    }\n",
       "\n",
       "    .dataframe thead th {\n",
       "        text-align: right;\n",
       "    }\n",
       "</style>\n",
       "<table border=\"1\" class=\"dataframe\">\n",
       "  <thead>\n",
       "    <tr style=\"text-align: right;\">\n",
       "      <th></th>\n",
       "      <th>description</th>\n",
       "      <th>title</th>\n",
       "      <th>genres</th>\n",
       "      <th>release_year</th>\n",
       "      <th>id</th>\n",
       "    </tr>\n",
       "  </thead>\n",
       "  <tbody>\n",
       "    <tr>\n",
       "      <th>0</th>\n",
       "      <td>'Love Actually' follows the lives of eight ver...</td>\n",
       "      <td>Love Actually</td>\n",
       "      <td>drama comedy romance</td>\n",
       "      <td>2003</td>\n",
       "      <td>tm133767</td>\n",
       "    </tr>\n",
       "    <tr>\n",
       "      <th>1</th>\n",
       "      <td>Rebellious Mickey and good-natured Gus navigat...</td>\n",
       "      <td>Love</td>\n",
       "      <td>comedy drama romance</td>\n",
       "      <td>2016</td>\n",
       "      <td>ts38511</td>\n",
       "    </tr>\n",
       "    <tr>\n",
       "      <th>2</th>\n",
       "      <td>A rising black painter tries to break into a c...</td>\n",
       "      <td>Really Love</td>\n",
       "      <td>romance drama</td>\n",
       "      <td>2020</td>\n",
       "      <td>tm946360</td>\n",
       "    </tr>\n",
       "    <tr>\n",
       "      <th>3</th>\n",
       "      <td>An LA girl, unlucky in love, falls for an East...</td>\n",
       "      <td>Love Hard</td>\n",
       "      <td>romance comedy</td>\n",
       "      <td>2021</td>\n",
       "      <td>tm1093099</td>\n",
       "    </tr>\n",
       "    <tr>\n",
       "      <th>4</th>\n",
       "      <td>Romantic anthology web series revolving around...</td>\n",
       "      <td>Love Daily</td>\n",
       "      <td>drama romance</td>\n",
       "      <td>2018</td>\n",
       "      <td>ts90869</td>\n",
       "    </tr>\n",
       "    <tr>\n",
       "      <th>5</th>\n",
       "      <td>Adam and Marklin’s 5-year relationship has gon...</td>\n",
       "      <td>Almost Love</td>\n",
       "      <td>comedy drama romance</td>\n",
       "      <td>2019</td>\n",
       "      <td>tm472195</td>\n",
       "    </tr>\n",
       "    <tr>\n",
       "      <th>6</th>\n",
       "      <td>Laida Magtalas is a modern-day Belle who works...</td>\n",
       "      <td>A Very Special Love</td>\n",
       "      <td>comedy drama romance</td>\n",
       "      <td>2008</td>\n",
       "      <td>tm28024</td>\n",
       "    </tr>\n",
       "    <tr>\n",
       "      <th>7</th>\n",
       "      <td>Two young kids fall in love with each other. B...</td>\n",
       "      <td>Endless Love</td>\n",
       "      <td>romance drama</td>\n",
       "      <td>1981</td>\n",
       "      <td>tm130586</td>\n",
       "    </tr>\n",
       "    <tr>\n",
       "      <th>8</th>\n",
       "      <td>Love is as tough as it is sweet for a lovestru...</td>\n",
       "      <td>A Love So Beautiful</td>\n",
       "      <td>comedy drama</td>\n",
       "      <td>2020</td>\n",
       "      <td>ts357033</td>\n",
       "    </tr>\n",
       "    <tr>\n",
       "      <th>9</th>\n",
       "      <td>A young woman develops romantic feelings for h...</td>\n",
       "      <td>Must Be... Love</td>\n",
       "      <td>comedy romance</td>\n",
       "      <td>2013</td>\n",
       "      <td>tm188290</td>\n",
       "    </tr>\n",
       "  </tbody>\n",
       "</table>\n",
       "</div>"
      ],
      "text/plain": [
       "                                         description                title  \\\n",
       "0  'Love Actually' follows the lives of eight ver...        Love Actually   \n",
       "1  Rebellious Mickey and good-natured Gus navigat...                 Love   \n",
       "2  A rising black painter tries to break into a c...          Really Love   \n",
       "3  An LA girl, unlucky in love, falls for an East...            Love Hard   \n",
       "4  Romantic anthology web series revolving around...           Love Daily   \n",
       "5  Adam and Marklin’s 5-year relationship has gon...          Almost Love   \n",
       "6  Laida Magtalas is a modern-day Belle who works...  A Very Special Love   \n",
       "7  Two young kids fall in love with each other. B...         Endless Love   \n",
       "8  Love is as tough as it is sweet for a lovestru...  A Love So Beautiful   \n",
       "9  A young woman develops romantic feelings for h...      Must Be... Love   \n",
       "\n",
       "                 genres  release_year         id  \n",
       "0  drama comedy romance          2003   tm133767  \n",
       "1  comedy drama romance          2016    ts38511  \n",
       "2         romance drama          2020   tm946360  \n",
       "3        romance comedy          2021  tm1093099  \n",
       "4         drama romance          2018    ts90869  \n",
       "5  comedy drama romance          2019   tm472195  \n",
       "6  comedy drama romance          2008    tm28024  \n",
       "7         romance drama          1981   tm130586  \n",
       "8          comedy drama          2020   ts357033  \n",
       "9        comedy romance          2013   tm188290  "
      ]
     },
     "execution_count": 18,
     "metadata": {},
     "output_type": "execute_result"
    }
   ],
   "source": [
    "result = app.query(\n",
    "    advanced_query,\n",
    "    description_query_text=\"Heartfelt lovely romantic comedy for a cold autumn evening.\",\n",
    "    title_query_text=\"love\",\n",
    "    genre_query_text=\"drama comedy romantic\",\n",
    "    description_weight=1,\n",
    "    title_weight=1,\n",
    "    genre_weight=1,\n",
    "    recency_weight=0\n",
    ")\n",
    "\n",
    "present_result(result)"
   ]
  },
  {
   "cell_type": "markdown",
   "id": "c37b470e-760c-41c2-bcea-416f77898087",
   "metadata": {},
   "source": [
    "And even give different weights to each subsearch if I really do care that the title is related to love but I am not really emotionally attached to my description of the movie I would want to see."
   ]
  },
  {
   "cell_type": "code",
   "execution_count": 19,
   "id": "e2982995-08f7-4ac9-8398-925d8227591b",
   "metadata": {},
   "outputs": [
    {
     "data": {
      "text/html": [
       "<div>\n",
       "<style scoped>\n",
       "    .dataframe tbody tr th:only-of-type {\n",
       "        vertical-align: middle;\n",
       "    }\n",
       "\n",
       "    .dataframe tbody tr th {\n",
       "        vertical-align: top;\n",
       "    }\n",
       "\n",
       "    .dataframe thead th {\n",
       "        text-align: right;\n",
       "    }\n",
       "</style>\n",
       "<table border=\"1\" class=\"dataframe\">\n",
       "  <thead>\n",
       "    <tr style=\"text-align: right;\">\n",
       "      <th></th>\n",
       "      <th>description</th>\n",
       "      <th>title</th>\n",
       "      <th>genres</th>\n",
       "      <th>release_year</th>\n",
       "      <th>id</th>\n",
       "    </tr>\n",
       "  </thead>\n",
       "  <tbody>\n",
       "    <tr>\n",
       "      <th>0</th>\n",
       "      <td>Rebellious Mickey and good-natured Gus navigat...</td>\n",
       "      <td>Love</td>\n",
       "      <td>comedy drama romance</td>\n",
       "      <td>2016</td>\n",
       "      <td>ts38511</td>\n",
       "    </tr>\n",
       "    <tr>\n",
       "      <th>1</th>\n",
       "      <td>'Love Actually' follows the lives of eight ver...</td>\n",
       "      <td>Love Actually</td>\n",
       "      <td>drama comedy romance</td>\n",
       "      <td>2003</td>\n",
       "      <td>tm133767</td>\n",
       "    </tr>\n",
       "    <tr>\n",
       "      <th>2</th>\n",
       "      <td>The story of a family and the various situatio...</td>\n",
       "      <td>Love</td>\n",
       "      <td>thriller drama</td>\n",
       "      <td>2020</td>\n",
       "      <td>tm946277</td>\n",
       "    </tr>\n",
       "    <tr>\n",
       "      <th>3</th>\n",
       "      <td>A rising black painter tries to break into a c...</td>\n",
       "      <td>Really Love</td>\n",
       "      <td>romance drama</td>\n",
       "      <td>2020</td>\n",
       "      <td>tm946360</td>\n",
       "    </tr>\n",
       "    <tr>\n",
       "      <th>4</th>\n",
       "      <td>Adam and Marklin’s 5-year relationship has gon...</td>\n",
       "      <td>Almost Love</td>\n",
       "      <td>comedy drama romance</td>\n",
       "      <td>2019</td>\n",
       "      <td>tm472195</td>\n",
       "    </tr>\n",
       "    <tr>\n",
       "      <th>5</th>\n",
       "      <td>Two young kids fall in love with each other. B...</td>\n",
       "      <td>Endless Love</td>\n",
       "      <td>romance drama</td>\n",
       "      <td>1981</td>\n",
       "      <td>tm130586</td>\n",
       "    </tr>\n",
       "    <tr>\n",
       "      <th>6</th>\n",
       "      <td>The story of Richard and Mildred Loving, an in...</td>\n",
       "      <td>Loving</td>\n",
       "      <td>drama romance</td>\n",
       "      <td>2016</td>\n",
       "      <td>tm219233</td>\n",
       "    </tr>\n",
       "    <tr>\n",
       "      <th>7</th>\n",
       "      <td>Laida Magtalas is a modern-day Belle who works...</td>\n",
       "      <td>A Very Special Love</td>\n",
       "      <td>comedy drama romance</td>\n",
       "      <td>2008</td>\n",
       "      <td>tm28024</td>\n",
       "    </tr>\n",
       "    <tr>\n",
       "      <th>8</th>\n",
       "      <td>Love, Now is a 72 episode Taiwanese idol roman...</td>\n",
       "      <td>Love, Now</td>\n",
       "      <td>drama</td>\n",
       "      <td>2012</td>\n",
       "      <td>ts69208</td>\n",
       "    </tr>\n",
       "    <tr>\n",
       "      <th>9</th>\n",
       "      <td>Ian Montes is a picture of success. Despite be...</td>\n",
       "      <td>A Love Story</td>\n",
       "      <td>drama romance</td>\n",
       "      <td>2007</td>\n",
       "      <td>tm76399</td>\n",
       "    </tr>\n",
       "  </tbody>\n",
       "</table>\n",
       "</div>"
      ],
      "text/plain": [
       "                                         description                title  \\\n",
       "0  Rebellious Mickey and good-natured Gus navigat...                 Love   \n",
       "1  'Love Actually' follows the lives of eight ver...        Love Actually   \n",
       "2  The story of a family and the various situatio...                 Love   \n",
       "3  A rising black painter tries to break into a c...          Really Love   \n",
       "4  Adam and Marklin’s 5-year relationship has gon...          Almost Love   \n",
       "5  Two young kids fall in love with each other. B...         Endless Love   \n",
       "6  The story of Richard and Mildred Loving, an in...               Loving   \n",
       "7  Laida Magtalas is a modern-day Belle who works...  A Very Special Love   \n",
       "8  Love, Now is a 72 episode Taiwanese idol roman...            Love, Now   \n",
       "9  Ian Montes is a picture of success. Despite be...         A Love Story   \n",
       "\n",
       "                 genres  release_year        id  \n",
       "0  comedy drama romance          2016   ts38511  \n",
       "1  drama comedy romance          2003  tm133767  \n",
       "2        thriller drama          2020  tm946277  \n",
       "3         romance drama          2020  tm946360  \n",
       "4  comedy drama romance          2019  tm472195  \n",
       "5         romance drama          1981  tm130586  \n",
       "6         drama romance          2016  tm219233  \n",
       "7  comedy drama romance          2008   tm28024  \n",
       "8                 drama          2012   ts69208  \n",
       "9         drama romance          2007   tm76399  "
      ]
     },
     "execution_count": 19,
     "metadata": {},
     "output_type": "execute_result"
    }
   ],
   "source": [
    "result = app.query(\n",
    "    advanced_query,\n",
    "    description_query_text=\"Heartfelt lovely romantic comedy for a cold autumn evening.\",\n",
    "    title_query_text=\"love\",\n",
    "    genre_query_text=\"drama comedy romantic\",\n",
    "    description_weight=0.2,\n",
    "    title_weight=3,\n",
    "    genre_weight=1,\n",
    "    recency_weight=0\n",
    ")\n",
    "\n",
    "present_result(result)"
   ]
  },
  {
   "cell_type": "markdown",
   "id": "cb343f08-4c5b-4dee-a41f-0944f81aeddd",
   "metadata": {},
   "source": [
    "Then I can bias again towards recent movies"
   ]
  },
  {
   "cell_type": "code",
   "execution_count": 20,
   "id": "852cdad9-c8aa-4f0c-84e5-b39975d654d6",
   "metadata": {},
   "outputs": [
    {
     "data": {
      "text/html": [
       "<div>\n",
       "<style scoped>\n",
       "    .dataframe tbody tr th:only-of-type {\n",
       "        vertical-align: middle;\n",
       "    }\n",
       "\n",
       "    .dataframe tbody tr th {\n",
       "        vertical-align: top;\n",
       "    }\n",
       "\n",
       "    .dataframe thead th {\n",
       "        text-align: right;\n",
       "    }\n",
       "</style>\n",
       "<table border=\"1\" class=\"dataframe\">\n",
       "  <thead>\n",
       "    <tr style=\"text-align: right;\">\n",
       "      <th></th>\n",
       "      <th>description</th>\n",
       "      <th>title</th>\n",
       "      <th>genres</th>\n",
       "      <th>release_year</th>\n",
       "      <th>id</th>\n",
       "    </tr>\n",
       "  </thead>\n",
       "  <tbody>\n",
       "    <tr>\n",
       "      <th>0</th>\n",
       "      <td>After his ad agency goes bankrupt, an indebted...</td>\n",
       "      <td>Doom of Love</td>\n",
       "      <td>romance drama</td>\n",
       "      <td>2022</td>\n",
       "      <td>tm1218702</td>\n",
       "    </tr>\n",
       "    <tr>\n",
       "      <th>1</th>\n",
       "      <td>An ad executive and a fashion designer-blogger...</td>\n",
       "      <td>Love Tactics</td>\n",
       "      <td>comedy romance</td>\n",
       "      <td>2022</td>\n",
       "      <td>tm1152224</td>\n",
       "    </tr>\n",
       "    <tr>\n",
       "      <th>2</th>\n",
       "      <td>Fidelity tells a story of marital fidelity, in...</td>\n",
       "      <td>Devotion, a Story of Love and Desire</td>\n",
       "      <td>drama romance</td>\n",
       "      <td>2022</td>\n",
       "      <td>ts280892</td>\n",
       "    </tr>\n",
       "    <tr>\n",
       "      <th>3</th>\n",
       "      <td>This black humor pan-Arabic anthology series i...</td>\n",
       "      <td>Love, Life &amp; Everything in Between</td>\n",
       "      <td>comedy drama romance</td>\n",
       "      <td>2022</td>\n",
       "      <td>ts329711</td>\n",
       "    </tr>\n",
       "    <tr>\n",
       "      <th>4</th>\n",
       "      <td>A modern love story set in the near future whe...</td>\n",
       "      <td>AI Love You</td>\n",
       "      <td>scifi comedy romance drama</td>\n",
       "      <td>2022</td>\n",
       "      <td>tm1160424</td>\n",
       "    </tr>\n",
       "    <tr>\n",
       "      <th>5</th>\n",
       "      <td>Often (mis)guided by a cheeky imaginary wizard...</td>\n",
       "      <td>Eternally Confused and Eager for Love</td>\n",
       "      <td>comedy romance</td>\n",
       "      <td>2022</td>\n",
       "      <td>ts330012</td>\n",
       "    </tr>\n",
       "    <tr>\n",
       "      <th>6</th>\n",
       "      <td>An LA girl, unlucky in love, falls for an East...</td>\n",
       "      <td>Love Hard</td>\n",
       "      <td>romance comedy</td>\n",
       "      <td>2021</td>\n",
       "      <td>tm1093099</td>\n",
       "    </tr>\n",
       "    <tr>\n",
       "      <th>7</th>\n",
       "      <td>The story of a family and the various situatio...</td>\n",
       "      <td>Love</td>\n",
       "      <td>thriller drama</td>\n",
       "      <td>2020</td>\n",
       "      <td>tm946277</td>\n",
       "    </tr>\n",
       "    <tr>\n",
       "      <th>8</th>\n",
       "      <td>Haruto Asakura falls in love with hairdresser ...</td>\n",
       "      <td>Love Like the Falling Petals</td>\n",
       "      <td>drama romance</td>\n",
       "      <td>2022</td>\n",
       "      <td>tm1119015</td>\n",
       "    </tr>\n",
       "    <tr>\n",
       "      <th>9</th>\n",
       "      <td>Inside a national weather service, love proves...</td>\n",
       "      <td>Forecasting Love and Weather</td>\n",
       "      <td>drama romance</td>\n",
       "      <td>2022</td>\n",
       "      <td>ts319412</td>\n",
       "    </tr>\n",
       "  </tbody>\n",
       "</table>\n",
       "</div>"
      ],
      "text/plain": [
       "                                         description  \\\n",
       "0  After his ad agency goes bankrupt, an indebted...   \n",
       "1  An ad executive and a fashion designer-blogger...   \n",
       "2  Fidelity tells a story of marital fidelity, in...   \n",
       "3  This black humor pan-Arabic anthology series i...   \n",
       "4  A modern love story set in the near future whe...   \n",
       "5  Often (mis)guided by a cheeky imaginary wizard...   \n",
       "6  An LA girl, unlucky in love, falls for an East...   \n",
       "7  The story of a family and the various situatio...   \n",
       "8  Haruto Asakura falls in love with hairdresser ...   \n",
       "9  Inside a national weather service, love proves...   \n",
       "\n",
       "                                   title                      genres  \\\n",
       "0                           Doom of Love               romance drama   \n",
       "1                           Love Tactics              comedy romance   \n",
       "2   Devotion, a Story of Love and Desire               drama romance   \n",
       "3     Love, Life & Everything in Between        comedy drama romance   \n",
       "4                            AI Love You  scifi comedy romance drama   \n",
       "5  Eternally Confused and Eager for Love              comedy romance   \n",
       "6                              Love Hard              romance comedy   \n",
       "7                                   Love              thriller drama   \n",
       "8           Love Like the Falling Petals               drama romance   \n",
       "9           Forecasting Love and Weather               drama romance   \n",
       "\n",
       "   release_year         id  \n",
       "0          2022  tm1218702  \n",
       "1          2022  tm1152224  \n",
       "2          2022   ts280892  \n",
       "3          2022   ts329711  \n",
       "4          2022  tm1160424  \n",
       "5          2022   ts330012  \n",
       "6          2021  tm1093099  \n",
       "7          2020   tm946277  \n",
       "8          2022  tm1119015  \n",
       "9          2022   ts319412  "
      ]
     },
     "execution_count": 20,
     "metadata": {},
     "output_type": "execute_result"
    }
   ],
   "source": [
    "result = app.query(\n",
    "    advanced_query,\n",
    "    description_query_text=\"Heartfelt lovely romantic comedy for a cold autumn evening.\",\n",
    "    title_query_text=\"love\",\n",
    "    genre_query_text=\"drama comedy romantic\",\n",
    "    description_weight=0.2,\n",
    "    title_weight=3,\n",
    "    genre_weight=1,\n",
    "    recency_weight=5\n",
    ")\n",
    "\n",
    "present_result(result)"
   ]
  },
  {
   "cell_type": "markdown",
   "id": "04219f19-6857-4822-bf61-32f3893df736",
   "metadata": {},
   "source": [
    "Or maybe to older ones"
   ]
  },
  {
   "cell_type": "code",
   "execution_count": 21,
   "id": "7033a82a-5f04-4c7b-aa7c-e3122d8c7709",
   "metadata": {},
   "outputs": [
    {
     "data": {
      "text/html": [
       "<div>\n",
       "<style scoped>\n",
       "    .dataframe tbody tr th:only-of-type {\n",
       "        vertical-align: middle;\n",
       "    }\n",
       "\n",
       "    .dataframe tbody tr th {\n",
       "        vertical-align: top;\n",
       "    }\n",
       "\n",
       "    .dataframe thead th {\n",
       "        text-align: right;\n",
       "    }\n",
       "</style>\n",
       "<table border=\"1\" class=\"dataframe\">\n",
       "  <thead>\n",
       "    <tr style=\"text-align: right;\">\n",
       "      <th></th>\n",
       "      <th>description</th>\n",
       "      <th>title</th>\n",
       "      <th>genres</th>\n",
       "      <th>release_year</th>\n",
       "      <th>id</th>\n",
       "    </tr>\n",
       "  </thead>\n",
       "  <tbody>\n",
       "    <tr>\n",
       "      <th>0</th>\n",
       "      <td>Two young kids fall in love with each other. B...</td>\n",
       "      <td>Endless Love</td>\n",
       "      <td>romance drama</td>\n",
       "      <td>1981</td>\n",
       "      <td>tm130586</td>\n",
       "    </tr>\n",
       "    <tr>\n",
       "      <th>1</th>\n",
       "      <td>Anil, a street singer, is humiliated and drive...</td>\n",
       "      <td>Disco Dancer</td>\n",
       "      <td>drama romance</td>\n",
       "      <td>1982</td>\n",
       "      <td>tm52815</td>\n",
       "    </tr>\n",
       "    <tr>\n",
       "      <th>2</th>\n",
       "      <td>An honest man dreams of a better life for his ...</td>\n",
       "      <td>Ujala</td>\n",
       "      <td>romance crime drama</td>\n",
       "      <td>1959</td>\n",
       "      <td>tm358653</td>\n",
       "    </tr>\n",
       "    <tr>\n",
       "      <th>3</th>\n",
       "      <td>Two talented song-and-dance men team up after ...</td>\n",
       "      <td>White Christmas</td>\n",
       "      <td>romance comedy</td>\n",
       "      <td>1954</td>\n",
       "      <td>tm16479</td>\n",
       "    </tr>\n",
       "    <tr>\n",
       "      <th>4</th>\n",
       "      <td>Brian Cohen is an average young Jewish man, bu...</td>\n",
       "      <td>Life of Brian</td>\n",
       "      <td>comedy</td>\n",
       "      <td>1979</td>\n",
       "      <td>tm70993</td>\n",
       "    </tr>\n",
       "    <tr>\n",
       "      <th>5</th>\n",
       "      <td>Geeky student Arnie Cunningham falls for Chris...</td>\n",
       "      <td>Christine</td>\n",
       "      <td>horror thriller european</td>\n",
       "      <td>1983</td>\n",
       "      <td>tm54450</td>\n",
       "    </tr>\n",
       "    <tr>\n",
       "      <th>6</th>\n",
       "      <td>Maharaj Brajbhan lives a wealthy lifestyle in ...</td>\n",
       "      <td>Bandie</td>\n",
       "      <td>drama action romance</td>\n",
       "      <td>1978</td>\n",
       "      <td>tm16812</td>\n",
       "    </tr>\n",
       "    <tr>\n",
       "      <th>7</th>\n",
       "      <td>Shahjada Ijjat Beg comes to India with his car...</td>\n",
       "      <td>Sohni Mahiwal</td>\n",
       "      <td>romance drama action</td>\n",
       "      <td>1984</td>\n",
       "      <td>tm172482</td>\n",
       "    </tr>\n",
       "    <tr>\n",
       "      <th>8</th>\n",
       "      <td>Two small children and a ship's cook survive a...</td>\n",
       "      <td>The Blue Lagoon</td>\n",
       "      <td>romance action drama</td>\n",
       "      <td>1980</td>\n",
       "      <td>tm98978</td>\n",
       "    </tr>\n",
       "    <tr>\n",
       "      <th>9</th>\n",
       "      <td>In the 1930s, bored waitress Bonnie Parker fal...</td>\n",
       "      <td>Bonnie and Clyde</td>\n",
       "      <td>crime drama action</td>\n",
       "      <td>1967</td>\n",
       "      <td>tm119281</td>\n",
       "    </tr>\n",
       "  </tbody>\n",
       "</table>\n",
       "</div>"
      ],
      "text/plain": [
       "                                         description             title  \\\n",
       "0  Two young kids fall in love with each other. B...      Endless Love   \n",
       "1  Anil, a street singer, is humiliated and drive...      Disco Dancer   \n",
       "2  An honest man dreams of a better life for his ...             Ujala   \n",
       "3  Two talented song-and-dance men team up after ...   White Christmas   \n",
       "4  Brian Cohen is an average young Jewish man, bu...     Life of Brian   \n",
       "5  Geeky student Arnie Cunningham falls for Chris...         Christine   \n",
       "6  Maharaj Brajbhan lives a wealthy lifestyle in ...            Bandie   \n",
       "7  Shahjada Ijjat Beg comes to India with his car...     Sohni Mahiwal   \n",
       "8  Two small children and a ship's cook survive a...   The Blue Lagoon   \n",
       "9  In the 1930s, bored waitress Bonnie Parker fal...  Bonnie and Clyde   \n",
       "\n",
       "                     genres  release_year        id  \n",
       "0             romance drama          1981  tm130586  \n",
       "1             drama romance          1982   tm52815  \n",
       "2       romance crime drama          1959  tm358653  \n",
       "3            romance comedy          1954   tm16479  \n",
       "4                    comedy          1979   tm70993  \n",
       "5  horror thriller european          1983   tm54450  \n",
       "6      drama action romance          1978   tm16812  \n",
       "7      romance drama action          1984  tm172482  \n",
       "8      romance action drama          1980   tm98978  \n",
       "9        crime drama action          1967  tm119281  "
      ]
     },
     "execution_count": 21,
     "metadata": {},
     "output_type": "execute_result"
    }
   ],
   "source": [
    "result = app.query(\n",
    "    advanced_query,\n",
    "    description_query_text=\"Heartfelt lovely romantic comedy for a cold autumn evening.\",\n",
    "    title_query_text=\"love\",\n",
    "    genre_query_text=\"drama comedy romantic\",\n",
    "    description_weight=0.2,\n",
    "    title_weight=3,\n",
    "    genre_weight=1,\n",
    "    recency_weight=-10\n",
    ")\n",
    "\n",
    "present_result(result)"
   ]
  },
  {
   "cell_type": "markdown",
   "id": "9a922c32-891a-4826-ab0e-fc5f091e4791",
   "metadata": {},
   "source": [
    "notice that every movie before 1984 has the same recency score as our largest period time is 40 years."
   ]
  },
  {
   "cell_type": "markdown",
   "id": "6c86e22d-77d0-41a8-bc94-526bf341622a",
   "metadata": {},
   "source": [
    "### Search with a movie and queries\n",
    "\n",
    "Now I found a movie in the last result set that I have already seen but I would love something similar. White Christmas (1954) is a story about people forming a rock-band and of course there is some love along the way. It has the id \"tm16479\".\n",
    "\n",
    "I can query my dataset using this movie, too! Let's adjust the defined query first:"
   ]
  },
  {
   "cell_type": "code",
   "execution_count": 22,
   "id": "bd21e6cf-c901-469c-a59f-7aa0905e8157",
   "metadata": {},
   "outputs": [],
   "source": [
    "with_movie_query = advanced_query.with_vector(movie, Param(\"movie_id\"))"
   ]
  },
  {
   "cell_type": "markdown",
   "id": "5ec8badd-1082-4512-8953-c2c6e187f653",
   "metadata": {},
   "source": [
    "with this modification, I can add a movie from the dataset to the search.\n",
    "\n",
    "Let's first just focus on movies with similar descriptions. The first result will of course be the movie we are searching with."
   ]
  },
  {
   "cell_type": "code",
   "execution_count": 23,
   "id": "c957320a-9ab2-4377-b14b-48d6e7e564b6",
   "metadata": {},
   "outputs": [
    {
     "data": {
      "text/html": [
       "<div>\n",
       "<style scoped>\n",
       "    .dataframe tbody tr th:only-of-type {\n",
       "        vertical-align: middle;\n",
       "    }\n",
       "\n",
       "    .dataframe tbody tr th {\n",
       "        vertical-align: top;\n",
       "    }\n",
       "\n",
       "    .dataframe thead th {\n",
       "        text-align: right;\n",
       "    }\n",
       "</style>\n",
       "<table border=\"1\" class=\"dataframe\">\n",
       "  <thead>\n",
       "    <tr style=\"text-align: right;\">\n",
       "      <th></th>\n",
       "      <th>description</th>\n",
       "      <th>title</th>\n",
       "      <th>genres</th>\n",
       "      <th>release_year</th>\n",
       "      <th>id</th>\n",
       "    </tr>\n",
       "  </thead>\n",
       "  <tbody>\n",
       "    <tr>\n",
       "      <th>0</th>\n",
       "      <td>Two talented song-and-dance men team up after ...</td>\n",
       "      <td>White Christmas</td>\n",
       "      <td>romance comedy</td>\n",
       "      <td>1954</td>\n",
       "      <td>tm16479</td>\n",
       "    </tr>\n",
       "    <tr>\n",
       "      <th>1</th>\n",
       "      <td>Aditya, Joe, Kedar and Rob form a rock band, b...</td>\n",
       "      <td>Rock On!!</td>\n",
       "      <td>drama music</td>\n",
       "      <td>2008</td>\n",
       "      <td>tm37945</td>\n",
       "    </tr>\n",
       "    <tr>\n",
       "      <th>2</th>\n",
       "      <td>Go backstage with French rap duo Bigflo &amp; Oli ...</td>\n",
       "      <td>Bigflo &amp; Oli: Hip Hop Frenzy</td>\n",
       "      <td>documentation music</td>\n",
       "      <td>2020</td>\n",
       "      <td>tm937044</td>\n",
       "    </tr>\n",
       "    <tr>\n",
       "      <th>3</th>\n",
       "      <td>A dream of the hope for intimacy and love in a...</td>\n",
       "      <td>Condom Lead</td>\n",
       "      <td>drama</td>\n",
       "      <td>2013</td>\n",
       "      <td>tm1036195</td>\n",
       "    </tr>\n",
       "    <tr>\n",
       "      <th>4</th>\n",
       "      <td>A duo of street performers learns how sound an...</td>\n",
       "      <td>Silent</td>\n",
       "      <td>animation family action</td>\n",
       "      <td>2014</td>\n",
       "      <td>tm137379</td>\n",
       "    </tr>\n",
       "    <tr>\n",
       "      <th>5</th>\n",
       "      <td>Childhood friends Suresh and Vinnie want to be...</td>\n",
       "      <td>ABCD 2</td>\n",
       "      <td>music drama</td>\n",
       "      <td>2015</td>\n",
       "      <td>tm207668</td>\n",
       "    </tr>\n",
       "    <tr>\n",
       "      <th>6</th>\n",
       "      <td>This documentary spotlights Debbie Allen's car...</td>\n",
       "      <td>Dance Dreams: Hot Chocolate Nutcracker</td>\n",
       "      <td>documentation family</td>\n",
       "      <td>2020</td>\n",
       "      <td>tm946927</td>\n",
       "    </tr>\n",
       "    <tr>\n",
       "      <th>7</th>\n",
       "      <td>Follow the lives of an elite group of young da...</td>\n",
       "      <td>The Next Step</td>\n",
       "      <td>drama family romance</td>\n",
       "      <td>2013</td>\n",
       "      <td>ts35282</td>\n",
       "    </tr>\n",
       "    <tr>\n",
       "      <th>8</th>\n",
       "      <td>Sing along and dance with Bailey, Franny, Kip,...</td>\n",
       "      <td>Word Party Songs</td>\n",
       "      <td>animation family</td>\n",
       "      <td>2020</td>\n",
       "      <td>ts251607</td>\n",
       "    </tr>\n",
       "    <tr>\n",
       "      <th>9</th>\n",
       "      <td>Nine struggling musicians share the spotlight ...</td>\n",
       "      <td>Westside</td>\n",
       "      <td>reality</td>\n",
       "      <td>2018</td>\n",
       "      <td>ts84644</td>\n",
       "    </tr>\n",
       "  </tbody>\n",
       "</table>\n",
       "</div>"
      ],
      "text/plain": [
       "                                         description  \\\n",
       "0  Two talented song-and-dance men team up after ...   \n",
       "1  Aditya, Joe, Kedar and Rob form a rock band, b...   \n",
       "2  Go backstage with French rap duo Bigflo & Oli ...   \n",
       "3  A dream of the hope for intimacy and love in a...   \n",
       "4  A duo of street performers learns how sound an...   \n",
       "5  Childhood friends Suresh and Vinnie want to be...   \n",
       "6  This documentary spotlights Debbie Allen's car...   \n",
       "7  Follow the lives of an elite group of young da...   \n",
       "8  Sing along and dance with Bailey, Franny, Kip,...   \n",
       "9  Nine struggling musicians share the spotlight ...   \n",
       "\n",
       "                                    title                   genres  \\\n",
       "0                         White Christmas           romance comedy   \n",
       "1                               Rock On!!              drama music   \n",
       "2            Bigflo & Oli: Hip Hop Frenzy      documentation music   \n",
       "3                             Condom Lead                    drama   \n",
       "4                                  Silent  animation family action   \n",
       "5                                  ABCD 2              music drama   \n",
       "6  Dance Dreams: Hot Chocolate Nutcracker     documentation family   \n",
       "7                           The Next Step     drama family romance   \n",
       "8                        Word Party Songs         animation family   \n",
       "9                                Westside                  reality   \n",
       "\n",
       "   release_year         id  \n",
       "0          1954    tm16479  \n",
       "1          2008    tm37945  \n",
       "2          2020   tm937044  \n",
       "3          2013  tm1036195  \n",
       "4          2014   tm137379  \n",
       "5          2015   tm207668  \n",
       "6          2020   tm946927  \n",
       "7          2013    ts35282  \n",
       "8          2020   ts251607  \n",
       "9          2018    ts84644  "
      ]
     },
     "execution_count": 23,
     "metadata": {},
     "output_type": "execute_result"
    }
   ],
   "source": [
    "result = app.query(\n",
    "    with_movie_query,\n",
    "    description_query_text=\"\",\n",
    "    title_query_text=\"\",\n",
    "    genre_query_text=\"\",\n",
    "    description_weight=1,\n",
    "    title_weight=0,\n",
    "    genre_weight=0,\n",
    "    recency_weight=0,\n",
    "    movie_id=\"tm16479\"\n",
    ")\n",
    "\n",
    "present_result(result)"
   ]
  },
  {
   "cell_type": "markdown",
   "id": "e164bc36-ac70-4dae-a00e-062c5f68fa28",
   "metadata": {},
   "source": [
    "I got back movies that focus more on the rock-band aspect of the movie. With query parameters I can try to skew the results to be more related to family."
   ]
  },
  {
   "cell_type": "code",
   "execution_count": 24,
   "id": "0ddcf7ae-70fe-453b-8ea0-8af274ec4ee5",
   "metadata": {
    "scrolled": true
   },
   "outputs": [
    {
     "data": {
      "text/html": [
       "<div>\n",
       "<style scoped>\n",
       "    .dataframe tbody tr th:only-of-type {\n",
       "        vertical-align: middle;\n",
       "    }\n",
       "\n",
       "    .dataframe tbody tr th {\n",
       "        vertical-align: top;\n",
       "    }\n",
       "\n",
       "    .dataframe thead th {\n",
       "        text-align: right;\n",
       "    }\n",
       "</style>\n",
       "<table border=\"1\" class=\"dataframe\">\n",
       "  <thead>\n",
       "    <tr style=\"text-align: right;\">\n",
       "      <th></th>\n",
       "      <th>description</th>\n",
       "      <th>title</th>\n",
       "      <th>genres</th>\n",
       "      <th>release_year</th>\n",
       "      <th>id</th>\n",
       "    </tr>\n",
       "  </thead>\n",
       "  <tbody>\n",
       "    <tr>\n",
       "      <th>0</th>\n",
       "      <td>Two talented song-and-dance men team up after ...</td>\n",
       "      <td>White Christmas</td>\n",
       "      <td>romance comedy</td>\n",
       "      <td>1954</td>\n",
       "      <td>tm16479</td>\n",
       "    </tr>\n",
       "    <tr>\n",
       "      <th>1</th>\n",
       "      <td>Romantic comedy following four couples who mee...</td>\n",
       "      <td>All's Well, Ends Well</td>\n",
       "      <td>romance comedy</td>\n",
       "      <td>2012</td>\n",
       "      <td>tm37573</td>\n",
       "    </tr>\n",
       "    <tr>\n",
       "      <th>2</th>\n",
       "      <td>An estranged family gathers together in New Yo...</td>\n",
       "      <td>The Meyerowitz Stories (New and Selected)</td>\n",
       "      <td>comedy drama</td>\n",
       "      <td>2017</td>\n",
       "      <td>tm244206</td>\n",
       "    </tr>\n",
       "    <tr>\n",
       "      <th>3</th>\n",
       "      <td>Years after his father disowns his adopted bro...</td>\n",
       "      <td>Kabhi Khushi Kabhie Gham</td>\n",
       "      <td>drama romance</td>\n",
       "      <td>2001</td>\n",
       "      <td>tm36475</td>\n",
       "    </tr>\n",
       "    <tr>\n",
       "      <th>4</th>\n",
       "      <td>Reunited in their hometown for their father's ...</td>\n",
       "      <td>The Bros</td>\n",
       "      <td>comedy fantasy</td>\n",
       "      <td>2017</td>\n",
       "      <td>tm357708</td>\n",
       "    </tr>\n",
       "    <tr>\n",
       "      <th>5</th>\n",
       "      <td>A new couple, their exes and their children na...</td>\n",
       "      <td>Bonus Family</td>\n",
       "      <td>drama comedy reality family documentation musi...</td>\n",
       "      <td>2017</td>\n",
       "      <td>ts55939</td>\n",
       "    </tr>\n",
       "    <tr>\n",
       "      <th>6</th>\n",
       "      <td>Three prosperous women -- including a mother a...</td>\n",
       "      <td>Playing with Fire</td>\n",
       "      <td>drama</td>\n",
       "      <td>2019</td>\n",
       "      <td>ts87680</td>\n",
       "    </tr>\n",
       "    <tr>\n",
       "      <th>7</th>\n",
       "      <td>A young couple dream of growing old together a...</td>\n",
       "      <td>The Hows of Us</td>\n",
       "      <td>drama romance comedy</td>\n",
       "      <td>2018</td>\n",
       "      <td>tm430059</td>\n",
       "    </tr>\n",
       "    <tr>\n",
       "      <th>8</th>\n",
       "      <td>A dramatic story about a girl and her giving f...</td>\n",
       "      <td>Sen Benim HerŞeyimsin</td>\n",
       "      <td>comedy</td>\n",
       "      <td>2016</td>\n",
       "      <td>tm311456</td>\n",
       "    </tr>\n",
       "    <tr>\n",
       "      <th>9</th>\n",
       "      <td>The loves, heartbreak, jealousy and pain of th...</td>\n",
       "      <td>The Beauty Queen of Jerusalem</td>\n",
       "      <td>drama</td>\n",
       "      <td>2021</td>\n",
       "      <td>ts252119</td>\n",
       "    </tr>\n",
       "  </tbody>\n",
       "</table>\n",
       "</div>"
      ],
      "text/plain": [
       "                                         description  \\\n",
       "0  Two talented song-and-dance men team up after ...   \n",
       "1  Romantic comedy following four couples who mee...   \n",
       "2  An estranged family gathers together in New Yo...   \n",
       "3  Years after his father disowns his adopted bro...   \n",
       "4  Reunited in their hometown for their father's ...   \n",
       "5  A new couple, their exes and their children na...   \n",
       "6  Three prosperous women -- including a mother a...   \n",
       "7  A young couple dream of growing old together a...   \n",
       "8  A dramatic story about a girl and her giving f...   \n",
       "9  The loves, heartbreak, jealousy and pain of th...   \n",
       "\n",
       "                                       title  \\\n",
       "0                            White Christmas   \n",
       "1                      All's Well, Ends Well   \n",
       "2  The Meyerowitz Stories (New and Selected)   \n",
       "3                   Kabhi Khushi Kabhie Gham   \n",
       "4                                   The Bros   \n",
       "5                               Bonus Family   \n",
       "6                          Playing with Fire   \n",
       "7                             The Hows of Us   \n",
       "8                      Sen Benim HerŞeyimsin   \n",
       "9              The Beauty Queen of Jerusalem   \n",
       "\n",
       "                                              genres  release_year        id  \n",
       "0                                     romance comedy          1954   tm16479  \n",
       "1                                     romance comedy          2012   tm37573  \n",
       "2                                       comedy drama          2017  tm244206  \n",
       "3                                      drama romance          2001   tm36475  \n",
       "4                                     comedy fantasy          2017  tm357708  \n",
       "5  drama comedy reality family documentation musi...          2017   ts55939  \n",
       "6                                              drama          2019   ts87680  \n",
       "7                               drama romance comedy          2018  tm430059  \n",
       "8                                             comedy          2016  tm311456  \n",
       "9                                              drama          2021  ts252119  "
      ]
     },
     "execution_count": 24,
     "metadata": {},
     "output_type": "execute_result"
    }
   ],
   "source": [
    "result = app.query(\n",
    "    with_movie_query,\n",
    "    description_query_text=\"family\",\n",
    "    title_query_text=\"\",\n",
    "    genre_query_text=\"\",\n",
    "    description_weight=1,\n",
    "    title_weight=0,\n",
    "    genre_weight=0,\n",
    "    recency_weight=0,\n",
    "    description_query_weight=1,\n",
    "    movie_id=\"tm16479\"\n",
    ")\n",
    "\n",
    "present_result(result)"
   ]
  },
  {
   "cell_type": "markdown",
   "id": "b72f2b5e-2ee4-47e2-93d9-9ce0ca79e1b6",
   "metadata": {},
   "source": [
    "Taking a closer look at the description of these result movies, we can see that they share some aspect of the movie we are searching with - blended together with some notion of family:"
   ]
  },
  {
   "cell_type": "code",
   "execution_count": 25,
   "id": "d3aae331-f31d-4d8f-ba0c-b1bb4f72e27a",
   "metadata": {},
   "outputs": [
    {
     "name": "stdout",
     "output_type": "stream",
     "text": [
      "0 Two talented song-and-dance men team up after the war to become one of the hottest acts in show business. In time they befriend and become romantically involved with the beautiful Haynes sisters who comprise a sister act.\n",
      "\n",
      "1 Romantic comedy following four couples who meet through a dating website. Four men go on a heroic mission to help four women and wind up experiencing a series of mishaps.\n",
      "\n",
      "2 An estranged family gathers together in New York for an event celebrating the artistic work of their father.\n",
      "\n",
      "3 Years after his father disowns his adopted brother for marrying a woman of lower social standing, a young man goes on a mission to reunite his family.\n",
      "\n",
      "4 Reunited in their hometown for their father's funeral, two self-interested brothers meet a peculiar woman who shares a huge secret about their family.\n",
      "\n",
      "5 A new couple, their exes and their children navigate the emotional challenges and tricky logistics of blended family life in this Swedish dramedy.\n",
      "\n",
      "6 Three prosperous women -- including a mother and her daughter -- fall for a seductive man in Colombia's Coffee Triangle.\n",
      "\n",
      "7 A young couple dream of growing old together as they deal with the struggles of being in a long-term relationship.\n",
      "\n",
      "8 A dramatic story about a girl and her giving father.\n",
      "\n",
      "9 The loves, heartbreak, jealousy and pain of the three Armoza sisters – Luna, Rachelika, and Becky - their parents, grandparents and children, set during the early-mid 20th century in Jerusalem.\n",
      "\n"
     ]
    }
   ],
   "source": [
    "res = present_result(result)\n",
    "for i in res.index:\n",
    "    print(i, res.loc[i].description)\n",
    "    print(\"\")"
   ]
  },
  {
   "cell_type": "markdown",
   "id": "33d4cb73-1924-4653-89cc-5541a21a6fb5",
   "metadata": {},
   "source": [
    "After all, this evening I am in the mood for something light - I can also skew the results towards a specific genre: comedy"
   ]
  },
  {
   "cell_type": "code",
   "execution_count": 26,
   "id": "2efc1e79-2d13-4fae-bdf5-77a1e3d5d0c6",
   "metadata": {},
   "outputs": [
    {
     "data": {
      "text/html": [
       "<div>\n",
       "<style scoped>\n",
       "    .dataframe tbody tr th:only-of-type {\n",
       "        vertical-align: middle;\n",
       "    }\n",
       "\n",
       "    .dataframe tbody tr th {\n",
       "        vertical-align: top;\n",
       "    }\n",
       "\n",
       "    .dataframe thead th {\n",
       "        text-align: right;\n",
       "    }\n",
       "</style>\n",
       "<table border=\"1\" class=\"dataframe\">\n",
       "  <thead>\n",
       "    <tr style=\"text-align: right;\">\n",
       "      <th></th>\n",
       "      <th>description</th>\n",
       "      <th>title</th>\n",
       "      <th>genres</th>\n",
       "      <th>release_year</th>\n",
       "      <th>id</th>\n",
       "    </tr>\n",
       "  </thead>\n",
       "  <tbody>\n",
       "    <tr>\n",
       "      <th>0</th>\n",
       "      <td>Two talented song-and-dance men team up after ...</td>\n",
       "      <td>White Christmas</td>\n",
       "      <td>romance comedy</td>\n",
       "      <td>1954</td>\n",
       "      <td>tm16479</td>\n",
       "    </tr>\n",
       "    <tr>\n",
       "      <th>1</th>\n",
       "      <td>Romantic comedy following four couples who mee...</td>\n",
       "      <td>All's Well, Ends Well</td>\n",
       "      <td>romance comedy</td>\n",
       "      <td>2012</td>\n",
       "      <td>tm37573</td>\n",
       "    </tr>\n",
       "    <tr>\n",
       "      <th>2</th>\n",
       "      <td>On a bet, a gridiron hero at John Hughes High ...</td>\n",
       "      <td>Not Another Teen Movie</td>\n",
       "      <td>comedy</td>\n",
       "      <td>2001</td>\n",
       "      <td>tm58382</td>\n",
       "    </tr>\n",
       "    <tr>\n",
       "      <th>3</th>\n",
       "      <td>An original twist on an eternal triangle, wher...</td>\n",
       "      <td>Don't Go Breaking My Heart</td>\n",
       "      <td>romance comedy</td>\n",
       "      <td>2011</td>\n",
       "      <td>tm176128</td>\n",
       "    </tr>\n",
       "    <tr>\n",
       "      <th>4</th>\n",
       "      <td>Get ready to scream with laughter! Sam Kinison...</td>\n",
       "      <td>Sam Kinison: Family Entertainment Hour</td>\n",
       "      <td>comedy</td>\n",
       "      <td>1991</td>\n",
       "      <td>tm8687</td>\n",
       "    </tr>\n",
       "    <tr>\n",
       "      <th>5</th>\n",
       "      <td>The story of Nola Darling's simultaneous sexua...</td>\n",
       "      <td>She's Gotta Have It</td>\n",
       "      <td>romance comedy</td>\n",
       "      <td>1986</td>\n",
       "      <td>tm117580</td>\n",
       "    </tr>\n",
       "    <tr>\n",
       "      <th>6</th>\n",
       "      <td>A vibrant, hopelessly romantic physiotherapist...</td>\n",
       "      <td>Khoobsurat</td>\n",
       "      <td>comedy romance</td>\n",
       "      <td>2014</td>\n",
       "      <td>tm158980</td>\n",
       "    </tr>\n",
       "    <tr>\n",
       "      <th>7</th>\n",
       "      <td>On the eve of Nikhil and Karishma’s engagement...</td>\n",
       "      <td>Hasee Toh Phasee</td>\n",
       "      <td>comedy romance</td>\n",
       "      <td>2014</td>\n",
       "      <td>tm148457</td>\n",
       "    </tr>\n",
       "    <tr>\n",
       "      <th>8</th>\n",
       "      <td>A young woman develops romantic feelings for h...</td>\n",
       "      <td>Must Be... Love</td>\n",
       "      <td>comedy romance</td>\n",
       "      <td>2013</td>\n",
       "      <td>tm188290</td>\n",
       "    </tr>\n",
       "    <tr>\n",
       "      <th>9</th>\n",
       "      <td>A sitcom about a British-Nigerian family livin...</td>\n",
       "      <td>Meet the Adebanjos</td>\n",
       "      <td>comedy</td>\n",
       "      <td>2012</td>\n",
       "      <td>ts167724</td>\n",
       "    </tr>\n",
       "  </tbody>\n",
       "</table>\n",
       "</div>"
      ],
      "text/plain": [
       "                                         description  \\\n",
       "0  Two talented song-and-dance men team up after ...   \n",
       "1  Romantic comedy following four couples who mee...   \n",
       "2  On a bet, a gridiron hero at John Hughes High ...   \n",
       "3  An original twist on an eternal triangle, wher...   \n",
       "4  Get ready to scream with laughter! Sam Kinison...   \n",
       "5  The story of Nola Darling's simultaneous sexua...   \n",
       "6  A vibrant, hopelessly romantic physiotherapist...   \n",
       "7  On the eve of Nikhil and Karishma’s engagement...   \n",
       "8  A young woman develops romantic feelings for h...   \n",
       "9  A sitcom about a British-Nigerian family livin...   \n",
       "\n",
       "                                    title          genres  release_year  \\\n",
       "0                         White Christmas  romance comedy          1954   \n",
       "1                   All's Well, Ends Well  romance comedy          2012   \n",
       "2                  Not Another Teen Movie          comedy          2001   \n",
       "3              Don't Go Breaking My Heart  romance comedy          2011   \n",
       "4  Sam Kinison: Family Entertainment Hour          comedy          1991   \n",
       "5                     She's Gotta Have It  romance comedy          1986   \n",
       "6                              Khoobsurat  comedy romance          2014   \n",
       "7                        Hasee Toh Phasee  comedy romance          2014   \n",
       "8                         Must Be... Love  comedy romance          2013   \n",
       "9                      Meet the Adebanjos          comedy          2012   \n",
       "\n",
       "         id  \n",
       "0   tm16479  \n",
       "1   tm37573  \n",
       "2   tm58382  \n",
       "3  tm176128  \n",
       "4    tm8687  \n",
       "5  tm117580  \n",
       "6  tm158980  \n",
       "7  tm148457  \n",
       "8  tm188290  \n",
       "9  ts167724  "
      ]
     },
     "execution_count": 26,
     "metadata": {},
     "output_type": "execute_result"
    }
   ],
   "source": [
    "result = app.query(\n",
    "    with_movie_query,\n",
    "    description_query_text=\"\",\n",
    "    title_query_text=\"\",\n",
    "    genre_query_text=\"comedy\",\n",
    "    description_weight=1,\n",
    "    title_weight=0,\n",
    "    genre_weight=2,\n",
    "    recency_weight=0,\n",
    "    description_query_weight=1,\n",
    "    movie_id=\"tm16479\"\n",
    ")\n",
    "\n",
    "present_result(result)"
   ]
  }
 ],
 "metadata": {
  "kernelspec": {
   "display_name": "superlinked-venv",
   "language": "python",
   "name": "superlinked-venv"
  },
  "language_info": {
   "codemirror_mode": {
    "name": "ipython",
    "version": 3
   },
   "file_extension": ".py",
   "mimetype": "text/x-python",
   "name": "python",
   "nbconvert_exporter": "python",
   "pygments_lexer": "ipython3",
   "version": "3.10.9"
  }
 },
 "nbformat": 4,
 "nbformat_minor": 5
}

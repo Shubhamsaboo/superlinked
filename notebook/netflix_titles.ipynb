{
 "cells": [
  {
   "cell_type": "markdown",
   "id": "9b043a5f-b961-4c6c-9107-f9ae8f0778f3",
   "metadata": {},
   "source": [
    "# Netflix movie search\n",
    "\n",
    "Finding out what to watch is tough choice mainly because of the abundance of options and the scarcity of time.\n",
    "Let's follow a data-driven approach to arrive at a decision!\n",
    "\n",
    "In our [dataset](https://www.kaggle.com/datasets/dgoenrique/netflix-movies-and-tv-shows) of movies, we know the\n",
    "- description,\n",
    "- genre\n",
    "- title\n",
    "- and the release_year\n",
    "of the movie.\n",
    "\n",
    "Putting together a vector index on top of these embedded inputs will create a space in which we can search semantically to find our movie choice for tonight.\n",
    "\n",
    "We are going to browse the movies\n",
    "\n",
    "- searching with an idea (heartfelt romantic comedy)\n",
    "- tweak around the results giving more imporance to matches in certain input fields\n",
    "- search in description, genre and title with different search terms for each\n",
    "- and after finding a close enough movie (that is not quite it), search around utilising that one, too"
   ]
  },
  {
   "cell_type": "markdown",
   "id": "d460ac88-5a9b-4e43-80fa-3ddaad07538a",
   "metadata": {},
   "source": [
    "<div class=\"alert alert-block alert-warning\">\n",
    "Replace <code>YOUR_GITHUB_TOKEN</code> in the install script. To get your token follow the instructions in the <a href=\"../README.md\">README.md</a>\n",
    "</div>"
   ]
  },
  {
   "cell_type": "markdown",
   "id": "80fdfc22-58c9-4355-97e9-685ced8a8a1e",
   "metadata": {},
   "source": [
    "## Boilerplate\n",
    "\n",
    "### Installation"
   ]
  },
  {
   "cell_type": "code",
   "execution_count": 1,
   "id": "782788ff-ea73-4e06-8fd2-b4a114b5f25d",
   "metadata": {
    "scrolled": true
   },
   "outputs": [],
   "source": [
    "%pip install  'https://us-central1-data-359211.cloudfunctions.net/github-proxy/superlinked-2.23.3-py3-none-any.whl?token=YOUR_GITHUB_TOKEN'\n",
    "%pip install update jupyter ipywidgets"
   ]
  },
  {
   "cell_type": "markdown",
   "id": "cb50885c-536e-480a-b3a1-3c0d4449d64b",
   "metadata": {},
   "source": [
    "### Imports and constants"
   ]
  },
  {
   "cell_type": "code",
   "execution_count": 2,
   "id": "f641dd4c-2df4-460d-bd96-f0b654e1bd05",
   "metadata": {},
   "outputs": [],
   "source": [
    "from datetime import timedelta, datetime\n",
    "\n",
    "import altair as alt\n",
    "import pandas as pd\n",
    "\n",
    "from superlinked.evaluation.charts.recency_plotter import RecencyPlotter\n",
    "from superlinked.framework.common.dag.context import CONTEXT_COMMON, CONTEXT_COMMON_NOW\n",
    "from superlinked.framework.common.dag.period_time import PeriodTime\n",
    "from superlinked.framework.common.schema.schema import schema\n",
    "from superlinked.framework.common.schema.schema_object import String, Timestamp\n",
    "from superlinked.framework.common.schema.id_schema_object import IdField\n",
    "from superlinked.framework.common.parser.dataframe_parser import DataFrameParser\n",
    "from superlinked.framework.dsl.executor.in_memory.in_memory_executor import InMemoryExecutor, InMemoryApp\n",
    "from superlinked.framework.dsl.index.index import Index\n",
    "from superlinked.framework.dsl.query.param import Param\n",
    "from superlinked.framework.dsl.query.query import Query\n",
    "from superlinked.framework.dsl.query.result import Result\n",
    "from superlinked.framework.dsl.source.in_memory_source import InMemorySource\n",
    "from superlinked.framework.dsl.space.text_similarity_space import TextSimilaritySpace\n",
    "from superlinked.framework.dsl.space.recency_space import RecencySpace\n",
    "\n",
    "alt.renderers.enable('mimetype')\n",
    "alt.data_transformers.disable_max_rows()\n",
    "pd.set_option('display.max_colwidth', 200)"
   ]
  },
  {
   "cell_type": "code",
   "execution_count": 3,
   "id": "2b55a3d8-dbe3-4f35-be21-11864226252d",
   "metadata": {},
   "outputs": [],
   "source": [
    "YEAR_IN_DAYS = 365\n",
    "TOP_N = 10\n",
    "DATASET_URL = \"https://storage.googleapis.com/superlinked-notebook-netflix-shows-dataset/titles.csv\"\n",
    "# as our latest movie is from 2022 we can set this as the time of the analysis\n",
    "END_OF_2022_TS = int(datetime(2022, 12, 31, 23, 59).timestamp())\n",
    "EXECUTOR_DATA = {CONTEXT_COMMON: {CONTEXT_COMMON_NOW: END_OF_2022_TS}}"
   ]
  },
  {
   "cell_type": "markdown",
   "id": "480739b3-b03f-426d-9eec-affb54d86228",
   "metadata": {},
   "source": [
    "## Prepare dataset"
   ]
  },
  {
   "cell_type": "code",
   "execution_count": 4,
   "id": "339d4fcf-50d2-4d5c-a800-14807a2d4cfb",
   "metadata": {},
   "outputs": [
    {
     "data": {
      "text/html": [
       "<div>\n",
       "<style scoped>\n",
       "    .dataframe tbody tr th:only-of-type {\n",
       "        vertical-align: middle;\n",
       "    }\n",
       "\n",
       "    .dataframe tbody tr th {\n",
       "        vertical-align: top;\n",
       "    }\n",
       "\n",
       "    .dataframe thead th {\n",
       "        text-align: right;\n",
       "    }\n",
       "</style>\n",
       "<table border=\"1\" class=\"dataframe\">\n",
       "  <thead>\n",
       "    <tr style=\"text-align: right;\">\n",
       "      <th></th>\n",
       "      <th>description</th>\n",
       "      <th>genres</th>\n",
       "      <th>title</th>\n",
       "      <th>release_year</th>\n",
       "      <th>id</th>\n",
       "      <th>timestamp</th>\n",
       "    </tr>\n",
       "  </thead>\n",
       "  <tbody>\n",
       "    <tr>\n",
       "      <th>0</th>\n",
       "      <td>This collection includes 12 World War II-era propaganda films — many of which are graphic and offensive — discussed in the docuseries \"Five Came Back.\"</td>\n",
       "      <td>documentation</td>\n",
       "      <td>Five Came Back: The Reference Films</td>\n",
       "      <td>1945</td>\n",
       "      <td>ts300399</td>\n",
       "      <td>-788918400.0</td>\n",
       "    </tr>\n",
       "    <tr>\n",
       "      <th>1</th>\n",
       "      <td>A mentally unstable Vietnam War veteran works as a night-time taxi driver in New York City where the perceived decadence and sleaze feed his urge for violent action.</td>\n",
       "      <td>drama crime</td>\n",
       "      <td>Taxi Driver</td>\n",
       "      <td>1976</td>\n",
       "      <td>tm84618</td>\n",
       "      <td>189302400.0</td>\n",
       "    </tr>\n",
       "    <tr>\n",
       "      <th>2</th>\n",
       "      <td>Intent on seeing the Cahulawassee River before it's turned into one huge lake, outdoor fanatic Lewis Medlock takes his friends on a river-rafting trip they'll never forget into the dangerous Ameri...</td>\n",
       "      <td>drama action thriller european</td>\n",
       "      <td>Deliverance</td>\n",
       "      <td>1972</td>\n",
       "      <td>tm154986</td>\n",
       "      <td>63072000.0</td>\n",
       "    </tr>\n",
       "    <tr>\n",
       "      <th>3</th>\n",
       "      <td>King Arthur, accompanied by his squire, recruits his Knights of the Round Table, including Sir Bedevere the Wise, Sir Lancelot the Brave, Sir Robin the Not-Quite-So-Brave-As-Sir-Lancelot and Sir G...</td>\n",
       "      <td>fantasy action comedy</td>\n",
       "      <td>Monty Python and the Holy Grail</td>\n",
       "      <td>1975</td>\n",
       "      <td>tm127384</td>\n",
       "      <td>157766400.0</td>\n",
       "    </tr>\n",
       "    <tr>\n",
       "      <th>4</th>\n",
       "      <td>12 American military prisoners in World War II are ordered to infiltrate a well-guarded enemy château and kill the Nazi officers vacationing there. The soldiers, most of whom are facing death sent...</td>\n",
       "      <td>war action</td>\n",
       "      <td>The Dirty Dozen</td>\n",
       "      <td>1967</td>\n",
       "      <td>tm120801</td>\n",
       "      <td>-94694400.0</td>\n",
       "    </tr>\n",
       "  </tbody>\n",
       "</table>\n",
       "</div>"
      ],
      "text/plain": [
       "                                                                                                                                                                                               description  \\\n",
       "0                                                  This collection includes 12 World War II-era propaganda films — many of which are graphic and offensive — discussed in the docuseries \"Five Came Back.\"   \n",
       "1                                    A mentally unstable Vietnam War veteran works as a night-time taxi driver in New York City where the perceived decadence and sleaze feed his urge for violent action.   \n",
       "2  Intent on seeing the Cahulawassee River before it's turned into one huge lake, outdoor fanatic Lewis Medlock takes his friends on a river-rafting trip they'll never forget into the dangerous Ameri...   \n",
       "3  King Arthur, accompanied by his squire, recruits his Knights of the Round Table, including Sir Bedevere the Wise, Sir Lancelot the Brave, Sir Robin the Not-Quite-So-Brave-As-Sir-Lancelot and Sir G...   \n",
       "4  12 American military prisoners in World War II are ordered to infiltrate a well-guarded enemy château and kill the Nazi officers vacationing there. The soldiers, most of whom are facing death sent...   \n",
       "\n",
       "                           genres                                title  \\\n",
       "0                   documentation  Five Came Back: The Reference Films   \n",
       "1                     drama crime                          Taxi Driver   \n",
       "2  drama action thriller european                          Deliverance   \n",
       "3           fantasy action comedy      Monty Python and the Holy Grail   \n",
       "4                      war action                      The Dirty Dozen   \n",
       "\n",
       "   release_year        id    timestamp  \n",
       "0          1945  ts300399 -788918400.0  \n",
       "1          1976   tm84618  189302400.0  \n",
       "2          1972  tm154986   63072000.0  \n",
       "3          1975  tm127384  157766400.0  \n",
       "4          1967  tm120801  -94694400.0  "
      ]
     },
     "execution_count": 4,
     "metadata": {},
     "output_type": "execute_result"
    }
   ],
   "source": [
    "movie_df = pd.read_csv(DATASET_URL)\n",
    "# keep only relevant columns\n",
    "movie_df = movie_df[[\"description\", \"genres\", \"title\", \"release_year\", \"id\"]].drop_duplicates(subset=[\"description\"]).dropna(how='any')\n",
    "# join genres to create a textual column\n",
    "movie_df[\"genres\"] = movie_df[\"genres\"].apply(lambda x: \" \".join(eval(x)))\n",
    "# convert release year to a timestamp - always the 1st of January\n",
    "movie_df[\"timestamp\"] = [pd.Timestamp(year=year, month=1, day=1).timestamp() for year in movie_df[\"release_year\"].tolist()]\n",
    "movie_df.head()"
   ]
  },
  {
   "cell_type": "code",
   "execution_count": 5,
   "id": "4cfe8e4b-a22d-4b79-acf3-e1dc91bb3ec7",
   "metadata": {},
   "outputs": [
    {
     "data": {
      "application/vnd.vegalite.v5+json": {
       "$schema": "https://vega.github.io/schema/vega-lite/v5.16.3.json",
       "config": {
        "view": {
         "continuousHeight": 300,
         "continuousWidth": 300
        }
       },
       "data": {
        "name": "data-1193ce539508db5243d364ac44c0c4ed"
       },
       "datasets": {
        "data-1193ce539508db5243d364ac44c0c4ed": [
         {
          "release_year": "1945"
         },
         {
          "release_year": "1976"
         },
         {
          "release_year": "1972"
         },
         {
          "release_year": "1975"
         },
         {
          "release_year": "1967"
         },
         {
          "release_year": "1969"
         },
         {
          "release_year": "1979"
         },
         {
          "release_year": "1971"
         },
         {
          "release_year": "1967"
         },
         {
          "release_year": "1980"
         },
         {
          "release_year": "1961"
         },
         {
          "release_year": "1966"
         },
         {
          "release_year": "1979"
         },
         {
          "release_year": "1954"
         },
         {
          "release_year": "1958"
         },
         {
          "release_year": "1977"
         },
         {
          "release_year": "1972"
         },
         {
          "release_year": "1979"
         },
         {
          "release_year": "1969"
         },
         {
          "release_year": "1980"
         },
         {
          "release_year": "1963"
         },
         {
          "release_year": "1979"
         },
         {
          "release_year": "1954"
         },
         {
          "release_year": "1956"
         },
         {
          "release_year": "1979"
         },
         {
          "release_year": "1960"
         },
         {
          "release_year": "1972"
         },
         {
          "release_year": "1975"
         },
         {
          "release_year": "1976"
         },
         {
          "release_year": "1973"
         },
         {
          "release_year": "1974"
         },
         {
          "release_year": "1959"
         },
         {
          "release_year": "1980"
         },
         {
          "release_year": "1976"
         },
         {
          "release_year": "1978"
         },
         {
          "release_year": "1989"
         },
         {
          "release_year": "1990"
         },
         {
          "release_year": "1987"
         },
         {
          "release_year": "1984"
         },
         {
          "release_year": "1989"
         },
         {
          "release_year": "1984"
         },
         {
          "release_year": "1989"
         },
         {
          "release_year": "1984"
         },
         {
          "release_year": "1983"
         },
         {
          "release_year": "1982"
         },
         {
          "release_year": "1984"
         },
         {
          "release_year": "1989"
         },
         {
          "release_year": "1990"
         },
         {
          "release_year": "1983"
         },
         {
          "release_year": "1989"
         },
         {
          "release_year": "1989"
         },
         {
          "release_year": "1987"
         },
         {
          "release_year": "1986"
         },
         {
          "release_year": "1989"
         },
         {
          "release_year": "1981"
         },
         {
          "release_year": "1981"
         },
         {
          "release_year": "1983"
         },
         {
          "release_year": "1988"
         },
         {
          "release_year": "1981"
         },
         {
          "release_year": "1987"
         },
         {
          "release_year": "1987"
         },
         {
          "release_year": "1985"
         },
         {
          "release_year": "1990"
         },
         {
          "release_year": "1982"
         },
         {
          "release_year": "1982"
         },
         {
          "release_year": "1982"
         },
         {
          "release_year": "1990"
         },
         {
          "release_year": "1989"
         },
         {
          "release_year": "1988"
         },
         {
          "release_year": "1988"
         },
         {
          "release_year": "1989"
         },
         {
          "release_year": "1990"
         },
         {
          "release_year": "1986"
         },
         {
          "release_year": "1988"
         },
         {
          "release_year": "1990"
         },
         {
          "release_year": "1989"
         },
         {
          "release_year": "1989"
         },
         {
          "release_year": "1988"
         },
         {
          "release_year": "1989"
         },
         {
          "release_year": "1984"
         },
         {
          "release_year": "1987"
         },
         {
          "release_year": "1986"
         },
         {
          "release_year": "1988"
         },
         {
          "release_year": "1988"
         },
         {
          "release_year": "1987"
         },
         {
          "release_year": "1986"
         },
         {
          "release_year": "1984"
         },
         {
          "release_year": "1983"
         },
         {
          "release_year": "1982"
         },
         {
          "release_year": "1982"
         },
         {
          "release_year": "1990"
         },
         {
          "release_year": "2000"
         },
         {
          "release_year": "1996"
         },
         {
          "release_year": "1997"
         },
         {
          "release_year": "1995"
         },
         {
          "release_year": "1997"
         },
         {
          "release_year": "1997"
         },
         {
          "release_year": "1994"
         },
         {
          "release_year": "2000"
         },
         {
          "release_year": "1999"
         },
         {
          "release_year": "1999"
         },
         {
          "release_year": "1998"
         },
         {
          "release_year": "1997"
         },
         {
          "release_year": "1998"
         },
         {
          "release_year": "1997"
         },
         {
          "release_year": "2000"
         },
         {
          "release_year": "1994"
         },
         {
          "release_year": "1995"
         },
         {
          "release_year": "1997"
         },
         {
          "release_year": "1994"
         },
         {
          "release_year": "2000"
         },
         {
          "release_year": "1994"
         },
         {
          "release_year": "1995"
         },
         {
          "release_year": "1998"
         },
         {
          "release_year": "1993"
         },
         {
          "release_year": "1999"
         },
         {
          "release_year": "1998"
         },
         {
          "release_year": "1998"
         },
         {
          "release_year": "1997"
         },
         {
          "release_year": "1994"
         },
         {
          "release_year": "1995"
         },
         {
          "release_year": "2000"
         },
         {
          "release_year": "1992"
         },
         {
          "release_year": "1999"
         },
         {
          "release_year": "1993"
         },
         {
          "release_year": "1994"
         },
         {
          "release_year": "1991"
         },
         {
          "release_year": "1994"
         },
         {
          "release_year": "1996"
         },
         {
          "release_year": "1997"
         },
         {
          "release_year": "1997"
         },
         {
          "release_year": "1993"
         },
         {
          "release_year": "1994"
         },
         {
          "release_year": "1998"
         },
         {
          "release_year": "1992"
         },
         {
          "release_year": "1997"
         },
         {
          "release_year": "1996"
         },
         {
          "release_year": "2000"
         },
         {
          "release_year": "1997"
         },
         {
          "release_year": "1995"
         },
         {
          "release_year": "1993"
         },
         {
          "release_year": "1993"
         },
         {
          "release_year": "1995"
         },
         {
          "release_year": "1994"
         },
         {
          "release_year": "1998"
         },
         {
          "release_year": "1991"
         },
         {
          "release_year": "1997"
         },
         {
          "release_year": "1998"
         },
         {
          "release_year": "1997"
         },
         {
          "release_year": "1993"
         },
         {
          "release_year": "1998"
         },
         {
          "release_year": "2000"
         },
         {
          "release_year": "1994"
         },
         {
          "release_year": "1993"
         },
         {
          "release_year": "1997"
         },
         {
          "release_year": "1995"
         },
         {
          "release_year": "1998"
         },
         {
          "release_year": "1999"
         },
         {
          "release_year": "1994"
         },
         {
          "release_year": "1996"
         },
         {
          "release_year": "1994"
         },
         {
          "release_year": "1999"
         },
         {
          "release_year": "1998"
         },
         {
          "release_year": "1994"
         },
         {
          "release_year": "1991"
         },
         {
          "release_year": "2000"
         },
         {
          "release_year": "1994"
         },
         {
          "release_year": "1998"
         },
         {
          "release_year": "1998"
         },
         {
          "release_year": "1998"
         },
         {
          "release_year": "1993"
         },
         {
          "release_year": "1999"
         },
         {
          "release_year": "1993"
         },
         {
          "release_year": "1998"
         },
         {
          "release_year": "1991"
         },
         {
          "release_year": "1993"
         },
         {
          "release_year": "1995"
         },
         {
          "release_year": "1991"
         },
         {
          "release_year": "1999"
         },
         {
          "release_year": "1998"
         },
         {
          "release_year": "1991"
         },
         {
          "release_year": "1996"
         },
         {
          "release_year": "1993"
         },
         {
          "release_year": "1999"
         },
         {
          "release_year": "1997"
         },
         {
          "release_year": "1996"
         },
         {
          "release_year": "1995"
         },
         {
          "release_year": "1998"
         },
         {
          "release_year": "1998"
         },
         {
          "release_year": "1997"
         },
         {
          "release_year": "1998"
         },
         {
          "release_year": "1996"
         },
         {
          "release_year": "1994"
         },
         {
          "release_year": "1991"
         },
         {
          "release_year": "2000"
         },
         {
          "release_year": "1999"
         },
         {
          "release_year": "1992"
         },
         {
          "release_year": "1991"
         },
         {
          "release_year": "1991"
         },
         {
          "release_year": "1998"
         },
         {
          "release_year": "1993"
         },
         {
          "release_year": "1991"
         },
         {
          "release_year": "1993"
         },
         {
          "release_year": "1998"
         },
         {
          "release_year": "1993"
         },
         {
          "release_year": "2000"
         },
         {
          "release_year": "2000"
         },
         {
          "release_year": "1999"
         },
         {
          "release_year": "1991"
         },
         {
          "release_year": "1994"
         },
         {
          "release_year": "1999"
         },
         {
          "release_year": "1995"
         },
         {
          "release_year": "1998"
         },
         {
          "release_year": "1991"
         },
         {
          "release_year": "1999"
         },
         {
          "release_year": "1991"
         },
         {
          "release_year": "2008"
         },
         {
          "release_year": "2002"
         },
         {
          "release_year": "2010"
         },
         {
          "release_year": "2005"
         },
         {
          "release_year": "2007"
         },
         {
          "release_year": "2004"
         },
         {
          "release_year": "2010"
         },
         {
          "release_year": "2006"
         },
         {
          "release_year": "2010"
         },
         {
          "release_year": "2009"
         },
         {
          "release_year": "2002"
         },
         {
          "release_year": "2005"
         },
         {
          "release_year": "2003"
         },
         {
          "release_year": "2007"
         },
         {
          "release_year": "2004"
         },
         {
          "release_year": "2003"
         },
         {
          "release_year": "2003"
         },
         {
          "release_year": "2005"
         },
         {
          "release_year": "2004"
         },
         {
          "release_year": "2006"
         },
         {
          "release_year": "2006"
         },
         {
          "release_year": "2010"
         },
         {
          "release_year": "2008"
         },
         {
          "release_year": "2006"
         },
         {
          "release_year": "2005"
         },
         {
          "release_year": "2010"
         },
         {
          "release_year": "2005"
         },
         {
          "release_year": "2006"
         },
         {
          "release_year": "2009"
         },
         {
          "release_year": "2002"
         },
         {
          "release_year": "2008"
         },
         {
          "release_year": "2006"
         },
         {
          "release_year": "2010"
         },
         {
          "release_year": "2007"
         },
         {
          "release_year": "2003"
         },
         {
          "release_year": "2004"
         },
         {
          "release_year": "2007"
         },
         {
          "release_year": "2002"
         },
         {
          "release_year": "2010"
         },
         {
          "release_year": "2003"
         },
         {
          "release_year": "2008"
         },
         {
          "release_year": "2004"
         },
         {
          "release_year": "2009"
         },
         {
          "release_year": "2001"
         },
         {
          "release_year": "2003"
         },
         {
          "release_year": "2003"
         },
         {
          "release_year": "2008"
         },
         {
          "release_year": "2008"
         },
         {
          "release_year": "2009"
         },
         {
          "release_year": "2001"
         },
         {
          "release_year": "2003"
         },
         {
          "release_year": "2007"
         },
         {
          "release_year": "2001"
         },
         {
          "release_year": "2010"
         },
         {
          "release_year": "2004"
         },
         {
          "release_year": "2004"
         },
         {
          "release_year": "2010"
         },
         {
          "release_year": "2009"
         },
         {
          "release_year": "2001"
         },
         {
          "release_year": "2001"
         },
         {
          "release_year": "2008"
         },
         {
          "release_year": "2007"
         },
         {
          "release_year": "2006"
         },
         {
          "release_year": "2003"
         },
         {
          "release_year": "2008"
         },
         {
          "release_year": "2003"
         },
         {
          "release_year": "2004"
         },
         {
          "release_year": "2001"
         },
         {
          "release_year": "2008"
         },
         {
          "release_year": "2010"
         },
         {
          "release_year": "2009"
         },
         {
          "release_year": "2001"
         },
         {
          "release_year": "2010"
         },
         {
          "release_year": "2007"
         },
         {
          "release_year": "2006"
         },
         {
          "release_year": "2002"
         },
         {
          "release_year": "2008"
         },
         {
          "release_year": "2006"
         },
         {
          "release_year": "2007"
         },
         {
          "release_year": "2010"
         },
         {
          "release_year": "2006"
         },
         {
          "release_year": "2005"
         },
         {
          "release_year": "2008"
         },
         {
          "release_year": "2008"
         },
         {
          "release_year": "2009"
         },
         {
          "release_year": "2007"
         },
         {
          "release_year": "2010"
         },
         {
          "release_year": "2008"
         },
         {
          "release_year": "2010"
         },
         {
          "release_year": "2004"
         },
         {
          "release_year": "2005"
         },
         {
          "release_year": "2007"
         },
         {
          "release_year": "2010"
         },
         {
          "release_year": "2003"
         },
         {
          "release_year": "2006"
         },
         {
          "release_year": "2002"
         },
         {
          "release_year": "2010"
         },
         {
          "release_year": "2007"
         },
         {
          "release_year": "2005"
         },
         {
          "release_year": "2002"
         },
         {
          "release_year": "2009"
         },
         {
          "release_year": "2001"
         },
         {
          "release_year": "2006"
         },
         {
          "release_year": "2003"
         },
         {
          "release_year": "2002"
         },
         {
          "release_year": "2003"
         },
         {
          "release_year": "2003"
         },
         {
          "release_year": "2010"
         },
         {
          "release_year": "2008"
         },
         {
          "release_year": "2006"
         },
         {
          "release_year": "2009"
         },
         {
          "release_year": "2003"
         },
         {
          "release_year": "2007"
         },
         {
          "release_year": "2004"
         },
         {
          "release_year": "2009"
         },
         {
          "release_year": "2003"
         },
         {
          "release_year": "2007"
         },
         {
          "release_year": "2007"
         },
         {
          "release_year": "2008"
         },
         {
          "release_year": "2009"
         },
         {
          "release_year": "2006"
         },
         {
          "release_year": "2007"
         },
         {
          "release_year": "2008"
         },
         {
          "release_year": "2010"
         },
         {
          "release_year": "2005"
         },
         {
          "release_year": "2004"
         },
         {
          "release_year": "2004"
         },
         {
          "release_year": "2005"
         },
         {
          "release_year": "2002"
         },
         {
          "release_year": "2006"
         },
         {
          "release_year": "2009"
         },
         {
          "release_year": "2001"
         },
         {
          "release_year": "2005"
         },
         {
          "release_year": "2007"
         },
         {
          "release_year": "2002"
         },
         {
          "release_year": "2005"
         },
         {
          "release_year": "2006"
         },
         {
          "release_year": "2010"
         },
         {
          "release_year": "2010"
         },
         {
          "release_year": "2010"
         },
         {
          "release_year": "2005"
         },
         {
          "release_year": "2007"
         },
         {
          "release_year": "2007"
         },
         {
          "release_year": "2004"
         },
         {
          "release_year": "2004"
         },
         {
          "release_year": "2006"
         },
         {
          "release_year": "2007"
         },
         {
          "release_year": "2006"
         },
         {
          "release_year": "2009"
         },
         {
          "release_year": "2010"
         },
         {
          "release_year": "2010"
         },
         {
          "release_year": "2008"
         },
         {
          "release_year": "2006"
         },
         {
          "release_year": "2010"
         },
         {
          "release_year": "2008"
         },
         {
          "release_year": "2009"
         },
         {
          "release_year": "2007"
         },
         {
          "release_year": "2009"
         },
         {
          "release_year": "2002"
         },
         {
          "release_year": "2009"
         },
         {
          "release_year": "2009"
         },
         {
          "release_year": "2002"
         },
         {
          "release_year": "2003"
         },
         {
          "release_year": "2010"
         },
         {
          "release_year": "2004"
         },
         {
          "release_year": "2006"
         },
         {
          "release_year": "2009"
         },
         {
          "release_year": "2010"
         },
         {
          "release_year": "2003"
         },
         {
          "release_year": "2008"
         },
         {
          "release_year": "2007"
         },
         {
          "release_year": "2008"
         },
         {
          "release_year": "2005"
         },
         {
          "release_year": "2007"
         },
         {
          "release_year": "2009"
         },
         {
          "release_year": "2007"
         },
         {
          "release_year": "2009"
         },
         {
          "release_year": "2005"
         },
         {
          "release_year": "2006"
         },
         {
          "release_year": "2010"
         },
         {
          "release_year": "2006"
         },
         {
          "release_year": "2005"
         },
         {
          "release_year": "2004"
         },
         {
          "release_year": "2010"
         },
         {
          "release_year": "2006"
         },
         {
          "release_year": "2007"
         },
         {
          "release_year": "2010"
         },
         {
          "release_year": "2007"
         },
         {
          "release_year": "2009"
         },
         {
          "release_year": "2002"
         },
         {
          "release_year": "2001"
         },
         {
          "release_year": "2003"
         },
         {
          "release_year": "2007"
         },
         {
          "release_year": "2008"
         },
         {
          "release_year": "2004"
         },
         {
          "release_year": "2008"
         },
         {
          "release_year": "2008"
         },
         {
          "release_year": "2007"
         },
         {
          "release_year": "2010"
         },
         {
          "release_year": "2007"
         },
         {
          "release_year": "2008"
         },
         {
          "release_year": "2001"
         },
         {
          "release_year": "2001"
         },
         {
          "release_year": "2004"
         },
         {
          "release_year": "2006"
         },
         {
          "release_year": "2006"
         },
         {
          "release_year": "2010"
         },
         {
          "release_year": "2006"
         },
         {
          "release_year": "2009"
         },
         {
          "release_year": "2006"
         },
         {
          "release_year": "2009"
         },
         {
          "release_year": "2009"
         },
         {
          "release_year": "2007"
         },
         {
          "release_year": "2010"
         },
         {
          "release_year": "2007"
         },
         {
          "release_year": "2009"
         },
         {
          "release_year": "2008"
         },
         {
          "release_year": "2010"
         },
         {
          "release_year": "2001"
         },
         {
          "release_year": "2003"
         },
         {
          "release_year": "2001"
         },
         {
          "release_year": "2008"
         },
         {
          "release_year": "2006"
         },
         {
          "release_year": "2008"
         },
         {
          "release_year": "2007"
         },
         {
          "release_year": "2009"
         },
         {
          "release_year": "2006"
         },
         {
          "release_year": "2010"
         },
         {
          "release_year": "2002"
         },
         {
          "release_year": "2005"
         },
         {
          "release_year": "2004"
         },
         {
          "release_year": "2009"
         },
         {
          "release_year": "2010"
         },
         {
          "release_year": "2008"
         },
         {
          "release_year": "2006"
         },
         {
          "release_year": "2006"
         },
         {
          "release_year": "2009"
         },
         {
          "release_year": "2008"
         },
         {
          "release_year": "2004"
         },
         {
          "release_year": "2009"
         },
         {
          "release_year": "2010"
         },
         {
          "release_year": "2004"
         },
         {
          "release_year": "2009"
         },
         {
          "release_year": "2001"
         },
         {
          "release_year": "2004"
         },
         {
          "release_year": "2005"
         },
         {
          "release_year": "2008"
         },
         {
          "release_year": "2007"
         },
         {
          "release_year": "2002"
         },
         {
          "release_year": "2008"
         },
         {
          "release_year": "2002"
         },
         {
          "release_year": "2004"
         },
         {
          "release_year": "2010"
         },
         {
          "release_year": "2005"
         },
         {
          "release_year": "2010"
         },
         {
          "release_year": "2008"
         },
         {
          "release_year": "2008"
         },
         {
          "release_year": "2009"
         },
         {
          "release_year": "2006"
         },
         {
          "release_year": "2003"
         },
         {
          "release_year": "2004"
         },
         {
          "release_year": "2006"
         },
         {
          "release_year": "2004"
         },
         {
          "release_year": "2005"
         },
         {
          "release_year": "2008"
         },
         {
          "release_year": "2009"
         },
         {
          "release_year": "2008"
         },
         {
          "release_year": "2002"
         },
         {
          "release_year": "2006"
         },
         {
          "release_year": "2005"
         },
         {
          "release_year": "2006"
         },
         {
          "release_year": "2010"
         },
         {
          "release_year": "2007"
         },
         {
          "release_year": "2007"
         },
         {
          "release_year": "2006"
         },
         {
          "release_year": "2010"
         },
         {
          "release_year": "2004"
         },
         {
          "release_year": "2009"
         },
         {
          "release_year": "2005"
         },
         {
          "release_year": "2008"
         },
         {
          "release_year": "2010"
         },
         {
          "release_year": "2007"
         },
         {
          "release_year": "2010"
         },
         {
          "release_year": "2009"
         },
         {
          "release_year": "2006"
         },
         {
          "release_year": "2005"
         },
         {
          "release_year": "2009"
         },
         {
          "release_year": "2008"
         },
         {
          "release_year": "2008"
         },
         {
          "release_year": "2005"
         },
         {
          "release_year": "2007"
         },
         {
          "release_year": "2007"
         },
         {
          "release_year": "2010"
         },
         {
          "release_year": "2004"
         },
         {
          "release_year": "2008"
         },
         {
          "release_year": "2009"
         },
         {
          "release_year": "2010"
         },
         {
          "release_year": "2008"
         },
         {
          "release_year": "2001"
         },
         {
          "release_year": "2010"
         },
         {
          "release_year": "2009"
         },
         {
          "release_year": "2002"
         },
         {
          "release_year": "2010"
         },
         {
          "release_year": "2009"
         },
         {
          "release_year": "2003"
         },
         {
          "release_year": "2005"
         },
         {
          "release_year": "2008"
         },
         {
          "release_year": "2008"
         },
         {
          "release_year": "2005"
         },
         {
          "release_year": "2007"
         },
         {
          "release_year": "2002"
         },
         {
          "release_year": "2004"
         },
         {
          "release_year": "2009"
         },
         {
          "release_year": "2009"
         },
         {
          "release_year": "2005"
         },
         {
          "release_year": "2007"
         },
         {
          "release_year": "2009"
         },
         {
          "release_year": "2006"
         },
         {
          "release_year": "2009"
         },
         {
          "release_year": "2009"
         },
         {
          "release_year": "2006"
         },
         {
          "release_year": "2008"
         },
         {
          "release_year": "2004"
         },
         {
          "release_year": "2001"
         },
         {
          "release_year": "2006"
         },
         {
          "release_year": "2008"
         },
         {
          "release_year": "2010"
         },
         {
          "release_year": "2004"
         },
         {
          "release_year": "2008"
         },
         {
          "release_year": "2005"
         },
         {
          "release_year": "2003"
         },
         {
          "release_year": "2008"
         },
         {
          "release_year": "2008"
         },
         {
          "release_year": "2010"
         },
         {
          "release_year": "2010"
         },
         {
          "release_year": "2009"
         },
         {
          "release_year": "2004"
         },
         {
          "release_year": "2004"
         },
         {
          "release_year": "2003"
         },
         {
          "release_year": "2010"
         },
         {
          "release_year": "2008"
         },
         {
          "release_year": "2009"
         },
         {
          "release_year": "2001"
         },
         {
          "release_year": "2010"
         },
         {
          "release_year": "2008"
         },
         {
          "release_year": "2010"
         },
         {
          "release_year": "2002"
         },
         {
          "release_year": "2005"
         },
         {
          "release_year": "2009"
         },
         {
          "release_year": "2009"
         },
         {
          "release_year": "2003"
         },
         {
          "release_year": "2008"
         },
         {
          "release_year": "2007"
         },
         {
          "release_year": "2007"
         },
         {
          "release_year": "2008"
         },
         {
          "release_year": "2005"
         },
         {
          "release_year": "2003"
         },
         {
          "release_year": "2003"
         },
         {
          "release_year": "2010"
         },
         {
          "release_year": "2010"
         },
         {
          "release_year": "2002"
         },
         {
          "release_year": "2009"
         },
         {
          "release_year": "2008"
         },
         {
          "release_year": "2009"
         },
         {
          "release_year": "2003"
         },
         {
          "release_year": "2008"
         },
         {
          "release_year": "2008"
         },
         {
          "release_year": "2006"
         },
         {
          "release_year": "2008"
         },
         {
          "release_year": "2004"
         },
         {
          "release_year": "2008"
         },
         {
          "release_year": "2008"
         },
         {
          "release_year": "2009"
         },
         {
          "release_year": "2003"
         },
         {
          "release_year": "2004"
         },
         {
          "release_year": "2010"
         },
         {
          "release_year": "2010"
         },
         {
          "release_year": "2007"
         },
         {
          "release_year": "2004"
         },
         {
          "release_year": "2008"
         },
         {
          "release_year": "2008"
         },
         {
          "release_year": "2008"
         },
         {
          "release_year": "2009"
         },
         {
          "release_year": "2007"
         },
         {
          "release_year": "2001"
         },
         {
          "release_year": "2005"
         },
         {
          "release_year": "2007"
         },
         {
          "release_year": "2010"
         },
         {
          "release_year": "2010"
         },
         {
          "release_year": "2009"
         },
         {
          "release_year": "2010"
         },
         {
          "release_year": "2004"
         },
         {
          "release_year": "2009"
         },
         {
          "release_year": "2009"
         },
         {
          "release_year": "2009"
         },
         {
          "release_year": "2008"
         },
         {
          "release_year": "2010"
         },
         {
          "release_year": "2007"
         },
         {
          "release_year": "2009"
         },
         {
          "release_year": "2006"
         },
         {
          "release_year": "2007"
         },
         {
          "release_year": "2002"
         },
         {
          "release_year": "2003"
         },
         {
          "release_year": "2009"
         },
         {
          "release_year": "2005"
         },
         {
          "release_year": "2010"
         },
         {
          "release_year": "2009"
         },
         {
          "release_year": "2010"
         },
         {
          "release_year": "2009"
         },
         {
          "release_year": "2008"
         },
         {
          "release_year": "2010"
         },
         {
          "release_year": "2007"
         },
         {
          "release_year": "2010"
         },
         {
          "release_year": "2001"
         },
         {
          "release_year": "2007"
         },
         {
          "release_year": "2004"
         },
         {
          "release_year": "2010"
         },
         {
          "release_year": "2008"
         },
         {
          "release_year": "2010"
         },
         {
          "release_year": "2006"
         },
         {
          "release_year": "2004"
         },
         {
          "release_year": "2006"
         },
         {
          "release_year": "2003"
         },
         {
          "release_year": "2011"
         },
         {
          "release_year": "2012"
         },
         {
          "release_year": "2012"
         },
         {
          "release_year": "2012"
         },
         {
          "release_year": "2012"
         },
         {
          "release_year": "2012"
         },
         {
          "release_year": "2011"
         },
         {
          "release_year": "2011"
         },
         {
          "release_year": "2012"
         },
         {
          "release_year": "2011"
         },
         {
          "release_year": "2011"
         },
         {
          "release_year": "2012"
         },
         {
          "release_year": "2012"
         },
         {
          "release_year": "2011"
         },
         {
          "release_year": "2012"
         },
         {
          "release_year": "2012"
         },
         {
          "release_year": "2012"
         },
         {
          "release_year": "2012"
         },
         {
          "release_year": "2012"
         },
         {
          "release_year": "2011"
         },
         {
          "release_year": "2011"
         },
         {
          "release_year": "2012"
         },
         {
          "release_year": "2012"
         },
         {
          "release_year": "2012"
         },
         {
          "release_year": "2012"
         },
         {
          "release_year": "2011"
         },
         {
          "release_year": "2012"
         },
         {
          "release_year": "2012"
         },
         {
          "release_year": "2011"
         },
         {
          "release_year": "2012"
         },
         {
          "release_year": "2011"
         },
         {
          "release_year": "2012"
         },
         {
          "release_year": "2012"
         },
         {
          "release_year": "2012"
         },
         {
          "release_year": "2012"
         },
         {
          "release_year": "2011"
         },
         {
          "release_year": "2011"
         },
         {
          "release_year": "2012"
         },
         {
          "release_year": "2011"
         },
         {
          "release_year": "2012"
         },
         {
          "release_year": "2011"
         },
         {
          "release_year": "2012"
         },
         {
          "release_year": "2012"
         },
         {
          "release_year": "2011"
         },
         {
          "release_year": "2012"
         },
         {
          "release_year": "2011"
         },
         {
          "release_year": "2012"
         },
         {
          "release_year": "2012"
         },
         {
          "release_year": "2011"
         },
         {
          "release_year": "2011"
         },
         {
          "release_year": "2012"
         },
         {
          "release_year": "2011"
         },
         {
          "release_year": "2011"
         },
         {
          "release_year": "2011"
         },
         {
          "release_year": "2012"
         },
         {
          "release_year": "2012"
         },
         {
          "release_year": "2012"
         },
         {
          "release_year": "2012"
         },
         {
          "release_year": "2011"
         },
         {
          "release_year": "2011"
         },
         {
          "release_year": "2012"
         },
         {
          "release_year": "2011"
         },
         {
          "release_year": "2012"
         },
         {
          "release_year": "2011"
         },
         {
          "release_year": "2011"
         },
         {
          "release_year": "2011"
         },
         {
          "release_year": "2012"
         },
         {
          "release_year": "2011"
         },
         {
          "release_year": "2012"
         },
         {
          "release_year": "2011"
         },
         {
          "release_year": "2012"
         },
         {
          "release_year": "2011"
         },
         {
          "release_year": "2011"
         },
         {
          "release_year": "2012"
         },
         {
          "release_year": "2012"
         },
         {
          "release_year": "2011"
         },
         {
          "release_year": "2012"
         },
         {
          "release_year": "2011"
         },
         {
          "release_year": "2012"
         },
         {
          "release_year": "2011"
         },
         {
          "release_year": "2012"
         },
         {
          "release_year": "2011"
         },
         {
          "release_year": "2012"
         },
         {
          "release_year": "2012"
         },
         {
          "release_year": "2012"
         },
         {
          "release_year": "2012"
         },
         {
          "release_year": "2011"
         },
         {
          "release_year": "2012"
         },
         {
          "release_year": "2011"
         },
         {
          "release_year": "2012"
         },
         {
          "release_year": "2012"
         },
         {
          "release_year": "2011"
         },
         {
          "release_year": "2011"
         },
         {
          "release_year": "2011"
         },
         {
          "release_year": "2011"
         },
         {
          "release_year": "2012"
         },
         {
          "release_year": "2012"
         },
         {
          "release_year": "2011"
         },
         {
          "release_year": "2011"
         },
         {
          "release_year": "2012"
         },
         {
          "release_year": "2011"
         },
         {
          "release_year": "2011"
         },
         {
          "release_year": "2012"
         },
         {
          "release_year": "2011"
         },
         {
          "release_year": "2012"
         },
         {
          "release_year": "2012"
         },
         {
          "release_year": "2011"
         },
         {
          "release_year": "2011"
         },
         {
          "release_year": "2012"
         },
         {
          "release_year": "2011"
         },
         {
          "release_year": "2011"
         },
         {
          "release_year": "2012"
         },
         {
          "release_year": "2011"
         },
         {
          "release_year": "2012"
         },
         {
          "release_year": "2012"
         },
         {
          "release_year": "2011"
         },
         {
          "release_year": "2012"
         },
         {
          "release_year": "2011"
         },
         {
          "release_year": "2011"
         },
         {
          "release_year": "2011"
         },
         {
          "release_year": "2012"
         },
         {
          "release_year": "2012"
         },
         {
          "release_year": "2012"
         },
         {
          "release_year": "2011"
         },
         {
          "release_year": "2011"
         },
         {
          "release_year": "2012"
         },
         {
          "release_year": "2012"
         },
         {
          "release_year": "2012"
         },
         {
          "release_year": "2012"
         },
         {
          "release_year": "2011"
         },
         {
          "release_year": "2012"
         },
         {
          "release_year": "2011"
         },
         {
          "release_year": "2012"
         },
         {
          "release_year": "2011"
         },
         {
          "release_year": "2011"
         },
         {
          "release_year": "2012"
         },
         {
          "release_year": "2012"
         },
         {
          "release_year": "2011"
         },
         {
          "release_year": "2012"
         },
         {
          "release_year": "2012"
         },
         {
          "release_year": "2011"
         },
         {
          "release_year": "2012"
         },
         {
          "release_year": "2011"
         },
         {
          "release_year": "2011"
         },
         {
          "release_year": "2012"
         },
         {
          "release_year": "2012"
         },
         {
          "release_year": "2011"
         },
         {
          "release_year": "2012"
         },
         {
          "release_year": "2012"
         },
         {
          "release_year": "2011"
         },
         {
          "release_year": "2012"
         },
         {
          "release_year": "2012"
         },
         {
          "release_year": "2011"
         },
         {
          "release_year": "2012"
         },
         {
          "release_year": "2011"
         },
         {
          "release_year": "2011"
         },
         {
          "release_year": "2011"
         },
         {
          "release_year": "2012"
         },
         {
          "release_year": "2012"
         },
         {
          "release_year": "2012"
         },
         {
          "release_year": "2011"
         },
         {
          "release_year": "2012"
         },
         {
          "release_year": "2012"
         },
         {
          "release_year": "2011"
         },
         {
          "release_year": "2011"
         },
         {
          "release_year": "2012"
         },
         {
          "release_year": "2012"
         },
         {
          "release_year": "2011"
         },
         {
          "release_year": "2011"
         },
         {
          "release_year": "2012"
         },
         {
          "release_year": "2012"
         },
         {
          "release_year": "2012"
         },
         {
          "release_year": "2012"
         },
         {
          "release_year": "2012"
         },
         {
          "release_year": "2012"
         },
         {
          "release_year": "2012"
         },
         {
          "release_year": "2012"
         },
         {
          "release_year": "2011"
         },
         {
          "release_year": "2012"
         },
         {
          "release_year": "2011"
         },
         {
          "release_year": "2011"
         },
         {
          "release_year": "2011"
         },
         {
          "release_year": "2012"
         },
         {
          "release_year": "2011"
         },
         {
          "release_year": "2012"
         },
         {
          "release_year": "2011"
         },
         {
          "release_year": "2011"
         },
         {
          "release_year": "2011"
         },
         {
          "release_year": "2012"
         },
         {
          "release_year": "2012"
         },
         {
          "release_year": "2012"
         },
         {
          "release_year": "2012"
         },
         {
          "release_year": "2011"
         },
         {
          "release_year": "2013"
         },
         {
          "release_year": "2014"
         },
         {
          "release_year": "2013"
         },
         {
          "release_year": "2013"
         },
         {
          "release_year": "2013"
         },
         {
          "release_year": "2014"
         },
         {
          "release_year": "2014"
         },
         {
          "release_year": "2014"
         },
         {
          "release_year": "2013"
         },
         {
          "release_year": "2014"
         },
         {
          "release_year": "2014"
         },
         {
          "release_year": "2014"
         },
         {
          "release_year": "2013"
         },
         {
          "release_year": "2014"
         },
         {
          "release_year": "2014"
         },
         {
          "release_year": "2014"
         },
         {
          "release_year": "2013"
         },
         {
          "release_year": "2014"
         },
         {
          "release_year": "2014"
         },
         {
          "release_year": "2013"
         },
         {
          "release_year": "2013"
         },
         {
          "release_year": "2014"
         },
         {
          "release_year": "2013"
         },
         {
          "release_year": "2014"
         },
         {
          "release_year": "2014"
         },
         {
          "release_year": "2013"
         },
         {
          "release_year": "2013"
         },
         {
          "release_year": "2014"
         },
         {
          "release_year": "2013"
         },
         {
          "release_year": "2013"
         },
         {
          "release_year": "2014"
         },
         {
          "release_year": "2014"
         },
         {
          "release_year": "2013"
         },
         {
          "release_year": "2014"
         },
         {
          "release_year": "2014"
         },
         {
          "release_year": "2013"
         },
         {
          "release_year": "2014"
         },
         {
          "release_year": "2013"
         },
         {
          "release_year": "2013"
         },
         {
          "release_year": "2013"
         },
         {
          "release_year": "2014"
         },
         {
          "release_year": "2013"
         },
         {
          "release_year": "2013"
         },
         {
          "release_year": "2014"
         },
         {
          "release_year": "2014"
         },
         {
          "release_year": "2014"
         },
         {
          "release_year": "2013"
         },
         {
          "release_year": "2013"
         },
         {
          "release_year": "2014"
         },
         {
          "release_year": "2013"
         },
         {
          "release_year": "2013"
         },
         {
          "release_year": "2013"
         },
         {
          "release_year": "2014"
         },
         {
          "release_year": "2014"
         },
         {
          "release_year": "2013"
         },
         {
          "release_year": "2013"
         },
         {
          "release_year": "2013"
         },
         {
          "release_year": "2013"
         },
         {
          "release_year": "2013"
         },
         {
          "release_year": "2013"
         },
         {
          "release_year": "2014"
         },
         {
          "release_year": "2014"
         },
         {
          "release_year": "2014"
         },
         {
          "release_year": "2013"
         },
         {
          "release_year": "2014"
         },
         {
          "release_year": "2013"
         },
         {
          "release_year": "2013"
         },
         {
          "release_year": "2014"
         },
         {
          "release_year": "2014"
         },
         {
          "release_year": "2014"
         },
         {
          "release_year": "2013"
         },
         {
          "release_year": "2013"
         },
         {
          "release_year": "2013"
         },
         {
          "release_year": "2013"
         },
         {
          "release_year": "2014"
         },
         {
          "release_year": "2013"
         },
         {
          "release_year": "2014"
         },
         {
          "release_year": "2014"
         },
         {
          "release_year": "2014"
         },
         {
          "release_year": "2013"
         },
         {
          "release_year": "2014"
         },
         {
          "release_year": "2014"
         },
         {
          "release_year": "2013"
         },
         {
          "release_year": "2014"
         },
         {
          "release_year": "2014"
         },
         {
          "release_year": "2014"
         },
         {
          "release_year": "2014"
         },
         {
          "release_year": "2013"
         },
         {
          "release_year": "2013"
         },
         {
          "release_year": "2013"
         },
         {
          "release_year": "2013"
         },
         {
          "release_year": "2014"
         },
         {
          "release_year": "2014"
         },
         {
          "release_year": "2013"
         },
         {
          "release_year": "2013"
         },
         {
          "release_year": "2013"
         },
         {
          "release_year": "2014"
         },
         {
          "release_year": "2014"
         },
         {
          "release_year": "2013"
         },
         {
          "release_year": "2014"
         },
         {
          "release_year": "2013"
         },
         {
          "release_year": "2013"
         },
         {
          "release_year": "2013"
         },
         {
          "release_year": "2014"
         },
         {
          "release_year": "2013"
         },
         {
          "release_year": "2013"
         },
         {
          "release_year": "2013"
         },
         {
          "release_year": "2014"
         },
         {
          "release_year": "2013"
         },
         {
          "release_year": "2013"
         },
         {
          "release_year": "2014"
         },
         {
          "release_year": "2014"
         },
         {
          "release_year": "2013"
         },
         {
          "release_year": "2014"
         },
         {
          "release_year": "2013"
         },
         {
          "release_year": "2014"
         },
         {
          "release_year": "2013"
         },
         {
          "release_year": "2014"
         },
         {
          "release_year": "2014"
         },
         {
          "release_year": "2014"
         },
         {
          "release_year": "2014"
         },
         {
          "release_year": "2014"
         },
         {
          "release_year": "2014"
         },
         {
          "release_year": "2013"
         },
         {
          "release_year": "2013"
         },
         {
          "release_year": "2014"
         },
         {
          "release_year": "2014"
         },
         {
          "release_year": "2013"
         },
         {
          "release_year": "2014"
         },
         {
          "release_year": "2014"
         },
         {
          "release_year": "2013"
         },
         {
          "release_year": "2014"
         },
         {
          "release_year": "2013"
         },
         {
          "release_year": "2014"
         },
         {
          "release_year": "2013"
         },
         {
          "release_year": "2013"
         },
         {
          "release_year": "2013"
         },
         {
          "release_year": "2014"
         },
         {
          "release_year": "2014"
         },
         {
          "release_year": "2013"
         },
         {
          "release_year": "2013"
         },
         {
          "release_year": "2013"
         },
         {
          "release_year": "2014"
         },
         {
          "release_year": "2013"
         },
         {
          "release_year": "2013"
         },
         {
          "release_year": "2013"
         },
         {
          "release_year": "2014"
         },
         {
          "release_year": "2014"
         },
         {
          "release_year": "2014"
         },
         {
          "release_year": "2013"
         },
         {
          "release_year": "2014"
         },
         {
          "release_year": "2014"
         },
         {
          "release_year": "2014"
         },
         {
          "release_year": "2014"
         },
         {
          "release_year": "2014"
         },
         {
          "release_year": "2013"
         },
         {
          "release_year": "2013"
         },
         {
          "release_year": "2014"
         },
         {
          "release_year": "2014"
         },
         {
          "release_year": "2013"
         },
         {
          "release_year": "2013"
         },
         {
          "release_year": "2014"
         },
         {
          "release_year": "2014"
         },
         {
          "release_year": "2014"
         },
         {
          "release_year": "2013"
         },
         {
          "release_year": "2014"
         },
         {
          "release_year": "2013"
         },
         {
          "release_year": "2013"
         },
         {
          "release_year": "2013"
         },
         {
          "release_year": "2013"
         },
         {
          "release_year": "2014"
         },
         {
          "release_year": "2014"
         },
         {
          "release_year": "2014"
         },
         {
          "release_year": "2014"
         },
         {
          "release_year": "2014"
         },
         {
          "release_year": "2013"
         },
         {
          "release_year": "2013"
         },
         {
          "release_year": "2014"
         },
         {
          "release_year": "2014"
         },
         {
          "release_year": "2014"
         },
         {
          "release_year": "2013"
         },
         {
          "release_year": "2014"
         },
         {
          "release_year": "2013"
         },
         {
          "release_year": "2013"
         },
         {
          "release_year": "2014"
         },
         {
          "release_year": "2014"
         },
         {
          "release_year": "2014"
         },
         {
          "release_year": "2014"
         },
         {
          "release_year": "2014"
         },
         {
          "release_year": "2014"
         },
         {
          "release_year": "2013"
         },
         {
          "release_year": "2014"
         },
         {
          "release_year": "2013"
         },
         {
          "release_year": "2014"
         },
         {
          "release_year": "2014"
         },
         {
          "release_year": "2014"
         },
         {
          "release_year": "2014"
         },
         {
          "release_year": "2014"
         },
         {
          "release_year": "2013"
         },
         {
          "release_year": "2013"
         },
         {
          "release_year": "2014"
         },
         {
          "release_year": "2014"
         },
         {
          "release_year": "2014"
         },
         {
          "release_year": "2014"
         },
         {
          "release_year": "2014"
         },
         {
          "release_year": "2014"
         },
         {
          "release_year": "2014"
         },
         {
          "release_year": "2013"
         },
         {
          "release_year": "2013"
         },
         {
          "release_year": "2014"
         },
         {
          "release_year": "2014"
         },
         {
          "release_year": "2014"
         },
         {
          "release_year": "2014"
         },
         {
          "release_year": "2013"
         },
         {
          "release_year": "2014"
         },
         {
          "release_year": "2014"
         },
         {
          "release_year": "2013"
         },
         {
          "release_year": "2013"
         },
         {
          "release_year": "2014"
         },
         {
          "release_year": "2013"
         },
         {
          "release_year": "2013"
         },
         {
          "release_year": "2014"
         },
         {
          "release_year": "2013"
         },
         {
          "release_year": "2014"
         },
         {
          "release_year": "2014"
         },
         {
          "release_year": "2013"
         },
         {
          "release_year": "2013"
         },
         {
          "release_year": "2013"
         },
         {
          "release_year": "2014"
         },
         {
          "release_year": "2013"
         },
         {
          "release_year": "2014"
         },
         {
          "release_year": "2013"
         },
         {
          "release_year": "2014"
         },
         {
          "release_year": "2013"
         },
         {
          "release_year": "2013"
         },
         {
          "release_year": "2014"
         },
         {
          "release_year": "2013"
         },
         {
          "release_year": "2013"
         },
         {
          "release_year": "2013"
         },
         {
          "release_year": "2014"
         },
         {
          "release_year": "2014"
         },
         {
          "release_year": "2014"
         },
         {
          "release_year": "2014"
         },
         {
          "release_year": "2014"
         },
         {
          "release_year": "2013"
         },
         {
          "release_year": "2013"
         },
         {
          "release_year": "2013"
         },
         {
          "release_year": "2013"
         },
         {
          "release_year": "2014"
         },
         {
          "release_year": "2014"
         },
         {
          "release_year": "2014"
         },
         {
          "release_year": "2013"
         },
         {
          "release_year": "2014"
         },
         {
          "release_year": "2013"
         },
         {
          "release_year": "2013"
         },
         {
          "release_year": "2013"
         },
         {
          "release_year": "2014"
         },
         {
          "release_year": "2014"
         },
         {
          "release_year": "2013"
         },
         {
          "release_year": "2013"
         },
         {
          "release_year": "2013"
         },
         {
          "release_year": "2014"
         },
         {
          "release_year": "2014"
         },
         {
          "release_year": "2013"
         },
         {
          "release_year": "2013"
         },
         {
          "release_year": "2014"
         },
         {
          "release_year": "2014"
         },
         {
          "release_year": "2013"
         },
         {
          "release_year": "2013"
         },
         {
          "release_year": "2013"
         },
         {
          "release_year": "2013"
         },
         {
          "release_year": "2014"
         },
         {
          "release_year": "2014"
         },
         {
          "release_year": "2014"
         },
         {
          "release_year": "2014"
         },
         {
          "release_year": "2014"
         },
         {
          "release_year": "2013"
         },
         {
          "release_year": "2014"
         },
         {
          "release_year": "2013"
         },
         {
          "release_year": "2013"
         },
         {
          "release_year": "2014"
         },
         {
          "release_year": "2014"
         },
         {
          "release_year": "2014"
         },
         {
          "release_year": "2013"
         },
         {
          "release_year": "2014"
         },
         {
          "release_year": "2013"
         },
         {
          "release_year": "2015"
         },
         {
          "release_year": "2015"
         },
         {
          "release_year": "2016"
         },
         {
          "release_year": "2015"
         },
         {
          "release_year": "2016"
         },
         {
          "release_year": "2015"
         },
         {
          "release_year": "2016"
         },
         {
          "release_year": "2015"
         },
         {
          "release_year": "2015"
         },
         {
          "release_year": "2016"
         },
         {
          "release_year": "2016"
         },
         {
          "release_year": "2015"
         },
         {
          "release_year": "2015"
         },
         {
          "release_year": "2016"
         },
         {
          "release_year": "2016"
         },
         {
          "release_year": "2016"
         },
         {
          "release_year": "2015"
         },
         {
          "release_year": "2016"
         },
         {
          "release_year": "2015"
         },
         {
          "release_year": "2016"
         },
         {
          "release_year": "2016"
         },
         {
          "release_year": "2016"
         },
         {
          "release_year": "2015"
         },
         {
          "release_year": "2015"
         },
         {
          "release_year": "2015"
         },
         {
          "release_year": "2016"
         },
         {
          "release_year": "2015"
         },
         {
          "release_year": "2016"
         },
         {
          "release_year": "2016"
         },
         {
          "release_year": "2016"
         },
         {
          "release_year": "2015"
         },
         {
          "release_year": "2015"
         },
         {
          "release_year": "2016"
         },
         {
          "release_year": "2015"
         },
         {
          "release_year": "2015"
         },
         {
          "release_year": "2015"
         },
         {
          "release_year": "2016"
         },
         {
          "release_year": "2016"
         },
         {
          "release_year": "2015"
         },
         {
          "release_year": "2015"
         },
         {
          "release_year": "2015"
         },
         {
          "release_year": "2016"
         },
         {
          "release_year": "2016"
         },
         {
          "release_year": "2016"
         },
         {
          "release_year": "2016"
         },
         {
          "release_year": "2015"
         },
         {
          "release_year": "2016"
         },
         {
          "release_year": "2015"
         },
         {
          "release_year": "2015"
         },
         {
          "release_year": "2015"
         },
         {
          "release_year": "2015"
         },
         {
          "release_year": "2015"
         },
         {
          "release_year": "2015"
         },
         {
          "release_year": "2016"
         },
         {
          "release_year": "2016"
         },
         {
          "release_year": "2016"
         },
         {
          "release_year": "2015"
         },
         {
          "release_year": "2015"
         },
         {
          "release_year": "2016"
         },
         {
          "release_year": "2015"
         },
         {
          "release_year": "2016"
         },
         {
          "release_year": "2016"
         },
         {
          "release_year": "2016"
         },
         {
          "release_year": "2015"
         },
         {
          "release_year": "2015"
         },
         {
          "release_year": "2016"
         },
         {
          "release_year": "2016"
         },
         {
          "release_year": "2015"
         },
         {
          "release_year": "2016"
         },
         {
          "release_year": "2016"
         },
         {
          "release_year": "2015"
         },
         {
          "release_year": "2016"
         },
         {
          "release_year": "2015"
         },
         {
          "release_year": "2016"
         },
         {
          "release_year": "2015"
         },
         {
          "release_year": "2015"
         },
         {
          "release_year": "2016"
         },
         {
          "release_year": "2015"
         },
         {
          "release_year": "2016"
         },
         {
          "release_year": "2016"
         },
         {
          "release_year": "2015"
         },
         {
          "release_year": "2015"
         },
         {
          "release_year": "2016"
         },
         {
          "release_year": "2015"
         },
         {
          "release_year": "2016"
         },
         {
          "release_year": "2016"
         },
         {
          "release_year": "2016"
         },
         {
          "release_year": "2016"
         },
         {
          "release_year": "2015"
         },
         {
          "release_year": "2016"
         },
         {
          "release_year": "2016"
         },
         {
          "release_year": "2015"
         },
         {
          "release_year": "2015"
         },
         {
          "release_year": "2015"
         },
         {
          "release_year": "2016"
         },
         {
          "release_year": "2016"
         },
         {
          "release_year": "2015"
         },
         {
          "release_year": "2016"
         },
         {
          "release_year": "2016"
         },
         {
          "release_year": "2016"
         },
         {
          "release_year": "2015"
         },
         {
          "release_year": "2016"
         },
         {
          "release_year": "2015"
         },
         {
          "release_year": "2016"
         },
         {
          "release_year": "2015"
         },
         {
          "release_year": "2015"
         },
         {
          "release_year": "2016"
         },
         {
          "release_year": "2015"
         },
         {
          "release_year": "2016"
         },
         {
          "release_year": "2015"
         },
         {
          "release_year": "2016"
         },
         {
          "release_year": "2016"
         },
         {
          "release_year": "2015"
         },
         {
          "release_year": "2016"
         },
         {
          "release_year": "2016"
         },
         {
          "release_year": "2015"
         },
         {
          "release_year": "2016"
         },
         {
          "release_year": "2015"
         },
         {
          "release_year": "2015"
         },
         {
          "release_year": "2015"
         },
         {
          "release_year": "2015"
         },
         {
          "release_year": "2016"
         },
         {
          "release_year": "2016"
         },
         {
          "release_year": "2015"
         },
         {
          "release_year": "2016"
         },
         {
          "release_year": "2016"
         },
         {
          "release_year": "2016"
         },
         {
          "release_year": "2016"
         },
         {
          "release_year": "2015"
         },
         {
          "release_year": "2016"
         },
         {
          "release_year": "2016"
         },
         {
          "release_year": "2016"
         },
         {
          "release_year": "2016"
         },
         {
          "release_year": "2015"
         },
         {
          "release_year": "2016"
         },
         {
          "release_year": "2016"
         },
         {
          "release_year": "2016"
         },
         {
          "release_year": "2015"
         },
         {
          "release_year": "2015"
         },
         {
          "release_year": "2016"
         },
         {
          "release_year": "2016"
         },
         {
          "release_year": "2016"
         },
         {
          "release_year": "2016"
         },
         {
          "release_year": "2015"
         },
         {
          "release_year": "2016"
         },
         {
          "release_year": "2016"
         },
         {
          "release_year": "2016"
         },
         {
          "release_year": "2015"
         },
         {
          "release_year": "2016"
         },
         {
          "release_year": "2015"
         },
         {
          "release_year": "2015"
         },
         {
          "release_year": "2016"
         },
         {
          "release_year": "2016"
         },
         {
          "release_year": "2016"
         },
         {
          "release_year": "2016"
         },
         {
          "release_year": "2015"
         },
         {
          "release_year": "2016"
         },
         {
          "release_year": "2016"
         },
         {
          "release_year": "2016"
         },
         {
          "release_year": "2016"
         },
         {
          "release_year": "2015"
         },
         {
          "release_year": "2016"
         },
         {
          "release_year": "2016"
         },
         {
          "release_year": "2015"
         },
         {
          "release_year": "2016"
         },
         {
          "release_year": "2015"
         },
         {
          "release_year": "2016"
         },
         {
          "release_year": "2016"
         },
         {
          "release_year": "2015"
         },
         {
          "release_year": "2015"
         },
         {
          "release_year": "2016"
         },
         {
          "release_year": "2015"
         },
         {
          "release_year": "2016"
         },
         {
          "release_year": "2016"
         },
         {
          "release_year": "2016"
         },
         {
          "release_year": "2016"
         },
         {
          "release_year": "2016"
         },
         {
          "release_year": "2016"
         },
         {
          "release_year": "2016"
         },
         {
          "release_year": "2015"
         },
         {
          "release_year": "2015"
         },
         {
          "release_year": "2016"
         },
         {
          "release_year": "2016"
         },
         {
          "release_year": "2016"
         },
         {
          "release_year": "2015"
         },
         {
          "release_year": "2015"
         },
         {
          "release_year": "2015"
         },
         {
          "release_year": "2016"
         },
         {
          "release_year": "2016"
         },
         {
          "release_year": "2016"
         },
         {
          "release_year": "2015"
         },
         {
          "release_year": "2015"
         },
         {
          "release_year": "2016"
         },
         {
          "release_year": "2015"
         },
         {
          "release_year": "2016"
         },
         {
          "release_year": "2015"
         },
         {
          "release_year": "2016"
         },
         {
          "release_year": "2015"
         },
         {
          "release_year": "2016"
         },
         {
          "release_year": "2016"
         },
         {
          "release_year": "2016"
         },
         {
          "release_year": "2016"
         },
         {
          "release_year": "2016"
         },
         {
          "release_year": "2016"
         },
         {
          "release_year": "2015"
         },
         {
          "release_year": "2016"
         },
         {
          "release_year": "2015"
         },
         {
          "release_year": "2015"
         },
         {
          "release_year": "2015"
         },
         {
          "release_year": "2016"
         },
         {
          "release_year": "2015"
         },
         {
          "release_year": "2015"
         },
         {
          "release_year": "2016"
         },
         {
          "release_year": "2015"
         },
         {
          "release_year": "2015"
         },
         {
          "release_year": "2016"
         },
         {
          "release_year": "2015"
         },
         {
          "release_year": "2015"
         },
         {
          "release_year": "2016"
         },
         {
          "release_year": "2016"
         },
         {
          "release_year": "2016"
         },
         {
          "release_year": "2016"
         },
         {
          "release_year": "2016"
         },
         {
          "release_year": "2016"
         },
         {
          "release_year": "2015"
         },
         {
          "release_year": "2016"
         },
         {
          "release_year": "2015"
         },
         {
          "release_year": "2016"
         },
         {
          "release_year": "2016"
         },
         {
          "release_year": "2016"
         },
         {
          "release_year": "2015"
         },
         {
          "release_year": "2015"
         },
         {
          "release_year": "2016"
         },
         {
          "release_year": "2016"
         },
         {
          "release_year": "2016"
         },
         {
          "release_year": "2015"
         },
         {
          "release_year": "2016"
         },
         {
          "release_year": "2015"
         },
         {
          "release_year": "2016"
         },
         {
          "release_year": "2016"
         },
         {
          "release_year": "2015"
         },
         {
          "release_year": "2016"
         },
         {
          "release_year": "2016"
         },
         {
          "release_year": "2016"
         },
         {
          "release_year": "2016"
         },
         {
          "release_year": "2016"
         },
         {
          "release_year": "2015"
         },
         {
          "release_year": "2015"
         },
         {
          "release_year": "2016"
         },
         {
          "release_year": "2016"
         },
         {
          "release_year": "2015"
         },
         {
          "release_year": "2016"
         },
         {
          "release_year": "2016"
         },
         {
          "release_year": "2016"
         },
         {
          "release_year": "2015"
         },
         {
          "release_year": "2016"
         },
         {
          "release_year": "2016"
         },
         {
          "release_year": "2016"
         },
         {
          "release_year": "2015"
         },
         {
          "release_year": "2015"
         },
         {
          "release_year": "2016"
         },
         {
          "release_year": "2016"
         },
         {
          "release_year": "2015"
         },
         {
          "release_year": "2016"
         },
         {
          "release_year": "2016"
         },
         {
          "release_year": "2015"
         },
         {
          "release_year": "2015"
         },
         {
          "release_year": "2015"
         },
         {
          "release_year": "2016"
         },
         {
          "release_year": "2016"
         },
         {
          "release_year": "2016"
         },
         {
          "release_year": "2016"
         },
         {
          "release_year": "2016"
         },
         {
          "release_year": "2015"
         },
         {
          "release_year": "2016"
         },
         {
          "release_year": "2016"
         },
         {
          "release_year": "2016"
         },
         {
          "release_year": "2015"
         },
         {
          "release_year": "2016"
         },
         {
          "release_year": "2016"
         },
         {
          "release_year": "2015"
         },
         {
          "release_year": "2015"
         },
         {
          "release_year": "2016"
         },
         {
          "release_year": "2015"
         },
         {
          "release_year": "2016"
         },
         {
          "release_year": "2015"
         },
         {
          "release_year": "2016"
         },
         {
          "release_year": "2016"
         },
         {
          "release_year": "2016"
         },
         {
          "release_year": "2015"
         },
         {
          "release_year": "2016"
         },
         {
          "release_year": "2016"
         },
         {
          "release_year": "2016"
         },
         {
          "release_year": "2016"
         },
         {
          "release_year": "2015"
         },
         {
          "release_year": "2016"
         },
         {
          "release_year": "2015"
         },
         {
          "release_year": "2015"
         },
         {
          "release_year": "2015"
         },
         {
          "release_year": "2015"
         },
         {
          "release_year": "2016"
         },
         {
          "release_year": "2015"
         },
         {
          "release_year": "2016"
         },
         {
          "release_year": "2016"
         },
         {
          "release_year": "2016"
         },
         {
          "release_year": "2016"
         },
         {
          "release_year": "2016"
         },
         {
          "release_year": "2015"
         },
         {
          "release_year": "2016"
         },
         {
          "release_year": "2015"
         },
         {
          "release_year": "2016"
         },
         {
          "release_year": "2015"
         },
         {
          "release_year": "2016"
         },
         {
          "release_year": "2016"
         },
         {
          "release_year": "2016"
         },
         {
          "release_year": "2016"
         },
         {
          "release_year": "2015"
         },
         {
          "release_year": "2016"
         },
         {
          "release_year": "2016"
         },
         {
          "release_year": "2016"
         },
         {
          "release_year": "2016"
         },
         {
          "release_year": "2015"
         },
         {
          "release_year": "2016"
         },
         {
          "release_year": "2015"
         },
         {
          "release_year": "2015"
         },
         {
          "release_year": "2015"
         },
         {
          "release_year": "2015"
         },
         {
          "release_year": "2016"
         },
         {
          "release_year": "2016"
         },
         {
          "release_year": "2015"
         },
         {
          "release_year": "2015"
         },
         {
          "release_year": "2016"
         },
         {
          "release_year": "2015"
         },
         {
          "release_year": "2016"
         },
         {
          "release_year": "2015"
         },
         {
          "release_year": "2015"
         },
         {
          "release_year": "2016"
         },
         {
          "release_year": "2015"
         },
         {
          "release_year": "2015"
         },
         {
          "release_year": "2016"
         },
         {
          "release_year": "2015"
         },
         {
          "release_year": "2015"
         },
         {
          "release_year": "2015"
         },
         {
          "release_year": "2016"
         },
         {
          "release_year": "2016"
         },
         {
          "release_year": "2016"
         },
         {
          "release_year": "2015"
         },
         {
          "release_year": "2016"
         },
         {
          "release_year": "2015"
         },
         {
          "release_year": "2016"
         },
         {
          "release_year": "2016"
         },
         {
          "release_year": "2016"
         },
         {
          "release_year": "2016"
         },
         {
          "release_year": "2015"
         },
         {
          "release_year": "2016"
         },
         {
          "release_year": "2016"
         },
         {
          "release_year": "2016"
         },
         {
          "release_year": "2015"
         },
         {
          "release_year": "2016"
         },
         {
          "release_year": "2016"
         },
         {
          "release_year": "2016"
         },
         {
          "release_year": "2016"
         },
         {
          "release_year": "2015"
         },
         {
          "release_year": "2015"
         },
         {
          "release_year": "2016"
         },
         {
          "release_year": "2016"
         },
         {
          "release_year": "2016"
         },
         {
          "release_year": "2016"
         },
         {
          "release_year": "2016"
         },
         {
          "release_year": "2016"
         },
         {
          "release_year": "2016"
         },
         {
          "release_year": "2016"
         },
         {
          "release_year": "2016"
         },
         {
          "release_year": "2015"
         },
         {
          "release_year": "2016"
         },
         {
          "release_year": "2016"
         },
         {
          "release_year": "2016"
         },
         {
          "release_year": "2015"
         },
         {
          "release_year": "2016"
         },
         {
          "release_year": "2016"
         },
         {
          "release_year": "2015"
         },
         {
          "release_year": "2016"
         },
         {
          "release_year": "2016"
         },
         {
          "release_year": "2016"
         },
         {
          "release_year": "2016"
         },
         {
          "release_year": "2015"
         },
         {
          "release_year": "2015"
         },
         {
          "release_year": "2016"
         },
         {
          "release_year": "2016"
         },
         {
          "release_year": "2015"
         },
         {
          "release_year": "2016"
         },
         {
          "release_year": "2016"
         },
         {
          "release_year": "2016"
         },
         {
          "release_year": "2016"
         },
         {
          "release_year": "2015"
         },
         {
          "release_year": "2016"
         },
         {
          "release_year": "2015"
         },
         {
          "release_year": "2016"
         },
         {
          "release_year": "2015"
         },
         {
          "release_year": "2016"
         },
         {
          "release_year": "2015"
         },
         {
          "release_year": "2016"
         },
         {
          "release_year": "2016"
         },
         {
          "release_year": "2016"
         },
         {
          "release_year": "2016"
         },
         {
          "release_year": "2016"
         },
         {
          "release_year": "2016"
         },
         {
          "release_year": "2016"
         },
         {
          "release_year": "2015"
         },
         {
          "release_year": "2016"
         },
         {
          "release_year": "2016"
         },
         {
          "release_year": "2016"
         },
         {
          "release_year": "2016"
         },
         {
          "release_year": "2015"
         },
         {
          "release_year": "2016"
         },
         {
          "release_year": "2016"
         },
         {
          "release_year": "2016"
         },
         {
          "release_year": "2016"
         },
         {
          "release_year": "2016"
         },
         {
          "release_year": "2016"
         },
         {
          "release_year": "2016"
         },
         {
          "release_year": "2016"
         },
         {
          "release_year": "2016"
         },
         {
          "release_year": "2015"
         },
         {
          "release_year": "2016"
         },
         {
          "release_year": "2016"
         },
         {
          "release_year": "2016"
         },
         {
          "release_year": "2016"
         },
         {
          "release_year": "2015"
         },
         {
          "release_year": "2016"
         },
         {
          "release_year": "2015"
         },
         {
          "release_year": "2015"
         },
         {
          "release_year": "2015"
         },
         {
          "release_year": "2016"
         },
         {
          "release_year": "2015"
         },
         {
          "release_year": "2015"
         },
         {
          "release_year": "2016"
         },
         {
          "release_year": "2015"
         },
         {
          "release_year": "2015"
         },
         {
          "release_year": "2015"
         },
         {
          "release_year": "2016"
         },
         {
          "release_year": "2016"
         },
         {
          "release_year": "2016"
         },
         {
          "release_year": "2016"
         },
         {
          "release_year": "2016"
         },
         {
          "release_year": "2016"
         },
         {
          "release_year": "2016"
         },
         {
          "release_year": "2015"
         },
         {
          "release_year": "2016"
         },
         {
          "release_year": "2016"
         },
         {
          "release_year": "2016"
         },
         {
          "release_year": "2016"
         },
         {
          "release_year": "2016"
         },
         {
          "release_year": "2016"
         },
         {
          "release_year": "2015"
         },
         {
          "release_year": "2016"
         },
         {
          "release_year": "2016"
         },
         {
          "release_year": "2015"
         },
         {
          "release_year": "2016"
         },
         {
          "release_year": "2016"
         },
         {
          "release_year": "2015"
         },
         {
          "release_year": "2015"
         },
         {
          "release_year": "2016"
         },
         {
          "release_year": "2015"
         },
         {
          "release_year": "2016"
         },
         {
          "release_year": "2015"
         },
         {
          "release_year": "2016"
         },
         {
          "release_year": "2015"
         },
         {
          "release_year": "2016"
         },
         {
          "release_year": "2016"
         },
         {
          "release_year": "2016"
         },
         {
          "release_year": "2016"
         },
         {
          "release_year": "2016"
         },
         {
          "release_year": "2015"
         },
         {
          "release_year": "2016"
         },
         {
          "release_year": "2015"
         },
         {
          "release_year": "2016"
         },
         {
          "release_year": "2016"
         },
         {
          "release_year": "2016"
         },
         {
          "release_year": "2015"
         },
         {
          "release_year": "2015"
         },
         {
          "release_year": "2015"
         },
         {
          "release_year": "2015"
         },
         {
          "release_year": "2016"
         },
         {
          "release_year": "2015"
         },
         {
          "release_year": "2015"
         },
         {
          "release_year": "2016"
         },
         {
          "release_year": "2016"
         },
         {
          "release_year": "2016"
         },
         {
          "release_year": "2015"
         },
         {
          "release_year": "2016"
         },
         {
          "release_year": "2015"
         },
         {
          "release_year": "2016"
         },
         {
          "release_year": "2016"
         },
         {
          "release_year": "2016"
         },
         {
          "release_year": "2015"
         },
         {
          "release_year": "2016"
         },
         {
          "release_year": "2016"
         },
         {
          "release_year": "2015"
         },
         {
          "release_year": "2016"
         },
         {
          "release_year": "2016"
         },
         {
          "release_year": "2015"
         },
         {
          "release_year": "2015"
         },
         {
          "release_year": "2016"
         },
         {
          "release_year": "2016"
         },
         {
          "release_year": "2016"
         },
         {
          "release_year": "2015"
         },
         {
          "release_year": "2016"
         },
         {
          "release_year": "2016"
         },
         {
          "release_year": "2016"
         },
         {
          "release_year": "2016"
         },
         {
          "release_year": "2016"
         },
         {
          "release_year": "2016"
         },
         {
          "release_year": "2015"
         },
         {
          "release_year": "2016"
         },
         {
          "release_year": "2016"
         },
         {
          "release_year": "2016"
         },
         {
          "release_year": "2015"
         },
         {
          "release_year": "2016"
         },
         {
          "release_year": "2016"
         },
         {
          "release_year": "2016"
         },
         {
          "release_year": "2016"
         },
         {
          "release_year": "2015"
         },
         {
          "release_year": "2016"
         },
         {
          "release_year": "2016"
         },
         {
          "release_year": "2016"
         },
         {
          "release_year": "2016"
         },
         {
          "release_year": "2016"
         },
         {
          "release_year": "2016"
         },
         {
          "release_year": "2015"
         },
         {
          "release_year": "2015"
         },
         {
          "release_year": "2016"
         },
         {
          "release_year": "2016"
         },
         {
          "release_year": "2015"
         },
         {
          "release_year": "2016"
         },
         {
          "release_year": "2016"
         },
         {
          "release_year": "2016"
         },
         {
          "release_year": "2015"
         },
         {
          "release_year": "2016"
         },
         {
          "release_year": "2016"
         },
         {
          "release_year": "2015"
         },
         {
          "release_year": "2016"
         },
         {
          "release_year": "2015"
         },
         {
          "release_year": "2015"
         },
         {
          "release_year": "2016"
         },
         {
          "release_year": "2015"
         },
         {
          "release_year": "2015"
         },
         {
          "release_year": "2015"
         },
         {
          "release_year": "2015"
         },
         {
          "release_year": "2016"
         },
         {
          "release_year": "2016"
         },
         {
          "release_year": "2016"
         },
         {
          "release_year": "2015"
         },
         {
          "release_year": "2016"
         },
         {
          "release_year": "2016"
         },
         {
          "release_year": "2015"
         },
         {
          "release_year": "2015"
         },
         {
          "release_year": "2016"
         },
         {
          "release_year": "2016"
         },
         {
          "release_year": "2016"
         },
         {
          "release_year": "2016"
         },
         {
          "release_year": "2016"
         },
         {
          "release_year": "2016"
         },
         {
          "release_year": "2016"
         },
         {
          "release_year": "2016"
         },
         {
          "release_year": "2016"
         },
         {
          "release_year": "2015"
         },
         {
          "release_year": "2015"
         },
         {
          "release_year": "2016"
         },
         {
          "release_year": "2015"
         },
         {
          "release_year": "2015"
         },
         {
          "release_year": "2015"
         },
         {
          "release_year": "2015"
         },
         {
          "release_year": "2015"
         },
         {
          "release_year": "2016"
         },
         {
          "release_year": "2015"
         },
         {
          "release_year": "2016"
         },
         {
          "release_year": "2016"
         },
         {
          "release_year": "2016"
         },
         {
          "release_year": "2016"
         },
         {
          "release_year": "2016"
         },
         {
          "release_year": "2016"
         },
         {
          "release_year": "2016"
         },
         {
          "release_year": "2015"
         },
         {
          "release_year": "2018"
         },
         {
          "release_year": "2017"
         },
         {
          "release_year": "2018"
         },
         {
          "release_year": "2017"
         },
         {
          "release_year": "2017"
         },
         {
          "release_year": "2017"
         },
         {
          "release_year": "2018"
         },
         {
          "release_year": "2017"
         },
         {
          "release_year": "2018"
         },
         {
          "release_year": "2018"
         },
         {
          "release_year": "2017"
         },
         {
          "release_year": "2017"
         },
         {
          "release_year": "2018"
         },
         {
          "release_year": "2017"
         },
         {
          "release_year": "2018"
         },
         {
          "release_year": "2018"
         },
         {
          "release_year": "2017"
         },
         {
          "release_year": "2017"
         },
         {
          "release_year": "2017"
         },
         {
          "release_year": "2018"
         },
         {
          "release_year": "2018"
         },
         {
          "release_year": "2017"
         },
         {
          "release_year": "2018"
         },
         {
          "release_year": "2018"
         },
         {
          "release_year": "2018"
         },
         {
          "release_year": "2018"
         },
         {
          "release_year": "2017"
         },
         {
          "release_year": "2017"
         },
         {
          "release_year": "2018"
         },
         {
          "release_year": "2017"
         },
         {
          "release_year": "2018"
         },
         {
          "release_year": "2017"
         },
         {
          "release_year": "2018"
         },
         {
          "release_year": "2017"
         },
         {
          "release_year": "2018"
         },
         {
          "release_year": "2017"
         },
         {
          "release_year": "2018"
         },
         {
          "release_year": "2017"
         },
         {
          "release_year": "2017"
         },
         {
          "release_year": "2018"
         },
         {
          "release_year": "2018"
         },
         {
          "release_year": "2017"
         },
         {
          "release_year": "2017"
         },
         {
          "release_year": "2017"
         },
         {
          "release_year": "2018"
         },
         {
          "release_year": "2018"
         },
         {
          "release_year": "2017"
         },
         {
          "release_year": "2017"
         },
         {
          "release_year": "2017"
         },
         {
          "release_year": "2017"
         },
         {
          "release_year": "2018"
         },
         {
          "release_year": "2017"
         },
         {
          "release_year": "2018"
         },
         {
          "release_year": "2017"
         },
         {
          "release_year": "2018"
         },
         {
          "release_year": "2017"
         },
         {
          "release_year": "2018"
         },
         {
          "release_year": "2017"
         },
         {
          "release_year": "2017"
         },
         {
          "release_year": "2017"
         },
         {
          "release_year": "2017"
         },
         {
          "release_year": "2018"
         },
         {
          "release_year": "2018"
         },
         {
          "release_year": "2017"
         },
         {
          "release_year": "2018"
         },
         {
          "release_year": "2017"
         },
         {
          "release_year": "2018"
         },
         {
          "release_year": "2017"
         },
         {
          "release_year": "2018"
         },
         {
          "release_year": "2017"
         },
         {
          "release_year": "2018"
         },
         {
          "release_year": "2017"
         },
         {
          "release_year": "2018"
         },
         {
          "release_year": "2018"
         },
         {
          "release_year": "2017"
         },
         {
          "release_year": "2018"
         },
         {
          "release_year": "2017"
         },
         {
          "release_year": "2018"
         },
         {
          "release_year": "2017"
         },
         {
          "release_year": "2017"
         },
         {
          "release_year": "2017"
         },
         {
          "release_year": "2017"
         },
         {
          "release_year": "2018"
         },
         {
          "release_year": "2018"
         },
         {
          "release_year": "2018"
         },
         {
          "release_year": "2018"
         },
         {
          "release_year": "2017"
         },
         {
          "release_year": "2017"
         },
         {
          "release_year": "2018"
         },
         {
          "release_year": "2018"
         },
         {
          "release_year": "2018"
         },
         {
          "release_year": "2017"
         },
         {
          "release_year": "2018"
         },
         {
          "release_year": "2017"
         },
         {
          "release_year": "2017"
         },
         {
          "release_year": "2018"
         },
         {
          "release_year": "2017"
         },
         {
          "release_year": "2017"
         },
         {
          "release_year": "2018"
         },
         {
          "release_year": "2018"
         },
         {
          "release_year": "2018"
         },
         {
          "release_year": "2018"
         },
         {
          "release_year": "2018"
         },
         {
          "release_year": "2018"
         },
         {
          "release_year": "2018"
         },
         {
          "release_year": "2017"
         },
         {
          "release_year": "2018"
         },
         {
          "release_year": "2018"
         },
         {
          "release_year": "2018"
         },
         {
          "release_year": "2018"
         },
         {
          "release_year": "2018"
         },
         {
          "release_year": "2018"
         },
         {
          "release_year": "2018"
         },
         {
          "release_year": "2018"
         },
         {
          "release_year": "2017"
         },
         {
          "release_year": "2018"
         },
         {
          "release_year": "2017"
         },
         {
          "release_year": "2018"
         },
         {
          "release_year": "2018"
         },
         {
          "release_year": "2017"
         },
         {
          "release_year": "2018"
         },
         {
          "release_year": "2018"
         },
         {
          "release_year": "2018"
         },
         {
          "release_year": "2018"
         },
         {
          "release_year": "2018"
         },
         {
          "release_year": "2018"
         },
         {
          "release_year": "2018"
         },
         {
          "release_year": "2017"
         },
         {
          "release_year": "2018"
         },
         {
          "release_year": "2018"
         },
         {
          "release_year": "2018"
         },
         {
          "release_year": "2017"
         },
         {
          "release_year": "2017"
         },
         {
          "release_year": "2017"
         },
         {
          "release_year": "2017"
         },
         {
          "release_year": "2018"
         },
         {
          "release_year": "2018"
         },
         {
          "release_year": "2018"
         },
         {
          "release_year": "2017"
         },
         {
          "release_year": "2017"
         },
         {
          "release_year": "2018"
         },
         {
          "release_year": "2018"
         },
         {
          "release_year": "2018"
         },
         {
          "release_year": "2018"
         },
         {
          "release_year": "2018"
         },
         {
          "release_year": "2017"
         },
         {
          "release_year": "2018"
         },
         {
          "release_year": "2018"
         },
         {
          "release_year": "2017"
         },
         {
          "release_year": "2017"
         },
         {
          "release_year": "2018"
         },
         {
          "release_year": "2018"
         },
         {
          "release_year": "2018"
         },
         {
          "release_year": "2017"
         },
         {
          "release_year": "2017"
         },
         {
          "release_year": "2018"
         },
         {
          "release_year": "2018"
         },
         {
          "release_year": "2018"
         },
         {
          "release_year": "2017"
         },
         {
          "release_year": "2018"
         },
         {
          "release_year": "2018"
         },
         {
          "release_year": "2017"
         },
         {
          "release_year": "2017"
         },
         {
          "release_year": "2018"
         },
         {
          "release_year": "2018"
         },
         {
          "release_year": "2017"
         },
         {
          "release_year": "2017"
         },
         {
          "release_year": "2017"
         },
         {
          "release_year": "2018"
         },
         {
          "release_year": "2018"
         },
         {
          "release_year": "2018"
         },
         {
          "release_year": "2018"
         },
         {
          "release_year": "2017"
         },
         {
          "release_year": "2017"
         },
         {
          "release_year": "2018"
         },
         {
          "release_year": "2018"
         },
         {
          "release_year": "2018"
         },
         {
          "release_year": "2018"
         },
         {
          "release_year": "2018"
         },
         {
          "release_year": "2018"
         },
         {
          "release_year": "2018"
         },
         {
          "release_year": "2018"
         },
         {
          "release_year": "2018"
         },
         {
          "release_year": "2017"
         },
         {
          "release_year": "2017"
         },
         {
          "release_year": "2017"
         },
         {
          "release_year": "2017"
         },
         {
          "release_year": "2018"
         },
         {
          "release_year": "2018"
         },
         {
          "release_year": "2018"
         },
         {
          "release_year": "2018"
         },
         {
          "release_year": "2017"
         },
         {
          "release_year": "2018"
         },
         {
          "release_year": "2018"
         },
         {
          "release_year": "2017"
         },
         {
          "release_year": "2017"
         },
         {
          "release_year": "2017"
         },
         {
          "release_year": "2018"
         },
         {
          "release_year": "2018"
         },
         {
          "release_year": "2018"
         },
         {
          "release_year": "2018"
         },
         {
          "release_year": "2018"
         },
         {
          "release_year": "2017"
         },
         {
          "release_year": "2018"
         },
         {
          "release_year": "2018"
         },
         {
          "release_year": "2017"
         },
         {
          "release_year": "2018"
         },
         {
          "release_year": "2017"
         },
         {
          "release_year": "2017"
         },
         {
          "release_year": "2018"
         },
         {
          "release_year": "2018"
         },
         {
          "release_year": "2017"
         },
         {
          "release_year": "2017"
         },
         {
          "release_year": "2017"
         },
         {
          "release_year": "2018"
         },
         {
          "release_year": "2018"
         },
         {
          "release_year": "2017"
         },
         {
          "release_year": "2018"
         },
         {
          "release_year": "2018"
         },
         {
          "release_year": "2018"
         },
         {
          "release_year": "2017"
         },
         {
          "release_year": "2017"
         },
         {
          "release_year": "2018"
         },
         {
          "release_year": "2017"
         },
         {
          "release_year": "2017"
         },
         {
          "release_year": "2018"
         },
         {
          "release_year": "2017"
         },
         {
          "release_year": "2017"
         },
         {
          "release_year": "2018"
         },
         {
          "release_year": "2018"
         },
         {
          "release_year": "2018"
         },
         {
          "release_year": "2017"
         },
         {
          "release_year": "2018"
         },
         {
          "release_year": "2018"
         },
         {
          "release_year": "2018"
         },
         {
          "release_year": "2017"
         },
         {
          "release_year": "2018"
         },
         {
          "release_year": "2018"
         },
         {
          "release_year": "2017"
         },
         {
          "release_year": "2018"
         },
         {
          "release_year": "2017"
         },
         {
          "release_year": "2018"
         },
         {
          "release_year": "2017"
         },
         {
          "release_year": "2018"
         },
         {
          "release_year": "2018"
         },
         {
          "release_year": "2018"
         },
         {
          "release_year": "2017"
         },
         {
          "release_year": "2018"
         },
         {
          "release_year": "2018"
         },
         {
          "release_year": "2017"
         },
         {
          "release_year": "2017"
         },
         {
          "release_year": "2018"
         },
         {
          "release_year": "2017"
         },
         {
          "release_year": "2017"
         },
         {
          "release_year": "2017"
         },
         {
          "release_year": "2018"
         },
         {
          "release_year": "2018"
         },
         {
          "release_year": "2017"
         },
         {
          "release_year": "2017"
         },
         {
          "release_year": "2017"
         },
         {
          "release_year": "2017"
         },
         {
          "release_year": "2018"
         },
         {
          "release_year": "2018"
         },
         {
          "release_year": "2018"
         },
         {
          "release_year": "2018"
         },
         {
          "release_year": "2017"
         },
         {
          "release_year": "2018"
         },
         {
          "release_year": "2017"
         },
         {
          "release_year": "2018"
         },
         {
          "release_year": "2018"
         },
         {
          "release_year": "2018"
         },
         {
          "release_year": "2018"
         },
         {
          "release_year": "2018"
         },
         {
          "release_year": "2018"
         },
         {
          "release_year": "2018"
         },
         {
          "release_year": "2018"
         },
         {
          "release_year": "2018"
         },
         {
          "release_year": "2017"
         },
         {
          "release_year": "2017"
         },
         {
          "release_year": "2017"
         },
         {
          "release_year": "2018"
         },
         {
          "release_year": "2017"
         },
         {
          "release_year": "2017"
         },
         {
          "release_year": "2017"
         },
         {
          "release_year": "2018"
         },
         {
          "release_year": "2017"
         },
         {
          "release_year": "2018"
         },
         {
          "release_year": "2017"
         },
         {
          "release_year": "2018"
         },
         {
          "release_year": "2018"
         },
         {
          "release_year": "2018"
         },
         {
          "release_year": "2018"
         },
         {
          "release_year": "2018"
         },
         {
          "release_year": "2017"
         },
         {
          "release_year": "2017"
         },
         {
          "release_year": "2018"
         },
         {
          "release_year": "2017"
         },
         {
          "release_year": "2018"
         },
         {
          "release_year": "2018"
         },
         {
          "release_year": "2017"
         },
         {
          "release_year": "2018"
         },
         {
          "release_year": "2017"
         },
         {
          "release_year": "2018"
         },
         {
          "release_year": "2018"
         },
         {
          "release_year": "2017"
         },
         {
          "release_year": "2018"
         },
         {
          "release_year": "2018"
         },
         {
          "release_year": "2018"
         },
         {
          "release_year": "2018"
         },
         {
          "release_year": "2017"
         },
         {
          "release_year": "2017"
         },
         {
          "release_year": "2018"
         },
         {
          "release_year": "2017"
         },
         {
          "release_year": "2017"
         },
         {
          "release_year": "2018"
         },
         {
          "release_year": "2017"
         },
         {
          "release_year": "2018"
         },
         {
          "release_year": "2018"
         },
         {
          "release_year": "2018"
         },
         {
          "release_year": "2018"
         },
         {
          "release_year": "2017"
         },
         {
          "release_year": "2017"
         },
         {
          "release_year": "2017"
         },
         {
          "release_year": "2017"
         },
         {
          "release_year": "2018"
         },
         {
          "release_year": "2018"
         },
         {
          "release_year": "2018"
         },
         {
          "release_year": "2017"
         },
         {
          "release_year": "2018"
         },
         {
          "release_year": "2018"
         },
         {
          "release_year": "2017"
         },
         {
          "release_year": "2018"
         },
         {
          "release_year": "2017"
         },
         {
          "release_year": "2017"
         },
         {
          "release_year": "2017"
         },
         {
          "release_year": "2017"
         },
         {
          "release_year": "2017"
         },
         {
          "release_year": "2017"
         },
         {
          "release_year": "2017"
         },
         {
          "release_year": "2018"
         },
         {
          "release_year": "2018"
         },
         {
          "release_year": "2018"
         },
         {
          "release_year": "2017"
         },
         {
          "release_year": "2018"
         },
         {
          "release_year": "2017"
         },
         {
          "release_year": "2017"
         },
         {
          "release_year": "2017"
         },
         {
          "release_year": "2018"
         },
         {
          "release_year": "2018"
         },
         {
          "release_year": "2018"
         },
         {
          "release_year": "2018"
         },
         {
          "release_year": "2017"
         },
         {
          "release_year": "2018"
         },
         {
          "release_year": "2018"
         },
         {
          "release_year": "2018"
         },
         {
          "release_year": "2017"
         },
         {
          "release_year": "2018"
         },
         {
          "release_year": "2018"
         },
         {
          "release_year": "2018"
         },
         {
          "release_year": "2018"
         },
         {
          "release_year": "2018"
         },
         {
          "release_year": "2018"
         },
         {
          "release_year": "2018"
         },
         {
          "release_year": "2018"
         },
         {
          "release_year": "2017"
         },
         {
          "release_year": "2018"
         },
         {
          "release_year": "2017"
         },
         {
          "release_year": "2017"
         },
         {
          "release_year": "2017"
         },
         {
          "release_year": "2018"
         },
         {
          "release_year": "2017"
         },
         {
          "release_year": "2018"
         },
         {
          "release_year": "2018"
         },
         {
          "release_year": "2017"
         },
         {
          "release_year": "2018"
         },
         {
          "release_year": "2018"
         },
         {
          "release_year": "2018"
         },
         {
          "release_year": "2017"
         },
         {
          "release_year": "2018"
         },
         {
          "release_year": "2017"
         },
         {
          "release_year": "2018"
         },
         {
          "release_year": "2017"
         },
         {
          "release_year": "2018"
         },
         {
          "release_year": "2017"
         },
         {
          "release_year": "2018"
         },
         {
          "release_year": "2018"
         },
         {
          "release_year": "2018"
         },
         {
          "release_year": "2017"
         },
         {
          "release_year": "2018"
         },
         {
          "release_year": "2017"
         },
         {
          "release_year": "2018"
         },
         {
          "release_year": "2017"
         },
         {
          "release_year": "2017"
         },
         {
          "release_year": "2017"
         },
         {
          "release_year": "2018"
         },
         {
          "release_year": "2017"
         },
         {
          "release_year": "2017"
         },
         {
          "release_year": "2018"
         },
         {
          "release_year": "2017"
         },
         {
          "release_year": "2017"
         },
         {
          "release_year": "2018"
         },
         {
          "release_year": "2018"
         },
         {
          "release_year": "2018"
         },
         {
          "release_year": "2017"
         },
         {
          "release_year": "2017"
         },
         {
          "release_year": "2018"
         },
         {
          "release_year": "2017"
         },
         {
          "release_year": "2018"
         },
         {
          "release_year": "2017"
         },
         {
          "release_year": "2017"
         },
         {
          "release_year": "2017"
         },
         {
          "release_year": "2018"
         },
         {
          "release_year": "2017"
         },
         {
          "release_year": "2018"
         },
         {
          "release_year": "2018"
         },
         {
          "release_year": "2018"
         },
         {
          "release_year": "2017"
         },
         {
          "release_year": "2018"
         },
         {
          "release_year": "2017"
         },
         {
          "release_year": "2018"
         },
         {
          "release_year": "2018"
         },
         {
          "release_year": "2018"
         },
         {
          "release_year": "2018"
         },
         {
          "release_year": "2018"
         },
         {
          "release_year": "2018"
         },
         {
          "release_year": "2017"
         },
         {
          "release_year": "2017"
         },
         {
          "release_year": "2018"
         },
         {
          "release_year": "2018"
         },
         {
          "release_year": "2018"
         },
         {
          "release_year": "2017"
         },
         {
          "release_year": "2018"
         },
         {
          "release_year": "2018"
         },
         {
          "release_year": "2017"
         },
         {
          "release_year": "2018"
         },
         {
          "release_year": "2018"
         },
         {
          "release_year": "2018"
         },
         {
          "release_year": "2018"
         },
         {
          "release_year": "2017"
         },
         {
          "release_year": "2018"
         },
         {
          "release_year": "2017"
         },
         {
          "release_year": "2017"
         },
         {
          "release_year": "2017"
         },
         {
          "release_year": "2017"
         },
         {
          "release_year": "2018"
         },
         {
          "release_year": "2018"
         },
         {
          "release_year": "2017"
         },
         {
          "release_year": "2017"
         },
         {
          "release_year": "2018"
         },
         {
          "release_year": "2017"
         },
         {
          "release_year": "2018"
         },
         {
          "release_year": "2018"
         },
         {
          "release_year": "2018"
         },
         {
          "release_year": "2018"
         },
         {
          "release_year": "2017"
         },
         {
          "release_year": "2017"
         },
         {
          "release_year": "2018"
         },
         {
          "release_year": "2017"
         },
         {
          "release_year": "2018"
         },
         {
          "release_year": "2018"
         },
         {
          "release_year": "2018"
         },
         {
          "release_year": "2018"
         },
         {
          "release_year": "2018"
         },
         {
          "release_year": "2017"
         },
         {
          "release_year": "2017"
         },
         {
          "release_year": "2017"
         },
         {
          "release_year": "2017"
         },
         {
          "release_year": "2017"
         },
         {
          "release_year": "2018"
         },
         {
          "release_year": "2018"
         },
         {
          "release_year": "2018"
         },
         {
          "release_year": "2017"
         },
         {
          "release_year": "2018"
         },
         {
          "release_year": "2018"
         },
         {
          "release_year": "2018"
         },
         {
          "release_year": "2018"
         },
         {
          "release_year": "2017"
         },
         {
          "release_year": "2017"
         },
         {
          "release_year": "2018"
         },
         {
          "release_year": "2018"
         },
         {
          "release_year": "2018"
         },
         {
          "release_year": "2017"
         },
         {
          "release_year": "2018"
         },
         {
          "release_year": "2018"
         },
         {
          "release_year": "2018"
         },
         {
          "release_year": "2018"
         },
         {
          "release_year": "2017"
         },
         {
          "release_year": "2018"
         },
         {
          "release_year": "2018"
         },
         {
          "release_year": "2018"
         },
         {
          "release_year": "2017"
         },
         {
          "release_year": "2018"
         },
         {
          "release_year": "2017"
         },
         {
          "release_year": "2017"
         },
         {
          "release_year": "2018"
         },
         {
          "release_year": "2018"
         },
         {
          "release_year": "2017"
         },
         {
          "release_year": "2018"
         },
         {
          "release_year": "2017"
         },
         {
          "release_year": "2018"
         },
         {
          "release_year": "2017"
         },
         {
          "release_year": "2018"
         },
         {
          "release_year": "2018"
         },
         {
          "release_year": "2017"
         },
         {
          "release_year": "2018"
         },
         {
          "release_year": "2017"
         },
         {
          "release_year": "2017"
         },
         {
          "release_year": "2018"
         },
         {
          "release_year": "2017"
         },
         {
          "release_year": "2018"
         },
         {
          "release_year": "2017"
         },
         {
          "release_year": "2017"
         },
         {
          "release_year": "2018"
         },
         {
          "release_year": "2017"
         },
         {
          "release_year": "2017"
         },
         {
          "release_year": "2018"
         },
         {
          "release_year": "2018"
         },
         {
          "release_year": "2018"
         },
         {
          "release_year": "2018"
         },
         {
          "release_year": "2017"
         },
         {
          "release_year": "2017"
         },
         {
          "release_year": "2018"
         },
         {
          "release_year": "2017"
         },
         {
          "release_year": "2017"
         },
         {
          "release_year": "2018"
         },
         {
          "release_year": "2017"
         },
         {
          "release_year": "2017"
         },
         {
          "release_year": "2018"
         },
         {
          "release_year": "2017"
         },
         {
          "release_year": "2017"
         },
         {
          "release_year": "2017"
         },
         {
          "release_year": "2018"
         },
         {
          "release_year": "2018"
         },
         {
          "release_year": "2018"
         },
         {
          "release_year": "2018"
         },
         {
          "release_year": "2017"
         },
         {
          "release_year": "2018"
         },
         {
          "release_year": "2018"
         },
         {
          "release_year": "2018"
         },
         {
          "release_year": "2018"
         },
         {
          "release_year": "2018"
         },
         {
          "release_year": "2018"
         },
         {
          "release_year": "2018"
         },
         {
          "release_year": "2017"
         },
         {
          "release_year": "2017"
         },
         {
          "release_year": "2017"
         },
         {
          "release_year": "2017"
         },
         {
          "release_year": "2018"
         },
         {
          "release_year": "2018"
         },
         {
          "release_year": "2018"
         },
         {
          "release_year": "2018"
         },
         {
          "release_year": "2017"
         },
         {
          "release_year": "2017"
         },
         {
          "release_year": "2018"
         },
         {
          "release_year": "2017"
         },
         {
          "release_year": "2018"
         },
         {
          "release_year": "2018"
         },
         {
          "release_year": "2018"
         },
         {
          "release_year": "2018"
         },
         {
          "release_year": "2017"
         },
         {
          "release_year": "2018"
         },
         {
          "release_year": "2018"
         },
         {
          "release_year": "2018"
         },
         {
          "release_year": "2018"
         },
         {
          "release_year": "2017"
         },
         {
          "release_year": "2018"
         },
         {
          "release_year": "2017"
         },
         {
          "release_year": "2017"
         },
         {
          "release_year": "2018"
         },
         {
          "release_year": "2017"
         },
         {
          "release_year": "2018"
         },
         {
          "release_year": "2017"
         },
         {
          "release_year": "2018"
         },
         {
          "release_year": "2017"
         },
         {
          "release_year": "2018"
         },
         {
          "release_year": "2017"
         },
         {
          "release_year": "2017"
         },
         {
          "release_year": "2018"
         },
         {
          "release_year": "2017"
         },
         {
          "release_year": "2017"
         },
         {
          "release_year": "2017"
         },
         {
          "release_year": "2017"
         },
         {
          "release_year": "2017"
         },
         {
          "release_year": "2018"
         },
         {
          "release_year": "2017"
         },
         {
          "release_year": "2018"
         },
         {
          "release_year": "2017"
         },
         {
          "release_year": "2018"
         },
         {
          "release_year": "2018"
         },
         {
          "release_year": "2017"
         },
         {
          "release_year": "2018"
         },
         {
          "release_year": "2018"
         },
         {
          "release_year": "2018"
         },
         {
          "release_year": "2018"
         },
         {
          "release_year": "2018"
         },
         {
          "release_year": "2017"
         },
         {
          "release_year": "2018"
         },
         {
          "release_year": "2018"
         },
         {
          "release_year": "2017"
         },
         {
          "release_year": "2018"
         },
         {
          "release_year": "2017"
         },
         {
          "release_year": "2017"
         },
         {
          "release_year": "2018"
         },
         {
          "release_year": "2017"
         },
         {
          "release_year": "2017"
         },
         {
          "release_year": "2017"
         },
         {
          "release_year": "2017"
         },
         {
          "release_year": "2017"
         },
         {
          "release_year": "2018"
         },
         {
          "release_year": "2018"
         },
         {
          "release_year": "2018"
         },
         {
          "release_year": "2018"
         },
         {
          "release_year": "2018"
         },
         {
          "release_year": "2017"
         },
         {
          "release_year": "2017"
         },
         {
          "release_year": "2018"
         },
         {
          "release_year": "2018"
         },
         {
          "release_year": "2017"
         },
         {
          "release_year": "2018"
         },
         {
          "release_year": "2018"
         },
         {
          "release_year": "2018"
         },
         {
          "release_year": "2018"
         },
         {
          "release_year": "2017"
         },
         {
          "release_year": "2017"
         },
         {
          "release_year": "2017"
         },
         {
          "release_year": "2018"
         },
         {
          "release_year": "2018"
         },
         {
          "release_year": "2018"
         },
         {
          "release_year": "2018"
         },
         {
          "release_year": "2017"
         },
         {
          "release_year": "2018"
         },
         {
          "release_year": "2017"
         },
         {
          "release_year": "2017"
         },
         {
          "release_year": "2017"
         },
         {
          "release_year": "2017"
         },
         {
          "release_year": "2018"
         },
         {
          "release_year": "2018"
         },
         {
          "release_year": "2018"
         },
         {
          "release_year": "2017"
         },
         {
          "release_year": "2018"
         },
         {
          "release_year": "2018"
         },
         {
          "release_year": "2018"
         },
         {
          "release_year": "2017"
         },
         {
          "release_year": "2018"
         },
         {
          "release_year": "2018"
         },
         {
          "release_year": "2018"
         },
         {
          "release_year": "2017"
         },
         {
          "release_year": "2017"
         },
         {
          "release_year": "2018"
         },
         {
          "release_year": "2017"
         },
         {
          "release_year": "2018"
         },
         {
          "release_year": "2018"
         },
         {
          "release_year": "2018"
         },
         {
          "release_year": "2018"
         },
         {
          "release_year": "2018"
         },
         {
          "release_year": "2017"
         },
         {
          "release_year": "2018"
         },
         {
          "release_year": "2017"
         },
         {
          "release_year": "2018"
         },
         {
          "release_year": "2017"
         },
         {
          "release_year": "2018"
         },
         {
          "release_year": "2017"
         },
         {
          "release_year": "2017"
         },
         {
          "release_year": "2017"
         },
         {
          "release_year": "2017"
         },
         {
          "release_year": "2017"
         },
         {
          "release_year": "2017"
         },
         {
          "release_year": "2018"
         },
         {
          "release_year": "2017"
         },
         {
          "release_year": "2018"
         },
         {
          "release_year": "2018"
         },
         {
          "release_year": "2017"
         },
         {
          "release_year": "2017"
         },
         {
          "release_year": "2017"
         },
         {
          "release_year": "2018"
         },
         {
          "release_year": "2018"
         },
         {
          "release_year": "2018"
         },
         {
          "release_year": "2017"
         },
         {
          "release_year": "2018"
         },
         {
          "release_year": "2018"
         },
         {
          "release_year": "2017"
         },
         {
          "release_year": "2018"
         },
         {
          "release_year": "2018"
         },
         {
          "release_year": "2018"
         },
         {
          "release_year": "2017"
         },
         {
          "release_year": "2018"
         },
         {
          "release_year": "2018"
         },
         {
          "release_year": "2018"
         },
         {
          "release_year": "2018"
         },
         {
          "release_year": "2018"
         },
         {
          "release_year": "2017"
         },
         {
          "release_year": "2018"
         },
         {
          "release_year": "2018"
         },
         {
          "release_year": "2018"
         },
         {
          "release_year": "2017"
         },
         {
          "release_year": "2017"
         },
         {
          "release_year": "2018"
         },
         {
          "release_year": "2018"
         },
         {
          "release_year": "2017"
         },
         {
          "release_year": "2017"
         },
         {
          "release_year": "2018"
         },
         {
          "release_year": "2017"
         },
         {
          "release_year": "2018"
         },
         {
          "release_year": "2017"
         },
         {
          "release_year": "2017"
         },
         {
          "release_year": "2018"
         },
         {
          "release_year": "2018"
         },
         {
          "release_year": "2018"
         },
         {
          "release_year": "2018"
         },
         {
          "release_year": "2018"
         },
         {
          "release_year": "2017"
         },
         {
          "release_year": "2018"
         },
         {
          "release_year": "2018"
         },
         {
          "release_year": "2017"
         },
         {
          "release_year": "2018"
         },
         {
          "release_year": "2017"
         },
         {
          "release_year": "2018"
         },
         {
          "release_year": "2018"
         },
         {
          "release_year": "2017"
         },
         {
          "release_year": "2017"
         },
         {
          "release_year": "2018"
         },
         {
          "release_year": "2017"
         },
         {
          "release_year": "2018"
         },
         {
          "release_year": "2017"
         },
         {
          "release_year": "2018"
         },
         {
          "release_year": "2018"
         },
         {
          "release_year": "2017"
         },
         {
          "release_year": "2018"
         },
         {
          "release_year": "2017"
         },
         {
          "release_year": "2017"
         },
         {
          "release_year": "2018"
         },
         {
          "release_year": "2018"
         },
         {
          "release_year": "2017"
         },
         {
          "release_year": "2017"
         },
         {
          "release_year": "2018"
         },
         {
          "release_year": "2018"
         },
         {
          "release_year": "2018"
         },
         {
          "release_year": "2018"
         },
         {
          "release_year": "2018"
         },
         {
          "release_year": "2018"
         },
         {
          "release_year": "2018"
         },
         {
          "release_year": "2018"
         },
         {
          "release_year": "2017"
         },
         {
          "release_year": "2018"
         },
         {
          "release_year": "2018"
         },
         {
          "release_year": "2018"
         },
         {
          "release_year": "2018"
         },
         {
          "release_year": "2017"
         },
         {
          "release_year": "2018"
         },
         {
          "release_year": "2017"
         },
         {
          "release_year": "2018"
         },
         {
          "release_year": "2018"
         },
         {
          "release_year": "2018"
         },
         {
          "release_year": "2017"
         },
         {
          "release_year": "2018"
         },
         {
          "release_year": "2018"
         },
         {
          "release_year": "2017"
         },
         {
          "release_year": "2018"
         },
         {
          "release_year": "2017"
         },
         {
          "release_year": "2018"
         },
         {
          "release_year": "2017"
         },
         {
          "release_year": "2017"
         },
         {
          "release_year": "2018"
         },
         {
          "release_year": "2018"
         },
         {
          "release_year": "2017"
         },
         {
          "release_year": "2017"
         },
         {
          "release_year": "2017"
         },
         {
          "release_year": "2018"
         },
         {
          "release_year": "2017"
         },
         {
          "release_year": "2017"
         },
         {
          "release_year": "2018"
         },
         {
          "release_year": "2017"
         },
         {
          "release_year": "2018"
         },
         {
          "release_year": "2017"
         },
         {
          "release_year": "2018"
         },
         {
          "release_year": "2017"
         },
         {
          "release_year": "2017"
         },
         {
          "release_year": "2018"
         },
         {
          "release_year": "2018"
         },
         {
          "release_year": "2018"
         },
         {
          "release_year": "2017"
         },
         {
          "release_year": "2017"
         },
         {
          "release_year": "2018"
         },
         {
          "release_year": "2017"
         },
         {
          "release_year": "2017"
         },
         {
          "release_year": "2018"
         },
         {
          "release_year": "2017"
         },
         {
          "release_year": "2018"
         },
         {
          "release_year": "2018"
         },
         {
          "release_year": "2017"
         },
         {
          "release_year": "2018"
         },
         {
          "release_year": "2017"
         },
         {
          "release_year": "2017"
         },
         {
          "release_year": "2017"
         },
         {
          "release_year": "2018"
         },
         {
          "release_year": "2017"
         },
         {
          "release_year": "2018"
         },
         {
          "release_year": "2018"
         },
         {
          "release_year": "2018"
         },
         {
          "release_year": "2017"
         },
         {
          "release_year": "2018"
         },
         {
          "release_year": "2017"
         },
         {
          "release_year": "2018"
         },
         {
          "release_year": "2017"
         },
         {
          "release_year": "2018"
         },
         {
          "release_year": "2018"
         },
         {
          "release_year": "2018"
         },
         {
          "release_year": "2017"
         },
         {
          "release_year": "2017"
         },
         {
          "release_year": "2017"
         },
         {
          "release_year": "2017"
         },
         {
          "release_year": "2018"
         },
         {
          "release_year": "2018"
         },
         {
          "release_year": "2018"
         },
         {
          "release_year": "2017"
         },
         {
          "release_year": "2017"
         },
         {
          "release_year": "2018"
         },
         {
          "release_year": "2018"
         },
         {
          "release_year": "2018"
         },
         {
          "release_year": "2018"
         },
         {
          "release_year": "2018"
         },
         {
          "release_year": "2018"
         },
         {
          "release_year": "2017"
         },
         {
          "release_year": "2018"
         },
         {
          "release_year": "2018"
         },
         {
          "release_year": "2017"
         },
         {
          "release_year": "2017"
         },
         {
          "release_year": "2017"
         },
         {
          "release_year": "2017"
         },
         {
          "release_year": "2017"
         },
         {
          "release_year": "2018"
         },
         {
          "release_year": "2017"
         },
         {
          "release_year": "2018"
         },
         {
          "release_year": "2017"
         },
         {
          "release_year": "2018"
         },
         {
          "release_year": "2017"
         },
         {
          "release_year": "2018"
         },
         {
          "release_year": "2018"
         },
         {
          "release_year": "2018"
         },
         {
          "release_year": "2017"
         },
         {
          "release_year": "2018"
         },
         {
          "release_year": "2018"
         },
         {
          "release_year": "2017"
         },
         {
          "release_year": "2018"
         },
         {
          "release_year": "2017"
         },
         {
          "release_year": "2018"
         },
         {
          "release_year": "2018"
         },
         {
          "release_year": "2018"
         },
         {
          "release_year": "2018"
         },
         {
          "release_year": "2018"
         },
         {
          "release_year": "2018"
         },
         {
          "release_year": "2017"
         },
         {
          "release_year": "2018"
         },
         {
          "release_year": "2018"
         },
         {
          "release_year": "2017"
         },
         {
          "release_year": "2018"
         },
         {
          "release_year": "2018"
         },
         {
          "release_year": "2017"
         },
         {
          "release_year": "2017"
         },
         {
          "release_year": "2017"
         },
         {
          "release_year": "2018"
         },
         {
          "release_year": "2018"
         },
         {
          "release_year": "2018"
         },
         {
          "release_year": "2018"
         },
         {
          "release_year": "2017"
         },
         {
          "release_year": "2017"
         },
         {
          "release_year": "2018"
         },
         {
          "release_year": "2018"
         },
         {
          "release_year": "2018"
         },
         {
          "release_year": "2017"
         },
         {
          "release_year": "2018"
         },
         {
          "release_year": "2018"
         },
         {
          "release_year": "2018"
         },
         {
          "release_year": "2017"
         },
         {
          "release_year": "2018"
         },
         {
          "release_year": "2018"
         },
         {
          "release_year": "2018"
         },
         {
          "release_year": "2018"
         },
         {
          "release_year": "2018"
         },
         {
          "release_year": "2017"
         },
         {
          "release_year": "2017"
         },
         {
          "release_year": "2018"
         },
         {
          "release_year": "2017"
         },
         {
          "release_year": "2018"
         },
         {
          "release_year": "2017"
         },
         {
          "release_year": "2017"
         },
         {
          "release_year": "2018"
         },
         {
          "release_year": "2017"
         },
         {
          "release_year": "2018"
         },
         {
          "release_year": "2018"
         },
         {
          "release_year": "2018"
         },
         {
          "release_year": "2017"
         },
         {
          "release_year": "2018"
         },
         {
          "release_year": "2017"
         },
         {
          "release_year": "2018"
         },
         {
          "release_year": "2017"
         },
         {
          "release_year": "2018"
         },
         {
          "release_year": "2018"
         },
         {
          "release_year": "2017"
         },
         {
          "release_year": "2017"
         },
         {
          "release_year": "2017"
         },
         {
          "release_year": "2017"
         },
         {
          "release_year": "2018"
         },
         {
          "release_year": "2018"
         },
         {
          "release_year": "2018"
         },
         {
          "release_year": "2017"
         },
         {
          "release_year": "2018"
         },
         {
          "release_year": "2017"
         },
         {
          "release_year": "2017"
         },
         {
          "release_year": "2017"
         },
         {
          "release_year": "2018"
         },
         {
          "release_year": "2017"
         },
         {
          "release_year": "2018"
         },
         {
          "release_year": "2018"
         },
         {
          "release_year": "2017"
         },
         {
          "release_year": "2018"
         },
         {
          "release_year": "2017"
         },
         {
          "release_year": "2017"
         },
         {
          "release_year": "2017"
         },
         {
          "release_year": "2018"
         },
         {
          "release_year": "2017"
         },
         {
          "release_year": "2017"
         },
         {
          "release_year": "2017"
         },
         {
          "release_year": "2018"
         },
         {
          "release_year": "2018"
         },
         {
          "release_year": "2017"
         },
         {
          "release_year": "2018"
         },
         {
          "release_year": "2018"
         },
         {
          "release_year": "2017"
         },
         {
          "release_year": "2017"
         },
         {
          "release_year": "2018"
         },
         {
          "release_year": "2017"
         },
         {
          "release_year": "2017"
         },
         {
          "release_year": "2018"
         },
         {
          "release_year": "2018"
         },
         {
          "release_year": "2018"
         },
         {
          "release_year": "2017"
         },
         {
          "release_year": "2017"
         },
         {
          "release_year": "2017"
         },
         {
          "release_year": "2018"
         },
         {
          "release_year": "2018"
         },
         {
          "release_year": "2018"
         },
         {
          "release_year": "2017"
         },
         {
          "release_year": "2017"
         },
         {
          "release_year": "2018"
         },
         {
          "release_year": "2018"
         },
         {
          "release_year": "2018"
         },
         {
          "release_year": "2018"
         },
         {
          "release_year": "2017"
         },
         {
          "release_year": "2018"
         },
         {
          "release_year": "2017"
         },
         {
          "release_year": "2018"
         },
         {
          "release_year": "2018"
         },
         {
          "release_year": "2017"
         },
         {
          "release_year": "2018"
         },
         {
          "release_year": "2018"
         },
         {
          "release_year": "2018"
         },
         {
          "release_year": "2017"
         },
         {
          "release_year": "2017"
         },
         {
          "release_year": "2017"
         },
         {
          "release_year": "2018"
         },
         {
          "release_year": "2017"
         },
         {
          "release_year": "2018"
         },
         {
          "release_year": "2018"
         },
         {
          "release_year": "2018"
         },
         {
          "release_year": "2017"
         },
         {
          "release_year": "2018"
         },
         {
          "release_year": "2018"
         },
         {
          "release_year": "2017"
         },
         {
          "release_year": "2017"
         },
         {
          "release_year": "2017"
         },
         {
          "release_year": "2017"
         },
         {
          "release_year": "2018"
         },
         {
          "release_year": "2018"
         },
         {
          "release_year": "2018"
         },
         {
          "release_year": "2017"
         },
         {
          "release_year": "2017"
         },
         {
          "release_year": "2017"
         },
         {
          "release_year": "2017"
         },
         {
          "release_year": "2018"
         },
         {
          "release_year": "2017"
         },
         {
          "release_year": "2018"
         },
         {
          "release_year": "2018"
         },
         {
          "release_year": "2018"
         },
         {
          "release_year": "2018"
         },
         {
          "release_year": "2018"
         },
         {
          "release_year": "2018"
         },
         {
          "release_year": "2018"
         },
         {
          "release_year": "2017"
         },
         {
          "release_year": "2017"
         },
         {
          "release_year": "2017"
         },
         {
          "release_year": "2018"
         },
         {
          "release_year": "2017"
         },
         {
          "release_year": "2017"
         },
         {
          "release_year": "2018"
         },
         {
          "release_year": "2017"
         },
         {
          "release_year": "2018"
         },
         {
          "release_year": "2017"
         },
         {
          "release_year": "2018"
         },
         {
          "release_year": "2018"
         },
         {
          "release_year": "2017"
         },
         {
          "release_year": "2018"
         },
         {
          "release_year": "2018"
         },
         {
          "release_year": "2018"
         },
         {
          "release_year": "2018"
         },
         {
          "release_year": "2018"
         },
         {
          "release_year": "2018"
         },
         {
          "release_year": "2018"
         },
         {
          "release_year": "2018"
         },
         {
          "release_year": "2018"
         },
         {
          "release_year": "2017"
         },
         {
          "release_year": "2018"
         },
         {
          "release_year": "2018"
         },
         {
          "release_year": "2017"
         },
         {
          "release_year": "2018"
         },
         {
          "release_year": "2017"
         },
         {
          "release_year": "2017"
         },
         {
          "release_year": "2018"
         },
         {
          "release_year": "2018"
         },
         {
          "release_year": "2018"
         },
         {
          "release_year": "2017"
         },
         {
          "release_year": "2017"
         },
         {
          "release_year": "2018"
         },
         {
          "release_year": "2017"
         },
         {
          "release_year": "2018"
         },
         {
          "release_year": "2017"
         },
         {
          "release_year": "2018"
         },
         {
          "release_year": "2017"
         },
         {
          "release_year": "2018"
         },
         {
          "release_year": "2018"
         },
         {
          "release_year": "2018"
         },
         {
          "release_year": "2017"
         },
         {
          "release_year": "2018"
         },
         {
          "release_year": "2017"
         },
         {
          "release_year": "2018"
         },
         {
          "release_year": "2017"
         },
         {
          "release_year": "2017"
         },
         {
          "release_year": "2017"
         },
         {
          "release_year": "2018"
         },
         {
          "release_year": "2017"
         },
         {
          "release_year": "2017"
         },
         {
          "release_year": "2017"
         },
         {
          "release_year": "2017"
         },
         {
          "release_year": "2017"
         },
         {
          "release_year": "2017"
         },
         {
          "release_year": "2018"
         },
         {
          "release_year": "2018"
         },
         {
          "release_year": "2018"
         },
         {
          "release_year": "2018"
         },
         {
          "release_year": "2018"
         },
         {
          "release_year": "2018"
         },
         {
          "release_year": "2018"
         },
         {
          "release_year": "2018"
         },
         {
          "release_year": "2017"
         },
         {
          "release_year": "2018"
         },
         {
          "release_year": "2017"
         },
         {
          "release_year": "2018"
         },
         {
          "release_year": "2018"
         },
         {
          "release_year": "2018"
         },
         {
          "release_year": "2018"
         },
         {
          "release_year": "2017"
         },
         {
          "release_year": "2018"
         },
         {
          "release_year": "2018"
         },
         {
          "release_year": "2018"
         },
         {
          "release_year": "2017"
         },
         {
          "release_year": "2018"
         },
         {
          "release_year": "2017"
         },
         {
          "release_year": "2018"
         },
         {
          "release_year": "2017"
         },
         {
          "release_year": "2017"
         },
         {
          "release_year": "2018"
         },
         {
          "release_year": "2018"
         },
         {
          "release_year": "2018"
         },
         {
          "release_year": "2018"
         },
         {
          "release_year": "2018"
         },
         {
          "release_year": "2018"
         },
         {
          "release_year": "2017"
         },
         {
          "release_year": "2018"
         },
         {
          "release_year": "2018"
         },
         {
          "release_year": "2018"
         },
         {
          "release_year": "2017"
         },
         {
          "release_year": "2018"
         },
         {
          "release_year": "2018"
         },
         {
          "release_year": "2017"
         },
         {
          "release_year": "2018"
         },
         {
          "release_year": "2017"
         },
         {
          "release_year": "2017"
         },
         {
          "release_year": "2018"
         },
         {
          "release_year": "2017"
         },
         {
          "release_year": "2018"
         },
         {
          "release_year": "2018"
         },
         {
          "release_year": "2018"
         },
         {
          "release_year": "2018"
         },
         {
          "release_year": "2017"
         },
         {
          "release_year": "2018"
         },
         {
          "release_year": "2017"
         },
         {
          "release_year": "2017"
         },
         {
          "release_year": "2018"
         },
         {
          "release_year": "2017"
         },
         {
          "release_year": "2017"
         },
         {
          "release_year": "2017"
         },
         {
          "release_year": "2018"
         },
         {
          "release_year": "2018"
         },
         {
          "release_year": "2017"
         },
         {
          "release_year": "2017"
         },
         {
          "release_year": "2018"
         },
         {
          "release_year": "2017"
         },
         {
          "release_year": "2017"
         },
         {
          "release_year": "2017"
         },
         {
          "release_year": "2018"
         },
         {
          "release_year": "2017"
         },
         {
          "release_year": "2017"
         },
         {
          "release_year": "2018"
         },
         {
          "release_year": "2018"
         },
         {
          "release_year": "2018"
         },
         {
          "release_year": "2018"
         },
         {
          "release_year": "2018"
         },
         {
          "release_year": "2017"
         },
         {
          "release_year": "2018"
         },
         {
          "release_year": "2017"
         },
         {
          "release_year": "2018"
         },
         {
          "release_year": "2018"
         },
         {
          "release_year": "2018"
         },
         {
          "release_year": "2018"
         },
         {
          "release_year": "2018"
         },
         {
          "release_year": "2018"
         },
         {
          "release_year": "2018"
         },
         {
          "release_year": "2017"
         },
         {
          "release_year": "2017"
         },
         {
          "release_year": "2018"
         },
         {
          "release_year": "2017"
         },
         {
          "release_year": "2018"
         },
         {
          "release_year": "2017"
         },
         {
          "release_year": "2017"
         },
         {
          "release_year": "2017"
         },
         {
          "release_year": "2017"
         },
         {
          "release_year": "2017"
         },
         {
          "release_year": "2018"
         },
         {
          "release_year": "2018"
         },
         {
          "release_year": "2017"
         },
         {
          "release_year": "2017"
         },
         {
          "release_year": "2017"
         },
         {
          "release_year": "2018"
         },
         {
          "release_year": "2017"
         },
         {
          "release_year": "2018"
         },
         {
          "release_year": "2018"
         },
         {
          "release_year": "2018"
         },
         {
          "release_year": "2017"
         },
         {
          "release_year": "2017"
         },
         {
          "release_year": "2018"
         },
         {
          "release_year": "2017"
         },
         {
          "release_year": "2017"
         },
         {
          "release_year": "2018"
         },
         {
          "release_year": "2018"
         },
         {
          "release_year": "2018"
         },
         {
          "release_year": "2018"
         },
         {
          "release_year": "2017"
         },
         {
          "release_year": "2018"
         },
         {
          "release_year": "2018"
         },
         {
          "release_year": "2018"
         },
         {
          "release_year": "2017"
         },
         {
          "release_year": "2018"
         },
         {
          "release_year": "2017"
         },
         {
          "release_year": "2018"
         },
         {
          "release_year": "2018"
         },
         {
          "release_year": "2018"
         },
         {
          "release_year": "2017"
         },
         {
          "release_year": "2017"
         },
         {
          "release_year": "2018"
         },
         {
          "release_year": "2018"
         },
         {
          "release_year": "2018"
         },
         {
          "release_year": "2017"
         },
         {
          "release_year": "2017"
         },
         {
          "release_year": "2018"
         },
         {
          "release_year": "2018"
         },
         {
          "release_year": "2018"
         },
         {
          "release_year": "2018"
         },
         {
          "release_year": "2018"
         },
         {
          "release_year": "2018"
         },
         {
          "release_year": "2018"
         },
         {
          "release_year": "2018"
         },
         {
          "release_year": "2018"
         },
         {
          "release_year": "2018"
         },
         {
          "release_year": "2017"
         },
         {
          "release_year": "2017"
         },
         {
          "release_year": "2018"
         },
         {
          "release_year": "2017"
         },
         {
          "release_year": "2018"
         },
         {
          "release_year": "2018"
         },
         {
          "release_year": "2018"
         },
         {
          "release_year": "2017"
         },
         {
          "release_year": "2017"
         },
         {
          "release_year": "2017"
         },
         {
          "release_year": "2017"
         },
         {
          "release_year": "2018"
         },
         {
          "release_year": "2017"
         },
         {
          "release_year": "2017"
         },
         {
          "release_year": "2018"
         },
         {
          "release_year": "2018"
         },
         {
          "release_year": "2018"
         },
         {
          "release_year": "2018"
         },
         {
          "release_year": "2017"
         },
         {
          "release_year": "2018"
         },
         {
          "release_year": "2017"
         },
         {
          "release_year": "2018"
         },
         {
          "release_year": "2018"
         },
         {
          "release_year": "2018"
         },
         {
          "release_year": "2018"
         },
         {
          "release_year": "2018"
         },
         {
          "release_year": "2017"
         },
         {
          "release_year": "2018"
         },
         {
          "release_year": "2018"
         },
         {
          "release_year": "2018"
         },
         {
          "release_year": "2017"
         },
         {
          "release_year": "2018"
         },
         {
          "release_year": "2018"
         },
         {
          "release_year": "2017"
         },
         {
          "release_year": "2018"
         },
         {
          "release_year": "2018"
         },
         {
          "release_year": "2017"
         },
         {
          "release_year": "2017"
         },
         {
          "release_year": "2017"
         },
         {
          "release_year": "2017"
         },
         {
          "release_year": "2017"
         },
         {
          "release_year": "2018"
         },
         {
          "release_year": "2018"
         },
         {
          "release_year": "2018"
         },
         {
          "release_year": "2018"
         },
         {
          "release_year": "2017"
         },
         {
          "release_year": "2018"
         },
         {
          "release_year": "2018"
         },
         {
          "release_year": "2018"
         },
         {
          "release_year": "2017"
         },
         {
          "release_year": "2017"
         },
         {
          "release_year": "2017"
         },
         {
          "release_year": "2018"
         },
         {
          "release_year": "2018"
         },
         {
          "release_year": "2018"
         },
         {
          "release_year": "2018"
         },
         {
          "release_year": "2017"
         },
         {
          "release_year": "2018"
         },
         {
          "release_year": "2017"
         },
         {
          "release_year": "2018"
         },
         {
          "release_year": "2018"
         },
         {
          "release_year": "2017"
         },
         {
          "release_year": "2018"
         },
         {
          "release_year": "2017"
         },
         {
          "release_year": "2017"
         },
         {
          "release_year": "2018"
         },
         {
          "release_year": "2017"
         },
         {
          "release_year": "2018"
         },
         {
          "release_year": "2018"
         },
         {
          "release_year": "2017"
         },
         {
          "release_year": "2017"
         },
         {
          "release_year": "2018"
         },
         {
          "release_year": "2018"
         },
         {
          "release_year": "2017"
         },
         {
          "release_year": "2017"
         },
         {
          "release_year": "2018"
         },
         {
          "release_year": "2018"
         },
         {
          "release_year": "2017"
         },
         {
          "release_year": "2018"
         },
         {
          "release_year": "2017"
         },
         {
          "release_year": "2017"
         },
         {
          "release_year": "2018"
         },
         {
          "release_year": "2017"
         },
         {
          "release_year": "2018"
         },
         {
          "release_year": "2018"
         },
         {
          "release_year": "2018"
         },
         {
          "release_year": "2018"
         },
         {
          "release_year": "2018"
         },
         {
          "release_year": "2017"
         },
         {
          "release_year": "2018"
         },
         {
          "release_year": "2018"
         },
         {
          "release_year": "2017"
         },
         {
          "release_year": "2018"
         },
         {
          "release_year": "2017"
         },
         {
          "release_year": "2018"
         },
         {
          "release_year": "2018"
         },
         {
          "release_year": "2018"
         },
         {
          "release_year": "2018"
         },
         {
          "release_year": "2018"
         },
         {
          "release_year": "2018"
         },
         {
          "release_year": "2017"
         },
         {
          "release_year": "2018"
         },
         {
          "release_year": "2017"
         },
         {
          "release_year": "2018"
         },
         {
          "release_year": "2018"
         },
         {
          "release_year": "2017"
         },
         {
          "release_year": "2018"
         },
         {
          "release_year": "2018"
         },
         {
          "release_year": "2018"
         },
         {
          "release_year": "2018"
         },
         {
          "release_year": "2018"
         },
         {
          "release_year": "2017"
         },
         {
          "release_year": "2017"
         },
         {
          "release_year": "2017"
         },
         {
          "release_year": "2018"
         },
         {
          "release_year": "2017"
         },
         {
          "release_year": "2017"
         },
         {
          "release_year": "2017"
         },
         {
          "release_year": "2018"
         },
         {
          "release_year": "2018"
         },
         {
          "release_year": "2018"
         },
         {
          "release_year": "2018"
         },
         {
          "release_year": "2018"
         },
         {
          "release_year": "2018"
         },
         {
          "release_year": "2017"
         },
         {
          "release_year": "2018"
         },
         {
          "release_year": "2018"
         },
         {
          "release_year": "2017"
         },
         {
          "release_year": "2018"
         },
         {
          "release_year": "2018"
         },
         {
          "release_year": "2017"
         },
         {
          "release_year": "2018"
         },
         {
          "release_year": "2017"
         },
         {
          "release_year": "2017"
         },
         {
          "release_year": "2018"
         },
         {
          "release_year": "2018"
         },
         {
          "release_year": "2017"
         },
         {
          "release_year": "2017"
         },
         {
          "release_year": "2018"
         },
         {
          "release_year": "2018"
         },
         {
          "release_year": "2017"
         },
         {
          "release_year": "2017"
         },
         {
          "release_year": "2018"
         },
         {
          "release_year": "2017"
         },
         {
          "release_year": "2017"
         },
         {
          "release_year": "2018"
         },
         {
          "release_year": "2018"
         },
         {
          "release_year": "2018"
         },
         {
          "release_year": "2019"
         },
         {
          "release_year": "2020"
         },
         {
          "release_year": "2019"
         },
         {
          "release_year": "2019"
         },
         {
          "release_year": "2019"
         },
         {
          "release_year": "2019"
         },
         {
          "release_year": "2019"
         },
         {
          "release_year": "2019"
         },
         {
          "release_year": "2019"
         },
         {
          "release_year": "2019"
         },
         {
          "release_year": "2020"
         },
         {
          "release_year": "2019"
         },
         {
          "release_year": "2020"
         },
         {
          "release_year": "2020"
         },
         {
          "release_year": "2019"
         },
         {
          "release_year": "2019"
         },
         {
          "release_year": "2019"
         },
         {
          "release_year": "2019"
         },
         {
          "release_year": "2019"
         },
         {
          "release_year": "2020"
         },
         {
          "release_year": "2019"
         },
         {
          "release_year": "2019"
         },
         {
          "release_year": "2019"
         },
         {
          "release_year": "2019"
         },
         {
          "release_year": "2019"
         },
         {
          "release_year": "2019"
         },
         {
          "release_year": "2020"
         },
         {
          "release_year": "2020"
         },
         {
          "release_year": "2020"
         },
         {
          "release_year": "2020"
         },
         {
          "release_year": "2020"
         },
         {
          "release_year": "2019"
         },
         {
          "release_year": "2019"
         },
         {
          "release_year": "2020"
         },
         {
          "release_year": "2019"
         },
         {
          "release_year": "2019"
         },
         {
          "release_year": "2019"
         },
         {
          "release_year": "2020"
         },
         {
          "release_year": "2019"
         },
         {
          "release_year": "2020"
         },
         {
          "release_year": "2020"
         },
         {
          "release_year": "2020"
         },
         {
          "release_year": "2020"
         },
         {
          "release_year": "2019"
         },
         {
          "release_year": "2019"
         },
         {
          "release_year": "2020"
         },
         {
          "release_year": "2020"
         },
         {
          "release_year": "2019"
         },
         {
          "release_year": "2020"
         },
         {
          "release_year": "2020"
         },
         {
          "release_year": "2020"
         },
         {
          "release_year": "2019"
         },
         {
          "release_year": "2020"
         },
         {
          "release_year": "2019"
         },
         {
          "release_year": "2020"
         },
         {
          "release_year": "2019"
         },
         {
          "release_year": "2020"
         },
         {
          "release_year": "2019"
         },
         {
          "release_year": "2019"
         },
         {
          "release_year": "2019"
         },
         {
          "release_year": "2020"
         },
         {
          "release_year": "2019"
         },
         {
          "release_year": "2019"
         },
         {
          "release_year": "2019"
         },
         {
          "release_year": "2020"
         },
         {
          "release_year": "2019"
         },
         {
          "release_year": "2019"
         },
         {
          "release_year": "2020"
         },
         {
          "release_year": "2019"
         },
         {
          "release_year": "2020"
         },
         {
          "release_year": "2019"
         },
         {
          "release_year": "2020"
         },
         {
          "release_year": "2020"
         },
         {
          "release_year": "2019"
         },
         {
          "release_year": "2019"
         },
         {
          "release_year": "2019"
         },
         {
          "release_year": "2020"
         },
         {
          "release_year": "2020"
         },
         {
          "release_year": "2019"
         },
         {
          "release_year": "2020"
         },
         {
          "release_year": "2019"
         },
         {
          "release_year": "2019"
         },
         {
          "release_year": "2020"
         },
         {
          "release_year": "2020"
         },
         {
          "release_year": "2019"
         },
         {
          "release_year": "2020"
         },
         {
          "release_year": "2020"
         },
         {
          "release_year": "2019"
         },
         {
          "release_year": "2019"
         },
         {
          "release_year": "2020"
         },
         {
          "release_year": "2019"
         },
         {
          "release_year": "2020"
         },
         {
          "release_year": "2019"
         },
         {
          "release_year": "2020"
         },
         {
          "release_year": "2020"
         },
         {
          "release_year": "2020"
         },
         {
          "release_year": "2019"
         },
         {
          "release_year": "2019"
         },
         {
          "release_year": "2019"
         },
         {
          "release_year": "2019"
         },
         {
          "release_year": "2020"
         },
         {
          "release_year": "2020"
         },
         {
          "release_year": "2020"
         },
         {
          "release_year": "2020"
         },
         {
          "release_year": "2020"
         },
         {
          "release_year": "2019"
         },
         {
          "release_year": "2019"
         },
         {
          "release_year": "2020"
         },
         {
          "release_year": "2019"
         },
         {
          "release_year": "2019"
         },
         {
          "release_year": "2020"
         },
         {
          "release_year": "2020"
         },
         {
          "release_year": "2020"
         },
         {
          "release_year": "2019"
         },
         {
          "release_year": "2020"
         },
         {
          "release_year": "2019"
         },
         {
          "release_year": "2019"
         },
         {
          "release_year": "2019"
         },
         {
          "release_year": "2020"
         },
         {
          "release_year": "2020"
         },
         {
          "release_year": "2020"
         },
         {
          "release_year": "2019"
         },
         {
          "release_year": "2020"
         },
         {
          "release_year": "2019"
         },
         {
          "release_year": "2020"
         },
         {
          "release_year": "2019"
         },
         {
          "release_year": "2020"
         },
         {
          "release_year": "2019"
         },
         {
          "release_year": "2019"
         },
         {
          "release_year": "2020"
         },
         {
          "release_year": "2020"
         },
         {
          "release_year": "2019"
         },
         {
          "release_year": "2020"
         },
         {
          "release_year": "2019"
         },
         {
          "release_year": "2020"
         },
         {
          "release_year": "2019"
         },
         {
          "release_year": "2019"
         },
         {
          "release_year": "2019"
         },
         {
          "release_year": "2019"
         },
         {
          "release_year": "2019"
         },
         {
          "release_year": "2019"
         },
         {
          "release_year": "2020"
         },
         {
          "release_year": "2019"
         },
         {
          "release_year": "2019"
         },
         {
          "release_year": "2020"
         },
         {
          "release_year": "2020"
         },
         {
          "release_year": "2020"
         },
         {
          "release_year": "2019"
         },
         {
          "release_year": "2020"
         },
         {
          "release_year": "2020"
         },
         {
          "release_year": "2020"
         },
         {
          "release_year": "2019"
         },
         {
          "release_year": "2019"
         },
         {
          "release_year": "2020"
         },
         {
          "release_year": "2019"
         },
         {
          "release_year": "2020"
         },
         {
          "release_year": "2020"
         },
         {
          "release_year": "2019"
         },
         {
          "release_year": "2019"
         },
         {
          "release_year": "2020"
         },
         {
          "release_year": "2019"
         },
         {
          "release_year": "2019"
         },
         {
          "release_year": "2019"
         },
         {
          "release_year": "2020"
         },
         {
          "release_year": "2019"
         },
         {
          "release_year": "2020"
         },
         {
          "release_year": "2019"
         },
         {
          "release_year": "2019"
         },
         {
          "release_year": "2020"
         },
         {
          "release_year": "2019"
         },
         {
          "release_year": "2020"
         },
         {
          "release_year": "2019"
         },
         {
          "release_year": "2020"
         },
         {
          "release_year": "2020"
         },
         {
          "release_year": "2020"
         },
         {
          "release_year": "2020"
         },
         {
          "release_year": "2019"
         },
         {
          "release_year": "2019"
         },
         {
          "release_year": "2020"
         },
         {
          "release_year": "2019"
         },
         {
          "release_year": "2020"
         },
         {
          "release_year": "2019"
         },
         {
          "release_year": "2019"
         },
         {
          "release_year": "2020"
         },
         {
          "release_year": "2019"
         },
         {
          "release_year": "2019"
         },
         {
          "release_year": "2020"
         },
         {
          "release_year": "2020"
         },
         {
          "release_year": "2019"
         },
         {
          "release_year": "2019"
         },
         {
          "release_year": "2019"
         },
         {
          "release_year": "2020"
         },
         {
          "release_year": "2020"
         },
         {
          "release_year": "2019"
         },
         {
          "release_year": "2019"
         },
         {
          "release_year": "2020"
         },
         {
          "release_year": "2020"
         },
         {
          "release_year": "2019"
         },
         {
          "release_year": "2019"
         },
         {
          "release_year": "2020"
         },
         {
          "release_year": "2019"
         },
         {
          "release_year": "2020"
         },
         {
          "release_year": "2019"
         },
         {
          "release_year": "2020"
         },
         {
          "release_year": "2019"
         },
         {
          "release_year": "2019"
         },
         {
          "release_year": "2020"
         },
         {
          "release_year": "2019"
         },
         {
          "release_year": "2019"
         },
         {
          "release_year": "2019"
         },
         {
          "release_year": "2019"
         },
         {
          "release_year": "2019"
         },
         {
          "release_year": "2019"
         },
         {
          "release_year": "2020"
         },
         {
          "release_year": "2019"
         },
         {
          "release_year": "2020"
         },
         {
          "release_year": "2019"
         },
         {
          "release_year": "2020"
         },
         {
          "release_year": "2020"
         },
         {
          "release_year": "2020"
         },
         {
          "release_year": "2019"
         },
         {
          "release_year": "2019"
         },
         {
          "release_year": "2019"
         },
         {
          "release_year": "2019"
         },
         {
          "release_year": "2020"
         },
         {
          "release_year": "2019"
         },
         {
          "release_year": "2020"
         },
         {
          "release_year": "2019"
         },
         {
          "release_year": "2020"
         },
         {
          "release_year": "2020"
         },
         {
          "release_year": "2019"
         },
         {
          "release_year": "2020"
         },
         {
          "release_year": "2019"
         },
         {
          "release_year": "2020"
         },
         {
          "release_year": "2019"
         },
         {
          "release_year": "2020"
         },
         {
          "release_year": "2019"
         },
         {
          "release_year": "2020"
         },
         {
          "release_year": "2020"
         },
         {
          "release_year": "2020"
         },
         {
          "release_year": "2020"
         },
         {
          "release_year": "2019"
         },
         {
          "release_year": "2020"
         },
         {
          "release_year": "2019"
         },
         {
          "release_year": "2020"
         },
         {
          "release_year": "2020"
         },
         {
          "release_year": "2019"
         },
         {
          "release_year": "2019"
         },
         {
          "release_year": "2020"
         },
         {
          "release_year": "2020"
         },
         {
          "release_year": "2020"
         },
         {
          "release_year": "2019"
         },
         {
          "release_year": "2019"
         },
         {
          "release_year": "2019"
         },
         {
          "release_year": "2019"
         },
         {
          "release_year": "2020"
         },
         {
          "release_year": "2020"
         },
         {
          "release_year": "2020"
         },
         {
          "release_year": "2019"
         },
         {
          "release_year": "2019"
         },
         {
          "release_year": "2020"
         },
         {
          "release_year": "2019"
         },
         {
          "release_year": "2020"
         },
         {
          "release_year": "2020"
         },
         {
          "release_year": "2019"
         },
         {
          "release_year": "2020"
         },
         {
          "release_year": "2020"
         },
         {
          "release_year": "2020"
         },
         {
          "release_year": "2019"
         },
         {
          "release_year": "2019"
         },
         {
          "release_year": "2019"
         },
         {
          "release_year": "2019"
         },
         {
          "release_year": "2020"
         },
         {
          "release_year": "2019"
         },
         {
          "release_year": "2019"
         },
         {
          "release_year": "2020"
         },
         {
          "release_year": "2019"
         },
         {
          "release_year": "2020"
         },
         {
          "release_year": "2019"
         },
         {
          "release_year": "2020"
         },
         {
          "release_year": "2020"
         },
         {
          "release_year": "2020"
         },
         {
          "release_year": "2020"
         },
         {
          "release_year": "2020"
         },
         {
          "release_year": "2019"
         },
         {
          "release_year": "2020"
         },
         {
          "release_year": "2019"
         },
         {
          "release_year": "2020"
         },
         {
          "release_year": "2020"
         },
         {
          "release_year": "2020"
         },
         {
          "release_year": "2019"
         },
         {
          "release_year": "2019"
         },
         {
          "release_year": "2020"
         },
         {
          "release_year": "2020"
         },
         {
          "release_year": "2020"
         },
         {
          "release_year": "2019"
         },
         {
          "release_year": "2019"
         },
         {
          "release_year": "2020"
         },
         {
          "release_year": "2020"
         },
         {
          "release_year": "2020"
         },
         {
          "release_year": "2020"
         },
         {
          "release_year": "2020"
         },
         {
          "release_year": "2019"
         },
         {
          "release_year": "2020"
         },
         {
          "release_year": "2020"
         },
         {
          "release_year": "2020"
         },
         {
          "release_year": "2019"
         },
         {
          "release_year": "2020"
         },
         {
          "release_year": "2019"
         },
         {
          "release_year": "2020"
         },
         {
          "release_year": "2019"
         },
         {
          "release_year": "2019"
         },
         {
          "release_year": "2020"
         },
         {
          "release_year": "2020"
         },
         {
          "release_year": "2019"
         },
         {
          "release_year": "2019"
         },
         {
          "release_year": "2019"
         },
         {
          "release_year": "2020"
         },
         {
          "release_year": "2020"
         },
         {
          "release_year": "2019"
         },
         {
          "release_year": "2020"
         },
         {
          "release_year": "2019"
         },
         {
          "release_year": "2020"
         },
         {
          "release_year": "2020"
         },
         {
          "release_year": "2020"
         },
         {
          "release_year": "2020"
         },
         {
          "release_year": "2019"
         },
         {
          "release_year": "2019"
         },
         {
          "release_year": "2020"
         },
         {
          "release_year": "2019"
         },
         {
          "release_year": "2019"
         },
         {
          "release_year": "2019"
         },
         {
          "release_year": "2020"
         },
         {
          "release_year": "2019"
         },
         {
          "release_year": "2020"
         },
         {
          "release_year": "2019"
         },
         {
          "release_year": "2020"
         },
         {
          "release_year": "2020"
         },
         {
          "release_year": "2020"
         },
         {
          "release_year": "2019"
         },
         {
          "release_year": "2020"
         },
         {
          "release_year": "2020"
         },
         {
          "release_year": "2020"
         },
         {
          "release_year": "2019"
         },
         {
          "release_year": "2020"
         },
         {
          "release_year": "2020"
         },
         {
          "release_year": "2019"
         },
         {
          "release_year": "2019"
         },
         {
          "release_year": "2020"
         },
         {
          "release_year": "2020"
         },
         {
          "release_year": "2019"
         },
         {
          "release_year": "2020"
         },
         {
          "release_year": "2020"
         },
         {
          "release_year": "2019"
         },
         {
          "release_year": "2020"
         },
         {
          "release_year": "2019"
         },
         {
          "release_year": "2020"
         },
         {
          "release_year": "2020"
         },
         {
          "release_year": "2020"
         },
         {
          "release_year": "2020"
         },
         {
          "release_year": "2019"
         },
         {
          "release_year": "2020"
         },
         {
          "release_year": "2019"
         },
         {
          "release_year": "2019"
         },
         {
          "release_year": "2019"
         },
         {
          "release_year": "2019"
         },
         {
          "release_year": "2019"
         },
         {
          "release_year": "2019"
         },
         {
          "release_year": "2019"
         },
         {
          "release_year": "2020"
         },
         {
          "release_year": "2019"
         },
         {
          "release_year": "2020"
         },
         {
          "release_year": "2020"
         },
         {
          "release_year": "2020"
         },
         {
          "release_year": "2019"
         },
         {
          "release_year": "2019"
         },
         {
          "release_year": "2020"
         },
         {
          "release_year": "2019"
         },
         {
          "release_year": "2020"
         },
         {
          "release_year": "2020"
         },
         {
          "release_year": "2019"
         },
         {
          "release_year": "2019"
         },
         {
          "release_year": "2020"
         },
         {
          "release_year": "2019"
         },
         {
          "release_year": "2019"
         },
         {
          "release_year": "2020"
         },
         {
          "release_year": "2020"
         },
         {
          "release_year": "2020"
         },
         {
          "release_year": "2019"
         },
         {
          "release_year": "2020"
         },
         {
          "release_year": "2020"
         },
         {
          "release_year": "2020"
         },
         {
          "release_year": "2019"
         },
         {
          "release_year": "2019"
         },
         {
          "release_year": "2019"
         },
         {
          "release_year": "2019"
         },
         {
          "release_year": "2020"
         },
         {
          "release_year": "2020"
         },
         {
          "release_year": "2020"
         },
         {
          "release_year": "2019"
         },
         {
          "release_year": "2020"
         },
         {
          "release_year": "2019"
         },
         {
          "release_year": "2020"
         },
         {
          "release_year": "2020"
         },
         {
          "release_year": "2019"
         },
         {
          "release_year": "2019"
         },
         {
          "release_year": "2019"
         },
         {
          "release_year": "2020"
         },
         {
          "release_year": "2020"
         },
         {
          "release_year": "2020"
         },
         {
          "release_year": "2020"
         },
         {
          "release_year": "2019"
         },
         {
          "release_year": "2019"
         },
         {
          "release_year": "2020"
         },
         {
          "release_year": "2020"
         },
         {
          "release_year": "2020"
         },
         {
          "release_year": "2019"
         },
         {
          "release_year": "2019"
         },
         {
          "release_year": "2019"
         },
         {
          "release_year": "2020"
         },
         {
          "release_year": "2019"
         },
         {
          "release_year": "2020"
         },
         {
          "release_year": "2020"
         },
         {
          "release_year": "2020"
         },
         {
          "release_year": "2020"
         },
         {
          "release_year": "2020"
         },
         {
          "release_year": "2020"
         },
         {
          "release_year": "2019"
         },
         {
          "release_year": "2020"
         },
         {
          "release_year": "2020"
         },
         {
          "release_year": "2019"
         },
         {
          "release_year": "2019"
         },
         {
          "release_year": "2019"
         },
         {
          "release_year": "2020"
         },
         {
          "release_year": "2020"
         },
         {
          "release_year": "2020"
         },
         {
          "release_year": "2019"
         },
         {
          "release_year": "2020"
         },
         {
          "release_year": "2019"
         },
         {
          "release_year": "2020"
         },
         {
          "release_year": "2019"
         },
         {
          "release_year": "2019"
         },
         {
          "release_year": "2019"
         },
         {
          "release_year": "2019"
         },
         {
          "release_year": "2020"
         },
         {
          "release_year": "2019"
         },
         {
          "release_year": "2020"
         },
         {
          "release_year": "2019"
         },
         {
          "release_year": "2020"
         },
         {
          "release_year": "2020"
         },
         {
          "release_year": "2020"
         },
         {
          "release_year": "2020"
         },
         {
          "release_year": "2019"
         },
         {
          "release_year": "2020"
         },
         {
          "release_year": "2019"
         },
         {
          "release_year": "2019"
         },
         {
          "release_year": "2020"
         },
         {
          "release_year": "2019"
         },
         {
          "release_year": "2019"
         },
         {
          "release_year": "2019"
         },
         {
          "release_year": "2019"
         },
         {
          "release_year": "2019"
         },
         {
          "release_year": "2019"
         },
         {
          "release_year": "2020"
         },
         {
          "release_year": "2020"
         },
         {
          "release_year": "2020"
         },
         {
          "release_year": "2020"
         },
         {
          "release_year": "2019"
         },
         {
          "release_year": "2020"
         },
         {
          "release_year": "2019"
         },
         {
          "release_year": "2019"
         },
         {
          "release_year": "2020"
         },
         {
          "release_year": "2019"
         },
         {
          "release_year": "2020"
         },
         {
          "release_year": "2020"
         },
         {
          "release_year": "2020"
         },
         {
          "release_year": "2020"
         },
         {
          "release_year": "2020"
         },
         {
          "release_year": "2019"
         },
         {
          "release_year": "2019"
         },
         {
          "release_year": "2020"
         },
         {
          "release_year": "2020"
         },
         {
          "release_year": "2019"
         },
         {
          "release_year": "2020"
         },
         {
          "release_year": "2020"
         },
         {
          "release_year": "2020"
         },
         {
          "release_year": "2019"
         },
         {
          "release_year": "2019"
         },
         {
          "release_year": "2020"
         },
         {
          "release_year": "2019"
         },
         {
          "release_year": "2020"
         },
         {
          "release_year": "2020"
         },
         {
          "release_year": "2019"
         },
         {
          "release_year": "2020"
         },
         {
          "release_year": "2020"
         },
         {
          "release_year": "2020"
         },
         {
          "release_year": "2019"
         },
         {
          "release_year": "2019"
         },
         {
          "release_year": "2020"
         },
         {
          "release_year": "2020"
         },
         {
          "release_year": "2020"
         },
         {
          "release_year": "2020"
         },
         {
          "release_year": "2020"
         },
         {
          "release_year": "2019"
         },
         {
          "release_year": "2019"
         },
         {
          "release_year": "2020"
         },
         {
          "release_year": "2019"
         },
         {
          "release_year": "2020"
         },
         {
          "release_year": "2019"
         },
         {
          "release_year": "2019"
         },
         {
          "release_year": "2020"
         },
         {
          "release_year": "2019"
         },
         {
          "release_year": "2019"
         },
         {
          "release_year": "2020"
         },
         {
          "release_year": "2019"
         },
         {
          "release_year": "2019"
         },
         {
          "release_year": "2019"
         },
         {
          "release_year": "2020"
         },
         {
          "release_year": "2020"
         },
         {
          "release_year": "2020"
         },
         {
          "release_year": "2020"
         },
         {
          "release_year": "2020"
         },
         {
          "release_year": "2020"
         },
         {
          "release_year": "2019"
         },
         {
          "release_year": "2019"
         },
         {
          "release_year": "2020"
         },
         {
          "release_year": "2019"
         },
         {
          "release_year": "2020"
         },
         {
          "release_year": "2020"
         },
         {
          "release_year": "2019"
         },
         {
          "release_year": "2020"
         },
         {
          "release_year": "2020"
         },
         {
          "release_year": "2019"
         },
         {
          "release_year": "2020"
         },
         {
          "release_year": "2020"
         },
         {
          "release_year": "2020"
         },
         {
          "release_year": "2020"
         },
         {
          "release_year": "2019"
         },
         {
          "release_year": "2020"
         },
         {
          "release_year": "2020"
         },
         {
          "release_year": "2020"
         },
         {
          "release_year": "2019"
         },
         {
          "release_year": "2019"
         },
         {
          "release_year": "2019"
         },
         {
          "release_year": "2020"
         },
         {
          "release_year": "2019"
         },
         {
          "release_year": "2019"
         },
         {
          "release_year": "2020"
         },
         {
          "release_year": "2019"
         },
         {
          "release_year": "2019"
         },
         {
          "release_year": "2020"
         },
         {
          "release_year": "2019"
         },
         {
          "release_year": "2020"
         },
         {
          "release_year": "2020"
         },
         {
          "release_year": "2020"
         },
         {
          "release_year": "2019"
         },
         {
          "release_year": "2020"
         },
         {
          "release_year": "2019"
         },
         {
          "release_year": "2020"
         },
         {
          "release_year": "2019"
         },
         {
          "release_year": "2020"
         },
         {
          "release_year": "2020"
         },
         {
          "release_year": "2019"
         },
         {
          "release_year": "2019"
         },
         {
          "release_year": "2020"
         },
         {
          "release_year": "2019"
         },
         {
          "release_year": "2019"
         },
         {
          "release_year": "2019"
         },
         {
          "release_year": "2019"
         },
         {
          "release_year": "2020"
         },
         {
          "release_year": "2020"
         },
         {
          "release_year": "2020"
         },
         {
          "release_year": "2019"
         },
         {
          "release_year": "2019"
         },
         {
          "release_year": "2020"
         },
         {
          "release_year": "2020"
         },
         {
          "release_year": "2020"
         },
         {
          "release_year": "2019"
         },
         {
          "release_year": "2019"
         },
         {
          "release_year": "2020"
         },
         {
          "release_year": "2020"
         },
         {
          "release_year": "2020"
         },
         {
          "release_year": "2020"
         },
         {
          "release_year": "2019"
         },
         {
          "release_year": "2020"
         },
         {
          "release_year": "2020"
         },
         {
          "release_year": "2019"
         },
         {
          "release_year": "2019"
         },
         {
          "release_year": "2020"
         },
         {
          "release_year": "2020"
         },
         {
          "release_year": "2019"
         },
         {
          "release_year": "2019"
         },
         {
          "release_year": "2019"
         },
         {
          "release_year": "2019"
         },
         {
          "release_year": "2019"
         },
         {
          "release_year": "2019"
         },
         {
          "release_year": "2019"
         },
         {
          "release_year": "2019"
         },
         {
          "release_year": "2019"
         },
         {
          "release_year": "2019"
         },
         {
          "release_year": "2020"
         },
         {
          "release_year": "2020"
         },
         {
          "release_year": "2020"
         },
         {
          "release_year": "2019"
         },
         {
          "release_year": "2019"
         },
         {
          "release_year": "2020"
         },
         {
          "release_year": "2020"
         },
         {
          "release_year": "2020"
         },
         {
          "release_year": "2019"
         },
         {
          "release_year": "2020"
         },
         {
          "release_year": "2020"
         },
         {
          "release_year": "2020"
         },
         {
          "release_year": "2019"
         },
         {
          "release_year": "2019"
         },
         {
          "release_year": "2020"
         },
         {
          "release_year": "2019"
         },
         {
          "release_year": "2019"
         },
         {
          "release_year": "2020"
         },
         {
          "release_year": "2019"
         },
         {
          "release_year": "2019"
         },
         {
          "release_year": "2019"
         },
         {
          "release_year": "2019"
         },
         {
          "release_year": "2019"
         },
         {
          "release_year": "2019"
         },
         {
          "release_year": "2019"
         },
         {
          "release_year": "2019"
         },
         {
          "release_year": "2020"
         },
         {
          "release_year": "2019"
         },
         {
          "release_year": "2019"
         },
         {
          "release_year": "2020"
         },
         {
          "release_year": "2019"
         },
         {
          "release_year": "2019"
         },
         {
          "release_year": "2020"
         },
         {
          "release_year": "2019"
         },
         {
          "release_year": "2019"
         },
         {
          "release_year": "2019"
         },
         {
          "release_year": "2019"
         },
         {
          "release_year": "2020"
         },
         {
          "release_year": "2019"
         },
         {
          "release_year": "2020"
         },
         {
          "release_year": "2020"
         },
         {
          "release_year": "2019"
         },
         {
          "release_year": "2020"
         },
         {
          "release_year": "2019"
         },
         {
          "release_year": "2020"
         },
         {
          "release_year": "2020"
         },
         {
          "release_year": "2019"
         },
         {
          "release_year": "2019"
         },
         {
          "release_year": "2020"
         },
         {
          "release_year": "2020"
         },
         {
          "release_year": "2019"
         },
         {
          "release_year": "2020"
         },
         {
          "release_year": "2020"
         },
         {
          "release_year": "2019"
         },
         {
          "release_year": "2019"
         },
         {
          "release_year": "2019"
         },
         {
          "release_year": "2020"
         },
         {
          "release_year": "2019"
         },
         {
          "release_year": "2019"
         },
         {
          "release_year": "2019"
         },
         {
          "release_year": "2020"
         },
         {
          "release_year": "2020"
         },
         {
          "release_year": "2020"
         },
         {
          "release_year": "2020"
         },
         {
          "release_year": "2020"
         },
         {
          "release_year": "2020"
         },
         {
          "release_year": "2020"
         },
         {
          "release_year": "2019"
         },
         {
          "release_year": "2019"
         },
         {
          "release_year": "2019"
         },
         {
          "release_year": "2020"
         },
         {
          "release_year": "2019"
         },
         {
          "release_year": "2019"
         },
         {
          "release_year": "2019"
         },
         {
          "release_year": "2019"
         },
         {
          "release_year": "2020"
         },
         {
          "release_year": "2019"
         },
         {
          "release_year": "2019"
         },
         {
          "release_year": "2020"
         },
         {
          "release_year": "2020"
         },
         {
          "release_year": "2019"
         },
         {
          "release_year": "2020"
         },
         {
          "release_year": "2020"
         },
         {
          "release_year": "2019"
         },
         {
          "release_year": "2020"
         },
         {
          "release_year": "2019"
         },
         {
          "release_year": "2019"
         },
         {
          "release_year": "2020"
         },
         {
          "release_year": "2019"
         },
         {
          "release_year": "2019"
         },
         {
          "release_year": "2020"
         },
         {
          "release_year": "2020"
         },
         {
          "release_year": "2019"
         },
         {
          "release_year": "2019"
         },
         {
          "release_year": "2020"
         },
         {
          "release_year": "2019"
         },
         {
          "release_year": "2019"
         },
         {
          "release_year": "2020"
         },
         {
          "release_year": "2020"
         },
         {
          "release_year": "2019"
         },
         {
          "release_year": "2020"
         },
         {
          "release_year": "2020"
         },
         {
          "release_year": "2020"
         },
         {
          "release_year": "2020"
         },
         {
          "release_year": "2020"
         },
         {
          "release_year": "2019"
         },
         {
          "release_year": "2019"
         },
         {
          "release_year": "2019"
         },
         {
          "release_year": "2020"
         },
         {
          "release_year": "2020"
         },
         {
          "release_year": "2020"
         },
         {
          "release_year": "2019"
         },
         {
          "release_year": "2019"
         },
         {
          "release_year": "2020"
         },
         {
          "release_year": "2020"
         },
         {
          "release_year": "2019"
         },
         {
          "release_year": "2019"
         },
         {
          "release_year": "2019"
         },
         {
          "release_year": "2020"
         },
         {
          "release_year": "2019"
         },
         {
          "release_year": "2019"
         },
         {
          "release_year": "2019"
         },
         {
          "release_year": "2020"
         },
         {
          "release_year": "2020"
         },
         {
          "release_year": "2020"
         },
         {
          "release_year": "2019"
         },
         {
          "release_year": "2019"
         },
         {
          "release_year": "2020"
         },
         {
          "release_year": "2019"
         },
         {
          "release_year": "2019"
         },
         {
          "release_year": "2020"
         },
         {
          "release_year": "2020"
         },
         {
          "release_year": "2019"
         },
         {
          "release_year": "2020"
         },
         {
          "release_year": "2020"
         },
         {
          "release_year": "2019"
         },
         {
          "release_year": "2019"
         },
         {
          "release_year": "2020"
         },
         {
          "release_year": "2020"
         },
         {
          "release_year": "2020"
         },
         {
          "release_year": "2020"
         },
         {
          "release_year": "2019"
         },
         {
          "release_year": "2019"
         },
         {
          "release_year": "2019"
         },
         {
          "release_year": "2020"
         },
         {
          "release_year": "2019"
         },
         {
          "release_year": "2020"
         },
         {
          "release_year": "2019"
         },
         {
          "release_year": "2020"
         },
         {
          "release_year": "2019"
         },
         {
          "release_year": "2020"
         },
         {
          "release_year": "2020"
         },
         {
          "release_year": "2020"
         },
         {
          "release_year": "2019"
         },
         {
          "release_year": "2020"
         },
         {
          "release_year": "2020"
         },
         {
          "release_year": "2020"
         },
         {
          "release_year": "2019"
         },
         {
          "release_year": "2019"
         },
         {
          "release_year": "2020"
         },
         {
          "release_year": "2020"
         },
         {
          "release_year": "2020"
         },
         {
          "release_year": "2019"
         },
         {
          "release_year": "2020"
         },
         {
          "release_year": "2020"
         },
         {
          "release_year": "2020"
         },
         {
          "release_year": "2019"
         },
         {
          "release_year": "2020"
         },
         {
          "release_year": "2020"
         },
         {
          "release_year": "2020"
         },
         {
          "release_year": "2020"
         },
         {
          "release_year": "2019"
         },
         {
          "release_year": "2020"
         },
         {
          "release_year": "2020"
         },
         {
          "release_year": "2020"
         },
         {
          "release_year": "2019"
         },
         {
          "release_year": "2020"
         },
         {
          "release_year": "2019"
         },
         {
          "release_year": "2019"
         },
         {
          "release_year": "2019"
         },
         {
          "release_year": "2019"
         },
         {
          "release_year": "2020"
         },
         {
          "release_year": "2019"
         },
         {
          "release_year": "2019"
         },
         {
          "release_year": "2019"
         },
         {
          "release_year": "2020"
         },
         {
          "release_year": "2020"
         },
         {
          "release_year": "2020"
         },
         {
          "release_year": "2020"
         },
         {
          "release_year": "2019"
         },
         {
          "release_year": "2020"
         },
         {
          "release_year": "2020"
         },
         {
          "release_year": "2019"
         },
         {
          "release_year": "2019"
         },
         {
          "release_year": "2020"
         },
         {
          "release_year": "2019"
         },
         {
          "release_year": "2020"
         },
         {
          "release_year": "2019"
         },
         {
          "release_year": "2019"
         },
         {
          "release_year": "2019"
         },
         {
          "release_year": "2020"
         },
         {
          "release_year": "2019"
         },
         {
          "release_year": "2019"
         },
         {
          "release_year": "2020"
         },
         {
          "release_year": "2020"
         },
         {
          "release_year": "2020"
         },
         {
          "release_year": "2019"
         },
         {
          "release_year": "2020"
         },
         {
          "release_year": "2019"
         },
         {
          "release_year": "2020"
         },
         {
          "release_year": "2019"
         },
         {
          "release_year": "2019"
         },
         {
          "release_year": "2020"
         },
         {
          "release_year": "2020"
         },
         {
          "release_year": "2019"
         },
         {
          "release_year": "2019"
         },
         {
          "release_year": "2020"
         },
         {
          "release_year": "2020"
         },
         {
          "release_year": "2019"
         },
         {
          "release_year": "2019"
         },
         {
          "release_year": "2020"
         },
         {
          "release_year": "2019"
         },
         {
          "release_year": "2019"
         },
         {
          "release_year": "2020"
         },
         {
          "release_year": "2020"
         },
         {
          "release_year": "2019"
         },
         {
          "release_year": "2020"
         },
         {
          "release_year": "2020"
         },
         {
          "release_year": "2020"
         },
         {
          "release_year": "2020"
         },
         {
          "release_year": "2020"
         },
         {
          "release_year": "2019"
         },
         {
          "release_year": "2020"
         },
         {
          "release_year": "2020"
         },
         {
          "release_year": "2019"
         },
         {
          "release_year": "2020"
         },
         {
          "release_year": "2020"
         },
         {
          "release_year": "2020"
         },
         {
          "release_year": "2019"
         },
         {
          "release_year": "2019"
         },
         {
          "release_year": "2019"
         },
         {
          "release_year": "2020"
         },
         {
          "release_year": "2020"
         },
         {
          "release_year": "2019"
         },
         {
          "release_year": "2020"
         },
         {
          "release_year": "2020"
         },
         {
          "release_year": "2019"
         },
         {
          "release_year": "2020"
         },
         {
          "release_year": "2019"
         },
         {
          "release_year": "2020"
         },
         {
          "release_year": "2020"
         },
         {
          "release_year": "2019"
         },
         {
          "release_year": "2020"
         },
         {
          "release_year": "2019"
         },
         {
          "release_year": "2019"
         },
         {
          "release_year": "2019"
         },
         {
          "release_year": "2020"
         },
         {
          "release_year": "2019"
         },
         {
          "release_year": "2019"
         },
         {
          "release_year": "2019"
         },
         {
          "release_year": "2020"
         },
         {
          "release_year": "2019"
         },
         {
          "release_year": "2020"
         },
         {
          "release_year": "2020"
         },
         {
          "release_year": "2020"
         },
         {
          "release_year": "2020"
         },
         {
          "release_year": "2020"
         },
         {
          "release_year": "2020"
         },
         {
          "release_year": "2019"
         },
         {
          "release_year": "2019"
         },
         {
          "release_year": "2019"
         },
         {
          "release_year": "2020"
         },
         {
          "release_year": "2020"
         },
         {
          "release_year": "2019"
         },
         {
          "release_year": "2020"
         },
         {
          "release_year": "2019"
         },
         {
          "release_year": "2019"
         },
         {
          "release_year": "2020"
         },
         {
          "release_year": "2019"
         },
         {
          "release_year": "2020"
         },
         {
          "release_year": "2019"
         },
         {
          "release_year": "2019"
         },
         {
          "release_year": "2019"
         },
         {
          "release_year": "2020"
         },
         {
          "release_year": "2020"
         },
         {
          "release_year": "2019"
         },
         {
          "release_year": "2020"
         },
         {
          "release_year": "2019"
         },
         {
          "release_year": "2019"
         },
         {
          "release_year": "2019"
         },
         {
          "release_year": "2020"
         },
         {
          "release_year": "2019"
         },
         {
          "release_year": "2019"
         },
         {
          "release_year": "2019"
         },
         {
          "release_year": "2020"
         },
         {
          "release_year": "2019"
         },
         {
          "release_year": "2019"
         },
         {
          "release_year": "2020"
         },
         {
          "release_year": "2020"
         },
         {
          "release_year": "2019"
         },
         {
          "release_year": "2020"
         },
         {
          "release_year": "2020"
         },
         {
          "release_year": "2019"
         },
         {
          "release_year": "2020"
         },
         {
          "release_year": "2020"
         },
         {
          "release_year": "2019"
         },
         {
          "release_year": "2020"
         },
         {
          "release_year": "2019"
         },
         {
          "release_year": "2020"
         },
         {
          "release_year": "2019"
         },
         {
          "release_year": "2019"
         },
         {
          "release_year": "2020"
         },
         {
          "release_year": "2020"
         },
         {
          "release_year": "2019"
         },
         {
          "release_year": "2019"
         },
         {
          "release_year": "2019"
         },
         {
          "release_year": "2019"
         },
         {
          "release_year": "2020"
         },
         {
          "release_year": "2020"
         },
         {
          "release_year": "2019"
         },
         {
          "release_year": "2019"
         },
         {
          "release_year": "2019"
         },
         {
          "release_year": "2020"
         },
         {
          "release_year": "2019"
         },
         {
          "release_year": "2019"
         },
         {
          "release_year": "2019"
         },
         {
          "release_year": "2020"
         },
         {
          "release_year": "2019"
         },
         {
          "release_year": "2020"
         },
         {
          "release_year": "2020"
         },
         {
          "release_year": "2019"
         },
         {
          "release_year": "2019"
         },
         {
          "release_year": "2019"
         },
         {
          "release_year": "2020"
         },
         {
          "release_year": "2020"
         },
         {
          "release_year": "2019"
         },
         {
          "release_year": "2019"
         },
         {
          "release_year": "2020"
         },
         {
          "release_year": "2019"
         },
         {
          "release_year": "2020"
         },
         {
          "release_year": "2020"
         },
         {
          "release_year": "2019"
         },
         {
          "release_year": "2019"
         },
         {
          "release_year": "2020"
         },
         {
          "release_year": "2019"
         },
         {
          "release_year": "2020"
         },
         {
          "release_year": "2020"
         },
         {
          "release_year": "2020"
         },
         {
          "release_year": "2020"
         },
         {
          "release_year": "2019"
         },
         {
          "release_year": "2020"
         },
         {
          "release_year": "2019"
         },
         {
          "release_year": "2020"
         },
         {
          "release_year": "2020"
         },
         {
          "release_year": "2019"
         },
         {
          "release_year": "2020"
         },
         {
          "release_year": "2020"
         },
         {
          "release_year": "2020"
         },
         {
          "release_year": "2020"
         },
         {
          "release_year": "2019"
         },
         {
          "release_year": "2020"
         },
         {
          "release_year": "2020"
         },
         {
          "release_year": "2019"
         },
         {
          "release_year": "2020"
         },
         {
          "release_year": "2020"
         },
         {
          "release_year": "2020"
         },
         {
          "release_year": "2020"
         },
         {
          "release_year": "2019"
         },
         {
          "release_year": "2019"
         },
         {
          "release_year": "2019"
         },
         {
          "release_year": "2019"
         },
         {
          "release_year": "2020"
         },
         {
          "release_year": "2019"
         },
         {
          "release_year": "2019"
         },
         {
          "release_year": "2019"
         },
         {
          "release_year": "2020"
         },
         {
          "release_year": "2019"
         },
         {
          "release_year": "2020"
         },
         {
          "release_year": "2020"
         },
         {
          "release_year": "2020"
         },
         {
          "release_year": "2019"
         },
         {
          "release_year": "2019"
         },
         {
          "release_year": "2019"
         },
         {
          "release_year": "2020"
         },
         {
          "release_year": "2019"
         },
         {
          "release_year": "2020"
         },
         {
          "release_year": "2019"
         },
         {
          "release_year": "2019"
         },
         {
          "release_year": "2020"
         },
         {
          "release_year": "2019"
         },
         {
          "release_year": "2019"
         },
         {
          "release_year": "2020"
         },
         {
          "release_year": "2019"
         },
         {
          "release_year": "2020"
         },
         {
          "release_year": "2020"
         },
         {
          "release_year": "2019"
         },
         {
          "release_year": "2020"
         },
         {
          "release_year": "2019"
         },
         {
          "release_year": "2019"
         },
         {
          "release_year": "2019"
         },
         {
          "release_year": "2019"
         },
         {
          "release_year": "2020"
         },
         {
          "release_year": "2020"
         },
         {
          "release_year": "2020"
         },
         {
          "release_year": "2019"
         },
         {
          "release_year": "2019"
         },
         {
          "release_year": "2020"
         },
         {
          "release_year": "2020"
         },
         {
          "release_year": "2020"
         },
         {
          "release_year": "2020"
         },
         {
          "release_year": "2020"
         },
         {
          "release_year": "2019"
         },
         {
          "release_year": "2020"
         },
         {
          "release_year": "2020"
         },
         {
          "release_year": "2020"
         },
         {
          "release_year": "2019"
         },
         {
          "release_year": "2019"
         },
         {
          "release_year": "2020"
         },
         {
          "release_year": "2020"
         },
         {
          "release_year": "2020"
         },
         {
          "release_year": "2019"
         },
         {
          "release_year": "2019"
         },
         {
          "release_year": "2019"
         },
         {
          "release_year": "2020"
         },
         {
          "release_year": "2020"
         },
         {
          "release_year": "2020"
         },
         {
          "release_year": "2019"
         },
         {
          "release_year": "2019"
         },
         {
          "release_year": "2019"
         },
         {
          "release_year": "2020"
         },
         {
          "release_year": "2020"
         },
         {
          "release_year": "2020"
         },
         {
          "release_year": "2020"
         },
         {
          "release_year": "2019"
         },
         {
          "release_year": "2020"
         },
         {
          "release_year": "2020"
         },
         {
          "release_year": "2019"
         },
         {
          "release_year": "2019"
         },
         {
          "release_year": "2019"
         },
         {
          "release_year": "2019"
         },
         {
          "release_year": "2019"
         },
         {
          "release_year": "2020"
         },
         {
          "release_year": "2020"
         },
         {
          "release_year": "2020"
         },
         {
          "release_year": "2019"
         },
         {
          "release_year": "2020"
         },
         {
          "release_year": "2019"
         },
         {
          "release_year": "2019"
         },
         {
          "release_year": "2019"
         },
         {
          "release_year": "2019"
         },
         {
          "release_year": "2020"
         },
         {
          "release_year": "2019"
         },
         {
          "release_year": "2019"
         },
         {
          "release_year": "2019"
         },
         {
          "release_year": "2020"
         },
         {
          "release_year": "2019"
         },
         {
          "release_year": "2020"
         },
         {
          "release_year": "2019"
         },
         {
          "release_year": "2019"
         },
         {
          "release_year": "2019"
         },
         {
          "release_year": "2019"
         },
         {
          "release_year": "2020"
         },
         {
          "release_year": "2019"
         },
         {
          "release_year": "2019"
         },
         {
          "release_year": "2020"
         },
         {
          "release_year": "2020"
         },
         {
          "release_year": "2020"
         },
         {
          "release_year": "2020"
         },
         {
          "release_year": "2019"
         },
         {
          "release_year": "2019"
         },
         {
          "release_year": "2019"
         },
         {
          "release_year": "2019"
         },
         {
          "release_year": "2019"
         },
         {
          "release_year": "2019"
         },
         {
          "release_year": "2020"
         },
         {
          "release_year": "2020"
         },
         {
          "release_year": "2020"
         },
         {
          "release_year": "2020"
         },
         {
          "release_year": "2019"
         },
         {
          "release_year": "2019"
         },
         {
          "release_year": "2020"
         },
         {
          "release_year": "2019"
         },
         {
          "release_year": "2019"
         },
         {
          "release_year": "2020"
         },
         {
          "release_year": "2019"
         },
         {
          "release_year": "2019"
         },
         {
          "release_year": "2020"
         },
         {
          "release_year": "2019"
         },
         {
          "release_year": "2020"
         },
         {
          "release_year": "2020"
         },
         {
          "release_year": "2020"
         },
         {
          "release_year": "2019"
         },
         {
          "release_year": "2020"
         },
         {
          "release_year": "2020"
         },
         {
          "release_year": "2020"
         },
         {
          "release_year": "2020"
         },
         {
          "release_year": "2019"
         },
         {
          "release_year": "2019"
         },
         {
          "release_year": "2019"
         },
         {
          "release_year": "2019"
         },
         {
          "release_year": "2019"
         },
         {
          "release_year": "2019"
         },
         {
          "release_year": "2020"
         },
         {
          "release_year": "2019"
         },
         {
          "release_year": "2019"
         },
         {
          "release_year": "2020"
         },
         {
          "release_year": "2020"
         },
         {
          "release_year": "2020"
         },
         {
          "release_year": "2020"
         },
         {
          "release_year": "2020"
         },
         {
          "release_year": "2020"
         },
         {
          "release_year": "2019"
         },
         {
          "release_year": "2020"
         },
         {
          "release_year": "2020"
         },
         {
          "release_year": "2019"
         },
         {
          "release_year": "2019"
         },
         {
          "release_year": "2020"
         },
         {
          "release_year": "2020"
         },
         {
          "release_year": "2019"
         },
         {
          "release_year": "2019"
         },
         {
          "release_year": "2019"
         },
         {
          "release_year": "2020"
         },
         {
          "release_year": "2020"
         },
         {
          "release_year": "2019"
         },
         {
          "release_year": "2020"
         },
         {
          "release_year": "2020"
         },
         {
          "release_year": "2020"
         },
         {
          "release_year": "2020"
         },
         {
          "release_year": "2019"
         },
         {
          "release_year": "2020"
         },
         {
          "release_year": "2020"
         },
         {
          "release_year": "2019"
         },
         {
          "release_year": "2019"
         },
         {
          "release_year": "2020"
         },
         {
          "release_year": "2019"
         },
         {
          "release_year": "2020"
         },
         {
          "release_year": "2020"
         },
         {
          "release_year": "2020"
         },
         {
          "release_year": "2019"
         },
         {
          "release_year": "2020"
         },
         {
          "release_year": "2020"
         },
         {
          "release_year": "2020"
         },
         {
          "release_year": "2019"
         },
         {
          "release_year": "2019"
         },
         {
          "release_year": "2019"
         },
         {
          "release_year": "2020"
         },
         {
          "release_year": "2019"
         },
         {
          "release_year": "2020"
         },
         {
          "release_year": "2019"
         },
         {
          "release_year": "2019"
         },
         {
          "release_year": "2019"
         },
         {
          "release_year": "2019"
         },
         {
          "release_year": "2020"
         },
         {
          "release_year": "2020"
         },
         {
          "release_year": "2020"
         },
         {
          "release_year": "2019"
         },
         {
          "release_year": "2019"
         },
         {
          "release_year": "2020"
         },
         {
          "release_year": "2020"
         },
         {
          "release_year": "2019"
         },
         {
          "release_year": "2019"
         },
         {
          "release_year": "2020"
         },
         {
          "release_year": "2020"
         },
         {
          "release_year": "2020"
         },
         {
          "release_year": "2020"
         },
         {
          "release_year": "2019"
         },
         {
          "release_year": "2019"
         },
         {
          "release_year": "2020"
         },
         {
          "release_year": "2019"
         },
         {
          "release_year": "2020"
         },
         {
          "release_year": "2019"
         },
         {
          "release_year": "2020"
         },
         {
          "release_year": "2020"
         },
         {
          "release_year": "2020"
         },
         {
          "release_year": "2019"
         },
         {
          "release_year": "2019"
         },
         {
          "release_year": "2019"
         },
         {
          "release_year": "2019"
         },
         {
          "release_year": "2020"
         },
         {
          "release_year": "2019"
         },
         {
          "release_year": "2019"
         },
         {
          "release_year": "2019"
         },
         {
          "release_year": "2019"
         },
         {
          "release_year": "2020"
         },
         {
          "release_year": "2019"
         },
         {
          "release_year": "2020"
         },
         {
          "release_year": "2019"
         },
         {
          "release_year": "2019"
         },
         {
          "release_year": "2019"
         },
         {
          "release_year": "2020"
         },
         {
          "release_year": "2020"
         },
         {
          "release_year": "2020"
         },
         {
          "release_year": "2019"
         },
         {
          "release_year": "2020"
         },
         {
          "release_year": "2020"
         },
         {
          "release_year": "2019"
         },
         {
          "release_year": "2020"
         },
         {
          "release_year": "2019"
         },
         {
          "release_year": "2020"
         },
         {
          "release_year": "2019"
         },
         {
          "release_year": "2020"
         },
         {
          "release_year": "2020"
         },
         {
          "release_year": "2019"
         },
         {
          "release_year": "2020"
         },
         {
          "release_year": "2020"
         },
         {
          "release_year": "2020"
         },
         {
          "release_year": "2019"
         },
         {
          "release_year": "2019"
         },
         {
          "release_year": "2019"
         },
         {
          "release_year": "2020"
         },
         {
          "release_year": "2020"
         },
         {
          "release_year": "2019"
         },
         {
          "release_year": "2019"
         },
         {
          "release_year": "2019"
         },
         {
          "release_year": "2020"
         },
         {
          "release_year": "2020"
         },
         {
          "release_year": "2020"
         },
         {
          "release_year": "2020"
         },
         {
          "release_year": "2020"
         },
         {
          "release_year": "2019"
         },
         {
          "release_year": "2019"
         },
         {
          "release_year": "2019"
         },
         {
          "release_year": "2019"
         },
         {
          "release_year": "2020"
         },
         {
          "release_year": "2019"
         },
         {
          "release_year": "2020"
         },
         {
          "release_year": "2019"
         },
         {
          "release_year": "2020"
         },
         {
          "release_year": "2020"
         },
         {
          "release_year": "2019"
         },
         {
          "release_year": "2020"
         },
         {
          "release_year": "2019"
         },
         {
          "release_year": "2019"
         },
         {
          "release_year": "2020"
         },
         {
          "release_year": "2020"
         },
         {
          "release_year": "2019"
         },
         {
          "release_year": "2019"
         },
         {
          "release_year": "2020"
         },
         {
          "release_year": "2020"
         },
         {
          "release_year": "2020"
         },
         {
          "release_year": "2020"
         },
         {
          "release_year": "2019"
         },
         {
          "release_year": "2019"
         },
         {
          "release_year": "2020"
         },
         {
          "release_year": "2020"
         },
         {
          "release_year": "2020"
         },
         {
          "release_year": "2019"
         },
         {
          "release_year": "2020"
         },
         {
          "release_year": "2019"
         },
         {
          "release_year": "2020"
         },
         {
          "release_year": "2019"
         },
         {
          "release_year": "2019"
         },
         {
          "release_year": "2019"
         },
         {
          "release_year": "2019"
         },
         {
          "release_year": "2019"
         },
         {
          "release_year": "2019"
         },
         {
          "release_year": "2020"
         },
         {
          "release_year": "2020"
         },
         {
          "release_year": "2020"
         },
         {
          "release_year": "2020"
         },
         {
          "release_year": "2020"
         },
         {
          "release_year": "2019"
         },
         {
          "release_year": "2020"
         },
         {
          "release_year": "2020"
         },
         {
          "release_year": "2020"
         },
         {
          "release_year": "2019"
         },
         {
          "release_year": "2020"
         },
         {
          "release_year": "2019"
         },
         {
          "release_year": "2020"
         },
         {
          "release_year": "2019"
         },
         {
          "release_year": "2020"
         },
         {
          "release_year": "2020"
         },
         {
          "release_year": "2020"
         },
         {
          "release_year": "2019"
         },
         {
          "release_year": "2019"
         },
         {
          "release_year": "2019"
         },
         {
          "release_year": "2019"
         },
         {
          "release_year": "2019"
         },
         {
          "release_year": "2019"
         },
         {
          "release_year": "2019"
         },
         {
          "release_year": "2019"
         },
         {
          "release_year": "2019"
         },
         {
          "release_year": "2020"
         },
         {
          "release_year": "2019"
         },
         {
          "release_year": "2020"
         },
         {
          "release_year": "2020"
         },
         {
          "release_year": "2020"
         },
         {
          "release_year": "2020"
         },
         {
          "release_year": "2019"
         },
         {
          "release_year": "2019"
         },
         {
          "release_year": "2020"
         },
         {
          "release_year": "2019"
         },
         {
          "release_year": "2020"
         },
         {
          "release_year": "2019"
         },
         {
          "release_year": "2019"
         },
         {
          "release_year": "2019"
         },
         {
          "release_year": "2020"
         },
         {
          "release_year": "2020"
         },
         {
          "release_year": "2019"
         },
         {
          "release_year": "2020"
         },
         {
          "release_year": "2020"
         },
         {
          "release_year": "2020"
         },
         {
          "release_year": "2020"
         },
         {
          "release_year": "2019"
         },
         {
          "release_year": "2019"
         },
         {
          "release_year": "2019"
         },
         {
          "release_year": "2019"
         },
         {
          "release_year": "2019"
         },
         {
          "release_year": "2019"
         },
         {
          "release_year": "2019"
         },
         {
          "release_year": "2020"
         },
         {
          "release_year": "2020"
         },
         {
          "release_year": "2019"
         },
         {
          "release_year": "2019"
         },
         {
          "release_year": "2019"
         },
         {
          "release_year": "2020"
         },
         {
          "release_year": "2019"
         },
         {
          "release_year": "2020"
         },
         {
          "release_year": "2020"
         },
         {
          "release_year": "2020"
         },
         {
          "release_year": "2019"
         },
         {
          "release_year": "2020"
         },
         {
          "release_year": "2019"
         },
         {
          "release_year": "2020"
         },
         {
          "release_year": "2019"
         },
         {
          "release_year": "2019"
         },
         {
          "release_year": "2020"
         },
         {
          "release_year": "2019"
         },
         {
          "release_year": "2019"
         },
         {
          "release_year": "2020"
         },
         {
          "release_year": "2019"
         },
         {
          "release_year": "2020"
         },
         {
          "release_year": "2020"
         },
         {
          "release_year": "2020"
         },
         {
          "release_year": "2019"
         },
         {
          "release_year": "2019"
         },
         {
          "release_year": "2019"
         },
         {
          "release_year": "2020"
         },
         {
          "release_year": "2020"
         },
         {
          "release_year": "2019"
         },
         {
          "release_year": "2019"
         },
         {
          "release_year": "2019"
         },
         {
          "release_year": "2020"
         },
         {
          "release_year": "2020"
         },
         {
          "release_year": "2019"
         },
         {
          "release_year": "2019"
         },
         {
          "release_year": "2019"
         },
         {
          "release_year": "2020"
         },
         {
          "release_year": "2020"
         },
         {
          "release_year": "2020"
         },
         {
          "release_year": "2020"
         },
         {
          "release_year": "2020"
         },
         {
          "release_year": "2019"
         },
         {
          "release_year": "2020"
         },
         {
          "release_year": "2020"
         },
         {
          "release_year": "2019"
         },
         {
          "release_year": "2019"
         },
         {
          "release_year": "2020"
         },
         {
          "release_year": "2020"
         },
         {
          "release_year": "2019"
         },
         {
          "release_year": "2020"
         },
         {
          "release_year": "2020"
         },
         {
          "release_year": "2019"
         },
         {
          "release_year": "2019"
         },
         {
          "release_year": "2020"
         },
         {
          "release_year": "2020"
         },
         {
          "release_year": "2019"
         },
         {
          "release_year": "2019"
         },
         {
          "release_year": "2019"
         },
         {
          "release_year": "2020"
         },
         {
          "release_year": "2019"
         },
         {
          "release_year": "2019"
         },
         {
          "release_year": "2020"
         },
         {
          "release_year": "2019"
         },
         {
          "release_year": "2019"
         },
         {
          "release_year": "2020"
         },
         {
          "release_year": "2020"
         },
         {
          "release_year": "2020"
         },
         {
          "release_year": "2020"
         },
         {
          "release_year": "2019"
         },
         {
          "release_year": "2020"
         },
         {
          "release_year": "2019"
         },
         {
          "release_year": "2020"
         },
         {
          "release_year": "2020"
         },
         {
          "release_year": "2019"
         },
         {
          "release_year": "2020"
         },
         {
          "release_year": "2020"
         },
         {
          "release_year": "2020"
         },
         {
          "release_year": "2020"
         },
         {
          "release_year": "2020"
         },
         {
          "release_year": "2020"
         },
         {
          "release_year": "2019"
         },
         {
          "release_year": "2020"
         },
         {
          "release_year": "2020"
         },
         {
          "release_year": "2020"
         },
         {
          "release_year": "2019"
         },
         {
          "release_year": "2020"
         },
         {
          "release_year": "2019"
         },
         {
          "release_year": "2020"
         },
         {
          "release_year": "2019"
         },
         {
          "release_year": "2019"
         },
         {
          "release_year": "2020"
         },
         {
          "release_year": "2019"
         },
         {
          "release_year": "2019"
         },
         {
          "release_year": "2019"
         },
         {
          "release_year": "2020"
         },
         {
          "release_year": "2020"
         },
         {
          "release_year": "2020"
         },
         {
          "release_year": "2020"
         },
         {
          "release_year": "2019"
         },
         {
          "release_year": "2020"
         },
         {
          "release_year": "2020"
         },
         {
          "release_year": "2020"
         },
         {
          "release_year": "2020"
         },
         {
          "release_year": "2020"
         },
         {
          "release_year": "2020"
         },
         {
          "release_year": "2020"
         },
         {
          "release_year": "2019"
         },
         {
          "release_year": "2019"
         },
         {
          "release_year": "2019"
         },
         {
          "release_year": "2020"
         },
         {
          "release_year": "2020"
         },
         {
          "release_year": "2020"
         },
         {
          "release_year": "2019"
         },
         {
          "release_year": "2019"
         },
         {
          "release_year": "2019"
         },
         {
          "release_year": "2019"
         },
         {
          "release_year": "2020"
         },
         {
          "release_year": "2019"
         },
         {
          "release_year": "2019"
         },
         {
          "release_year": "2020"
         },
         {
          "release_year": "2020"
         },
         {
          "release_year": "2020"
         },
         {
          "release_year": "2019"
         },
         {
          "release_year": "2019"
         },
         {
          "release_year": "2020"
         },
         {
          "release_year": "2020"
         },
         {
          "release_year": "2020"
         },
         {
          "release_year": "2020"
         },
         {
          "release_year": "2020"
         },
         {
          "release_year": "2020"
         },
         {
          "release_year": "2020"
         },
         {
          "release_year": "2019"
         },
         {
          "release_year": "2019"
         },
         {
          "release_year": "2019"
         },
         {
          "release_year": "2019"
         },
         {
          "release_year": "2019"
         },
         {
          "release_year": "2019"
         },
         {
          "release_year": "2020"
         },
         {
          "release_year": "2019"
         },
         {
          "release_year": "2020"
         },
         {
          "release_year": "2019"
         },
         {
          "release_year": "2020"
         },
         {
          "release_year": "2019"
         },
         {
          "release_year": "2020"
         },
         {
          "release_year": "2019"
         },
         {
          "release_year": "2019"
         },
         {
          "release_year": "2019"
         },
         {
          "release_year": "2019"
         },
         {
          "release_year": "2020"
         },
         {
          "release_year": "2019"
         },
         {
          "release_year": "2020"
         },
         {
          "release_year": "2019"
         },
         {
          "release_year": "2019"
         },
         {
          "release_year": "2019"
         },
         {
          "release_year": "2019"
         },
         {
          "release_year": "2019"
         },
         {
          "release_year": "2019"
         },
         {
          "release_year": "2019"
         },
         {
          "release_year": "2019"
         },
         {
          "release_year": "2019"
         },
         {
          "release_year": "2019"
         },
         {
          "release_year": "2019"
         },
         {
          "release_year": "2020"
         },
         {
          "release_year": "2019"
         },
         {
          "release_year": "2019"
         },
         {
          "release_year": "2019"
         },
         {
          "release_year": "2020"
         },
         {
          "release_year": "2019"
         },
         {
          "release_year": "2019"
         },
         {
          "release_year": "2020"
         },
         {
          "release_year": "2019"
         },
         {
          "release_year": "2020"
         },
         {
          "release_year": "2019"
         },
         {
          "release_year": "2020"
         },
         {
          "release_year": "2020"
         },
         {
          "release_year": "2019"
         },
         {
          "release_year": "2019"
         },
         {
          "release_year": "2019"
         },
         {
          "release_year": "2019"
         },
         {
          "release_year": "2019"
         },
         {
          "release_year": "2019"
         },
         {
          "release_year": "2020"
         },
         {
          "release_year": "2019"
         },
         {
          "release_year": "2019"
         },
         {
          "release_year": "2019"
         },
         {
          "release_year": "2020"
         },
         {
          "release_year": "2019"
         },
         {
          "release_year": "2019"
         },
         {
          "release_year": "2019"
         },
         {
          "release_year": "2019"
         },
         {
          "release_year": "2019"
         },
         {
          "release_year": "2019"
         },
         {
          "release_year": "2020"
         },
         {
          "release_year": "2020"
         },
         {
          "release_year": "2019"
         },
         {
          "release_year": "2020"
         },
         {
          "release_year": "2019"
         },
         {
          "release_year": "2020"
         },
         {
          "release_year": "2019"
         },
         {
          "release_year": "2019"
         },
         {
          "release_year": "2019"
         },
         {
          "release_year": "2019"
         },
         {
          "release_year": "2020"
         },
         {
          "release_year": "2019"
         },
         {
          "release_year": "2019"
         },
         {
          "release_year": "2019"
         },
         {
          "release_year": "2020"
         },
         {
          "release_year": "2019"
         },
         {
          "release_year": "2019"
         },
         {
          "release_year": "2020"
         },
         {
          "release_year": "2019"
         },
         {
          "release_year": "2020"
         },
         {
          "release_year": "2019"
         },
         {
          "release_year": "2020"
         },
         {
          "release_year": "2019"
         },
         {
          "release_year": "2019"
         },
         {
          "release_year": "2020"
         },
         {
          "release_year": "2019"
         },
         {
          "release_year": "2020"
         },
         {
          "release_year": "2020"
         },
         {
          "release_year": "2020"
         },
         {
          "release_year": "2019"
         },
         {
          "release_year": "2019"
         },
         {
          "release_year": "2020"
         },
         {
          "release_year": "2019"
         },
         {
          "release_year": "2019"
         },
         {
          "release_year": "2019"
         },
         {
          "release_year": "2020"
         },
         {
          "release_year": "2020"
         },
         {
          "release_year": "2020"
         },
         {
          "release_year": "2020"
         },
         {
          "release_year": "2019"
         },
         {
          "release_year": "2019"
         },
         {
          "release_year": "2020"
         },
         {
          "release_year": "2020"
         },
         {
          "release_year": "2019"
         },
         {
          "release_year": "2020"
         },
         {
          "release_year": "2019"
         },
         {
          "release_year": "2019"
         },
         {
          "release_year": "2019"
         },
         {
          "release_year": "2020"
         },
         {
          "release_year": "2020"
         },
         {
          "release_year": "2020"
         },
         {
          "release_year": "2019"
         },
         {
          "release_year": "2019"
         },
         {
          "release_year": "2020"
         },
         {
          "release_year": "2020"
         },
         {
          "release_year": "2019"
         },
         {
          "release_year": "2019"
         },
         {
          "release_year": "2020"
         },
         {
          "release_year": "2019"
         },
         {
          "release_year": "2019"
         },
         {
          "release_year": "2019"
         },
         {
          "release_year": "2020"
         },
         {
          "release_year": "2019"
         },
         {
          "release_year": "2019"
         },
         {
          "release_year": "2020"
         },
         {
          "release_year": "2020"
         },
         {
          "release_year": "2019"
         },
         {
          "release_year": "2020"
         },
         {
          "release_year": "2019"
         },
         {
          "release_year": "2020"
         },
         {
          "release_year": "2020"
         },
         {
          "release_year": "2020"
         },
         {
          "release_year": "2020"
         },
         {
          "release_year": "2019"
         },
         {
          "release_year": "2019"
         },
         {
          "release_year": "2020"
         },
         {
          "release_year": "2020"
         },
         {
          "release_year": "2020"
         },
         {
          "release_year": "2020"
         },
         {
          "release_year": "2020"
         },
         {
          "release_year": "2019"
         },
         {
          "release_year": "2019"
         },
         {
          "release_year": "2020"
         },
         {
          "release_year": "2019"
         },
         {
          "release_year": "2020"
         },
         {
          "release_year": "2019"
         },
         {
          "release_year": "2019"
         },
         {
          "release_year": "2020"
         },
         {
          "release_year": "2020"
         },
         {
          "release_year": "2019"
         },
         {
          "release_year": "2019"
         },
         {
          "release_year": "2020"
         },
         {
          "release_year": "2019"
         },
         {
          "release_year": "2020"
         },
         {
          "release_year": "2019"
         },
         {
          "release_year": "2019"
         },
         {
          "release_year": "2019"
         },
         {
          "release_year": "2020"
         },
         {
          "release_year": "2019"
         },
         {
          "release_year": "2019"
         },
         {
          "release_year": "2019"
         },
         {
          "release_year": "2020"
         },
         {
          "release_year": "2020"
         },
         {
          "release_year": "2019"
         },
         {
          "release_year": "2020"
         },
         {
          "release_year": "2019"
         },
         {
          "release_year": "2019"
         },
         {
          "release_year": "2019"
         },
         {
          "release_year": "2020"
         },
         {
          "release_year": "2020"
         },
         {
          "release_year": "2019"
         },
         {
          "release_year": "2019"
         },
         {
          "release_year": "2020"
         },
         {
          "release_year": "2019"
         },
         {
          "release_year": "2019"
         },
         {
          "release_year": "2019"
         },
         {
          "release_year": "2020"
         },
         {
          "release_year": "2019"
         },
         {
          "release_year": "2020"
         },
         {
          "release_year": "2019"
         },
         {
          "release_year": "2019"
         },
         {
          "release_year": "2019"
         },
         {
          "release_year": "2019"
         },
         {
          "release_year": "2020"
         },
         {
          "release_year": "2019"
         },
         {
          "release_year": "2019"
         },
         {
          "release_year": "2019"
         },
         {
          "release_year": "2019"
         },
         {
          "release_year": "2020"
         },
         {
          "release_year": "2020"
         },
         {
          "release_year": "2019"
         },
         {
          "release_year": "2019"
         },
         {
          "release_year": "2019"
         },
         {
          "release_year": "2020"
         },
         {
          "release_year": "2019"
         },
         {
          "release_year": "2019"
         },
         {
          "release_year": "2019"
         },
         {
          "release_year": "2020"
         },
         {
          "release_year": "2022"
         },
         {
          "release_year": "2022"
         },
         {
          "release_year": "2022"
         },
         {
          "release_year": "2021"
         },
         {
          "release_year": "2022"
         },
         {
          "release_year": "2022"
         },
         {
          "release_year": "2022"
         },
         {
          "release_year": "2022"
         },
         {
          "release_year": "2022"
         },
         {
          "release_year": "2022"
         },
         {
          "release_year": "2022"
         },
         {
          "release_year": "2022"
         },
         {
          "release_year": "2022"
         },
         {
          "release_year": "2022"
         },
         {
          "release_year": "2022"
         },
         {
          "release_year": "2022"
         },
         {
          "release_year": "2022"
         },
         {
          "release_year": "2022"
         },
         {
          "release_year": "2022"
         },
         {
          "release_year": "2022"
         },
         {
          "release_year": "2021"
         },
         {
          "release_year": "2022"
         },
         {
          "release_year": "2022"
         },
         {
          "release_year": "2022"
         },
         {
          "release_year": "2022"
         },
         {
          "release_year": "2022"
         },
         {
          "release_year": "2021"
         },
         {
          "release_year": "2021"
         },
         {
          "release_year": "2022"
         },
         {
          "release_year": "2022"
         },
         {
          "release_year": "2022"
         },
         {
          "release_year": "2022"
         },
         {
          "release_year": "2022"
         },
         {
          "release_year": "2021"
         },
         {
          "release_year": "2021"
         },
         {
          "release_year": "2021"
         },
         {
          "release_year": "2022"
         },
         {
          "release_year": "2022"
         },
         {
          "release_year": "2022"
         },
         {
          "release_year": "2021"
         },
         {
          "release_year": "2022"
         },
         {
          "release_year": "2022"
         },
         {
          "release_year": "2022"
         },
         {
          "release_year": "2022"
         },
         {
          "release_year": "2022"
         },
         {
          "release_year": "2021"
         },
         {
          "release_year": "2022"
         },
         {
          "release_year": "2022"
         },
         {
          "release_year": "2022"
         },
         {
          "release_year": "2022"
         },
         {
          "release_year": "2022"
         },
         {
          "release_year": "2021"
         },
         {
          "release_year": "2022"
         },
         {
          "release_year": "2021"
         },
         {
          "release_year": "2022"
         },
         {
          "release_year": "2021"
         },
         {
          "release_year": "2022"
         },
         {
          "release_year": "2022"
         },
         {
          "release_year": "2021"
         },
         {
          "release_year": "2022"
         },
         {
          "release_year": "2022"
         },
         {
          "release_year": "2022"
         },
         {
          "release_year": "2021"
         },
         {
          "release_year": "2022"
         },
         {
          "release_year": "2022"
         },
         {
          "release_year": "2022"
         },
         {
          "release_year": "2021"
         },
         {
          "release_year": "2022"
         },
         {
          "release_year": "2022"
         },
         {
          "release_year": "2022"
         },
         {
          "release_year": "2022"
         },
         {
          "release_year": "2021"
         },
         {
          "release_year": "2021"
         },
         {
          "release_year": "2021"
         },
         {
          "release_year": "2022"
         },
         {
          "release_year": "2022"
         },
         {
          "release_year": "2022"
         },
         {
          "release_year": "2021"
         },
         {
          "release_year": "2021"
         },
         {
          "release_year": "2022"
         },
         {
          "release_year": "2021"
         },
         {
          "release_year": "2022"
         },
         {
          "release_year": "2022"
         },
         {
          "release_year": "2022"
         },
         {
          "release_year": "2021"
         },
         {
          "release_year": "2022"
         },
         {
          "release_year": "2022"
         },
         {
          "release_year": "2021"
         },
         {
          "release_year": "2022"
         },
         {
          "release_year": "2022"
         },
         {
          "release_year": "2022"
         },
         {
          "release_year": "2022"
         },
         {
          "release_year": "2021"
         },
         {
          "release_year": "2021"
         },
         {
          "release_year": "2021"
         },
         {
          "release_year": "2022"
         },
         {
          "release_year": "2021"
         },
         {
          "release_year": "2022"
         },
         {
          "release_year": "2022"
         },
         {
          "release_year": "2022"
         },
         {
          "release_year": "2022"
         },
         {
          "release_year": "2021"
         },
         {
          "release_year": "2021"
         },
         {
          "release_year": "2022"
         },
         {
          "release_year": "2022"
         },
         {
          "release_year": "2022"
         },
         {
          "release_year": "2021"
         },
         {
          "release_year": "2022"
         },
         {
          "release_year": "2021"
         },
         {
          "release_year": "2022"
         },
         {
          "release_year": "2021"
         },
         {
          "release_year": "2022"
         },
         {
          "release_year": "2022"
         },
         {
          "release_year": "2022"
         },
         {
          "release_year": "2021"
         },
         {
          "release_year": "2022"
         },
         {
          "release_year": "2022"
         },
         {
          "release_year": "2022"
         },
         {
          "release_year": "2021"
         },
         {
          "release_year": "2022"
         },
         {
          "release_year": "2022"
         },
         {
          "release_year": "2022"
         },
         {
          "release_year": "2022"
         },
         {
          "release_year": "2021"
         },
         {
          "release_year": "2021"
         },
         {
          "release_year": "2022"
         },
         {
          "release_year": "2021"
         },
         {
          "release_year": "2021"
         },
         {
          "release_year": "2021"
         },
         {
          "release_year": "2022"
         },
         {
          "release_year": "2021"
         },
         {
          "release_year": "2022"
         },
         {
          "release_year": "2021"
         },
         {
          "release_year": "2022"
         },
         {
          "release_year": "2021"
         },
         {
          "release_year": "2021"
         },
         {
          "release_year": "2021"
         },
         {
          "release_year": "2021"
         },
         {
          "release_year": "2022"
         },
         {
          "release_year": "2021"
         },
         {
          "release_year": "2021"
         },
         {
          "release_year": "2021"
         },
         {
          "release_year": "2021"
         },
         {
          "release_year": "2022"
         },
         {
          "release_year": "2022"
         },
         {
          "release_year": "2022"
         },
         {
          "release_year": "2022"
         },
         {
          "release_year": "2021"
         },
         {
          "release_year": "2022"
         },
         {
          "release_year": "2022"
         },
         {
          "release_year": "2022"
         },
         {
          "release_year": "2021"
         },
         {
          "release_year": "2022"
         },
         {
          "release_year": "2022"
         },
         {
          "release_year": "2021"
         },
         {
          "release_year": "2022"
         },
         {
          "release_year": "2021"
         },
         {
          "release_year": "2021"
         },
         {
          "release_year": "2021"
         },
         {
          "release_year": "2021"
         },
         {
          "release_year": "2022"
         },
         {
          "release_year": "2022"
         },
         {
          "release_year": "2021"
         },
         {
          "release_year": "2021"
         },
         {
          "release_year": "2021"
         },
         {
          "release_year": "2021"
         },
         {
          "release_year": "2022"
         },
         {
          "release_year": "2022"
         },
         {
          "release_year": "2021"
         },
         {
          "release_year": "2022"
         },
         {
          "release_year": "2021"
         },
         {
          "release_year": "2022"
         },
         {
          "release_year": "2022"
         },
         {
          "release_year": "2021"
         },
         {
          "release_year": "2021"
         },
         {
          "release_year": "2021"
         },
         {
          "release_year": "2021"
         },
         {
          "release_year": "2021"
         },
         {
          "release_year": "2021"
         },
         {
          "release_year": "2022"
         },
         {
          "release_year": "2021"
         },
         {
          "release_year": "2021"
         },
         {
          "release_year": "2022"
         },
         {
          "release_year": "2022"
         },
         {
          "release_year": "2022"
         },
         {
          "release_year": "2021"
         },
         {
          "release_year": "2022"
         },
         {
          "release_year": "2021"
         },
         {
          "release_year": "2021"
         },
         {
          "release_year": "2021"
         },
         {
          "release_year": "2021"
         },
         {
          "release_year": "2021"
         },
         {
          "release_year": "2021"
         },
         {
          "release_year": "2021"
         },
         {
          "release_year": "2021"
         },
         {
          "release_year": "2022"
         },
         {
          "release_year": "2022"
         },
         {
          "release_year": "2021"
         },
         {
          "release_year": "2022"
         },
         {
          "release_year": "2021"
         },
         {
          "release_year": "2022"
         },
         {
          "release_year": "2022"
         },
         {
          "release_year": "2022"
         },
         {
          "release_year": "2021"
         },
         {
          "release_year": "2022"
         },
         {
          "release_year": "2021"
         },
         {
          "release_year": "2022"
         },
         {
          "release_year": "2022"
         },
         {
          "release_year": "2021"
         },
         {
          "release_year": "2021"
         },
         {
          "release_year": "2021"
         },
         {
          "release_year": "2021"
         },
         {
          "release_year": "2022"
         },
         {
          "release_year": "2022"
         },
         {
          "release_year": "2022"
         },
         {
          "release_year": "2021"
         },
         {
          "release_year": "2021"
         },
         {
          "release_year": "2021"
         },
         {
          "release_year": "2022"
         },
         {
          "release_year": "2021"
         },
         {
          "release_year": "2021"
         },
         {
          "release_year": "2021"
         },
         {
          "release_year": "2021"
         },
         {
          "release_year": "2021"
         },
         {
          "release_year": "2022"
         },
         {
          "release_year": "2022"
         },
         {
          "release_year": "2021"
         },
         {
          "release_year": "2022"
         },
         {
          "release_year": "2021"
         },
         {
          "release_year": "2022"
         },
         {
          "release_year": "2022"
         },
         {
          "release_year": "2022"
         },
         {
          "release_year": "2022"
         },
         {
          "release_year": "2022"
         },
         {
          "release_year": "2022"
         },
         {
          "release_year": "2021"
         },
         {
          "release_year": "2022"
         },
         {
          "release_year": "2021"
         },
         {
          "release_year": "2021"
         },
         {
          "release_year": "2021"
         },
         {
          "release_year": "2022"
         },
         {
          "release_year": "2022"
         },
         {
          "release_year": "2022"
         },
         {
          "release_year": "2022"
         },
         {
          "release_year": "2022"
         },
         {
          "release_year": "2021"
         },
         {
          "release_year": "2021"
         },
         {
          "release_year": "2022"
         },
         {
          "release_year": "2022"
         },
         {
          "release_year": "2021"
         },
         {
          "release_year": "2022"
         },
         {
          "release_year": "2021"
         },
         {
          "release_year": "2022"
         },
         {
          "release_year": "2021"
         },
         {
          "release_year": "2022"
         },
         {
          "release_year": "2021"
         },
         {
          "release_year": "2022"
         },
         {
          "release_year": "2021"
         },
         {
          "release_year": "2021"
         },
         {
          "release_year": "2022"
         },
         {
          "release_year": "2021"
         },
         {
          "release_year": "2021"
         },
         {
          "release_year": "2022"
         },
         {
          "release_year": "2021"
         },
         {
          "release_year": "2021"
         },
         {
          "release_year": "2022"
         },
         {
          "release_year": "2022"
         },
         {
          "release_year": "2022"
         },
         {
          "release_year": "2021"
         },
         {
          "release_year": "2021"
         },
         {
          "release_year": "2021"
         },
         {
          "release_year": "2021"
         },
         {
          "release_year": "2021"
         },
         {
          "release_year": "2022"
         },
         {
          "release_year": "2022"
         },
         {
          "release_year": "2022"
         },
         {
          "release_year": "2021"
         },
         {
          "release_year": "2022"
         },
         {
          "release_year": "2021"
         },
         {
          "release_year": "2021"
         },
         {
          "release_year": "2021"
         },
         {
          "release_year": "2021"
         },
         {
          "release_year": "2021"
         },
         {
          "release_year": "2022"
         },
         {
          "release_year": "2021"
         },
         {
          "release_year": "2022"
         },
         {
          "release_year": "2022"
         },
         {
          "release_year": "2021"
         },
         {
          "release_year": "2021"
         },
         {
          "release_year": "2021"
         },
         {
          "release_year": "2022"
         },
         {
          "release_year": "2021"
         },
         {
          "release_year": "2021"
         },
         {
          "release_year": "2022"
         },
         {
          "release_year": "2022"
         },
         {
          "release_year": "2021"
         },
         {
          "release_year": "2022"
         },
         {
          "release_year": "2022"
         },
         {
          "release_year": "2021"
         },
         {
          "release_year": "2022"
         },
         {
          "release_year": "2021"
         },
         {
          "release_year": "2021"
         },
         {
          "release_year": "2021"
         },
         {
          "release_year": "2022"
         },
         {
          "release_year": "2021"
         },
         {
          "release_year": "2022"
         },
         {
          "release_year": "2021"
         },
         {
          "release_year": "2022"
         },
         {
          "release_year": "2022"
         },
         {
          "release_year": "2021"
         },
         {
          "release_year": "2021"
         },
         {
          "release_year": "2021"
         },
         {
          "release_year": "2021"
         },
         {
          "release_year": "2021"
         },
         {
          "release_year": "2021"
         },
         {
          "release_year": "2022"
         },
         {
          "release_year": "2021"
         },
         {
          "release_year": "2021"
         },
         {
          "release_year": "2022"
         },
         {
          "release_year": "2022"
         },
         {
          "release_year": "2021"
         },
         {
          "release_year": "2021"
         },
         {
          "release_year": "2021"
         },
         {
          "release_year": "2021"
         },
         {
          "release_year": "2022"
         },
         {
          "release_year": "2021"
         },
         {
          "release_year": "2021"
         },
         {
          "release_year": "2021"
         },
         {
          "release_year": "2022"
         },
         {
          "release_year": "2021"
         },
         {
          "release_year": "2021"
         },
         {
          "release_year": "2022"
         },
         {
          "release_year": "2022"
         },
         {
          "release_year": "2021"
         },
         {
          "release_year": "2022"
         },
         {
          "release_year": "2021"
         },
         {
          "release_year": "2021"
         },
         {
          "release_year": "2021"
         },
         {
          "release_year": "2021"
         },
         {
          "release_year": "2021"
         },
         {
          "release_year": "2021"
         },
         {
          "release_year": "2022"
         },
         {
          "release_year": "2022"
         },
         {
          "release_year": "2022"
         },
         {
          "release_year": "2021"
         },
         {
          "release_year": "2021"
         },
         {
          "release_year": "2022"
         },
         {
          "release_year": "2022"
         },
         {
          "release_year": "2021"
         },
         {
          "release_year": "2021"
         },
         {
          "release_year": "2021"
         },
         {
          "release_year": "2021"
         },
         {
          "release_year": "2021"
         },
         {
          "release_year": "2022"
         },
         {
          "release_year": "2021"
         },
         {
          "release_year": "2021"
         },
         {
          "release_year": "2021"
         },
         {
          "release_year": "2022"
         },
         {
          "release_year": "2021"
         },
         {
          "release_year": "2021"
         },
         {
          "release_year": "2021"
         },
         {
          "release_year": "2021"
         },
         {
          "release_year": "2021"
         },
         {
          "release_year": "2021"
         },
         {
          "release_year": "2021"
         },
         {
          "release_year": "2022"
         },
         {
          "release_year": "2022"
         },
         {
          "release_year": "2022"
         },
         {
          "release_year": "2022"
         },
         {
          "release_year": "2022"
         },
         {
          "release_year": "2021"
         },
         {
          "release_year": "2021"
         },
         {
          "release_year": "2021"
         },
         {
          "release_year": "2021"
         },
         {
          "release_year": "2022"
         },
         {
          "release_year": "2022"
         },
         {
          "release_year": "2021"
         },
         {
          "release_year": "2021"
         },
         {
          "release_year": "2021"
         },
         {
          "release_year": "2021"
         },
         {
          "release_year": "2021"
         },
         {
          "release_year": "2022"
         },
         {
          "release_year": "2022"
         },
         {
          "release_year": "2021"
         },
         {
          "release_year": "2021"
         },
         {
          "release_year": "2021"
         },
         {
          "release_year": "2021"
         },
         {
          "release_year": "2022"
         },
         {
          "release_year": "2021"
         },
         {
          "release_year": "2022"
         },
         {
          "release_year": "2022"
         },
         {
          "release_year": "2021"
         },
         {
          "release_year": "2022"
         },
         {
          "release_year": "2021"
         },
         {
          "release_year": "2021"
         },
         {
          "release_year": "2021"
         },
         {
          "release_year": "2021"
         },
         {
          "release_year": "2021"
         },
         {
          "release_year": "2022"
         },
         {
          "release_year": "2021"
         },
         {
          "release_year": "2021"
         },
         {
          "release_year": "2022"
         },
         {
          "release_year": "2021"
         },
         {
          "release_year": "2021"
         },
         {
          "release_year": "2021"
         },
         {
          "release_year": "2021"
         },
         {
          "release_year": "2021"
         },
         {
          "release_year": "2021"
         },
         {
          "release_year": "2021"
         },
         {
          "release_year": "2021"
         },
         {
          "release_year": "2021"
         },
         {
          "release_year": "2022"
         },
         {
          "release_year": "2021"
         },
         {
          "release_year": "2021"
         },
         {
          "release_year": "2022"
         },
         {
          "release_year": "2022"
         },
         {
          "release_year": "2022"
         },
         {
          "release_year": "2022"
         },
         {
          "release_year": "2022"
         },
         {
          "release_year": "2022"
         },
         {
          "release_year": "2021"
         },
         {
          "release_year": "2021"
         },
         {
          "release_year": "2021"
         },
         {
          "release_year": "2022"
         },
         {
          "release_year": "2021"
         },
         {
          "release_year": "2021"
         },
         {
          "release_year": "2022"
         },
         {
          "release_year": "2021"
         },
         {
          "release_year": "2021"
         },
         {
          "release_year": "2022"
         },
         {
          "release_year": "2021"
         },
         {
          "release_year": "2022"
         },
         {
          "release_year": "2021"
         },
         {
          "release_year": "2022"
         },
         {
          "release_year": "2021"
         },
         {
          "release_year": "2022"
         },
         {
          "release_year": "2021"
         },
         {
          "release_year": "2021"
         },
         {
          "release_year": "2021"
         },
         {
          "release_year": "2022"
         },
         {
          "release_year": "2021"
         },
         {
          "release_year": "2022"
         },
         {
          "release_year": "2022"
         },
         {
          "release_year": "2021"
         },
         {
          "release_year": "2022"
         },
         {
          "release_year": "2021"
         },
         {
          "release_year": "2021"
         },
         {
          "release_year": "2021"
         },
         {
          "release_year": "2021"
         },
         {
          "release_year": "2022"
         },
         {
          "release_year": "2022"
         },
         {
          "release_year": "2022"
         },
         {
          "release_year": "2022"
         },
         {
          "release_year": "2021"
         },
         {
          "release_year": "2022"
         },
         {
          "release_year": "2021"
         },
         {
          "release_year": "2021"
         },
         {
          "release_year": "2021"
         },
         {
          "release_year": "2021"
         },
         {
          "release_year": "2021"
         },
         {
          "release_year": "2022"
         },
         {
          "release_year": "2022"
         },
         {
          "release_year": "2022"
         },
         {
          "release_year": "2021"
         },
         {
          "release_year": "2021"
         },
         {
          "release_year": "2021"
         },
         {
          "release_year": "2021"
         },
         {
          "release_year": "2021"
         },
         {
          "release_year": "2021"
         },
         {
          "release_year": "2021"
         },
         {
          "release_year": "2021"
         },
         {
          "release_year": "2021"
         },
         {
          "release_year": "2021"
         },
         {
          "release_year": "2021"
         },
         {
          "release_year": "2022"
         },
         {
          "release_year": "2021"
         },
         {
          "release_year": "2021"
         },
         {
          "release_year": "2022"
         },
         {
          "release_year": "2021"
         },
         {
          "release_year": "2021"
         },
         {
          "release_year": "2021"
         },
         {
          "release_year": "2022"
         },
         {
          "release_year": "2022"
         },
         {
          "release_year": "2021"
         },
         {
          "release_year": "2021"
         },
         {
          "release_year": "2022"
         },
         {
          "release_year": "2021"
         },
         {
          "release_year": "2022"
         },
         {
          "release_year": "2021"
         },
         {
          "release_year": "2022"
         },
         {
          "release_year": "2021"
         },
         {
          "release_year": "2021"
         },
         {
          "release_year": "2021"
         },
         {
          "release_year": "2021"
         },
         {
          "release_year": "2021"
         },
         {
          "release_year": "2021"
         },
         {
          "release_year": "2022"
         },
         {
          "release_year": "2021"
         },
         {
          "release_year": "2021"
         },
         {
          "release_year": "2021"
         },
         {
          "release_year": "2021"
         },
         {
          "release_year": "2021"
         },
         {
          "release_year": "2021"
         },
         {
          "release_year": "2022"
         },
         {
          "release_year": "2021"
         },
         {
          "release_year": "2021"
         },
         {
          "release_year": "2022"
         },
         {
          "release_year": "2021"
         },
         {
          "release_year": "2021"
         },
         {
          "release_year": "2021"
         },
         {
          "release_year": "2021"
         },
         {
          "release_year": "2021"
         },
         {
          "release_year": "2021"
         },
         {
          "release_year": "2021"
         },
         {
          "release_year": "2022"
         },
         {
          "release_year": "2021"
         },
         {
          "release_year": "2021"
         },
         {
          "release_year": "2022"
         },
         {
          "release_year": "2021"
         },
         {
          "release_year": "2021"
         },
         {
          "release_year": "2022"
         },
         {
          "release_year": "2022"
         },
         {
          "release_year": "2021"
         },
         {
          "release_year": "2021"
         },
         {
          "release_year": "2021"
         },
         {
          "release_year": "2021"
         },
         {
          "release_year": "2021"
         },
         {
          "release_year": "2022"
         },
         {
          "release_year": "2021"
         },
         {
          "release_year": "2021"
         },
         {
          "release_year": "2021"
         },
         {
          "release_year": "2022"
         },
         {
          "release_year": "2021"
         },
         {
          "release_year": "2021"
         },
         {
          "release_year": "2021"
         },
         {
          "release_year": "2021"
         },
         {
          "release_year": "2022"
         },
         {
          "release_year": "2021"
         },
         {
          "release_year": "2021"
         },
         {
          "release_year": "2021"
         },
         {
          "release_year": "2022"
         },
         {
          "release_year": "2021"
         },
         {
          "release_year": "2021"
         },
         {
          "release_year": "2022"
         },
         {
          "release_year": "2021"
         },
         {
          "release_year": "2021"
         },
         {
          "release_year": "2021"
         },
         {
          "release_year": "2021"
         },
         {
          "release_year": "2021"
         },
         {
          "release_year": "2022"
         },
         {
          "release_year": "2022"
         },
         {
          "release_year": "2021"
         },
         {
          "release_year": "2021"
         },
         {
          "release_year": "2021"
         },
         {
          "release_year": "2021"
         },
         {
          "release_year": "2021"
         },
         {
          "release_year": "2021"
         },
         {
          "release_year": "2022"
         },
         {
          "release_year": "2021"
         },
         {
          "release_year": "2021"
         },
         {
          "release_year": "2022"
         },
         {
          "release_year": "2021"
         },
         {
          "release_year": "2021"
         },
         {
          "release_year": "2022"
         },
         {
          "release_year": "2021"
         },
         {
          "release_year": "2021"
         },
         {
          "release_year": "2022"
         },
         {
          "release_year": "2021"
         },
         {
          "release_year": "2022"
         },
         {
          "release_year": "2022"
         },
         {
          "release_year": "2021"
         },
         {
          "release_year": "2021"
         },
         {
          "release_year": "2022"
         },
         {
          "release_year": "2022"
         },
         {
          "release_year": "2022"
         },
         {
          "release_year": "2021"
         },
         {
          "release_year": "2022"
         },
         {
          "release_year": "2022"
         },
         {
          "release_year": "2021"
         },
         {
          "release_year": "2021"
         },
         {
          "release_year": "2021"
         },
         {
          "release_year": "2021"
         },
         {
          "release_year": "2022"
         },
         {
          "release_year": "2021"
         },
         {
          "release_year": "2021"
         },
         {
          "release_year": "2022"
         },
         {
          "release_year": "2021"
         },
         {
          "release_year": "2022"
         },
         {
          "release_year": "2021"
         },
         {
          "release_year": "2022"
         },
         {
          "release_year": "2021"
         },
         {
          "release_year": "2021"
         },
         {
          "release_year": "2022"
         },
         {
          "release_year": "2021"
         },
         {
          "release_year": "2021"
         },
         {
          "release_year": "2021"
         },
         {
          "release_year": "2021"
         },
         {
          "release_year": "2022"
         },
         {
          "release_year": "2022"
         },
         {
          "release_year": "2021"
         },
         {
          "release_year": "2021"
         },
         {
          "release_year": "2021"
         },
         {
          "release_year": "2021"
         },
         {
          "release_year": "2021"
         },
         {
          "release_year": "2022"
         },
         {
          "release_year": "2021"
         },
         {
          "release_year": "2021"
         },
         {
          "release_year": "2021"
         },
         {
          "release_year": "2021"
         },
         {
          "release_year": "2022"
         },
         {
          "release_year": "2022"
         },
         {
          "release_year": "2021"
         },
         {
          "release_year": "2021"
         },
         {
          "release_year": "2021"
         },
         {
          "release_year": "2022"
         },
         {
          "release_year": "2021"
         },
         {
          "release_year": "2021"
         },
         {
          "release_year": "2021"
         },
         {
          "release_year": "2021"
         },
         {
          "release_year": "2021"
         },
         {
          "release_year": "2022"
         },
         {
          "release_year": "2021"
         },
         {
          "release_year": "2021"
         },
         {
          "release_year": "2022"
         },
         {
          "release_year": "2021"
         },
         {
          "release_year": "2021"
         },
         {
          "release_year": "2021"
         },
         {
          "release_year": "2022"
         },
         {
          "release_year": "2021"
         },
         {
          "release_year": "2021"
         },
         {
          "release_year": "2021"
         },
         {
          "release_year": "2021"
         },
         {
          "release_year": "2021"
         },
         {
          "release_year": "2021"
         },
         {
          "release_year": "2021"
         },
         {
          "release_year": "2021"
         },
         {
          "release_year": "2021"
         },
         {
          "release_year": "2021"
         },
         {
          "release_year": "2022"
         },
         {
          "release_year": "2021"
         },
         {
          "release_year": "2021"
         },
         {
          "release_year": "2021"
         },
         {
          "release_year": "2021"
         },
         {
          "release_year": "2021"
         },
         {
          "release_year": "2021"
         },
         {
          "release_year": "2022"
         },
         {
          "release_year": "2021"
         },
         {
          "release_year": "2022"
         },
         {
          "release_year": "2021"
         },
         {
          "release_year": "2021"
         },
         {
          "release_year": "2021"
         },
         {
          "release_year": "2021"
         },
         {
          "release_year": "2021"
         },
         {
          "release_year": "2021"
         },
         {
          "release_year": "2021"
         },
         {
          "release_year": "2021"
         },
         {
          "release_year": "2021"
         },
         {
          "release_year": "2021"
         },
         {
          "release_year": "2021"
         },
         {
          "release_year": "2021"
         },
         {
          "release_year": "2022"
         },
         {
          "release_year": "2022"
         },
         {
          "release_year": "2021"
         },
         {
          "release_year": "2021"
         },
         {
          "release_year": "2021"
         },
         {
          "release_year": "2021"
         },
         {
          "release_year": "2021"
         },
         {
          "release_year": "2021"
         },
         {
          "release_year": "2021"
         },
         {
          "release_year": "2022"
         },
         {
          "release_year": "2021"
         },
         {
          "release_year": "2021"
         },
         {
          "release_year": "2021"
         },
         {
          "release_year": "2021"
         },
         {
          "release_year": "2021"
         },
         {
          "release_year": "2021"
         },
         {
          "release_year": "2021"
         },
         {
          "release_year": "2022"
         },
         {
          "release_year": "2022"
         },
         {
          "release_year": "2021"
         },
         {
          "release_year": "2021"
         },
         {
          "release_year": "2021"
         },
         {
          "release_year": "2021"
         },
         {
          "release_year": "2022"
         },
         {
          "release_year": "2021"
         },
         {
          "release_year": "2021"
         },
         {
          "release_year": "2022"
         },
         {
          "release_year": "2021"
         },
         {
          "release_year": "2021"
         },
         {
          "release_year": "2022"
         },
         {
          "release_year": "2021"
         },
         {
          "release_year": "2021"
         },
         {
          "release_year": "2022"
         },
         {
          "release_year": "2021"
         },
         {
          "release_year": "2021"
         },
         {
          "release_year": "2021"
         },
         {
          "release_year": "2021"
         },
         {
          "release_year": "2021"
         },
         {
          "release_year": "2022"
         },
         {
          "release_year": "2021"
         },
         {
          "release_year": "2021"
         },
         {
          "release_year": "2021"
         },
         {
          "release_year": "2022"
         },
         {
          "release_year": "2021"
         },
         {
          "release_year": "2021"
         },
         {
          "release_year": "2021"
         },
         {
          "release_year": "2021"
         },
         {
          "release_year": "2021"
         },
         {
          "release_year": "2021"
         },
         {
          "release_year": "2021"
         },
         {
          "release_year": "2021"
         },
         {
          "release_year": "2021"
         },
         {
          "release_year": "2022"
         },
         {
          "release_year": "2021"
         },
         {
          "release_year": "2021"
         },
         {
          "release_year": "2022"
         },
         {
          "release_year": "2021"
         },
         {
          "release_year": "2021"
         },
         {
          "release_year": "2022"
         },
         {
          "release_year": "2022"
         },
         {
          "release_year": "2021"
         },
         {
          "release_year": "2021"
         },
         {
          "release_year": "2021"
         },
         {
          "release_year": "2022"
         },
         {
          "release_year": "2021"
         },
         {
          "release_year": "2021"
         },
         {
          "release_year": "2022"
         },
         {
          "release_year": "2021"
         },
         {
          "release_year": "2021"
         },
         {
          "release_year": "2022"
         },
         {
          "release_year": "2021"
         },
         {
          "release_year": "2021"
         },
         {
          "release_year": "2021"
         },
         {
          "release_year": "2021"
         },
         {
          "release_year": "2021"
         },
         {
          "release_year": "2021"
         },
         {
          "release_year": "2021"
         },
         {
          "release_year": "2021"
         },
         {
          "release_year": "2021"
         },
         {
          "release_year": "2021"
         },
         {
          "release_year": "2021"
         },
         {
          "release_year": "2021"
         },
         {
          "release_year": "2022"
         },
         {
          "release_year": "2021"
         },
         {
          "release_year": "2021"
         },
         {
          "release_year": "2021"
         },
         {
          "release_year": "2021"
         },
         {
          "release_year": "2022"
         },
         {
          "release_year": "2022"
         },
         {
          "release_year": "2021"
         },
         {
          "release_year": "2022"
         },
         {
          "release_year": "2021"
         },
         {
          "release_year": "2021"
         },
         {
          "release_year": "2021"
         },
         {
          "release_year": "2021"
         },
         {
          "release_year": "2021"
         },
         {
          "release_year": "2021"
         },
         {
          "release_year": "2021"
         },
         {
          "release_year": "2021"
         },
         {
          "release_year": "2022"
         },
         {
          "release_year": "2021"
         },
         {
          "release_year": "2021"
         },
         {
          "release_year": "2022"
         },
         {
          "release_year": "2021"
         },
         {
          "release_year": "2022"
         },
         {
          "release_year": "2022"
         },
         {
          "release_year": "2021"
         },
         {
          "release_year": "2021"
         },
         {
          "release_year": "2022"
         },
         {
          "release_year": "2021"
         },
         {
          "release_year": "2022"
         },
         {
          "release_year": "2021"
         },
         {
          "release_year": "2022"
         },
         {
          "release_year": "2021"
         },
         {
          "release_year": "2021"
         },
         {
          "release_year": "2021"
         },
         {
          "release_year": "2021"
         },
         {
          "release_year": "2021"
         },
         {
          "release_year": "2021"
         },
         {
          "release_year": "2022"
         },
         {
          "release_year": "2021"
         },
         {
          "release_year": "2021"
         },
         {
          "release_year": "2021"
         },
         {
          "release_year": "2021"
         },
         {
          "release_year": "2022"
         },
         {
          "release_year": "2021"
         },
         {
          "release_year": "2022"
         },
         {
          "release_year": "2021"
         },
         {
          "release_year": "2021"
         },
         {
          "release_year": "2021"
         },
         {
          "release_year": "2021"
         },
         {
          "release_year": "2021"
         },
         {
          "release_year": "2021"
         },
         {
          "release_year": "2021"
         },
         {
          "release_year": "2021"
         },
         {
          "release_year": "2021"
         },
         {
          "release_year": "2021"
         },
         {
          "release_year": "2021"
         },
         {
          "release_year": "2021"
         },
         {
          "release_year": "2021"
         },
         {
          "release_year": "2022"
         },
         {
          "release_year": "2021"
         },
         {
          "release_year": "2021"
         },
         {
          "release_year": "2021"
         },
         {
          "release_year": "2021"
         },
         {
          "release_year": "2021"
         },
         {
          "release_year": "2022"
         },
         {
          "release_year": "2021"
         },
         {
          "release_year": "2021"
         },
         {
          "release_year": "2022"
         },
         {
          "release_year": "2022"
         },
         {
          "release_year": "2021"
         },
         {
          "release_year": "2021"
         },
         {
          "release_year": "2021"
         },
         {
          "release_year": "2021"
         },
         {
          "release_year": "2021"
         },
         {
          "release_year": "2021"
         },
         {
          "release_year": "2021"
         },
         {
          "release_year": "2021"
         },
         {
          "release_year": "2022"
         },
         {
          "release_year": "2021"
         },
         {
          "release_year": "2022"
         },
         {
          "release_year": "2021"
         },
         {
          "release_year": "2021"
         },
         {
          "release_year": "2021"
         },
         {
          "release_year": "2021"
         },
         {
          "release_year": "2021"
         },
         {
          "release_year": "2021"
         },
         {
          "release_year": "2021"
         },
         {
          "release_year": "2021"
         },
         {
          "release_year": "2021"
         },
         {
          "release_year": "2021"
         },
         {
          "release_year": "2021"
         },
         {
          "release_year": "2021"
         },
         {
          "release_year": "2022"
         },
         {
          "release_year": "2021"
         },
         {
          "release_year": "2022"
         },
         {
          "release_year": "2021"
         },
         {
          "release_year": "2021"
         },
         {
          "release_year": "2021"
         },
         {
          "release_year": "2021"
         },
         {
          "release_year": "2021"
         },
         {
          "release_year": "2022"
         },
         {
          "release_year": "2021"
         },
         {
          "release_year": "2021"
         },
         {
          "release_year": "2021"
         },
         {
          "release_year": "2021"
         },
         {
          "release_year": "2021"
         },
         {
          "release_year": "2021"
         },
         {
          "release_year": "2021"
         },
         {
          "release_year": "2021"
         },
         {
          "release_year": "2021"
         },
         {
          "release_year": "2021"
         },
         {
          "release_year": "2022"
         },
         {
          "release_year": "2021"
         },
         {
          "release_year": "2022"
         },
         {
          "release_year": "2021"
         },
         {
          "release_year": "2021"
         },
         {
          "release_year": "2021"
         },
         {
          "release_year": "2021"
         },
         {
          "release_year": "2021"
         },
         {
          "release_year": "2022"
         },
         {
          "release_year": "2022"
         },
         {
          "release_year": "2021"
         },
         {
          "release_year": "2021"
         },
         {
          "release_year": "2022"
         },
         {
          "release_year": "2021"
         },
         {
          "release_year": "2021"
         },
         {
          "release_year": "2021"
         },
         {
          "release_year": "2022"
         },
         {
          "release_year": "2021"
         },
         {
          "release_year": "2021"
         },
         {
          "release_year": "2021"
         },
         {
          "release_year": "2021"
         },
         {
          "release_year": "2021"
         },
         {
          "release_year": "2021"
         },
         {
          "release_year": "2021"
         },
         {
          "release_year": "2021"
         },
         {
          "release_year": "2021"
         },
         {
          "release_year": "2022"
         },
         {
          "release_year": "2021"
         },
         {
          "release_year": "2022"
         },
         {
          "release_year": "2021"
         },
         {
          "release_year": "2022"
         },
         {
          "release_year": "2021"
         },
         {
          "release_year": "2021"
         },
         {
          "release_year": "2021"
         },
         {
          "release_year": "2021"
         },
         {
          "release_year": "2021"
         },
         {
          "release_year": "2022"
         },
         {
          "release_year": "2021"
         },
         {
          "release_year": "2021"
         },
         {
          "release_year": "2021"
         },
         {
          "release_year": "2022"
         },
         {
          "release_year": "2021"
         },
         {
          "release_year": "2022"
         },
         {
          "release_year": "2021"
         },
         {
          "release_year": "2021"
         },
         {
          "release_year": "2021"
         },
         {
          "release_year": "2021"
         },
         {
          "release_year": "2022"
         },
         {
          "release_year": "2021"
         },
         {
          "release_year": "2021"
         },
         {
          "release_year": "2022"
         },
         {
          "release_year": "2022"
         },
         {
          "release_year": "2021"
         },
         {
          "release_year": "2022"
         },
         {
          "release_year": "2021"
         },
         {
          "release_year": "2021"
         },
         {
          "release_year": "2021"
         },
         {
          "release_year": "2021"
         },
         {
          "release_year": "2022"
         },
         {
          "release_year": "2022"
         },
         {
          "release_year": "2021"
         },
         {
          "release_year": "2021"
         },
         {
          "release_year": "2021"
         },
         {
          "release_year": "2022"
         },
         {
          "release_year": "2021"
         },
         {
          "release_year": "2021"
         },
         {
          "release_year": "2021"
         },
         {
          "release_year": "2022"
         },
         {
          "release_year": "2021"
         },
         {
          "release_year": "2021"
         },
         {
          "release_year": "2021"
         },
         {
          "release_year": "2021"
         },
         {
          "release_year": "2021"
         },
         {
          "release_year": "2022"
         },
         {
          "release_year": "2021"
         },
         {
          "release_year": "2022"
         },
         {
          "release_year": "2021"
         },
         {
          "release_year": "2021"
         },
         {
          "release_year": "2021"
         },
         {
          "release_year": "2021"
         },
         {
          "release_year": "2022"
         },
         {
          "release_year": "2021"
         },
         {
          "release_year": "2021"
         },
         {
          "release_year": "2021"
         },
         {
          "release_year": "2022"
         },
         {
          "release_year": "2021"
         },
         {
          "release_year": "2021"
         },
         {
          "release_year": "2021"
         },
         {
          "release_year": "2022"
         },
         {
          "release_year": "2021"
         },
         {
          "release_year": "2021"
         },
         {
          "release_year": "2021"
         },
         {
          "release_year": "2021"
         },
         {
          "release_year": "2021"
         },
         {
          "release_year": "2021"
         },
         {
          "release_year": "2022"
         },
         {
          "release_year": "2022"
         },
         {
          "release_year": "2021"
         },
         {
          "release_year": "2021"
         },
         {
          "release_year": "2021"
         },
         {
          "release_year": "2021"
         },
         {
          "release_year": "2021"
         },
         {
          "release_year": "2021"
         },
         {
          "release_year": "2021"
         },
         {
          "release_year": "2021"
         },
         {
          "release_year": "2021"
         },
         {
          "release_year": "2021"
         },
         {
          "release_year": "2021"
         },
         {
          "release_year": "2021"
         },
         {
          "release_year": "2022"
         },
         {
          "release_year": "2021"
         },
         {
          "release_year": "2021"
         },
         {
          "release_year": "2022"
         },
         {
          "release_year": "2021"
         },
         {
          "release_year": "2021"
         },
         {
          "release_year": "2021"
         },
         {
          "release_year": "2021"
         },
         {
          "release_year": "2021"
         },
         {
          "release_year": "2021"
         },
         {
          "release_year": "2022"
         },
         {
          "release_year": "2021"
         },
         {
          "release_year": "2021"
         },
         {
          "release_year": "2021"
         },
         {
          "release_year": "2022"
         },
         {
          "release_year": "2021"
         },
         {
          "release_year": "2021"
         },
         {
          "release_year": "2021"
         },
         {
          "release_year": "2021"
         },
         {
          "release_year": "2021"
         },
         {
          "release_year": "2022"
         },
         {
          "release_year": "2021"
         },
         {
          "release_year": "2021"
         },
         {
          "release_year": "2021"
         },
         {
          "release_year": "2021"
         },
         {
          "release_year": "2022"
         },
         {
          "release_year": "2021"
         },
         {
          "release_year": "2021"
         },
         {
          "release_year": "2021"
         },
         {
          "release_year": "2021"
         },
         {
          "release_year": "2021"
         },
         {
          "release_year": "2021"
         },
         {
          "release_year": "2022"
         },
         {
          "release_year": "2021"
         },
         {
          "release_year": "2021"
         },
         {
          "release_year": "2021"
         },
         {
          "release_year": "2021"
         },
         {
          "release_year": "2021"
         },
         {
          "release_year": "2022"
         },
         {
          "release_year": "2022"
         },
         {
          "release_year": "2021"
         },
         {
          "release_year": "2021"
         },
         {
          "release_year": "2021"
         },
         {
          "release_year": "2021"
         },
         {
          "release_year": "2021"
         },
         {
          "release_year": "2021"
         },
         {
          "release_year": "2021"
         },
         {
          "release_year": "2021"
         },
         {
          "release_year": "2021"
         },
         {
          "release_year": "2022"
         },
         {
          "release_year": "2021"
         },
         {
          "release_year": "2021"
         },
         {
          "release_year": "2021"
         },
         {
          "release_year": "2021"
         },
         {
          "release_year": "2021"
         },
         {
          "release_year": "2021"
         },
         {
          "release_year": "2022"
         },
         {
          "release_year": "2021"
         },
         {
          "release_year": "2021"
         },
         {
          "release_year": "2021"
         },
         {
          "release_year": "2021"
         },
         {
          "release_year": "2022"
         },
         {
          "release_year": "2021"
         },
         {
          "release_year": "2021"
         },
         {
          "release_year": "2021"
         },
         {
          "release_year": "2021"
         },
         {
          "release_year": "2021"
         },
         {
          "release_year": "2021"
         },
         {
          "release_year": "2021"
         },
         {
          "release_year": "2021"
         },
         {
          "release_year": "2021"
         },
         {
          "release_year": "2022"
         },
         {
          "release_year": "2021"
         },
         {
          "release_year": "2021"
         },
         {
          "release_year": "2021"
         },
         {
          "release_year": "2021"
         },
         {
          "release_year": "2021"
         },
         {
          "release_year": "2021"
         },
         {
          "release_year": "2021"
         },
         {
          "release_year": "2021"
         },
         {
          "release_year": "2021"
         },
         {
          "release_year": "2021"
         },
         {
          "release_year": "2021"
         },
         {
          "release_year": "2021"
         },
         {
          "release_year": "2021"
         },
         {
          "release_year": "2022"
         },
         {
          "release_year": "2021"
         },
         {
          "release_year": "2021"
         },
         {
          "release_year": "2021"
         },
         {
          "release_year": "2021"
         },
         {
          "release_year": "2022"
         },
         {
          "release_year": "2021"
         },
         {
          "release_year": "2021"
         },
         {
          "release_year": "2021"
         },
         {
          "release_year": "2021"
         },
         {
          "release_year": "2021"
         },
         {
          "release_year": "2021"
         },
         {
          "release_year": "2021"
         },
         {
          "release_year": "2021"
         },
         {
          "release_year": "2021"
         },
         {
          "release_year": "2021"
         },
         {
          "release_year": "2021"
         },
         {
          "release_year": "2021"
         },
         {
          "release_year": "2022"
         },
         {
          "release_year": "2021"
         },
         {
          "release_year": "2021"
         },
         {
          "release_year": "2022"
         },
         {
          "release_year": "2021"
         },
         {
          "release_year": "2021"
         },
         {
          "release_year": "2021"
         },
         {
          "release_year": "2022"
         },
         {
          "release_year": "2021"
         },
         {
          "release_year": "2021"
         },
         {
          "release_year": "2021"
         },
         {
          "release_year": "2021"
         },
         {
          "release_year": "2021"
         },
         {
          "release_year": "2021"
         },
         {
          "release_year": "2021"
         },
         {
          "release_year": "2021"
         },
         {
          "release_year": "2022"
         },
         {
          "release_year": "2021"
         },
         {
          "release_year": "2021"
         },
         {
          "release_year": "2021"
         },
         {
          "release_year": "2021"
         },
         {
          "release_year": "2021"
         },
         {
          "release_year": "2021"
         },
         {
          "release_year": "2021"
         },
         {
          "release_year": "2021"
         },
         {
          "release_year": "2022"
         },
         {
          "release_year": "2021"
         },
         {
          "release_year": "2021"
         },
         {
          "release_year": "2021"
         },
         {
          "release_year": "2021"
         },
         {
          "release_year": "2021"
         },
         {
          "release_year": "2021"
         },
         {
          "release_year": "2021"
         },
         {
          "release_year": "2021"
         },
         {
          "release_year": "2021"
         },
         {
          "release_year": "2021"
         },
         {
          "release_year": "2021"
         },
         {
          "release_year": "2021"
         },
         {
          "release_year": "2021"
         },
         {
          "release_year": "2021"
         },
         {
          "release_year": "2021"
         },
         {
          "release_year": "2021"
         },
         {
          "release_year": "2021"
         },
         {
          "release_year": "2022"
         },
         {
          "release_year": "2021"
         },
         {
          "release_year": "2022"
         },
         {
          "release_year": "2021"
         },
         {
          "release_year": "2021"
         },
         {
          "release_year": "2021"
         },
         {
          "release_year": "2021"
         },
         {
          "release_year": "2021"
         },
         {
          "release_year": "2022"
         },
         {
          "release_year": "2021"
         },
         {
          "release_year": "2021"
         },
         {
          "release_year": "2021"
         },
         {
          "release_year": "2021"
         },
         {
          "release_year": "2021"
         },
         {
          "release_year": "2021"
         },
         {
          "release_year": "2021"
         },
         {
          "release_year": "2021"
         },
         {
          "release_year": "2021"
         },
         {
          "release_year": "2021"
         },
         {
          "release_year": "2021"
         },
         {
          "release_year": "2021"
         },
         {
          "release_year": "2021"
         },
         {
          "release_year": "2021"
         },
         {
          "release_year": "2021"
         },
         {
          "release_year": "2021"
         },
         {
          "release_year": "2021"
         },
         {
          "release_year": "2021"
         },
         {
          "release_year": "2021"
         },
         {
          "release_year": "2021"
         },
         {
          "release_year": "2021"
         },
         {
          "release_year": "2021"
         },
         {
          "release_year": "2021"
         },
         {
          "release_year": "2021"
         },
         {
          "release_year": "2021"
         },
         {
          "release_year": "2021"
         },
         {
          "release_year": "2021"
         },
         {
          "release_year": "2022"
         },
         {
          "release_year": "2022"
         },
         {
          "release_year": "2021"
         },
         {
          "release_year": "2021"
         },
         {
          "release_year": "2021"
         },
         {
          "release_year": "2021"
         },
         {
          "release_year": "2021"
         },
         {
          "release_year": "2021"
         },
         {
          "release_year": "2021"
         },
         {
          "release_year": "2021"
         },
         {
          "release_year": "2021"
         }
        ]
       },
       "encoding": {
        "x": {
         "field": "release_year",
         "type": "nominal"
        },
        "y": {
         "aggregate": "count",
         "type": "quantitative"
        }
       },
       "mark": {
        "type": "bar"
       }
      },
      "image/png": "[encoded data removed]",
      "text/plain": [
       "<VegaLite 5 object>\n",
       "\n",
       "If you see this message, it means the renderer has not been properly enabled\n",
       "for the frontend that you are using. For more information, see\n",
       "https://altair-viz.github.io/user_guide/display_frontends.html#troubleshooting\n"
      ]
     },
     "execution_count": 5,
     "metadata": {},
     "output_type": "execute_result"
    }
   ],
   "source": [
    "# let's use 4, 10 and 40 years as our period times so that populous areas get more focus\n",
    "alt.Chart(movie_df[[\"release_year\"]].astype(str)).mark_bar().encode(\n",
    "    x=alt.X(\"release_year\"),\n",
    "    y=\"count()\"\n",
    ")"
   ]
  },
  {
   "cell_type": "markdown",
   "id": "4405f9b4-8109-4cd1-ab80-9df69ee75671",
   "metadata": {},
   "source": [
    "## Set up Superlinked"
   ]
  },
  {
   "cell_type": "code",
   "execution_count": 6,
   "id": "363d1bfb-a842-49b6-a822-99db1f18daa8",
   "metadata": {},
   "outputs": [],
   "source": [
    "# accomodate our inputs in a typed schema\n",
    "@schema\n",
    "class MovieSchema:\n",
    "    description: String\n",
    "    title: String\n",
    "    release_timestamp: Timestamp\n",
    "    genres: String\n",
    "    id: IdField"
   ]
  },
  {
   "cell_type": "code",
   "execution_count": 7,
   "id": "7b17ee72-539f-459a-ab8e-f1918579987d",
   "metadata": {},
   "outputs": [],
   "source": [
    "movie = MovieSchema()"
   ]
  },
  {
   "cell_type": "code",
   "execution_count": 8,
   "id": "abba40ea-a250-4b12-ad4b-ef90155c3175",
   "metadata": {},
   "outputs": [],
   "source": [
    "# textual fields are embedded using a sentence-transformers model\n",
    "description_space = TextSimilaritySpace(text=movie.description, model=\"sentence-transformers/paraphrase-MiniLM-L3-v2\")\n",
    "title_space = TextSimilaritySpace(text=movie.title, model=\"sentence-transformers/paraphrase-MiniLM-L3-v2\")\n",
    "genre_space = TextSimilaritySpace(text=movie.genres, model=\"sentence-transformers/paraphrase-MiniLM-L3-v2\")\n",
    "# release date are encoded using our recency space\n",
    "# periodtimes aim to reflect notable breaks in our scores\n",
    "recency_space = RecencySpace(timestamp=movie.release_timestamp, period_time_list=[\n",
    "    PeriodTime(timedelta(days=4 * YEAR_IN_DAYS)), \n",
    "    PeriodTime(timedelta(days=10 * YEAR_IN_DAYS)), \n",
    "    PeriodTime(timedelta(days=40 * YEAR_IN_DAYS))],\n",
    "    negative_filter=-0.25)"
   ]
  },
  {
   "cell_type": "code",
   "execution_count": 9,
   "id": "88e05778-8ab1-49c9-922d-cd825c65b93a",
   "metadata": {},
   "outputs": [],
   "source": [
    "movie_index = Index(spaces=[description_space, title_space, genre_space, recency_space])"
   ]
  },
  {
   "cell_type": "code",
   "execution_count": 10,
   "id": "b56927bf-503c-4f08-98c4-f5f9a49690af",
   "metadata": {},
   "outputs": [],
   "source": [
    "query_text_param = Param(\"query_text\")\n",
    "\n",
    "simple_query = (\n",
    "    Query(movie_index, weights={\n",
    "        description_space: Param(\"description_weight\"),\n",
    "        title_space: Param(\"title_weight\"),\n",
    "        genre_space: Param(\"genre_weight\"),\n",
    "        recency_space: Param(\"recency_weight\")\n",
    "    })\n",
    "    .find(movie)\n",
    "    .similar(description_space.text, query_text_param)\n",
    "    .similar(title_space.text, query_text_param)\n",
    "    .similar(genre_space.text, query_text_param)\n",
    "    .limit(TOP_N)\n",
    ")\n",
    "\n",
    "advanced_query = (\n",
    "    Query(movie_index, weights={\n",
    "        description_space: Param(\"description_weight\"),\n",
    "        title_space: Param(\"title_weight\"),\n",
    "        genre_space: Param(\"genre_weight\"),\n",
    "        recency_space: Param(\"recency_weight\")\n",
    "    })\n",
    "    .find(movie)\n",
    "    .similar(description_space.text, Param(\"description_query_text\"))\n",
    "    .similar(title_space.text, Param(\"title_query_text\"))\n",
    "    .similar(genre_space.text, Param(\"genre_query_text\"))\n",
    "    .limit(TOP_N)\n",
    ")"
   ]
  },
  {
   "cell_type": "code",
   "execution_count": 11,
   "id": "22069eb1-16d6-40db-b5ba-127fa1efa86e",
   "metadata": {},
   "outputs": [],
   "source": [
    "df_parser = DataFrameParser(schema=movie, mapping={movie.release_timestamp: \"timestamp\"})"
   ]
  },
  {
   "cell_type": "code",
   "execution_count": 12,
   "id": "14335931-ba95-45ec-8cb6-19f5e4905fbd",
   "metadata": {},
   "outputs": [],
   "source": [
    "source: InMemorySource = InMemorySource(movie, parser=df_parser)\n",
    "executor: InMemoryExecutor = InMemoryExecutor(sources=[source], indices=[movie_index], context_data=EXECUTOR_DATA)\n",
    "app: InMemoryApp = executor.run()"
   ]
  },
  {
   "cell_type": "markdown",
   "id": "29e6a6fc-ec5e-4a07-b9a8-9c8b38ac047b",
   "metadata": {},
   "source": [
    "This next one might take several minutes to run. Getting a coffee or water, or doing a quick planking workout is advised."
   ]
  },
  {
   "cell_type": "code",
   "execution_count": 13,
   "id": "683cbd59-0744-4cd9-9a36-18814be79760",
   "metadata": {},
   "outputs": [],
   "source": [
    "source.put([movie_df])"
   ]
  },
  {
   "cell_type": "markdown",
   "id": "09bcc1e1-91d1-400f-87c9-bfcda1bddded",
   "metadata": {},
   "source": [
    "## Understanding recency"
   ]
  },
  {
   "cell_type": "markdown",
   "id": "576214c2-8303-45d0-a5ae-8cffe5e70e42",
   "metadata": {},
   "source": [
    "Recency can seem quite complex at first, let's see how the score looks like for the relevant time periods"
   ]
  },
  {
   "cell_type": "code",
   "execution_count": 14,
   "id": "0bd07652-ebd9-4676-97b2-96eecd0b6089",
   "metadata": {},
   "outputs": [
    {
     "data": {
      "application/vnd.vegalite.v5+json": {
       "$schema": "https://vega.github.io/schema/vega-lite/v5.16.3.json",
       "config": {
        "view": {
         "continuousHeight": 300,
         "continuousWidth": 300
        }
       },
       "data": {
        "name": "data-73b1c900a9d1789f6fafcd700a410b1c"
       },
       "datasets": {
        "data-73b1c900a9d1789f6fafcd700a410b1c": [
         {
          "date": "1980-03-04T11:23:48",
          "score": -0.25
         },
         {
          "date": "1980-03-20T13:13:20.972973",
          "score": -0.25
         },
         {
          "date": "1980-04-05T15:02:53.945946",
          "score": -0.25
         },
         {
          "date": "1980-04-21T17:52:26.918919",
          "score": -0.25
         },
         {
          "date": "1980-05-07T19:41:59.891892",
          "score": -0.25
         },
         {
          "date": "1980-05-23T21:31:32.864865",
          "score": -0.25
         },
         {
          "date": "1980-06-08T23:21:05.837838",
          "score": -0.25
         },
         {
          "date": "1980-06-25T01:10:38.810811",
          "score": -0.25
         },
         {
          "date": "1980-07-11T03:00:11.783784",
          "score": -0.25
         },
         {
          "date": "1980-07-27T04:49:44.756757",
          "score": -0.25
         },
         {
          "date": "1980-08-12T06:39:17.729730",
          "score": -0.25
         },
         {
          "date": "1980-08-28T08:28:50.702703",
          "score": -0.25
         },
         {
          "date": "1980-09-13T10:18:23.675676",
          "score": -0.25
         },
         {
          "date": "1980-09-29T11:07:56.648649",
          "score": -0.25
         },
         {
          "date": "1980-10-15T12:57:29.621622",
          "score": -0.25
         },
         {
          "date": "1980-10-31T14:47:02.594595",
          "score": -0.25
         },
         {
          "date": "1980-11-16T16:36:35.567568",
          "score": -0.25
         },
         {
          "date": "1980-12-02T18:26:08.540541",
          "score": -0.25
         },
         {
          "date": "1980-12-18T20:15:41.513514",
          "score": -0.25
         },
         {
          "date": "1981-01-03T22:05:14.486486",
          "score": -0.25
         },
         {
          "date": "1981-01-19T23:54:47.459459",
          "score": -0.25
         },
         {
          "date": "1981-02-05T01:44:20.432432",
          "score": -0.25
         },
         {
          "date": "1981-02-21T03:33:53.405405",
          "score": -0.25
         },
         {
          "date": "1981-03-09T05:23:26.378378",
          "score": -0.25
         },
         {
          "date": "1981-03-25T07:12:59.351351",
          "score": -0.25
         },
         {
          "date": "1981-04-10T10:02:32.324324",
          "score": -0.25
         },
         {
          "date": "1981-04-26T11:52:05.297297",
          "score": -0.25
         },
         {
          "date": "1981-05-12T13:41:38.270270",
          "score": -0.25
         },
         {
          "date": "1981-05-28T15:31:11.243243",
          "score": -0.25
         },
         {
          "date": "1981-06-13T17:20:44.216216",
          "score": -0.25
         },
         {
          "date": "1981-06-29T19:10:17.189189",
          "score": -0.25
         },
         {
          "date": "1981-07-15T20:59:50.162162",
          "score": -0.25
         },
         {
          "date": "1981-07-31T22:49:23.135135",
          "score": -0.25
         },
         {
          "date": "1981-08-17T00:38:56.108108",
          "score": -0.25
         },
         {
          "date": "1981-09-02T02:28:29.081081",
          "score": -0.25
         },
         {
          "date": "1981-09-18T04:18:02.054054",
          "score": -0.25
         },
         {
          "date": "1981-10-04T05:07:35.027027",
          "score": -0.25
         },
         {
          "date": "1981-10-20T06:57:08",
          "score": -0.25
         },
         {
          "date": "1981-11-05T08:46:40.972973",
          "score": -0.25
         },
         {
          "date": "1981-11-21T10:36:13.945946",
          "score": -0.25
         },
         {
          "date": "1981-12-07T12:25:46.918919",
          "score": -0.25
         },
         {
          "date": "1981-12-23T14:15:19.891892",
          "score": -0.25
         },
         {
          "date": "1982-01-08T16:04:52.864865",
          "score": -0.25
         },
         {
          "date": "1982-01-24T17:54:25.837838",
          "score": -0.25
         },
         {
          "date": "1982-02-09T19:43:58.810811",
          "score": -0.25
         },
         {
          "date": "1982-02-25T21:33:31.783784",
          "score": -0.25
         },
         {
          "date": "1982-03-13T23:23:04.756757",
          "score": -0.25
         },
         {
          "date": "1982-03-30T02:12:37.729730",
          "score": -0.25
         },
         {
          "date": "1982-04-15T04:02:10.702703",
          "score": -0.25
         },
         {
          "date": "1982-05-01T05:51:43.675676",
          "score": -0.25
         },
         {
          "date": "1982-05-17T07:41:16.648649",
          "score": -0.25
         },
         {
          "date": "1982-06-02T09:30:49.621622",
          "score": -0.25
         },
         {
          "date": "1982-06-18T11:20:22.594595",
          "score": -0.25
         },
         {
          "date": "1982-07-04T13:09:55.567568",
          "score": -0.25
         },
         {
          "date": "1982-07-20T14:59:28.540541",
          "score": -0.25
         },
         {
          "date": "1982-08-05T16:49:01.513514",
          "score": -0.25
         },
         {
          "date": "1982-08-21T18:38:34.486486",
          "score": -0.25
         },
         {
          "date": "1982-09-06T20:28:07.459459",
          "score": -0.25
         },
         {
          "date": "1982-09-22T22:17:40.432432",
          "score": -0.25
         },
         {
          "date": "1982-10-08T23:07:13.405405",
          "score": -0.25
         },
         {
          "date": "1982-10-25T00:56:46.378378",
          "score": -0.25
         },
         {
          "date": "1982-11-10T02:46:19.351351",
          "score": -0.25
         },
         {
          "date": "1982-11-26T04:35:52.324324",
          "score": -0.25
         },
         {
          "date": "1982-12-12T06:25:25.297297",
          "score": -0.25
         },
         {
          "date": "1982-12-28T08:14:58.270270",
          "score": -0.25
         },
         {
          "date": "1983-01-13T10:04:31.243243",
          "score": -0.25
         },
         {
          "date": "1983-01-29T11:54:04.216216",
          "score": -0.25
         },
         {
          "date": "1983-02-14T13:43:37.189189",
          "score": -0.25
         },
         {
          "date": "1983-03-02T15:33:10.162162",
          "score": -0.25
         },
         {
          "date": "1983-03-18T17:22:43.135135",
          "score": -0.25
         },
         {
          "date": "1983-04-03T20:12:16.108108",
          "score": -0.25
         },
         {
          "date": "1983-04-19T22:01:49.081081",
          "score": -0.25
         },
         {
          "date": "1983-05-05T23:51:22.054054",
          "score": -0.25
         },
         {
          "date": "1983-05-22T01:40:55.027027",
          "score": -0.25
         },
         {
          "date": "1983-06-07T03:30:28",
          "score": -0.25
         },
         {
          "date": "1983-06-23T05:20:00.972973",
          "score": -0.25
         },
         {
          "date": "1983-07-09T07:09:33.945946",
          "score": -0.25
         },
         {
          "date": "1983-07-25T08:59:06.918919",
          "score": -0.25
         },
         {
          "date": "1983-08-10T10:48:39.891892",
          "score": -0.25
         },
         {
          "date": "1983-08-26T12:38:12.864865",
          "score": -0.25
         },
         {
          "date": "1983-09-11T14:27:45.837838",
          "score": -0.25
         },
         {
          "date": "1983-09-27T15:17:18.810811",
          "score": -0.25
         },
         {
          "date": "1983-10-13T17:06:51.783784",
          "score": -0.25
         },
         {
          "date": "1983-10-29T18:56:24.756757",
          "score": -0.25
         },
         {
          "date": "1983-11-14T20:45:57.729730",
          "score": -0.25
         },
         {
          "date": "1983-11-30T22:35:30.702703",
          "score": -0.25
         },
         {
          "date": "1983-12-17T00:25:03.675676",
          "score": -0.25
         },
         {
          "date": "1984-01-02T02:14:36.648649",
          "score": -0.25
         },
         {
          "date": "1984-01-18T04:04:09.621622",
          "score": -0.25
         },
         {
          "date": "1984-02-03T05:53:42.594595",
          "score": -0.25
         },
         {
          "date": "1984-02-19T07:43:15.567568",
          "score": -0.25
         },
         {
          "date": "1984-03-06T09:32:48.540541",
          "score": 0.00010482457797177207
         },
         {
          "date": "1984-03-22T11:22:21.513514",
          "score": 0.0006813592935629225
         },
         {
          "date": "1984-04-07T14:11:54.486486",
          "score": 0.001257891970844278
         },
         {
          "date": "1984-04-23T16:01:27.459459",
          "score": 0.0018344208850981942
         },
         {
          "date": "1984-05-09T17:51:00.432432",
          "score": 0.0024109443116181475
         },
         {
          "date": "1984-05-25T19:40:33.405405",
          "score": 0.0029874605257148926
         },
         {
          "date": "1984-06-10T21:30:06.378378",
          "score": 0.0035639678027199356
         },
         {
          "date": "1984-06-26T23:19:39.351351",
          "score": 0.004140464417992045
         },
         {
          "date": "1984-07-13T01:09:12.324324",
          "score": 0.00471694864692089
         },
         {
          "date": "1984-07-29T02:58:45.297297",
          "score": 0.00529341876493445
         },
         {
          "date": "1984-08-14T04:48:18.270270",
          "score": 0.005869873047502166
         },
         {
          "date": "1984-08-30T06:37:51.243243",
          "score": 0.006446309770141176
         },
         {
          "date": "1984-09-15T08:27:24.216216",
          "score": 0.007022727208421209
         },
         {
          "date": "1984-10-01T09:16:57.189189",
          "score": 0.00759912363796934
         },
         {
          "date": "1984-10-17T11:06:30.162162",
          "score": 0.008175497334475534
         },
         {
          "date": "1984-11-02T12:56:03.135135",
          "score": 0.008751846573698499
         },
         {
          "date": "1984-11-18T14:45:36.108108",
          "score": 0.00932816963146877
         },
         {
          "date": "1984-12-04T16:35:09.081081",
          "score": 0.009904464783696063
         },
         {
          "date": "1984-12-20T18:24:42.054054",
          "score": 0.010480730306373644
         },
         {
          "date": "1985-01-05T20:14:15.027027",
          "score": 0.011056964475583329
         },
         {
          "date": "1985-01-21T22:03:48",
          "score": 0.011633165567500523
         },
         {
          "date": "1985-02-06T23:53:20.972973",
          "score": 0.012209331858399475
         },
         {
          "date": "1985-02-23T01:42:53.945946",
          "score": 0.012785461624658956
         },
         {
          "date": "1985-03-11T03:32:26.918919",
          "score": 0.01336155314276694
         },
         {
          "date": "1985-03-27T05:21:59.891892",
          "score": 0.013937604689325334
         },
         {
          "date": "1985-04-12T08:11:32.864865",
          "score": 0.014513614541056333
         },
         {
          "date": "1985-04-28T10:01:05.837838",
          "score": 0.015089580974806635
         },
         {
          "date": "1985-05-14T11:50:38.810811",
          "score": 0.01566550226755187
         },
         {
          "date": "1985-05-30T13:40:11.783784",
          "score": 0.016241376696404256
         },
         {
          "date": "1985-06-15T15:29:44.756757",
          "score": 0.016817202538615014
         },
         {
          "date": "1985-07-01T17:19:17.729730",
          "score": 0.01739297807158163
         },
         {
          "date": "1985-07-17T19:08:50.702703",
          "score": 0.017968701572851277
         },
         {
          "date": "1985-08-02T20:58:23.675676",
          "score": 0.018544371320127387
         },
         {
          "date": "1985-08-18T22:47:56.648649",
          "score": 0.019119985591273727
         },
         {
          "date": "1985-09-04T00:37:29.621622",
          "score": 0.019695542664320803
         },
         {
          "date": "1985-09-20T02:27:02.594595",
          "score": 0.020271040817468996
         },
         {
          "date": "1985-10-06T03:16:35.567568",
          "score": 0.02084647832909574
         },
         {
          "date": "1985-10-22T05:06:08.540541",
          "score": 0.021421853477759902
         },
         {
          "date": "1985-11-07T06:55:41.513514",
          "score": 0.021997164542206953
         },
         {
          "date": "1985-11-23T08:45:14.486486",
          "score": 0.022572409801373743
         },
         {
          "date": "1985-12-09T10:34:47.459459",
          "score": 0.023147587534394023
         },
         {
          "date": "1985-12-25T12:24:20.432432",
          "score": 0.023722696020603753
         },
         {
          "date": "1986-01-10T14:13:53.405405",
          "score": 0.02429773353954615
         },
         {
          "date": "1986-01-26T16:03:26.378378",
          "score": 0.024872698370976262
         },
         {
          "date": "1986-02-11T17:52:59.351351",
          "score": 0.025447588794867398
         },
         {
          "date": "1986-02-27T19:42:32.324324",
          "score": 0.026022403091414223
         },
         {
          "date": "1986-03-15T21:32:05.297297",
          "score": 0.02659713954104017
         },
         {
          "date": "1986-04-01T00:21:38.270270",
          "score": 0.02717179642440087
         },
         {
          "date": "1986-04-17T02:11:11.243243",
          "score": 0.027746372022390987
         },
         {
          "date": "1986-05-03T04:00:44.216216",
          "score": 0.028320864616147346
         },
         {
          "date": "1986-05-19T05:50:17.189189",
          "score": 0.028895272487055337
         },
         {
          "date": "1986-06-04T07:39:50.162162",
          "score": 0.02946959391675416
         },
         {
          "date": "1986-06-20T09:29:23.135135",
          "score": 0.030043827187141537
         },
         {
          "date": "1986-07-06T11:18:56.108108",
          "score": 0.030617970580377962
         },
         {
          "date": "1986-07-22T13:08:29.081081",
          "score": 0.031192022378894027
         },
         {
          "date": "1986-08-07T14:58:02.054054",
          "score": 0.03176598086539403
         },
         {
          "date": "1986-08-23T16:47:35.027027",
          "score": 0.03233984432286115
         },
         {
          "date": "1986-09-08T18:37:08",
          "score": 0.032913611034562716
         },
         {
          "date": "1986-09-24T20:26:40.972973",
          "score": 0.03348727928405611
         },
         {
          "date": "1986-10-10T21:16:13.945946",
          "score": 0.034060847355192554
         },
         {
          "date": "1986-10-26T23:05:46.918919",
          "score": 0.03463431353212338
         },
         {
          "date": "1986-11-12T00:55:19.891892",
          "score": 0.03520767609930486
         },
         {
          "date": "1986-11-28T02:44:52.864865",
          "score": 0.03578093334150311
         },
         {
          "date": "1986-12-14T04:34:25.837838",
          "score": 0.03635408354379848
         },
         {
          "date": "1986-12-30T06:23:58.810811",
          "score": 0.036927124991592876
         },
         {
          "date": "1987-01-15T08:13:31.783784",
          "score": 0.03750005597061278
         },
         {
          "date": "1987-01-31T10:03:04.756757",
          "score": 0.038072874766915184
         },
         {
          "date": "1987-02-16T11:52:37.729730",
          "score": 0.038645579666892915
         },
         {
          "date": "1987-03-04T13:42:10.702703",
          "score": 0.039218168957279566
         },
         {
          "date": "1987-03-20T15:31:43.675676",
          "score": 0.03979064092515417
         },
         {
          "date": "1987-04-05T18:21:16.648649",
          "score": 0.04036299385794725
         },
         {
          "date": "1987-04-21T20:10:49.621622",
          "score": 0.040935226043445315
         },
         {
          "date": "1987-05-07T22:00:22.594595",
          "score": 0.041507335769795366
         },
         {
          "date": "1987-05-23T23:49:55.567568",
          "score": 0.042079321325511315
         },
         {
          "date": "1987-06-09T01:39:28.540541",
          "score": 0.04265118099947916
         },
         {
          "date": "1987-06-25T03:29:01.513514",
          "score": 0.04322291308096054
         },
         {
          "date": "1987-07-11T05:18:34.486486",
          "score": 0.04379451585959895
         },
         {
          "date": "1987-07-27T07:08:07.459459",
          "score": 0.044365987625425214
         },
         {
          "date": "1987-08-12T08:57:40.432432",
          "score": 0.04493732666886138
         },
         {
          "date": "1987-08-28T10:47:13.405405",
          "score": 0.045508531280727106
         },
         {
          "date": "1987-09-13T12:36:46.378378",
          "score": 0.04607959975224409
         },
         {
          "date": "1987-09-29T13:26:19.351351",
          "score": 0.04665053037504137
         },
         {
          "date": "1987-10-15T15:15:52.324324",
          "score": 0.04722132144115959
         },
         {
          "date": "1987-10-31T17:05:25.297297",
          "score": 0.04779197124305768
         },
         {
          "date": "1987-11-16T18:54:58.270270",
          "score": 0.048362478073617085
         },
         {
          "date": "1987-12-02T20:44:31.243243",
          "score": 0.048932840226146995
         },
         {
          "date": "1987-12-18T22:34:04.216216",
          "score": 0.049503055994388985
         },
         {
          "date": "1988-01-04T00:23:37.189189",
          "score": 0.05007312367252307
         },
         {
          "date": "1988-01-20T02:13:10.162162",
          "score": 0.05064304155517195
         },
         {
          "date": "1988-02-05T04:02:43.135135",
          "score": 0.05121280793740675
         },
         {
          "date": "1988-02-21T05:52:16.108108",
          "score": 0.05178242111475089
         },
         {
          "date": "1988-03-08T07:41:49.081081",
          "score": 0.05235187938318724
         },
         {
          "date": "1988-03-24T09:31:22.054054",
          "score": 0.052921181039161776
         },
         {
          "date": "1988-04-09T12:20:55.027027",
          "score": 0.05349032437958861
         },
         {
          "date": "1988-04-25T14:10:28",
          "score": 0.05405930770185595
         },
         {
          "date": "1988-05-11T16:00:00.972973",
          "score": 0.05462812930383022
         },
         {
          "date": "1988-05-27T17:49:33.945946",
          "score": 0.05519678748386198
         },
         {
          "date": "1988-06-12T19:39:06.918919",
          "score": 0.05576528054079077
         },
         {
          "date": "1988-06-28T21:28:39.891892",
          "score": 0.05633360677394968
         },
         {
          "date": "1988-07-14T23:18:12.864865",
          "score": 0.056901764483171025
         },
         {
          "date": "1988-07-31T01:07:45.837838",
          "score": 0.05746975196879186
         },
         {
          "date": "1988-08-16T02:57:18.810811",
          "score": 0.05803756753165718
         },
         {
          "date": "1988-09-01T04:46:51.783784",
          "score": 0.05860520947312726
         },
         {
          "date": "1988-09-17T06:36:24.756757",
          "score": 0.05917267609508164
         },
         {
          "date": "1988-10-03T07:25:57.729730",
          "score": 0.0597399656999244
         },
         {
          "date": "1988-10-19T09:15:30.702703",
          "score": 0.06030707659058879
         },
         {
          "date": "1988-11-04T11:05:03.675676",
          "score": 0.060874007070543135
         },
         {
          "date": "1988-11-20T12:54:36.648649",
          "score": 0.061440755443795445
         },
         {
          "date": "1988-12-06T14:44:09.621622",
          "score": 0.0620073200148977
         },
         {
          "date": "1988-12-22T16:33:42.594595",
          "score": 0.06257369908895252
         },
         {
          "date": "1989-01-07T18:23:15.567568",
          "score": 0.06313989097161743
         },
         {
          "date": "1989-01-23T20:12:48.540541",
          "score": 0.06370589396910988
         },
         {
          "date": "1989-02-08T22:02:21.513514",
          "score": 0.06427170638821204
         },
         {
          "date": "1989-02-24T23:51:54.486486",
          "score": 0.06483732653627673
         },
         {
          "date": "1989-03-13T01:41:27.459460",
          "score": 0.06540275272123133
         },
         {
          "date": "1989-03-29T04:31:00.432432",
          "score": 0.06596798325158401
         },
         {
          "date": "1989-04-14T06:20:33.405405",
          "score": 0.06653301643642816
         },
         {
          "date": "1989-04-30T08:10:06.378378",
          "score": 0.06709785058544727
         },
         {
          "date": "1989-05-16T09:59:39.351351",
          "score": 0.06766248400892075
         },
         {
          "date": "1989-06-01T11:49:12.324324",
          "score": 0.06822691501772736
         },
         {
          "date": "1989-06-17T13:38:45.297297",
          "score": 0.06879114192335274
         },
         {
          "date": "1989-07-03T15:28:18.270270",
          "score": 0.06935516303789228
         },
         {
          "date": "1989-07-19T17:17:51.243243",
          "score": 0.06991897667405741
         },
         {
          "date": "1989-08-04T19:07:24.216216",
          "score": 0.07048258114518026
         },
         {
          "date": "1989-08-20T20:56:57.189189",
          "score": 0.07104597476521832
         },
         {
          "date": "1989-09-05T22:46:30.162162",
          "score": 0.07160915584875994
         },
         {
          "date": "1989-09-22T00:36:03.135135",
          "score": 0.07217212271102995
         },
         {
          "date": "1989-10-08T01:25:36.108108",
          "score": 0.07273487366789275
         },
         {
          "date": "1989-10-24T03:15:09.081081",
          "score": 0.07329740703585946
         },
         {
          "date": "1989-11-09T05:04:42.054054",
          "score": 0.07385972113209219
         },
         {
          "date": "1989-11-25T06:54:15.027027",
          "score": 0.07442181427440898
         },
         {
          "date": "1989-12-11T08:43:48",
          "score": 0.0749836847812884
         },
         {
          "date": "1989-12-27T10:33:20.972973",
          "score": 0.07554533097187562
         },
         {
          "date": "1990-01-12T12:22:53.945946",
          "score": 0.07610675116598635
         },
         {
          "date": "1990-01-28T14:12:26.918919",
          "score": 0.07666794368411287
         },
         {
          "date": "1990-02-13T16:01:59.891892",
          "score": 0.07722890684742806
         },
         {
          "date": "1990-03-01T17:51:32.864865",
          "score": 0.07778963897779138
         },
         {
          "date": "1990-03-17T19:41:05.837838",
          "score": 0.07835013839775345
         },
         {
          "date": "1990-04-02T22:30:38.810811",
          "score": 0.07891040343056008
         },
         {
          "date": "1990-04-19T00:20:11.783784",
          "score": 0.07947043240015958
         },
         {
          "date": "1990-05-05T02:09:44.756757",
          "score": 0.08003022363120557
         },
         {
          "date": "1990-05-21T03:59:17.729730",
          "score": 0.08058977544906334
         },
         {
          "date": "1990-06-06T05:48:50.702703",
          "score": 0.08114908617981435
         },
         {
          "date": "1990-06-22T07:38:23.675676",
          "score": 0.08170815415026104
         },
         {
          "date": "1990-07-08T09:27:56.648649",
          "score": 0.08226697768793251
         },
         {
          "date": "1990-07-24T11:17:29.621622",
          "score": 0.08282555512108797
         },
         {
          "date": "1990-08-09T13:07:02.594595",
          "score": 0.08338388477872431
         },
         {
          "date": "1990-08-25T14:56:35.567568",
          "score": 0.08394196499057872
         },
         {
          "date": "1990-09-10T16:46:08.540541",
          "score": 0.08449979408713502
         },
         {
          "date": "1990-09-26T18:35:41.513514",
          "score": 0.08505737039962827
         },
         {
          "date": "1990-10-12T19:25:14.486486",
          "score": 0.08561469226004946
         },
         {
          "date": "1990-10-28T21:14:47.459460",
          "score": 0.08617175800115066
         },
         {
          "date": "1990-11-13T23:04:20.432432",
          "score": 0.08672856595645097
         },
         {
          "date": "1990-11-30T00:53:53.405405",
          "score": 0.08728511446023977
         },
         {
          "date": "1990-12-16T02:43:26.378378",
          "score": 0.08784140184758281
         },
         {
          "date": "1991-01-01T04:32:59.351351",
          "score": 0.08839742645432765
         },
         {
          "date": "1991-01-17T06:22:32.324324",
          "score": 0.08895318661710666
         },
         {
          "date": "1991-02-02T08:12:05.297297",
          "score": 0.08950868067334423
         },
         {
          "date": "1991-02-18T10:01:38.270270",
          "score": 0.09006390696126075
         },
         {
          "date": "1991-03-06T11:51:11.243243",
          "score": 0.0906188638198777
         },
         {
          "date": "1991-03-22T13:40:44.216216",
          "score": 0.09117354958902221
         },
         {
          "date": "1991-04-07T16:30:17.189189",
          "score": 0.09172796260933251
         },
         {
          "date": "1991-04-23T18:19:50.162162",
          "score": 0.09228210122226303
         },
         {
          "date": "1991-05-09T20:09:23.135135",
          "score": 0.09283596377008911
         },
         {
          "date": "1991-05-25T21:58:56.108108",
          "score": 0.093389548595911
         },
         {
          "date": "1991-06-10T23:48:29.081081",
          "score": 0.09394285404366094
         },
         {
          "date": "1991-06-27T01:38:02.054054",
          "score": 0.09449587845810661
         },
         {
          "date": "1991-07-13T03:27:35.027027",
          "score": 0.09504862018485606
         },
         {
          "date": "1991-07-29T05:17:08",
          "score": 0.09560107757036353
         },
         {
          "date": "1991-08-14T07:06:40.972973",
          "score": 0.09615324896193346
         },
         {
          "date": "1991-08-30T08:56:13.945946",
          "score": 0.09670513270772582
         },
         {
          "date": "1991-09-15T10:45:46.918919",
          "score": 0.09725672715676141
         },
         {
          "date": "1991-10-01T11:35:19.891892",
          "score": 0.09780803065892647
         },
         {
          "date": "1991-10-17T13:24:52.864865",
          "score": 0.0983590415649772
         },
         {
          "date": "1991-11-02T15:14:25.837838",
          "score": 0.0989097582265459
         },
         {
          "date": "1991-11-18T17:03:58.810811",
          "score": 0.09946017899614387
         },
         {
          "date": "1991-12-04T18:53:31.783784",
          "score": 0.1000103022271686
         },
         {
          "date": "1991-12-20T20:43:04.756757",
          "score": 0.10056012627390712
         },
         {
          "date": "1992-01-05T22:32:37.729730",
          "score": 0.10110964949154225
         },
         {
          "date": "1992-01-22T00:22:10.702703",
          "score": 0.10165887023615601
         },
         {
          "date": "1992-02-07T02:11:43.675676",
          "score": 0.1022077868647353
         },
         {
          "date": "1992-02-23T04:01:16.648649",
          "score": 0.1027563977351776
         },
         {
          "date": "1992-03-10T05:50:49.621622",
          "score": 0.10330470120629373
         },
         {
          "date": "1992-03-26T07:40:22.594595",
          "score": 0.10385269563781505
         },
         {
          "date": "1992-04-11T10:29:55.567568",
          "score": 0.10440037939039733
         },
         {
          "date": "1992-04-27T12:19:28.540541",
          "score": 0.10494775082562578
         },
         {
          "date": "1992-05-13T14:09:01.513514",
          "score": 0.10549480830601965
         },
         {
          "date": "1992-05-29T15:58:34.486486",
          "score": 0.10604155019503736
         },
         {
          "date": "1992-06-14T17:48:07.459460",
          "score": 0.10658797485708174
         },
         {
          "date": "1992-06-30T19:37:40.432432",
          "score": 0.10713408065750463
         },
         {
          "date": "1992-07-16T21:27:13.405405",
          "score": 0.10767986596261128
         },
         {
          "date": "1992-08-01T23:16:46.378378",
          "score": 0.10822532913966638
         },
         {
          "date": "1992-08-18T01:06:19.351351",
          "score": 0.10877046855689801
         },
         {
          "date": "1992-09-03T02:55:52.324324",
          "score": 0.10931528258350216
         },
         {
          "date": "1992-09-19T04:45:25.297297",
          "score": 0.10985976958964891
         },
         {
          "date": "1992-10-05T05:34:58.270270",
          "score": 0.11040392794648667
         },
         {
          "date": "1992-10-21T07:24:31.243243",
          "score": 0.11094775602614698
         },
         {
          "date": "1992-11-06T09:14:04.216216",
          "score": 0.11149125220174903
         },
         {
          "date": "1992-11-22T11:03:37.189189",
          "score": 0.11203441484740542
         },
         {
          "date": "1992-12-08T12:53:10.162162",
          "score": 0.11257724233822598
         },
         {
          "date": "1992-12-24T14:42:43.135135",
          "score": 0.11311973305032408
         },
         {
          "date": "1993-01-09T16:32:16.108108",
          "score": 0.113661885360819
         },
         {
          "date": "1993-01-25T18:21:49.081081",
          "score": 0.11420369764784401
         },
         {
          "date": "1993-02-10T20:11:22.054054",
          "score": 0.11474516829054858
         },
         {
          "date": "1993-02-26T22:00:55.027027",
          "score": 0.11528629566910448
         },
         {
          "date": "1993-03-14T23:50:28",
          "score": 0.11582707816471063
         },
         {
          "date": "1993-03-31T02:40:00.972973",
          "score": 0.1163675141595972
         },
         {
          "date": "1993-04-16T04:29:33.945946",
          "score": 0.11690760203703142
         },
         {
          "date": "1993-05-02T06:19:06.918919",
          "score": 0.11744734018132158
         },
         {
          "date": "1993-05-18T08:08:39.891892",
          "score": 0.117986726977822
         },
         {
          "date": "1993-06-03T09:58:12.864865",
          "score": 0.11852576081293884
         },
         {
          "date": "1993-06-19T11:47:45.837838",
          "score": 0.11906444007413407
         },
         {
          "date": "1993-07-05T13:37:18.810811",
          "score": 0.11960276314992903
         },
         {
          "date": "1993-07-21T15:26:51.783784",
          "score": 0.12014072842991191
         },
         {
          "date": "1993-08-06T17:16:24.756757",
          "score": 0.12067833430474116
         },
         {
          "date": "1993-08-22T19:05:57.729730",
          "score": 0.12121557916615004
         },
         {
          "date": "1993-09-07T20:55:30.702703",
          "score": 0.12175246140695166
         },
         {
          "date": "1993-09-23T22:45:03.675676",
          "score": 0.12228897942104457
         },
         {
          "date": "1993-10-09T23:34:36.648649",
          "score": 0.12282513160341697
         },
         {
          "date": "1993-10-26T01:24:09.621622",
          "score": 0.12336091635015009
         },
         {
          "date": "1993-11-11T03:13:42.594595",
          "score": 0.12389633205842547
         },
         {
          "date": "1993-11-27T05:03:15.567568",
          "score": 0.1244313771265288
         },
         {
          "date": "1993-12-13T06:52:48.540541",
          "score": 0.12496604995385394
         },
         {
          "date": "1993-12-29T08:42:21.513514",
          "score": 0.12550034894090858
         },
         {
          "date": "1994-01-14T10:31:54.486486",
          "score": 0.12603427248931917
         },
         {
          "date": "1994-01-30T12:21:27.459460",
          "score": 0.1265678190018347
         },
         {
          "date": "1994-02-15T14:11:00.432432",
          "score": 0.12710098688233204
         },
         {
          "date": "1994-03-03T16:00:33.405405",
          "score": 0.12763377453582134
         },
         {
          "date": "1994-03-19T17:50:06.378378",
          "score": 0.12816618036844968
         },
         {
          "date": "1994-04-04T20:39:39.351351",
          "score": 0.1286982027875069
         },
         {
          "date": "1994-04-20T22:29:12.324324",
          "score": 0.12922984020142864
         },
         {
          "date": "1994-05-07T00:18:45.297297",
          "score": 0.12976109101980393
         },
         {
          "date": "1994-05-23T02:08:18.270270",
          "score": 0.13029195365337728
         },
         {
          "date": "1994-06-08T03:57:51.243243",
          "score": 0.13082242651405462
         },
         {
          "date": "1994-06-24T05:47:24.216216",
          "score": 0.13135250801490822
         },
         {
          "date": "1994-07-10T07:36:57.189189",
          "score": 0.13188219657018066
         },
         {
          "date": "1994-07-26T09:26:30.162162",
          "score": 0.1324114905952905
         },
         {
          "date": "1994-08-11T11:16:03.135135",
          "score": 0.13294038850683637
         },
         {
          "date": "1994-08-27T13:05:36.108108",
          "score": 0.13346888872260151
         },
         {
          "date": "1994-09-12T14:55:09.081081",
          "score": 0.13399698966155935
         },
         {
          "date": "1994-09-28T15:44:42.054054",
          "score": 0.13452468974387752
         },
         {
          "date": "1994-10-14T17:34:15.027027",
          "score": 0.13505198739092317
         },
         {
          "date": "1994-10-30T19:23:48",
          "score": 0.1355788810252668
         },
         {
          "date": "1994-11-15T21:13:20.972973",
          "score": 0.13610536907068824
         },
         {
          "date": "1994-12-01T23:02:53.945946",
          "score": 0.13663144995218
         },
         {
          "date": "1994-12-18T00:52:26.918919",
          "score": 0.13715712209595274
         },
         {
          "date": "1995-01-03T02:41:59.891892",
          "score": 0.13768238392944013
         },
         {
          "date": "1995-01-19T04:31:32.864865",
          "score": 0.1382072338813035
         },
         {
          "date": "1995-02-04T06:21:05.837838",
          "score": 0.13873167038143616
         },
         {
          "date": "1995-02-20T08:10:38.810811",
          "score": 0.13925569186096726
         },
         {
          "date": "1995-03-08T10:00:11.783784",
          "score": 0.13977929675226902
         },
         {
          "date": "1995-03-24T11:49:44.756757",
          "score": 0.1403024834889591
         },
         {
          "date": "1995-04-09T14:39:17.729730",
          "score": 0.14082525050590614
         },
         {
          "date": "1995-04-25T16:28:50.702703",
          "score": 0.14134759623923446
         },
         {
          "date": "1995-05-11T18:18:23.675676",
          "score": 0.14186951912632909
         },
         {
          "date": "1995-05-27T20:07:56.648649",
          "score": 0.1423910176058398
         },
         {
          "date": "1995-06-12T21:57:29.621622",
          "score": 0.14291209011768483
         },
         {
          "date": "1995-06-28T23:47:02.594595",
          "score": 0.14343273510305837
         },
         {
          "date": "1995-07-15T01:36:35.567568",
          "score": 0.1439529510044327
         },
         {
          "date": "1995-07-31T03:26:08.540541",
          "score": 0.14447273626556406
         },
         {
          "date": "1995-08-16T05:15:41.513514",
          "score": 0.14499208933149652
         },
         {
          "date": "1995-09-01T07:05:14.486486",
          "score": 0.1455110086485679
         },
         {
          "date": "1995-09-17T08:54:47.459460",
          "score": 0.14602949266441262
         },
         {
          "date": "1995-10-03T09:44:20.432432",
          "score": 0.1465475398279681
         },
         {
          "date": "1995-10-19T11:33:53.405405",
          "score": 0.14706514858947814
         },
         {
          "date": "1995-11-04T13:23:26.378378",
          "score": 0.14758231740049804
         },
         {
          "date": "1995-11-20T15:12:59.351351",
          "score": 0.14809904471390006
         },
         {
          "date": "1995-12-06T17:02:32.324324",
          "score": 0.1486153289838753
         },
         {
          "date": "1995-12-22T18:52:05.297297",
          "score": 0.14913116866594245
         },
         {
          "date": "1996-01-07T20:41:38.270270",
          "score": 0.1496465622169488
         },
         {
          "date": "1996-01-23T22:31:11.243243",
          "score": 0.15016150809507692
         },
         {
          "date": "1996-02-09T00:20:44.216216",
          "score": 0.15067600475984813
         },
         {
          "date": "1996-02-25T02:10:17.189189",
          "score": 0.15119005067212807
         },
         {
          "date": "1996-03-12T03:59:50.162162",
          "score": 0.15170364429413044
         },
         {
          "date": "1996-03-28T05:49:23.135135",
          "score": 0.15221678408942224
         },
         {
          "date": "1996-04-13T08:38:56.108108",
          "score": 0.15272946852292774
         },
         {
          "date": "1996-04-29T10:28:29.081081",
          "score": 0.15324169606093369
         },
         {
          "date": "1996-05-15T12:18:02.054054",
          "score": 0.1537534651710939
         },
         {
          "date": "1996-05-31T14:07:35.027027",
          "score": 0.15426477432243307
         },
         {
          "date": "1996-06-16T15:57:08",
          "score": 0.15477562198535247
         },
         {
          "date": "1996-07-02T17:46:40.972973",
          "score": 0.1552860066316334
         },
         {
          "date": "1996-07-18T19:36:13.945946",
          "score": 0.15579592673444237
         },
         {
          "date": "1996-08-03T21:25:46.918919",
          "score": 0.15630538076833603
         },
         {
          "date": "1996-08-19T23:15:19.891892",
          "score": 0.15681436720926453
         },
         {
          "date": "1996-09-05T01:04:52.864865",
          "score": 0.15732288453457788
         },
         {
          "date": "1996-09-21T02:54:25.837838",
          "score": 0.1578309312230288
         },
         {
          "date": "1996-10-07T04:43:58.810811",
          "score": 0.15833850575477754
         },
         {
          "date": "1996-10-23T06:33:31.783784",
          "score": 0.15884560661139754
         },
         {
          "date": "1996-11-08T07:23:04.756757",
          "score": 0.15935223227587883
         },
         {
          "date": "1996-11-24T09:12:37.729730",
          "score": 0.15985838123263355
         },
         {
          "date": "1996-12-10T11:02:10.702703",
          "score": 0.16036405196749903
         },
         {
          "date": "1996-12-26T12:51:43.675676",
          "score": 0.1608692429677442
         },
         {
          "date": "1997-01-11T14:41:16.648649",
          "score": 0.16137395272207306
         },
         {
          "date": "1997-01-27T16:30:49.621622",
          "score": 0.16187817972062793
         },
         {
          "date": "1997-02-12T18:20:22.594595",
          "score": 0.16238192245499658
         },
         {
          "date": "1997-02-28T20:09:55.567568",
          "score": 0.16288517941821537
         },
         {
          "date": "1997-03-16T21:59:28.540541",
          "score": 0.16338794910477356
         },
         {
          "date": "1997-04-02T00:49:01.513514",
          "score": 0.16389023001061792
         },
         {
          "date": "1997-04-18T02:38:34.486487",
          "score": 0.1643920206331581
         },
         {
          "date": "1997-05-04T04:28:07.459459",
          "score": 0.1648933194712701
         },
         {
          "date": "1997-05-20T06:17:40.432432",
          "score": 0.16539412502530082
         },
         {
          "date": "1997-06-05T08:07:13.405405",
          "score": 0.1658944357970731
         },
         {
          "date": "1997-06-21T09:56:46.378378",
          "score": 0.1663942502898901
         },
         {
          "date": "1997-07-07T11:46:19.351351",
          "score": 0.1668935670085395
         },
         {
          "date": "1997-07-23T13:35:52.324324",
          "score": 0.16739238445929763
         },
         {
          "date": "1997-08-08T15:25:25.297297",
          "score": 0.16789070114993496
         },
         {
          "date": "1997-08-24T17:14:58.270270",
          "score": 0.16838851558972
         },
         {
          "date": "1997-09-09T19:04:31.243243",
          "score": 0.1688858262894235
         },
         {
          "date": "1997-09-25T20:54:04.216216",
          "score": 0.16938263176132315
         },
         {
          "date": "1997-10-11T22:43:37.189189",
          "score": 0.16987893051920838
         },
         {
          "date": "1997-10-27T23:33:10.162162",
          "score": 0.17037472107838394
         },
         {
          "date": "1997-11-13T01:22:43.135135",
          "score": 0.17087000195567587
         },
         {
          "date": "1997-11-29T03:12:16.108108",
          "score": 0.17136477166943334
         },
         {
          "date": "1997-12-15T05:01:49.081081",
          "score": 0.17185902873953615
         },
         {
          "date": "1997-12-31T06:51:22.054054",
          "score": 0.17235277168739688
         },
         {
          "date": "1998-01-16T08:40:55.027027",
          "score": 0.17284599903596667
         },
         {
          "date": "1998-02-01T10:30:28",
          "score": 0.17333870930973866
         },
         {
          "date": "1998-02-17T12:20:00.972973",
          "score": 0.17383090103475285
         },
         {
          "date": "1998-03-05T14:09:33.945946",
          "score": 0.17432257273860094
         },
         {
          "date": "1998-03-21T15:59:06.918919",
          "score": 0.1748137229504298
         },
         {
          "date": "1998-04-06T18:48:39.891892",
          "score": 0.17530435020094629
         },
         {
          "date": "1998-04-22T20:38:12.864865",
          "score": 0.17579445302242241
         },
         {
          "date": "1998-05-08T22:27:45.837838",
          "score": 0.1762840299486989
         },
         {
          "date": "1998-05-25T00:17:18.810811",
          "score": 0.17677307951518859
         },
         {
          "date": "1998-06-10T02:06:51.783784",
          "score": 0.17726160025888296
         },
         {
          "date": "1998-06-26T03:56:24.756757",
          "score": 0.17774959071835555
         },
         {
          "date": "1998-07-12T05:45:57.729730",
          "score": 0.17823704943376573
         },
         {
          "date": "1998-07-28T07:35:30.702703",
          "score": 0.17872397494686382
         },
         {
          "date": "1998-08-13T09:25:03.675676",
          "score": 0.17921036580099567
         },
         {
          "date": "1998-08-29T11:14:36.648649",
          "score": 0.17969622054110593
         },
         {
          "date": "1998-09-14T13:04:09.621622",
          "score": 0.18018153771374354
         },
         {
          "date": "1998-09-30T14:53:42.594595",
          "score": 0.18066631586706489
         },
         {
          "date": "1998-10-16T16:43:15.567568",
          "score": 0.18115055355083953
         },
         {
          "date": "1998-11-01T17:32:48.540541",
          "score": 0.18163424931645356
         },
         {
          "date": "1998-11-17T19:22:21.513514",
          "score": 0.1821174017169143
         },
         {
          "date": "1998-12-03T21:11:54.486487",
          "score": 0.182600009306855
         },
         {
          "date": "1998-12-19T23:01:27.459459",
          "score": 0.18308207064253806
         },
         {
          "date": "1999-01-05T00:51:00.432432",
          "score": 0.18356358428186012
         },
         {
          "date": "1999-01-21T02:40:33.405405",
          "score": 0.18404454878435675
         },
         {
          "date": "1999-02-06T04:30:06.378378",
          "score": 0.18452496271120572
         },
         {
          "date": "1999-02-22T06:19:39.351351",
          "score": 0.18500482462523252
         },
         {
          "date": "1999-03-10T08:09:12.324324",
          "score": 0.18548413309091294
         },
         {
          "date": "1999-03-26T09:58:45.297297",
          "score": 0.1859628866743796
         },
         {
          "date": "1999-04-11T12:48:18.270270",
          "score": 0.18644108394342437
         },
         {
          "date": "1999-04-27T14:37:51.243243",
          "score": 0.18691872346750346
         },
         {
          "date": "1999-05-13T16:27:24.216216",
          "score": 0.1873958038177419
         },
         {
          "date": "1999-05-29T18:16:57.189189",
          "score": 0.18787232356693703
         },
         {
          "date": "1999-06-14T20:06:30.162162",
          "score": 0.1883482812895638
         },
         {
          "date": "1999-06-30T21:56:03.135135",
          "score": 0.18882367556177815
         },
         {
          "date": "1999-07-16T23:45:36.108108",
          "score": 0.1892985049614214
         },
         {
          "date": "1999-08-02T01:35:09.081081",
          "score": 0.1897727680680249
         },
         {
          "date": "1999-08-18T03:24:42.054054",
          "score": 0.19024646346281443
         },
         {
          "date": "1999-09-03T05:14:15.027027",
          "score": 0.19071958972871367
         },
         {
          "date": "1999-09-19T07:03:48",
          "score": 0.1911921454503488
         },
         {
          "date": "1999-10-05T08:53:20.972973",
          "score": 0.19166412921405332
         },
         {
          "date": "1999-10-21T10:42:53.945946",
          "score": 0.19213553960787128
         },
         {
          "date": "1999-11-06T11:32:26.918919",
          "score": 0.19260637522156204
         },
         {
          "date": "1999-11-22T13:21:59.891892",
          "score": 0.19307663464660452
         },
         {
          "date": "1999-12-08T15:11:32.864865",
          "score": 0.19354631647620174
         },
         {
          "date": "1999-12-24T17:01:05.837838",
          "score": 0.19401541930528432
         },
         {
          "date": "2000-01-09T18:50:38.810811",
          "score": 0.19448394173051406
         },
         {
          "date": "2000-01-25T20:40:11.783784",
          "score": 0.19495188235029048
         },
         {
          "date": "2000-02-10T22:29:44.756757",
          "score": 0.19541923976475278
         },
         {
          "date": "2000-02-27T00:19:17.729730",
          "score": 0.1958860125757852
         },
         {
          "date": "2000-03-14T02:08:50.702703",
          "score": 0.19635219938702045
         },
         {
          "date": "2000-03-30T04:58:23.675676",
          "score": 0.19681779880384495
         },
         {
          "date": "2000-04-15T06:47:56.648649",
          "score": 0.19728280943340154
         },
         {
          "date": "2000-05-01T08:37:29.621622",
          "score": 0.1977472298845954
         },
         {
          "date": "2000-05-17T10:27:02.594595",
          "score": 0.19821105876809583
         },
         {
          "date": "2000-06-02T12:16:35.567568",
          "score": 0.19867429469634293
         },
         {
          "date": "2000-06-18T14:06:08.540541",
          "score": 0.1991369362835505
         },
         {
          "date": "2000-07-04T15:55:41.513514",
          "score": 0.1995989821457099
         },
         {
          "date": "2000-07-20T17:45:14.486487",
          "score": 0.2000604309005954
         },
         {
          "date": "2000-08-05T19:34:47.459459",
          "score": 0.20052128116776666
         },
         {
          "date": "2000-08-21T21:24:20.432432",
          "score": 0.20098153156857437
         },
         {
          "date": "2000-09-06T23:13:53.405405",
          "score": 0.20144118072616343
         },
         {
          "date": "2000-09-23T01:03:26.378378",
          "score": 0.2019002272654773
         },
         {
          "date": "2000-10-09T02:52:59.351351",
          "score": 0.20235866981326267
         },
         {
          "date": "2000-10-25T04:42:32.324324",
          "score": 0.2028165069980725
         },
         {
          "date": "2000-11-10T05:32:05.297297",
          "score": 0.203273737450271
         },
         {
          "date": "2000-11-26T07:21:38.270270",
          "score": 0.20373035980203735
         },
         {
          "date": "2000-12-12T09:11:11.243243",
          "score": 0.20418637268737022
         },
         {
          "date": "2000-12-28T11:00:44.216216",
          "score": 0.20464177474209097
         },
         {
          "date": "2001-01-13T12:50:17.189189",
          "score": 0.20509656460384884
         },
         {
          "date": "2001-01-29T14:39:50.162162",
          "score": 0.20555074091212402
         },
         {
          "date": "2001-02-14T16:29:23.135135",
          "score": 0.20600430230823252
         },
         {
          "date": "2001-03-02T18:18:56.108108",
          "score": 0.2064572474353293
         },
         {
          "date": "2001-03-18T20:08:29.081081",
          "score": 0.2069095749384137
         },
         {
          "date": "2001-04-03T22:58:02.054054",
          "score": 0.2073612834643322
         },
         {
          "date": "2001-04-20T00:47:35.027027",
          "score": 0.20781237166178296
         },
         {
          "date": "2001-05-06T02:37:08",
          "score": 0.2082628381813202
         },
         {
          "date": "2001-05-22T04:26:40.972973",
          "score": 0.20871268167535764
         },
         {
          "date": "2001-06-07T06:16:13.945946",
          "score": 0.20916190079817273
         },
         {
          "date": "2001-06-23T08:05:46.918919",
          "score": 0.20961049420591113
         },
         {
          "date": "2001-07-09T09:55:19.891892",
          "score": 0.21005846055658978
         },
         {
          "date": "2001-07-25T11:44:52.864865",
          "score": 0.2105057985101026
         },
         {
          "date": "2001-08-10T13:34:25.837838",
          "score": 0.21095250672822158
         },
         {
          "date": "2001-08-26T15:23:58.810811",
          "score": 0.21139858387460417
         },
         {
          "date": "2001-09-11T17:13:31.783784",
          "score": 0.21184402861479482
         },
         {
          "date": "2001-09-27T19:03:04.756757",
          "score": 0.2122888396162305
         },
         {
          "date": "2001-10-13T20:52:37.729730",
          "score": 0.2127330155482435
         },
         {
          "date": "2001-10-29T21:42:10.702703",
          "score": 0.2131765550820659
         },
         {
          "date": "2001-11-14T23:31:43.675676",
          "score": 0.21361945689083417
         },
         {
          "date": "2001-12-01T01:21:16.648649",
          "score": 0.21406171964959217
         },
         {
          "date": "2001-12-17T03:10:49.621622",
          "score": 0.21450334203529575
         },
         {
          "date": "2002-01-02T05:00:22.594595",
          "score": 0.21494432272681546
         },
         {
          "date": "2002-01-18T06:49:55.567568",
          "score": 0.21538466040494283
         },
         {
          "date": "2002-02-03T08:39:28.540541",
          "score": 0.21582435375239212
         },
         {
          "date": "2002-02-19T10:29:01.513514",
          "score": 0.21626340145380585
         },
         {
          "date": "2002-03-07T12:18:34.486487",
          "score": 0.21670180219575727
         },
         {
          "date": "2002-03-23T14:08:07.459459",
          "score": 0.21713955466675564
         },
         {
          "date": "2002-04-08T16:57:40.432432",
          "score": 0.21757665755724906
         },
         {
          "date": "2002-04-24T18:47:13.405405",
          "score": 0.21801310955962908
         },
         {
          "date": "2002-05-10T20:36:46.378378",
          "score": 0.21844890936823455
         },
         {
          "date": "2002-05-26T22:26:19.351351",
          "score": 0.21888405567935526
         },
         {
          "date": "2002-06-12T00:15:52.324324",
          "score": 0.21931854719123572
         },
         {
          "date": "2002-06-28T02:05:25.297297",
          "score": 0.2197523826040795
         },
         {
          "date": "2002-07-14T03:54:58.270270",
          "score": 0.22018556062005315
         },
         {
          "date": "2002-07-30T05:44:31.243243",
          "score": 0.22061807994328939
         },
         {
          "date": "2002-08-15T07:34:04.216216",
          "score": 0.2210499392798919
         },
         {
          "date": "2002-08-31T09:23:37.189189",
          "score": 0.22148113733793837
         },
         {
          "date": "2002-09-16T11:13:10.162162",
          "score": 0.22191167282748483
         },
         {
          "date": "2002-10-02T13:02:43.135135",
          "score": 0.22234154446056967
         },
         {
          "date": "2002-10-18T14:52:16.108108",
          "score": 0.22277075095121673
         },
         {
          "date": "2002-11-03T15:41:49.081081",
          "score": 0.22319929101544
         },
         {
          "date": "2002-11-19T17:31:22.054054",
          "score": 0.2236271633712469
         },
         {
          "date": "2002-12-05T19:20:55.027027",
          "score": 0.22405436673864274
         },
         {
          "date": "2002-12-21T21:10:28",
          "score": 0.22448089983963362
         },
         {
          "date": "2003-01-06T23:00:00.972973",
          "score": 0.22490676139823096
         },
         {
          "date": "2003-01-23T00:49:33.945946",
          "score": 0.22533195014045532
         },
         {
          "date": "2003-02-08T02:39:06.918919",
          "score": 0.22575646479433958
         },
         {
          "date": "2003-02-24T04:28:39.891892",
          "score": 0.22618030408993356
         },
         {
          "date": "2003-03-12T06:18:12.864865",
          "score": 0.22660346675930784
         },
         {
          "date": "2003-03-28T08:07:45.837838",
          "score": 0.22702595153655586
         },
         {
          "date": "2003-04-13T10:57:18.810811",
          "score": 0.2274477571577999
         },
         {
          "date": "2003-04-29T12:46:51.783784",
          "score": 0.22786888236119404
         },
         {
          "date": "2003-05-15T14:36:24.756757",
          "score": 0.22828932588692763
         },
         {
          "date": "2003-05-31T16:25:57.729730",
          "score": 0.22870908647722904
         },
         {
          "date": "2003-06-16T18:15:30.702703",
          "score": 0.22912816287637003
         },
         {
          "date": "2003-07-02T20:05:03.675676",
          "score": 0.2295465538306693
         },
         {
          "date": "2003-07-18T21:54:36.648649",
          "score": 0.22996425808849558
         },
         {
          "date": "2003-08-03T23:44:09.621622",
          "score": 0.2303812744002723
         },
         {
          "date": "2003-08-20T01:33:42.594595",
          "score": 0.2307976015184803
         },
         {
          "date": "2003-09-05T03:23:15.567568",
          "score": 0.23121323819766285
         },
         {
          "date": "2003-09-21T05:12:48.540541",
          "score": 0.23162818319442813
         },
         {
          "date": "2003-10-07T07:02:21.513514",
          "score": 0.2320424352674541
         },
         {
          "date": "2003-10-23T08:51:54.486487",
          "score": 0.2324559931774914
         },
         {
          "date": "2003-11-08T09:41:27.459459",
          "score": 0.23286885568736707
         },
         {
          "date": "2003-11-24T11:31:00.432432",
          "score": 0.23328102156198843
         },
         {
          "date": "2003-12-10T13:20:33.405405",
          "score": 0.2336924895683473
         },
         {
          "date": "2003-12-26T15:10:06.378378",
          "score": 0.23410325847552255
         },
         {
          "date": "2004-01-11T16:59:39.351351",
          "score": 0.23451332705468506
         },
         {
          "date": "2004-01-27T18:49:12.324324",
          "score": 0.23492269407910044
         },
         {
          "date": "2004-02-12T20:38:45.297297",
          "score": 0.23533135832413277
         },
         {
          "date": "2004-02-28T22:28:18.270270",
          "score": 0.23573931856724886
         },
         {
          "date": "2004-03-16T00:17:51.243243",
          "score": 0.23614657358802174
         },
         {
          "date": "2004-04-01T03:07:24.216216",
          "score": 0.2365531221681337
         },
         {
          "date": "2004-04-17T04:56:57.189189",
          "score": 0.23695896309138054
         },
         {
          "date": "2004-05-03T06:46:30.162162",
          "score": 0.23736409514367543
         },
         {
          "date": "2004-05-19T08:36:03.135135",
          "score": 0.23776851711305122
         },
         {
          "date": "2004-06-04T10:25:36.108108",
          "score": 0.23817222778966596
         },
         {
          "date": "2004-06-20T12:15:09.081081",
          "score": 0.23857522596580494
         },
         {
          "date": "2004-07-06T14:04:42.054054",
          "score": 0.23897751043588536
         },
         {
          "date": "2004-07-22T15:54:15.027027",
          "score": 0.23937907999645922
         },
         {
          "date": "2004-08-07T17:43:48",
          "score": 0.23977993344621715
         },
         {
          "date": "2004-08-23T19:33:20.972973",
          "score": 0.2401800695859923
         },
         {
          "date": "2004-09-08T21:22:53.945946",
          "score": 0.24057948721876343
         },
         {
          "date": "2004-09-24T23:12:26.918919",
          "score": 0.240978185149659
         },
         {
          "date": "2004-10-11T01:01:59.891892",
          "score": 0.24137616218595997
         },
         {
          "date": "2004-10-27T02:51:32.864865",
          "score": 0.2417734171371047
         },
         {
          "date": "2004-11-12T03:41:05.837838",
          "score": 0.24216994881469098
         },
         {
          "date": "2004-11-28T05:30:38.810811",
          "score": 0.24256575603248096
         },
         {
          "date": "2004-12-14T07:20:11.783784",
          "score": 0.24296083760640297
         },
         {
          "date": "2004-12-30T09:09:44.756757",
          "score": 0.24335519235455697
         },
         {
          "date": "2005-01-15T10:59:17.729730",
          "score": 0.24374881909721732
         },
         {
          "date": "2005-01-31T12:48:50.702703",
          "score": 0.24414171665683557
         },
         {
          "date": "2005-02-16T14:38:23.675676",
          "score": 0.24453388385804584
         },
         {
          "date": "2005-03-04T16:27:56.648649",
          "score": 0.24492531952766539
         },
         {
          "date": "2005-03-20T18:17:29.621622",
          "score": 0.24531602249470139
         },
         {
          "date": "2005-04-05T21:07:02.594594",
          "score": 0.24570599159035228
         },
         {
          "date": "2005-04-21T22:56:35.567568",
          "score": 0.24609522564801184
         },
         {
          "date": "2005-05-08T00:46:08.540541",
          "score": 0.2464837235032729
         },
         {
          "date": "2005-05-24T02:35:41.513514",
          "score": 0.24687148399393102
         },
         {
          "date": "2005-06-09T04:25:14.486486",
          "score": 0.24725850595998702
         },
         {
          "date": "2005-06-25T06:14:47.459460",
          "score": 0.24764478824365113
         },
         {
          "date": "2005-07-11T08:04:20.432432",
          "score": 0.24803032968934674
         },
         {
          "date": "2005-07-27T09:53:53.405406",
          "score": 0.2484151291437131
         },
         {
          "date": "2005-08-12T11:43:26.378378",
          "score": 0.24879918545560942
         },
         {
          "date": "2005-08-28T13:32:59.351351",
          "score": 0.24918249747611787
         },
         {
          "date": "2005-09-13T15:22:32.324324",
          "score": 0.24956506405854736
         },
         {
          "date": "2005-09-29T17:12:05.297297",
          "score": 0.24994688405843635
         },
         {
          "date": "2005-10-15T19:01:38.270270",
          "score": 0.2503279563335574
         },
         {
          "date": "2005-10-31T19:51:11.243243",
          "score": 0.2507082797439195
         },
         {
          "date": "2005-11-16T21:40:44.216216",
          "score": 0.251087853151772
         },
         {
          "date": "2005-12-02T23:30:17.189189",
          "score": 0.25146667542160783
         },
         {
          "date": "2005-12-19T01:19:50.162162",
          "score": 0.25184474542016727
         },
         {
          "date": "2006-01-04T03:09:23.135135",
          "score": 0.25222206201644054
         },
         {
          "date": "2006-01-20T04:58:56.108108",
          "score": 0.2525986240816719
         },
         {
          "date": "2006-02-05T06:48:29.081081",
          "score": 0.25297443048936313
         },
         {
          "date": "2006-02-21T08:38:02.054054",
          "score": 0.25334948011527625
         },
         {
          "date": "2006-03-09T10:27:35.027027",
          "score": 0.25372377183743716
         },
         {
          "date": "2006-03-25T12:17:08",
          "score": 0.2540973045361395
         },
         {
          "date": "2006-04-10T15:06:40.972973",
          "score": 0.2544700770939469
         },
         {
          "date": "2006-04-26T16:56:13.945946",
          "score": 0.2548420883956976
         },
         {
          "date": "2006-05-12T18:45:46.918919",
          "score": 0.2552133373285068
         },
         {
          "date": "2006-05-28T20:35:19.891892",
          "score": 0.25558382278177033
         },
         {
          "date": "2006-06-13T22:24:52.864865",
          "score": 0.25595354364716827
         },
         {
          "date": "2006-06-30T00:14:25.837838",
          "score": 0.256322498818668
         },
         {
          "date": "2006-07-16T02:03:58.810811",
          "score": 0.2566906871925273
         },
         {
          "date": "2006-08-01T03:53:31.783784",
          "score": 0.25705810766729736
         },
         {
          "date": "2006-08-17T05:43:04.756757",
          "score": 0.2574247591438276
         },
         {
          "date": "2006-09-02T07:32:37.729730",
          "score": 0.257790640525267
         },
         {
          "date": "2006-09-18T09:22:10.702703",
          "score": 0.25815575071706925
         },
         {
          "date": "2006-10-04T11:11:43.675676",
          "score": 0.2585200886269945
         },
         {
          "date": "2006-10-20T13:01:16.648649",
          "score": 0.2588836531651128
         },
         {
          "date": "2006-11-05T13:50:49.621622",
          "score": 0.25924644324380863
         },
         {
          "date": "2006-11-21T15:40:22.594594",
          "score": 0.2596084577777825
         },
         {
          "date": "2006-12-07T17:29:55.567568",
          "score": 0.25996969568405587
         },
         {
          "date": "2006-12-23T19:19:28.540541",
          "score": 0.26033015588197256
         },
         {
          "date": "2007-01-08T21:09:01.513514",
          "score": 0.2606898372932038
         },
         {
          "date": "2007-01-24T22:58:34.486486",
          "score": 0.26104873884174995
         },
         {
          "date": "2007-02-10T00:48:07.459460",
          "score": 0.2614068594539447
         },
         {
          "date": "2007-02-26T02:37:40.432432",
          "score": 0.2617641980584577
         },
         {
          "date": "2007-03-14T04:27:13.405406",
          "score": 0.26212075358629827
         },
         {
          "date": "2007-03-30T07:16:46.378378",
          "score": 0.2624765249708181
         },
         {
          "date": "2007-04-15T09:06:19.351351",
          "score": 0.2628315111477147
         },
         {
          "date": "2007-05-01T10:55:52.324324",
          "score": 0.2631857110550349
         },
         {
          "date": "2007-05-17T12:45:25.297297",
          "score": 0.263539123633177
         },
         {
          "date": "2007-06-02T14:34:58.270270",
          "score": 0.2638917478248952
         },
         {
          "date": "2007-06-18T16:24:31.243243",
          "score": 0.26424358257530206
         },
         {
          "date": "2007-07-04T18:14:04.216216",
          "score": 0.2645946268318717
         },
         {
          "date": "2007-07-20T20:03:37.189189",
          "score": 0.26494487954444307
         },
         {
          "date": "2007-08-05T21:53:10.162162",
          "score": 0.26529433966522303
         },
         {
          "date": "2007-08-21T23:42:43.135135",
          "score": 0.2656430061487894
         },
         {
          "date": "2007-09-07T01:32:16.108108",
          "score": 0.2659908779520944
         },
         {
          "date": "2007-09-23T03:21:49.081081",
          "score": 0.2663379540344676
         },
         {
          "date": "2007-10-09T05:11:22.054054",
          "score": 0.26668423335761854
         },
         {
          "date": "2007-10-25T07:00:55.027027",
          "score": 0.2670297148856409
         },
         {
          "date": "2007-11-10T07:50:28",
          "score": 0.26737439758501474
         },
         {
          "date": "2007-11-26T09:40:00.972973",
          "score": 0.2677182804246096
         },
         {
          "date": "2007-12-12T11:29:33.945946",
          "score": 0.26806136237568823
         },
         {
          "date": "2007-12-28T13:19:06.918919",
          "score": 0.26840364241190895
         },
         {
          "date": "2008-01-13T15:08:39.891892",
          "score": 0.26874511950932906
         },
         {
          "date": "2008-01-29T16:58:12.864865",
          "score": 0.2690857926464084
         },
         {
          "date": "2008-02-14T18:47:45.837838",
          "score": 0.26942566080401115
         },
         {
          "date": "2008-03-01T20:37:18.810811",
          "score": 0.26976472296541026
         },
         {
          "date": "2008-03-17T22:26:51.783784",
          "score": 0.270102978116289
         },
         {
          "date": "2008-04-03T01:16:24.756757",
          "score": 0.2704404252447457
         },
         {
          "date": "2008-04-19T03:05:57.729730",
          "score": 0.27077706334129537
         },
         {
          "date": "2008-05-05T04:55:30.702703",
          "score": 0.2711128913988736
         },
         {
          "date": "2008-05-21T06:45:03.675676",
          "score": 0.2714479084128395
         },
         {
          "date": "2008-06-06T08:34:36.648649",
          "score": 0.27178211338097746
         },
         {
          "date": "2008-06-22T10:24:09.621622",
          "score": 0.27211550530350187
         },
         {
          "date": "2008-07-08T12:13:42.594594",
          "score": 0.27244808318305935
         },
         {
          "date": "2008-07-24T14:03:15.567568",
          "score": 0.2727798460247317
         },
         {
          "date": "2008-08-09T15:52:48.540541",
          "score": 0.27311079283603856
         },
         {
          "date": "2008-08-25T17:42:21.513514",
          "score": 0.2734409226269414
         },
         {
          "date": "2008-09-10T19:31:54.486486",
          "score": 0.27377023440984555
         },
         {
          "date": "2008-09-26T21:21:27.459460",
          "score": 0.27409872719960315
         },
         {
          "date": "2008-10-12T23:11:00.432432",
          "score": 0.2744264000135168
         },
         {
          "date": "2008-10-29T00:00:33.405406",
          "score": 0.27475325187134186
         },
         {
          "date": "2008-11-14T01:50:06.378378",
          "score": 0.2750792817952896
         },
         {
          "date": "2008-11-30T03:39:39.351351",
          "score": 0.27540448881003043
         },
         {
          "date": "2008-12-16T05:29:12.324324",
          "score": 0.27572887194269613
         },
         {
          "date": "2009-01-01T07:18:45.297297",
          "score": 0.2760524302228833
         },
         {
          "date": "2009-01-17T09:08:18.270270",
          "score": 0.27637516268265594
         },
         {
          "date": "2009-02-02T10:57:51.243243",
          "score": 0.2766970683565491
         },
         {
          "date": "2009-02-18T12:47:24.216216",
          "score": 0.27701814628157057
         },
         {
          "date": "2009-03-06T14:36:57.189189",
          "score": 0.2773383954972046
         },
         {
          "date": "2009-03-22T16:26:30.162162",
          "score": 0.27765781504541476
         },
         {
          "date": "2009-04-07T19:16:03.135135",
          "score": 0.2779764039706461
         },
         {
          "date": "2009-04-23T21:05:36.108108",
          "score": 0.27829416131982904
         },
         {
          "date": "2009-05-09T22:55:09.081081",
          "score": 0.2786110861423812
         },
         {
          "date": "2009-05-26T00:44:42.054054",
          "score": 0.2789271774902113
         },
         {
          "date": "2009-06-11T02:34:15.027027",
          "score": 0.279242434417721
         },
         {
          "date": "2009-06-27T04:23:48",
          "score": 0.27955685598180813
         },
         {
          "date": "2009-07-13T06:13:20.972973",
          "score": 0.2798704412418699
         },
         {
          "date": "2009-07-29T08:02:53.945946",
          "score": 0.2801831892598049
         },
         {
          "date": "2009-08-14T09:52:26.918919",
          "score": 0.28049509910001663
         },
         {
          "date": "2009-08-30T11:41:59.891892",
          "score": 0.2808061698294163
         },
         {
          "date": "2009-09-15T13:31:32.864865",
          "score": 0.2811164005174248
         },
         {
          "date": "2009-10-01T15:21:05.837838",
          "score": 0.2814257902359762
         },
         {
          "date": "2009-10-17T17:10:38.810811",
          "score": 0.2817343380595209
         },
         {
          "date": "2009-11-02T18:00:11.783784",
          "score": 0.2820420430650268
         },
         {
          "date": "2009-11-18T19:49:44.756757",
          "score": 0.28234890433198373
         },
         {
          "date": "2009-12-04T21:39:17.729730",
          "score": 0.2826549209424058
         },
         {
          "date": "2009-12-20T23:28:50.702703",
          "score": 0.28296009198083377
         },
         {
          "date": "2010-01-06T01:18:23.675676",
          "score": 0.2832644165343381
         },
         {
          "date": "2010-01-22T03:07:56.648649",
          "score": 0.2835678936925207
         },
         {
          "date": "2010-02-07T04:57:29.621622",
          "score": 0.2838705225475196
         },
         {
          "date": "2010-02-23T06:47:02.594594",
          "score": 0.2841723021940099
         },
         {
          "date": "2010-03-11T08:36:35.567568",
          "score": 0.2844732317292074
         },
         {
          "date": "2010-03-27T10:26:08.540541",
          "score": 0.2847733102528709
         },
         {
          "date": "2010-04-12T13:15:41.513514",
          "score": 0.2850725368673052
         },
         {
          "date": "2010-04-28T15:05:14.486486",
          "score": 0.2853709106773635
         },
         {
          "date": "2010-05-14T16:54:47.459460",
          "score": 0.2856684307904502
         },
         {
          "date": "2010-05-30T18:44:20.432432",
          "score": 0.28596509631652356
         },
         {
          "date": "2010-06-15T20:33:53.405406",
          "score": 0.28626090636809826
         },
         {
          "date": "2010-07-01T22:23:26.378378",
          "score": 0.2865558600602484
         },
         {
          "date": "2010-07-18T00:12:59.351351",
          "score": 0.28684995651060985
         },
         {
          "date": "2010-08-03T02:02:32.324324",
          "score": 0.28714319483938283
         },
         {
          "date": "2010-08-19T03:52:05.297297",
          "score": 0.28743557416933446
         },
         {
          "date": "2010-09-04T05:41:38.270270",
          "score": 0.28772709362580223
         },
         {
          "date": "2010-09-20T07:31:11.243243",
          "score": 0.28801775233669535
         },
         {
          "date": "2010-10-06T09:20:44.216216",
          "score": 0.28830754943249814
         },
         {
          "date": "2010-10-22T11:10:17.189189",
          "score": 0.2885964840462728
         },
         {
          "date": "2010-11-07T11:59:50.162162",
          "score": 0.2888845553136614
         },
         {
          "date": "2010-11-23T13:49:23.135135",
          "score": 0.28917176237288855
         },
         {
          "date": "2010-12-09T15:38:56.108108",
          "score": 0.2894581043647644
         },
         {
          "date": "2010-12-25T17:28:29.081081",
          "score": 0.289743580432687
         },
         {
          "date": "2011-01-10T19:18:02.054054",
          "score": 0.2900281897226449
         },
         {
          "date": "2011-01-26T21:07:35.027027",
          "score": 0.29031193138321937
         },
         {
          "date": "2011-02-11T22:57:08",
          "score": 0.29059480456558756
         },
         {
          "date": "2011-02-28T00:46:40.972973",
          "score": 0.2908768084235244
         },
         {
          "date": "2011-03-16T02:36:13.945946",
          "score": 0.2911579421134058
         },
         {
          "date": "2011-04-01T05:25:46.918919",
          "score": 0.2914382047942102
         },
         {
          "date": "2011-04-17T07:15:19.891892",
          "score": 0.2917175956275224
         },
         {
          "date": "2011-05-03T09:04:52.864865",
          "score": 0.2919961137775349
         },
         {
          "date": "2011-05-19T10:54:25.837838",
          "score": 0.29227375841105113
         },
         {
          "date": "2011-06-04T12:43:58.810811",
          "score": 0.29255052869748766
         },
         {
          "date": "2011-06-20T14:33:31.783784",
          "score": 0.2928264238088761
         },
         {
          "date": "2011-07-06T16:23:04.756757",
          "score": 0.29310144291986695
         },
         {
          "date": "2011-07-22T18:12:37.729730",
          "score": 0.2933755852077309
         },
         {
          "date": "2011-08-07T20:02:10.702703",
          "score": 0.293648849852362
         },
         {
          "date": "2011-08-23T21:51:43.675676",
          "score": 0.29392123603627957
         },
         {
          "date": "2011-09-08T23:41:16.648649",
          "score": 0.29419274294463077
         },
         {
          "date": "2011-09-25T01:30:49.621622",
          "score": 0.2944633697651933
         },
         {
          "date": "2011-10-11T03:20:22.594594",
          "score": 0.2947331156883775
         },
         {
          "date": "2011-10-27T05:09:55.567568",
          "score": 0.2950019799072293
         },
         {
          "date": "2011-11-12T05:59:28.540541",
          "score": 0.29526996161743196
         },
         {
          "date": "2011-11-28T07:49:01.513514",
          "score": 0.29553706001730906
         },
         {
          "date": "2011-12-14T09:38:34.486486",
          "score": 0.29580327430782627
         },
         {
          "date": "2011-12-30T11:28:07.459460",
          "score": 0.2960686036925945
         },
         {
          "date": "2012-01-15T13:17:40.432432",
          "score": 0.2963330473778716
         },
         {
          "date": "2012-01-31T15:07:13.405406",
          "score": 0.2965966045725651
         },
         {
          "date": "2012-02-16T16:56:46.378378",
          "score": 0.2968592744882346
         },
         {
          "date": "2012-03-03T18:46:19.351351",
          "score": 0.29712105633909386
         },
         {
          "date": "2012-03-19T20:35:52.324324",
          "score": 0.2973819493420135
         },
         {
          "date": "2012-04-04T23:25:25.297297",
          "score": 0.29764195271652294
         },
         {
          "date": "2012-04-21T01:14:58.270270",
          "score": 0.2979010656848131
         },
         {
          "date": "2012-05-07T03:04:31.243243",
          "score": 0.29815928747173853
         },
         {
          "date": "2012-05-23T04:54:04.216216",
          "score": 0.2984166173048199
         },
         {
          "date": "2012-06-08T06:43:37.189189",
          "score": 0.298673054414246
         },
         {
          "date": "2012-06-24T08:33:10.162162",
          "score": 0.2989285980328765
         },
         {
          "date": "2012-07-10T10:22:43.135135",
          "score": 0.2991832473962435
         },
         {
          "date": "2012-07-26T12:12:16.108108",
          "score": 0.2994370017425549
         },
         {
          "date": "2012-08-11T14:01:49.081081",
          "score": 0.29968986031269557
         },
         {
          "date": "2012-08-27T15:51:22.054054",
          "score": 0.29994182235023037
         },
         {
          "date": "2012-09-12T17:40:55.027027",
          "score": 0.30019288710140624
         },
         {
          "date": "2012-09-28T19:30:28",
          "score": 0.3004430538151542
         },
         {
          "date": "2012-10-14T21:20:00.972973",
          "score": 0.30069232174309185
         },
         {
          "date": "2012-10-30T22:09:33.945946",
          "score": 0.30094069013952557
         },
         {
          "date": "2012-11-15T23:59:06.918919",
          "score": 0.30118815826145257
         },
         {
          "date": "2012-12-02T01:48:39.891892",
          "score": 0.3014347253685635
         },
         {
          "date": "2012-12-18T03:38:12.864865",
          "score": 0.30168039072324443
         },
         {
          "date": "2013-01-03T05:27:45.837838",
          "score": 0.3019251535905788
         },
         {
          "date": "2013-01-19T07:17:18.810811",
          "score": 0.3021690132383501
         },
         {
          "date": "2013-02-04T09:06:51.783784",
          "score": 0.3024119689370436
         },
         {
          "date": "2013-02-20T10:56:24.756757",
          "score": 0.30265401995984886
         },
         {
          "date": "2013-03-08T12:45:57.729730",
          "score": 0.30289516558266194
         },
         {
          "date": "2013-03-24T14:35:30.702703",
          "score": 0.3031354050840874
         },
         {
          "date": "2013-04-09T17:25:03.675676",
          "score": 0.30337473774544066
         },
         {
          "date": "2013-04-25T19:14:36.648649",
          "score": 0.30361316285074924
         },
         {
          "date": "2013-05-11T21:04:09.621622",
          "score": 0.30385067968675644
         },
         {
          "date": "2013-05-27T22:53:42.594594",
          "score": 0.3040872875429225
         },
         {
          "date": "2013-06-13T00:43:15.567568",
          "score": 0.30432298571142674
         },
         {
          "date": "2013-06-29T02:32:48.540541",
          "score": 0.30455777348716984
         },
         {
          "date": "2013-07-15T04:22:21.513514",
          "score": 0.30479165016777615
         },
         {
          "date": "2013-07-31T06:11:54.486486",
          "score": 0.3050246150535954
         },
         {
          "date": "2013-08-16T08:01:27.459460",
          "score": 0.30525666744770513
         },
         {
          "date": "2013-09-01T09:51:00.432432",
          "score": 0.3054878066559125
         },
         {
          "date": "2013-09-17T11:40:33.405406",
          "score": 0.3057180319867566
         },
         {
          "date": "2013-10-03T13:30:06.378378",
          "score": 0.3059473427515103
         },
         {
          "date": "2013-10-19T15:19:39.351351",
          "score": 0.30617573826418265
         },
         {
          "date": "2013-11-04T16:09:12.324324",
          "score": 0.30640321784152036
         },
         {
          "date": "2013-11-20T17:58:45.297297",
          "score": 0.30662978080301057
         },
         {
          "date": "2013-12-06T19:48:18.270270",
          "score": 0.3068554264708821
         },
         {
          "date": "2013-12-22T21:37:51.243243",
          "score": 0.30708015417010837
         },
         {
          "date": "2014-01-07T23:27:24.216216",
          "score": 0.30730396322840847
         },
         {
          "date": "2014-01-24T01:16:57.189189",
          "score": 0.3075268529762499
         },
         {
          "date": "2014-02-09T03:06:30.162162",
          "score": 0.3077488227468504
         },
         {
          "date": "2014-02-25T04:56:03.135135",
          "score": 0.308074696454152
         },
         {
          "date": "2014-03-13T06:45:36.108108",
          "score": 0.3106009440145803
         },
         {
          "date": "2014-03-29T08:35:09.081081",
          "score": 0.3131261542155966
         },
         {
          "date": "2014-04-14T11:24:42.054054",
          "score": 0.31565021602598176
         },
         {
          "date": "2014-04-30T13:14:15.027027",
          "score": 0.31817301842808243
         },
         {
          "date": "2014-05-16T15:03:48",
          "score": 0.3206944504230963
         },
         {
          "date": "2014-06-01T16:53:20.972973",
          "score": 0.3232144010363563
         },
         {
          "date": "2014-06-17T18:42:53.945946",
          "score": 0.3257327593226123
         },
         {
          "date": "2014-07-03T20:32:26.918919",
          "score": 0.3282494143713136
         },
         {
          "date": "2014-07-19T22:21:59.891892",
          "score": 0.3307642553118875
         },
         {
          "date": "2014-08-05T00:11:32.864865",
          "score": 0.3332771713190187
         },
         {
          "date": "2014-08-21T02:01:05.837838",
          "score": 0.33578805161792574
         },
         {
          "date": "2014-09-06T03:50:38.810811",
          "score": 0.3382967854896293
         },
         {
          "date": "2014-09-22T05:40:11.783784",
          "score": 0.3408032622762325
         },
         {
          "date": "2014-10-08T07:29:44.756757",
          "score": 0.3433073713861823
         },
         {
          "date": "2014-10-24T09:19:17.729730",
          "score": 0.34580900229953815
         },
         {
          "date": "2014-11-09T10:08:50.702703",
          "score": 0.34830804457323233
         },
         {
          "date": "2014-11-25T11:58:23.675676",
          "score": 0.3508043878463295
         },
         {
          "date": "2014-12-11T13:47:56.648649",
          "score": 0.3532979218452819
         },
         {
          "date": "2014-12-27T15:37:29.621622",
          "score": 0.3557885363891747
         },
         {
          "date": "2015-01-12T17:27:02.594595",
          "score": 0.35827612139498133
         },
         {
          "date": "2015-01-28T19:16:35.567568",
          "score": 0.3607605668827985
         },
         {
          "date": "2015-02-13T21:06:08.540540",
          "score": 0.3632417629810861
         },
         {
          "date": "2015-03-01T22:55:41.513514",
          "score": 0.36571959993189695
         },
         {
          "date": "2015-03-18T00:45:14.486486",
          "score": 0.3681939680961055
         },
         {
          "date": "2015-04-03T03:34:47.459460",
          "score": 0.3706647579586276
         },
         {
          "date": "2015-04-19T05:24:20.432432",
          "score": 0.3731318601336351
         },
         {
          "date": "2015-05-05T07:13:53.405406",
          "score": 0.3755951653697673
         },
         {
          "date": "2015-05-21T09:03:26.378378",
          "score": 0.37805456455533093
         },
         {
          "date": "2015-06-06T10:52:59.351351",
          "score": 0.3805099487235009
         },
         {
          "date": "2015-06-22T12:42:32.324324",
          "score": 0.38296120905749986
         },
         {
          "date": "2015-07-08T14:32:05.297297",
          "score": 0.3854082368957941
         },
         {
          "date": "2015-07-24T16:21:38.270270",
          "score": 0.3878509237372589
         },
         {
          "date": "2015-08-09T18:11:11.243243",
          "score": 0.3902891612463501
         },
         {
          "date": "2015-08-25T20:00:44.216216",
          "score": 0.3927228412582621
         },
         {
          "date": "2015-09-10T21:50:17.189189",
          "score": 0.39515185578408024
         },
         {
          "date": "2015-09-26T23:39:50.162162",
          "score": 0.3975760970159266
         },
         {
          "date": "2015-10-13T01:29:23.135135",
          "score": 0.39999545733208675
         },
         {
          "date": "2015-10-29T02:18:56.108108",
          "score": 0.40240982930214714
         },
         {
          "date": "2015-11-14T04:08:29.081081",
          "score": 0.4048191056921041
         },
         {
          "date": "2015-11-30T05:58:02.054054",
          "score": 0.40722317946947556
         },
         {
          "date": "2015-12-16T07:47:35.027027",
          "score": 0.40962194380839606
         },
         {
          "date": "2016-01-01T09:37:08",
          "score": 0.4120152920947081
         },
         {
          "date": "2016-01-17T11:26:40.972973",
          "score": 0.4144031179310397
         },
         {
          "date": "2016-02-02T13:16:13.945946",
          "score": 0.4167853151418714
         },
         {
          "date": "2016-02-18T15:05:46.918919",
          "score": 0.4191617777785963
         },
         {
          "date": "2016-03-05T16:55:19.891892",
          "score": 0.42153240012456494
         },
         {
          "date": "2016-03-21T18:44:52.864865",
          "score": 0.42389707670012317
         },
         {
          "date": "2016-04-06T21:34:25.837838",
          "score": 0.42625570226763654
         },
         {
          "date": "2016-04-22T23:23:58.810811",
          "score": 0.4286081718364995
         },
         {
          "date": "2016-05-09T01:13:31.783784",
          "score": 0.4309543806681447
         },
         {
          "date": "2016-05-25T03:03:04.756757",
          "score": 0.43329422428102726
         },
         {
          "date": "2016-06-10T04:52:37.729730",
          "score": 0.4356275984556044
         },
         {
          "date": "2016-06-26T06:42:10.702703",
          "score": 0.43795439923929935
         },
         {
          "date": "2016-07-12T08:31:43.675676",
          "score": 0.44027452295145497
         },
         {
          "date": "2016-07-28T10:21:16.648649",
          "score": 0.4425878661882742
         },
         {
          "date": "2016-08-13T12:10:49.621622",
          "score": 0.4448943258277407
         },
         {
          "date": "2016-08-29T14:00:22.594595",
          "score": 0.4471937990345409
         },
         {
          "date": "2016-09-14T15:49:55.567568",
          "score": 0.44948618326495743
         },
         {
          "date": "2016-09-30T17:39:28.540541",
          "score": 0.45177137627175734
         },
         {
          "date": "2016-10-16T19:29:01.513514",
          "score": 0.4540492761090621
         },
         {
          "date": "2016-11-01T20:18:34.486486",
          "score": 0.4563197811372064
         },
         {
          "date": "2016-11-17T22:08:07.459460",
          "score": 0.4585827900275793
         },
         {
          "date": "2016-12-03T23:57:40.432432",
          "score": 0.46083820176745444
         },
         {
          "date": "2016-12-20T01:47:13.405406",
          "score": 0.4630859156648011
         },
         {
          "date": "2017-01-05T03:36:46.378378",
          "score": 0.46532583135308314
         },
         {
          "date": "2017-01-21T05:26:19.351351",
          "score": 0.4675578487960429
         },
         {
          "date": "2017-02-06T07:15:52.324324",
          "score": 0.4697818682924611
         },
         {
          "date": "2017-02-22T09:05:25.297297",
          "score": 0.47199779048091767
         },
         {
          "date": "2017-03-10T10:54:58.270270",
          "score": 0.4742055163445195
         },
         {
          "date": "2017-03-26T13:44:31.243243",
          "score": 0.47640494721562143
         },
         {
          "date": "2017-04-11T15:34:04.216216",
          "score": 0.4785959847805257
         },
         {
          "date": "2017-04-27T17:23:37.189189",
          "score": 0.4807785310841696
         },
         {
          "date": "2017-05-13T19:13:10.162162",
          "score": 0.48295248853479367
         },
         {
          "date": "2017-05-29T21:02:43.135135",
          "score": 0.485117759908585
         },
         {
          "date": "2017-06-14T22:52:16.108108",
          "score": 0.4872742483543218
         },
         {
          "date": "2017-07-01T00:41:49.081081",
          "score": 0.48942185739798066
         },
         {
          "date": "2017-07-17T02:31:22.054054",
          "score": 0.49156049094733734
         },
         {
          "date": "2017-08-02T04:20:55.027027",
          "score": 0.49369005329654414
         },
         {
          "date": "2017-08-18T06:10:28",
          "score": 0.4958104491306933
         },
         {
          "date": "2017-09-03T08:00:00.972973",
          "score": 0.4979215835303566
         },
         {
          "date": "2017-09-19T09:49:33.945946",
          "score": 0.5000233619761115
         },
         {
          "date": "2017-10-05T11:39:06.918919",
          "score": 0.5021156903530444
         },
         {
          "date": "2017-10-21T13:28:39.891892",
          "score": 0.5041984749552358
         },
         {
          "date": "2017-11-06T14:18:12.864865",
          "score": 0.5062716224902273
         },
         {
          "date": "2017-11-22T16:07:45.837838",
          "score": 0.5083350400834681
         },
         {
          "date": "2017-12-08T17:57:18.810811",
          "score": 0.5103886352827366
         },
         {
          "date": "2017-12-24T19:46:51.783784",
          "score": 0.5124323160625542
         },
         {
          "date": "2018-01-09T21:36:24.756757",
          "score": 0.5144659908285669
         },
         {
          "date": "2018-01-25T23:25:57.729730",
          "score": 0.516489568421911
         },
         {
          "date": "2018-02-11T01:15:30.702703",
          "score": 0.5185029581235587
         },
         {
          "date": "2018-02-27T03:05:03.675676",
          "score": 0.5205060696586418
         },
         {
          "date": "2018-03-15T04:54:36.648649",
          "score": 0.5224988132007546
         },
         {
          "date": "2018-03-31T07:44:09.621622",
          "score": 0.5244810993762322
         },
         {
          "date": "2018-04-16T09:33:42.594595",
          "score": 0.5264528392684166
         },
         {
          "date": "2018-05-02T11:23:15.567568",
          "score": 0.528413944421889
         },
         {
          "date": "2018-05-18T13:12:48.540541",
          "score": 0.5303643268466901
         },
         {
          "date": "2018-06-03T15:02:21.513514",
          "score": 0.5323038990225103
         },
         {
          "date": "2018-06-19T16:51:54.486486",
          "score": 0.5342325739028646
         },
         {
          "date": "2018-07-05T18:41:27.459460",
          "score": 0.53615026491924
         },
         {
          "date": "2018-07-21T20:31:00.432432",
          "score": 0.538056885985222
         },
         {
          "date": "2018-08-06T22:20:33.405406",
          "score": 0.5399523515005986
         },
         {
          "date": "2018-08-23T00:10:06.378378",
          "score": 0.5418365763554399
         },
         {
          "date": "2018-09-08T01:59:39.351351",
          "score": 0.5437094759341567
         },
         {
          "date": "2018-09-24T03:49:12.324324",
          "score": 0.545570966119529
         },
         {
          "date": "2018-10-10T05:38:45.297297",
          "score": 0.5474209632967231
         },
         {
          "date": "2018-10-26T07:28:18.270270",
          "score": 0.5492593843572713
         },
         {
          "date": "2018-11-11T08:17:51.243243",
          "score": 0.5510861467030376
         },
         {
          "date": "2018-11-27T10:07:24.216216",
          "score": 0.5529011682501512
         },
         {
          "date": "2018-12-13T11:56:57.189189",
          "score": 0.5547043674329226
         },
         {
          "date": "2018-12-29T13:46:30.162162",
          "score": 0.556495663207732
         },
         {
          "date": "2019-01-14T15:36:03.135135",
          "score": 0.5582749750568867
         },
         {
          "date": "2019-01-30T17:25:36.108108",
          "score": 0.5600422229924685
         },
         {
          "date": "2019-02-15T19:15:09.081081",
          "score": 0.5617973275601402
         },
         {
          "date": "2019-03-03T21:04:42.054054",
          "score": 0.5635402098429367
         },
         {
          "date": "2019-03-19T22:54:15.027027",
          "score": 0.565270791465024
         },
         {
          "date": "2019-04-05T01:43:48",
          "score": 0.5669889945954385
         },
         {
          "date": "2019-04-21T03:33:20.972973",
          "score": 0.5686947419517956
         },
         {
          "date": "2019-05-07T05:22:53.945946",
          "score": 0.5703879568039747
         },
         {
          "date": "2019-05-23T07:12:26.918919",
          "score": 0.5720685629777763
         },
         {
          "date": "2019-06-08T09:01:59.891892",
          "score": 0.5737364848585549
         },
         {
          "date": "2019-06-24T10:51:32.864865",
          "score": 0.5753916473948224
         },
         {
          "date": "2019-07-10T12:41:05.837838",
          "score": 0.5770339761018277
         },
         {
          "date": "2019-07-26T14:30:38.810811",
          "score": 0.5786633970651035
         },
         {
          "date": "2019-08-11T16:20:11.783784",
          "score": 0.5802798369439968
         },
         {
          "date": "2019-08-27T18:09:44.756757",
          "score": 0.5818832229751599
         },
         {
          "date": "2019-09-12T19:59:17.729730",
          "score": 0.5834734829760224
         },
         {
          "date": "2019-09-28T21:48:50.702703",
          "score": 0.5850505453482306
         },
         {
          "date": "2019-10-14T23:38:23.675676",
          "score": 0.586614339081063
         },
         {
          "date": "2019-10-31T00:27:56.648649",
          "score": 0.5881647937548138
         },
         {
          "date": "2019-11-16T02:17:29.621622",
          "score": 0.5897018395441497
         },
         {
          "date": "2019-12-02T04:07:02.594595",
          "score": 0.5912254072214426
         },
         {
          "date": "2019-12-18T05:56:35.567568",
          "score": 0.5927354281600675
         },
         {
          "date": "2020-01-03T07:46:08.540541",
          "score": 0.5942318343376738
         },
         {
          "date": "2020-01-19T09:35:41.513514",
          "score": 0.5957145583394298
         },
         {
          "date": "2020-02-04T11:25:14.486486",
          "score": 0.5971835333612373
         },
         {
          "date": "2020-02-20T13:14:47.459460",
          "score": 0.5986386932129146
         },
         {
          "date": "2020-03-07T15:04:20.432432",
          "score": 0.6047969209682742
         },
         {
          "date": "2020-03-23T16:53:53.405406",
          "score": 0.6119880360400213
         },
         {
          "date": "2020-04-08T19:43:26.378378",
          "score": 0.6191620058165903
         },
         {
          "date": "2020-04-24T21:32:59.351351",
          "score": 0.6263170433199334
         },
         {
          "date": "2020-05-10T23:22:32.324324",
          "score": 0.6334513636548054
         },
         {
          "date": "2020-05-27T01:12:05.297297",
          "score": 0.6405631845268734
         },
         {
          "date": "2020-06-12T03:01:38.270270",
          "score": 0.6476507267601643
         },
         {
          "date": "2020-06-28T04:51:11.243243",
          "score": 0.65471221481376
         },
         {
          "date": "2020-07-14T06:40:44.216216",
          "score": 0.6617458772975621
         },
         {
          "date": "2020-07-30T08:30:17.189189",
          "score": 0.6687499474869749
         },
         {
          "date": "2020-08-15T10:19:50.162162",
          "score": 0.6757226638363629
         },
         {
          "date": "2020-08-31T12:09:23.135135",
          "score": 0.6826622704910933
         },
         {
          "date": "2020-09-16T13:58:56.108108",
          "score": 0.6895670177980909
         },
         {
          "date": "2020-10-02T15:48:29.081081",
          "score": 0.6964351628146522
         },
         {
          "date": "2020-10-18T17:38:02.054054",
          "score": 0.703264969815441
         },
         {
          "date": "2020-11-03T18:27:35.027027",
          "score": 0.7100547107974867
         },
         {
          "date": "2020-11-19T20:17:08",
          "score": 0.7168026659830388
         },
         {
          "date": "2020-12-05T22:06:40.972973",
          "score": 0.7235071243201238
         },
         {
          "date": "2020-12-21T23:56:13.945946",
          "score": 0.7301663839806661
         },
         {
          "date": "2021-01-07T01:45:46.918919",
          "score": 0.7367787528560138
         },
         {
          "date": "2021-01-23T03:35:19.891892",
          "score": 0.7433425490497222
         },
         {
          "date": "2021-02-08T05:24:52.864865",
          "score": 0.7498561013674606
         },
         {
          "date": "2021-02-24T07:14:25.837838",
          "score": 0.7563177498038847
         },
         {
          "date": "2021-03-12T09:03:58.810811",
          "score": 0.762725846026313
         },
         {
          "date": "2021-03-28T11:53:31.783784",
          "score": 0.7690787538551281
         },
         {
          "date": "2021-04-13T13:43:04.756757",
          "score": 0.7753748497406672
         },
         {
          "date": "2021-04-29T15:32:37.729730",
          "score": 0.781612523236533
         },
         {
          "date": "2021-05-15T17:22:10.702703",
          "score": 0.7877901774691501
         },
         {
          "date": "2021-05-31T19:11:43.675676",
          "score": 0.793906229603435
         },
         {
          "date": "2021-06-16T21:01:16.648649",
          "score": 0.7999591113044482
         },
         {
          "date": "2021-07-02T22:50:49.621622",
          "score": 0.805947269194859
         },
         {
          "date": "2021-07-19T00:40:22.594595",
          "score": 0.8118691653081547
         },
         {
          "date": "2021-08-04T02:29:55.567568",
          "score": 0.8177232775373741
         },
         {
          "date": "2021-08-20T04:19:28.540541",
          "score": 0.8235081000792916
         },
         {
          "date": "2021-09-05T06:09:01.513514",
          "score": 0.8292221438739018
         },
         {
          "date": "2021-09-21T07:58:34.486486",
          "score": 0.8348639370390677
         },
         {
          "date": "2021-10-07T09:48:07.459460",
          "score": 0.8404320253002101
         },
         {
          "date": "2021-10-23T11:37:40.432432",
          "score": 0.8459249724149119
         },
         {
          "date": "2021-11-08T12:27:13.405406",
          "score": 0.8513413605923009
         },
         {
          "date": "2021-11-24T14:16:46.378378",
          "score": 0.8566797909070965
         },
         {
          "date": "2021-12-10T16:06:19.351351",
          "score": 0.8619388837081958
         },
         {
          "date": "2021-12-26T17:55:52.324324",
          "score": 0.8671172790216567
         },
         {
          "date": "2022-01-11T19:45:25.297297",
          "score": 0.8722136369480098
         },
         {
          "date": "2022-01-27T21:34:58.270270",
          "score": 0.8772266380537121
         },
         {
          "date": "2022-02-12T23:24:31.243243",
          "score": 0.8821549837566791
         },
         {
          "date": "2022-03-01T01:14:04.216216",
          "score": 0.8869973967057547
         },
         {
          "date": "2022-03-17T03:03:37.189189",
          "score": 0.8917526211540168
         },
         {
          "date": "2022-04-02T05:53:10.162162",
          "score": 0.8964194233258028
         },
         {
          "date": "2022-04-18T07:42:43.135135",
          "score": 0.9009965917773322
         },
         {
          "date": "2022-05-04T09:32:16.108108",
          "score": 0.9054829377508642
         },
         {
          "date": "2022-05-20T11:21:49.081081",
          "score": 0.9098772955222207
         },
         {
          "date": "2022-06-05T13:11:22.054054",
          "score": 0.9141785227416206
         },
         {
          "date": "2022-06-21T15:00:55.027027",
          "score": 0.9183855007677018
         },
         {
          "date": "2022-07-07T16:50:28",
          "score": 0.9224971349946386
         },
         {
          "date": "2022-07-23T18:40:00.972973",
          "score": 0.9265123551722543
         },
         {
          "date": "2022-08-08T20:29:33.945946",
          "score": 0.9304301157190323
         },
         {
          "date": "2022-08-24T22:19:06.918919",
          "score": 0.9342493960279362
         },
         {
          "date": "2022-09-10T00:08:39.891892",
          "score": 0.9379692007649448
         },
         {
          "date": "2022-09-26T01:58:12.864865",
          "score": 0.9415885601602152
         },
         {
          "date": "2022-10-12T03:47:45.837838",
          "score": 0.945106530291785
         },
         {
          "date": "2022-10-28T05:37:18.810811",
          "score": 0.9485221933617237
         },
         {
          "date": "2022-11-13T06:26:51.783784",
          "score": 0.9518346579646747
         },
         {
          "date": "2022-11-29T08:16:24.756757",
          "score": 0.9550430593486717
         },
         {
          "date": "2022-12-15T10:05:57.729730",
          "score": 0.9581465596681806
         },
         {
          "date": "2022-12-31T11:55:30.702703",
          "score": 0.9611443482292767
         },
         {
          "date": "2023-01-16T13:45:03.675676",
          "score": 0.9640356417268943
         },
         {
          "date": "2023-02-01T15:34:36.648649",
          "score": 0.9668196844740676
         },
         {
          "date": "2023-02-17T17:24:09.621622",
          "score": 0.9694957486230965
         },
         {
          "date": "2023-03-05T19:13:42.594595",
          "score": 0.9720631343785876
         },
         {
          "date": "2023-03-21T21:03:15.567568",
          "score": 0.9745211702022792
         },
         {
          "date": "2023-04-06T23:52:48.540541",
          "score": 0.9768692130096095
         },
         {
          "date": "2023-04-23T01:42:21.513514",
          "score": 0.9791066483579643
         },
         {
          "date": "2023-05-09T03:31:54.486486",
          "score": 0.9812328906265465
         },
         {
          "date": "2023-05-25T05:21:27.459460",
          "score": 0.9832473831878131
         },
         {
          "date": "2023-06-10T07:11:00.432432",
          "score": 0.9851495985704329
         },
         {
          "date": "2023-06-26T09:00:33.405406",
          "score": 0.9869390386137115
         },
         {
          "date": "2023-07-12T10:50:06.378378",
          "score": 0.988615234613439
         },
         {
          "date": "2023-07-28T12:39:39.351351",
          "score": 0.990177747459122
         },
         {
          "date": "2023-08-13T14:29:12.324324",
          "score": 0.9916261677625453
         },
         {
          "date": "2023-08-29T16:18:45.297297",
          "score": 0.9929601159776464
         },
         {
          "date": "2023-09-14T18:08:18.270270",
          "score": 0.9941792425116452
         },
         {
          "date": "2023-09-30T19:57:51.243243",
          "score": 0.9952832278274085
         },
         {
          "date": "2023-10-16T21:47:24.216216",
          "score": 0.9962717825370169
         },
         {
          "date": "2023-11-01T22:36:57.189189",
          "score": 0.9971446474865036
         },
         {
          "date": "2023-11-18T00:26:30.162162",
          "score": 0.9979015938317419
         },
         {
          "date": "2023-12-04T02:16:03.135135",
          "score": 0.9985424231054559
         },
         {
          "date": "2023-12-20T04:05:36.108108",
          "score": 0.9990669672753423
         },
         {
          "date": "2024-01-05T05:55:09.081081",
          "score": 0.9994750887932731
         },
         {
          "date": "2024-01-21T07:44:42.054054",
          "score": 0.9997666806355773
         },
         {
          "date": "2024-02-06T09:34:15.027027",
          "score": 0.9999416663343809
         },
         {
          "date": "2024-02-22T11:23:48",
          "score": 1.0000000000000002
         }
        ]
       },
       "encoding": {
        "tooltip": [
         {
          "field": "date",
          "type": "temporal"
         }
        ],
        "x": {
         "field": "date",
         "title": "Date",
         "type": "temporal"
        },
        "y": {
         "field": "score",
         "title": "Recency score",
         "type": "quantitative"
        }
       },
       "height": 380,
       "mark": {
        "color": "black",
        "filled": true,
        "size": 10,
        "type": "point"
       },
       "title": "Recency scores (unit weight)",
       "width": 500
      },
      "image/png": "[encoded data removed]",
      "text/plain": [
       "<VegaLite 5 object>\n",
       "\n",
       "If you see this message, it means the renderer has not been properly enabled\n",
       "for the frontend that you are using. For more information, see\n",
       "https://altair-viz.github.io/user_guide/display_frontends.html#troubleshooting\n"
      ]
     },
     "execution_count": 14,
     "metadata": {},
     "output_type": "execute_result"
    }
   ],
   "source": [
    "recency_plotter = RecencyPlotter(recency_space)\n",
    "chart = recency_plotter.plot_recency_curve()\n",
    "chart"
   ]
  },
  {
   "cell_type": "markdown",
   "id": "93c93476-cf28-4661-a793-f74d7c21b972",
   "metadata": {},
   "source": [
    "notice the breaks in the score at 4, 10 and 40 years - those are our period times. Titles older than 40 years get `negative_filter` score."
   ]
  },
  {
   "cell_type": "markdown",
   "id": "2ec1f453-6ec2-42e8-88b2-1c6692e9d57a",
   "metadata": {},
   "source": [
    "## Run queries"
   ]
  },
  {
   "cell_type": "markdown",
   "id": "c86b136f-467a-4618-88b9-cab92b798beb",
   "metadata": {},
   "source": [
    "Let's define a quick util function to present our results in the notebook"
   ]
  },
  {
   "cell_type": "code",
   "execution_count": 15,
   "id": "a3b1a5a9-7b81-4dff-82bb-9cb92abd58e2",
   "metadata": {},
   "outputs": [],
   "source": [
    "def present_result(result: Result, cols_to_keep: list[str] = [\"description\", \"title\", \"genres\", \"release_year\", \"id\"]) -> pd.DataFrame:\n",
    "    # parse result to dataframe\n",
    "    df: pd.DataFrame = pd.DataFrame([entry.stored_object for entry in result.entries])\n",
    "    # transform timestamp back to release year\n",
    "    df[\"release_year\"] = [datetime.fromtimestamp(timestamp).year for timestamp in df[\"release_timestamp\"]]\n",
    "    return df[cols_to_keep]"
   ]
  },
  {
   "cell_type": "markdown",
   "id": "65a1932e-4e84-4f84-bcdd-83eba95cb3cc",
   "metadata": {},
   "source": [
    "### Search with user queries"
   ]
  },
  {
   "cell_type": "markdown",
   "id": "de462025-40fb-4371-8160-9a315ab9e872",
   "metadata": {},
   "source": [
    "With the simple query, I can search with my text in all of the fields"
   ]
  },
  {
   "cell_type": "code",
   "execution_count": 16,
   "id": "d2ba2245-1d76-4283-a9f6-58179f5f7f7c",
   "metadata": {},
   "outputs": [
    {
     "data": {
      "text/html": [
       "<div>\n",
       "<style scoped>\n",
       "    .dataframe tbody tr th:only-of-type {\n",
       "        vertical-align: middle;\n",
       "    }\n",
       "\n",
       "    .dataframe tbody tr th {\n",
       "        vertical-align: top;\n",
       "    }\n",
       "\n",
       "    .dataframe thead th {\n",
       "        text-align: right;\n",
       "    }\n",
       "</style>\n",
       "<table border=\"1\" class=\"dataframe\">\n",
       "  <thead>\n",
       "    <tr style=\"text-align: right;\">\n",
       "      <th></th>\n",
       "      <th>description</th>\n",
       "      <th>title</th>\n",
       "      <th>genres</th>\n",
       "      <th>release_year</th>\n",
       "      <th>id</th>\n",
       "    </tr>\n",
       "  </thead>\n",
       "  <tbody>\n",
       "    <tr>\n",
       "      <th>0</th>\n",
       "      <td>When a group of people meets at the same party, they form four different relationships, each experiencing similar phases of love.</td>\n",
       "      <td>Love, Surreal and Odd</td>\n",
       "      <td>comedy romance</td>\n",
       "      <td>2017</td>\n",
       "      <td>tm313118</td>\n",
       "    </tr>\n",
       "    <tr>\n",
       "      <th>1</th>\n",
       "      <td>'Love Actually' follows the lives of eight very different couples dealing with their love lives, in various loosely and interrelated tales, all set during a frantic month before Christmas in Londo...</td>\n",
       "      <td>Love Actually</td>\n",
       "      <td>drama comedy romance</td>\n",
       "      <td>2003</td>\n",
       "      <td>tm133767</td>\n",
       "    </tr>\n",
       "    <tr>\n",
       "      <th>2</th>\n",
       "      <td>A young woman develops romantic feelings for her best friend, but problems arise when another gal enters the picture.</td>\n",
       "      <td>Must Be... Love</td>\n",
       "      <td>comedy romance</td>\n",
       "      <td>2013</td>\n",
       "      <td>tm188290</td>\n",
       "    </tr>\n",
       "    <tr>\n",
       "      <th>3</th>\n",
       "      <td>Romantic anthology web series revolving around 12 stories of 12 months of young people on their paths to love.</td>\n",
       "      <td>Love Daily</td>\n",
       "      <td>drama romance</td>\n",
       "      <td>2018</td>\n",
       "      <td>ts90869</td>\n",
       "    </tr>\n",
       "    <tr>\n",
       "      <th>4</th>\n",
       "      <td>Love You, is a 2011 Taiwanese drama starring Joseph Chang, Rainie Yang, Kingone Wang, Tiffany Hsu, Alien Huang and Tom Price. It is the second installment of the Fated to Love You trilogy. It star...</td>\n",
       "      <td>Drunken to Love You</td>\n",
       "      <td>comedy drama romance</td>\n",
       "      <td>2011</td>\n",
       "      <td>ts44064</td>\n",
       "    </tr>\n",
       "    <tr>\n",
       "      <th>5</th>\n",
       "      <td>Laida Magtalas is a modern-day Belle who works hard to provide for her family while hoping that someday she will meet her prince charming and that they will live happily ever after together. That ...</td>\n",
       "      <td>A Very Special Love</td>\n",
       "      <td>comedy drama romance</td>\n",
       "      <td>2008</td>\n",
       "      <td>tm28024</td>\n",
       "    </tr>\n",
       "    <tr>\n",
       "      <th>6</th>\n",
       "      <td>It tells the love story of two childhood sweethearts that spans 19 years. Chen Xiao Xi is a cute and small girl with a lot of positive energy. She gets to know Jiang Chen, a tall and proud genius ...</td>\n",
       "      <td>A Love So Beautiful</td>\n",
       "      <td>comedy romance</td>\n",
       "      <td>2017</td>\n",
       "      <td>ts77034</td>\n",
       "    </tr>\n",
       "    <tr>\n",
       "      <th>7</th>\n",
       "      <td>Christina's love life is stuck in neutral. After years of avoiding the hazards of a meaningful relationship, one night while club-hopping with her girlfriends, she meets Peter, her perfect match. ...</td>\n",
       "      <td>The Sweetest Thing</td>\n",
       "      <td>comedy romance</td>\n",
       "      <td>2002</td>\n",
       "      <td>tm111600</td>\n",
       "    </tr>\n",
       "    <tr>\n",
       "      <th>8</th>\n",
       "      <td>Mike Birbiglia shares a lifetime of romantic blunders and misunderstandings. On this painfully honest but hilarious journey, Birbiglia struggles to find reason in an area where it may be impossibl...</td>\n",
       "      <td>Mike Birbiglia: My Girlfriend's Boyfriend</td>\n",
       "      <td>comedy documentation romance</td>\n",
       "      <td>2013</td>\n",
       "      <td>tm171965</td>\n",
       "    </tr>\n",
       "    <tr>\n",
       "      <th>9</th>\n",
       "      <td>An LA girl, unlucky in love, falls for an East Coast guy on a dating app and decides to surprise him for the holidays, only to discover that she's been catfished. This lighthearted romantic comedy...</td>\n",
       "      <td>Love Hard</td>\n",
       "      <td>romance comedy</td>\n",
       "      <td>2021</td>\n",
       "      <td>tm1093099</td>\n",
       "    </tr>\n",
       "  </tbody>\n",
       "</table>\n",
       "</div>"
      ],
      "text/plain": [
       "                                                                                                                                                                                               description  \\\n",
       "0                                                                        When a group of people meets at the same party, they form four different relationships, each experiencing similar phases of love.   \n",
       "1  'Love Actually' follows the lives of eight very different couples dealing with their love lives, in various loosely and interrelated tales, all set during a frantic month before Christmas in Londo...   \n",
       "2                                                                                    A young woman develops romantic feelings for her best friend, but problems arise when another gal enters the picture.   \n",
       "3                                                                                           Romantic anthology web series revolving around 12 stories of 12 months of young people on their paths to love.   \n",
       "4  Love You, is a 2011 Taiwanese drama starring Joseph Chang, Rainie Yang, Kingone Wang, Tiffany Hsu, Alien Huang and Tom Price. It is the second installment of the Fated to Love You trilogy. It star...   \n",
       "5  Laida Magtalas is a modern-day Belle who works hard to provide for her family while hoping that someday she will meet her prince charming and that they will live happily ever after together. That ...   \n",
       "6  It tells the love story of two childhood sweethearts that spans 19 years. Chen Xiao Xi is a cute and small girl with a lot of positive energy. She gets to know Jiang Chen, a tall and proud genius ...   \n",
       "7  Christina's love life is stuck in neutral. After years of avoiding the hazards of a meaningful relationship, one night while club-hopping with her girlfriends, she meets Peter, her perfect match. ...   \n",
       "8  Mike Birbiglia shares a lifetime of romantic blunders and misunderstandings. On this painfully honest but hilarious journey, Birbiglia struggles to find reason in an area where it may be impossibl...   \n",
       "9  An LA girl, unlucky in love, falls for an East Coast guy on a dating app and decides to surprise him for the holidays, only to discover that she's been catfished. This lighthearted romantic comedy...   \n",
       "\n",
       "                                       title                        genres  \\\n",
       "0                      Love, Surreal and Odd                comedy romance   \n",
       "1                              Love Actually          drama comedy romance   \n",
       "2                            Must Be... Love                comedy romance   \n",
       "3                                 Love Daily                 drama romance   \n",
       "4                        Drunken to Love You          comedy drama romance   \n",
       "5                        A Very Special Love          comedy drama romance   \n",
       "6                        A Love So Beautiful                comedy romance   \n",
       "7                         The Sweetest Thing                comedy romance   \n",
       "8  Mike Birbiglia: My Girlfriend's Boyfriend  comedy documentation romance   \n",
       "9                                  Love Hard                romance comedy   \n",
       "\n",
       "   release_year         id  \n",
       "0          2017   tm313118  \n",
       "1          2003   tm133767  \n",
       "2          2013   tm188290  \n",
       "3          2018    ts90869  \n",
       "4          2011    ts44064  \n",
       "5          2008    tm28024  \n",
       "6          2017    ts77034  \n",
       "7          2002   tm111600  \n",
       "8          2013   tm171965  \n",
       "9          2021  tm1093099  "
      ]
     },
     "execution_count": 16,
     "metadata": {},
     "output_type": "execute_result"
    }
   ],
   "source": [
    "result: Result = app.query(\n",
    "    simple_query,\n",
    "    query_text=\"Heartfelt romantic comedy\",\n",
    "    description_weight=1,\n",
    "    title_weight=1,\n",
    "    genre_weight=1,\n",
    "    recency_weight=0\n",
    ")\n",
    "\n",
    "present_result(result)"
   ]
  },
  {
   "cell_type": "markdown",
   "id": "c12fa8c1-c013-44be-a326-a0dffa2e7d22",
   "metadata": {},
   "source": [
    "After looking at the results, I see some titles I have already seen. I can bias towards recent titles by upweighting recency. Weights are normalised to have unit sum, so you don't have to worry about how you set them."
   ]
  },
  {
   "cell_type": "code",
   "execution_count": 17,
   "id": "5941b41e-c2de-40df-b156-eed523b75c69",
   "metadata": {},
   "outputs": [
    {
     "data": {
      "text/html": [
       "<div>\n",
       "<style scoped>\n",
       "    .dataframe tbody tr th:only-of-type {\n",
       "        vertical-align: middle;\n",
       "    }\n",
       "\n",
       "    .dataframe tbody tr th {\n",
       "        vertical-align: top;\n",
       "    }\n",
       "\n",
       "    .dataframe thead th {\n",
       "        text-align: right;\n",
       "    }\n",
       "</style>\n",
       "<table border=\"1\" class=\"dataframe\">\n",
       "  <thead>\n",
       "    <tr style=\"text-align: right;\">\n",
       "      <th></th>\n",
       "      <th>description</th>\n",
       "      <th>title</th>\n",
       "      <th>genres</th>\n",
       "      <th>release_year</th>\n",
       "      <th>id</th>\n",
       "    </tr>\n",
       "  </thead>\n",
       "  <tbody>\n",
       "    <tr>\n",
       "      <th>0</th>\n",
       "      <td>In this romantic comedy, several friends, each dealing with unhappy love lives, turn to each other for help - but not always with the best results.</td>\n",
       "      <td>F*ck Love Too</td>\n",
       "      <td>comedy romance</td>\n",
       "      <td>2022</td>\n",
       "      <td>tm1203307</td>\n",
       "    </tr>\n",
       "    <tr>\n",
       "      <th>1</th>\n",
       "      <td>Fidelity tells a story of marital fidelity, in particular the one of Carlo and Margherita, a young couple who needs to face the deflagrant consequences of an alleged betrayal. Their relationship b...</td>\n",
       "      <td>Devotion, a Story of Love and Desire</td>\n",
       "      <td>drama romance</td>\n",
       "      <td>2022</td>\n",
       "      <td>ts280892</td>\n",
       "    </tr>\n",
       "    <tr>\n",
       "      <th>2</th>\n",
       "      <td>This black humor pan-Arabic anthology series is about love in general – and relationships in particular.</td>\n",
       "      <td>Love, Life &amp; Everything in Between</td>\n",
       "      <td>comedy drama romance</td>\n",
       "      <td>2022</td>\n",
       "      <td>ts329711</td>\n",
       "    </tr>\n",
       "    <tr>\n",
       "      <th>3</th>\n",
       "      <td>A relatable romance drama about a couple in their 30s preparing for marriage. While they were expecting a happy ending like something out of a fairy tale, the reality of their preparations proves ...</td>\n",
       "      <td>Welcome to Wedding Hell</td>\n",
       "      <td>drama romance</td>\n",
       "      <td>2022</td>\n",
       "      <td>ts344043</td>\n",
       "    </tr>\n",
       "    <tr>\n",
       "      <th>4</th>\n",
       "      <td>An ad executive and a fashion designer-blogger don't believe in love, so they place a bet to make the other fall head over heels - with unusual tactics.</td>\n",
       "      <td>Love Tactics</td>\n",
       "      <td>comedy romance</td>\n",
       "      <td>2022</td>\n",
       "      <td>tm1152224</td>\n",
       "    </tr>\n",
       "    <tr>\n",
       "      <th>5</th>\n",
       "      <td>Often (mis)guided by a cheeky imaginary wizard, an awkward and lonely 20-something struggles to get out of his own way in his quest for a girlfriend.</td>\n",
       "      <td>Eternally Confused and Eager for Love</td>\n",
       "      <td>comedy romance</td>\n",
       "      <td>2022</td>\n",
       "      <td>ts330012</td>\n",
       "    </tr>\n",
       "    <tr>\n",
       "      <th>6</th>\n",
       "      <td>Guille decides it's time to take the next step and that's how she looks to marry her sweetheart, but things get complicated and nothing goes as planned.</td>\n",
       "      <td>Let's Tie the Knot, Honey!</td>\n",
       "      <td>comedy romance</td>\n",
       "      <td>2022</td>\n",
       "      <td>tm1204412</td>\n",
       "    </tr>\n",
       "    <tr>\n",
       "      <th>7</th>\n",
       "      <td>A modern love story set in the near future where an AI building is powered by human feelings. Due to a software glitch, it falls in love with a real girl, escapes the building into the body of a r...</td>\n",
       "      <td>AI Love You</td>\n",
       "      <td>scifi comedy romance drama</td>\n",
       "      <td>2022</td>\n",
       "      <td>tm1160424</td>\n",
       "    </tr>\n",
       "    <tr>\n",
       "      <th>8</th>\n",
       "      <td>After his ad agency goes bankrupt, an indebted Fırat falls for a singer at a yoga retreat and joins her on a journey of self-realization.</td>\n",
       "      <td>Doom of Love</td>\n",
       "      <td>romance drama</td>\n",
       "      <td>2022</td>\n",
       "      <td>tm1218702</td>\n",
       "    </tr>\n",
       "    <tr>\n",
       "      <th>9</th>\n",
       "      <td>A wife who feels suffocated by her husband's incessant attention hires a psychologist to make him fall in love with her so that she can separate from him.</td>\n",
       "      <td>Hey! Sinamika</td>\n",
       "      <td>drama romance</td>\n",
       "      <td>2022</td>\n",
       "      <td>tm1143258</td>\n",
       "    </tr>\n",
       "  </tbody>\n",
       "</table>\n",
       "</div>"
      ],
      "text/plain": [
       "                                                                                                                                                                                               description  \\\n",
       "0                                                      In this romantic comedy, several friends, each dealing with unhappy love lives, turn to each other for help - but not always with the best results.   \n",
       "1  Fidelity tells a story of marital fidelity, in particular the one of Carlo and Margherita, a young couple who needs to face the deflagrant consequences of an alleged betrayal. Their relationship b...   \n",
       "2                                                                                                 This black humor pan-Arabic anthology series is about love in general – and relationships in particular.   \n",
       "3  A relatable romance drama about a couple in their 30s preparing for marriage. While they were expecting a happy ending like something out of a fairy tale, the reality of their preparations proves ...   \n",
       "4                                                 An ad executive and a fashion designer-blogger don't believe in love, so they place a bet to make the other fall head over heels - with unusual tactics.   \n",
       "5                                                    Often (mis)guided by a cheeky imaginary wizard, an awkward and lonely 20-something struggles to get out of his own way in his quest for a girlfriend.   \n",
       "6                                                 Guille decides it's time to take the next step and that's how she looks to marry her sweetheart, but things get complicated and nothing goes as planned.   \n",
       "7  A modern love story set in the near future where an AI building is powered by human feelings. Due to a software glitch, it falls in love with a real girl, escapes the building into the body of a r...   \n",
       "8                                                                After his ad agency goes bankrupt, an indebted Fırat falls for a singer at a yoga retreat and joins her on a journey of self-realization.   \n",
       "9                                               A wife who feels suffocated by her husband's incessant attention hires a psychologist to make him fall in love with her so that she can separate from him.   \n",
       "\n",
       "                                   title                      genres  \\\n",
       "0                          F*ck Love Too              comedy romance   \n",
       "1   Devotion, a Story of Love and Desire               drama romance   \n",
       "2     Love, Life & Everything in Between        comedy drama romance   \n",
       "3                Welcome to Wedding Hell               drama romance   \n",
       "4                           Love Tactics              comedy romance   \n",
       "5  Eternally Confused and Eager for Love              comedy romance   \n",
       "6             Let's Tie the Knot, Honey!              comedy romance   \n",
       "7                            AI Love You  scifi comedy romance drama   \n",
       "8                           Doom of Love               romance drama   \n",
       "9                          Hey! Sinamika               drama romance   \n",
       "\n",
       "   release_year         id  \n",
       "0          2022  tm1203307  \n",
       "1          2022   ts280892  \n",
       "2          2022   ts329711  \n",
       "3          2022   ts344043  \n",
       "4          2022  tm1152224  \n",
       "5          2022   ts330012  \n",
       "6          2022  tm1204412  \n",
       "7          2022  tm1160424  \n",
       "8          2022  tm1218702  \n",
       "9          2022  tm1143258  "
      ]
     },
     "execution_count": 17,
     "metadata": {},
     "output_type": "execute_result"
    }
   ],
   "source": [
    "result: Result = app.query(\n",
    "    simple_query,\n",
    "    query_text=\"Heartfelt romantic comedy\",\n",
    "    description_weight=1,\n",
    "    title_weight=1,\n",
    "    genre_weight=1,\n",
    "    recency_weight=3\n",
    ")\n",
    "\n",
    "present_result(result)"
   ]
  },
  {
   "cell_type": "markdown",
   "id": "f4a22174-d438-4b43-9e86-5fe883f139f8",
   "metadata": {},
   "source": [
    "Still using the simple query, I can give more weight to spaces if I think my query is more related to that space - matches there should count more. Here I give additional weight to the genre, leave the description as is, and downweight the title as my query text is mostly a genre with some additional context. I keep recency with unit weight too, as I would like my results to be a bit biased towards recent movies."
   ]
  },
  {
   "cell_type": "code",
   "execution_count": 18,
   "id": "4f5cfd0d-dfe6-40aa-9688-9e427f4890bf",
   "metadata": {},
   "outputs": [
    {
     "data": {
      "text/html": [
       "<div>\n",
       "<style scoped>\n",
       "    .dataframe tbody tr th:only-of-type {\n",
       "        vertical-align: middle;\n",
       "    }\n",
       "\n",
       "    .dataframe tbody tr th {\n",
       "        vertical-align: top;\n",
       "    }\n",
       "\n",
       "    .dataframe thead th {\n",
       "        text-align: right;\n",
       "    }\n",
       "</style>\n",
       "<table border=\"1\" class=\"dataframe\">\n",
       "  <thead>\n",
       "    <tr style=\"text-align: right;\">\n",
       "      <th></th>\n",
       "      <th>description</th>\n",
       "      <th>title</th>\n",
       "      <th>genres</th>\n",
       "      <th>release_year</th>\n",
       "      <th>id</th>\n",
       "    </tr>\n",
       "  </thead>\n",
       "  <tbody>\n",
       "    <tr>\n",
       "      <th>0</th>\n",
       "      <td>In this romantic comedy, several friends, each dealing with unhappy love lives, turn to each other for help - but not always with the best results.</td>\n",
       "      <td>F*ck Love Too</td>\n",
       "      <td>comedy romance</td>\n",
       "      <td>2022</td>\n",
       "      <td>tm1203307</td>\n",
       "    </tr>\n",
       "    <tr>\n",
       "      <th>1</th>\n",
       "      <td>An LA girl, unlucky in love, falls for an East Coast guy on a dating app and decides to surprise him for the holidays, only to discover that she's been catfished. This lighthearted romantic comedy...</td>\n",
       "      <td>Love Hard</td>\n",
       "      <td>romance comedy</td>\n",
       "      <td>2021</td>\n",
       "      <td>tm1093099</td>\n",
       "    </tr>\n",
       "    <tr>\n",
       "      <th>2</th>\n",
       "      <td>A relatable romance drama about a couple in their 30s preparing for marriage. While they were expecting a happy ending like something out of a fairy tale, the reality of their preparations proves ...</td>\n",
       "      <td>Welcome to Wedding Hell</td>\n",
       "      <td>drama romance</td>\n",
       "      <td>2022</td>\n",
       "      <td>ts344043</td>\n",
       "    </tr>\n",
       "    <tr>\n",
       "      <th>3</th>\n",
       "      <td>This black humor pan-Arabic anthology series is about love in general – and relationships in particular.</td>\n",
       "      <td>Love, Life &amp; Everything in Between</td>\n",
       "      <td>comedy drama romance</td>\n",
       "      <td>2022</td>\n",
       "      <td>ts329711</td>\n",
       "    </tr>\n",
       "    <tr>\n",
       "      <th>4</th>\n",
       "      <td>In this rom-com challenging the concept of soulmates, parallel storylines portray four single friends as they pair up in different couple combinations.</td>\n",
       "      <td>Four to Dinner</td>\n",
       "      <td>comedy romance</td>\n",
       "      <td>2022</td>\n",
       "      <td>tm1137862</td>\n",
       "    </tr>\n",
       "    <tr>\n",
       "      <th>5</th>\n",
       "      <td>Todd and Rory are intellectual soul mates. He might be gay. She might not care. A romantic-comedy drama with a twist; a love story without the thrill of copulation.</td>\n",
       "      <td>Straight Up</td>\n",
       "      <td>comedy romance</td>\n",
       "      <td>2019</td>\n",
       "      <td>tm494295</td>\n",
       "    </tr>\n",
       "    <tr>\n",
       "      <th>6</th>\n",
       "      <td>Short films follow young adults as they navigate the gamut of emotions that come with finding romantic connection in unexpected places.</td>\n",
       "      <td>Feels Like Ishq</td>\n",
       "      <td>drama romance comedy</td>\n",
       "      <td>2021</td>\n",
       "      <td>ts283610</td>\n",
       "    </tr>\n",
       "    <tr>\n",
       "      <th>7</th>\n",
       "      <td>Guille decides it's time to take the next step and that's how she looks to marry her sweetheart, but things get complicated and nothing goes as planned.</td>\n",
       "      <td>Let's Tie the Knot, Honey!</td>\n",
       "      <td>comedy romance</td>\n",
       "      <td>2022</td>\n",
       "      <td>tm1204412</td>\n",
       "    </tr>\n",
       "    <tr>\n",
       "      <th>8</th>\n",
       "      <td>Incurable romantic Lotte's life is upended when her plans for a picture-perfect wedding unravel--just as her self-absorbed sister gets engaged.</td>\n",
       "      <td>Just Say Yes</td>\n",
       "      <td>comedy romance</td>\n",
       "      <td>2021</td>\n",
       "      <td>tm904862</td>\n",
       "    </tr>\n",
       "    <tr>\n",
       "      <th>9</th>\n",
       "      <td>In pursuit of both success and validation, a group of tech-savvy individuals juggle intimate encounters, first impressions and romantic opportunities.</td>\n",
       "      <td>Slay</td>\n",
       "      <td>romance comedy</td>\n",
       "      <td>2021</td>\n",
       "      <td>tm1038025</td>\n",
       "    </tr>\n",
       "  </tbody>\n",
       "</table>\n",
       "</div>"
      ],
      "text/plain": [
       "                                                                                                                                                                                               description  \\\n",
       "0                                                      In this romantic comedy, several friends, each dealing with unhappy love lives, turn to each other for help - but not always with the best results.   \n",
       "1  An LA girl, unlucky in love, falls for an East Coast guy on a dating app and decides to surprise him for the holidays, only to discover that she's been catfished. This lighthearted romantic comedy...   \n",
       "2  A relatable romance drama about a couple in their 30s preparing for marriage. While they were expecting a happy ending like something out of a fairy tale, the reality of their preparations proves ...   \n",
       "3                                                                                                 This black humor pan-Arabic anthology series is about love in general – and relationships in particular.   \n",
       "4                                                  In this rom-com challenging the concept of soulmates, parallel storylines portray four single friends as they pair up in different couple combinations.   \n",
       "5                                     Todd and Rory are intellectual soul mates. He might be gay. She might not care. A romantic-comedy drama with a twist; a love story without the thrill of copulation.   \n",
       "6                                                                  Short films follow young adults as they navigate the gamut of emotions that come with finding romantic connection in unexpected places.   \n",
       "7                                                 Guille decides it's time to take the next step and that's how she looks to marry her sweetheart, but things get complicated and nothing goes as planned.   \n",
       "8                                                          Incurable romantic Lotte's life is upended when her plans for a picture-perfect wedding unravel--just as her self-absorbed sister gets engaged.   \n",
       "9                                                   In pursuit of both success and validation, a group of tech-savvy individuals juggle intimate encounters, first impressions and romantic opportunities.   \n",
       "\n",
       "                                title                genres  release_year  \\\n",
       "0                       F*ck Love Too        comedy romance          2022   \n",
       "1                           Love Hard        romance comedy          2021   \n",
       "2             Welcome to Wedding Hell         drama romance          2022   \n",
       "3  Love, Life & Everything in Between  comedy drama romance          2022   \n",
       "4                      Four to Dinner        comedy romance          2022   \n",
       "5                         Straight Up        comedy romance          2019   \n",
       "6                     Feels Like Ishq  drama romance comedy          2021   \n",
       "7          Let's Tie the Knot, Honey!        comedy romance          2022   \n",
       "8                        Just Say Yes        comedy romance          2021   \n",
       "9                                Slay        romance comedy          2021   \n",
       "\n",
       "          id  \n",
       "0  tm1203307  \n",
       "1  tm1093099  \n",
       "2   ts344043  \n",
       "3   ts329711  \n",
       "4  tm1137862  \n",
       "5   tm494295  \n",
       "6   ts283610  \n",
       "7  tm1204412  \n",
       "8   tm904862  \n",
       "9  tm1038025  "
      ]
     },
     "execution_count": 18,
     "metadata": {},
     "output_type": "execute_result"
    }
   ],
   "source": [
    "result = app.query(\n",
    "    simple_query,\n",
    "    query_text=\"Heartfelt romantic comedy\",\n",
    "    description_weight=1,\n",
    "    title_weight=0.1,\n",
    "    genre_weight=2,\n",
    "    recency_weight=1\n",
    ")\n",
    "\n",
    "present_result(result)"
   ]
  },
  {
   "cell_type": "markdown",
   "id": "7f213c52-900a-4a1b-9e02-9d681df7735b",
   "metadata": {},
   "source": [
    "With the advanced query, I can even supply different search terms for each attribute of the movie."
   ]
  },
  {
   "cell_type": "code",
   "execution_count": 19,
   "id": "1734d57b-5dbc-4c4c-a777-8be6717c3e6b",
   "metadata": {
    "scrolled": true
   },
   "outputs": [
    {
     "data": {
      "text/html": [
       "<div>\n",
       "<style scoped>\n",
       "    .dataframe tbody tr th:only-of-type {\n",
       "        vertical-align: middle;\n",
       "    }\n",
       "\n",
       "    .dataframe tbody tr th {\n",
       "        vertical-align: top;\n",
       "    }\n",
       "\n",
       "    .dataframe thead th {\n",
       "        text-align: right;\n",
       "    }\n",
       "</style>\n",
       "<table border=\"1\" class=\"dataframe\">\n",
       "  <thead>\n",
       "    <tr style=\"text-align: right;\">\n",
       "      <th></th>\n",
       "      <th>description</th>\n",
       "      <th>title</th>\n",
       "      <th>genres</th>\n",
       "      <th>release_year</th>\n",
       "      <th>id</th>\n",
       "    </tr>\n",
       "  </thead>\n",
       "  <tbody>\n",
       "    <tr>\n",
       "      <th>0</th>\n",
       "      <td>'Love Actually' follows the lives of eight very different couples dealing with their love lives, in various loosely and interrelated tales, all set during a frantic month before Christmas in Londo...</td>\n",
       "      <td>Love Actually</td>\n",
       "      <td>drama comedy romance</td>\n",
       "      <td>2003</td>\n",
       "      <td>tm133767</td>\n",
       "    </tr>\n",
       "    <tr>\n",
       "      <th>1</th>\n",
       "      <td>Rebellious Mickey and good-natured Gus navigate the thrills and agonies of modern relationships.</td>\n",
       "      <td>Love</td>\n",
       "      <td>comedy drama romance</td>\n",
       "      <td>2016</td>\n",
       "      <td>ts38511</td>\n",
       "    </tr>\n",
       "    <tr>\n",
       "      <th>2</th>\n",
       "      <td>An LA girl, unlucky in love, falls for an East Coast guy on a dating app and decides to surprise him for the holidays, only to discover that she's been catfished. This lighthearted romantic comedy...</td>\n",
       "      <td>Love Hard</td>\n",
       "      <td>romance comedy</td>\n",
       "      <td>2021</td>\n",
       "      <td>tm1093099</td>\n",
       "    </tr>\n",
       "    <tr>\n",
       "      <th>3</th>\n",
       "      <td>Romantic anthology web series revolving around 12 stories of 12 months of young people on their paths to love.</td>\n",
       "      <td>Love Daily</td>\n",
       "      <td>drama romance</td>\n",
       "      <td>2018</td>\n",
       "      <td>ts90869</td>\n",
       "    </tr>\n",
       "    <tr>\n",
       "      <th>4</th>\n",
       "      <td>Adam and Marklin’s 5-year relationship has gone from a passionate flame to a simmer, forcing them to reconcile with each other’s shortcomings while their friends endlessly search for love in New Y...</td>\n",
       "      <td>Almost Love</td>\n",
       "      <td>comedy drama romance</td>\n",
       "      <td>2019</td>\n",
       "      <td>tm472195</td>\n",
       "    </tr>\n",
       "    <tr>\n",
       "      <th>5</th>\n",
       "      <td>Laida Magtalas is a modern-day Belle who works hard to provide for her family while hoping that someday she will meet her prince charming and that they will live happily ever after together. That ...</td>\n",
       "      <td>A Very Special Love</td>\n",
       "      <td>comedy drama romance</td>\n",
       "      <td>2008</td>\n",
       "      <td>tm28024</td>\n",
       "    </tr>\n",
       "    <tr>\n",
       "      <th>6</th>\n",
       "      <td>A rising black painter tries to break into a competitive art world while balancing an unexpected romance with an ambitious law student.</td>\n",
       "      <td>Really Love</td>\n",
       "      <td>romance drama</td>\n",
       "      <td>2020</td>\n",
       "      <td>tm946360</td>\n",
       "    </tr>\n",
       "    <tr>\n",
       "      <th>7</th>\n",
       "      <td>Two young kids fall in love with each other. But the passion is too consuming for the parents of Jade. The parents try to stop them from seeing each other. But when this doesn't work, David burns ...</td>\n",
       "      <td>Endless Love</td>\n",
       "      <td>romance drama</td>\n",
       "      <td>1981</td>\n",
       "      <td>tm130586</td>\n",
       "    </tr>\n",
       "    <tr>\n",
       "      <th>8</th>\n",
       "      <td>A young woman develops romantic feelings for her best friend, but problems arise when another gal enters the picture.</td>\n",
       "      <td>Must Be... Love</td>\n",
       "      <td>comedy romance</td>\n",
       "      <td>2013</td>\n",
       "      <td>tm188290</td>\n",
       "    </tr>\n",
       "    <tr>\n",
       "      <th>9</th>\n",
       "      <td>Near by Christmas, in an old and charming town in Transylvania, Sebastian and Aprilia start a beautiful love story. However, nothing is as simple as it would seem. Being influenced by three men wi...</td>\n",
       "      <td>Love Is a Story</td>\n",
       "      <td>romance european comedy</td>\n",
       "      <td>2015</td>\n",
       "      <td>tm368725</td>\n",
       "    </tr>\n",
       "  </tbody>\n",
       "</table>\n",
       "</div>"
      ],
      "text/plain": [
       "                                                                                                                                                                                               description  \\\n",
       "0  'Love Actually' follows the lives of eight very different couples dealing with their love lives, in various loosely and interrelated tales, all set during a frantic month before Christmas in Londo...   \n",
       "1                                                                                                         Rebellious Mickey and good-natured Gus navigate the thrills and agonies of modern relationships.   \n",
       "2  An LA girl, unlucky in love, falls for an East Coast guy on a dating app and decides to surprise him for the holidays, only to discover that she's been catfished. This lighthearted romantic comedy...   \n",
       "3                                                                                           Romantic anthology web series revolving around 12 stories of 12 months of young people on their paths to love.   \n",
       "4  Adam and Marklin’s 5-year relationship has gone from a passionate flame to a simmer, forcing them to reconcile with each other’s shortcomings while their friends endlessly search for love in New Y...   \n",
       "5  Laida Magtalas is a modern-day Belle who works hard to provide for her family while hoping that someday she will meet her prince charming and that they will live happily ever after together. That ...   \n",
       "6                                                                  A rising black painter tries to break into a competitive art world while balancing an unexpected romance with an ambitious law student.   \n",
       "7  Two young kids fall in love with each other. But the passion is too consuming for the parents of Jade. The parents try to stop them from seeing each other. But when this doesn't work, David burns ...   \n",
       "8                                                                                    A young woman develops romantic feelings for her best friend, but problems arise when another gal enters the picture.   \n",
       "9  Near by Christmas, in an old and charming town in Transylvania, Sebastian and Aprilia start a beautiful love story. However, nothing is as simple as it would seem. Being influenced by three men wi...   \n",
       "\n",
       "                 title                   genres  release_year         id  \n",
       "0        Love Actually     drama comedy romance          2003   tm133767  \n",
       "1                 Love     comedy drama romance          2016    ts38511  \n",
       "2            Love Hard           romance comedy          2021  tm1093099  \n",
       "3           Love Daily            drama romance          2018    ts90869  \n",
       "4          Almost Love     comedy drama romance          2019   tm472195  \n",
       "5  A Very Special Love     comedy drama romance          2008    tm28024  \n",
       "6          Really Love            romance drama          2020   tm946360  \n",
       "7         Endless Love            romance drama          1981   tm130586  \n",
       "8      Must Be... Love           comedy romance          2013   tm188290  \n",
       "9      Love Is a Story  romance european comedy          2015   tm368725  "
      ]
     },
     "execution_count": 19,
     "metadata": {},
     "output_type": "execute_result"
    }
   ],
   "source": [
    "result = app.query(\n",
    "    advanced_query,\n",
    "    description_query_text=\"Heartfelt lovely romantic comedy for a cold autumn evening.\",\n",
    "    title_query_text=\"love\",\n",
    "    genre_query_text=\"drama comedy romantic\",\n",
    "    description_weight=1,\n",
    "    title_weight=1,\n",
    "    genre_weight=1,\n",
    "    recency_weight=0\n",
    ")\n",
    "\n",
    "present_result(result)"
   ]
  },
  {
   "cell_type": "markdown",
   "id": "c37b470e-760c-41c2-bcea-416f77898087",
   "metadata": {},
   "source": [
    "And even give different weights to each subsearch if I really do care that the title is related to love but I am not really emotionally attached to my description of the movie I would want to see."
   ]
  },
  {
   "cell_type": "code",
   "execution_count": 20,
   "id": "e2982995-08f7-4ac9-8398-925d8227591b",
   "metadata": {},
   "outputs": [
    {
     "data": {
      "text/html": [
       "<div>\n",
       "<style scoped>\n",
       "    .dataframe tbody tr th:only-of-type {\n",
       "        vertical-align: middle;\n",
       "    }\n",
       "\n",
       "    .dataframe tbody tr th {\n",
       "        vertical-align: top;\n",
       "    }\n",
       "\n",
       "    .dataframe thead th {\n",
       "        text-align: right;\n",
       "    }\n",
       "</style>\n",
       "<table border=\"1\" class=\"dataframe\">\n",
       "  <thead>\n",
       "    <tr style=\"text-align: right;\">\n",
       "      <th></th>\n",
       "      <th>description</th>\n",
       "      <th>title</th>\n",
       "      <th>genres</th>\n",
       "      <th>release_year</th>\n",
       "      <th>id</th>\n",
       "    </tr>\n",
       "  </thead>\n",
       "  <tbody>\n",
       "    <tr>\n",
       "      <th>0</th>\n",
       "      <td>Rebellious Mickey and good-natured Gus navigate the thrills and agonies of modern relationships.</td>\n",
       "      <td>Love</td>\n",
       "      <td>comedy drama romance</td>\n",
       "      <td>2016</td>\n",
       "      <td>ts38511</td>\n",
       "    </tr>\n",
       "    <tr>\n",
       "      <th>1</th>\n",
       "      <td>'Love Actually' follows the lives of eight very different couples dealing with their love lives, in various loosely and interrelated tales, all set during a frantic month before Christmas in Londo...</td>\n",
       "      <td>Love Actually</td>\n",
       "      <td>drama comedy romance</td>\n",
       "      <td>2003</td>\n",
       "      <td>tm133767</td>\n",
       "    </tr>\n",
       "    <tr>\n",
       "      <th>2</th>\n",
       "      <td>The story of a family and the various situations navigated by a husband and wife.</td>\n",
       "      <td>Love</td>\n",
       "      <td>thriller drama</td>\n",
       "      <td>2020</td>\n",
       "      <td>tm946277</td>\n",
       "    </tr>\n",
       "    <tr>\n",
       "      <th>3</th>\n",
       "      <td>Adam and Marklin’s 5-year relationship has gone from a passionate flame to a simmer, forcing them to reconcile with each other’s shortcomings while their friends endlessly search for love in New Y...</td>\n",
       "      <td>Almost Love</td>\n",
       "      <td>comedy drama romance</td>\n",
       "      <td>2019</td>\n",
       "      <td>tm472195</td>\n",
       "    </tr>\n",
       "    <tr>\n",
       "      <th>4</th>\n",
       "      <td>A rising black painter tries to break into a competitive art world while balancing an unexpected romance with an ambitious law student.</td>\n",
       "      <td>Really Love</td>\n",
       "      <td>romance drama</td>\n",
       "      <td>2020</td>\n",
       "      <td>tm946360</td>\n",
       "    </tr>\n",
       "    <tr>\n",
       "      <th>5</th>\n",
       "      <td>Two young kids fall in love with each other. But the passion is too consuming for the parents of Jade. The parents try to stop them from seeing each other. But when this doesn't work, David burns ...</td>\n",
       "      <td>Endless Love</td>\n",
       "      <td>romance drama</td>\n",
       "      <td>1981</td>\n",
       "      <td>tm130586</td>\n",
       "    </tr>\n",
       "    <tr>\n",
       "      <th>6</th>\n",
       "      <td>The story of Richard and Mildred Loving, an interracial couple, whose challenge of their anti-miscegenation arrest for their marriage in Virginia led to a legal battle that would end at the US Sup...</td>\n",
       "      <td>Loving</td>\n",
       "      <td>drama romance</td>\n",
       "      <td>2016</td>\n",
       "      <td>tm219233</td>\n",
       "    </tr>\n",
       "    <tr>\n",
       "      <th>7</th>\n",
       "      <td>Laida Magtalas is a modern-day Belle who works hard to provide for her family while hoping that someday she will meet her prince charming and that they will live happily ever after together. That ...</td>\n",
       "      <td>A Very Special Love</td>\n",
       "      <td>comedy drama romance</td>\n",
       "      <td>2008</td>\n",
       "      <td>tm28024</td>\n",
       "    </tr>\n",
       "    <tr>\n",
       "      <th>8</th>\n",
       "      <td>Love, Now is a 72 episode Taiwanese idol romance drama television series created and developed by SETTV. It stars Annie Chen, George Hu as the main leads and Bobby Dou, Harry Chang from Taiwanese ...</td>\n",
       "      <td>Love, Now</td>\n",
       "      <td>drama</td>\n",
       "      <td>2012</td>\n",
       "      <td>ts69208</td>\n",
       "    </tr>\n",
       "    <tr>\n",
       "      <th>9</th>\n",
       "      <td>Ian Montes is a picture of success. Despite being a son of a shipping tycoon, Ian refused to just ride in his father's empire. He built his own real estate company and earned his first million at ...</td>\n",
       "      <td>A Love Story</td>\n",
       "      <td>drama romance</td>\n",
       "      <td>2007</td>\n",
       "      <td>tm76399</td>\n",
       "    </tr>\n",
       "  </tbody>\n",
       "</table>\n",
       "</div>"
      ],
      "text/plain": [
       "                                                                                                                                                                                               description  \\\n",
       "0                                                                                                         Rebellious Mickey and good-natured Gus navigate the thrills and agonies of modern relationships.   \n",
       "1  'Love Actually' follows the lives of eight very different couples dealing with their love lives, in various loosely and interrelated tales, all set during a frantic month before Christmas in Londo...   \n",
       "2                                                                                                                        The story of a family and the various situations navigated by a husband and wife.   \n",
       "3  Adam and Marklin’s 5-year relationship has gone from a passionate flame to a simmer, forcing them to reconcile with each other’s shortcomings while their friends endlessly search for love in New Y...   \n",
       "4                                                                  A rising black painter tries to break into a competitive art world while balancing an unexpected romance with an ambitious law student.   \n",
       "5  Two young kids fall in love with each other. But the passion is too consuming for the parents of Jade. The parents try to stop them from seeing each other. But when this doesn't work, David burns ...   \n",
       "6  The story of Richard and Mildred Loving, an interracial couple, whose challenge of their anti-miscegenation arrest for their marriage in Virginia led to a legal battle that would end at the US Sup...   \n",
       "7  Laida Magtalas is a modern-day Belle who works hard to provide for her family while hoping that someday she will meet her prince charming and that they will live happily ever after together. That ...   \n",
       "8  Love, Now is a 72 episode Taiwanese idol romance drama television series created and developed by SETTV. It stars Annie Chen, George Hu as the main leads and Bobby Dou, Harry Chang from Taiwanese ...   \n",
       "9  Ian Montes is a picture of success. Despite being a son of a shipping tycoon, Ian refused to just ride in his father's empire. He built his own real estate company and earned his first million at ...   \n",
       "\n",
       "                 title                genres  release_year        id  \n",
       "0                 Love  comedy drama romance          2016   ts38511  \n",
       "1        Love Actually  drama comedy romance          2003  tm133767  \n",
       "2                 Love        thriller drama          2020  tm946277  \n",
       "3          Almost Love  comedy drama romance          2019  tm472195  \n",
       "4          Really Love         romance drama          2020  tm946360  \n",
       "5         Endless Love         romance drama          1981  tm130586  \n",
       "6               Loving         drama romance          2016  tm219233  \n",
       "7  A Very Special Love  comedy drama romance          2008   tm28024  \n",
       "8            Love, Now                 drama          2012   ts69208  \n",
       "9         A Love Story         drama romance          2007   tm76399  "
      ]
     },
     "execution_count": 20,
     "metadata": {},
     "output_type": "execute_result"
    }
   ],
   "source": [
    "result = app.query(\n",
    "    advanced_query,\n",
    "    description_query_text=\"Heartfelt lovely romantic comedy for a cold autumn evening.\",\n",
    "    title_query_text=\"love\",\n",
    "    genre_query_text=\"drama comedy romantic\",\n",
    "    description_weight=0.2,\n",
    "    title_weight=3,\n",
    "    genre_weight=1,\n",
    "    recency_weight=0\n",
    ")\n",
    "\n",
    "present_result(result)"
   ]
  },
  {
   "cell_type": "markdown",
   "id": "cb343f08-4c5b-4dee-a41f-0944f81aeddd",
   "metadata": {},
   "source": [
    "Then I can bias again towards recent movies"
   ]
  },
  {
   "cell_type": "code",
   "execution_count": 21,
   "id": "852cdad9-c8aa-4f0c-84e5-b39975d654d6",
   "metadata": {},
   "outputs": [
    {
     "data": {
      "text/html": [
       "<div>\n",
       "<style scoped>\n",
       "    .dataframe tbody tr th:only-of-type {\n",
       "        vertical-align: middle;\n",
       "    }\n",
       "\n",
       "    .dataframe tbody tr th {\n",
       "        vertical-align: top;\n",
       "    }\n",
       "\n",
       "    .dataframe thead th {\n",
       "        text-align: right;\n",
       "    }\n",
       "</style>\n",
       "<table border=\"1\" class=\"dataframe\">\n",
       "  <thead>\n",
       "    <tr style=\"text-align: right;\">\n",
       "      <th></th>\n",
       "      <th>description</th>\n",
       "      <th>title</th>\n",
       "      <th>genres</th>\n",
       "      <th>release_year</th>\n",
       "      <th>id</th>\n",
       "    </tr>\n",
       "  </thead>\n",
       "  <tbody>\n",
       "    <tr>\n",
       "      <th>0</th>\n",
       "      <td>After his ad agency goes bankrupt, an indebted Fırat falls for a singer at a yoga retreat and joins her on a journey of self-realization.</td>\n",
       "      <td>Doom of Love</td>\n",
       "      <td>romance drama</td>\n",
       "      <td>2022</td>\n",
       "      <td>tm1218702</td>\n",
       "    </tr>\n",
       "    <tr>\n",
       "      <th>1</th>\n",
       "      <td>An ad executive and a fashion designer-blogger don't believe in love, so they place a bet to make the other fall head over heels - with unusual tactics.</td>\n",
       "      <td>Love Tactics</td>\n",
       "      <td>comedy romance</td>\n",
       "      <td>2022</td>\n",
       "      <td>tm1152224</td>\n",
       "    </tr>\n",
       "    <tr>\n",
       "      <th>2</th>\n",
       "      <td>Fidelity tells a story of marital fidelity, in particular the one of Carlo and Margherita, a young couple who needs to face the deflagrant consequences of an alleged betrayal. Their relationship b...</td>\n",
       "      <td>Devotion, a Story of Love and Desire</td>\n",
       "      <td>drama romance</td>\n",
       "      <td>2022</td>\n",
       "      <td>ts280892</td>\n",
       "    </tr>\n",
       "    <tr>\n",
       "      <th>3</th>\n",
       "      <td>This black humor pan-Arabic anthology series is about love in general – and relationships in particular.</td>\n",
       "      <td>Love, Life &amp; Everything in Between</td>\n",
       "      <td>comedy drama romance</td>\n",
       "      <td>2022</td>\n",
       "      <td>ts329711</td>\n",
       "    </tr>\n",
       "    <tr>\n",
       "      <th>4</th>\n",
       "      <td>A modern love story set in the near future where an AI building is powered by human feelings. Due to a software glitch, it falls in love with a real girl, escapes the building into the body of a r...</td>\n",
       "      <td>AI Love You</td>\n",
       "      <td>scifi comedy romance drama</td>\n",
       "      <td>2022</td>\n",
       "      <td>tm1160424</td>\n",
       "    </tr>\n",
       "    <tr>\n",
       "      <th>5</th>\n",
       "      <td>Often (mis)guided by a cheeky imaginary wizard, an awkward and lonely 20-something struggles to get out of his own way in his quest for a girlfriend.</td>\n",
       "      <td>Eternally Confused and Eager for Love</td>\n",
       "      <td>comedy romance</td>\n",
       "      <td>2022</td>\n",
       "      <td>ts330012</td>\n",
       "    </tr>\n",
       "    <tr>\n",
       "      <th>6</th>\n",
       "      <td>An LA girl, unlucky in love, falls for an East Coast guy on a dating app and decides to surprise him for the holidays, only to discover that she's been catfished. This lighthearted romantic comedy...</td>\n",
       "      <td>Love Hard</td>\n",
       "      <td>romance comedy</td>\n",
       "      <td>2021</td>\n",
       "      <td>tm1093099</td>\n",
       "    </tr>\n",
       "    <tr>\n",
       "      <th>7</th>\n",
       "      <td>Haruto Asakura falls in love with hairdresser Misaki Ariake and asks her out. Watching Misaki Ariake work hard to achieve what she wants, Haruto Asakura, who almost gave up his dream to become a p...</td>\n",
       "      <td>Love Like the Falling Petals</td>\n",
       "      <td>drama romance</td>\n",
       "      <td>2022</td>\n",
       "      <td>tm1119015</td>\n",
       "    </tr>\n",
       "    <tr>\n",
       "      <th>8</th>\n",
       "      <td>Inside a national weather service, love proves just as difficult to predict as rain or shine for a diligent forecaster and her free-spirited co-worker.</td>\n",
       "      <td>Forecasting Love and Weather</td>\n",
       "      <td>drama romance</td>\n",
       "      <td>2022</td>\n",
       "      <td>ts319412</td>\n",
       "    </tr>\n",
       "    <tr>\n",
       "      <th>9</th>\n",
       "      <td>In this romantic comedy, several friends, each dealing with unhappy love lives, turn to each other for help - but not always with the best results.</td>\n",
       "      <td>F*ck Love Too</td>\n",
       "      <td>comedy romance</td>\n",
       "      <td>2022</td>\n",
       "      <td>tm1203307</td>\n",
       "    </tr>\n",
       "  </tbody>\n",
       "</table>\n",
       "</div>"
      ],
      "text/plain": [
       "                                                                                                                                                                                               description  \\\n",
       "0                                                                After his ad agency goes bankrupt, an indebted Fırat falls for a singer at a yoga retreat and joins her on a journey of self-realization.   \n",
       "1                                                 An ad executive and a fashion designer-blogger don't believe in love, so they place a bet to make the other fall head over heels - with unusual tactics.   \n",
       "2  Fidelity tells a story of marital fidelity, in particular the one of Carlo and Margherita, a young couple who needs to face the deflagrant consequences of an alleged betrayal. Their relationship b...   \n",
       "3                                                                                                 This black humor pan-Arabic anthology series is about love in general – and relationships in particular.   \n",
       "4  A modern love story set in the near future where an AI building is powered by human feelings. Due to a software glitch, it falls in love with a real girl, escapes the building into the body of a r...   \n",
       "5                                                    Often (mis)guided by a cheeky imaginary wizard, an awkward and lonely 20-something struggles to get out of his own way in his quest for a girlfriend.   \n",
       "6  An LA girl, unlucky in love, falls for an East Coast guy on a dating app and decides to surprise him for the holidays, only to discover that she's been catfished. This lighthearted romantic comedy...   \n",
       "7  Haruto Asakura falls in love with hairdresser Misaki Ariake and asks her out. Watching Misaki Ariake work hard to achieve what she wants, Haruto Asakura, who almost gave up his dream to become a p...   \n",
       "8                                                  Inside a national weather service, love proves just as difficult to predict as rain or shine for a diligent forecaster and her free-spirited co-worker.   \n",
       "9                                                      In this romantic comedy, several friends, each dealing with unhappy love lives, turn to each other for help - but not always with the best results.   \n",
       "\n",
       "                                   title                      genres  \\\n",
       "0                           Doom of Love               romance drama   \n",
       "1                           Love Tactics              comedy romance   \n",
       "2   Devotion, a Story of Love and Desire               drama romance   \n",
       "3     Love, Life & Everything in Between        comedy drama romance   \n",
       "4                            AI Love You  scifi comedy romance drama   \n",
       "5  Eternally Confused and Eager for Love              comedy romance   \n",
       "6                              Love Hard              romance comedy   \n",
       "7           Love Like the Falling Petals               drama romance   \n",
       "8           Forecasting Love and Weather               drama romance   \n",
       "9                          F*ck Love Too              comedy romance   \n",
       "\n",
       "   release_year         id  \n",
       "0          2022  tm1218702  \n",
       "1          2022  tm1152224  \n",
       "2          2022   ts280892  \n",
       "3          2022   ts329711  \n",
       "4          2022  tm1160424  \n",
       "5          2022   ts330012  \n",
       "6          2021  tm1093099  \n",
       "7          2022  tm1119015  \n",
       "8          2022   ts319412  \n",
       "9          2022  tm1203307  "
      ]
     },
     "execution_count": 21,
     "metadata": {},
     "output_type": "execute_result"
    }
   ],
   "source": [
    "result = app.query(\n",
    "    advanced_query,\n",
    "    description_query_text=\"Heartfelt lovely romantic comedy for a cold autumn evening.\",\n",
    "    title_query_text=\"love\",\n",
    "    genre_query_text=\"drama comedy romantic\",\n",
    "    description_weight=0.2,\n",
    "    title_weight=3,\n",
    "    genre_weight=1,\n",
    "    recency_weight=5\n",
    ")\n",
    "\n",
    "present_result(result)"
   ]
  },
  {
   "cell_type": "markdown",
   "id": "04219f19-6857-4822-bf61-32f3893df736",
   "metadata": {},
   "source": [
    "Or maybe to older ones"
   ]
  },
  {
   "cell_type": "code",
   "execution_count": 22,
   "id": "7033a82a-5f04-4c7b-aa7c-e3122d8c7709",
   "metadata": {},
   "outputs": [
    {
     "data": {
      "text/html": [
       "<div>\n",
       "<style scoped>\n",
       "    .dataframe tbody tr th:only-of-type {\n",
       "        vertical-align: middle;\n",
       "    }\n",
       "\n",
       "    .dataframe tbody tr th {\n",
       "        vertical-align: top;\n",
       "    }\n",
       "\n",
       "    .dataframe thead th {\n",
       "        text-align: right;\n",
       "    }\n",
       "</style>\n",
       "<table border=\"1\" class=\"dataframe\">\n",
       "  <thead>\n",
       "    <tr style=\"text-align: right;\">\n",
       "      <th></th>\n",
       "      <th>description</th>\n",
       "      <th>title</th>\n",
       "      <th>genres</th>\n",
       "      <th>release_year</th>\n",
       "      <th>id</th>\n",
       "    </tr>\n",
       "  </thead>\n",
       "  <tbody>\n",
       "    <tr>\n",
       "      <th>0</th>\n",
       "      <td>Two young kids fall in love with each other. But the passion is too consuming for the parents of Jade. The parents try to stop them from seeing each other. But when this doesn't work, David burns ...</td>\n",
       "      <td>Endless Love</td>\n",
       "      <td>romance drama</td>\n",
       "      <td>1981</td>\n",
       "      <td>tm130586</td>\n",
       "    </tr>\n",
       "    <tr>\n",
       "      <th>1</th>\n",
       "      <td>Anil, a street singer, is humiliated and driven out of Bombay along with his mother. However, he soon becomes a famous performer but the enemies from his past try to destroy his hard-earned career.</td>\n",
       "      <td>Disco Dancer</td>\n",
       "      <td>drama romance</td>\n",
       "      <td>1982</td>\n",
       "      <td>tm52815</td>\n",
       "    </tr>\n",
       "    <tr>\n",
       "      <th>2</th>\n",
       "      <td>An honest man dreams of a better life for his family, but a childhood friend leads him into a world of crime that keeps happiness just out of reach.</td>\n",
       "      <td>Ujala</td>\n",
       "      <td>romance crime drama</td>\n",
       "      <td>1959</td>\n",
       "      <td>tm358653</td>\n",
       "    </tr>\n",
       "    <tr>\n",
       "      <th>3</th>\n",
       "      <td>Two talented song-and-dance men team up after the war to become one of the hottest acts in show business. In time they befriend and become romantically involved with the beautiful Haynes sisters w...</td>\n",
       "      <td>White Christmas</td>\n",
       "      <td>romance comedy</td>\n",
       "      <td>1954</td>\n",
       "      <td>tm16479</td>\n",
       "    </tr>\n",
       "    <tr>\n",
       "      <th>4</th>\n",
       "      <td>Brian Cohen is an average young Jewish man, but through a series of ridiculous events, he gains a reputation as the Messiah. When he's not dodging his followers or being scolded by his shrill moth...</td>\n",
       "      <td>Life of Brian</td>\n",
       "      <td>comedy</td>\n",
       "      <td>1979</td>\n",
       "      <td>tm70993</td>\n",
       "    </tr>\n",
       "    <tr>\n",
       "      <th>5</th>\n",
       "      <td>Geeky student Arnie Cunningham falls for Christine, a rusty 1958 Plymouth Fury, and becomes obsessed with restoring the classic automobile to her former glory. As the car changes, so does Arnie, w...</td>\n",
       "      <td>Christine</td>\n",
       "      <td>horror thriller european</td>\n",
       "      <td>1983</td>\n",
       "      <td>tm54450</td>\n",
       "    </tr>\n",
       "    <tr>\n",
       "      <th>6</th>\n",
       "      <td>Maharaj Brajbhan lives a wealthy lifestyle in Bharatpur, India along with his wife, Badi Rani, but have been unable to conceive for Bharatpur, and have no choice but to leave it's reigns with Braj...</td>\n",
       "      <td>Bandie</td>\n",
       "      <td>drama action romance</td>\n",
       "      <td>1978</td>\n",
       "      <td>tm16812</td>\n",
       "    </tr>\n",
       "    <tr>\n",
       "      <th>7</th>\n",
       "      <td>Two small children and a ship's cook survive a shipwreck and find safety on an idyllic tropical island. Soon, however, the cook dies and the young boy and girl are left on their own. Days become y...</td>\n",
       "      <td>The Blue Lagoon</td>\n",
       "      <td>romance action drama</td>\n",
       "      <td>1980</td>\n",
       "      <td>tm98978</td>\n",
       "    </tr>\n",
       "    <tr>\n",
       "      <th>8</th>\n",
       "      <td>In the 1930s, bored waitress Bonnie Parker falls in love with an ex-con named Clyde Barrow and together they start a violent crime spree through the country, stealing cars and robbing banks.</td>\n",
       "      <td>Bonnie and Clyde</td>\n",
       "      <td>crime drama action</td>\n",
       "      <td>1967</td>\n",
       "      <td>tm119281</td>\n",
       "    </tr>\n",
       "    <tr>\n",
       "      <th>9</th>\n",
       "      <td>Ragab, a poor sailor, returns home to Alexandria after three years of absence, during which he tried to save money to marry his one true love, Hamedah. But there's trouble on the harbor, and with ...</td>\n",
       "      <td>Dark Waters</td>\n",
       "      <td>action drama romance thriller</td>\n",
       "      <td>1956</td>\n",
       "      <td>tm204541</td>\n",
       "    </tr>\n",
       "  </tbody>\n",
       "</table>\n",
       "</div>"
      ],
      "text/plain": [
       "                                                                                                                                                                                               description  \\\n",
       "0  Two young kids fall in love with each other. But the passion is too consuming for the parents of Jade. The parents try to stop them from seeing each other. But when this doesn't work, David burns ...   \n",
       "1    Anil, a street singer, is humiliated and driven out of Bombay along with his mother. However, he soon becomes a famous performer but the enemies from his past try to destroy his hard-earned career.   \n",
       "2                                                     An honest man dreams of a better life for his family, but a childhood friend leads him into a world of crime that keeps happiness just out of reach.   \n",
       "3  Two talented song-and-dance men team up after the war to become one of the hottest acts in show business. In time they befriend and become romantically involved with the beautiful Haynes sisters w...   \n",
       "4  Brian Cohen is an average young Jewish man, but through a series of ridiculous events, he gains a reputation as the Messiah. When he's not dodging his followers or being scolded by his shrill moth...   \n",
       "5  Geeky student Arnie Cunningham falls for Christine, a rusty 1958 Plymouth Fury, and becomes obsessed with restoring the classic automobile to her former glory. As the car changes, so does Arnie, w...   \n",
       "6  Maharaj Brajbhan lives a wealthy lifestyle in Bharatpur, India along with his wife, Badi Rani, but have been unable to conceive for Bharatpur, and have no choice but to leave it's reigns with Braj...   \n",
       "7  Two small children and a ship's cook survive a shipwreck and find safety on an idyllic tropical island. Soon, however, the cook dies and the young boy and girl are left on their own. Days become y...   \n",
       "8           In the 1930s, bored waitress Bonnie Parker falls in love with an ex-con named Clyde Barrow and together they start a violent crime spree through the country, stealing cars and robbing banks.   \n",
       "9  Ragab, a poor sailor, returns home to Alexandria after three years of absence, during which he tried to save money to marry his one true love, Hamedah. But there's trouble on the harbor, and with ...   \n",
       "\n",
       "              title                         genres  release_year        id  \n",
       "0      Endless Love                  romance drama          1981  tm130586  \n",
       "1      Disco Dancer                  drama romance          1982   tm52815  \n",
       "2             Ujala            romance crime drama          1959  tm358653  \n",
       "3   White Christmas                 romance comedy          1954   tm16479  \n",
       "4     Life of Brian                         comedy          1979   tm70993  \n",
       "5         Christine       horror thriller european          1983   tm54450  \n",
       "6            Bandie           drama action romance          1978   tm16812  \n",
       "7   The Blue Lagoon           romance action drama          1980   tm98978  \n",
       "8  Bonnie and Clyde             crime drama action          1967  tm119281  \n",
       "9       Dark Waters  action drama romance thriller          1956  tm204541  "
      ]
     },
     "execution_count": 22,
     "metadata": {},
     "output_type": "execute_result"
    }
   ],
   "source": [
    "result = app.query(\n",
    "    advanced_query,\n",
    "    description_query_text=\"Heartfelt lovely romantic comedy for a cold autumn evening.\",\n",
    "    title_query_text=\"love\",\n",
    "    genre_query_text=\"drama comedy romantic\",\n",
    "    description_weight=0.2,\n",
    "    title_weight=3,\n",
    "    genre_weight=1,\n",
    "    recency_weight=-10\n",
    ")\n",
    "\n",
    "present_result(result)"
   ]
  },
  {
   "cell_type": "markdown",
   "id": "9a922c32-891a-4826-ab0e-fc5f091e4791",
   "metadata": {},
   "source": [
    "notice that every movie before 1984 has the same recency score as our largest period time is 40 years."
   ]
  },
  {
   "cell_type": "markdown",
   "id": "6c86e22d-77d0-41a8-bc94-526bf341622a",
   "metadata": {},
   "source": [
    "### Search with a movie and queries\n",
    "\n",
    "Now I found a movie in the last result set that I have already seen but I would love something similar. White Christmas (1954) is a story about people forming a rock-band and of course there is some love along the way. It has the id \"tm16479\".\n",
    "\n",
    "I can query my dataset using this movie, too! Let's adjust the defined query first:"
   ]
  },
  {
   "cell_type": "code",
   "execution_count": 23,
   "id": "bd21e6cf-c901-469c-a59f-7aa0905e8157",
   "metadata": {},
   "outputs": [],
   "source": [
    "with_movie_query = advanced_query.with_vector(movie, Param(\"movie_id\"))"
   ]
  },
  {
   "cell_type": "markdown",
   "id": "5ec8badd-1082-4512-8953-c2c6e187f653",
   "metadata": {},
   "source": [
    "with this modification, I can add a movie from the dataset to the search.\n",
    "\n",
    "Let's first just focus on movies with similar descriptions. The first result will of course be the movie we are searching with."
   ]
  },
  {
   "cell_type": "code",
   "execution_count": 24,
   "id": "c957320a-9ab2-4377-b14b-48d6e7e564b6",
   "metadata": {},
   "outputs": [
    {
     "data": {
      "text/html": [
       "<div>\n",
       "<style scoped>\n",
       "    .dataframe tbody tr th:only-of-type {\n",
       "        vertical-align: middle;\n",
       "    }\n",
       "\n",
       "    .dataframe tbody tr th {\n",
       "        vertical-align: top;\n",
       "    }\n",
       "\n",
       "    .dataframe thead th {\n",
       "        text-align: right;\n",
       "    }\n",
       "</style>\n",
       "<table border=\"1\" class=\"dataframe\">\n",
       "  <thead>\n",
       "    <tr style=\"text-align: right;\">\n",
       "      <th></th>\n",
       "      <th>description</th>\n",
       "      <th>title</th>\n",
       "      <th>genres</th>\n",
       "      <th>release_year</th>\n",
       "      <th>id</th>\n",
       "    </tr>\n",
       "  </thead>\n",
       "  <tbody>\n",
       "    <tr>\n",
       "      <th>0</th>\n",
       "      <td>Two talented song-and-dance men team up after the war to become one of the hottest acts in show business. In time they befriend and become romantically involved with the beautiful Haynes sisters w...</td>\n",
       "      <td>White Christmas</td>\n",
       "      <td>romance comedy</td>\n",
       "      <td>1954</td>\n",
       "      <td>tm16479</td>\n",
       "    </tr>\n",
       "    <tr>\n",
       "      <th>1</th>\n",
       "      <td>Aditya, Joe, Kedar and Rob form a rock band, but break up after they fail to make a success of it. They establish regular lives until they decide to reunite and take another shot at fulfilling the...</td>\n",
       "      <td>Rock On!!</td>\n",
       "      <td>drama music</td>\n",
       "      <td>2008</td>\n",
       "      <td>tm37945</td>\n",
       "    </tr>\n",
       "    <tr>\n",
       "      <th>2</th>\n",
       "      <td>A dream of the hope for intimacy and love in a brutal, divisive world.</td>\n",
       "      <td>Condom Lead</td>\n",
       "      <td>drama</td>\n",
       "      <td>2013</td>\n",
       "      <td>tm1036195</td>\n",
       "    </tr>\n",
       "    <tr>\n",
       "      <th>3</th>\n",
       "      <td>Childhood friends Suresh and Vinnie want to become successful dancers. To fulfill their dreams, they form a dance group with their friends and compete in a hip-hop contest in Las Vegas.</td>\n",
       "      <td>ABCD 2</td>\n",
       "      <td>music drama</td>\n",
       "      <td>2015</td>\n",
       "      <td>tm207668</td>\n",
       "    </tr>\n",
       "    <tr>\n",
       "      <th>4</th>\n",
       "      <td>Go backstage with French rap duo Bigflo &amp; Oli in this intimate music documentary, then join the superstar siblings as they embark on a major tour.</td>\n",
       "      <td>Bigflo &amp; Oli: Hip Hop Frenzy</td>\n",
       "      <td>documentation music</td>\n",
       "      <td>2020</td>\n",
       "      <td>tm937044</td>\n",
       "    </tr>\n",
       "    <tr>\n",
       "      <th>5</th>\n",
       "      <td>Follow the lives of an elite group of young dancers who train at The Next Step Studio.</td>\n",
       "      <td>The Next Step</td>\n",
       "      <td>drama family romance</td>\n",
       "      <td>2013</td>\n",
       "      <td>ts35282</td>\n",
       "    </tr>\n",
       "    <tr>\n",
       "      <th>6</th>\n",
       "      <td>Nine struggling musicians share the spotlight in this deeply personal reality series about the challenges and thrills of staging a Hollywood showcase.</td>\n",
       "      <td>Westside</td>\n",
       "      <td>reality</td>\n",
       "      <td>2018</td>\n",
       "      <td>ts84644</td>\n",
       "    </tr>\n",
       "    <tr>\n",
       "      <th>7</th>\n",
       "      <td>A duo of street performers learns how sound and picture work together to create amazing cinema experiences.</td>\n",
       "      <td>Silent</td>\n",
       "      <td>animation family action</td>\n",
       "      <td>2014</td>\n",
       "      <td>tm137379</td>\n",
       "    </tr>\n",
       "    <tr>\n",
       "      <th>8</th>\n",
       "      <td>In 1980s LA, a crew of misfits reinvent themselves as the Gorgeous Ladies of Wrestling.</td>\n",
       "      <td>GLOW</td>\n",
       "      <td>drama comedy sport reality</td>\n",
       "      <td>2017</td>\n",
       "      <td>ts55720</td>\n",
       "    </tr>\n",
       "    <tr>\n",
       "      <th>9</th>\n",
       "      <td>A documentary about a political troupe headed by actors Jane Fonda and Donald Sutherland which traveled to towns near military bases in the US in the early 1970s. The group put on shows called \"F....</td>\n",
       "      <td>FTA</td>\n",
       "      <td>war documentation music comedy</td>\n",
       "      <td>1972</td>\n",
       "      <td>tm156453</td>\n",
       "    </tr>\n",
       "  </tbody>\n",
       "</table>\n",
       "</div>"
      ],
      "text/plain": [
       "                                                                                                                                                                                               description  \\\n",
       "0  Two talented song-and-dance men team up after the war to become one of the hottest acts in show business. In time they befriend and become romantically involved with the beautiful Haynes sisters w...   \n",
       "1  Aditya, Joe, Kedar and Rob form a rock band, but break up after they fail to make a success of it. They establish regular lives until they decide to reunite and take another shot at fulfilling the...   \n",
       "2                                                                                                                                   A dream of the hope for intimacy and love in a brutal, divisive world.   \n",
       "3                Childhood friends Suresh and Vinnie want to become successful dancers. To fulfill their dreams, they form a dance group with their friends and compete in a hip-hop contest in Las Vegas.   \n",
       "4                                                       Go backstage with French rap duo Bigflo & Oli in this intimate music documentary, then join the superstar siblings as they embark on a major tour.   \n",
       "5                                                                                                                   Follow the lives of an elite group of young dancers who train at The Next Step Studio.   \n",
       "6                                                   Nine struggling musicians share the spotlight in this deeply personal reality series about the challenges and thrills of staging a Hollywood showcase.   \n",
       "7                                                                                              A duo of street performers learns how sound and picture work together to create amazing cinema experiences.   \n",
       "8                                                                                                                  In 1980s LA, a crew of misfits reinvent themselves as the Gorgeous Ladies of Wrestling.   \n",
       "9  A documentary about a political troupe headed by actors Jane Fonda and Donald Sutherland which traveled to towns near military bases in the US in the early 1970s. The group put on shows called \"F....   \n",
       "\n",
       "                          title                          genres  release_year  \\\n",
       "0               White Christmas                  romance comedy          1954   \n",
       "1                     Rock On!!                     drama music          2008   \n",
       "2                   Condom Lead                           drama          2013   \n",
       "3                        ABCD 2                     music drama          2015   \n",
       "4  Bigflo & Oli: Hip Hop Frenzy             documentation music          2020   \n",
       "5                 The Next Step            drama family romance          2013   \n",
       "6                      Westside                         reality          2018   \n",
       "7                        Silent         animation family action          2014   \n",
       "8                          GLOW      drama comedy sport reality          2017   \n",
       "9                           FTA  war documentation music comedy          1972   \n",
       "\n",
       "          id  \n",
       "0    tm16479  \n",
       "1    tm37945  \n",
       "2  tm1036195  \n",
       "3   tm207668  \n",
       "4   tm937044  \n",
       "5    ts35282  \n",
       "6    ts84644  \n",
       "7   tm137379  \n",
       "8    ts55720  \n",
       "9   tm156453  "
      ]
     },
     "execution_count": 24,
     "metadata": {},
     "output_type": "execute_result"
    }
   ],
   "source": [
    "result = app.query(\n",
    "    with_movie_query,\n",
    "    description_query_text=\"\",\n",
    "    title_query_text=\"\",\n",
    "    genre_query_text=\"\",\n",
    "    description_weight=1,\n",
    "    title_weight=0,\n",
    "    genre_weight=0,\n",
    "    recency_weight=0,\n",
    "    movie_id=\"tm16479\"\n",
    ")\n",
    "\n",
    "present_result(result)"
   ]
  },
  {
   "cell_type": "markdown",
   "id": "e164bc36-ac70-4dae-a00e-062c5f68fa28",
   "metadata": {},
   "source": [
    "I got back movies that focus more on the rock-band aspect of the movie. With query parameters I can try to skew the results to be more related to family."
   ]
  },
  {
   "cell_type": "code",
   "execution_count": 25,
   "id": "0ddcf7ae-70fe-453b-8ea0-8af274ec4ee5",
   "metadata": {},
   "outputs": [
    {
     "data": {
      "text/html": [
       "<div>\n",
       "<style scoped>\n",
       "    .dataframe tbody tr th:only-of-type {\n",
       "        vertical-align: middle;\n",
       "    }\n",
       "\n",
       "    .dataframe tbody tr th {\n",
       "        vertical-align: top;\n",
       "    }\n",
       "\n",
       "    .dataframe thead th {\n",
       "        text-align: right;\n",
       "    }\n",
       "</style>\n",
       "<table border=\"1\" class=\"dataframe\">\n",
       "  <thead>\n",
       "    <tr style=\"text-align: right;\">\n",
       "      <th></th>\n",
       "      <th>description</th>\n",
       "      <th>title</th>\n",
       "      <th>genres</th>\n",
       "      <th>release_year</th>\n",
       "      <th>id</th>\n",
       "    </tr>\n",
       "  </thead>\n",
       "  <tbody>\n",
       "    <tr>\n",
       "      <th>0</th>\n",
       "      <td>Two talented song-and-dance men team up after the war to become one of the hottest acts in show business. In time they befriend and become romantically involved with the beautiful Haynes sisters w...</td>\n",
       "      <td>White Christmas</td>\n",
       "      <td>romance comedy</td>\n",
       "      <td>1954</td>\n",
       "      <td>tm16479</td>\n",
       "    </tr>\n",
       "    <tr>\n",
       "      <th>1</th>\n",
       "      <td>Romantic comedy following four couples who meet through a dating website. Four men go on a heroic mission to help four women and wind up experiencing a series of mishaps.</td>\n",
       "      <td>All's Well, Ends Well</td>\n",
       "      <td>romance comedy</td>\n",
       "      <td>2012</td>\n",
       "      <td>tm37573</td>\n",
       "    </tr>\n",
       "    <tr>\n",
       "      <th>2</th>\n",
       "      <td>An estranged family gathers together in New York for an event celebrating the artistic work of their father.</td>\n",
       "      <td>The Meyerowitz Stories (New and Selected)</td>\n",
       "      <td>comedy drama</td>\n",
       "      <td>2017</td>\n",
       "      <td>tm244206</td>\n",
       "    </tr>\n",
       "    <tr>\n",
       "      <th>3</th>\n",
       "      <td>Years after his father disowns his adopted brother for marrying a woman of lower social standing, a young man goes on a mission to reunite his family.</td>\n",
       "      <td>Kabhi Khushi Kabhie Gham</td>\n",
       "      <td>drama romance</td>\n",
       "      <td>2001</td>\n",
       "      <td>tm36475</td>\n",
       "    </tr>\n",
       "    <tr>\n",
       "      <th>4</th>\n",
       "      <td>Reunited in their hometown for their father's funeral, two self-interested brothers meet a peculiar woman who shares a huge secret about their family.</td>\n",
       "      <td>The Bros</td>\n",
       "      <td>comedy fantasy</td>\n",
       "      <td>2017</td>\n",
       "      <td>tm357708</td>\n",
       "    </tr>\n",
       "    <tr>\n",
       "      <th>5</th>\n",
       "      <td>A new couple, their exes and their children navigate the emotional challenges and tricky logistics of blended family life in this Swedish dramedy.</td>\n",
       "      <td>Bonus Family</td>\n",
       "      <td>drama comedy reality family documentation music european</td>\n",
       "      <td>2017</td>\n",
       "      <td>ts55939</td>\n",
       "    </tr>\n",
       "    <tr>\n",
       "      <th>6</th>\n",
       "      <td>Three prosperous women -- including a mother and her daughter -- fall for a seductive man in Colombia's Coffee Triangle.</td>\n",
       "      <td>Playing with Fire</td>\n",
       "      <td>drama</td>\n",
       "      <td>2019</td>\n",
       "      <td>ts87680</td>\n",
       "    </tr>\n",
       "    <tr>\n",
       "      <th>7</th>\n",
       "      <td>A young couple dream of growing old together as they deal with the struggles of being in a long-term relationship.</td>\n",
       "      <td>The Hows of Us</td>\n",
       "      <td>drama romance comedy</td>\n",
       "      <td>2018</td>\n",
       "      <td>tm430059</td>\n",
       "    </tr>\n",
       "    <tr>\n",
       "      <th>8</th>\n",
       "      <td>A dramatic story about a girl and her giving father.</td>\n",
       "      <td>Sen Benim HerŞeyimsin</td>\n",
       "      <td>comedy</td>\n",
       "      <td>2016</td>\n",
       "      <td>tm311456</td>\n",
       "    </tr>\n",
       "    <tr>\n",
       "      <th>9</th>\n",
       "      <td>The loves, heartbreak, jealousy and pain of the three Armoza sisters – Luna, Rachelika, and Becky - their parents, grandparents and children, set during the early-mid 20th century in Jerusalem.</td>\n",
       "      <td>The Beauty Queen of Jerusalem</td>\n",
       "      <td>drama</td>\n",
       "      <td>2021</td>\n",
       "      <td>ts252119</td>\n",
       "    </tr>\n",
       "  </tbody>\n",
       "</table>\n",
       "</div>"
      ],
      "text/plain": [
       "                                                                                                                                                                                               description  \\\n",
       "0  Two talented song-and-dance men team up after the war to become one of the hottest acts in show business. In time they befriend and become romantically involved with the beautiful Haynes sisters w...   \n",
       "1                               Romantic comedy following four couples who meet through a dating website. Four men go on a heroic mission to help four women and wind up experiencing a series of mishaps.   \n",
       "2                                                                                             An estranged family gathers together in New York for an event celebrating the artistic work of their father.   \n",
       "3                                                   Years after his father disowns his adopted brother for marrying a woman of lower social standing, a young man goes on a mission to reunite his family.   \n",
       "4                                                   Reunited in their hometown for their father's funeral, two self-interested brothers meet a peculiar woman who shares a huge secret about their family.   \n",
       "5                                                       A new couple, their exes and their children navigate the emotional challenges and tricky logistics of blended family life in this Swedish dramedy.   \n",
       "6                                                                                 Three prosperous women -- including a mother and her daughter -- fall for a seductive man in Colombia's Coffee Triangle.   \n",
       "7                                                                                       A young couple dream of growing old together as they deal with the struggles of being in a long-term relationship.   \n",
       "8                                                                                                                                                     A dramatic story about a girl and her giving father.   \n",
       "9        The loves, heartbreak, jealousy and pain of the three Armoza sisters – Luna, Rachelika, and Becky - their parents, grandparents and children, set during the early-mid 20th century in Jerusalem.   \n",
       "\n",
       "                                       title  \\\n",
       "0                            White Christmas   \n",
       "1                      All's Well, Ends Well   \n",
       "2  The Meyerowitz Stories (New and Selected)   \n",
       "3                   Kabhi Khushi Kabhie Gham   \n",
       "4                                   The Bros   \n",
       "5                               Bonus Family   \n",
       "6                          Playing with Fire   \n",
       "7                             The Hows of Us   \n",
       "8                      Sen Benim HerŞeyimsin   \n",
       "9              The Beauty Queen of Jerusalem   \n",
       "\n",
       "                                                     genres  release_year  \\\n",
       "0                                            romance comedy          1954   \n",
       "1                                            romance comedy          2012   \n",
       "2                                              comedy drama          2017   \n",
       "3                                             drama romance          2001   \n",
       "4                                            comedy fantasy          2017   \n",
       "5  drama comedy reality family documentation music european          2017   \n",
       "6                                                     drama          2019   \n",
       "7                                      drama romance comedy          2018   \n",
       "8                                                    comedy          2016   \n",
       "9                                                     drama          2021   \n",
       "\n",
       "         id  \n",
       "0   tm16479  \n",
       "1   tm37573  \n",
       "2  tm244206  \n",
       "3   tm36475  \n",
       "4  tm357708  \n",
       "5   ts55939  \n",
       "6   ts87680  \n",
       "7  tm430059  \n",
       "8  tm311456  \n",
       "9  ts252119  "
      ]
     },
     "execution_count": 25,
     "metadata": {},
     "output_type": "execute_result"
    }
   ],
   "source": [
    "result = app.query(\n",
    "    with_movie_query,\n",
    "    description_query_text=\"family\",\n",
    "    title_query_text=\"\",\n",
    "    genre_query_text=\"\",\n",
    "    description_weight=1,\n",
    "    title_weight=0,\n",
    "    genre_weight=0,\n",
    "    recency_weight=0,\n",
    "    description_query_weight=1,\n",
    "    movie_id=\"tm16479\"\n",
    ")\n",
    "\n",
    "present_result(result)"
   ]
  },
  {
   "cell_type": "markdown",
   "id": "b72f2b5e-2ee4-47e2-93d9-9ce0ca79e1b6",
   "metadata": {},
   "source": [
    "Taking a closer look at the description of these result movies, we can see that they share some aspect of the movie we are searching with - blended together with some notion of family:"
   ]
  },
  {
   "cell_type": "markdown",
   "id": "33d4cb73-1924-4653-89cc-5541a21a6fb5",
   "metadata": {},
   "source": [
    "After all, this evening I am in the mood for something light - I can also skew the results towards a specific genre: comedy"
   ]
  },
  {
   "cell_type": "code",
   "execution_count": 26,
   "id": "2efc1e79-2d13-4fae-bdf5-77a1e3d5d0c6",
   "metadata": {},
   "outputs": [
    {
     "data": {
      "text/html": [
       "<div>\n",
       "<style scoped>\n",
       "    .dataframe tbody tr th:only-of-type {\n",
       "        vertical-align: middle;\n",
       "    }\n",
       "\n",
       "    .dataframe tbody tr th {\n",
       "        vertical-align: top;\n",
       "    }\n",
       "\n",
       "    .dataframe thead th {\n",
       "        text-align: right;\n",
       "    }\n",
       "</style>\n",
       "<table border=\"1\" class=\"dataframe\">\n",
       "  <thead>\n",
       "    <tr style=\"text-align: right;\">\n",
       "      <th></th>\n",
       "      <th>description</th>\n",
       "      <th>title</th>\n",
       "      <th>genres</th>\n",
       "      <th>release_year</th>\n",
       "      <th>id</th>\n",
       "    </tr>\n",
       "  </thead>\n",
       "  <tbody>\n",
       "    <tr>\n",
       "      <th>0</th>\n",
       "      <td>Two talented song-and-dance men team up after the war to become one of the hottest acts in show business. In time they befriend and become romantically involved with the beautiful Haynes sisters w...</td>\n",
       "      <td>White Christmas</td>\n",
       "      <td>romance comedy</td>\n",
       "      <td>1954</td>\n",
       "      <td>tm16479</td>\n",
       "    </tr>\n",
       "    <tr>\n",
       "      <th>1</th>\n",
       "      <td>Romantic comedy following four couples who meet through a dating website. Four men go on a heroic mission to help four women and wind up experiencing a series of mishaps.</td>\n",
       "      <td>All's Well, Ends Well</td>\n",
       "      <td>romance comedy</td>\n",
       "      <td>2012</td>\n",
       "      <td>tm37573</td>\n",
       "    </tr>\n",
       "    <tr>\n",
       "      <th>2</th>\n",
       "      <td>On a bet, a gridiron hero at John Hughes High School sets out to turn a bespectacled plain Jane into a beautiful and popular prom queen in this outrageous send-up of the teen movies of the 1980s a...</td>\n",
       "      <td>Not Another Teen Movie</td>\n",
       "      <td>comedy</td>\n",
       "      <td>2001</td>\n",
       "      <td>tm58382</td>\n",
       "    </tr>\n",
       "    <tr>\n",
       "      <th>3</th>\n",
       "      <td>An original twist on an eternal triangle, where secret crush and unrequited love take on altogether newfangled meanings of their own.</td>\n",
       "      <td>Don't Go Breaking My Heart</td>\n",
       "      <td>romance comedy</td>\n",
       "      <td>2011</td>\n",
       "      <td>tm176128</td>\n",
       "    </tr>\n",
       "    <tr>\n",
       "      <th>4</th>\n",
       "      <td>Get ready to scream with laughter! Sam Kinison's primal scream will echo down through the comedy hall of fame summing up so much of modernity's horror and stupidity. This concert was taped at the ...</td>\n",
       "      <td>Sam Kinison: Family Entertainment Hour</td>\n",
       "      <td>comedy</td>\n",
       "      <td>1991</td>\n",
       "      <td>tm8687</td>\n",
       "    </tr>\n",
       "    <tr>\n",
       "      <th>5</th>\n",
       "      <td>The story of Nola Darling's simultaneous sexual relationships with three different men is told by her and by her partners and other friends. All three men wanted her to commit solely to them; Nola...</td>\n",
       "      <td>She's Gotta Have It</td>\n",
       "      <td>romance comedy</td>\n",
       "      <td>1986</td>\n",
       "      <td>tm117580</td>\n",
       "    </tr>\n",
       "    <tr>\n",
       "      <th>6</th>\n",
       "      <td>A young woman develops romantic feelings for her best friend, but problems arise when another gal enters the picture.</td>\n",
       "      <td>Must Be... Love</td>\n",
       "      <td>comedy romance</td>\n",
       "      <td>2013</td>\n",
       "      <td>tm188290</td>\n",
       "    </tr>\n",
       "    <tr>\n",
       "      <th>7</th>\n",
       "      <td>A sitcom about a British-Nigerian family living in Peckham, covering themes such as financial worries, Bayo Adebanjo's insistence on instilling African style discipline on his children, and Auntie...</td>\n",
       "      <td>Meet the Adebanjos</td>\n",
       "      <td>comedy</td>\n",
       "      <td>2012</td>\n",
       "      <td>ts167724</td>\n",
       "    </tr>\n",
       "    <tr>\n",
       "      <th>8</th>\n",
       "      <td>Brian Cohen is an average young Jewish man, but through a series of ridiculous events, he gains a reputation as the Messiah. When he's not dodging his followers or being scolded by his shrill moth...</td>\n",
       "      <td>Life of Brian</td>\n",
       "      <td>comedy</td>\n",
       "      <td>1979</td>\n",
       "      <td>tm70993</td>\n",
       "    </tr>\n",
       "    <tr>\n",
       "      <th>9</th>\n",
       "      <td>The film follows the journey of three young men, who flee from their wives, for a vacation to the international tourist-destination Goa. During the trip, they become friends with an immature youth...</td>\n",
       "      <td>Husbands in Goa</td>\n",
       "      <td>comedy</td>\n",
       "      <td>2012</td>\n",
       "      <td>tm57256</td>\n",
       "    </tr>\n",
       "  </tbody>\n",
       "</table>\n",
       "</div>"
      ],
      "text/plain": [
       "                                                                                                                                                                                               description  \\\n",
       "0  Two talented song-and-dance men team up after the war to become one of the hottest acts in show business. In time they befriend and become romantically involved with the beautiful Haynes sisters w...   \n",
       "1                               Romantic comedy following four couples who meet through a dating website. Four men go on a heroic mission to help four women and wind up experiencing a series of mishaps.   \n",
       "2  On a bet, a gridiron hero at John Hughes High School sets out to turn a bespectacled plain Jane into a beautiful and popular prom queen in this outrageous send-up of the teen movies of the 1980s a...   \n",
       "3                                                                    An original twist on an eternal triangle, where secret crush and unrequited love take on altogether newfangled meanings of their own.   \n",
       "4  Get ready to scream with laughter! Sam Kinison's primal scream will echo down through the comedy hall of fame summing up so much of modernity's horror and stupidity. This concert was taped at the ...   \n",
       "5  The story of Nola Darling's simultaneous sexual relationships with three different men is told by her and by her partners and other friends. All three men wanted her to commit solely to them; Nola...   \n",
       "6                                                                                    A young woman develops romantic feelings for her best friend, but problems arise when another gal enters the picture.   \n",
       "7  A sitcom about a British-Nigerian family living in Peckham, covering themes such as financial worries, Bayo Adebanjo's insistence on instilling African style discipline on his children, and Auntie...   \n",
       "8  Brian Cohen is an average young Jewish man, but through a series of ridiculous events, he gains a reputation as the Messiah. When he's not dodging his followers or being scolded by his shrill moth...   \n",
       "9  The film follows the journey of three young men, who flee from their wives, for a vacation to the international tourist-destination Goa. During the trip, they become friends with an immature youth...   \n",
       "\n",
       "                                    title          genres  release_year  \\\n",
       "0                         White Christmas  romance comedy          1954   \n",
       "1                   All's Well, Ends Well  romance comedy          2012   \n",
       "2                  Not Another Teen Movie          comedy          2001   \n",
       "3              Don't Go Breaking My Heart  romance comedy          2011   \n",
       "4  Sam Kinison: Family Entertainment Hour          comedy          1991   \n",
       "5                     She's Gotta Have It  romance comedy          1986   \n",
       "6                         Must Be... Love  comedy romance          2013   \n",
       "7                      Meet the Adebanjos          comedy          2012   \n",
       "8                           Life of Brian          comedy          1979   \n",
       "9                         Husbands in Goa          comedy          2012   \n",
       "\n",
       "         id  \n",
       "0   tm16479  \n",
       "1   tm37573  \n",
       "2   tm58382  \n",
       "3  tm176128  \n",
       "4    tm8687  \n",
       "5  tm117580  \n",
       "6  tm188290  \n",
       "7  ts167724  \n",
       "8   tm70993  \n",
       "9   tm57256  "
      ]
     },
     "execution_count": 26,
     "metadata": {},
     "output_type": "execute_result"
    }
   ],
   "source": [
    "result = app.query(\n",
    "    with_movie_query,\n",
    "    description_query_text=\"\",\n",
    "    title_query_text=\"\",\n",
    "    genre_query_text=\"comedy\",\n",
    "    description_weight=1,\n",
    "    title_weight=0,\n",
    "    genre_weight=2,\n",
    "    recency_weight=0,\n",
    "    description_query_weight=1,\n",
    "    movie_id=\"tm16479\"\n",
    ")\n",
    "\n",
    "present_result(result)"
   ]
  }
 ],
 "metadata": {
  "kernelspec": {
   "display_name": "superlinked-py3.10",
   "language": "python",
   "name": "superlinked-py3.10"
  },
  "language_info": {
   "codemirror_mode": {
    "name": "ipython",
    "version": 3
   },
   "file_extension": ".py",
   "mimetype": "text/x-python",
   "name": "python",
   "nbconvert_exporter": "python",
   "pygments_lexer": "ipython3",
   "version": "3.10.9"
  }
 },
 "nbformat": 4,
 "nbformat_minor": 5
}

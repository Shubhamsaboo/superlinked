{
 "cells": [
  {
   "cell_type": "markdown",
   "id": "9b043a5f-b961-4c6c-9107-f9ae8f0778f3",
   "metadata": {},
   "source": [
    "# Netflix recommendations"
   ]
  },
  {
   "cell_type": "markdown",
   "id": "d460ac88-5a9b-4e43-80fa-3ddaad07538a",
   "metadata": {},
   "source": [
    "<div class=\"alert alert-block alert-warning\">\n",
    "Replace <code>YOUR_GITHUB_TOKEN</code> in the install script. To get your token follow the instructions in the <a href=\"../README.md\">README.md</a>\n",
    "</div>"
   ]
  },
  {
   "cell_type": "markdown",
   "id": "80fdfc22-58c9-4355-97e9-685ced8a8a1e",
   "metadata": {},
   "source": [
    "## Boilerplate"
   ]
  },
  {
   "cell_type": "code",
   "execution_count": 1,
   "id": "782788ff-ea73-4e06-8fd2-b4a114b5f25d",
   "metadata": {
    "scrolled": true
   },
   "outputs": [],
   "source": [
    "%pip install  'https://us-central1-data-359211.cloudfunctions.net/github-proxy/superlinked-2.11.0-py3-none-any.whl?token=YOUR_GITHUB_TOKEN'"
   ]
  },
  {
   "cell_type": "markdown",
   "id": "cb50885c-536e-480a-b3a1-3c0d4449d64b",
   "metadata": {},
   "source": [
    "## Imports and constants"
   ]
  },
  {
   "cell_type": "code",
   "execution_count": 14,
   "id": "f641dd4c-2df4-460d-bd96-f0b654e1bd05",
   "metadata": {},
   "outputs": [],
   "source": [
    "import altair as alt\n",
    "alt.renderers.enable('mimetype')\n",
    "import pandas as pd\n",
    "\n",
    "from datetime import timedelta\n",
    "\n",
    "from superlinked.evaluation.charts.recency_plotter import RecencyPlotter\n",
    "from superlinked.framework.common.dag.period_time import PeriodTime\n",
    "from superlinked.framework.common.schema.schema import schema\n",
    "from superlinked.framework.common.schema.schema_object import String, Timestamp\n",
    "from superlinked.framework.common.schema.id_schema_object import IdField\n",
    "from superlinked.framework.common.parser.dataframe_parser import DataFrameParser\n",
    "from superlinked.framework.dsl.executor.in_memory.in_memory_executor import InMemoryExecutor, InMemoryApp\n",
    "from superlinked.framework.dsl.index.index import Index\n",
    "from superlinked.framework.dsl.query.param import Param\n",
    "from superlinked.framework.dsl.query.query import Query\n",
    "from superlinked.framework.dsl.query.result import Result\n",
    "from superlinked.framework.dsl.source.in_memory_source import InMemorySource\n",
    "from superlinked.framework.dsl.space.text_similarity_space import TextSimilaritySpace\n",
    "from superlinked.framework.dsl.space.recency_space import RecencySpace"
   ]
  },
  {
   "cell_type": "code",
   "execution_count": 3,
   "id": "2b55a3d8-dbe3-4f35-be21-11864226252d",
   "metadata": {},
   "outputs": [],
   "source": [
    "MODEL = \"sentence-transformers/paraphrase-MiniLM-L3-v2\"\n",
    "YEAR_IN_DAYS = 365\n",
    "TOP_N = 10\n",
    "DATASET_URL = \"https://storage.googleapis.com/superlinked-notebook-netflix-shows-dataset/titles.csv\""
   ]
  },
  {
   "cell_type": "markdown",
   "id": "480739b3-b03f-426d-9eec-affb54d86228",
   "metadata": {},
   "source": [
    "## Explore dataset"
   ]
  },
  {
   "cell_type": "code",
   "execution_count": 4,
   "id": "339d4fcf-50d2-4d5c-a800-14807a2d4cfb",
   "metadata": {},
   "outputs": [
    {
     "data": {
      "text/html": [
       "<div>\n",
       "<style scoped>\n",
       "    .dataframe tbody tr th:only-of-type {\n",
       "        vertical-align: middle;\n",
       "    }\n",
       "\n",
       "    .dataframe tbody tr th {\n",
       "        vertical-align: top;\n",
       "    }\n",
       "\n",
       "    .dataframe thead th {\n",
       "        text-align: right;\n",
       "    }\n",
       "</style>\n",
       "<table border=\"1\" class=\"dataframe\">\n",
       "  <thead>\n",
       "    <tr style=\"text-align: right;\">\n",
       "      <th></th>\n",
       "      <th>description</th>\n",
       "      <th>genres</th>\n",
       "      <th>title</th>\n",
       "      <th>release_year</th>\n",
       "      <th>id</th>\n",
       "      <th>timestamp</th>\n",
       "    </tr>\n",
       "  </thead>\n",
       "  <tbody>\n",
       "    <tr>\n",
       "      <th>0</th>\n",
       "      <td>This collection includes 12 World War II-era p...</td>\n",
       "      <td>documentation</td>\n",
       "      <td>Five Came Back: The Reference Films</td>\n",
       "      <td>1945</td>\n",
       "      <td>1461244146253042980</td>\n",
       "      <td>-788918400.0</td>\n",
       "    </tr>\n",
       "    <tr>\n",
       "      <th>1</th>\n",
       "      <td>A mentally unstable Vietnam War veteran works ...</td>\n",
       "      <td>drama crime</td>\n",
       "      <td>Taxi Driver</td>\n",
       "      <td>1976</td>\n",
       "      <td>5676048700770171589</td>\n",
       "      <td>189302400.0</td>\n",
       "    </tr>\n",
       "    <tr>\n",
       "      <th>2</th>\n",
       "      <td>Intent on seeing the Cahulawassee River before...</td>\n",
       "      <td>drama action thriller european</td>\n",
       "      <td>Deliverance</td>\n",
       "      <td>1972</td>\n",
       "      <td>-8590810839608206699</td>\n",
       "      <td>63072000.0</td>\n",
       "    </tr>\n",
       "    <tr>\n",
       "      <th>3</th>\n",
       "      <td>King Arthur, accompanied by his squire, recrui...</td>\n",
       "      <td>fantasy action comedy</td>\n",
       "      <td>Monty Python and the Holy Grail</td>\n",
       "      <td>1975</td>\n",
       "      <td>889510029284069589</td>\n",
       "      <td>157766400.0</td>\n",
       "    </tr>\n",
       "    <tr>\n",
       "      <th>4</th>\n",
       "      <td>12 American military prisoners in World War II...</td>\n",
       "      <td>war action</td>\n",
       "      <td>The Dirty Dozen</td>\n",
       "      <td>1967</td>\n",
       "      <td>-6358359510976671764</td>\n",
       "      <td>-94694400.0</td>\n",
       "    </tr>\n",
       "  </tbody>\n",
       "</table>\n",
       "</div>"
      ],
      "text/plain": [
       "                                         description  \\\n",
       "0  This collection includes 12 World War II-era p...   \n",
       "1  A mentally unstable Vietnam War veteran works ...   \n",
       "2  Intent on seeing the Cahulawassee River before...   \n",
       "3  King Arthur, accompanied by his squire, recrui...   \n",
       "4  12 American military prisoners in World War II...   \n",
       "\n",
       "                           genres                                title  \\\n",
       "0                   documentation  Five Came Back: The Reference Films   \n",
       "1                     drama crime                          Taxi Driver   \n",
       "2  drama action thriller european                          Deliverance   \n",
       "3           fantasy action comedy      Monty Python and the Holy Grail   \n",
       "4                      war action                      The Dirty Dozen   \n",
       "\n",
       "   release_year                   id    timestamp  \n",
       "0          1945  1461244146253042980 -788918400.0  \n",
       "1          1976  5676048700770171589  189302400.0  \n",
       "2          1972 -8590810839608206699   63072000.0  \n",
       "3          1975   889510029284069589  157766400.0  \n",
       "4          1967 -6358359510976671764  -94694400.0  "
      ]
     },
     "execution_count": 4,
     "metadata": {},
     "output_type": "execute_result"
    }
   ],
   "source": [
    "movie_df = pd.read_csv(DATASET_URL)\n",
    "movie_df = movie_df[[\"description\", \"genres\", \"title\", \"release_year\"]].drop_duplicates(subset=[\"description\"]).dropna(how='any')\n",
    "movie_df['id'] = movie_df[\"description\"].map(hash)\n",
    "movie_df[\"genres\"] = movie_df[\"genres\"].apply(lambda x: \" \".join(eval(x)))\n",
    "movie_df[\"timestamp\"] = [pd.Timestamp(year=year, month=1, day=1).timestamp() for year in movie_df[\"release_year\"].tolist()]\n",
    "movie_df.head()"
   ]
  },
  {
   "cell_type": "markdown",
   "id": "4405f9b4-8109-4cd1-ab80-9df69ee75671",
   "metadata": {},
   "source": [
    "## Set up Superlinked"
   ]
  },
  {
   "cell_type": "code",
   "execution_count": 5,
   "id": "363d1bfb-a842-49b6-a822-99db1f18daa8",
   "metadata": {},
   "outputs": [],
   "source": [
    "@schema\n",
    "class MovieSchema:\n",
    "    description: String\n",
    "    title: String\n",
    "    release_timestamp: Timestamp\n",
    "    genres: String\n",
    "    id: IdField"
   ]
  },
  {
   "cell_type": "code",
   "execution_count": 6,
   "id": "7b17ee72-539f-459a-ab8e-f1918579987d",
   "metadata": {},
   "outputs": [],
   "source": [
    "movie = MovieSchema()"
   ]
  },
  {
   "cell_type": "code",
   "execution_count": 7,
   "id": "abba40ea-a250-4b12-ad4b-ef90155c3175",
   "metadata": {},
   "outputs": [],
   "source": [
    "description_space = TextSimilaritySpace(text=movie.description, model=MODEL)\n",
    "title_space = TextSimilaritySpace(text=movie.title, model=MODEL)\n",
    "genre_space = TextSimilaritySpace(text=movie.genres, model=MODEL)\n",
    "recency_space = RecencySpace(timestamp=movie.release_timestamp, period_time_list=[\n",
    "    PeriodTime(timedelta(days=4 * YEAR_IN_DAYS)), \n",
    "    PeriodTime(timedelta(days=10 * YEAR_IN_DAYS)), \n",
    "    PeriodTime(timedelta(days=40 * YEAR_IN_DAYS))],\n",
    "    negative_filter=-0.25)"
   ]
  },
  {
   "cell_type": "code",
   "execution_count": 8,
   "id": "88e05778-8ab1-49c9-922d-cd825c65b93a",
   "metadata": {},
   "outputs": [],
   "source": [
    "movie_index = Index(spaces=[description_space, title_space, genre_space, recency_space])"
   ]
  },
  {
   "cell_type": "code",
   "execution_count": 9,
   "id": "b56927bf-503c-4f08-98c4-f5f9a49690af",
   "metadata": {},
   "outputs": [],
   "source": [
    "query_text_param = Param(\"query_text\")\n",
    "\n",
    "simple_query = (\n",
    "    Query(movie_index, weights={\n",
    "        description_space: Param(\"description_weight\"),\n",
    "        title_space: Param(\"title_weight\"),\n",
    "        genre_space: Param(\"genre_weight\"),\n",
    "        recency_space: Param(\"recency_weight\")\n",
    "    })\n",
    "    .find(movie)\n",
    "    .similar(description_space.text, query_text_param)\n",
    "    .similar(title_space.text, query_text_param)\n",
    "    .similar(genre_space.text, query_text_param)\n",
    "    .limit(10)\n",
    ")\n",
    "\n",
    "advanced_query = (\n",
    "    Query(movie_index, weights={\n",
    "        description_space: Param(\"description_weight\"),\n",
    "        title_space: Param(\"title_weight\"),\n",
    "        genre_space: Param(\"genre_weight\"),\n",
    "        recency_space: Param(\"recency_weight\")\n",
    "    })\n",
    "    .find(movie)\n",
    "    .similar(description_space.text, Param(\"description_query_text\"))\n",
    "    .similar(title_space.text, Param(\"title_query_text\"))\n",
    "    .similar(genre_space.text, Param(\"genre_query_text\"))\n",
    "    .limit(10)\n",
    ")"
   ]
  },
  {
   "cell_type": "code",
   "execution_count": 10,
   "id": "22069eb1-16d6-40db-b5ba-127fa1efa86e",
   "metadata": {},
   "outputs": [],
   "source": [
    "df_parser = DataFrameParser(schema=movie, mapping={movie.release_timestamp: \"timestamp\"})"
   ]
  },
  {
   "cell_type": "code",
   "execution_count": 11,
   "id": "14335931-ba95-45ec-8cb6-19f5e4905fbd",
   "metadata": {},
   "outputs": [],
   "source": [
    "source: InMemorySource = InMemorySource(movie, parser=df_parser)\n",
    "executor: InMemoryExecutor = InMemoryExecutor(sources=[source], indices=[movie_index])\n",
    "app: InMemoryApp = executor.run()"
   ]
  },
  {
   "cell_type": "markdown",
   "id": "29e6a6fc-ec5e-4a07-b9a8-9c8b38ac047b",
   "metadata": {},
   "source": [
    "This next one might take several minutes to run. Getting a coffee or water, or doing a quick planking workout is advised."
   ]
  },
  {
   "cell_type": "code",
   "execution_count": 12,
   "id": "683cbd59-0744-4cd9-9a36-18814be79760",
   "metadata": {},
   "outputs": [],
   "source": [
    "source.put([movie_df])"
   ]
  },
  {
   "cell_type": "markdown",
   "id": "09bcc1e1-91d1-400f-87c9-bfcda1bddded",
   "metadata": {},
   "source": [
    "## Understanding recency"
   ]
  },
  {
   "cell_type": "markdown",
   "id": "576214c2-8303-45d0-a5ae-8cffe5e70e42",
   "metadata": {},
   "source": [
    "Recency can seem quite complex at first, let's see how the score looks like for the relevant time periods"
   ]
  },
  {
   "cell_type": "code",
   "execution_count": 15,
   "id": "0bd07652-ebd9-4676-97b2-96eecd0b6089",
   "metadata": {},
   "outputs": [
    {
     "data": {
      "application/vnd.vegalite.v5+json": {
       "$schema": "https://vega.github.io/schema/vega-lite/v5.16.3.json",
       "config": {
        "view": {
         "continuousHeight": 300,
         "continuousWidth": 300
        }
       },
       "data": {
        "name": "data-3a5b6b968adc50831be125b3e06fc61e"
       },
       "datasets": {
        "data-3a5b6b968adc50831be125b3e06fc61e": [
         {
          "date": "1980-01-28T17:48:48",
          "score": -0.25
         },
         {
          "date": "1980-02-13T19:38:20.972973",
          "score": -0.25
         },
         {
          "date": "1980-02-29T21:27:53.945946",
          "score": -0.25
         },
         {
          "date": "1980-03-16T23:17:26.918919",
          "score": -0.25
         },
         {
          "date": "1980-04-02T01:06:59.891892",
          "score": -0.25
         },
         {
          "date": "1980-04-18T03:56:32.864865",
          "score": -0.25
         },
         {
          "date": "1980-05-04T05:46:05.837838",
          "score": -0.25
         },
         {
          "date": "1980-05-20T07:35:38.810811",
          "score": -0.25
         },
         {
          "date": "1980-06-05T09:25:11.783784",
          "score": -0.25
         },
         {
          "date": "1980-06-21T11:14:44.756757",
          "score": -0.25
         },
         {
          "date": "1980-07-07T13:04:17.729730",
          "score": -0.25
         },
         {
          "date": "1980-07-23T14:53:50.702703",
          "score": -0.25
         },
         {
          "date": "1980-08-08T16:43:23.675676",
          "score": -0.25
         },
         {
          "date": "1980-08-24T18:32:56.648649",
          "score": -0.25
         },
         {
          "date": "1980-09-09T20:22:29.621622",
          "score": -0.25
         },
         {
          "date": "1980-09-25T22:12:02.594595",
          "score": -0.25
         },
         {
          "date": "1980-10-11T23:01:35.567568",
          "score": -0.25
         },
         {
          "date": "1980-10-28T00:51:08.540541",
          "score": -0.25
         },
         {
          "date": "1980-11-13T02:40:41.513514",
          "score": -0.25
         },
         {
          "date": "1980-11-29T04:30:14.486486",
          "score": -0.25
         },
         {
          "date": "1980-12-15T06:19:47.459459",
          "score": -0.25
         },
         {
          "date": "1980-12-31T08:09:20.432432",
          "score": -0.25
         },
         {
          "date": "1981-01-16T09:58:53.405405",
          "score": -0.25
         },
         {
          "date": "1981-02-01T11:48:26.378378",
          "score": -0.25
         },
         {
          "date": "1981-02-17T13:37:59.351351",
          "score": -0.25
         },
         {
          "date": "1981-03-05T15:27:32.324324",
          "score": -0.25
         },
         {
          "date": "1981-03-21T17:17:05.297297",
          "score": -0.25
         },
         {
          "date": "1981-04-06T20:06:38.270270",
          "score": -0.25
         },
         {
          "date": "1981-04-22T21:56:11.243243",
          "score": -0.25
         },
         {
          "date": "1981-05-08T23:45:44.216216",
          "score": -0.25
         },
         {
          "date": "1981-05-25T01:35:17.189189",
          "score": -0.25
         },
         {
          "date": "1981-06-10T03:24:50.162162",
          "score": -0.25
         },
         {
          "date": "1981-06-26T05:14:23.135135",
          "score": -0.25
         },
         {
          "date": "1981-07-12T07:03:56.108108",
          "score": -0.25
         },
         {
          "date": "1981-07-28T08:53:29.081081",
          "score": -0.25
         },
         {
          "date": "1981-08-13T10:43:02.054054",
          "score": -0.25
         },
         {
          "date": "1981-08-29T12:32:35.027027",
          "score": -0.25
         },
         {
          "date": "1981-09-14T14:22:08",
          "score": -0.25
         },
         {
          "date": "1981-09-30T15:11:40.972973",
          "score": -0.25
         },
         {
          "date": "1981-10-16T17:01:13.945946",
          "score": -0.25
         },
         {
          "date": "1981-11-01T18:50:46.918919",
          "score": -0.25
         },
         {
          "date": "1981-11-17T20:40:19.891892",
          "score": -0.25
         },
         {
          "date": "1981-12-03T22:29:52.864865",
          "score": -0.25
         },
         {
          "date": "1981-12-20T00:19:25.837838",
          "score": -0.25
         },
         {
          "date": "1982-01-05T02:08:58.810811",
          "score": -0.25
         },
         {
          "date": "1982-01-21T03:58:31.783784",
          "score": -0.25
         },
         {
          "date": "1982-02-06T05:48:04.756757",
          "score": -0.25
         },
         {
          "date": "1982-02-22T07:37:37.729730",
          "score": -0.25
         },
         {
          "date": "1982-03-10T09:27:10.702703",
          "score": -0.25
         },
         {
          "date": "1982-03-26T11:16:43.675676",
          "score": -0.25
         },
         {
          "date": "1982-04-11T14:06:16.648649",
          "score": -0.25
         },
         {
          "date": "1982-04-27T15:55:49.621622",
          "score": -0.25
         },
         {
          "date": "1982-05-13T17:45:22.594595",
          "score": -0.25
         },
         {
          "date": "1982-05-29T19:34:55.567568",
          "score": -0.25
         },
         {
          "date": "1982-06-14T21:24:28.540541",
          "score": -0.25
         },
         {
          "date": "1982-06-30T23:14:01.513514",
          "score": -0.25
         },
         {
          "date": "1982-07-17T01:03:34.486486",
          "score": -0.25
         },
         {
          "date": "1982-08-02T02:53:07.459459",
          "score": -0.25
         },
         {
          "date": "1982-08-18T04:42:40.432432",
          "score": -0.25
         },
         {
          "date": "1982-09-03T06:32:13.405405",
          "score": -0.25
         },
         {
          "date": "1982-09-19T08:21:46.378378",
          "score": -0.25
         },
         {
          "date": "1982-10-05T09:11:19.351351",
          "score": -0.25
         },
         {
          "date": "1982-10-21T11:00:52.324324",
          "score": -0.25
         },
         {
          "date": "1982-11-06T12:50:25.297297",
          "score": -0.25
         },
         {
          "date": "1982-11-22T14:39:58.270270",
          "score": -0.25
         },
         {
          "date": "1982-12-08T16:29:31.243243",
          "score": -0.25
         },
         {
          "date": "1982-12-24T18:19:04.216216",
          "score": -0.25
         },
         {
          "date": "1983-01-09T20:08:37.189189",
          "score": -0.25
         },
         {
          "date": "1983-01-25T21:58:10.162162",
          "score": -0.25
         },
         {
          "date": "1983-02-10T23:47:43.135135",
          "score": -0.25
         },
         {
          "date": "1983-02-27T01:37:16.108108",
          "score": -0.25
         },
         {
          "date": "1983-03-15T03:26:49.081081",
          "score": -0.25
         },
         {
          "date": "1983-03-31T06:16:22.054054",
          "score": -0.25
         },
         {
          "date": "1983-04-16T08:05:55.027027",
          "score": -0.25
         },
         {
          "date": "1983-05-02T09:55:28",
          "score": -0.25
         },
         {
          "date": "1983-05-18T11:45:00.972973",
          "score": -0.25
         },
         {
          "date": "1983-06-03T13:34:33.945946",
          "score": -0.25
         },
         {
          "date": "1983-06-19T15:24:06.918919",
          "score": -0.25
         },
         {
          "date": "1983-07-05T17:13:39.891892",
          "score": -0.25
         },
         {
          "date": "1983-07-21T19:03:12.864865",
          "score": -0.25
         },
         {
          "date": "1983-08-06T20:52:45.837838",
          "score": -0.25
         },
         {
          "date": "1983-08-22T22:42:18.810811",
          "score": -0.25
         },
         {
          "date": "1983-09-08T00:31:51.783784",
          "score": -0.25
         },
         {
          "date": "1983-09-24T02:21:24.756757",
          "score": -0.25
         },
         {
          "date": "1983-10-10T03:10:57.729730",
          "score": -0.25
         },
         {
          "date": "1983-10-26T05:00:30.702703",
          "score": -0.25
         },
         {
          "date": "1983-11-11T06:50:03.675676",
          "score": -0.25
         },
         {
          "date": "1983-11-27T08:39:36.648649",
          "score": -0.25
         },
         {
          "date": "1983-12-13T10:29:09.621622",
          "score": -0.25
         },
         {
          "date": "1983-12-29T12:18:42.594595",
          "score": -0.25
         },
         {
          "date": "1984-01-14T14:08:15.567568",
          "score": -0.25
         },
         {
          "date": "1984-01-30T15:57:48.540541",
          "score": 0.00010482457797177103
         },
         {
          "date": "1984-02-15T17:47:21.513514",
          "score": 0.0006813592935628887
         },
         {
          "date": "1984-03-02T19:36:54.486486",
          "score": 0.0012578919708442493
         },
         {
          "date": "1984-03-18T21:26:27.459459",
          "score": 0.0018344208850981508
         },
         {
          "date": "1984-04-04T00:16:00.432432",
          "score": 0.002410944311618257
         },
         {
          "date": "1984-04-20T02:05:33.405405",
          "score": 0.0029874605257150244
         },
         {
          "date": "1984-05-06T03:55:06.378378",
          "score": 0.0035639678027199195
         },
         {
          "date": "1984-05-22T05:44:39.351351",
          "score": 0.0041404644179920125
         },
         {
          "date": "1984-06-07T07:34:12.324324",
          "score": 0.004716948646920849
         },
         {
          "date": "1984-06-23T09:23:45.297297",
          "score": 0.005293418764934457
         },
         {
          "date": "1984-07-09T11:13:18.270270",
          "score": 0.00586987304750218
         },
         {
          "date": "1984-07-25T13:02:51.243243",
          "score": 0.006446309770141323
         },
         {
          "date": "1984-08-10T14:52:24.216216",
          "score": 0.0070227272084211895
         },
         {
          "date": "1984-08-26T16:41:57.189189",
          "score": 0.0075991236379693156
         },
         {
          "date": "1984-09-11T18:31:30.162162",
          "score": 0.008175497334475534
         },
         {
          "date": "1984-09-27T20:21:03.135135",
          "score": 0.008751846573698471
         },
         {
          "date": "1984-10-13T21:10:36.108108",
          "score": 0.00932816963146875
         },
         {
          "date": "1984-10-29T23:00:09.081081",
          "score": 0.009904464783696068
         },
         {
          "date": "1984-11-15T00:49:42.054054",
          "score": 0.010480730306373767
         },
         {
          "date": "1984-12-01T02:39:15.027027",
          "score": 0.011056964475583311
         },
         {
          "date": "1984-12-17T04:28:48",
          "score": 0.011633165567500325
         },
         {
          "date": "1985-01-02T06:18:20.972973",
          "score": 0.012209331858399453
         },
         {
          "date": "1985-01-18T08:07:53.945946",
          "score": 0.012785461624659086
         },
         {
          "date": "1985-02-03T09:57:26.918919",
          "score": 0.013361553142766908
         },
         {
          "date": "1985-02-19T11:46:59.891892",
          "score": 0.013937604689325325
         },
         {
          "date": "1985-03-07T13:36:32.864865",
          "score": 0.014513614541056333
         },
         {
          "date": "1985-03-23T15:26:05.837838",
          "score": 0.015089580974806588
         },
         {
          "date": "1985-04-08T18:15:38.810811",
          "score": 0.015665502267551867
         },
         {
          "date": "1985-04-24T20:05:11.783784",
          "score": 0.016241376696404214
         },
         {
          "date": "1985-05-10T21:54:44.756757",
          "score": 0.01681720253861517
         },
         {
          "date": "1985-05-26T23:44:17.729730",
          "score": 0.017392978071581605
         },
         {
          "date": "1985-06-12T01:33:50.702703",
          "score": 0.017968701572851214
         },
         {
          "date": "1985-06-28T03:23:23.675676",
          "score": 0.01854437132012736
         },
         {
          "date": "1985-07-14T05:12:56.648649",
          "score": 0.019119985591273703
         },
         {
          "date": "1985-07-30T07:02:29.621622",
          "score": 0.019695542664320817
         },
         {
          "date": "1985-08-15T08:52:02.594595",
          "score": 0.020271040817468985
         },
         {
          "date": "1985-08-31T10:41:35.567568",
          "score": 0.020846478329095863
         },
         {
          "date": "1985-09-16T12:31:08.540541",
          "score": 0.021421853477760044
         },
         {
          "date": "1985-10-02T13:20:41.513514",
          "score": 0.021997164542206946
         },
         {
          "date": "1985-10-18T15:10:14.486486",
          "score": 0.02257240980137372
         },
         {
          "date": "1985-11-03T16:59:47.459459",
          "score": 0.02314758753439397
         },
         {
          "date": "1985-11-19T18:49:20.432432",
          "score": 0.02372269602060388
         },
         {
          "date": "1985-12-05T20:38:53.405405",
          "score": 0.024297733539546132
         },
         {
          "date": "1985-12-21T22:28:26.378378",
          "score": 0.024872698370976234
         },
         {
          "date": "1986-01-07T00:17:59.351351",
          "score": 0.02544758879486754
         },
         {
          "date": "1986-01-23T02:07:32.324324",
          "score": 0.02602240309141421
         },
         {
          "date": "1986-02-08T03:57:05.297297",
          "score": 0.02659713954104001
         },
         {
          "date": "1986-02-24T05:46:38.270270",
          "score": 0.027171796424401
         },
         {
          "date": "1986-03-12T07:36:11.243243",
          "score": 0.027746372022391094
         },
         {
          "date": "1986-03-28T09:25:44.216216",
          "score": 0.02832086461614733
         },
         {
          "date": "1986-04-13T12:15:17.189189",
          "score": 0.028895272487055326
         },
         {
          "date": "1986-04-29T14:04:50.162162",
          "score": 0.029469593916754147
         },
         {
          "date": "1986-05-15T15:54:23.135135",
          "score": 0.030043827187141534
         },
         {
          "date": "1986-05-31T17:43:56.108108",
          "score": 0.030617970580377962
         },
         {
          "date": "1986-06-16T19:33:29.081081",
          "score": 0.031192022378894152
         },
         {
          "date": "1986-07-02T21:23:02.054054",
          "score": 0.031765980865394186
         },
         {
          "date": "1986-07-18T23:12:35.027027",
          "score": 0.03233984432286097
         },
         {
          "date": "1986-08-04T01:02:08",
          "score": 0.03291361103456271
         },
         {
          "date": "1986-08-20T02:51:40.972973",
          "score": 0.03348727928405609
         },
         {
          "date": "1986-09-05T04:41:13.945946",
          "score": 0.03406084735519252
         },
         {
          "date": "1986-09-21T06:30:46.918919",
          "score": 0.03463431353212351
         },
         {
          "date": "1986-10-07T07:20:19.891892",
          "score": 0.03520767609930485
         },
         {
          "date": "1986-10-23T09:09:52.864865",
          "score": 0.03578093334150324
         },
         {
          "date": "1986-11-08T10:59:25.837838",
          "score": 0.036354083543798474
         },
         {
          "date": "1986-11-24T12:48:58.810811",
          "score": 0.03692712499159287
         },
         {
          "date": "1986-12-10T14:38:31.783784",
          "score": 0.03750005597061276
         },
         {
          "date": "1986-12-26T16:28:04.756757",
          "score": 0.03807287476691516
         },
         {
          "date": "1987-01-11T18:17:37.729730",
          "score": 0.03864557966689304
         },
         {
          "date": "1987-01-27T20:07:10.702703",
          "score": 0.03921816895727957
         },
         {
          "date": "1987-02-12T21:56:43.675676",
          "score": 0.039790640925154164
         },
         {
          "date": "1987-02-28T23:46:16.648649",
          "score": 0.04036299385794721
         },
         {
          "date": "1987-03-17T01:35:49.621622",
          "score": 0.040935226043445294
         },
         {
          "date": "1987-04-02T04:25:22.594595",
          "score": 0.04150733576979533
         },
         {
          "date": "1987-04-18T06:14:55.567568",
          "score": 0.04207932132551144
         },
         {
          "date": "1987-05-04T08:04:28.540541",
          "score": 0.04265118099947929
         },
         {
          "date": "1987-05-20T09:54:01.513514",
          "score": 0.04322291308096052
         },
         {
          "date": "1987-06-05T11:43:34.486486",
          "score": 0.04379451585959894
         },
         {
          "date": "1987-06-21T13:33:07.459459",
          "score": 0.04436598762542518
         },
         {
          "date": "1987-07-07T15:22:40.432432",
          "score": 0.04493732666886138
         },
         {
          "date": "1987-07-23T17:12:13.405405",
          "score": 0.0455085312807271
         },
         {
          "date": "1987-08-08T19:01:46.378378",
          "score": 0.04607959975224407
         },
         {
          "date": "1987-08-24T20:51:19.351351",
          "score": 0.04665053037504137
         },
         {
          "date": "1987-09-09T22:40:52.324324",
          "score": 0.04722132144115959
         },
         {
          "date": "1987-09-26T00:30:25.297297",
          "score": 0.04779197124305766
         },
         {
          "date": "1987-10-12T01:19:58.270270",
          "score": 0.0483624780736172
         },
         {
          "date": "1987-10-28T03:09:31.243243",
          "score": 0.04893284022614697
         },
         {
          "date": "1987-11-13T04:59:04.216216",
          "score": 0.04950305599438897
         },
         {
          "date": "1987-11-29T06:48:37.189189",
          "score": 0.050073123672523055
         },
         {
          "date": "1987-12-15T08:38:10.162162",
          "score": 0.050643041555171776
         },
         {
          "date": "1987-12-31T10:27:43.135135",
          "score": 0.051212807937406575
         },
         {
          "date": "1988-01-16T12:17:16.108108",
          "score": 0.05178242111475088
         },
         {
          "date": "1988-02-01T14:06:49.081081",
          "score": 0.05235187938318738
         },
         {
          "date": "1988-02-17T15:56:22.054054",
          "score": 0.05292118103916178
         },
         {
          "date": "1988-03-04T17:45:55.027027",
          "score": 0.05349032437958859
         },
         {
          "date": "1988-03-20T19:35:28",
          "score": 0.054059307701855956
         },
         {
          "date": "1988-04-05T22:25:00.972973",
          "score": 0.0546281293038302
         },
         {
          "date": "1988-04-22T00:14:33.945946",
          "score": 0.05519678748386213
         },
         {
          "date": "1988-05-08T02:04:06.918919",
          "score": 0.055765280540790885
         },
         {
          "date": "1988-05-24T03:53:39.891892",
          "score": 0.05633360677394953
         },
         {
          "date": "1988-06-09T05:43:12.864865",
          "score": 0.056901764483171025
         },
         {
          "date": "1988-06-25T07:32:45.837838",
          "score": 0.05746975196879182
         },
         {
          "date": "1988-07-11T09:22:18.810811",
          "score": 0.05803756753165717
         },
         {
          "date": "1988-07-27T11:11:51.783784",
          "score": 0.05860520947312724
         },
         {
          "date": "1988-08-12T13:01:24.756757",
          "score": 0.059172676095081776
         },
         {
          "date": "1988-08-28T14:50:57.729730",
          "score": 0.05973996569992439
         },
         {
          "date": "1988-09-13T16:40:30.702703",
          "score": 0.06030707659058874
         },
         {
          "date": "1988-09-29T17:30:03.675676",
          "score": 0.06087400707054311
         },
         {
          "date": "1988-10-15T19:19:36.648649",
          "score": 0.06144075544379542
         },
         {
          "date": "1988-10-31T21:09:09.621622",
          "score": 0.062007320014897706
         },
         {
          "date": "1988-11-16T22:58:42.594595",
          "score": 0.06257369908895252
         },
         {
          "date": "1988-12-03T00:48:15.567568",
          "score": 0.06313989097161755
         },
         {
          "date": "1988-12-19T02:37:48.540541",
          "score": 0.06370589396910989
         },
         {
          "date": "1989-01-04T04:27:21.513514",
          "score": 0.06427170638821203
         },
         {
          "date": "1989-01-20T06:16:54.486486",
          "score": 0.0648373265362767
         },
         {
          "date": "1989-02-05T08:06:27.459460",
          "score": 0.0654027527212313
         },
         {
          "date": "1989-02-21T09:56:00.432432",
          "score": 0.06596798325158414
         },
         {
          "date": "1989-03-09T11:45:33.405405",
          "score": 0.06653301643642816
         },
         {
          "date": "1989-03-25T13:35:06.378378",
          "score": 0.06709785058544729
         },
         {
          "date": "1989-04-10T16:24:39.351351",
          "score": 0.06766248400892072
         },
         {
          "date": "1989-04-26T18:14:12.324324",
          "score": 0.06822691501772732
         },
         {
          "date": "1989-05-12T20:03:45.297297",
          "score": 0.06879114192335271
         },
         {
          "date": "1989-05-28T21:53:18.270270",
          "score": 0.06935516303789227
         },
         {
          "date": "1989-06-13T23:42:51.243243",
          "score": 0.06991897667405753
         },
         {
          "date": "1989-06-30T01:32:24.216216",
          "score": 0.07048258114518025
         },
         {
          "date": "1989-07-16T03:21:57.189189",
          "score": 0.07104597476521818
         },
         {
          "date": "1989-08-01T05:11:30.162162",
          "score": 0.07160915584875992
         },
         {
          "date": "1989-08-17T07:01:03.135135",
          "score": 0.07217212271102992
         },
         {
          "date": "1989-09-02T08:50:36.108108",
          "score": 0.07273487366789272
         },
         {
          "date": "1989-09-18T10:40:09.081081",
          "score": 0.07329740703585945
         },
         {
          "date": "1989-10-04T11:29:42.054054",
          "score": 0.07385972113209233
         },
         {
          "date": "1989-10-20T13:19:15.027027",
          "score": 0.07442181427440896
         },
         {
          "date": "1989-11-05T15:08:48",
          "score": 0.07498368478128838
         },
         {
          "date": "1989-11-21T16:58:20.972973",
          "score": 0.07554533097187562
         },
         {
          "date": "1989-12-07T18:47:53.945946",
          "score": 0.07610675116598646
         },
         {
          "date": "1989-12-23T20:37:26.918919",
          "score": 0.07666794368411285
         },
         {
          "date": "1990-01-08T22:26:59.891892",
          "score": 0.07722890684742803
         },
         {
          "date": "1990-01-25T00:16:32.864865",
          "score": 0.07778963897779137
         },
         {
          "date": "1990-02-10T02:06:05.837838",
          "score": 0.07835013839775343
         },
         {
          "date": "1990-02-26T03:55:38.810811",
          "score": 0.07891040343056008
         },
         {
          "date": "1990-03-14T05:45:11.783784",
          "score": 0.07947043240015957
         },
         {
          "date": "1990-03-30T08:34:44.756757",
          "score": 0.0800302236312057
         },
         {
          "date": "1990-04-15T10:24:17.729730",
          "score": 0.08058977544906347
         },
         {
          "date": "1990-05-01T12:13:50.702703",
          "score": 0.08114908617981434
         },
         {
          "date": "1990-05-17T14:03:23.675676",
          "score": 0.08170815415026103
         },
         {
          "date": "1990-06-02T15:52:56.648649",
          "score": 0.08226697768793248
         },
         {
          "date": "1990-06-18T17:42:29.621622",
          "score": 0.08282555512108795
         },
         {
          "date": "1990-07-04T19:32:02.594595",
          "score": 0.08338388477872431
         },
         {
          "date": "1990-07-20T21:21:35.567568",
          "score": 0.08394196499057871
         },
         {
          "date": "1990-08-05T23:11:08.540541",
          "score": 0.084499794087135
         },
         {
          "date": "1990-08-22T01:00:41.513514",
          "score": 0.08505737039962824
         },
         {
          "date": "1990-09-07T02:50:14.486486",
          "score": 0.08561469226004931
         },
         {
          "date": "1990-09-23T04:39:47.459460",
          "score": 0.08617175800115082
         },
         {
          "date": "1990-10-09T05:29:20.432432",
          "score": 0.08672856595645109
         },
         {
          "date": "1990-10-25T07:18:53.405405",
          "score": 0.08728511446023979
         },
         {
          "date": "1990-11-10T09:08:26.378378",
          "score": 0.0878414018475828
         },
         {
          "date": "1990-11-26T10:57:59.351351",
          "score": 0.08839742645432765
         },
         {
          "date": "1990-12-12T12:47:32.324324",
          "score": 0.08895318661710663
         },
         {
          "date": "1990-12-28T14:37:05.297297",
          "score": 0.08950868067334421
         },
         {
          "date": "1991-01-13T16:26:38.270270",
          "score": 0.09006390696126088
         },
         {
          "date": "1991-01-29T18:16:11.243243",
          "score": 0.09061886381987783
         },
         {
          "date": "1991-02-14T20:05:44.216216",
          "score": 0.09117354958902207
         },
         {
          "date": "1991-03-02T21:55:17.189189",
          "score": 0.0917279626093325
         },
         {
          "date": "1991-03-18T23:44:50.162162",
          "score": 0.09228210122226302
         },
         {
          "date": "1991-04-04T02:34:23.135135",
          "score": 0.0928359637700891
         },
         {
          "date": "1991-04-20T04:23:56.108108",
          "score": 0.093389548595911
         },
         {
          "date": "1991-05-06T06:13:29.081081",
          "score": 0.09394285404366104
         },
         {
          "date": "1991-05-22T08:03:02.054054",
          "score": 0.09449587845810675
         },
         {
          "date": "1991-06-07T09:52:35.027027",
          "score": 0.09504862018485606
         },
         {
          "date": "1991-06-23T11:42:08",
          "score": 0.09560107757036351
         },
         {
          "date": "1991-07-09T13:31:40.972973",
          "score": 0.09615324896193343
         },
         {
          "date": "1991-07-25T15:21:13.945946",
          "score": 0.0967051327077258
         },
         {
          "date": "1991-08-10T17:10:46.918919",
          "score": 0.09725672715676154
         },
         {
          "date": "1991-08-26T19:00:19.891892",
          "score": 0.09780803065892646
         },
         {
          "date": "1991-09-11T20:49:52.864865",
          "score": 0.09835904156497717
         },
         {
          "date": "1991-09-27T22:39:25.837838",
          "score": 0.09890975822654588
         },
         {
          "date": "1991-10-13T23:28:58.810811",
          "score": 0.09946017899614384
         },
         {
          "date": "1991-10-30T01:18:31.783784",
          "score": 0.1000103022271686
         },
         {
          "date": "1991-11-15T03:08:04.756757",
          "score": 0.10056012627390723
         },
         {
          "date": "1991-12-01T04:57:37.729730",
          "score": 0.10110964949154237
         },
         {
          "date": "1991-12-17T06:47:10.702703",
          "score": 0.10165887023615597
         },
         {
          "date": "1992-01-02T08:36:43.675676",
          "score": 0.10220778686473528
         },
         {
          "date": "1992-01-18T10:26:16.648649",
          "score": 0.10275639773517758
         },
         {
          "date": "1992-02-03T12:15:49.621622",
          "score": 0.10330470120629374
         },
         {
          "date": "1992-02-19T14:05:22.594595",
          "score": 0.10385269563781505
         },
         {
          "date": "1992-03-06T15:54:55.567568",
          "score": 0.10440037939039747
         },
         {
          "date": "1992-03-22T17:44:28.540541",
          "score": 0.10494775082562577
         },
         {
          "date": "1992-04-07T20:34:01.513514",
          "score": 0.10549480830601962
         },
         {
          "date": "1992-04-23T22:23:34.486486",
          "score": 0.10604155019503735
         },
         {
          "date": "1992-05-10T00:13:07.459460",
          "score": 0.10658797485708187
         },
         {
          "date": "1992-05-26T02:02:40.432432",
          "score": 0.1071340806575046
         },
         {
          "date": "1992-06-11T03:52:13.405405",
          "score": 0.1076798659626113
         },
         {
          "date": "1992-06-27T05:41:46.378378",
          "score": 0.10822532913966637
         },
         {
          "date": "1992-07-13T07:31:19.351351",
          "score": 0.10877046855689798
         },
         {
          "date": "1992-07-29T09:20:52.324324",
          "score": 0.109315282583502
         },
         {
          "date": "1992-08-14T11:10:25.297297",
          "score": 0.10985976958964891
         },
         {
          "date": "1992-08-30T12:59:58.270270",
          "score": 0.11040392794648678
         },
         {
          "date": "1992-09-15T14:49:31.243243",
          "score": 0.11094775602614698
         },
         {
          "date": "1992-10-01T15:39:04.216216",
          "score": 0.11149125220174899
         },
         {
          "date": "1992-10-17T17:28:37.189189",
          "score": 0.1120344148474054
         },
         {
          "date": "1992-11-02T19:18:10.162162",
          "score": 0.11257724233822597
         },
         {
          "date": "1992-11-18T21:07:43.135135",
          "score": 0.11311973305032418
         },
         {
          "date": "1992-12-04T22:57:16.108108",
          "score": 0.11366188536081899
         },
         {
          "date": "1992-12-21T00:46:49.081081",
          "score": 0.11420369764784395
         },
         {
          "date": "1993-01-06T02:36:22.054054",
          "score": 0.11474516829054843
         },
         {
          "date": "1993-01-22T04:25:55.027027",
          "score": 0.11528629566910445
         },
         {
          "date": "1993-02-07T06:15:28",
          "score": 0.1158270781647106
         },
         {
          "date": "1993-02-23T08:05:00.972973",
          "score": 0.11636751415959717
         },
         {
          "date": "1993-03-11T09:54:33.945946",
          "score": 0.1169076020370314
         },
         {
          "date": "1993-03-27T11:44:06.918919",
          "score": 0.11744734018132157
         },
         {
          "date": "1993-04-12T14:33:39.891892",
          "score": 0.11798672697782212
         },
         {
          "date": "1993-04-28T16:23:12.864865",
          "score": 0.1185257608129391
         },
         {
          "date": "1993-05-14T18:12:45.837838",
          "score": 0.11906444007413403
         },
         {
          "date": "1993-05-30T20:02:18.810811",
          "score": 0.11960276314992903
         },
         {
          "date": "1993-06-15T21:51:51.783784",
          "score": 0.12014072842991191
         },
         {
          "date": "1993-07-01T23:41:24.756757",
          "score": 0.12067833430474113
         },
         {
          "date": "1993-07-18T01:30:57.729730",
          "score": 0.12121557916614989
         },
         {
          "date": "1993-08-03T03:20:30.702703",
          "score": 0.12175246140695177
         },
         {
          "date": "1993-08-19T05:10:03.675676",
          "score": 0.12228897942104483
         },
         {
          "date": "1993-09-04T06:59:36.648649",
          "score": 0.12282513160341697
         },
         {
          "date": "1993-09-20T08:49:09.621622",
          "score": 0.12336091635014992
         },
         {
          "date": "1993-10-06T09:38:42.594595",
          "score": 0.12389633205842546
         },
         {
          "date": "1993-10-22T11:28:15.567568",
          "score": 0.12443137712652878
         },
         {
          "date": "1993-11-07T13:17:48.540541",
          "score": 0.12496604995385392
         },
         {
          "date": "1993-11-23T15:07:21.513514",
          "score": 0.12550034894090883
         },
         {
          "date": "1993-12-09T16:56:54.486486",
          "score": 0.12603427248931942
         },
         {
          "date": "1993-12-25T18:46:27.459460",
          "score": 0.12656781900183467
         },
         {
          "date": "1994-01-10T20:36:00.432432",
          "score": 0.127100986882332
         },
         {
          "date": "1994-01-26T22:25:33.405405",
          "score": 0.1276337745358213
         },
         {
          "date": "1994-02-12T00:15:06.378378",
          "score": 0.12816618036844954
         },
         {
          "date": "1994-02-28T02:04:39.351351",
          "score": 0.12869820278750688
         },
         {
          "date": "1994-03-16T03:54:12.324324",
          "score": 0.12922984020142889
         },
         {
          "date": "1994-04-01T06:43:45.297297",
          "score": 0.12976109101980404
         },
         {
          "date": "1994-04-17T08:33:18.270270",
          "score": 0.13029195365337728
         },
         {
          "date": "1994-05-03T10:22:51.243243",
          "score": 0.1308224265140546
         },
         {
          "date": "1994-05-19T12:12:24.216216",
          "score": 0.13135250801490822
         },
         {
          "date": "1994-06-04T14:01:57.189189",
          "score": 0.13188219657018063
         },
         {
          "date": "1994-06-20T15:51:30.162162",
          "score": 0.1324114905952905
         },
         {
          "date": "1994-07-06T17:41:03.135135",
          "score": 0.13294038850683662
         },
         {
          "date": "1994-07-22T19:30:36.108108",
          "score": 0.1334688887226015
         },
         {
          "date": "1994-08-07T21:20:09.081081",
          "score": 0.13399698966155918
         },
         {
          "date": "1994-08-23T23:09:42.054054",
          "score": 0.1345246897438775
         },
         {
          "date": "1994-09-09T00:59:15.027027",
          "score": 0.13505198739092314
         },
         {
          "date": "1994-09-25T02:48:48",
          "score": 0.1355788810252668
         },
         {
          "date": "1994-10-11T03:38:20.972973",
          "score": 0.1361053690706882
         },
         {
          "date": "1994-10-27T05:27:53.945946",
          "score": 0.13663144995217996
         },
         {
          "date": "1994-11-12T07:17:26.918919",
          "score": 0.1371571220959527
         },
         {
          "date": "1994-11-28T09:06:59.891892",
          "score": 0.13768238392944035
         },
         {
          "date": "1994-12-14T10:56:32.864865",
          "score": 0.1382072338813036
         },
         {
          "date": "1994-12-30T12:46:05.837838",
          "score": 0.13873167038143616
         },
         {
          "date": "1995-01-15T14:35:38.810811",
          "score": 0.13925569186096726
         },
         {
          "date": "1995-01-31T16:25:11.783784",
          "score": 0.139779296752269
         },
         {
          "date": "1995-02-16T18:14:44.756757",
          "score": 0.14030248348895893
         },
         {
          "date": "1995-03-04T20:04:17.729730",
          "score": 0.1408252505059061
         },
         {
          "date": "1995-03-20T21:53:50.702703",
          "score": 0.1413475962392347
         },
         {
          "date": "1995-04-06T00:43:23.675676",
          "score": 0.14186951912632922
         },
         {
          "date": "1995-04-22T02:32:56.648649",
          "score": 0.14239101760583966
         },
         {
          "date": "1995-05-08T04:22:29.621622",
          "score": 0.14291209011768483
         },
         {
          "date": "1995-05-24T06:12:02.594595",
          "score": 0.14343273510305837
         },
         {
          "date": "1995-06-09T08:01:35.567568",
          "score": 0.14395295100443267
         },
         {
          "date": "1995-06-25T09:51:08.540541",
          "score": 0.14447273626556403
         },
         {
          "date": "1995-07-11T11:40:41.513514",
          "score": 0.14499208933149677
         },
         {
          "date": "1995-07-27T13:30:14.486486",
          "score": 0.14551100864856803
         },
         {
          "date": "1995-08-12T15:19:47.459460",
          "score": 0.14602949266441262
         },
         {
          "date": "1995-08-28T17:09:20.432432",
          "score": 0.14654753982796812
         },
         {
          "date": "1995-09-13T18:58:53.405405",
          "score": 0.147065148589478
         },
         {
          "date": "1995-09-29T19:48:26.378378",
          "score": 0.14758231740049804
         },
         {
          "date": "1995-10-15T21:37:59.351351",
          "score": 0.14809904471390004
         },
         {
          "date": "1995-10-31T23:27:32.324324",
          "score": 0.14861532898387544
         },
         {
          "date": "1995-11-17T01:17:05.297297",
          "score": 0.1491311686659426
         },
         {
          "date": "1995-12-03T03:06:38.270270",
          "score": 0.1496465622169488
         },
         {
          "date": "1995-12-19T04:56:11.243243",
          "score": 0.15016150809507692
         },
         {
          "date": "1996-01-04T06:45:44.216216",
          "score": 0.1506760047598481
         },
         {
          "date": "1996-01-20T08:35:17.189189",
          "score": 0.15119005067212804
         },
         {
          "date": "1996-02-05T10:24:50.162162",
          "score": 0.1517036442941304
         },
         {
          "date": "1996-02-21T12:14:23.135135",
          "score": 0.15221678408942235
         },
         {
          "date": "1996-03-08T14:03:56.108108",
          "score": 0.15272946852292762
         },
         {
          "date": "1996-03-24T15:53:29.081081",
          "score": 0.15324169606093369
         },
         {
          "date": "1996-04-09T18:43:02.054054",
          "score": 0.1537534651710939
         },
         {
          "date": "1996-04-25T20:32:35.027027",
          "score": 0.15426477432243307
         },
         {
          "date": "1996-05-11T22:22:08",
          "score": 0.15477562198535244
         },
         {
          "date": "1996-05-28T00:11:40.972973",
          "score": 0.15528600663163336
         },
         {
          "date": "1996-06-13T02:01:13.945946",
          "score": 0.15579592673444237
         },
         {
          "date": "1996-06-29T03:50:46.918919",
          "score": 0.156305380768336
         },
         {
          "date": "1996-07-15T05:40:19.891892",
          "score": 0.15681436720926464
         },
         {
          "date": "1996-07-31T07:29:52.864865",
          "score": 0.157322884534578
         },
         {
          "date": "1996-08-16T09:19:25.837838",
          "score": 0.1578309312230288
         },
         {
          "date": "1996-09-01T11:08:58.810811",
          "score": 0.15833850575477754
         },
         {
          "date": "1996-09-17T12:58:31.783784",
          "score": 0.1588456066113974
         },
         {
          "date": "1996-10-03T14:48:04.756757",
          "score": 0.15935223227587886
         },
         {
          "date": "1996-10-19T16:37:37.729730",
          "score": 0.15985838123263352
         },
         {
          "date": "1996-11-04T17:27:10.702703",
          "score": 0.16036405196749914
         },
         {
          "date": "1996-11-20T19:16:43.675676",
          "score": 0.16086924296774444
         },
         {
          "date": "1996-12-06T21:06:16.648649",
          "score": 0.16137395272207303
         },
         {
          "date": "1996-12-22T22:55:49.621622",
          "score": 0.1618781797206279
         },
         {
          "date": "1997-01-08T00:45:22.594595",
          "score": 0.16238192245499655
         },
         {
          "date": "1997-01-24T02:34:55.567568",
          "score": 0.16288517941821537
         },
         {
          "date": "1997-02-09T04:24:28.540541",
          "score": 0.16338794910477356
         },
         {
          "date": "1997-02-25T06:14:01.513514",
          "score": 0.16389023001061803
         },
         {
          "date": "1997-03-13T08:03:34.486487",
          "score": 0.16439202063315836
         },
         {
          "date": "1997-03-29T09:53:07.459459",
          "score": 0.16489331947127006
         },
         {
          "date": "1997-04-14T12:42:40.432432",
          "score": 0.16539412502530082
         },
         {
          "date": "1997-04-30T14:32:13.405405",
          "score": 0.16589443579707308
         },
         {
          "date": "1997-05-16T16:21:46.378378",
          "score": 0.16639425028989008
         },
         {
          "date": "1997-06-01T18:11:19.351351",
          "score": 0.1668935670085397
         },
         {
          "date": "1997-06-17T20:00:52.324324",
          "score": 0.16739238445929774
         },
         {
          "date": "1997-07-03T21:50:25.297297",
          "score": 0.16789070114993496
         },
         {
          "date": "1997-07-19T23:39:58.270270",
          "score": 0.16838851558971998
         },
         {
          "date": "1997-08-05T01:29:31.243243",
          "score": 0.1688858262894234
         },
         {
          "date": "1997-08-21T03:19:04.216216",
          "score": 0.16938263176132312
         },
         {
          "date": "1997-09-06T05:08:37.189189",
          "score": 0.16987893051920835
         },
         {
          "date": "1997-09-22T06:58:10.162162",
          "score": 0.17037472107838394
         },
         {
          "date": "1997-10-08T08:47:43.135135",
          "score": 0.17087000195567598
         },
         {
          "date": "1997-10-24T10:37:16.108108",
          "score": 0.1713647716694333
         },
         {
          "date": "1997-11-09T11:26:49.081081",
          "score": 0.17185902873953612
         },
         {
          "date": "1997-11-25T13:16:22.054054",
          "score": 0.17235277168739688
         },
         {
          "date": "1997-12-11T15:05:55.027027",
          "score": 0.17284599903596667
         },
         {
          "date": "1997-12-27T16:55:28",
          "score": 0.17333870930973866
         },
         {
          "date": "1998-01-12T18:45:00.972973",
          "score": 0.17383090103475285
         },
         {
          "date": "1998-01-28T20:34:33.945946",
          "score": 0.1743225727386009
         },
         {
          "date": "1998-02-13T22:24:06.918919",
          "score": 0.17481372295042963
         },
         {
          "date": "1998-03-02T00:13:39.891892",
          "score": 0.1753043502009464
         },
         {
          "date": "1998-03-18T02:03:12.864865",
          "score": 0.17579445302242264
         },
         {
          "date": "1998-04-03T04:52:45.837838",
          "score": 0.1762840299486989
         },
         {
          "date": "1998-04-19T06:42:18.810811",
          "score": 0.17677307951518845
         },
         {
          "date": "1998-05-05T08:31:51.783784",
          "score": 0.17726160025888293
         },
         {
          "date": "1998-05-21T10:21:24.756757",
          "score": 0.17774959071835555
         },
         {
          "date": "1998-06-06T12:10:57.729730",
          "score": 0.1782370494337657
         },
         {
          "date": "1998-06-22T14:00:30.702703",
          "score": 0.17872397494686404
         },
         {
          "date": "1998-07-08T15:50:03.675676",
          "score": 0.1792103658009959
         },
         {
          "date": "1998-07-24T17:39:36.648649",
          "score": 0.1796962205411059
         },
         {
          "date": "1998-08-09T19:29:09.621622",
          "score": 0.1801815377137435
         },
         {
          "date": "1998-08-25T21:18:42.594595",
          "score": 0.18066631586706489
         },
         {
          "date": "1998-09-10T23:08:15.567568",
          "score": 0.18115055355083953
         },
         {
          "date": "1998-09-27T00:57:48.540541",
          "score": 0.18163424931645353
         },
         {
          "date": "1998-10-13T02:47:21.513514",
          "score": 0.18211740171691454
         },
         {
          "date": "1998-10-29T03:36:54.486487",
          "score": 0.1826000093068551
         },
         {
          "date": "1998-11-14T05:26:27.459459",
          "score": 0.183082070642538
         },
         {
          "date": "1998-11-30T07:16:00.432432",
          "score": 0.1835635842818601
         },
         {
          "date": "1998-12-16T09:05:33.405405",
          "score": 0.18404454878435672
         },
         {
          "date": "1999-01-01T10:55:06.378378",
          "score": 0.18452496271120566
         },
         {
          "date": "1999-01-17T12:44:39.351351",
          "score": 0.18500482462523263
         },
         {
          "date": "1999-02-02T14:34:12.324324",
          "score": 0.18548413309091316
         },
         {
          "date": "1999-02-18T16:23:45.297297",
          "score": 0.18596288667437957
         },
         {
          "date": "1999-03-06T18:13:18.270270",
          "score": 0.18644108394342424
         },
         {
          "date": "1999-03-22T20:02:51.243243",
          "score": 0.18691872346750343
         },
         {
          "date": "1999-04-07T22:52:24.216216",
          "score": 0.18739580381774187
         },
         {
          "date": "1999-04-24T00:41:57.189189",
          "score": 0.187872323566937
         },
         {
          "date": "1999-05-10T02:31:30.162162",
          "score": 0.1883482812895638
         },
         {
          "date": "1999-05-26T04:21:03.135135",
          "score": 0.18882367556177837
         },
         {
          "date": "1999-06-11T06:10:36.108108",
          "score": 0.18929850496142137
         },
         {
          "date": "1999-06-27T08:00:09.081081",
          "score": 0.1897727680680249
         },
         {
          "date": "1999-07-13T09:49:42.054054",
          "score": 0.19024646346281443
         },
         {
          "date": "1999-07-29T11:39:15.027027",
          "score": 0.19071958972871364
         },
         {
          "date": "1999-08-14T13:28:48",
          "score": 0.1911921454503488
         },
         {
          "date": "1999-08-30T15:18:20.972973",
          "score": 0.19166412921405326
         },
         {
          "date": "1999-09-15T17:07:53.945946",
          "score": 0.19213553960787114
         },
         {
          "date": "1999-10-01T18:57:26.918919",
          "score": 0.192606375221562
         },
         {
          "date": "1999-10-17T20:46:59.891892",
          "score": 0.19307663464660477
         },
         {
          "date": "1999-11-02T21:36:32.864865",
          "score": 0.19354631647620185
         },
         {
          "date": "1999-11-18T23:26:05.837838",
          "score": 0.19401541930528432
         },
         {
          "date": "1999-12-05T01:15:38.810811",
          "score": 0.19448394173051403
         },
         {
          "date": "1999-12-21T03:05:11.783784",
          "score": 0.19495188235029046
         },
         {
          "date": "2000-01-06T04:54:44.756757",
          "score": 0.19541923976475273
         },
         {
          "date": "2000-01-22T06:44:17.729730",
          "score": 0.1958860125757852
         },
         {
          "date": "2000-02-07T08:33:50.702703",
          "score": 0.19635219938702067
         },
         {
          "date": "2000-02-23T10:23:23.675676",
          "score": 0.19681779880384503
         },
         {
          "date": "2000-03-10T12:12:56.648649",
          "score": 0.1972828094334015
         },
         {
          "date": "2000-03-26T15:02:29.621622",
          "score": 0.1977472298845954
         },
         {
          "date": "2000-04-11T16:52:02.594595",
          "score": 0.19821105876809583
         },
         {
          "date": "2000-04-27T18:41:35.567568",
          "score": 0.1986742946963429
         },
         {
          "date": "2000-05-13T20:31:08.540541",
          "score": 0.19913693628355048
         },
         {
          "date": "2000-05-29T22:20:41.513514",
          "score": 0.19959898214571012
         },
         {
          "date": "2000-06-15T00:10:14.486487",
          "score": 0.20006043090059536
         },
         {
          "date": "2000-07-01T01:59:47.459459",
          "score": 0.20052128116776663
         },
         {
          "date": "2000-07-17T03:49:20.432432",
          "score": 0.20098153156857437
         },
         {
          "date": "2000-08-02T05:38:53.405405",
          "score": 0.2014411807261633
         },
         {
          "date": "2000-08-18T07:28:26.378378",
          "score": 0.2019002272654773
         },
         {
          "date": "2000-09-03T09:17:59.351351",
          "score": 0.20235866981326292
         },
         {
          "date": "2000-09-19T11:07:32.324324",
          "score": 0.20281650699807263
         },
         {
          "date": "2000-10-05T12:57:05.297297",
          "score": 0.20327373745027086
         },
         {
          "date": "2000-10-21T14:46:38.270270",
          "score": 0.20373035980203735
         },
         {
          "date": "2000-11-06T15:36:11.243243",
          "score": 0.20418637268737022
         },
         {
          "date": "2000-11-22T17:25:44.216216",
          "score": 0.20464177474209094
         },
         {
          "date": "2000-12-08T19:15:17.189189",
          "score": 0.20509656460384879
         },
         {
          "date": "2000-12-24T21:04:50.162162",
          "score": 0.205550740912124
         },
         {
          "date": "2001-01-09T22:54:23.135135",
          "score": 0.2060043023082326
         },
         {
          "date": "2001-01-26T00:43:56.108108",
          "score": 0.20645724743532928
         },
         {
          "date": "2001-02-11T02:33:29.081081",
          "score": 0.20690957493841372
         },
         {
          "date": "2001-02-27T04:23:02.054054",
          "score": 0.2073612834643322
         },
         {
          "date": "2001-03-15T06:12:35.027027",
          "score": 0.20781237166178293
         },
         {
          "date": "2001-03-31T09:02:08",
          "score": 0.2082628381813202
         },
         {
          "date": "2001-04-16T10:51:40.972973",
          "score": 0.2087126816753575
         },
         {
          "date": "2001-05-02T12:41:13.945946",
          "score": 0.2091619007981727
         },
         {
          "date": "2001-05-18T14:30:46.918919",
          "score": 0.2096104942059111
         },
         {
          "date": "2001-06-03T16:20:19.891892",
          "score": 0.2100584605565899
         },
         {
          "date": "2001-06-19T18:09:52.864865",
          "score": 0.2105057985101026
         },
         {
          "date": "2001-07-05T19:59:25.837838",
          "score": 0.21095250672822155
         },
         {
          "date": "2001-07-21T21:48:58.810811",
          "score": 0.2113985838746041
         },
         {
          "date": "2001-08-06T23:38:31.783784",
          "score": 0.2118440286147948
         },
         {
          "date": "2001-08-23T01:28:04.756757",
          "score": 0.21228883961623046
         },
         {
          "date": "2001-09-08T03:17:37.729730",
          "score": 0.21273301554824348
         },
         {
          "date": "2001-09-24T05:07:10.702703",
          "score": 0.213176555082066
         },
         {
          "date": "2001-10-10T06:56:43.675676",
          "score": 0.2136194568908344
         },
         {
          "date": "2001-10-26T08:46:16.648649",
          "score": 0.21406171964959214
         },
         {
          "date": "2001-11-11T09:35:49.621622",
          "score": 0.21450334203529572
         },
         {
          "date": "2001-11-27T11:25:22.594595",
          "score": 0.21494432272681546
         },
         {
          "date": "2001-12-13T13:14:55.567568",
          "score": 0.2153846604049428
         },
         {
          "date": "2001-12-29T15:04:28.540541",
          "score": 0.21582435375239234
         },
         {
          "date": "2002-01-14T16:54:01.513514",
          "score": 0.21626340145380596
         },
         {
          "date": "2002-01-30T18:43:34.486487",
          "score": 0.21670180219575724
         },
         {
          "date": "2002-02-15T20:33:07.459459",
          "score": 0.2171395546667556
         },
         {
          "date": "2002-03-03T22:22:40.432432",
          "score": 0.21757665755724898
         },
         {
          "date": "2002-03-20T00:12:13.405405",
          "score": 0.21801310955962905
         },
         {
          "date": "2002-04-05T03:01:46.378378",
          "score": 0.21844890936823452
         },
         {
          "date": "2002-04-21T04:51:19.351351",
          "score": 0.21888405567935537
         },
         {
          "date": "2002-05-07T06:40:52.324324",
          "score": 0.21931854719123578
         },
         {
          "date": "2002-05-23T08:30:25.297297",
          "score": 0.21975238260407948
         },
         {
          "date": "2002-06-08T10:19:58.270270",
          "score": 0.22018556062005312
         },
         {
          "date": "2002-06-24T12:09:31.243243",
          "score": 0.22061807994328936
         },
         {
          "date": "2002-07-10T13:59:04.216216",
          "score": 0.2210499392798919
         },
         {
          "date": "2002-07-26T15:48:37.189189",
          "score": 0.22148113733793837
         },
         {
          "date": "2002-08-11T17:38:10.162162",
          "score": 0.2219116728274848
         },
         {
          "date": "2002-08-27T19:27:43.135135",
          "score": 0.22234154446056986
         },
         {
          "date": "2002-09-12T21:17:16.108108",
          "score": 0.22277075095121673
         },
         {
          "date": "2002-09-28T23:06:49.081081",
          "score": 0.22319929101543998
         },
         {
          "date": "2002-10-15T00:56:22.054054",
          "score": 0.22362716337124688
         },
         {
          "date": "2002-10-31T01:45:55.027027",
          "score": 0.2240543667386427
         },
         {
          "date": "2002-11-16T03:35:28",
          "score": 0.22448089983963349
         },
         {
          "date": "2002-12-02T05:25:00.972973",
          "score": 0.22490676139823096
         },
         {
          "date": "2002-12-18T07:14:33.945946",
          "score": 0.2253319501404553
         },
         {
          "date": "2003-01-03T09:04:06.918919",
          "score": 0.22575646479433958
         },
         {
          "date": "2003-01-19T10:53:39.891892",
          "score": 0.22618030408993375
         },
         {
          "date": "2003-02-04T12:43:12.864865",
          "score": 0.22660346675930784
         },
         {
          "date": "2003-02-20T14:32:45.837838",
          "score": 0.22702595153655586
         },
         {
          "date": "2003-03-08T16:22:18.810811",
          "score": 0.22744775715779986
         },
         {
          "date": "2003-03-24T18:11:51.783784",
          "score": 0.22786888236119407
         },
         {
          "date": "2003-04-09T21:01:24.756757",
          "score": 0.2282893258869276
         },
         {
          "date": "2003-04-25T22:50:57.729730",
          "score": 0.22870908647722904
         },
         {
          "date": "2003-05-12T00:40:30.702703",
          "score": 0.22912816287637022
         },
         {
          "date": "2003-05-28T02:30:03.675676",
          "score": 0.22954655383066946
         },
         {
          "date": "2003-06-13T04:19:36.648649",
          "score": 0.22996425808849552
         },
         {
          "date": "2003-06-29T06:09:09.621622",
          "score": 0.23038127440027228
         },
         {
          "date": "2003-07-15T07:58:42.594595",
          "score": 0.23079760151848028
         },
         {
          "date": "2003-07-31T09:48:15.567568",
          "score": 0.23121323819766285
         },
         {
          "date": "2003-08-16T11:37:48.540541",
          "score": 0.23162818319442824
         },
         {
          "date": "2003-09-01T13:27:21.513514",
          "score": 0.2320424352674543
         },
         {
          "date": "2003-09-17T15:16:54.486487",
          "score": 0.23245599317749138
         },
         {
          "date": "2003-10-03T17:06:27.459459",
          "score": 0.23286885568736693
         },
         {
          "date": "2003-10-19T18:56:00.432432",
          "score": 0.23328102156198843
         },
         {
          "date": "2003-11-04T19:45:33.405405",
          "score": 0.23369248956834726
         },
         {
          "date": "2003-11-20T21:35:06.378378",
          "score": 0.23410325847552255
         },
         {
          "date": "2003-12-06T23:24:39.351351",
          "score": 0.23451332705468536
         },
         {
          "date": "2003-12-23T01:14:12.324324",
          "score": 0.23492269407910063
         },
         {
          "date": "2004-01-08T03:03:45.297297",
          "score": 0.23533135832413274
         },
         {
          "date": "2004-01-24T04:53:18.270270",
          "score": 0.23573931856724886
         },
         {
          "date": "2004-02-09T06:42:51.243243",
          "score": 0.2361465735880217
         },
         {
          "date": "2004-02-25T08:32:24.216216",
          "score": 0.23655312216813368
         },
         {
          "date": "2004-03-12T10:21:57.189189",
          "score": 0.2369589630913805
         },
         {
          "date": "2004-03-28T13:11:30.162162",
          "score": 0.2373640951436755
         },
         {
          "date": "2004-04-13T15:01:03.135135",
          "score": 0.23776851711305141
         },
         {
          "date": "2004-04-29T16:50:36.108108",
          "score": 0.23817222778966593
         },
         {
          "date": "2004-05-15T18:40:09.081081",
          "score": 0.2385752259658049
         },
         {
          "date": "2004-05-31T20:29:42.054054",
          "score": 0.2389775104358854
         },
         {
          "date": "2004-06-16T22:19:15.027027",
          "score": 0.23937907999645924
         },
         {
          "date": "2004-07-03T00:08:48",
          "score": 0.23977993344621715
         },
         {
          "date": "2004-07-19T01:58:20.972973",
          "score": 0.24018006958599236
         },
         {
          "date": "2004-08-04T03:47:53.945946",
          "score": 0.24057948721876343
         },
         {
          "date": "2004-08-20T05:37:26.918919",
          "score": 0.240978185149659
         },
         {
          "date": "2004-09-05T07:26:59.891892",
          "score": 0.24137616218596014
         },
         {
          "date": "2004-09-21T09:16:32.864865",
          "score": 0.24177341713710482
         },
         {
          "date": "2004-10-07T11:06:05.837838",
          "score": 0.24216994881469098
         },
         {
          "date": "2004-10-23T12:55:38.810811",
          "score": 0.24256575603248096
         },
         {
          "date": "2004-11-08T13:45:11.783784",
          "score": 0.24296083760640297
         },
         {
          "date": "2004-11-24T15:34:44.756757",
          "score": 0.243355192354557
         },
         {
          "date": "2004-12-10T17:24:17.729730",
          "score": 0.2437488190972173
         },
         {
          "date": "2004-12-26T19:13:50.702703",
          "score": 0.24414171665683576
         },
         {
          "date": "2005-01-11T21:03:23.675676",
          "score": 0.2445338838580458
         },
         {
          "date": "2005-01-27T22:52:56.648649",
          "score": 0.24492531952766539
         },
         {
          "date": "2005-02-13T00:42:29.621622",
          "score": 0.24531602249470139
         },
         {
          "date": "2005-03-01T02:32:02.594594",
          "score": 0.24570599159035222
         },
         {
          "date": "2005-03-17T04:21:35.567568",
          "score": 0.24609522564801184
         },
         {
          "date": "2005-04-02T07:11:08.540541",
          "score": 0.24648372350327313
         },
         {
          "date": "2005-04-18T09:00:41.513514",
          "score": 0.2468714839939311
         },
         {
          "date": "2005-05-04T10:50:14.486486",
          "score": 0.24725850595998689
         },
         {
          "date": "2005-05-20T12:39:47.459460",
          "score": 0.24764478824365113
         },
         {
          "date": "2005-06-05T14:29:20.432432",
          "score": 0.24803032968934674
         },
         {
          "date": "2005-06-21T16:18:53.405406",
          "score": 0.2484151291437131
         },
         {
          "date": "2005-07-07T18:08:26.378378",
          "score": 0.2487991854556094
         },
         {
          "date": "2005-07-23T19:57:59.351351",
          "score": 0.24918249747611787
         },
         {
          "date": "2005-08-08T21:47:32.324324",
          "score": 0.24956506405854745
         },
         {
          "date": "2005-08-24T23:37:05.297297",
          "score": 0.24994688405843635
         },
         {
          "date": "2005-09-10T01:26:38.270270",
          "score": 0.2503279563335574
         },
         {
          "date": "2005-09-26T03:16:11.243243",
          "score": 0.25070827974391957
         },
         {
          "date": "2005-10-12T05:05:44.216216",
          "score": 0.25108785315177196
         },
         {
          "date": "2005-10-28T06:55:17.189189",
          "score": 0.25146667542160783
         },
         {
          "date": "2005-11-13T07:44:50.162162",
          "score": 0.25184474542016744
         },
         {
          "date": "2005-11-29T09:34:23.135135",
          "score": 0.2522220620164406
         },
         {
          "date": "2005-12-15T11:23:56.108108",
          "score": 0.2525986240816719
         },
         {
          "date": "2005-12-31T13:13:29.081081",
          "score": 0.25297443048936313
         },
         {
          "date": "2006-01-16T15:03:02.054054",
          "score": 0.25334948011527625
         },
         {
          "date": "2006-02-01T16:52:35.027027",
          "score": 0.2537237718374372
         },
         {
          "date": "2006-02-17T18:42:08",
          "score": 0.25409730453613943
         },
         {
          "date": "2006-03-05T20:31:40.972973",
          "score": 0.25447007709394687
         },
         {
          "date": "2006-03-21T22:21:13.945946",
          "score": 0.2548420883956976
         },
         {
          "date": "2006-04-07T01:10:46.918919",
          "score": 0.2552133373285068
         },
         {
          "date": "2006-04-23T03:00:19.891892",
          "score": 0.2555838227817704
         },
         {
          "date": "2006-05-09T04:49:52.864865",
          "score": 0.2559535436471685
         },
         {
          "date": "2006-05-25T06:39:25.837838",
          "score": 0.2563224988186679
         },
         {
          "date": "2006-06-10T08:28:58.810811",
          "score": 0.25669068719252724
         },
         {
          "date": "2006-06-26T10:18:31.783784",
          "score": 0.25705810766729736
         },
         {
          "date": "2006-07-12T12:08:04.756757",
          "score": 0.25742475914382756
         },
         {
          "date": "2006-07-28T13:57:37.729730",
          "score": 0.2577906405252672
         },
         {
          "date": "2006-08-13T15:47:10.702703",
          "score": 0.2581557507170693
         },
         {
          "date": "2006-08-29T17:36:43.675676",
          "score": 0.2585200886269945
         },
         {
          "date": "2006-09-14T19:26:16.648649",
          "score": 0.25888365316511286
         },
         {
          "date": "2006-09-30T21:15:49.621622",
          "score": 0.2592464432438086
         },
         {
          "date": "2006-10-16T23:05:22.594594",
          "score": 0.2596084577777825
         },
         {
          "date": "2006-11-01T23:54:55.567568",
          "score": 0.25996969568405587
         },
         {
          "date": "2006-11-18T01:44:28.540541",
          "score": 0.2603301558819726
         },
         {
          "date": "2006-12-04T03:34:01.513514",
          "score": 0.2606898372932039
         },
         {
          "date": "2006-12-20T05:23:34.486486",
          "score": 0.26104873884174995
         },
         {
          "date": "2007-01-05T07:13:07.459460",
          "score": 0.2614068594539447
         },
         {
          "date": "2007-01-21T09:02:40.432432",
          "score": 0.26176419805845763
         },
         {
          "date": "2007-02-06T10:52:13.405406",
          "score": 0.2621207535862982
         },
         {
          "date": "2007-02-22T12:41:46.378378",
          "score": 0.2624765249708181
         },
         {
          "date": "2007-03-10T14:31:19.351351",
          "score": 0.26283151114771464
         },
         {
          "date": "2007-03-26T17:20:52.324324",
          "score": 0.26318571105503497
         },
         {
          "date": "2007-04-11T19:10:25.297297",
          "score": 0.26353912363317694
         },
         {
          "date": "2007-04-27T20:59:58.270270",
          "score": 0.2638917478248952
         },
         {
          "date": "2007-05-13T22:49:31.243243",
          "score": 0.264243582575302
         },
         {
          "date": "2007-05-30T00:39:04.216216",
          "score": 0.2645946268318717
         },
         {
          "date": "2007-06-15T02:28:37.189189",
          "score": 0.264944879544443
         },
         {
          "date": "2007-07-01T04:18:10.162162",
          "score": 0.26529433966522314
         },
         {
          "date": "2007-07-17T06:07:43.135135",
          "score": 0.26564300614878955
         },
         {
          "date": "2007-08-02T07:57:16.108108",
          "score": 0.2659908779520944
         },
         {
          "date": "2007-08-18T09:46:49.081081",
          "score": 0.2663379540344676
         },
         {
          "date": "2007-09-03T11:36:22.054054",
          "score": 0.2666842333576185
         },
         {
          "date": "2007-09-19T13:25:55.027027",
          "score": 0.267029714885641
         },
         {
          "date": "2007-10-05T15:15:28",
          "score": 0.2673743975850147
         },
         {
          "date": "2007-10-21T17:05:00.972973",
          "score": 0.2677182804246096
         },
         {
          "date": "2007-11-06T17:54:33.945946",
          "score": 0.26806136237568823
         },
         {
          "date": "2007-11-22T19:44:06.918919",
          "score": 0.2684036424119089
         },
         {
          "date": "2007-12-08T21:33:39.891892",
          "score": 0.2687451195093292
         },
         {
          "date": "2007-12-24T23:23:12.864865",
          "score": 0.26908579264640853
         },
         {
          "date": "2008-01-10T01:12:45.837838",
          "score": 0.26942566080401115
         },
         {
          "date": "2008-01-26T03:02:18.810811",
          "score": 0.2697647229654102
         },
         {
          "date": "2008-02-11T04:51:51.783784",
          "score": 0.270102978116289
         },
         {
          "date": "2008-02-27T06:41:24.756757",
          "score": 0.27044042524474576
         },
         {
          "date": "2008-03-14T08:30:57.729730",
          "score": 0.2707770633412954
         },
         {
          "date": "2008-03-30T11:20:30.702703",
          "score": 0.27111289139887373
         },
         {
          "date": "2008-04-15T13:10:03.675676",
          "score": 0.2714479084128395
         },
         {
          "date": "2008-05-01T14:59:36.648649",
          "score": 0.27178211338097746
         },
         {
          "date": "2008-05-17T16:49:09.621622",
          "score": 0.2721155053035018
         },
         {
          "date": "2008-06-02T18:38:42.594594",
          "score": 0.27244808318305935
         },
         {
          "date": "2008-06-18T20:28:15.567568",
          "score": 0.2727798460247316
         },
         {
          "date": "2008-07-04T22:17:48.540541",
          "score": 0.2731107928360387
         },
         {
          "date": "2008-07-21T00:07:21.513514",
          "score": 0.2734409226269416
         },
         {
          "date": "2008-08-06T01:56:54.486486",
          "score": 0.2737702344098455
         },
         {
          "date": "2008-08-22T03:46:27.459460",
          "score": 0.2740987271996031
         },
         {
          "date": "2008-09-07T05:36:00.432432",
          "score": 0.2744264000135168
         },
         {
          "date": "2008-09-23T07:25:33.405406",
          "score": 0.27475325187134186
         },
         {
          "date": "2008-10-09T09:15:06.378378",
          "score": 0.2750792817952896
         },
         {
          "date": "2008-10-25T11:04:39.351351",
          "score": 0.27540448881003043
         },
         {
          "date": "2008-11-10T11:54:12.324324",
          "score": 0.2757288719426963
         },
         {
          "date": "2008-11-26T13:43:45.297297",
          "score": 0.2760524302228832
         },
         {
          "date": "2008-12-12T15:33:18.270270",
          "score": 0.27637516268265594
         },
         {
          "date": "2008-12-28T17:22:51.243243",
          "score": 0.2766970683565491
         },
         {
          "date": "2009-01-13T19:12:24.216216",
          "score": 0.27701814628157057
         },
         {
          "date": "2009-01-29T21:01:57.189189",
          "score": 0.2773383954972045
         },
         {
          "date": "2009-02-14T22:51:30.162162",
          "score": 0.27765781504541487
         },
         {
          "date": "2009-03-03T00:41:03.135135",
          "score": 0.27797640397064627
         },
         {
          "date": "2009-03-19T02:30:36.108108",
          "score": 0.278294161319829
         },
         {
          "date": "2009-04-04T05:20:09.081081",
          "score": 0.27861108614238117
         },
         {
          "date": "2009-04-20T07:09:42.054054",
          "score": 0.2789271774902113
         },
         {
          "date": "2009-05-06T08:59:15.027027",
          "score": 0.2792424344177209
         },
         {
          "date": "2009-05-22T10:48:48",
          "score": 0.2795568559818081
         },
         {
          "date": "2009-06-07T12:38:20.972973",
          "score": 0.2798704412418699
         },
         {
          "date": "2009-06-23T14:27:53.945946",
          "score": 0.28018318925980484
         },
         {
          "date": "2009-07-09T16:17:26.918919",
          "score": 0.2804950991000168
         },
         {
          "date": "2009-07-25T18:06:59.891892",
          "score": 0.2808061698294165
         },
         {
          "date": "2009-08-10T19:56:32.864865",
          "score": 0.2811164005174248
         },
         {
          "date": "2009-08-26T21:46:05.837838",
          "score": 0.28142579023597625
         },
         {
          "date": "2009-09-11T23:35:38.810811",
          "score": 0.28173433805952086
         },
         {
          "date": "2009-09-28T01:25:11.783784",
          "score": 0.2820420430650267
         },
         {
          "date": "2009-10-14T03:14:44.756757",
          "score": 0.28234890433198373
         },
         {
          "date": "2009-10-30T04:04:17.729730",
          "score": 0.2826549209424059
         },
         {
          "date": "2009-11-15T05:53:50.702703",
          "score": 0.2829600919808338
         },
         {
          "date": "2009-12-01T07:43:23.675676",
          "score": 0.2832644165343381
         },
         {
          "date": "2009-12-17T09:32:56.648649",
          "score": 0.28356789369252067
         },
         {
          "date": "2010-01-02T11:22:29.621622",
          "score": 0.28387052254751954
         },
         {
          "date": "2010-01-18T13:12:02.594594",
          "score": 0.2841723021940099
         },
         {
          "date": "2010-02-03T15:01:35.567568",
          "score": 0.28447323172920735
         },
         {
          "date": "2010-02-19T16:51:08.540541",
          "score": 0.284773310252871
         },
         {
          "date": "2010-03-07T18:40:41.513514",
          "score": 0.2850725368673053
         },
         {
          "date": "2010-03-23T20:30:14.486486",
          "score": 0.2853709106773635
         },
         {
          "date": "2010-04-08T23:19:47.459460",
          "score": 0.2856684307904502
         },
         {
          "date": "2010-04-25T01:09:20.432432",
          "score": 0.2859650963165235
         },
         {
          "date": "2010-05-11T02:58:53.405406",
          "score": 0.2862609063680982
         },
         {
          "date": "2010-05-27T04:48:26.378378",
          "score": 0.2865558600602484
         },
         {
          "date": "2010-06-12T06:37:59.351351",
          "score": 0.28684995651060985
         },
         {
          "date": "2010-06-28T08:27:32.324324",
          "score": 0.2871431948393829
         },
         {
          "date": "2010-07-14T10:17:05.297297",
          "score": 0.2874355741693345
         },
         {
          "date": "2010-07-30T12:06:38.270270",
          "score": 0.28772709362580223
         },
         {
          "date": "2010-08-15T13:56:11.243243",
          "score": 0.28801775233669535
         },
         {
          "date": "2010-08-31T15:45:44.216216",
          "score": 0.2883075494324982
         },
         {
          "date": "2010-09-16T17:35:17.189189",
          "score": 0.28859648404627286
         },
         {
          "date": "2010-10-02T19:24:50.162162",
          "score": 0.28888455531366153
         },
         {
          "date": "2010-10-18T21:14:23.135135",
          "score": 0.2891717623728886
         },
         {
          "date": "2010-11-03T22:03:56.108108",
          "score": 0.2894581043647643
         },
         {
          "date": "2010-11-19T23:53:29.081081",
          "score": 0.289743580432687
         },
         {
          "date": "2010-12-06T01:43:02.054054",
          "score": 0.2900281897226448
         },
         {
          "date": "2010-12-22T03:32:35.027027",
          "score": 0.29031193138321937
         },
         {
          "date": "2011-01-07T05:22:08",
          "score": 0.29059480456558756
         },
         {
          "date": "2011-01-23T07:11:40.972973",
          "score": 0.2908768084235245
         },
         {
          "date": "2011-02-08T09:01:13.945946",
          "score": 0.29115794211340573
         },
         {
          "date": "2011-02-24T10:50:46.918919",
          "score": 0.2914382047942103
         },
         {
          "date": "2011-03-12T12:40:19.891892",
          "score": 0.2917175956275225
         },
         {
          "date": "2011-03-28T15:29:52.864865",
          "score": 0.29199611377753487
         },
         {
          "date": "2011-04-13T17:19:25.837838",
          "score": 0.29227375841105113
         },
         {
          "date": "2011-04-29T19:08:58.810811",
          "score": 0.2925505286974877
         },
         {
          "date": "2011-05-15T20:58:31.783784",
          "score": 0.292826423808876
         },
         {
          "date": "2011-05-31T22:48:04.756757",
          "score": 0.29310144291986695
         },
         {
          "date": "2011-06-17T00:37:37.729730",
          "score": 0.29337558520773094
         },
         {
          "date": "2011-07-03T02:27:10.702703",
          "score": 0.29364884985236206
         },
         {
          "date": "2011-07-19T04:16:43.675676",
          "score": 0.2939212360362796
         },
         {
          "date": "2011-08-04T06:06:16.648649",
          "score": 0.29419274294463077
         },
         {
          "date": "2011-08-20T07:55:49.621622",
          "score": 0.2944633697651932
         },
         {
          "date": "2011-09-05T09:45:22.594594",
          "score": 0.29473311568837746
         },
         {
          "date": "2011-09-21T11:34:55.567568",
          "score": 0.2950019799072293
         },
         {
          "date": "2011-10-07T13:24:28.540541",
          "score": 0.295269961617432
         },
         {
          "date": "2011-10-23T15:14:01.513514",
          "score": 0.2955370600173091
         },
         {
          "date": "2011-11-08T16:03:34.486486",
          "score": 0.29580327430782627
         },
         {
          "date": "2011-11-24T17:53:07.459460",
          "score": 0.2960686036925945
         },
         {
          "date": "2011-12-10T19:42:40.432432",
          "score": 0.2963330473778716
         },
         {
          "date": "2011-12-26T21:32:13.405406",
          "score": 0.2965966045725651
         },
         {
          "date": "2012-01-11T23:21:46.378378",
          "score": 0.29685927448823457
         },
         {
          "date": "2012-01-28T01:11:19.351351",
          "score": 0.2971210563390938
         },
         {
          "date": "2012-02-13T03:00:52.324324",
          "score": 0.2973819493420136
         },
         {
          "date": "2012-02-29T04:50:25.297297",
          "score": 0.2976419527165229
         },
         {
          "date": "2012-03-16T06:39:58.270270",
          "score": 0.2979010656848131
         },
         {
          "date": "2012-04-01T09:29:31.243243",
          "score": 0.29815928747173853
         },
         {
          "date": "2012-04-17T11:19:04.216216",
          "score": 0.2984166173048199
         },
         {
          "date": "2012-05-03T13:08:37.189189",
          "score": 0.29867305441424596
         },
         {
          "date": "2012-05-19T14:58:10.162162",
          "score": 0.2989285980328766
         },
         {
          "date": "2012-06-04T16:47:43.135135",
          "score": 0.29918324739624363
         },
         {
          "date": "2012-06-20T18:37:16.108108",
          "score": 0.29943700174255483
         },
         {
          "date": "2012-07-06T20:26:49.081081",
          "score": 0.29968986031269546
         },
         {
          "date": "2012-07-22T22:16:22.054054",
          "score": 0.29994182235023037
         },
         {
          "date": "2012-08-08T00:05:55.027027",
          "score": 0.30019288710140624
         },
         {
          "date": "2012-08-24T01:55:28",
          "score": 0.3004430538151541
         },
         {
          "date": "2012-09-09T03:45:00.972973",
          "score": 0.3006923217430918
         },
         {
          "date": "2012-09-25T05:34:33.945946",
          "score": 0.3009406901395255
         },
         {
          "date": "2012-10-11T07:24:06.918919",
          "score": 0.3011881582614526
         },
         {
          "date": "2012-10-27T09:13:39.891892",
          "score": 0.30143472536856364
         },
         {
          "date": "2012-11-12T10:03:12.864865",
          "score": 0.3016803907232444
         },
         {
          "date": "2012-11-28T11:52:45.837838",
          "score": 0.3019251535905787
         },
         {
          "date": "2012-12-14T13:42:18.810811",
          "score": 0.3021690132383501
         },
         {
          "date": "2012-12-30T15:31:51.783784",
          "score": 0.3024119689370436
         },
         {
          "date": "2013-01-15T17:21:24.756757",
          "score": 0.30265401995984886
         },
         {
          "date": "2013-01-31T19:10:57.729730",
          "score": 0.302895165582662
         },
         {
          "date": "2013-02-16T21:00:30.702703",
          "score": 0.3031354050840875
         },
         {
          "date": "2013-03-04T22:50:03.675676",
          "score": 0.30337473774544066
         },
         {
          "date": "2013-03-21T00:39:36.648649",
          "score": 0.3036131628507493
         },
         {
          "date": "2013-04-06T03:29:09.621622",
          "score": 0.30385067968675644
         },
         {
          "date": "2013-04-22T05:18:42.594594",
          "score": 0.3040872875429225
         },
         {
          "date": "2013-05-08T07:08:15.567568",
          "score": 0.3043229857114267
         },
         {
          "date": "2013-05-24T08:57:48.540541",
          "score": 0.3045577734871699
         },
         {
          "date": "2013-06-09T10:47:21.513514",
          "score": 0.3047916501677762
         },
         {
          "date": "2013-06-25T12:36:54.486486",
          "score": 0.3050246150535954
         },
         {
          "date": "2013-07-11T14:26:27.459460",
          "score": 0.30525666744770513
         },
         {
          "date": "2013-07-27T16:16:00.432432",
          "score": 0.3054878066559125
         },
         {
          "date": "2013-08-12T18:05:33.405406",
          "score": 0.3057180319867566
         },
         {
          "date": "2013-08-28T19:55:06.378378",
          "score": 0.3059473427515103
         },
         {
          "date": "2013-09-13T21:44:39.351351",
          "score": 0.30617573826418265
         },
         {
          "date": "2013-09-29T23:34:12.324324",
          "score": 0.3064032178415205
         },
         {
          "date": "2013-10-16T01:23:45.297297",
          "score": 0.30662978080301057
         },
         {
          "date": "2013-11-01T02:13:18.270270",
          "score": 0.3068554264708821
         },
         {
          "date": "2013-11-17T04:02:51.243243",
          "score": 0.30708015417010837
         },
         {
          "date": "2013-12-03T05:52:24.216216",
          "score": 0.30730396322840836
         },
         {
          "date": "2013-12-19T07:41:57.189189",
          "score": 0.3075268529762499
         },
         {
          "date": "2014-01-04T09:31:30.162162",
          "score": 0.3077488227468505
         },
         {
          "date": "2014-01-20T11:21:03.135135",
          "score": 0.308074696454152
         },
         {
          "date": "2014-02-05T13:10:36.108108",
          "score": 0.31060094401458016
         },
         {
          "date": "2014-02-21T15:00:09.081081",
          "score": 0.3131261542155964
         },
         {
          "date": "2014-03-09T16:49:42.054054",
          "score": 0.31565021602598176
         },
         {
          "date": "2014-03-25T18:39:15.027027",
          "score": 0.318173018428082
         },
         {
          "date": "2014-04-10T21:28:48",
          "score": 0.32069445042309613
         },
         {
          "date": "2014-04-26T23:18:20.972973",
          "score": 0.3232144010363561
         },
         {
          "date": "2014-05-13T01:07:53.945946",
          "score": 0.32573275932261214
         },
         {
          "date": "2014-05-29T02:57:26.918919",
          "score": 0.32824941437131355
         },
         {
          "date": "2014-06-14T04:46:59.891892",
          "score": 0.3307642553118874
         },
         {
          "date": "2014-06-30T06:36:32.864865",
          "score": 0.3332771713190186
         },
         {
          "date": "2014-07-16T08:26:05.837838",
          "score": 0.3357880516179256
         },
         {
          "date": "2014-08-01T10:15:38.810811",
          "score": 0.3382967854896293
         },
         {
          "date": "2014-08-17T12:05:11.783784",
          "score": 0.340803262276232
         },
         {
          "date": "2014-09-02T13:54:44.756757",
          "score": 0.3433073713861821
         },
         {
          "date": "2014-09-18T15:44:17.729730",
          "score": 0.34580900229953804
         },
         {
          "date": "2014-10-04T17:33:50.702703",
          "score": 0.3483080445732322
         },
         {
          "date": "2014-10-20T19:23:23.675676",
          "score": 0.3508043878463293
         },
         {
          "date": "2014-11-05T20:12:56.648649",
          "score": 0.35329792184528186
         },
         {
          "date": "2014-11-21T22:02:29.621622",
          "score": 0.35578853638917457
         },
         {
          "date": "2014-12-07T23:52:02.594595",
          "score": 0.358276121394981
         },
         {
          "date": "2014-12-24T01:41:35.567568",
          "score": 0.36076056688279856
         },
         {
          "date": "2015-01-09T03:31:08.540540",
          "score": 0.363241762981086
         },
         {
          "date": "2015-01-25T05:20:41.513514",
          "score": 0.3657195999318969
         },
         {
          "date": "2015-02-10T07:10:14.486486",
          "score": 0.3681939680961054
         },
         {
          "date": "2015-02-26T08:59:47.459460",
          "score": 0.370664757958627
         },
         {
          "date": "2015-03-14T10:49:20.432432",
          "score": 0.3731318601336349
         },
         {
          "date": "2015-03-30T13:38:53.405406",
          "score": 0.3755951653697669
         },
         {
          "date": "2015-04-15T15:28:26.378378",
          "score": 0.3780545645553308
         },
         {
          "date": "2015-05-01T17:17:59.351351",
          "score": 0.3805099487235005
         },
         {
          "date": "2015-05-17T19:07:32.324324",
          "score": 0.38296120905749986
         },
         {
          "date": "2015-06-02T20:57:05.297297",
          "score": 0.3854082368957939
         },
         {
          "date": "2015-06-18T22:46:38.270270",
          "score": 0.3878509237372587
         },
         {
          "date": "2015-07-05T00:36:11.243243",
          "score": 0.39028916124634994
         },
         {
          "date": "2015-07-21T02:25:44.216216",
          "score": 0.3927228412582616
         },
         {
          "date": "2015-08-06T04:15:17.189189",
          "score": 0.3951518557840801
         },
         {
          "date": "2015-08-22T06:04:50.162162",
          "score": 0.39757609701592633
         },
         {
          "date": "2015-09-07T07:54:23.135135",
          "score": 0.3999954573320865
         },
         {
          "date": "2015-09-23T09:43:56.108108",
          "score": 0.40240982930214697
         },
         {
          "date": "2015-10-09T11:33:29.081081",
          "score": 0.4048191056921041
         },
         {
          "date": "2015-10-25T12:23:02.054054",
          "score": 0.4072231794694754
         },
         {
          "date": "2015-11-10T14:12:35.027027",
          "score": 0.4096219438083958
         },
         {
          "date": "2015-11-26T16:02:08",
          "score": 0.4120152920947081
         },
         {
          "date": "2015-12-12T17:51:40.972973",
          "score": 0.41440311793103957
         },
         {
          "date": "2015-12-28T19:41:13.945946",
          "score": 0.4167853151418712
         },
         {
          "date": "2016-01-13T21:30:46.918919",
          "score": 0.4191617777785961
         },
         {
          "date": "2016-01-29T23:20:19.891892",
          "score": 0.4215324001245649
         },
         {
          "date": "2016-02-15T01:09:52.864865",
          "score": 0.42389707670012305
         },
         {
          "date": "2016-03-02T02:59:25.837838",
          "score": 0.42625570226763654
         },
         {
          "date": "2016-03-18T04:48:58.810811",
          "score": 0.42860817183649935
         },
         {
          "date": "2016-04-03T07:38:31.783784",
          "score": 0.4309543806681444
         },
         {
          "date": "2016-04-19T09:28:04.756757",
          "score": 0.43329422428102726
         },
         {
          "date": "2016-05-05T11:17:37.729730",
          "score": 0.4356275984556044
         },
         {
          "date": "2016-05-21T13:07:10.702703",
          "score": 0.43795439923929935
         },
         {
          "date": "2016-06-06T14:56:43.675676",
          "score": 0.44027452295145486
         },
         {
          "date": "2016-06-22T16:46:16.648649",
          "score": 0.44258786618827406
         },
         {
          "date": "2016-07-08T18:35:49.621622",
          "score": 0.4448943258277405
         },
         {
          "date": "2016-07-24T20:25:22.594595",
          "score": 0.4471937990345406
         },
         {
          "date": "2016-08-09T22:14:55.567568",
          "score": 0.4494861832649573
         },
         {
          "date": "2016-08-26T00:04:28.540541",
          "score": 0.45177137627175745
         },
         {
          "date": "2016-09-11T01:54:01.513514",
          "score": 0.45404927610906215
         },
         {
          "date": "2016-09-27T03:43:34.486486",
          "score": 0.4563197811372063
         },
         {
          "date": "2016-10-13T05:33:07.459460",
          "score": 0.45858279002757907
         },
         {
          "date": "2016-10-29T07:22:40.432432",
          "score": 0.46083820176745427
         },
         {
          "date": "2016-11-14T08:12:13.405406",
          "score": 0.46308591566480073
         },
         {
          "date": "2016-11-30T10:01:46.378378",
          "score": 0.46532583135308303
         },
         {
          "date": "2016-12-16T11:51:19.351351",
          "score": 0.46755784879604273
         },
         {
          "date": "2017-01-01T13:40:52.324324",
          "score": 0.46978186829246094
         },
         {
          "date": "2017-01-17T15:30:25.297297",
          "score": 0.47199779048091767
         },
         {
          "date": "2017-02-02T17:19:58.270270",
          "score": 0.47420551634451946
         },
         {
          "date": "2017-02-18T19:09:31.243243",
          "score": 0.4764049472156212
         },
         {
          "date": "2017-03-06T20:59:04.216216",
          "score": 0.47859598478052545
         },
         {
          "date": "2017-03-22T22:48:37.189189",
          "score": 0.48077853108416946
         },
         {
          "date": "2017-04-08T01:38:10.162162",
          "score": 0.48295248853479333
         },
         {
          "date": "2017-04-24T03:27:43.135135",
          "score": 0.4851177599085849
         },
         {
          "date": "2017-05-10T05:17:16.108108",
          "score": 0.48727424835432165
         },
         {
          "date": "2017-05-26T07:06:49.081081",
          "score": 0.48942185739798055
         },
         {
          "date": "2017-06-11T08:56:22.054054",
          "score": 0.4915604909473372
         },
         {
          "date": "2017-06-27T10:45:55.027027",
          "score": 0.49369005329654414
         },
         {
          "date": "2017-07-13T12:35:28",
          "score": 0.4958104491306931
         },
         {
          "date": "2017-07-29T14:25:00.972973",
          "score": 0.49792158353035637
         },
         {
          "date": "2017-08-14T16:14:33.945946",
          "score": 0.5000233619761114
         },
         {
          "date": "2017-08-30T18:04:06.918919",
          "score": 0.5021156903530443
         },
         {
          "date": "2017-09-15T19:53:39.891892",
          "score": 0.5041984749552357
         },
         {
          "date": "2017-10-01T21:43:12.864865",
          "score": 0.5062716224902272
         },
         {
          "date": "2017-10-17T23:32:45.837838",
          "score": 0.5083350400834679
         },
         {
          "date": "2017-11-03T00:22:18.810811",
          "score": 0.5103886352827365
         },
         {
          "date": "2017-11-19T02:11:51.783784",
          "score": 0.512432316062554
         },
         {
          "date": "2017-12-05T04:01:24.756757",
          "score": 0.5144659908285667
         },
         {
          "date": "2017-12-21T05:50:57.729730",
          "score": 0.5164895684219111
         },
         {
          "date": "2018-01-06T07:40:30.702703",
          "score": 0.5185029581235586
         },
         {
          "date": "2018-01-22T09:30:03.675676",
          "score": 0.5205060696586415
         },
         {
          "date": "2018-02-07T11:19:36.648649",
          "score": 0.5224988132007544
         },
         {
          "date": "2018-02-23T13:09:09.621622",
          "score": 0.5244810993762321
         },
         {
          "date": "2018-03-11T14:58:42.594595",
          "score": 0.5264528392684161
         },
         {
          "date": "2018-03-27T17:48:15.567568",
          "score": 0.5284139444218889
         },
         {
          "date": "2018-04-12T19:37:48.540541",
          "score": 0.5303643268466898
         },
         {
          "date": "2018-04-28T21:27:21.513514",
          "score": 0.5323038990225102
         },
         {
          "date": "2018-05-14T23:16:54.486486",
          "score": 0.5342325739028647
         },
         {
          "date": "2018-05-31T01:06:27.459460",
          "score": 0.5361502649192398
         },
         {
          "date": "2018-06-16T02:56:00.432432",
          "score": 0.5380568859852218
         },
         {
          "date": "2018-07-02T04:45:33.405406",
          "score": 0.5399523515005984
         },
         {
          "date": "2018-07-18T06:35:06.378378",
          "score": 0.5418365763554396
         },
         {
          "date": "2018-08-03T08:24:39.351351",
          "score": 0.5437094759341565
         },
         {
          "date": "2018-08-19T10:14:12.324324",
          "score": 0.5455709661195289
         },
         {
          "date": "2018-09-04T12:03:45.297297",
          "score": 0.547420963296723
         },
         {
          "date": "2018-09-20T13:53:18.270270",
          "score": 0.5492593843572713
         },
         {
          "date": "2018-10-06T15:42:51.243243",
          "score": 0.5510861467030373
         },
         {
          "date": "2018-10-22T17:32:24.216216",
          "score": 0.552901168250151
         },
         {
          "date": "2018-11-07T18:21:57.189189",
          "score": 0.5547043674329226
         },
         {
          "date": "2018-11-23T20:11:30.162162",
          "score": 0.5564956632077318
         },
         {
          "date": "2018-12-09T22:01:03.135135",
          "score": 0.5582749750568866
         },
         {
          "date": "2018-12-25T23:50:36.108108",
          "score": 0.5600422229924683
         },
         {
          "date": "2019-01-11T01:40:09.081081",
          "score": 0.5617973275601402
         },
         {
          "date": "2019-01-27T03:29:42.054054",
          "score": 0.5635402098429365
         },
         {
          "date": "2019-02-12T05:19:15.027027",
          "score": 0.5652707914650239
         },
         {
          "date": "2019-02-28T07:08:48",
          "score": 0.5669889945954385
         },
         {
          "date": "2019-03-16T08:58:20.972973",
          "score": 0.5686947419517954
         },
         {
          "date": "2019-04-01T11:47:53.945946",
          "score": 0.5703879568039746
         },
         {
          "date": "2019-04-17T13:37:26.918919",
          "score": 0.5720685629777764
         },
         {
          "date": "2019-05-03T15:26:59.891892",
          "score": 0.5737364848585548
         },
         {
          "date": "2019-05-19T17:16:32.864865",
          "score": 0.5753916473948222
         },
         {
          "date": "2019-06-04T19:06:05.837838",
          "score": 0.5770339761018275
         },
         {
          "date": "2019-06-20T20:55:38.810811",
          "score": 0.5786633970651036
         },
         {
          "date": "2019-07-06T22:45:11.783784",
          "score": 0.5802798369439965
         },
         {
          "date": "2019-07-23T00:34:44.756757",
          "score": 0.5818832229751598
         },
         {
          "date": "2019-08-08T02:24:17.729730",
          "score": 0.5834734829760225
         },
         {
          "date": "2019-08-24T04:13:50.702703",
          "score": 0.5850505453482306
         },
         {
          "date": "2019-09-09T06:03:23.675676",
          "score": 0.5866143390810626
         },
         {
          "date": "2019-09-25T07:52:56.648649",
          "score": 0.5881647937548137
         },
         {
          "date": "2019-10-11T09:42:29.621622",
          "score": 0.5897018395441496
         },
         {
          "date": "2019-10-27T10:32:02.594595",
          "score": 0.5912254072214426
         },
         {
          "date": "2019-11-12T12:21:35.567568",
          "score": 0.5927354281600672
         },
         {
          "date": "2019-11-28T14:11:08.540541",
          "score": 0.5942318343376736
         },
         {
          "date": "2019-12-14T16:00:41.513514",
          "score": 0.5957145583394299
         },
         {
          "date": "2019-12-30T17:50:14.486486",
          "score": 0.5971835333612372
         },
         {
          "date": "2020-01-15T19:39:47.459460",
          "score": 0.5986386932129146
         },
         {
          "date": "2020-01-31T21:29:20.432432",
          "score": 0.6047969209682743
         },
         {
          "date": "2020-02-16T23:18:53.405406",
          "score": 0.6119880360400212
         },
         {
          "date": "2020-03-04T01:08:26.378378",
          "score": 0.6191620058165901
         },
         {
          "date": "2020-03-20T02:57:59.351351",
          "score": 0.6263170433199332
         },
         {
          "date": "2020-04-05T05:47:32.324324",
          "score": 0.6334513636548054
         },
         {
          "date": "2020-04-21T07:37:05.297297",
          "score": 0.6405631845268733
         },
         {
          "date": "2020-05-07T09:26:38.270270",
          "score": 0.6476507267601641
         },
         {
          "date": "2020-05-23T11:16:11.243243",
          "score": 0.6547122148137603
         },
         {
          "date": "2020-06-08T13:05:44.216216",
          "score": 0.661745877297562
         },
         {
          "date": "2020-06-24T14:55:17.189189",
          "score": 0.6687499474869747
         },
         {
          "date": "2020-07-10T16:44:50.162162",
          "score": 0.6757226638363627
         },
         {
          "date": "2020-07-26T18:34:23.135135",
          "score": 0.6826622704910932
         },
         {
          "date": "2020-08-11T20:23:56.108108",
          "score": 0.689567017798091
         },
         {
          "date": "2020-08-27T22:13:29.081081",
          "score": 0.6964351628146521
         },
         {
          "date": "2020-09-13T00:03:02.054054",
          "score": 0.7032649698154408
         },
         {
          "date": "2020-09-29T01:52:35.027027",
          "score": 0.7100547107974867
         },
         {
          "date": "2020-10-15T03:42:08",
          "score": 0.7168026659830387
         },
         {
          "date": "2020-10-31T04:31:40.972973",
          "score": 0.7235071243201237
         },
         {
          "date": "2020-11-16T06:21:13.945946",
          "score": 0.7301663839806665
         },
         {
          "date": "2020-12-02T08:10:46.918919",
          "score": 0.7367787528560137
         },
         {
          "date": "2020-12-18T10:00:19.891892",
          "score": 0.7433425490497221
         },
         {
          "date": "2021-01-03T11:49:52.864865",
          "score": 0.749856101367461
         },
         {
          "date": "2021-01-19T13:39:25.837838",
          "score": 0.7563177498038848
         },
         {
          "date": "2021-02-04T15:28:58.810811",
          "score": 0.7627258460263132
         },
         {
          "date": "2021-02-20T17:18:31.783784",
          "score": 0.7690787538551278
         },
         {
          "date": "2021-03-08T19:08:04.756757",
          "score": 0.7753748497406673
         },
         {
          "date": "2021-03-24T20:57:37.729730",
          "score": 0.7816125232365332
         },
         {
          "date": "2021-04-09T23:47:10.702703",
          "score": 0.78779017746915
         },
         {
          "date": "2021-04-26T01:36:43.675676",
          "score": 0.7939062296034349
         },
         {
          "date": "2021-05-12T03:26:16.648649",
          "score": 0.7999591113044484
         },
         {
          "date": "2021-05-28T05:15:49.621622",
          "score": 0.805947269194859
         },
         {
          "date": "2021-06-13T07:05:22.594595",
          "score": 0.8118691653081547
         },
         {
          "date": "2021-06-29T08:54:55.567568",
          "score": 0.817723277537374
         },
         {
          "date": "2021-07-15T10:44:28.540541",
          "score": 0.8235081000792916
         },
         {
          "date": "2021-07-31T12:34:01.513514",
          "score": 0.8292221438739016
         },
         {
          "date": "2021-08-16T14:23:34.486486",
          "score": 0.8348639370390676
         },
         {
          "date": "2021-09-01T16:13:07.459460",
          "score": 0.8404320253002102
         },
         {
          "date": "2021-09-17T18:02:40.432432",
          "score": 0.845924972414912
         },
         {
          "date": "2021-10-03T19:52:13.405406",
          "score": 0.851341360592301
         },
         {
          "date": "2021-10-19T21:41:46.378378",
          "score": 0.8566797909070965
         },
         {
          "date": "2021-11-04T22:31:19.351351",
          "score": 0.861938883708196
         },
         {
          "date": "2021-11-21T00:20:52.324324",
          "score": 0.8671172790216568
         },
         {
          "date": "2021-12-07T02:10:25.297297",
          "score": 0.8722136369480097
         },
         {
          "date": "2021-12-23T03:59:58.270270",
          "score": 0.8772266380537121
         },
         {
          "date": "2022-01-08T05:49:31.243243",
          "score": 0.8821549837566791
         },
         {
          "date": "2022-01-24T07:39:04.216216",
          "score": 0.8869973967057547
         },
         {
          "date": "2022-02-09T09:28:37.189189",
          "score": 0.8917526211540168
         },
         {
          "date": "2022-02-25T11:18:10.162162",
          "score": 0.8964194233258028
         },
         {
          "date": "2022-03-13T13:07:43.135135",
          "score": 0.9009965917773322
         },
         {
          "date": "2022-03-29T15:57:16.108108",
          "score": 0.9054829377508642
         },
         {
          "date": "2022-04-14T17:46:49.081081",
          "score": 0.9098772955222209
         },
         {
          "date": "2022-04-30T19:36:22.054054",
          "score": 0.9141785227416206
         },
         {
          "date": "2022-05-16T21:25:55.027027",
          "score": 0.9183855007677018
         },
         {
          "date": "2022-06-01T23:15:28",
          "score": 0.9224971349946387
         },
         {
          "date": "2022-06-18T01:05:00.972973",
          "score": 0.9265123551722545
         },
         {
          "date": "2022-07-04T02:54:33.945946",
          "score": 0.9304301157190322
         },
         {
          "date": "2022-07-20T04:44:06.918919",
          "score": 0.9342493960279361
         },
         {
          "date": "2022-08-05T06:33:39.891892",
          "score": 0.9379692007649447
         },
         {
          "date": "2022-08-21T08:23:12.864865",
          "score": 0.9415885601602151
         },
         {
          "date": "2022-09-06T10:12:45.837838",
          "score": 0.945106530291785
         },
         {
          "date": "2022-09-22T12:02:18.810811",
          "score": 0.9485221933617237
         },
         {
          "date": "2022-10-08T13:51:51.783784",
          "score": 0.9518346579646747
         },
         {
          "date": "2022-10-24T15:41:24.756757",
          "score": 0.9550430593486718
         },
         {
          "date": "2022-11-09T16:30:57.729730",
          "score": 0.9581465596681806
         },
         {
          "date": "2022-11-25T18:20:30.702703",
          "score": 0.9611443482292769
         },
         {
          "date": "2022-12-11T20:10:03.675676",
          "score": 0.9640356417268943
         },
         {
          "date": "2022-12-27T21:59:36.648649",
          "score": 0.9668196844740677
         },
         {
          "date": "2023-01-12T23:49:09.621622",
          "score": 0.9694957486230966
         },
         {
          "date": "2023-01-29T01:38:42.594595",
          "score": 0.9720631343785877
         },
         {
          "date": "2023-02-14T03:28:15.567568",
          "score": 0.9745211702022791
         },
         {
          "date": "2023-03-02T05:17:48.540541",
          "score": 0.9768692130096095
         },
         {
          "date": "2023-03-18T07:07:21.513514",
          "score": 0.9791066483579645
         },
         {
          "date": "2023-04-03T09:56:54.486486",
          "score": 0.9812328906265465
         },
         {
          "date": "2023-04-19T11:46:27.459460",
          "score": 0.983247383187813
         },
         {
          "date": "2023-05-05T13:36:00.432432",
          "score": 0.985149598570433
         },
         {
          "date": "2023-05-21T15:25:33.405406",
          "score": 0.9869390386137115
         },
         {
          "date": "2023-06-06T17:15:06.378378",
          "score": 0.988615234613439
         },
         {
          "date": "2023-06-22T19:04:39.351351",
          "score": 0.9901777474591222
         },
         {
          "date": "2023-07-08T20:54:12.324324",
          "score": 0.9916261677625451
         },
         {
          "date": "2023-07-24T22:43:45.297297",
          "score": 0.9929601159776464
         },
         {
          "date": "2023-08-10T00:33:18.270270",
          "score": 0.9941792425116451
         },
         {
          "date": "2023-08-26T02:22:51.243243",
          "score": 0.9952832278274084
         },
         {
          "date": "2023-09-11T04:12:24.216216",
          "score": 0.9962717825370171
         },
         {
          "date": "2023-09-27T06:01:57.189189",
          "score": 0.9971446474865037
         },
         {
          "date": "2023-10-13T07:51:30.162162",
          "score": 0.9979015938317419
         },
         {
          "date": "2023-10-29T08:41:03.135135",
          "score": 0.998542423105456
         },
         {
          "date": "2023-11-14T10:30:36.108108",
          "score": 0.9990669672753423
         },
         {
          "date": "2023-11-30T12:20:09.081081",
          "score": 0.9994750887932731
         },
         {
          "date": "2023-12-16T14:09:42.054054",
          "score": 0.9997666806355773
         },
         {
          "date": "2024-01-01T15:59:15.027027",
          "score": 0.9999416663343808
         },
         {
          "date": "2024-01-17T17:48:48",
          "score": 1
         }
        ]
       },
       "encoding": {
        "tooltip": [
         {
          "field": "date",
          "type": "temporal"
         }
        ],
        "x": {
         "field": "date",
         "title": "Date",
         "type": "temporal"
        },
        "y": {
         "field": "score",
         "title": "Recency score",
         "type": "quantitative"
        }
       },
       "height": 380,
       "mark": {
        "color": "black",
        "filled": true,
        "size": 10,
        "type": "point"
       },
       "title": "Recency scores (unit weight)",
       "width": 500
      },
      "image/png": "[encoded data removed]",
      "text/plain": [
       "<VegaLite 5 object>\n",
       "\n",
       "If you see this message, it means the renderer has not been properly enabled\n",
       "for the frontend that you are using. For more information, see\n",
       "https://altair-viz.github.io/user_guide/display_frontends.html#troubleshooting\n"
      ]
     },
     "execution_count": 15,
     "metadata": {},
     "output_type": "execute_result"
    }
   ],
   "source": [
    "recency_plotter = RecencyPlotter(recency_space)\n",
    "chart = recency_plotter.plot_recency_curve()\n",
    "chart"
   ]
  },
  {
   "cell_type": "markdown",
   "id": "93c93476-cf28-4661-a793-f74d7c21b972",
   "metadata": {},
   "source": [
    "notice the breaks in the score at 4, 10 and 40 years - those are our period times. Titles older than 40 years get `negative_filter` score."
   ]
  },
  {
   "cell_type": "markdown",
   "id": "2ec1f453-6ec2-42e8-88b2-1c6692e9d57a",
   "metadata": {},
   "source": [
    "## Run queries"
   ]
  },
  {
   "cell_type": "markdown",
   "id": "65a1932e-4e84-4f84-bcdd-83eba95cb3cc",
   "metadata": {},
   "source": [
    "### Queries"
   ]
  },
  {
   "cell_type": "markdown",
   "id": "de462025-40fb-4371-8160-9a315ab9e872",
   "metadata": {},
   "source": [
    "With the simple query, I can search with my text in all of the fields"
   ]
  },
  {
   "cell_type": "code",
   "execution_count": 16,
   "id": "d2ba2245-1d76-4283-a9f6-58179f5f7f7c",
   "metadata": {},
   "outputs": [
    {
     "data": {
      "text/html": [
       "<div>\n",
       "<style scoped>\n",
       "    .dataframe tbody tr th:only-of-type {\n",
       "        vertical-align: middle;\n",
       "    }\n",
       "\n",
       "    .dataframe tbody tr th {\n",
       "        vertical-align: top;\n",
       "    }\n",
       "\n",
       "    .dataframe thead th {\n",
       "        text-align: right;\n",
       "    }\n",
       "</style>\n",
       "<table border=\"1\" class=\"dataframe\">\n",
       "  <thead>\n",
       "    <tr style=\"text-align: right;\">\n",
       "      <th></th>\n",
       "      <th>description</th>\n",
       "      <th>title</th>\n",
       "      <th>release_timestamp</th>\n",
       "      <th>genres</th>\n",
       "      <th>id</th>\n",
       "    </tr>\n",
       "  </thead>\n",
       "  <tbody>\n",
       "    <tr>\n",
       "      <th>0</th>\n",
       "      <td>When a group of people meets at the same party...</td>\n",
       "      <td>Love, Surreal and Odd</td>\n",
       "      <td>1.483229e+09</td>\n",
       "      <td>comedy romance</td>\n",
       "      <td>3549695898673809008</td>\n",
       "    </tr>\n",
       "    <tr>\n",
       "      <th>1</th>\n",
       "      <td>An LA girl, unlucky in love, falls for an East...</td>\n",
       "      <td>Love Hard</td>\n",
       "      <td>1.609459e+09</td>\n",
       "      <td>romance comedy</td>\n",
       "      <td>-1727158115787189598</td>\n",
       "    </tr>\n",
       "    <tr>\n",
       "      <th>2</th>\n",
       "      <td>'Love Actually' follows the lives of eight ver...</td>\n",
       "      <td>drama comedy romance</td>\n",
       "      <td>Love Actually</td>\n",
       "      <td>2003</td>\n",
       "    </tr>\n",
       "    <tr>\n",
       "      <th>2</th>\n",
       "      <td>Two young kids fall in love with each other. B...</td>\n",
       "      <td>romance drama</td>\n",
       "      <td>Endless Love</td>\n",
       "      <td>1981</td>\n",
       "    </tr>\n",
       "    <tr>\n",
       "      <th>3</th>\n",
       "      <td>When a group of people meets at the same party...</td>\n",
       "      <td>comedy romance</td>\n",
       "      <td>Love, Surreal and Odd</td>\n",
       "      <td>2017</td>\n",
       "    </tr>\n",
       "    <tr>\n",
       "      <th>4</th>\n",
       "      <td>A young woman develops romantic feelings for h...</td>\n",
       "      <td>comedy romance</td>\n",
       "      <td>Must Be... Love</td>\n",
       "      <td>2013</td>\n",
       "    </tr>\n",
       "    <tr>\n",
       "      <th>5</th>\n",
       "      <td>Love You, is a 2011 Taiwanese drama starring J...</td>\n",
       "      <td>comedy drama romance</td>\n",
       "      <td>Drunken to Love You</td>\n",
       "      <td>2011</td>\n",
       "    </tr>\n",
       "    <tr>\n",
       "      <th>6</th>\n",
       "      <td>Laida Magtalas is a modern-day Belle who works...</td>\n",
       "      <td>comedy drama romance</td>\n",
       "      <td>A Very Special Love</td>\n",
       "      <td>2008</td>\n",
       "    </tr>\n",
       "    <tr>\n",
       "      <th>7</th>\n",
       "      <td>Christina's love life is stuck in neutral. Aft...</td>\n",
       "      <td>comedy romance</td>\n",
       "      <td>The Sweetest Thing</td>\n",
       "      <td>2002</td>\n",
       "    </tr>\n",
       "    <tr>\n",
       "      <th>8</th>\n",
       "      <td>Mike Birbiglia shares a lifetime of romantic b...</td>\n",
       "      <td>comedy documentation romance</td>\n",
       "      <td>Mike Birbiglia: My Girlfriend's Boyfriend</td>\n",
       "      <td>2013</td>\n",
       "    </tr>\n",
       "    <tr>\n",
       "      <th>9</th>\n",
       "      <td>Two talented song-and-dance men team up after ...</td>\n",
       "      <td>romance comedy</td>\n",
       "      <td>White Christmas</td>\n",
       "      <td>1954</td>\n",
       "    </tr>\n",
       "    <tr>\n",
       "      <th>10</th>\n",
       "      <td>Romantic anthology web series revolving around...</td>\n",
       "      <td>drama romance</td>\n",
       "      <td>Love Daily</td>\n",
       "      <td>2018</td>\n",
       "    </tr>\n",
       "  </tbody>\n",
       "</table>\n",
       "</div>"
      ],
      "text/plain": [
       "                                             description  \\\n",
       "order                                                      \n",
       "1      'Love Actually' follows the lives of eight ver...   \n",
       "2      Two young kids fall in love with each other. B...   \n",
       "3      When a group of people meets at the same party...   \n",
       "4      A young woman develops romantic feelings for h...   \n",
       "5      Love You, is a 2011 Taiwanese drama starring J...   \n",
       "6      Laida Magtalas is a modern-day Belle who works...   \n",
       "7      Christina's love life is stuck in neutral. Aft...   \n",
       "8      Mike Birbiglia shares a lifetime of romantic b...   \n",
       "9      Two talented song-and-dance men team up after ...   \n",
       "10     Romantic anthology web series revolving around...   \n",
       "\n",
       "                             genres  \\\n",
       "order                                 \n",
       "1              drama comedy romance   \n",
       "2                     romance drama   \n",
       "3                    comedy romance   \n",
       "4                    comedy romance   \n",
       "5              comedy drama romance   \n",
       "6              comedy drama romance   \n",
       "7                    comedy romance   \n",
       "8      comedy documentation romance   \n",
       "9                    romance comedy   \n",
       "10                    drama romance   \n",
       "\n",
       "                                           title  release_year  \n",
       "order                                                           \n",
       "1                                  Love Actually          2003  \n",
       "2                                   Endless Love          1981  \n",
       "3                          Love, Surreal and Odd          2017  \n",
       "4                                Must Be... Love          2013  \n",
       "5                            Drunken to Love You          2011  \n",
       "6                            A Very Special Love          2008  \n",
       "7                             The Sweetest Thing          2002  \n",
       "8      Mike Birbiglia: My Girlfriend's Boyfriend          2013  \n",
       "9                                White Christmas          1954  \n",
       "10                                    Love Daily          2018  "
      ]
     },
     "execution_count": 16,
     "metadata": {},
     "output_type": "execute_result"
    }
   ],
   "source": [
    "result: Result = app.query(\n",
    "    simple_query,\n",
    "    query_text=\"Heartfelt romantic comedy\",\n",
    "    description_weight=1,\n",
    "    title_weight=1,\n",
    "    genre_weight=1,\n",
    "    recency_weight=0\n",
    ")\n",
    "\n",
    "pd.DataFrame([entry.stored_object for entry in result.entries])"
   ]
  },
  {
   "cell_type": "markdown",
   "id": "c12fa8c1-c013-44be-a326-a0dffa2e7d22",
   "metadata": {},
   "source": [
    "After looking at the results, I see some titles I have already seen. I can bias towards recent titles by upweighting recency. Weights are normalised to have unit sum, so you don't have to worry about how you set them."
   ]
  },
  {
   "cell_type": "code",
   "execution_count": 18,
   "id": "5941b41e-c2de-40df-b156-eed523b75c69",
   "metadata": {},
   "outputs": [
    {
     "data": {
      "text/html": [
       "<div>\n",
       "<style scoped>\n",
       "    .dataframe tbody tr th:only-of-type {\n",
       "        vertical-align: middle;\n",
       "    }\n",
       "\n",
       "    .dataframe tbody tr th {\n",
       "        vertical-align: top;\n",
       "    }\n",
       "\n",
       "    .dataframe thead th {\n",
       "        text-align: right;\n",
       "    }\n",
       "</style>\n",
       "<table border=\"1\" class=\"dataframe\">\n",
       "  <thead>\n",
       "    <tr style=\"text-align: right;\">\n",
       "      <th></th>\n",
       "      <th>description</th>\n",
       "      <th>title</th>\n",
       "      <th>release_timestamp</th>\n",
       "      <th>genres</th>\n",
       "      <th>id</th>\n",
       "    </tr>\n",
       "  </thead>\n",
       "  <tbody>\n",
       "    <tr>\n",
       "      <th>1</th>\n",
       "      <td>In this romantic comedy, several friends, each...</td>\n",
       "      <td>comedy romance</td>\n",
       "      <td>F*ck Love Too</td>\n",
       "      <td>2022</td>\n",
       "    </tr>\n",
       "    <tr>\n",
       "      <th>2</th>\n",
       "      <td>Fidelity tells a story of marital fidelity, in...</td>\n",
       "      <td>drama romance</td>\n",
       "      <td>Devotion, a Story of Love and Desire</td>\n",
       "      <td>2022</td>\n",
       "    </tr>\n",
       "    <tr>\n",
       "      <th>3</th>\n",
       "      <td>This black humor pan-Arabic anthology series i...</td>\n",
       "      <td>comedy drama romance</td>\n",
       "      <td>Love, Life &amp; Everything in Between</td>\n",
       "      <td>2022</td>\n",
       "    </tr>\n",
       "    <tr>\n",
       "      <th>4</th>\n",
       "      <td>An LA girl, unlucky in love, falls for an East...</td>\n",
       "      <td>Love Hard</td>\n",
       "      <td>1.609459e+09</td>\n",
       "      <td>romance comedy</td>\n",
       "      <td>-1727158115787189598</td>\n",
       "    </tr>\n",
       "    <tr>\n",
       "      <th>1</th>\n",
       "      <td>To save her small law firm, earnest lawyer Sus...</td>\n",
       "      <td>Love, Guaranteed</td>\n",
       "      <td>1.577837e+09</td>\n",
       "      <td>comedy romance</td>\n",
       "      <td>-5854079448720338904</td>\n",
       "    </tr>\n",
       "    <tr>\n",
       "      <th>5</th>\n",
       "      <td>Aspiring pop star Erica ends up as the enterta...</td>\n",
       "      <td>Resort to Love</td>\n",
       "      <td>1.609459e+09</td>\n",
       "      <td>romance comedy</td>\n",
       "      <td>1138201254991658005</td>\n",
       "    </tr>\n",
       "    <tr>\n",
       "      <th>6</th>\n",
       "      <td>Exploration into the tense relationship of suc...</td>\n",
       "      <td>Love or Money</td>\n",
       "      <td>1.609459e+09</td>\n",
       "      <td>romance</td>\n",
       "      <td>2087255842993146199</td>\n",
       "    </tr>\n",
       "    <tr>\n",
       "      <th>7</th>\n",
       "      <td>A relatable romance drama about a couple in th...</td>\n",
       "      <td>drama romance</td>\n",
       "      <td>Welcome to Wedding Hell</td>\n",
       "      <td>2022</td>\n",
       "    </tr>\n",
       "    <tr>\n",
       "      <th>5</th>\n",
       "      <td>An ad executive and a fashion designer-blogger...</td>\n",
       "      <td>comedy romance</td>\n",
       "      <td>Love Tactics</td>\n",
       "      <td>2022</td>\n",
       "    </tr>\n",
       "    <tr>\n",
       "      <th>6</th>\n",
       "      <td>Often (mis)guided by a cheeky imaginary wizard...</td>\n",
       "      <td>comedy romance</td>\n",
       "      <td>Eternally Confused and Eager for Love</td>\n",
       "      <td>2022</td>\n",
       "    </tr>\n",
       "    <tr>\n",
       "      <th>7</th>\n",
       "      <td>Guille decides it's time to take the next step...</td>\n",
       "      <td>comedy romance</td>\n",
       "      <td>Let's Tie the Knot, Honey!</td>\n",
       "      <td>2022</td>\n",
       "    </tr>\n",
       "    <tr>\n",
       "      <th>8</th>\n",
       "      <td>A modern love story set in the near future whe...</td>\n",
       "      <td>scifi comedy romance drama</td>\n",
       "      <td>AI Love You</td>\n",
       "      <td>2022</td>\n",
       "    </tr>\n",
       "    <tr>\n",
       "      <th>9</th>\n",
       "      <td>After his ad agency goes bankrupt, an indebted...</td>\n",
       "      <td>romance drama</td>\n",
       "      <td>Doom of Love</td>\n",
       "      <td>2022</td>\n",
       "    </tr>\n",
       "    <tr>\n",
       "      <th>10</th>\n",
       "      <td>A wife who feels suffocated by her husband's i...</td>\n",
       "      <td>drama romance</td>\n",
       "      <td>Hey! Sinamika</td>\n",
       "      <td>2022</td>\n",
       "    </tr>\n",
       "  </tbody>\n",
       "</table>\n",
       "</div>"
      ],
      "text/plain": [
       "                                             description  \\\n",
       "order                                                      \n",
       "1      In this romantic comedy, several friends, each...   \n",
       "2      Fidelity tells a story of marital fidelity, in...   \n",
       "3      This black humor pan-Arabic anthology series i...   \n",
       "4      A relatable romance drama about a couple in th...   \n",
       "5      An ad executive and a fashion designer-blogger...   \n",
       "6      Often (mis)guided by a cheeky imaginary wizard...   \n",
       "7      Guille decides it's time to take the next step...   \n",
       "8      A modern love story set in the near future whe...   \n",
       "9      After his ad agency goes bankrupt, an indebted...   \n",
       "10     A wife who feels suffocated by her husband's i...   \n",
       "\n",
       "                           genres                                  title  \\\n",
       "order                                                                      \n",
       "1                  comedy romance                          F*ck Love Too   \n",
       "2                   drama romance   Devotion, a Story of Love and Desire   \n",
       "3            comedy drama romance     Love, Life & Everything in Between   \n",
       "4                   drama romance                Welcome to Wedding Hell   \n",
       "5                  comedy romance                           Love Tactics   \n",
       "6                  comedy romance  Eternally Confused and Eager for Love   \n",
       "7                  comedy romance             Let's Tie the Knot, Honey!   \n",
       "8      scifi comedy romance drama                            AI Love You   \n",
       "9                   romance drama                           Doom of Love   \n",
       "10                  drama romance                          Hey! Sinamika   \n",
       "\n",
       "       release_year  \n",
       "order                \n",
       "1              2022  \n",
       "2              2022  \n",
       "3              2022  \n",
       "4              2022  \n",
       "5              2022  \n",
       "6              2022  \n",
       "7              2022  \n",
       "8              2022  \n",
       "9              2022  \n",
       "10             2022  "
      ]
     },
     "execution_count": 18,
     "metadata": {},
     "output_type": "execute_result"
    }
   ],
   "source": [
    "result: Result = app.query(\n",
    "    simple_query,\n",
    "    query_text=\"Heartfelt romantic comedy\",\n",
    "    description_weight=1,\n",
    "    title_weight=1,\n",
    "    genre_weight=1,\n",
    "    recency_weight=3\n",
    ")\n",
    "\n",
    "pd.DataFrame([entry.stored_object for entry in result.entries])"
   ]
  },
  {
   "cell_type": "markdown",
   "id": "f4a22174-d438-4b43-9e86-5fe883f139f8",
   "metadata": {},
   "source": [
    "Still using the simple query, I can give more weight to spaces if I think my query is more related to that space - matches there should count more. Here I give additional weight to the genre, leave the description as is, and downweight the title as my query text is mostly a genre with some additional context. I keep recency with unit weight too, as I would like my results to be a bit biased towards recent movies."
   ]
  },
  {
   "cell_type": "code",
   "execution_count": 20,
   "id": "4f5cfd0d-dfe6-40aa-9688-9e427f4890bf",
   "metadata": {},
   "outputs": [
    {
     "data": {
      "text/html": [
       "<div>\n",
       "<style scoped>\n",
       "    .dataframe tbody tr th:only-of-type {\n",
       "        vertical-align: middle;\n",
       "    }\n",
       "\n",
       "    .dataframe tbody tr th {\n",
       "        vertical-align: top;\n",
       "    }\n",
       "\n",
       "    .dataframe thead th {\n",
       "        text-align: right;\n",
       "    }\n",
       "</style>\n",
       "<table border=\"1\" class=\"dataframe\">\n",
       "  <thead>\n",
       "    <tr style=\"text-align: right;\">\n",
       "      <th></th>\n",
       "      <th>description</th>\n",
       "      <th>title</th>\n",
       "      <th>release_timestamp</th>\n",
       "      <th>genres</th>\n",
       "      <th>id</th>\n",
       "    </tr>\n",
       "  </thead>\n",
       "  <tbody>\n",
       "    <tr>\n",
       "      <th>0</th>\n",
       "      <td>An LA girl, unlucky in love, falls for an East...</td>\n",
       "      <td>Love Hard</td>\n",
       "      <td>1.609459e+09</td>\n",
       "      <td>romance comedy</td>\n",
       "      <td>-1727158115787189598</td>\n",
       "    </tr>\n",
       "    <tr>\n",
       "      <th>1</th>\n",
       "      <td>In this romantic comedy, several friends, each...</td>\n",
       "      <td>F*ck Love Too</td>\n",
       "      <td>1.640995e+09</td>\n",
       "      <td>comedy romance</td>\n",
       "      <td>-8012390494726771064</td>\n",
       "    </tr>\n",
       "    <tr>\n",
       "      <th>2</th>\n",
       "      <td>A relatable romance drama about a couple in th...</td>\n",
       "      <td>drama romance</td>\n",
       "      <td>Welcome to Wedding Hell</td>\n",
       "      <td>2022</td>\n",
       "    </tr>\n",
       "    <tr>\n",
       "      <th>3</th>\n",
       "      <td>This black humor pan-Arabic anthology series i...</td>\n",
       "      <td>comedy drama romance</td>\n",
       "      <td>Love, Life &amp; Everything in Between</td>\n",
       "      <td>2022</td>\n",
       "    </tr>\n",
       "    <tr>\n",
       "      <th>4</th>\n",
       "      <td>In this rom-com challenging the concept of sou...</td>\n",
       "      <td>comedy romance</td>\n",
       "      <td>Four to Dinner</td>\n",
       "      <td>2022</td>\n",
       "    </tr>\n",
       "    <tr>\n",
       "      <th>5</th>\n",
       "      <td>Guille decides it's time to take the next step...</td>\n",
       "      <td>comedy romance</td>\n",
       "      <td>Let's Tie the Knot, Honey!</td>\n",
       "      <td>2022</td>\n",
       "    </tr>\n",
       "    <tr>\n",
       "      <th>6</th>\n",
       "      <td>An ad executive and a fashion designer-blogger...</td>\n",
       "      <td>comedy romance</td>\n",
       "      <td>Love Tactics</td>\n",
       "      <td>2022</td>\n",
       "    </tr>\n",
       "    <tr>\n",
       "      <th>7</th>\n",
       "      <td>Often (mis)guided by a cheeky imaginary wizard...</td>\n",
       "      <td>comedy romance</td>\n",
       "      <td>Eternally Confused and Eager for Love</td>\n",
       "      <td>2022</td>\n",
       "    </tr>\n",
       "    <tr>\n",
       "      <th>8</th>\n",
       "      <td>Love never hurt so good for two co-workers who...</td>\n",
       "      <td>comedy romance</td>\n",
       "      <td>Love and Leashes</td>\n",
       "      <td>2022</td>\n",
       "    </tr>\n",
       "    <tr>\n",
       "      <th>9</th>\n",
       "      <td>The dreams of two young people are crushed by ...</td>\n",
       "      <td>drama romance</td>\n",
       "      <td>Twenty Five Twenty One</td>\n",
       "      <td>2022</td>\n",
       "    </tr>\n",
       "    <tr>\n",
       "      <th>10</th>\n",
       "      <td>A year after their romance began in Riccione, ...</td>\n",
       "      <td>romance comedy drama</td>\n",
       "      <td>Under the Amalfi Sun</td>\n",
       "      <td>2022</td>\n",
       "    </tr>\n",
       "  </tbody>\n",
       "</table>\n",
       "</div>"
      ],
      "text/plain": [
       "                                             description  \\\n",
       "order                                                      \n",
       "1      In this romantic comedy, several friends, each...   \n",
       "2      A relatable romance drama about a couple in th...   \n",
       "3      This black humor pan-Arabic anthology series i...   \n",
       "4      In this rom-com challenging the concept of sou...   \n",
       "5      Guille decides it's time to take the next step...   \n",
       "6      An ad executive and a fashion designer-blogger...   \n",
       "7      Often (mis)guided by a cheeky imaginary wizard...   \n",
       "8      Love never hurt so good for two co-workers who...   \n",
       "9      The dreams of two young people are crushed by ...   \n",
       "10     A year after their romance began in Riccione, ...   \n",
       "\n",
       "                     genres                                  title  \\\n",
       "order                                                                \n",
       "1            comedy romance                          F*ck Love Too   \n",
       "2             drama romance                Welcome to Wedding Hell   \n",
       "3      comedy drama romance     Love, Life & Everything in Between   \n",
       "4            comedy romance                         Four to Dinner   \n",
       "5            comedy romance             Let's Tie the Knot, Honey!   \n",
       "6            comedy romance                           Love Tactics   \n",
       "7            comedy romance  Eternally Confused and Eager for Love   \n",
       "8            comedy romance                       Love and Leashes   \n",
       "9             drama romance                 Twenty Five Twenty One   \n",
       "10     romance comedy drama                   Under the Amalfi Sun   \n",
       "\n",
       "       release_year  \n",
       "order                \n",
       "1              2022  \n",
       "2              2022  \n",
       "3              2022  \n",
       "4              2022  \n",
       "5              2022  \n",
       "6              2022  \n",
       "7              2022  \n",
       "8              2022  \n",
       "9              2022  \n",
       "10             2022  "
      ]
     },
     "execution_count": 20,
     "metadata": {},
     "output_type": "execute_result"
    }
   ],
   "source": [
    "result = app.query(\n",
    "    simple_query,\n",
    "    query_text=\"Heartfelt romantic comedy\",\n",
    "    description_weight=1,\n",
    "    title_weight=0.1,\n",
    "    genre_weight=2,\n",
    "    recency_weight=1\n",
    ")\n",
    "\n",
    "pd.DataFrame([entry.stored_object for entry in result.entries])"
   ]
  },
  {
   "cell_type": "markdown",
   "id": "7f213c52-900a-4a1b-9e02-9d681df7735b",
   "metadata": {},
   "source": [
    "With the advanced query, I can even supply different search terms for each attribute of the movie."
   ]
  },
  {
   "cell_type": "code",
   "execution_count": 22,
   "id": "1734d57b-5dbc-4c4c-a777-8be6717c3e6b",
   "metadata": {
    "scrolled": true
   },
   "outputs": [
    {
     "data": {
      "text/html": [
       "<div>\n",
       "<style scoped>\n",
       "    .dataframe tbody tr th:only-of-type {\n",
       "        vertical-align: middle;\n",
       "    }\n",
       "\n",
       "    .dataframe tbody tr th {\n",
       "        vertical-align: top;\n",
       "    }\n",
       "\n",
       "    .dataframe thead th {\n",
       "        text-align: right;\n",
       "    }\n",
       "</style>\n",
       "<table border=\"1\" class=\"dataframe\">\n",
       "  <thead>\n",
       "    <tr style=\"text-align: right;\">\n",
       "      <th></th>\n",
       "      <th>description</th>\n",
       "      <th>title</th>\n",
       "      <th>release_timestamp</th>\n",
       "      <th>genres</th>\n",
       "      <th>id</th>\n",
       "    </tr>\n",
       "  </thead>\n",
       "  <tbody>\n",
       "    <tr>\n",
       "      <th>0</th>\n",
       "      <td>'Love Actually' follows the lives of eight ver...</td>\n",
       "      <td>Love Actually</td>\n",
       "      <td>1.041379e+09</td>\n",
       "      <td>drama comedy romance</td>\n",
       "      <td>-3473009669691756457</td>\n",
       "    </tr>\n",
       "    <tr>\n",
       "      <th>1</th>\n",
       "      <td>Rebellious Mickey and good-natured Gus navigat...</td>\n",
       "      <td>Love</td>\n",
       "      <td>1.451606e+09</td>\n",
       "      <td>comedy drama romance</td>\n",
       "      <td>-6873138392745889712</td>\n",
       "    </tr>\n",
       "    <tr>\n",
       "      <th>2</th>\n",
       "      <td>An LA girl, unlucky in love, falls for an East...</td>\n",
       "      <td>Love Hard</td>\n",
       "      <td>1.609459e+09</td>\n",
       "      <td>romance comedy</td>\n",
       "      <td>-1727158115787189598</td>\n",
       "    </tr>\n",
       "    <tr>\n",
       "      <th>3</th>\n",
       "      <td>A rising black painter tries to break into a c...</td>\n",
       "      <td>romance drama</td>\n",
       "      <td>Really Love</td>\n",
       "      <td>2020</td>\n",
       "    </tr>\n",
       "    <tr>\n",
       "      <th>4</th>\n",
       "      <td>An LA girl, unlucky in love, falls for an East...</td>\n",
       "      <td>romance comedy</td>\n",
       "      <td>Love Hard</td>\n",
       "      <td>2021</td>\n",
       "    </tr>\n",
       "    <tr>\n",
       "      <th>5</th>\n",
       "      <td>Romantic anthology web series revolving around...</td>\n",
       "      <td>drama romance</td>\n",
       "      <td>Love Daily</td>\n",
       "      <td>2018</td>\n",
       "    </tr>\n",
       "    <tr>\n",
       "      <th>6</th>\n",
       "      <td>Adam and Marklin’s 5-year relationship has gon...</td>\n",
       "      <td>comedy drama romance</td>\n",
       "      <td>Almost Love</td>\n",
       "      <td>2019</td>\n",
       "    </tr>\n",
       "    <tr>\n",
       "      <th>7</th>\n",
       "      <td>Laida Magtalas is a modern-day Belle who works...</td>\n",
       "      <td>comedy drama romance</td>\n",
       "      <td>A Very Special Love</td>\n",
       "      <td>2008</td>\n",
       "    </tr>\n",
       "    <tr>\n",
       "      <th>8</th>\n",
       "      <td>Two young kids fall in love with each other. B...</td>\n",
       "      <td>romance drama</td>\n",
       "      <td>Endless Love</td>\n",
       "      <td>1981</td>\n",
       "    </tr>\n",
       "    <tr>\n",
       "      <th>3</th>\n",
       "      <td>Rebellious Mickey and good-natured Gus navigat...</td>\n",
       "      <td>comedy drama romance</td>\n",
       "      <td>Love</td>\n",
       "      <td>2016</td>\n",
       "    </tr>\n",
       "    <tr>\n",
       "      <th>4</th>\n",
       "      <td>Laida Magtalas is a modern-day Belle who works...</td>\n",
       "      <td>comedy drama romance</td>\n",
       "      <td>A Very Special Love</td>\n",
       "      <td>2008</td>\n",
       "    </tr>\n",
       "    <tr>\n",
       "      <th>5</th>\n",
       "      <td>A rising black painter tries to break into a c...</td>\n",
       "      <td>romance drama</td>\n",
       "      <td>Really Love</td>\n",
       "      <td>2020</td>\n",
       "    </tr>\n",
       "    <tr>\n",
       "      <th>6</th>\n",
       "      <td>A young woman develops romantic feelings for h...</td>\n",
       "      <td>comedy romance</td>\n",
       "      <td>Must Be... Love</td>\n",
       "      <td>2013</td>\n",
       "    </tr>\n",
       "    <tr>\n",
       "      <th>7</th>\n",
       "      <td>Romantic anthology web series revolving around...</td>\n",
       "      <td>drama romance</td>\n",
       "      <td>Love Daily</td>\n",
       "      <td>2018</td>\n",
       "    </tr>\n",
       "    <tr>\n",
       "      <th>8</th>\n",
       "      <td>Adam and Marklin’s 5-year relationship has gon...</td>\n",
       "      <td>comedy drama romance</td>\n",
       "      <td>Almost Love</td>\n",
       "      <td>2019</td>\n",
       "    </tr>\n",
       "    <tr>\n",
       "      <th>9</th>\n",
       "      <td>Love, Now is a 72 episode Taiwanese idol roman...</td>\n",
       "      <td>drama</td>\n",
       "      <td>Love, Now</td>\n",
       "      <td>2012</td>\n",
       "    </tr>\n",
       "    <tr>\n",
       "      <th>10</th>\n",
       "      <td>Love You, is a 2011 Taiwanese drama starring J...</td>\n",
       "      <td>comedy drama romance</td>\n",
       "      <td>Drunken to Love You</td>\n",
       "      <td>2011</td>\n",
       "    </tr>\n",
       "  </tbody>\n",
       "</table>\n",
       "</div>"
      ],
      "text/plain": [
       "                                             description  \\\n",
       "order                                                      \n",
       "1      'Love Actually' follows the lives of eight ver...   \n",
       "2      Two young kids fall in love with each other. B...   \n",
       "3      Rebellious Mickey and good-natured Gus navigat...   \n",
       "4      Laida Magtalas is a modern-day Belle who works...   \n",
       "5      A rising black painter tries to break into a c...   \n",
       "6      A young woman develops romantic feelings for h...   \n",
       "7      Romantic anthology web series revolving around...   \n",
       "8      Adam and Marklin’s 5-year relationship has gon...   \n",
       "9      Love, Now is a 72 episode Taiwanese idol roman...   \n",
       "10     Love You, is a 2011 Taiwanese drama starring J...   \n",
       "\n",
       "                     genres                title  release_year  \n",
       "order                                                           \n",
       "1      drama comedy romance        Love Actually          2003  \n",
       "2             romance drama         Endless Love          1981  \n",
       "3      comedy drama romance                 Love          2016  \n",
       "4      comedy drama romance  A Very Special Love          2008  \n",
       "5             romance drama          Really Love          2020  \n",
       "6            comedy romance      Must Be... Love          2013  \n",
       "7             drama romance           Love Daily          2018  \n",
       "8      comedy drama romance          Almost Love          2019  \n",
       "9                     drama            Love, Now          2012  \n",
       "10     comedy drama romance  Drunken to Love You          2011  "
      ]
     },
     "execution_count": 22,
     "metadata": {},
     "output_type": "execute_result"
    }
   ],
   "source": [
    "result = app.query(\n",
    "    advanced_query,\n",
    "    description_query_text=\"Heartfelt lovely romantic comedy for a cold autumn evening.\",\n",
    "    title_query_text=\"love\",\n",
    "    genre_query_text=\"drama comedy romantic\",\n",
    "    description_weight=1,\n",
    "    title_weight=1,\n",
    "    genre_weight=1,\n",
    "    recency_weight=0\n",
    ")\n",
    "\n",
    "pd.DataFrame([entry.stored_object for entry in result.entries])"
   ]
  },
  {
   "cell_type": "markdown",
   "id": "c37b470e-760c-41c2-bcea-416f77898087",
   "metadata": {},
   "source": [
    "And even give different weights to each subsearch if I really do care that the title is related to love but I am not really emotionally attached to my description of the movie I would want to see."
   ]
  },
  {
   "cell_type": "code",
   "execution_count": 24,
   "id": "e2982995-08f7-4ac9-8398-925d8227591b",
   "metadata": {},
   "outputs": [
    {
     "data": {
      "text/html": [
       "<div>\n",
       "<style scoped>\n",
       "    .dataframe tbody tr th:only-of-type {\n",
       "        vertical-align: middle;\n",
       "    }\n",
       "\n",
       "    .dataframe tbody tr th {\n",
       "        vertical-align: top;\n",
       "    }\n",
       "\n",
       "    .dataframe thead th {\n",
       "        text-align: right;\n",
       "    }\n",
       "</style>\n",
       "<table border=\"1\" class=\"dataframe\">\n",
       "  <thead>\n",
       "    <tr style=\"text-align: right;\">\n",
       "      <th></th>\n",
       "      <th>description</th>\n",
       "      <th>title</th>\n",
       "      <th>release_timestamp</th>\n",
       "      <th>genres</th>\n",
       "      <th>id</th>\n",
       "    </tr>\n",
       "  </thead>\n",
       "  <tbody>\n",
       "    <tr>\n",
       "      <th>0</th>\n",
       "      <td>Rebellious Mickey and good-natured Gus navigat...</td>\n",
       "      <td>Love</td>\n",
       "      <td>1.451606e+09</td>\n",
       "      <td>comedy drama romance</td>\n",
       "      <td>-6873138392745889712</td>\n",
       "    </tr>\n",
       "    <tr>\n",
       "      <th>1</th>\n",
       "      <td>The story of a family and the various situatio...</td>\n",
       "      <td>Love</td>\n",
       "      <td>1.577837e+09</td>\n",
       "      <td>thriller drama</td>\n",
       "      <td>-22341460969297855</td>\n",
       "    </tr>\n",
       "    <tr>\n",
       "      <th>2</th>\n",
       "      <td>'Love Actually' follows the lives of eight ver...</td>\n",
       "      <td>drama comedy romance</td>\n",
       "      <td>Love Actually</td>\n",
       "      <td>2003</td>\n",
       "    </tr>\n",
       "    <tr>\n",
       "      <th>3</th>\n",
       "      <td>Two young kids fall in love with each other. B...</td>\n",
       "      <td>romance drama</td>\n",
       "      <td>Endless Love</td>\n",
       "      <td>1981</td>\n",
       "    </tr>\n",
       "    <tr>\n",
       "      <th>4</th>\n",
       "      <td>The story of a family and the various situatio...</td>\n",
       "      <td>thriller drama</td>\n",
       "      <td>Love</td>\n",
       "      <td>2020</td>\n",
       "    </tr>\n",
       "    <tr>\n",
       "      <th>5</th>\n",
       "      <td>A rising black painter tries to break into a c...</td>\n",
       "      <td>romance drama</td>\n",
       "      <td>Really Love</td>\n",
       "      <td>2020</td>\n",
       "    </tr>\n",
       "    <tr>\n",
       "      <th>6</th>\n",
       "      <td>Laida Magtalas is a modern-day Belle who works...</td>\n",
       "      <td>comedy drama romance</td>\n",
       "      <td>A Very Special Love</td>\n",
       "      <td>2008</td>\n",
       "    </tr>\n",
       "    <tr>\n",
       "      <th>7</th>\n",
       "      <td>Love, Now is a 72 episode Taiwanese idol roman...</td>\n",
       "      <td>drama</td>\n",
       "      <td>Love, Now</td>\n",
       "      <td>2012</td>\n",
       "    </tr>\n",
       "    <tr>\n",
       "      <th>8</th>\n",
       "      <td>Ian Montes is a picture of success. Despite be...</td>\n",
       "      <td>drama romance</td>\n",
       "      <td>A Love Story</td>\n",
       "      <td>2007</td>\n",
       "    </tr>\n",
       "    <tr>\n",
       "      <th>9</th>\n",
       "      <td>Adam and Marklin’s 5-year relationship has gon...</td>\n",
       "      <td>comedy drama romance</td>\n",
       "      <td>Almost Love</td>\n",
       "      <td>2019</td>\n",
       "    </tr>\n",
       "    <tr>\n",
       "      <th>10</th>\n",
       "      <td>The story of Richard and Mildred Loving, an in...</td>\n",
       "      <td>drama romance</td>\n",
       "      <td>Loving</td>\n",
       "      <td>2016</td>\n",
       "    </tr>\n",
       "  </tbody>\n",
       "</table>\n",
       "</div>"
      ],
      "text/plain": [
       "                                             description  \\\n",
       "order                                                      \n",
       "1      Rebellious Mickey and good-natured Gus navigat...   \n",
       "2      'Love Actually' follows the lives of eight ver...   \n",
       "3      Two young kids fall in love with each other. B...   \n",
       "4      The story of a family and the various situatio...   \n",
       "5      A rising black painter tries to break into a c...   \n",
       "6      Laida Magtalas is a modern-day Belle who works...   \n",
       "7      Love, Now is a 72 episode Taiwanese idol roman...   \n",
       "8      Ian Montes is a picture of success. Despite be...   \n",
       "9      Adam and Marklin’s 5-year relationship has gon...   \n",
       "10     The story of Richard and Mildred Loving, an in...   \n",
       "\n",
       "                     genres                title  release_year  \n",
       "order                                                           \n",
       "1      comedy drama romance                 Love          2016  \n",
       "2      drama comedy romance        Love Actually          2003  \n",
       "3             romance drama         Endless Love          1981  \n",
       "4            thriller drama                 Love          2020  \n",
       "5             romance drama          Really Love          2020  \n",
       "6      comedy drama romance  A Very Special Love          2008  \n",
       "7                     drama            Love, Now          2012  \n",
       "8             drama romance         A Love Story          2007  \n",
       "9      comedy drama romance          Almost Love          2019  \n",
       "10            drama romance               Loving          2016  "
      ]
     },
     "execution_count": 24,
     "metadata": {},
     "output_type": "execute_result"
    }
   ],
   "source": [
    "result = app.query(\n",
    "    advanced_query,\n",
    "    description_query_text=\"Heartfelt lovely romantic comedy for a cold autumn evening.\",\n",
    "    title_query_text=\"love\",\n",
    "    genre_query_text=\"drama comedy romantic\",\n",
    "    description_weight=0.2,\n",
    "    title_weight=3,\n",
    "    genre_weight=1,\n",
    "    recency_weight=0\n",
    ")\n",
    "\n",
    "pd.DataFrame([entry.stored_object for entry in result.entries])"
   ]
  },
  {
   "cell_type": "markdown",
   "id": "cb343f08-4c5b-4dee-a41f-0944f81aeddd",
   "metadata": {},
   "source": [
    "Then I can bias again towards recent movies"
   ]
  },
  {
   "cell_type": "code",
   "execution_count": 26,
   "id": "852cdad9-c8aa-4f0c-84e5-b39975d654d6",
   "metadata": {},
   "outputs": [
    {
     "data": {
      "text/html": [
       "<div>\n",
       "<style scoped>\n",
       "    .dataframe tbody tr th:only-of-type {\n",
       "        vertical-align: middle;\n",
       "    }\n",
       "\n",
       "    .dataframe tbody tr th {\n",
       "        vertical-align: top;\n",
       "    }\n",
       "\n",
       "    .dataframe thead th {\n",
       "        text-align: right;\n",
       "    }\n",
       "</style>\n",
       "<table border=\"1\" class=\"dataframe\">\n",
       "  <thead>\n",
       "    <tr style=\"text-align: right;\">\n",
       "      <th></th>\n",
       "      <th>description</th>\n",
       "      <th>title</th>\n",
       "      <th>release_timestamp</th>\n",
       "      <th>genres</th>\n",
       "      <th>id</th>\n",
       "    </tr>\n",
       "  </thead>\n",
       "  <tbody>\n",
       "    <tr>\n",
       "      <th>1</th>\n",
       "      <td>After his ad agency goes bankrupt, an indebted...</td>\n",
       "      <td>romance drama</td>\n",
       "      <td>Doom of Love</td>\n",
       "      <td>2022</td>\n",
       "    </tr>\n",
       "    <tr>\n",
       "      <th>2</th>\n",
       "      <td>An ad executive and a fashion designer-blogger...</td>\n",
       "      <td>comedy romance</td>\n",
       "      <td>Love Tactics</td>\n",
       "      <td>2022</td>\n",
       "    </tr>\n",
       "    <tr>\n",
       "      <th>3</th>\n",
       "      <td>Fidelity tells a story of marital fidelity, in...</td>\n",
       "      <td>drama romance</td>\n",
       "      <td>Devotion, a Story of Love and Desire</td>\n",
       "      <td>2022</td>\n",
       "    </tr>\n",
       "    <tr>\n",
       "      <th>4</th>\n",
       "      <td>This black humor pan-Arabic anthology series i...</td>\n",
       "      <td>comedy drama romance</td>\n",
       "      <td>Love, Life &amp; Everything in Between</td>\n",
       "      <td>2022</td>\n",
       "    </tr>\n",
       "    <tr>\n",
       "      <th>5</th>\n",
       "      <td>A modern love story set in the near future whe...</td>\n",
       "      <td>scifi comedy romance drama</td>\n",
       "      <td>AI Love You</td>\n",
       "      <td>2022</td>\n",
       "    </tr>\n",
       "    <tr>\n",
       "      <th>6</th>\n",
       "      <td>Often (mis)guided by a cheeky imaginary wizard...</td>\n",
       "      <td>comedy romance</td>\n",
       "      <td>Eternally Confused and Eager for Love</td>\n",
       "      <td>2022</td>\n",
       "    </tr>\n",
       "    <tr>\n",
       "      <th>7</th>\n",
       "      <td>Haruto Asakura falls in love with hairdresser ...</td>\n",
       "      <td>drama romance</td>\n",
       "      <td>Love Like the Falling Petals</td>\n",
       "      <td>2022</td>\n",
       "    </tr>\n",
       "    <tr>\n",
       "      <th>8</th>\n",
       "      <td>Inside a national weather service, love proves...</td>\n",
       "      <td>drama romance</td>\n",
       "      <td>Forecasting Love and Weather</td>\n",
       "      <td>2022</td>\n",
       "    </tr>\n",
       "    <tr>\n",
       "      <th>9</th>\n",
       "      <td>In this romantic comedy, several friends, each...</td>\n",
       "      <td>comedy romance</td>\n",
       "      <td>F*ck Love Too</td>\n",
       "      <td>2022</td>\n",
       "    </tr>\n",
       "    <tr>\n",
       "      <th>10</th>\n",
       "      <td>Lina is about to graduate high school and has ...</td>\n",
       "      <td>romance comedy drama</td>\n",
       "      <td>Love &amp; Gelato</td>\n",
       "      <td>2022</td>\n",
       "    </tr>\n",
       "  </tbody>\n",
       "</table>\n",
       "</div>"
      ],
      "text/plain": [
       "                                             description  \\\n",
       "order                                                      \n",
       "1      After his ad agency goes bankrupt, an indebted...   \n",
       "2      An ad executive and a fashion designer-blogger...   \n",
       "3      Fidelity tells a story of marital fidelity, in...   \n",
       "4      This black humor pan-Arabic anthology series i...   \n",
       "5      A modern love story set in the near future whe...   \n",
       "6      Often (mis)guided by a cheeky imaginary wizard...   \n",
       "7      Haruto Asakura falls in love with hairdresser ...   \n",
       "8      Inside a national weather service, love proves...   \n",
       "9      In this romantic comedy, several friends, each...   \n",
       "10     Lina is about to graduate high school and has ...   \n",
       "\n",
       "                           genres                                  title  \\\n",
       "order                                                                      \n",
       "1                   romance drama                           Doom of Love   \n",
       "2                  comedy romance                           Love Tactics   \n",
       "3                   drama romance   Devotion, a Story of Love and Desire   \n",
       "4            comedy drama romance     Love, Life & Everything in Between   \n",
       "5      scifi comedy romance drama                            AI Love You   \n",
       "6                  comedy romance  Eternally Confused and Eager for Love   \n",
       "7                   drama romance           Love Like the Falling Petals   \n",
       "8                   drama romance           Forecasting Love and Weather   \n",
       "9                  comedy romance                          F*ck Love Too   \n",
       "10           romance comedy drama                          Love & Gelato   \n",
       "\n",
       "       release_year  \n",
       "order                \n",
       "1              2022  \n",
       "2              2022  \n",
       "3              2022  \n",
       "4              2022  \n",
       "5              2022  \n",
       "6              2022  \n",
       "7              2022  \n",
       "8              2022  \n",
       "9              2022  \n",
       "10             2022  "
      ]
     },
     "execution_count": 26,
     "metadata": {},
     "output_type": "execute_result"
    }
   ],
   "source": [
    "result = app.query(\n",
    "    advanced_query,\n",
    "    description_query_text=\"Heartfelt lovely romantic comedy for a cold autumn evening.\",\n",
    "    title_query_text=\"love\",\n",
    "    genre_query_text=\"drama comedy romantic\",\n",
    "    description_weight=0.2,\n",
    "    title_weight=3,\n",
    "    genre_weight=1,\n",
    "    recency_weight=5\n",
    ")\n",
    "\n",
    "pd.DataFrame([entry.stored_object for entry in result.entries])"
   ]
  },
  {
   "cell_type": "markdown",
   "id": "04219f19-6857-4822-bf61-32f3893df736",
   "metadata": {},
   "source": [
    "Or maybe to older ones"
   ]
  },
  {
   "cell_type": "code",
   "execution_count": 27,
   "id": "7033a82a-5f04-4c7b-aa7c-e3122d8c7709",
   "metadata": {},
   "outputs": [
    {
     "data": {
      "text/html": [
       "<div>\n",
       "<style scoped>\n",
       "    .dataframe tbody tr th:only-of-type {\n",
       "        vertical-align: middle;\n",
       "    }\n",
       "\n",
       "    .dataframe tbody tr th {\n",
       "        vertical-align: top;\n",
       "    }\n",
       "\n",
       "    .dataframe thead th {\n",
       "        text-align: right;\n",
       "    }\n",
       "</style>\n",
       "<table border=\"1\" class=\"dataframe\">\n",
       "  <thead>\n",
       "    <tr style=\"text-align: right;\">\n",
       "      <th></th>\n",
       "      <th>description</th>\n",
       "      <th>title</th>\n",
       "      <th>release_timestamp</th>\n",
       "      <th>genres</th>\n",
       "      <th>id</th>\n",
       "    </tr>\n",
       "  </thead>\n",
       "  <tbody>\n",
       "    <tr>\n",
       "      <th>0</th>\n",
       "      <td>Saladin, the first sultan of Egypt and Syria, ...</td>\n",
       "      <td>Saladin the Victorious</td>\n",
       "      <td>-220924800.0</td>\n",
       "      <td>action drama war history romance</td>\n",
       "      <td>2425603111193151584</td>\n",
       "    </tr>\n",
       "    <tr>\n",
       "      <th>1</th>\n",
       "      <td>An arrogant Texas millionaire hires four adven...</td>\n",
       "      <td>The Professionals</td>\n",
       "      <td>-126230400.0</td>\n",
       "      <td>western action european</td>\n",
       "      <td>-4650624705216006114</td>\n",
       "    </tr>\n",
       "    <tr>\n",
       "      <th>2</th>\n",
       "      <td>A team of allied saboteurs are assigned an imp...</td>\n",
       "      <td>The Guns of Navarone</td>\n",
       "      <td>-283996800.0</td>\n",
       "      <td>action drama war</td>\n",
       "      <td>9032621507803627966</td>\n",
       "    </tr>\n",
       "    <tr>\n",
       "      <th>3</th>\n",
       "      <td>Set in 1977, back when sex was safe, pleasure ...</td>\n",
       "      <td>Boogie Nights</td>\n",
       "      <td>852076800.0</td>\n",
       "      <td>drama</td>\n",
       "      <td>3375904646852241720</td>\n",
       "    </tr>\n",
       "    <tr>\n",
       "      <th>4</th>\n",
       "      <td>101-year-old Rose DeWitt Bukater tells the sto...</td>\n",
       "      <td>Titanic</td>\n",
       "      <td>852076800.0</td>\n",
       "      <td>drama romance</td>\n",
       "      <td>-7327622937272688616</td>\n",
       "    </tr>\n",
       "    <tr>\n",
       "      <th>5</th>\n",
       "      <td>In the 12th century's Andalusia lives Ibn Rush...</td>\n",
       "      <td>Destiny</td>\n",
       "      <td>852076800.0</td>\n",
       "      <td>drama history comedy romance</td>\n",
       "      <td>1648838707673980451</td>\n",
       "    </tr>\n",
       "    <tr>\n",
       "      <th>6</th>\n",
       "      <td>Experience veteran comedian Sinbad as he retur...</td>\n",
       "      <td>Sinbad: Son of a Preacher Man</td>\n",
       "      <td>820454400.0</td>\n",
       "      <td>comedy documentation</td>\n",
       "      <td>454840498458487389</td>\n",
       "    </tr>\n",
       "    <tr>\n",
       "      <th>7</th>\n",
       "      <td>Moesha was an American sitcom series that aire...</td>\n",
       "      <td>Moesha</td>\n",
       "      <td>820454400.0</td>\n",
       "      <td>drama comedy family</td>\n",
       "      <td>6787948325592241748</td>\n",
       "    </tr>\n",
       "    <tr>\n",
       "      <th>8</th>\n",
       "      <td>Shahjada Ijjat Beg comes to India with his car...</td>\n",
       "      <td>romance drama action</td>\n",
       "      <td>Sohni Mahiwal</td>\n",
       "      <td>1984</td>\n",
       "    </tr>\n",
       "    <tr>\n",
       "      <th>9</th>\n",
       "      <td>Two small children and a ship's cook survive a...</td>\n",
       "      <td>romance action drama</td>\n",
       "      <td>The Blue Lagoon</td>\n",
       "      <td>1980</td>\n",
       "    </tr>\n",
       "    <tr>\n",
       "      <th>10</th>\n",
       "      <td>In the 1930s, bored waitress Bonnie Parker fal...</td>\n",
       "      <td>crime drama action</td>\n",
       "      <td>Bonnie and Clyde</td>\n",
       "      <td>1967</td>\n",
       "    </tr>\n",
       "  </tbody>\n",
       "</table>\n",
       "</div>"
      ],
      "text/plain": [
       "                                             description  \\\n",
       "order                                                      \n",
       "1      Two young kids fall in love with each other. B...   \n",
       "2      Anil, a street singer, is humiliated and drive...   \n",
       "3      An honest man dreams of a better life for his ...   \n",
       "4      Two talented song-and-dance men team up after ...   \n",
       "5      Brian Cohen is an average young Jewish man, bu...   \n",
       "6      Geeky student Arnie Cunningham falls for Chris...   \n",
       "7      Maharaj Brajbhan lives a wealthy lifestyle in ...   \n",
       "8      Shahjada Ijjat Beg comes to India with his car...   \n",
       "9      Two small children and a ship's cook survive a...   \n",
       "10     In the 1930s, bored waitress Bonnie Parker fal...   \n",
       "\n",
       "                         genres             title  release_year  \n",
       "order                                                            \n",
       "1                 romance drama      Endless Love          1981  \n",
       "2                 drama romance      Disco Dancer          1982  \n",
       "3           romance crime drama             Ujala          1959  \n",
       "4                romance comedy   White Christmas          1954  \n",
       "5                        comedy     Life of Brian          1979  \n",
       "6      horror thriller european         Christine          1983  \n",
       "7          drama action romance            Bandie          1978  \n",
       "8          romance drama action     Sohni Mahiwal          1984  \n",
       "9          romance action drama   The Blue Lagoon          1980  \n",
       "10           crime drama action  Bonnie and Clyde          1967  "
      ]
     },
     "execution_count": 27,
     "metadata": {},
     "output_type": "execute_result"
    }
   ],
   "source": [
    "result = app.query(\n",
    "    advanced_query,\n",
    "    description_query_text=\"Heartfelt lovely romantic comedy for a cold autumn evening.\",\n",
    "    title_query_text=\"love\",\n",
    "    genre_query_text=\"drama comedy romantic\",\n",
    "    description_weight=0.2,\n",
    "    title_weight=3,\n",
    "    genre_weight=1,\n",
    "    recency_weight=-10\n",
    ")\n",
    "\n",
    "pd.DataFrame([entry.stored_object for entry in result.entries])"
   ]
  },
  {
   "cell_type": "markdown",
   "id": "9a922c32-891a-4826-ab0e-fc5f091e4791",
   "metadata": {},
   "source": [
    "notice that every movie before 1984 has the same recency score as our largest period time is 40 years."
   ]
  }
 ],
 "metadata": {
  "kernelspec": {
   "display_name": "superlinked-venv",
   "language": "python",
   "name": "superlinked-venv"
  },
  "language_info": {
   "codemirror_mode": {
    "name": "ipython",
    "version": 3
   },
   "file_extension": ".py",
   "mimetype": "text/x-python",
   "name": "python",
   "nbconvert_exporter": "python",
   "pygments_lexer": "ipython3",
   "version": "3.10.9"
  }
 },
 "nbformat": 4,
 "nbformat_minor": 5
}

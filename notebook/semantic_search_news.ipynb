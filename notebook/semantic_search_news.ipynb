{
 "cells": [
  {
   "cell_type": "markdown",
   "id": "49c942f7-d65e-40cd-821b-d2d3071bcf1e",
   "metadata": {},
   "source": [
    "# Semantic search in business news\n",
    "\n",
    "This notebook implements semantic search in [news](https://www.kaggle.com/datasets/rmisra/news-category-dataset) articles. \n",
    "The dataset is filtered for news in the 'BUSINESS' category.\n",
    "\n",
    "We are embedding\n",
    "- headlines\n",
    "- news body (short description)\n",
    "- and date\n",
    "  \n",
    "to be able to search for\n",
    "- notable events, or\n",
    "- related articles to a specific story.\n",
    "\n",
    "There is a possibility to skew the results towards older or fresher news,\n",
    "and also to influence the results using a specific search term."
   ]
  },
  {
   "cell_type": "markdown",
   "id": "aac7c6a1-6af1-4393-b4a9-2c03f9f48f6f",
   "metadata": {},
   "source": [
    "## Boilerplate\n",
    "\n",
    "### Installation"
   ]
  },
  {
   "cell_type": "code",
   "execution_count": 1,
   "id": "a4952853-9474-4643-82e7-5f2c193f6c56",
   "metadata": {},
   "outputs": [],
   "source": [
    "%pip install superlinked==3.14.4"
   ]
  },
  {
   "cell_type": "markdown",
   "id": "52f0f53e-f2d6-49ce-9108-b42743c648d6",
   "metadata": {},
   "source": [
    "### Imports and constants"
   ]
  },
  {
   "cell_type": "code",
   "execution_count": 2,
   "id": "1346b1c0-50b3-48a3-97f9-860c919ca645",
   "metadata": {},
   "outputs": [
    {
     "data": {
      "text/plain": [
       "<superlinked.framework.dsl.query.param.Param at 0x1037d57e0>"
      ]
     },
     "execution_count": 2,
     "metadata": {},
     "output_type": "execute_result"
    }
   ],
   "source": [
    "from datetime import datetime, timedelta, timezone\n",
    "\n",
    "import altair as alt\n",
    "import os\n",
    "import pandas as pd\n",
    "import sys\n",
    "\n",
    "from superlinked.evaluation.charts.recency_plotter import RecencyPlotter\n",
    "from superlinked.framework.common.dag.context import CONTEXT_COMMON, CONTEXT_COMMON_NOW\n",
    "from superlinked.framework.common.dag.period_time import PeriodTime\n",
    "from superlinked.framework.common.schema.schema import schema\n",
    "from superlinked.framework.common.schema.schema_object import String, Timestamp\n",
    "from superlinked.framework.common.schema.id_schema_object import IdField\n",
    "from superlinked.framework.common.parser.dataframe_parser import DataFrameParser\n",
    "from superlinked.framework.dsl.executor.in_memory.in_memory_executor import (\n",
    "    InMemoryExecutor,\n",
    "    InMemoryApp,\n",
    ")\n",
    "from superlinked.framework.dsl.index.index import Index\n",
    "from superlinked.framework.dsl.query.param import Param\n",
    "from superlinked.framework.dsl.query.query import Query\n",
    "from superlinked.framework.dsl.query.result import Result\n",
    "from superlinked.framework.dsl.source.in_memory_source import InMemorySource\n",
    "from superlinked.framework.dsl.space.text_similarity_space import TextSimilaritySpace\n",
    "from superlinked.framework.dsl.space.recency_space import RecencySpace\n",
    "\n",
    "alt.renderers.enable(\"mimetype\")\n",
    "alt.data_transformers.disable_max_rows()\n",
    "pd.set_option(\"display.max_colwidth\", 190)\n",
    "Param(\"query_text\")"
   ]
  },
  {
   "cell_type": "code",
   "execution_count": 3,
   "id": "c9738e3d-7d4f-4fbe-9451-c56e11a65acf",
   "metadata": {},
   "outputs": [],
   "source": [
    "YEAR_IN_DAYS = 365\n",
    "TOP_N = 10\n",
    "DATASET_URL = \"https://storage.googleapis.com/superlinked-notebook-news-dataset/business_news.json\"\n",
    "# as the dataset contains articles from 2022 and before, we can set our application's \"NOW\" to this date\n",
    "END_OF_2022_TS = int(datetime(2022, 12, 31, 23, 59).timestamp())\n",
    "EXECUTOR_DATA = {CONTEXT_COMMON: {CONTEXT_COMMON_NOW: END_OF_2022_TS}}"
   ]
  },
  {
   "cell_type": "markdown",
   "id": "cec9eab8-2c61-40dc-b875-d0c062071221",
   "metadata": {},
   "source": [
    "## Prepare & explore dataset"
   ]
  },
  {
   "cell_type": "code",
   "execution_count": 4,
   "id": "b03bff12-fdf6-4500-b3c5-fb421a8990f5",
   "metadata": {},
   "outputs": [],
   "source": [
    "NROWS = int(os.getenv(\"NOTEBOOK_TEST_ROW_LIMIT\", sys.maxsize))\n",
    "business_news = pd.read_json(DATASET_URL, convert_dates=True).head(NROWS)"
   ]
  },
  {
   "cell_type": "code",
   "execution_count": 5,
   "id": "89d28b5c-c603-4817-b7f8-de80c435e2fb",
   "metadata": {},
   "outputs": [],
   "source": [
    "# we are going to need an id column\n",
    "business_news = business_news.reset_index().rename(columns={\"index\": \"id\"})\n",
    "# we need to handle the timestamp being set in milliseconds\n",
    "business_news[\"date\"] = [\n",
    "    date.replace(tzinfo=timezone.utc).timestamp() for date in business_news.date\n",
    "]"
   ]
  },
  {
   "cell_type": "code",
   "execution_count": 6,
   "id": "f08f8086-85f1-4ea8-9446-07c5fdd68609",
   "metadata": {
    "scrolled": true
   },
   "outputs": [
    {
     "data": {
      "text/html": [
       "<div>\n",
       "<style scoped>\n",
       "    .dataframe tbody tr th:only-of-type {\n",
       "        vertical-align: middle;\n",
       "    }\n",
       "\n",
       "    .dataframe tbody tr th {\n",
       "        vertical-align: top;\n",
       "    }\n",
       "\n",
       "    .dataframe thead th {\n",
       "        text-align: right;\n",
       "    }\n",
       "</style>\n",
       "<table border=\"1\" class=\"dataframe\">\n",
       "  <thead>\n",
       "    <tr style=\"text-align: right;\">\n",
       "      <th></th>\n",
       "      <th>id</th>\n",
       "      <th>link</th>\n",
       "      <th>headline</th>\n",
       "      <th>category</th>\n",
       "      <th>short_description</th>\n",
       "      <th>authors</th>\n",
       "      <th>date</th>\n",
       "    </tr>\n",
       "  </thead>\n",
       "  <tbody>\n",
       "    <tr>\n",
       "      <th>0</th>\n",
       "      <td>162</td>\n",
       "      <td>https://www.huffpost.com/entry/rei-workers-berkeley-store-union_n_6307a5f4e4b0f72c09ded80d</td>\n",
       "      <td>REI Workers At Berkeley Store Vote To Unionize In Another Win For Labor</td>\n",
       "      <td>BUSINESS</td>\n",
       "      <td>They follow in the footsteps of REI workers in New York City who formed a union earlier this year.</td>\n",
       "      <td>Dave Jamieson</td>\n",
       "      <td>1.661386e+09</td>\n",
       "    </tr>\n",
       "    <tr>\n",
       "      <th>1</th>\n",
       "      <td>353</td>\n",
       "      <td>https://www.huffpost.com/entry/twitter-elon-musk-trial-october_n_62d7c115e4b000da23f9c7df</td>\n",
       "      <td>Twitter Lawyer Calls Elon Musk 'Committed Enemy' As Judge Sets October Trial</td>\n",
       "      <td>BUSINESS</td>\n",
       "      <td>Delaware Chancery Judge Kathaleen McCormick dealt the world's richest person a setback in ordering a speedy trial on his abandoned deal to buy Twitter.</td>\n",
       "      <td>Marita Vlachou</td>\n",
       "      <td>1.658275e+09</td>\n",
       "    </tr>\n",
       "    <tr>\n",
       "      <th>2</th>\n",
       "      <td>632</td>\n",
       "      <td>https://www.huffpost.com/entry/starbucks-leaves-russian-market-shuts-stores_n_628b9804e4b05cfc268f4413</td>\n",
       "      <td>Starbucks Leaving Russian Market, Shutting 130 Stores</td>\n",
       "      <td>BUSINESS</td>\n",
       "      <td>Starbucks' move follows McDonald's exit from the Russian market last week.</td>\n",
       "      <td>DEE-ANN DURBIN, AP</td>\n",
       "      <td>1.653264e+09</td>\n",
       "    </tr>\n",
       "    <tr>\n",
       "      <th>3</th>\n",
       "      <td>690</td>\n",
       "      <td>https://www.huffpost.com/entry/coinbase-crypto-slumping_n_627c5582e4b0b74b0e7ed621</td>\n",
       "      <td>Crypto Crash Leaves Trading Platform Coinbase Slumped</td>\n",
       "      <td>BUSINESS</td>\n",
       "      <td>Cryptocurrency trading platform Coinbase has lost half its value in the past week.</td>\n",
       "      <td>Matt Ott, AP</td>\n",
       "      <td>1.652314e+09</td>\n",
       "    </tr>\n",
       "    <tr>\n",
       "      <th>4</th>\n",
       "      <td>727</td>\n",
       "      <td>https://www.huffpost.com/entry/us-april-jobs-report-2022_n_627517dfe4b009a811c295ec</td>\n",
       "      <td>US Added 428,000 Jobs In April Despite Surging Inflation</td>\n",
       "      <td>BUSINESS</td>\n",
       "      <td>At 3.6%, unemployment nearly reached the lowest level in half a century.</td>\n",
       "      <td>Paul Wiseman, AP</td>\n",
       "      <td>1.651795e+09</td>\n",
       "    </tr>\n",
       "  </tbody>\n",
       "</table>\n",
       "</div>"
      ],
      "text/plain": [
       "    id  \\\n",
       "0  162   \n",
       "1  353   \n",
       "2  632   \n",
       "3  690   \n",
       "4  727   \n",
       "\n",
       "                                                                                                     link  \\\n",
       "0              https://www.huffpost.com/entry/rei-workers-berkeley-store-union_n_6307a5f4e4b0f72c09ded80d   \n",
       "1               https://www.huffpost.com/entry/twitter-elon-musk-trial-october_n_62d7c115e4b000da23f9c7df   \n",
       "2  https://www.huffpost.com/entry/starbucks-leaves-russian-market-shuts-stores_n_628b9804e4b05cfc268f4413   \n",
       "3                      https://www.huffpost.com/entry/coinbase-crypto-slumping_n_627c5582e4b0b74b0e7ed621   \n",
       "4                     https://www.huffpost.com/entry/us-april-jobs-report-2022_n_627517dfe4b009a811c295ec   \n",
       "\n",
       "                                                                       headline  \\\n",
       "0       REI Workers At Berkeley Store Vote To Unionize In Another Win For Labor   \n",
       "1  Twitter Lawyer Calls Elon Musk 'Committed Enemy' As Judge Sets October Trial   \n",
       "2                         Starbucks Leaving Russian Market, Shutting 130 Stores   \n",
       "3                         Crypto Crash Leaves Trading Platform Coinbase Slumped   \n",
       "4                      US Added 428,000 Jobs In April Despite Surging Inflation   \n",
       "\n",
       "   category  \\\n",
       "0  BUSINESS   \n",
       "1  BUSINESS   \n",
       "2  BUSINESS   \n",
       "3  BUSINESS   \n",
       "4  BUSINESS   \n",
       "\n",
       "                                                                                                                                         short_description  \\\n",
       "0                                                       They follow in the footsteps of REI workers in New York City who formed a union earlier this year.   \n",
       "1  Delaware Chancery Judge Kathaleen McCormick dealt the world's richest person a setback in ordering a speedy trial on his abandoned deal to buy Twitter.   \n",
       "2                                                                               Starbucks' move follows McDonald's exit from the Russian market last week.   \n",
       "3                                                                       Cryptocurrency trading platform Coinbase has lost half its value in the past week.   \n",
       "4                                                                                 At 3.6%, unemployment nearly reached the lowest level in half a century.   \n",
       "\n",
       "              authors          date  \n",
       "0       Dave Jamieson  1.661386e+09  \n",
       "1      Marita Vlachou  1.658275e+09  \n",
       "2  DEE-ANN DURBIN, AP  1.653264e+09  \n",
       "3        Matt Ott, AP  1.652314e+09  \n",
       "4    Paul Wiseman, AP  1.651795e+09  "
      ]
     },
     "execution_count": 6,
     "metadata": {},
     "output_type": "execute_result"
    }
   ],
   "source": [
    "# a sneak peak into the data\n",
    "business_news.head()"
   ]
  },
  {
   "cell_type": "markdown",
   "id": "228c1c1c-bb7b-4f08-8d08-d5dff9ff60db",
   "metadata": {},
   "source": [
    "### Understand release date distribution"
   ]
  },
  {
   "cell_type": "code",
   "execution_count": 7,
   "id": "e7f7a6fe-5ae2-4704-970b-feb8808ec60e",
   "metadata": {},
   "outputs": [
    {
     "data": {
      "application/vnd.vegalite.v5+json": {
       "$schema": "https://vega.github.io/schema/vega-lite/v5.16.3.json",
       "config": {
        "view": {
         "continuousHeight": 300,
         "continuousWidth": 300
        }
       },
       "data": {
        "name": "data-4abcb33b87bcf4d12d14dd7a5b6ac4a7"
       },
       "datasets": {
        "data-4abcb33b87bcf4d12d14dd7a5b6ac4a7": [
         {
          "year_of_publication": 2022
         },
         {
          "year_of_publication": 2022
         },
         {
          "year_of_publication": 2022
         },
         {
          "year_of_publication": 2022
         },
         {
          "year_of_publication": 2022
         },
         {
          "year_of_publication": 2022
         },
         {
          "year_of_publication": 2022
         },
         {
          "year_of_publication": 2022
         },
         {
          "year_of_publication": 2022
         },
         {
          "year_of_publication": 2022
         },
         {
          "year_of_publication": 2022
         },
         {
          "year_of_publication": 2022
         },
         {
          "year_of_publication": 2022
         },
         {
          "year_of_publication": 2022
         },
         {
          "year_of_publication": 2022
         },
         {
          "year_of_publication": 2021
         },
         {
          "year_of_publication": 2021
         },
         {
          "year_of_publication": 2021
         },
         {
          "year_of_publication": 2021
         },
         {
          "year_of_publication": 2021
         },
         {
          "year_of_publication": 2021
         },
         {
          "year_of_publication": 2021
         },
         {
          "year_of_publication": 2021
         },
         {
          "year_of_publication": 2021
         },
         {
          "year_of_publication": 2020
         },
         {
          "year_of_publication": 2020
         },
         {
          "year_of_publication": 2020
         },
         {
          "year_of_publication": 2020
         },
         {
          "year_of_publication": 2020
         },
         {
          "year_of_publication": 2020
         },
         {
          "year_of_publication": 2020
         },
         {
          "year_of_publication": 2020
         },
         {
          "year_of_publication": 2020
         },
         {
          "year_of_publication": 2020
         },
         {
          "year_of_publication": 2020
         },
         {
          "year_of_publication": 2020
         },
         {
          "year_of_publication": 2020
         },
         {
          "year_of_publication": 2020
         },
         {
          "year_of_publication": 2020
         },
         {
          "year_of_publication": 2020
         },
         {
          "year_of_publication": 2020
         },
         {
          "year_of_publication": 2020
         },
         {
          "year_of_publication": 2019
         },
         {
          "year_of_publication": 2019
         },
         {
          "year_of_publication": 2019
         },
         {
          "year_of_publication": 2019
         },
         {
          "year_of_publication": 2019
         },
         {
          "year_of_publication": 2019
         },
         {
          "year_of_publication": 2019
         },
         {
          "year_of_publication": 2018
         },
         {
          "year_of_publication": 2018
         },
         {
          "year_of_publication": 2018
         },
         {
          "year_of_publication": 2018
         },
         {
          "year_of_publication": 2018
         },
         {
          "year_of_publication": 2018
         },
         {
          "year_of_publication": 2018
         },
         {
          "year_of_publication": 2018
         },
         {
          "year_of_publication": 2018
         },
         {
          "year_of_publication": 2018
         },
         {
          "year_of_publication": 2018
         },
         {
          "year_of_publication": 2018
         },
         {
          "year_of_publication": 2018
         },
         {
          "year_of_publication": 2018
         },
         {
          "year_of_publication": 2018
         },
         {
          "year_of_publication": 2018
         },
         {
          "year_of_publication": 2018
         },
         {
          "year_of_publication": 2018
         },
         {
          "year_of_publication": 2018
         },
         {
          "year_of_publication": 2018
         },
         {
          "year_of_publication": 2018
         },
         {
          "year_of_publication": 2018
         },
         {
          "year_of_publication": 2018
         },
         {
          "year_of_publication": 2018
         },
         {
          "year_of_publication": 2018
         },
         {
          "year_of_publication": 2018
         },
         {
          "year_of_publication": 2018
         },
         {
          "year_of_publication": 2018
         },
         {
          "year_of_publication": 2018
         },
         {
          "year_of_publication": 2018
         },
         {
          "year_of_publication": 2018
         },
         {
          "year_of_publication": 2018
         },
         {
          "year_of_publication": 2018
         },
         {
          "year_of_publication": 2018
         },
         {
          "year_of_publication": 2018
         },
         {
          "year_of_publication": 2018
         },
         {
          "year_of_publication": 2018
         },
         {
          "year_of_publication": 2018
         },
         {
          "year_of_publication": 2018
         },
         {
          "year_of_publication": 2018
         },
         {
          "year_of_publication": 2018
         },
         {
          "year_of_publication": 2018
         },
         {
          "year_of_publication": 2018
         },
         {
          "year_of_publication": 2018
         },
         {
          "year_of_publication": 2018
         },
         {
          "year_of_publication": 2018
         },
         {
          "year_of_publication": 2018
         },
         {
          "year_of_publication": 2018
         },
         {
          "year_of_publication": 2018
         },
         {
          "year_of_publication": 2018
         },
         {
          "year_of_publication": 2018
         },
         {
          "year_of_publication": 2018
         },
         {
          "year_of_publication": 2018
         },
         {
          "year_of_publication": 2018
         },
         {
          "year_of_publication": 2018
         },
         {
          "year_of_publication": 2018
         },
         {
          "year_of_publication": 2018
         },
         {
          "year_of_publication": 2018
         },
         {
          "year_of_publication": 2018
         },
         {
          "year_of_publication": 2018
         },
         {
          "year_of_publication": 2018
         },
         {
          "year_of_publication": 2018
         },
         {
          "year_of_publication": 2018
         },
         {
          "year_of_publication": 2018
         },
         {
          "year_of_publication": 2018
         },
         {
          "year_of_publication": 2018
         },
         {
          "year_of_publication": 2018
         },
         {
          "year_of_publication": 2018
         },
         {
          "year_of_publication": 2018
         },
         {
          "year_of_publication": 2018
         },
         {
          "year_of_publication": 2018
         },
         {
          "year_of_publication": 2018
         },
         {
          "year_of_publication": 2018
         },
         {
          "year_of_publication": 2018
         },
         {
          "year_of_publication": 2018
         },
         {
          "year_of_publication": 2018
         },
         {
          "year_of_publication": 2018
         },
         {
          "year_of_publication": 2018
         },
         {
          "year_of_publication": 2018
         },
         {
          "year_of_publication": 2018
         },
         {
          "year_of_publication": 2018
         },
         {
          "year_of_publication": 2018
         },
         {
          "year_of_publication": 2018
         },
         {
          "year_of_publication": 2018
         },
         {
          "year_of_publication": 2018
         },
         {
          "year_of_publication": 2018
         },
         {
          "year_of_publication": 2018
         },
         {
          "year_of_publication": 2018
         },
         {
          "year_of_publication": 2018
         },
         {
          "year_of_publication": 2018
         },
         {
          "year_of_publication": 2018
         },
         {
          "year_of_publication": 2018
         },
         {
          "year_of_publication": 2017
         },
         {
          "year_of_publication": 2017
         },
         {
          "year_of_publication": 2017
         },
         {
          "year_of_publication": 2017
         },
         {
          "year_of_publication": 2017
         },
         {
          "year_of_publication": 2017
         },
         {
          "year_of_publication": 2017
         },
         {
          "year_of_publication": 2017
         },
         {
          "year_of_publication": 2017
         },
         {
          "year_of_publication": 2017
         },
         {
          "year_of_publication": 2017
         },
         {
          "year_of_publication": 2017
         },
         {
          "year_of_publication": 2017
         },
         {
          "year_of_publication": 2017
         },
         {
          "year_of_publication": 2017
         },
         {
          "year_of_publication": 2017
         },
         {
          "year_of_publication": 2017
         },
         {
          "year_of_publication": 2017
         },
         {
          "year_of_publication": 2017
         },
         {
          "year_of_publication": 2017
         },
         {
          "year_of_publication": 2017
         },
         {
          "year_of_publication": 2017
         },
         {
          "year_of_publication": 2017
         },
         {
          "year_of_publication": 2017
         },
         {
          "year_of_publication": 2017
         },
         {
          "year_of_publication": 2017
         },
         {
          "year_of_publication": 2017
         },
         {
          "year_of_publication": 2017
         },
         {
          "year_of_publication": 2017
         },
         {
          "year_of_publication": 2017
         },
         {
          "year_of_publication": 2017
         },
         {
          "year_of_publication": 2017
         },
         {
          "year_of_publication": 2017
         },
         {
          "year_of_publication": 2017
         },
         {
          "year_of_publication": 2017
         },
         {
          "year_of_publication": 2017
         },
         {
          "year_of_publication": 2017
         },
         {
          "year_of_publication": 2017
         },
         {
          "year_of_publication": 2017
         },
         {
          "year_of_publication": 2017
         },
         {
          "year_of_publication": 2017
         },
         {
          "year_of_publication": 2017
         },
         {
          "year_of_publication": 2017
         },
         {
          "year_of_publication": 2017
         },
         {
          "year_of_publication": 2017
         },
         {
          "year_of_publication": 2017
         },
         {
          "year_of_publication": 2017
         },
         {
          "year_of_publication": 2017
         },
         {
          "year_of_publication": 2017
         },
         {
          "year_of_publication": 2017
         },
         {
          "year_of_publication": 2017
         },
         {
          "year_of_publication": 2017
         },
         {
          "year_of_publication": 2017
         },
         {
          "year_of_publication": 2017
         },
         {
          "year_of_publication": 2017
         },
         {
          "year_of_publication": 2017
         },
         {
          "year_of_publication": 2017
         },
         {
          "year_of_publication": 2017
         },
         {
          "year_of_publication": 2017
         },
         {
          "year_of_publication": 2017
         },
         {
          "year_of_publication": 2017
         },
         {
          "year_of_publication": 2017
         },
         {
          "year_of_publication": 2017
         },
         {
          "year_of_publication": 2017
         },
         {
          "year_of_publication": 2017
         },
         {
          "year_of_publication": 2017
         },
         {
          "year_of_publication": 2017
         },
         {
          "year_of_publication": 2017
         },
         {
          "year_of_publication": 2017
         },
         {
          "year_of_publication": 2017
         },
         {
          "year_of_publication": 2017
         },
         {
          "year_of_publication": 2017
         },
         {
          "year_of_publication": 2017
         },
         {
          "year_of_publication": 2017
         },
         {
          "year_of_publication": 2017
         },
         {
          "year_of_publication": 2017
         },
         {
          "year_of_publication": 2017
         },
         {
          "year_of_publication": 2017
         },
         {
          "year_of_publication": 2017
         },
         {
          "year_of_publication": 2017
         },
         {
          "year_of_publication": 2017
         },
         {
          "year_of_publication": 2017
         },
         {
          "year_of_publication": 2017
         },
         {
          "year_of_publication": 2017
         },
         {
          "year_of_publication": 2017
         },
         {
          "year_of_publication": 2017
         },
         {
          "year_of_publication": 2017
         },
         {
          "year_of_publication": 2017
         },
         {
          "year_of_publication": 2017
         },
         {
          "year_of_publication": 2017
         },
         {
          "year_of_publication": 2017
         },
         {
          "year_of_publication": 2017
         },
         {
          "year_of_publication": 2017
         },
         {
          "year_of_publication": 2017
         },
         {
          "year_of_publication": 2017
         },
         {
          "year_of_publication": 2017
         },
         {
          "year_of_publication": 2017
         },
         {
          "year_of_publication": 2017
         },
         {
          "year_of_publication": 2017
         },
         {
          "year_of_publication": 2017
         },
         {
          "year_of_publication": 2017
         },
         {
          "year_of_publication": 2017
         },
         {
          "year_of_publication": 2017
         },
         {
          "year_of_publication": 2017
         },
         {
          "year_of_publication": 2017
         },
         {
          "year_of_publication": 2017
         },
         {
          "year_of_publication": 2017
         },
         {
          "year_of_publication": 2017
         },
         {
          "year_of_publication": 2017
         },
         {
          "year_of_publication": 2017
         },
         {
          "year_of_publication": 2017
         },
         {
          "year_of_publication": 2017
         },
         {
          "year_of_publication": 2017
         },
         {
          "year_of_publication": 2017
         },
         {
          "year_of_publication": 2017
         },
         {
          "year_of_publication": 2017
         },
         {
          "year_of_publication": 2017
         },
         {
          "year_of_publication": 2017
         },
         {
          "year_of_publication": 2017
         },
         {
          "year_of_publication": 2017
         },
         {
          "year_of_publication": 2017
         },
         {
          "year_of_publication": 2017
         },
         {
          "year_of_publication": 2017
         },
         {
          "year_of_publication": 2017
         },
         {
          "year_of_publication": 2017
         },
         {
          "year_of_publication": 2017
         },
         {
          "year_of_publication": 2017
         },
         {
          "year_of_publication": 2017
         },
         {
          "year_of_publication": 2017
         },
         {
          "year_of_publication": 2017
         },
         {
          "year_of_publication": 2017
         },
         {
          "year_of_publication": 2017
         },
         {
          "year_of_publication": 2017
         },
         {
          "year_of_publication": 2017
         },
         {
          "year_of_publication": 2017
         },
         {
          "year_of_publication": 2017
         },
         {
          "year_of_publication": 2017
         },
         {
          "year_of_publication": 2017
         },
         {
          "year_of_publication": 2017
         },
         {
          "year_of_publication": 2017
         },
         {
          "year_of_publication": 2017
         },
         {
          "year_of_publication": 2017
         },
         {
          "year_of_publication": 2017
         },
         {
          "year_of_publication": 2017
         },
         {
          "year_of_publication": 2017
         },
         {
          "year_of_publication": 2017
         },
         {
          "year_of_publication": 2017
         },
         {
          "year_of_publication": 2017
         },
         {
          "year_of_publication": 2017
         },
         {
          "year_of_publication": 2017
         },
         {
          "year_of_publication": 2017
         },
         {
          "year_of_publication": 2017
         },
         {
          "year_of_publication": 2017
         },
         {
          "year_of_publication": 2017
         },
         {
          "year_of_publication": 2017
         },
         {
          "year_of_publication": 2017
         },
         {
          "year_of_publication": 2017
         },
         {
          "year_of_publication": 2017
         },
         {
          "year_of_publication": 2017
         },
         {
          "year_of_publication": 2017
         },
         {
          "year_of_publication": 2017
         },
         {
          "year_of_publication": 2017
         },
         {
          "year_of_publication": 2017
         },
         {
          "year_of_publication": 2017
         },
         {
          "year_of_publication": 2017
         },
         {
          "year_of_publication": 2017
         },
         {
          "year_of_publication": 2017
         },
         {
          "year_of_publication": 2017
         },
         {
          "year_of_publication": 2017
         },
         {
          "year_of_publication": 2017
         },
         {
          "year_of_publication": 2017
         },
         {
          "year_of_publication": 2017
         },
         {
          "year_of_publication": 2017
         },
         {
          "year_of_publication": 2017
         },
         {
          "year_of_publication": 2017
         },
         {
          "year_of_publication": 2017
         },
         {
          "year_of_publication": 2017
         },
         {
          "year_of_publication": 2017
         },
         {
          "year_of_publication": 2017
         },
         {
          "year_of_publication": 2017
         },
         {
          "year_of_publication": 2017
         },
         {
          "year_of_publication": 2017
         },
         {
          "year_of_publication": 2017
         },
         {
          "year_of_publication": 2017
         },
         {
          "year_of_publication": 2017
         },
         {
          "year_of_publication": 2017
         },
         {
          "year_of_publication": 2017
         },
         {
          "year_of_publication": 2017
         },
         {
          "year_of_publication": 2017
         },
         {
          "year_of_publication": 2017
         },
         {
          "year_of_publication": 2017
         },
         {
          "year_of_publication": 2017
         },
         {
          "year_of_publication": 2017
         },
         {
          "year_of_publication": 2017
         },
         {
          "year_of_publication": 2017
         },
         {
          "year_of_publication": 2017
         },
         {
          "year_of_publication": 2017
         },
         {
          "year_of_publication": 2017
         },
         {
          "year_of_publication": 2017
         },
         {
          "year_of_publication": 2017
         },
         {
          "year_of_publication": 2017
         },
         {
          "year_of_publication": 2017
         },
         {
          "year_of_publication": 2017
         },
         {
          "year_of_publication": 2017
         },
         {
          "year_of_publication": 2017
         },
         {
          "year_of_publication": 2017
         },
         {
          "year_of_publication": 2017
         },
         {
          "year_of_publication": 2017
         },
         {
          "year_of_publication": 2017
         },
         {
          "year_of_publication": 2017
         },
         {
          "year_of_publication": 2017
         },
         {
          "year_of_publication": 2017
         },
         {
          "year_of_publication": 2017
         },
         {
          "year_of_publication": 2017
         },
         {
          "year_of_publication": 2017
         },
         {
          "year_of_publication": 2017
         },
         {
          "year_of_publication": 2017
         },
         {
          "year_of_publication": 2017
         },
         {
          "year_of_publication": 2017
         },
         {
          "year_of_publication": 2017
         },
         {
          "year_of_publication": 2017
         },
         {
          "year_of_publication": 2017
         },
         {
          "year_of_publication": 2017
         },
         {
          "year_of_publication": 2017
         },
         {
          "year_of_publication": 2017
         },
         {
          "year_of_publication": 2017
         },
         {
          "year_of_publication": 2017
         },
         {
          "year_of_publication": 2017
         },
         {
          "year_of_publication": 2017
         },
         {
          "year_of_publication": 2017
         },
         {
          "year_of_publication": 2017
         },
         {
          "year_of_publication": 2017
         },
         {
          "year_of_publication": 2017
         },
         {
          "year_of_publication": 2017
         },
         {
          "year_of_publication": 2017
         },
         {
          "year_of_publication": 2017
         },
         {
          "year_of_publication": 2017
         },
         {
          "year_of_publication": 2017
         },
         {
          "year_of_publication": 2017
         },
         {
          "year_of_publication": 2017
         },
         {
          "year_of_publication": 2017
         },
         {
          "year_of_publication": 2017
         },
         {
          "year_of_publication": 2017
         },
         {
          "year_of_publication": 2017
         },
         {
          "year_of_publication": 2017
         },
         {
          "year_of_publication": 2017
         },
         {
          "year_of_publication": 2017
         },
         {
          "year_of_publication": 2017
         },
         {
          "year_of_publication": 2017
         },
         {
          "year_of_publication": 2017
         },
         {
          "year_of_publication": 2017
         },
         {
          "year_of_publication": 2017
         },
         {
          "year_of_publication": 2017
         },
         {
          "year_of_publication": 2017
         },
         {
          "year_of_publication": 2017
         },
         {
          "year_of_publication": 2017
         },
         {
          "year_of_publication": 2017
         },
         {
          "year_of_publication": 2017
         },
         {
          "year_of_publication": 2017
         },
         {
          "year_of_publication": 2017
         },
         {
          "year_of_publication": 2017
         },
         {
          "year_of_publication": 2017
         },
         {
          "year_of_publication": 2017
         },
         {
          "year_of_publication": 2017
         },
         {
          "year_of_publication": 2017
         },
         {
          "year_of_publication": 2017
         },
         {
          "year_of_publication": 2017
         },
         {
          "year_of_publication": 2017
         },
         {
          "year_of_publication": 2017
         },
         {
          "year_of_publication": 2017
         },
         {
          "year_of_publication": 2017
         },
         {
          "year_of_publication": 2017
         },
         {
          "year_of_publication": 2017
         },
         {
          "year_of_publication": 2017
         },
         {
          "year_of_publication": 2017
         },
         {
          "year_of_publication": 2017
         },
         {
          "year_of_publication": 2017
         },
         {
          "year_of_publication": 2017
         },
         {
          "year_of_publication": 2017
         },
         {
          "year_of_publication": 2017
         },
         {
          "year_of_publication": 2017
         },
         {
          "year_of_publication": 2017
         },
         {
          "year_of_publication": 2017
         },
         {
          "year_of_publication": 2017
         },
         {
          "year_of_publication": 2017
         },
         {
          "year_of_publication": 2017
         },
         {
          "year_of_publication": 2017
         },
         {
          "year_of_publication": 2017
         },
         {
          "year_of_publication": 2017
         },
         {
          "year_of_publication": 2017
         },
         {
          "year_of_publication": 2017
         },
         {
          "year_of_publication": 2017
         },
         {
          "year_of_publication": 2017
         },
         {
          "year_of_publication": 2017
         },
         {
          "year_of_publication": 2017
         },
         {
          "year_of_publication": 2017
         },
         {
          "year_of_publication": 2017
         },
         {
          "year_of_publication": 2017
         },
         {
          "year_of_publication": 2017
         },
         {
          "year_of_publication": 2017
         },
         {
          "year_of_publication": 2017
         },
         {
          "year_of_publication": 2017
         },
         {
          "year_of_publication": 2017
         },
         {
          "year_of_publication": 2017
         },
         {
          "year_of_publication": 2017
         },
         {
          "year_of_publication": 2017
         },
         {
          "year_of_publication": 2017
         },
         {
          "year_of_publication": 2017
         },
         {
          "year_of_publication": 2017
         },
         {
          "year_of_publication": 2017
         },
         {
          "year_of_publication": 2017
         },
         {
          "year_of_publication": 2017
         },
         {
          "year_of_publication": 2017
         },
         {
          "year_of_publication": 2017
         },
         {
          "year_of_publication": 2017
         },
         {
          "year_of_publication": 2017
         },
         {
          "year_of_publication": 2017
         },
         {
          "year_of_publication": 2017
         },
         {
          "year_of_publication": 2017
         },
         {
          "year_of_publication": 2017
         },
         {
          "year_of_publication": 2017
         },
         {
          "year_of_publication": 2017
         },
         {
          "year_of_publication": 2017
         },
         {
          "year_of_publication": 2017
         },
         {
          "year_of_publication": 2017
         },
         {
          "year_of_publication": 2017
         },
         {
          "year_of_publication": 2017
         },
         {
          "year_of_publication": 2017
         },
         {
          "year_of_publication": 2017
         },
         {
          "year_of_publication": 2017
         },
         {
          "year_of_publication": 2017
         },
         {
          "year_of_publication": 2017
         },
         {
          "year_of_publication": 2017
         },
         {
          "year_of_publication": 2017
         },
         {
          "year_of_publication": 2017
         },
         {
          "year_of_publication": 2017
         },
         {
          "year_of_publication": 2017
         },
         {
          "year_of_publication": 2017
         },
         {
          "year_of_publication": 2017
         },
         {
          "year_of_publication": 2017
         },
         {
          "year_of_publication": 2017
         },
         {
          "year_of_publication": 2017
         },
         {
          "year_of_publication": 2017
         },
         {
          "year_of_publication": 2017
         },
         {
          "year_of_publication": 2017
         },
         {
          "year_of_publication": 2017
         },
         {
          "year_of_publication": 2017
         },
         {
          "year_of_publication": 2017
         },
         {
          "year_of_publication": 2017
         },
         {
          "year_of_publication": 2017
         },
         {
          "year_of_publication": 2017
         },
         {
          "year_of_publication": 2017
         },
         {
          "year_of_publication": 2017
         },
         {
          "year_of_publication": 2017
         },
         {
          "year_of_publication": 2017
         },
         {
          "year_of_publication": 2017
         },
         {
          "year_of_publication": 2017
         },
         {
          "year_of_publication": 2017
         },
         {
          "year_of_publication": 2017
         },
         {
          "year_of_publication": 2017
         },
         {
          "year_of_publication": 2017
         },
         {
          "year_of_publication": 2017
         },
         {
          "year_of_publication": 2017
         },
         {
          "year_of_publication": 2017
         },
         {
          "year_of_publication": 2017
         },
         {
          "year_of_publication": 2017
         },
         {
          "year_of_publication": 2017
         },
         {
          "year_of_publication": 2017
         },
         {
          "year_of_publication": 2017
         },
         {
          "year_of_publication": 2017
         },
         {
          "year_of_publication": 2017
         },
         {
          "year_of_publication": 2017
         },
         {
          "year_of_publication": 2017
         },
         {
          "year_of_publication": 2017
         },
         {
          "year_of_publication": 2017
         },
         {
          "year_of_publication": 2017
         },
         {
          "year_of_publication": 2017
         },
         {
          "year_of_publication": 2017
         },
         {
          "year_of_publication": 2017
         },
         {
          "year_of_publication": 2017
         },
         {
          "year_of_publication": 2017
         },
         {
          "year_of_publication": 2017
         },
         {
          "year_of_publication": 2017
         },
         {
          "year_of_publication": 2017
         },
         {
          "year_of_publication": 2017
         },
         {
          "year_of_publication": 2017
         },
         {
          "year_of_publication": 2017
         },
         {
          "year_of_publication": 2017
         },
         {
          "year_of_publication": 2017
         },
         {
          "year_of_publication": 2017
         },
         {
          "year_of_publication": 2017
         },
         {
          "year_of_publication": 2017
         },
         {
          "year_of_publication": 2017
         },
         {
          "year_of_publication": 2017
         },
         {
          "year_of_publication": 2017
         },
         {
          "year_of_publication": 2017
         },
         {
          "year_of_publication": 2017
         },
         {
          "year_of_publication": 2017
         },
         {
          "year_of_publication": 2017
         },
         {
          "year_of_publication": 2017
         },
         {
          "year_of_publication": 2017
         },
         {
          "year_of_publication": 2017
         },
         {
          "year_of_publication": 2017
         },
         {
          "year_of_publication": 2017
         },
         {
          "year_of_publication": 2017
         },
         {
          "year_of_publication": 2017
         },
         {
          "year_of_publication": 2016
         },
         {
          "year_of_publication": 2016
         },
         {
          "year_of_publication": 2016
         },
         {
          "year_of_publication": 2016
         },
         {
          "year_of_publication": 2016
         },
         {
          "year_of_publication": 2016
         },
         {
          "year_of_publication": 2016
         },
         {
          "year_of_publication": 2016
         },
         {
          "year_of_publication": 2016
         },
         {
          "year_of_publication": 2016
         },
         {
          "year_of_publication": 2016
         },
         {
          "year_of_publication": 2016
         },
         {
          "year_of_publication": 2016
         },
         {
          "year_of_publication": 2016
         },
         {
          "year_of_publication": 2016
         },
         {
          "year_of_publication": 2016
         },
         {
          "year_of_publication": 2016
         },
         {
          "year_of_publication": 2016
         },
         {
          "year_of_publication": 2016
         },
         {
          "year_of_publication": 2016
         },
         {
          "year_of_publication": 2016
         },
         {
          "year_of_publication": 2016
         },
         {
          "year_of_publication": 2016
         },
         {
          "year_of_publication": 2016
         },
         {
          "year_of_publication": 2016
         },
         {
          "year_of_publication": 2016
         },
         {
          "year_of_publication": 2016
         },
         {
          "year_of_publication": 2016
         },
         {
          "year_of_publication": 2016
         },
         {
          "year_of_publication": 2016
         },
         {
          "year_of_publication": 2016
         },
         {
          "year_of_publication": 2016
         },
         {
          "year_of_publication": 2016
         },
         {
          "year_of_publication": 2016
         },
         {
          "year_of_publication": 2016
         },
         {
          "year_of_publication": 2016
         },
         {
          "year_of_publication": 2016
         },
         {
          "year_of_publication": 2016
         },
         {
          "year_of_publication": 2016
         },
         {
          "year_of_publication": 2016
         },
         {
          "year_of_publication": 2016
         },
         {
          "year_of_publication": 2016
         },
         {
          "year_of_publication": 2016
         },
         {
          "year_of_publication": 2016
         },
         {
          "year_of_publication": 2016
         },
         {
          "year_of_publication": 2016
         },
         {
          "year_of_publication": 2016
         },
         {
          "year_of_publication": 2016
         },
         {
          "year_of_publication": 2016
         },
         {
          "year_of_publication": 2016
         },
         {
          "year_of_publication": 2016
         },
         {
          "year_of_publication": 2016
         },
         {
          "year_of_publication": 2016
         },
         {
          "year_of_publication": 2016
         },
         {
          "year_of_publication": 2016
         },
         {
          "year_of_publication": 2016
         },
         {
          "year_of_publication": 2016
         },
         {
          "year_of_publication": 2016
         },
         {
          "year_of_publication": 2016
         },
         {
          "year_of_publication": 2016
         },
         {
          "year_of_publication": 2016
         },
         {
          "year_of_publication": 2016
         },
         {
          "year_of_publication": 2016
         },
         {
          "year_of_publication": 2016
         },
         {
          "year_of_publication": 2016
         },
         {
          "year_of_publication": 2016
         },
         {
          "year_of_publication": 2016
         },
         {
          "year_of_publication": 2016
         },
         {
          "year_of_publication": 2016
         },
         {
          "year_of_publication": 2016
         },
         {
          "year_of_publication": 2016
         },
         {
          "year_of_publication": 2016
         },
         {
          "year_of_publication": 2016
         },
         {
          "year_of_publication": 2016
         },
         {
          "year_of_publication": 2016
         },
         {
          "year_of_publication": 2016
         },
         {
          "year_of_publication": 2016
         },
         {
          "year_of_publication": 2016
         },
         {
          "year_of_publication": 2016
         },
         {
          "year_of_publication": 2016
         },
         {
          "year_of_publication": 2016
         },
         {
          "year_of_publication": 2016
         },
         {
          "year_of_publication": 2016
         },
         {
          "year_of_publication": 2016
         },
         {
          "year_of_publication": 2016
         },
         {
          "year_of_publication": 2016
         },
         {
          "year_of_publication": 2016
         },
         {
          "year_of_publication": 2016
         },
         {
          "year_of_publication": 2016
         },
         {
          "year_of_publication": 2016
         },
         {
          "year_of_publication": 2016
         },
         {
          "year_of_publication": 2016
         },
         {
          "year_of_publication": 2016
         },
         {
          "year_of_publication": 2016
         },
         {
          "year_of_publication": 2016
         },
         {
          "year_of_publication": 2016
         },
         {
          "year_of_publication": 2016
         },
         {
          "year_of_publication": 2016
         },
         {
          "year_of_publication": 2016
         },
         {
          "year_of_publication": 2016
         },
         {
          "year_of_publication": 2016
         },
         {
          "year_of_publication": 2016
         },
         {
          "year_of_publication": 2016
         },
         {
          "year_of_publication": 2016
         },
         {
          "year_of_publication": 2016
         },
         {
          "year_of_publication": 2016
         },
         {
          "year_of_publication": 2016
         },
         {
          "year_of_publication": 2016
         },
         {
          "year_of_publication": 2016
         },
         {
          "year_of_publication": 2016
         },
         {
          "year_of_publication": 2016
         },
         {
          "year_of_publication": 2016
         },
         {
          "year_of_publication": 2016
         },
         {
          "year_of_publication": 2016
         },
         {
          "year_of_publication": 2016
         },
         {
          "year_of_publication": 2016
         },
         {
          "year_of_publication": 2016
         },
         {
          "year_of_publication": 2016
         },
         {
          "year_of_publication": 2016
         },
         {
          "year_of_publication": 2016
         },
         {
          "year_of_publication": 2016
         },
         {
          "year_of_publication": 2016
         },
         {
          "year_of_publication": 2016
         },
         {
          "year_of_publication": 2016
         },
         {
          "year_of_publication": 2016
         },
         {
          "year_of_publication": 2016
         },
         {
          "year_of_publication": 2016
         },
         {
          "year_of_publication": 2016
         },
         {
          "year_of_publication": 2016
         },
         {
          "year_of_publication": 2016
         },
         {
          "year_of_publication": 2016
         },
         {
          "year_of_publication": 2016
         },
         {
          "year_of_publication": 2016
         },
         {
          "year_of_publication": 2016
         },
         {
          "year_of_publication": 2016
         },
         {
          "year_of_publication": 2016
         },
         {
          "year_of_publication": 2016
         },
         {
          "year_of_publication": 2016
         },
         {
          "year_of_publication": 2016
         },
         {
          "year_of_publication": 2016
         },
         {
          "year_of_publication": 2016
         },
         {
          "year_of_publication": 2016
         },
         {
          "year_of_publication": 2016
         },
         {
          "year_of_publication": 2016
         },
         {
          "year_of_publication": 2016
         },
         {
          "year_of_publication": 2016
         },
         {
          "year_of_publication": 2016
         },
         {
          "year_of_publication": 2016
         },
         {
          "year_of_publication": 2016
         },
         {
          "year_of_publication": 2016
         },
         {
          "year_of_publication": 2016
         },
         {
          "year_of_publication": 2016
         },
         {
          "year_of_publication": 2016
         },
         {
          "year_of_publication": 2016
         },
         {
          "year_of_publication": 2016
         },
         {
          "year_of_publication": 2016
         },
         {
          "year_of_publication": 2016
         },
         {
          "year_of_publication": 2016
         },
         {
          "year_of_publication": 2016
         },
         {
          "year_of_publication": 2016
         },
         {
          "year_of_publication": 2016
         },
         {
          "year_of_publication": 2016
         },
         {
          "year_of_publication": 2016
         },
         {
          "year_of_publication": 2016
         },
         {
          "year_of_publication": 2016
         },
         {
          "year_of_publication": 2016
         },
         {
          "year_of_publication": 2016
         },
         {
          "year_of_publication": 2016
         },
         {
          "year_of_publication": 2016
         },
         {
          "year_of_publication": 2016
         },
         {
          "year_of_publication": 2016
         },
         {
          "year_of_publication": 2016
         },
         {
          "year_of_publication": 2016
         },
         {
          "year_of_publication": 2016
         },
         {
          "year_of_publication": 2016
         },
         {
          "year_of_publication": 2016
         },
         {
          "year_of_publication": 2016
         },
         {
          "year_of_publication": 2016
         },
         {
          "year_of_publication": 2016
         },
         {
          "year_of_publication": 2016
         },
         {
          "year_of_publication": 2016
         },
         {
          "year_of_publication": 2016
         },
         {
          "year_of_publication": 2016
         },
         {
          "year_of_publication": 2016
         },
         {
          "year_of_publication": 2016
         },
         {
          "year_of_publication": 2016
         },
         {
          "year_of_publication": 2016
         },
         {
          "year_of_publication": 2016
         },
         {
          "year_of_publication": 2016
         },
         {
          "year_of_publication": 2016
         },
         {
          "year_of_publication": 2016
         },
         {
          "year_of_publication": 2016
         },
         {
          "year_of_publication": 2016
         },
         {
          "year_of_publication": 2016
         },
         {
          "year_of_publication": 2016
         },
         {
          "year_of_publication": 2016
         },
         {
          "year_of_publication": 2016
         },
         {
          "year_of_publication": 2016
         },
         {
          "year_of_publication": 2016
         },
         {
          "year_of_publication": 2016
         },
         {
          "year_of_publication": 2016
         },
         {
          "year_of_publication": 2016
         },
         {
          "year_of_publication": 2016
         },
         {
          "year_of_publication": 2016
         },
         {
          "year_of_publication": 2016
         },
         {
          "year_of_publication": 2016
         },
         {
          "year_of_publication": 2016
         },
         {
          "year_of_publication": 2016
         },
         {
          "year_of_publication": 2016
         },
         {
          "year_of_publication": 2016
         },
         {
          "year_of_publication": 2016
         },
         {
          "year_of_publication": 2016
         },
         {
          "year_of_publication": 2016
         },
         {
          "year_of_publication": 2016
         },
         {
          "year_of_publication": 2016
         },
         {
          "year_of_publication": 2016
         },
         {
          "year_of_publication": 2016
         },
         {
          "year_of_publication": 2016
         },
         {
          "year_of_publication": 2016
         },
         {
          "year_of_publication": 2016
         },
         {
          "year_of_publication": 2016
         },
         {
          "year_of_publication": 2016
         },
         {
          "year_of_publication": 2016
         },
         {
          "year_of_publication": 2016
         },
         {
          "year_of_publication": 2016
         },
         {
          "year_of_publication": 2016
         },
         {
          "year_of_publication": 2016
         },
         {
          "year_of_publication": 2016
         },
         {
          "year_of_publication": 2016
         },
         {
          "year_of_publication": 2016
         },
         {
          "year_of_publication": 2016
         },
         {
          "year_of_publication": 2016
         },
         {
          "year_of_publication": 2016
         },
         {
          "year_of_publication": 2016
         },
         {
          "year_of_publication": 2016
         },
         {
          "year_of_publication": 2016
         },
         {
          "year_of_publication": 2016
         },
         {
          "year_of_publication": 2016
         },
         {
          "year_of_publication": 2016
         },
         {
          "year_of_publication": 2016
         },
         {
          "year_of_publication": 2016
         },
         {
          "year_of_publication": 2016
         },
         {
          "year_of_publication": 2016
         },
         {
          "year_of_publication": 2016
         },
         {
          "year_of_publication": 2016
         },
         {
          "year_of_publication": 2016
         },
         {
          "year_of_publication": 2016
         },
         {
          "year_of_publication": 2016
         },
         {
          "year_of_publication": 2016
         },
         {
          "year_of_publication": 2016
         },
         {
          "year_of_publication": 2016
         },
         {
          "year_of_publication": 2016
         },
         {
          "year_of_publication": 2016
         },
         {
          "year_of_publication": 2016
         },
         {
          "year_of_publication": 2016
         },
         {
          "year_of_publication": 2016
         },
         {
          "year_of_publication": 2016
         },
         {
          "year_of_publication": 2016
         },
         {
          "year_of_publication": 2016
         },
         {
          "year_of_publication": 2016
         },
         {
          "year_of_publication": 2016
         },
         {
          "year_of_publication": 2016
         },
         {
          "year_of_publication": 2016
         },
         {
          "year_of_publication": 2016
         },
         {
          "year_of_publication": 2016
         },
         {
          "year_of_publication": 2016
         },
         {
          "year_of_publication": 2016
         },
         {
          "year_of_publication": 2016
         },
         {
          "year_of_publication": 2016
         },
         {
          "year_of_publication": 2016
         },
         {
          "year_of_publication": 2016
         },
         {
          "year_of_publication": 2016
         },
         {
          "year_of_publication": 2016
         },
         {
          "year_of_publication": 2016
         },
         {
          "year_of_publication": 2016
         },
         {
          "year_of_publication": 2016
         },
         {
          "year_of_publication": 2016
         },
         {
          "year_of_publication": 2016
         },
         {
          "year_of_publication": 2016
         },
         {
          "year_of_publication": 2016
         },
         {
          "year_of_publication": 2016
         },
         {
          "year_of_publication": 2016
         },
         {
          "year_of_publication": 2016
         },
         {
          "year_of_publication": 2016
         },
         {
          "year_of_publication": 2016
         },
         {
          "year_of_publication": 2016
         },
         {
          "year_of_publication": 2016
         },
         {
          "year_of_publication": 2016
         },
         {
          "year_of_publication": 2016
         },
         {
          "year_of_publication": 2016
         },
         {
          "year_of_publication": 2016
         },
         {
          "year_of_publication": 2016
         },
         {
          "year_of_publication": 2016
         },
         {
          "year_of_publication": 2016
         },
         {
          "year_of_publication": 2016
         },
         {
          "year_of_publication": 2016
         },
         {
          "year_of_publication": 2016
         },
         {
          "year_of_publication": 2016
         },
         {
          "year_of_publication": 2016
         },
         {
          "year_of_publication": 2016
         },
         {
          "year_of_publication": 2016
         },
         {
          "year_of_publication": 2016
         },
         {
          "year_of_publication": 2016
         },
         {
          "year_of_publication": 2016
         },
         {
          "year_of_publication": 2016
         },
         {
          "year_of_publication": 2016
         },
         {
          "year_of_publication": 2016
         },
         {
          "year_of_publication": 2016
         },
         {
          "year_of_publication": 2016
         },
         {
          "year_of_publication": 2016
         },
         {
          "year_of_publication": 2016
         },
         {
          "year_of_publication": 2016
         },
         {
          "year_of_publication": 2016
         },
         {
          "year_of_publication": 2016
         },
         {
          "year_of_publication": 2016
         },
         {
          "year_of_publication": 2016
         },
         {
          "year_of_publication": 2016
         },
         {
          "year_of_publication": 2016
         },
         {
          "year_of_publication": 2016
         },
         {
          "year_of_publication": 2016
         },
         {
          "year_of_publication": 2016
         },
         {
          "year_of_publication": 2016
         },
         {
          "year_of_publication": 2016
         },
         {
          "year_of_publication": 2016
         },
         {
          "year_of_publication": 2016
         },
         {
          "year_of_publication": 2016
         },
         {
          "year_of_publication": 2016
         },
         {
          "year_of_publication": 2016
         },
         {
          "year_of_publication": 2016
         },
         {
          "year_of_publication": 2016
         },
         {
          "year_of_publication": 2016
         },
         {
          "year_of_publication": 2016
         },
         {
          "year_of_publication": 2016
         },
         {
          "year_of_publication": 2016
         },
         {
          "year_of_publication": 2016
         },
         {
          "year_of_publication": 2016
         },
         {
          "year_of_publication": 2016
         },
         {
          "year_of_publication": 2016
         },
         {
          "year_of_publication": 2016
         },
         {
          "year_of_publication": 2016
         },
         {
          "year_of_publication": 2016
         },
         {
          "year_of_publication": 2016
         },
         {
          "year_of_publication": 2016
         },
         {
          "year_of_publication": 2016
         },
         {
          "year_of_publication": 2016
         },
         {
          "year_of_publication": 2016
         },
         {
          "year_of_publication": 2016
         },
         {
          "year_of_publication": 2016
         },
         {
          "year_of_publication": 2016
         },
         {
          "year_of_publication": 2016
         },
         {
          "year_of_publication": 2016
         },
         {
          "year_of_publication": 2016
         },
         {
          "year_of_publication": 2016
         },
         {
          "year_of_publication": 2016
         },
         {
          "year_of_publication": 2016
         },
         {
          "year_of_publication": 2016
         },
         {
          "year_of_publication": 2016
         },
         {
          "year_of_publication": 2016
         },
         {
          "year_of_publication": 2016
         },
         {
          "year_of_publication": 2016
         },
         {
          "year_of_publication": 2016
         },
         {
          "year_of_publication": 2016
         },
         {
          "year_of_publication": 2016
         },
         {
          "year_of_publication": 2016
         },
         {
          "year_of_publication": 2016
         },
         {
          "year_of_publication": 2016
         },
         {
          "year_of_publication": 2016
         },
         {
          "year_of_publication": 2016
         },
         {
          "year_of_publication": 2016
         },
         {
          "year_of_publication": 2016
         },
         {
          "year_of_publication": 2016
         },
         {
          "year_of_publication": 2016
         },
         {
          "year_of_publication": 2016
         },
         {
          "year_of_publication": 2016
         },
         {
          "year_of_publication": 2016
         },
         {
          "year_of_publication": 2016
         },
         {
          "year_of_publication": 2016
         },
         {
          "year_of_publication": 2016
         },
         {
          "year_of_publication": 2016
         },
         {
          "year_of_publication": 2016
         },
         {
          "year_of_publication": 2016
         },
         {
          "year_of_publication": 2016
         },
         {
          "year_of_publication": 2016
         },
         {
          "year_of_publication": 2016
         },
         {
          "year_of_publication": 2016
         },
         {
          "year_of_publication": 2016
         },
         {
          "year_of_publication": 2016
         },
         {
          "year_of_publication": 2016
         },
         {
          "year_of_publication": 2016
         },
         {
          "year_of_publication": 2016
         },
         {
          "year_of_publication": 2016
         },
         {
          "year_of_publication": 2016
         },
         {
          "year_of_publication": 2016
         },
         {
          "year_of_publication": 2016
         },
         {
          "year_of_publication": 2016
         },
         {
          "year_of_publication": 2016
         },
         {
          "year_of_publication": 2016
         },
         {
          "year_of_publication": 2016
         },
         {
          "year_of_publication": 2016
         },
         {
          "year_of_publication": 2016
         },
         {
          "year_of_publication": 2016
         },
         {
          "year_of_publication": 2016
         },
         {
          "year_of_publication": 2016
         },
         {
          "year_of_publication": 2016
         },
         {
          "year_of_publication": 2016
         },
         {
          "year_of_publication": 2016
         },
         {
          "year_of_publication": 2016
         },
         {
          "year_of_publication": 2016
         },
         {
          "year_of_publication": 2016
         },
         {
          "year_of_publication": 2016
         },
         {
          "year_of_publication": 2016
         },
         {
          "year_of_publication": 2016
         },
         {
          "year_of_publication": 2016
         },
         {
          "year_of_publication": 2016
         },
         {
          "year_of_publication": 2016
         },
         {
          "year_of_publication": 2016
         },
         {
          "year_of_publication": 2016
         },
         {
          "year_of_publication": 2016
         },
         {
          "year_of_publication": 2016
         },
         {
          "year_of_publication": 2016
         },
         {
          "year_of_publication": 2016
         },
         {
          "year_of_publication": 2016
         },
         {
          "year_of_publication": 2016
         },
         {
          "year_of_publication": 2016
         },
         {
          "year_of_publication": 2016
         },
         {
          "year_of_publication": 2016
         },
         {
          "year_of_publication": 2016
         },
         {
          "year_of_publication": 2016
         },
         {
          "year_of_publication": 2016
         },
         {
          "year_of_publication": 2016
         },
         {
          "year_of_publication": 2016
         },
         {
          "year_of_publication": 2016
         },
         {
          "year_of_publication": 2016
         },
         {
          "year_of_publication": 2016
         },
         {
          "year_of_publication": 2016
         },
         {
          "year_of_publication": 2016
         },
         {
          "year_of_publication": 2016
         },
         {
          "year_of_publication": 2016
         },
         {
          "year_of_publication": 2016
         },
         {
          "year_of_publication": 2016
         },
         {
          "year_of_publication": 2016
         },
         {
          "year_of_publication": 2016
         },
         {
          "year_of_publication": 2016
         },
         {
          "year_of_publication": 2016
         },
         {
          "year_of_publication": 2016
         },
         {
          "year_of_publication": 2016
         },
         {
          "year_of_publication": 2016
         },
         {
          "year_of_publication": 2016
         },
         {
          "year_of_publication": 2016
         },
         {
          "year_of_publication": 2016
         },
         {
          "year_of_publication": 2016
         },
         {
          "year_of_publication": 2016
         },
         {
          "year_of_publication": 2016
         },
         {
          "year_of_publication": 2016
         },
         {
          "year_of_publication": 2016
         },
         {
          "year_of_publication": 2016
         },
         {
          "year_of_publication": 2016
         },
         {
          "year_of_publication": 2016
         },
         {
          "year_of_publication": 2016
         },
         {
          "year_of_publication": 2016
         },
         {
          "year_of_publication": 2016
         },
         {
          "year_of_publication": 2016
         },
         {
          "year_of_publication": 2016
         },
         {
          "year_of_publication": 2016
         },
         {
          "year_of_publication": 2016
         },
         {
          "year_of_publication": 2016
         },
         {
          "year_of_publication": 2016
         },
         {
          "year_of_publication": 2016
         },
         {
          "year_of_publication": 2016
         },
         {
          "year_of_publication": 2016
         },
         {
          "year_of_publication": 2016
         },
         {
          "year_of_publication": 2016
         },
         {
          "year_of_publication": 2016
         },
         {
          "year_of_publication": 2016
         },
         {
          "year_of_publication": 2016
         },
         {
          "year_of_publication": 2016
         },
         {
          "year_of_publication": 2016
         },
         {
          "year_of_publication": 2016
         },
         {
          "year_of_publication": 2016
         },
         {
          "year_of_publication": 2016
         },
         {
          "year_of_publication": 2016
         },
         {
          "year_of_publication": 2016
         },
         {
          "year_of_publication": 2016
         },
         {
          "year_of_publication": 2016
         },
         {
          "year_of_publication": 2016
         },
         {
          "year_of_publication": 2016
         },
         {
          "year_of_publication": 2016
         },
         {
          "year_of_publication": 2016
         },
         {
          "year_of_publication": 2016
         },
         {
          "year_of_publication": 2016
         },
         {
          "year_of_publication": 2016
         },
         {
          "year_of_publication": 2016
         },
         {
          "year_of_publication": 2016
         },
         {
          "year_of_publication": 2016
         },
         {
          "year_of_publication": 2016
         },
         {
          "year_of_publication": 2016
         },
         {
          "year_of_publication": 2016
         },
         {
          "year_of_publication": 2016
         },
         {
          "year_of_publication": 2016
         },
         {
          "year_of_publication": 2016
         },
         {
          "year_of_publication": 2016
         },
         {
          "year_of_publication": 2016
         },
         {
          "year_of_publication": 2016
         },
         {
          "year_of_publication": 2016
         },
         {
          "year_of_publication": 2016
         },
         {
          "year_of_publication": 2016
         },
         {
          "year_of_publication": 2016
         },
         {
          "year_of_publication": 2016
         },
         {
          "year_of_publication": 2016
         },
         {
          "year_of_publication": 2016
         },
         {
          "year_of_publication": 2016
         },
         {
          "year_of_publication": 2016
         },
         {
          "year_of_publication": 2016
         },
         {
          "year_of_publication": 2016
         },
         {
          "year_of_publication": 2016
         },
         {
          "year_of_publication": 2016
         },
         {
          "year_of_publication": 2016
         },
         {
          "year_of_publication": 2016
         },
         {
          "year_of_publication": 2016
         },
         {
          "year_of_publication": 2016
         },
         {
          "year_of_publication": 2016
         },
         {
          "year_of_publication": 2016
         },
         {
          "year_of_publication": 2016
         },
         {
          "year_of_publication": 2016
         },
         {
          "year_of_publication": 2016
         },
         {
          "year_of_publication": 2016
         },
         {
          "year_of_publication": 2016
         },
         {
          "year_of_publication": 2016
         },
         {
          "year_of_publication": 2016
         },
         {
          "year_of_publication": 2016
         },
         {
          "year_of_publication": 2016
         },
         {
          "year_of_publication": 2016
         },
         {
          "year_of_publication": 2016
         },
         {
          "year_of_publication": 2016
         },
         {
          "year_of_publication": 2016
         },
         {
          "year_of_publication": 2016
         },
         {
          "year_of_publication": 2016
         },
         {
          "year_of_publication": 2016
         },
         {
          "year_of_publication": 2016
         },
         {
          "year_of_publication": 2016
         },
         {
          "year_of_publication": 2016
         },
         {
          "year_of_publication": 2016
         },
         {
          "year_of_publication": 2016
         },
         {
          "year_of_publication": 2016
         },
         {
          "year_of_publication": 2016
         },
         {
          "year_of_publication": 2016
         },
         {
          "year_of_publication": 2016
         },
         {
          "year_of_publication": 2016
         },
         {
          "year_of_publication": 2016
         },
         {
          "year_of_publication": 2016
         },
         {
          "year_of_publication": 2016
         },
         {
          "year_of_publication": 2016
         },
         {
          "year_of_publication": 2016
         },
         {
          "year_of_publication": 2016
         },
         {
          "year_of_publication": 2016
         },
         {
          "year_of_publication": 2016
         },
         {
          "year_of_publication": 2016
         },
         {
          "year_of_publication": 2016
         },
         {
          "year_of_publication": 2016
         },
         {
          "year_of_publication": 2016
         },
         {
          "year_of_publication": 2016
         },
         {
          "year_of_publication": 2016
         },
         {
          "year_of_publication": 2016
         },
         {
          "year_of_publication": 2016
         },
         {
          "year_of_publication": 2016
         },
         {
          "year_of_publication": 2016
         },
         {
          "year_of_publication": 2016
         },
         {
          "year_of_publication": 2016
         },
         {
          "year_of_publication": 2016
         },
         {
          "year_of_publication": 2016
         },
         {
          "year_of_publication": 2016
         },
         {
          "year_of_publication": 2016
         },
         {
          "year_of_publication": 2016
         },
         {
          "year_of_publication": 2016
         },
         {
          "year_of_publication": 2016
         },
         {
          "year_of_publication": 2016
         },
         {
          "year_of_publication": 2016
         },
         {
          "year_of_publication": 2016
         },
         {
          "year_of_publication": 2016
         },
         {
          "year_of_publication": 2016
         },
         {
          "year_of_publication": 2016
         },
         {
          "year_of_publication": 2016
         },
         {
          "year_of_publication": 2016
         },
         {
          "year_of_publication": 2016
         },
         {
          "year_of_publication": 2016
         },
         {
          "year_of_publication": 2016
         },
         {
          "year_of_publication": 2016
         },
         {
          "year_of_publication": 2016
         },
         {
          "year_of_publication": 2016
         },
         {
          "year_of_publication": 2016
         },
         {
          "year_of_publication": 2016
         },
         {
          "year_of_publication": 2016
         },
         {
          "year_of_publication": 2016
         },
         {
          "year_of_publication": 2016
         },
         {
          "year_of_publication": 2016
         },
         {
          "year_of_publication": 2016
         },
         {
          "year_of_publication": 2016
         },
         {
          "year_of_publication": 2016
         },
         {
          "year_of_publication": 2016
         },
         {
          "year_of_publication": 2016
         },
         {
          "year_of_publication": 2016
         },
         {
          "year_of_publication": 2016
         },
         {
          "year_of_publication": 2016
         },
         {
          "year_of_publication": 2016
         },
         {
          "year_of_publication": 2016
         },
         {
          "year_of_publication": 2016
         },
         {
          "year_of_publication": 2016
         },
         {
          "year_of_publication": 2016
         },
         {
          "year_of_publication": 2016
         },
         {
          "year_of_publication": 2016
         },
         {
          "year_of_publication": 2016
         },
         {
          "year_of_publication": 2016
         },
         {
          "year_of_publication": 2016
         },
         {
          "year_of_publication": 2016
         },
         {
          "year_of_publication": 2016
         },
         {
          "year_of_publication": 2016
         },
         {
          "year_of_publication": 2016
         },
         {
          "year_of_publication": 2016
         },
         {
          "year_of_publication": 2016
         },
         {
          "year_of_publication": 2016
         },
         {
          "year_of_publication": 2016
         },
         {
          "year_of_publication": 2016
         },
         {
          "year_of_publication": 2016
         },
         {
          "year_of_publication": 2016
         },
         {
          "year_of_publication": 2016
         },
         {
          "year_of_publication": 2016
         },
         {
          "year_of_publication": 2016
         },
         {
          "year_of_publication": 2016
         },
         {
          "year_of_publication": 2016
         },
         {
          "year_of_publication": 2016
         },
         {
          "year_of_publication": 2016
         },
         {
          "year_of_publication": 2016
         },
         {
          "year_of_publication": 2016
         },
         {
          "year_of_publication": 2016
         },
         {
          "year_of_publication": 2016
         },
         {
          "year_of_publication": 2016
         },
         {
          "year_of_publication": 2016
         },
         {
          "year_of_publication": 2016
         },
         {
          "year_of_publication": 2016
         },
         {
          "year_of_publication": 2016
         },
         {
          "year_of_publication": 2016
         },
         {
          "year_of_publication": 2016
         },
         {
          "year_of_publication": 2016
         },
         {
          "year_of_publication": 2016
         },
         {
          "year_of_publication": 2016
         },
         {
          "year_of_publication": 2016
         },
         {
          "year_of_publication": 2016
         },
         {
          "year_of_publication": 2016
         },
         {
          "year_of_publication": 2016
         },
         {
          "year_of_publication": 2016
         },
         {
          "year_of_publication": 2016
         },
         {
          "year_of_publication": 2016
         },
         {
          "year_of_publication": 2016
         },
         {
          "year_of_publication": 2016
         },
         {
          "year_of_publication": 2016
         },
         {
          "year_of_publication": 2016
         },
         {
          "year_of_publication": 2016
         },
         {
          "year_of_publication": 2016
         },
         {
          "year_of_publication": 2016
         },
         {
          "year_of_publication": 2016
         },
         {
          "year_of_publication": 2016
         },
         {
          "year_of_publication": 2016
         },
         {
          "year_of_publication": 2016
         },
         {
          "year_of_publication": 2016
         },
         {
          "year_of_publication": 2016
         },
         {
          "year_of_publication": 2016
         },
         {
          "year_of_publication": 2016
         },
         {
          "year_of_publication": 2016
         },
         {
          "year_of_publication": 2016
         },
         {
          "year_of_publication": 2016
         },
         {
          "year_of_publication": 2016
         },
         {
          "year_of_publication": 2016
         },
         {
          "year_of_publication": 2016
         },
         {
          "year_of_publication": 2016
         },
         {
          "year_of_publication": 2016
         },
         {
          "year_of_publication": 2016
         },
         {
          "year_of_publication": 2016
         },
         {
          "year_of_publication": 2016
         },
         {
          "year_of_publication": 2016
         },
         {
          "year_of_publication": 2016
         },
         {
          "year_of_publication": 2016
         },
         {
          "year_of_publication": 2016
         },
         {
          "year_of_publication": 2016
         },
         {
          "year_of_publication": 2016
         },
         {
          "year_of_publication": 2016
         },
         {
          "year_of_publication": 2016
         },
         {
          "year_of_publication": 2016
         },
         {
          "year_of_publication": 2016
         },
         {
          "year_of_publication": 2016
         },
         {
          "year_of_publication": 2016
         },
         {
          "year_of_publication": 2016
         },
         {
          "year_of_publication": 2016
         },
         {
          "year_of_publication": 2016
         },
         {
          "year_of_publication": 2016
         },
         {
          "year_of_publication": 2016
         },
         {
          "year_of_publication": 2016
         },
         {
          "year_of_publication": 2016
         },
         {
          "year_of_publication": 2016
         },
         {
          "year_of_publication": 2016
         },
         {
          "year_of_publication": 2016
         },
         {
          "year_of_publication": 2016
         },
         {
          "year_of_publication": 2016
         },
         {
          "year_of_publication": 2016
         },
         {
          "year_of_publication": 2016
         },
         {
          "year_of_publication": 2016
         },
         {
          "year_of_publication": 2016
         },
         {
          "year_of_publication": 2016
         },
         {
          "year_of_publication": 2016
         },
         {
          "year_of_publication": 2016
         },
         {
          "year_of_publication": 2016
         },
         {
          "year_of_publication": 2016
         },
         {
          "year_of_publication": 2016
         },
         {
          "year_of_publication": 2016
         },
         {
          "year_of_publication": 2016
         },
         {
          "year_of_publication": 2016
         },
         {
          "year_of_publication": 2016
         },
         {
          "year_of_publication": 2016
         },
         {
          "year_of_publication": 2016
         },
         {
          "year_of_publication": 2016
         },
         {
          "year_of_publication": 2016
         },
         {
          "year_of_publication": 2016
         },
         {
          "year_of_publication": 2016
         },
         {
          "year_of_publication": 2016
         },
         {
          "year_of_publication": 2016
         },
         {
          "year_of_publication": 2016
         },
         {
          "year_of_publication": 2016
         },
         {
          "year_of_publication": 2016
         },
         {
          "year_of_publication": 2016
         },
         {
          "year_of_publication": 2016
         },
         {
          "year_of_publication": 2016
         },
         {
          "year_of_publication": 2016
         },
         {
          "year_of_publication": 2016
         },
         {
          "year_of_publication": 2016
         },
         {
          "year_of_publication": 2016
         },
         {
          "year_of_publication": 2016
         },
         {
          "year_of_publication": 2016
         },
         {
          "year_of_publication": 2016
         },
         {
          "year_of_publication": 2016
         },
         {
          "year_of_publication": 2016
         },
         {
          "year_of_publication": 2016
         },
         {
          "year_of_publication": 2016
         },
         {
          "year_of_publication": 2016
         },
         {
          "year_of_publication": 2016
         },
         {
          "year_of_publication": 2016
         },
         {
          "year_of_publication": 2016
         },
         {
          "year_of_publication": 2016
         },
         {
          "year_of_publication": 2016
         },
         {
          "year_of_publication": 2016
         },
         {
          "year_of_publication": 2016
         },
         {
          "year_of_publication": 2016
         },
         {
          "year_of_publication": 2016
         },
         {
          "year_of_publication": 2016
         },
         {
          "year_of_publication": 2016
         },
         {
          "year_of_publication": 2016
         },
         {
          "year_of_publication": 2016
         },
         {
          "year_of_publication": 2016
         },
         {
          "year_of_publication": 2016
         },
         {
          "year_of_publication": 2016
         },
         {
          "year_of_publication": 2016
         },
         {
          "year_of_publication": 2016
         },
         {
          "year_of_publication": 2016
         },
         {
          "year_of_publication": 2016
         },
         {
          "year_of_publication": 2016
         },
         {
          "year_of_publication": 2016
         },
         {
          "year_of_publication": 2016
         },
         {
          "year_of_publication": 2016
         },
         {
          "year_of_publication": 2016
         },
         {
          "year_of_publication": 2016
         },
         {
          "year_of_publication": 2016
         },
         {
          "year_of_publication": 2016
         },
         {
          "year_of_publication": 2016
         },
         {
          "year_of_publication": 2016
         },
         {
          "year_of_publication": 2016
         },
         {
          "year_of_publication": 2016
         },
         {
          "year_of_publication": 2016
         },
         {
          "year_of_publication": 2016
         },
         {
          "year_of_publication": 2016
         },
         {
          "year_of_publication": 2016
         },
         {
          "year_of_publication": 2016
         },
         {
          "year_of_publication": 2016
         },
         {
          "year_of_publication": 2016
         },
         {
          "year_of_publication": 2016
         },
         {
          "year_of_publication": 2016
         },
         {
          "year_of_publication": 2016
         },
         {
          "year_of_publication": 2016
         },
         {
          "year_of_publication": 2016
         },
         {
          "year_of_publication": 2016
         },
         {
          "year_of_publication": 2016
         },
         {
          "year_of_publication": 2016
         },
         {
          "year_of_publication": 2016
         },
         {
          "year_of_publication": 2016
         },
         {
          "year_of_publication": 2016
         },
         {
          "year_of_publication": 2016
         },
         {
          "year_of_publication": 2016
         },
         {
          "year_of_publication": 2016
         },
         {
          "year_of_publication": 2016
         },
         {
          "year_of_publication": 2016
         },
         {
          "year_of_publication": 2016
         },
         {
          "year_of_publication": 2016
         },
         {
          "year_of_publication": 2016
         },
         {
          "year_of_publication": 2016
         },
         {
          "year_of_publication": 2016
         },
         {
          "year_of_publication": 2016
         },
         {
          "year_of_publication": 2016
         },
         {
          "year_of_publication": 2016
         },
         {
          "year_of_publication": 2016
         },
         {
          "year_of_publication": 2016
         },
         {
          "year_of_publication": 2016
         },
         {
          "year_of_publication": 2016
         },
         {
          "year_of_publication": 2016
         },
         {
          "year_of_publication": 2016
         },
         {
          "year_of_publication": 2016
         },
         {
          "year_of_publication": 2016
         },
         {
          "year_of_publication": 2016
         },
         {
          "year_of_publication": 2016
         },
         {
          "year_of_publication": 2016
         },
         {
          "year_of_publication": 2016
         },
         {
          "year_of_publication": 2016
         },
         {
          "year_of_publication": 2016
         },
         {
          "year_of_publication": 2016
         },
         {
          "year_of_publication": 2016
         },
         {
          "year_of_publication": 2016
         },
         {
          "year_of_publication": 2016
         },
         {
          "year_of_publication": 2016
         },
         {
          "year_of_publication": 2016
         },
         {
          "year_of_publication": 2016
         },
         {
          "year_of_publication": 2016
         },
         {
          "year_of_publication": 2016
         },
         {
          "year_of_publication": 2016
         },
         {
          "year_of_publication": 2016
         },
         {
          "year_of_publication": 2016
         },
         {
          "year_of_publication": 2016
         },
         {
          "year_of_publication": 2016
         },
         {
          "year_of_publication": 2016
         },
         {
          "year_of_publication": 2016
         },
         {
          "year_of_publication": 2016
         },
         {
          "year_of_publication": 2016
         },
         {
          "year_of_publication": 2016
         },
         {
          "year_of_publication": 2016
         },
         {
          "year_of_publication": 2016
         },
         {
          "year_of_publication": 2016
         },
         {
          "year_of_publication": 2016
         },
         {
          "year_of_publication": 2016
         },
         {
          "year_of_publication": 2016
         },
         {
          "year_of_publication": 2016
         },
         {
          "year_of_publication": 2016
         },
         {
          "year_of_publication": 2016
         },
         {
          "year_of_publication": 2016
         },
         {
          "year_of_publication": 2016
         },
         {
          "year_of_publication": 2016
         },
         {
          "year_of_publication": 2016
         },
         {
          "year_of_publication": 2016
         },
         {
          "year_of_publication": 2016
         },
         {
          "year_of_publication": 2016
         },
         {
          "year_of_publication": 2016
         },
         {
          "year_of_publication": 2016
         },
         {
          "year_of_publication": 2016
         },
         {
          "year_of_publication": 2016
         },
         {
          "year_of_publication": 2016
         },
         {
          "year_of_publication": 2016
         },
         {
          "year_of_publication": 2016
         },
         {
          "year_of_publication": 2016
         },
         {
          "year_of_publication": 2016
         },
         {
          "year_of_publication": 2016
         },
         {
          "year_of_publication": 2016
         },
         {
          "year_of_publication": 2016
         },
         {
          "year_of_publication": 2016
         },
         {
          "year_of_publication": 2016
         },
         {
          "year_of_publication": 2016
         },
         {
          "year_of_publication": 2016
         },
         {
          "year_of_publication": 2016
         },
         {
          "year_of_publication": 2016
         },
         {
          "year_of_publication": 2016
         },
         {
          "year_of_publication": 2016
         },
         {
          "year_of_publication": 2016
         },
         {
          "year_of_publication": 2016
         },
         {
          "year_of_publication": 2016
         },
         {
          "year_of_publication": 2016
         },
         {
          "year_of_publication": 2016
         },
         {
          "year_of_publication": 2016
         },
         {
          "year_of_publication": 2016
         },
         {
          "year_of_publication": 2016
         },
         {
          "year_of_publication": 2016
         },
         {
          "year_of_publication": 2016
         },
         {
          "year_of_publication": 2016
         },
         {
          "year_of_publication": 2016
         },
         {
          "year_of_publication": 2016
         },
         {
          "year_of_publication": 2016
         },
         {
          "year_of_publication": 2016
         },
         {
          "year_of_publication": 2016
         },
         {
          "year_of_publication": 2016
         },
         {
          "year_of_publication": 2016
         },
         {
          "year_of_publication": 2016
         },
         {
          "year_of_publication": 2016
         },
         {
          "year_of_publication": 2016
         },
         {
          "year_of_publication": 2016
         },
         {
          "year_of_publication": 2016
         },
         {
          "year_of_publication": 2016
         },
         {
          "year_of_publication": 2016
         },
         {
          "year_of_publication": 2016
         },
         {
          "year_of_publication": 2016
         },
         {
          "year_of_publication": 2016
         },
         {
          "year_of_publication": 2016
         },
         {
          "year_of_publication": 2016
         },
         {
          "year_of_publication": 2016
         },
         {
          "year_of_publication": 2016
         },
         {
          "year_of_publication": 2016
         },
         {
          "year_of_publication": 2016
         },
         {
          "year_of_publication": 2016
         },
         {
          "year_of_publication": 2016
         },
         {
          "year_of_publication": 2016
         },
         {
          "year_of_publication": 2016
         },
         {
          "year_of_publication": 2016
         },
         {
          "year_of_publication": 2016
         },
         {
          "year_of_publication": 2016
         },
         {
          "year_of_publication": 2016
         },
         {
          "year_of_publication": 2016
         },
         {
          "year_of_publication": 2016
         },
         {
          "year_of_publication": 2016
         },
         {
          "year_of_publication": 2016
         },
         {
          "year_of_publication": 2016
         },
         {
          "year_of_publication": 2016
         },
         {
          "year_of_publication": 2016
         },
         {
          "year_of_publication": 2016
         },
         {
          "year_of_publication": 2016
         },
         {
          "year_of_publication": 2016
         },
         {
          "year_of_publication": 2016
         },
         {
          "year_of_publication": 2016
         },
         {
          "year_of_publication": 2016
         },
         {
          "year_of_publication": 2016
         },
         {
          "year_of_publication": 2016
         },
         {
          "year_of_publication": 2016
         },
         {
          "year_of_publication": 2016
         },
         {
          "year_of_publication": 2016
         },
         {
          "year_of_publication": 2016
         },
         {
          "year_of_publication": 2016
         },
         {
          "year_of_publication": 2015
         },
         {
          "year_of_publication": 2015
         },
         {
          "year_of_publication": 2015
         },
         {
          "year_of_publication": 2015
         },
         {
          "year_of_publication": 2015
         },
         {
          "year_of_publication": 2015
         },
         {
          "year_of_publication": 2015
         },
         {
          "year_of_publication": 2015
         },
         {
          "year_of_publication": 2015
         },
         {
          "year_of_publication": 2015
         },
         {
          "year_of_publication": 2015
         },
         {
          "year_of_publication": 2015
         },
         {
          "year_of_publication": 2015
         },
         {
          "year_of_publication": 2015
         },
         {
          "year_of_publication": 2015
         },
         {
          "year_of_publication": 2015
         },
         {
          "year_of_publication": 2015
         },
         {
          "year_of_publication": 2015
         },
         {
          "year_of_publication": 2015
         },
         {
          "year_of_publication": 2015
         },
         {
          "year_of_publication": 2015
         },
         {
          "year_of_publication": 2015
         },
         {
          "year_of_publication": 2015
         },
         {
          "year_of_publication": 2015
         },
         {
          "year_of_publication": 2015
         },
         {
          "year_of_publication": 2015
         },
         {
          "year_of_publication": 2015
         },
         {
          "year_of_publication": 2015
         },
         {
          "year_of_publication": 2015
         },
         {
          "year_of_publication": 2015
         },
         {
          "year_of_publication": 2015
         },
         {
          "year_of_publication": 2015
         },
         {
          "year_of_publication": 2015
         },
         {
          "year_of_publication": 2015
         },
         {
          "year_of_publication": 2015
         },
         {
          "year_of_publication": 2015
         },
         {
          "year_of_publication": 2015
         },
         {
          "year_of_publication": 2015
         },
         {
          "year_of_publication": 2015
         },
         {
          "year_of_publication": 2015
         },
         {
          "year_of_publication": 2015
         },
         {
          "year_of_publication": 2015
         },
         {
          "year_of_publication": 2015
         },
         {
          "year_of_publication": 2015
         },
         {
          "year_of_publication": 2015
         },
         {
          "year_of_publication": 2015
         },
         {
          "year_of_publication": 2015
         },
         {
          "year_of_publication": 2015
         },
         {
          "year_of_publication": 2015
         },
         {
          "year_of_publication": 2015
         },
         {
          "year_of_publication": 2015
         },
         {
          "year_of_publication": 2015
         },
         {
          "year_of_publication": 2015
         },
         {
          "year_of_publication": 2015
         },
         {
          "year_of_publication": 2015
         },
         {
          "year_of_publication": 2015
         },
         {
          "year_of_publication": 2015
         },
         {
          "year_of_publication": 2015
         },
         {
          "year_of_publication": 2015
         },
         {
          "year_of_publication": 2015
         },
         {
          "year_of_publication": 2015
         },
         {
          "year_of_publication": 2015
         },
         {
          "year_of_publication": 2015
         },
         {
          "year_of_publication": 2015
         },
         {
          "year_of_publication": 2015
         },
         {
          "year_of_publication": 2015
         },
         {
          "year_of_publication": 2015
         },
         {
          "year_of_publication": 2015
         },
         {
          "year_of_publication": 2015
         },
         {
          "year_of_publication": 2015
         },
         {
          "year_of_publication": 2015
         },
         {
          "year_of_publication": 2015
         },
         {
          "year_of_publication": 2015
         },
         {
          "year_of_publication": 2015
         },
         {
          "year_of_publication": 2015
         },
         {
          "year_of_publication": 2015
         },
         {
          "year_of_publication": 2015
         },
         {
          "year_of_publication": 2015
         },
         {
          "year_of_publication": 2015
         },
         {
          "year_of_publication": 2015
         },
         {
          "year_of_publication": 2015
         },
         {
          "year_of_publication": 2015
         },
         {
          "year_of_publication": 2015
         },
         {
          "year_of_publication": 2015
         },
         {
          "year_of_publication": 2015
         },
         {
          "year_of_publication": 2015
         },
         {
          "year_of_publication": 2015
         },
         {
          "year_of_publication": 2015
         },
         {
          "year_of_publication": 2015
         },
         {
          "year_of_publication": 2015
         },
         {
          "year_of_publication": 2015
         },
         {
          "year_of_publication": 2015
         },
         {
          "year_of_publication": 2015
         },
         {
          "year_of_publication": 2015
         },
         {
          "year_of_publication": 2015
         },
         {
          "year_of_publication": 2015
         },
         {
          "year_of_publication": 2015
         },
         {
          "year_of_publication": 2015
         },
         {
          "year_of_publication": 2015
         },
         {
          "year_of_publication": 2015
         },
         {
          "year_of_publication": 2015
         },
         {
          "year_of_publication": 2015
         },
         {
          "year_of_publication": 2015
         },
         {
          "year_of_publication": 2015
         },
         {
          "year_of_publication": 2015
         },
         {
          "year_of_publication": 2015
         },
         {
          "year_of_publication": 2015
         },
         {
          "year_of_publication": 2015
         },
         {
          "year_of_publication": 2015
         },
         {
          "year_of_publication": 2015
         },
         {
          "year_of_publication": 2015
         },
         {
          "year_of_publication": 2015
         },
         {
          "year_of_publication": 2015
         },
         {
          "year_of_publication": 2015
         },
         {
          "year_of_publication": 2015
         },
         {
          "year_of_publication": 2015
         },
         {
          "year_of_publication": 2015
         },
         {
          "year_of_publication": 2015
         },
         {
          "year_of_publication": 2015
         },
         {
          "year_of_publication": 2015
         },
         {
          "year_of_publication": 2015
         },
         {
          "year_of_publication": 2015
         },
         {
          "year_of_publication": 2015
         },
         {
          "year_of_publication": 2015
         },
         {
          "year_of_publication": 2015
         },
         {
          "year_of_publication": 2015
         },
         {
          "year_of_publication": 2015
         },
         {
          "year_of_publication": 2015
         },
         {
          "year_of_publication": 2015
         },
         {
          "year_of_publication": 2015
         },
         {
          "year_of_publication": 2015
         },
         {
          "year_of_publication": 2015
         },
         {
          "year_of_publication": 2015
         },
         {
          "year_of_publication": 2015
         },
         {
          "year_of_publication": 2015
         },
         {
          "year_of_publication": 2015
         },
         {
          "year_of_publication": 2015
         },
         {
          "year_of_publication": 2015
         },
         {
          "year_of_publication": 2015
         },
         {
          "year_of_publication": 2015
         },
         {
          "year_of_publication": 2015
         },
         {
          "year_of_publication": 2015
         },
         {
          "year_of_publication": 2015
         },
         {
          "year_of_publication": 2015
         },
         {
          "year_of_publication": 2015
         },
         {
          "year_of_publication": 2015
         },
         {
          "year_of_publication": 2015
         },
         {
          "year_of_publication": 2015
         },
         {
          "year_of_publication": 2015
         },
         {
          "year_of_publication": 2015
         },
         {
          "year_of_publication": 2015
         },
         {
          "year_of_publication": 2015
         },
         {
          "year_of_publication": 2015
         },
         {
          "year_of_publication": 2015
         },
         {
          "year_of_publication": 2015
         },
         {
          "year_of_publication": 2015
         },
         {
          "year_of_publication": 2015
         },
         {
          "year_of_publication": 2015
         },
         {
          "year_of_publication": 2015
         },
         {
          "year_of_publication": 2015
         },
         {
          "year_of_publication": 2015
         },
         {
          "year_of_publication": 2015
         },
         {
          "year_of_publication": 2015
         },
         {
          "year_of_publication": 2015
         },
         {
          "year_of_publication": 2015
         },
         {
          "year_of_publication": 2015
         },
         {
          "year_of_publication": 2015
         },
         {
          "year_of_publication": 2015
         },
         {
          "year_of_publication": 2015
         },
         {
          "year_of_publication": 2015
         },
         {
          "year_of_publication": 2015
         },
         {
          "year_of_publication": 2015
         },
         {
          "year_of_publication": 2015
         },
         {
          "year_of_publication": 2015
         },
         {
          "year_of_publication": 2015
         },
         {
          "year_of_publication": 2015
         },
         {
          "year_of_publication": 2015
         },
         {
          "year_of_publication": 2015
         },
         {
          "year_of_publication": 2015
         },
         {
          "year_of_publication": 2015
         },
         {
          "year_of_publication": 2015
         },
         {
          "year_of_publication": 2015
         },
         {
          "year_of_publication": 2015
         },
         {
          "year_of_publication": 2015
         },
         {
          "year_of_publication": 2015
         },
         {
          "year_of_publication": 2015
         },
         {
          "year_of_publication": 2015
         },
         {
          "year_of_publication": 2015
         },
         {
          "year_of_publication": 2015
         },
         {
          "year_of_publication": 2015
         },
         {
          "year_of_publication": 2015
         },
         {
          "year_of_publication": 2015
         },
         {
          "year_of_publication": 2015
         },
         {
          "year_of_publication": 2015
         },
         {
          "year_of_publication": 2015
         },
         {
          "year_of_publication": 2015
         },
         {
          "year_of_publication": 2015
         },
         {
          "year_of_publication": 2015
         },
         {
          "year_of_publication": 2015
         },
         {
          "year_of_publication": 2015
         },
         {
          "year_of_publication": 2015
         },
         {
          "year_of_publication": 2015
         },
         {
          "year_of_publication": 2015
         },
         {
          "year_of_publication": 2015
         },
         {
          "year_of_publication": 2015
         },
         {
          "year_of_publication": 2015
         },
         {
          "year_of_publication": 2015
         },
         {
          "year_of_publication": 2015
         },
         {
          "year_of_publication": 2015
         },
         {
          "year_of_publication": 2015
         },
         {
          "year_of_publication": 2015
         },
         {
          "year_of_publication": 2015
         },
         {
          "year_of_publication": 2015
         },
         {
          "year_of_publication": 2015
         },
         {
          "year_of_publication": 2015
         },
         {
          "year_of_publication": 2015
         },
         {
          "year_of_publication": 2015
         },
         {
          "year_of_publication": 2015
         },
         {
          "year_of_publication": 2015
         },
         {
          "year_of_publication": 2015
         },
         {
          "year_of_publication": 2015
         },
         {
          "year_of_publication": 2015
         },
         {
          "year_of_publication": 2015
         },
         {
          "year_of_publication": 2015
         },
         {
          "year_of_publication": 2015
         },
         {
          "year_of_publication": 2015
         },
         {
          "year_of_publication": 2015
         },
         {
          "year_of_publication": 2015
         },
         {
          "year_of_publication": 2015
         },
         {
          "year_of_publication": 2015
         },
         {
          "year_of_publication": 2015
         },
         {
          "year_of_publication": 2015
         },
         {
          "year_of_publication": 2015
         },
         {
          "year_of_publication": 2015
         },
         {
          "year_of_publication": 2015
         },
         {
          "year_of_publication": 2015
         },
         {
          "year_of_publication": 2015
         },
         {
          "year_of_publication": 2015
         },
         {
          "year_of_publication": 2015
         },
         {
          "year_of_publication": 2015
         },
         {
          "year_of_publication": 2015
         },
         {
          "year_of_publication": 2015
         },
         {
          "year_of_publication": 2015
         },
         {
          "year_of_publication": 2015
         },
         {
          "year_of_publication": 2015
         },
         {
          "year_of_publication": 2015
         },
         {
          "year_of_publication": 2015
         },
         {
          "year_of_publication": 2015
         },
         {
          "year_of_publication": 2015
         },
         {
          "year_of_publication": 2015
         },
         {
          "year_of_publication": 2015
         },
         {
          "year_of_publication": 2015
         },
         {
          "year_of_publication": 2015
         },
         {
          "year_of_publication": 2015
         },
         {
          "year_of_publication": 2015
         },
         {
          "year_of_publication": 2015
         },
         {
          "year_of_publication": 2015
         },
         {
          "year_of_publication": 2015
         },
         {
          "year_of_publication": 2015
         },
         {
          "year_of_publication": 2015
         },
         {
          "year_of_publication": 2015
         },
         {
          "year_of_publication": 2015
         },
         {
          "year_of_publication": 2015
         },
         {
          "year_of_publication": 2015
         },
         {
          "year_of_publication": 2015
         },
         {
          "year_of_publication": 2015
         },
         {
          "year_of_publication": 2015
         },
         {
          "year_of_publication": 2015
         },
         {
          "year_of_publication": 2015
         },
         {
          "year_of_publication": 2015
         },
         {
          "year_of_publication": 2015
         },
         {
          "year_of_publication": 2015
         },
         {
          "year_of_publication": 2015
         },
         {
          "year_of_publication": 2015
         },
         {
          "year_of_publication": 2015
         },
         {
          "year_of_publication": 2015
         },
         {
          "year_of_publication": 2015
         },
         {
          "year_of_publication": 2015
         },
         {
          "year_of_publication": 2015
         },
         {
          "year_of_publication": 2015
         },
         {
          "year_of_publication": 2015
         },
         {
          "year_of_publication": 2015
         },
         {
          "year_of_publication": 2015
         },
         {
          "year_of_publication": 2015
         },
         {
          "year_of_publication": 2015
         },
         {
          "year_of_publication": 2015
         },
         {
          "year_of_publication": 2015
         },
         {
          "year_of_publication": 2015
         },
         {
          "year_of_publication": 2015
         },
         {
          "year_of_publication": 2015
         },
         {
          "year_of_publication": 2015
         },
         {
          "year_of_publication": 2015
         },
         {
          "year_of_publication": 2015
         },
         {
          "year_of_publication": 2015
         },
         {
          "year_of_publication": 2015
         },
         {
          "year_of_publication": 2015
         },
         {
          "year_of_publication": 2015
         },
         {
          "year_of_publication": 2015
         },
         {
          "year_of_publication": 2015
         },
         {
          "year_of_publication": 2015
         },
         {
          "year_of_publication": 2015
         },
         {
          "year_of_publication": 2015
         },
         {
          "year_of_publication": 2015
         },
         {
          "year_of_publication": 2015
         },
         {
          "year_of_publication": 2015
         },
         {
          "year_of_publication": 2015
         },
         {
          "year_of_publication": 2015
         },
         {
          "year_of_publication": 2015
         },
         {
          "year_of_publication": 2015
         },
         {
          "year_of_publication": 2015
         },
         {
          "year_of_publication": 2015
         },
         {
          "year_of_publication": 2015
         },
         {
          "year_of_publication": 2015
         },
         {
          "year_of_publication": 2015
         },
         {
          "year_of_publication": 2015
         },
         {
          "year_of_publication": 2015
         },
         {
          "year_of_publication": 2015
         },
         {
          "year_of_publication": 2015
         },
         {
          "year_of_publication": 2015
         },
         {
          "year_of_publication": 2015
         },
         {
          "year_of_publication": 2015
         },
         {
          "year_of_publication": 2015
         },
         {
          "year_of_publication": 2015
         },
         {
          "year_of_publication": 2015
         },
         {
          "year_of_publication": 2015
         },
         {
          "year_of_publication": 2015
         },
         {
          "year_of_publication": 2015
         },
         {
          "year_of_publication": 2015
         },
         {
          "year_of_publication": 2015
         },
         {
          "year_of_publication": 2015
         },
         {
          "year_of_publication": 2015
         },
         {
          "year_of_publication": 2015
         },
         {
          "year_of_publication": 2015
         },
         {
          "year_of_publication": 2015
         },
         {
          "year_of_publication": 2015
         },
         {
          "year_of_publication": 2015
         },
         {
          "year_of_publication": 2015
         },
         {
          "year_of_publication": 2015
         },
         {
          "year_of_publication": 2015
         },
         {
          "year_of_publication": 2015
         },
         {
          "year_of_publication": 2015
         },
         {
          "year_of_publication": 2015
         },
         {
          "year_of_publication": 2015
         },
         {
          "year_of_publication": 2015
         },
         {
          "year_of_publication": 2015
         },
         {
          "year_of_publication": 2015
         },
         {
          "year_of_publication": 2015
         },
         {
          "year_of_publication": 2015
         },
         {
          "year_of_publication": 2015
         },
         {
          "year_of_publication": 2015
         },
         {
          "year_of_publication": 2015
         },
         {
          "year_of_publication": 2015
         },
         {
          "year_of_publication": 2015
         },
         {
          "year_of_publication": 2015
         },
         {
          "year_of_publication": 2015
         },
         {
          "year_of_publication": 2015
         },
         {
          "year_of_publication": 2015
         },
         {
          "year_of_publication": 2015
         },
         {
          "year_of_publication": 2015
         },
         {
          "year_of_publication": 2015
         },
         {
          "year_of_publication": 2015
         },
         {
          "year_of_publication": 2015
         },
         {
          "year_of_publication": 2015
         },
         {
          "year_of_publication": 2015
         },
         {
          "year_of_publication": 2015
         },
         {
          "year_of_publication": 2015
         },
         {
          "year_of_publication": 2015
         },
         {
          "year_of_publication": 2015
         },
         {
          "year_of_publication": 2015
         },
         {
          "year_of_publication": 2015
         },
         {
          "year_of_publication": 2015
         },
         {
          "year_of_publication": 2015
         },
         {
          "year_of_publication": 2015
         },
         {
          "year_of_publication": 2015
         },
         {
          "year_of_publication": 2015
         },
         {
          "year_of_publication": 2015
         },
         {
          "year_of_publication": 2015
         },
         {
          "year_of_publication": 2015
         },
         {
          "year_of_publication": 2015
         },
         {
          "year_of_publication": 2015
         },
         {
          "year_of_publication": 2015
         },
         {
          "year_of_publication": 2015
         },
         {
          "year_of_publication": 2015
         },
         {
          "year_of_publication": 2015
         },
         {
          "year_of_publication": 2015
         },
         {
          "year_of_publication": 2015
         },
         {
          "year_of_publication": 2015
         },
         {
          "year_of_publication": 2015
         },
         {
          "year_of_publication": 2015
         },
         {
          "year_of_publication": 2015
         },
         {
          "year_of_publication": 2015
         },
         {
          "year_of_publication": 2015
         },
         {
          "year_of_publication": 2015
         },
         {
          "year_of_publication": 2015
         },
         {
          "year_of_publication": 2015
         },
         {
          "year_of_publication": 2015
         },
         {
          "year_of_publication": 2015
         },
         {
          "year_of_publication": 2015
         },
         {
          "year_of_publication": 2015
         },
         {
          "year_of_publication": 2015
         },
         {
          "year_of_publication": 2015
         },
         {
          "year_of_publication": 2015
         },
         {
          "year_of_publication": 2015
         },
         {
          "year_of_publication": 2015
         },
         {
          "year_of_publication": 2015
         },
         {
          "year_of_publication": 2015
         },
         {
          "year_of_publication": 2015
         },
         {
          "year_of_publication": 2015
         },
         {
          "year_of_publication": 2015
         },
         {
          "year_of_publication": 2015
         },
         {
          "year_of_publication": 2015
         },
         {
          "year_of_publication": 2015
         },
         {
          "year_of_publication": 2015
         },
         {
          "year_of_publication": 2015
         },
         {
          "year_of_publication": 2015
         },
         {
          "year_of_publication": 2015
         },
         {
          "year_of_publication": 2015
         },
         {
          "year_of_publication": 2015
         },
         {
          "year_of_publication": 2015
         },
         {
          "year_of_publication": 2015
         },
         {
          "year_of_publication": 2015
         },
         {
          "year_of_publication": 2015
         },
         {
          "year_of_publication": 2015
         },
         {
          "year_of_publication": 2015
         },
         {
          "year_of_publication": 2015
         },
         {
          "year_of_publication": 2015
         },
         {
          "year_of_publication": 2015
         },
         {
          "year_of_publication": 2015
         },
         {
          "year_of_publication": 2015
         },
         {
          "year_of_publication": 2015
         },
         {
          "year_of_publication": 2015
         },
         {
          "year_of_publication": 2015
         },
         {
          "year_of_publication": 2015
         },
         {
          "year_of_publication": 2015
         },
         {
          "year_of_publication": 2015
         },
         {
          "year_of_publication": 2015
         },
         {
          "year_of_publication": 2015
         },
         {
          "year_of_publication": 2015
         },
         {
          "year_of_publication": 2015
         },
         {
          "year_of_publication": 2015
         },
         {
          "year_of_publication": 2015
         },
         {
          "year_of_publication": 2015
         },
         {
          "year_of_publication": 2015
         },
         {
          "year_of_publication": 2015
         },
         {
          "year_of_publication": 2015
         },
         {
          "year_of_publication": 2015
         },
         {
          "year_of_publication": 2015
         },
         {
          "year_of_publication": 2015
         },
         {
          "year_of_publication": 2015
         },
         {
          "year_of_publication": 2015
         },
         {
          "year_of_publication": 2015
         },
         {
          "year_of_publication": 2015
         },
         {
          "year_of_publication": 2015
         },
         {
          "year_of_publication": 2015
         },
         {
          "year_of_publication": 2015
         },
         {
          "year_of_publication": 2015
         },
         {
          "year_of_publication": 2015
         },
         {
          "year_of_publication": 2015
         },
         {
          "year_of_publication": 2015
         },
         {
          "year_of_publication": 2015
         },
         {
          "year_of_publication": 2015
         },
         {
          "year_of_publication": 2015
         },
         {
          "year_of_publication": 2015
         },
         {
          "year_of_publication": 2015
         },
         {
          "year_of_publication": 2015
         },
         {
          "year_of_publication": 2015
         },
         {
          "year_of_publication": 2015
         },
         {
          "year_of_publication": 2015
         },
         {
          "year_of_publication": 2015
         },
         {
          "year_of_publication": 2015
         },
         {
          "year_of_publication": 2015
         },
         {
          "year_of_publication": 2015
         },
         {
          "year_of_publication": 2015
         },
         {
          "year_of_publication": 2015
         },
         {
          "year_of_publication": 2015
         },
         {
          "year_of_publication": 2015
         },
         {
          "year_of_publication": 2015
         },
         {
          "year_of_publication": 2015
         },
         {
          "year_of_publication": 2015
         },
         {
          "year_of_publication": 2015
         },
         {
          "year_of_publication": 2015
         },
         {
          "year_of_publication": 2015
         },
         {
          "year_of_publication": 2015
         },
         {
          "year_of_publication": 2015
         },
         {
          "year_of_publication": 2015
         },
         {
          "year_of_publication": 2015
         },
         {
          "year_of_publication": 2015
         },
         {
          "year_of_publication": 2015
         },
         {
          "year_of_publication": 2015
         },
         {
          "year_of_publication": 2015
         },
         {
          "year_of_publication": 2015
         },
         {
          "year_of_publication": 2015
         },
         {
          "year_of_publication": 2015
         },
         {
          "year_of_publication": 2015
         },
         {
          "year_of_publication": 2015
         },
         {
          "year_of_publication": 2015
         },
         {
          "year_of_publication": 2015
         },
         {
          "year_of_publication": 2015
         },
         {
          "year_of_publication": 2015
         },
         {
          "year_of_publication": 2015
         },
         {
          "year_of_publication": 2015
         },
         {
          "year_of_publication": 2015
         },
         {
          "year_of_publication": 2015
         },
         {
          "year_of_publication": 2015
         },
         {
          "year_of_publication": 2015
         },
         {
          "year_of_publication": 2015
         },
         {
          "year_of_publication": 2015
         },
         {
          "year_of_publication": 2015
         },
         {
          "year_of_publication": 2015
         },
         {
          "year_of_publication": 2015
         },
         {
          "year_of_publication": 2015
         },
         {
          "year_of_publication": 2015
         },
         {
          "year_of_publication": 2015
         },
         {
          "year_of_publication": 2015
         },
         {
          "year_of_publication": 2015
         },
         {
          "year_of_publication": 2015
         },
         {
          "year_of_publication": 2015
         },
         {
          "year_of_publication": 2015
         },
         {
          "year_of_publication": 2015
         },
         {
          "year_of_publication": 2015
         },
         {
          "year_of_publication": 2015
         },
         {
          "year_of_publication": 2015
         },
         {
          "year_of_publication": 2015
         },
         {
          "year_of_publication": 2015
         },
         {
          "year_of_publication": 2015
         },
         {
          "year_of_publication": 2015
         },
         {
          "year_of_publication": 2015
         },
         {
          "year_of_publication": 2015
         },
         {
          "year_of_publication": 2015
         },
         {
          "year_of_publication": 2015
         },
         {
          "year_of_publication": 2015
         },
         {
          "year_of_publication": 2015
         },
         {
          "year_of_publication": 2015
         },
         {
          "year_of_publication": 2015
         },
         {
          "year_of_publication": 2015
         },
         {
          "year_of_publication": 2015
         },
         {
          "year_of_publication": 2015
         },
         {
          "year_of_publication": 2015
         },
         {
          "year_of_publication": 2015
         },
         {
          "year_of_publication": 2015
         },
         {
          "year_of_publication": 2015
         },
         {
          "year_of_publication": 2015
         },
         {
          "year_of_publication": 2015
         },
         {
          "year_of_publication": 2015
         },
         {
          "year_of_publication": 2015
         },
         {
          "year_of_publication": 2015
         },
         {
          "year_of_publication": 2015
         },
         {
          "year_of_publication": 2015
         },
         {
          "year_of_publication": 2015
         },
         {
          "year_of_publication": 2015
         },
         {
          "year_of_publication": 2015
         },
         {
          "year_of_publication": 2015
         },
         {
          "year_of_publication": 2015
         },
         {
          "year_of_publication": 2015
         },
         {
          "year_of_publication": 2015
         },
         {
          "year_of_publication": 2015
         },
         {
          "year_of_publication": 2015
         },
         {
          "year_of_publication": 2015
         },
         {
          "year_of_publication": 2015
         },
         {
          "year_of_publication": 2015
         },
         {
          "year_of_publication": 2015
         },
         {
          "year_of_publication": 2015
         },
         {
          "year_of_publication": 2015
         },
         {
          "year_of_publication": 2015
         },
         {
          "year_of_publication": 2015
         },
         {
          "year_of_publication": 2015
         },
         {
          "year_of_publication": 2015
         },
         {
          "year_of_publication": 2015
         },
         {
          "year_of_publication": 2015
         },
         {
          "year_of_publication": 2015
         },
         {
          "year_of_publication": 2015
         },
         {
          "year_of_publication": 2015
         },
         {
          "year_of_publication": 2015
         },
         {
          "year_of_publication": 2015
         },
         {
          "year_of_publication": 2015
         },
         {
          "year_of_publication": 2015
         },
         {
          "year_of_publication": 2015
         },
         {
          "year_of_publication": 2015
         },
         {
          "year_of_publication": 2015
         },
         {
          "year_of_publication": 2015
         },
         {
          "year_of_publication": 2015
         },
         {
          "year_of_publication": 2015
         },
         {
          "year_of_publication": 2015
         },
         {
          "year_of_publication": 2015
         },
         {
          "year_of_publication": 2015
         },
         {
          "year_of_publication": 2015
         },
         {
          "year_of_publication": 2015
         },
         {
          "year_of_publication": 2015
         },
         {
          "year_of_publication": 2015
         },
         {
          "year_of_publication": 2015
         },
         {
          "year_of_publication": 2015
         },
         {
          "year_of_publication": 2015
         },
         {
          "year_of_publication": 2015
         },
         {
          "year_of_publication": 2015
         },
         {
          "year_of_publication": 2015
         },
         {
          "year_of_publication": 2015
         },
         {
          "year_of_publication": 2015
         },
         {
          "year_of_publication": 2015
         },
         {
          "year_of_publication": 2015
         },
         {
          "year_of_publication": 2015
         },
         {
          "year_of_publication": 2015
         },
         {
          "year_of_publication": 2015
         },
         {
          "year_of_publication": 2015
         },
         {
          "year_of_publication": 2015
         },
         {
          "year_of_publication": 2015
         },
         {
          "year_of_publication": 2015
         },
         {
          "year_of_publication": 2015
         },
         {
          "year_of_publication": 2015
         },
         {
          "year_of_publication": 2015
         },
         {
          "year_of_publication": 2015
         },
         {
          "year_of_publication": 2015
         },
         {
          "year_of_publication": 2015
         },
         {
          "year_of_publication": 2015
         },
         {
          "year_of_publication": 2015
         },
         {
          "year_of_publication": 2015
         },
         {
          "year_of_publication": 2015
         },
         {
          "year_of_publication": 2015
         },
         {
          "year_of_publication": 2015
         },
         {
          "year_of_publication": 2015
         },
         {
          "year_of_publication": 2015
         },
         {
          "year_of_publication": 2015
         },
         {
          "year_of_publication": 2015
         },
         {
          "year_of_publication": 2015
         },
         {
          "year_of_publication": 2015
         },
         {
          "year_of_publication": 2015
         },
         {
          "year_of_publication": 2015
         },
         {
          "year_of_publication": 2015
         },
         {
          "year_of_publication": 2015
         },
         {
          "year_of_publication": 2015
         },
         {
          "year_of_publication": 2015
         },
         {
          "year_of_publication": 2015
         },
         {
          "year_of_publication": 2015
         },
         {
          "year_of_publication": 2015
         },
         {
          "year_of_publication": 2015
         },
         {
          "year_of_publication": 2015
         },
         {
          "year_of_publication": 2015
         },
         {
          "year_of_publication": 2015
         },
         {
          "year_of_publication": 2015
         },
         {
          "year_of_publication": 2015
         },
         {
          "year_of_publication": 2015
         },
         {
          "year_of_publication": 2015
         },
         {
          "year_of_publication": 2015
         },
         {
          "year_of_publication": 2015
         },
         {
          "year_of_publication": 2015
         },
         {
          "year_of_publication": 2015
         },
         {
          "year_of_publication": 2015
         },
         {
          "year_of_publication": 2015
         },
         {
          "year_of_publication": 2015
         },
         {
          "year_of_publication": 2015
         },
         {
          "year_of_publication": 2015
         },
         {
          "year_of_publication": 2015
         },
         {
          "year_of_publication": 2015
         },
         {
          "year_of_publication": 2015
         },
         {
          "year_of_publication": 2015
         },
         {
          "year_of_publication": 2015
         },
         {
          "year_of_publication": 2015
         },
         {
          "year_of_publication": 2015
         },
         {
          "year_of_publication": 2015
         },
         {
          "year_of_publication": 2015
         },
         {
          "year_of_publication": 2015
         },
         {
          "year_of_publication": 2015
         },
         {
          "year_of_publication": 2015
         },
         {
          "year_of_publication": 2015
         },
         {
          "year_of_publication": 2015
         },
         {
          "year_of_publication": 2015
         },
         {
          "year_of_publication": 2015
         },
         {
          "year_of_publication": 2015
         },
         {
          "year_of_publication": 2015
         },
         {
          "year_of_publication": 2015
         },
         {
          "year_of_publication": 2015
         },
         {
          "year_of_publication": 2015
         },
         {
          "year_of_publication": 2015
         },
         {
          "year_of_publication": 2015
         },
         {
          "year_of_publication": 2015
         },
         {
          "year_of_publication": 2015
         },
         {
          "year_of_publication": 2015
         },
         {
          "year_of_publication": 2015
         },
         {
          "year_of_publication": 2015
         },
         {
          "year_of_publication": 2015
         },
         {
          "year_of_publication": 2015
         },
         {
          "year_of_publication": 2015
         },
         {
          "year_of_publication": 2015
         },
         {
          "year_of_publication": 2015
         },
         {
          "year_of_publication": 2015
         },
         {
          "year_of_publication": 2015
         },
         {
          "year_of_publication": 2015
         },
         {
          "year_of_publication": 2015
         },
         {
          "year_of_publication": 2015
         },
         {
          "year_of_publication": 2015
         },
         {
          "year_of_publication": 2015
         },
         {
          "year_of_publication": 2015
         },
         {
          "year_of_publication": 2015
         },
         {
          "year_of_publication": 2015
         },
         {
          "year_of_publication": 2015
         },
         {
          "year_of_publication": 2015
         },
         {
          "year_of_publication": 2015
         },
         {
          "year_of_publication": 2015
         },
         {
          "year_of_publication": 2015
         },
         {
          "year_of_publication": 2015
         },
         {
          "year_of_publication": 2015
         },
         {
          "year_of_publication": 2015
         },
         {
          "year_of_publication": 2015
         },
         {
          "year_of_publication": 2015
         },
         {
          "year_of_publication": 2015
         },
         {
          "year_of_publication": 2015
         },
         {
          "year_of_publication": 2015
         },
         {
          "year_of_publication": 2015
         },
         {
          "year_of_publication": 2015
         },
         {
          "year_of_publication": 2015
         },
         {
          "year_of_publication": 2015
         },
         {
          "year_of_publication": 2015
         },
         {
          "year_of_publication": 2015
         },
         {
          "year_of_publication": 2015
         },
         {
          "year_of_publication": 2015
         },
         {
          "year_of_publication": 2015
         },
         {
          "year_of_publication": 2015
         },
         {
          "year_of_publication": 2015
         },
         {
          "year_of_publication": 2015
         },
         {
          "year_of_publication": 2015
         },
         {
          "year_of_publication": 2015
         },
         {
          "year_of_publication": 2015
         },
         {
          "year_of_publication": 2015
         },
         {
          "year_of_publication": 2015
         },
         {
          "year_of_publication": 2015
         },
         {
          "year_of_publication": 2015
         },
         {
          "year_of_publication": 2015
         },
         {
          "year_of_publication": 2015
         },
         {
          "year_of_publication": 2015
         },
         {
          "year_of_publication": 2015
         },
         {
          "year_of_publication": 2015
         },
         {
          "year_of_publication": 2015
         },
         {
          "year_of_publication": 2015
         },
         {
          "year_of_publication": 2015
         },
         {
          "year_of_publication": 2015
         },
         {
          "year_of_publication": 2015
         },
         {
          "year_of_publication": 2015
         },
         {
          "year_of_publication": 2015
         },
         {
          "year_of_publication": 2015
         },
         {
          "year_of_publication": 2015
         },
         {
          "year_of_publication": 2015
         },
         {
          "year_of_publication": 2015
         },
         {
          "year_of_publication": 2015
         },
         {
          "year_of_publication": 2015
         },
         {
          "year_of_publication": 2015
         },
         {
          "year_of_publication": 2015
         },
         {
          "year_of_publication": 2015
         },
         {
          "year_of_publication": 2015
         },
         {
          "year_of_publication": 2015
         },
         {
          "year_of_publication": 2015
         },
         {
          "year_of_publication": 2015
         },
         {
          "year_of_publication": 2015
         },
         {
          "year_of_publication": 2015
         },
         {
          "year_of_publication": 2015
         },
         {
          "year_of_publication": 2015
         },
         {
          "year_of_publication": 2015
         },
         {
          "year_of_publication": 2015
         },
         {
          "year_of_publication": 2015
         },
         {
          "year_of_publication": 2015
         },
         {
          "year_of_publication": 2015
         },
         {
          "year_of_publication": 2015
         },
         {
          "year_of_publication": 2015
         },
         {
          "year_of_publication": 2015
         },
         {
          "year_of_publication": 2015
         },
         {
          "year_of_publication": 2015
         },
         {
          "year_of_publication": 2015
         },
         {
          "year_of_publication": 2015
         },
         {
          "year_of_publication": 2015
         },
         {
          "year_of_publication": 2015
         },
         {
          "year_of_publication": 2015
         },
         {
          "year_of_publication": 2015
         },
         {
          "year_of_publication": 2015
         },
         {
          "year_of_publication": 2015
         },
         {
          "year_of_publication": 2015
         },
         {
          "year_of_publication": 2015
         },
         {
          "year_of_publication": 2015
         },
         {
          "year_of_publication": 2015
         },
         {
          "year_of_publication": 2015
         },
         {
          "year_of_publication": 2015
         },
         {
          "year_of_publication": 2015
         },
         {
          "year_of_publication": 2015
         },
         {
          "year_of_publication": 2015
         },
         {
          "year_of_publication": 2015
         },
         {
          "year_of_publication": 2015
         },
         {
          "year_of_publication": 2015
         },
         {
          "year_of_publication": 2015
         },
         {
          "year_of_publication": 2015
         },
         {
          "year_of_publication": 2015
         },
         {
          "year_of_publication": 2015
         },
         {
          "year_of_publication": 2015
         },
         {
          "year_of_publication": 2015
         },
         {
          "year_of_publication": 2015
         },
         {
          "year_of_publication": 2015
         },
         {
          "year_of_publication": 2015
         },
         {
          "year_of_publication": 2015
         },
         {
          "year_of_publication": 2015
         },
         {
          "year_of_publication": 2015
         },
         {
          "year_of_publication": 2015
         },
         {
          "year_of_publication": 2015
         },
         {
          "year_of_publication": 2015
         },
         {
          "year_of_publication": 2015
         },
         {
          "year_of_publication": 2015
         },
         {
          "year_of_publication": 2015
         },
         {
          "year_of_publication": 2015
         },
         {
          "year_of_publication": 2015
         },
         {
          "year_of_publication": 2015
         },
         {
          "year_of_publication": 2015
         },
         {
          "year_of_publication": 2015
         },
         {
          "year_of_publication": 2015
         },
         {
          "year_of_publication": 2015
         },
         {
          "year_of_publication": 2015
         },
         {
          "year_of_publication": 2015
         },
         {
          "year_of_publication": 2015
         },
         {
          "year_of_publication": 2015
         },
         {
          "year_of_publication": 2015
         },
         {
          "year_of_publication": 2015
         },
         {
          "year_of_publication": 2015
         },
         {
          "year_of_publication": 2015
         },
         {
          "year_of_publication": 2015
         },
         {
          "year_of_publication": 2015
         },
         {
          "year_of_publication": 2015
         },
         {
          "year_of_publication": 2015
         },
         {
          "year_of_publication": 2015
         },
         {
          "year_of_publication": 2015
         },
         {
          "year_of_publication": 2015
         },
         {
          "year_of_publication": 2015
         },
         {
          "year_of_publication": 2015
         },
         {
          "year_of_publication": 2015
         },
         {
          "year_of_publication": 2015
         },
         {
          "year_of_publication": 2015
         },
         {
          "year_of_publication": 2015
         },
         {
          "year_of_publication": 2015
         },
         {
          "year_of_publication": 2015
         },
         {
          "year_of_publication": 2015
         },
         {
          "year_of_publication": 2015
         },
         {
          "year_of_publication": 2015
         },
         {
          "year_of_publication": 2015
         },
         {
          "year_of_publication": 2015
         },
         {
          "year_of_publication": 2015
         },
         {
          "year_of_publication": 2015
         },
         {
          "year_of_publication": 2015
         },
         {
          "year_of_publication": 2015
         },
         {
          "year_of_publication": 2015
         },
         {
          "year_of_publication": 2015
         },
         {
          "year_of_publication": 2015
         },
         {
          "year_of_publication": 2015
         },
         {
          "year_of_publication": 2015
         },
         {
          "year_of_publication": 2015
         },
         {
          "year_of_publication": 2015
         },
         {
          "year_of_publication": 2015
         },
         {
          "year_of_publication": 2015
         },
         {
          "year_of_publication": 2015
         },
         {
          "year_of_publication": 2015
         },
         {
          "year_of_publication": 2015
         },
         {
          "year_of_publication": 2015
         },
         {
          "year_of_publication": 2015
         },
         {
          "year_of_publication": 2015
         },
         {
          "year_of_publication": 2015
         },
         {
          "year_of_publication": 2015
         },
         {
          "year_of_publication": 2015
         },
         {
          "year_of_publication": 2015
         },
         {
          "year_of_publication": 2015
         },
         {
          "year_of_publication": 2015
         },
         {
          "year_of_publication": 2015
         },
         {
          "year_of_publication": 2015
         },
         {
          "year_of_publication": 2015
         },
         {
          "year_of_publication": 2015
         },
         {
          "year_of_publication": 2015
         },
         {
          "year_of_publication": 2015
         },
         {
          "year_of_publication": 2015
         },
         {
          "year_of_publication": 2015
         },
         {
          "year_of_publication": 2015
         },
         {
          "year_of_publication": 2015
         },
         {
          "year_of_publication": 2015
         },
         {
          "year_of_publication": 2015
         },
         {
          "year_of_publication": 2015
         },
         {
          "year_of_publication": 2015
         },
         {
          "year_of_publication": 2015
         },
         {
          "year_of_publication": 2015
         },
         {
          "year_of_publication": 2015
         },
         {
          "year_of_publication": 2015
         },
         {
          "year_of_publication": 2015
         },
         {
          "year_of_publication": 2015
         },
         {
          "year_of_publication": 2015
         },
         {
          "year_of_publication": 2015
         },
         {
          "year_of_publication": 2015
         },
         {
          "year_of_publication": 2015
         },
         {
          "year_of_publication": 2015
         },
         {
          "year_of_publication": 2015
         },
         {
          "year_of_publication": 2015
         },
         {
          "year_of_publication": 2015
         },
         {
          "year_of_publication": 2015
         },
         {
          "year_of_publication": 2015
         },
         {
          "year_of_publication": 2015
         },
         {
          "year_of_publication": 2015
         },
         {
          "year_of_publication": 2015
         },
         {
          "year_of_publication": 2015
         },
         {
          "year_of_publication": 2015
         },
         {
          "year_of_publication": 2015
         },
         {
          "year_of_publication": 2015
         },
         {
          "year_of_publication": 2015
         },
         {
          "year_of_publication": 2015
         },
         {
          "year_of_publication": 2015
         },
         {
          "year_of_publication": 2015
         },
         {
          "year_of_publication": 2015
         },
         {
          "year_of_publication": 2015
         },
         {
          "year_of_publication": 2015
         },
         {
          "year_of_publication": 2015
         },
         {
          "year_of_publication": 2015
         },
         {
          "year_of_publication": 2015
         },
         {
          "year_of_publication": 2015
         },
         {
          "year_of_publication": 2015
         },
         {
          "year_of_publication": 2015
         },
         {
          "year_of_publication": 2015
         },
         {
          "year_of_publication": 2015
         },
         {
          "year_of_publication": 2015
         },
         {
          "year_of_publication": 2015
         },
         {
          "year_of_publication": 2015
         },
         {
          "year_of_publication": 2015
         },
         {
          "year_of_publication": 2015
         },
         {
          "year_of_publication": 2015
         },
         {
          "year_of_publication": 2015
         },
         {
          "year_of_publication": 2015
         },
         {
          "year_of_publication": 2015
         },
         {
          "year_of_publication": 2015
         },
         {
          "year_of_publication": 2015
         },
         {
          "year_of_publication": 2015
         },
         {
          "year_of_publication": 2015
         },
         {
          "year_of_publication": 2015
         },
         {
          "year_of_publication": 2015
         },
         {
          "year_of_publication": 2015
         },
         {
          "year_of_publication": 2015
         },
         {
          "year_of_publication": 2015
         },
         {
          "year_of_publication": 2015
         },
         {
          "year_of_publication": 2015
         },
         {
          "year_of_publication": 2015
         },
         {
          "year_of_publication": 2015
         },
         {
          "year_of_publication": 2015
         },
         {
          "year_of_publication": 2015
         },
         {
          "year_of_publication": 2015
         },
         {
          "year_of_publication": 2015
         },
         {
          "year_of_publication": 2015
         },
         {
          "year_of_publication": 2015
         },
         {
          "year_of_publication": 2015
         },
         {
          "year_of_publication": 2015
         },
         {
          "year_of_publication": 2015
         },
         {
          "year_of_publication": 2015
         },
         {
          "year_of_publication": 2015
         },
         {
          "year_of_publication": 2015
         },
         {
          "year_of_publication": 2015
         },
         {
          "year_of_publication": 2015
         },
         {
          "year_of_publication": 2015
         },
         {
          "year_of_publication": 2015
         },
         {
          "year_of_publication": 2015
         },
         {
          "year_of_publication": 2015
         },
         {
          "year_of_publication": 2015
         },
         {
          "year_of_publication": 2015
         },
         {
          "year_of_publication": 2015
         },
         {
          "year_of_publication": 2015
         },
         {
          "year_of_publication": 2015
         },
         {
          "year_of_publication": 2015
         },
         {
          "year_of_publication": 2015
         },
         {
          "year_of_publication": 2015
         },
         {
          "year_of_publication": 2015
         },
         {
          "year_of_publication": 2015
         },
         {
          "year_of_publication": 2015
         },
         {
          "year_of_publication": 2015
         },
         {
          "year_of_publication": 2015
         },
         {
          "year_of_publication": 2015
         },
         {
          "year_of_publication": 2015
         },
         {
          "year_of_publication": 2015
         },
         {
          "year_of_publication": 2015
         },
         {
          "year_of_publication": 2015
         },
         {
          "year_of_publication": 2015
         },
         {
          "year_of_publication": 2015
         },
         {
          "year_of_publication": 2015
         },
         {
          "year_of_publication": 2015
         },
         {
          "year_of_publication": 2015
         },
         {
          "year_of_publication": 2015
         },
         {
          "year_of_publication": 2015
         },
         {
          "year_of_publication": 2015
         },
         {
          "year_of_publication": 2015
         },
         {
          "year_of_publication": 2015
         },
         {
          "year_of_publication": 2015
         },
         {
          "year_of_publication": 2015
         },
         {
          "year_of_publication": 2015
         },
         {
          "year_of_publication": 2015
         },
         {
          "year_of_publication": 2015
         },
         {
          "year_of_publication": 2015
         },
         {
          "year_of_publication": 2015
         },
         {
          "year_of_publication": 2015
         },
         {
          "year_of_publication": 2015
         },
         {
          "year_of_publication": 2015
         },
         {
          "year_of_publication": 2015
         },
         {
          "year_of_publication": 2015
         },
         {
          "year_of_publication": 2015
         },
         {
          "year_of_publication": 2015
         },
         {
          "year_of_publication": 2015
         },
         {
          "year_of_publication": 2015
         },
         {
          "year_of_publication": 2015
         },
         {
          "year_of_publication": 2015
         },
         {
          "year_of_publication": 2015
         },
         {
          "year_of_publication": 2015
         },
         {
          "year_of_publication": 2015
         },
         {
          "year_of_publication": 2015
         },
         {
          "year_of_publication": 2015
         },
         {
          "year_of_publication": 2015
         },
         {
          "year_of_publication": 2015
         },
         {
          "year_of_publication": 2015
         },
         {
          "year_of_publication": 2015
         },
         {
          "year_of_publication": 2015
         },
         {
          "year_of_publication": 2015
         },
         {
          "year_of_publication": 2015
         },
         {
          "year_of_publication": 2015
         },
         {
          "year_of_publication": 2015
         },
         {
          "year_of_publication": 2015
         },
         {
          "year_of_publication": 2015
         },
         {
          "year_of_publication": 2015
         },
         {
          "year_of_publication": 2015
         },
         {
          "year_of_publication": 2015
         },
         {
          "year_of_publication": 2015
         },
         {
          "year_of_publication": 2015
         },
         {
          "year_of_publication": 2015
         },
         {
          "year_of_publication": 2015
         },
         {
          "year_of_publication": 2015
         },
         {
          "year_of_publication": 2015
         },
         {
          "year_of_publication": 2015
         },
         {
          "year_of_publication": 2015
         },
         {
          "year_of_publication": 2015
         },
         {
          "year_of_publication": 2015
         },
         {
          "year_of_publication": 2015
         },
         {
          "year_of_publication": 2015
         },
         {
          "year_of_publication": 2015
         },
         {
          "year_of_publication": 2015
         },
         {
          "year_of_publication": 2015
         },
         {
          "year_of_publication": 2015
         },
         {
          "year_of_publication": 2015
         },
         {
          "year_of_publication": 2015
         },
         {
          "year_of_publication": 2015
         },
         {
          "year_of_publication": 2015
         },
         {
          "year_of_publication": 2015
         },
         {
          "year_of_publication": 2015
         },
         {
          "year_of_publication": 2015
         },
         {
          "year_of_publication": 2015
         },
         {
          "year_of_publication": 2015
         },
         {
          "year_of_publication": 2015
         },
         {
          "year_of_publication": 2015
         },
         {
          "year_of_publication": 2015
         },
         {
          "year_of_publication": 2015
         },
         {
          "year_of_publication": 2015
         },
         {
          "year_of_publication": 2015
         },
         {
          "year_of_publication": 2015
         },
         {
          "year_of_publication": 2015
         },
         {
          "year_of_publication": 2015
         },
         {
          "year_of_publication": 2015
         },
         {
          "year_of_publication": 2015
         },
         {
          "year_of_publication": 2015
         },
         {
          "year_of_publication": 2015
         },
         {
          "year_of_publication": 2015
         },
         {
          "year_of_publication": 2015
         },
         {
          "year_of_publication": 2015
         },
         {
          "year_of_publication": 2015
         },
         {
          "year_of_publication": 2015
         },
         {
          "year_of_publication": 2015
         },
         {
          "year_of_publication": 2015
         },
         {
          "year_of_publication": 2015
         },
         {
          "year_of_publication": 2015
         },
         {
          "year_of_publication": 2015
         },
         {
          "year_of_publication": 2015
         },
         {
          "year_of_publication": 2015
         },
         {
          "year_of_publication": 2015
         },
         {
          "year_of_publication": 2015
         },
         {
          "year_of_publication": 2015
         },
         {
          "year_of_publication": 2015
         },
         {
          "year_of_publication": 2015
         },
         {
          "year_of_publication": 2015
         },
         {
          "year_of_publication": 2015
         },
         {
          "year_of_publication": 2015
         },
         {
          "year_of_publication": 2015
         },
         {
          "year_of_publication": 2015
         },
         {
          "year_of_publication": 2015
         },
         {
          "year_of_publication": 2015
         },
         {
          "year_of_publication": 2015
         },
         {
          "year_of_publication": 2015
         },
         {
          "year_of_publication": 2015
         },
         {
          "year_of_publication": 2015
         },
         {
          "year_of_publication": 2015
         },
         {
          "year_of_publication": 2015
         },
         {
          "year_of_publication": 2015
         },
         {
          "year_of_publication": 2015
         },
         {
          "year_of_publication": 2015
         },
         {
          "year_of_publication": 2015
         },
         {
          "year_of_publication": 2015
         },
         {
          "year_of_publication": 2015
         },
         {
          "year_of_publication": 2015
         },
         {
          "year_of_publication": 2015
         },
         {
          "year_of_publication": 2015
         },
         {
          "year_of_publication": 2015
         },
         {
          "year_of_publication": 2015
         },
         {
          "year_of_publication": 2015
         },
         {
          "year_of_publication": 2015
         },
         {
          "year_of_publication": 2015
         },
         {
          "year_of_publication": 2015
         },
         {
          "year_of_publication": 2015
         },
         {
          "year_of_publication": 2015
         },
         {
          "year_of_publication": 2015
         },
         {
          "year_of_publication": 2015
         },
         {
          "year_of_publication": 2015
         },
         {
          "year_of_publication": 2015
         },
         {
          "year_of_publication": 2015
         },
         {
          "year_of_publication": 2015
         },
         {
          "year_of_publication": 2015
         },
         {
          "year_of_publication": 2015
         },
         {
          "year_of_publication": 2015
         },
         {
          "year_of_publication": 2015
         },
         {
          "year_of_publication": 2015
         },
         {
          "year_of_publication": 2015
         },
         {
          "year_of_publication": 2015
         },
         {
          "year_of_publication": 2015
         },
         {
          "year_of_publication": 2015
         },
         {
          "year_of_publication": 2015
         },
         {
          "year_of_publication": 2015
         },
         {
          "year_of_publication": 2015
         },
         {
          "year_of_publication": 2015
         },
         {
          "year_of_publication": 2015
         },
         {
          "year_of_publication": 2015
         },
         {
          "year_of_publication": 2015
         },
         {
          "year_of_publication": 2015
         },
         {
          "year_of_publication": 2015
         },
         {
          "year_of_publication": 2015
         },
         {
          "year_of_publication": 2015
         },
         {
          "year_of_publication": 2015
         },
         {
          "year_of_publication": 2015
         },
         {
          "year_of_publication": 2015
         },
         {
          "year_of_publication": 2015
         },
         {
          "year_of_publication": 2015
         },
         {
          "year_of_publication": 2015
         },
         {
          "year_of_publication": 2015
         },
         {
          "year_of_publication": 2015
         },
         {
          "year_of_publication": 2015
         },
         {
          "year_of_publication": 2015
         },
         {
          "year_of_publication": 2015
         },
         {
          "year_of_publication": 2015
         },
         {
          "year_of_publication": 2015
         },
         {
          "year_of_publication": 2015
         },
         {
          "year_of_publication": 2015
         },
         {
          "year_of_publication": 2015
         },
         {
          "year_of_publication": 2015
         },
         {
          "year_of_publication": 2015
         },
         {
          "year_of_publication": 2015
         },
         {
          "year_of_publication": 2015
         },
         {
          "year_of_publication": 2015
         },
         {
          "year_of_publication": 2015
         },
         {
          "year_of_publication": 2015
         },
         {
          "year_of_publication": 2015
         },
         {
          "year_of_publication": 2015
         },
         {
          "year_of_publication": 2015
         },
         {
          "year_of_publication": 2015
         },
         {
          "year_of_publication": 2015
         },
         {
          "year_of_publication": 2015
         },
         {
          "year_of_publication": 2015
         },
         {
          "year_of_publication": 2015
         },
         {
          "year_of_publication": 2015
         },
         {
          "year_of_publication": 2015
         },
         {
          "year_of_publication": 2015
         },
         {
          "year_of_publication": 2015
         },
         {
          "year_of_publication": 2015
         },
         {
          "year_of_publication": 2015
         },
         {
          "year_of_publication": 2015
         },
         {
          "year_of_publication": 2015
         },
         {
          "year_of_publication": 2015
         },
         {
          "year_of_publication": 2015
         },
         {
          "year_of_publication": 2015
         },
         {
          "year_of_publication": 2015
         },
         {
          "year_of_publication": 2015
         },
         {
          "year_of_publication": 2015
         },
         {
          "year_of_publication": 2015
         },
         {
          "year_of_publication": 2015
         },
         {
          "year_of_publication": 2015
         },
         {
          "year_of_publication": 2015
         },
         {
          "year_of_publication": 2015
         },
         {
          "year_of_publication": 2015
         },
         {
          "year_of_publication": 2015
         },
         {
          "year_of_publication": 2015
         },
         {
          "year_of_publication": 2015
         },
         {
          "year_of_publication": 2015
         },
         {
          "year_of_publication": 2015
         },
         {
          "year_of_publication": 2015
         },
         {
          "year_of_publication": 2015
         },
         {
          "year_of_publication": 2015
         },
         {
          "year_of_publication": 2015
         },
         {
          "year_of_publication": 2015
         },
         {
          "year_of_publication": 2015
         },
         {
          "year_of_publication": 2015
         },
         {
          "year_of_publication": 2015
         },
         {
          "year_of_publication": 2015
         },
         {
          "year_of_publication": 2015
         },
         {
          "year_of_publication": 2015
         },
         {
          "year_of_publication": 2015
         },
         {
          "year_of_publication": 2015
         },
         {
          "year_of_publication": 2015
         },
         {
          "year_of_publication": 2015
         },
         {
          "year_of_publication": 2015
         },
         {
          "year_of_publication": 2015
         },
         {
          "year_of_publication": 2015
         },
         {
          "year_of_publication": 2015
         },
         {
          "year_of_publication": 2015
         },
         {
          "year_of_publication": 2015
         },
         {
          "year_of_publication": 2015
         },
         {
          "year_of_publication": 2015
         },
         {
          "year_of_publication": 2015
         },
         {
          "year_of_publication": 2015
         },
         {
          "year_of_publication": 2015
         },
         {
          "year_of_publication": 2015
         },
         {
          "year_of_publication": 2015
         },
         {
          "year_of_publication": 2015
         },
         {
          "year_of_publication": 2015
         },
         {
          "year_of_publication": 2015
         },
         {
          "year_of_publication": 2015
         },
         {
          "year_of_publication": 2015
         },
         {
          "year_of_publication": 2015
         },
         {
          "year_of_publication": 2015
         },
         {
          "year_of_publication": 2015
         },
         {
          "year_of_publication": 2015
         },
         {
          "year_of_publication": 2015
         },
         {
          "year_of_publication": 2015
         },
         {
          "year_of_publication": 2015
         },
         {
          "year_of_publication": 2015
         },
         {
          "year_of_publication": 2015
         },
         {
          "year_of_publication": 2015
         },
         {
          "year_of_publication": 2015
         },
         {
          "year_of_publication": 2015
         },
         {
          "year_of_publication": 2015
         },
         {
          "year_of_publication": 2015
         },
         {
          "year_of_publication": 2015
         },
         {
          "year_of_publication": 2015
         },
         {
          "year_of_publication": 2015
         },
         {
          "year_of_publication": 2015
         },
         {
          "year_of_publication": 2015
         },
         {
          "year_of_publication": 2015
         },
         {
          "year_of_publication": 2015
         },
         {
          "year_of_publication": 2015
         },
         {
          "year_of_publication": 2015
         },
         {
          "year_of_publication": 2015
         },
         {
          "year_of_publication": 2015
         },
         {
          "year_of_publication": 2015
         },
         {
          "year_of_publication": 2015
         },
         {
          "year_of_publication": 2015
         },
         {
          "year_of_publication": 2015
         },
         {
          "year_of_publication": 2015
         },
         {
          "year_of_publication": 2015
         },
         {
          "year_of_publication": 2015
         },
         {
          "year_of_publication": 2015
         },
         {
          "year_of_publication": 2015
         },
         {
          "year_of_publication": 2015
         },
         {
          "year_of_publication": 2015
         },
         {
          "year_of_publication": 2015
         },
         {
          "year_of_publication": 2015
         },
         {
          "year_of_publication": 2015
         },
         {
          "year_of_publication": 2015
         },
         {
          "year_of_publication": 2015
         },
         {
          "year_of_publication": 2015
         },
         {
          "year_of_publication": 2015
         },
         {
          "year_of_publication": 2015
         },
         {
          "year_of_publication": 2015
         },
         {
          "year_of_publication": 2015
         },
         {
          "year_of_publication": 2015
         },
         {
          "year_of_publication": 2015
         },
         {
          "year_of_publication": 2015
         },
         {
          "year_of_publication": 2015
         },
         {
          "year_of_publication": 2015
         },
         {
          "year_of_publication": 2015
         },
         {
          "year_of_publication": 2015
         },
         {
          "year_of_publication": 2015
         },
         {
          "year_of_publication": 2015
         },
         {
          "year_of_publication": 2015
         },
         {
          "year_of_publication": 2015
         },
         {
          "year_of_publication": 2015
         },
         {
          "year_of_publication": 2015
         },
         {
          "year_of_publication": 2015
         },
         {
          "year_of_publication": 2015
         },
         {
          "year_of_publication": 2015
         },
         {
          "year_of_publication": 2015
         },
         {
          "year_of_publication": 2015
         },
         {
          "year_of_publication": 2015
         },
         {
          "year_of_publication": 2015
         },
         {
          "year_of_publication": 2015
         },
         {
          "year_of_publication": 2015
         },
         {
          "year_of_publication": 2015
         },
         {
          "year_of_publication": 2015
         },
         {
          "year_of_publication": 2015
         },
         {
          "year_of_publication": 2015
         },
         {
          "year_of_publication": 2015
         },
         {
          "year_of_publication": 2015
         },
         {
          "year_of_publication": 2015
         },
         {
          "year_of_publication": 2015
         },
         {
          "year_of_publication": 2015
         },
         {
          "year_of_publication": 2015
         },
         {
          "year_of_publication": 2015
         },
         {
          "year_of_publication": 2015
         },
         {
          "year_of_publication": 2015
         },
         {
          "year_of_publication": 2015
         },
         {
          "year_of_publication": 2015
         },
         {
          "year_of_publication": 2015
         },
         {
          "year_of_publication": 2015
         },
         {
          "year_of_publication": 2015
         },
         {
          "year_of_publication": 2015
         },
         {
          "year_of_publication": 2015
         },
         {
          "year_of_publication": 2015
         },
         {
          "year_of_publication": 2015
         },
         {
          "year_of_publication": 2015
         },
         {
          "year_of_publication": 2015
         },
         {
          "year_of_publication": 2015
         },
         {
          "year_of_publication": 2015
         },
         {
          "year_of_publication": 2015
         },
         {
          "year_of_publication": 2015
         },
         {
          "year_of_publication": 2015
         },
         {
          "year_of_publication": 2015
         },
         {
          "year_of_publication": 2015
         },
         {
          "year_of_publication": 2015
         },
         {
          "year_of_publication": 2015
         },
         {
          "year_of_publication": 2015
         },
         {
          "year_of_publication": 2015
         },
         {
          "year_of_publication": 2015
         },
         {
          "year_of_publication": 2015
         },
         {
          "year_of_publication": 2015
         },
         {
          "year_of_publication": 2015
         },
         {
          "year_of_publication": 2015
         },
         {
          "year_of_publication": 2015
         },
         {
          "year_of_publication": 2015
         },
         {
          "year_of_publication": 2015
         },
         {
          "year_of_publication": 2015
         },
         {
          "year_of_publication": 2015
         },
         {
          "year_of_publication": 2015
         },
         {
          "year_of_publication": 2015
         },
         {
          "year_of_publication": 2015
         },
         {
          "year_of_publication": 2015
         },
         {
          "year_of_publication": 2015
         },
         {
          "year_of_publication": 2015
         },
         {
          "year_of_publication": 2015
         },
         {
          "year_of_publication": 2015
         },
         {
          "year_of_publication": 2015
         },
         {
          "year_of_publication": 2015
         },
         {
          "year_of_publication": 2015
         },
         {
          "year_of_publication": 2015
         },
         {
          "year_of_publication": 2015
         },
         {
          "year_of_publication": 2015
         },
         {
          "year_of_publication": 2015
         },
         {
          "year_of_publication": 2015
         },
         {
          "year_of_publication": 2015
         },
         {
          "year_of_publication": 2015
         },
         {
          "year_of_publication": 2015
         },
         {
          "year_of_publication": 2015
         },
         {
          "year_of_publication": 2015
         },
         {
          "year_of_publication": 2015
         },
         {
          "year_of_publication": 2015
         },
         {
          "year_of_publication": 2015
         },
         {
          "year_of_publication": 2015
         },
         {
          "year_of_publication": 2015
         },
         {
          "year_of_publication": 2015
         },
         {
          "year_of_publication": 2015
         },
         {
          "year_of_publication": 2015
         },
         {
          "year_of_publication": 2015
         },
         {
          "year_of_publication": 2015
         },
         {
          "year_of_publication": 2015
         },
         {
          "year_of_publication": 2015
         },
         {
          "year_of_publication": 2015
         },
         {
          "year_of_publication": 2015
         },
         {
          "year_of_publication": 2015
         },
         {
          "year_of_publication": 2015
         },
         {
          "year_of_publication": 2015
         },
         {
          "year_of_publication": 2015
         },
         {
          "year_of_publication": 2015
         },
         {
          "year_of_publication": 2015
         },
         {
          "year_of_publication": 2015
         },
         {
          "year_of_publication": 2015
         },
         {
          "year_of_publication": 2015
         },
         {
          "year_of_publication": 2015
         },
         {
          "year_of_publication": 2015
         },
         {
          "year_of_publication": 2015
         },
         {
          "year_of_publication": 2015
         },
         {
          "year_of_publication": 2015
         },
         {
          "year_of_publication": 2015
         },
         {
          "year_of_publication": 2015
         },
         {
          "year_of_publication": 2015
         },
         {
          "year_of_publication": 2015
         },
         {
          "year_of_publication": 2015
         },
         {
          "year_of_publication": 2015
         },
         {
          "year_of_publication": 2015
         },
         {
          "year_of_publication": 2015
         },
         {
          "year_of_publication": 2015
         },
         {
          "year_of_publication": 2015
         },
         {
          "year_of_publication": 2015
         },
         {
          "year_of_publication": 2015
         },
         {
          "year_of_publication": 2015
         },
         {
          "year_of_publication": 2015
         },
         {
          "year_of_publication": 2015
         },
         {
          "year_of_publication": 2015
         },
         {
          "year_of_publication": 2015
         },
         {
          "year_of_publication": 2015
         },
         {
          "year_of_publication": 2015
         },
         {
          "year_of_publication": 2015
         },
         {
          "year_of_publication": 2015
         },
         {
          "year_of_publication": 2015
         },
         {
          "year_of_publication": 2015
         },
         {
          "year_of_publication": 2015
         },
         {
          "year_of_publication": 2015
         },
         {
          "year_of_publication": 2015
         },
         {
          "year_of_publication": 2015
         },
         {
          "year_of_publication": 2015
         },
         {
          "year_of_publication": 2015
         },
         {
          "year_of_publication": 2015
         },
         {
          "year_of_publication": 2015
         },
         {
          "year_of_publication": 2015
         },
         {
          "year_of_publication": 2015
         },
         {
          "year_of_publication": 2015
         },
         {
          "year_of_publication": 2015
         },
         {
          "year_of_publication": 2015
         },
         {
          "year_of_publication": 2015
         },
         {
          "year_of_publication": 2015
         },
         {
          "year_of_publication": 2015
         },
         {
          "year_of_publication": 2015
         },
         {
          "year_of_publication": 2015
         },
         {
          "year_of_publication": 2015
         },
         {
          "year_of_publication": 2015
         },
         {
          "year_of_publication": 2015
         },
         {
          "year_of_publication": 2015
         },
         {
          "year_of_publication": 2015
         },
         {
          "year_of_publication": 2015
         },
         {
          "year_of_publication": 2015
         },
         {
          "year_of_publication": 2015
         },
         {
          "year_of_publication": 2015
         },
         {
          "year_of_publication": 2015
         },
         {
          "year_of_publication": 2015
         },
         {
          "year_of_publication": 2015
         },
         {
          "year_of_publication": 2015
         },
         {
          "year_of_publication": 2015
         },
         {
          "year_of_publication": 2015
         },
         {
          "year_of_publication": 2015
         },
         {
          "year_of_publication": 2015
         },
         {
          "year_of_publication": 2015
         },
         {
          "year_of_publication": 2015
         },
         {
          "year_of_publication": 2015
         },
         {
          "year_of_publication": 2015
         },
         {
          "year_of_publication": 2015
         },
         {
          "year_of_publication": 2015
         },
         {
          "year_of_publication": 2015
         },
         {
          "year_of_publication": 2015
         },
         {
          "year_of_publication": 2015
         },
         {
          "year_of_publication": 2015
         },
         {
          "year_of_publication": 2015
         },
         {
          "year_of_publication": 2015
         },
         {
          "year_of_publication": 2015
         },
         {
          "year_of_publication": 2015
         },
         {
          "year_of_publication": 2015
         },
         {
          "year_of_publication": 2015
         },
         {
          "year_of_publication": 2015
         },
         {
          "year_of_publication": 2015
         },
         {
          "year_of_publication": 2015
         },
         {
          "year_of_publication": 2015
         },
         {
          "year_of_publication": 2015
         },
         {
          "year_of_publication": 2015
         },
         {
          "year_of_publication": 2015
         },
         {
          "year_of_publication": 2015
         },
         {
          "year_of_publication": 2015
         },
         {
          "year_of_publication": 2015
         },
         {
          "year_of_publication": 2015
         },
         {
          "year_of_publication": 2015
         },
         {
          "year_of_publication": 2015
         },
         {
          "year_of_publication": 2015
         },
         {
          "year_of_publication": 2015
         },
         {
          "year_of_publication": 2015
         },
         {
          "year_of_publication": 2015
         },
         {
          "year_of_publication": 2015
         },
         {
          "year_of_publication": 2015
         },
         {
          "year_of_publication": 2015
         },
         {
          "year_of_publication": 2015
         },
         {
          "year_of_publication": 2015
         },
         {
          "year_of_publication": 2015
         },
         {
          "year_of_publication": 2015
         },
         {
          "year_of_publication": 2015
         },
         {
          "year_of_publication": 2015
         },
         {
          "year_of_publication": 2015
         },
         {
          "year_of_publication": 2015
         },
         {
          "year_of_publication": 2015
         },
         {
          "year_of_publication": 2015
         },
         {
          "year_of_publication": 2015
         },
         {
          "year_of_publication": 2015
         },
         {
          "year_of_publication": 2015
         },
         {
          "year_of_publication": 2015
         },
         {
          "year_of_publication": 2015
         },
         {
          "year_of_publication": 2015
         },
         {
          "year_of_publication": 2015
         },
         {
          "year_of_publication": 2015
         },
         {
          "year_of_publication": 2015
         },
         {
          "year_of_publication": 2015
         },
         {
          "year_of_publication": 2015
         },
         {
          "year_of_publication": 2015
         },
         {
          "year_of_publication": 2015
         },
         {
          "year_of_publication": 2015
         },
         {
          "year_of_publication": 2015
         },
         {
          "year_of_publication": 2015
         },
         {
          "year_of_publication": 2015
         },
         {
          "year_of_publication": 2015
         },
         {
          "year_of_publication": 2015
         },
         {
          "year_of_publication": 2015
         },
         {
          "year_of_publication": 2015
         },
         {
          "year_of_publication": 2015
         },
         {
          "year_of_publication": 2015
         },
         {
          "year_of_publication": 2015
         },
         {
          "year_of_publication": 2015
         },
         {
          "year_of_publication": 2015
         },
         {
          "year_of_publication": 2015
         },
         {
          "year_of_publication": 2015
         },
         {
          "year_of_publication": 2015
         },
         {
          "year_of_publication": 2015
         },
         {
          "year_of_publication": 2015
         },
         {
          "year_of_publication": 2015
         },
         {
          "year_of_publication": 2015
         },
         {
          "year_of_publication": 2015
         },
         {
          "year_of_publication": 2015
         },
         {
          "year_of_publication": 2015
         },
         {
          "year_of_publication": 2015
         },
         {
          "year_of_publication": 2015
         },
         {
          "year_of_publication": 2015
         },
         {
          "year_of_publication": 2015
         },
         {
          "year_of_publication": 2015
         },
         {
          "year_of_publication": 2015
         },
         {
          "year_of_publication": 2015
         },
         {
          "year_of_publication": 2015
         },
         {
          "year_of_publication": 2015
         },
         {
          "year_of_publication": 2015
         },
         {
          "year_of_publication": 2015
         },
         {
          "year_of_publication": 2015
         },
         {
          "year_of_publication": 2015
         },
         {
          "year_of_publication": 2015
         },
         {
          "year_of_publication": 2015
         },
         {
          "year_of_publication": 2014
         },
         {
          "year_of_publication": 2014
         },
         {
          "year_of_publication": 2014
         },
         {
          "year_of_publication": 2014
         },
         {
          "year_of_publication": 2014
         },
         {
          "year_of_publication": 2014
         },
         {
          "year_of_publication": 2014
         },
         {
          "year_of_publication": 2014
         },
         {
          "year_of_publication": 2014
         },
         {
          "year_of_publication": 2014
         },
         {
          "year_of_publication": 2014
         },
         {
          "year_of_publication": 2014
         },
         {
          "year_of_publication": 2014
         },
         {
          "year_of_publication": 2014
         },
         {
          "year_of_publication": 2014
         },
         {
          "year_of_publication": 2014
         },
         {
          "year_of_publication": 2014
         },
         {
          "year_of_publication": 2014
         },
         {
          "year_of_publication": 2014
         },
         {
          "year_of_publication": 2014
         },
         {
          "year_of_publication": 2014
         },
         {
          "year_of_publication": 2014
         },
         {
          "year_of_publication": 2014
         },
         {
          "year_of_publication": 2014
         },
         {
          "year_of_publication": 2014
         },
         {
          "year_of_publication": 2014
         },
         {
          "year_of_publication": 2014
         },
         {
          "year_of_publication": 2014
         },
         {
          "year_of_publication": 2014
         },
         {
          "year_of_publication": 2014
         },
         {
          "year_of_publication": 2014
         },
         {
          "year_of_publication": 2014
         },
         {
          "year_of_publication": 2014
         },
         {
          "year_of_publication": 2014
         },
         {
          "year_of_publication": 2014
         },
         {
          "year_of_publication": 2014
         },
         {
          "year_of_publication": 2014
         },
         {
          "year_of_publication": 2014
         },
         {
          "year_of_publication": 2014
         },
         {
          "year_of_publication": 2014
         },
         {
          "year_of_publication": 2014
         },
         {
          "year_of_publication": 2014
         },
         {
          "year_of_publication": 2014
         },
         {
          "year_of_publication": 2014
         },
         {
          "year_of_publication": 2014
         },
         {
          "year_of_publication": 2014
         },
         {
          "year_of_publication": 2014
         },
         {
          "year_of_publication": 2014
         },
         {
          "year_of_publication": 2014
         },
         {
          "year_of_publication": 2014
         },
         {
          "year_of_publication": 2014
         },
         {
          "year_of_publication": 2014
         },
         {
          "year_of_publication": 2014
         },
         {
          "year_of_publication": 2014
         },
         {
          "year_of_publication": 2014
         },
         {
          "year_of_publication": 2014
         },
         {
          "year_of_publication": 2014
         },
         {
          "year_of_publication": 2014
         },
         {
          "year_of_publication": 2014
         },
         {
          "year_of_publication": 2014
         },
         {
          "year_of_publication": 2014
         },
         {
          "year_of_publication": 2014
         },
         {
          "year_of_publication": 2014
         },
         {
          "year_of_publication": 2014
         },
         {
          "year_of_publication": 2014
         },
         {
          "year_of_publication": 2014
         },
         {
          "year_of_publication": 2014
         },
         {
          "year_of_publication": 2014
         },
         {
          "year_of_publication": 2014
         },
         {
          "year_of_publication": 2014
         },
         {
          "year_of_publication": 2014
         },
         {
          "year_of_publication": 2014
         },
         {
          "year_of_publication": 2014
         },
         {
          "year_of_publication": 2014
         },
         {
          "year_of_publication": 2014
         },
         {
          "year_of_publication": 2014
         },
         {
          "year_of_publication": 2014
         },
         {
          "year_of_publication": 2014
         },
         {
          "year_of_publication": 2014
         },
         {
          "year_of_publication": 2014
         },
         {
          "year_of_publication": 2014
         },
         {
          "year_of_publication": 2014
         },
         {
          "year_of_publication": 2014
         },
         {
          "year_of_publication": 2014
         },
         {
          "year_of_publication": 2014
         },
         {
          "year_of_publication": 2014
         },
         {
          "year_of_publication": 2014
         },
         {
          "year_of_publication": 2014
         },
         {
          "year_of_publication": 2014
         },
         {
          "year_of_publication": 2014
         },
         {
          "year_of_publication": 2014
         },
         {
          "year_of_publication": 2014
         },
         {
          "year_of_publication": 2014
         },
         {
          "year_of_publication": 2014
         },
         {
          "year_of_publication": 2014
         },
         {
          "year_of_publication": 2014
         },
         {
          "year_of_publication": 2014
         },
         {
          "year_of_publication": 2014
         },
         {
          "year_of_publication": 2014
         },
         {
          "year_of_publication": 2014
         },
         {
          "year_of_publication": 2014
         },
         {
          "year_of_publication": 2014
         },
         {
          "year_of_publication": 2014
         },
         {
          "year_of_publication": 2014
         },
         {
          "year_of_publication": 2014
         },
         {
          "year_of_publication": 2014
         },
         {
          "year_of_publication": 2014
         },
         {
          "year_of_publication": 2014
         },
         {
          "year_of_publication": 2014
         },
         {
          "year_of_publication": 2014
         },
         {
          "year_of_publication": 2014
         },
         {
          "year_of_publication": 2014
         },
         {
          "year_of_publication": 2014
         },
         {
          "year_of_publication": 2014
         },
         {
          "year_of_publication": 2014
         },
         {
          "year_of_publication": 2014
         },
         {
          "year_of_publication": 2014
         },
         {
          "year_of_publication": 2014
         },
         {
          "year_of_publication": 2014
         },
         {
          "year_of_publication": 2014
         },
         {
          "year_of_publication": 2014
         },
         {
          "year_of_publication": 2014
         },
         {
          "year_of_publication": 2014
         },
         {
          "year_of_publication": 2014
         },
         {
          "year_of_publication": 2014
         },
         {
          "year_of_publication": 2014
         },
         {
          "year_of_publication": 2014
         },
         {
          "year_of_publication": 2014
         },
         {
          "year_of_publication": 2014
         },
         {
          "year_of_publication": 2014
         },
         {
          "year_of_publication": 2014
         },
         {
          "year_of_publication": 2014
         },
         {
          "year_of_publication": 2014
         },
         {
          "year_of_publication": 2014
         },
         {
          "year_of_publication": 2014
         },
         {
          "year_of_publication": 2014
         },
         {
          "year_of_publication": 2014
         },
         {
          "year_of_publication": 2014
         },
         {
          "year_of_publication": 2014
         },
         {
          "year_of_publication": 2014
         },
         {
          "year_of_publication": 2014
         },
         {
          "year_of_publication": 2014
         },
         {
          "year_of_publication": 2014
         },
         {
          "year_of_publication": 2014
         },
         {
          "year_of_publication": 2014
         },
         {
          "year_of_publication": 2014
         },
         {
          "year_of_publication": 2014
         },
         {
          "year_of_publication": 2014
         },
         {
          "year_of_publication": 2014
         },
         {
          "year_of_publication": 2014
         },
         {
          "year_of_publication": 2014
         },
         {
          "year_of_publication": 2014
         },
         {
          "year_of_publication": 2014
         },
         {
          "year_of_publication": 2014
         },
         {
          "year_of_publication": 2014
         },
         {
          "year_of_publication": 2014
         },
         {
          "year_of_publication": 2014
         },
         {
          "year_of_publication": 2014
         },
         {
          "year_of_publication": 2014
         },
         {
          "year_of_publication": 2014
         },
         {
          "year_of_publication": 2014
         },
         {
          "year_of_publication": 2014
         },
         {
          "year_of_publication": 2014
         },
         {
          "year_of_publication": 2014
         },
         {
          "year_of_publication": 2014
         },
         {
          "year_of_publication": 2014
         },
         {
          "year_of_publication": 2014
         },
         {
          "year_of_publication": 2014
         },
         {
          "year_of_publication": 2014
         },
         {
          "year_of_publication": 2014
         },
         {
          "year_of_publication": 2014
         },
         {
          "year_of_publication": 2014
         },
         {
          "year_of_publication": 2014
         },
         {
          "year_of_publication": 2014
         },
         {
          "year_of_publication": 2014
         },
         {
          "year_of_publication": 2014
         },
         {
          "year_of_publication": 2014
         },
         {
          "year_of_publication": 2014
         },
         {
          "year_of_publication": 2014
         },
         {
          "year_of_publication": 2014
         },
         {
          "year_of_publication": 2014
         },
         {
          "year_of_publication": 2014
         },
         {
          "year_of_publication": 2014
         },
         {
          "year_of_publication": 2014
         },
         {
          "year_of_publication": 2014
         },
         {
          "year_of_publication": 2014
         },
         {
          "year_of_publication": 2014
         },
         {
          "year_of_publication": 2014
         },
         {
          "year_of_publication": 2014
         },
         {
          "year_of_publication": 2014
         },
         {
          "year_of_publication": 2014
         },
         {
          "year_of_publication": 2014
         },
         {
          "year_of_publication": 2014
         },
         {
          "year_of_publication": 2014
         },
         {
          "year_of_publication": 2014
         },
         {
          "year_of_publication": 2014
         },
         {
          "year_of_publication": 2014
         },
         {
          "year_of_publication": 2014
         },
         {
          "year_of_publication": 2014
         },
         {
          "year_of_publication": 2014
         },
         {
          "year_of_publication": 2014
         },
         {
          "year_of_publication": 2014
         },
         {
          "year_of_publication": 2014
         },
         {
          "year_of_publication": 2014
         },
         {
          "year_of_publication": 2014
         },
         {
          "year_of_publication": 2014
         },
         {
          "year_of_publication": 2014
         },
         {
          "year_of_publication": 2014
         },
         {
          "year_of_publication": 2014
         },
         {
          "year_of_publication": 2014
         },
         {
          "year_of_publication": 2014
         },
         {
          "year_of_publication": 2014
         },
         {
          "year_of_publication": 2014
         },
         {
          "year_of_publication": 2014
         },
         {
          "year_of_publication": 2014
         },
         {
          "year_of_publication": 2014
         },
         {
          "year_of_publication": 2014
         },
         {
          "year_of_publication": 2014
         },
         {
          "year_of_publication": 2014
         },
         {
          "year_of_publication": 2014
         },
         {
          "year_of_publication": 2014
         },
         {
          "year_of_publication": 2014
         },
         {
          "year_of_publication": 2014
         },
         {
          "year_of_publication": 2014
         },
         {
          "year_of_publication": 2014
         },
         {
          "year_of_publication": 2014
         },
         {
          "year_of_publication": 2014
         },
         {
          "year_of_publication": 2014
         },
         {
          "year_of_publication": 2014
         },
         {
          "year_of_publication": 2014
         },
         {
          "year_of_publication": 2014
         },
         {
          "year_of_publication": 2014
         },
         {
          "year_of_publication": 2014
         },
         {
          "year_of_publication": 2014
         },
         {
          "year_of_publication": 2014
         },
         {
          "year_of_publication": 2014
         },
         {
          "year_of_publication": 2014
         },
         {
          "year_of_publication": 2014
         },
         {
          "year_of_publication": 2014
         },
         {
          "year_of_publication": 2014
         },
         {
          "year_of_publication": 2014
         },
         {
          "year_of_publication": 2014
         },
         {
          "year_of_publication": 2014
         },
         {
          "year_of_publication": 2014
         },
         {
          "year_of_publication": 2014
         },
         {
          "year_of_publication": 2014
         },
         {
          "year_of_publication": 2014
         },
         {
          "year_of_publication": 2014
         },
         {
          "year_of_publication": 2014
         },
         {
          "year_of_publication": 2014
         },
         {
          "year_of_publication": 2014
         },
         {
          "year_of_publication": 2014
         },
         {
          "year_of_publication": 2014
         },
         {
          "year_of_publication": 2014
         },
         {
          "year_of_publication": 2014
         },
         {
          "year_of_publication": 2014
         },
         {
          "year_of_publication": 2014
         },
         {
          "year_of_publication": 2014
         },
         {
          "year_of_publication": 2014
         },
         {
          "year_of_publication": 2014
         },
         {
          "year_of_publication": 2014
         },
         {
          "year_of_publication": 2014
         },
         {
          "year_of_publication": 2014
         },
         {
          "year_of_publication": 2014
         },
         {
          "year_of_publication": 2014
         },
         {
          "year_of_publication": 2014
         },
         {
          "year_of_publication": 2014
         },
         {
          "year_of_publication": 2014
         },
         {
          "year_of_publication": 2014
         },
         {
          "year_of_publication": 2014
         },
         {
          "year_of_publication": 2014
         },
         {
          "year_of_publication": 2014
         },
         {
          "year_of_publication": 2014
         },
         {
          "year_of_publication": 2014
         },
         {
          "year_of_publication": 2014
         },
         {
          "year_of_publication": 2014
         },
         {
          "year_of_publication": 2014
         },
         {
          "year_of_publication": 2014
         },
         {
          "year_of_publication": 2014
         },
         {
          "year_of_publication": 2014
         },
         {
          "year_of_publication": 2014
         },
         {
          "year_of_publication": 2014
         },
         {
          "year_of_publication": 2014
         },
         {
          "year_of_publication": 2014
         },
         {
          "year_of_publication": 2014
         },
         {
          "year_of_publication": 2014
         },
         {
          "year_of_publication": 2014
         },
         {
          "year_of_publication": 2014
         },
         {
          "year_of_publication": 2014
         },
         {
          "year_of_publication": 2014
         },
         {
          "year_of_publication": 2014
         },
         {
          "year_of_publication": 2014
         },
         {
          "year_of_publication": 2014
         },
         {
          "year_of_publication": 2014
         },
         {
          "year_of_publication": 2014
         },
         {
          "year_of_publication": 2014
         },
         {
          "year_of_publication": 2014
         },
         {
          "year_of_publication": 2014
         },
         {
          "year_of_publication": 2014
         },
         {
          "year_of_publication": 2014
         },
         {
          "year_of_publication": 2014
         },
         {
          "year_of_publication": 2014
         },
         {
          "year_of_publication": 2014
         },
         {
          "year_of_publication": 2014
         },
         {
          "year_of_publication": 2014
         },
         {
          "year_of_publication": 2014
         },
         {
          "year_of_publication": 2014
         },
         {
          "year_of_publication": 2014
         },
         {
          "year_of_publication": 2014
         },
         {
          "year_of_publication": 2014
         },
         {
          "year_of_publication": 2014
         },
         {
          "year_of_publication": 2014
         },
         {
          "year_of_publication": 2014
         },
         {
          "year_of_publication": 2014
         },
         {
          "year_of_publication": 2014
         },
         {
          "year_of_publication": 2014
         },
         {
          "year_of_publication": 2014
         },
         {
          "year_of_publication": 2014
         },
         {
          "year_of_publication": 2014
         },
         {
          "year_of_publication": 2014
         },
         {
          "year_of_publication": 2014
         },
         {
          "year_of_publication": 2014
         },
         {
          "year_of_publication": 2014
         },
         {
          "year_of_publication": 2014
         },
         {
          "year_of_publication": 2014
         },
         {
          "year_of_publication": 2014
         },
         {
          "year_of_publication": 2014
         },
         {
          "year_of_publication": 2014
         },
         {
          "year_of_publication": 2014
         },
         {
          "year_of_publication": 2014
         },
         {
          "year_of_publication": 2014
         },
         {
          "year_of_publication": 2014
         },
         {
          "year_of_publication": 2014
         },
         {
          "year_of_publication": 2014
         },
         {
          "year_of_publication": 2014
         },
         {
          "year_of_publication": 2014
         },
         {
          "year_of_publication": 2014
         },
         {
          "year_of_publication": 2014
         },
         {
          "year_of_publication": 2014
         },
         {
          "year_of_publication": 2014
         },
         {
          "year_of_publication": 2014
         },
         {
          "year_of_publication": 2014
         },
         {
          "year_of_publication": 2014
         },
         {
          "year_of_publication": 2014
         },
         {
          "year_of_publication": 2014
         },
         {
          "year_of_publication": 2014
         },
         {
          "year_of_publication": 2014
         },
         {
          "year_of_publication": 2014
         },
         {
          "year_of_publication": 2014
         },
         {
          "year_of_publication": 2014
         },
         {
          "year_of_publication": 2014
         },
         {
          "year_of_publication": 2014
         },
         {
          "year_of_publication": 2014
         },
         {
          "year_of_publication": 2014
         },
         {
          "year_of_publication": 2014
         },
         {
          "year_of_publication": 2014
         },
         {
          "year_of_publication": 2014
         },
         {
          "year_of_publication": 2014
         },
         {
          "year_of_publication": 2014
         },
         {
          "year_of_publication": 2014
         },
         {
          "year_of_publication": 2014
         },
         {
          "year_of_publication": 2014
         },
         {
          "year_of_publication": 2014
         },
         {
          "year_of_publication": 2014
         },
         {
          "year_of_publication": 2014
         },
         {
          "year_of_publication": 2014
         },
         {
          "year_of_publication": 2014
         },
         {
          "year_of_publication": 2014
         },
         {
          "year_of_publication": 2014
         },
         {
          "year_of_publication": 2014
         },
         {
          "year_of_publication": 2014
         },
         {
          "year_of_publication": 2014
         },
         {
          "year_of_publication": 2014
         },
         {
          "year_of_publication": 2014
         },
         {
          "year_of_publication": 2014
         },
         {
          "year_of_publication": 2014
         },
         {
          "year_of_publication": 2014
         },
         {
          "year_of_publication": 2014
         },
         {
          "year_of_publication": 2014
         },
         {
          "year_of_publication": 2014
         },
         {
          "year_of_publication": 2014
         },
         {
          "year_of_publication": 2014
         },
         {
          "year_of_publication": 2014
         },
         {
          "year_of_publication": 2014
         },
         {
          "year_of_publication": 2014
         },
         {
          "year_of_publication": 2014
         },
         {
          "year_of_publication": 2014
         },
         {
          "year_of_publication": 2014
         },
         {
          "year_of_publication": 2014
         },
         {
          "year_of_publication": 2014
         },
         {
          "year_of_publication": 2014
         },
         {
          "year_of_publication": 2014
         },
         {
          "year_of_publication": 2014
         },
         {
          "year_of_publication": 2014
         },
         {
          "year_of_publication": 2014
         },
         {
          "year_of_publication": 2014
         },
         {
          "year_of_publication": 2014
         },
         {
          "year_of_publication": 2014
         },
         {
          "year_of_publication": 2014
         },
         {
          "year_of_publication": 2014
         },
         {
          "year_of_publication": 2014
         },
         {
          "year_of_publication": 2014
         },
         {
          "year_of_publication": 2014
         },
         {
          "year_of_publication": 2014
         },
         {
          "year_of_publication": 2014
         },
         {
          "year_of_publication": 2014
         },
         {
          "year_of_publication": 2014
         },
         {
          "year_of_publication": 2014
         },
         {
          "year_of_publication": 2014
         },
         {
          "year_of_publication": 2014
         },
         {
          "year_of_publication": 2014
         },
         {
          "year_of_publication": 2014
         },
         {
          "year_of_publication": 2014
         },
         {
          "year_of_publication": 2014
         },
         {
          "year_of_publication": 2014
         },
         {
          "year_of_publication": 2014
         },
         {
          "year_of_publication": 2014
         },
         {
          "year_of_publication": 2014
         },
         {
          "year_of_publication": 2014
         },
         {
          "year_of_publication": 2014
         },
         {
          "year_of_publication": 2014
         },
         {
          "year_of_publication": 2014
         },
         {
          "year_of_publication": 2014
         },
         {
          "year_of_publication": 2014
         },
         {
          "year_of_publication": 2014
         },
         {
          "year_of_publication": 2014
         },
         {
          "year_of_publication": 2014
         },
         {
          "year_of_publication": 2014
         },
         {
          "year_of_publication": 2014
         },
         {
          "year_of_publication": 2014
         },
         {
          "year_of_publication": 2014
         },
         {
          "year_of_publication": 2014
         },
         {
          "year_of_publication": 2014
         },
         {
          "year_of_publication": 2014
         },
         {
          "year_of_publication": 2014
         },
         {
          "year_of_publication": 2014
         },
         {
          "year_of_publication": 2014
         },
         {
          "year_of_publication": 2014
         },
         {
          "year_of_publication": 2014
         },
         {
          "year_of_publication": 2014
         },
         {
          "year_of_publication": 2014
         },
         {
          "year_of_publication": 2014
         },
         {
          "year_of_publication": 2014
         },
         {
          "year_of_publication": 2014
         },
         {
          "year_of_publication": 2014
         },
         {
          "year_of_publication": 2014
         },
         {
          "year_of_publication": 2014
         },
         {
          "year_of_publication": 2014
         },
         {
          "year_of_publication": 2014
         },
         {
          "year_of_publication": 2014
         },
         {
          "year_of_publication": 2014
         },
         {
          "year_of_publication": 2014
         },
         {
          "year_of_publication": 2014
         },
         {
          "year_of_publication": 2014
         },
         {
          "year_of_publication": 2014
         },
         {
          "year_of_publication": 2014
         },
         {
          "year_of_publication": 2014
         },
         {
          "year_of_publication": 2014
         },
         {
          "year_of_publication": 2014
         },
         {
          "year_of_publication": 2014
         },
         {
          "year_of_publication": 2014
         },
         {
          "year_of_publication": 2014
         },
         {
          "year_of_publication": 2014
         },
         {
          "year_of_publication": 2014
         },
         {
          "year_of_publication": 2014
         },
         {
          "year_of_publication": 2014
         },
         {
          "year_of_publication": 2014
         },
         {
          "year_of_publication": 2014
         },
         {
          "year_of_publication": 2014
         },
         {
          "year_of_publication": 2014
         },
         {
          "year_of_publication": 2014
         },
         {
          "year_of_publication": 2014
         },
         {
          "year_of_publication": 2014
         },
         {
          "year_of_publication": 2014
         },
         {
          "year_of_publication": 2014
         },
         {
          "year_of_publication": 2014
         },
         {
          "year_of_publication": 2014
         },
         {
          "year_of_publication": 2014
         },
         {
          "year_of_publication": 2014
         },
         {
          "year_of_publication": 2014
         },
         {
          "year_of_publication": 2014
         },
         {
          "year_of_publication": 2014
         },
         {
          "year_of_publication": 2014
         },
         {
          "year_of_publication": 2014
         },
         {
          "year_of_publication": 2014
         },
         {
          "year_of_publication": 2014
         },
         {
          "year_of_publication": 2014
         },
         {
          "year_of_publication": 2014
         },
         {
          "year_of_publication": 2014
         },
         {
          "year_of_publication": 2014
         },
         {
          "year_of_publication": 2014
         },
         {
          "year_of_publication": 2014
         },
         {
          "year_of_publication": 2014
         },
         {
          "year_of_publication": 2014
         },
         {
          "year_of_publication": 2014
         },
         {
          "year_of_publication": 2014
         },
         {
          "year_of_publication": 2014
         },
         {
          "year_of_publication": 2014
         },
         {
          "year_of_publication": 2014
         },
         {
          "year_of_publication": 2014
         },
         {
          "year_of_publication": 2014
         },
         {
          "year_of_publication": 2014
         },
         {
          "year_of_publication": 2014
         },
         {
          "year_of_publication": 2014
         },
         {
          "year_of_publication": 2014
         },
         {
          "year_of_publication": 2014
         },
         {
          "year_of_publication": 2014
         },
         {
          "year_of_publication": 2014
         },
         {
          "year_of_publication": 2014
         },
         {
          "year_of_publication": 2014
         },
         {
          "year_of_publication": 2014
         },
         {
          "year_of_publication": 2014
         },
         {
          "year_of_publication": 2014
         },
         {
          "year_of_publication": 2014
         },
         {
          "year_of_publication": 2014
         },
         {
          "year_of_publication": 2014
         },
         {
          "year_of_publication": 2014
         },
         {
          "year_of_publication": 2014
         },
         {
          "year_of_publication": 2014
         },
         {
          "year_of_publication": 2014
         },
         {
          "year_of_publication": 2014
         },
         {
          "year_of_publication": 2014
         },
         {
          "year_of_publication": 2014
         },
         {
          "year_of_publication": 2014
         },
         {
          "year_of_publication": 2014
         },
         {
          "year_of_publication": 2014
         },
         {
          "year_of_publication": 2014
         },
         {
          "year_of_publication": 2014
         },
         {
          "year_of_publication": 2014
         },
         {
          "year_of_publication": 2014
         },
         {
          "year_of_publication": 2014
         },
         {
          "year_of_publication": 2014
         },
         {
          "year_of_publication": 2014
         },
         {
          "year_of_publication": 2014
         },
         {
          "year_of_publication": 2014
         },
         {
          "year_of_publication": 2014
         },
         {
          "year_of_publication": 2014
         },
         {
          "year_of_publication": 2014
         },
         {
          "year_of_publication": 2014
         },
         {
          "year_of_publication": 2014
         },
         {
          "year_of_publication": 2014
         },
         {
          "year_of_publication": 2014
         },
         {
          "year_of_publication": 2014
         },
         {
          "year_of_publication": 2014
         },
         {
          "year_of_publication": 2014
         },
         {
          "year_of_publication": 2014
         },
         {
          "year_of_publication": 2014
         },
         {
          "year_of_publication": 2014
         },
         {
          "year_of_publication": 2014
         },
         {
          "year_of_publication": 2014
         },
         {
          "year_of_publication": 2014
         },
         {
          "year_of_publication": 2014
         },
         {
          "year_of_publication": 2014
         },
         {
          "year_of_publication": 2014
         },
         {
          "year_of_publication": 2014
         },
         {
          "year_of_publication": 2014
         },
         {
          "year_of_publication": 2014
         },
         {
          "year_of_publication": 2014
         },
         {
          "year_of_publication": 2014
         },
         {
          "year_of_publication": 2014
         },
         {
          "year_of_publication": 2014
         },
         {
          "year_of_publication": 2014
         },
         {
          "year_of_publication": 2014
         },
         {
          "year_of_publication": 2014
         },
         {
          "year_of_publication": 2014
         },
         {
          "year_of_publication": 2014
         },
         {
          "year_of_publication": 2014
         },
         {
          "year_of_publication": 2014
         },
         {
          "year_of_publication": 2014
         },
         {
          "year_of_publication": 2014
         },
         {
          "year_of_publication": 2014
         },
         {
          "year_of_publication": 2014
         },
         {
          "year_of_publication": 2014
         },
         {
          "year_of_publication": 2014
         },
         {
          "year_of_publication": 2014
         },
         {
          "year_of_publication": 2014
         },
         {
          "year_of_publication": 2014
         },
         {
          "year_of_publication": 2014
         },
         {
          "year_of_publication": 2014
         },
         {
          "year_of_publication": 2014
         },
         {
          "year_of_publication": 2014
         },
         {
          "year_of_publication": 2014
         },
         {
          "year_of_publication": 2014
         },
         {
          "year_of_publication": 2014
         },
         {
          "year_of_publication": 2014
         },
         {
          "year_of_publication": 2014
         },
         {
          "year_of_publication": 2014
         },
         {
          "year_of_publication": 2014
         },
         {
          "year_of_publication": 2014
         },
         {
          "year_of_publication": 2014
         },
         {
          "year_of_publication": 2014
         },
         {
          "year_of_publication": 2014
         },
         {
          "year_of_publication": 2014
         },
         {
          "year_of_publication": 2014
         },
         {
          "year_of_publication": 2014
         },
         {
          "year_of_publication": 2014
         },
         {
          "year_of_publication": 2014
         },
         {
          "year_of_publication": 2014
         },
         {
          "year_of_publication": 2014
         },
         {
          "year_of_publication": 2014
         },
         {
          "year_of_publication": 2014
         },
         {
          "year_of_publication": 2014
         },
         {
          "year_of_publication": 2014
         },
         {
          "year_of_publication": 2014
         },
         {
          "year_of_publication": 2014
         },
         {
          "year_of_publication": 2014
         },
         {
          "year_of_publication": 2014
         },
         {
          "year_of_publication": 2014
         },
         {
          "year_of_publication": 2014
         },
         {
          "year_of_publication": 2014
         },
         {
          "year_of_publication": 2014
         },
         {
          "year_of_publication": 2014
         },
         {
          "year_of_publication": 2014
         },
         {
          "year_of_publication": 2014
         },
         {
          "year_of_publication": 2014
         },
         {
          "year_of_publication": 2014
         },
         {
          "year_of_publication": 2014
         },
         {
          "year_of_publication": 2014
         },
         {
          "year_of_publication": 2014
         },
         {
          "year_of_publication": 2014
         },
         {
          "year_of_publication": 2014
         },
         {
          "year_of_publication": 2014
         },
         {
          "year_of_publication": 2014
         },
         {
          "year_of_publication": 2014
         },
         {
          "year_of_publication": 2014
         },
         {
          "year_of_publication": 2014
         },
         {
          "year_of_publication": 2014
         },
         {
          "year_of_publication": 2014
         },
         {
          "year_of_publication": 2014
         },
         {
          "year_of_publication": 2014
         },
         {
          "year_of_publication": 2014
         },
         {
          "year_of_publication": 2014
         },
         {
          "year_of_publication": 2014
         },
         {
          "year_of_publication": 2014
         },
         {
          "year_of_publication": 2014
         },
         {
          "year_of_publication": 2014
         },
         {
          "year_of_publication": 2014
         },
         {
          "year_of_publication": 2014
         },
         {
          "year_of_publication": 2014
         },
         {
          "year_of_publication": 2014
         },
         {
          "year_of_publication": 2014
         },
         {
          "year_of_publication": 2014
         },
         {
          "year_of_publication": 2014
         },
         {
          "year_of_publication": 2014
         },
         {
          "year_of_publication": 2014
         },
         {
          "year_of_publication": 2014
         },
         {
          "year_of_publication": 2014
         },
         {
          "year_of_publication": 2014
         },
         {
          "year_of_publication": 2014
         },
         {
          "year_of_publication": 2014
         },
         {
          "year_of_publication": 2014
         },
         {
          "year_of_publication": 2014
         },
         {
          "year_of_publication": 2014
         },
         {
          "year_of_publication": 2014
         },
         {
          "year_of_publication": 2014
         },
         {
          "year_of_publication": 2014
         },
         {
          "year_of_publication": 2014
         },
         {
          "year_of_publication": 2014
         },
         {
          "year_of_publication": 2014
         },
         {
          "year_of_publication": 2014
         },
         {
          "year_of_publication": 2014
         },
         {
          "year_of_publication": 2014
         },
         {
          "year_of_publication": 2014
         },
         {
          "year_of_publication": 2014
         },
         {
          "year_of_publication": 2014
         },
         {
          "year_of_publication": 2014
         },
         {
          "year_of_publication": 2014
         },
         {
          "year_of_publication": 2014
         },
         {
          "year_of_publication": 2014
         },
         {
          "year_of_publication": 2014
         },
         {
          "year_of_publication": 2014
         },
         {
          "year_of_publication": 2014
         },
         {
          "year_of_publication": 2014
         },
         {
          "year_of_publication": 2014
         },
         {
          "year_of_publication": 2014
         },
         {
          "year_of_publication": 2014
         },
         {
          "year_of_publication": 2014
         },
         {
          "year_of_publication": 2014
         },
         {
          "year_of_publication": 2014
         },
         {
          "year_of_publication": 2014
         },
         {
          "year_of_publication": 2014
         },
         {
          "year_of_publication": 2014
         },
         {
          "year_of_publication": 2014
         },
         {
          "year_of_publication": 2014
         },
         {
          "year_of_publication": 2014
         },
         {
          "year_of_publication": 2014
         },
         {
          "year_of_publication": 2014
         },
         {
          "year_of_publication": 2014
         },
         {
          "year_of_publication": 2014
         },
         {
          "year_of_publication": 2014
         },
         {
          "year_of_publication": 2014
         },
         {
          "year_of_publication": 2014
         },
         {
          "year_of_publication": 2014
         },
         {
          "year_of_publication": 2014
         },
         {
          "year_of_publication": 2014
         },
         {
          "year_of_publication": 2014
         },
         {
          "year_of_publication": 2014
         },
         {
          "year_of_publication": 2014
         },
         {
          "year_of_publication": 2014
         },
         {
          "year_of_publication": 2014
         },
         {
          "year_of_publication": 2014
         },
         {
          "year_of_publication": 2014
         },
         {
          "year_of_publication": 2014
         },
         {
          "year_of_publication": 2014
         },
         {
          "year_of_publication": 2014
         },
         {
          "year_of_publication": 2014
         },
         {
          "year_of_publication": 2014
         },
         {
          "year_of_publication": 2014
         },
         {
          "year_of_publication": 2014
         },
         {
          "year_of_publication": 2014
         },
         {
          "year_of_publication": 2014
         },
         {
          "year_of_publication": 2014
         },
         {
          "year_of_publication": 2014
         },
         {
          "year_of_publication": 2014
         },
         {
          "year_of_publication": 2014
         },
         {
          "year_of_publication": 2014
         },
         {
          "year_of_publication": 2014
         },
         {
          "year_of_publication": 2014
         },
         {
          "year_of_publication": 2014
         },
         {
          "year_of_publication": 2014
         },
         {
          "year_of_publication": 2014
         },
         {
          "year_of_publication": 2014
         },
         {
          "year_of_publication": 2014
         },
         {
          "year_of_publication": 2014
         },
         {
          "year_of_publication": 2014
         },
         {
          "year_of_publication": 2014
         },
         {
          "year_of_publication": 2014
         },
         {
          "year_of_publication": 2014
         },
         {
          "year_of_publication": 2014
         },
         {
          "year_of_publication": 2014
         },
         {
          "year_of_publication": 2014
         },
         {
          "year_of_publication": 2014
         },
         {
          "year_of_publication": 2014
         },
         {
          "year_of_publication": 2014
         },
         {
          "year_of_publication": 2014
         },
         {
          "year_of_publication": 2014
         },
         {
          "year_of_publication": 2014
         },
         {
          "year_of_publication": 2014
         },
         {
          "year_of_publication": 2014
         },
         {
          "year_of_publication": 2014
         },
         {
          "year_of_publication": 2014
         },
         {
          "year_of_publication": 2014
         },
         {
          "year_of_publication": 2014
         },
         {
          "year_of_publication": 2014
         },
         {
          "year_of_publication": 2014
         },
         {
          "year_of_publication": 2014
         },
         {
          "year_of_publication": 2014
         },
         {
          "year_of_publication": 2014
         },
         {
          "year_of_publication": 2014
         },
         {
          "year_of_publication": 2014
         },
         {
          "year_of_publication": 2014
         },
         {
          "year_of_publication": 2014
         },
         {
          "year_of_publication": 2014
         },
         {
          "year_of_publication": 2014
         },
         {
          "year_of_publication": 2014
         },
         {
          "year_of_publication": 2014
         },
         {
          "year_of_publication": 2014
         },
         {
          "year_of_publication": 2014
         },
         {
          "year_of_publication": 2014
         },
         {
          "year_of_publication": 2014
         },
         {
          "year_of_publication": 2014
         },
         {
          "year_of_publication": 2014
         },
         {
          "year_of_publication": 2014
         },
         {
          "year_of_publication": 2014
         },
         {
          "year_of_publication": 2014
         },
         {
          "year_of_publication": 2014
         },
         {
          "year_of_publication": 2014
         },
         {
          "year_of_publication": 2014
         },
         {
          "year_of_publication": 2014
         },
         {
          "year_of_publication": 2014
         },
         {
          "year_of_publication": 2014
         },
         {
          "year_of_publication": 2014
         },
         {
          "year_of_publication": 2014
         },
         {
          "year_of_publication": 2014
         },
         {
          "year_of_publication": 2014
         },
         {
          "year_of_publication": 2014
         },
         {
          "year_of_publication": 2014
         },
         {
          "year_of_publication": 2014
         },
         {
          "year_of_publication": 2014
         },
         {
          "year_of_publication": 2014
         },
         {
          "year_of_publication": 2014
         },
         {
          "year_of_publication": 2014
         },
         {
          "year_of_publication": 2014
         },
         {
          "year_of_publication": 2014
         },
         {
          "year_of_publication": 2014
         },
         {
          "year_of_publication": 2014
         },
         {
          "year_of_publication": 2014
         },
         {
          "year_of_publication": 2014
         },
         {
          "year_of_publication": 2014
         },
         {
          "year_of_publication": 2014
         },
         {
          "year_of_publication": 2014
         },
         {
          "year_of_publication": 2014
         },
         {
          "year_of_publication": 2014
         },
         {
          "year_of_publication": 2014
         },
         {
          "year_of_publication": 2014
         },
         {
          "year_of_publication": 2014
         },
         {
          "year_of_publication": 2014
         },
         {
          "year_of_publication": 2014
         },
         {
          "year_of_publication": 2014
         },
         {
          "year_of_publication": 2014
         },
         {
          "year_of_publication": 2014
         },
         {
          "year_of_publication": 2014
         },
         {
          "year_of_publication": 2014
         },
         {
          "year_of_publication": 2014
         },
         {
          "year_of_publication": 2014
         },
         {
          "year_of_publication": 2014
         },
         {
          "year_of_publication": 2014
         },
         {
          "year_of_publication": 2014
         },
         {
          "year_of_publication": 2014
         },
         {
          "year_of_publication": 2014
         },
         {
          "year_of_publication": 2014
         },
         {
          "year_of_publication": 2014
         },
         {
          "year_of_publication": 2014
         },
         {
          "year_of_publication": 2014
         },
         {
          "year_of_publication": 2014
         },
         {
          "year_of_publication": 2014
         },
         {
          "year_of_publication": 2014
         },
         {
          "year_of_publication": 2014
         },
         {
          "year_of_publication": 2014
         },
         {
          "year_of_publication": 2014
         },
         {
          "year_of_publication": 2014
         },
         {
          "year_of_publication": 2014
         },
         {
          "year_of_publication": 2014
         },
         {
          "year_of_publication": 2014
         },
         {
          "year_of_publication": 2014
         },
         {
          "year_of_publication": 2014
         },
         {
          "year_of_publication": 2014
         },
         {
          "year_of_publication": 2014
         },
         {
          "year_of_publication": 2014
         },
         {
          "year_of_publication": 2014
         },
         {
          "year_of_publication": 2014
         },
         {
          "year_of_publication": 2014
         },
         {
          "year_of_publication": 2014
         },
         {
          "year_of_publication": 2014
         },
         {
          "year_of_publication": 2014
         },
         {
          "year_of_publication": 2014
         },
         {
          "year_of_publication": 2014
         },
         {
          "year_of_publication": 2014
         },
         {
          "year_of_publication": 2014
         },
         {
          "year_of_publication": 2014
         },
         {
          "year_of_publication": 2014
         },
         {
          "year_of_publication": 2014
         },
         {
          "year_of_publication": 2014
         },
         {
          "year_of_publication": 2014
         },
         {
          "year_of_publication": 2014
         },
         {
          "year_of_publication": 2014
         },
         {
          "year_of_publication": 2014
         },
         {
          "year_of_publication": 2014
         },
         {
          "year_of_publication": 2014
         },
         {
          "year_of_publication": 2014
         },
         {
          "year_of_publication": 2014
         },
         {
          "year_of_publication": 2014
         },
         {
          "year_of_publication": 2014
         },
         {
          "year_of_publication": 2014
         },
         {
          "year_of_publication": 2014
         },
         {
          "year_of_publication": 2014
         },
         {
          "year_of_publication": 2014
         },
         {
          "year_of_publication": 2014
         },
         {
          "year_of_publication": 2014
         },
         {
          "year_of_publication": 2014
         },
         {
          "year_of_publication": 2014
         },
         {
          "year_of_publication": 2014
         },
         {
          "year_of_publication": 2014
         },
         {
          "year_of_publication": 2014
         },
         {
          "year_of_publication": 2014
         },
         {
          "year_of_publication": 2014
         },
         {
          "year_of_publication": 2014
         },
         {
          "year_of_publication": 2014
         },
         {
          "year_of_publication": 2014
         },
         {
          "year_of_publication": 2014
         },
         {
          "year_of_publication": 2014
         },
         {
          "year_of_publication": 2014
         },
         {
          "year_of_publication": 2014
         },
         {
          "year_of_publication": 2014
         },
         {
          "year_of_publication": 2014
         },
         {
          "year_of_publication": 2014
         },
         {
          "year_of_publication": 2014
         },
         {
          "year_of_publication": 2014
         },
         {
          "year_of_publication": 2014
         },
         {
          "year_of_publication": 2014
         },
         {
          "year_of_publication": 2014
         },
         {
          "year_of_publication": 2014
         },
         {
          "year_of_publication": 2014
         },
         {
          "year_of_publication": 2014
         },
         {
          "year_of_publication": 2014
         },
         {
          "year_of_publication": 2014
         },
         {
          "year_of_publication": 2014
         },
         {
          "year_of_publication": 2014
         },
         {
          "year_of_publication": 2014
         },
         {
          "year_of_publication": 2014
         },
         {
          "year_of_publication": 2014
         },
         {
          "year_of_publication": 2014
         },
         {
          "year_of_publication": 2014
         },
         {
          "year_of_publication": 2014
         },
         {
          "year_of_publication": 2014
         },
         {
          "year_of_publication": 2014
         },
         {
          "year_of_publication": 2014
         },
         {
          "year_of_publication": 2014
         },
         {
          "year_of_publication": 2014
         },
         {
          "year_of_publication": 2014
         },
         {
          "year_of_publication": 2014
         },
         {
          "year_of_publication": 2014
         },
         {
          "year_of_publication": 2014
         },
         {
          "year_of_publication": 2014
         },
         {
          "year_of_publication": 2014
         },
         {
          "year_of_publication": 2014
         },
         {
          "year_of_publication": 2014
         },
         {
          "year_of_publication": 2014
         },
         {
          "year_of_publication": 2014
         },
         {
          "year_of_publication": 2014
         },
         {
          "year_of_publication": 2014
         },
         {
          "year_of_publication": 2014
         },
         {
          "year_of_publication": 2014
         },
         {
          "year_of_publication": 2014
         },
         {
          "year_of_publication": 2014
         },
         {
          "year_of_publication": 2014
         },
         {
          "year_of_publication": 2014
         },
         {
          "year_of_publication": 2014
         },
         {
          "year_of_publication": 2014
         },
         {
          "year_of_publication": 2014
         },
         {
          "year_of_publication": 2014
         },
         {
          "year_of_publication": 2014
         },
         {
          "year_of_publication": 2014
         },
         {
          "year_of_publication": 2014
         },
         {
          "year_of_publication": 2014
         },
         {
          "year_of_publication": 2014
         },
         {
          "year_of_publication": 2014
         },
         {
          "year_of_publication": 2014
         },
         {
          "year_of_publication": 2014
         },
         {
          "year_of_publication": 2014
         },
         {
          "year_of_publication": 2014
         },
         {
          "year_of_publication": 2014
         },
         {
          "year_of_publication": 2014
         },
         {
          "year_of_publication": 2014
         },
         {
          "year_of_publication": 2014
         },
         {
          "year_of_publication": 2014
         },
         {
          "year_of_publication": 2014
         },
         {
          "year_of_publication": 2014
         },
         {
          "year_of_publication": 2014
         },
         {
          "year_of_publication": 2014
         },
         {
          "year_of_publication": 2014
         },
         {
          "year_of_publication": 2014
         },
         {
          "year_of_publication": 2014
         },
         {
          "year_of_publication": 2014
         },
         {
          "year_of_publication": 2014
         },
         {
          "year_of_publication": 2014
         },
         {
          "year_of_publication": 2014
         },
         {
          "year_of_publication": 2014
         },
         {
          "year_of_publication": 2014
         },
         {
          "year_of_publication": 2014
         },
         {
          "year_of_publication": 2014
         },
         {
          "year_of_publication": 2014
         },
         {
          "year_of_publication": 2014
         },
         {
          "year_of_publication": 2014
         },
         {
          "year_of_publication": 2014
         },
         {
          "year_of_publication": 2014
         },
         {
          "year_of_publication": 2014
         },
         {
          "year_of_publication": 2014
         },
         {
          "year_of_publication": 2014
         },
         {
          "year_of_publication": 2014
         },
         {
          "year_of_publication": 2014
         },
         {
          "year_of_publication": 2014
         },
         {
          "year_of_publication": 2014
         },
         {
          "year_of_publication": 2014
         },
         {
          "year_of_publication": 2014
         },
         {
          "year_of_publication": 2014
         },
         {
          "year_of_publication": 2014
         },
         {
          "year_of_publication": 2014
         },
         {
          "year_of_publication": 2014
         },
         {
          "year_of_publication": 2014
         },
         {
          "year_of_publication": 2014
         },
         {
          "year_of_publication": 2014
         },
         {
          "year_of_publication": 2014
         },
         {
          "year_of_publication": 2014
         },
         {
          "year_of_publication": 2014
         },
         {
          "year_of_publication": 2014
         },
         {
          "year_of_publication": 2014
         },
         {
          "year_of_publication": 2014
         },
         {
          "year_of_publication": 2014
         },
         {
          "year_of_publication": 2014
         },
         {
          "year_of_publication": 2014
         },
         {
          "year_of_publication": 2014
         },
         {
          "year_of_publication": 2014
         },
         {
          "year_of_publication": 2014
         },
         {
          "year_of_publication": 2014
         },
         {
          "year_of_publication": 2014
         },
         {
          "year_of_publication": 2014
         },
         {
          "year_of_publication": 2014
         },
         {
          "year_of_publication": 2014
         },
         {
          "year_of_publication": 2014
         },
         {
          "year_of_publication": 2014
         },
         {
          "year_of_publication": 2014
         },
         {
          "year_of_publication": 2014
         },
         {
          "year_of_publication": 2014
         },
         {
          "year_of_publication": 2014
         },
         {
          "year_of_publication": 2014
         },
         {
          "year_of_publication": 2014
         },
         {
          "year_of_publication": 2014
         },
         {
          "year_of_publication": 2014
         },
         {
          "year_of_publication": 2014
         },
         {
          "year_of_publication": 2014
         },
         {
          "year_of_publication": 2014
         },
         {
          "year_of_publication": 2014
         },
         {
          "year_of_publication": 2014
         },
         {
          "year_of_publication": 2014
         },
         {
          "year_of_publication": 2014
         },
         {
          "year_of_publication": 2014
         },
         {
          "year_of_publication": 2014
         },
         {
          "year_of_publication": 2014
         },
         {
          "year_of_publication": 2014
         },
         {
          "year_of_publication": 2014
         },
         {
          "year_of_publication": 2014
         },
         {
          "year_of_publication": 2014
         },
         {
          "year_of_publication": 2014
         },
         {
          "year_of_publication": 2014
         },
         {
          "year_of_publication": 2014
         },
         {
          "year_of_publication": 2014
         },
         {
          "year_of_publication": 2014
         },
         {
          "year_of_publication": 2014
         },
         {
          "year_of_publication": 2014
         },
         {
          "year_of_publication": 2014
         },
         {
          "year_of_publication": 2014
         },
         {
          "year_of_publication": 2014
         },
         {
          "year_of_publication": 2014
         },
         {
          "year_of_publication": 2014
         },
         {
          "year_of_publication": 2014
         },
         {
          "year_of_publication": 2014
         },
         {
          "year_of_publication": 2014
         },
         {
          "year_of_publication": 2014
         },
         {
          "year_of_publication": 2014
         },
         {
          "year_of_publication": 2014
         },
         {
          "year_of_publication": 2014
         },
         {
          "year_of_publication": 2014
         },
         {
          "year_of_publication": 2014
         },
         {
          "year_of_publication": 2014
         },
         {
          "year_of_publication": 2014
         },
         {
          "year_of_publication": 2014
         },
         {
          "year_of_publication": 2014
         },
         {
          "year_of_publication": 2014
         },
         {
          "year_of_publication": 2014
         },
         {
          "year_of_publication": 2014
         },
         {
          "year_of_publication": 2014
         },
         {
          "year_of_publication": 2014
         },
         {
          "year_of_publication": 2014
         },
         {
          "year_of_publication": 2014
         },
         {
          "year_of_publication": 2014
         },
         {
          "year_of_publication": 2014
         },
         {
          "year_of_publication": 2014
         },
         {
          "year_of_publication": 2014
         },
         {
          "year_of_publication": 2014
         },
         {
          "year_of_publication": 2014
         },
         {
          "year_of_publication": 2014
         },
         {
          "year_of_publication": 2014
         },
         {
          "year_of_publication": 2014
         },
         {
          "year_of_publication": 2014
         },
         {
          "year_of_publication": 2014
         },
         {
          "year_of_publication": 2014
         },
         {
          "year_of_publication": 2014
         },
         {
          "year_of_publication": 2014
         },
         {
          "year_of_publication": 2014
         },
         {
          "year_of_publication": 2014
         },
         {
          "year_of_publication": 2014
         },
         {
          "year_of_publication": 2014
         },
         {
          "year_of_publication": 2014
         },
         {
          "year_of_publication": 2014
         },
         {
          "year_of_publication": 2014
         },
         {
          "year_of_publication": 2014
         },
         {
          "year_of_publication": 2014
         },
         {
          "year_of_publication": 2014
         },
         {
          "year_of_publication": 2014
         },
         {
          "year_of_publication": 2014
         },
         {
          "year_of_publication": 2014
         },
         {
          "year_of_publication": 2014
         },
         {
          "year_of_publication": 2014
         },
         {
          "year_of_publication": 2014
         },
         {
          "year_of_publication": 2014
         },
         {
          "year_of_publication": 2014
         },
         {
          "year_of_publication": 2014
         },
         {
          "year_of_publication": 2014
         },
         {
          "year_of_publication": 2014
         },
         {
          "year_of_publication": 2014
         },
         {
          "year_of_publication": 2014
         },
         {
          "year_of_publication": 2014
         },
         {
          "year_of_publication": 2014
         },
         {
          "year_of_publication": 2014
         },
         {
          "year_of_publication": 2014
         },
         {
          "year_of_publication": 2014
         },
         {
          "year_of_publication": 2014
         },
         {
          "year_of_publication": 2014
         },
         {
          "year_of_publication": 2014
         },
         {
          "year_of_publication": 2014
         },
         {
          "year_of_publication": 2014
         },
         {
          "year_of_publication": 2014
         },
         {
          "year_of_publication": 2014
         },
         {
          "year_of_publication": 2014
         },
         {
          "year_of_publication": 2014
         },
         {
          "year_of_publication": 2014
         },
         {
          "year_of_publication": 2014
         },
         {
          "year_of_publication": 2014
         },
         {
          "year_of_publication": 2014
         },
         {
          "year_of_publication": 2014
         },
         {
          "year_of_publication": 2014
         },
         {
          "year_of_publication": 2014
         },
         {
          "year_of_publication": 2014
         },
         {
          "year_of_publication": 2014
         },
         {
          "year_of_publication": 2014
         },
         {
          "year_of_publication": 2014
         },
         {
          "year_of_publication": 2014
         },
         {
          "year_of_publication": 2014
         },
         {
          "year_of_publication": 2014
         },
         {
          "year_of_publication": 2014
         },
         {
          "year_of_publication": 2014
         },
         {
          "year_of_publication": 2014
         },
         {
          "year_of_publication": 2014
         },
         {
          "year_of_publication": 2014
         },
         {
          "year_of_publication": 2014
         },
         {
          "year_of_publication": 2014
         },
         {
          "year_of_publication": 2014
         },
         {
          "year_of_publication": 2014
         },
         {
          "year_of_publication": 2014
         },
         {
          "year_of_publication": 2014
         },
         {
          "year_of_publication": 2014
         },
         {
          "year_of_publication": 2014
         },
         {
          "year_of_publication": 2014
         },
         {
          "year_of_publication": 2014
         },
         {
          "year_of_publication": 2014
         },
         {
          "year_of_publication": 2014
         },
         {
          "year_of_publication": 2014
         },
         {
          "year_of_publication": 2014
         },
         {
          "year_of_publication": 2014
         },
         {
          "year_of_publication": 2014
         },
         {
          "year_of_publication": 2014
         },
         {
          "year_of_publication": 2014
         },
         {
          "year_of_publication": 2014
         },
         {
          "year_of_publication": 2014
         },
         {
          "year_of_publication": 2014
         },
         {
          "year_of_publication": 2014
         },
         {
          "year_of_publication": 2014
         },
         {
          "year_of_publication": 2014
         },
         {
          "year_of_publication": 2014
         },
         {
          "year_of_publication": 2014
         },
         {
          "year_of_publication": 2014
         },
         {
          "year_of_publication": 2014
         },
         {
          "year_of_publication": 2014
         },
         {
          "year_of_publication": 2014
         },
         {
          "year_of_publication": 2014
         },
         {
          "year_of_publication": 2014
         },
         {
          "year_of_publication": 2014
         },
         {
          "year_of_publication": 2014
         },
         {
          "year_of_publication": 2014
         },
         {
          "year_of_publication": 2014
         },
         {
          "year_of_publication": 2014
         },
         {
          "year_of_publication": 2014
         },
         {
          "year_of_publication": 2014
         },
         {
          "year_of_publication": 2014
         },
         {
          "year_of_publication": 2014
         },
         {
          "year_of_publication": 2014
         },
         {
          "year_of_publication": 2014
         },
         {
          "year_of_publication": 2014
         },
         {
          "year_of_publication": 2014
         },
         {
          "year_of_publication": 2014
         },
         {
          "year_of_publication": 2014
         },
         {
          "year_of_publication": 2014
         },
         {
          "year_of_publication": 2014
         },
         {
          "year_of_publication": 2014
         },
         {
          "year_of_publication": 2014
         },
         {
          "year_of_publication": 2014
         },
         {
          "year_of_publication": 2014
         },
         {
          "year_of_publication": 2014
         },
         {
          "year_of_publication": 2014
         },
         {
          "year_of_publication": 2014
         },
         {
          "year_of_publication": 2014
         },
         {
          "year_of_publication": 2014
         },
         {
          "year_of_publication": 2014
         },
         {
          "year_of_publication": 2014
         },
         {
          "year_of_publication": 2014
         },
         {
          "year_of_publication": 2014
         },
         {
          "year_of_publication": 2014
         },
         {
          "year_of_publication": 2014
         },
         {
          "year_of_publication": 2014
         },
         {
          "year_of_publication": 2014
         },
         {
          "year_of_publication": 2014
         },
         {
          "year_of_publication": 2014
         },
         {
          "year_of_publication": 2014
         },
         {
          "year_of_publication": 2014
         },
         {
          "year_of_publication": 2014
         },
         {
          "year_of_publication": 2014
         },
         {
          "year_of_publication": 2014
         },
         {
          "year_of_publication": 2014
         },
         {
          "year_of_publication": 2014
         },
         {
          "year_of_publication": 2014
         },
         {
          "year_of_publication": 2014
         },
         {
          "year_of_publication": 2014
         },
         {
          "year_of_publication": 2014
         },
         {
          "year_of_publication": 2014
         },
         {
          "year_of_publication": 2014
         },
         {
          "year_of_publication": 2014
         },
         {
          "year_of_publication": 2014
         },
         {
          "year_of_publication": 2014
         },
         {
          "year_of_publication": 2014
         },
         {
          "year_of_publication": 2014
         },
         {
          "year_of_publication": 2014
         },
         {
          "year_of_publication": 2014
         },
         {
          "year_of_publication": 2014
         },
         {
          "year_of_publication": 2014
         },
         {
          "year_of_publication": 2014
         },
         {
          "year_of_publication": 2014
         },
         {
          "year_of_publication": 2014
         },
         {
          "year_of_publication": 2014
         },
         {
          "year_of_publication": 2014
         },
         {
          "year_of_publication": 2014
         },
         {
          "year_of_publication": 2014
         },
         {
          "year_of_publication": 2014
         },
         {
          "year_of_publication": 2014
         },
         {
          "year_of_publication": 2014
         },
         {
          "year_of_publication": 2014
         },
         {
          "year_of_publication": 2014
         },
         {
          "year_of_publication": 2014
         },
         {
          "year_of_publication": 2014
         },
         {
          "year_of_publication": 2014
         },
         {
          "year_of_publication": 2014
         },
         {
          "year_of_publication": 2014
         },
         {
          "year_of_publication": 2014
         },
         {
          "year_of_publication": 2014
         },
         {
          "year_of_publication": 2014
         },
         {
          "year_of_publication": 2014
         },
         {
          "year_of_publication": 2014
         },
         {
          "year_of_publication": 2014
         },
         {
          "year_of_publication": 2014
         },
         {
          "year_of_publication": 2014
         },
         {
          "year_of_publication": 2014
         },
         {
          "year_of_publication": 2014
         },
         {
          "year_of_publication": 2014
         },
         {
          "year_of_publication": 2014
         },
         {
          "year_of_publication": 2014
         },
         {
          "year_of_publication": 2014
         },
         {
          "year_of_publication": 2014
         },
         {
          "year_of_publication": 2014
         },
         {
          "year_of_publication": 2014
         },
         {
          "year_of_publication": 2014
         },
         {
          "year_of_publication": 2014
         },
         {
          "year_of_publication": 2014
         },
         {
          "year_of_publication": 2014
         },
         {
          "year_of_publication": 2014
         },
         {
          "year_of_publication": 2014
         },
         {
          "year_of_publication": 2014
         },
         {
          "year_of_publication": 2014
         },
         {
          "year_of_publication": 2014
         },
         {
          "year_of_publication": 2014
         },
         {
          "year_of_publication": 2014
         },
         {
          "year_of_publication": 2014
         },
         {
          "year_of_publication": 2014
         },
         {
          "year_of_publication": 2014
         },
         {
          "year_of_publication": 2014
         },
         {
          "year_of_publication": 2014
         },
         {
          "year_of_publication": 2014
         },
         {
          "year_of_publication": 2014
         },
         {
          "year_of_publication": 2014
         },
         {
          "year_of_publication": 2014
         },
         {
          "year_of_publication": 2014
         },
         {
          "year_of_publication": 2014
         },
         {
          "year_of_publication": 2014
         },
         {
          "year_of_publication": 2014
         },
         {
          "year_of_publication": 2014
         },
         {
          "year_of_publication": 2014
         },
         {
          "year_of_publication": 2014
         },
         {
          "year_of_publication": 2014
         },
         {
          "year_of_publication": 2014
         },
         {
          "year_of_publication": 2014
         },
         {
          "year_of_publication": 2014
         },
         {
          "year_of_publication": 2014
         },
         {
          "year_of_publication": 2014
         },
         {
          "year_of_publication": 2014
         },
         {
          "year_of_publication": 2014
         },
         {
          "year_of_publication": 2014
         },
         {
          "year_of_publication": 2014
         },
         {
          "year_of_publication": 2014
         },
         {
          "year_of_publication": 2014
         },
         {
          "year_of_publication": 2014
         },
         {
          "year_of_publication": 2014
         },
         {
          "year_of_publication": 2014
         },
         {
          "year_of_publication": 2014
         },
         {
          "year_of_publication": 2014
         },
         {
          "year_of_publication": 2014
         },
         {
          "year_of_publication": 2014
         },
         {
          "year_of_publication": 2014
         },
         {
          "year_of_publication": 2014
         },
         {
          "year_of_publication": 2014
         },
         {
          "year_of_publication": 2014
         },
         {
          "year_of_publication": 2014
         },
         {
          "year_of_publication": 2014
         },
         {
          "year_of_publication": 2014
         },
         {
          "year_of_publication": 2014
         },
         {
          "year_of_publication": 2014
         },
         {
          "year_of_publication": 2014
         },
         {
          "year_of_publication": 2014
         },
         {
          "year_of_publication": 2014
         },
         {
          "year_of_publication": 2014
         },
         {
          "year_of_publication": 2014
         },
         {
          "year_of_publication": 2014
         },
         {
          "year_of_publication": 2014
         },
         {
          "year_of_publication": 2014
         },
         {
          "year_of_publication": 2014
         },
         {
          "year_of_publication": 2014
         },
         {
          "year_of_publication": 2014
         },
         {
          "year_of_publication": 2014
         },
         {
          "year_of_publication": 2014
         },
         {
          "year_of_publication": 2014
         },
         {
          "year_of_publication": 2014
         },
         {
          "year_of_publication": 2014
         },
         {
          "year_of_publication": 2014
         },
         {
          "year_of_publication": 2014
         },
         {
          "year_of_publication": 2014
         },
         {
          "year_of_publication": 2014
         },
         {
          "year_of_publication": 2014
         },
         {
          "year_of_publication": 2014
         },
         {
          "year_of_publication": 2014
         },
         {
          "year_of_publication": 2014
         },
         {
          "year_of_publication": 2014
         },
         {
          "year_of_publication": 2014
         },
         {
          "year_of_publication": 2014
         },
         {
          "year_of_publication": 2014
         },
         {
          "year_of_publication": 2014
         },
         {
          "year_of_publication": 2014
         },
         {
          "year_of_publication": 2014
         },
         {
          "year_of_publication": 2014
         },
         {
          "year_of_publication": 2014
         },
         {
          "year_of_publication": 2014
         },
         {
          "year_of_publication": 2014
         },
         {
          "year_of_publication": 2014
         },
         {
          "year_of_publication": 2014
         },
         {
          "year_of_publication": 2014
         },
         {
          "year_of_publication": 2014
         },
         {
          "year_of_publication": 2014
         },
         {
          "year_of_publication": 2014
         },
         {
          "year_of_publication": 2014
         },
         {
          "year_of_publication": 2014
         },
         {
          "year_of_publication": 2014
         },
         {
          "year_of_publication": 2014
         },
         {
          "year_of_publication": 2014
         },
         {
          "year_of_publication": 2014
         },
         {
          "year_of_publication": 2014
         },
         {
          "year_of_publication": 2014
         },
         {
          "year_of_publication": 2014
         },
         {
          "year_of_publication": 2014
         },
         {
          "year_of_publication": 2014
         },
         {
          "year_of_publication": 2014
         },
         {
          "year_of_publication": 2014
         },
         {
          "year_of_publication": 2014
         },
         {
          "year_of_publication": 2014
         },
         {
          "year_of_publication": 2014
         },
         {
          "year_of_publication": 2014
         },
         {
          "year_of_publication": 2014
         },
         {
          "year_of_publication": 2014
         },
         {
          "year_of_publication": 2014
         },
         {
          "year_of_publication": 2014
         },
         {
          "year_of_publication": 2014
         },
         {
          "year_of_publication": 2014
         },
         {
          "year_of_publication": 2014
         },
         {
          "year_of_publication": 2014
         },
         {
          "year_of_publication": 2014
         },
         {
          "year_of_publication": 2014
         },
         {
          "year_of_publication": 2014
         },
         {
          "year_of_publication": 2014
         },
         {
          "year_of_publication": 2014
         },
         {
          "year_of_publication": 2014
         },
         {
          "year_of_publication": 2014
         },
         {
          "year_of_publication": 2014
         },
         {
          "year_of_publication": 2014
         },
         {
          "year_of_publication": 2014
         },
         {
          "year_of_publication": 2014
         },
         {
          "year_of_publication": 2014
         },
         {
          "year_of_publication": 2014
         },
         {
          "year_of_publication": 2014
         },
         {
          "year_of_publication": 2014
         },
         {
          "year_of_publication": 2014
         },
         {
          "year_of_publication": 2014
         },
         {
          "year_of_publication": 2014
         },
         {
          "year_of_publication": 2014
         },
         {
          "year_of_publication": 2014
         },
         {
          "year_of_publication": 2014
         },
         {
          "year_of_publication": 2014
         },
         {
          "year_of_publication": 2014
         },
         {
          "year_of_publication": 2014
         },
         {
          "year_of_publication": 2014
         },
         {
          "year_of_publication": 2014
         },
         {
          "year_of_publication": 2014
         },
         {
          "year_of_publication": 2014
         },
         {
          "year_of_publication": 2014
         },
         {
          "year_of_publication": 2014
         },
         {
          "year_of_publication": 2014
         },
         {
          "year_of_publication": 2014
         },
         {
          "year_of_publication": 2014
         },
         {
          "year_of_publication": 2014
         },
         {
          "year_of_publication": 2014
         },
         {
          "year_of_publication": 2014
         },
         {
          "year_of_publication": 2014
         },
         {
          "year_of_publication": 2014
         },
         {
          "year_of_publication": 2014
         },
         {
          "year_of_publication": 2014
         },
         {
          "year_of_publication": 2014
         },
         {
          "year_of_publication": 2014
         },
         {
          "year_of_publication": 2014
         },
         {
          "year_of_publication": 2014
         },
         {
          "year_of_publication": 2014
         },
         {
          "year_of_publication": 2014
         },
         {
          "year_of_publication": 2014
         },
         {
          "year_of_publication": 2014
         },
         {
          "year_of_publication": 2014
         },
         {
          "year_of_publication": 2014
         },
         {
          "year_of_publication": 2014
         },
         {
          "year_of_publication": 2014
         },
         {
          "year_of_publication": 2014
         },
         {
          "year_of_publication": 2014
         },
         {
          "year_of_publication": 2014
         },
         {
          "year_of_publication": 2014
         },
         {
          "year_of_publication": 2014
         },
         {
          "year_of_publication": 2014
         },
         {
          "year_of_publication": 2014
         },
         {
          "year_of_publication": 2014
         },
         {
          "year_of_publication": 2014
         },
         {
          "year_of_publication": 2014
         },
         {
          "year_of_publication": 2014
         },
         {
          "year_of_publication": 2014
         },
         {
          "year_of_publication": 2014
         },
         {
          "year_of_publication": 2014
         },
         {
          "year_of_publication": 2014
         },
         {
          "year_of_publication": 2014
         },
         {
          "year_of_publication": 2014
         },
         {
          "year_of_publication": 2014
         },
         {
          "year_of_publication": 2014
         },
         {
          "year_of_publication": 2014
         },
         {
          "year_of_publication": 2014
         },
         {
          "year_of_publication": 2014
         },
         {
          "year_of_publication": 2014
         },
         {
          "year_of_publication": 2014
         },
         {
          "year_of_publication": 2014
         },
         {
          "year_of_publication": 2014
         },
         {
          "year_of_publication": 2014
         },
         {
          "year_of_publication": 2014
         },
         {
          "year_of_publication": 2014
         },
         {
          "year_of_publication": 2014
         },
         {
          "year_of_publication": 2014
         },
         {
          "year_of_publication": 2014
         },
         {
          "year_of_publication": 2014
         },
         {
          "year_of_publication": 2014
         },
         {
          "year_of_publication": 2014
         },
         {
          "year_of_publication": 2014
         },
         {
          "year_of_publication": 2013
         },
         {
          "year_of_publication": 2013
         },
         {
          "year_of_publication": 2013
         },
         {
          "year_of_publication": 2013
         },
         {
          "year_of_publication": 2013
         },
         {
          "year_of_publication": 2013
         },
         {
          "year_of_publication": 2013
         },
         {
          "year_of_publication": 2013
         },
         {
          "year_of_publication": 2013
         },
         {
          "year_of_publication": 2013
         },
         {
          "year_of_publication": 2013
         },
         {
          "year_of_publication": 2013
         },
         {
          "year_of_publication": 2013
         },
         {
          "year_of_publication": 2013
         },
         {
          "year_of_publication": 2013
         },
         {
          "year_of_publication": 2013
         },
         {
          "year_of_publication": 2013
         },
         {
          "year_of_publication": 2013
         },
         {
          "year_of_publication": 2013
         },
         {
          "year_of_publication": 2013
         },
         {
          "year_of_publication": 2013
         },
         {
          "year_of_publication": 2013
         },
         {
          "year_of_publication": 2013
         },
         {
          "year_of_publication": 2013
         },
         {
          "year_of_publication": 2013
         },
         {
          "year_of_publication": 2013
         },
         {
          "year_of_publication": 2013
         },
         {
          "year_of_publication": 2013
         },
         {
          "year_of_publication": 2013
         },
         {
          "year_of_publication": 2013
         },
         {
          "year_of_publication": 2013
         },
         {
          "year_of_publication": 2013
         },
         {
          "year_of_publication": 2013
         },
         {
          "year_of_publication": 2013
         },
         {
          "year_of_publication": 2013
         },
         {
          "year_of_publication": 2013
         },
         {
          "year_of_publication": 2013
         },
         {
          "year_of_publication": 2013
         },
         {
          "year_of_publication": 2013
         },
         {
          "year_of_publication": 2013
         },
         {
          "year_of_publication": 2013
         },
         {
          "year_of_publication": 2013
         },
         {
          "year_of_publication": 2013
         },
         {
          "year_of_publication": 2013
         },
         {
          "year_of_publication": 2013
         },
         {
          "year_of_publication": 2013
         },
         {
          "year_of_publication": 2013
         },
         {
          "year_of_publication": 2013
         },
         {
          "year_of_publication": 2013
         },
         {
          "year_of_publication": 2013
         },
         {
          "year_of_publication": 2013
         },
         {
          "year_of_publication": 2013
         },
         {
          "year_of_publication": 2013
         },
         {
          "year_of_publication": 2013
         },
         {
          "year_of_publication": 2013
         },
         {
          "year_of_publication": 2013
         },
         {
          "year_of_publication": 2013
         },
         {
          "year_of_publication": 2013
         },
         {
          "year_of_publication": 2013
         },
         {
          "year_of_publication": 2013
         },
         {
          "year_of_publication": 2013
         },
         {
          "year_of_publication": 2013
         },
         {
          "year_of_publication": 2013
         },
         {
          "year_of_publication": 2013
         },
         {
          "year_of_publication": 2013
         },
         {
          "year_of_publication": 2013
         },
         {
          "year_of_publication": 2013
         },
         {
          "year_of_publication": 2013
         },
         {
          "year_of_publication": 2013
         },
         {
          "year_of_publication": 2013
         },
         {
          "year_of_publication": 2013
         },
         {
          "year_of_publication": 2013
         },
         {
          "year_of_publication": 2013
         },
         {
          "year_of_publication": 2013
         },
         {
          "year_of_publication": 2013
         },
         {
          "year_of_publication": 2013
         },
         {
          "year_of_publication": 2013
         },
         {
          "year_of_publication": 2013
         },
         {
          "year_of_publication": 2013
         },
         {
          "year_of_publication": 2013
         },
         {
          "year_of_publication": 2013
         },
         {
          "year_of_publication": 2013
         },
         {
          "year_of_publication": 2013
         },
         {
          "year_of_publication": 2013
         },
         {
          "year_of_publication": 2013
         },
         {
          "year_of_publication": 2013
         },
         {
          "year_of_publication": 2013
         },
         {
          "year_of_publication": 2013
         },
         {
          "year_of_publication": 2013
         },
         {
          "year_of_publication": 2013
         },
         {
          "year_of_publication": 2013
         },
         {
          "year_of_publication": 2013
         },
         {
          "year_of_publication": 2013
         },
         {
          "year_of_publication": 2013
         },
         {
          "year_of_publication": 2013
         },
         {
          "year_of_publication": 2013
         },
         {
          "year_of_publication": 2013
         },
         {
          "year_of_publication": 2013
         },
         {
          "year_of_publication": 2013
         },
         {
          "year_of_publication": 2013
         },
         {
          "year_of_publication": 2013
         },
         {
          "year_of_publication": 2013
         },
         {
          "year_of_publication": 2013
         },
         {
          "year_of_publication": 2013
         },
         {
          "year_of_publication": 2013
         },
         {
          "year_of_publication": 2013
         },
         {
          "year_of_publication": 2013
         },
         {
          "year_of_publication": 2013
         },
         {
          "year_of_publication": 2013
         },
         {
          "year_of_publication": 2013
         },
         {
          "year_of_publication": 2013
         },
         {
          "year_of_publication": 2013
         },
         {
          "year_of_publication": 2013
         },
         {
          "year_of_publication": 2013
         },
         {
          "year_of_publication": 2013
         },
         {
          "year_of_publication": 2013
         },
         {
          "year_of_publication": 2013
         },
         {
          "year_of_publication": 2013
         },
         {
          "year_of_publication": 2013
         },
         {
          "year_of_publication": 2013
         },
         {
          "year_of_publication": 2013
         },
         {
          "year_of_publication": 2013
         },
         {
          "year_of_publication": 2013
         },
         {
          "year_of_publication": 2013
         },
         {
          "year_of_publication": 2013
         },
         {
          "year_of_publication": 2013
         },
         {
          "year_of_publication": 2013
         },
         {
          "year_of_publication": 2013
         },
         {
          "year_of_publication": 2013
         },
         {
          "year_of_publication": 2013
         },
         {
          "year_of_publication": 2013
         },
         {
          "year_of_publication": 2013
         },
         {
          "year_of_publication": 2013
         },
         {
          "year_of_publication": 2013
         },
         {
          "year_of_publication": 2013
         },
         {
          "year_of_publication": 2013
         },
         {
          "year_of_publication": 2013
         },
         {
          "year_of_publication": 2013
         },
         {
          "year_of_publication": 2013
         },
         {
          "year_of_publication": 2013
         },
         {
          "year_of_publication": 2013
         },
         {
          "year_of_publication": 2013
         },
         {
          "year_of_publication": 2013
         },
         {
          "year_of_publication": 2013
         },
         {
          "year_of_publication": 2013
         },
         {
          "year_of_publication": 2013
         },
         {
          "year_of_publication": 2013
         },
         {
          "year_of_publication": 2013
         },
         {
          "year_of_publication": 2013
         },
         {
          "year_of_publication": 2013
         },
         {
          "year_of_publication": 2013
         },
         {
          "year_of_publication": 2013
         },
         {
          "year_of_publication": 2013
         },
         {
          "year_of_publication": 2013
         },
         {
          "year_of_publication": 2013
         },
         {
          "year_of_publication": 2013
         },
         {
          "year_of_publication": 2013
         },
         {
          "year_of_publication": 2013
         },
         {
          "year_of_publication": 2013
         },
         {
          "year_of_publication": 2013
         },
         {
          "year_of_publication": 2013
         },
         {
          "year_of_publication": 2013
         },
         {
          "year_of_publication": 2013
         },
         {
          "year_of_publication": 2013
         },
         {
          "year_of_publication": 2013
         },
         {
          "year_of_publication": 2013
         },
         {
          "year_of_publication": 2013
         },
         {
          "year_of_publication": 2013
         },
         {
          "year_of_publication": 2013
         },
         {
          "year_of_publication": 2013
         },
         {
          "year_of_publication": 2013
         },
         {
          "year_of_publication": 2013
         },
         {
          "year_of_publication": 2013
         },
         {
          "year_of_publication": 2013
         },
         {
          "year_of_publication": 2013
         },
         {
          "year_of_publication": 2013
         },
         {
          "year_of_publication": 2013
         },
         {
          "year_of_publication": 2013
         },
         {
          "year_of_publication": 2013
         },
         {
          "year_of_publication": 2013
         },
         {
          "year_of_publication": 2013
         },
         {
          "year_of_publication": 2013
         },
         {
          "year_of_publication": 2013
         },
         {
          "year_of_publication": 2013
         },
         {
          "year_of_publication": 2013
         },
         {
          "year_of_publication": 2013
         },
         {
          "year_of_publication": 2013
         },
         {
          "year_of_publication": 2013
         },
         {
          "year_of_publication": 2013
         },
         {
          "year_of_publication": 2013
         },
         {
          "year_of_publication": 2013
         },
         {
          "year_of_publication": 2013
         },
         {
          "year_of_publication": 2013
         },
         {
          "year_of_publication": 2013
         },
         {
          "year_of_publication": 2013
         },
         {
          "year_of_publication": 2013
         },
         {
          "year_of_publication": 2013
         },
         {
          "year_of_publication": 2013
         },
         {
          "year_of_publication": 2013
         },
         {
          "year_of_publication": 2013
         },
         {
          "year_of_publication": 2013
         },
         {
          "year_of_publication": 2013
         },
         {
          "year_of_publication": 2013
         },
         {
          "year_of_publication": 2013
         },
         {
          "year_of_publication": 2013
         },
         {
          "year_of_publication": 2013
         },
         {
          "year_of_publication": 2013
         },
         {
          "year_of_publication": 2013
         },
         {
          "year_of_publication": 2013
         },
         {
          "year_of_publication": 2013
         },
         {
          "year_of_publication": 2013
         },
         {
          "year_of_publication": 2013
         },
         {
          "year_of_publication": 2013
         },
         {
          "year_of_publication": 2013
         },
         {
          "year_of_publication": 2013
         },
         {
          "year_of_publication": 2013
         },
         {
          "year_of_publication": 2013
         },
         {
          "year_of_publication": 2013
         },
         {
          "year_of_publication": 2013
         },
         {
          "year_of_publication": 2013
         },
         {
          "year_of_publication": 2013
         },
         {
          "year_of_publication": 2013
         },
         {
          "year_of_publication": 2013
         },
         {
          "year_of_publication": 2013
         },
         {
          "year_of_publication": 2013
         },
         {
          "year_of_publication": 2013
         },
         {
          "year_of_publication": 2013
         },
         {
          "year_of_publication": 2013
         },
         {
          "year_of_publication": 2013
         },
         {
          "year_of_publication": 2013
         },
         {
          "year_of_publication": 2013
         },
         {
          "year_of_publication": 2013
         },
         {
          "year_of_publication": 2013
         },
         {
          "year_of_publication": 2013
         },
         {
          "year_of_publication": 2013
         },
         {
          "year_of_publication": 2013
         },
         {
          "year_of_publication": 2013
         },
         {
          "year_of_publication": 2013
         },
         {
          "year_of_publication": 2013
         },
         {
          "year_of_publication": 2013
         },
         {
          "year_of_publication": 2013
         },
         {
          "year_of_publication": 2013
         },
         {
          "year_of_publication": 2013
         },
         {
          "year_of_publication": 2013
         },
         {
          "year_of_publication": 2013
         },
         {
          "year_of_publication": 2013
         },
         {
          "year_of_publication": 2013
         },
         {
          "year_of_publication": 2013
         },
         {
          "year_of_publication": 2013
         },
         {
          "year_of_publication": 2013
         },
         {
          "year_of_publication": 2013
         },
         {
          "year_of_publication": 2013
         },
         {
          "year_of_publication": 2013
         },
         {
          "year_of_publication": 2013
         },
         {
          "year_of_publication": 2013
         },
         {
          "year_of_publication": 2013
         },
         {
          "year_of_publication": 2013
         },
         {
          "year_of_publication": 2013
         },
         {
          "year_of_publication": 2013
         },
         {
          "year_of_publication": 2013
         },
         {
          "year_of_publication": 2013
         },
         {
          "year_of_publication": 2013
         },
         {
          "year_of_publication": 2013
         },
         {
          "year_of_publication": 2013
         },
         {
          "year_of_publication": 2013
         },
         {
          "year_of_publication": 2013
         },
         {
          "year_of_publication": 2013
         },
         {
          "year_of_publication": 2013
         },
         {
          "year_of_publication": 2013
         },
         {
          "year_of_publication": 2013
         },
         {
          "year_of_publication": 2013
         },
         {
          "year_of_publication": 2013
         },
         {
          "year_of_publication": 2013
         },
         {
          "year_of_publication": 2013
         },
         {
          "year_of_publication": 2013
         },
         {
          "year_of_publication": 2013
         },
         {
          "year_of_publication": 2013
         },
         {
          "year_of_publication": 2013
         },
         {
          "year_of_publication": 2013
         },
         {
          "year_of_publication": 2013
         },
         {
          "year_of_publication": 2013
         },
         {
          "year_of_publication": 2013
         },
         {
          "year_of_publication": 2013
         },
         {
          "year_of_publication": 2013
         },
         {
          "year_of_publication": 2013
         },
         {
          "year_of_publication": 2013
         },
         {
          "year_of_publication": 2013
         },
         {
          "year_of_publication": 2013
         },
         {
          "year_of_publication": 2013
         },
         {
          "year_of_publication": 2013
         },
         {
          "year_of_publication": 2013
         },
         {
          "year_of_publication": 2013
         },
         {
          "year_of_publication": 2013
         },
         {
          "year_of_publication": 2013
         },
         {
          "year_of_publication": 2013
         },
         {
          "year_of_publication": 2013
         },
         {
          "year_of_publication": 2013
         },
         {
          "year_of_publication": 2013
         },
         {
          "year_of_publication": 2013
         },
         {
          "year_of_publication": 2013
         },
         {
          "year_of_publication": 2013
         },
         {
          "year_of_publication": 2013
         },
         {
          "year_of_publication": 2013
         },
         {
          "year_of_publication": 2013
         },
         {
          "year_of_publication": 2013
         },
         {
          "year_of_publication": 2013
         },
         {
          "year_of_publication": 2013
         },
         {
          "year_of_publication": 2013
         },
         {
          "year_of_publication": 2013
         },
         {
          "year_of_publication": 2013
         },
         {
          "year_of_publication": 2013
         },
         {
          "year_of_publication": 2013
         },
         {
          "year_of_publication": 2013
         },
         {
          "year_of_publication": 2013
         },
         {
          "year_of_publication": 2013
         },
         {
          "year_of_publication": 2013
         },
         {
          "year_of_publication": 2013
         },
         {
          "year_of_publication": 2013
         },
         {
          "year_of_publication": 2013
         },
         {
          "year_of_publication": 2013
         },
         {
          "year_of_publication": 2013
         },
         {
          "year_of_publication": 2013
         },
         {
          "year_of_publication": 2013
         },
         {
          "year_of_publication": 2013
         },
         {
          "year_of_publication": 2013
         },
         {
          "year_of_publication": 2013
         },
         {
          "year_of_publication": 2013
         },
         {
          "year_of_publication": 2013
         },
         {
          "year_of_publication": 2013
         },
         {
          "year_of_publication": 2013
         },
         {
          "year_of_publication": 2013
         },
         {
          "year_of_publication": 2013
         },
         {
          "year_of_publication": 2013
         },
         {
          "year_of_publication": 2013
         },
         {
          "year_of_publication": 2013
         },
         {
          "year_of_publication": 2013
         },
         {
          "year_of_publication": 2013
         },
         {
          "year_of_publication": 2013
         },
         {
          "year_of_publication": 2013
         },
         {
          "year_of_publication": 2013
         },
         {
          "year_of_publication": 2013
         },
         {
          "year_of_publication": 2013
         },
         {
          "year_of_publication": 2013
         },
         {
          "year_of_publication": 2013
         },
         {
          "year_of_publication": 2013
         },
         {
          "year_of_publication": 2013
         },
         {
          "year_of_publication": 2013
         },
         {
          "year_of_publication": 2013
         },
         {
          "year_of_publication": 2013
         },
         {
          "year_of_publication": 2013
         },
         {
          "year_of_publication": 2013
         },
         {
          "year_of_publication": 2013
         },
         {
          "year_of_publication": 2013
         },
         {
          "year_of_publication": 2013
         },
         {
          "year_of_publication": 2013
         },
         {
          "year_of_publication": 2013
         },
         {
          "year_of_publication": 2013
         },
         {
          "year_of_publication": 2013
         },
         {
          "year_of_publication": 2013
         },
         {
          "year_of_publication": 2013
         },
         {
          "year_of_publication": 2013
         },
         {
          "year_of_publication": 2013
         },
         {
          "year_of_publication": 2013
         },
         {
          "year_of_publication": 2013
         },
         {
          "year_of_publication": 2013
         },
         {
          "year_of_publication": 2013
         },
         {
          "year_of_publication": 2013
         },
         {
          "year_of_publication": 2013
         },
         {
          "year_of_publication": 2013
         },
         {
          "year_of_publication": 2013
         },
         {
          "year_of_publication": 2013
         },
         {
          "year_of_publication": 2013
         },
         {
          "year_of_publication": 2013
         },
         {
          "year_of_publication": 2013
         },
         {
          "year_of_publication": 2013
         },
         {
          "year_of_publication": 2013
         },
         {
          "year_of_publication": 2013
         },
         {
          "year_of_publication": 2013
         },
         {
          "year_of_publication": 2013
         },
         {
          "year_of_publication": 2013
         },
         {
          "year_of_publication": 2013
         },
         {
          "year_of_publication": 2013
         },
         {
          "year_of_publication": 2013
         },
         {
          "year_of_publication": 2013
         },
         {
          "year_of_publication": 2013
         },
         {
          "year_of_publication": 2013
         },
         {
          "year_of_publication": 2013
         },
         {
          "year_of_publication": 2013
         },
         {
          "year_of_publication": 2013
         },
         {
          "year_of_publication": 2013
         },
         {
          "year_of_publication": 2013
         },
         {
          "year_of_publication": 2013
         },
         {
          "year_of_publication": 2013
         },
         {
          "year_of_publication": 2013
         },
         {
          "year_of_publication": 2013
         },
         {
          "year_of_publication": 2013
         },
         {
          "year_of_publication": 2013
         },
         {
          "year_of_publication": 2013
         },
         {
          "year_of_publication": 2013
         },
         {
          "year_of_publication": 2013
         },
         {
          "year_of_publication": 2013
         },
         {
          "year_of_publication": 2013
         },
         {
          "year_of_publication": 2013
         },
         {
          "year_of_publication": 2013
         },
         {
          "year_of_publication": 2013
         },
         {
          "year_of_publication": 2013
         },
         {
          "year_of_publication": 2013
         },
         {
          "year_of_publication": 2013
         },
         {
          "year_of_publication": 2013
         },
         {
          "year_of_publication": 2013
         },
         {
          "year_of_publication": 2013
         },
         {
          "year_of_publication": 2013
         },
         {
          "year_of_publication": 2013
         },
         {
          "year_of_publication": 2013
         },
         {
          "year_of_publication": 2013
         },
         {
          "year_of_publication": 2013
         },
         {
          "year_of_publication": 2013
         },
         {
          "year_of_publication": 2013
         },
         {
          "year_of_publication": 2013
         },
         {
          "year_of_publication": 2013
         },
         {
          "year_of_publication": 2013
         },
         {
          "year_of_publication": 2013
         },
         {
          "year_of_publication": 2013
         },
         {
          "year_of_publication": 2013
         },
         {
          "year_of_publication": 2013
         },
         {
          "year_of_publication": 2013
         },
         {
          "year_of_publication": 2013
         },
         {
          "year_of_publication": 2013
         },
         {
          "year_of_publication": 2013
         },
         {
          "year_of_publication": 2013
         },
         {
          "year_of_publication": 2013
         },
         {
          "year_of_publication": 2013
         },
         {
          "year_of_publication": 2013
         },
         {
          "year_of_publication": 2013
         },
         {
          "year_of_publication": 2013
         },
         {
          "year_of_publication": 2013
         },
         {
          "year_of_publication": 2013
         },
         {
          "year_of_publication": 2013
         },
         {
          "year_of_publication": 2013
         },
         {
          "year_of_publication": 2013
         },
         {
          "year_of_publication": 2013
         },
         {
          "year_of_publication": 2013
         },
         {
          "year_of_publication": 2013
         },
         {
          "year_of_publication": 2013
         },
         {
          "year_of_publication": 2013
         },
         {
          "year_of_publication": 2013
         },
         {
          "year_of_publication": 2013
         },
         {
          "year_of_publication": 2013
         },
         {
          "year_of_publication": 2013
         },
         {
          "year_of_publication": 2013
         },
         {
          "year_of_publication": 2013
         },
         {
          "year_of_publication": 2013
         },
         {
          "year_of_publication": 2013
         },
         {
          "year_of_publication": 2013
         },
         {
          "year_of_publication": 2013
         },
         {
          "year_of_publication": 2013
         },
         {
          "year_of_publication": 2013
         },
         {
          "year_of_publication": 2013
         },
         {
          "year_of_publication": 2013
         },
         {
          "year_of_publication": 2013
         },
         {
          "year_of_publication": 2013
         },
         {
          "year_of_publication": 2013
         },
         {
          "year_of_publication": 2013
         },
         {
          "year_of_publication": 2013
         },
         {
          "year_of_publication": 2013
         },
         {
          "year_of_publication": 2013
         },
         {
          "year_of_publication": 2013
         },
         {
          "year_of_publication": 2013
         },
         {
          "year_of_publication": 2013
         },
         {
          "year_of_publication": 2013
         },
         {
          "year_of_publication": 2013
         },
         {
          "year_of_publication": 2013
         },
         {
          "year_of_publication": 2013
         },
         {
          "year_of_publication": 2013
         },
         {
          "year_of_publication": 2013
         },
         {
          "year_of_publication": 2013
         },
         {
          "year_of_publication": 2013
         },
         {
          "year_of_publication": 2013
         },
         {
          "year_of_publication": 2013
         },
         {
          "year_of_publication": 2013
         },
         {
          "year_of_publication": 2013
         },
         {
          "year_of_publication": 2013
         },
         {
          "year_of_publication": 2013
         },
         {
          "year_of_publication": 2013
         },
         {
          "year_of_publication": 2013
         },
         {
          "year_of_publication": 2013
         },
         {
          "year_of_publication": 2013
         },
         {
          "year_of_publication": 2013
         },
         {
          "year_of_publication": 2013
         },
         {
          "year_of_publication": 2013
         },
         {
          "year_of_publication": 2013
         },
         {
          "year_of_publication": 2013
         },
         {
          "year_of_publication": 2013
         },
         {
          "year_of_publication": 2013
         },
         {
          "year_of_publication": 2013
         },
         {
          "year_of_publication": 2013
         },
         {
          "year_of_publication": 2013
         },
         {
          "year_of_publication": 2013
         },
         {
          "year_of_publication": 2013
         },
         {
          "year_of_publication": 2013
         },
         {
          "year_of_publication": 2013
         },
         {
          "year_of_publication": 2013
         },
         {
          "year_of_publication": 2013
         },
         {
          "year_of_publication": 2013
         },
         {
          "year_of_publication": 2013
         },
         {
          "year_of_publication": 2013
         },
         {
          "year_of_publication": 2013
         },
         {
          "year_of_publication": 2013
         },
         {
          "year_of_publication": 2013
         },
         {
          "year_of_publication": 2013
         },
         {
          "year_of_publication": 2013
         },
         {
          "year_of_publication": 2013
         },
         {
          "year_of_publication": 2013
         },
         {
          "year_of_publication": 2013
         },
         {
          "year_of_publication": 2013
         },
         {
          "year_of_publication": 2013
         },
         {
          "year_of_publication": 2013
         },
         {
          "year_of_publication": 2013
         },
         {
          "year_of_publication": 2013
         },
         {
          "year_of_publication": 2013
         },
         {
          "year_of_publication": 2013
         },
         {
          "year_of_publication": 2013
         },
         {
          "year_of_publication": 2013
         },
         {
          "year_of_publication": 2013
         },
         {
          "year_of_publication": 2013
         },
         {
          "year_of_publication": 2013
         },
         {
          "year_of_publication": 2013
         },
         {
          "year_of_publication": 2013
         },
         {
          "year_of_publication": 2013
         },
         {
          "year_of_publication": 2013
         },
         {
          "year_of_publication": 2013
         },
         {
          "year_of_publication": 2013
         },
         {
          "year_of_publication": 2013
         },
         {
          "year_of_publication": 2013
         },
         {
          "year_of_publication": 2013
         },
         {
          "year_of_publication": 2013
         },
         {
          "year_of_publication": 2013
         },
         {
          "year_of_publication": 2013
         },
         {
          "year_of_publication": 2013
         },
         {
          "year_of_publication": 2013
         },
         {
          "year_of_publication": 2013
         },
         {
          "year_of_publication": 2013
         },
         {
          "year_of_publication": 2013
         },
         {
          "year_of_publication": 2013
         },
         {
          "year_of_publication": 2013
         },
         {
          "year_of_publication": 2013
         },
         {
          "year_of_publication": 2013
         },
         {
          "year_of_publication": 2013
         },
         {
          "year_of_publication": 2013
         },
         {
          "year_of_publication": 2013
         },
         {
          "year_of_publication": 2013
         },
         {
          "year_of_publication": 2013
         },
         {
          "year_of_publication": 2013
         },
         {
          "year_of_publication": 2013
         },
         {
          "year_of_publication": 2013
         },
         {
          "year_of_publication": 2013
         },
         {
          "year_of_publication": 2013
         },
         {
          "year_of_publication": 2013
         },
         {
          "year_of_publication": 2013
         },
         {
          "year_of_publication": 2013
         },
         {
          "year_of_publication": 2013
         },
         {
          "year_of_publication": 2013
         },
         {
          "year_of_publication": 2013
         },
         {
          "year_of_publication": 2013
         },
         {
          "year_of_publication": 2013
         },
         {
          "year_of_publication": 2013
         },
         {
          "year_of_publication": 2013
         },
         {
          "year_of_publication": 2013
         },
         {
          "year_of_publication": 2013
         },
         {
          "year_of_publication": 2013
         },
         {
          "year_of_publication": 2013
         },
         {
          "year_of_publication": 2013
         },
         {
          "year_of_publication": 2013
         },
         {
          "year_of_publication": 2013
         },
         {
          "year_of_publication": 2013
         },
         {
          "year_of_publication": 2013
         },
         {
          "year_of_publication": 2013
         },
         {
          "year_of_publication": 2013
         },
         {
          "year_of_publication": 2013
         },
         {
          "year_of_publication": 2013
         },
         {
          "year_of_publication": 2013
         },
         {
          "year_of_publication": 2013
         },
         {
          "year_of_publication": 2013
         },
         {
          "year_of_publication": 2013
         },
         {
          "year_of_publication": 2013
         },
         {
          "year_of_publication": 2013
         },
         {
          "year_of_publication": 2013
         },
         {
          "year_of_publication": 2013
         },
         {
          "year_of_publication": 2013
         },
         {
          "year_of_publication": 2013
         },
         {
          "year_of_publication": 2013
         },
         {
          "year_of_publication": 2013
         },
         {
          "year_of_publication": 2013
         },
         {
          "year_of_publication": 2013
         },
         {
          "year_of_publication": 2013
         },
         {
          "year_of_publication": 2013
         },
         {
          "year_of_publication": 2013
         },
         {
          "year_of_publication": 2013
         },
         {
          "year_of_publication": 2013
         },
         {
          "year_of_publication": 2013
         },
         {
          "year_of_publication": 2013
         },
         {
          "year_of_publication": 2013
         },
         {
          "year_of_publication": 2013
         },
         {
          "year_of_publication": 2013
         },
         {
          "year_of_publication": 2013
         },
         {
          "year_of_publication": 2013
         },
         {
          "year_of_publication": 2013
         },
         {
          "year_of_publication": 2013
         },
         {
          "year_of_publication": 2013
         },
         {
          "year_of_publication": 2013
         },
         {
          "year_of_publication": 2013
         },
         {
          "year_of_publication": 2013
         },
         {
          "year_of_publication": 2013
         },
         {
          "year_of_publication": 2013
         },
         {
          "year_of_publication": 2013
         },
         {
          "year_of_publication": 2013
         },
         {
          "year_of_publication": 2013
         },
         {
          "year_of_publication": 2013
         },
         {
          "year_of_publication": 2013
         },
         {
          "year_of_publication": 2013
         },
         {
          "year_of_publication": 2013
         },
         {
          "year_of_publication": 2013
         },
         {
          "year_of_publication": 2013
         },
         {
          "year_of_publication": 2013
         },
         {
          "year_of_publication": 2013
         },
         {
          "year_of_publication": 2013
         },
         {
          "year_of_publication": 2013
         },
         {
          "year_of_publication": 2013
         },
         {
          "year_of_publication": 2013
         },
         {
          "year_of_publication": 2013
         },
         {
          "year_of_publication": 2013
         },
         {
          "year_of_publication": 2013
         },
         {
          "year_of_publication": 2013
         },
         {
          "year_of_publication": 2013
         },
         {
          "year_of_publication": 2013
         },
         {
          "year_of_publication": 2013
         },
         {
          "year_of_publication": 2013
         },
         {
          "year_of_publication": 2013
         },
         {
          "year_of_publication": 2013
         },
         {
          "year_of_publication": 2013
         },
         {
          "year_of_publication": 2013
         },
         {
          "year_of_publication": 2013
         },
         {
          "year_of_publication": 2013
         },
         {
          "year_of_publication": 2013
         },
         {
          "year_of_publication": 2013
         },
         {
          "year_of_publication": 2013
         },
         {
          "year_of_publication": 2013
         },
         {
          "year_of_publication": 2013
         },
         {
          "year_of_publication": 2013
         },
         {
          "year_of_publication": 2013
         },
         {
          "year_of_publication": 2013
         },
         {
          "year_of_publication": 2013
         },
         {
          "year_of_publication": 2013
         },
         {
          "year_of_publication": 2013
         },
         {
          "year_of_publication": 2013
         },
         {
          "year_of_publication": 2013
         },
         {
          "year_of_publication": 2013
         },
         {
          "year_of_publication": 2013
         },
         {
          "year_of_publication": 2013
         },
         {
          "year_of_publication": 2013
         },
         {
          "year_of_publication": 2013
         },
         {
          "year_of_publication": 2013
         },
         {
          "year_of_publication": 2013
         },
         {
          "year_of_publication": 2013
         },
         {
          "year_of_publication": 2013
         },
         {
          "year_of_publication": 2013
         },
         {
          "year_of_publication": 2013
         },
         {
          "year_of_publication": 2013
         },
         {
          "year_of_publication": 2013
         },
         {
          "year_of_publication": 2013
         },
         {
          "year_of_publication": 2013
         },
         {
          "year_of_publication": 2013
         },
         {
          "year_of_publication": 2013
         },
         {
          "year_of_publication": 2013
         },
         {
          "year_of_publication": 2013
         },
         {
          "year_of_publication": 2013
         },
         {
          "year_of_publication": 2013
         },
         {
          "year_of_publication": 2013
         },
         {
          "year_of_publication": 2013
         },
         {
          "year_of_publication": 2013
         },
         {
          "year_of_publication": 2013
         },
         {
          "year_of_publication": 2013
         },
         {
          "year_of_publication": 2013
         },
         {
          "year_of_publication": 2013
         },
         {
          "year_of_publication": 2013
         },
         {
          "year_of_publication": 2013
         },
         {
          "year_of_publication": 2013
         },
         {
          "year_of_publication": 2013
         },
         {
          "year_of_publication": 2013
         },
         {
          "year_of_publication": 2013
         },
         {
          "year_of_publication": 2013
         },
         {
          "year_of_publication": 2013
         },
         {
          "year_of_publication": 2013
         },
         {
          "year_of_publication": 2013
         },
         {
          "year_of_publication": 2013
         },
         {
          "year_of_publication": 2013
         },
         {
          "year_of_publication": 2013
         },
         {
          "year_of_publication": 2013
         },
         {
          "year_of_publication": 2013
         },
         {
          "year_of_publication": 2013
         },
         {
          "year_of_publication": 2013
         },
         {
          "year_of_publication": 2013
         },
         {
          "year_of_publication": 2013
         },
         {
          "year_of_publication": 2013
         },
         {
          "year_of_publication": 2013
         },
         {
          "year_of_publication": 2013
         },
         {
          "year_of_publication": 2013
         },
         {
          "year_of_publication": 2013
         },
         {
          "year_of_publication": 2013
         },
         {
          "year_of_publication": 2013
         },
         {
          "year_of_publication": 2013
         },
         {
          "year_of_publication": 2013
         },
         {
          "year_of_publication": 2013
         },
         {
          "year_of_publication": 2013
         },
         {
          "year_of_publication": 2013
         },
         {
          "year_of_publication": 2013
         },
         {
          "year_of_publication": 2013
         },
         {
          "year_of_publication": 2013
         },
         {
          "year_of_publication": 2013
         },
         {
          "year_of_publication": 2013
         },
         {
          "year_of_publication": 2013
         },
         {
          "year_of_publication": 2013
         },
         {
          "year_of_publication": 2013
         },
         {
          "year_of_publication": 2013
         },
         {
          "year_of_publication": 2013
         },
         {
          "year_of_publication": 2013
         },
         {
          "year_of_publication": 2013
         },
         {
          "year_of_publication": 2013
         },
         {
          "year_of_publication": 2013
         },
         {
          "year_of_publication": 2013
         },
         {
          "year_of_publication": 2013
         },
         {
          "year_of_publication": 2013
         },
         {
          "year_of_publication": 2013
         },
         {
          "year_of_publication": 2013
         },
         {
          "year_of_publication": 2013
         },
         {
          "year_of_publication": 2013
         },
         {
          "year_of_publication": 2013
         },
         {
          "year_of_publication": 2013
         },
         {
          "year_of_publication": 2013
         },
         {
          "year_of_publication": 2013
         },
         {
          "year_of_publication": 2013
         },
         {
          "year_of_publication": 2013
         },
         {
          "year_of_publication": 2013
         },
         {
          "year_of_publication": 2013
         },
         {
          "year_of_publication": 2013
         },
         {
          "year_of_publication": 2013
         },
         {
          "year_of_publication": 2013
         },
         {
          "year_of_publication": 2013
         },
         {
          "year_of_publication": 2013
         },
         {
          "year_of_publication": 2013
         },
         {
          "year_of_publication": 2013
         },
         {
          "year_of_publication": 2013
         },
         {
          "year_of_publication": 2013
         },
         {
          "year_of_publication": 2013
         },
         {
          "year_of_publication": 2013
         },
         {
          "year_of_publication": 2013
         },
         {
          "year_of_publication": 2013
         },
         {
          "year_of_publication": 2013
         },
         {
          "year_of_publication": 2013
         },
         {
          "year_of_publication": 2013
         },
         {
          "year_of_publication": 2013
         },
         {
          "year_of_publication": 2013
         },
         {
          "year_of_publication": 2013
         },
         {
          "year_of_publication": 2013
         },
         {
          "year_of_publication": 2013
         },
         {
          "year_of_publication": 2013
         },
         {
          "year_of_publication": 2013
         },
         {
          "year_of_publication": 2013
         },
         {
          "year_of_publication": 2013
         },
         {
          "year_of_publication": 2013
         },
         {
          "year_of_publication": 2013
         },
         {
          "year_of_publication": 2013
         },
         {
          "year_of_publication": 2013
         },
         {
          "year_of_publication": 2013
         },
         {
          "year_of_publication": 2013
         },
         {
          "year_of_publication": 2013
         },
         {
          "year_of_publication": 2013
         },
         {
          "year_of_publication": 2013
         },
         {
          "year_of_publication": 2013
         },
         {
          "year_of_publication": 2013
         },
         {
          "year_of_publication": 2013
         },
         {
          "year_of_publication": 2013
         },
         {
          "year_of_publication": 2013
         },
         {
          "year_of_publication": 2013
         },
         {
          "year_of_publication": 2013
         },
         {
          "year_of_publication": 2013
         },
         {
          "year_of_publication": 2013
         },
         {
          "year_of_publication": 2013
         },
         {
          "year_of_publication": 2013
         },
         {
          "year_of_publication": 2013
         },
         {
          "year_of_publication": 2013
         },
         {
          "year_of_publication": 2013
         },
         {
          "year_of_publication": 2013
         },
         {
          "year_of_publication": 2013
         },
         {
          "year_of_publication": 2013
         },
         {
          "year_of_publication": 2013
         },
         {
          "year_of_publication": 2013
         },
         {
          "year_of_publication": 2013
         },
         {
          "year_of_publication": 2013
         },
         {
          "year_of_publication": 2013
         },
         {
          "year_of_publication": 2013
         },
         {
          "year_of_publication": 2013
         },
         {
          "year_of_publication": 2013
         },
         {
          "year_of_publication": 2013
         },
         {
          "year_of_publication": 2013
         },
         {
          "year_of_publication": 2013
         },
         {
          "year_of_publication": 2013
         },
         {
          "year_of_publication": 2013
         },
         {
          "year_of_publication": 2013
         },
         {
          "year_of_publication": 2013
         },
         {
          "year_of_publication": 2013
         },
         {
          "year_of_publication": 2013
         },
         {
          "year_of_publication": 2013
         },
         {
          "year_of_publication": 2013
         },
         {
          "year_of_publication": 2013
         },
         {
          "year_of_publication": 2013
         },
         {
          "year_of_publication": 2013
         },
         {
          "year_of_publication": 2013
         },
         {
          "year_of_publication": 2013
         },
         {
          "year_of_publication": 2013
         },
         {
          "year_of_publication": 2013
         },
         {
          "year_of_publication": 2013
         },
         {
          "year_of_publication": 2013
         },
         {
          "year_of_publication": 2013
         },
         {
          "year_of_publication": 2013
         },
         {
          "year_of_publication": 2013
         },
         {
          "year_of_publication": 2013
         },
         {
          "year_of_publication": 2013
         },
         {
          "year_of_publication": 2013
         },
         {
          "year_of_publication": 2013
         },
         {
          "year_of_publication": 2013
         },
         {
          "year_of_publication": 2013
         },
         {
          "year_of_publication": 2013
         },
         {
          "year_of_publication": 2013
         },
         {
          "year_of_publication": 2013
         },
         {
          "year_of_publication": 2013
         },
         {
          "year_of_publication": 2013
         },
         {
          "year_of_publication": 2013
         },
         {
          "year_of_publication": 2013
         },
         {
          "year_of_publication": 2013
         },
         {
          "year_of_publication": 2013
         },
         {
          "year_of_publication": 2013
         },
         {
          "year_of_publication": 2013
         },
         {
          "year_of_publication": 2013
         },
         {
          "year_of_publication": 2013
         },
         {
          "year_of_publication": 2013
         },
         {
          "year_of_publication": 2012
         },
         {
          "year_of_publication": 2012
         },
         {
          "year_of_publication": 2012
         },
         {
          "year_of_publication": 2012
         },
         {
          "year_of_publication": 2012
         },
         {
          "year_of_publication": 2012
         },
         {
          "year_of_publication": 2012
         },
         {
          "year_of_publication": 2012
         },
         {
          "year_of_publication": 2012
         },
         {
          "year_of_publication": 2012
         },
         {
          "year_of_publication": 2012
         },
         {
          "year_of_publication": 2012
         },
         {
          "year_of_publication": 2012
         },
         {
          "year_of_publication": 2012
         },
         {
          "year_of_publication": 2012
         },
         {
          "year_of_publication": 2012
         },
         {
          "year_of_publication": 2012
         },
         {
          "year_of_publication": 2012
         },
         {
          "year_of_publication": 2012
         },
         {
          "year_of_publication": 2012
         },
         {
          "year_of_publication": 2012
         },
         {
          "year_of_publication": 2012
         },
         {
          "year_of_publication": 2012
         },
         {
          "year_of_publication": 2012
         },
         {
          "year_of_publication": 2012
         },
         {
          "year_of_publication": 2012
         },
         {
          "year_of_publication": 2012
         },
         {
          "year_of_publication": 2012
         },
         {
          "year_of_publication": 2012
         },
         {
          "year_of_publication": 2012
         },
         {
          "year_of_publication": 2012
         },
         {
          "year_of_publication": 2012
         },
         {
          "year_of_publication": 2012
         },
         {
          "year_of_publication": 2012
         },
         {
          "year_of_publication": 2012
         },
         {
          "year_of_publication": 2012
         },
         {
          "year_of_publication": 2012
         },
         {
          "year_of_publication": 2012
         },
         {
          "year_of_publication": 2012
         },
         {
          "year_of_publication": 2012
         },
         {
          "year_of_publication": 2012
         },
         {
          "year_of_publication": 2012
         },
         {
          "year_of_publication": 2012
         },
         {
          "year_of_publication": 2012
         },
         {
          "year_of_publication": 2012
         },
         {
          "year_of_publication": 2012
         },
         {
          "year_of_publication": 2012
         },
         {
          "year_of_publication": 2012
         },
         {
          "year_of_publication": 2012
         },
         {
          "year_of_publication": 2012
         },
         {
          "year_of_publication": 2012
         },
         {
          "year_of_publication": 2012
         },
         {
          "year_of_publication": 2012
         },
         {
          "year_of_publication": 2012
         },
         {
          "year_of_publication": 2012
         },
         {
          "year_of_publication": 2012
         },
         {
          "year_of_publication": 2012
         },
         {
          "year_of_publication": 2012
         },
         {
          "year_of_publication": 2012
         },
         {
          "year_of_publication": 2012
         },
         {
          "year_of_publication": 2012
         },
         {
          "year_of_publication": 2012
         },
         {
          "year_of_publication": 2012
         },
         {
          "year_of_publication": 2012
         },
         {
          "year_of_publication": 2012
         },
         {
          "year_of_publication": 2012
         },
         {
          "year_of_publication": 2012
         },
         {
          "year_of_publication": 2012
         },
         {
          "year_of_publication": 2012
         },
         {
          "year_of_publication": 2012
         },
         {
          "year_of_publication": 2012
         },
         {
          "year_of_publication": 2012
         },
         {
          "year_of_publication": 2012
         },
         {
          "year_of_publication": 2012
         },
         {
          "year_of_publication": 2012
         },
         {
          "year_of_publication": 2012
         },
         {
          "year_of_publication": 2012
         },
         {
          "year_of_publication": 2012
         },
         {
          "year_of_publication": 2012
         },
         {
          "year_of_publication": 2012
         },
         {
          "year_of_publication": 2012
         },
         {
          "year_of_publication": 2012
         },
         {
          "year_of_publication": 2012
         },
         {
          "year_of_publication": 2012
         },
         {
          "year_of_publication": 2012
         },
         {
          "year_of_publication": 2012
         },
         {
          "year_of_publication": 2012
         },
         {
          "year_of_publication": 2012
         },
         {
          "year_of_publication": 2012
         },
         {
          "year_of_publication": 2012
         },
         {
          "year_of_publication": 2012
         },
         {
          "year_of_publication": 2012
         },
         {
          "year_of_publication": 2012
         },
         {
          "year_of_publication": 2012
         },
         {
          "year_of_publication": 2012
         },
         {
          "year_of_publication": 2012
         },
         {
          "year_of_publication": 2012
         },
         {
          "year_of_publication": 2012
         },
         {
          "year_of_publication": 2012
         },
         {
          "year_of_publication": 2012
         },
         {
          "year_of_publication": 2012
         },
         {
          "year_of_publication": 2012
         },
         {
          "year_of_publication": 2012
         },
         {
          "year_of_publication": 2012
         },
         {
          "year_of_publication": 2012
         },
         {
          "year_of_publication": 2012
         },
         {
          "year_of_publication": 2012
         },
         {
          "year_of_publication": 2012
         },
         {
          "year_of_publication": 2012
         },
         {
          "year_of_publication": 2012
         },
         {
          "year_of_publication": 2012
         },
         {
          "year_of_publication": 2012
         },
         {
          "year_of_publication": 2012
         },
         {
          "year_of_publication": 2012
         },
         {
          "year_of_publication": 2012
         },
         {
          "year_of_publication": 2012
         },
         {
          "year_of_publication": 2012
         },
         {
          "year_of_publication": 2012
         },
         {
          "year_of_publication": 2012
         },
         {
          "year_of_publication": 2012
         },
         {
          "year_of_publication": 2012
         },
         {
          "year_of_publication": 2012
         },
         {
          "year_of_publication": 2012
         },
         {
          "year_of_publication": 2012
         },
         {
          "year_of_publication": 2012
         },
         {
          "year_of_publication": 2012
         },
         {
          "year_of_publication": 2012
         },
         {
          "year_of_publication": 2012
         },
         {
          "year_of_publication": 2012
         },
         {
          "year_of_publication": 2012
         },
         {
          "year_of_publication": 2012
         },
         {
          "year_of_publication": 2012
         },
         {
          "year_of_publication": 2012
         },
         {
          "year_of_publication": 2012
         },
         {
          "year_of_publication": 2012
         },
         {
          "year_of_publication": 2012
         },
         {
          "year_of_publication": 2012
         },
         {
          "year_of_publication": 2012
         },
         {
          "year_of_publication": 2012
         },
         {
          "year_of_publication": 2012
         },
         {
          "year_of_publication": 2012
         },
         {
          "year_of_publication": 2012
         },
         {
          "year_of_publication": 2012
         },
         {
          "year_of_publication": 2012
         },
         {
          "year_of_publication": 2012
         },
         {
          "year_of_publication": 2012
         },
         {
          "year_of_publication": 2012
         },
         {
          "year_of_publication": 2012
         },
         {
          "year_of_publication": 2012
         },
         {
          "year_of_publication": 2012
         },
         {
          "year_of_publication": 2012
         },
         {
          "year_of_publication": 2012
         },
         {
          "year_of_publication": 2012
         },
         {
          "year_of_publication": 2012
         },
         {
          "year_of_publication": 2012
         },
         {
          "year_of_publication": 2012
         },
         {
          "year_of_publication": 2012
         },
         {
          "year_of_publication": 2012
         },
         {
          "year_of_publication": 2012
         },
         {
          "year_of_publication": 2012
         },
         {
          "year_of_publication": 2012
         },
         {
          "year_of_publication": 2012
         },
         {
          "year_of_publication": 2012
         },
         {
          "year_of_publication": 2012
         },
         {
          "year_of_publication": 2012
         },
         {
          "year_of_publication": 2012
         },
         {
          "year_of_publication": 2012
         },
         {
          "year_of_publication": 2012
         },
         {
          "year_of_publication": 2012
         },
         {
          "year_of_publication": 2012
         },
         {
          "year_of_publication": 2012
         },
         {
          "year_of_publication": 2012
         },
         {
          "year_of_publication": 2012
         },
         {
          "year_of_publication": 2012
         },
         {
          "year_of_publication": 2012
         },
         {
          "year_of_publication": 2012
         },
         {
          "year_of_publication": 2012
         },
         {
          "year_of_publication": 2012
         },
         {
          "year_of_publication": 2012
         },
         {
          "year_of_publication": 2012
         },
         {
          "year_of_publication": 2012
         },
         {
          "year_of_publication": 2012
         },
         {
          "year_of_publication": 2012
         },
         {
          "year_of_publication": 2012
         },
         {
          "year_of_publication": 2012
         },
         {
          "year_of_publication": 2012
         },
         {
          "year_of_publication": 2012
         },
         {
          "year_of_publication": 2012
         },
         {
          "year_of_publication": 2012
         },
         {
          "year_of_publication": 2012
         },
         {
          "year_of_publication": 2012
         },
         {
          "year_of_publication": 2012
         },
         {
          "year_of_publication": 2012
         },
         {
          "year_of_publication": 2012
         },
         {
          "year_of_publication": 2012
         },
         {
          "year_of_publication": 2012
         },
         {
          "year_of_publication": 2012
         },
         {
          "year_of_publication": 2012
         },
         {
          "year_of_publication": 2012
         },
         {
          "year_of_publication": 2012
         },
         {
          "year_of_publication": 2012
         },
         {
          "year_of_publication": 2012
         },
         {
          "year_of_publication": 2012
         },
         {
          "year_of_publication": 2012
         },
         {
          "year_of_publication": 2012
         },
         {
          "year_of_publication": 2012
         },
         {
          "year_of_publication": 2012
         },
         {
          "year_of_publication": 2012
         },
         {
          "year_of_publication": 2012
         },
         {
          "year_of_publication": 2012
         },
         {
          "year_of_publication": 2012
         },
         {
          "year_of_publication": 2012
         },
         {
          "year_of_publication": 2012
         },
         {
          "year_of_publication": 2012
         },
         {
          "year_of_publication": 2012
         },
         {
          "year_of_publication": 2012
         },
         {
          "year_of_publication": 2012
         },
         {
          "year_of_publication": 2012
         },
         {
          "year_of_publication": 2012
         },
         {
          "year_of_publication": 2012
         },
         {
          "year_of_publication": 2012
         },
         {
          "year_of_publication": 2012
         },
         {
          "year_of_publication": 2012
         },
         {
          "year_of_publication": 2012
         },
         {
          "year_of_publication": 2012
         },
         {
          "year_of_publication": 2012
         },
         {
          "year_of_publication": 2012
         },
         {
          "year_of_publication": 2012
         },
         {
          "year_of_publication": 2012
         },
         {
          "year_of_publication": 2012
         },
         {
          "year_of_publication": 2012
         },
         {
          "year_of_publication": 2012
         },
         {
          "year_of_publication": 2012
         },
         {
          "year_of_publication": 2012
         },
         {
          "year_of_publication": 2012
         },
         {
          "year_of_publication": 2012
         },
         {
          "year_of_publication": 2012
         },
         {
          "year_of_publication": 2012
         },
         {
          "year_of_publication": 2012
         },
         {
          "year_of_publication": 2012
         },
         {
          "year_of_publication": 2012
         },
         {
          "year_of_publication": 2012
         },
         {
          "year_of_publication": 2012
         },
         {
          "year_of_publication": 2012
         },
         {
          "year_of_publication": 2012
         },
         {
          "year_of_publication": 2012
         },
         {
          "year_of_publication": 2012
         },
         {
          "year_of_publication": 2012
         },
         {
          "year_of_publication": 2012
         },
         {
          "year_of_publication": 2012
         },
         {
          "year_of_publication": 2012
         },
         {
          "year_of_publication": 2012
         },
         {
          "year_of_publication": 2012
         },
         {
          "year_of_publication": 2012
         },
         {
          "year_of_publication": 2012
         },
         {
          "year_of_publication": 2012
         },
         {
          "year_of_publication": 2012
         },
         {
          "year_of_publication": 2012
         },
         {
          "year_of_publication": 2012
         },
         {
          "year_of_publication": 2012
         },
         {
          "year_of_publication": 2012
         },
         {
          "year_of_publication": 2012
         },
         {
          "year_of_publication": 2012
         },
         {
          "year_of_publication": 2012
         },
         {
          "year_of_publication": 2012
         },
         {
          "year_of_publication": 2012
         },
         {
          "year_of_publication": 2012
         },
         {
          "year_of_publication": 2012
         },
         {
          "year_of_publication": 2012
         },
         {
          "year_of_publication": 2012
         },
         {
          "year_of_publication": 2012
         },
         {
          "year_of_publication": 2012
         },
         {
          "year_of_publication": 2012
         },
         {
          "year_of_publication": 2012
         },
         {
          "year_of_publication": 2012
         },
         {
          "year_of_publication": 2012
         },
         {
          "year_of_publication": 2012
         },
         {
          "year_of_publication": 2012
         },
         {
          "year_of_publication": 2012
         },
         {
          "year_of_publication": 2012
         },
         {
          "year_of_publication": 2012
         },
         {
          "year_of_publication": 2012
         },
         {
          "year_of_publication": 2012
         },
         {
          "year_of_publication": 2012
         },
         {
          "year_of_publication": 2012
         },
         {
          "year_of_publication": 2012
         },
         {
          "year_of_publication": 2012
         },
         {
          "year_of_publication": 2012
         },
         {
          "year_of_publication": 2012
         },
         {
          "year_of_publication": 2012
         },
         {
          "year_of_publication": 2012
         },
         {
          "year_of_publication": 2012
         },
         {
          "year_of_publication": 2012
         },
         {
          "year_of_publication": 2012
         },
         {
          "year_of_publication": 2012
         },
         {
          "year_of_publication": 2012
         },
         {
          "year_of_publication": 2012
         },
         {
          "year_of_publication": 2012
         },
         {
          "year_of_publication": 2012
         },
         {
          "year_of_publication": 2012
         },
         {
          "year_of_publication": 2012
         },
         {
          "year_of_publication": 2012
         },
         {
          "year_of_publication": 2012
         },
         {
          "year_of_publication": 2012
         },
         {
          "year_of_publication": 2012
         },
         {
          "year_of_publication": 2012
         },
         {
          "year_of_publication": 2012
         },
         {
          "year_of_publication": 2012
         },
         {
          "year_of_publication": 2012
         },
         {
          "year_of_publication": 2012
         },
         {
          "year_of_publication": 2012
         },
         {
          "year_of_publication": 2012
         },
         {
          "year_of_publication": 2012
         },
         {
          "year_of_publication": 2012
         },
         {
          "year_of_publication": 2012
         },
         {
          "year_of_publication": 2012
         },
         {
          "year_of_publication": 2012
         },
         {
          "year_of_publication": 2012
         },
         {
          "year_of_publication": 2012
         },
         {
          "year_of_publication": 2012
         },
         {
          "year_of_publication": 2012
         },
         {
          "year_of_publication": 2012
         },
         {
          "year_of_publication": 2012
         },
         {
          "year_of_publication": 2012
         },
         {
          "year_of_publication": 2012
         },
         {
          "year_of_publication": 2012
         },
         {
          "year_of_publication": 2012
         },
         {
          "year_of_publication": 2012
         },
         {
          "year_of_publication": 2012
         },
         {
          "year_of_publication": 2012
         },
         {
          "year_of_publication": 2012
         },
         {
          "year_of_publication": 2012
         },
         {
          "year_of_publication": 2012
         },
         {
          "year_of_publication": 2012
         },
         {
          "year_of_publication": 2012
         },
         {
          "year_of_publication": 2012
         },
         {
          "year_of_publication": 2012
         },
         {
          "year_of_publication": 2012
         },
         {
          "year_of_publication": 2012
         },
         {
          "year_of_publication": 2012
         },
         {
          "year_of_publication": 2012
         },
         {
          "year_of_publication": 2012
         },
         {
          "year_of_publication": 2012
         },
         {
          "year_of_publication": 2012
         },
         {
          "year_of_publication": 2012
         },
         {
          "year_of_publication": 2012
         },
         {
          "year_of_publication": 2012
         },
         {
          "year_of_publication": 2012
         },
         {
          "year_of_publication": 2012
         },
         {
          "year_of_publication": 2012
         },
         {
          "year_of_publication": 2012
         },
         {
          "year_of_publication": 2012
         },
         {
          "year_of_publication": 2012
         },
         {
          "year_of_publication": 2012
         },
         {
          "year_of_publication": 2012
         },
         {
          "year_of_publication": 2012
         },
         {
          "year_of_publication": 2012
         },
         {
          "year_of_publication": 2012
         },
         {
          "year_of_publication": 2012
         },
         {
          "year_of_publication": 2012
         },
         {
          "year_of_publication": 2012
         },
         {
          "year_of_publication": 2012
         },
         {
          "year_of_publication": 2012
         },
         {
          "year_of_publication": 2012
         },
         {
          "year_of_publication": 2012
         },
         {
          "year_of_publication": 2012
         },
         {
          "year_of_publication": 2012
         },
         {
          "year_of_publication": 2012
         },
         {
          "year_of_publication": 2012
         },
         {
          "year_of_publication": 2012
         },
         {
          "year_of_publication": 2012
         },
         {
          "year_of_publication": 2012
         },
         {
          "year_of_publication": 2012
         },
         {
          "year_of_publication": 2012
         },
         {
          "year_of_publication": 2012
         },
         {
          "year_of_publication": 2012
         },
         {
          "year_of_publication": 2012
         },
         {
          "year_of_publication": 2012
         },
         {
          "year_of_publication": 2012
         },
         {
          "year_of_publication": 2012
         },
         {
          "year_of_publication": 2012
         },
         {
          "year_of_publication": 2012
         },
         {
          "year_of_publication": 2012
         },
         {
          "year_of_publication": 2012
         },
         {
          "year_of_publication": 2012
         },
         {
          "year_of_publication": 2012
         },
         {
          "year_of_publication": 2012
         },
         {
          "year_of_publication": 2012
         },
         {
          "year_of_publication": 2012
         },
         {
          "year_of_publication": 2012
         },
         {
          "year_of_publication": 2012
         },
         {
          "year_of_publication": 2012
         },
         {
          "year_of_publication": 2012
         },
         {
          "year_of_publication": 2012
         },
         {
          "year_of_publication": 2012
         },
         {
          "year_of_publication": 2012
         },
         {
          "year_of_publication": 2012
         },
         {
          "year_of_publication": 2012
         },
         {
          "year_of_publication": 2012
         },
         {
          "year_of_publication": 2012
         },
         {
          "year_of_publication": 2012
         },
         {
          "year_of_publication": 2012
         },
         {
          "year_of_publication": 2012
         },
         {
          "year_of_publication": 2012
         },
         {
          "year_of_publication": 2012
         },
         {
          "year_of_publication": 2012
         },
         {
          "year_of_publication": 2012
         },
         {
          "year_of_publication": 2012
         },
         {
          "year_of_publication": 2012
         },
         {
          "year_of_publication": 2012
         },
         {
          "year_of_publication": 2012
         },
         {
          "year_of_publication": 2012
         },
         {
          "year_of_publication": 2012
         },
         {
          "year_of_publication": 2012
         },
         {
          "year_of_publication": 2012
         },
         {
          "year_of_publication": 2012
         },
         {
          "year_of_publication": 2012
         },
         {
          "year_of_publication": 2012
         },
         {
          "year_of_publication": 2012
         },
         {
          "year_of_publication": 2012
         },
         {
          "year_of_publication": 2012
         },
         {
          "year_of_publication": 2012
         },
         {
          "year_of_publication": 2012
         },
         {
          "year_of_publication": 2012
         },
         {
          "year_of_publication": 2012
         },
         {
          "year_of_publication": 2012
         },
         {
          "year_of_publication": 2012
         },
         {
          "year_of_publication": 2012
         },
         {
          "year_of_publication": 2012
         },
         {
          "year_of_publication": 2012
         },
         {
          "year_of_publication": 2012
         },
         {
          "year_of_publication": 2012
         },
         {
          "year_of_publication": 2012
         },
         {
          "year_of_publication": 2012
         },
         {
          "year_of_publication": 2012
         },
         {
          "year_of_publication": 2012
         },
         {
          "year_of_publication": 2012
         },
         {
          "year_of_publication": 2012
         },
         {
          "year_of_publication": 2012
         },
         {
          "year_of_publication": 2012
         },
         {
          "year_of_publication": 2012
         },
         {
          "year_of_publication": 2012
         },
         {
          "year_of_publication": 2012
         },
         {
          "year_of_publication": 2012
         },
         {
          "year_of_publication": 2012
         },
         {
          "year_of_publication": 2012
         },
         {
          "year_of_publication": 2012
         },
         {
          "year_of_publication": 2012
         },
         {
          "year_of_publication": 2012
         },
         {
          "year_of_publication": 2012
         },
         {
          "year_of_publication": 2012
         },
         {
          "year_of_publication": 2012
         },
         {
          "year_of_publication": 2012
         },
         {
          "year_of_publication": 2012
         },
         {
          "year_of_publication": 2012
         },
         {
          "year_of_publication": 2012
         },
         {
          "year_of_publication": 2012
         },
         {
          "year_of_publication": 2012
         },
         {
          "year_of_publication": 2012
         },
         {
          "year_of_publication": 2012
         },
         {
          "year_of_publication": 2012
         },
         {
          "year_of_publication": 2012
         },
         {
          "year_of_publication": 2012
         },
         {
          "year_of_publication": 2012
         },
         {
          "year_of_publication": 2012
         },
         {
          "year_of_publication": 2012
         },
         {
          "year_of_publication": 2012
         },
         {
          "year_of_publication": 2012
         },
         {
          "year_of_publication": 2012
         },
         {
          "year_of_publication": 2012
         },
         {
          "year_of_publication": 2012
         },
         {
          "year_of_publication": 2012
         },
         {
          "year_of_publication": 2012
         },
         {
          "year_of_publication": 2012
         },
         {
          "year_of_publication": 2012
         },
         {
          "year_of_publication": 2012
         },
         {
          "year_of_publication": 2012
         },
         {
          "year_of_publication": 2012
         },
         {
          "year_of_publication": 2012
         },
         {
          "year_of_publication": 2012
         },
         {
          "year_of_publication": 2012
         },
         {
          "year_of_publication": 2012
         },
         {
          "year_of_publication": 2012
         },
         {
          "year_of_publication": 2012
         },
         {
          "year_of_publication": 2012
         },
         {
          "year_of_publication": 2012
         },
         {
          "year_of_publication": 2012
         },
         {
          "year_of_publication": 2012
         },
         {
          "year_of_publication": 2012
         },
         {
          "year_of_publication": 2012
         },
         {
          "year_of_publication": 2012
         },
         {
          "year_of_publication": 2012
         },
         {
          "year_of_publication": 2012
         },
         {
          "year_of_publication": 2012
         },
         {
          "year_of_publication": 2012
         },
         {
          "year_of_publication": 2012
         },
         {
          "year_of_publication": 2012
         },
         {
          "year_of_publication": 2012
         },
         {
          "year_of_publication": 2012
         },
         {
          "year_of_publication": 2012
         },
         {
          "year_of_publication": 2012
         },
         {
          "year_of_publication": 2012
         },
         {
          "year_of_publication": 2012
         },
         {
          "year_of_publication": 2012
         },
         {
          "year_of_publication": 2012
         },
         {
          "year_of_publication": 2012
         },
         {
          "year_of_publication": 2012
         },
         {
          "year_of_publication": 2012
         },
         {
          "year_of_publication": 2012
         },
         {
          "year_of_publication": 2012
         },
         {
          "year_of_publication": 2012
         },
         {
          "year_of_publication": 2012
         },
         {
          "year_of_publication": 2012
         },
         {
          "year_of_publication": 2012
         },
         {
          "year_of_publication": 2012
         },
         {
          "year_of_publication": 2012
         },
         {
          "year_of_publication": 2012
         },
         {
          "year_of_publication": 2012
         },
         {
          "year_of_publication": 2012
         },
         {
          "year_of_publication": 2012
         },
         {
          "year_of_publication": 2012
         },
         {
          "year_of_publication": 2012
         },
         {
          "year_of_publication": 2012
         },
         {
          "year_of_publication": 2012
         },
         {
          "year_of_publication": 2012
         },
         {
          "year_of_publication": 2012
         },
         {
          "year_of_publication": 2012
         },
         {
          "year_of_publication": 2012
         },
         {
          "year_of_publication": 2012
         },
         {
          "year_of_publication": 2012
         },
         {
          "year_of_publication": 2012
         },
         {
          "year_of_publication": 2012
         },
         {
          "year_of_publication": 2012
         },
         {
          "year_of_publication": 2012
         },
         {
          "year_of_publication": 2012
         },
         {
          "year_of_publication": 2012
         },
         {
          "year_of_publication": 2012
         },
         {
          "year_of_publication": 2012
         },
         {
          "year_of_publication": 2012
         },
         {
          "year_of_publication": 2012
         },
         {
          "year_of_publication": 2012
         },
         {
          "year_of_publication": 2012
         },
         {
          "year_of_publication": 2012
         },
         {
          "year_of_publication": 2012
         },
         {
          "year_of_publication": 2012
         },
         {
          "year_of_publication": 2012
         },
         {
          "year_of_publication": 2012
         },
         {
          "year_of_publication": 2012
         },
         {
          "year_of_publication": 2012
         },
         {
          "year_of_publication": 2012
         },
         {
          "year_of_publication": 2012
         },
         {
          "year_of_publication": 2012
         },
         {
          "year_of_publication": 2012
         },
         {
          "year_of_publication": 2012
         },
         {
          "year_of_publication": 2012
         },
         {
          "year_of_publication": 2012
         },
         {
          "year_of_publication": 2012
         },
         {
          "year_of_publication": 2012
         },
         {
          "year_of_publication": 2012
         },
         {
          "year_of_publication": 2012
         },
         {
          "year_of_publication": 2012
         },
         {
          "year_of_publication": 2012
         },
         {
          "year_of_publication": 2012
         },
         {
          "year_of_publication": 2012
         },
         {
          "year_of_publication": 2012
         },
         {
          "year_of_publication": 2012
         },
         {
          "year_of_publication": 2012
         },
         {
          "year_of_publication": 2012
         },
         {
          "year_of_publication": 2012
         },
         {
          "year_of_publication": 2012
         },
         {
          "year_of_publication": 2012
         },
         {
          "year_of_publication": 2012
         },
         {
          "year_of_publication": 2012
         },
         {
          "year_of_publication": 2012
         },
         {
          "year_of_publication": 2012
         },
         {
          "year_of_publication": 2012
         },
         {
          "year_of_publication": 2012
         },
         {
          "year_of_publication": 2012
         },
         {
          "year_of_publication": 2012
         },
         {
          "year_of_publication": 2012
         },
         {
          "year_of_publication": 2012
         },
         {
          "year_of_publication": 2012
         },
         {
          "year_of_publication": 2012
         },
         {
          "year_of_publication": 2012
         },
         {
          "year_of_publication": 2012
         },
         {
          "year_of_publication": 2012
         },
         {
          "year_of_publication": 2012
         },
         {
          "year_of_publication": 2012
         },
         {
          "year_of_publication": 2012
         },
         {
          "year_of_publication": 2012
         },
         {
          "year_of_publication": 2012
         },
         {
          "year_of_publication": 2012
         },
         {
          "year_of_publication": 2012
         },
         {
          "year_of_publication": 2012
         },
         {
          "year_of_publication": 2012
         },
         {
          "year_of_publication": 2012
         },
         {
          "year_of_publication": 2012
         },
         {
          "year_of_publication": 2012
         },
         {
          "year_of_publication": 2012
         },
         {
          "year_of_publication": 2012
         },
         {
          "year_of_publication": 2012
         },
         {
          "year_of_publication": 2012
         },
         {
          "year_of_publication": 2012
         },
         {
          "year_of_publication": 2012
         },
         {
          "year_of_publication": 2012
         },
         {
          "year_of_publication": 2012
         },
         {
          "year_of_publication": 2012
         },
         {
          "year_of_publication": 2012
         },
         {
          "year_of_publication": 2012
         },
         {
          "year_of_publication": 2012
         },
         {
          "year_of_publication": 2012
         },
         {
          "year_of_publication": 2012
         },
         {
          "year_of_publication": 2012
         },
         {
          "year_of_publication": 2012
         },
         {
          "year_of_publication": 2012
         },
         {
          "year_of_publication": 2012
         },
         {
          "year_of_publication": 2012
         },
         {
          "year_of_publication": 2012
         },
         {
          "year_of_publication": 2012
         },
         {
          "year_of_publication": 2012
         },
         {
          "year_of_publication": 2012
         },
         {
          "year_of_publication": 2012
         },
         {
          "year_of_publication": 2012
         },
         {
          "year_of_publication": 2012
         },
         {
          "year_of_publication": 2012
         },
         {
          "year_of_publication": 2012
         },
         {
          "year_of_publication": 2012
         },
         {
          "year_of_publication": 2012
         },
         {
          "year_of_publication": 2012
         },
         {
          "year_of_publication": 2012
         },
         {
          "year_of_publication": 2012
         },
         {
          "year_of_publication": 2012
         },
         {
          "year_of_publication": 2012
         },
         {
          "year_of_publication": 2012
         },
         {
          "year_of_publication": 2012
         },
         {
          "year_of_publication": 2012
         },
         {
          "year_of_publication": 2012
         },
         {
          "year_of_publication": 2012
         },
         {
          "year_of_publication": 2012
         },
         {
          "year_of_publication": 2012
         },
         {
          "year_of_publication": 2012
         },
         {
          "year_of_publication": 2012
         },
         {
          "year_of_publication": 2012
         },
         {
          "year_of_publication": 2012
         },
         {
          "year_of_publication": 2012
         },
         {
          "year_of_publication": 2012
         },
         {
          "year_of_publication": 2012
         },
         {
          "year_of_publication": 2012
         },
         {
          "year_of_publication": 2012
         },
         {
          "year_of_publication": 2012
         },
         {
          "year_of_publication": 2012
         },
         {
          "year_of_publication": 2012
         },
         {
          "year_of_publication": 2012
         },
         {
          "year_of_publication": 2012
         },
         {
          "year_of_publication": 2012
         },
         {
          "year_of_publication": 2012
         },
         {
          "year_of_publication": 2012
         },
         {
          "year_of_publication": 2012
         },
         {
          "year_of_publication": 2012
         },
         {
          "year_of_publication": 2012
         },
         {
          "year_of_publication": 2012
         },
         {
          "year_of_publication": 2012
         },
         {
          "year_of_publication": 2012
         },
         {
          "year_of_publication": 2012
         },
         {
          "year_of_publication": 2012
         },
         {
          "year_of_publication": 2012
         },
         {
          "year_of_publication": 2012
         },
         {
          "year_of_publication": 2012
         },
         {
          "year_of_publication": 2012
         },
         {
          "year_of_publication": 2012
         },
         {
          "year_of_publication": 2012
         },
         {
          "year_of_publication": 2012
         },
         {
          "year_of_publication": 2012
         },
         {
          "year_of_publication": 2012
         },
         {
          "year_of_publication": 2012
         },
         {
          "year_of_publication": 2012
         },
         {
          "year_of_publication": 2012
         },
         {
          "year_of_publication": 2012
         },
         {
          "year_of_publication": 2012
         }
        ]
       },
       "encoding": {
        "x": {
         "bin": true,
         "field": "year_of_publication",
         "title": "Year of publication",
         "type": "nominal"
        },
        "y": {
         "aggregate": "count",
         "title": "Count of articles",
         "type": "quantitative"
        }
       },
       "height": 400,
       "mark": {
        "type": "bar"
       },
       "width": 400
      },
      "image/png": "[encoded data removed]",
      "text/plain": [
       "<VegaLite 5 object>\n",
       "\n",
       "If you see this message, it means the renderer has not been properly enabled\n",
       "for the frontend that you are using. For more information, see\n",
       "https://altair-viz.github.io/user_guide/display_frontends.html#troubleshooting\n"
      ]
     },
     "execution_count": 7,
     "metadata": {},
     "output_type": "execute_result"
    }
   ],
   "source": [
    "# some quick transformations and an altair histogram\n",
    "years_to_plot: pd.DataFrame = pd.DataFrame(\n",
    "    {\n",
    "        \"year_of_publication\": [\n",
    "            int(datetime.fromtimestamp(ts).year) for ts in business_news[\"date\"]\n",
    "        ]\n",
    "    }\n",
    ")\n",
    "alt.Chart(years_to_plot).mark_bar().encode(\n",
    "    alt.X(\"year_of_publication:N\", bin=True, title=\"Year of publication\"),\n",
    "    y=alt.Y(\"count()\", title=\"Count of articles\"),\n",
    ").properties(width=400, height=400)"
   ]
  },
  {
   "cell_type": "markdown",
   "id": "453dd57f-26d2-464a-bcee-f4808304ff00",
   "metadata": {},
   "source": [
    "The largest period time should be around 11 years as the oldest article is from 2012.\n",
    "\n",
    "As most articles are between 2012-2017, therefore, it also makes sense to differentiate across the relatively scarce recent period of 4 years.\n",
    "\n",
    "It can also make sense to give additional weight to more populous time periods - small differences can be amplified by adding extra weight compared to regions where the data is scarce and differences are larger on average."
   ]
  },
  {
   "cell_type": "markdown",
   "id": "bb39ab0a-86c9-4bd6-98ca-013a223b2f18",
   "metadata": {},
   "source": [
    "## Set up Superlinked"
   ]
  },
  {
   "cell_type": "code",
   "execution_count": 8,
   "id": "363d1bfb-a842-49b6-a822-99db1f18daa8",
   "metadata": {},
   "outputs": [],
   "source": [
    "# set up schema to accomodate our inputs\n",
    "@schema\n",
    "class NewsSchema:\n",
    "    description: String\n",
    "    headline: String\n",
    "    release_timestamp: Timestamp\n",
    "    id: IdField"
   ]
  },
  {
   "cell_type": "code",
   "execution_count": 9,
   "id": "7b17ee72-539f-459a-ab8e-f1918579987d",
   "metadata": {},
   "outputs": [],
   "source": [
    "news = NewsSchema()"
   ]
  },
  {
   "cell_type": "code",
   "execution_count": 10,
   "id": "abba40ea-a250-4b12-ad4b-ef90155c3175",
   "metadata": {},
   "outputs": [],
   "source": [
    "# textual characteristics are embedded using a sentence-transformers model\n",
    "description_space = TextSimilaritySpace(\n",
    "    text=news.description, model=\"sentence-transformers/all-mpnet-base-v2\"\n",
    ")\n",
    "headline_space = TextSimilaritySpace(\n",
    "    text=news.headline, model=\"sentence-transformers/all-mpnet-base-v2\"\n",
    ")\n",
    "# release date is encoded using our recency embedding algorithm\n",
    "recency_space = RecencySpace(\n",
    "    timestamp=news.release_timestamp,\n",
    "    period_time_list=[\n",
    "        PeriodTime(timedelta(days=4 * YEAR_IN_DAYS), weight=1),\n",
    "        PeriodTime(timedelta(days=11 * YEAR_IN_DAYS), weight=2),\n",
    "    ],\n",
    "    negative_filter=0.0,\n",
    ")"
   ]
  },
  {
   "cell_type": "code",
   "execution_count": 11,
   "id": "88e05778-8ab1-49c9-922d-cd825c65b93a",
   "metadata": {},
   "outputs": [],
   "source": [
    "# we create an index of our spaces\n",
    "news_index = Index(spaces=[description_space, headline_space, recency_space])"
   ]
  },
  {
   "cell_type": "code",
   "execution_count": 12,
   "id": "b56927bf-503c-4f08-98c4-f5f9a49690af",
   "metadata": {},
   "outputs": [],
   "source": [
    "# simple query will serve us right when we simply want to search the dataset with a search term\n",
    "# the term will search in both textual fields\n",
    "# and we will have to option to weight certain inputs' importance\n",
    "simple_query = (\n",
    "    Query(\n",
    "        news_index,\n",
    "        weights={\n",
    "            description_space: Param(\"description_weight\"),\n",
    "            headline_space: Param(\"headline_weight\"),\n",
    "            recency_space: Param(\"recency_weight\"),\n",
    "        },\n",
    "    )\n",
    "    .find(news)\n",
    "    .similar(description_space.text, Param(\"query_text\"))\n",
    "    .similar(headline_space.text, Param(\"query_text\"))\n",
    "    .limit(TOP_N)\n",
    ")\n",
    "\n",
    "# news query on the other hand will search in the database with the vector of a news article\n",
    "# weighting possibility is still there\n",
    "news_query = (\n",
    "    Query(\n",
    "        news_index,\n",
    "        weights={\n",
    "            description_space: Param(\"description_weight\"),\n",
    "            headline_space: Param(\"headline_weight\"),\n",
    "            recency_space: Param(\"recency_weight\"),\n",
    "        },\n",
    "    )\n",
    "    .find(news)\n",
    "    .with_vector(news, Param(\"news_id\"))\n",
    "    .limit(TOP_N)\n",
    ")"
   ]
  },
  {
   "cell_type": "code",
   "execution_count": 13,
   "id": "22069eb1-16d6-40db-b5ba-127fa1efa86e",
   "metadata": {},
   "outputs": [],
   "source": [
    "dataframe_parser = DataFrameParser(\n",
    "    schema=news,\n",
    "    mapping={news.release_timestamp: \"date\", news.description: \"short_description\"},\n",
    ")"
   ]
  },
  {
   "cell_type": "code",
   "execution_count": 14,
   "id": "14335931-ba95-45ec-8cb6-19f5e4905fbd",
   "metadata": {},
   "outputs": [],
   "source": [
    "source: InMemorySource = InMemorySource(news, parser=dataframe_parser)\n",
    "executor: InMemoryExecutor = InMemoryExecutor(\n",
    "    sources=[source], indices=[news_index], context_data=EXECUTOR_DATA\n",
    ")\n",
    "app: InMemoryApp = executor.run()"
   ]
  },
  {
   "cell_type": "markdown",
   "id": "34d44728-5ea7-4114-9c94-a2198e96c77f",
   "metadata": {},
   "source": [
    "This next one might take a few minutes to run. It is scientifically proven, that watching [this video](https://www.youtube.com/watch?v=1prweT95Mo0&ab_channel=YoYoMaVEVO) will make you feel better and the following cell would also probably run meanwhile. If not, you can still do something quick while smiling."
   ]
  },
  {
   "cell_type": "code",
   "execution_count": 15,
   "id": "683cbd59-0744-4cd9-9a36-18814be79760",
   "metadata": {},
   "outputs": [],
   "source": [
    "source.put([business_news])"
   ]
  },
  {
   "cell_type": "markdown",
   "id": "6af286dc-898f-4e7a-8b16-8672bb96b51d",
   "metadata": {},
   "source": [
    "## Understanding recency"
   ]
  },
  {
   "cell_type": "code",
   "execution_count": 16,
   "id": "ec9bde52-d7e8-4c34-8e27-5c512ef08c87",
   "metadata": {},
   "outputs": [
    {
     "data": {
      "application/vnd.vegalite.v5+json": {
       "$schema": "https://vega.github.io/schema/vega-lite/v5.16.3.json",
       "config": {
        "view": {
         "continuousHeight": 300,
         "continuousWidth": 300
        }
       },
       "data": {
        "name": "data-7d7fa2ff9e001f613eae227979ef029a"
       },
       "datasets": {
        "data-7d7fa2ff9e001f613eae227979ef029a": [
         {
          "date": "2010-11-28T11:59:00",
          "score": 0
         },
         {
          "date": "2010-12-02T22:05:07.567568",
          "score": 0
         },
         {
          "date": "2010-12-07T08:11:15.135135",
          "score": 0
         },
         {
          "date": "2010-12-11T18:17:22.702703",
          "score": 0
         },
         {
          "date": "2010-12-16T04:23:30.270270",
          "score": 0
         },
         {
          "date": "2010-12-20T14:29:37.837838",
          "score": 0
         },
         {
          "date": "2010-12-25T00:35:45.405406",
          "score": 0
         },
         {
          "date": "2010-12-29T10:41:52.972973",
          "score": 0
         },
         {
          "date": "2011-01-02T20:48:00.540540",
          "score": 0
         },
         {
          "date": "2011-01-07T06:54:08.108108",
          "score": 0
         },
         {
          "date": "2011-01-11T17:00:15.675676",
          "score": 0
         },
         {
          "date": "2011-01-16T03:06:23.243243",
          "score": 0
         },
         {
          "date": "2011-01-20T13:12:30.810811",
          "score": 0
         },
         {
          "date": "2011-01-24T23:18:38.378378",
          "score": 0
         },
         {
          "date": "2011-01-29T09:24:45.945946",
          "score": 0
         },
         {
          "date": "2011-02-02T19:30:53.513514",
          "score": 0
         },
         {
          "date": "2011-02-07T05:37:01.081081",
          "score": 0
         },
         {
          "date": "2011-02-11T15:43:08.648649",
          "score": 0
         },
         {
          "date": "2011-02-16T01:49:16.216216",
          "score": 0
         },
         {
          "date": "2011-02-20T11:55:23.783784",
          "score": 0
         },
         {
          "date": "2011-02-24T22:01:31.351351",
          "score": 0
         },
         {
          "date": "2011-03-01T08:07:38.918919",
          "score": 0
         },
         {
          "date": "2011-03-05T18:13:46.486486",
          "score": 0
         },
         {
          "date": "2011-03-10T04:19:54.054054",
          "score": 0
         },
         {
          "date": "2011-03-14T14:26:01.621622",
          "score": 0
         },
         {
          "date": "2011-03-19T00:32:09.189189",
          "score": 0
         },
         {
          "date": "2011-03-23T10:38:16.756757",
          "score": 0
         },
         {
          "date": "2011-03-27T21:44:24.324324",
          "score": 0
         },
         {
          "date": "2011-04-01T07:50:31.891892",
          "score": 0
         },
         {
          "date": "2011-04-05T17:56:39.459460",
          "score": 0
         },
         {
          "date": "2011-04-10T04:02:47.027027",
          "score": 0
         },
         {
          "date": "2011-04-14T14:08:54.594594",
          "score": 0
         },
         {
          "date": "2011-04-19T00:15:02.162162",
          "score": 0
         },
         {
          "date": "2011-04-23T10:21:09.729730",
          "score": 0
         },
         {
          "date": "2011-04-27T20:27:17.297297",
          "score": 0
         },
         {
          "date": "2011-05-02T06:33:24.864865",
          "score": 0
         },
         {
          "date": "2011-05-06T16:39:32.432432",
          "score": 0
         },
         {
          "date": "2011-05-11T02:45:40",
          "score": 0
         },
         {
          "date": "2011-05-15T12:51:47.567568",
          "score": 0
         },
         {
          "date": "2011-05-19T22:57:55.135135",
          "score": 0
         },
         {
          "date": "2011-05-24T09:04:02.702703",
          "score": 0
         },
         {
          "date": "2011-05-28T19:10:10.270270",
          "score": 0
         },
         {
          "date": "2011-06-02T05:16:17.837838",
          "score": 0
         },
         {
          "date": "2011-06-06T15:22:25.405406",
          "score": 0
         },
         {
          "date": "2011-06-11T01:28:32.972973",
          "score": 0
         },
         {
          "date": "2011-06-15T11:34:40.540540",
          "score": 0
         },
         {
          "date": "2011-06-19T21:40:48.108108",
          "score": 0
         },
         {
          "date": "2011-06-24T07:46:55.675676",
          "score": 0
         },
         {
          "date": "2011-06-28T17:53:03.243243",
          "score": 0
         },
         {
          "date": "2011-07-03T03:59:10.810811",
          "score": 0
         },
         {
          "date": "2011-07-07T14:05:18.378378",
          "score": 0
         },
         {
          "date": "2011-07-12T00:11:25.945946",
          "score": 0
         },
         {
          "date": "2011-07-16T10:17:33.513514",
          "score": 0
         },
         {
          "date": "2011-07-20T20:23:41.081081",
          "score": 0
         },
         {
          "date": "2011-07-25T06:29:48.648649",
          "score": 0
         },
         {
          "date": "2011-07-29T16:35:56.216216",
          "score": 0
         },
         {
          "date": "2011-08-03T02:42:03.783784",
          "score": 0
         },
         {
          "date": "2011-08-07T12:48:11.351351",
          "score": 0
         },
         {
          "date": "2011-08-11T22:54:18.918919",
          "score": 0
         },
         {
          "date": "2011-08-16T09:00:26.486486",
          "score": 0
         },
         {
          "date": "2011-08-20T19:06:34.054054",
          "score": 0
         },
         {
          "date": "2011-08-25T05:12:41.621622",
          "score": 0
         },
         {
          "date": "2011-08-29T15:18:49.189189",
          "score": 0
         },
         {
          "date": "2011-09-03T01:24:56.756757",
          "score": 0
         },
         {
          "date": "2011-09-07T11:31:04.324324",
          "score": 0
         },
         {
          "date": "2011-09-11T21:37:11.891892",
          "score": 0
         },
         {
          "date": "2011-09-16T07:43:19.459460",
          "score": 0
         },
         {
          "date": "2011-09-20T17:49:27.027027",
          "score": 0
         },
         {
          "date": "2011-09-25T03:55:34.594594",
          "score": 0
         },
         {
          "date": "2011-09-29T14:01:42.162162",
          "score": 0
         },
         {
          "date": "2011-10-04T00:07:49.729730",
          "score": 0
         },
         {
          "date": "2011-10-08T10:13:57.297297",
          "score": 0
         },
         {
          "date": "2011-10-12T20:20:04.864865",
          "score": 0
         },
         {
          "date": "2011-10-17T06:26:12.432432",
          "score": 0
         },
         {
          "date": "2011-10-21T16:32:20",
          "score": 0
         },
         {
          "date": "2011-10-26T02:38:27.567568",
          "score": 0
         },
         {
          "date": "2011-10-30T11:44:35.135135",
          "score": 0
         },
         {
          "date": "2011-11-03T21:50:42.702703",
          "score": 0
         },
         {
          "date": "2011-11-08T07:56:50.270270",
          "score": 0
         },
         {
          "date": "2011-11-12T18:02:57.837838",
          "score": 0
         },
         {
          "date": "2011-11-17T04:09:05.405406",
          "score": 0
         },
         {
          "date": "2011-11-21T14:15:12.972973",
          "score": 0
         },
         {
          "date": "2011-11-26T00:21:20.540540",
          "score": 0
         },
         {
          "date": "2011-11-30T10:27:28.108108",
          "score": 0
         },
         {
          "date": "2011-12-04T20:33:35.675676",
          "score": 0
         },
         {
          "date": "2011-12-09T06:39:43.243243",
          "score": 0
         },
         {
          "date": "2011-12-13T16:45:50.810811",
          "score": 0
         },
         {
          "date": "2011-12-18T02:51:58.378378",
          "score": 0
         },
         {
          "date": "2011-12-22T12:58:05.945946",
          "score": 0
         },
         {
          "date": "2011-12-26T23:04:13.513514",
          "score": 0
         },
         {
          "date": "2011-12-31T09:10:21.081081",
          "score": 0
         },
         {
          "date": "2012-01-04T19:16:28.648649",
          "score": 0.00025157898713412674
         },
         {
          "date": "2012-01-09T05:22:36.216216",
          "score": 0.001635262304549967
         },
         {
          "date": "2012-01-13T15:28:43.783784",
          "score": 0.0030189407300263427
         },
         {
          "date": "2012-01-18T01:34:51.351351",
          "score": 0.004402610124233208
         },
         {
          "date": "2012-01-22T11:40:58.918919",
          "score": 0.005786266347882263
         },
         {
          "date": "2012-01-26T21:47:06.486486",
          "score": 0.007169905261715459
         },
         {
          "date": "2012-01-31T07:53:14.054054",
          "score": 0.008553522726528595
         },
         {
          "date": "2012-02-04T17:59:21.621622",
          "score": 0.009937114603182029
         },
         {
          "date": "2012-02-09T04:05:29.189189",
          "score": 0.011320676752608394
         },
         {
          "date": "2012-02-13T14:11:36.756757",
          "score": 0.012704205035842075
         },
         {
          "date": "2012-02-18T00:17:44.324324",
          "score": 0.014087695314005944
         },
         {
          "date": "2012-02-22T10:23:51.891892",
          "score": 0.015471143448336777
         },
         {
          "date": "2012-02-26T20:29:59.459460",
          "score": 0.0168545453002098
         },
         {
          "date": "2012-03-02T06:36:07.027027",
          "score": 0.018237896731126413
         },
         {
          "date": "2012-03-06T16:42:14.594594",
          "score": 0.019621193602742726
         },
         {
          "date": "2012-03-11T02:48:22.162162",
          "score": 0.021004431776873833
         },
         {
          "date": "2012-03-15T12:54:29.729730",
          "score": 0.022387607115523678
         },
         {
          "date": "2012-03-19T23:00:37.297297",
          "score": 0.023770715480870674
         },
         {
          "date": "2012-03-24T09:06:44.864865",
          "score": 0.025153752735294632
         },
         {
          "date": "2012-03-28T20:12:52.432432",
          "score": 0.026536714741398293
         },
         {
          "date": "2012-04-02T06:19:00",
          "score": 0.027919597362000614
         },
         {
          "date": "2012-04-06T16:25:07.567568",
          "score": 0.029302396460159474
         },
         {
          "date": "2012-04-11T02:31:15.135135",
          "score": 0.03068510789918294
         },
         {
          "date": "2012-04-15T12:37:22.702703",
          "score": 0.032067727542639535
         },
         {
          "date": "2012-04-19T22:43:30.270270",
          "score": 0.033450251254381225
         },
         {
          "date": "2012-04-24T08:49:37.837838",
          "score": 0.03483267489853592
         },
         {
          "date": "2012-04-28T18:55:45.405406",
          "score": 0.03621499433953429
         },
         {
          "date": "2012-05-03T05:01:52.972973",
          "score": 0.03759720544212358
         },
         {
          "date": "2012-05-07T15:08:00.540540",
          "score": 0.038979304071370235
         },
         {
          "date": "2012-05-12T01:14:08.108108",
          "score": 0.04036128609267686
         },
         {
          "date": "2012-05-16T11:20:15.675676",
          "score": 0.04174314737179485
         },
         {
          "date": "2012-05-20T21:26:23.243243",
          "score": 0.04312488377484347
         },
         {
          "date": "2012-05-25T07:32:30.810811",
          "score": 0.044506491168306406
         },
         {
          "date": "2012-05-29T17:38:38.378378",
          "score": 0.045887965419055654
         },
         {
          "date": "2012-06-03T03:44:45.945946",
          "score": 0.04726930239436894
         },
         {
          "date": "2012-06-07T13:50:53.513514",
          "score": 0.04865049796192489
         },
         {
          "date": "2012-06-11T23:57:01.081081",
          "score": 0.05003154798983045
         },
         {
          "date": "2012-06-16T10:03:08.648649",
          "score": 0.05141244834662595
         },
         {
          "date": "2012-06-20T20:09:16.216216",
          "score": 0.05279319490129564
         },
         {
          "date": "2012-06-25T06:15:23.783784",
          "score": 0.05417378352329705
         },
         {
          "date": "2012-06-29T16:21:31.351351",
          "score": 0.055554210082543465
         },
         {
          "date": "2012-07-04T02:27:38.918919",
          "score": 0.056934470449447605
         },
         {
          "date": "2012-07-08T12:33:46.486486",
          "score": 0.05831456049491052
         },
         {
          "date": "2012-07-12T22:39:54.054054",
          "score": 0.05969447609034406
         },
         {
          "date": "2012-07-17T08:46:01.621622",
          "score": 0.061074213107683184
         },
         {
          "date": "2012-07-21T18:52:09.189189",
          "score": 0.06245376741939246
         },
         {
          "date": "2012-07-26T04:58:16.756757",
          "score": 0.06383313489849568
         },
         {
          "date": "2012-07-30T15:04:24.324324",
          "score": 0.0652123114185632
         },
         {
          "date": "2012-08-04T01:10:31.891892",
          "score": 0.06659129285373627
         },
         {
          "date": "2012-08-08T11:16:39.459460",
          "score": 0.06797007507875252
         },
         {
          "date": "2012-08-12T21:22:47.027027",
          "score": 0.06934865396893314
         },
         {
          "date": "2012-08-17T07:28:54.594594",
          "score": 0.07072702540021147
         },
         {
          "date": "2012-08-21T17:35:02.162162",
          "score": 0.07210518524913723
         },
         {
          "date": "2012-08-26T03:41:09.729730",
          "score": 0.07348312939290613
         },
         {
          "date": "2012-08-30T13:47:17.297297",
          "score": 0.07486085370934603
         },
         {
          "date": "2012-09-03T23:53:24.864865",
          "score": 0.0762383540769429
         },
         {
          "date": "2012-09-08T09:59:32.432432",
          "score": 0.07761562637486502
         },
         {
          "date": "2012-09-12T20:05:40",
          "score": 0.07899266648295022
         },
         {
          "date": "2012-09-17T06:11:47.567568",
          "score": 0.08036947028173547
         },
         {
          "date": "2012-09-21T16:17:55.135135",
          "score": 0.08174603365246352
         },
         {
          "date": "2012-09-26T02:24:02.702703",
          "score": 0.08312235247709543
         },
         {
          "date": "2012-09-30T12:30:10.270270",
          "score": 0.08449842263833207
         },
         {
          "date": "2012-10-04T22:36:17.837838",
          "score": 0.08587424001960758
         },
         {
          "date": "2012-10-09T08:42:25.405406",
          "score": 0.08724980050511427
         },
         {
          "date": "2012-10-13T18:48:32.972973",
          "score": 0.08862509997982188
         },
         {
          "date": "2012-10-18T04:54:40.540540",
          "score": 0.09000013432947007
         },
         {
          "date": "2012-10-22T15:00:48.108108",
          "score": 0.09137489944059718
         },
         {
          "date": "2012-10-27T01:06:55.675676",
          "score": 0.0927493912005416
         },
         {
          "date": "2012-10-31T10:13:03.243243",
          "score": 0.09412360549747073
         },
         {
          "date": "2012-11-04T20:19:10.810811",
          "score": 0.09549753822037038
         },
         {
          "date": "2012-11-09T06:25:18.378378",
          "score": 0.09687118525907201
         },
         {
          "date": "2012-11-13T16:31:25.945946",
          "score": 0.09824454250426701
         },
         {
          "date": "2012-11-18T02:37:33.513514",
          "score": 0.09961760584750828
         },
         {
          "date": "2012-11-22T12:43:41.081081",
          "score": 0.10099037118122761
         },
         {
          "date": "2012-11-26T22:49:48.648649",
          "score": 0.10236283439875143
         },
         {
          "date": "2012-12-01T08:55:56.216216",
          "score": 0.10373499139430431
         },
         {
          "date": "2012-12-05T19:02:03.783784",
          "score": 0.10510683806303783
         },
         {
          "date": "2012-12-10T05:08:11.351351",
          "score": 0.10647837030101842
         },
         {
          "date": "2012-12-14T15:14:18.918919",
          "score": 0.10784958400526601
         },
         {
          "date": "2012-12-19T01:20:26.486486",
          "score": 0.1092204750737451
         },
         {
          "date": "2012-12-23T11:26:34.054054",
          "score": 0.11059103940538689
         },
         {
          "date": "2012-12-27T21:32:41.621622",
          "score": 0.11196127290010072
         },
         {
          "date": "2013-01-01T07:38:49.189189",
          "score": 0.11333117145878135
         },
         {
          "date": "2013-01-05T17:44:56.756757",
          "score": 0.1147007309833381
         },
         {
          "date": "2013-01-10T03:51:04.324324",
          "score": 0.11606994737668214
         },
         {
          "date": "2013-01-14T13:57:11.891892",
          "score": 0.11743881654275073
         },
         {
          "date": "2013-01-19T00:03:19.459460",
          "score": 0.1188073343865329
         },
         {
          "date": "2013-01-23T10:09:27.027027",
          "score": 0.12017549681405582
         },
         {
          "date": "2013-01-27T20:15:34.594594",
          "score": 0.12154329973241407
         },
         {
          "date": "2013-02-01T06:21:42.162162",
          "score": 0.12291073904977379
         },
         {
          "date": "2013-02-05T16:27:49.729730",
          "score": 0.12427781067540111
         },
         {
          "date": "2013-02-10T02:33:57.297297",
          "score": 0.12564451051964975
         },
         {
          "date": "2013-02-14T12:40:04.864865",
          "score": 0.12701083449398548
         },
         {
          "date": "2013-02-18T22:46:12.432432",
          "score": 0.12837677851101126
         },
         {
          "date": "2013-02-23T08:52:20",
          "score": 0.129742338484454
         },
         {
          "date": "2013-02-27T18:58:27.567568",
          "score": 0.1311075103291936
         },
         {
          "date": "2013-03-04T05:04:35.135135",
          "score": 0.13247228996127058
         },
         {
          "date": "2013-03-08T15:10:42.702703",
          "score": 0.13383667329789722
         },
         {
          "date": "2013-03-13T01:16:50.270270",
          "score": 0.13520065625747957
         },
         {
          "date": "2013-03-17T11:22:57.837838",
          "score": 0.13656423475961155
         },
         {
          "date": "2013-03-21T21:29:05.405406",
          "score": 0.13792740472509835
         },
         {
          "date": "2013-03-26T07:35:12.972973",
          "score": 0.13929016207597622
         },
         {
          "date": "2013-03-30T17:41:20.540540",
          "score": 0.14065250273550506
         },
         {
          "date": "2013-04-04T04:47:28.108108",
          "score": 0.14201442262819697
         },
         {
          "date": "2013-04-08T14:53:35.675676",
          "score": 0.14337591767981722
         },
         {
          "date": "2013-04-13T00:59:43.243243",
          "score": 0.14473698381741307
         },
         {
          "date": "2013-04-17T11:05:50.810811",
          "score": 0.1460976169693039
         },
         {
          "date": "2013-04-21T21:11:58.378378",
          "score": 0.1474578130651063
         },
         {
          "date": "2013-04-26T07:18:05.945946",
          "score": 0.1488175680357528
         },
         {
          "date": "2013-04-30T17:24:13.513514",
          "score": 0.15017687781348504
         },
         {
          "date": "2013-05-05T03:30:21.081081",
          "score": 0.15153573833188216
         },
         {
          "date": "2013-05-09T13:36:28.648649",
          "score": 0.15289414552586517
         },
         {
          "date": "2013-05-13T23:42:36.216216",
          "score": 0.1542520953317082
         },
         {
          "date": "2013-05-18T09:48:43.783784",
          "score": 0.15560958368706374
         },
         {
          "date": "2013-05-22T19:54:51.351351",
          "score": 0.15696660653095346
         },
         {
          "date": "2013-05-27T06:00:58.918919",
          "score": 0.15832315980380057
         },
         {
          "date": "2013-05-31T16:07:06.486486",
          "score": 0.15967923944742768
         },
         {
          "date": "2013-06-05T02:13:14.054054",
          "score": 0.16103484140507385
         },
         {
          "date": "2013-06-09T12:19:21.621622",
          "score": 0.1623899616214105
         },
         {
          "date": "2013-06-13T22:25:29.189189",
          "score": 0.1637445960425442
         },
         {
          "date": "2013-06-18T08:31:36.756757",
          "score": 0.16509874061604624
         },
         {
          "date": "2013-06-22T18:37:44.324324",
          "score": 0.1664523912909418
         },
         {
          "date": "2013-06-27T04:43:51.891892",
          "score": 0.16780554401773606
         },
         {
          "date": "2013-07-01T14:49:59.459460",
          "score": 0.1691581947484319
         },
         {
          "date": "2013-07-06T00:56:07.027027",
          "score": 0.17051033943652433
         },
         {
          "date": "2013-07-10T11:02:14.594594",
          "score": 0.1718619740370249
         },
         {
          "date": "2013-07-14T21:08:22.162162",
          "score": 0.17321309450646977
         },
         {
          "date": "2013-07-19T07:14:29.729730",
          "score": 0.1745636968029416
         },
         {
          "date": "2013-07-23T17:20:37.297297",
          "score": 0.17591377688606308
         },
         {
          "date": "2013-07-28T03:26:44.864865",
          "score": 0.17726333071701889
         },
         {
          "date": "2013-08-01T13:32:52.432432",
          "score": 0.17861235425858013
         },
         {
          "date": "2013-08-05T23:39:00",
          "score": 0.17996084347509217
         },
         {
          "date": "2013-08-10T09:45:07.567568",
          "score": 0.18130879433250252
         },
         {
          "date": "2013-08-14T19:51:15.135135",
          "score": 0.18265620279836897
         },
         {
          "date": "2013-08-19T05:57:22.702703",
          "score": 0.18400306484187018
         },
         {
          "date": "2013-08-23T16:03:30.270270",
          "score": 0.18534937643382798
         },
         {
          "date": "2013-08-28T02:09:37.837838",
          "score": 0.1866951335467003
         },
         {
          "date": "2013-09-01T12:15:45.405406",
          "score": 0.18804033215460625
         },
         {
          "date": "2013-09-05T22:21:52.972973",
          "score": 0.18938496823334355
         },
         {
          "date": "2013-09-10T08:28:00.540540",
          "score": 0.19072903776038264
         },
         {
          "date": "2013-09-14T18:34:08.108108",
          "score": 0.19207253671489444
         },
         {
          "date": "2013-09-19T04:40:15.675676",
          "score": 0.19341546107775093
         },
         {
          "date": "2013-09-23T14:46:23.243243",
          "score": 0.19475780683155375
         },
         {
          "date": "2013-09-28T00:52:30.810811",
          "score": 0.19609956996062683
         },
         {
          "date": "2013-10-02T10:58:38.378378",
          "score": 0.1974407464510352
         },
         {
          "date": "2013-10-06T21:04:45.945946",
          "score": 0.19878133229060974
         },
         {
          "date": "2013-10-11T07:10:53.513514",
          "score": 0.2001213234689374
         },
         {
          "date": "2013-10-15T17:17:01.081081",
          "score": 0.20146071597738924
         },
         {
          "date": "2013-10-20T03:23:08.648649",
          "score": 0.2027995058091258
         },
         {
          "date": "2013-10-24T13:29:16.216216",
          "score": 0.2041376889591065
         },
         {
          "date": "2013-10-28T22:35:23.783784",
          "score": 0.20547526142411843
         },
         {
          "date": "2013-11-02T08:41:31.351351",
          "score": 0.2068122192027596
         },
         {
          "date": "2013-11-06T18:47:38.918919",
          "score": 0.20814855829548123
         },
         {
          "date": "2013-11-11T04:53:46.486486",
          "score": 0.2094842747045748
         },
         {
          "date": "2013-11-15T14:59:54.054054",
          "score": 0.21081936443419946
         },
         {
          "date": "2013-11-20T01:06:01.621622",
          "score": 0.21215382349038742
         },
         {
          "date": "2013-11-24T11:12:09.189189",
          "score": 0.21348764788105457
         },
         {
          "date": "2013-11-28T21:18:16.756757",
          "score": 0.2148208336160255
         },
         {
          "date": "2013-12-03T07:24:24.324324",
          "score": 0.21615337670702645
         },
         {
          "date": "2013-12-07T17:30:31.891892",
          "score": 0.21748527316770475
         },
         {
          "date": "2013-12-12T03:36:39.459460",
          "score": 0.21881651901365265
         },
         {
          "date": "2013-12-16T13:42:47.027027",
          "score": 0.22014711026239803
         },
         {
          "date": "2013-12-20T23:48:54.594594",
          "score": 0.22147704293343237
         },
         {
          "date": "2013-12-25T09:55:02.162162",
          "score": 0.22280631304821183
         },
         {
          "date": "2013-12-29T20:01:09.729730",
          "score": 0.22413491663018567
         },
         {
          "date": "2014-01-03T06:07:17.297297",
          "score": 0.22546284970478628
         },
         {
          "date": "2014-01-07T16:13:24.864865",
          "score": 0.22679010829945345
         },
         {
          "date": "2014-01-12T02:19:32.432432",
          "score": 0.22811668844365354
         },
         {
          "date": "2014-01-16T12:25:40",
          "score": 0.22944258616887245
         },
         {
          "date": "2014-01-20T22:31:47.567568",
          "score": 0.23076779750864065
         },
         {
          "date": "2014-01-25T08:37:55.135135",
          "score": 0.23209231849854367
         },
         {
          "date": "2014-01-29T18:44:02.702703",
          "score": 0.233416145176227
         },
         {
          "date": "2014-02-03T04:50:10.270270",
          "score": 0.23473927358142418
         },
         {
          "date": "2014-02-07T14:56:17.837838",
          "score": 0.2360616997559466
         },
         {
          "date": "2014-02-12T01:02:25.405406",
          "score": 0.23738341974370838
         },
         {
          "date": "2014-02-16T11:08:32.972973",
          "score": 0.2387044295907446
         },
         {
          "date": "2014-02-20T21:14:40.540540",
          "score": 0.2400247253452044
         },
         {
          "date": "2014-02-25T07:20:48.108108",
          "score": 0.24134430305737836
         },
         {
          "date": "2014-03-01T17:26:55.675676",
          "score": 0.24266315877970038
         },
         {
          "date": "2014-03-06T03:33:03.243243",
          "score": 0.24398128856677379
         },
         {
          "date": "2014-03-10T13:39:10.810811",
          "score": 0.24529868847536532
         },
         {
          "date": "2014-03-14T23:45:18.378378",
          "score": 0.24661535456442382
         },
         {
          "date": "2014-03-19T09:51:25.945946",
          "score": 0.24793128289510366
         },
         {
          "date": "2014-03-23T19:57:33.513514",
          "score": 0.24924646953075547
         },
         {
          "date": "2014-03-28T06:03:41.081081",
          "score": 0.2505609105369543
         },
         {
          "date": "2014-04-01T17:09:48.648649",
          "score": 0.2518746019815035
         },
         {
          "date": "2014-04-06T03:15:56.216216",
          "score": 0.2531875399344458
         },
         {
          "date": "2014-04-10T13:22:03.783784",
          "score": 0.25449972046808966
         },
         {
          "date": "2014-04-14T23:28:11.351351",
          "score": 0.2558111396569941
         },
         {
          "date": "2014-04-19T09:34:18.918919",
          "score": 0.2571217935780094
         },
         {
          "date": "2014-04-23T19:40:26.486486",
          "score": 0.2584316783102668
         },
         {
          "date": "2014-04-28T05:46:34.054054",
          "score": 0.2597407899352
         },
         {
          "date": "2014-05-02T15:52:41.621622",
          "score": 0.26104912453655615
         },
         {
          "date": "2014-05-07T01:58:49.189189",
          "score": 0.2623566782004032
         },
         {
          "date": "2014-05-11T12:04:56.756757",
          "score": 0.26366344701515665
         },
         {
          "date": "2014-05-15T22:11:04.324324",
          "score": 0.2649694270715686
         },
         {
          "date": "2014-05-20T08:17:11.891892",
          "score": 0.2662746144627504
         },
         {
          "date": "2014-05-24T18:23:19.459460",
          "score": 0.26757900528419665
         },
         {
          "date": "2014-05-29T04:29:27.027027",
          "score": 0.268882595633773
         },
         {
          "date": "2014-06-02T14:35:34.594594",
          "score": 0.2701853816117437
         },
         {
          "date": "2014-06-07T00:41:42.162162",
          "score": 0.27148735932077606
         },
         {
          "date": "2014-06-11T10:47:49.729730",
          "score": 0.2727885248659646
         },
         {
          "date": "2014-06-15T20:53:57.297297",
          "score": 0.2740888743548256
         },
         {
          "date": "2014-06-20T07:00:04.864865",
          "score": 0.2753884038973142
         },
         {
          "date": "2014-06-24T17:06:12.432432",
          "score": 0.27668710960584975
         },
         {
          "date": "2014-06-29T03:12:20",
          "score": 0.27798498759530477
         },
         {
          "date": "2014-07-03T13:18:27.567568",
          "score": 0.2792820339830339
         },
         {
          "date": "2014-07-07T23:24:35.135135",
          "score": 0.2805782448888764
         },
         {
          "date": "2014-07-12T09:30:42.702703",
          "score": 0.28187361643517117
         },
         {
          "date": "2014-07-16T19:36:50.270270",
          "score": 0.2831681447467731
         },
         {
          "date": "2014-07-21T05:42:57.837838",
          "score": 0.28446182595105474
         },
         {
          "date": "2014-07-25T15:49:05.405406",
          "score": 0.28575465617792006
         },
         {
          "date": "2014-07-30T01:55:12.972973",
          "score": 0.28704663155982896
         },
         {
          "date": "2014-08-03T12:01:20.540540",
          "score": 0.2883377482317886
         },
         {
          "date": "2014-08-07T22:07:28.108108",
          "score": 0.28962800233137975
         },
         {
          "date": "2014-08-12T08:13:35.675676",
          "score": 0.2909173899987587
         },
         {
          "date": "2014-08-16T18:19:43.243243",
          "score": 0.29220590737668356
         },
         {
          "date": "2014-08-21T04:25:50.810811",
          "score": 0.29349355061050797
         },
         {
          "date": "2014-08-25T14:31:58.378378",
          "score": 0.2947803158481984
         },
         {
          "date": "2014-08-30T00:38:05.945946",
          "score": 0.2960661992403588
         },
         {
          "date": "2014-09-03T10:44:13.513514",
          "score": 0.29735119694022044
         },
         {
          "date": "2014-09-07T20:50:21.081081",
          "score": 0.2986353051036695
         },
         {
          "date": "2014-09-12T06:56:28.648649",
          "score": 0.2999185198892511
         },
         {
          "date": "2014-09-16T17:02:36.216216",
          "score": 0.3012008374581799
         },
         {
          "date": "2014-09-21T03:08:43.783784",
          "score": 0.30248225397436634
         },
         {
          "date": "2014-09-25T13:14:51.351351",
          "score": 0.3037627656044012
         },
         {
          "date": "2014-09-29T23:20:58.918919",
          "score": 0.3050423685175955
         },
         {
          "date": "2014-10-04T09:27:06.486486",
          "score": 0.30632105888597083
         },
         {
          "date": "2014-10-08T19:33:14.054054",
          "score": 0.3075988328842799
         },
         {
          "date": "2014-10-13T05:39:21.621622",
          "score": 0.3088756866900176
         },
         {
          "date": "2014-10-17T15:45:29.189189",
          "score": 0.3101516164834273
         },
         {
          "date": "2014-10-22T01:51:36.756757",
          "score": 0.31142661844752906
         },
         {
          "date": "2014-10-26T10:57:44.324324",
          "score": 0.3127006887681061
         },
         {
          "date": "2014-10-30T21:03:51.891892",
          "score": 0.31397382363372905
         },
         {
          "date": "2014-11-04T07:09:59.459460",
          "score": 0.3152460192357788
         },
         {
          "date": "2014-11-08T17:16:07.027027",
          "score": 0.31651727176843386
         },
         {
          "date": "2014-11-13T03:22:14.594594",
          "score": 0.3177875774286985
         },
         {
          "date": "2014-11-17T13:28:22.162162",
          "score": 0.3190569324164052
         },
         {
          "date": "2014-11-21T23:34:29.729730",
          "score": 0.3203253329342426
         },
         {
          "date": "2014-11-26T09:40:37.297297",
          "score": 0.32159277518774243
         },
         {
          "date": "2014-11-30T19:46:44.864865",
          "score": 0.32285925538530336
         },
         {
          "date": "2014-12-05T05:52:52.432432",
          "score": 0.32412476973821386
         },
         {
          "date": "2014-12-09T15:59:00",
          "score": 0.32538931446064
         },
         {
          "date": "2014-12-14T02:05:07.567568",
          "score": 0.32665288576965235
         },
         {
          "date": "2014-12-18T12:11:15.135135",
          "score": 0.32791547988523284
         },
         {
          "date": "2014-12-22T22:17:22.702703",
          "score": 0.32917709303028553
         },
         {
          "date": "2014-12-27T08:23:30.270270",
          "score": 0.33043772143065686
         },
         {
          "date": "2014-12-31T18:29:37.837838",
          "score": 0.3316973613151293
         },
         {
          "date": "2015-01-05T04:35:45.405406",
          "score": 0.3329560089154451
         },
         {
          "date": "2015-01-09T14:41:52.972973",
          "score": 0.3342136604663204
         },
         {
          "date": "2015-01-14T00:48:00.540540",
          "score": 0.3354703122054456
         },
         {
          "date": "2015-01-18T10:54:08.108108",
          "score": 0.3367259603735021
         },
         {
          "date": "2015-01-22T21:00:15.675676",
          "score": 0.33798060121417367
         },
         {
          "date": "2015-01-27T07:06:23.243243",
          "score": 0.33923423097416255
         },
         {
          "date": "2015-01-31T17:12:30.810811",
          "score": 0.3404868459031908
         },
         {
          "date": "2015-02-05T03:18:38.378378",
          "score": 0.3417384422540133
         },
         {
          "date": "2015-02-09T13:24:45.945946",
          "score": 0.3429890162824426
         },
         {
          "date": "2015-02-13T23:30:53.513514",
          "score": 0.34423856424733945
         },
         {
          "date": "2015-02-18T09:37:01.081081",
          "score": 0.34548708241063897
         },
         {
          "date": "2015-02-22T19:43:08.648649",
          "score": 0.3467345670373546
         },
         {
          "date": "2015-02-27T05:49:16.216216",
          "score": 0.3479810143955909
         },
         {
          "date": "2015-03-03T15:55:23.783784",
          "score": 0.3492264207565632
         },
         {
          "date": "2015-03-08T02:01:31.351351",
          "score": 0.3504707823945886
         },
         {
          "date": "2015-03-12T12:07:38.918919",
          "score": 0.3517140955871222
         },
         {
          "date": "2015-03-16T22:13:46.486486",
          "score": 0.35295635661474717
         },
         {
          "date": "2015-03-21T08:19:54.054054",
          "score": 0.3541975617611962
         },
         {
          "date": "2015-03-25T18:26:01.621622",
          "score": 0.355437707313361
         },
         {
          "date": "2015-03-30T05:32:09.189189",
          "score": 0.35667678956129945
         },
         {
          "date": "2015-04-03T15:38:16.756757",
          "score": 0.35791480479826154
         },
         {
          "date": "2015-04-08T01:44:24.324324",
          "score": 0.35915174932067806
         },
         {
          "date": "2015-04-12T11:50:31.891892",
          "score": 0.36038761942818265
         },
         {
          "date": "2015-04-16T21:56:39.459460",
          "score": 0.36162241142363477
         },
         {
          "date": "2015-04-21T08:02:47.027027",
          "score": 0.3628561216131076
         },
         {
          "date": "2015-04-25T18:08:54.594594",
          "score": 0.36408874630591426
         },
         {
          "date": "2015-04-30T04:15:02.162162",
          "score": 0.3653202818146114
         },
         {
          "date": "2015-05-04T14:21:09.729730",
          "score": 0.3665507244550256
         },
         {
          "date": "2015-05-09T00:27:17.297297",
          "score": 0.3677800705462411
         },
         {
          "date": "2015-05-13T10:33:24.864865",
          "score": 0.3690083164106228
         },
         {
          "date": "2015-05-17T20:39:32.432432",
          "score": 0.3702354583738381
         },
         {
          "date": "2015-05-22T06:45:40",
          "score": 0.3714614927648455
         },
         {
          "date": "2015-05-26T16:51:47.567568",
          "score": 0.37268641591592006
         },
         {
          "date": "2015-05-31T02:57:55.135135",
          "score": 0.3739102241626629
         },
         {
          "date": "2015-06-04T13:04:02.702703",
          "score": 0.37513291384400543
         },
         {
          "date": "2015-06-08T23:10:10.270270",
          "score": 0.3763544813022355
         },
         {
          "date": "2015-06-13T09:16:17.837838",
          "score": 0.3775749228829878
         },
         {
          "date": "2015-06-17T19:22:25.405406",
          "score": 0.37879423493526715
         },
         {
          "date": "2015-06-22T05:28:32.972973",
          "score": 0.3800124138114651
         },
         {
          "date": "2015-06-26T15:34:40.540540",
          "score": 0.38122945586735335
         },
         {
          "date": "2015-07-01T01:40:48.108108",
          "score": 0.3824453574621097
         },
         {
          "date": "2015-07-05T11:46:55.675676",
          "score": 0.38366011495831887
         },
         {
          "date": "2015-07-09T21:53:03.243243",
          "score": 0.384873724721997
         },
         {
          "date": "2015-07-14T07:59:10.810811",
          "score": 0.38608618312258663
         },
         {
          "date": "2015-07-18T18:05:18.378378",
          "score": 0.3872974865329734
         },
         {
          "date": "2015-07-23T04:11:25.945946",
          "score": 0.38850763132950544
         },
         {
          "date": "2015-07-27T14:17:33.513514",
          "score": 0.38971661389199147
         },
         {
          "date": "2015-08-01T00:23:41.081081",
          "score": 0.39092443060371684
         },
         {
          "date": "2015-08-05T10:29:48.648649",
          "score": 0.39213107785145745
         },
         {
          "date": "2015-08-09T20:35:56.216216",
          "score": 0.39333655202548234
         },
         {
          "date": "2015-08-14T06:42:03.783784",
          "score": 0.3945408495195799
         },
         {
          "date": "2015-08-18T16:48:11.351351",
          "score": 0.3957439667310465
         },
         {
          "date": "2015-08-23T02:54:18.918919",
          "score": 0.3969459000607207
         },
         {
          "date": "2015-08-27T13:00:26.486486",
          "score": 0.39814664591297527
         },
         {
          "date": "2015-08-31T23:06:34.054054",
          "score": 0.3993462006957372
         },
         {
          "date": "2015-09-05T09:12:41.621622",
          "score": 0.40054456082049555
         },
         {
          "date": "2015-09-09T19:18:49.189189",
          "score": 0.40174172270231306
         },
         {
          "date": "2015-09-14T05:24:56.756757",
          "score": 0.4029376827598438
         },
         {
          "date": "2015-09-18T15:31:04.324324",
          "score": 0.4041324374153289
         },
         {
          "date": "2015-09-23T01:37:11.891892",
          "score": 0.40532598309461454
         },
         {
          "date": "2015-09-27T11:43:19.459460",
          "score": 0.4065183162271748
         },
         {
          "date": "2015-10-01T21:49:27.027027",
          "score": 0.4077094332461003
         },
         {
          "date": "2015-10-06T07:55:34.594594",
          "score": 0.408899330588123
         },
         {
          "date": "2015-10-10T18:01:42.162162",
          "score": 0.4100880046936201
         },
         {
          "date": "2015-10-15T04:07:49.729730",
          "score": 0.4112754520066393
         },
         {
          "date": "2015-10-19T14:13:57.297297",
          "score": 0.412461668974887
         },
         {
          "date": "2015-10-24T00:20:04.864865",
          "score": 0.4136466520497503
         },
         {
          "date": "2015-10-28T09:26:12.432432",
          "score": 0.4148303976863187
         },
         {
          "date": "2015-11-01T19:32:20",
          "score": 0.41601290234337235
         },
         {
          "date": "2015-11-06T05:38:27.567568",
          "score": 0.4171941624834071
         },
         {
          "date": "2015-11-10T15:44:35.135135",
          "score": 0.41837417457264336
         },
         {
          "date": "2015-11-15T01:50:42.702703",
          "score": 0.4195529350810306
         },
         {
          "date": "2015-11-19T11:56:50.270270",
          "score": 0.42073044048227165
         },
         {
          "date": "2015-11-23T22:02:57.837838",
          "score": 0.42190668725381486
         },
         {
          "date": "2015-11-28T08:09:05.405406",
          "score": 0.4230816718768755
         },
         {
          "date": "2015-12-02T18:15:12.972973",
          "score": 0.4242553908364516
         },
         {
          "date": "2015-12-07T04:21:20.540540",
          "score": 0.4254278406213187
         },
         {
          "date": "2015-12-11T14:27:28.108108",
          "score": 0.4265990177240538
         },
         {
          "date": "2015-12-16T00:33:35.675676",
          "score": 0.42776891864103644
         },
         {
          "date": "2015-12-20T10:39:43.243243",
          "score": 0.42893753987247274
         },
         {
          "date": "2015-12-24T20:45:50.810811",
          "score": 0.43010487792239005
         },
         {
          "date": "2015-12-29T06:51:58.378378",
          "score": 0.4312709292986526
         },
         {
          "date": "2016-01-02T16:58:05.945946",
          "score": 0.4324356905129833
         },
         {
          "date": "2016-01-07T03:04:13.513514",
          "score": 0.4335991580809548
         },
         {
          "date": "2016-01-11T13:10:21.081081",
          "score": 0.43476132852201477
         },
         {
          "date": "2016-01-15T23:16:28.648649",
          "score": 0.43592219835948964
         },
         {
          "date": "2016-01-20T09:22:36.216216",
          "score": 0.4370817641205933
         },
         {
          "date": "2016-01-24T19:28:43.783784",
          "score": 0.438240022336452
         },
         {
          "date": "2016-01-29T05:34:51.351351",
          "score": 0.4393969695420896
         },
         {
          "date": "2016-02-02T15:40:58.918919",
          "score": 0.4405526022764633
         },
         {
          "date": "2016-02-07T01:47:06.486486",
          "score": 0.4417069170824556
         },
         {
          "date": "2016-02-11T11:53:14.054054",
          "score": 0.4428599105068942
         },
         {
          "date": "2016-02-15T21:59:21.621622",
          "score": 0.44401157910055883
         },
         {
          "date": "2016-02-20T08:05:29.189189",
          "score": 0.44516191941819006
         },
         {
          "date": "2016-02-24T18:11:36.756757",
          "score": 0.44631092801851097
         },
         {
          "date": "2016-02-29T04:17:44.324324",
          "score": 0.4474586014642187
         },
         {
          "date": "2016-03-04T14:23:51.891892",
          "score": 0.4486049363220067
         },
         {
          "date": "2016-03-09T00:29:59.459460",
          "score": 0.44974992916257983
         },
         {
          "date": "2016-03-13T10:36:07.027027",
          "score": 0.4508935765606494
         },
         {
          "date": "2016-03-17T20:42:14.594594",
          "score": 0.45203587509495397
         },
         {
          "date": "2016-03-22T06:48:22.162162",
          "score": 0.453176821348266
         },
         {
          "date": "2016-03-26T16:54:29.729730",
          "score": 0.4543164119074107
         },
         {
          "date": "2016-03-31T04:00:37.297297",
          "score": 0.45545464336326036
         },
         {
          "date": "2016-04-04T14:06:44.864865",
          "score": 0.4565915123107525
         },
         {
          "date": "2016-04-09T00:12:52.432432",
          "score": 0.45772701534891147
         },
         {
          "date": "2016-04-13T10:19:00",
          "score": 0.45886114908083697
         },
         {
          "date": "2016-04-17T20:25:07.567568",
          "score": 0.4599939101137281
         },
         {
          "date": "2016-04-22T06:31:15.135135",
          "score": 0.4611252950588921
         },
         {
          "date": "2016-04-26T16:37:22.702703",
          "score": 0.46225530053174824
         },
         {
          "date": "2016-05-01T02:43:30.270270",
          "score": 0.4633839231518516
         },
         {
          "date": "2016-05-05T12:49:37.837838",
          "score": 0.46451115954288524
         },
         {
          "date": "2016-05-09T22:55:45.405406",
          "score": 0.46563700633268057
         },
         {
          "date": "2016-05-14T09:01:52.972973",
          "score": 0.466761460153233
         },
         {
          "date": "2016-05-18T19:08:00.540540",
          "score": 0.4678845176406967
         },
         {
          "date": "2016-05-23T05:14:08.108108",
          "score": 0.46900617543540735
         },
         {
          "date": "2016-05-27T15:20:15.675676",
          "score": 0.4701264301818832
         },
         {
          "date": "2016-06-01T01:26:23.243243",
          "score": 0.4712452785288487
         },
         {
          "date": "2016-06-05T11:32:30.810811",
          "score": 0.47236271712922834
         },
         {
          "date": "2016-06-09T21:38:38.378378",
          "score": 0.47347874264016243
         },
         {
          "date": "2016-06-14T07:44:45.945946",
          "score": 0.47459335172302775
         },
         {
          "date": "2016-06-18T17:50:53.513514",
          "score": 0.4757065410434291
         },
         {
          "date": "2016-06-23T03:57:01.081081",
          "score": 0.4768183072712231
         },
         {
          "date": "2016-06-27T14:03:08.648649",
          "score": 0.47792864708052224
         },
         {
          "date": "2016-07-02T00:09:16.216216",
          "score": 0.4790375571497028
         },
         {
          "date": "2016-07-06T10:15:23.783784",
          "score": 0.4801450341614289
         },
         {
          "date": "2016-07-10T20:21:31.351351",
          "score": 0.4812510748026382
         },
         {
          "date": "2016-07-15T06:27:38.918919",
          "score": 0.48235567576457705
         },
         {
          "date": "2016-07-19T16:33:46.486486",
          "score": 0.4834588337427915
         },
         {
          "date": "2016-07-24T02:39:54.054054",
          "score": 0.484560545437146
         },
         {
          "date": "2016-07-28T12:46:01.621622",
          "score": 0.48566080755183155
         },
         {
          "date": "2016-08-01T22:52:09.189189",
          "score": 0.48675961679537244
         },
         {
          "date": "2016-08-06T08:58:16.756757",
          "score": 0.4878569698806497
         },
         {
          "date": "2016-08-10T19:04:24.324324",
          "score": 0.4889528635248902
         },
         {
          "date": "2016-08-15T05:10:31.891892",
          "score": 0.490047294449687
         },
         {
          "date": "2016-08-19T15:16:39.459460",
          "score": 0.49114025938101735
         },
         {
          "date": "2016-08-24T01:22:47.027027",
          "score": 0.4922317550492371
         },
         {
          "date": "2016-08-28T11:28:54.594594",
          "score": 0.49332177818909845
         },
         {
          "date": "2016-09-01T21:35:02.162162",
          "score": 0.49441032553975656
         },
         {
          "date": "2016-09-06T07:41:09.729730",
          "score": 0.49549739384479
         },
         {
          "date": "2016-09-10T17:47:17.297297",
          "score": 0.4965829798521928
         },
         {
          "date": "2016-09-15T03:53:24.864865",
          "score": 0.4976670803143952
         },
         {
          "date": "2016-09-19T13:59:32.432432",
          "score": 0.4987496919882782
         },
         {
          "date": "2016-09-24T00:05:40",
          "score": 0.49983081163516835
         },
         {
          "date": "2016-09-28T10:11:47.567568",
          "score": 0.5009104360208585
         },
         {
          "date": "2016-10-02T20:17:55.135135",
          "score": 0.5019885619156158
         },
         {
          "date": "2016-10-07T06:24:02.702703",
          "score": 0.5030651860941862
         },
         {
          "date": "2016-10-11T16:30:10.270270",
          "score": 0.5041403053358161
         },
         {
          "date": "2016-10-16T02:36:17.837838",
          "score": 0.5052139164242464
         },
         {
          "date": "2016-10-20T12:42:25.405406",
          "score": 0.5062860161477303
         },
         {
          "date": "2016-10-24T22:48:32.972973",
          "score": 0.5073566012990492
         },
         {
          "date": "2016-10-29T08:54:40.540540",
          "score": 0.5084256686755076
         },
         {
          "date": "2016-11-02T18:00:48.108108",
          "score": 0.509493215078954
         },
         {
          "date": "2016-11-07T04:06:55.675676",
          "score": 0.5105592373157831
         },
         {
          "date": "2016-11-11T14:13:03.243243",
          "score": 0.511623732196958
         },
         {
          "date": "2016-11-16T00:19:10.810811",
          "score": 0.5126866965380029
         },
         {
          "date": "2016-11-20T10:25:18.378378",
          "score": 0.51374812715902
         },
         {
          "date": "2016-11-24T20:31:25.945946",
          "score": 0.5148080208847086
         },
         {
          "date": "2016-11-29T06:37:33.513514",
          "score": 0.5158663745443567
         },
         {
          "date": "2016-12-03T16:43:41.081081",
          "score": 0.5169231849718631
         },
         {
          "date": "2016-12-08T02:49:48.648649",
          "score": 0.5179784490057424
         },
         {
          "date": "2016-12-12T12:55:56.216216",
          "score": 0.5190321634891335
         },
         {
          "date": "2016-12-16T23:02:03.783784",
          "score": 0.5200843252698177
         },
         {
          "date": "2016-12-21T09:08:11.351351",
          "score": 0.5211349312002118
         },
         {
          "date": "2016-12-25T19:14:18.918919",
          "score": 0.5221839781373968
         },
         {
          "date": "2016-12-30T05:20:26.486486",
          "score": 0.5232314629431096
         },
         {
          "date": "2017-01-03T15:26:34.054054",
          "score": 0.5242773824837633
         },
         {
          "date": "2017-01-08T01:32:41.621622",
          "score": 0.5253217336304535
         },
         {
          "date": "2017-01-12T11:38:49.189189",
          "score": 0.5263645132589647
         },
         {
          "date": "2017-01-16T21:44:56.756757",
          "score": 0.5274057182497907
         },
         {
          "date": "2017-01-21T07:51:04.324324",
          "score": 0.528445345488128
         },
         {
          "date": "2017-01-25T17:57:11.891892",
          "score": 0.5294833918638933
         },
         {
          "date": "2017-01-30T04:03:19.459460",
          "score": 0.5305198542717401
         },
         {
          "date": "2017-02-03T14:09:27.027027",
          "score": 0.5315547296110522
         },
         {
          "date": "2017-02-08T00:15:34.594594",
          "score": 0.5325880147859645
         },
         {
          "date": "2017-02-12T10:21:42.162162",
          "score": 0.533619706705366
         },
         {
          "date": "2017-02-16T20:27:49.729730",
          "score": 0.5346498022829196
         },
         {
          "date": "2017-02-21T06:33:57.297297",
          "score": 0.535678298437056
         },
         {
          "date": "2017-02-25T16:40:04.864865",
          "score": 0.5367051920909909
         },
         {
          "date": "2017-03-02T02:46:12.432432",
          "score": 0.5377304801727414
         },
         {
          "date": "2017-03-06T12:52:20",
          "score": 0.5387541596151203
         },
         {
          "date": "2017-03-10T22:58:27.567568",
          "score": 0.5397762273557547
         },
         {
          "date": "2017-03-15T09:04:35.135135",
          "score": 0.5407966803370937
         },
         {
          "date": "2017-03-19T19:10:42.702703",
          "score": 0.5418155155064145
         },
         {
          "date": "2017-03-24T05:16:50.270270",
          "score": 0.5428327298158412
         },
         {
          "date": "2017-03-28T16:22:57.837838",
          "score": 0.5438483202223393
         },
         {
          "date": "2017-04-02T02:29:05.405406",
          "score": 0.5448622836877324
         },
         {
          "date": "2017-04-06T12:35:12.972973",
          "score": 0.5458746171787191
         },
         {
          "date": "2017-04-10T22:41:20.540540",
          "score": 0.5468853176668658
         },
         {
          "date": "2017-04-15T08:47:28.108108",
          "score": 0.5478943821286268
         },
         {
          "date": "2017-04-19T18:53:35.675676",
          "score": 0.5489018075453487
         },
         {
          "date": "2017-04-24T04:59:43.243243",
          "score": 0.5499075909032882
         },
         {
          "date": "2017-04-28T15:05:50.810811",
          "score": 0.550911729193607
         },
         {
          "date": "2017-05-03T01:11:58.378378",
          "score": 0.5519142194123883
         },
         {
          "date": "2017-05-07T11:18:05.945946",
          "score": 0.5529150585606524
         },
         {
          "date": "2017-05-11T21:24:13.513514",
          "score": 0.5539142436443524
         },
         {
          "date": "2017-05-16T07:30:21.081081",
          "score": 0.5549117716743909
         },
         {
          "date": "2017-05-20T17:36:28.648649",
          "score": 0.5559076396666287
         },
         {
          "date": "2017-05-25T03:42:36.216216",
          "score": 0.5569018446418895
         },
         {
          "date": "2017-05-29T13:48:43.783784",
          "score": 0.5578943836259797
         },
         {
          "date": "2017-06-02T23:54:51.351351",
          "score": 0.5588852536496792
         },
         {
          "date": "2017-06-07T10:00:58.918919",
          "score": 0.5598744517487715
         },
         {
          "date": "2017-06-11T20:07:06.486486",
          "score": 0.5608619749640332
         },
         {
          "date": "2017-06-16T06:13:14.054054",
          "score": 0.5618478203412548
         },
         {
          "date": "2017-06-20T16:19:21.621622",
          "score": 0.5628319849312454
         },
         {
          "date": "2017-06-25T02:25:29.189189",
          "score": 0.5638144657898401
         },
         {
          "date": "2017-06-29T12:31:36.756757",
          "score": 0.5647952599779184
         },
         {
          "date": "2017-07-03T22:37:44.324324",
          "score": 0.5657743645613978
         },
         {
          "date": "2017-07-08T08:43:51.891892",
          "score": 0.5667517766112508
         },
         {
          "date": "2017-07-12T18:49:59.459460",
          "score": 0.5677274932035202
         },
         {
          "date": "2017-07-17T04:56:07.027027",
          "score": 0.5687015114193135
         },
         {
          "date": "2017-07-21T15:02:14.594594",
          "score": 0.5696738283448213
         },
         {
          "date": "2017-07-26T01:08:22.162162",
          "score": 0.5706444410713216
         },
         {
          "date": "2017-07-30T11:14:29.729730",
          "score": 0.5716133466951976
         },
         {
          "date": "2017-08-03T21:20:37.297297",
          "score": 0.572580542317932
         },
         {
          "date": "2017-08-08T07:26:44.864865",
          "score": 0.5735460250461232
         },
         {
          "date": "2017-08-12T17:32:52.432432",
          "score": 0.574509791991501
         },
         {
          "date": "2017-08-17T03:39:00",
          "score": 0.5754718402709209
         },
         {
          "date": "2017-08-21T13:45:07.567568",
          "score": 0.5764321670063819
         },
         {
          "date": "2017-08-25T23:51:15.135135",
          "score": 0.5773907693250333
         },
         {
          "date": "2017-08-30T09:57:22.702703",
          "score": 0.578347644359181
         },
         {
          "date": "2017-09-03T20:03:30.270270",
          "score": 0.5793027892463044
         },
         {
          "date": "2017-09-08T06:09:37.837838",
          "score": 0.5802562011290523
         },
         {
          "date": "2017-09-12T16:15:45.405406",
          "score": 0.5812078771552578
         },
         {
          "date": "2017-09-17T02:21:52.972973",
          "score": 0.5821578144779536
         },
         {
          "date": "2017-09-21T12:28:00.540540",
          "score": 0.583106010255367
         },
         {
          "date": "2017-09-25T22:34:08.108108",
          "score": 0.5840524616509375
         },
         {
          "date": "2017-09-30T08:40:15.675676",
          "score": 0.5849971658333204
         },
         {
          "date": "2017-10-04T18:46:23.243243",
          "score": 0.5859401199764053
         },
         {
          "date": "2017-10-09T04:52:30.810811",
          "score": 0.5868813212593097
         },
         {
          "date": "2017-10-13T14:58:38.378378",
          "score": 0.5878207668663952
         },
         {
          "date": "2017-10-18T01:04:45.945946",
          "score": 0.5887584539872822
         },
         {
          "date": "2017-10-22T11:10:53.513514",
          "score": 0.5896943798168449
         },
         {
          "date": "2017-10-26T21:17:01.081081",
          "score": 0.5906285415552286
         },
         {
          "date": "2017-10-31T06:23:08.648649",
          "score": 0.5915609364078562
         },
         {
          "date": "2017-11-04T16:29:16.216216",
          "score": 0.592491561585434
         },
         {
          "date": "2017-11-09T02:35:23.783784",
          "score": 0.5934204143039689
         },
         {
          "date": "2017-11-13T12:41:31.351351",
          "score": 0.5943474917847613
         },
         {
          "date": "2017-11-17T22:47:38.918919",
          "score": 0.5952727912544314
         },
         {
          "date": "2017-11-22T08:53:46.486486",
          "score": 0.5961963099449114
         },
         {
          "date": "2017-11-26T18:59:54.054054",
          "score": 0.5971180450934631
         },
         {
          "date": "2017-12-01T05:06:01.621622",
          "score": 0.5980379939426839
         },
         {
          "date": "2017-12-05T15:12:09.189189",
          "score": 0.5989561537405126
         },
         {
          "date": "2017-12-10T01:18:16.756757",
          "score": 0.5998725217402472
         },
         {
          "date": "2017-12-14T11:24:24.324324",
          "score": 0.6007870952005382
         },
         {
          "date": "2017-12-18T21:30:31.891892",
          "score": 0.6016998713854057
         },
         {
          "date": "2017-12-23T07:36:39.459460",
          "score": 0.6026108475642522
         },
         {
          "date": "2017-12-27T17:42:47.027027",
          "score": 0.603520021011859
         },
         {
          "date": "2018-01-01T03:48:54.594594",
          "score": 0.6044273890084019
         },
         {
          "date": "2018-01-05T13:55:02.162162",
          "score": 0.605332948839456
         },
         {
          "date": "2018-01-10T00:01:09.729730",
          "score": 0.606236697796012
         },
         {
          "date": "2018-01-14T10:07:17.297297",
          "score": 0.6071386331744716
         },
         {
          "date": "2018-01-18T20:13:24.864865",
          "score": 0.6080387522766613
         },
         {
          "date": "2018-01-23T06:19:32.432432",
          "score": 0.6089370524098483
         },
         {
          "date": "2018-01-27T16:25:40",
          "score": 0.6098335308867343
         },
         {
          "date": "2018-02-01T02:31:47.567568",
          "score": 0.610728185025473
         },
         {
          "date": "2018-02-05T12:37:55.135135",
          "score": 0.6116210121496752
         },
         {
          "date": "2018-02-09T22:44:02.702703",
          "score": 0.6125120095884158
         },
         {
          "date": "2018-02-14T08:50:10.270270",
          "score": 0.6134011746762491
         },
         {
          "date": "2018-02-18T18:56:17.837838",
          "score": 0.614288504753205
         },
         {
          "date": "2018-02-23T05:02:25.405406",
          "score": 0.6151739971648024
         },
         {
          "date": "2018-02-27T15:08:32.972973",
          "score": 0.6160576492620647
         },
         {
          "date": "2018-03-04T01:14:40.540540",
          "score": 0.6169394584015137
         },
         {
          "date": "2018-03-08T11:20:48.108108",
          "score": 0.6178194219451868
         },
         {
          "date": "2018-03-12T21:26:55.675676",
          "score": 0.6186975372606401
         },
         {
          "date": "2018-03-17T07:33:03.243243",
          "score": 0.619573801720966
         },
         {
          "date": "2018-03-21T17:39:10.810811",
          "score": 0.6204482127047868
         },
         {
          "date": "2018-03-26T04:45:18.378378",
          "score": 0.6213207675962691
         },
         {
          "date": "2018-03-30T14:51:25.945946",
          "score": 0.6221914637851395
         },
         {
          "date": "2018-04-04T00:57:33.513514",
          "score": 0.6230602986666777
         },
         {
          "date": "2018-04-08T11:03:41.081081",
          "score": 0.6239272696417342
         },
         {
          "date": "2018-04-12T21:09:48.648649",
          "score": 0.6247923741167353
         },
         {
          "date": "2018-04-17T07:15:56.216216",
          "score": 0.6256556095036885
         },
         {
          "date": "2018-04-21T17:22:03.783784",
          "score": 0.6265169732202001
         },
         {
          "date": "2018-04-26T03:28:11.351351",
          "score": 0.6273764626894658
         },
         {
          "date": "2018-04-30T13:34:18.918919",
          "score": 0.6282340753402977
         },
         {
          "date": "2018-05-04T23:40:26.486486",
          "score": 0.6290898086071156
         },
         {
          "date": "2018-05-09T09:46:34.054054",
          "score": 0.6299436599299637
         },
         {
          "date": "2018-05-13T19:52:41.621622",
          "score": 0.6307956267545163
         },
         {
          "date": "2018-05-18T05:58:49.189189",
          "score": 0.6316457065320829
         },
         {
          "date": "2018-05-22T16:04:56.756757",
          "score": 0.6324938967196245
         },
         {
          "date": "2018-05-27T02:11:04.324324",
          "score": 0.633340194779749
         },
         {
          "date": "2018-05-31T12:17:11.891892",
          "score": 0.6341845981807238
         },
         {
          "date": "2018-06-04T22:23:19.459460",
          "score": 0.6350271043964915
         },
         {
          "date": "2018-06-09T08:29:27.027027",
          "score": 0.6358677109066633
         },
         {
          "date": "2018-06-13T18:35:34.594594",
          "score": 0.6367064151965356
         },
         {
          "date": "2018-06-18T04:41:42.162162",
          "score": 0.6375432147570933
         },
         {
          "date": "2018-06-22T14:47:49.729730",
          "score": 0.6383781070850261
         },
         {
          "date": "2018-06-27T00:53:57.297297",
          "score": 0.639211089682722
         },
         {
          "date": "2018-07-01T11:00:04.864865",
          "score": 0.6400421600582831
         },
         {
          "date": "2018-07-05T21:06:12.432432",
          "score": 0.6408713157255373
         },
         {
          "date": "2018-07-10T07:12:20",
          "score": 0.641698554204035
         },
         {
          "date": "2018-07-14T17:18:27.567568",
          "score": 0.6425238730190633
         },
         {
          "date": "2018-07-19T03:24:35.135135",
          "score": 0.6433472697016525
         },
         {
          "date": "2018-07-23T13:30:42.702703",
          "score": 0.6441687417885809
         },
         {
          "date": "2018-07-27T23:36:50.270270",
          "score": 0.6449882868223901
         },
         {
          "date": "2018-08-01T09:42:57.837838",
          "score": 0.6458059023513809
         },
         {
          "date": "2018-08-05T19:49:05.405406",
          "score": 0.6466215859296262
         },
         {
          "date": "2018-08-10T05:55:12.972973",
          "score": 0.6474353351169839
         },
         {
          "date": "2018-08-14T16:01:20.540540",
          "score": 0.6482471474790936
         },
         {
          "date": "2018-08-19T02:07:28.108108",
          "score": 0.6490570205873901
         },
         {
          "date": "2018-08-23T12:13:35.675676",
          "score": 0.6498649520191081
         },
         {
          "date": "2018-08-27T22:19:43.243243",
          "score": 0.6506709393572967
         },
         {
          "date": "2018-09-01T08:25:50.810811",
          "score": 0.6514749801908146
         },
         {
          "date": "2018-09-05T18:31:58.378378",
          "score": 0.6522770721143443
         },
         {
          "date": "2018-09-10T04:38:05.945946",
          "score": 0.6530772127284035
         },
         {
          "date": "2018-09-14T14:44:13.513514",
          "score": 0.653875399639342
         },
         {
          "date": "2018-09-19T00:50:21.081081",
          "score": 0.6546716304593561
         },
         {
          "date": "2018-09-23T10:56:28.648649",
          "score": 0.6554659028064935
         },
         {
          "date": "2018-09-27T21:02:36.216216",
          "score": 0.6562582143046589
         },
         {
          "date": "2018-10-02T07:08:43.783784",
          "score": 0.6570485625836293
         },
         {
          "date": "2018-10-06T17:14:51.351351",
          "score": 0.6578369452790463
         },
         {
          "date": "2018-10-11T03:20:58.918919",
          "score": 0.6586233600324396
         },
         {
          "date": "2018-10-15T13:27:06.486486",
          "score": 0.6594078044912202
         },
         {
          "date": "2018-10-19T23:33:14.054054",
          "score": 0.6601902763086955
         },
         {
          "date": "2018-10-24T09:39:21.621622",
          "score": 0.6609707731440739
         },
         {
          "date": "2018-10-28T18:45:29.189189",
          "score": 0.6617492926624698
         },
         {
          "date": "2018-11-02T04:51:36.756757",
          "score": 0.6625258325349195
         },
         {
          "date": "2018-11-06T14:57:44.324324",
          "score": 0.6633003904383746
         },
         {
          "date": "2018-11-11T01:03:51.891892",
          "score": 0.6640729640557167
         },
         {
          "date": "2018-11-15T11:09:59.459460",
          "score": 0.6648435510757688
         },
         {
          "date": "2018-11-19T21:16:07.027027",
          "score": 0.665612149193291
         },
         {
          "date": "2018-11-24T07:22:14.594594",
          "score": 0.6663787561089956
         },
         {
          "date": "2018-11-28T17:28:22.162162",
          "score": 0.6671433695295496
         },
         {
          "date": "2018-12-03T03:34:29.729730",
          "score": 0.667905987167589
         },
         {
          "date": "2018-12-07T13:40:37.297297",
          "score": 0.668666606741715
         },
         {
          "date": "2018-12-11T23:46:44.864865",
          "score": 0.6694252259765058
         },
         {
          "date": "2018-12-16T09:52:52.432432",
          "score": 0.6701818426025294
         },
         {
          "date": "2018-12-20T19:59:00",
          "score": 0.6709364543563392
         },
         {
          "date": "2018-12-25T06:05:07.567568",
          "score": 0.6716890589804878
         },
         {
          "date": "2018-12-29T16:11:15.135135",
          "score": 0.6724396542235325
         },
         {
          "date": "2019-01-03T02:17:22.702703",
          "score": 0.6734240930896958
         },
         {
          "date": "2019-01-07T12:23:30.270270",
          "score": 0.675121938984744
         },
         {
          "date": "2019-01-11T22:29:37.837838",
          "score": 0.6768177419234531
         },
         {
          "date": "2019-01-16T08:35:45.405406",
          "score": 0.6785114781579256
         },
         {
          "date": "2019-01-20T18:41:52.972973",
          "score": 0.6802031239474096
         },
         {
          "date": "2019-01-25T04:48:00.540540",
          "score": 0.6818926555587662
         },
         {
          "date": "2019-01-29T14:54:08.108108",
          "score": 0.6835800492669799
         },
         {
          "date": "2019-02-03T01:00:15.675676",
          "score": 0.6852652813556436
         },
         {
          "date": "2019-02-07T11:06:23.243243",
          "score": 0.6869483281174692
         },
         {
          "date": "2019-02-11T21:12:30.810811",
          "score": 0.6886291658547541
         },
         {
          "date": "2019-02-16T07:18:38.378378",
          "score": 0.6903077708798894
         },
         {
          "date": "2019-02-20T17:24:45.945946",
          "score": 0.6919841195158631
         },
         {
          "date": "2019-02-25T03:30:53.513514",
          "score": 0.693658188096729
         },
         {
          "date": "2019-03-01T13:37:01.081081",
          "score": 0.6953299529681162
         },
         {
          "date": "2019-03-05T23:43:08.648649",
          "score": 0.6969993904877166
         },
         {
          "date": "2019-03-10T09:49:16.216216",
          "score": 0.6986664770257746
         },
         {
          "date": "2019-03-14T19:55:23.783784",
          "score": 0.7003311889655953
         },
         {
          "date": "2019-03-19T06:01:31.351351",
          "score": 0.7019935027040073
         },
         {
          "date": "2019-03-23T16:07:38.918919",
          "score": 0.7036533946518881
         },
         {
          "date": "2019-03-28T02:13:46.486486",
          "score": 0.705310841234627
         },
         {
          "date": "2019-04-01T13:19:54.054054",
          "score": 0.7069658188926324
         },
         {
          "date": "2019-04-05T23:26:01.621622",
          "score": 0.7086183040818204
         },
         {
          "date": "2019-04-10T09:32:09.189189",
          "score": 0.7102682732741001
         },
         {
          "date": "2019-04-14T19:38:16.756757",
          "score": 0.7119157029578828
         },
         {
          "date": "2019-04-19T05:44:24.324324",
          "score": 0.7135605696385454
         },
         {
          "date": "2019-04-23T15:50:31.891892",
          "score": 0.715202849838935
         },
         {
          "date": "2019-04-28T01:56:39.459460",
          "score": 0.7168425200998716
         },
         {
          "date": "2019-05-02T12:02:47.027027",
          "score": 0.7184795569806113
         },
         {
          "date": "2019-05-06T22:08:54.594594",
          "score": 0.7201139370593536
         },
         {
          "date": "2019-05-11T08:15:02.162162",
          "score": 0.7217456369337216
         },
         {
          "date": "2019-05-15T18:21:09.729730",
          "score": 0.7233746332212683
         },
         {
          "date": "2019-05-20T04:27:17.297297",
          "score": 0.7250009025599391
         },
         {
          "date": "2019-05-24T14:33:24.864865",
          "score": 0.7266244216085738
         },
         {
          "date": "2019-05-29T00:39:32.432432",
          "score": 0.7282451670474053
         },
         {
          "date": "2019-06-02T10:45:40",
          "score": 0.7298631155785233
         },
         {
          "date": "2019-06-06T20:51:47.567568",
          "score": 0.7314782439263775
         },
         {
          "date": "2019-06-11T06:57:55.135135",
          "score": 0.7330905288382601
         },
         {
          "date": "2019-06-15T17:04:02.702703",
          "score": 0.7346999470847886
         },
         {
          "date": "2019-06-20T03:10:10.270270",
          "score": 0.7363064754604073
         },
         {
          "date": "2019-06-24T13:16:17.837838",
          "score": 0.7379100907838447
         },
         {
          "date": "2019-06-28T23:22:25.405406",
          "score": 0.739510769898631
         },
         {
          "date": "2019-07-03T09:28:32.972973",
          "score": 0.7411084896735538
         },
         {
          "date": "2019-07-07T19:34:40.540540",
          "score": 0.7427032270031597
         },
         {
          "date": "2019-07-12T05:40:48.108108",
          "score": 0.7442949588082328
         },
         {
          "date": "2019-07-16T15:46:55.675676",
          "score": 0.7458836620362745
         },
         {
          "date": "2019-07-21T01:53:03.243243",
          "score": 0.7474693136620021
         },
         {
          "date": "2019-07-25T11:59:10.810811",
          "score": 0.749051890687807
         },
         {
          "date": "2019-07-29T22:05:18.378378",
          "score": 0.7506313701442485
         },
         {
          "date": "2019-08-03T08:11:25.945946",
          "score": 0.7522077290905476
         },
         {
          "date": "2019-08-07T18:17:33.513514",
          "score": 0.7537809446150429
         },
         {
          "date": "2019-08-12T04:23:41.081081",
          "score": 0.7553509938356872
         },
         {
          "date": "2019-08-16T14:29:48.648649",
          "score": 0.7569178539005227
         },
         {
          "date": "2019-08-21T00:35:56.216216",
          "score": 0.7584815019881574
         },
         {
          "date": "2019-08-25T10:42:03.783784",
          "score": 0.760041915308258
         },
         {
          "date": "2019-08-29T20:48:11.351351",
          "score": 0.7615990711020011
         },
         {
          "date": "2019-09-03T06:54:18.918919",
          "score": 0.7631529466425813
         },
         {
          "date": "2019-09-07T17:00:26.486486",
          "score": 0.7647035192356613
         },
         {
          "date": "2019-09-12T03:06:34.054054",
          "score": 0.7662507662198632
         },
         {
          "date": "2019-09-16T13:12:41.621622",
          "score": 0.7677946649672402
         },
         {
          "date": "2019-09-20T23:18:49.189189",
          "score": 0.7693351928837482
         },
         {
          "date": "2019-09-25T09:24:56.756757",
          "score": 0.7708723274097342
         },
         {
          "date": "2019-09-29T19:31:04.324324",
          "score": 0.7724060460203885
         },
         {
          "date": "2019-10-04T05:37:11.891892",
          "score": 0.7739363262262275
         },
         {
          "date": "2019-10-08T15:43:19.459460",
          "score": 0.7754631455735783
         },
         {
          "date": "2019-10-13T01:49:27.027027",
          "score": 0.7769864816450279
         },
         {
          "date": "2019-10-17T11:55:34.594594",
          "score": 0.7785063120599081
         },
         {
          "date": "2019-10-21T22:01:42.162162",
          "score": 0.7800226144747624
         },
         {
          "date": "2019-10-26T08:07:49.729730",
          "score": 0.7815353665838127
         },
         {
          "date": "2019-10-30T17:13:57.297297",
          "score": 0.7830445461194411
         },
         {
          "date": "2019-11-04T03:20:04.864865",
          "score": 0.784550130852633
         },
         {
          "date": "2019-11-08T13:26:12.432432",
          "score": 0.7860520985934747
         },
         {
          "date": "2019-11-12T23:32:20",
          "score": 0.7875504271915921
         },
         {
          "date": "2019-11-17T09:38:27.567568",
          "score": 0.7890450945366332
         },
         {
          "date": "2019-11-21T19:44:35.135135",
          "score": 0.7905360785587272
         },
         {
          "date": "2019-11-26T05:50:42.702703",
          "score": 0.792023357228948
         },
         {
          "date": "2019-11-30T15:56:50.270270",
          "score": 0.7935069085597887
         },
         {
          "date": "2019-12-05T02:02:57.837838",
          "score": 0.7949867106056012
         },
         {
          "date": "2019-12-09T12:09:05.405406",
          "score": 0.7964627414630867
         },
         {
          "date": "2019-12-13T22:15:12.972973",
          "score": 0.7979349792717294
         },
         {
          "date": "2019-12-18T08:21:20.540540",
          "score": 0.799403402214273
         },
         {
          "date": "2019-12-22T18:27:28.108108",
          "score": 0.8008679885171757
         },
         {
          "date": "2019-12-27T04:33:35.675676",
          "score": 0.8023287164510648
         },
         {
          "date": "2019-12-31T14:39:43.243243",
          "score": 0.8037855643312088
         },
         {
          "date": "2020-01-05T00:45:50.810811",
          "score": 0.8052385105179514
         },
         {
          "date": "2020-01-09T10:51:58.378378",
          "score": 0.8066875334171801
         },
         {
          "date": "2020-01-13T20:58:05.945946",
          "score": 0.8081326114807897
         },
         {
          "date": "2020-01-18T07:04:13.513514",
          "score": 0.8095737232071154
         },
         {
          "date": "2020-01-22T17:10:21.081081",
          "score": 0.8110108471414006
         },
         {
          "date": "2020-01-27T03:16:28.648649",
          "score": 0.8124439618762449
         },
         {
          "date": "2020-01-31T13:22:36.216216",
          "score": 0.8138730460520512
         },
         {
          "date": "2020-02-04T23:28:43.783784",
          "score": 0.8152980783574908
         },
         {
          "date": "2020-02-09T09:34:51.351351",
          "score": 0.8167190375299274
         },
         {
          "date": "2020-02-13T19:40:58.918919",
          "score": 0.8181359023558938
         },
         {
          "date": "2020-02-18T05:47:06.486486",
          "score": 0.819548651671514
         },
         {
          "date": "2020-02-22T15:53:14.054054",
          "score": 0.8209572643629637
         },
         {
          "date": "2020-02-27T01:59:21.621622",
          "score": 0.8223617193669124
         },
         {
          "date": "2020-03-02T12:05:29.189189",
          "score": 0.8237619956709634
         },
         {
          "date": "2020-03-06T22:11:36.756757",
          "score": 0.8251580723141113
         },
         {
          "date": "2020-03-11T08:17:44.324324",
          "score": 0.8265499283871639
         },
         {
          "date": "2020-03-15T18:23:51.891892",
          "score": 0.8279375430331923
         },
         {
          "date": "2020-03-20T04:29:59.459460",
          "score": 0.8293208954479825
         },
         {
          "date": "2020-03-24T14:36:07.027027",
          "score": 0.8306999648804531
         },
         {
          "date": "2020-03-29T00:42:14.594594",
          "score": 0.8320747306331071
         },
         {
          "date": "2020-04-02T11:48:22.162162",
          "score": 0.8334451720624662
         },
         {
          "date": "2020-04-06T21:54:29.729730",
          "score": 0.8348112685795012
         },
         {
          "date": "2020-04-11T08:00:37.297297",
          "score": 0.8361729996500816
         },
         {
          "date": "2020-04-15T18:06:44.864865",
          "score": 0.8375303447953861
         },
         {
          "date": "2020-04-20T04:12:52.432432",
          "score": 0.8388832835923594
         },
         {
          "date": "2020-04-24T14:19:00",
          "score": 0.8402317956741232
         },
         {
          "date": "2020-04-29T00:25:07.567568",
          "score": 0.8415758607304171
         },
         {
          "date": "2020-05-03T10:31:15.135135",
          "score": 0.8429154585080257
         },
         {
          "date": "2020-05-07T20:37:22.702703",
          "score": 0.8442505688112028
         },
         {
          "date": "2020-05-12T06:43:30.270270",
          "score": 0.8455811715021104
         },
         {
          "date": "2020-05-16T16:49:37.837838",
          "score": 0.8469072465012228
         },
         {
          "date": "2020-05-21T02:55:45.405406",
          "score": 0.8482287737877758
         },
         {
          "date": "2020-05-25T13:01:52.972973",
          "score": 0.8495457334001668
         },
         {
          "date": "2020-05-29T23:08:00.540540",
          "score": 0.8508581054363913
         },
         {
          "date": "2020-06-03T09:14:08.108108",
          "score": 0.8521658700544583
         },
         {
          "date": "2020-06-07T19:20:15.675676",
          "score": 0.8534690074728074
         },
         {
          "date": "2020-06-12T05:26:23.243243",
          "score": 0.8547674979707406
         },
         {
          "date": "2020-06-16T15:32:30.810811",
          "score": 0.8560613218888189
         },
         {
          "date": "2020-06-21T01:38:38.378378",
          "score": 0.8573504596292878
         },
         {
          "date": "2020-06-25T11:44:45.945946",
          "score": 0.8586348916565016
         },
         {
          "date": "2020-06-29T21:50:53.513514",
          "score": 0.8599145984973178
         },
         {
          "date": "2020-07-04T07:57:01.081081",
          "score": 0.8611895607415201
         },
         {
          "date": "2020-07-08T18:03:08.648649",
          "score": 0.8624597590422285
         },
         {
          "date": "2020-07-13T04:09:16.216216",
          "score": 0.8637251741163022
         },
         {
          "date": "2020-07-17T14:15:23.783784",
          "score": 0.8649857867447633
         },
         {
          "date": "2020-07-22T00:21:31.351351",
          "score": 0.8662415777731792
         },
         {
          "date": "2020-07-26T10:27:38.918919",
          "score": 0.8674925281120937
         },
         {
          "date": "2020-07-30T20:33:46.486486",
          "score": 0.8687386187374095
         },
         {
          "date": "2020-08-04T06:39:54.054054",
          "score": 0.8699798306908032
         },
         {
          "date": "2020-08-08T16:46:01.621622",
          "score": 0.8712161450801228
         },
         {
          "date": "2020-08-13T02:52:09.189189",
          "score": 0.8724475430797849
         },
         {
          "date": "2020-08-17T12:58:16.756757",
          "score": 0.8736740059311866
         },
         {
          "date": "2020-08-21T23:04:24.324324",
          "score": 0.8748955149430822
         },
         {
          "date": "2020-08-26T09:10:31.891892",
          "score": 0.87611205149199
         },
         {
          "date": "2020-08-30T19:16:39.459460",
          "score": 0.8773235970225948
         },
         {
          "date": "2020-09-04T05:22:47.027027",
          "score": 0.8785301330481227
         },
         {
          "date": "2020-09-08T15:28:54.594594",
          "score": 0.8797316411507454
         },
         {
          "date": "2020-09-13T01:35:02.162162",
          "score": 0.8809281029819664
         },
         {
          "date": "2020-09-17T11:41:09.729730",
          "score": 0.8821195002630078
         },
         {
          "date": "2020-09-21T21:47:17.297297",
          "score": 0.8833058147852082
         },
         {
          "date": "2020-09-26T07:53:24.864865",
          "score": 0.8844870284103885
         },
         {
          "date": "2020-09-30T17:59:32.432432",
          "score": 0.8856631230712595
         },
         {
          "date": "2020-10-05T04:05:40",
          "score": 0.8868340807717846
         },
         {
          "date": "2020-10-09T14:11:47.567568",
          "score": 0.8879998835875726
         },
         {
          "date": "2020-10-14T00:17:55.135135",
          "score": 0.8891605136662544
         },
         {
          "date": "2020-10-18T10:24:02.702703",
          "score": 0.8903159532278593
         },
         {
          "date": "2020-10-22T20:30:10.270270",
          "score": 0.8914661845652021
         },
         {
          "date": "2020-10-27T05:36:17.837838",
          "score": 0.8926111900442399
         },
         {
          "date": "2020-10-31T15:42:25.405406",
          "score": 0.8937509521044678
         },
         {
          "date": "2020-11-05T01:48:32.972973",
          "score": 0.8948854532592715
         },
         {
          "date": "2020-11-09T11:54:40.540540",
          "score": 0.8960146760963096
         },
         {
          "date": "2020-11-13T22:00:48.108108",
          "score": 0.8971386032778796
         },
         {
          "date": "2020-11-18T08:06:55.675676",
          "score": 0.898257217541284
         },
         {
          "date": "2020-11-22T18:13:03.243243",
          "score": 0.8993705016992053
         },
         {
          "date": "2020-11-27T04:19:10.810811",
          "score": 0.9004784386400564
         },
         {
          "date": "2020-12-01T14:25:18.378378",
          "score": 0.90158101132835
         },
         {
          "date": "2020-12-06T00:31:25.945946",
          "score": 0.9026782028050696
         },
         {
          "date": "2020-12-10T10:37:33.513514",
          "score": 0.9037699961880117
         },
         {
          "date": "2020-12-14T20:43:41.081081",
          "score": 0.9048563746721552
         },
         {
          "date": "2020-12-19T06:49:48.648649",
          "score": 0.9059373215300158
         },
         {
          "date": "2020-12-23T16:55:56.216216",
          "score": 0.907012820111998
         },
         {
          "date": "2020-12-28T03:02:03.783784",
          "score": 0.9080828538467588
         },
         {
          "date": "2021-01-01T13:08:11.351351",
          "score": 0.9091474062415408
         },
         {
          "date": "2021-01-05T23:14:18.918919",
          "score": 0.9102064608825443
         },
         {
          "date": "2021-01-10T09:20:26.486486",
          "score": 0.9112600014352555
         },
         {
          "date": "2021-01-14T19:26:34.054054",
          "score": 0.9123080116448054
         },
         {
          "date": "2021-01-19T05:32:41.621622",
          "score": 0.9133504753363118
         },
         {
          "date": "2021-01-23T15:38:49.189189",
          "score": 0.9143873764152192
         },
         {
          "date": "2021-01-28T01:44:56.756757",
          "score": 0.9154186988676523
         },
         {
          "date": "2021-02-01T11:51:04.324324",
          "score": 0.9164444267607397
         },
         {
          "date": "2021-02-05T21:57:11.891892",
          "score": 0.9174645442429596
         },
         {
          "date": "2021-02-10T08:03:19.459460",
          "score": 0.9184790355444852
         },
         {
          "date": "2021-02-14T18:09:27.027027",
          "score": 0.9194878849775031
         },
         {
          "date": "2021-02-19T04:15:34.594594",
          "score": 0.9204910769365573
         },
         {
          "date": "2021-02-23T14:21:42.162162",
          "score": 0.9214885958988785
         },
         {
          "date": "2021-02-28T00:27:49.729730",
          "score": 0.92248042642471
         },
         {
          "date": "2021-03-04T10:33:57.297297",
          "score": 0.9234665531576471
         },
         {
          "date": "2021-03-08T20:40:04.864865",
          "score": 0.9244469608249454
         },
         {
          "date": "2021-03-13T06:46:12.432432",
          "score": 0.9254216342378645
         },
         {
          "date": "2021-03-17T16:52:20",
          "score": 0.9263905582919747
         },
         {
          "date": "2021-03-22T02:58:27.567568",
          "score": 0.9273537179674859
         },
         {
          "date": "2021-03-26T13:04:35.135135",
          "score": 0.9283110983295666
         },
         {
          "date": "2021-03-31T00:10:42.702703",
          "score": 0.9292626845286569
         },
         {
          "date": "2021-04-04T10:16:50.270270",
          "score": 0.9302084618007946
         },
         {
          "date": "2021-04-08T20:22:57.837838",
          "score": 0.9311484154679127
         },
         {
          "date": "2021-04-13T06:29:05.405406",
          "score": 0.9320825309381687
         },
         {
          "date": "2021-04-17T16:35:12.972973",
          "score": 0.9330107937062402
         },
         {
          "date": "2021-04-22T02:41:20.540540",
          "score": 0.9339331893536413
         },
         {
          "date": "2021-04-26T12:47:28.108108",
          "score": 0.9348497035490273
         },
         {
          "date": "2021-04-30T22:53:35.675676",
          "score": 0.9357603220484974
         },
         {
          "date": "2021-05-05T08:59:43.243243",
          "score": 0.9366650306959055
         },
         {
          "date": "2021-05-09T19:05:50.810811",
          "score": 0.9375638154231486
         },
         {
          "date": "2021-05-14T05:11:58.378378",
          "score": 0.9384566622504724
         },
         {
          "date": "2021-05-18T15:18:05.945946",
          "score": 0.9393435572867757
         },
         {
          "date": "2021-05-23T01:24:13.513514",
          "score": 0.9402244867298915
         },
         {
          "date": "2021-05-27T11:30:21.081081",
          "score": 0.9410994368668897
         },
         {
          "date": "2021-05-31T21:36:28.648649",
          "score": 0.9419683940743673
         },
         {
          "date": "2021-06-05T07:42:36.216216",
          "score": 0.9428313448187351
         },
         {
          "date": "2021-06-09T17:48:43.783784",
          "score": 0.9436882756565145
         },
         {
          "date": "2021-06-14T03:54:51.351351",
          "score": 0.9445391732346085
         },
         {
          "date": "2021-06-18T14:00:58.918919",
          "score": 0.9453840242906024
         },
         {
          "date": "2021-06-23T00:07:06.486486",
          "score": 0.9462228156530321
         },
         {
          "date": "2021-06-27T10:13:14.054054",
          "score": 0.947055534241671
         },
         {
          "date": "2021-07-01T20:19:21.621622",
          "score": 0.9478821670678079
         },
         {
          "date": "2021-07-06T06:25:29.189189",
          "score": 0.9487027012345208
         },
         {
          "date": "2021-07-10T16:31:36.756757",
          "score": 0.9495171239369592
         },
         {
          "date": "2021-07-15T02:37:44.324324",
          "score": 0.950325422462604
         },
         {
          "date": "2021-07-19T12:43:51.891892",
          "score": 0.9511275841915448
         },
         {
          "date": "2021-07-23T22:49:59.459460",
          "score": 0.9519235965967545
         },
         {
          "date": "2021-07-28T08:56:07.027027",
          "score": 0.9527134472443435
         },
         {
          "date": "2021-08-01T19:02:14.594594",
          "score": 0.9534971237938321
         },
         {
          "date": "2021-08-06T05:08:22.162162",
          "score": 0.9542746139984116
         },
         {
          "date": "2021-08-10T15:14:29.729730",
          "score": 0.9550459057052035
         },
         {
          "date": "2021-08-15T01:20:37.297297",
          "score": 0.9558109868555247
         },
         {
          "date": "2021-08-19T11:26:44.864865",
          "score": 0.956569845485131
         },
         {
          "date": "2021-08-23T21:32:52.432432",
          "score": 0.9573224697244881
         },
         {
          "date": "2021-08-28T07:39:00",
          "score": 0.9580688477990101
         },
         {
          "date": "2021-09-01T17:45:07.567568",
          "score": 0.9588089680293179
         },
         {
          "date": "2021-09-06T03:51:15.135135",
          "score": 0.9595428188314854
         },
         {
          "date": "2021-09-10T13:57:22.702703",
          "score": 0.9602703887172857
         },
         {
          "date": "2021-09-15T00:03:30.270270",
          "score": 0.960991666294442
         },
         {
          "date": "2021-09-19T10:09:37.837838",
          "score": 0.9617066402668573
         },
         {
          "date": "2021-09-23T20:15:45.405406",
          "score": 0.9624152994348698
         },
         {
          "date": "2021-09-28T06:21:52.972973",
          "score": 0.9631176326954791
         },
         {
          "date": "2021-10-02T16:28:00.540541",
          "score": 0.963813629042589
         },
         {
          "date": "2021-10-07T02:34:08.108108",
          "score": 0.9645032775672409
         },
         {
          "date": "2021-10-11T12:40:15.675676",
          "score": 0.965186567457844
         },
         {
          "date": "2021-10-15T22:46:23.243243",
          "score": 0.9658634880004121
         },
         {
          "date": "2021-10-20T08:52:30.810811",
          "score": 0.966534028578782
         },
         {
          "date": "2021-10-24T18:58:38.378378",
          "score": 0.9671981786748454
         },
         {
          "date": "2021-10-29T05:04:45.945946",
          "score": 0.967855927868776
         },
         {
          "date": "2021-11-02T14:10:53.513514",
          "score": 0.968507265839244
         },
         {
          "date": "2021-11-07T00:17:01.081081",
          "score": 0.9691521823636399
         },
         {
          "date": "2021-11-11T10:23:08.648649",
          "score": 0.969790667318293
         },
         {
          "date": "2021-11-15T20:29:16.216216",
          "score": 0.970422710678684
         },
         {
          "date": "2021-11-20T06:35:23.783784",
          "score": 0.9710483025196655
         },
         {
          "date": "2021-11-24T16:41:31.351351",
          "score": 0.9716674330156619
         },
         {
          "date": "2021-11-29T02:47:38.918919",
          "score": 0.9722800924408926
         },
         {
          "date": "2021-12-03T12:53:46.486486",
          "score": 0.9728862711695666
         },
         {
          "date": "2021-12-07T22:59:54.054054",
          "score": 0.9734859596760942
         },
         {
          "date": "2021-12-12T09:06:01.621622",
          "score": 0.97407914853529
         },
         {
          "date": "2021-12-16T19:12:09.189189",
          "score": 0.9746658284225702
         },
         {
          "date": "2021-12-21T05:18:16.756757",
          "score": 0.9752459901141582
         },
         {
          "date": "2021-12-25T15:24:24.324324",
          "score": 0.9758196244872724
         },
         {
          "date": "2021-12-30T01:30:31.891892",
          "score": 0.9763867225203249
         },
         {
          "date": "2022-01-03T11:36:39.459460",
          "score": 0.9769472752931178
         },
         {
          "date": "2022-01-07T21:42:47.027027",
          "score": 0.9775012739870247
         },
         {
          "date": "2022-01-12T07:48:54.594594",
          "score": 0.9780487098851851
         },
         {
          "date": "2022-01-16T17:55:02.162162",
          "score": 0.9785895743726881
         },
         {
          "date": "2022-01-21T04:01:09.729730",
          "score": 0.9791238589367547
         },
         {
          "date": "2022-01-25T14:07:17.297297",
          "score": 0.9796515551669245
         },
         {
          "date": "2022-01-30T00:13:24.864865",
          "score": 0.9801726547552265
         },
         {
          "date": "2022-02-03T10:19:32.432432",
          "score": 0.9806871494963652
         },
         {
          "date": "2022-02-07T20:25:40",
          "score": 0.9811950312878883
         },
         {
          "date": "2022-02-12T06:31:47.567568",
          "score": 0.981696292130363
         },
         {
          "date": "2022-02-16T16:37:55.135135",
          "score": 0.9821909241275463
         },
         {
          "date": "2022-02-21T02:44:02.702703",
          "score": 0.9826789194865507
         },
         {
          "date": "2022-02-25T12:50:10.270270",
          "score": 0.9831602705180176
         },
         {
          "date": "2022-03-01T22:56:17.837838",
          "score": 0.9836349696362698
         },
         {
          "date": "2022-03-06T09:02:25.405406",
          "score": 0.9841030093594859
         },
         {
          "date": "2022-03-10T19:08:32.972973",
          "score": 0.9845643823098489
         },
         {
          "date": "2022-03-15T05:14:40.540541",
          "score": 0.9850190812137094
         },
         {
          "date": "2022-03-19T15:20:48.108108",
          "score": 0.9854670989017399
         },
         {
          "date": "2022-03-24T01:26:55.675676",
          "score": 0.9859084283090855
         },
         {
          "date": "2022-03-28T12:33:03.243243",
          "score": 0.9863430624755201
         },
         {
          "date": "2022-04-01T22:39:10.810811",
          "score": 0.9867709945455869
         },
         {
          "date": "2022-04-06T08:45:18.378378",
          "score": 0.9871922177687497
         },
         {
          "date": "2022-04-10T18:51:25.945946",
          "score": 0.9876067254995377
         },
         {
          "date": "2022-04-15T04:57:33.513514",
          "score": 0.988014511197683
         },
         {
          "date": "2022-04-19T15:03:41.081081",
          "score": 0.9884155684282636
         },
         {
          "date": "2022-04-24T01:09:48.648649",
          "score": 0.9888098908618385
         },
         {
          "date": "2022-04-28T11:15:56.216216",
          "score": 0.9891974722745833
         },
         {
          "date": "2022-05-02T21:22:03.783784",
          "score": 0.9895783065484258
         },
         {
          "date": "2022-05-07T07:28:11.351351",
          "score": 0.9899523876711706
         },
         {
          "date": "2022-05-11T17:34:18.918919",
          "score": 0.9903197097366332
         },
         {
          "date": "2022-05-16T03:40:26.486486",
          "score": 0.9906802669447622
         },
         {
          "date": "2022-05-20T13:46:34.054054",
          "score": 0.9910340536017639
         },
         {
          "date": "2022-05-24T23:52:41.621622",
          "score": 0.9913810641202248
         },
         {
          "date": "2022-05-29T09:58:49.189189",
          "score": 0.9917212930192286
         },
         {
          "date": "2022-06-02T20:04:56.756757",
          "score": 0.9920547349244775
         },
         {
          "date": "2022-06-07T06:11:04.324324",
          "score": 0.9923813845684011
         },
         {
          "date": "2022-06-11T16:17:11.891892",
          "score": 0.9927012367902718
         },
         {
          "date": "2022-06-16T02:23:19.459460",
          "score": 0.993014286536317
         },
         {
          "date": "2022-06-20T12:29:27.027027",
          "score": 0.9933205288598215
         },
         {
          "date": "2022-06-24T22:35:34.594594",
          "score": 0.993619958921238
         },
         {
          "date": "2022-06-29T08:41:42.162162",
          "score": 0.9939125719882875
         },
         {
          "date": "2022-07-03T18:47:49.729730",
          "score": 0.9941983634360607
         },
         {
          "date": "2022-07-08T04:53:57.297297",
          "score": 0.9944773287471194
         },
         {
          "date": "2022-07-12T15:00:04.864865",
          "score": 0.9947494635115874
         },
         {
          "date": "2022-07-17T01:06:12.432432",
          "score": 0.9950147634272508
         },
         {
          "date": "2022-07-21T11:12:20",
          "score": 0.9952732242996446
         },
         {
          "date": "2022-07-25T21:18:27.567568",
          "score": 0.9955248420421449
         },
         {
          "date": "2022-07-30T07:24:35.135135",
          "score": 0.995769612676056
         },
         {
          "date": "2022-08-03T17:30:42.702703",
          "score": 0.9960075323306932
         },
         {
          "date": "2022-08-08T03:36:50.270270",
          "score": 0.99623859724347
         },
         {
          "date": "2022-08-12T13:42:57.837838",
          "score": 0.9964628037599722
         },
         {
          "date": "2022-08-16T23:49:05.405406",
          "score": 0.9966801483340412
         },
         {
          "date": "2022-08-21T09:55:12.972973",
          "score": 0.9968906275278464
         },
         {
          "date": "2022-08-25T20:01:20.540541",
          "score": 0.9970942380119601
         },
         {
          "date": "2022-08-30T06:07:28.108108",
          "score": 0.9972909765654274
         },
         {
          "date": "2022-09-03T16:13:35.675676",
          "score": 0.9974808400758359
         },
         {
          "date": "2022-09-08T02:19:43.243243",
          "score": 0.9976638255393828
         },
         {
          "date": "2022-09-12T12:25:50.810811",
          "score": 0.9978399300609367
         },
         {
          "date": "2022-09-16T22:31:58.378378",
          "score": 0.998009150854101
         },
         {
          "date": "2022-09-21T08:38:05.945946",
          "score": 0.9981714852412735
         },
         {
          "date": "2022-09-25T18:44:13.513514",
          "score": 0.9983269306537028
         },
         {
          "date": "2022-09-30T04:50:21.081081",
          "score": 0.9984754846315432
         },
         {
          "date": "2022-10-04T14:56:28.648649",
          "score": 0.9986171448239073
         },
         {
          "date": "2022-10-09T01:02:36.216216",
          "score": 0.9987519089889161
         },
         {
          "date": "2022-10-13T11:08:43.783784",
          "score": 0.9988797749937481
         },
         {
          "date": "2022-10-17T21:14:51.351351",
          "score": 0.9990007408146824
         },
         {
          "date": "2022-10-22T07:20:58.918919",
          "score": 0.9991148045371439
         },
         {
          "date": "2022-10-26T17:27:06.486486",
          "score": 0.9992219643557427
         },
         {
          "date": "2022-10-31T02:33:14.054054",
          "score": 0.9993222185743142
         },
         {
          "date": "2022-11-04T12:39:21.621622",
          "score": 0.9994155656059538
         },
         {
          "date": "2022-11-08T22:45:29.189189",
          "score": 0.9995020039730516
         },
         {
          "date": "2022-11-13T08:51:36.756757",
          "score": 0.9995815323073235
         },
         {
          "date": "2022-11-17T18:57:44.324324",
          "score": 0.9996541493498414
         },
         {
          "date": "2022-11-22T05:03:51.891892",
          "score": 0.9997198539510583
         },
         {
          "date": "2022-11-26T15:09:59.459460",
          "score": 0.9997786450708347
         },
         {
          "date": "2022-12-01T01:16:07.027027",
          "score": 0.9998305217784594
         },
         {
          "date": "2022-12-05T11:22:14.594594",
          "score": 0.9998754832526697
         },
         {
          "date": "2022-12-09T21:28:22.162162",
          "score": 0.9999135287816698
         },
         {
          "date": "2022-12-14T07:34:29.729730",
          "score": 0.9999446577631446
         },
         {
          "date": "2022-12-18T17:40:37.297297",
          "score": 0.9999688697042738
         },
         {
          "date": "2022-12-23T03:46:44.864865",
          "score": 0.9999861642217415
         },
         {
          "date": "2022-12-27T13:52:52.432432",
          "score": 0.9999965410417448
         },
         {
          "date": "2022-12-31T23:59:00",
          "score": 0.9999999999999998
         }
        ]
       },
       "encoding": {
        "tooltip": [
         {
          "field": "date",
          "type": "temporal"
         }
        ],
        "x": {
         "field": "date",
         "title": "Date",
         "type": "temporal"
        },
        "y": {
         "field": "score",
         "title": "Recency score",
         "type": "quantitative"
        }
       },
       "height": 380,
       "mark": {
        "color": "black",
        "filled": true,
        "size": 10,
        "type": "point"
       },
       "title": "Recency scores (unit weight)",
       "width": 500
      },
      "image/png": "[encoded data removed]",
      "text/plain": [
       "<VegaLite 5 object>\n",
       "\n",
       "If you see this message, it means the renderer has not been properly enabled\n",
       "for the frontend that you are using. For more information, see\n",
       "https://altair-viz.github.io/user_guide/display_frontends.html#troubleshooting\n"
      ]
     },
     "execution_count": 16,
     "metadata": {},
     "output_type": "execute_result"
    }
   ],
   "source": [
    "recency_plotter = RecencyPlotter(recency_space, context_data=EXECUTOR_DATA)\n",
    "recency_plotter.plot_recency_curve()"
   ]
  },
  {
   "cell_type": "markdown",
   "id": "e5213ec8-93aa-4e30-91e5-108afe8bac4d",
   "metadata": {},
   "source": [
    "## Queries"
   ]
  },
  {
   "cell_type": "code",
   "execution_count": 17,
   "id": "8531be9a-ad7c-422c-8c74-7e0825ab7733",
   "metadata": {},
   "outputs": [],
   "source": [
    "# quick helper to present the results in a notebook\n",
    "def present_result(\n",
    "    result: Result,\n",
    "    cols_to_keep: list[str] = [\"description\", \"headline\", \"release_date\", \"id\"],\n",
    ") -> pd.DataFrame:\n",
    "    # parse result to dataframe\n",
    "    df: pd.DataFrame = pd.DataFrame([entry.stored_object for entry in result.entries])\n",
    "    # transform timestamp back to release year. Ts is in milliseconds originally hence the division\n",
    "    df[\"release_date\"] = [\n",
    "        datetime.fromtimestamp(timestamp, tz=timezone.utc).date()\n",
    "        for timestamp in df[\"release_timestamp\"]\n",
    "    ]\n",
    "    return df[cols_to_keep]"
   ]
  },
  {
   "cell_type": "markdown",
   "id": "fdd3e696-0613-425e-a750-70f70f679824",
   "metadata": {},
   "source": [
    "Let's search for one of the biggest acquisitions of the last decade! We are going to set recency's weight to 0 as it does not matter at this point."
   ]
  },
  {
   "cell_type": "code",
   "execution_count": 18,
   "id": "5528c3af-67de-4e31-9cfd-c8a8c080cd29",
   "metadata": {
    "scrolled": true
   },
   "outputs": [
    {
     "data": {
      "text/html": [
       "<div>\n",
       "<style scoped>\n",
       "    .dataframe tbody tr th:only-of-type {\n",
       "        vertical-align: middle;\n",
       "    }\n",
       "\n",
       "    .dataframe tbody tr th {\n",
       "        vertical-align: top;\n",
       "    }\n",
       "\n",
       "    .dataframe thead th {\n",
       "        text-align: right;\n",
       "    }\n",
       "</style>\n",
       "<table border=\"1\" class=\"dataframe\">\n",
       "  <thead>\n",
       "    <tr style=\"text-align: right;\">\n",
       "      <th></th>\n",
       "      <th>description</th>\n",
       "      <th>headline</th>\n",
       "      <th>release_date</th>\n",
       "      <th>id</th>\n",
       "    </tr>\n",
       "  </thead>\n",
       "  <tbody>\n",
       "    <tr>\n",
       "      <th>0</th>\n",
       "      <td>(Reuters) - Microsoft Corp  agreed to buy LinkedIn Corp  for $26.2 billion in cash, the companies said in</td>\n",
       "      <td>Microsoft Agrees To Acquire LinkedIn For $26.2 Billion</td>\n",
       "      <td>2016-06-13</td>\n",
       "      <td>64890</td>\n",
       "    </tr>\n",
       "    <tr>\n",
       "      <th>1</th>\n",
       "      <td>Without question, LinkedIn has forever altered the business landscape -- both digitally and in the physical world. Nowadays, so much of what we call business or career development is carried out r...</td>\n",
       "      <td>The LinkedIn of Things</td>\n",
       "      <td>2015-01-06</td>\n",
       "      <td>110756</td>\n",
       "    </tr>\n",
       "    <tr>\n",
       "      <th>2</th>\n",
       "      <td>LinkedIn works very well for the millions of people who make the effort to understand how to leverage it effectively. And those people are very likely not spending more than fifteen a minutes a da...</td>\n",
       "      <td>The 7 LinkedIn Job Search Mistakes That Might Be Costing You a Job</td>\n",
       "      <td>2014-06-26</td>\n",
       "      <td>127772</td>\n",
       "    </tr>\n",
       "    <tr>\n",
       "      <th>3</th>\n",
       "      <td>Although under-used by average LinkedIn members, LinkedIn Groups can be critical to a successful job search because they enable you to communicate directly with recruiters. And vice versa.</td>\n",
       "      <td>Get LinkedIn to Recruiters for Your Job Search</td>\n",
       "      <td>2014-07-07</td>\n",
       "      <td>126794</td>\n",
       "    </tr>\n",
       "    <tr>\n",
       "      <th>4</th>\n",
       "      <td>NEW YORK (AP) — Anthem is buying rival Cigna for $48 billion in a deal that would create the nation's largest health insurer</td>\n",
       "      <td>MEGA-MERGER: Anthem To Buy Cigna For $54 Billion</td>\n",
       "      <td>2015-07-24</td>\n",
       "      <td>93451</td>\n",
       "    </tr>\n",
       "    <tr>\n",
       "      <th>5</th>\n",
       "      <td>The struggling social network is looking for a buyer.</td>\n",
       "      <td>Twitter Is Reportedly In Sales Talks With Google And Salesforce</td>\n",
       "      <td>2016-09-23</td>\n",
       "      <td>55880</td>\n",
       "    </tr>\n",
       "    <tr>\n",
       "      <th>6</th>\n",
       "      <td>The company's value has soared in the last five years and it has more users than Twitter.</td>\n",
       "      <td>Snapchat Is Reportedly Planning A $25 Billion IPO</td>\n",
       "      <td>2016-10-06</td>\n",
       "      <td>54727</td>\n",
       "    </tr>\n",
       "    <tr>\n",
       "      <th>7</th>\n",
       "      <td>If failed corporate mergers teach us anything about business, it's that bigger is not always better. Yep, with a 70 to 90</td>\n",
       "      <td>9 Mergers That Epically Failed</td>\n",
       "      <td>2013-02-23</td>\n",
       "      <td>173078</td>\n",
       "    </tr>\n",
       "    <tr>\n",
       "      <th>8</th>\n",
       "      <td>“With the Snap investment, we have invested over $1.5 billion in promising digital businesses in the last eighteen months.”</td>\n",
       "      <td>NBCUniversal Invested $500 Million In Snap Inc As Part Of IPO</td>\n",
       "      <td>2017-03-03</td>\n",
       "      <td>41556</td>\n",
       "    </tr>\n",
       "    <tr>\n",
       "      <th>9</th>\n",
       "      <td>Another day, another merger. Telephone companies, drug companies, drugstores, airlines, hospitals, retail stores and beer. Why?</td>\n",
       "      <td>The Great Remix: Why Mergers Are Booming</td>\n",
       "      <td>2015-11-01</td>\n",
       "      <td>84610</td>\n",
       "    </tr>\n",
       "  </tbody>\n",
       "</table>\n",
       "</div>"
      ],
      "text/plain": [
       "                                                                                                                                                                                               description  \\\n",
       "0                                                                                                (Reuters) - Microsoft Corp  agreed to buy LinkedIn Corp  for $26.2 billion in cash, the companies said in   \n",
       "1  Without question, LinkedIn has forever altered the business landscape -- both digitally and in the physical world. Nowadays, so much of what we call business or career development is carried out r...   \n",
       "2  LinkedIn works very well for the millions of people who make the effort to understand how to leverage it effectively. And those people are very likely not spending more than fifteen a minutes a da...   \n",
       "3             Although under-used by average LinkedIn members, LinkedIn Groups can be critical to a successful job search because they enable you to communicate directly with recruiters. And vice versa.   \n",
       "4                                                                             NEW YORK (AP) — Anthem is buying rival Cigna for $48 billion in a deal that would create the nation's largest health insurer   \n",
       "5                                                                                                                                                    The struggling social network is looking for a buyer.   \n",
       "6                                                                                                                The company's value has soared in the last five years and it has more users than Twitter.   \n",
       "7                                                                                If failed corporate mergers teach us anything about business, it's that bigger is not always better. Yep, with a 70 to 90   \n",
       "8                                                                              “With the Snap investment, we have invested over $1.5 billion in promising digital businesses in the last eighteen months.”   \n",
       "9                                                                          Another day, another merger. Telephone companies, drug companies, drugstores, airlines, hospitals, retail stores and beer. Why?   \n",
       "\n",
       "                                                             headline  \\\n",
       "0              Microsoft Agrees To Acquire LinkedIn For $26.2 Billion   \n",
       "1                                              The LinkedIn of Things   \n",
       "2  The 7 LinkedIn Job Search Mistakes That Might Be Costing You a Job   \n",
       "3                      Get LinkedIn to Recruiters for Your Job Search   \n",
       "4                    MEGA-MERGER: Anthem To Buy Cigna For $54 Billion   \n",
       "5     Twitter Is Reportedly In Sales Talks With Google And Salesforce   \n",
       "6                   Snapchat Is Reportedly Planning A $25 Billion IPO   \n",
       "7                                      9 Mergers That Epically Failed   \n",
       "8       NBCUniversal Invested $500 Million In Snap Inc As Part Of IPO   \n",
       "9                            The Great Remix: Why Mergers Are Booming   \n",
       "\n",
       "  release_date      id  \n",
       "0   2016-06-13   64890  \n",
       "1   2015-01-06  110756  \n",
       "2   2014-06-26  127772  \n",
       "3   2014-07-07  126794  \n",
       "4   2015-07-24   93451  \n",
       "5   2016-09-23   55880  \n",
       "6   2016-10-06   54727  \n",
       "7   2013-02-23  173078  \n",
       "8   2017-03-03   41556  \n",
       "9   2015-11-01   84610  "
      ]
     },
     "execution_count": 18,
     "metadata": {},
     "output_type": "execute_result"
    }
   ],
   "source": [
    "result = app.query(\n",
    "    simple_query,\n",
    "    query_text=\"Microsoft acquires LinkedIn\",\n",
    "    description_weight=1,\n",
    "    headline_weight=1,\n",
    "    recency_weight=0,\n",
    ")\n",
    "\n",
    "present_result(result)"
   ]
  },
  {
   "cell_type": "markdown",
   "id": "6d74b0af-42df-4166-aa6f-c57676b4b19c",
   "metadata": {},
   "source": [
    "The first result is about the deal, others are related to some aspect of the query. Let's try upweighting recency to see a recent big acquisition jump to the second place."
   ]
  },
  {
   "cell_type": "code",
   "execution_count": 19,
   "id": "3d45edfa-d92f-4196-93e7-a2e91743ffba",
   "metadata": {},
   "outputs": [
    {
     "data": {
      "text/html": [
       "<div>\n",
       "<style scoped>\n",
       "    .dataframe tbody tr th:only-of-type {\n",
       "        vertical-align: middle;\n",
       "    }\n",
       "\n",
       "    .dataframe tbody tr th {\n",
       "        vertical-align: top;\n",
       "    }\n",
       "\n",
       "    .dataframe thead th {\n",
       "        text-align: right;\n",
       "    }\n",
       "</style>\n",
       "<table border=\"1\" class=\"dataframe\">\n",
       "  <thead>\n",
       "    <tr style=\"text-align: right;\">\n",
       "      <th></th>\n",
       "      <th>description</th>\n",
       "      <th>headline</th>\n",
       "      <th>release_date</th>\n",
       "      <th>id</th>\n",
       "    </tr>\n",
       "  </thead>\n",
       "  <tbody>\n",
       "    <tr>\n",
       "      <th>0</th>\n",
       "      <td>(Reuters) - Microsoft Corp  agreed to buy LinkedIn Corp  for $26.2 billion in cash, the companies said in</td>\n",
       "      <td>Microsoft Agrees To Acquire LinkedIn For $26.2 Billion</td>\n",
       "      <td>2016-06-13</td>\n",
       "      <td>64890</td>\n",
       "    </tr>\n",
       "    <tr>\n",
       "      <th>1</th>\n",
       "      <td>“My offer is my best and final offer and if it is not accepted, I would need to reconsider my position as a shareholder,” Musk said in a filing.</td>\n",
       "      <td>Elon Musk Offers To Buy 100% Of Twitter</td>\n",
       "      <td>2022-04-14</td>\n",
       "      <td>849</td>\n",
       "    </tr>\n",
       "    <tr>\n",
       "      <th>2</th>\n",
       "      <td>Starbucks' move follows McDonald's exit from the Russian market last week.</td>\n",
       "      <td>Starbucks Leaving Russian Market, Shutting 130 Stores</td>\n",
       "      <td>2022-05-23</td>\n",
       "      <td>632</td>\n",
       "    </tr>\n",
       "    <tr>\n",
       "      <th>3</th>\n",
       "      <td>Delaware Chancery Judge Kathaleen McCormick dealt the world's richest person a setback in ordering a speedy trial on his abandoned deal to buy Twitter.</td>\n",
       "      <td>Twitter Lawyer Calls Elon Musk 'Committed Enemy' As Judge Sets October Trial</td>\n",
       "      <td>2022-07-20</td>\n",
       "      <td>353</td>\n",
       "    </tr>\n",
       "    <tr>\n",
       "      <th>4</th>\n",
       "      <td>Without question, LinkedIn has forever altered the business landscape -- both digitally and in the physical world. Nowadays, so much of what we call business or career development is carried out r...</td>\n",
       "      <td>The LinkedIn of Things</td>\n",
       "      <td>2015-01-06</td>\n",
       "      <td>110756</td>\n",
       "    </tr>\n",
       "    <tr>\n",
       "      <th>5</th>\n",
       "      <td>The decision comes as surging oil prices have been rattling global markets and after Ukraine’s foreign minister criticized Shell for continuing to buy Russian oil.</td>\n",
       "      <td>Shell Says It Will Stop Buying Russian Oil, Natural Gas</td>\n",
       "      <td>2022-03-08</td>\n",
       "      <td>1054</td>\n",
       "    </tr>\n",
       "    <tr>\n",
       "      <th>6</th>\n",
       "      <td>That makes seven Starbucks stores that have voted to unionize in a matter of months.</td>\n",
       "      <td>Starbucks Workers In Seattle Vote To Form Union</td>\n",
       "      <td>2022-03-23</td>\n",
       "      <td>967</td>\n",
       "    </tr>\n",
       "    <tr>\n",
       "      <th>7</th>\n",
       "      <td>Recent statements by CEO Howard Schultz offer a glimpse of some of the hardball tactics that might lay ahead.</td>\n",
       "      <td>For The Starbucks Union Campaign, A Bruising Contract Fight Is Just Beginning</td>\n",
       "      <td>2022-04-16</td>\n",
       "      <td>837</td>\n",
       "    </tr>\n",
       "    <tr>\n",
       "      <th>8</th>\n",
       "      <td>The store in Arizona joins two in New York as the only corporate Starbucks stores with a union.</td>\n",
       "      <td>Another Starbucks Store Votes To Unionize</td>\n",
       "      <td>2022-02-25</td>\n",
       "      <td>1117</td>\n",
       "    </tr>\n",
       "    <tr>\n",
       "      <th>9</th>\n",
       "      <td>Asian and European stock markets plunged and oil prices surged to nearly $100 a barrel Thursday after Russia attacked Ukraine.</td>\n",
       "      <td>Russian Military Action In Ukraine Causes Oil Prices To Soar</td>\n",
       "      <td>2022-02-24</td>\n",
       "      <td>1121</td>\n",
       "    </tr>\n",
       "  </tbody>\n",
       "</table>\n",
       "</div>"
      ],
      "text/plain": [
       "                                                                                                                                                                                               description  \\\n",
       "0                                                                                                (Reuters) - Microsoft Corp  agreed to buy LinkedIn Corp  for $26.2 billion in cash, the companies said in   \n",
       "1                                                         “My offer is my best and final offer and if it is not accepted, I would need to reconsider my position as a shareholder,” Musk said in a filing.   \n",
       "2                                                                                                                               Starbucks' move follows McDonald's exit from the Russian market last week.   \n",
       "3                                                  Delaware Chancery Judge Kathaleen McCormick dealt the world's richest person a setback in ordering a speedy trial on his abandoned deal to buy Twitter.   \n",
       "4  Without question, LinkedIn has forever altered the business landscape -- both digitally and in the physical world. Nowadays, so much of what we call business or career development is carried out r...   \n",
       "5                                      The decision comes as surging oil prices have been rattling global markets and after Ukraine’s foreign minister criticized Shell for continuing to buy Russian oil.   \n",
       "6                                                                                                                     That makes seven Starbucks stores that have voted to unionize in a matter of months.   \n",
       "7                                                                                            Recent statements by CEO Howard Schultz offer a glimpse of some of the hardball tactics that might lay ahead.   \n",
       "8                                                                                                          The store in Arizona joins two in New York as the only corporate Starbucks stores with a union.   \n",
       "9                                                                           Asian and European stock markets plunged and oil prices surged to nearly $100 a barrel Thursday after Russia attacked Ukraine.   \n",
       "\n",
       "                                                                        headline  \\\n",
       "0                         Microsoft Agrees To Acquire LinkedIn For $26.2 Billion   \n",
       "1                                        Elon Musk Offers To Buy 100% Of Twitter   \n",
       "2                          Starbucks Leaving Russian Market, Shutting 130 Stores   \n",
       "3   Twitter Lawyer Calls Elon Musk 'Committed Enemy' As Judge Sets October Trial   \n",
       "4                                                         The LinkedIn of Things   \n",
       "5                        Shell Says It Will Stop Buying Russian Oil, Natural Gas   \n",
       "6                                Starbucks Workers In Seattle Vote To Form Union   \n",
       "7  For The Starbucks Union Campaign, A Bruising Contract Fight Is Just Beginning   \n",
       "8                                      Another Starbucks Store Votes To Unionize   \n",
       "9                   Russian Military Action In Ukraine Causes Oil Prices To Soar   \n",
       "\n",
       "  release_date      id  \n",
       "0   2016-06-13   64890  \n",
       "1   2022-04-14     849  \n",
       "2   2022-05-23     632  \n",
       "3   2022-07-20     353  \n",
       "4   2015-01-06  110756  \n",
       "5   2022-03-08    1054  \n",
       "6   2022-03-23     967  \n",
       "7   2022-04-16     837  \n",
       "8   2022-02-25    1117  \n",
       "9   2022-02-24    1121  "
      ]
     },
     "execution_count": 19,
     "metadata": {},
     "output_type": "execute_result"
    }
   ],
   "source": [
    "result = app.query(\n",
    "    simple_query,\n",
    "    query_text=\"Microsoft acquires LinkedIn\",\n",
    "    description_weight=1,\n",
    "    headline_weight=1,\n",
    "    recency_weight=1,\n",
    ")\n",
    "\n",
    "present_result(result)"
   ]
  },
  {
   "cell_type": "markdown",
   "id": "cc510836-74f6-438d-9db2-e5bde54fe8c9",
   "metadata": {},
   "source": [
    "Subsequently we can also search with the news article about Elon Musk offering to buy Twitter. As the dataset is quite biased towards old articles, what we get back is news about either Elon Musk or Twitter."
   ]
  },
  {
   "cell_type": "code",
   "execution_count": 20,
   "id": "8d8db7ab-909e-49be-a7ab-81a0159c92ff",
   "metadata": {
    "scrolled": true
   },
   "outputs": [
    {
     "data": {
      "text/html": [
       "<div>\n",
       "<style scoped>\n",
       "    .dataframe tbody tr th:only-of-type {\n",
       "        vertical-align: middle;\n",
       "    }\n",
       "\n",
       "    .dataframe tbody tr th {\n",
       "        vertical-align: top;\n",
       "    }\n",
       "\n",
       "    .dataframe thead th {\n",
       "        text-align: right;\n",
       "    }\n",
       "</style>\n",
       "<table border=\"1\" class=\"dataframe\">\n",
       "  <thead>\n",
       "    <tr style=\"text-align: right;\">\n",
       "      <th></th>\n",
       "      <th>description</th>\n",
       "      <th>headline</th>\n",
       "      <th>release_date</th>\n",
       "      <th>id</th>\n",
       "    </tr>\n",
       "  </thead>\n",
       "  <tbody>\n",
       "    <tr>\n",
       "      <th>0</th>\n",
       "      <td>“My offer is my best and final offer and if it is not accepted, I would need to reconsider my position as a shareholder,” Musk said in a filing.</td>\n",
       "      <td>Elon Musk Offers To Buy 100% Of Twitter</td>\n",
       "      <td>2022-04-14</td>\n",
       "      <td>849</td>\n",
       "    </tr>\n",
       "    <tr>\n",
       "      <th>1</th>\n",
       "      <td>The U.S. Securities and Exchange Commission filed a motion asking for the Tesla CEO to show why he shouldn't be held in contempt.</td>\n",
       "      <td>SEC Says Elon Musk Violated Fraud Settlement With Tweet</td>\n",
       "      <td>2019-02-26</td>\n",
       "      <td>7191</td>\n",
       "    </tr>\n",
       "    <tr>\n",
       "      <th>2</th>\n",
       "      <td>Don't bet against Musk.</td>\n",
       "      <td>Why Elon Musk’s Plan To Merge Tesla With SolarCity Will Probably Work</td>\n",
       "      <td>2016-08-16</td>\n",
       "      <td>59220</td>\n",
       "    </tr>\n",
       "    <tr>\n",
       "      <th>3</th>\n",
       "      <td>Elon Musk's empire is consolidating.</td>\n",
       "      <td>Tesla Is Buying Sister Company SolarCity For $2.6 Billion</td>\n",
       "      <td>2016-08-01</td>\n",
       "      <td>60483</td>\n",
       "    </tr>\n",
       "    <tr>\n",
       "      <th>4</th>\n",
       "      <td>The billionaire wants to marry Tesla and SolarCity. But he says SpaceX should remain a bachelor.</td>\n",
       "      <td>The One Company Elon Musk Wants To Keep Independent</td>\n",
       "      <td>2016-08-04</td>\n",
       "      <td>60237</td>\n",
       "    </tr>\n",
       "    <tr>\n",
       "      <th>5</th>\n",
       "      <td>The interim CEO purchased 31,000 shares Monday.</td>\n",
       "      <td>Jack Dorsey Bought A Bunch Of Twitter Shares, And It's Working Out Great</td>\n",
       "      <td>2015-08-10</td>\n",
       "      <td>91958</td>\n",
       "    </tr>\n",
       "    <tr>\n",
       "      <th>6</th>\n",
       "      <td>Tesla's CEO says hiring self-driving engineers is \"a super high priority.\"</td>\n",
       "      <td>Elon Musk Just Dropped Another Hint That Tesla May Take On Uber</td>\n",
       "      <td>2015-11-20</td>\n",
       "      <td>82841</td>\n",
       "    </tr>\n",
       "    <tr>\n",
       "      <th>7</th>\n",
       "      <td>Time Warner rejected an $80 billion offer from a different company in 2014.</td>\n",
       "      <td>AT&amp;T Agrees To Buy Time Warner, In Principle</td>\n",
       "      <td>2016-10-21</td>\n",
       "      <td>53309</td>\n",
       "    </tr>\n",
       "    <tr>\n",
       "      <th>8</th>\n",
       "      <td>It's an Elon Musk world, and we're just living in it. Before we bow down to a seemingly fearless and altruistic pioneer of electric vehicles and libertarianism, it's important to point out the ong...</td>\n",
       "      <td>Elon Musk Is Even Smarter Than We Thought</td>\n",
       "      <td>2014-06-14</td>\n",
       "      <td>128870</td>\n",
       "    </tr>\n",
       "    <tr>\n",
       "      <th>9</th>\n",
       "      <td>This could all be part of the secret sauce known as the \"Musk Doctrine.\"</td>\n",
       "      <td>Wall Street Doesn’t Believe Elon Musk Can Produce 500,000 Cars By 2018</td>\n",
       "      <td>2016-05-09</td>\n",
       "      <td>67933</td>\n",
       "    </tr>\n",
       "  </tbody>\n",
       "</table>\n",
       "</div>"
      ],
      "text/plain": [
       "                                                                                                                                                                                               description  \\\n",
       "0                                                         “My offer is my best and final offer and if it is not accepted, I would need to reconsider my position as a shareholder,” Musk said in a filing.   \n",
       "1                                                                        The U.S. Securities and Exchange Commission filed a motion asking for the Tesla CEO to show why he shouldn't be held in contempt.   \n",
       "2                                                                                                                                                                                  Don't bet against Musk.   \n",
       "3                                                                                                                                                                     Elon Musk's empire is consolidating.   \n",
       "4                                                                                                         The billionaire wants to marry Tesla and SolarCity. But he says SpaceX should remain a bachelor.   \n",
       "5                                                                                                                                                          The interim CEO purchased 31,000 shares Monday.   \n",
       "6                                                                                                                               Tesla's CEO says hiring self-driving engineers is \"a super high priority.\"   \n",
       "7                                                                                                                              Time Warner rejected an $80 billion offer from a different company in 2014.   \n",
       "8  It's an Elon Musk world, and we're just living in it. Before we bow down to a seemingly fearless and altruistic pioneer of electric vehicles and libertarianism, it's important to point out the ong...   \n",
       "9                                                                                                                                 This could all be part of the secret sauce known as the \"Musk Doctrine.\"   \n",
       "\n",
       "                                                                   headline  \\\n",
       "0                                   Elon Musk Offers To Buy 100% Of Twitter   \n",
       "1                   SEC Says Elon Musk Violated Fraud Settlement With Tweet   \n",
       "2     Why Elon Musk’s Plan To Merge Tesla With SolarCity Will Probably Work   \n",
       "3                 Tesla Is Buying Sister Company SolarCity For $2.6 Billion   \n",
       "4                       The One Company Elon Musk Wants To Keep Independent   \n",
       "5  Jack Dorsey Bought A Bunch Of Twitter Shares, And It's Working Out Great   \n",
       "6           Elon Musk Just Dropped Another Hint That Tesla May Take On Uber   \n",
       "7                              AT&T Agrees To Buy Time Warner, In Principle   \n",
       "8                                 Elon Musk Is Even Smarter Than We Thought   \n",
       "9    Wall Street Doesn’t Believe Elon Musk Can Produce 500,000 Cars By 2018   \n",
       "\n",
       "  release_date      id  \n",
       "0   2022-04-14     849  \n",
       "1   2019-02-26    7191  \n",
       "2   2016-08-16   59220  \n",
       "3   2016-08-01   60483  \n",
       "4   2016-08-04   60237  \n",
       "5   2015-08-10   91958  \n",
       "6   2015-11-20   82841  \n",
       "7   2016-10-21   53309  \n",
       "8   2014-06-14  128870  \n",
       "9   2016-05-09   67933  "
      ]
     },
     "execution_count": 20,
     "metadata": {},
     "output_type": "execute_result"
    }
   ],
   "source": [
    "result = app.query(\n",
    "    news_query,\n",
    "    description_weight=1,\n",
    "    headline_weight=1,\n",
    "    recency_weight=0,\n",
    "    news_id=\"849\",\n",
    ")\n",
    "\n",
    "present_result(result)"
   ]
  },
  {
   "cell_type": "markdown",
   "id": "b91aef71-921a-48cf-ba4b-3751b594fa35",
   "metadata": {},
   "source": [
    "That we can start biasing towards recency, navigating the tradeoff of letting less connected but recent news into the mix. "
   ]
  },
  {
   "cell_type": "code",
   "execution_count": 21,
   "id": "9740a69d-b11b-4f63-b13a-8230565f85b7",
   "metadata": {},
   "outputs": [
    {
     "data": {
      "text/html": [
       "<div>\n",
       "<style scoped>\n",
       "    .dataframe tbody tr th:only-of-type {\n",
       "        vertical-align: middle;\n",
       "    }\n",
       "\n",
       "    .dataframe tbody tr th {\n",
       "        vertical-align: top;\n",
       "    }\n",
       "\n",
       "    .dataframe thead th {\n",
       "        text-align: right;\n",
       "    }\n",
       "</style>\n",
       "<table border=\"1\" class=\"dataframe\">\n",
       "  <thead>\n",
       "    <tr style=\"text-align: right;\">\n",
       "      <th></th>\n",
       "      <th>description</th>\n",
       "      <th>headline</th>\n",
       "      <th>release_date</th>\n",
       "      <th>id</th>\n",
       "    </tr>\n",
       "  </thead>\n",
       "  <tbody>\n",
       "    <tr>\n",
       "      <th>0</th>\n",
       "      <td>“My offer is my best and final offer and if it is not accepted, I would need to reconsider my position as a shareholder,” Musk said in a filing.</td>\n",
       "      <td>Elon Musk Offers To Buy 100% Of Twitter</td>\n",
       "      <td>2022-04-14</td>\n",
       "      <td>849</td>\n",
       "    </tr>\n",
       "    <tr>\n",
       "      <th>1</th>\n",
       "      <td>The U.S. Securities and Exchange Commission filed a motion asking for the Tesla CEO to show why he shouldn't be held in contempt.</td>\n",
       "      <td>SEC Says Elon Musk Violated Fraud Settlement With Tweet</td>\n",
       "      <td>2019-02-26</td>\n",
       "      <td>7191</td>\n",
       "    </tr>\n",
       "    <tr>\n",
       "      <th>2</th>\n",
       "      <td>Delaware Chancery Judge Kathaleen McCormick dealt the world's richest person a setback in ordering a speedy trial on his abandoned deal to buy Twitter.</td>\n",
       "      <td>Twitter Lawyer Calls Elon Musk 'Committed Enemy' As Judge Sets October Trial</td>\n",
       "      <td>2022-07-20</td>\n",
       "      <td>353</td>\n",
       "    </tr>\n",
       "    <tr>\n",
       "      <th>3</th>\n",
       "      <td>Don't bet against Musk.</td>\n",
       "      <td>Why Elon Musk’s Plan To Merge Tesla With SolarCity Will Probably Work</td>\n",
       "      <td>2016-08-16</td>\n",
       "      <td>59220</td>\n",
       "    </tr>\n",
       "    <tr>\n",
       "      <th>4</th>\n",
       "      <td>Recent statements by CEO Howard Schultz offer a glimpse of some of the hardball tactics that might lay ahead.</td>\n",
       "      <td>For The Starbucks Union Campaign, A Bruising Contract Fight Is Just Beginning</td>\n",
       "      <td>2022-04-16</td>\n",
       "      <td>837</td>\n",
       "    </tr>\n",
       "    <tr>\n",
       "      <th>5</th>\n",
       "      <td>Elon Musk's empire is consolidating.</td>\n",
       "      <td>Tesla Is Buying Sister Company SolarCity For $2.6 Billion</td>\n",
       "      <td>2016-08-01</td>\n",
       "      <td>60483</td>\n",
       "    </tr>\n",
       "    <tr>\n",
       "      <th>6</th>\n",
       "      <td>The billionaire wants to marry Tesla and SolarCity. But he says SpaceX should remain a bachelor.</td>\n",
       "      <td>The One Company Elon Musk Wants To Keep Independent</td>\n",
       "      <td>2016-08-04</td>\n",
       "      <td>60237</td>\n",
       "    </tr>\n",
       "    <tr>\n",
       "      <th>7</th>\n",
       "      <td>Android creator Andy Rubin, accused of sexual harassment, was given a severance package worth $240 million, according to the lawsuit.</td>\n",
       "      <td>Google's Alphabet Settles With Shareholders Over Payoffs To Execs Accused Of Harassment</td>\n",
       "      <td>2020-09-26</td>\n",
       "      <td>4025</td>\n",
       "    </tr>\n",
       "    <tr>\n",
       "      <th>8</th>\n",
       "      <td>The assets were the subject of recent talks between Fox and Walt Disney Co.</td>\n",
       "      <td>Verizon, Comcast Approach 21st Century Fox About Acquiring Assets</td>\n",
       "      <td>2017-11-16</td>\n",
       "      <td>20285</td>\n",
       "    </tr>\n",
       "    <tr>\n",
       "      <th>9</th>\n",
       "      <td>Tesla CEO issues a dire warning.</td>\n",
       "      <td>Elon Musk Predicts The Cause Of World War III (And It's Not Donald Trump)</td>\n",
       "      <td>2017-09-05</td>\n",
       "      <td>25949</td>\n",
       "    </tr>\n",
       "  </tbody>\n",
       "</table>\n",
       "</div>"
      ],
      "text/plain": [
       "                                                                                                                                               description  \\\n",
       "0         “My offer is my best and final offer and if it is not accepted, I would need to reconsider my position as a shareholder,” Musk said in a filing.   \n",
       "1                        The U.S. Securities and Exchange Commission filed a motion asking for the Tesla CEO to show why he shouldn't be held in contempt.   \n",
       "2  Delaware Chancery Judge Kathaleen McCormick dealt the world's richest person a setback in ordering a speedy trial on his abandoned deal to buy Twitter.   \n",
       "3                                                                                                                                  Don't bet against Musk.   \n",
       "4                                            Recent statements by CEO Howard Schultz offer a glimpse of some of the hardball tactics that might lay ahead.   \n",
       "5                                                                                                                     Elon Musk's empire is consolidating.   \n",
       "6                                                         The billionaire wants to marry Tesla and SolarCity. But he says SpaceX should remain a bachelor.   \n",
       "7                    Android creator Andy Rubin, accused of sexual harassment, was given a severance package worth $240 million, according to the lawsuit.   \n",
       "8                                                                              The assets were the subject of recent talks between Fox and Walt Disney Co.   \n",
       "9                                                                                                                         Tesla CEO issues a dire warning.   \n",
       "\n",
       "                                                                                  headline  \\\n",
       "0                                                  Elon Musk Offers To Buy 100% Of Twitter   \n",
       "1                                  SEC Says Elon Musk Violated Fraud Settlement With Tweet   \n",
       "2             Twitter Lawyer Calls Elon Musk 'Committed Enemy' As Judge Sets October Trial   \n",
       "3                    Why Elon Musk’s Plan To Merge Tesla With SolarCity Will Probably Work   \n",
       "4            For The Starbucks Union Campaign, A Bruising Contract Fight Is Just Beginning   \n",
       "5                                Tesla Is Buying Sister Company SolarCity For $2.6 Billion   \n",
       "6                                      The One Company Elon Musk Wants To Keep Independent   \n",
       "7  Google's Alphabet Settles With Shareholders Over Payoffs To Execs Accused Of Harassment   \n",
       "8                        Verizon, Comcast Approach 21st Century Fox About Acquiring Assets   \n",
       "9                Elon Musk Predicts The Cause Of World War III (And It's Not Donald Trump)   \n",
       "\n",
       "  release_date     id  \n",
       "0   2022-04-14    849  \n",
       "1   2019-02-26   7191  \n",
       "2   2022-07-20    353  \n",
       "3   2016-08-16  59220  \n",
       "4   2022-04-16    837  \n",
       "5   2016-08-01  60483  \n",
       "6   2016-08-04  60237  \n",
       "7   2020-09-26   4025  \n",
       "8   2017-11-16  20285  \n",
       "9   2017-09-05  25949  "
      ]
     },
     "execution_count": 21,
     "metadata": {},
     "output_type": "execute_result"
    }
   ],
   "source": [
    "result = app.query(\n",
    "    news_query,\n",
    "    description_weight=1,\n",
    "    headline_weight=1,\n",
    "    recency_weight=1,\n",
    "    news_id=\"849\",\n",
    ")\n",
    "\n",
    "present_result(result)"
   ]
  }
 ],
 "metadata": {
  "kernelspec": {
   "display_name": "Python 3 (ipykernel)",
   "language": "python",
   "name": "python3"
  },
  "language_info": {
   "codemirror_mode": {
    "name": "ipython",
    "version": 3
   },
   "file_extension": ".py",
   "mimetype": "text/x-python",
   "name": "python",
   "nbconvert_exporter": "python",
   "pygments_lexer": "ipython3",
   "version": "3.10.9"
  }
 },
 "nbformat": 4,
 "nbformat_minor": 5
}

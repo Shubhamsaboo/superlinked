{
 "cells": [
  {
   "cell_type": "markdown",
   "metadata": {},
   "source": [
    "# Combining recency and similarity"
   ]
  },
  {
   "cell_type": "markdown",
   "metadata": {},
   "source": [
    "<div class=\"alert alert-block alert-warning\">\n",
    "Replace <code>YOUR_GITHUB_TOKEN</code> in the install script. To get your token follow the instructions in the <a href=\"../README.md\">README.md</a>\n",
    "</div>"
   ]
  },
  {
   "cell_type": "code",
   "execution_count": null,
   "metadata": {},
   "outputs": [],
   "source": [
    "%pip install  'https://us-central1-data-359211.cloudfunctions.net/github-proxy/superlinked-0.8.0-py3-none-any.whl?token=YOUR_GITHUB_TOKEN'"
   ]
  },
  {
   "cell_type": "markdown",
   "metadata": {},
   "source": [
    "In addition to being able to use different spaces to embed your data, you can also combine signals from different models to a single index. This allows you to dynamically change the weight of these embeding at query time."
   ]
  },
  {
   "cell_type": "code",
   "execution_count": 1,
   "metadata": {},
   "outputs": [],
   "source": [
    "import time\n",
    "\n",
    "from superlinked.framework.common.schema.schema import schema\n",
    "from superlinked.framework.common.schema.schema_object import String, Timestamp\n",
    "from superlinked.framework.dsl.executor.in_memory.in_memory_executor import InMemoryExecutor\n",
    "from superlinked.framework.dsl.index.index import Index\n",
    "from superlinked.framework.dsl.query.param import Param\n",
    "from superlinked.framework.dsl.query.query import Query\n",
    "from superlinked.framework.dsl.source.in_memory_source import InMemorySource\n",
    "from superlinked.framework.dsl.space.recency_space import RecencySpace\n",
    "from superlinked.framework.dsl.space.text_similarity_space import TextSimilaritySpace\n",
    "from superlinked.framework.storage.entity import Entity\n",
    "\n",
    "@schema\n",
    "class Paragraph:\n",
    "    body: String\n",
    "    created_at: Timestamp\n",
    "\n",
    "\n",
    "paragraph = Paragraph()\n",
    "\n",
    "relevance_space = TextSimilaritySpace(text=paragraph.body, model=\"all-MiniLM-L6-v2\")\n",
    "recency_space = RecencySpace(timestamp=paragraph.created_at)\n",
    "paragraph_index = Index([relevance_space, recency_space])\n",
    "\n",
    "source: InMemorySource = InMemorySource(paragraph)\n",
    "executor = InMemoryExecutor(sources=[source], indices=[paragraph_index])\n",
    "app = executor.run()\n",
    "\n",
    "NOW = int(time.time())\n",
    "WEEK_AGO = NOW - 60 * 60 * 24 * 7\n",
    "\n",
    "source.put([{\"id\": \"recent_and_relevant\", \"body\": \"Let's talk physics.\", \"created_at\": NOW}])\n",
    "source.put(\n",
    "    [\n",
    "        {\n",
    "            \"id\": \"recent_but_not_relevant\",\n",
    "            \"body\": \"Bananas.\",\n",
    "            \"created_at\": NOW,\n",
    "        }\n",
    "    ]\n",
    ")\n",
    "source.put(\n",
    "    [{\"id\": \"old_and_relevant\", \"body\": \"Let's talk biology.\", \"created_at\": WEEK_AGO}]\n",
    ")\n",
    "source.put(\n",
    "    [{\"id\": \"old_and_not_relevant\", \"body\": \"Stone.\", \"created_at\": WEEK_AGO}]\n",
    ")\n",
    "\n",
    "query = (\n",
    "    Query(\n",
    "        paragraph_index,\n",
    "        weights={\n",
    "            relevance_space: Param(\"relevance_weight\"),\n",
    "            recency_space: Param(\"recency_weight\"),\n",
    "        },\n",
    "    )\n",
    "    .find(paragraph)\n",
    "    .similar(relevance_space.text, Param(\"query_text\"))\n",
    ")"
   ]
  },
  {
   "cell_type": "markdown",
   "metadata": {},
   "source": [
    "Compare the results biased to relevance."
   ]
  },
  {
   "cell_type": "code",
   "execution_count": 2,
   "metadata": {},
   "outputs": [
    {
     "name": "stdout",
     "output_type": "stream",
     "text": [
      "old_and_relevant\n",
      "recent_and_relevant\n",
      "recent_but_not_relevant\n",
      "old_and_not_relevant\n"
     ]
    }
   ],
   "source": [
    "result = app.query(\n",
    "    query,\n",
    "    query_text=\"I am interested in science articles.\",\n",
    "    relevance_weight=1,\n",
    "    recency_weight=0.1,\n",
    ")\n",
    "\n",
    "for entity in result.entities:\n",
    "    print(entity.id_.object_id)"
   ]
  },
  {
   "cell_type": "markdown",
   "metadata": {},
   "source": [
    "Check results biased to recency."
   ]
  },
  {
   "cell_type": "code",
   "execution_count": 3,
   "metadata": {},
   "outputs": [
    {
     "name": "stdout",
     "output_type": "stream",
     "text": [
      "recent_and_relevant\n",
      "recent_but_not_relevant\n",
      "old_and_relevant\n",
      "old_and_not_relevant\n"
     ]
    }
   ],
   "source": [
    "result = app.query(\n",
    "    query,\n",
    "    query_text=\"I am interested in science articles.\",\n",
    "    relevance_weight=1,\n",
    "    recency_weight=2,\n",
    ")\n",
    "\n",
    "for entity in result.entities:\n",
    "    print(entity.id_.object_id)"
   ]
  }
 ],
 "metadata": {
  "kernelspec": {
   "display_name": "Python 3 (ipykernel)",
   "language": "python",
   "name": "python3"
  },
  "language_info": {
   "codemirror_mode": {
    "name": "ipython",
    "version": 3
   },
   "file_extension": ".py",
   "mimetype": "text/x-python",
   "name": "python",
   "nbconvert_exporter": "python",
   "pygments_lexer": "ipython3",
   "version": "3.10.9"
  }
 },
 "nbformat": 4,
 "nbformat_minor": 4
}

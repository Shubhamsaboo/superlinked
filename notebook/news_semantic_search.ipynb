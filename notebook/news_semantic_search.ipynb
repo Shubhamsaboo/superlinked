{
 "cells": [
  {
   "cell_type": "markdown",
   "id": "49c942f7-d65e-40cd-821b-d2d3071bcf1e",
   "metadata": {},
   "source": [
    "# Semantic search in business news"
   ]
  },
  {
   "cell_type": "markdown",
   "id": "ace3cf1d-86e4-44d1-b958-4c42ed2dc9a2",
   "metadata": {},
   "source": [
    "<div class=\"alert alert-block alert-warning\">\n",
    "Replace <code>YOUR_GITHUB_TOKEN</code> in the install script. To get your token follow the instructions in the <a href=\"../README.md\">README.md</a>\n",
    "</div>"
   ]
  },
  {
   "cell_type": "markdown",
   "id": "aac7c6a1-6af1-4393-b4a9-2c03f9f48f6f",
   "metadata": {},
   "source": [
    "## Boilerplate\n",
    "\n",
    "### Installation"
   ]
  },
  {
   "cell_type": "code",
   "execution_count": 1,
   "id": "a4952853-9474-4643-82e7-5f2c193f6c56",
   "metadata": {},
   "outputs": [],
   "source": [
    "%pip install  'https://us-central1-data-359211.cloudfunctions.net/github-proxy/superlinked-2.16.0-py3-none-any.whl?token=YOUR_GITHUB_TOKEN'"
   ]
  },
  {
   "cell_type": "markdown",
   "id": "52f0f53e-f2d6-49ce-9108-b42743c648d6",
   "metadata": {},
   "source": [
    "### Imports and constants"
   ]
  },
  {
   "cell_type": "code",
   "execution_count": 2,
   "id": "1346b1c0-50b3-48a3-97f9-860c919ca645",
   "metadata": {},
   "outputs": [
    {
     "data": {
      "text/plain": [
       "RendererRegistry.enable('mimetype')"
      ]
     },
     "execution_count": 2,
     "metadata": {},
     "output_type": "execute_result"
    }
   ],
   "source": [
    "from datetime import datetime, timedelta, timezone\n",
    "\n",
    "import altair as alt\n",
    "import pandas as pd\n",
    "\n",
    "from superlinked.evaluation.charts.recency_plotter import RecencyPlotter\n",
    "from superlinked.framework.common.dag.period_time import PeriodTime\n",
    "from superlinked.framework.common.schema.schema import schema\n",
    "from superlinked.framework.common.schema.schema_object import String, Timestamp\n",
    "from superlinked.framework.common.schema.id_schema_object import IdField\n",
    "from superlinked.framework.common.parser.dataframe_parser import DataFrameParser\n",
    "from superlinked.framework.dsl.executor.in_memory.in_memory_executor import InMemoryExecutor, InMemoryApp\n",
    "from superlinked.framework.dsl.index.index import Index\n",
    "from superlinked.framework.dsl.query.param import Param\n",
    "from superlinked.framework.dsl.query.query import Query\n",
    "from superlinked.framework.dsl.query.result import Result\n",
    "from superlinked.framework.dsl.source.in_memory_source import InMemorySource\n",
    "from superlinked.framework.dsl.space.text_similarity_space import TextSimilaritySpace\n",
    "from superlinked.framework.dsl.space.recency_space import RecencySpace\n",
    "\n",
    "alt.renderers.enable(\"mimetype\")"
   ]
  },
  {
   "cell_type": "code",
   "execution_count": 3,
   "id": "c9738e3d-7d4f-4fbe-9451-c56e11a65acf",
   "metadata": {},
   "outputs": [],
   "source": [
    "MODEL = \"sentence-transformers/all-mpnet-base-v2\"\n",
    "YEAR_IN_DAYS = 365\n",
    "TOP_N = 10\n",
    "DATASET_URL = \"https://storage.googleapis.com/superlinked-notebook-news-dataset/business_news.json\""
   ]
  },
  {
   "cell_type": "markdown",
   "id": "cec9eab8-2c61-40dc-b875-d0c062071221",
   "metadata": {},
   "source": [
    "## Prepare & explore dataset"
   ]
  },
  {
   "cell_type": "code",
   "execution_count": 4,
   "id": "b03bff12-fdf6-4500-b3c5-fb421a8990f5",
   "metadata": {},
   "outputs": [],
   "source": [
    "business_news = pd.read_json(DATASET_URL, convert_dates=True)"
   ]
  },
  {
   "cell_type": "code",
   "execution_count": 5,
   "id": "89d28b5c-c603-4817-b7f8-de80c435e2fb",
   "metadata": {},
   "outputs": [],
   "source": [
    "# we are going to need an id column\n",
    "business_news = business_news.reset_index().rename(columns={\"index\": \"id\"})\n",
    "# we need to handle the timestamp being set in milliseconds\n",
    "business_news[\"date\"] = [date.replace(tzinfo=timezone.utc).timestamp() for date in business_news.date]"
   ]
  },
  {
   "cell_type": "code",
   "execution_count": 6,
   "id": "f08f8086-85f1-4ea8-9446-07c5fdd68609",
   "metadata": {},
   "outputs": [
    {
     "data": {
      "text/html": [
       "<div>\n",
       "<style scoped>\n",
       "    .dataframe tbody tr th:only-of-type {\n",
       "        vertical-align: middle;\n",
       "    }\n",
       "\n",
       "    .dataframe tbody tr th {\n",
       "        vertical-align: top;\n",
       "    }\n",
       "\n",
       "    .dataframe thead th {\n",
       "        text-align: right;\n",
       "    }\n",
       "</style>\n",
       "<table border=\"1\" class=\"dataframe\">\n",
       "  <thead>\n",
       "    <tr style=\"text-align: right;\">\n",
       "      <th></th>\n",
       "      <th>id</th>\n",
       "      <th>link</th>\n",
       "      <th>headline</th>\n",
       "      <th>category</th>\n",
       "      <th>short_description</th>\n",
       "      <th>authors</th>\n",
       "      <th>date</th>\n",
       "    </tr>\n",
       "  </thead>\n",
       "  <tbody>\n",
       "    <tr>\n",
       "      <th>0</th>\n",
       "      <td>162</td>\n",
       "      <td>https://www.huffpost.com/entry/rei-workers-ber...</td>\n",
       "      <td>REI Workers At Berkeley Store Vote To Unionize...</td>\n",
       "      <td>BUSINESS</td>\n",
       "      <td>They follow in the footsteps of REI workers in...</td>\n",
       "      <td>Dave Jamieson</td>\n",
       "      <td>1.661386e+09</td>\n",
       "    </tr>\n",
       "    <tr>\n",
       "      <th>1</th>\n",
       "      <td>353</td>\n",
       "      <td>https://www.huffpost.com/entry/twitter-elon-mu...</td>\n",
       "      <td>Twitter Lawyer Calls Elon Musk 'Committed Enem...</td>\n",
       "      <td>BUSINESS</td>\n",
       "      <td>Delaware Chancery Judge Kathaleen McCormick de...</td>\n",
       "      <td>Marita Vlachou</td>\n",
       "      <td>1.658275e+09</td>\n",
       "    </tr>\n",
       "    <tr>\n",
       "      <th>2</th>\n",
       "      <td>632</td>\n",
       "      <td>https://www.huffpost.com/entry/starbucks-leave...</td>\n",
       "      <td>Starbucks Leaving Russian Market, Shutting 130...</td>\n",
       "      <td>BUSINESS</td>\n",
       "      <td>Starbucks' move follows McDonald's exit from t...</td>\n",
       "      <td>DEE-ANN DURBIN, AP</td>\n",
       "      <td>1.653264e+09</td>\n",
       "    </tr>\n",
       "    <tr>\n",
       "      <th>3</th>\n",
       "      <td>690</td>\n",
       "      <td>https://www.huffpost.com/entry/coinbase-crypto...</td>\n",
       "      <td>Crypto Crash Leaves Trading Platform Coinbase ...</td>\n",
       "      <td>BUSINESS</td>\n",
       "      <td>Cryptocurrency trading platform Coinbase has l...</td>\n",
       "      <td>Matt Ott, AP</td>\n",
       "      <td>1.652314e+09</td>\n",
       "    </tr>\n",
       "    <tr>\n",
       "      <th>4</th>\n",
       "      <td>727</td>\n",
       "      <td>https://www.huffpost.com/entry/us-april-jobs-r...</td>\n",
       "      <td>US Added 428,000 Jobs In April Despite Surging...</td>\n",
       "      <td>BUSINESS</td>\n",
       "      <td>At 3.6%, unemployment nearly reached the lowes...</td>\n",
       "      <td>Paul Wiseman, AP</td>\n",
       "      <td>1.651795e+09</td>\n",
       "    </tr>\n",
       "  </tbody>\n",
       "</table>\n",
       "</div>"
      ],
      "text/plain": [
       "    id                                               link  \\\n",
       "0  162  https://www.huffpost.com/entry/rei-workers-ber...   \n",
       "1  353  https://www.huffpost.com/entry/twitter-elon-mu...   \n",
       "2  632  https://www.huffpost.com/entry/starbucks-leave...   \n",
       "3  690  https://www.huffpost.com/entry/coinbase-crypto...   \n",
       "4  727  https://www.huffpost.com/entry/us-april-jobs-r...   \n",
       "\n",
       "                                            headline  category  \\\n",
       "0  REI Workers At Berkeley Store Vote To Unionize...  BUSINESS   \n",
       "1  Twitter Lawyer Calls Elon Musk 'Committed Enem...  BUSINESS   \n",
       "2  Starbucks Leaving Russian Market, Shutting 130...  BUSINESS   \n",
       "3  Crypto Crash Leaves Trading Platform Coinbase ...  BUSINESS   \n",
       "4  US Added 428,000 Jobs In April Despite Surging...  BUSINESS   \n",
       "\n",
       "                                   short_description             authors  \\\n",
       "0  They follow in the footsteps of REI workers in...       Dave Jamieson   \n",
       "1  Delaware Chancery Judge Kathaleen McCormick de...      Marita Vlachou   \n",
       "2  Starbucks' move follows McDonald's exit from t...  DEE-ANN DURBIN, AP   \n",
       "3  Cryptocurrency trading platform Coinbase has l...        Matt Ott, AP   \n",
       "4  At 3.6%, unemployment nearly reached the lowes...    Paul Wiseman, AP   \n",
       "\n",
       "           date  \n",
       "0  1.661386e+09  \n",
       "1  1.658275e+09  \n",
       "2  1.653264e+09  \n",
       "3  1.652314e+09  \n",
       "4  1.651795e+09  "
      ]
     },
     "execution_count": 6,
     "metadata": {},
     "output_type": "execute_result"
    }
   ],
   "source": [
    "# a sneak peak into the data\n",
    "business_news.head()"
   ]
  },
  {
   "cell_type": "markdown",
   "id": "228c1c1c-bb7b-4f08-8d08-d5dff9ff60db",
   "metadata": {},
   "source": [
    "### Understand release date distribution"
   ]
  },
  {
   "cell_type": "code",
   "execution_count": 7,
   "id": "e7f7a6fe-5ae2-4704-970b-feb8808ec60e",
   "metadata": {},
   "outputs": [
    {
     "data": {
      "application/vnd.vegalite.v5+json": {
       "$schema": "https://vega.github.io/schema/vega-lite/v5.16.3.json",
       "config": {
        "view": {
         "continuousHeight": 300,
         "continuousWidth": 300
        }
       },
       "data": {
        "name": "data-b4be40a4c28f54e5ccccb8e0e056697a"
       },
       "datasets": {
        "data-b4be40a4c28f54e5ccccb8e0e056697a": [
         {
          "year_of_publication": 2015
         },
         {
          "year_of_publication": 2015
         },
         {
          "year_of_publication": 2016
         },
         {
          "year_of_publication": 2012
         },
         {
          "year_of_publication": 2017
         },
         {
          "year_of_publication": 2013
         },
         {
          "year_of_publication": 2012
         },
         {
          "year_of_publication": 2013
         },
         {
          "year_of_publication": 2015
         },
         {
          "year_of_publication": 2013
         },
         {
          "year_of_publication": 2016
         },
         {
          "year_of_publication": 2012
         },
         {
          "year_of_publication": 2012
         },
         {
          "year_of_publication": 2015
         },
         {
          "year_of_publication": 2014
         },
         {
          "year_of_publication": 2018
         },
         {
          "year_of_publication": 2015
         },
         {
          "year_of_publication": 2015
         },
         {
          "year_of_publication": 2013
         },
         {
          "year_of_publication": 2015
         },
         {
          "year_of_publication": 2014
         },
         {
          "year_of_publication": 2016
         },
         {
          "year_of_publication": 2014
         },
         {
          "year_of_publication": 2014
         },
         {
          "year_of_publication": 2013
         },
         {
          "year_of_publication": 2012
         },
         {
          "year_of_publication": 2017
         },
         {
          "year_of_publication": 2014
         },
         {
          "year_of_publication": 2012
         },
         {
          "year_of_publication": 2014
         },
         {
          "year_of_publication": 2012
         },
         {
          "year_of_publication": 2013
         },
         {
          "year_of_publication": 2013
         },
         {
          "year_of_publication": 2013
         },
         {
          "year_of_publication": 2012
         },
         {
          "year_of_publication": 2014
         },
         {
          "year_of_publication": 2017
         },
         {
          "year_of_publication": 2014
         },
         {
          "year_of_publication": 2013
         },
         {
          "year_of_publication": 2013
         },
         {
          "year_of_publication": 2014
         },
         {
          "year_of_publication": 2017
         },
         {
          "year_of_publication": 2018
         },
         {
          "year_of_publication": 2014
         },
         {
          "year_of_publication": 2015
         },
         {
          "year_of_publication": 2012
         },
         {
          "year_of_publication": 2016
         },
         {
          "year_of_publication": 2017
         },
         {
          "year_of_publication": 2014
         },
         {
          "year_of_publication": 2015
         },
         {
          "year_of_publication": 2016
         },
         {
          "year_of_publication": 2013
         },
         {
          "year_of_publication": 2013
         },
         {
          "year_of_publication": 2013
         },
         {
          "year_of_publication": 2012
         },
         {
          "year_of_publication": 2015
         },
         {
          "year_of_publication": 2012
         },
         {
          "year_of_publication": 2018
         },
         {
          "year_of_publication": 2014
         },
         {
          "year_of_publication": 2014
         },
         {
          "year_of_publication": 2014
         },
         {
          "year_of_publication": 2016
         },
         {
          "year_of_publication": 2015
         },
         {
          "year_of_publication": 2012
         },
         {
          "year_of_publication": 2013
         },
         {
          "year_of_publication": 2015
         },
         {
          "year_of_publication": 2014
         },
         {
          "year_of_publication": 2014
         },
         {
          "year_of_publication": 2015
         },
         {
          "year_of_publication": 2013
         },
         {
          "year_of_publication": 2017
         },
         {
          "year_of_publication": 2015
         },
         {
          "year_of_publication": 2015
         },
         {
          "year_of_publication": 2016
         },
         {
          "year_of_publication": 2015
         },
         {
          "year_of_publication": 2015
         },
         {
          "year_of_publication": 2014
         },
         {
          "year_of_publication": 2015
         },
         {
          "year_of_publication": 2015
         },
         {
          "year_of_publication": 2017
         },
         {
          "year_of_publication": 2016
         },
         {
          "year_of_publication": 2012
         },
         {
          "year_of_publication": 2016
         },
         {
          "year_of_publication": 2012
         },
         {
          "year_of_publication": 2013
         },
         {
          "year_of_publication": 2014
         },
         {
          "year_of_publication": 2014
         },
         {
          "year_of_publication": 2016
         },
         {
          "year_of_publication": 2013
         },
         {
          "year_of_publication": 2014
         },
         {
          "year_of_publication": 2014
         },
         {
          "year_of_publication": 2014
         },
         {
          "year_of_publication": 2016
         },
         {
          "year_of_publication": 2017
         },
         {
          "year_of_publication": 2015
         },
         {
          "year_of_publication": 2015
         },
         {
          "year_of_publication": 2014
         },
         {
          "year_of_publication": 2014
         },
         {
          "year_of_publication": 2013
         },
         {
          "year_of_publication": 2015
         },
         {
          "year_of_publication": 2013
         },
         {
          "year_of_publication": 2016
         },
         {
          "year_of_publication": 2016
         },
         {
          "year_of_publication": 2017
         },
         {
          "year_of_publication": 2015
         },
         {
          "year_of_publication": 2017
         },
         {
          "year_of_publication": 2017
         },
         {
          "year_of_publication": 2016
         },
         {
          "year_of_publication": 2016
         },
         {
          "year_of_publication": 2016
         },
         {
          "year_of_publication": 2017
         },
         {
          "year_of_publication": 2012
         },
         {
          "year_of_publication": 2012
         },
         {
          "year_of_publication": 2015
         },
         {
          "year_of_publication": 2014
         },
         {
          "year_of_publication": 2015
         },
         {
          "year_of_publication": 2014
         },
         {
          "year_of_publication": 2012
         },
         {
          "year_of_publication": 2014
         },
         {
          "year_of_publication": 2015
         },
         {
          "year_of_publication": 2015
         },
         {
          "year_of_publication": 2013
         },
         {
          "year_of_publication": 2017
         },
         {
          "year_of_publication": 2014
         },
         {
          "year_of_publication": 2013
         },
         {
          "year_of_publication": 2017
         },
         {
          "year_of_publication": 2015
         },
         {
          "year_of_publication": 2012
         },
         {
          "year_of_publication": 2013
         },
         {
          "year_of_publication": 2013
         },
         {
          "year_of_publication": 2014
         },
         {
          "year_of_publication": 2015
         },
         {
          "year_of_publication": 2012
         },
         {
          "year_of_publication": 2012
         },
         {
          "year_of_publication": 2014
         },
         {
          "year_of_publication": 2014
         },
         {
          "year_of_publication": 2014
         },
         {
          "year_of_publication": 2016
         },
         {
          "year_of_publication": 2015
         },
         {
          "year_of_publication": 2012
         },
         {
          "year_of_publication": 2016
         },
         {
          "year_of_publication": 2012
         },
         {
          "year_of_publication": 2014
         },
         {
          "year_of_publication": 2021
         },
         {
          "year_of_publication": 2014
         },
         {
          "year_of_publication": 2013
         },
         {
          "year_of_publication": 2016
         },
         {
          "year_of_publication": 2016
         },
         {
          "year_of_publication": 2016
         },
         {
          "year_of_publication": 2015
         },
         {
          "year_of_publication": 2014
         },
         {
          "year_of_publication": 2016
         },
         {
          "year_of_publication": 2014
         },
         {
          "year_of_publication": 2014
         },
         {
          "year_of_publication": 2017
         },
         {
          "year_of_publication": 2015
         },
         {
          "year_of_publication": 2014
         },
         {
          "year_of_publication": 2015
         },
         {
          "year_of_publication": 2014
         },
         {
          "year_of_publication": 2012
         },
         {
          "year_of_publication": 2017
         },
         {
          "year_of_publication": 2012
         },
         {
          "year_of_publication": 2014
         },
         {
          "year_of_publication": 2014
         },
         {
          "year_of_publication": 2015
         },
         {
          "year_of_publication": 2015
         },
         {
          "year_of_publication": 2015
         },
         {
          "year_of_publication": 2016
         },
         {
          "year_of_publication": 2014
         },
         {
          "year_of_publication": 2013
         },
         {
          "year_of_publication": 2015
         },
         {
          "year_of_publication": 2014
         },
         {
          "year_of_publication": 2013
         },
         {
          "year_of_publication": 2014
         },
         {
          "year_of_publication": 2012
         },
         {
          "year_of_publication": 2014
         },
         {
          "year_of_publication": 2014
         },
         {
          "year_of_publication": 2016
         },
         {
          "year_of_publication": 2015
         },
         {
          "year_of_publication": 2014
         },
         {
          "year_of_publication": 2012
         },
         {
          "year_of_publication": 2015
         },
         {
          "year_of_publication": 2015
         },
         {
          "year_of_publication": 2016
         },
         {
          "year_of_publication": 2022
         },
         {
          "year_of_publication": 2013
         },
         {
          "year_of_publication": 2015
         },
         {
          "year_of_publication": 2018
         },
         {
          "year_of_publication": 2014
         },
         {
          "year_of_publication": 2016
         },
         {
          "year_of_publication": 2014
         },
         {
          "year_of_publication": 2016
         },
         {
          "year_of_publication": 2016
         },
         {
          "year_of_publication": 2015
         },
         {
          "year_of_publication": 2013
         },
         {
          "year_of_publication": 2015
         },
         {
          "year_of_publication": 2012
         },
         {
          "year_of_publication": 2015
         },
         {
          "year_of_publication": 2013
         },
         {
          "year_of_publication": 2014
         },
         {
          "year_of_publication": 2016
         },
         {
          "year_of_publication": 2013
         },
         {
          "year_of_publication": 2015
         },
         {
          "year_of_publication": 2017
         },
         {
          "year_of_publication": 2015
         },
         {
          "year_of_publication": 2013
         },
         {
          "year_of_publication": 2013
         },
         {
          "year_of_publication": 2013
         },
         {
          "year_of_publication": 2015
         },
         {
          "year_of_publication": 2015
         },
         {
          "year_of_publication": 2014
         },
         {
          "year_of_publication": 2016
         },
         {
          "year_of_publication": 2016
         },
         {
          "year_of_publication": 2014
         },
         {
          "year_of_publication": 2012
         },
         {
          "year_of_publication": 2014
         },
         {
          "year_of_publication": 2015
         },
         {
          "year_of_publication": 2013
         },
         {
          "year_of_publication": 2014
         },
         {
          "year_of_publication": 2013
         },
         {
          "year_of_publication": 2013
         },
         {
          "year_of_publication": 2014
         },
         {
          "year_of_publication": 2014
         },
         {
          "year_of_publication": 2017
         },
         {
          "year_of_publication": 2015
         },
         {
          "year_of_publication": 2012
         },
         {
          "year_of_publication": 2015
         },
         {
          "year_of_publication": 2012
         },
         {
          "year_of_publication": 2016
         },
         {
          "year_of_publication": 2013
         },
         {
          "year_of_publication": 2016
         },
         {
          "year_of_publication": 2014
         },
         {
          "year_of_publication": 2015
         },
         {
          "year_of_publication": 2015
         },
         {
          "year_of_publication": 2016
         },
         {
          "year_of_publication": 2016
         },
         {
          "year_of_publication": 2013
         },
         {
          "year_of_publication": 2013
         },
         {
          "year_of_publication": 2014
         },
         {
          "year_of_publication": 2014
         },
         {
          "year_of_publication": 2015
         },
         {
          "year_of_publication": 2012
         },
         {
          "year_of_publication": 2015
         },
         {
          "year_of_publication": 2017
         },
         {
          "year_of_publication": 2015
         },
         {
          "year_of_publication": 2013
         },
         {
          "year_of_publication": 2014
         },
         {
          "year_of_publication": 2015
         },
         {
          "year_of_publication": 2014
         },
         {
          "year_of_publication": 2014
         },
         {
          "year_of_publication": 2013
         },
         {
          "year_of_publication": 2016
         },
         {
          "year_of_publication": 2012
         },
         {
          "year_of_publication": 2012
         },
         {
          "year_of_publication": 2015
         },
         {
          "year_of_publication": 2015
         },
         {
          "year_of_publication": 2012
         },
         {
          "year_of_publication": 2012
         },
         {
          "year_of_publication": 2015
         },
         {
          "year_of_publication": 2018
         },
         {
          "year_of_publication": 2013
         },
         {
          "year_of_publication": 2014
         },
         {
          "year_of_publication": 2012
         },
         {
          "year_of_publication": 2013
         },
         {
          "year_of_publication": 2014
         },
         {
          "year_of_publication": 2013
         },
         {
          "year_of_publication": 2014
         },
         {
          "year_of_publication": 2014
         },
         {
          "year_of_publication": 2013
         },
         {
          "year_of_publication": 2013
         },
         {
          "year_of_publication": 2012
         },
         {
          "year_of_publication": 2014
         },
         {
          "year_of_publication": 2015
         },
         {
          "year_of_publication": 2015
         },
         {
          "year_of_publication": 2012
         },
         {
          "year_of_publication": 2012
         },
         {
          "year_of_publication": 2014
         },
         {
          "year_of_publication": 2016
         },
         {
          "year_of_publication": 2018
         },
         {
          "year_of_publication": 2015
         },
         {
          "year_of_publication": 2015
         },
         {
          "year_of_publication": 2014
         },
         {
          "year_of_publication": 2014
         },
         {
          "year_of_publication": 2012
         },
         {
          "year_of_publication": 2015
         },
         {
          "year_of_publication": 2012
         },
         {
          "year_of_publication": 2017
         },
         {
          "year_of_publication": 2015
         },
         {
          "year_of_publication": 2014
         },
         {
          "year_of_publication": 2015
         },
         {
          "year_of_publication": 2013
         },
         {
          "year_of_publication": 2016
         },
         {
          "year_of_publication": 2014
         },
         {
          "year_of_publication": 2015
         },
         {
          "year_of_publication": 2016
         },
         {
          "year_of_publication": 2014
         },
         {
          "year_of_publication": 2014
         },
         {
          "year_of_publication": 2015
         },
         {
          "year_of_publication": 2015
         },
         {
          "year_of_publication": 2014
         },
         {
          "year_of_publication": 2012
         },
         {
          "year_of_publication": 2016
         },
         {
          "year_of_publication": 2017
         },
         {
          "year_of_publication": 2016
         },
         {
          "year_of_publication": 2016
         },
         {
          "year_of_publication": 2012
         },
         {
          "year_of_publication": 2014
         },
         {
          "year_of_publication": 2016
         },
         {
          "year_of_publication": 2016
         },
         {
          "year_of_publication": 2012
         },
         {
          "year_of_publication": 2014
         },
         {
          "year_of_publication": 2012
         },
         {
          "year_of_publication": 2012
         },
         {
          "year_of_publication": 2013
         },
         {
          "year_of_publication": 2012
         },
         {
          "year_of_publication": 2015
         },
         {
          "year_of_publication": 2017
         },
         {
          "year_of_publication": 2013
         },
         {
          "year_of_publication": 2013
         },
         {
          "year_of_publication": 2015
         },
         {
          "year_of_publication": 2014
         },
         {
          "year_of_publication": 2015
         },
         {
          "year_of_publication": 2013
         },
         {
          "year_of_publication": 2016
         },
         {
          "year_of_publication": 2014
         },
         {
          "year_of_publication": 2016
         },
         {
          "year_of_publication": 2016
         },
         {
          "year_of_publication": 2012
         },
         {
          "year_of_publication": 2014
         },
         {
          "year_of_publication": 2014
         },
         {
          "year_of_publication": 2015
         },
         {
          "year_of_publication": 2015
         },
         {
          "year_of_publication": 2013
         },
         {
          "year_of_publication": 2014
         },
         {
          "year_of_publication": 2018
         },
         {
          "year_of_publication": 2015
         },
         {
          "year_of_publication": 2017
         },
         {
          "year_of_publication": 2013
         },
         {
          "year_of_publication": 2015
         },
         {
          "year_of_publication": 2016
         },
         {
          "year_of_publication": 2012
         },
         {
          "year_of_publication": 2015
         },
         {
          "year_of_publication": 2014
         },
         {
          "year_of_publication": 2019
         },
         {
          "year_of_publication": 2017
         },
         {
          "year_of_publication": 2013
         },
         {
          "year_of_publication": 2015
         },
         {
          "year_of_publication": 2015
         },
         {
          "year_of_publication": 2014
         },
         {
          "year_of_publication": 2016
         },
         {
          "year_of_publication": 2013
         },
         {
          "year_of_publication": 2014
         },
         {
          "year_of_publication": 2015
         },
         {
          "year_of_publication": 2016
         },
         {
          "year_of_publication": 2014
         },
         {
          "year_of_publication": 2016
         },
         {
          "year_of_publication": 2016
         },
         {
          "year_of_publication": 2012
         },
         {
          "year_of_publication": 2017
         },
         {
          "year_of_publication": 2012
         },
         {
          "year_of_publication": 2013
         },
         {
          "year_of_publication": 2012
         },
         {
          "year_of_publication": 2015
         },
         {
          "year_of_publication": 2012
         },
         {
          "year_of_publication": 2016
         },
         {
          "year_of_publication": 2014
         },
         {
          "year_of_publication": 2014
         },
         {
          "year_of_publication": 2016
         },
         {
          "year_of_publication": 2012
         },
         {
          "year_of_publication": 2014
         },
         {
          "year_of_publication": 2013
         },
         {
          "year_of_publication": 2017
         },
         {
          "year_of_publication": 2015
         },
         {
          "year_of_publication": 2017
         },
         {
          "year_of_publication": 2014
         },
         {
          "year_of_publication": 2015
         },
         {
          "year_of_publication": 2015
         },
         {
          "year_of_publication": 2015
         },
         {
          "year_of_publication": 2013
         },
         {
          "year_of_publication": 2015
         },
         {
          "year_of_publication": 2015
         },
         {
          "year_of_publication": 2015
         },
         {
          "year_of_publication": 2014
         },
         {
          "year_of_publication": 2014
         },
         {
          "year_of_publication": 2015
         },
         {
          "year_of_publication": 2012
         },
         {
          "year_of_publication": 2015
         },
         {
          "year_of_publication": 2012
         },
         {
          "year_of_publication": 2013
         },
         {
          "year_of_publication": 2016
         },
         {
          "year_of_publication": 2016
         },
         {
          "year_of_publication": 2014
         },
         {
          "year_of_publication": 2013
         },
         {
          "year_of_publication": 2013
         },
         {
          "year_of_publication": 2016
         },
         {
          "year_of_publication": 2016
         },
         {
          "year_of_publication": 2016
         },
         {
          "year_of_publication": 2015
         },
         {
          "year_of_publication": 2014
         },
         {
          "year_of_publication": 2015
         },
         {
          "year_of_publication": 2014
         },
         {
          "year_of_publication": 2014
         },
         {
          "year_of_publication": 2017
         },
         {
          "year_of_publication": 2016
         },
         {
          "year_of_publication": 2014
         },
         {
          "year_of_publication": 2014
         },
         {
          "year_of_publication": 2014
         },
         {
          "year_of_publication": 2014
         },
         {
          "year_of_publication": 2014
         },
         {
          "year_of_publication": 2018
         },
         {
          "year_of_publication": 2015
         },
         {
          "year_of_publication": 2012
         },
         {
          "year_of_publication": 2018
         },
         {
          "year_of_publication": 2017
         },
         {
          "year_of_publication": 2015
         },
         {
          "year_of_publication": 2014
         },
         {
          "year_of_publication": 2016
         },
         {
          "year_of_publication": 2015
         },
         {
          "year_of_publication": 2013
         },
         {
          "year_of_publication": 2014
         },
         {
          "year_of_publication": 2012
         },
         {
          "year_of_publication": 2012
         },
         {
          "year_of_publication": 2015
         },
         {
          "year_of_publication": 2015
         },
         {
          "year_of_publication": 2016
         },
         {
          "year_of_publication": 2015
         },
         {
          "year_of_publication": 2014
         },
         {
          "year_of_publication": 2012
         },
         {
          "year_of_publication": 2014
         },
         {
          "year_of_publication": 2016
         },
         {
          "year_of_publication": 2015
         },
         {
          "year_of_publication": 2015
         },
         {
          "year_of_publication": 2014
         },
         {
          "year_of_publication": 2013
         },
         {
          "year_of_publication": 2012
         },
         {
          "year_of_publication": 2015
         },
         {
          "year_of_publication": 2016
         },
         {
          "year_of_publication": 2013
         },
         {
          "year_of_publication": 2015
         },
         {
          "year_of_publication": 2015
         },
         {
          "year_of_publication": 2012
         },
         {
          "year_of_publication": 2012
         },
         {
          "year_of_publication": 2014
         },
         {
          "year_of_publication": 2014
         },
         {
          "year_of_publication": 2016
         },
         {
          "year_of_publication": 2015
         },
         {
          "year_of_publication": 2015
         },
         {
          "year_of_publication": 2013
         },
         {
          "year_of_publication": 2013
         },
         {
          "year_of_publication": 2014
         },
         {
          "year_of_publication": 2015
         },
         {
          "year_of_publication": 2014
         },
         {
          "year_of_publication": 2014
         },
         {
          "year_of_publication": 2012
         },
         {
          "year_of_publication": 2015
         },
         {
          "year_of_publication": 2016
         },
         {
          "year_of_publication": 2012
         },
         {
          "year_of_publication": 2014
         },
         {
          "year_of_publication": 2014
         },
         {
          "year_of_publication": 2013
         },
         {
          "year_of_publication": 2015
         },
         {
          "year_of_publication": 2015
         },
         {
          "year_of_publication": 2012
         },
         {
          "year_of_publication": 2017
         },
         {
          "year_of_publication": 2014
         },
         {
          "year_of_publication": 2018
         },
         {
          "year_of_publication": 2014
         },
         {
          "year_of_publication": 2014
         },
         {
          "year_of_publication": 2014
         },
         {
          "year_of_publication": 2014
         },
         {
          "year_of_publication": 2017
         },
         {
          "year_of_publication": 2014
         },
         {
          "year_of_publication": 2015
         },
         {
          "year_of_publication": 2014
         },
         {
          "year_of_publication": 2014
         },
         {
          "year_of_publication": 2012
         },
         {
          "year_of_publication": 2012
         },
         {
          "year_of_publication": 2015
         },
         {
          "year_of_publication": 2013
         },
         {
          "year_of_publication": 2015
         },
         {
          "year_of_publication": 2014
         },
         {
          "year_of_publication": 2012
         },
         {
          "year_of_publication": 2013
         },
         {
          "year_of_publication": 2013
         },
         {
          "year_of_publication": 2017
         },
         {
          "year_of_publication": 2015
         },
         {
          "year_of_publication": 2016
         },
         {
          "year_of_publication": 2015
         },
         {
          "year_of_publication": 2017
         },
         {
          "year_of_publication": 2013
         },
         {
          "year_of_publication": 2017
         },
         {
          "year_of_publication": 2012
         },
         {
          "year_of_publication": 2017
         },
         {
          "year_of_publication": 2012
         },
         {
          "year_of_publication": 2012
         },
         {
          "year_of_publication": 2015
         },
         {
          "year_of_publication": 2014
         },
         {
          "year_of_publication": 2014
         },
         {
          "year_of_publication": 2014
         },
         {
          "year_of_publication": 2014
         },
         {
          "year_of_publication": 2016
         },
         {
          "year_of_publication": 2015
         },
         {
          "year_of_publication": 2013
         },
         {
          "year_of_publication": 2014
         },
         {
          "year_of_publication": 2022
         },
         {
          "year_of_publication": 2014
         },
         {
          "year_of_publication": 2014
         },
         {
          "year_of_publication": 2017
         },
         {
          "year_of_publication": 2017
         },
         {
          "year_of_publication": 2015
         },
         {
          "year_of_publication": 2012
         },
         {
          "year_of_publication": 2016
         },
         {
          "year_of_publication": 2014
         },
         {
          "year_of_publication": 2014
         },
         {
          "year_of_publication": 2015
         },
         {
          "year_of_publication": 2015
         },
         {
          "year_of_publication": 2014
         },
         {
          "year_of_publication": 2015
         },
         {
          "year_of_publication": 2015
         },
         {
          "year_of_publication": 2015
         },
         {
          "year_of_publication": 2016
         },
         {
          "year_of_publication": 2013
         },
         {
          "year_of_publication": 2014
         },
         {
          "year_of_publication": 2012
         },
         {
          "year_of_publication": 2013
         },
         {
          "year_of_publication": 2015
         },
         {
          "year_of_publication": 2015
         },
         {
          "year_of_publication": 2017
         },
         {
          "year_of_publication": 2015
         },
         {
          "year_of_publication": 2014
         },
         {
          "year_of_publication": 2013
         },
         {
          "year_of_publication": 2013
         },
         {
          "year_of_publication": 2014
         },
         {
          "year_of_publication": 2016
         },
         {
          "year_of_publication": 2014
         },
         {
          "year_of_publication": 2015
         },
         {
          "year_of_publication": 2014
         },
         {
          "year_of_publication": 2012
         },
         {
          "year_of_publication": 2015
         },
         {
          "year_of_publication": 2013
         },
         {
          "year_of_publication": 2018
         },
         {
          "year_of_publication": 2016
         },
         {
          "year_of_publication": 2015
         },
         {
          "year_of_publication": 2013
         },
         {
          "year_of_publication": 2015
         },
         {
          "year_of_publication": 2017
         },
         {
          "year_of_publication": 2015
         },
         {
          "year_of_publication": 2015
         },
         {
          "year_of_publication": 2015
         },
         {
          "year_of_publication": 2014
         },
         {
          "year_of_publication": 2014
         },
         {
          "year_of_publication": 2014
         },
         {
          "year_of_publication": 2017
         },
         {
          "year_of_publication": 2014
         },
         {
          "year_of_publication": 2014
         },
         {
          "year_of_publication": 2014
         },
         {
          "year_of_publication": 2015
         },
         {
          "year_of_publication": 2014
         },
         {
          "year_of_publication": 2013
         },
         {
          "year_of_publication": 2013
         },
         {
          "year_of_publication": 2014
         },
         {
          "year_of_publication": 2016
         },
         {
          "year_of_publication": 2016
         },
         {
          "year_of_publication": 2016
         },
         {
          "year_of_publication": 2015
         },
         {
          "year_of_publication": 2014
         },
         {
          "year_of_publication": 2015
         },
         {
          "year_of_publication": 2015
         },
         {
          "year_of_publication": 2016
         },
         {
          "year_of_publication": 2016
         },
         {
          "year_of_publication": 2015
         },
         {
          "year_of_publication": 2016
         },
         {
          "year_of_publication": 2014
         },
         {
          "year_of_publication": 2013
         },
         {
          "year_of_publication": 2014
         },
         {
          "year_of_publication": 2015
         },
         {
          "year_of_publication": 2016
         },
         {
          "year_of_publication": 2012
         },
         {
          "year_of_publication": 2016
         },
         {
          "year_of_publication": 2013
         },
         {
          "year_of_publication": 2015
         },
         {
          "year_of_publication": 2015
         },
         {
          "year_of_publication": 2013
         },
         {
          "year_of_publication": 2013
         },
         {
          "year_of_publication": 2014
         },
         {
          "year_of_publication": 2014
         },
         {
          "year_of_publication": 2013
         },
         {
          "year_of_publication": 2013
         },
         {
          "year_of_publication": 2013
         },
         {
          "year_of_publication": 2013
         },
         {
          "year_of_publication": 2014
         },
         {
          "year_of_publication": 2015
         },
         {
          "year_of_publication": 2014
         },
         {
          "year_of_publication": 2013
         },
         {
          "year_of_publication": 2013
         },
         {
          "year_of_publication": 2012
         },
         {
          "year_of_publication": 2014
         },
         {
          "year_of_publication": 2014
         },
         {
          "year_of_publication": 2013
         },
         {
          "year_of_publication": 2013
         },
         {
          "year_of_publication": 2016
         },
         {
          "year_of_publication": 2017
         },
         {
          "year_of_publication": 2016
         },
         {
          "year_of_publication": 2014
         },
         {
          "year_of_publication": 2013
         },
         {
          "year_of_publication": 2017
         },
         {
          "year_of_publication": 2015
         },
         {
          "year_of_publication": 2013
         },
         {
          "year_of_publication": 2016
         },
         {
          "year_of_publication": 2016
         },
         {
          "year_of_publication": 2017
         },
         {
          "year_of_publication": 2014
         },
         {
          "year_of_publication": 2014
         },
         {
          "year_of_publication": 2012
         },
         {
          "year_of_publication": 2016
         },
         {
          "year_of_publication": 2015
         },
         {
          "year_of_publication": 2014
         },
         {
          "year_of_publication": 2014
         },
         {
          "year_of_publication": 2013
         },
         {
          "year_of_publication": 2015
         },
         {
          "year_of_publication": 2015
         },
         {
          "year_of_publication": 2016
         },
         {
          "year_of_publication": 2015
         },
         {
          "year_of_publication": 2015
         },
         {
          "year_of_publication": 2014
         },
         {
          "year_of_publication": 2016
         },
         {
          "year_of_publication": 2013
         },
         {
          "year_of_publication": 2012
         },
         {
          "year_of_publication": 2016
         },
         {
          "year_of_publication": 2013
         },
         {
          "year_of_publication": 2015
         },
         {
          "year_of_publication": 2015
         },
         {
          "year_of_publication": 2015
         },
         {
          "year_of_publication": 2013
         },
         {
          "year_of_publication": 2016
         },
         {
          "year_of_publication": 2013
         },
         {
          "year_of_publication": 2015
         },
         {
          "year_of_publication": 2016
         },
         {
          "year_of_publication": 2016
         },
         {
          "year_of_publication": 2015
         },
         {
          "year_of_publication": 2016
         },
         {
          "year_of_publication": 2013
         },
         {
          "year_of_publication": 2012
         },
         {
          "year_of_publication": 2012
         },
         {
          "year_of_publication": 2015
         },
         {
          "year_of_publication": 2016
         },
         {
          "year_of_publication": 2014
         },
         {
          "year_of_publication": 2015
         },
         {
          "year_of_publication": 2016
         },
         {
          "year_of_publication": 2013
         },
         {
          "year_of_publication": 2014
         },
         {
          "year_of_publication": 2014
         },
         {
          "year_of_publication": 2017
         },
         {
          "year_of_publication": 2015
         },
         {
          "year_of_publication": 2015
         },
         {
          "year_of_publication": 2015
         },
         {
          "year_of_publication": 2015
         },
         {
          "year_of_publication": 2015
         },
         {
          "year_of_publication": 2014
         },
         {
          "year_of_publication": 2014
         },
         {
          "year_of_publication": 2014
         },
         {
          "year_of_publication": 2014
         },
         {
          "year_of_publication": 2017
         },
         {
          "year_of_publication": 2013
         },
         {
          "year_of_publication": 2017
         },
         {
          "year_of_publication": 2012
         },
         {
          "year_of_publication": 2013
         },
         {
          "year_of_publication": 2018
         },
         {
          "year_of_publication": 2016
         },
         {
          "year_of_publication": 2017
         },
         {
          "year_of_publication": 2016
         },
         {
          "year_of_publication": 2012
         },
         {
          "year_of_publication": 2015
         },
         {
          "year_of_publication": 2015
         },
         {
          "year_of_publication": 2015
         },
         {
          "year_of_publication": 2013
         },
         {
          "year_of_publication": 2016
         },
         {
          "year_of_publication": 2012
         },
         {
          "year_of_publication": 2013
         },
         {
          "year_of_publication": 2016
         },
         {
          "year_of_publication": 2013
         },
         {
          "year_of_publication": 2016
         },
         {
          "year_of_publication": 2012
         },
         {
          "year_of_publication": 2016
         },
         {
          "year_of_publication": 2015
         },
         {
          "year_of_publication": 2015
         },
         {
          "year_of_publication": 2015
         },
         {
          "year_of_publication": 2017
         },
         {
          "year_of_publication": 2016
         },
         {
          "year_of_publication": 2015
         },
         {
          "year_of_publication": 2016
         },
         {
          "year_of_publication": 2016
         },
         {
          "year_of_publication": 2014
         },
         {
          "year_of_publication": 2012
         },
         {
          "year_of_publication": 2016
         },
         {
          "year_of_publication": 2015
         },
         {
          "year_of_publication": 2015
         },
         {
          "year_of_publication": 2014
         },
         {
          "year_of_publication": 2015
         },
         {
          "year_of_publication": 2015
         },
         {
          "year_of_publication": 2012
         },
         {
          "year_of_publication": 2013
         },
         {
          "year_of_publication": 2015
         },
         {
          "year_of_publication": 2016
         },
         {
          "year_of_publication": 2012
         },
         {
          "year_of_publication": 2014
         },
         {
          "year_of_publication": 2012
         },
         {
          "year_of_publication": 2012
         },
         {
          "year_of_publication": 2016
         },
         {
          "year_of_publication": 2014
         },
         {
          "year_of_publication": 2015
         },
         {
          "year_of_publication": 2012
         },
         {
          "year_of_publication": 2016
         },
         {
          "year_of_publication": 2013
         },
         {
          "year_of_publication": 2015
         },
         {
          "year_of_publication": 2014
         },
         {
          "year_of_publication": 2017
         },
         {
          "year_of_publication": 2015
         },
         {
          "year_of_publication": 2014
         },
         {
          "year_of_publication": 2017
         },
         {
          "year_of_publication": 2013
         },
         {
          "year_of_publication": 2016
         },
         {
          "year_of_publication": 2016
         },
         {
          "year_of_publication": 2015
         },
         {
          "year_of_publication": 2013
         },
         {
          "year_of_publication": 2012
         },
         {
          "year_of_publication": 2013
         },
         {
          "year_of_publication": 2016
         },
         {
          "year_of_publication": 2015
         },
         {
          "year_of_publication": 2015
         },
         {
          "year_of_publication": 2012
         },
         {
          "year_of_publication": 2016
         },
         {
          "year_of_publication": 2018
         },
         {
          "year_of_publication": 2013
         },
         {
          "year_of_publication": 2016
         },
         {
          "year_of_publication": 2014
         },
         {
          "year_of_publication": 2015
         },
         {
          "year_of_publication": 2014
         },
         {
          "year_of_publication": 2018
         },
         {
          "year_of_publication": 2015
         },
         {
          "year_of_publication": 2014
         },
         {
          "year_of_publication": 2012
         },
         {
          "year_of_publication": 2015
         },
         {
          "year_of_publication": 2015
         },
         {
          "year_of_publication": 2012
         },
         {
          "year_of_publication": 2013
         },
         {
          "year_of_publication": 2012
         },
         {
          "year_of_publication": 2016
         },
         {
          "year_of_publication": 2013
         },
         {
          "year_of_publication": 2016
         },
         {
          "year_of_publication": 2022
         },
         {
          "year_of_publication": 2018
         },
         {
          "year_of_publication": 2012
         },
         {
          "year_of_publication": 2013
         },
         {
          "year_of_publication": 2015
         },
         {
          "year_of_publication": 2014
         },
         {
          "year_of_publication": 2012
         },
         {
          "year_of_publication": 2012
         },
         {
          "year_of_publication": 2015
         },
         {
          "year_of_publication": 2012
         },
         {
          "year_of_publication": 2014
         },
         {
          "year_of_publication": 2014
         },
         {
          "year_of_publication": 2016
         },
         {
          "year_of_publication": 2016
         },
         {
          "year_of_publication": 2012
         },
         {
          "year_of_publication": 2013
         },
         {
          "year_of_publication": 2014
         },
         {
          "year_of_publication": 2012
         },
         {
          "year_of_publication": 2016
         },
         {
          "year_of_publication": 2015
         },
         {
          "year_of_publication": 2013
         },
         {
          "year_of_publication": 2016
         },
         {
          "year_of_publication": 2015
         },
         {
          "year_of_publication": 2016
         },
         {
          "year_of_publication": 2014
         },
         {
          "year_of_publication": 2014
         },
         {
          "year_of_publication": 2013
         },
         {
          "year_of_publication": 2015
         },
         {
          "year_of_publication": 2016
         },
         {
          "year_of_publication": 2017
         },
         {
          "year_of_publication": 2015
         },
         {
          "year_of_publication": 2015
         },
         {
          "year_of_publication": 2014
         },
         {
          "year_of_publication": 2017
         },
         {
          "year_of_publication": 2014
         },
         {
          "year_of_publication": 2016
         },
         {
          "year_of_publication": 2014
         },
         {
          "year_of_publication": 2014
         },
         {
          "year_of_publication": 2022
         },
         {
          "year_of_publication": 2012
         },
         {
          "year_of_publication": 2015
         },
         {
          "year_of_publication": 2014
         },
         {
          "year_of_publication": 2016
         },
         {
          "year_of_publication": 2016
         },
         {
          "year_of_publication": 2017
         },
         {
          "year_of_publication": 2016
         },
         {
          "year_of_publication": 2012
         },
         {
          "year_of_publication": 2016
         },
         {
          "year_of_publication": 2012
         },
         {
          "year_of_publication": 2015
         },
         {
          "year_of_publication": 2012
         },
         {
          "year_of_publication": 2014
         },
         {
          "year_of_publication": 2015
         },
         {
          "year_of_publication": 2016
         },
         {
          "year_of_publication": 2015
         },
         {
          "year_of_publication": 2015
         },
         {
          "year_of_publication": 2014
         },
         {
          "year_of_publication": 2012
         },
         {
          "year_of_publication": 2015
         },
         {
          "year_of_publication": 2015
         },
         {
          "year_of_publication": 2016
         },
         {
          "year_of_publication": 2017
         },
         {
          "year_of_publication": 2018
         },
         {
          "year_of_publication": 2013
         },
         {
          "year_of_publication": 2015
         },
         {
          "year_of_publication": 2014
         },
         {
          "year_of_publication": 2016
         },
         {
          "year_of_publication": 2012
         },
         {
          "year_of_publication": 2017
         },
         {
          "year_of_publication": 2016
         },
         {
          "year_of_publication": 2013
         },
         {
          "year_of_publication": 2012
         },
         {
          "year_of_publication": 2016
         },
         {
          "year_of_publication": 2012
         },
         {
          "year_of_publication": 2016
         },
         {
          "year_of_publication": 2012
         },
         {
          "year_of_publication": 2014
         },
         {
          "year_of_publication": 2016
         },
         {
          "year_of_publication": 2016
         },
         {
          "year_of_publication": 2016
         },
         {
          "year_of_publication": 2013
         },
         {
          "year_of_publication": 2016
         },
         {
          "year_of_publication": 2012
         },
         {
          "year_of_publication": 2016
         },
         {
          "year_of_publication": 2016
         },
         {
          "year_of_publication": 2014
         },
         {
          "year_of_publication": 2015
         },
         {
          "year_of_publication": 2014
         },
         {
          "year_of_publication": 2016
         },
         {
          "year_of_publication": 2014
         },
         {
          "year_of_publication": 2014
         },
         {
          "year_of_publication": 2016
         },
         {
          "year_of_publication": 2015
         },
         {
          "year_of_publication": 2016
         },
         {
          "year_of_publication": 2015
         },
         {
          "year_of_publication": 2012
         },
         {
          "year_of_publication": 2014
         },
         {
          "year_of_publication": 2013
         },
         {
          "year_of_publication": 2015
         },
         {
          "year_of_publication": 2012
         },
         {
          "year_of_publication": 2013
         },
         {
          "year_of_publication": 2016
         },
         {
          "year_of_publication": 2014
         },
         {
          "year_of_publication": 2016
         },
         {
          "year_of_publication": 2014
         },
         {
          "year_of_publication": 2013
         },
         {
          "year_of_publication": 2014
         },
         {
          "year_of_publication": 2015
         },
         {
          "year_of_publication": 2014
         },
         {
          "year_of_publication": 2015
         },
         {
          "year_of_publication": 2016
         },
         {
          "year_of_publication": 2016
         },
         {
          "year_of_publication": 2013
         },
         {
          "year_of_publication": 2015
         },
         {
          "year_of_publication": 2013
         },
         {
          "year_of_publication": 2015
         },
         {
          "year_of_publication": 2014
         },
         {
          "year_of_publication": 2014
         },
         {
          "year_of_publication": 2015
         },
         {
          "year_of_publication": 2014
         },
         {
          "year_of_publication": 2013
         },
         {
          "year_of_publication": 2016
         },
         {
          "year_of_publication": 2013
         },
         {
          "year_of_publication": 2015
         },
         {
          "year_of_publication": 2016
         },
         {
          "year_of_publication": 2015
         },
         {
          "year_of_publication": 2014
         },
         {
          "year_of_publication": 2013
         },
         {
          "year_of_publication": 2012
         },
         {
          "year_of_publication": 2017
         },
         {
          "year_of_publication": 2014
         },
         {
          "year_of_publication": 2017
         },
         {
          "year_of_publication": 2013
         },
         {
          "year_of_publication": 2016
         },
         {
          "year_of_publication": 2016
         },
         {
          "year_of_publication": 2014
         },
         {
          "year_of_publication": 2013
         },
         {
          "year_of_publication": 2014
         },
         {
          "year_of_publication": 2017
         },
         {
          "year_of_publication": 2014
         },
         {
          "year_of_publication": 2014
         },
         {
          "year_of_publication": 2013
         },
         {
          "year_of_publication": 2014
         },
         {
          "year_of_publication": 2017
         },
         {
          "year_of_publication": 2015
         },
         {
          "year_of_publication": 2015
         },
         {
          "year_of_publication": 2012
         },
         {
          "year_of_publication": 2012
         },
         {
          "year_of_publication": 2016
         },
         {
          "year_of_publication": 2015
         },
         {
          "year_of_publication": 2014
         },
         {
          "year_of_publication": 2015
         },
         {
          "year_of_publication": 2016
         },
         {
          "year_of_publication": 2015
         },
         {
          "year_of_publication": 2018
         },
         {
          "year_of_publication": 2014
         },
         {
          "year_of_publication": 2017
         },
         {
          "year_of_publication": 2015
         },
         {
          "year_of_publication": 2015
         },
         {
          "year_of_publication": 2017
         },
         {
          "year_of_publication": 2014
         },
         {
          "year_of_publication": 2016
         },
         {
          "year_of_publication": 2014
         },
         {
          "year_of_publication": 2015
         },
         {
          "year_of_publication": 2017
         },
         {
          "year_of_publication": 2017
         },
         {
          "year_of_publication": 2015
         },
         {
          "year_of_publication": 2012
         },
         {
          "year_of_publication": 2014
         },
         {
          "year_of_publication": 2012
         },
         {
          "year_of_publication": 2017
         },
         {
          "year_of_publication": 2015
         },
         {
          "year_of_publication": 2015
         },
         {
          "year_of_publication": 2016
         },
         {
          "year_of_publication": 2015
         },
         {
          "year_of_publication": 2017
         },
         {
          "year_of_publication": 2016
         },
         {
          "year_of_publication": 2015
         },
         {
          "year_of_publication": 2015
         },
         {
          "year_of_publication": 2012
         },
         {
          "year_of_publication": 2014
         },
         {
          "year_of_publication": 2017
         },
         {
          "year_of_publication": 2012
         },
         {
          "year_of_publication": 2015
         },
         {
          "year_of_publication": 2015
         },
         {
          "year_of_publication": 2012
         },
         {
          "year_of_publication": 2016
         },
         {
          "year_of_publication": 2013
         },
         {
          "year_of_publication": 2016
         },
         {
          "year_of_publication": 2014
         },
         {
          "year_of_publication": 2012
         },
         {
          "year_of_publication": 2016
         },
         {
          "year_of_publication": 2012
         },
         {
          "year_of_publication": 2015
         },
         {
          "year_of_publication": 2014
         },
         {
          "year_of_publication": 2013
         },
         {
          "year_of_publication": 2014
         },
         {
          "year_of_publication": 2015
         },
         {
          "year_of_publication": 2014
         },
         {
          "year_of_publication": 2015
         },
         {
          "year_of_publication": 2015
         },
         {
          "year_of_publication": 2012
         },
         {
          "year_of_publication": 2016
         },
         {
          "year_of_publication": 2015
         },
         {
          "year_of_publication": 2012
         },
         {
          "year_of_publication": 2014
         },
         {
          "year_of_publication": 2018
         },
         {
          "year_of_publication": 2014
         },
         {
          "year_of_publication": 2014
         },
         {
          "year_of_publication": 2015
         },
         {
          "year_of_publication": 2015
         },
         {
          "year_of_publication": 2016
         },
         {
          "year_of_publication": 2014
         },
         {
          "year_of_publication": 2016
         },
         {
          "year_of_publication": 2015
         },
         {
          "year_of_publication": 2013
         },
         {
          "year_of_publication": 2012
         },
         {
          "year_of_publication": 2014
         },
         {
          "year_of_publication": 2012
         },
         {
          "year_of_publication": 2012
         },
         {
          "year_of_publication": 2015
         },
         {
          "year_of_publication": 2015
         },
         {
          "year_of_publication": 2013
         },
         {
          "year_of_publication": 2016
         },
         {
          "year_of_publication": 2016
         },
         {
          "year_of_publication": 2016
         },
         {
          "year_of_publication": 2014
         },
         {
          "year_of_publication": 2016
         },
         {
          "year_of_publication": 2017
         },
         {
          "year_of_publication": 2014
         },
         {
          "year_of_publication": 2015
         },
         {
          "year_of_publication": 2012
         },
         {
          "year_of_publication": 2017
         },
         {
          "year_of_publication": 2014
         },
         {
          "year_of_publication": 2014
         },
         {
          "year_of_publication": 2016
         },
         {
          "year_of_publication": 2015
         },
         {
          "year_of_publication": 2015
         },
         {
          "year_of_publication": 2016
         },
         {
          "year_of_publication": 2012
         },
         {
          "year_of_publication": 2014
         },
         {
          "year_of_publication": 2014
         },
         {
          "year_of_publication": 2014
         },
         {
          "year_of_publication": 2015
         },
         {
          "year_of_publication": 2014
         },
         {
          "year_of_publication": 2016
         },
         {
          "year_of_publication": 2016
         },
         {
          "year_of_publication": 2015
         },
         {
          "year_of_publication": 2014
         },
         {
          "year_of_publication": 2016
         },
         {
          "year_of_publication": 2015
         },
         {
          "year_of_publication": 2016
         },
         {
          "year_of_publication": 2013
         },
         {
          "year_of_publication": 2016
         },
         {
          "year_of_publication": 2015
         },
         {
          "year_of_publication": 2014
         },
         {
          "year_of_publication": 2018
         },
         {
          "year_of_publication": 2014
         },
         {
          "year_of_publication": 2016
         },
         {
          "year_of_publication": 2013
         },
         {
          "year_of_publication": 2020
         },
         {
          "year_of_publication": 2013
         },
         {
          "year_of_publication": 2016
         },
         {
          "year_of_publication": 2017
         },
         {
          "year_of_publication": 2013
         },
         {
          "year_of_publication": 2014
         },
         {
          "year_of_publication": 2015
         },
         {
          "year_of_publication": 2017
         },
         {
          "year_of_publication": 2014
         },
         {
          "year_of_publication": 2016
         },
         {
          "year_of_publication": 2016
         },
         {
          "year_of_publication": 2012
         },
         {
          "year_of_publication": 2015
         },
         {
          "year_of_publication": 2016
         },
         {
          "year_of_publication": 2014
         },
         {
          "year_of_publication": 2015
         },
         {
          "year_of_publication": 2015
         },
         {
          "year_of_publication": 2013
         },
         {
          "year_of_publication": 2014
         },
         {
          "year_of_publication": 2016
         },
         {
          "year_of_publication": 2013
         },
         {
          "year_of_publication": 2014
         },
         {
          "year_of_publication": 2015
         },
         {
          "year_of_publication": 2014
         },
         {
          "year_of_publication": 2012
         },
         {
          "year_of_publication": 2015
         },
         {
          "year_of_publication": 2014
         },
         {
          "year_of_publication": 2015
         },
         {
          "year_of_publication": 2016
         },
         {
          "year_of_publication": 2017
         },
         {
          "year_of_publication": 2012
         },
         {
          "year_of_publication": 2014
         },
         {
          "year_of_publication": 2014
         },
         {
          "year_of_publication": 2012
         },
         {
          "year_of_publication": 2016
         },
         {
          "year_of_publication": 2014
         },
         {
          "year_of_publication": 2013
         },
         {
          "year_of_publication": 2013
         },
         {
          "year_of_publication": 2013
         },
         {
          "year_of_publication": 2012
         },
         {
          "year_of_publication": 2013
         },
         {
          "year_of_publication": 2016
         },
         {
          "year_of_publication": 2012
         },
         {
          "year_of_publication": 2014
         },
         {
          "year_of_publication": 2013
         },
         {
          "year_of_publication": 2014
         },
         {
          "year_of_publication": 2015
         },
         {
          "year_of_publication": 2015
         },
         {
          "year_of_publication": 2015
         },
         {
          "year_of_publication": 2016
         },
         {
          "year_of_publication": 2015
         },
         {
          "year_of_publication": 2012
         },
         {
          "year_of_publication": 2014
         },
         {
          "year_of_publication": 2015
         },
         {
          "year_of_publication": 2016
         },
         {
          "year_of_publication": 2014
         },
         {
          "year_of_publication": 2014
         },
         {
          "year_of_publication": 2015
         },
         {
          "year_of_publication": 2017
         },
         {
          "year_of_publication": 2013
         },
         {
          "year_of_publication": 2017
         },
         {
          "year_of_publication": 2014
         },
         {
          "year_of_publication": 2015
         },
         {
          "year_of_publication": 2013
         },
         {
          "year_of_publication": 2015
         },
         {
          "year_of_publication": 2015
         },
         {
          "year_of_publication": 2012
         },
         {
          "year_of_publication": 2013
         },
         {
          "year_of_publication": 2015
         },
         {
          "year_of_publication": 2012
         },
         {
          "year_of_publication": 2014
         },
         {
          "year_of_publication": 2013
         },
         {
          "year_of_publication": 2013
         },
         {
          "year_of_publication": 2015
         },
         {
          "year_of_publication": 2015
         },
         {
          "year_of_publication": 2015
         },
         {
          "year_of_publication": 2016
         },
         {
          "year_of_publication": 2016
         },
         {
          "year_of_publication": 2014
         },
         {
          "year_of_publication": 2015
         },
         {
          "year_of_publication": 2014
         },
         {
          "year_of_publication": 2013
         },
         {
          "year_of_publication": 2015
         },
         {
          "year_of_publication": 2014
         },
         {
          "year_of_publication": 2013
         },
         {
          "year_of_publication": 2017
         },
         {
          "year_of_publication": 2012
         },
         {
          "year_of_publication": 2012
         },
         {
          "year_of_publication": 2012
         },
         {
          "year_of_publication": 2015
         },
         {
          "year_of_publication": 2012
         },
         {
          "year_of_publication": 2013
         },
         {
          "year_of_publication": 2016
         },
         {
          "year_of_publication": 2017
         },
         {
          "year_of_publication": 2015
         },
         {
          "year_of_publication": 2015
         },
         {
          "year_of_publication": 2014
         },
         {
          "year_of_publication": 2013
         },
         {
          "year_of_publication": 2014
         },
         {
          "year_of_publication": 2017
         },
         {
          "year_of_publication": 2012
         },
         {
          "year_of_publication": 2013
         },
         {
          "year_of_publication": 2014
         },
         {
          "year_of_publication": 2016
         },
         {
          "year_of_publication": 2015
         },
         {
          "year_of_publication": 2015
         },
         {
          "year_of_publication": 2013
         },
         {
          "year_of_publication": 2015
         },
         {
          "year_of_publication": 2015
         },
         {
          "year_of_publication": 2014
         },
         {
          "year_of_publication": 2016
         },
         {
          "year_of_publication": 2017
         },
         {
          "year_of_publication": 2015
         },
         {
          "year_of_publication": 2015
         },
         {
          "year_of_publication": 2013
         },
         {
          "year_of_publication": 2015
         },
         {
          "year_of_publication": 2014
         },
         {
          "year_of_publication": 2014
         },
         {
          "year_of_publication": 2015
         },
         {
          "year_of_publication": 2014
         },
         {
          "year_of_publication": 2013
         },
         {
          "year_of_publication": 2013
         },
         {
          "year_of_publication": 2014
         },
         {
          "year_of_publication": 2013
         },
         {
          "year_of_publication": 2015
         },
         {
          "year_of_publication": 2013
         },
         {
          "year_of_publication": 2014
         },
         {
          "year_of_publication": 2015
         },
         {
          "year_of_publication": 2015
         },
         {
          "year_of_publication": 2014
         },
         {
          "year_of_publication": 2013
         },
         {
          "year_of_publication": 2014
         },
         {
          "year_of_publication": 2015
         },
         {
          "year_of_publication": 2014
         },
         {
          "year_of_publication": 2015
         },
         {
          "year_of_publication": 2014
         },
         {
          "year_of_publication": 2016
         },
         {
          "year_of_publication": 2016
         },
         {
          "year_of_publication": 2015
         },
         {
          "year_of_publication": 2014
         },
         {
          "year_of_publication": 2012
         },
         {
          "year_of_publication": 2018
         },
         {
          "year_of_publication": 2016
         },
         {
          "year_of_publication": 2013
         },
         {
          "year_of_publication": 2013
         },
         {
          "year_of_publication": 2015
         },
         {
          "year_of_publication": 2016
         },
         {
          "year_of_publication": 2013
         },
         {
          "year_of_publication": 2014
         },
         {
          "year_of_publication": 2015
         },
         {
          "year_of_publication": 2015
         },
         {
          "year_of_publication": 2015
         },
         {
          "year_of_publication": 2016
         },
         {
          "year_of_publication": 2016
         },
         {
          "year_of_publication": 2013
         },
         {
          "year_of_publication": 2016
         },
         {
          "year_of_publication": 2017
         },
         {
          "year_of_publication": 2015
         },
         {
          "year_of_publication": 2013
         },
         {
          "year_of_publication": 2015
         },
         {
          "year_of_publication": 2016
         },
         {
          "year_of_publication": 2015
         },
         {
          "year_of_publication": 2015
         },
         {
          "year_of_publication": 2015
         },
         {
          "year_of_publication": 2013
         },
         {
          "year_of_publication": 2015
         },
         {
          "year_of_publication": 2012
         },
         {
          "year_of_publication": 2014
         },
         {
          "year_of_publication": 2018
         },
         {
          "year_of_publication": 2012
         },
         {
          "year_of_publication": 2014
         },
         {
          "year_of_publication": 2016
         },
         {
          "year_of_publication": 2015
         },
         {
          "year_of_publication": 2015
         },
         {
          "year_of_publication": 2013
         },
         {
          "year_of_publication": 2012
         },
         {
          "year_of_publication": 2012
         },
         {
          "year_of_publication": 2013
         },
         {
          "year_of_publication": 2016
         },
         {
          "year_of_publication": 2013
         },
         {
          "year_of_publication": 2014
         },
         {
          "year_of_publication": 2014
         },
         {
          "year_of_publication": 2014
         },
         {
          "year_of_publication": 2013
         },
         {
          "year_of_publication": 2012
         },
         {
          "year_of_publication": 2016
         },
         {
          "year_of_publication": 2016
         },
         {
          "year_of_publication": 2017
         },
         {
          "year_of_publication": 2013
         },
         {
          "year_of_publication": 2015
         },
         {
          "year_of_publication": 2015
         },
         {
          "year_of_publication": 2014
         },
         {
          "year_of_publication": 2014
         },
         {
          "year_of_publication": 2015
         },
         {
          "year_of_publication": 2015
         },
         {
          "year_of_publication": 2012
         },
         {
          "year_of_publication": 2016
         },
         {
          "year_of_publication": 2014
         },
         {
          "year_of_publication": 2013
         },
         {
          "year_of_publication": 2015
         },
         {
          "year_of_publication": 2013
         },
         {
          "year_of_publication": 2013
         },
         {
          "year_of_publication": 2015
         },
         {
          "year_of_publication": 2017
         },
         {
          "year_of_publication": 2014
         },
         {
          "year_of_publication": 2016
         },
         {
          "year_of_publication": 2014
         },
         {
          "year_of_publication": 2015
         },
         {
          "year_of_publication": 2015
         },
         {
          "year_of_publication": 2014
         },
         {
          "year_of_publication": 2015
         },
         {
          "year_of_publication": 2014
         },
         {
          "year_of_publication": 2016
         },
         {
          "year_of_publication": 2016
         },
         {
          "year_of_publication": 2017
         },
         {
          "year_of_publication": 2015
         },
         {
          "year_of_publication": 2015
         },
         {
          "year_of_publication": 2014
         },
         {
          "year_of_publication": 2015
         },
         {
          "year_of_publication": 2012
         },
         {
          "year_of_publication": 2012
         },
         {
          "year_of_publication": 2016
         },
         {
          "year_of_publication": 2015
         },
         {
          "year_of_publication": 2017
         },
         {
          "year_of_publication": 2015
         },
         {
          "year_of_publication": 2014
         },
         {
          "year_of_publication": 2014
         },
         {
          "year_of_publication": 2014
         },
         {
          "year_of_publication": 2014
         },
         {
          "year_of_publication": 2015
         },
         {
          "year_of_publication": 2012
         },
         {
          "year_of_publication": 2012
         },
         {
          "year_of_publication": 2015
         },
         {
          "year_of_publication": 2016
         },
         {
          "year_of_publication": 2014
         },
         {
          "year_of_publication": 2014
         },
         {
          "year_of_publication": 2013
         },
         {
          "year_of_publication": 2012
         },
         {
          "year_of_publication": 2014
         },
         {
          "year_of_publication": 2015
         },
         {
          "year_of_publication": 2017
         },
         {
          "year_of_publication": 2016
         },
         {
          "year_of_publication": 2013
         },
         {
          "year_of_publication": 2015
         },
         {
          "year_of_publication": 2016
         },
         {
          "year_of_publication": 2015
         },
         {
          "year_of_publication": 2014
         },
         {
          "year_of_publication": 2012
         },
         {
          "year_of_publication": 2014
         },
         {
          "year_of_publication": 2015
         },
         {
          "year_of_publication": 2014
         },
         {
          "year_of_publication": 2017
         },
         {
          "year_of_publication": 2017
         },
         {
          "year_of_publication": 2014
         },
         {
          "year_of_publication": 2012
         },
         {
          "year_of_publication": 2015
         },
         {
          "year_of_publication": 2015
         },
         {
          "year_of_publication": 2016
         },
         {
          "year_of_publication": 2015
         },
         {
          "year_of_publication": 2015
         },
         {
          "year_of_publication": 2016
         },
         {
          "year_of_publication": 2016
         },
         {
          "year_of_publication": 2017
         },
         {
          "year_of_publication": 2012
         },
         {
          "year_of_publication": 2014
         },
         {
          "year_of_publication": 2013
         },
         {
          "year_of_publication": 2014
         },
         {
          "year_of_publication": 2015
         },
         {
          "year_of_publication": 2014
         },
         {
          "year_of_publication": 2017
         },
         {
          "year_of_publication": 2015
         },
         {
          "year_of_publication": 2012
         },
         {
          "year_of_publication": 2015
         },
         {
          "year_of_publication": 2015
         },
         {
          "year_of_publication": 2016
         },
         {
          "year_of_publication": 2014
         },
         {
          "year_of_publication": 2015
         },
         {
          "year_of_publication": 2016
         },
         {
          "year_of_publication": 2016
         },
         {
          "year_of_publication": 2012
         },
         {
          "year_of_publication": 2014
         },
         {
          "year_of_publication": 2015
         },
         {
          "year_of_publication": 2014
         },
         {
          "year_of_publication": 2012
         },
         {
          "year_of_publication": 2014
         },
         {
          "year_of_publication": 2014
         },
         {
          "year_of_publication": 2013
         },
         {
          "year_of_publication": 2017
         },
         {
          "year_of_publication": 2012
         },
         {
          "year_of_publication": 2015
         },
         {
          "year_of_publication": 2018
         },
         {
          "year_of_publication": 2013
         },
         {
          "year_of_publication": 2014
         },
         {
          "year_of_publication": 2014
         },
         {
          "year_of_publication": 2016
         },
         {
          "year_of_publication": 2012
         },
         {
          "year_of_publication": 2015
         },
         {
          "year_of_publication": 2014
         },
         {
          "year_of_publication": 2015
         },
         {
          "year_of_publication": 2017
         },
         {
          "year_of_publication": 2016
         },
         {
          "year_of_publication": 2013
         },
         {
          "year_of_publication": 2014
         },
         {
          "year_of_publication": 2012
         },
         {
          "year_of_publication": 2014
         },
         {
          "year_of_publication": 2013
         },
         {
          "year_of_publication": 2015
         },
         {
          "year_of_publication": 2015
         },
         {
          "year_of_publication": 2014
         },
         {
          "year_of_publication": 2013
         },
         {
          "year_of_publication": 2016
         },
         {
          "year_of_publication": 2013
         },
         {
          "year_of_publication": 2014
         },
         {
          "year_of_publication": 2013
         },
         {
          "year_of_publication": 2017
         },
         {
          "year_of_publication": 2016
         },
         {
          "year_of_publication": 2015
         },
         {
          "year_of_publication": 2015
         },
         {
          "year_of_publication": 2016
         },
         {
          "year_of_publication": 2016
         },
         {
          "year_of_publication": 2014
         },
         {
          "year_of_publication": 2014
         },
         {
          "year_of_publication": 2014
         },
         {
          "year_of_publication": 2014
         },
         {
          "year_of_publication": 2016
         },
         {
          "year_of_publication": 2014
         },
         {
          "year_of_publication": 2012
         },
         {
          "year_of_publication": 2013
         },
         {
          "year_of_publication": 2017
         },
         {
          "year_of_publication": 2015
         },
         {
          "year_of_publication": 2015
         },
         {
          "year_of_publication": 2016
         },
         {
          "year_of_publication": 2013
         },
         {
          "year_of_publication": 2012
         },
         {
          "year_of_publication": 2012
         },
         {
          "year_of_publication": 2018
         },
         {
          "year_of_publication": 2012
         },
         {
          "year_of_publication": 2017
         },
         {
          "year_of_publication": 2014
         },
         {
          "year_of_publication": 2015
         },
         {
          "year_of_publication": 2016
         },
         {
          "year_of_publication": 2016
         },
         {
          "year_of_publication": 2015
         },
         {
          "year_of_publication": 2014
         },
         {
          "year_of_publication": 2015
         },
         {
          "year_of_publication": 2015
         },
         {
          "year_of_publication": 2015
         },
         {
          "year_of_publication": 2013
         },
         {
          "year_of_publication": 2016
         },
         {
          "year_of_publication": 2015
         },
         {
          "year_of_publication": 2015
         },
         {
          "year_of_publication": 2014
         },
         {
          "year_of_publication": 2017
         },
         {
          "year_of_publication": 2014
         },
         {
          "year_of_publication": 2014
         },
         {
          "year_of_publication": 2015
         },
         {
          "year_of_publication": 2012
         },
         {
          "year_of_publication": 2017
         },
         {
          "year_of_publication": 2012
         },
         {
          "year_of_publication": 2015
         },
         {
          "year_of_publication": 2012
         },
         {
          "year_of_publication": 2013
         },
         {
          "year_of_publication": 2014
         },
         {
          "year_of_publication": 2015
         },
         {
          "year_of_publication": 2014
         },
         {
          "year_of_publication": 2016
         },
         {
          "year_of_publication": 2016
         },
         {
          "year_of_publication": 2017
         },
         {
          "year_of_publication": 2013
         },
         {
          "year_of_publication": 2012
         },
         {
          "year_of_publication": 2016
         },
         {
          "year_of_publication": 2015
         },
         {
          "year_of_publication": 2013
         },
         {
          "year_of_publication": 2014
         },
         {
          "year_of_publication": 2015
         },
         {
          "year_of_publication": 2013
         },
         {
          "year_of_publication": 2014
         },
         {
          "year_of_publication": 2014
         },
         {
          "year_of_publication": 2015
         },
         {
          "year_of_publication": 2016
         },
         {
          "year_of_publication": 2012
         },
         {
          "year_of_publication": 2015
         },
         {
          "year_of_publication": 2016
         },
         {
          "year_of_publication": 2015
         },
         {
          "year_of_publication": 2015
         },
         {
          "year_of_publication": 2014
         },
         {
          "year_of_publication": 2013
         },
         {
          "year_of_publication": 2014
         },
         {
          "year_of_publication": 2016
         },
         {
          "year_of_publication": 2014
         },
         {
          "year_of_publication": 2013
         },
         {
          "year_of_publication": 2015
         },
         {
          "year_of_publication": 2015
         },
         {
          "year_of_publication": 2015
         },
         {
          "year_of_publication": 2015
         },
         {
          "year_of_publication": 2016
         },
         {
          "year_of_publication": 2013
         },
         {
          "year_of_publication": 2015
         },
         {
          "year_of_publication": 2018
         },
         {
          "year_of_publication": 2017
         },
         {
          "year_of_publication": 2016
         },
         {
          "year_of_publication": 2015
         },
         {
          "year_of_publication": 2015
         },
         {
          "year_of_publication": 2014
         },
         {
          "year_of_publication": 2016
         },
         {
          "year_of_publication": 2014
         },
         {
          "year_of_publication": 2013
         },
         {
          "year_of_publication": 2022
         },
         {
          "year_of_publication": 2016
         },
         {
          "year_of_publication": 2015
         },
         {
          "year_of_publication": 2016
         },
         {
          "year_of_publication": 2015
         },
         {
          "year_of_publication": 2015
         },
         {
          "year_of_publication": 2013
         },
         {
          "year_of_publication": 2016
         },
         {
          "year_of_publication": 2016
         },
         {
          "year_of_publication": 2016
         },
         {
          "year_of_publication": 2012
         },
         {
          "year_of_publication": 2014
         },
         {
          "year_of_publication": 2012
         },
         {
          "year_of_publication": 2014
         },
         {
          "year_of_publication": 2015
         },
         {
          "year_of_publication": 2016
         },
         {
          "year_of_publication": 2014
         },
         {
          "year_of_publication": 2013
         },
         {
          "year_of_publication": 2013
         },
         {
          "year_of_publication": 2014
         },
         {
          "year_of_publication": 2014
         },
         {
          "year_of_publication": 2014
         },
         {
          "year_of_publication": 2018
         },
         {
          "year_of_publication": 2021
         },
         {
          "year_of_publication": 2017
         },
         {
          "year_of_publication": 2014
         },
         {
          "year_of_publication": 2017
         },
         {
          "year_of_publication": 2015
         },
         {
          "year_of_publication": 2012
         },
         {
          "year_of_publication": 2018
         },
         {
          "year_of_publication": 2015
         },
         {
          "year_of_publication": 2015
         },
         {
          "year_of_publication": 2016
         },
         {
          "year_of_publication": 2013
         },
         {
          "year_of_publication": 2015
         },
         {
          "year_of_publication": 2015
         },
         {
          "year_of_publication": 2015
         },
         {
          "year_of_publication": 2017
         },
         {
          "year_of_publication": 2015
         },
         {
          "year_of_publication": 2017
         },
         {
          "year_of_publication": 2014
         },
         {
          "year_of_publication": 2015
         },
         {
          "year_of_publication": 2012
         },
         {
          "year_of_publication": 2015
         },
         {
          "year_of_publication": 2015
         },
         {
          "year_of_publication": 2013
         },
         {
          "year_of_publication": 2014
         },
         {
          "year_of_publication": 2014
         },
         {
          "year_of_publication": 2012
         },
         {
          "year_of_publication": 2012
         },
         {
          "year_of_publication": 2012
         },
         {
          "year_of_publication": 2014
         },
         {
          "year_of_publication": 2013
         },
         {
          "year_of_publication": 2014
         },
         {
          "year_of_publication": 2012
         },
         {
          "year_of_publication": 2017
         },
         {
          "year_of_publication": 2017
         },
         {
          "year_of_publication": 2013
         },
         {
          "year_of_publication": 2015
         },
         {
          "year_of_publication": 2017
         },
         {
          "year_of_publication": 2012
         },
         {
          "year_of_publication": 2014
         },
         {
          "year_of_publication": 2013
         },
         {
          "year_of_publication": 2015
         },
         {
          "year_of_publication": 2015
         },
         {
          "year_of_publication": 2017
         },
         {
          "year_of_publication": 2017
         },
         {
          "year_of_publication": 2016
         },
         {
          "year_of_publication": 2014
         },
         {
          "year_of_publication": 2015
         },
         {
          "year_of_publication": 2015
         },
         {
          "year_of_publication": 2016
         },
         {
          "year_of_publication": 2014
         },
         {
          "year_of_publication": 2014
         },
         {
          "year_of_publication": 2013
         },
         {
          "year_of_publication": 2014
         },
         {
          "year_of_publication": 2015
         },
         {
          "year_of_publication": 2013
         },
         {
          "year_of_publication": 2014
         },
         {
          "year_of_publication": 2015
         },
         {
          "year_of_publication": 2016
         },
         {
          "year_of_publication": 2016
         },
         {
          "year_of_publication": 2012
         },
         {
          "year_of_publication": 2015
         },
         {
          "year_of_publication": 2017
         },
         {
          "year_of_publication": 2015
         },
         {
          "year_of_publication": 2013
         },
         {
          "year_of_publication": 2015
         },
         {
          "year_of_publication": 2013
         },
         {
          "year_of_publication": 2015
         },
         {
          "year_of_publication": 2014
         },
         {
          "year_of_publication": 2014
         },
         {
          "year_of_publication": 2012
         },
         {
          "year_of_publication": 2014
         },
         {
          "year_of_publication": 2014
         },
         {
          "year_of_publication": 2015
         },
         {
          "year_of_publication": 2015
         },
         {
          "year_of_publication": 2013
         },
         {
          "year_of_publication": 2012
         },
         {
          "year_of_publication": 2017
         },
         {
          "year_of_publication": 2014
         },
         {
          "year_of_publication": 2013
         },
         {
          "year_of_publication": 2016
         },
         {
          "year_of_publication": 2014
         },
         {
          "year_of_publication": 2013
         },
         {
          "year_of_publication": 2014
         },
         {
          "year_of_publication": 2017
         },
         {
          "year_of_publication": 2012
         },
         {
          "year_of_publication": 2012
         },
         {
          "year_of_publication": 2013
         },
         {
          "year_of_publication": 2015
         },
         {
          "year_of_publication": 2015
         },
         {
          "year_of_publication": 2015
         },
         {
          "year_of_publication": 2014
         },
         {
          "year_of_publication": 2016
         },
         {
          "year_of_publication": 2014
         },
         {
          "year_of_publication": 2018
         },
         {
          "year_of_publication": 2015
         },
         {
          "year_of_publication": 2016
         },
         {
          "year_of_publication": 2017
         },
         {
          "year_of_publication": 2014
         },
         {
          "year_of_publication": 2014
         },
         {
          "year_of_publication": 2014
         },
         {
          "year_of_publication": 2017
         },
         {
          "year_of_publication": 2013
         },
         {
          "year_of_publication": 2015
         },
         {
          "year_of_publication": 2015
         },
         {
          "year_of_publication": 2013
         },
         {
          "year_of_publication": 2013
         },
         {
          "year_of_publication": 2017
         },
         {
          "year_of_publication": 2014
         },
         {
          "year_of_publication": 2013
         },
         {
          "year_of_publication": 2013
         },
         {
          "year_of_publication": 2016
         },
         {
          "year_of_publication": 2015
         },
         {
          "year_of_publication": 2013
         },
         {
          "year_of_publication": 2015
         },
         {
          "year_of_publication": 2016
         },
         {
          "year_of_publication": 2015
         },
         {
          "year_of_publication": 2015
         },
         {
          "year_of_publication": 2016
         },
         {
          "year_of_publication": 2012
         },
         {
          "year_of_publication": 2015
         },
         {
          "year_of_publication": 2015
         },
         {
          "year_of_publication": 2017
         },
         {
          "year_of_publication": 2015
         },
         {
          "year_of_publication": 2015
         },
         {
          "year_of_publication": 2014
         },
         {
          "year_of_publication": 2015
         },
         {
          "year_of_publication": 2014
         },
         {
          "year_of_publication": 2013
         },
         {
          "year_of_publication": 2015
         },
         {
          "year_of_publication": 2014
         },
         {
          "year_of_publication": 2014
         },
         {
          "year_of_publication": 2014
         },
         {
          "year_of_publication": 2012
         },
         {
          "year_of_publication": 2012
         },
         {
          "year_of_publication": 2016
         },
         {
          "year_of_publication": 2013
         },
         {
          "year_of_publication": 2015
         },
         {
          "year_of_publication": 2013
         },
         {
          "year_of_publication": 2014
         },
         {
          "year_of_publication": 2016
         },
         {
          "year_of_publication": 2014
         },
         {
          "year_of_publication": 2014
         },
         {
          "year_of_publication": 2014
         },
         {
          "year_of_publication": 2015
         },
         {
          "year_of_publication": 2014
         },
         {
          "year_of_publication": 2017
         },
         {
          "year_of_publication": 2016
         },
         {
          "year_of_publication": 2015
         },
         {
          "year_of_publication": 2012
         },
         {
          "year_of_publication": 2019
         },
         {
          "year_of_publication": 2015
         },
         {
          "year_of_publication": 2015
         },
         {
          "year_of_publication": 2015
         },
         {
          "year_of_publication": 2013
         },
         {
          "year_of_publication": 2013
         },
         {
          "year_of_publication": 2015
         },
         {
          "year_of_publication": 2017
         },
         {
          "year_of_publication": 2018
         },
         {
          "year_of_publication": 2016
         },
         {
          "year_of_publication": 2014
         },
         {
          "year_of_publication": 2014
         },
         {
          "year_of_publication": 2013
         },
         {
          "year_of_publication": 2015
         },
         {
          "year_of_publication": 2016
         },
         {
          "year_of_publication": 2014
         },
         {
          "year_of_publication": 2015
         },
         {
          "year_of_publication": 2014
         },
         {
          "year_of_publication": 2013
         },
         {
          "year_of_publication": 2014
         },
         {
          "year_of_publication": 2014
         },
         {
          "year_of_publication": 2015
         },
         {
          "year_of_publication": 2013
         },
         {
          "year_of_publication": 2017
         },
         {
          "year_of_publication": 2016
         },
         {
          "year_of_publication": 2015
         },
         {
          "year_of_publication": 2017
         },
         {
          "year_of_publication": 2015
         },
         {
          "year_of_publication": 2014
         },
         {
          "year_of_publication": 2016
         },
         {
          "year_of_publication": 2015
         },
         {
          "year_of_publication": 2014
         },
         {
          "year_of_publication": 2016
         },
         {
          "year_of_publication": 2014
         },
         {
          "year_of_publication": 2013
         },
         {
          "year_of_publication": 2014
         },
         {
          "year_of_publication": 2016
         },
         {
          "year_of_publication": 2016
         },
         {
          "year_of_publication": 2014
         },
         {
          "year_of_publication": 2017
         },
         {
          "year_of_publication": 2016
         },
         {
          "year_of_publication": 2014
         },
         {
          "year_of_publication": 2015
         },
         {
          "year_of_publication": 2014
         },
         {
          "year_of_publication": 2014
         },
         {
          "year_of_publication": 2013
         },
         {
          "year_of_publication": 2015
         },
         {
          "year_of_publication": 2015
         },
         {
          "year_of_publication": 2016
         },
         {
          "year_of_publication": 2014
         },
         {
          "year_of_publication": 2015
         },
         {
          "year_of_publication": 2014
         },
         {
          "year_of_publication": 2015
         },
         {
          "year_of_publication": 2016
         },
         {
          "year_of_publication": 2017
         },
         {
          "year_of_publication": 2014
         },
         {
          "year_of_publication": 2012
         },
         {
          "year_of_publication": 2013
         },
         {
          "year_of_publication": 2014
         },
         {
          "year_of_publication": 2016
         },
         {
          "year_of_publication": 2014
         },
         {
          "year_of_publication": 2015
         },
         {
          "year_of_publication": 2014
         },
         {
          "year_of_publication": 2014
         },
         {
          "year_of_publication": 2015
         },
         {
          "year_of_publication": 2016
         },
         {
          "year_of_publication": 2014
         },
         {
          "year_of_publication": 2012
         },
         {
          "year_of_publication": 2013
         },
         {
          "year_of_publication": 2015
         },
         {
          "year_of_publication": 2014
         },
         {
          "year_of_publication": 2012
         },
         {
          "year_of_publication": 2014
         },
         {
          "year_of_publication": 2015
         },
         {
          "year_of_publication": 2020
         },
         {
          "year_of_publication": 2015
         },
         {
          "year_of_publication": 2015
         },
         {
          "year_of_publication": 2015
         },
         {
          "year_of_publication": 2013
         },
         {
          "year_of_publication": 2012
         },
         {
          "year_of_publication": 2012
         },
         {
          "year_of_publication": 2017
         },
         {
          "year_of_publication": 2016
         },
         {
          "year_of_publication": 2015
         },
         {
          "year_of_publication": 2014
         },
         {
          "year_of_publication": 2018
         },
         {
          "year_of_publication": 2013
         },
         {
          "year_of_publication": 2016
         },
         {
          "year_of_publication": 2014
         },
         {
          "year_of_publication": 2012
         },
         {
          "year_of_publication": 2012
         },
         {
          "year_of_publication": 2014
         },
         {
          "year_of_publication": 2013
         },
         {
          "year_of_publication": 2016
         },
         {
          "year_of_publication": 2014
         },
         {
          "year_of_publication": 2013
         },
         {
          "year_of_publication": 2015
         },
         {
          "year_of_publication": 2013
         },
         {
          "year_of_publication": 2014
         },
         {
          "year_of_publication": 2014
         },
         {
          "year_of_publication": 2020
         },
         {
          "year_of_publication": 2017
         },
         {
          "year_of_publication": 2015
         },
         {
          "year_of_publication": 2014
         },
         {
          "year_of_publication": 2016
         },
         {
          "year_of_publication": 2014
         },
         {
          "year_of_publication": 2012
         },
         {
          "year_of_publication": 2015
         },
         {
          "year_of_publication": 2017
         },
         {
          "year_of_publication": 2015
         },
         {
          "year_of_publication": 2015
         },
         {
          "year_of_publication": 2015
         },
         {
          "year_of_publication": 2013
         },
         {
          "year_of_publication": 2015
         },
         {
          "year_of_publication": 2015
         },
         {
          "year_of_publication": 2016
         },
         {
          "year_of_publication": 2019
         },
         {
          "year_of_publication": 2015
         },
         {
          "year_of_publication": 2015
         },
         {
          "year_of_publication": 2016
         },
         {
          "year_of_publication": 2014
         },
         {
          "year_of_publication": 2013
         },
         {
          "year_of_publication": 2015
         },
         {
          "year_of_publication": 2015
         },
         {
          "year_of_publication": 2013
         },
         {
          "year_of_publication": 2015
         },
         {
          "year_of_publication": 2013
         },
         {
          "year_of_publication": 2016
         },
         {
          "year_of_publication": 2015
         },
         {
          "year_of_publication": 2016
         },
         {
          "year_of_publication": 2014
         },
         {
          "year_of_publication": 2012
         },
         {
          "year_of_publication": 2013
         },
         {
          "year_of_publication": 2014
         },
         {
          "year_of_publication": 2017
         },
         {
          "year_of_publication": 2014
         },
         {
          "year_of_publication": 2013
         },
         {
          "year_of_publication": 2015
         },
         {
          "year_of_publication": 2014
         },
         {
          "year_of_publication": 2014
         },
         {
          "year_of_publication": 2012
         },
         {
          "year_of_publication": 2013
         },
         {
          "year_of_publication": 2013
         },
         {
          "year_of_publication": 2016
         },
         {
          "year_of_publication": 2015
         },
         {
          "year_of_publication": 2014
         },
         {
          "year_of_publication": 2014
         },
         {
          "year_of_publication": 2012
         },
         {
          "year_of_publication": 2016
         },
         {
          "year_of_publication": 2016
         },
         {
          "year_of_publication": 2015
         },
         {
          "year_of_publication": 2015
         },
         {
          "year_of_publication": 2015
         },
         {
          "year_of_publication": 2014
         },
         {
          "year_of_publication": 2014
         },
         {
          "year_of_publication": 2018
         },
         {
          "year_of_publication": 2012
         },
         {
          "year_of_publication": 2014
         },
         {
          "year_of_publication": 2013
         },
         {
          "year_of_publication": 2014
         },
         {
          "year_of_publication": 2013
         },
         {
          "year_of_publication": 2016
         },
         {
          "year_of_publication": 2016
         },
         {
          "year_of_publication": 2016
         },
         {
          "year_of_publication": 2015
         },
         {
          "year_of_publication": 2016
         },
         {
          "year_of_publication": 2013
         },
         {
          "year_of_publication": 2018
         },
         {
          "year_of_publication": 2013
         },
         {
          "year_of_publication": 2015
         },
         {
          "year_of_publication": 2012
         },
         {
          "year_of_publication": 2015
         },
         {
          "year_of_publication": 2014
         },
         {
          "year_of_publication": 2016
         },
         {
          "year_of_publication": 2015
         },
         {
          "year_of_publication": 2014
         },
         {
          "year_of_publication": 2016
         },
         {
          "year_of_publication": 2012
         },
         {
          "year_of_publication": 2014
         },
         {
          "year_of_publication": 2020
         },
         {
          "year_of_publication": 2012
         },
         {
          "year_of_publication": 2013
         },
         {
          "year_of_publication": 2015
         },
         {
          "year_of_publication": 2015
         },
         {
          "year_of_publication": 2016
         },
         {
          "year_of_publication": 2012
         },
         {
          "year_of_publication": 2014
         },
         {
          "year_of_publication": 2020
         },
         {
          "year_of_publication": 2013
         },
         {
          "year_of_publication": 2014
         },
         {
          "year_of_publication": 2014
         },
         {
          "year_of_publication": 2016
         },
         {
          "year_of_publication": 2016
         },
         {
          "year_of_publication": 2014
         },
         {
          "year_of_publication": 2014
         },
         {
          "year_of_publication": 2017
         },
         {
          "year_of_publication": 2016
         },
         {
          "year_of_publication": 2017
         },
         {
          "year_of_publication": 2016
         },
         {
          "year_of_publication": 2015
         },
         {
          "year_of_publication": 2015
         },
         {
          "year_of_publication": 2015
         },
         {
          "year_of_publication": 2013
         },
         {
          "year_of_publication": 2015
         },
         {
          "year_of_publication": 2015
         },
         {
          "year_of_publication": 2013
         },
         {
          "year_of_publication": 2015
         },
         {
          "year_of_publication": 2015
         },
         {
          "year_of_publication": 2017
         },
         {
          "year_of_publication": 2015
         },
         {
          "year_of_publication": 2014
         },
         {
          "year_of_publication": 2015
         },
         {
          "year_of_publication": 2014
         },
         {
          "year_of_publication": 2016
         },
         {
          "year_of_publication": 2015
         },
         {
          "year_of_publication": 2015
         },
         {
          "year_of_publication": 2016
         },
         {
          "year_of_publication": 2017
         },
         {
          "year_of_publication": 2013
         },
         {
          "year_of_publication": 2014
         },
         {
          "year_of_publication": 2012
         },
         {
          "year_of_publication": 2012
         },
         {
          "year_of_publication": 2013
         },
         {
          "year_of_publication": 2013
         },
         {
          "year_of_publication": 2014
         },
         {
          "year_of_publication": 2012
         },
         {
          "year_of_publication": 2015
         },
         {
          "year_of_publication": 2015
         },
         {
          "year_of_publication": 2015
         },
         {
          "year_of_publication": 2014
         },
         {
          "year_of_publication": 2014
         },
         {
          "year_of_publication": 2016
         },
         {
          "year_of_publication": 2014
         },
         {
          "year_of_publication": 2016
         },
         {
          "year_of_publication": 2014
         },
         {
          "year_of_publication": 2015
         },
         {
          "year_of_publication": 2016
         },
         {
          "year_of_publication": 2014
         },
         {
          "year_of_publication": 2014
         },
         {
          "year_of_publication": 2015
         },
         {
          "year_of_publication": 2017
         },
         {
          "year_of_publication": 2016
         },
         {
          "year_of_publication": 2017
         },
         {
          "year_of_publication": 2015
         },
         {
          "year_of_publication": 2015
         },
         {
          "year_of_publication": 2012
         },
         {
          "year_of_publication": 2014
         },
         {
          "year_of_publication": 2013
         },
         {
          "year_of_publication": 2014
         },
         {
          "year_of_publication": 2016
         },
         {
          "year_of_publication": 2014
         },
         {
          "year_of_publication": 2014
         },
         {
          "year_of_publication": 2014
         },
         {
          "year_of_publication": 2012
         },
         {
          "year_of_publication": 2016
         },
         {
          "year_of_publication": 2015
         },
         {
          "year_of_publication": 2014
         },
         {
          "year_of_publication": 2014
         },
         {
          "year_of_publication": 2014
         },
         {
          "year_of_publication": 2017
         },
         {
          "year_of_publication": 2015
         },
         {
          "year_of_publication": 2015
         },
         {
          "year_of_publication": 2016
         },
         {
          "year_of_publication": 2012
         },
         {
          "year_of_publication": 2017
         },
         {
          "year_of_publication": 2015
         },
         {
          "year_of_publication": 2014
         },
         {
          "year_of_publication": 2015
         },
         {
          "year_of_publication": 2016
         },
         {
          "year_of_publication": 2014
         },
         {
          "year_of_publication": 2016
         },
         {
          "year_of_publication": 2015
         },
         {
          "year_of_publication": 2016
         },
         {
          "year_of_publication": 2015
         },
         {
          "year_of_publication": 2012
         },
         {
          "year_of_publication": 2016
         },
         {
          "year_of_publication": 2013
         },
         {
          "year_of_publication": 2018
         },
         {
          "year_of_publication": 2014
         },
         {
          "year_of_publication": 2021
         },
         {
          "year_of_publication": 2012
         },
         {
          "year_of_publication": 2014
         },
         {
          "year_of_publication": 2014
         },
         {
          "year_of_publication": 2017
         },
         {
          "year_of_publication": 2015
         },
         {
          "year_of_publication": 2014
         },
         {
          "year_of_publication": 2017
         },
         {
          "year_of_publication": 2014
         },
         {
          "year_of_publication": 2014
         },
         {
          "year_of_publication": 2016
         },
         {
          "year_of_publication": 2013
         },
         {
          "year_of_publication": 2020
         },
         {
          "year_of_publication": 2014
         },
         {
          "year_of_publication": 2014
         },
         {
          "year_of_publication": 2016
         },
         {
          "year_of_publication": 2017
         },
         {
          "year_of_publication": 2014
         },
         {
          "year_of_publication": 2017
         },
         {
          "year_of_publication": 2013
         },
         {
          "year_of_publication": 2016
         },
         {
          "year_of_publication": 2014
         },
         {
          "year_of_publication": 2013
         },
         {
          "year_of_publication": 2013
         },
         {
          "year_of_publication": 2014
         },
         {
          "year_of_publication": 2012
         },
         {
          "year_of_publication": 2013
         },
         {
          "year_of_publication": 2014
         },
         {
          "year_of_publication": 2014
         },
         {
          "year_of_publication": 2015
         },
         {
          "year_of_publication": 2012
         },
         {
          "year_of_publication": 2016
         },
         {
          "year_of_publication": 2012
         },
         {
          "year_of_publication": 2016
         },
         {
          "year_of_publication": 2012
         },
         {
          "year_of_publication": 2012
         },
         {
          "year_of_publication": 2014
         },
         {
          "year_of_publication": 2015
         },
         {
          "year_of_publication": 2017
         },
         {
          "year_of_publication": 2014
         },
         {
          "year_of_publication": 2015
         },
         {
          "year_of_publication": 2014
         },
         {
          "year_of_publication": 2015
         },
         {
          "year_of_publication": 2014
         },
         {
          "year_of_publication": 2016
         },
         {
          "year_of_publication": 2013
         },
         {
          "year_of_publication": 2015
         },
         {
          "year_of_publication": 2016
         },
         {
          "year_of_publication": 2014
         },
         {
          "year_of_publication": 2015
         },
         {
          "year_of_publication": 2016
         },
         {
          "year_of_publication": 2014
         },
         {
          "year_of_publication": 2013
         },
         {
          "year_of_publication": 2013
         },
         {
          "year_of_publication": 2014
         },
         {
          "year_of_publication": 2013
         },
         {
          "year_of_publication": 2013
         },
         {
          "year_of_publication": 2013
         },
         {
          "year_of_publication": 2016
         },
         {
          "year_of_publication": 2014
         },
         {
          "year_of_publication": 2016
         },
         {
          "year_of_publication": 2018
         },
         {
          "year_of_publication": 2016
         },
         {
          "year_of_publication": 2015
         },
         {
          "year_of_publication": 2012
         },
         {
          "year_of_publication": 2015
         },
         {
          "year_of_publication": 2014
         },
         {
          "year_of_publication": 2013
         },
         {
          "year_of_publication": 2013
         },
         {
          "year_of_publication": 2014
         },
         {
          "year_of_publication": 2015
         },
         {
          "year_of_publication": 2016
         },
         {
          "year_of_publication": 2015
         },
         {
          "year_of_publication": 2015
         },
         {
          "year_of_publication": 2014
         },
         {
          "year_of_publication": 2018
         },
         {
          "year_of_publication": 2013
         },
         {
          "year_of_publication": 2014
         },
         {
          "year_of_publication": 2012
         },
         {
          "year_of_publication": 2016
         },
         {
          "year_of_publication": 2015
         },
         {
          "year_of_publication": 2014
         },
         {
          "year_of_publication": 2016
         },
         {
          "year_of_publication": 2013
         },
         {
          "year_of_publication": 2013
         },
         {
          "year_of_publication": 2017
         },
         {
          "year_of_publication": 2015
         },
         {
          "year_of_publication": 2014
         },
         {
          "year_of_publication": 2014
         },
         {
          "year_of_publication": 2016
         },
         {
          "year_of_publication": 2015
         },
         {
          "year_of_publication": 2015
         },
         {
          "year_of_publication": 2015
         },
         {
          "year_of_publication": 2015
         },
         {
          "year_of_publication": 2014
         },
         {
          "year_of_publication": 2017
         },
         {
          "year_of_publication": 2014
         },
         {
          "year_of_publication": 2016
         },
         {
          "year_of_publication": 2015
         },
         {
          "year_of_publication": 2016
         },
         {
          "year_of_publication": 2014
         },
         {
          "year_of_publication": 2014
         },
         {
          "year_of_publication": 2014
         },
         {
          "year_of_publication": 2015
         },
         {
          "year_of_publication": 2016
         },
         {
          "year_of_publication": 2015
         },
         {
          "year_of_publication": 2012
         },
         {
          "year_of_publication": 2012
         },
         {
          "year_of_publication": 2012
         },
         {
          "year_of_publication": 2014
         },
         {
          "year_of_publication": 2015
         },
         {
          "year_of_publication": 2015
         },
         {
          "year_of_publication": 2015
         },
         {
          "year_of_publication": 2014
         },
         {
          "year_of_publication": 2016
         },
         {
          "year_of_publication": 2013
         },
         {
          "year_of_publication": 2015
         },
         {
          "year_of_publication": 2016
         },
         {
          "year_of_publication": 2015
         },
         {
          "year_of_publication": 2014
         },
         {
          "year_of_publication": 2016
         },
         {
          "year_of_publication": 2013
         },
         {
          "year_of_publication": 2012
         },
         {
          "year_of_publication": 2014
         },
         {
          "year_of_publication": 2015
         },
         {
          "year_of_publication": 2013
         },
         {
          "year_of_publication": 2014
         },
         {
          "year_of_publication": 2014
         },
         {
          "year_of_publication": 2016
         },
         {
          "year_of_publication": 2012
         },
         {
          "year_of_publication": 2013
         },
         {
          "year_of_publication": 2012
         },
         {
          "year_of_publication": 2014
         },
         {
          "year_of_publication": 2015
         },
         {
          "year_of_publication": 2014
         },
         {
          "year_of_publication": 2014
         },
         {
          "year_of_publication": 2015
         },
         {
          "year_of_publication": 2015
         },
         {
          "year_of_publication": 2015
         },
         {
          "year_of_publication": 2015
         },
         {
          "year_of_publication": 2013
         },
         {
          "year_of_publication": 2015
         },
         {
          "year_of_publication": 2013
         },
         {
          "year_of_publication": 2012
         },
         {
          "year_of_publication": 2013
         },
         {
          "year_of_publication": 2013
         },
         {
          "year_of_publication": 2018
         },
         {
          "year_of_publication": 2014
         },
         {
          "year_of_publication": 2016
         },
         {
          "year_of_publication": 2014
         },
         {
          "year_of_publication": 2016
         },
         {
          "year_of_publication": 2015
         },
         {
          "year_of_publication": 2015
         },
         {
          "year_of_publication": 2016
         },
         {
          "year_of_publication": 2012
         },
         {
          "year_of_publication": 2015
         },
         {
          "year_of_publication": 2016
         },
         {
          "year_of_publication": 2013
         },
         {
          "year_of_publication": 2012
         },
         {
          "year_of_publication": 2015
         },
         {
          "year_of_publication": 2015
         },
         {
          "year_of_publication": 2012
         },
         {
          "year_of_publication": 2015
         },
         {
          "year_of_publication": 2015
         },
         {
          "year_of_publication": 2014
         },
         {
          "year_of_publication": 2015
         },
         {
          "year_of_publication": 2015
         },
         {
          "year_of_publication": 2017
         },
         {
          "year_of_publication": 2016
         },
         {
          "year_of_publication": 2014
         },
         {
          "year_of_publication": 2018
         },
         {
          "year_of_publication": 2014
         },
         {
          "year_of_publication": 2014
         },
         {
          "year_of_publication": 2017
         },
         {
          "year_of_publication": 2014
         },
         {
          "year_of_publication": 2012
         },
         {
          "year_of_publication": 2014
         },
         {
          "year_of_publication": 2015
         },
         {
          "year_of_publication": 2012
         },
         {
          "year_of_publication": 2013
         },
         {
          "year_of_publication": 2015
         },
         {
          "year_of_publication": 2013
         },
         {
          "year_of_publication": 2012
         },
         {
          "year_of_publication": 2017
         },
         {
          "year_of_publication": 2016
         },
         {
          "year_of_publication": 2014
         },
         {
          "year_of_publication": 2014
         },
         {
          "year_of_publication": 2015
         },
         {
          "year_of_publication": 2014
         },
         {
          "year_of_publication": 2016
         },
         {
          "year_of_publication": 2016
         },
         {
          "year_of_publication": 2015
         },
         {
          "year_of_publication": 2015
         },
         {
          "year_of_publication": 2016
         },
         {
          "year_of_publication": 2016
         },
         {
          "year_of_publication": 2015
         },
         {
          "year_of_publication": 2014
         },
         {
          "year_of_publication": 2014
         },
         {
          "year_of_publication": 2015
         },
         {
          "year_of_publication": 2015
         },
         {
          "year_of_publication": 2015
         },
         {
          "year_of_publication": 2015
         },
         {
          "year_of_publication": 2013
         },
         {
          "year_of_publication": 2015
         },
         {
          "year_of_publication": 2013
         },
         {
          "year_of_publication": 2012
         },
         {
          "year_of_publication": 2015
         },
         {
          "year_of_publication": 2012
         },
         {
          "year_of_publication": 2015
         },
         {
          "year_of_publication": 2012
         },
         {
          "year_of_publication": 2013
         },
         {
          "year_of_publication": 2014
         },
         {
          "year_of_publication": 2015
         },
         {
          "year_of_publication": 2015
         },
         {
          "year_of_publication": 2016
         },
         {
          "year_of_publication": 2013
         },
         {
          "year_of_publication": 2013
         },
         {
          "year_of_publication": 2014
         },
         {
          "year_of_publication": 2016
         },
         {
          "year_of_publication": 2015
         },
         {
          "year_of_publication": 2015
         },
         {
          "year_of_publication": 2016
         },
         {
          "year_of_publication": 2013
         },
         {
          "year_of_publication": 2012
         },
         {
          "year_of_publication": 2016
         },
         {
          "year_of_publication": 2016
         },
         {
          "year_of_publication": 2014
         },
         {
          "year_of_publication": 2014
         },
         {
          "year_of_publication": 2016
         },
         {
          "year_of_publication": 2013
         },
         {
          "year_of_publication": 2017
         },
         {
          "year_of_publication": 2016
         },
         {
          "year_of_publication": 2014
         },
         {
          "year_of_publication": 2014
         },
         {
          "year_of_publication": 2013
         },
         {
          "year_of_publication": 2016
         },
         {
          "year_of_publication": 2013
         },
         {
          "year_of_publication": 2012
         },
         {
          "year_of_publication": 2016
         },
         {
          "year_of_publication": 2016
         },
         {
          "year_of_publication": 2014
         },
         {
          "year_of_publication": 2014
         },
         {
          "year_of_publication": 2015
         },
         {
          "year_of_publication": 2016
         },
         {
          "year_of_publication": 2014
         },
         {
          "year_of_publication": 2013
         },
         {
          "year_of_publication": 2015
         },
         {
          "year_of_publication": 2014
         },
         {
          "year_of_publication": 2017
         },
         {
          "year_of_publication": 2015
         },
         {
          "year_of_publication": 2014
         },
         {
          "year_of_publication": 2015
         },
         {
          "year_of_publication": 2014
         },
         {
          "year_of_publication": 2015
         },
         {
          "year_of_publication": 2014
         },
         {
          "year_of_publication": 2015
         },
         {
          "year_of_publication": 2017
         },
         {
          "year_of_publication": 2012
         },
         {
          "year_of_publication": 2015
         },
         {
          "year_of_publication": 2014
         },
         {
          "year_of_publication": 2013
         },
         {
          "year_of_publication": 2017
         },
         {
          "year_of_publication": 2016
         },
         {
          "year_of_publication": 2015
         },
         {
          "year_of_publication": 2014
         },
         {
          "year_of_publication": 2015
         },
         {
          "year_of_publication": 2014
         },
         {
          "year_of_publication": 2012
         },
         {
          "year_of_publication": 2017
         },
         {
          "year_of_publication": 2013
         },
         {
          "year_of_publication": 2015
         },
         {
          "year_of_publication": 2013
         },
         {
          "year_of_publication": 2015
         },
         {
          "year_of_publication": 2013
         },
         {
          "year_of_publication": 2015
         },
         {
          "year_of_publication": 2013
         },
         {
          "year_of_publication": 2014
         },
         {
          "year_of_publication": 2015
         },
         {
          "year_of_publication": 2021
         },
         {
          "year_of_publication": 2015
         },
         {
          "year_of_publication": 2015
         },
         {
          "year_of_publication": 2014
         },
         {
          "year_of_publication": 2014
         },
         {
          "year_of_publication": 2016
         },
         {
          "year_of_publication": 2013
         },
         {
          "year_of_publication": 2015
         },
         {
          "year_of_publication": 2016
         },
         {
          "year_of_publication": 2014
         },
         {
          "year_of_publication": 2012
         },
         {
          "year_of_publication": 2016
         },
         {
          "year_of_publication": 2013
         },
         {
          "year_of_publication": 2015
         },
         {
          "year_of_publication": 2015
         },
         {
          "year_of_publication": 2015
         },
         {
          "year_of_publication": 2014
         },
         {
          "year_of_publication": 2016
         },
         {
          "year_of_publication": 2013
         },
         {
          "year_of_publication": 2015
         },
         {
          "year_of_publication": 2016
         },
         {
          "year_of_publication": 2014
         },
         {
          "year_of_publication": 2016
         },
         {
          "year_of_publication": 2017
         },
         {
          "year_of_publication": 2015
         },
         {
          "year_of_publication": 2014
         },
         {
          "year_of_publication": 2014
         },
         {
          "year_of_publication": 2016
         },
         {
          "year_of_publication": 2016
         },
         {
          "year_of_publication": 2012
         },
         {
          "year_of_publication": 2018
         },
         {
          "year_of_publication": 2015
         },
         {
          "year_of_publication": 2014
         },
         {
          "year_of_publication": 2012
         },
         {
          "year_of_publication": 2017
         },
         {
          "year_of_publication": 2015
         },
         {
          "year_of_publication": 2014
         },
         {
          "year_of_publication": 2017
         },
         {
          "year_of_publication": 2012
         },
         {
          "year_of_publication": 2015
         },
         {
          "year_of_publication": 2012
         },
         {
          "year_of_publication": 2014
         },
         {
          "year_of_publication": 2016
         },
         {
          "year_of_publication": 2015
         },
         {
          "year_of_publication": 2014
         },
         {
          "year_of_publication": 2015
         },
         {
          "year_of_publication": 2014
         },
         {
          "year_of_publication": 2013
         },
         {
          "year_of_publication": 2015
         },
         {
          "year_of_publication": 2015
         },
         {
          "year_of_publication": 2017
         },
         {
          "year_of_publication": 2012
         },
         {
          "year_of_publication": 2017
         },
         {
          "year_of_publication": 2012
         },
         {
          "year_of_publication": 2016
         },
         {
          "year_of_publication": 2015
         },
         {
          "year_of_publication": 2016
         },
         {
          "year_of_publication": 2013
         },
         {
          "year_of_publication": 2016
         },
         {
          "year_of_publication": 2016
         },
         {
          "year_of_publication": 2016
         },
         {
          "year_of_publication": 2014
         },
         {
          "year_of_publication": 2012
         },
         {
          "year_of_publication": 2014
         },
         {
          "year_of_publication": 2015
         },
         {
          "year_of_publication": 2016
         },
         {
          "year_of_publication": 2017
         },
         {
          "year_of_publication": 2014
         },
         {
          "year_of_publication": 2013
         },
         {
          "year_of_publication": 2013
         },
         {
          "year_of_publication": 2013
         },
         {
          "year_of_publication": 2015
         },
         {
          "year_of_publication": 2013
         },
         {
          "year_of_publication": 2014
         },
         {
          "year_of_publication": 2015
         },
         {
          "year_of_publication": 2014
         },
         {
          "year_of_publication": 2016
         },
         {
          "year_of_publication": 2013
         },
         {
          "year_of_publication": 2015
         },
         {
          "year_of_publication": 2014
         },
         {
          "year_of_publication": 2016
         },
         {
          "year_of_publication": 2015
         },
         {
          "year_of_publication": 2021
         },
         {
          "year_of_publication": 2014
         },
         {
          "year_of_publication": 2013
         },
         {
          "year_of_publication": 2013
         },
         {
          "year_of_publication": 2015
         },
         {
          "year_of_publication": 2015
         },
         {
          "year_of_publication": 2015
         },
         {
          "year_of_publication": 2015
         },
         {
          "year_of_publication": 2015
         },
         {
          "year_of_publication": 2016
         },
         {
          "year_of_publication": 2015
         },
         {
          "year_of_publication": 2015
         },
         {
          "year_of_publication": 2015
         },
         {
          "year_of_publication": 2012
         },
         {
          "year_of_publication": 2012
         },
         {
          "year_of_publication": 2015
         },
         {
          "year_of_publication": 2016
         },
         {
          "year_of_publication": 2017
         },
         {
          "year_of_publication": 2013
         },
         {
          "year_of_publication": 2012
         },
         {
          "year_of_publication": 2017
         },
         {
          "year_of_publication": 2014
         },
         {
          "year_of_publication": 2014
         },
         {
          "year_of_publication": 2017
         },
         {
          "year_of_publication": 2015
         },
         {
          "year_of_publication": 2016
         },
         {
          "year_of_publication": 2012
         },
         {
          "year_of_publication": 2016
         },
         {
          "year_of_publication": 2016
         },
         {
          "year_of_publication": 2015
         },
         {
          "year_of_publication": 2014
         },
         {
          "year_of_publication": 2015
         },
         {
          "year_of_publication": 2015
         },
         {
          "year_of_publication": 2015
         },
         {
          "year_of_publication": 2016
         },
         {
          "year_of_publication": 2014
         },
         {
          "year_of_publication": 2014
         },
         {
          "year_of_publication": 2016
         },
         {
          "year_of_publication": 2015
         },
         {
          "year_of_publication": 2016
         },
         {
          "year_of_publication": 2016
         },
         {
          "year_of_publication": 2013
         },
         {
          "year_of_publication": 2017
         },
         {
          "year_of_publication": 2014
         },
         {
          "year_of_publication": 2016
         },
         {
          "year_of_publication": 2015
         },
         {
          "year_of_publication": 2012
         },
         {
          "year_of_publication": 2015
         },
         {
          "year_of_publication": 2017
         },
         {
          "year_of_publication": 2015
         },
         {
          "year_of_publication": 2015
         },
         {
          "year_of_publication": 2015
         },
         {
          "year_of_publication": 2016
         },
         {
          "year_of_publication": 2016
         },
         {
          "year_of_publication": 2015
         },
         {
          "year_of_publication": 2015
         },
         {
          "year_of_publication": 2017
         },
         {
          "year_of_publication": 2016
         },
         {
          "year_of_publication": 2016
         },
         {
          "year_of_publication": 2015
         },
         {
          "year_of_publication": 2014
         },
         {
          "year_of_publication": 2013
         },
         {
          "year_of_publication": 2016
         },
         {
          "year_of_publication": 2013
         },
         {
          "year_of_publication": 2015
         },
         {
          "year_of_publication": 2016
         },
         {
          "year_of_publication": 2015
         },
         {
          "year_of_publication": 2016
         },
         {
          "year_of_publication": 2013
         },
         {
          "year_of_publication": 2015
         },
         {
          "year_of_publication": 2014
         },
         {
          "year_of_publication": 2014
         },
         {
          "year_of_publication": 2015
         },
         {
          "year_of_publication": 2012
         },
         {
          "year_of_publication": 2014
         },
         {
          "year_of_publication": 2014
         },
         {
          "year_of_publication": 2014
         },
         {
          "year_of_publication": 2013
         },
         {
          "year_of_publication": 2017
         },
         {
          "year_of_publication": 2015
         },
         {
          "year_of_publication": 2014
         },
         {
          "year_of_publication": 2014
         },
         {
          "year_of_publication": 2017
         },
         {
          "year_of_publication": 2014
         },
         {
          "year_of_publication": 2013
         },
         {
          "year_of_publication": 2014
         },
         {
          "year_of_publication": 2012
         },
         {
          "year_of_publication": 2014
         },
         {
          "year_of_publication": 2014
         },
         {
          "year_of_publication": 2012
         },
         {
          "year_of_publication": 2016
         },
         {
          "year_of_publication": 2015
         },
         {
          "year_of_publication": 2020
         },
         {
          "year_of_publication": 2017
         },
         {
          "year_of_publication": 2020
         },
         {
          "year_of_publication": 2014
         },
         {
          "year_of_publication": 2014
         },
         {
          "year_of_publication": 2015
         },
         {
          "year_of_publication": 2013
         },
         {
          "year_of_publication": 2014
         },
         {
          "year_of_publication": 2016
         },
         {
          "year_of_publication": 2015
         },
         {
          "year_of_publication": 2017
         },
         {
          "year_of_publication": 2015
         },
         {
          "year_of_publication": 2015
         },
         {
          "year_of_publication": 2014
         },
         {
          "year_of_publication": 2015
         },
         {
          "year_of_publication": 2016
         },
         {
          "year_of_publication": 2014
         },
         {
          "year_of_publication": 2014
         },
         {
          "year_of_publication": 2016
         },
         {
          "year_of_publication": 2015
         },
         {
          "year_of_publication": 2017
         },
         {
          "year_of_publication": 2017
         },
         {
          "year_of_publication": 2014
         },
         {
          "year_of_publication": 2014
         },
         {
          "year_of_publication": 2014
         },
         {
          "year_of_publication": 2014
         },
         {
          "year_of_publication": 2014
         },
         {
          "year_of_publication": 2014
         },
         {
          "year_of_publication": 2014
         },
         {
          "year_of_publication": 2016
         },
         {
          "year_of_publication": 2016
         },
         {
          "year_of_publication": 2015
         },
         {
          "year_of_publication": 2014
         },
         {
          "year_of_publication": 2015
         },
         {
          "year_of_publication": 2012
         },
         {
          "year_of_publication": 2016
         },
         {
          "year_of_publication": 2014
         },
         {
          "year_of_publication": 2014
         },
         {
          "year_of_publication": 2015
         },
         {
          "year_of_publication": 2015
         },
         {
          "year_of_publication": 2015
         },
         {
          "year_of_publication": 2018
         },
         {
          "year_of_publication": 2016
         },
         {
          "year_of_publication": 2015
         },
         {
          "year_of_publication": 2018
         },
         {
          "year_of_publication": 2012
         },
         {
          "year_of_publication": 2017
         },
         {
          "year_of_publication": 2013
         },
         {
          "year_of_publication": 2014
         },
         {
          "year_of_publication": 2016
         },
         {
          "year_of_publication": 2013
         },
         {
          "year_of_publication": 2014
         },
         {
          "year_of_publication": 2012
         },
         {
          "year_of_publication": 2015
         },
         {
          "year_of_publication": 2013
         },
         {
          "year_of_publication": 2017
         },
         {
          "year_of_publication": 2015
         },
         {
          "year_of_publication": 2014
         },
         {
          "year_of_publication": 2014
         },
         {
          "year_of_publication": 2016
         },
         {
          "year_of_publication": 2012
         },
         {
          "year_of_publication": 2015
         },
         {
          "year_of_publication": 2012
         },
         {
          "year_of_publication": 2015
         },
         {
          "year_of_publication": 2016
         },
         {
          "year_of_publication": 2015
         },
         {
          "year_of_publication": 2013
         },
         {
          "year_of_publication": 2012
         },
         {
          "year_of_publication": 2014
         },
         {
          "year_of_publication": 2016
         },
         {
          "year_of_publication": 2014
         },
         {
          "year_of_publication": 2012
         },
         {
          "year_of_publication": 2016
         },
         {
          "year_of_publication": 2014
         },
         {
          "year_of_publication": 2016
         },
         {
          "year_of_publication": 2015
         },
         {
          "year_of_publication": 2012
         },
         {
          "year_of_publication": 2016
         },
         {
          "year_of_publication": 2014
         },
         {
          "year_of_publication": 2015
         },
         {
          "year_of_publication": 2017
         },
         {
          "year_of_publication": 2013
         },
         {
          "year_of_publication": 2012
         },
         {
          "year_of_publication": 2012
         },
         {
          "year_of_publication": 2014
         },
         {
          "year_of_publication": 2015
         },
         {
          "year_of_publication": 2016
         },
         {
          "year_of_publication": 2016
         },
         {
          "year_of_publication": 2015
         },
         {
          "year_of_publication": 2013
         },
         {
          "year_of_publication": 2015
         },
         {
          "year_of_publication": 2015
         },
         {
          "year_of_publication": 2015
         },
         {
          "year_of_publication": 2015
         },
         {
          "year_of_publication": 2014
         },
         {
          "year_of_publication": 2015
         },
         {
          "year_of_publication": 2015
         },
         {
          "year_of_publication": 2015
         },
         {
          "year_of_publication": 2015
         },
         {
          "year_of_publication": 2014
         },
         {
          "year_of_publication": 2016
         },
         {
          "year_of_publication": 2015
         },
         {
          "year_of_publication": 2014
         },
         {
          "year_of_publication": 2015
         },
         {
          "year_of_publication": 2015
         },
         {
          "year_of_publication": 2013
         },
         {
          "year_of_publication": 2014
         },
         {
          "year_of_publication": 2014
         },
         {
          "year_of_publication": 2013
         },
         {
          "year_of_publication": 2016
         },
         {
          "year_of_publication": 2013
         },
         {
          "year_of_publication": 2016
         },
         {
          "year_of_publication": 2012
         },
         {
          "year_of_publication": 2013
         },
         {
          "year_of_publication": 2019
         },
         {
          "year_of_publication": 2013
         },
         {
          "year_of_publication": 2013
         },
         {
          "year_of_publication": 2015
         },
         {
          "year_of_publication": 2014
         },
         {
          "year_of_publication": 2014
         },
         {
          "year_of_publication": 2016
         },
         {
          "year_of_publication": 2013
         },
         {
          "year_of_publication": 2014
         },
         {
          "year_of_publication": 2015
         },
         {
          "year_of_publication": 2016
         },
         {
          "year_of_publication": 2014
         },
         {
          "year_of_publication": 2015
         },
         {
          "year_of_publication": 2015
         },
         {
          "year_of_publication": 2013
         },
         {
          "year_of_publication": 2013
         },
         {
          "year_of_publication": 2016
         },
         {
          "year_of_publication": 2014
         },
         {
          "year_of_publication": 2014
         },
         {
          "year_of_publication": 2015
         },
         {
          "year_of_publication": 2015
         },
         {
          "year_of_publication": 2016
         },
         {
          "year_of_publication": 2014
         },
         {
          "year_of_publication": 2014
         },
         {
          "year_of_publication": 2016
         },
         {
          "year_of_publication": 2016
         },
         {
          "year_of_publication": 2016
         },
         {
          "year_of_publication": 2016
         },
         {
          "year_of_publication": 2013
         },
         {
          "year_of_publication": 2017
         },
         {
          "year_of_publication": 2013
         },
         {
          "year_of_publication": 2013
         },
         {
          "year_of_publication": 2014
         },
         {
          "year_of_publication": 2014
         },
         {
          "year_of_publication": 2016
         },
         {
          "year_of_publication": 2014
         },
         {
          "year_of_publication": 2015
         },
         {
          "year_of_publication": 2016
         },
         {
          "year_of_publication": 2015
         },
         {
          "year_of_publication": 2016
         },
         {
          "year_of_publication": 2018
         },
         {
          "year_of_publication": 2015
         },
         {
          "year_of_publication": 2014
         },
         {
          "year_of_publication": 2015
         },
         {
          "year_of_publication": 2015
         },
         {
          "year_of_publication": 2015
         },
         {
          "year_of_publication": 2013
         },
         {
          "year_of_publication": 2012
         },
         {
          "year_of_publication": 2016
         },
         {
          "year_of_publication": 2014
         },
         {
          "year_of_publication": 2016
         },
         {
          "year_of_publication": 2015
         },
         {
          "year_of_publication": 2012
         },
         {
          "year_of_publication": 2013
         },
         {
          "year_of_publication": 2014
         },
         {
          "year_of_publication": 2014
         },
         {
          "year_of_publication": 2012
         },
         {
          "year_of_publication": 2017
         },
         {
          "year_of_publication": 2014
         },
         {
          "year_of_publication": 2015
         },
         {
          "year_of_publication": 2016
         },
         {
          "year_of_publication": 2015
         },
         {
          "year_of_publication": 2014
         },
         {
          "year_of_publication": 2013
         },
         {
          "year_of_publication": 2017
         },
         {
          "year_of_publication": 2015
         },
         {
          "year_of_publication": 2014
         },
         {
          "year_of_publication": 2014
         },
         {
          "year_of_publication": 2015
         },
         {
          "year_of_publication": 2014
         },
         {
          "year_of_publication": 2014
         },
         {
          "year_of_publication": 2015
         },
         {
          "year_of_publication": 2014
         },
         {
          "year_of_publication": 2015
         },
         {
          "year_of_publication": 2013
         },
         {
          "year_of_publication": 2016
         },
         {
          "year_of_publication": 2012
         },
         {
          "year_of_publication": 2015
         },
         {
          "year_of_publication": 2016
         },
         {
          "year_of_publication": 2013
         },
         {
          "year_of_publication": 2012
         },
         {
          "year_of_publication": 2012
         },
         {
          "year_of_publication": 2014
         },
         {
          "year_of_publication": 2015
         },
         {
          "year_of_publication": 2013
         },
         {
          "year_of_publication": 2014
         },
         {
          "year_of_publication": 2015
         },
         {
          "year_of_publication": 2015
         },
         {
          "year_of_publication": 2014
         },
         {
          "year_of_publication": 2015
         },
         {
          "year_of_publication": 2014
         },
         {
          "year_of_publication": 2013
         },
         {
          "year_of_publication": 2015
         },
         {
          "year_of_publication": 2015
         },
         {
          "year_of_publication": 2016
         },
         {
          "year_of_publication": 2016
         },
         {
          "year_of_publication": 2018
         },
         {
          "year_of_publication": 2015
         },
         {
          "year_of_publication": 2014
         },
         {
          "year_of_publication": 2012
         },
         {
          "year_of_publication": 2017
         },
         {
          "year_of_publication": 2012
         },
         {
          "year_of_publication": 2014
         },
         {
          "year_of_publication": 2016
         },
         {
          "year_of_publication": 2013
         },
         {
          "year_of_publication": 2014
         },
         {
          "year_of_publication": 2015
         },
         {
          "year_of_publication": 2012
         },
         {
          "year_of_publication": 2014
         },
         {
          "year_of_publication": 2014
         },
         {
          "year_of_publication": 2016
         },
         {
          "year_of_publication": 2017
         },
         {
          "year_of_publication": 2012
         },
         {
          "year_of_publication": 2016
         },
         {
          "year_of_publication": 2012
         },
         {
          "year_of_publication": 2014
         },
         {
          "year_of_publication": 2016
         },
         {
          "year_of_publication": 2017
         },
         {
          "year_of_publication": 2015
         },
         {
          "year_of_publication": 2018
         },
         {
          "year_of_publication": 2013
         },
         {
          "year_of_publication": 2012
         },
         {
          "year_of_publication": 2016
         },
         {
          "year_of_publication": 2014
         },
         {
          "year_of_publication": 2015
         },
         {
          "year_of_publication": 2013
         },
         {
          "year_of_publication": 2015
         },
         {
          "year_of_publication": 2015
         },
         {
          "year_of_publication": 2012
         },
         {
          "year_of_publication": 2014
         },
         {
          "year_of_publication": 2016
         },
         {
          "year_of_publication": 2014
         },
         {
          "year_of_publication": 2014
         },
         {
          "year_of_publication": 2016
         },
         {
          "year_of_publication": 2016
         },
         {
          "year_of_publication": 2014
         },
         {
          "year_of_publication": 2017
         },
         {
          "year_of_publication": 2017
         },
         {
          "year_of_publication": 2014
         },
         {
          "year_of_publication": 2015
         },
         {
          "year_of_publication": 2014
         },
         {
          "year_of_publication": 2016
         },
         {
          "year_of_publication": 2016
         },
         {
          "year_of_publication": 2014
         },
         {
          "year_of_publication": 2012
         },
         {
          "year_of_publication": 2013
         },
         {
          "year_of_publication": 2017
         },
         {
          "year_of_publication": 2013
         },
         {
          "year_of_publication": 2016
         },
         {
          "year_of_publication": 2012
         },
         {
          "year_of_publication": 2013
         },
         {
          "year_of_publication": 2015
         },
         {
          "year_of_publication": 2015
         },
         {
          "year_of_publication": 2012
         },
         {
          "year_of_publication": 2016
         },
         {
          "year_of_publication": 2014
         },
         {
          "year_of_publication": 2012
         },
         {
          "year_of_publication": 2013
         },
         {
          "year_of_publication": 2015
         },
         {
          "year_of_publication": 2015
         },
         {
          "year_of_publication": 2015
         },
         {
          "year_of_publication": 2015
         },
         {
          "year_of_publication": 2014
         },
         {
          "year_of_publication": 2016
         },
         {
          "year_of_publication": 2013
         },
         {
          "year_of_publication": 2015
         },
         {
          "year_of_publication": 2014
         },
         {
          "year_of_publication": 2013
         },
         {
          "year_of_publication": 2014
         },
         {
          "year_of_publication": 2014
         },
         {
          "year_of_publication": 2016
         },
         {
          "year_of_publication": 2015
         },
         {
          "year_of_publication": 2015
         },
         {
          "year_of_publication": 2014
         },
         {
          "year_of_publication": 2013
         },
         {
          "year_of_publication": 2013
         },
         {
          "year_of_publication": 2016
         },
         {
          "year_of_publication": 2014
         },
         {
          "year_of_publication": 2013
         },
         {
          "year_of_publication": 2013
         },
         {
          "year_of_publication": 2015
         },
         {
          "year_of_publication": 2016
         },
         {
          "year_of_publication": 2016
         },
         {
          "year_of_publication": 2014
         },
         {
          "year_of_publication": 2015
         },
         {
          "year_of_publication": 2014
         },
         {
          "year_of_publication": 2016
         },
         {
          "year_of_publication": 2015
         },
         {
          "year_of_publication": 2018
         },
         {
          "year_of_publication": 2015
         },
         {
          "year_of_publication": 2017
         },
         {
          "year_of_publication": 2015
         },
         {
          "year_of_publication": 2015
         },
         {
          "year_of_publication": 2012
         },
         {
          "year_of_publication": 2013
         },
         {
          "year_of_publication": 2015
         },
         {
          "year_of_publication": 2017
         },
         {
          "year_of_publication": 2014
         },
         {
          "year_of_publication": 2013
         },
         {
          "year_of_publication": 2013
         },
         {
          "year_of_publication": 2016
         },
         {
          "year_of_publication": 2015
         },
         {
          "year_of_publication": 2014
         },
         {
          "year_of_publication": 2015
         },
         {
          "year_of_publication": 2014
         },
         {
          "year_of_publication": 2013
         },
         {
          "year_of_publication": 2014
         },
         {
          "year_of_publication": 2012
         },
         {
          "year_of_publication": 2014
         },
         {
          "year_of_publication": 2017
         },
         {
          "year_of_publication": 2016
         },
         {
          "year_of_publication": 2014
         },
         {
          "year_of_publication": 2015
         },
         {
          "year_of_publication": 2016
         },
         {
          "year_of_publication": 2018
         },
         {
          "year_of_publication": 2015
         },
         {
          "year_of_publication": 2015
         },
         {
          "year_of_publication": 2015
         },
         {
          "year_of_publication": 2016
         },
         {
          "year_of_publication": 2014
         },
         {
          "year_of_publication": 2015
         },
         {
          "year_of_publication": 2013
         },
         {
          "year_of_publication": 2014
         },
         {
          "year_of_publication": 2014
         },
         {
          "year_of_publication": 2015
         },
         {
          "year_of_publication": 2012
         },
         {
          "year_of_publication": 2016
         },
         {
          "year_of_publication": 2016
         },
         {
          "year_of_publication": 2017
         },
         {
          "year_of_publication": 2015
         },
         {
          "year_of_publication": 2016
         },
         {
          "year_of_publication": 2014
         },
         {
          "year_of_publication": 2015
         },
         {
          "year_of_publication": 2012
         },
         {
          "year_of_publication": 2015
         },
         {
          "year_of_publication": 2015
         },
         {
          "year_of_publication": 2015
         },
         {
          "year_of_publication": 2014
         },
         {
          "year_of_publication": 2015
         },
         {
          "year_of_publication": 2018
         },
         {
          "year_of_publication": 2016
         },
         {
          "year_of_publication": 2015
         },
         {
          "year_of_publication": 2015
         },
         {
          "year_of_publication": 2012
         },
         {
          "year_of_publication": 2016
         },
         {
          "year_of_publication": 2014
         },
         {
          "year_of_publication": 2013
         },
         {
          "year_of_publication": 2013
         },
         {
          "year_of_publication": 2016
         },
         {
          "year_of_publication": 2014
         },
         {
          "year_of_publication": 2014
         },
         {
          "year_of_publication": 2016
         },
         {
          "year_of_publication": 2016
         },
         {
          "year_of_publication": 2014
         },
         {
          "year_of_publication": 2013
         },
         {
          "year_of_publication": 2013
         },
         {
          "year_of_publication": 2015
         },
         {
          "year_of_publication": 2015
         },
         {
          "year_of_publication": 2015
         },
         {
          "year_of_publication": 2015
         },
         {
          "year_of_publication": 2012
         },
         {
          "year_of_publication": 2016
         },
         {
          "year_of_publication": 2014
         },
         {
          "year_of_publication": 2016
         },
         {
          "year_of_publication": 2014
         },
         {
          "year_of_publication": 2012
         },
         {
          "year_of_publication": 2014
         },
         {
          "year_of_publication": 2012
         },
         {
          "year_of_publication": 2015
         },
         {
          "year_of_publication": 2015
         },
         {
          "year_of_publication": 2015
         },
         {
          "year_of_publication": 2015
         },
         {
          "year_of_publication": 2013
         },
         {
          "year_of_publication": 2012
         },
         {
          "year_of_publication": 2014
         },
         {
          "year_of_publication": 2015
         },
         {
          "year_of_publication": 2014
         },
         {
          "year_of_publication": 2013
         },
         {
          "year_of_publication": 2015
         },
         {
          "year_of_publication": 2013
         },
         {
          "year_of_publication": 2013
         },
         {
          "year_of_publication": 2012
         },
         {
          "year_of_publication": 2012
         },
         {
          "year_of_publication": 2015
         },
         {
          "year_of_publication": 2015
         },
         {
          "year_of_publication": 2013
         },
         {
          "year_of_publication": 2016
         },
         {
          "year_of_publication": 2013
         },
         {
          "year_of_publication": 2014
         },
         {
          "year_of_publication": 2013
         },
         {
          "year_of_publication": 2013
         },
         {
          "year_of_publication": 2016
         },
         {
          "year_of_publication": 2012
         },
         {
          "year_of_publication": 2015
         },
         {
          "year_of_publication": 2016
         },
         {
          "year_of_publication": 2014
         },
         {
          "year_of_publication": 2013
         },
         {
          "year_of_publication": 2015
         },
         {
          "year_of_publication": 2015
         },
         {
          "year_of_publication": 2013
         },
         {
          "year_of_publication": 2012
         },
         {
          "year_of_publication": 2014
         },
         {
          "year_of_publication": 2016
         },
         {
          "year_of_publication": 2015
         },
         {
          "year_of_publication": 2015
         },
         {
          "year_of_publication": 2013
         },
         {
          "year_of_publication": 2014
         },
         {
          "year_of_publication": 2014
         },
         {
          "year_of_publication": 2015
         },
         {
          "year_of_publication": 2015
         },
         {
          "year_of_publication": 2013
         },
         {
          "year_of_publication": 2014
         },
         {
          "year_of_publication": 2015
         },
         {
          "year_of_publication": 2014
         },
         {
          "year_of_publication": 2014
         },
         {
          "year_of_publication": 2015
         },
         {
          "year_of_publication": 2015
         },
         {
          "year_of_publication": 2012
         },
         {
          "year_of_publication": 2020
         },
         {
          "year_of_publication": 2014
         },
         {
          "year_of_publication": 2014
         },
         {
          "year_of_publication": 2015
         },
         {
          "year_of_publication": 2013
         },
         {
          "year_of_publication": 2015
         },
         {
          "year_of_publication": 2014
         },
         {
          "year_of_publication": 2014
         },
         {
          "year_of_publication": 2014
         },
         {
          "year_of_publication": 2015
         },
         {
          "year_of_publication": 2014
         },
         {
          "year_of_publication": 2014
         },
         {
          "year_of_publication": 2012
         },
         {
          "year_of_publication": 2014
         },
         {
          "year_of_publication": 2013
         },
         {
          "year_of_publication": 2015
         },
         {
          "year_of_publication": 2012
         },
         {
          "year_of_publication": 2016
         },
         {
          "year_of_publication": 2016
         },
         {
          "year_of_publication": 2014
         },
         {
          "year_of_publication": 2015
         },
         {
          "year_of_publication": 2012
         },
         {
          "year_of_publication": 2014
         },
         {
          "year_of_publication": 2012
         },
         {
          "year_of_publication": 2014
         },
         {
          "year_of_publication": 2015
         },
         {
          "year_of_publication": 2015
         },
         {
          "year_of_publication": 2014
         },
         {
          "year_of_publication": 2014
         },
         {
          "year_of_publication": 2015
         },
         {
          "year_of_publication": 2015
         },
         {
          "year_of_publication": 2014
         },
         {
          "year_of_publication": 2015
         },
         {
          "year_of_publication": 2012
         },
         {
          "year_of_publication": 2016
         },
         {
          "year_of_publication": 2013
         },
         {
          "year_of_publication": 2012
         },
         {
          "year_of_publication": 2014
         },
         {
          "year_of_publication": 2014
         },
         {
          "year_of_publication": 2016
         },
         {
          "year_of_publication": 2013
         },
         {
          "year_of_publication": 2017
         },
         {
          "year_of_publication": 2015
         },
         {
          "year_of_publication": 2017
         },
         {
          "year_of_publication": 2014
         },
         {
          "year_of_publication": 2014
         },
         {
          "year_of_publication": 2013
         },
         {
          "year_of_publication": 2015
         },
         {
          "year_of_publication": 2013
         },
         {
          "year_of_publication": 2015
         },
         {
          "year_of_publication": 2016
         },
         {
          "year_of_publication": 2014
         },
         {
          "year_of_publication": 2015
         },
         {
          "year_of_publication": 2012
         },
         {
          "year_of_publication": 2014
         },
         {
          "year_of_publication": 2014
         },
         {
          "year_of_publication": 2014
         },
         {
          "year_of_publication": 2017
         },
         {
          "year_of_publication": 2014
         },
         {
          "year_of_publication": 2014
         },
         {
          "year_of_publication": 2015
         },
         {
          "year_of_publication": 2016
         },
         {
          "year_of_publication": 2016
         },
         {
          "year_of_publication": 2015
         },
         {
          "year_of_publication": 2013
         },
         {
          "year_of_publication": 2015
         },
         {
          "year_of_publication": 2017
         },
         {
          "year_of_publication": 2013
         },
         {
          "year_of_publication": 2015
         },
         {
          "year_of_publication": 2015
         },
         {
          "year_of_publication": 2014
         },
         {
          "year_of_publication": 2015
         },
         {
          "year_of_publication": 2016
         },
         {
          "year_of_publication": 2015
         },
         {
          "year_of_publication": 2012
         },
         {
          "year_of_publication": 2015
         },
         {
          "year_of_publication": 2014
         },
         {
          "year_of_publication": 2012
         },
         {
          "year_of_publication": 2015
         },
         {
          "year_of_publication": 2012
         },
         {
          "year_of_publication": 2013
         },
         {
          "year_of_publication": 2013
         },
         {
          "year_of_publication": 2014
         },
         {
          "year_of_publication": 2015
         },
         {
          "year_of_publication": 2016
         },
         {
          "year_of_publication": 2015
         },
         {
          "year_of_publication": 2015
         },
         {
          "year_of_publication": 2013
         },
         {
          "year_of_publication": 2014
         },
         {
          "year_of_publication": 2016
         },
         {
          "year_of_publication": 2015
         },
         {
          "year_of_publication": 2016
         },
         {
          "year_of_publication": 2015
         },
         {
          "year_of_publication": 2012
         },
         {
          "year_of_publication": 2014
         },
         {
          "year_of_publication": 2016
         },
         {
          "year_of_publication": 2016
         },
         {
          "year_of_publication": 2016
         },
         {
          "year_of_publication": 2012
         },
         {
          "year_of_publication": 2017
         },
         {
          "year_of_publication": 2013
         },
         {
          "year_of_publication": 2016
         },
         {
          "year_of_publication": 2014
         },
         {
          "year_of_publication": 2013
         },
         {
          "year_of_publication": 2015
         },
         {
          "year_of_publication": 2016
         },
         {
          "year_of_publication": 2012
         },
         {
          "year_of_publication": 2012
         },
         {
          "year_of_publication": 2013
         },
         {
          "year_of_publication": 2014
         },
         {
          "year_of_publication": 2014
         },
         {
          "year_of_publication": 2013
         },
         {
          "year_of_publication": 2013
         },
         {
          "year_of_publication": 2016
         },
         {
          "year_of_publication": 2017
         },
         {
          "year_of_publication": 2014
         },
         {
          "year_of_publication": 2017
         },
         {
          "year_of_publication": 2014
         },
         {
          "year_of_publication": 2016
         },
         {
          "year_of_publication": 2013
         },
         {
          "year_of_publication": 2014
         },
         {
          "year_of_publication": 2022
         },
         {
          "year_of_publication": 2012
         },
         {
          "year_of_publication": 2014
         },
         {
          "year_of_publication": 2016
         },
         {
          "year_of_publication": 2013
         },
         {
          "year_of_publication": 2015
         },
         {
          "year_of_publication": 2016
         },
         {
          "year_of_publication": 2015
         },
         {
          "year_of_publication": 2012
         },
         {
          "year_of_publication": 2012
         },
         {
          "year_of_publication": 2016
         },
         {
          "year_of_publication": 2014
         },
         {
          "year_of_publication": 2012
         },
         {
          "year_of_publication": 2017
         },
         {
          "year_of_publication": 2017
         },
         {
          "year_of_publication": 2015
         },
         {
          "year_of_publication": 2016
         },
         {
          "year_of_publication": 2014
         },
         {
          "year_of_publication": 2015
         },
         {
          "year_of_publication": 2012
         },
         {
          "year_of_publication": 2014
         },
         {
          "year_of_publication": 2015
         },
         {
          "year_of_publication": 2013
         },
         {
          "year_of_publication": 2015
         },
         {
          "year_of_publication": 2012
         },
         {
          "year_of_publication": 2015
         },
         {
          "year_of_publication": 2017
         },
         {
          "year_of_publication": 2014
         },
         {
          "year_of_publication": 2015
         },
         {
          "year_of_publication": 2012
         },
         {
          "year_of_publication": 2014
         },
         {
          "year_of_publication": 2014
         },
         {
          "year_of_publication": 2017
         },
         {
          "year_of_publication": 2015
         },
         {
          "year_of_publication": 2016
         },
         {
          "year_of_publication": 2014
         },
         {
          "year_of_publication": 2015
         },
         {
          "year_of_publication": 2014
         },
         {
          "year_of_publication": 2014
         },
         {
          "year_of_publication": 2016
         },
         {
          "year_of_publication": 2015
         },
         {
          "year_of_publication": 2014
         },
         {
          "year_of_publication": 2014
         },
         {
          "year_of_publication": 2015
         },
         {
          "year_of_publication": 2015
         },
         {
          "year_of_publication": 2017
         },
         {
          "year_of_publication": 2014
         },
         {
          "year_of_publication": 2015
         },
         {
          "year_of_publication": 2016
         },
         {
          "year_of_publication": 2015
         },
         {
          "year_of_publication": 2014
         },
         {
          "year_of_publication": 2013
         },
         {
          "year_of_publication": 2016
         },
         {
          "year_of_publication": 2013
         },
         {
          "year_of_publication": 2014
         },
         {
          "year_of_publication": 2015
         },
         {
          "year_of_publication": 2014
         },
         {
          "year_of_publication": 2013
         },
         {
          "year_of_publication": 2015
         },
         {
          "year_of_publication": 2015
         },
         {
          "year_of_publication": 2014
         },
         {
          "year_of_publication": 2015
         },
         {
          "year_of_publication": 2014
         },
         {
          "year_of_publication": 2015
         },
         {
          "year_of_publication": 2018
         },
         {
          "year_of_publication": 2016
         },
         {
          "year_of_publication": 2013
         },
         {
          "year_of_publication": 2013
         },
         {
          "year_of_publication": 2014
         },
         {
          "year_of_publication": 2015
         },
         {
          "year_of_publication": 2015
         },
         {
          "year_of_publication": 2012
         },
         {
          "year_of_publication": 2014
         },
         {
          "year_of_publication": 2014
         },
         {
          "year_of_publication": 2016
         },
         {
          "year_of_publication": 2012
         },
         {
          "year_of_publication": 2017
         },
         {
          "year_of_publication": 2012
         },
         {
          "year_of_publication": 2013
         },
         {
          "year_of_publication": 2016
         },
         {
          "year_of_publication": 2016
         },
         {
          "year_of_publication": 2013
         },
         {
          "year_of_publication": 2013
         },
         {
          "year_of_publication": 2014
         },
         {
          "year_of_publication": 2014
         },
         {
          "year_of_publication": 2015
         },
         {
          "year_of_publication": 2012
         },
         {
          "year_of_publication": 2017
         },
         {
          "year_of_publication": 2015
         },
         {
          "year_of_publication": 2015
         },
         {
          "year_of_publication": 2015
         },
         {
          "year_of_publication": 2013
         },
         {
          "year_of_publication": 2015
         },
         {
          "year_of_publication": 2015
         },
         {
          "year_of_publication": 2017
         },
         {
          "year_of_publication": 2014
         },
         {
          "year_of_publication": 2016
         },
         {
          "year_of_publication": 2014
         },
         {
          "year_of_publication": 2018
         },
         {
          "year_of_publication": 2014
         },
         {
          "year_of_publication": 2016
         },
         {
          "year_of_publication": 2015
         },
         {
          "year_of_publication": 2016
         },
         {
          "year_of_publication": 2013
         },
         {
          "year_of_publication": 2014
         },
         {
          "year_of_publication": 2014
         },
         {
          "year_of_publication": 2015
         },
         {
          "year_of_publication": 2012
         },
         {
          "year_of_publication": 2012
         },
         {
          "year_of_publication": 2015
         },
         {
          "year_of_publication": 2014
         },
         {
          "year_of_publication": 2015
         },
         {
          "year_of_publication": 2017
         },
         {
          "year_of_publication": 2017
         },
         {
          "year_of_publication": 2015
         },
         {
          "year_of_publication": 2012
         },
         {
          "year_of_publication": 2016
         },
         {
          "year_of_publication": 2015
         },
         {
          "year_of_publication": 2015
         },
         {
          "year_of_publication": 2016
         },
         {
          "year_of_publication": 2014
         },
         {
          "year_of_publication": 2015
         },
         {
          "year_of_publication": 2015
         },
         {
          "year_of_publication": 2016
         },
         {
          "year_of_publication": 2014
         },
         {
          "year_of_publication": 2012
         },
         {
          "year_of_publication": 2014
         },
         {
          "year_of_publication": 2015
         },
         {
          "year_of_publication": 2018
         },
         {
          "year_of_publication": 2015
         },
         {
          "year_of_publication": 2013
         },
         {
          "year_of_publication": 2020
         },
         {
          "year_of_publication": 2017
         },
         {
          "year_of_publication": 2013
         },
         {
          "year_of_publication": 2015
         },
         {
          "year_of_publication": 2017
         },
         {
          "year_of_publication": 2014
         },
         {
          "year_of_publication": 2013
         },
         {
          "year_of_publication": 2013
         },
         {
          "year_of_publication": 2015
         },
         {
          "year_of_publication": 2016
         },
         {
          "year_of_publication": 2015
         },
         {
          "year_of_publication": 2017
         },
         {
          "year_of_publication": 2016
         },
         {
          "year_of_publication": 2015
         },
         {
          "year_of_publication": 2014
         },
         {
          "year_of_publication": 2016
         },
         {
          "year_of_publication": 2014
         },
         {
          "year_of_publication": 2013
         },
         {
          "year_of_publication": 2014
         },
         {
          "year_of_publication": 2015
         },
         {
          "year_of_publication": 2015
         },
         {
          "year_of_publication": 2014
         },
         {
          "year_of_publication": 2015
         },
         {
          "year_of_publication": 2016
         },
         {
          "year_of_publication": 2013
         },
         {
          "year_of_publication": 2015
         },
         {
          "year_of_publication": 2017
         },
         {
          "year_of_publication": 2016
         },
         {
          "year_of_publication": 2016
         },
         {
          "year_of_publication": 2020
         },
         {
          "year_of_publication": 2014
         },
         {
          "year_of_publication": 2012
         },
         {
          "year_of_publication": 2014
         },
         {
          "year_of_publication": 2014
         },
         {
          "year_of_publication": 2015
         },
         {
          "year_of_publication": 2015
         },
         {
          "year_of_publication": 2012
         },
         {
          "year_of_publication": 2016
         },
         {
          "year_of_publication": 2015
         },
         {
          "year_of_publication": 2013
         },
         {
          "year_of_publication": 2014
         },
         {
          "year_of_publication": 2016
         },
         {
          "year_of_publication": 2017
         },
         {
          "year_of_publication": 2015
         },
         {
          "year_of_publication": 2013
         },
         {
          "year_of_publication": 2017
         },
         {
          "year_of_publication": 2012
         },
         {
          "year_of_publication": 2015
         },
         {
          "year_of_publication": 2013
         },
         {
          "year_of_publication": 2015
         },
         {
          "year_of_publication": 2015
         },
         {
          "year_of_publication": 2014
         },
         {
          "year_of_publication": 2015
         },
         {
          "year_of_publication": 2012
         },
         {
          "year_of_publication": 2014
         },
         {
          "year_of_publication": 2014
         },
         {
          "year_of_publication": 2015
         },
         {
          "year_of_publication": 2015
         },
         {
          "year_of_publication": 2013
         },
         {
          "year_of_publication": 2012
         },
         {
          "year_of_publication": 2014
         },
         {
          "year_of_publication": 2015
         },
         {
          "year_of_publication": 2014
         },
         {
          "year_of_publication": 2012
         },
         {
          "year_of_publication": 2012
         },
         {
          "year_of_publication": 2014
         },
         {
          "year_of_publication": 2018
         },
         {
          "year_of_publication": 2013
         },
         {
          "year_of_publication": 2017
         },
         {
          "year_of_publication": 2015
         },
         {
          "year_of_publication": 2016
         },
         {
          "year_of_publication": 2017
         },
         {
          "year_of_publication": 2014
         },
         {
          "year_of_publication": 2013
         },
         {
          "year_of_publication": 2018
         },
         {
          "year_of_publication": 2014
         },
         {
          "year_of_publication": 2015
         },
         {
          "year_of_publication": 2015
         },
         {
          "year_of_publication": 2014
         },
         {
          "year_of_publication": 2013
         },
         {
          "year_of_publication": 2013
         },
         {
          "year_of_publication": 2012
         },
         {
          "year_of_publication": 2013
         },
         {
          "year_of_publication": 2013
         },
         {
          "year_of_publication": 2014
         },
         {
          "year_of_publication": 2012
         },
         {
          "year_of_publication": 2017
         },
         {
          "year_of_publication": 2013
         },
         {
          "year_of_publication": 2016
         },
         {
          "year_of_publication": 2014
         },
         {
          "year_of_publication": 2016
         },
         {
          "year_of_publication": 2014
         },
         {
          "year_of_publication": 2015
         },
         {
          "year_of_publication": 2017
         },
         {
          "year_of_publication": 2016
         },
         {
          "year_of_publication": 2016
         },
         {
          "year_of_publication": 2013
         },
         {
          "year_of_publication": 2013
         },
         {
          "year_of_publication": 2015
         },
         {
          "year_of_publication": 2015
         },
         {
          "year_of_publication": 2012
         },
         {
          "year_of_publication": 2014
         },
         {
          "year_of_publication": 2012
         },
         {
          "year_of_publication": 2016
         },
         {
          "year_of_publication": 2016
         },
         {
          "year_of_publication": 2012
         },
         {
          "year_of_publication": 2013
         },
         {
          "year_of_publication": 2014
         },
         {
          "year_of_publication": 2012
         },
         {
          "year_of_publication": 2014
         },
         {
          "year_of_publication": 2013
         },
         {
          "year_of_publication": 2013
         },
         {
          "year_of_publication": 2016
         },
         {
          "year_of_publication": 2015
         },
         {
          "year_of_publication": 2014
         },
         {
          "year_of_publication": 2015
         },
         {
          "year_of_publication": 2015
         },
         {
          "year_of_publication": 2013
         },
         {
          "year_of_publication": 2012
         },
         {
          "year_of_publication": 2014
         },
         {
          "year_of_publication": 2017
         },
         {
          "year_of_publication": 2013
         },
         {
          "year_of_publication": 2013
         },
         {
          "year_of_publication": 2015
         },
         {
          "year_of_publication": 2013
         },
         {
          "year_of_publication": 2012
         },
         {
          "year_of_publication": 2012
         },
         {
          "year_of_publication": 2014
         },
         {
          "year_of_publication": 2015
         },
         {
          "year_of_publication": 2016
         },
         {
          "year_of_publication": 2018
         },
         {
          "year_of_publication": 2012
         },
         {
          "year_of_publication": 2014
         },
         {
          "year_of_publication": 2014
         },
         {
          "year_of_publication": 2017
         },
         {
          "year_of_publication": 2015
         },
         {
          "year_of_publication": 2016
         },
         {
          "year_of_publication": 2014
         },
         {
          "year_of_publication": 2014
         },
         {
          "year_of_publication": 2015
         },
         {
          "year_of_publication": 2017
         },
         {
          "year_of_publication": 2014
         },
         {
          "year_of_publication": 2016
         },
         {
          "year_of_publication": 2015
         },
         {
          "year_of_publication": 2014
         },
         {
          "year_of_publication": 2012
         },
         {
          "year_of_publication": 2014
         },
         {
          "year_of_publication": 2013
         },
         {
          "year_of_publication": 2014
         },
         {
          "year_of_publication": 2013
         },
         {
          "year_of_publication": 2015
         },
         {
          "year_of_publication": 2017
         },
         {
          "year_of_publication": 2012
         },
         {
          "year_of_publication": 2013
         },
         {
          "year_of_publication": 2014
         },
         {
          "year_of_publication": 2015
         },
         {
          "year_of_publication": 2016
         },
         {
          "year_of_publication": 2013
         },
         {
          "year_of_publication": 2015
         },
         {
          "year_of_publication": 2020
         },
         {
          "year_of_publication": 2016
         },
         {
          "year_of_publication": 2015
         },
         {
          "year_of_publication": 2014
         },
         {
          "year_of_publication": 2012
         },
         {
          "year_of_publication": 2014
         },
         {
          "year_of_publication": 2013
         },
         {
          "year_of_publication": 2014
         },
         {
          "year_of_publication": 2012
         },
         {
          "year_of_publication": 2012
         },
         {
          "year_of_publication": 2017
         },
         {
          "year_of_publication": 2015
         },
         {
          "year_of_publication": 2015
         },
         {
          "year_of_publication": 2014
         },
         {
          "year_of_publication": 2012
         },
         {
          "year_of_publication": 2015
         },
         {
          "year_of_publication": 2017
         },
         {
          "year_of_publication": 2014
         },
         {
          "year_of_publication": 2014
         },
         {
          "year_of_publication": 2014
         },
         {
          "year_of_publication": 2017
         },
         {
          "year_of_publication": 2015
         },
         {
          "year_of_publication": 2013
         },
         {
          "year_of_publication": 2016
         },
         {
          "year_of_publication": 2016
         },
         {
          "year_of_publication": 2015
         },
         {
          "year_of_publication": 2016
         },
         {
          "year_of_publication": 2015
         },
         {
          "year_of_publication": 2015
         },
         {
          "year_of_publication": 2015
         },
         {
          "year_of_publication": 2015
         },
         {
          "year_of_publication": 2015
         },
         {
          "year_of_publication": 2015
         },
         {
          "year_of_publication": 2014
         },
         {
          "year_of_publication": 2015
         },
         {
          "year_of_publication": 2018
         },
         {
          "year_of_publication": 2014
         },
         {
          "year_of_publication": 2014
         },
         {
          "year_of_publication": 2013
         },
         {
          "year_of_publication": 2014
         },
         {
          "year_of_publication": 2013
         },
         {
          "year_of_publication": 2015
         },
         {
          "year_of_publication": 2015
         },
         {
          "year_of_publication": 2015
         },
         {
          "year_of_publication": 2016
         },
         {
          "year_of_publication": 2013
         },
         {
          "year_of_publication": 2012
         },
         {
          "year_of_publication": 2014
         },
         {
          "year_of_publication": 2014
         },
         {
          "year_of_publication": 2015
         },
         {
          "year_of_publication": 2016
         },
         {
          "year_of_publication": 2015
         },
         {
          "year_of_publication": 2014
         },
         {
          "year_of_publication": 2015
         },
         {
          "year_of_publication": 2018
         },
         {
          "year_of_publication": 2014
         },
         {
          "year_of_publication": 2015
         },
         {
          "year_of_publication": 2014
         },
         {
          "year_of_publication": 2014
         },
         {
          "year_of_publication": 2016
         },
         {
          "year_of_publication": 2016
         },
         {
          "year_of_publication": 2017
         },
         {
          "year_of_publication": 2015
         },
         {
          "year_of_publication": 2014
         },
         {
          "year_of_publication": 2015
         },
         {
          "year_of_publication": 2012
         },
         {
          "year_of_publication": 2015
         },
         {
          "year_of_publication": 2015
         },
         {
          "year_of_publication": 2015
         },
         {
          "year_of_publication": 2014
         },
         {
          "year_of_publication": 2016
         },
         {
          "year_of_publication": 2015
         },
         {
          "year_of_publication": 2014
         },
         {
          "year_of_publication": 2015
         },
         {
          "year_of_publication": 2014
         },
         {
          "year_of_publication": 2015
         },
         {
          "year_of_publication": 2016
         },
         {
          "year_of_publication": 2016
         },
         {
          "year_of_publication": 2014
         },
         {
          "year_of_publication": 2014
         },
         {
          "year_of_publication": 2013
         },
         {
          "year_of_publication": 2015
         },
         {
          "year_of_publication": 2016
         },
         {
          "year_of_publication": 2014
         },
         {
          "year_of_publication": 2015
         },
         {
          "year_of_publication": 2017
         },
         {
          "year_of_publication": 2017
         },
         {
          "year_of_publication": 2015
         },
         {
          "year_of_publication": 2016
         },
         {
          "year_of_publication": 2014
         },
         {
          "year_of_publication": 2013
         },
         {
          "year_of_publication": 2013
         },
         {
          "year_of_publication": 2014
         },
         {
          "year_of_publication": 2016
         },
         {
          "year_of_publication": 2015
         },
         {
          "year_of_publication": 2018
         },
         {
          "year_of_publication": 2014
         },
         {
          "year_of_publication": 2013
         },
         {
          "year_of_publication": 2012
         },
         {
          "year_of_publication": 2013
         },
         {
          "year_of_publication": 2017
         },
         {
          "year_of_publication": 2015
         },
         {
          "year_of_publication": 2012
         },
         {
          "year_of_publication": 2017
         },
         {
          "year_of_publication": 2015
         },
         {
          "year_of_publication": 2017
         },
         {
          "year_of_publication": 2014
         },
         {
          "year_of_publication": 2013
         },
         {
          "year_of_publication": 2017
         },
         {
          "year_of_publication": 2014
         },
         {
          "year_of_publication": 2016
         },
         {
          "year_of_publication": 2016
         },
         {
          "year_of_publication": 2014
         },
         {
          "year_of_publication": 2015
         },
         {
          "year_of_publication": 2016
         },
         {
          "year_of_publication": 2012
         },
         {
          "year_of_publication": 2015
         },
         {
          "year_of_publication": 2016
         },
         {
          "year_of_publication": 2015
         },
         {
          "year_of_publication": 2016
         },
         {
          "year_of_publication": 2016
         },
         {
          "year_of_publication": 2012
         },
         {
          "year_of_publication": 2015
         },
         {
          "year_of_publication": 2015
         },
         {
          "year_of_publication": 2014
         },
         {
          "year_of_publication": 2022
         },
         {
          "year_of_publication": 2012
         },
         {
          "year_of_publication": 2015
         },
         {
          "year_of_publication": 2015
         },
         {
          "year_of_publication": 2014
         },
         {
          "year_of_publication": 2015
         },
         {
          "year_of_publication": 2012
         },
         {
          "year_of_publication": 2015
         },
         {
          "year_of_publication": 2015
         },
         {
          "year_of_publication": 2022
         },
         {
          "year_of_publication": 2012
         },
         {
          "year_of_publication": 2017
         },
         {
          "year_of_publication": 2016
         },
         {
          "year_of_publication": 2014
         },
         {
          "year_of_publication": 2014
         },
         {
          "year_of_publication": 2014
         },
         {
          "year_of_publication": 2016
         },
         {
          "year_of_publication": 2017
         },
         {
          "year_of_publication": 2016
         },
         {
          "year_of_publication": 2015
         },
         {
          "year_of_publication": 2013
         },
         {
          "year_of_publication": 2018
         },
         {
          "year_of_publication": 2015
         },
         {
          "year_of_publication": 2014
         },
         {
          "year_of_publication": 2014
         },
         {
          "year_of_publication": 2015
         },
         {
          "year_of_publication": 2016
         },
         {
          "year_of_publication": 2013
         },
         {
          "year_of_publication": 2016
         },
         {
          "year_of_publication": 2016
         },
         {
          "year_of_publication": 2013
         },
         {
          "year_of_publication": 2015
         },
         {
          "year_of_publication": 2013
         },
         {
          "year_of_publication": 2014
         },
         {
          "year_of_publication": 2016
         },
         {
          "year_of_publication": 2014
         },
         {
          "year_of_publication": 2015
         },
         {
          "year_of_publication": 2015
         },
         {
          "year_of_publication": 2015
         },
         {
          "year_of_publication": 2016
         },
         {
          "year_of_publication": 2016
         },
         {
          "year_of_publication": 2014
         },
         {
          "year_of_publication": 2017
         },
         {
          "year_of_publication": 2016
         },
         {
          "year_of_publication": 2016
         },
         {
          "year_of_publication": 2016
         },
         {
          "year_of_publication": 2016
         },
         {
          "year_of_publication": 2015
         },
         {
          "year_of_publication": 2014
         },
         {
          "year_of_publication": 2013
         },
         {
          "year_of_publication": 2014
         },
         {
          "year_of_publication": 2014
         },
         {
          "year_of_publication": 2014
         },
         {
          "year_of_publication": 2015
         },
         {
          "year_of_publication": 2014
         },
         {
          "year_of_publication": 2014
         },
         {
          "year_of_publication": 2017
         },
         {
          "year_of_publication": 2015
         },
         {
          "year_of_publication": 2015
         },
         {
          "year_of_publication": 2014
         },
         {
          "year_of_publication": 2021
         },
         {
          "year_of_publication": 2015
         },
         {
          "year_of_publication": 2014
         },
         {
          "year_of_publication": 2015
         },
         {
          "year_of_publication": 2012
         },
         {
          "year_of_publication": 2016
         },
         {
          "year_of_publication": 2016
         },
         {
          "year_of_publication": 2014
         },
         {
          "year_of_publication": 2012
         },
         {
          "year_of_publication": 2016
         },
         {
          "year_of_publication": 2015
         },
         {
          "year_of_publication": 2013
         },
         {
          "year_of_publication": 2015
         },
         {
          "year_of_publication": 2013
         },
         {
          "year_of_publication": 2016
         },
         {
          "year_of_publication": 2014
         },
         {
          "year_of_publication": 2015
         },
         {
          "year_of_publication": 2015
         },
         {
          "year_of_publication": 2012
         },
         {
          "year_of_publication": 2014
         },
         {
          "year_of_publication": 2014
         },
         {
          "year_of_publication": 2016
         },
         {
          "year_of_publication": 2015
         },
         {
          "year_of_publication": 2014
         },
         {
          "year_of_publication": 2013
         },
         {
          "year_of_publication": 2015
         },
         {
          "year_of_publication": 2017
         },
         {
          "year_of_publication": 2015
         },
         {
          "year_of_publication": 2014
         },
         {
          "year_of_publication": 2015
         },
         {
          "year_of_publication": 2013
         },
         {
          "year_of_publication": 2015
         },
         {
          "year_of_publication": 2016
         },
         {
          "year_of_publication": 2013
         },
         {
          "year_of_publication": 2012
         },
         {
          "year_of_publication": 2013
         },
         {
          "year_of_publication": 2012
         },
         {
          "year_of_publication": 2014
         },
         {
          "year_of_publication": 2012
         },
         {
          "year_of_publication": 2015
         },
         {
          "year_of_publication": 2015
         },
         {
          "year_of_publication": 2014
         },
         {
          "year_of_publication": 2018
         },
         {
          "year_of_publication": 2017
         },
         {
          "year_of_publication": 2015
         },
         {
          "year_of_publication": 2015
         },
         {
          "year_of_publication": 2012
         },
         {
          "year_of_publication": 2013
         },
         {
          "year_of_publication": 2015
         },
         {
          "year_of_publication": 2017
         },
         {
          "year_of_publication": 2018
         },
         {
          "year_of_publication": 2013
         },
         {
          "year_of_publication": 2016
         },
         {
          "year_of_publication": 2014
         },
         {
          "year_of_publication": 2012
         },
         {
          "year_of_publication": 2014
         },
         {
          "year_of_publication": 2013
         },
         {
          "year_of_publication": 2016
         },
         {
          "year_of_publication": 2015
         },
         {
          "year_of_publication": 2016
         },
         {
          "year_of_publication": 2017
         },
         {
          "year_of_publication": 2016
         },
         {
          "year_of_publication": 2017
         },
         {
          "year_of_publication": 2015
         },
         {
          "year_of_publication": 2014
         },
         {
          "year_of_publication": 2014
         },
         {
          "year_of_publication": 2014
         },
         {
          "year_of_publication": 2013
         },
         {
          "year_of_publication": 2015
         },
         {
          "year_of_publication": 2014
         },
         {
          "year_of_publication": 2016
         },
         {
          "year_of_publication": 2015
         },
         {
          "year_of_publication": 2016
         },
         {
          "year_of_publication": 2014
         },
         {
          "year_of_publication": 2014
         },
         {
          "year_of_publication": 2014
         },
         {
          "year_of_publication": 2013
         },
         {
          "year_of_publication": 2017
         },
         {
          "year_of_publication": 2013
         },
         {
          "year_of_publication": 2013
         },
         {
          "year_of_publication": 2012
         },
         {
          "year_of_publication": 2015
         },
         {
          "year_of_publication": 2013
         },
         {
          "year_of_publication": 2016
         },
         {
          "year_of_publication": 2015
         },
         {
          "year_of_publication": 2014
         },
         {
          "year_of_publication": 2014
         },
         {
          "year_of_publication": 2015
         },
         {
          "year_of_publication": 2014
         },
         {
          "year_of_publication": 2014
         },
         {
          "year_of_publication": 2016
         },
         {
          "year_of_publication": 2017
         },
         {
          "year_of_publication": 2014
         },
         {
          "year_of_publication": 2014
         },
         {
          "year_of_publication": 2014
         },
         {
          "year_of_publication": 2018
         },
         {
          "year_of_publication": 2015
         },
         {
          "year_of_publication": 2015
         },
         {
          "year_of_publication": 2013
         },
         {
          "year_of_publication": 2015
         },
         {
          "year_of_publication": 2014
         },
         {
          "year_of_publication": 2012
         },
         {
          "year_of_publication": 2016
         },
         {
          "year_of_publication": 2014
         },
         {
          "year_of_publication": 2013
         },
         {
          "year_of_publication": 2013
         },
         {
          "year_of_publication": 2013
         },
         {
          "year_of_publication": 2013
         },
         {
          "year_of_publication": 2015
         },
         {
          "year_of_publication": 2017
         },
         {
          "year_of_publication": 2016
         },
         {
          "year_of_publication": 2016
         },
         {
          "year_of_publication": 2015
         },
         {
          "year_of_publication": 2016
         },
         {
          "year_of_publication": 2015
         },
         {
          "year_of_publication": 2017
         },
         {
          "year_of_publication": 2014
         },
         {
          "year_of_publication": 2016
         },
         {
          "year_of_publication": 2013
         },
         {
          "year_of_publication": 2016
         },
         {
          "year_of_publication": 2016
         },
         {
          "year_of_publication": 2017
         },
         {
          "year_of_publication": 2015
         },
         {
          "year_of_publication": 2015
         },
         {
          "year_of_publication": 2015
         },
         {
          "year_of_publication": 2015
         },
         {
          "year_of_publication": 2012
         },
         {
          "year_of_publication": 2014
         },
         {
          "year_of_publication": 2013
         },
         {
          "year_of_publication": 2014
         },
         {
          "year_of_publication": 2015
         },
         {
          "year_of_publication": 2015
         },
         {
          "year_of_publication": 2015
         },
         {
          "year_of_publication": 2012
         },
         {
          "year_of_publication": 2015
         },
         {
          "year_of_publication": 2014
         },
         {
          "year_of_publication": 2016
         },
         {
          "year_of_publication": 2015
         },
         {
          "year_of_publication": 2012
         },
         {
          "year_of_publication": 2015
         },
         {
          "year_of_publication": 2014
         },
         {
          "year_of_publication": 2017
         },
         {
          "year_of_publication": 2015
         },
         {
          "year_of_publication": 2012
         },
         {
          "year_of_publication": 2016
         },
         {
          "year_of_publication": 2015
         },
         {
          "year_of_publication": 2015
         },
         {
          "year_of_publication": 2012
         },
         {
          "year_of_publication": 2014
         },
         {
          "year_of_publication": 2015
         },
         {
          "year_of_publication": 2016
         },
         {
          "year_of_publication": 2016
         },
         {
          "year_of_publication": 2016
         },
         {
          "year_of_publication": 2016
         },
         {
          "year_of_publication": 2012
         },
         {
          "year_of_publication": 2013
         },
         {
          "year_of_publication": 2017
         },
         {
          "year_of_publication": 2013
         },
         {
          "year_of_publication": 2012
         },
         {
          "year_of_publication": 2016
         },
         {
          "year_of_publication": 2015
         },
         {
          "year_of_publication": 2015
         },
         {
          "year_of_publication": 2015
         },
         {
          "year_of_publication": 2018
         },
         {
          "year_of_publication": 2020
         },
         {
          "year_of_publication": 2015
         },
         {
          "year_of_publication": 2022
         },
         {
          "year_of_publication": 2013
         },
         {
          "year_of_publication": 2015
         },
         {
          "year_of_publication": 2013
         },
         {
          "year_of_publication": 2016
         },
         {
          "year_of_publication": 2015
         },
         {
          "year_of_publication": 2014
         },
         {
          "year_of_publication": 2012
         },
         {
          "year_of_publication": 2013
         },
         {
          "year_of_publication": 2016
         },
         {
          "year_of_publication": 2015
         },
         {
          "year_of_publication": 2012
         },
         {
          "year_of_publication": 2013
         },
         {
          "year_of_publication": 2016
         },
         {
          "year_of_publication": 2015
         },
         {
          "year_of_publication": 2016
         },
         {
          "year_of_publication": 2014
         },
         {
          "year_of_publication": 2013
         },
         {
          "year_of_publication": 2013
         },
         {
          "year_of_publication": 2015
         },
         {
          "year_of_publication": 2012
         },
         {
          "year_of_publication": 2013
         },
         {
          "year_of_publication": 2012
         },
         {
          "year_of_publication": 2013
         },
         {
          "year_of_publication": 2012
         },
         {
          "year_of_publication": 2013
         },
         {
          "year_of_publication": 2013
         },
         {
          "year_of_publication": 2014
         },
         {
          "year_of_publication": 2014
         },
         {
          "year_of_publication": 2017
         },
         {
          "year_of_publication": 2012
         },
         {
          "year_of_publication": 2014
         },
         {
          "year_of_publication": 2016
         },
         {
          "year_of_publication": 2016
         },
         {
          "year_of_publication": 2014
         },
         {
          "year_of_publication": 2015
         },
         {
          "year_of_publication": 2016
         },
         {
          "year_of_publication": 2017
         },
         {
          "year_of_publication": 2017
         },
         {
          "year_of_publication": 2012
         },
         {
          "year_of_publication": 2015
         },
         {
          "year_of_publication": 2013
         },
         {
          "year_of_publication": 2014
         },
         {
          "year_of_publication": 2017
         },
         {
          "year_of_publication": 2014
         },
         {
          "year_of_publication": 2015
         },
         {
          "year_of_publication": 2016
         },
         {
          "year_of_publication": 2014
         },
         {
          "year_of_publication": 2015
         },
         {
          "year_of_publication": 2014
         },
         {
          "year_of_publication": 2015
         },
         {
          "year_of_publication": 2014
         },
         {
          "year_of_publication": 2015
         },
         {
          "year_of_publication": 2013
         },
         {
          "year_of_publication": 2015
         },
         {
          "year_of_publication": 2014
         },
         {
          "year_of_publication": 2012
         },
         {
          "year_of_publication": 2016
         },
         {
          "year_of_publication": 2014
         },
         {
          "year_of_publication": 2013
         },
         {
          "year_of_publication": 2015
         },
         {
          "year_of_publication": 2013
         },
         {
          "year_of_publication": 2017
         },
         {
          "year_of_publication": 2017
         },
         {
          "year_of_publication": 2013
         },
         {
          "year_of_publication": 2014
         },
         {
          "year_of_publication": 2016
         },
         {
          "year_of_publication": 2017
         },
         {
          "year_of_publication": 2014
         },
         {
          "year_of_publication": 2014
         },
         {
          "year_of_publication": 2017
         },
         {
          "year_of_publication": 2016
         },
         {
          "year_of_publication": 2013
         },
         {
          "year_of_publication": 2015
         },
         {
          "year_of_publication": 2012
         },
         {
          "year_of_publication": 2017
         },
         {
          "year_of_publication": 2015
         },
         {
          "year_of_publication": 2014
         },
         {
          "year_of_publication": 2015
         },
         {
          "year_of_publication": 2017
         },
         {
          "year_of_publication": 2012
         },
         {
          "year_of_publication": 2015
         },
         {
          "year_of_publication": 2013
         },
         {
          "year_of_publication": 2015
         },
         {
          "year_of_publication": 2013
         },
         {
          "year_of_publication": 2016
         },
         {
          "year_of_publication": 2013
         },
         {
          "year_of_publication": 2015
         },
         {
          "year_of_publication": 2014
         },
         {
          "year_of_publication": 2014
         },
         {
          "year_of_publication": 2013
         },
         {
          "year_of_publication": 2014
         },
         {
          "year_of_publication": 2014
         },
         {
          "year_of_publication": 2012
         },
         {
          "year_of_publication": 2012
         },
         {
          "year_of_publication": 2014
         },
         {
          "year_of_publication": 2016
         },
         {
          "year_of_publication": 2015
         },
         {
          "year_of_publication": 2012
         },
         {
          "year_of_publication": 2015
         },
         {
          "year_of_publication": 2013
         },
         {
          "year_of_publication": 2014
         },
         {
          "year_of_publication": 2015
         },
         {
          "year_of_publication": 2016
         },
         {
          "year_of_publication": 2014
         },
         {
          "year_of_publication": 2013
         },
         {
          "year_of_publication": 2014
         },
         {
          "year_of_publication": 2016
         },
         {
          "year_of_publication": 2014
         },
         {
          "year_of_publication": 2014
         },
         {
          "year_of_publication": 2012
         },
         {
          "year_of_publication": 2015
         },
         {
          "year_of_publication": 2012
         },
         {
          "year_of_publication": 2019
         },
         {
          "year_of_publication": 2013
         },
         {
          "year_of_publication": 2014
         },
         {
          "year_of_publication": 2013
         },
         {
          "year_of_publication": 2015
         },
         {
          "year_of_publication": 2014
         },
         {
          "year_of_publication": 2014
         },
         {
          "year_of_publication": 2014
         },
         {
          "year_of_publication": 2014
         },
         {
          "year_of_publication": 2014
         },
         {
          "year_of_publication": 2015
         },
         {
          "year_of_publication": 2016
         },
         {
          "year_of_publication": 2015
         },
         {
          "year_of_publication": 2015
         },
         {
          "year_of_publication": 2013
         },
         {
          "year_of_publication": 2015
         },
         {
          "year_of_publication": 2014
         },
         {
          "year_of_publication": 2014
         },
         {
          "year_of_publication": 2013
         },
         {
          "year_of_publication": 2015
         },
         {
          "year_of_publication": 2012
         },
         {
          "year_of_publication": 2015
         },
         {
          "year_of_publication": 2015
         },
         {
          "year_of_publication": 2014
         },
         {
          "year_of_publication": 2014
         },
         {
          "year_of_publication": 2016
         },
         {
          "year_of_publication": 2016
         },
         {
          "year_of_publication": 2014
         },
         {
          "year_of_publication": 2015
         },
         {
          "year_of_publication": 2016
         },
         {
          "year_of_publication": 2013
         },
         {
          "year_of_publication": 2015
         },
         {
          "year_of_publication": 2012
         },
         {
          "year_of_publication": 2015
         },
         {
          "year_of_publication": 2016
         },
         {
          "year_of_publication": 2016
         },
         {
          "year_of_publication": 2017
         },
         {
          "year_of_publication": 2015
         },
         {
          "year_of_publication": 2012
         },
         {
          "year_of_publication": 2015
         },
         {
          "year_of_publication": 2014
         },
         {
          "year_of_publication": 2013
         },
         {
          "year_of_publication": 2014
         },
         {
          "year_of_publication": 2013
         },
         {
          "year_of_publication": 2013
         },
         {
          "year_of_publication": 2014
         },
         {
          "year_of_publication": 2016
         },
         {
          "year_of_publication": 2012
         },
         {
          "year_of_publication": 2012
         },
         {
          "year_of_publication": 2014
         },
         {
          "year_of_publication": 2015
         },
         {
          "year_of_publication": 2017
         },
         {
          "year_of_publication": 2013
         },
         {
          "year_of_publication": 2016
         },
         {
          "year_of_publication": 2014
         },
         {
          "year_of_publication": 2015
         },
         {
          "year_of_publication": 2015
         },
         {
          "year_of_publication": 2016
         },
         {
          "year_of_publication": 2012
         },
         {
          "year_of_publication": 2014
         },
         {
          "year_of_publication": 2014
         },
         {
          "year_of_publication": 2012
         },
         {
          "year_of_publication": 2012
         },
         {
          "year_of_publication": 2015
         },
         {
          "year_of_publication": 2014
         },
         {
          "year_of_publication": 2014
         },
         {
          "year_of_publication": 2012
         },
         {
          "year_of_publication": 2014
         },
         {
          "year_of_publication": 2014
         },
         {
          "year_of_publication": 2014
         },
         {
          "year_of_publication": 2015
         },
         {
          "year_of_publication": 2012
         },
         {
          "year_of_publication": 2013
         },
         {
          "year_of_publication": 2013
         },
         {
          "year_of_publication": 2013
         },
         {
          "year_of_publication": 2014
         },
         {
          "year_of_publication": 2017
         },
         {
          "year_of_publication": 2016
         },
         {
          "year_of_publication": 2014
         },
         {
          "year_of_publication": 2015
         },
         {
          "year_of_publication": 2016
         },
         {
          "year_of_publication": 2016
         },
         {
          "year_of_publication": 2014
         },
         {
          "year_of_publication": 2013
         },
         {
          "year_of_publication": 2015
         },
         {
          "year_of_publication": 2015
         },
         {
          "year_of_publication": 2015
         },
         {
          "year_of_publication": 2018
         },
         {
          "year_of_publication": 2015
         },
         {
          "year_of_publication": 2017
         },
         {
          "year_of_publication": 2013
         },
         {
          "year_of_publication": 2015
         },
         {
          "year_of_publication": 2014
         },
         {
          "year_of_publication": 2012
         },
         {
          "year_of_publication": 2021
         },
         {
          "year_of_publication": 2016
         },
         {
          "year_of_publication": 2017
         },
         {
          "year_of_publication": 2016
         },
         {
          "year_of_publication": 2017
         },
         {
          "year_of_publication": 2013
         },
         {
          "year_of_publication": 2014
         },
         {
          "year_of_publication": 2012
         },
         {
          "year_of_publication": 2013
         },
         {
          "year_of_publication": 2016
         },
         {
          "year_of_publication": 2016
         },
         {
          "year_of_publication": 2014
         },
         {
          "year_of_publication": 2013
         },
         {
          "year_of_publication": 2014
         },
         {
          "year_of_publication": 2012
         },
         {
          "year_of_publication": 2017
         },
         {
          "year_of_publication": 2014
         },
         {
          "year_of_publication": 2017
         },
         {
          "year_of_publication": 2016
         },
         {
          "year_of_publication": 2014
         },
         {
          "year_of_publication": 2015
         },
         {
          "year_of_publication": 2014
         },
         {
          "year_of_publication": 2013
         },
         {
          "year_of_publication": 2013
         },
         {
          "year_of_publication": 2014
         },
         {
          "year_of_publication": 2014
         },
         {
          "year_of_publication": 2013
         },
         {
          "year_of_publication": 2016
         },
         {
          "year_of_publication": 2013
         },
         {
          "year_of_publication": 2013
         },
         {
          "year_of_publication": 2012
         },
         {
          "year_of_publication": 2015
         },
         {
          "year_of_publication": 2015
         },
         {
          "year_of_publication": 2014
         },
         {
          "year_of_publication": 2016
         },
         {
          "year_of_publication": 2013
         },
         {
          "year_of_publication": 2014
         },
         {
          "year_of_publication": 2013
         },
         {
          "year_of_publication": 2013
         },
         {
          "year_of_publication": 2015
         },
         {
          "year_of_publication": 2016
         },
         {
          "year_of_publication": 2015
         },
         {
          "year_of_publication": 2015
         },
         {
          "year_of_publication": 2014
         },
         {
          "year_of_publication": 2014
         },
         {
          "year_of_publication": 2016
         },
         {
          "year_of_publication": 2014
         },
         {
          "year_of_publication": 2012
         },
         {
          "year_of_publication": 2017
         },
         {
          "year_of_publication": 2012
         },
         {
          "year_of_publication": 2016
         },
         {
          "year_of_publication": 2014
         },
         {
          "year_of_publication": 2012
         },
         {
          "year_of_publication": 2017
         },
         {
          "year_of_publication": 2013
         },
         {
          "year_of_publication": 2014
         },
         {
          "year_of_publication": 2013
         },
         {
          "year_of_publication": 2013
         },
         {
          "year_of_publication": 2012
         },
         {
          "year_of_publication": 2015
         },
         {
          "year_of_publication": 2012
         },
         {
          "year_of_publication": 2014
         },
         {
          "year_of_publication": 2014
         },
         {
          "year_of_publication": 2015
         },
         {
          "year_of_publication": 2017
         },
         {
          "year_of_publication": 2015
         },
         {
          "year_of_publication": 2012
         },
         {
          "year_of_publication": 2016
         },
         {
          "year_of_publication": 2016
         },
         {
          "year_of_publication": 2015
         },
         {
          "year_of_publication": 2016
         },
         {
          "year_of_publication": 2014
         },
         {
          "year_of_publication": 2012
         },
         {
          "year_of_publication": 2015
         },
         {
          "year_of_publication": 2015
         },
         {
          "year_of_publication": 2014
         },
         {
          "year_of_publication": 2014
         },
         {
          "year_of_publication": 2016
         },
         {
          "year_of_publication": 2013
         },
         {
          "year_of_publication": 2013
         },
         {
          "year_of_publication": 2016
         },
         {
          "year_of_publication": 2014
         },
         {
          "year_of_publication": 2015
         },
         {
          "year_of_publication": 2015
         },
         {
          "year_of_publication": 2016
         },
         {
          "year_of_publication": 2015
         },
         {
          "year_of_publication": 2015
         },
         {
          "year_of_publication": 2015
         },
         {
          "year_of_publication": 2015
         },
         {
          "year_of_publication": 2013
         },
         {
          "year_of_publication": 2016
         },
         {
          "year_of_publication": 2013
         },
         {
          "year_of_publication": 2013
         },
         {
          "year_of_publication": 2012
         },
         {
          "year_of_publication": 2015
         },
         {
          "year_of_publication": 2015
         },
         {
          "year_of_publication": 2012
         },
         {
          "year_of_publication": 2017
         },
         {
          "year_of_publication": 2015
         },
         {
          "year_of_publication": 2017
         },
         {
          "year_of_publication": 2017
         },
         {
          "year_of_publication": 2017
         },
         {
          "year_of_publication": 2017
         },
         {
          "year_of_publication": 2014
         },
         {
          "year_of_publication": 2014
         },
         {
          "year_of_publication": 2013
         },
         {
          "year_of_publication": 2013
         },
         {
          "year_of_publication": 2015
         },
         {
          "year_of_publication": 2015
         },
         {
          "year_of_publication": 2014
         },
         {
          "year_of_publication": 2015
         },
         {
          "year_of_publication": 2014
         },
         {
          "year_of_publication": 2015
         },
         {
          "year_of_publication": 2016
         },
         {
          "year_of_publication": 2016
         },
         {
          "year_of_publication": 2015
         },
         {
          "year_of_publication": 2013
         },
         {
          "year_of_publication": 2015
         },
         {
          "year_of_publication": 2014
         },
         {
          "year_of_publication": 2015
         },
         {
          "year_of_publication": 2015
         },
         {
          "year_of_publication": 2016
         },
         {
          "year_of_publication": 2016
         },
         {
          "year_of_publication": 2015
         },
         {
          "year_of_publication": 2013
         },
         {
          "year_of_publication": 2012
         },
         {
          "year_of_publication": 2014
         },
         {
          "year_of_publication": 2013
         },
         {
          "year_of_publication": 2018
         },
         {
          "year_of_publication": 2012
         },
         {
          "year_of_publication": 2017
         },
         {
          "year_of_publication": 2015
         },
         {
          "year_of_publication": 2015
         },
         {
          "year_of_publication": 2016
         },
         {
          "year_of_publication": 2015
         },
         {
          "year_of_publication": 2015
         },
         {
          "year_of_publication": 2015
         },
         {
          "year_of_publication": 2013
         },
         {
          "year_of_publication": 2016
         },
         {
          "year_of_publication": 2012
         },
         {
          "year_of_publication": 2014
         },
         {
          "year_of_publication": 2015
         },
         {
          "year_of_publication": 2012
         },
         {
          "year_of_publication": 2015
         },
         {
          "year_of_publication": 2015
         },
         {
          "year_of_publication": 2013
         },
         {
          "year_of_publication": 2014
         },
         {
          "year_of_publication": 2013
         },
         {
          "year_of_publication": 2012
         },
         {
          "year_of_publication": 2014
         },
         {
          "year_of_publication": 2015
         },
         {
          "year_of_publication": 2014
         },
         {
          "year_of_publication": 2016
         },
         {
          "year_of_publication": 2012
         },
         {
          "year_of_publication": 2016
         },
         {
          "year_of_publication": 2015
         },
         {
          "year_of_publication": 2016
         },
         {
          "year_of_publication": 2015
         },
         {
          "year_of_publication": 2017
         },
         {
          "year_of_publication": 2015
         },
         {
          "year_of_publication": 2014
         },
         {
          "year_of_publication": 2013
         },
         {
          "year_of_publication": 2017
         },
         {
          "year_of_publication": 2015
         },
         {
          "year_of_publication": 2012
         },
         {
          "year_of_publication": 2012
         },
         {
          "year_of_publication": 2015
         },
         {
          "year_of_publication": 2016
         },
         {
          "year_of_publication": 2018
         },
         {
          "year_of_publication": 2014
         },
         {
          "year_of_publication": 2014
         },
         {
          "year_of_publication": 2014
         },
         {
          "year_of_publication": 2013
         },
         {
          "year_of_publication": 2014
         },
         {
          "year_of_publication": 2013
         },
         {
          "year_of_publication": 2016
         },
         {
          "year_of_publication": 2015
         },
         {
          "year_of_publication": 2014
         },
         {
          "year_of_publication": 2014
         },
         {
          "year_of_publication": 2013
         },
         {
          "year_of_publication": 2015
         },
         {
          "year_of_publication": 2012
         },
         {
          "year_of_publication": 2012
         },
         {
          "year_of_publication": 2013
         },
         {
          "year_of_publication": 2012
         },
         {
          "year_of_publication": 2012
         },
         {
          "year_of_publication": 2017
         },
         {
          "year_of_publication": 2015
         },
         {
          "year_of_publication": 2016
         },
         {
          "year_of_publication": 2014
         },
         {
          "year_of_publication": 2017
         },
         {
          "year_of_publication": 2018
         },
         {
          "year_of_publication": 2013
         },
         {
          "year_of_publication": 2016
         },
         {
          "year_of_publication": 2014
         },
         {
          "year_of_publication": 2016
         },
         {
          "year_of_publication": 2015
         },
         {
          "year_of_publication": 2015
         },
         {
          "year_of_publication": 2017
         },
         {
          "year_of_publication": 2017
         },
         {
          "year_of_publication": 2015
         },
         {
          "year_of_publication": 2013
         },
         {
          "year_of_publication": 2015
         },
         {
          "year_of_publication": 2015
         },
         {
          "year_of_publication": 2013
         },
         {
          "year_of_publication": 2015
         },
         {
          "year_of_publication": 2013
         },
         {
          "year_of_publication": 2015
         },
         {
          "year_of_publication": 2016
         },
         {
          "year_of_publication": 2015
         },
         {
          "year_of_publication": 2013
         },
         {
          "year_of_publication": 2015
         },
         {
          "year_of_publication": 2014
         },
         {
          "year_of_publication": 2014
         },
         {
          "year_of_publication": 2016
         },
         {
          "year_of_publication": 2015
         },
         {
          "year_of_publication": 2013
         },
         {
          "year_of_publication": 2013
         },
         {
          "year_of_publication": 2016
         },
         {
          "year_of_publication": 2016
         },
         {
          "year_of_publication": 2014
         },
         {
          "year_of_publication": 2015
         },
         {
          "year_of_publication": 2015
         },
         {
          "year_of_publication": 2015
         },
         {
          "year_of_publication": 2015
         },
         {
          "year_of_publication": 2014
         },
         {
          "year_of_publication": 2014
         },
         {
          "year_of_publication": 2013
         },
         {
          "year_of_publication": 2013
         },
         {
          "year_of_publication": 2015
         },
         {
          "year_of_publication": 2013
         },
         {
          "year_of_publication": 2014
         },
         {
          "year_of_publication": 2015
         },
         {
          "year_of_publication": 2015
         },
         {
          "year_of_publication": 2013
         },
         {
          "year_of_publication": 2015
         },
         {
          "year_of_publication": 2013
         },
         {
          "year_of_publication": 2013
         },
         {
          "year_of_publication": 2015
         },
         {
          "year_of_publication": 2013
         },
         {
          "year_of_publication": 2016
         },
         {
          "year_of_publication": 2013
         },
         {
          "year_of_publication": 2012
         },
         {
          "year_of_publication": 2015
         },
         {
          "year_of_publication": 2015
         },
         {
          "year_of_publication": 2014
         },
         {
          "year_of_publication": 2016
         },
         {
          "year_of_publication": 2017
         },
         {
          "year_of_publication": 2015
         },
         {
          "year_of_publication": 2014
         },
         {
          "year_of_publication": 2015
         },
         {
          "year_of_publication": 2012
         },
         {
          "year_of_publication": 2016
         },
         {
          "year_of_publication": 2017
         },
         {
          "year_of_publication": 2013
         },
         {
          "year_of_publication": 2013
         },
         {
          "year_of_publication": 2014
         },
         {
          "year_of_publication": 2016
         },
         {
          "year_of_publication": 2014
         },
         {
          "year_of_publication": 2018
         },
         {
          "year_of_publication": 2014
         },
         {
          "year_of_publication": 2014
         },
         {
          "year_of_publication": 2012
         },
         {
          "year_of_publication": 2015
         },
         {
          "year_of_publication": 2012
         },
         {
          "year_of_publication": 2012
         },
         {
          "year_of_publication": 2016
         },
         {
          "year_of_publication": 2015
         },
         {
          "year_of_publication": 2014
         },
         {
          "year_of_publication": 2012
         },
         {
          "year_of_publication": 2016
         },
         {
          "year_of_publication": 2014
         },
         {
          "year_of_publication": 2015
         },
         {
          "year_of_publication": 2016
         },
         {
          "year_of_publication": 2015
         },
         {
          "year_of_publication": 2017
         },
         {
          "year_of_publication": 2015
         },
         {
          "year_of_publication": 2015
         },
         {
          "year_of_publication": 2013
         },
         {
          "year_of_publication": 2015
         },
         {
          "year_of_publication": 2015
         },
         {
          "year_of_publication": 2012
         },
         {
          "year_of_publication": 2014
         },
         {
          "year_of_publication": 2015
         },
         {
          "year_of_publication": 2015
         },
         {
          "year_of_publication": 2015
         },
         {
          "year_of_publication": 2014
         },
         {
          "year_of_publication": 2016
         },
         {
          "year_of_publication": 2016
         },
         {
          "year_of_publication": 2016
         },
         {
          "year_of_publication": 2022
         },
         {
          "year_of_publication": 2015
         },
         {
          "year_of_publication": 2014
         },
         {
          "year_of_publication": 2014
         },
         {
          "year_of_publication": 2016
         },
         {
          "year_of_publication": 2014
         },
         {
          "year_of_publication": 2013
         },
         {
          "year_of_publication": 2013
         },
         {
          "year_of_publication": 2016
         },
         {
          "year_of_publication": 2015
         },
         {
          "year_of_publication": 2015
         },
         {
          "year_of_publication": 2016
         },
         {
          "year_of_publication": 2014
         },
         {
          "year_of_publication": 2014
         },
         {
          "year_of_publication": 2015
         },
         {
          "year_of_publication": 2015
         },
         {
          "year_of_publication": 2018
         },
         {
          "year_of_publication": 2012
         },
         {
          "year_of_publication": 2014
         },
         {
          "year_of_publication": 2015
         },
         {
          "year_of_publication": 2016
         },
         {
          "year_of_publication": 2014
         },
         {
          "year_of_publication": 2016
         },
         {
          "year_of_publication": 2015
         },
         {
          "year_of_publication": 2014
         },
         {
          "year_of_publication": 2014
         },
         {
          "year_of_publication": 2016
         },
         {
          "year_of_publication": 2016
         },
         {
          "year_of_publication": 2015
         },
         {
          "year_of_publication": 2016
         },
         {
          "year_of_publication": 2013
         },
         {
          "year_of_publication": 2015
         },
         {
          "year_of_publication": 2017
         },
         {
          "year_of_publication": 2016
         },
         {
          "year_of_publication": 2017
         },
         {
          "year_of_publication": 2015
         },
         {
          "year_of_publication": 2014
         },
         {
          "year_of_publication": 2015
         },
         {
          "year_of_publication": 2014
         },
         {
          "year_of_publication": 2013
         },
         {
          "year_of_publication": 2015
         },
         {
          "year_of_publication": 2013
         },
         {
          "year_of_publication": 2014
         },
         {
          "year_of_publication": 2014
         },
         {
          "year_of_publication": 2013
         },
         {
          "year_of_publication": 2014
         },
         {
          "year_of_publication": 2018
         },
         {
          "year_of_publication": 2014
         },
         {
          "year_of_publication": 2013
         },
         {
          "year_of_publication": 2015
         },
         {
          "year_of_publication": 2016
         },
         {
          "year_of_publication": 2016
         },
         {
          "year_of_publication": 2015
         },
         {
          "year_of_publication": 2014
         },
         {
          "year_of_publication": 2016
         },
         {
          "year_of_publication": 2012
         },
         {
          "year_of_publication": 2013
         },
         {
          "year_of_publication": 2014
         },
         {
          "year_of_publication": 2012
         },
         {
          "year_of_publication": 2012
         },
         {
          "year_of_publication": 2014
         },
         {
          "year_of_publication": 2017
         },
         {
          "year_of_publication": 2015
         },
         {
          "year_of_publication": 2013
         },
         {
          "year_of_publication": 2014
         },
         {
          "year_of_publication": 2014
         },
         {
          "year_of_publication": 2015
         },
         {
          "year_of_publication": 2012
         },
         {
          "year_of_publication": 2012
         },
         {
          "year_of_publication": 2014
         },
         {
          "year_of_publication": 2014
         },
         {
          "year_of_publication": 2015
         },
         {
          "year_of_publication": 2015
         },
         {
          "year_of_publication": 2016
         },
         {
          "year_of_publication": 2016
         },
         {
          "year_of_publication": 2017
         },
         {
          "year_of_publication": 2012
         },
         {
          "year_of_publication": 2016
         },
         {
          "year_of_publication": 2014
         },
         {
          "year_of_publication": 2014
         },
         {
          "year_of_publication": 2016
         },
         {
          "year_of_publication": 2012
         },
         {
          "year_of_publication": 2017
         },
         {
          "year_of_publication": 2014
         },
         {
          "year_of_publication": 2017
         },
         {
          "year_of_publication": 2012
         },
         {
          "year_of_publication": 2015
         },
         {
          "year_of_publication": 2014
         },
         {
          "year_of_publication": 2015
         },
         {
          "year_of_publication": 2015
         },
         {
          "year_of_publication": 2013
         },
         {
          "year_of_publication": 2014
         },
         {
          "year_of_publication": 2013
         },
         {
          "year_of_publication": 2014
         },
         {
          "year_of_publication": 2016
         },
         {
          "year_of_publication": 2014
         },
         {
          "year_of_publication": 2016
         },
         {
          "year_of_publication": 2016
         },
         {
          "year_of_publication": 2014
         },
         {
          "year_of_publication": 2016
         },
         {
          "year_of_publication": 2012
         },
         {
          "year_of_publication": 2015
         },
         {
          "year_of_publication": 2016
         },
         {
          "year_of_publication": 2012
         },
         {
          "year_of_publication": 2016
         },
         {
          "year_of_publication": 2017
         },
         {
          "year_of_publication": 2016
         },
         {
          "year_of_publication": 2015
         },
         {
          "year_of_publication": 2014
         },
         {
          "year_of_publication": 2013
         },
         {
          "year_of_publication": 2016
         },
         {
          "year_of_publication": 2015
         },
         {
          "year_of_publication": 2013
         },
         {
          "year_of_publication": 2012
         },
         {
          "year_of_publication": 2013
         },
         {
          "year_of_publication": 2014
         },
         {
          "year_of_publication": 2016
         },
         {
          "year_of_publication": 2014
         },
         {
          "year_of_publication": 2012
         },
         {
          "year_of_publication": 2014
         },
         {
          "year_of_publication": 2012
         },
         {
          "year_of_publication": 2017
         },
         {
          "year_of_publication": 2015
         },
         {
          "year_of_publication": 2013
         },
         {
          "year_of_publication": 2013
         },
         {
          "year_of_publication": 2015
         },
         {
          "year_of_publication": 2014
         },
         {
          "year_of_publication": 2015
         },
         {
          "year_of_publication": 2016
         },
         {
          "year_of_publication": 2015
         },
         {
          "year_of_publication": 2015
         },
         {
          "year_of_publication": 2014
         },
         {
          "year_of_publication": 2017
         },
         {
          "year_of_publication": 2017
         },
         {
          "year_of_publication": 2012
         },
         {
          "year_of_publication": 2014
         },
         {
          "year_of_publication": 2015
         },
         {
          "year_of_publication": 2014
         },
         {
          "year_of_publication": 2014
         },
         {
          "year_of_publication": 2014
         },
         {
          "year_of_publication": 2014
         },
         {
          "year_of_publication": 2016
         },
         {
          "year_of_publication": 2013
         },
         {
          "year_of_publication": 2014
         },
         {
          "year_of_publication": 2015
         },
         {
          "year_of_publication": 2012
         },
         {
          "year_of_publication": 2015
         },
         {
          "year_of_publication": 2012
         },
         {
          "year_of_publication": 2016
         },
         {
          "year_of_publication": 2016
         },
         {
          "year_of_publication": 2014
         },
         {
          "year_of_publication": 2015
         },
         {
          "year_of_publication": 2014
         },
         {
          "year_of_publication": 2016
         },
         {
          "year_of_publication": 2015
         },
         {
          "year_of_publication": 2012
         },
         {
          "year_of_publication": 2016
         },
         {
          "year_of_publication": 2015
         },
         {
          "year_of_publication": 2014
         },
         {
          "year_of_publication": 2016
         },
         {
          "year_of_publication": 2012
         },
         {
          "year_of_publication": 2012
         },
         {
          "year_of_publication": 2014
         },
         {
          "year_of_publication": 2016
         },
         {
          "year_of_publication": 2015
         },
         {
          "year_of_publication": 2015
         },
         {
          "year_of_publication": 2014
         },
         {
          "year_of_publication": 2014
         },
         {
          "year_of_publication": 2015
         },
         {
          "year_of_publication": 2014
         },
         {
          "year_of_publication": 2013
         },
         {
          "year_of_publication": 2015
         },
         {
          "year_of_publication": 2016
         },
         {
          "year_of_publication": 2015
         },
         {
          "year_of_publication": 2012
         },
         {
          "year_of_publication": 2015
         },
         {
          "year_of_publication": 2012
         },
         {
          "year_of_publication": 2014
         },
         {
          "year_of_publication": 2013
         },
         {
          "year_of_publication": 2018
         },
         {
          "year_of_publication": 2017
         },
         {
          "year_of_publication": 2014
         },
         {
          "year_of_publication": 2013
         },
         {
          "year_of_publication": 2015
         },
         {
          "year_of_publication": 2016
         },
         {
          "year_of_publication": 2012
         },
         {
          "year_of_publication": 2013
         },
         {
          "year_of_publication": 2014
         },
         {
          "year_of_publication": 2015
         },
         {
          "year_of_publication": 2015
         },
         {
          "year_of_publication": 2015
         },
         {
          "year_of_publication": 2014
         },
         {
          "year_of_publication": 2015
         },
         {
          "year_of_publication": 2014
         },
         {
          "year_of_publication": 2014
         },
         {
          "year_of_publication": 2013
         },
         {
          "year_of_publication": 2017
         },
         {
          "year_of_publication": 2015
         },
         {
          "year_of_publication": 2015
         },
         {
          "year_of_publication": 2016
         },
         {
          "year_of_publication": 2016
         },
         {
          "year_of_publication": 2012
         },
         {
          "year_of_publication": 2014
         },
         {
          "year_of_publication": 2017
         },
         {
          "year_of_publication": 2013
         },
         {
          "year_of_publication": 2014
         },
         {
          "year_of_publication": 2013
         },
         {
          "year_of_publication": 2012
         },
         {
          "year_of_publication": 2017
         },
         {
          "year_of_publication": 2015
         },
         {
          "year_of_publication": 2012
         },
         {
          "year_of_publication": 2013
         },
         {
          "year_of_publication": 2016
         },
         {
          "year_of_publication": 2012
         },
         {
          "year_of_publication": 2014
         },
         {
          "year_of_publication": 2014
         },
         {
          "year_of_publication": 2013
         },
         {
          "year_of_publication": 2015
         },
         {
          "year_of_publication": 2014
         },
         {
          "year_of_publication": 2014
         },
         {
          "year_of_publication": 2016
         },
         {
          "year_of_publication": 2014
         },
         {
          "year_of_publication": 2014
         },
         {
          "year_of_publication": 2015
         },
         {
          "year_of_publication": 2014
         },
         {
          "year_of_publication": 2012
         },
         {
          "year_of_publication": 2012
         },
         {
          "year_of_publication": 2013
         },
         {
          "year_of_publication": 2015
         },
         {
          "year_of_publication": 2014
         },
         {
          "year_of_publication": 2017
         },
         {
          "year_of_publication": 2013
         },
         {
          "year_of_publication": 2016
         },
         {
          "year_of_publication": 2013
         },
         {
          "year_of_publication": 2016
         },
         {
          "year_of_publication": 2015
         },
         {
          "year_of_publication": 2015
         },
         {
          "year_of_publication": 2012
         },
         {
          "year_of_publication": 2015
         },
         {
          "year_of_publication": 2012
         },
         {
          "year_of_publication": 2014
         },
         {
          "year_of_publication": 2015
         },
         {
          "year_of_publication": 2015
         },
         {
          "year_of_publication": 2012
         },
         {
          "year_of_publication": 2015
         },
         {
          "year_of_publication": 2016
         },
         {
          "year_of_publication": 2013
         },
         {
          "year_of_publication": 2013
         },
         {
          "year_of_publication": 2016
         },
         {
          "year_of_publication": 2016
         },
         {
          "year_of_publication": 2013
         },
         {
          "year_of_publication": 2013
         },
         {
          "year_of_publication": 2016
         },
         {
          "year_of_publication": 2015
         },
         {
          "year_of_publication": 2014
         },
         {
          "year_of_publication": 2014
         },
         {
          "year_of_publication": 2016
         },
         {
          "year_of_publication": 2018
         },
         {
          "year_of_publication": 2012
         },
         {
          "year_of_publication": 2013
         },
         {
          "year_of_publication": 2013
         },
         {
          "year_of_publication": 2015
         },
         {
          "year_of_publication": 2013
         },
         {
          "year_of_publication": 2016
         },
         {
          "year_of_publication": 2016
         },
         {
          "year_of_publication": 2012
         },
         {
          "year_of_publication": 2015
         },
         {
          "year_of_publication": 2014
         },
         {
          "year_of_publication": 2012
         },
         {
          "year_of_publication": 2014
         },
         {
          "year_of_publication": 2016
         },
         {
          "year_of_publication": 2014
         },
         {
          "year_of_publication": 2015
         },
         {
          "year_of_publication": 2015
         },
         {
          "year_of_publication": 2012
         },
         {
          "year_of_publication": 2013
         },
         {
          "year_of_publication": 2014
         },
         {
          "year_of_publication": 2014
         },
         {
          "year_of_publication": 2015
         },
         {
          "year_of_publication": 2016
         },
         {
          "year_of_publication": 2015
         },
         {
          "year_of_publication": 2013
         },
         {
          "year_of_publication": 2015
         },
         {
          "year_of_publication": 2016
         },
         {
          "year_of_publication": 2014
         },
         {
          "year_of_publication": 2014
         },
         {
          "year_of_publication": 2012
         },
         {
          "year_of_publication": 2013
         },
         {
          "year_of_publication": 2017
         },
         {
          "year_of_publication": 2014
         },
         {
          "year_of_publication": 2012
         },
         {
          "year_of_publication": 2016
         },
         {
          "year_of_publication": 2017
         },
         {
          "year_of_publication": 2014
         },
         {
          "year_of_publication": 2013
         },
         {
          "year_of_publication": 2015
         },
         {
          "year_of_publication": 2014
         },
         {
          "year_of_publication": 2015
         },
         {
          "year_of_publication": 2015
         },
         {
          "year_of_publication": 2016
         },
         {
          "year_of_publication": 2012
         },
         {
          "year_of_publication": 2012
         },
         {
          "year_of_publication": 2015
         },
         {
          "year_of_publication": 2015
         },
         {
          "year_of_publication": 2013
         },
         {
          "year_of_publication": 2017
         },
         {
          "year_of_publication": 2012
         },
         {
          "year_of_publication": 2013
         },
         {
          "year_of_publication": 2012
         },
         {
          "year_of_publication": 2015
         },
         {
          "year_of_publication": 2014
         },
         {
          "year_of_publication": 2014
         },
         {
          "year_of_publication": 2015
         },
         {
          "year_of_publication": 2013
         },
         {
          "year_of_publication": 2015
         },
         {
          "year_of_publication": 2015
         },
         {
          "year_of_publication": 2017
         },
         {
          "year_of_publication": 2014
         },
         {
          "year_of_publication": 2013
         },
         {
          "year_of_publication": 2012
         },
         {
          "year_of_publication": 2015
         },
         {
          "year_of_publication": 2013
         },
         {
          "year_of_publication": 2014
         },
         {
          "year_of_publication": 2014
         },
         {
          "year_of_publication": 2012
         },
         {
          "year_of_publication": 2015
         },
         {
          "year_of_publication": 2018
         },
         {
          "year_of_publication": 2013
         },
         {
          "year_of_publication": 2015
         },
         {
          "year_of_publication": 2014
         },
         {
          "year_of_publication": 2016
         },
         {
          "year_of_publication": 2015
         },
         {
          "year_of_publication": 2015
         },
         {
          "year_of_publication": 2015
         },
         {
          "year_of_publication": 2014
         },
         {
          "year_of_publication": 2012
         },
         {
          "year_of_publication": 2012
         },
         {
          "year_of_publication": 2014
         },
         {
          "year_of_publication": 2012
         },
         {
          "year_of_publication": 2014
         },
         {
          "year_of_publication": 2012
         },
         {
          "year_of_publication": 2015
         },
         {
          "year_of_publication": 2013
         },
         {
          "year_of_publication": 2014
         },
         {
          "year_of_publication": 2015
         },
         {
          "year_of_publication": 2014
         },
         {
          "year_of_publication": 2022
         },
         {
          "year_of_publication": 2016
         },
         {
          "year_of_publication": 2015
         },
         {
          "year_of_publication": 2014
         },
         {
          "year_of_publication": 2015
         },
         {
          "year_of_publication": 2012
         },
         {
          "year_of_publication": 2013
         },
         {
          "year_of_publication": 2013
         },
         {
          "year_of_publication": 2013
         },
         {
          "year_of_publication": 2016
         },
         {
          "year_of_publication": 2015
         },
         {
          "year_of_publication": 2013
         },
         {
          "year_of_publication": 2013
         },
         {
          "year_of_publication": 2013
         },
         {
          "year_of_publication": 2017
         },
         {
          "year_of_publication": 2013
         },
         {
          "year_of_publication": 2017
         },
         {
          "year_of_publication": 2012
         },
         {
          "year_of_publication": 2017
         },
         {
          "year_of_publication": 2014
         },
         {
          "year_of_publication": 2012
         },
         {
          "year_of_publication": 2013
         },
         {
          "year_of_publication": 2015
         },
         {
          "year_of_publication": 2014
         },
         {
          "year_of_publication": 2014
         },
         {
          "year_of_publication": 2015
         },
         {
          "year_of_publication": 2015
         },
         {
          "year_of_publication": 2016
         },
         {
          "year_of_publication": 2012
         },
         {
          "year_of_publication": 2012
         },
         {
          "year_of_publication": 2014
         },
         {
          "year_of_publication": 2015
         },
         {
          "year_of_publication": 2016
         },
         {
          "year_of_publication": 2014
         },
         {
          "year_of_publication": 2015
         },
         {
          "year_of_publication": 2013
         },
         {
          "year_of_publication": 2016
         },
         {
          "year_of_publication": 2014
         },
         {
          "year_of_publication": 2014
         },
         {
          "year_of_publication": 2015
         },
         {
          "year_of_publication": 2012
         },
         {
          "year_of_publication": 2015
         },
         {
          "year_of_publication": 2016
         },
         {
          "year_of_publication": 2016
         },
         {
          "year_of_publication": 2015
         },
         {
          "year_of_publication": 2016
         },
         {
          "year_of_publication": 2016
         },
         {
          "year_of_publication": 2012
         },
         {
          "year_of_publication": 2014
         },
         {
          "year_of_publication": 2014
         },
         {
          "year_of_publication": 2012
         },
         {
          "year_of_publication": 2013
         },
         {
          "year_of_publication": 2012
         },
         {
          "year_of_publication": 2016
         },
         {
          "year_of_publication": 2015
         },
         {
          "year_of_publication": 2016
         },
         {
          "year_of_publication": 2012
         },
         {
          "year_of_publication": 2014
         },
         {
          "year_of_publication": 2015
         },
         {
          "year_of_publication": 2014
         },
         {
          "year_of_publication": 2013
         },
         {
          "year_of_publication": 2014
         },
         {
          "year_of_publication": 2014
         },
         {
          "year_of_publication": 2016
         },
         {
          "year_of_publication": 2014
         },
         {
          "year_of_publication": 2015
         },
         {
          "year_of_publication": 2013
         },
         {
          "year_of_publication": 2016
         },
         {
          "year_of_publication": 2015
         },
         {
          "year_of_publication": 2014
         },
         {
          "year_of_publication": 2015
         },
         {
          "year_of_publication": 2014
         },
         {
          "year_of_publication": 2015
         },
         {
          "year_of_publication": 2014
         },
         {
          "year_of_publication": 2015
         },
         {
          "year_of_publication": 2014
         },
         {
          "year_of_publication": 2016
         },
         {
          "year_of_publication": 2015
         },
         {
          "year_of_publication": 2015
         },
         {
          "year_of_publication": 2016
         },
         {
          "year_of_publication": 2017
         },
         {
          "year_of_publication": 2012
         },
         {
          "year_of_publication": 2013
         },
         {
          "year_of_publication": 2014
         },
         {
          "year_of_publication": 2012
         },
         {
          "year_of_publication": 2017
         },
         {
          "year_of_publication": 2014
         },
         {
          "year_of_publication": 2015
         },
         {
          "year_of_publication": 2014
         },
         {
          "year_of_publication": 2015
         },
         {
          "year_of_publication": 2016
         },
         {
          "year_of_publication": 2015
         },
         {
          "year_of_publication": 2014
         },
         {
          "year_of_publication": 2014
         },
         {
          "year_of_publication": 2016
         },
         {
          "year_of_publication": 2016
         },
         {
          "year_of_publication": 2013
         },
         {
          "year_of_publication": 2013
         },
         {
          "year_of_publication": 2013
         },
         {
          "year_of_publication": 2014
         },
         {
          "year_of_publication": 2014
         },
         {
          "year_of_publication": 2012
         },
         {
          "year_of_publication": 2015
         },
         {
          "year_of_publication": 2014
         },
         {
          "year_of_publication": 2012
         },
         {
          "year_of_publication": 2016
         },
         {
          "year_of_publication": 2014
         },
         {
          "year_of_publication": 2016
         },
         {
          "year_of_publication": 2014
         },
         {
          "year_of_publication": 2012
         },
         {
          "year_of_publication": 2013
         },
         {
          "year_of_publication": 2015
         },
         {
          "year_of_publication": 2014
         },
         {
          "year_of_publication": 2016
         },
         {
          "year_of_publication": 2012
         },
         {
          "year_of_publication": 2013
         },
         {
          "year_of_publication": 2013
         },
         {
          "year_of_publication": 2016
         },
         {
          "year_of_publication": 2012
         },
         {
          "year_of_publication": 2012
         },
         {
          "year_of_publication": 2014
         },
         {
          "year_of_publication": 2012
         },
         {
          "year_of_publication": 2016
         },
         {
          "year_of_publication": 2013
         },
         {
          "year_of_publication": 2014
         },
         {
          "year_of_publication": 2014
         },
         {
          "year_of_publication": 2017
         },
         {
          "year_of_publication": 2015
         },
         {
          "year_of_publication": 2016
         },
         {
          "year_of_publication": 2014
         },
         {
          "year_of_publication": 2014
         },
         {
          "year_of_publication": 2014
         },
         {
          "year_of_publication": 2017
         },
         {
          "year_of_publication": 2015
         },
         {
          "year_of_publication": 2017
         },
         {
          "year_of_publication": 2012
         },
         {
          "year_of_publication": 2016
         },
         {
          "year_of_publication": 2017
         },
         {
          "year_of_publication": 2014
         },
         {
          "year_of_publication": 2015
         },
         {
          "year_of_publication": 2015
         },
         {
          "year_of_publication": 2016
         },
         {
          "year_of_publication": 2015
         },
         {
          "year_of_publication": 2017
         },
         {
          "year_of_publication": 2016
         },
         {
          "year_of_publication": 2013
         },
         {
          "year_of_publication": 2017
         },
         {
          "year_of_publication": 2014
         },
         {
          "year_of_publication": 2015
         },
         {
          "year_of_publication": 2014
         },
         {
          "year_of_publication": 2016
         },
         {
          "year_of_publication": 2015
         },
         {
          "year_of_publication": 2014
         },
         {
          "year_of_publication": 2016
         },
         {
          "year_of_publication": 2015
         },
         {
          "year_of_publication": 2015
         },
         {
          "year_of_publication": 2017
         },
         {
          "year_of_publication": 2015
         },
         {
          "year_of_publication": 2015
         },
         {
          "year_of_publication": 2013
         },
         {
          "year_of_publication": 2016
         },
         {
          "year_of_publication": 2016
         },
         {
          "year_of_publication": 2015
         },
         {
          "year_of_publication": 2013
         },
         {
          "year_of_publication": 2012
         },
         {
          "year_of_publication": 2016
         },
         {
          "year_of_publication": 2015
         },
         {
          "year_of_publication": 2016
         },
         {
          "year_of_publication": 2013
         },
         {
          "year_of_publication": 2015
         },
         {
          "year_of_publication": 2016
         },
         {
          "year_of_publication": 2015
         },
         {
          "year_of_publication": 2013
         },
         {
          "year_of_publication": 2017
         },
         {
          "year_of_publication": 2015
         },
         {
          "year_of_publication": 2012
         },
         {
          "year_of_publication": 2017
         },
         {
          "year_of_publication": 2016
         },
         {
          "year_of_publication": 2015
         },
         {
          "year_of_publication": 2014
         },
         {
          "year_of_publication": 2015
         },
         {
          "year_of_publication": 2015
         },
         {
          "year_of_publication": 2014
         },
         {
          "year_of_publication": 2019
         },
         {
          "year_of_publication": 2016
         },
         {
          "year_of_publication": 2013
         },
         {
          "year_of_publication": 2016
         },
         {
          "year_of_publication": 2012
         },
         {
          "year_of_publication": 2013
         },
         {
          "year_of_publication": 2012
         },
         {
          "year_of_publication": 2012
         },
         {
          "year_of_publication": 2015
         },
         {
          "year_of_publication": 2015
         },
         {
          "year_of_publication": 2017
         },
         {
          "year_of_publication": 2013
         },
         {
          "year_of_publication": 2016
         },
         {
          "year_of_publication": 2016
         },
         {
          "year_of_publication": 2013
         },
         {
          "year_of_publication": 2015
         },
         {
          "year_of_publication": 2014
         },
         {
          "year_of_publication": 2012
         },
         {
          "year_of_publication": 2018
         },
         {
          "year_of_publication": 2016
         },
         {
          "year_of_publication": 2013
         },
         {
          "year_of_publication": 2017
         },
         {
          "year_of_publication": 2014
         },
         {
          "year_of_publication": 2015
         },
         {
          "year_of_publication": 2016
         },
         {
          "year_of_publication": 2014
         },
         {
          "year_of_publication": 2012
         },
         {
          "year_of_publication": 2015
         },
         {
          "year_of_publication": 2013
         },
         {
          "year_of_publication": 2014
         },
         {
          "year_of_publication": 2015
         },
         {
          "year_of_publication": 2016
         },
         {
          "year_of_publication": 2017
         },
         {
          "year_of_publication": 2012
         },
         {
          "year_of_publication": 2015
         },
         {
          "year_of_publication": 2015
         },
         {
          "year_of_publication": 2016
         },
         {
          "year_of_publication": 2016
         },
         {
          "year_of_publication": 2016
         },
         {
          "year_of_publication": 2015
         },
         {
          "year_of_publication": 2014
         },
         {
          "year_of_publication": 2014
         },
         {
          "year_of_publication": 2014
         },
         {
          "year_of_publication": 2014
         },
         {
          "year_of_publication": 2016
         },
         {
          "year_of_publication": 2016
         },
         {
          "year_of_publication": 2016
         },
         {
          "year_of_publication": 2014
         },
         {
          "year_of_publication": 2012
         },
         {
          "year_of_publication": 2016
         },
         {
          "year_of_publication": 2014
         },
         {
          "year_of_publication": 2013
         },
         {
          "year_of_publication": 2015
         },
         {
          "year_of_publication": 2013
         },
         {
          "year_of_publication": 2016
         },
         {
          "year_of_publication": 2015
         },
         {
          "year_of_publication": 2014
         },
         {
          "year_of_publication": 2012
         },
         {
          "year_of_publication": 2014
         },
         {
          "year_of_publication": 2014
         },
         {
          "year_of_publication": 2015
         },
         {
          "year_of_publication": 2015
         },
         {
          "year_of_publication": 2015
         },
         {
          "year_of_publication": 2015
         },
         {
          "year_of_publication": 2015
         },
         {
          "year_of_publication": 2016
         },
         {
          "year_of_publication": 2012
         },
         {
          "year_of_publication": 2015
         },
         {
          "year_of_publication": 2014
         },
         {
          "year_of_publication": 2014
         },
         {
          "year_of_publication": 2013
         },
         {
          "year_of_publication": 2012
         },
         {
          "year_of_publication": 2015
         },
         {
          "year_of_publication": 2016
         },
         {
          "year_of_publication": 2014
         },
         {
          "year_of_publication": 2012
         },
         {
          "year_of_publication": 2015
         },
         {
          "year_of_publication": 2013
         },
         {
          "year_of_publication": 2022
         },
         {
          "year_of_publication": 2014
         },
         {
          "year_of_publication": 2016
         },
         {
          "year_of_publication": 2012
         },
         {
          "year_of_publication": 2013
         },
         {
          "year_of_publication": 2016
         },
         {
          "year_of_publication": 2022
         },
         {
          "year_of_publication": 2013
         },
         {
          "year_of_publication": 2012
         },
         {
          "year_of_publication": 2014
         },
         {
          "year_of_publication": 2014
         },
         {
          "year_of_publication": 2016
         },
         {
          "year_of_publication": 2017
         },
         {
          "year_of_publication": 2015
         },
         {
          "year_of_publication": 2015
         },
         {
          "year_of_publication": 2014
         },
         {
          "year_of_publication": 2014
         },
         {
          "year_of_publication": 2013
         },
         {
          "year_of_publication": 2018
         },
         {
          "year_of_publication": 2012
         },
         {
          "year_of_publication": 2014
         },
         {
          "year_of_publication": 2013
         },
         {
          "year_of_publication": 2014
         },
         {
          "year_of_publication": 2012
         },
         {
          "year_of_publication": 2013
         },
         {
          "year_of_publication": 2014
         },
         {
          "year_of_publication": 2017
         },
         {
          "year_of_publication": 2015
         },
         {
          "year_of_publication": 2012
         },
         {
          "year_of_publication": 2016
         },
         {
          "year_of_publication": 2014
         },
         {
          "year_of_publication": 2015
         },
         {
          "year_of_publication": 2014
         },
         {
          "year_of_publication": 2014
         },
         {
          "year_of_publication": 2015
         },
         {
          "year_of_publication": 2013
         },
         {
          "year_of_publication": 2012
         },
         {
          "year_of_publication": 2014
         },
         {
          "year_of_publication": 2012
         },
         {
          "year_of_publication": 2014
         },
         {
          "year_of_publication": 2021
         },
         {
          "year_of_publication": 2012
         },
         {
          "year_of_publication": 2015
         },
         {
          "year_of_publication": 2015
         },
         {
          "year_of_publication": 2014
         },
         {
          "year_of_publication": 2017
         },
         {
          "year_of_publication": 2016
         },
         {
          "year_of_publication": 2014
         },
         {
          "year_of_publication": 2016
         },
         {
          "year_of_publication": 2013
         },
         {
          "year_of_publication": 2014
         },
         {
          "year_of_publication": 2015
         },
         {
          "year_of_publication": 2016
         },
         {
          "year_of_publication": 2014
         },
         {
          "year_of_publication": 2015
         },
         {
          "year_of_publication": 2013
         },
         {
          "year_of_publication": 2013
         },
         {
          "year_of_publication": 2014
         },
         {
          "year_of_publication": 2015
         },
         {
          "year_of_publication": 2020
         },
         {
          "year_of_publication": 2012
         },
         {
          "year_of_publication": 2014
         },
         {
          "year_of_publication": 2014
         },
         {
          "year_of_publication": 2016
         },
         {
          "year_of_publication": 2015
         },
         {
          "year_of_publication": 2013
         },
         {
          "year_of_publication": 2014
         },
         {
          "year_of_publication": 2015
         },
         {
          "year_of_publication": 2015
         },
         {
          "year_of_publication": 2015
         },
         {
          "year_of_publication": 2013
         },
         {
          "year_of_publication": 2016
         },
         {
          "year_of_publication": 2015
         },
         {
          "year_of_publication": 2014
         },
         {
          "year_of_publication": 2015
         },
         {
          "year_of_publication": 2014
         },
         {
          "year_of_publication": 2014
         },
         {
          "year_of_publication": 2018
         },
         {
          "year_of_publication": 2013
         },
         {
          "year_of_publication": 2013
         },
         {
          "year_of_publication": 2014
         },
         {
          "year_of_publication": 2017
         },
         {
          "year_of_publication": 2015
         },
         {
          "year_of_publication": 2015
         },
         {
          "year_of_publication": 2014
         },
         {
          "year_of_publication": 2016
         },
         {
          "year_of_publication": 2015
         },
         {
          "year_of_publication": 2014
         },
         {
          "year_of_publication": 2014
         },
         {
          "year_of_publication": 2015
         },
         {
          "year_of_publication": 2013
         },
         {
          "year_of_publication": 2013
         },
         {
          "year_of_publication": 2016
         },
         {
          "year_of_publication": 2013
         },
         {
          "year_of_publication": 2015
         },
         {
          "year_of_publication": 2012
         },
         {
          "year_of_publication": 2014
         },
         {
          "year_of_publication": 2015
         },
         {
          "year_of_publication": 2013
         },
         {
          "year_of_publication": 2017
         },
         {
          "year_of_publication": 2013
         },
         {
          "year_of_publication": 2013
         },
         {
          "year_of_publication": 2015
         },
         {
          "year_of_publication": 2014
         },
         {
          "year_of_publication": 2016
         },
         {
          "year_of_publication": 2014
         },
         {
          "year_of_publication": 2015
         },
         {
          "year_of_publication": 2014
         },
         {
          "year_of_publication": 2015
         },
         {
          "year_of_publication": 2017
         },
         {
          "year_of_publication": 2014
         },
         {
          "year_of_publication": 2014
         },
         {
          "year_of_publication": 2014
         },
         {
          "year_of_publication": 2014
         },
         {
          "year_of_publication": 2014
         },
         {
          "year_of_publication": 2015
         },
         {
          "year_of_publication": 2015
         },
         {
          "year_of_publication": 2015
         },
         {
          "year_of_publication": 2013
         },
         {
          "year_of_publication": 2013
         },
         {
          "year_of_publication": 2014
         },
         {
          "year_of_publication": 2016
         },
         {
          "year_of_publication": 2014
         },
         {
          "year_of_publication": 2017
         },
         {
          "year_of_publication": 2015
         },
         {
          "year_of_publication": 2015
         },
         {
          "year_of_publication": 2014
         },
         {
          "year_of_publication": 2012
         },
         {
          "year_of_publication": 2018
         },
         {
          "year_of_publication": 2016
         },
         {
          "year_of_publication": 2015
         },
         {
          "year_of_publication": 2013
         },
         {
          "year_of_publication": 2017
         },
         {
          "year_of_publication": 2017
         },
         {
          "year_of_publication": 2015
         },
         {
          "year_of_publication": 2014
         },
         {
          "year_of_publication": 2015
         },
         {
          "year_of_publication": 2015
         },
         {
          "year_of_publication": 2014
         },
         {
          "year_of_publication": 2017
         },
         {
          "year_of_publication": 2015
         },
         {
          "year_of_publication": 2017
         },
         {
          "year_of_publication": 2014
         },
         {
          "year_of_publication": 2017
         },
         {
          "year_of_publication": 2016
         },
         {
          "year_of_publication": 2016
         },
         {
          "year_of_publication": 2013
         },
         {
          "year_of_publication": 2013
         },
         {
          "year_of_publication": 2015
         },
         {
          "year_of_publication": 2013
         },
         {
          "year_of_publication": 2017
         },
         {
          "year_of_publication": 2014
         },
         {
          "year_of_publication": 2012
         },
         {
          "year_of_publication": 2015
         },
         {
          "year_of_publication": 2017
         },
         {
          "year_of_publication": 2013
         },
         {
          "year_of_publication": 2015
         },
         {
          "year_of_publication": 2013
         },
         {
          "year_of_publication": 2015
         },
         {
          "year_of_publication": 2017
         },
         {
          "year_of_publication": 2013
         },
         {
          "year_of_publication": 2015
         },
         {
          "year_of_publication": 2014
         },
         {
          "year_of_publication": 2015
         },
         {
          "year_of_publication": 2017
         },
         {
          "year_of_publication": 2014
         },
         {
          "year_of_publication": 2016
         },
         {
          "year_of_publication": 2015
         },
         {
          "year_of_publication": 2015
         },
         {
          "year_of_publication": 2016
         },
         {
          "year_of_publication": 2012
         },
         {
          "year_of_publication": 2015
         },
         {
          "year_of_publication": 2014
         },
         {
          "year_of_publication": 2017
         },
         {
          "year_of_publication": 2014
         },
         {
          "year_of_publication": 2014
         },
         {
          "year_of_publication": 2012
         },
         {
          "year_of_publication": 2014
         },
         {
          "year_of_publication": 2013
         },
         {
          "year_of_publication": 2016
         },
         {
          "year_of_publication": 2013
         },
         {
          "year_of_publication": 2016
         },
         {
          "year_of_publication": 2014
         },
         {
          "year_of_publication": 2014
         },
         {
          "year_of_publication": 2012
         },
         {
          "year_of_publication": 2015
         },
         {
          "year_of_publication": 2014
         },
         {
          "year_of_publication": 2013
         },
         {
          "year_of_publication": 2017
         },
         {
          "year_of_publication": 2013
         },
         {
          "year_of_publication": 2014
         },
         {
          "year_of_publication": 2015
         },
         {
          "year_of_publication": 2012
         },
         {
          "year_of_publication": 2015
         },
         {
          "year_of_publication": 2012
         },
         {
          "year_of_publication": 2012
         },
         {
          "year_of_publication": 2012
         },
         {
          "year_of_publication": 2014
         },
         {
          "year_of_publication": 2016
         },
         {
          "year_of_publication": 2015
         },
         {
          "year_of_publication": 2012
         },
         {
          "year_of_publication": 2012
         },
         {
          "year_of_publication": 2015
         },
         {
          "year_of_publication": 2015
         },
         {
          "year_of_publication": 2013
         },
         {
          "year_of_publication": 2015
         },
         {
          "year_of_publication": 2013
         },
         {
          "year_of_publication": 2016
         },
         {
          "year_of_publication": 2015
         },
         {
          "year_of_publication": 2014
         },
         {
          "year_of_publication": 2017
         },
         {
          "year_of_publication": 2014
         },
         {
          "year_of_publication": 2015
         },
         {
          "year_of_publication": 2013
         },
         {
          "year_of_publication": 2015
         },
         {
          "year_of_publication": 2014
         },
         {
          "year_of_publication": 2014
         },
         {
          "year_of_publication": 2014
         },
         {
          "year_of_publication": 2015
         },
         {
          "year_of_publication": 2015
         },
         {
          "year_of_publication": 2014
         },
         {
          "year_of_publication": 2012
         },
         {
          "year_of_publication": 2013
         },
         {
          "year_of_publication": 2015
         },
         {
          "year_of_publication": 2015
         },
         {
          "year_of_publication": 2016
         },
         {
          "year_of_publication": 2015
         },
         {
          "year_of_publication": 2016
         },
         {
          "year_of_publication": 2013
         },
         {
          "year_of_publication": 2016
         },
         {
          "year_of_publication": 2013
         },
         {
          "year_of_publication": 2014
         },
         {
          "year_of_publication": 2014
         },
         {
          "year_of_publication": 2012
         },
         {
          "year_of_publication": 2017
         },
         {
          "year_of_publication": 2015
         },
         {
          "year_of_publication": 2014
         },
         {
          "year_of_publication": 2014
         },
         {
          "year_of_publication": 2016
         },
         {
          "year_of_publication": 2016
         },
         {
          "year_of_publication": 2016
         },
         {
          "year_of_publication": 2013
         },
         {
          "year_of_publication": 2014
         },
         {
          "year_of_publication": 2015
         },
         {
          "year_of_publication": 2014
         },
         {
          "year_of_publication": 2018
         },
         {
          "year_of_publication": 2012
         },
         {
          "year_of_publication": 2013
         },
         {
          "year_of_publication": 2013
         },
         {
          "year_of_publication": 2014
         },
         {
          "year_of_publication": 2015
         },
         {
          "year_of_publication": 2013
         },
         {
          "year_of_publication": 2012
         },
         {
          "year_of_publication": 2012
         },
         {
          "year_of_publication": 2014
         },
         {
          "year_of_publication": 2015
         },
         {
          "year_of_publication": 2016
         },
         {
          "year_of_publication": 2013
         },
         {
          "year_of_publication": 2016
         },
         {
          "year_of_publication": 2015
         },
         {
          "year_of_publication": 2013
         },
         {
          "year_of_publication": 2016
         },
         {
          "year_of_publication": 2015
         },
         {
          "year_of_publication": 2017
         },
         {
          "year_of_publication": 2012
         },
         {
          "year_of_publication": 2017
         },
         {
          "year_of_publication": 2014
         },
         {
          "year_of_publication": 2015
         },
         {
          "year_of_publication": 2012
         },
         {
          "year_of_publication": 2012
         },
         {
          "year_of_publication": 2014
         },
         {
          "year_of_publication": 2014
         },
         {
          "year_of_publication": 2014
         },
         {
          "year_of_publication": 2020
         },
         {
          "year_of_publication": 2015
         },
         {
          "year_of_publication": 2014
         },
         {
          "year_of_publication": 2016
         },
         {
          "year_of_publication": 2015
         },
         {
          "year_of_publication": 2012
         },
         {
          "year_of_publication": 2017
         },
         {
          "year_of_publication": 2014
         },
         {
          "year_of_publication": 2017
         },
         {
          "year_of_publication": 2015
         },
         {
          "year_of_publication": 2017
         },
         {
          "year_of_publication": 2015
         },
         {
          "year_of_publication": 2014
         },
         {
          "year_of_publication": 2018
         },
         {
          "year_of_publication": 2013
         },
         {
          "year_of_publication": 2020
         },
         {
          "year_of_publication": 2016
         },
         {
          "year_of_publication": 2016
         },
         {
          "year_of_publication": 2012
         },
         {
          "year_of_publication": 2014
         },
         {
          "year_of_publication": 2014
         },
         {
          "year_of_publication": 2015
         },
         {
          "year_of_publication": 2012
         },
         {
          "year_of_publication": 2012
         },
         {
          "year_of_publication": 2012
         },
         {
          "year_of_publication": 2016
         },
         {
          "year_of_publication": 2013
         },
         {
          "year_of_publication": 2013
         },
         {
          "year_of_publication": 2016
         },
         {
          "year_of_publication": 2013
         },
         {
          "year_of_publication": 2014
         },
         {
          "year_of_publication": 2014
         },
         {
          "year_of_publication": 2014
         },
         {
          "year_of_publication": 2015
         },
         {
          "year_of_publication": 2016
         },
         {
          "year_of_publication": 2016
         },
         {
          "year_of_publication": 2016
         },
         {
          "year_of_publication": 2015
         },
         {
          "year_of_publication": 2017
         },
         {
          "year_of_publication": 2016
         },
         {
          "year_of_publication": 2017
         },
         {
          "year_of_publication": 2015
         },
         {
          "year_of_publication": 2013
         },
         {
          "year_of_publication": 2013
         },
         {
          "year_of_publication": 2015
         },
         {
          "year_of_publication": 2017
         },
         {
          "year_of_publication": 2015
         },
         {
          "year_of_publication": 2015
         },
         {
          "year_of_publication": 2013
         },
         {
          "year_of_publication": 2015
         },
         {
          "year_of_publication": 2014
         },
         {
          "year_of_publication": 2014
         },
         {
          "year_of_publication": 2014
         },
         {
          "year_of_publication": 2013
         },
         {
          "year_of_publication": 2015
         },
         {
          "year_of_publication": 2015
         },
         {
          "year_of_publication": 2016
         },
         {
          "year_of_publication": 2014
         },
         {
          "year_of_publication": 2015
         },
         {
          "year_of_publication": 2016
         },
         {
          "year_of_publication": 2015
         },
         {
          "year_of_publication": 2015
         },
         {
          "year_of_publication": 2013
         },
         {
          "year_of_publication": 2013
         },
         {
          "year_of_publication": 2017
         },
         {
          "year_of_publication": 2012
         },
         {
          "year_of_publication": 2016
         },
         {
          "year_of_publication": 2012
         },
         {
          "year_of_publication": 2014
         },
         {
          "year_of_publication": 2018
         },
         {
          "year_of_publication": 2014
         },
         {
          "year_of_publication": 2015
         },
         {
          "year_of_publication": 2022
         },
         {
          "year_of_publication": 2015
         },
         {
          "year_of_publication": 2015
         },
         {
          "year_of_publication": 2015
         },
         {
          "year_of_publication": 2013
         },
         {
          "year_of_publication": 2012
         },
         {
          "year_of_publication": 2016
         },
         {
          "year_of_publication": 2015
         },
         {
          "year_of_publication": 2014
         },
         {
          "year_of_publication": 2014
         },
         {
          "year_of_publication": 2016
         },
         {
          "year_of_publication": 2014
         },
         {
          "year_of_publication": 2012
         },
         {
          "year_of_publication": 2014
         },
         {
          "year_of_publication": 2013
         },
         {
          "year_of_publication": 2015
         },
         {
          "year_of_publication": 2015
         },
         {
          "year_of_publication": 2014
         },
         {
          "year_of_publication": 2015
         },
         {
          "year_of_publication": 2014
         },
         {
          "year_of_publication": 2014
         },
         {
          "year_of_publication": 2017
         },
         {
          "year_of_publication": 2015
         },
         {
          "year_of_publication": 2015
         },
         {
          "year_of_publication": 2015
         },
         {
          "year_of_publication": 2015
         },
         {
          "year_of_publication": 2014
         },
         {
          "year_of_publication": 2014
         },
         {
          "year_of_publication": 2015
         },
         {
          "year_of_publication": 2015
         },
         {
          "year_of_publication": 2013
         },
         {
          "year_of_publication": 2015
         },
         {
          "year_of_publication": 2016
         },
         {
          "year_of_publication": 2014
         },
         {
          "year_of_publication": 2016
         },
         {
          "year_of_publication": 2015
         }
        ]
       },
       "encoding": {
        "x": {
         "bin": true,
         "field": "year_of_publication",
         "title": "Year of publication",
         "type": "nominal"
        },
        "y": {
         "aggregate": "count",
         "title": "Count of articles",
         "type": "quantitative"
        }
       },
       "height": 400,
       "mark": {
        "type": "bar"
       },
       "width": 400
      },
      "image/png": "[encoded data removed]",
      "text/plain": [
       "<VegaLite 5 object>\n",
       "\n",
       "If you see this message, it means the renderer has not been properly enabled\n",
       "for the frontend that you are using. For more information, see\n",
       "https://altair-viz.github.io/user_guide/display_frontends.html#troubleshooting\n"
      ]
     },
     "execution_count": 7,
     "metadata": {},
     "output_type": "execute_result"
    }
   ],
   "source": [
    "# some quick transformations and an altair histogram\n",
    "# note that we take a sample to fit into altair's 5000 record limit\n",
    "years_to_plot: pd.DataFrame = pd.DataFrame(\n",
    "    {\"year_of_publication\": [int(datetime.fromtimestamp(ts).year) for ts in business_news[\"date\"]]}).sample(4999)\n",
    "alt.Chart(years_to_plot).mark_bar().encode(\n",
    "    alt.X(\"year_of_publication:N\", bin=True, title=\"Year of publication\"),\n",
    "    y=alt.Y('count()', title=\"Count of articles\"),\n",
    ").properties(width=400, height=400)"
   ]
  },
  {
   "cell_type": "markdown",
   "id": "453dd57f-26d2-464a-bcee-f4808304ff00",
   "metadata": {},
   "source": [
    "The largest period time should be around 12 years as the oldest article is from 2012.\n",
    "\n",
    "As most articles are between 2012-2017 therefore 7 years can also make sense to differentiate the relatively scarce recent period.\n",
    "\n",
    "It can also make sense to give additional weight to more populous time periods - small differences there can be amplified by adding extra weight compared to regions where the data is scarce and differences are larger on average."
   ]
  },
  {
   "cell_type": "markdown",
   "id": "bb39ab0a-86c9-4bd6-98ca-013a223b2f18",
   "metadata": {},
   "source": [
    "## Set up Superlinked"
   ]
  },
  {
   "cell_type": "code",
   "execution_count": 8,
   "id": "363d1bfb-a842-49b6-a822-99db1f18daa8",
   "metadata": {},
   "outputs": [],
   "source": [
    "@schema\n",
    "class NewsSchema:\n",
    "    description: String\n",
    "    headline: String\n",
    "    release_timestamp: Timestamp\n",
    "    id: IdField"
   ]
  },
  {
   "cell_type": "code",
   "execution_count": 9,
   "id": "7b17ee72-539f-459a-ab8e-f1918579987d",
   "metadata": {},
   "outputs": [],
   "source": [
    "news = NewsSchema()"
   ]
  },
  {
   "cell_type": "code",
   "execution_count": 10,
   "id": "abba40ea-a250-4b12-ad4b-ef90155c3175",
   "metadata": {},
   "outputs": [],
   "source": [
    "description_space = TextSimilaritySpace(text=news.description, model=MODEL)\n",
    "headline_space = TextSimilaritySpace(text=news.headline, model=MODEL)\n",
    "recency_space = RecencySpace(timestamp=news.release_timestamp, period_time_list=[\n",
    "    PeriodTime(timedelta(days=7 * YEAR_IN_DAYS), weight=1),\n",
    "    PeriodTime(timedelta(days=12 * YEAR_IN_DAYS), weight=1)],\n",
    "    negative_filter=0.0)"
   ]
  },
  {
   "cell_type": "code",
   "execution_count": 11,
   "id": "88e05778-8ab1-49c9-922d-cd825c65b93a",
   "metadata": {},
   "outputs": [],
   "source": [
    "news_index = Index(spaces=[description_space, headline_space, recency_space])"
   ]
  },
  {
   "cell_type": "code",
   "execution_count": 12,
   "id": "b56927bf-503c-4f08-98c4-f5f9a49690af",
   "metadata": {},
   "outputs": [],
   "source": [
    "query_text_param = Param(\"query_text\")\n",
    "\n",
    "simple_query = (\n",
    "    Query(news_index, weights={\n",
    "        description_space: Param(\"description_weight\"),\n",
    "        headline_space: Param(\"headline_weight\"),\n",
    "        recency_space: Param(\"recency_weight\")\n",
    "    })\n",
    "    .find(news)\n",
    "    .similar(description_space.text, query_text_param)\n",
    "    .similar(headline_space.text, query_text_param)\n",
    "    .limit(TOP_N)\n",
    ")\n",
    "\n",
    "news_query = (\n",
    "    Query(news_index, weights={\n",
    "        description_space: Param(\"description_weight\"),\n",
    "        headline_space: Param(\"headline_weight\"),\n",
    "        recency_space: Param(\"recency_weight\")\n",
    "    })\n",
    "    .find(news)\n",
    "    .with_vector(news, Param(\"news_id\"))\n",
    "    .limit(TOP_N)\n",
    ")"
   ]
  },
  {
   "cell_type": "code",
   "execution_count": 13,
   "id": "22069eb1-16d6-40db-b5ba-127fa1efa86e",
   "metadata": {},
   "outputs": [],
   "source": [
    "dataframe_parser = DataFrameParser(schema=news, mapping={news.release_timestamp: \"date\", news.description: \"short_description\"})"
   ]
  },
  {
   "cell_type": "code",
   "execution_count": 14,
   "id": "14335931-ba95-45ec-8cb6-19f5e4905fbd",
   "metadata": {},
   "outputs": [],
   "source": [
    "source: InMemorySource = InMemorySource(news, parser=dataframe_parser)\n",
    "executor: InMemoryExecutor = InMemoryExecutor(sources=[source], indices=[news_index])\n",
    "app: InMemoryApp = executor.run()"
   ]
  },
  {
   "cell_type": "markdown",
   "id": "34d44728-5ea7-4114-9c94-a2198e96c77f",
   "metadata": {},
   "source": [
    "This next one might take a few minutes to run. It is scientifically proven, that watching [this video](https://www.youtube.com/watch?v=1prweT95Mo0&ab_channel=YoYoMaVEVO) will make you feel better and the following cell would also probably run meanwhile. If not, you can still do something quick while smiling."
   ]
  },
  {
   "cell_type": "code",
   "execution_count": 15,
   "id": "683cbd59-0744-4cd9-9a36-18814be79760",
   "metadata": {},
   "outputs": [],
   "source": [
    "source.put([business_news])"
   ]
  },
  {
   "cell_type": "markdown",
   "id": "6af286dc-898f-4e7a-8b16-8672bb96b51d",
   "metadata": {},
   "source": [
    "## Understanding recency"
   ]
  },
  {
   "cell_type": "code",
   "execution_count": 16,
   "id": "ec9bde52-d7e8-4c34-8e27-5c512ef08c87",
   "metadata": {},
   "outputs": [
    {
     "data": {
      "application/vnd.vegalite.v5+json": {
       "$schema": "https://vega.github.io/schema/vega-lite/v5.16.3.json",
       "config": {
        "view": {
         "continuousHeight": 300,
         "continuousWidth": 300
        }
       },
       "data": {
        "name": "data-d1d4b0ad2e745ad3d289a6e55b7f703e"
       },
       "datasets": {
        "data-d1d4b0ad2e745ad3d289a6e55b7f703e": [
         {
          "date": "2010-12-01T17:49:27",
          "score": 0
         },
         {
          "date": "2010-12-06T13:34:18.891892",
          "score": 0
         },
         {
          "date": "2010-12-11T09:19:10.783784",
          "score": 0
         },
         {
          "date": "2010-12-16T05:04:02.675676",
          "score": 0
         },
         {
          "date": "2010-12-21T00:48:54.567568",
          "score": 0
         },
         {
          "date": "2010-12-25T20:33:46.459460",
          "score": 0
         },
         {
          "date": "2010-12-30T16:18:38.351351",
          "score": 0
         },
         {
          "date": "2011-01-04T12:03:30.243243",
          "score": 0
         },
         {
          "date": "2011-01-09T07:48:22.135135",
          "score": 0
         },
         {
          "date": "2011-01-14T03:33:14.027027",
          "score": 0
         },
         {
          "date": "2011-01-18T23:18:05.918919",
          "score": 0
         },
         {
          "date": "2011-01-23T19:02:57.810811",
          "score": 0
         },
         {
          "date": "2011-01-28T14:47:49.702703",
          "score": 0
         },
         {
          "date": "2011-02-02T10:32:41.594594",
          "score": 0
         },
         {
          "date": "2011-02-07T06:17:33.486486",
          "score": 0
         },
         {
          "date": "2011-02-12T02:02:25.378378",
          "score": 0
         },
         {
          "date": "2011-02-16T21:47:17.270270",
          "score": 0
         },
         {
          "date": "2011-02-21T17:32:09.162162",
          "score": 0
         },
         {
          "date": "2011-02-26T13:17:01.054054",
          "score": 0
         },
         {
          "date": "2011-03-03T09:01:52.945946",
          "score": 0
         },
         {
          "date": "2011-03-08T04:46:44.837838",
          "score": 0
         },
         {
          "date": "2011-03-13T00:31:36.729730",
          "score": 0
         },
         {
          "date": "2011-03-17T20:16:28.621622",
          "score": 0
         },
         {
          "date": "2011-03-22T16:01:20.513514",
          "score": 0
         },
         {
          "date": "2011-03-27T12:46:12.405406",
          "score": 0
         },
         {
          "date": "2011-04-01T08:31:04.297297",
          "score": 0
         },
         {
          "date": "2011-04-06T04:15:56.189189",
          "score": 0
         },
         {
          "date": "2011-04-11T00:00:48.081081",
          "score": 0
         },
         {
          "date": "2011-04-15T19:45:39.972973",
          "score": 0
         },
         {
          "date": "2011-04-20T15:30:31.864865",
          "score": 0
         },
         {
          "date": "2011-04-25T11:15:23.756757",
          "score": 0
         },
         {
          "date": "2011-04-30T07:00:15.648649",
          "score": 0
         },
         {
          "date": "2011-05-05T02:45:07.540540",
          "score": 0
         },
         {
          "date": "2011-05-09T22:29:59.432432",
          "score": 0
         },
         {
          "date": "2011-05-14T18:14:51.324324",
          "score": 0
         },
         {
          "date": "2011-05-19T13:59:43.216216",
          "score": 0
         },
         {
          "date": "2011-05-24T09:44:35.108108",
          "score": 0
         },
         {
          "date": "2011-05-29T05:29:27",
          "score": 0
         },
         {
          "date": "2011-06-03T01:14:18.891892",
          "score": 0
         },
         {
          "date": "2011-06-07T20:59:10.783784",
          "score": 0
         },
         {
          "date": "2011-06-12T16:44:02.675676",
          "score": 0
         },
         {
          "date": "2011-06-17T12:28:54.567568",
          "score": 0
         },
         {
          "date": "2011-06-22T08:13:46.459460",
          "score": 0
         },
         {
          "date": "2011-06-27T03:58:38.351351",
          "score": 0
         },
         {
          "date": "2011-07-01T23:43:30.243243",
          "score": 0
         },
         {
          "date": "2011-07-06T19:28:22.135135",
          "score": 0
         },
         {
          "date": "2011-07-11T15:13:14.027027",
          "score": 0
         },
         {
          "date": "2011-07-16T10:58:05.918919",
          "score": 0
         },
         {
          "date": "2011-07-21T06:42:57.810811",
          "score": 0
         },
         {
          "date": "2011-07-26T02:27:49.702703",
          "score": 0
         },
         {
          "date": "2011-07-30T22:12:41.594594",
          "score": 0
         },
         {
          "date": "2011-08-04T17:57:33.486486",
          "score": 0
         },
         {
          "date": "2011-08-09T13:42:25.378378",
          "score": 0
         },
         {
          "date": "2011-08-14T09:27:17.270270",
          "score": 0
         },
         {
          "date": "2011-08-19T05:12:09.162162",
          "score": 0
         },
         {
          "date": "2011-08-24T00:57:01.054054",
          "score": 0
         },
         {
          "date": "2011-08-28T20:41:52.945946",
          "score": 0
         },
         {
          "date": "2011-09-02T16:26:44.837838",
          "score": 0
         },
         {
          "date": "2011-09-07T12:11:36.729730",
          "score": 0
         },
         {
          "date": "2011-09-12T07:56:28.621622",
          "score": 0
         },
         {
          "date": "2011-09-17T03:41:20.513514",
          "score": 0
         },
         {
          "date": "2011-09-21T23:26:12.405406",
          "score": 0
         },
         {
          "date": "2011-09-26T19:11:04.297297",
          "score": 0
         },
         {
          "date": "2011-10-01T14:55:56.189189",
          "score": 0
         },
         {
          "date": "2011-10-06T10:40:48.081081",
          "score": 0
         },
         {
          "date": "2011-10-11T06:25:39.972973",
          "score": 0
         },
         {
          "date": "2011-10-16T02:10:31.864865",
          "score": 0
         },
         {
          "date": "2011-10-20T21:55:23.756757",
          "score": 0
         },
         {
          "date": "2011-10-25T17:40:15.648649",
          "score": 0
         },
         {
          "date": "2011-10-30T12:25:07.540540",
          "score": 0
         },
         {
          "date": "2011-11-04T08:09:59.432432",
          "score": 0
         },
         {
          "date": "2011-11-09T03:54:51.324324",
          "score": 0
         },
         {
          "date": "2011-11-13T23:39:43.216216",
          "score": 0
         },
         {
          "date": "2011-11-18T19:24:35.108108",
          "score": 0
         },
         {
          "date": "2011-11-23T15:09:27",
          "score": 0
         },
         {
          "date": "2011-11-28T10:54:18.891892",
          "score": 0
         },
         {
          "date": "2011-12-03T06:39:10.783784",
          "score": 0
         },
         {
          "date": "2011-12-08T02:24:02.675676",
          "score": 0
         },
         {
          "date": "2011-12-12T22:08:54.567568",
          "score": 0
         },
         {
          "date": "2011-12-17T17:53:46.459460",
          "score": 0
         },
         {
          "date": "2011-12-22T13:38:38.351351",
          "score": 0
         },
         {
          "date": "2011-12-27T09:23:30.243243",
          "score": 0
         },
         {
          "date": "2012-01-01T05:08:22.135135",
          "score": 0
         },
         {
          "date": "2012-01-06T00:53:14.027027",
          "score": 0
         },
         {
          "date": "2012-01-10T20:38:05.918919",
          "score": 0
         },
         {
          "date": "2012-01-15T16:22:57.810811",
          "score": 0
         },
         {
          "date": "2012-01-20T12:07:49.702703",
          "score": 0
         },
         {
          "date": "2012-01-25T07:52:41.594594",
          "score": 0
         },
         {
          "date": "2012-01-30T03:37:33.486486",
          "score": 0
         },
         {
          "date": "2012-02-03T23:22:25.378378",
          "score": 0
         },
         {
          "date": "2012-02-08T19:07:17.270270",
          "score": 0
         },
         {
          "date": "2012-02-13T14:52:09.162162",
          "score": 0.00015723686695676142
         },
         {
          "date": "2012-02-18T10:37:01.054054",
          "score": 0.0010220389403447772
         },
         {
          "date": "2012-02-23T06:21:52.945946",
          "score": 0.0018868379562659854
         },
         {
          "date": "2012-02-28T02:06:44.837838",
          "score": 0.002751631327647913
         },
         {
          "date": "2012-03-03T21:51:36.729730",
          "score": 0.0036164164674274413
         },
         {
          "date": "2012-03-08T17:36:28.621622",
          "score": 0.004481190788573397
         },
         {
          "date": "2012-03-13T13:21:20.513514",
          "score": 0.0053459517040800875
         },
         {
          "date": "2012-03-18T09:06:12.405406",
          "score": 0.006210696626987144
         },
         {
          "date": "2012-03-23T04:51:04.297297",
          "score": 0.007075422970381523
         },
         {
          "date": "2012-03-28T01:35:56.189189",
          "score": 0.007940128147401027
         },
         {
          "date": "2012-04-01T21:20:48.081081",
          "score": 0.008804809571253902
         },
         {
          "date": "2012-04-06T17:05:39.972973",
          "score": 0.009669464655211568
         },
         {
          "date": "2012-04-11T12:50:31.864865",
          "score": 0.010534090812630875
         },
         {
          "date": "2012-04-16T08:35:23.756757",
          "score": 0.011398685456953966
         },
         {
          "date": "2012-04-21T04:20:15.648649",
          "score": 0.01226324600171455
         },
         {
          "date": "2012-04-26T00:05:07.540540",
          "score": 0.013127769860547728
         },
         {
          "date": "2012-04-30T19:49:59.432432",
          "score": 0.013992254447202257
         },
         {
          "date": "2012-05-05T15:34:51.324324",
          "score": 0.014856697175544553
         },
         {
          "date": "2012-05-10T11:19:43.216216",
          "score": 0.015721095459560186
         },
         {
          "date": "2012-05-15T07:04:35.108108",
          "score": 0.01658544671337589
         },
         {
          "date": "2012-05-20T02:49:27",
          "score": 0.017449748351250488
         },
         {
          "date": "2012-05-24T22:34:18.891892",
          "score": 0.018313997787598263
         },
         {
          "date": "2012-05-29T18:19:10.783784",
          "score": 0.019178192436988845
         },
         {
          "date": "2012-06-03T14:04:02.675676",
          "score": 0.020042329714149903
         },
         {
          "date": "2012-06-08T09:48:54.567568",
          "score": 0.020906407033988827
         },
         {
          "date": "2012-06-13T05:33:46.459460",
          "score": 0.02177042181158448
         },
         {
          "date": "2012-06-18T01:18:38.351351",
          "score": 0.022634371462208314
         },
         {
          "date": "2012-06-22T21:03:30.243243",
          "score": 0.023498253401327607
         },
         {
          "date": "2012-06-27T16:48:22.135135",
          "score": 0.024362065044607195
         },
         {
          "date": "2012-07-02T12:33:14.027027",
          "score": 0.025225803807922803
         },
         {
          "date": "2012-07-07T08:18:05.918919",
          "score": 0.026089467107371728
         },
         {
          "date": "2012-07-12T04:02:57.810811",
          "score": 0.026953052359277557
         },
         {
          "date": "2012-07-16T23:47:49.702703",
          "score": 0.02781655698019081
         },
         {
          "date": "2012-07-21T19:32:41.594594",
          "score": 0.028679978386911414
         },
         {
          "date": "2012-07-26T15:17:33.486486",
          "score": 0.029543313996480997
         },
         {
          "date": "2012-07-31T11:02:25.378378",
          "score": 0.03040656122620211
         },
         {
          "date": "2012-08-05T06:47:17.270270",
          "score": 0.031269717493643545
         },
         {
          "date": "2012-08-10T02:32:09.162162",
          "score": 0.03213278021663915
         },
         {
          "date": "2012-08-14T22:17:01.054054",
          "score": 0.032995746813310606
         },
         {
          "date": "2012-08-19T18:01:52.945946",
          "score": 0.03385861470206017
         },
         {
          "date": "2012-08-24T13:46:44.837838",
          "score": 0.03472138130159161
         },
         {
          "date": "2012-08-29T09:31:36.729730",
          "score": 0.035584044030905815
         },
         {
          "date": "2012-09-03T05:16:28.621622",
          "score": 0.03644660030932029
         },
         {
          "date": "2012-09-08T01:01:20.513514",
          "score": 0.037309047556464775
         },
         {
          "date": "2012-09-12T20:46:12.405406",
          "score": 0.03817138319230018
         },
         {
          "date": "2012-09-17T16:31:04.297297",
          "score": 0.03903360463712152
         },
         {
          "date": "2012-09-22T12:15:56.189189",
          "score": 0.03989570931155931
         },
         {
          "date": "2012-09-27T08:00:48.081081",
          "score": 0.04075769463660198
         },
         {
          "date": "2012-10-02T03:45:39.972973",
          "score": 0.041619558033586246
         },
         {
          "date": "2012-10-06T23:30:31.864865",
          "score": 0.04248129692422009
         },
         {
          "date": "2012-10-11T19:15:23.756757",
          "score": 0.04334290873058322
         },
         {
          "date": "2012-10-16T15:00:15.648649",
          "score": 0.04420439087513248
         },
         {
          "date": "2012-10-21T10:45:07.540540",
          "score": 0.04506574078071224
         },
         {
          "date": "2012-10-26T06:29:59.432432",
          "score": 0.045926955870566
         },
         {
          "date": "2012-10-31T01:14:51.324324",
          "score": 0.046788033568341714
         },
         {
          "date": "2012-11-04T20:59:43.216216",
          "score": 0.04764897129809062
         },
         {
          "date": "2012-11-09T16:44:35.108108",
          "score": 0.04850976648429234
         },
         {
          "date": "2012-11-14T12:29:27",
          "score": 0.0493704165518441
         },
         {
          "date": "2012-11-19T08:14:18.891892",
          "score": 0.050230918926083196
         },
         {
          "date": "2012-11-24T03:59:10.783784",
          "score": 0.05109127103278918
         },
         {
          "date": "2012-11-28T23:44:02.675676",
          "score": 0.05195147029818484
         },
         {
          "date": "2012-12-03T19:28:54.567568",
          "score": 0.0528115141489581
         },
         {
          "date": "2012-12-08T15:13:46.459460",
          "score": 0.053671400012253984
         },
         {
          "date": "2012-12-13T10:58:38.351351",
          "score": 0.0545311253156964
         },
         {
          "date": "2012-12-18T06:43:30.243243",
          "score": 0.05539068748738907
         },
         {
          "date": "2012-12-23T02:28:22.135135",
          "score": 0.056250083955919766
         },
         {
          "date": "2012-12-27T22:13:14.027027",
          "score": 0.05710931215037293
         },
         {
          "date": "2013-01-01T17:58:05.918919",
          "score": 0.057968369500338846
         },
         {
          "date": "2013-01-06T13:42:57.810811",
          "score": 0.05882725343591996
         },
         {
          "date": "2013-01-11T09:27:49.702703",
          "score": 0.05968596138773097
         },
         {
          "date": "2013-01-16T05:12:41.594594",
          "score": 0.0605444907869217
         },
         {
          "date": "2013-01-21T00:57:33.486486",
          "score": 0.06140283906516755
         },
         {
          "date": "2013-01-25T20:42:25.378378",
          "score": 0.0622610036546917
         },
         {
          "date": "2013-01-30T16:27:17.270270",
          "score": 0.06311898198826718
         },
         {
          "date": "2013-02-04T12:12:09.162162",
          "score": 0.06397677149921802
         },
         {
          "date": "2013-02-09T07:57:01.054054",
          "score": 0.06483436962144101
         },
         {
          "date": "2013-02-14T03:41:52.945946",
          "score": 0.06569177378939817
         },
         {
          "date": "2013-02-18T23:26:44.837838",
          "score": 0.06654898143813845
         },
         {
          "date": "2013-02-23T19:11:36.729730",
          "score": 0.06740599000329203
         },
         {
          "date": "2013-02-28T14:56:28.621622",
          "score": 0.06826279692109194
         },
         {
          "date": "2013-03-05T10:41:20.513514",
          "score": 0.06911939962836627
         },
         {
          "date": "2013-03-10T06:26:12.405406",
          "score": 0.06997579556256112
         },
         {
          "date": "2013-03-15T02:11:04.297297",
          "score": 0.07083198216173936
         },
         {
          "date": "2013-03-19T21:55:56.189189",
          "score": 0.07168795686458582
         },
         {
          "date": "2013-03-24T17:40:48.081081",
          "score": 0.07254371711042623
         },
         {
          "date": "2013-03-29T13:25:39.972973",
          "score": 0.0733992603392202
         },
         {
          "date": "2013-04-03T10:10:31.864865",
          "score": 0.07425458399158252
         },
         {
          "date": "2013-04-08T05:55:23.756757",
          "score": 0.07510968550878486
         },
         {
          "date": "2013-04-13T01:40:15.648649",
          "score": 0.07596456233275914
         },
         {
          "date": "2013-04-17T21:25:07.540540",
          "score": 0.07681921190610988
         },
         {
          "date": "2013-04-22T17:09:59.432432",
          "score": 0.07767363167212543
         },
         {
          "date": "2013-04-27T12:54:51.324324",
          "score": 0.07852781907478129
         },
         {
          "date": "2013-05-02T08:39:43.216216",
          "score": 0.07938177155874221
         },
         {
          "date": "2013-05-07T04:24:35.108108",
          "score": 0.08023548656938378
         },
         {
          "date": "2013-05-12T00:09:27",
          "score": 0.08108896155278386
         },
         {
          "date": "2013-05-16T19:54:18.891892",
          "score": 0.08194219395574442
         },
         {
          "date": "2013-05-21T15:39:10.783784",
          "score": 0.08279518122579338
         },
         {
          "date": "2013-05-26T11:24:02.675676",
          "score": 0.08364792081118566
         },
         {
          "date": "2013-05-31T07:08:54.567568",
          "score": 0.08450041016092516
         },
         {
          "date": "2013-06-05T02:53:46.459460",
          "score": 0.08535264672475648
         },
         {
          "date": "2013-06-09T22:38:38.351351",
          "score": 0.08620462795318645
         },
         {
          "date": "2013-06-14T18:23:30.243243",
          "score": 0.08705635129748548
         },
         {
          "date": "2013-06-19T14:08:22.135135",
          "score": 0.08790781420969176
         },
         {
          "date": "2013-06-24T09:53:14.027027",
          "score": 0.08875901414262283
         },
         {
          "date": "2013-06-29T05:38:05.918919",
          "score": 0.08960994854988591
         },
         {
          "date": "2013-07-04T01:22:57.810811",
          "score": 0.09046061488588375
         },
         {
          "date": "2013-07-08T21:07:49.702703",
          "score": 0.09131101060581437
         },
         {
          "date": "2013-07-13T16:52:41.594594",
          "score": 0.09216113316569333
         },
         {
          "date": "2013-07-18T12:37:33.486486",
          "score": 0.09301098002234609
         },
         {
          "date": "2013-07-23T08:22:25.378378",
          "score": 0.09386054863342772
         },
         {
          "date": "2013-07-28T04:07:17.270270",
          "score": 0.09470983645742628
         },
         {
          "date": "2013-08-01T23:52:09.162162",
          "score": 0.0955588409536639
         },
         {
          "date": "2013-08-06T19:37:01.054054",
          "score": 0.09640755958231842
         },
         {
          "date": "2013-08-11T15:21:52.945946",
          "score": 0.09725598980441455
         },
         {
          "date": "2013-08-16T11:06:44.837838",
          "score": 0.09810412908184785
         },
         {
          "date": "2013-08-21T06:51:36.729730",
          "score": 0.09895197487737595
         },
         {
          "date": "2013-08-26T02:36:28.621622",
          "score": 0.09979952465464331
         },
         {
          "date": "2013-08-30T22:21:20.513514",
          "score": 0.10064677587817111
         },
         {
          "date": "2013-09-04T18:06:12.405406",
          "score": 0.10149372601338022
         },
         {
          "date": "2013-09-09T13:51:04.297297",
          "score": 0.10234037252659117
         },
         {
          "date": "2013-09-14T09:35:56.189189",
          "score": 0.10318671288502834
         },
         {
          "date": "2013-09-19T05:20:48.081081",
          "score": 0.10403274455683903
         },
         {
          "date": "2013-09-24T01:05:39.972973",
          "score": 0.10487846501108589
         },
         {
          "date": "2013-09-28T20:50:31.864865",
          "score": 0.10572387171776948
         },
         {
          "date": "2013-10-03T16:35:23.756757",
          "score": 0.10656896214782746
         },
         {
          "date": "2013-10-08T12:20:15.648649",
          "score": 0.10741373377314112
         },
         {
          "date": "2013-10-13T08:05:07.540540",
          "score": 0.10825818406654486
         },
         {
          "date": "2013-10-18T03:49:59.432432",
          "score": 0.10910231050183819
         },
         {
          "date": "2013-10-22T23:34:51.324324",
          "score": 0.10994611055378953
         },
         {
          "date": "2013-10-27T18:19:43.216216",
          "score": 0.11078958169813785
         },
         {
          "date": "2013-11-01T14:04:35.108108",
          "score": 0.11163272141161429
         },
         {
          "date": "2013-11-06T09:49:27",
          "score": 0.11247552717193252
         },
         {
          "date": "2013-11-11T05:34:18.891892",
          "score": 0.11331799645781251
         },
         {
          "date": "2013-11-16T01:19:10.783784",
          "score": 0.1141601267489799
         },
         {
          "date": "2013-11-20T21:04:02.675676",
          "score": 0.11500191552616887
         },
         {
          "date": "2013-11-25T16:48:54.567568",
          "score": 0.11584336027114286
         },
         {
          "date": "2013-11-30T12:33:46.459460",
          "score": 0.11668445846668707
         },
         {
          "date": "2013-12-05T08:18:38.351351",
          "score": 0.11752520759662866
         },
         {
          "date": "2013-12-10T04:03:30.243243",
          "score": 0.11836560514583991
         },
         {
          "date": "2013-12-14T23:48:22.135135",
          "score": 0.11920564860024022
         },
         {
          "date": "2013-12-19T19:33:14.027027",
          "score": 0.12004533544680854
         },
         {
          "date": "2013-12-24T15:18:05.918919",
          "score": 0.12088466317359448
         },
         {
          "date": "2013-12-29T11:02:57.810811",
          "score": 0.12172362926972213
         },
         {
          "date": "2014-01-03T06:47:49.702703",
          "score": 0.12256223122539134
         },
         {
          "date": "2014-01-08T02:32:41.594594",
          "score": 0.1234004665318989
         },
         {
          "date": "2014-01-12T22:17:33.486486",
          "score": 0.1242383326816317
         },
         {
          "date": "2014-01-17T18:02:25.378378",
          "score": 0.12507582716808507
         },
         {
          "date": "2014-01-22T13:47:17.270270",
          "score": 0.125912947485868
         },
         {
          "date": "2014-01-27T09:32:09.162162",
          "score": 0.1267496911307018
         },
         {
          "date": "2014-02-01T05:17:01.054054",
          "score": 0.1275860555994425
         },
         {
          "date": "2014-02-06T01:01:52.945946",
          "score": 0.1284220383900737
         },
         {
          "date": "2014-02-10T20:46:44.837838",
          "score": 0.12925763700172685
         },
         {
          "date": "2014-02-15T16:31:36.729730",
          "score": 0.1300928489346764
         },
         {
          "date": "2014-02-20T12:16:28.621622",
          "score": 0.1309276716903607
         },
         {
          "date": "2014-02-25T08:01:20.513514",
          "score": 0.13176210277137457
         },
         {
          "date": "2014-03-02T03:46:12.405406",
          "score": 0.1325961396814905
         },
         {
          "date": "2014-03-06T23:31:04.297297",
          "score": 0.13342977992566013
         },
         {
          "date": "2014-03-11T19:15:56.189189",
          "score": 0.13426302101001567
         },
         {
          "date": "2014-03-16T15:00:48.081081",
          "score": 0.13509586044189165
         },
         {
          "date": "2014-03-21T10:45:39.972973",
          "score": 0.1359282957298162
         },
         {
          "date": "2014-03-26T06:30:31.864865",
          "score": 0.1367603243835322
         },
         {
          "date": "2014-03-31T03:15:23.756757",
          "score": 0.1375919439139989
         },
         {
          "date": "2014-04-04T23:00:15.648649",
          "score": 0.13842315183339576
         },
         {
          "date": "2014-04-09T18:45:07.540540",
          "score": 0.13925394565513363
         },
         {
          "date": "2014-04-14T14:29:59.432432",
          "score": 0.14008432289386555
         },
         {
          "date": "2014-04-19T10:14:51.324324",
          "score": 0.14091428106549175
         },
         {
          "date": "2014-04-24T05:59:43.216216",
          "score": 0.14174381768715946
         },
         {
          "date": "2014-04-29T01:44:35.108108",
          "score": 0.14257293027728488
         },
         {
          "date": "2014-05-03T21:29:27",
          "score": 0.14340161635554524
         },
         {
          "date": "2014-05-08T17:14:18.891892",
          "score": 0.14422987344289925
         },
         {
          "date": "2014-05-13T12:59:10.783784",
          "score": 0.1450576990615891
         },
         {
          "date": "2014-05-18T08:44:02.675676",
          "score": 0.14588509073514164
         },
         {
          "date": "2014-05-23T04:28:54.567568",
          "score": 0.14671204598839052
         },
         {
          "date": "2014-05-28T00:13:46.459460",
          "score": 0.14753856234746573
         },
         {
          "date": "2014-06-01T19:58:38.351351",
          "score": 0.14836463733981747
         },
         {
          "date": "2014-06-06T15:43:30.243243",
          "score": 0.14919026849421554
         },
         {
          "date": "2014-06-11T11:28:22.135135",
          "score": 0.1500154533407535
         },
         {
          "date": "2014-06-16T07:13:14.027027",
          "score": 0.15084018941086105
         },
         {
          "date": "2014-06-21T02:58:05.918919",
          "score": 0.15166447423731289
         },
         {
          "date": "2014-06-25T22:42:57.810811",
          "score": 0.15248830535423458
         },
         {
          "date": "2014-06-30T18:27:49.702703",
          "score": 0.15331168029710268
         },
         {
          "date": "2014-07-05T14:12:41.594594",
          "score": 0.15413459660276674
         },
         {
          "date": "2014-07-10T09:57:33.486486",
          "score": 0.15495705180944014
         },
         {
          "date": "2014-07-15T05:42:25.378378",
          "score": 0.15577904345672147
         },
         {
          "date": "2014-07-20T01:27:17.270270",
          "score": 0.1566005690855959
         },
         {
          "date": "2014-07-24T21:12:09.162162",
          "score": 0.157421626238438
         },
         {
          "date": "2014-07-29T16:57:01.054054",
          "score": 0.15824221245902959
         },
         {
          "date": "2014-08-03T12:41:52.945946",
          "score": 0.1590623252925556
         },
         {
          "date": "2014-08-08T08:26:44.837838",
          "score": 0.1598819622856234
         },
         {
          "date": "2014-08-13T04:11:36.729730",
          "score": 0.16070112098625688
         },
         {
          "date": "2014-08-17T23:56:28.621622",
          "score": 0.16151979894391816
         },
         {
          "date": "2014-08-22T19:41:20.513514",
          "score": 0.16233799370949972
         },
         {
          "date": "2014-08-27T15:26:12.405406",
          "score": 0.16315570283534614
         },
         {
          "date": "2014-09-01T11:11:04.297297",
          "score": 0.1639729238752532
         },
         {
          "date": "2014-09-06T06:55:56.189189",
          "score": 0.16478965438447263
         },
         {
          "date": "2014-09-11T02:40:48.081081",
          "score": 0.16560589191973057
         },
         {
          "date": "2014-09-15T22:25:39.972973",
          "score": 0.16642163403922017
         },
         {
          "date": "2014-09-20T18:10:31.864865",
          "score": 0.16723687830262263
         },
         {
          "date": "2014-09-25T13:55:23.756757",
          "score": 0.16805162227110806
         },
         {
          "date": "2014-09-30T09:40:15.648649",
          "score": 0.16886586350734034
         },
         {
          "date": "2014-10-05T05:25:07.540540",
          "score": 0.169679599575486
         },
         {
          "date": "2014-10-10T01:09:59.432432",
          "score": 0.17049282804122784
         },
         {
          "date": "2014-10-14T20:54:51.324324",
          "score": 0.17130554647176632
         },
         {
          "date": "2014-10-19T16:39:43.216216",
          "score": 0.17211775243582236
         },
         {
          "date": "2014-10-24T12:24:35.108108",
          "score": 0.17292944350365747
         },
         {
          "date": "2014-10-29T07:09:27",
          "score": 0.17374061724706585
         },
         {
          "date": "2014-11-03T02:54:18.891892",
          "score": 0.17455127123939487
         },
         {
          "date": "2014-11-07T22:39:10.783784",
          "score": 0.1753614030555473
         },
         {
          "date": "2014-11-12T18:24:02.675676",
          "score": 0.17617101027198165
         },
         {
          "date": "2014-11-17T14:08:54.567568",
          "score": 0.17698009046673377
         },
         {
          "date": "2014-11-22T09:53:46.459460",
          "score": 0.1777886412194084
         },
         {
          "date": "2014-11-27T05:38:38.351351",
          "score": 0.1785966601111998
         },
         {
          "date": "2014-12-02T01:23:30.243243",
          "score": 0.17940414472489324
         },
         {
          "date": "2014-12-06T21:08:22.135135",
          "score": 0.18021109264486862
         },
         {
          "date": "2014-12-11T16:53:14.027027",
          "score": 0.1810175014571119
         },
         {
          "date": "2014-12-16T12:38:05.918919",
          "score": 0.18182336874922414
         },
         {
          "date": "2014-12-21T08:22:57.810811",
          "score": 0.182628692110428
         },
         {
          "date": "2014-12-26T04:07:49.702703",
          "score": 0.18343346913156677
         },
         {
          "date": "2014-12-30T23:52:41.594594",
          "score": 0.18423769740512558
         },
         {
          "date": "2015-01-04T19:37:33.486486",
          "score": 0.18504137452522462
         },
         {
          "date": "2015-01-09T15:22:25.378378",
          "score": 0.1858444980876371
         },
         {
          "date": "2015-01-14T11:07:17.270270",
          "score": 0.18664706568979292
         },
         {
          "date": "2015-01-19T06:52:09.162162",
          "score": 0.18744907493078006
         },
         {
          "date": "2015-01-24T02:37:01.054054",
          "score": 0.18825052341136345
         },
         {
          "date": "2015-01-28T22:21:52.945946",
          "score": 0.18905140873397847
         },
         {
          "date": "2015-02-02T18:06:44.837838",
          "score": 0.18985172850275256
         },
         {
          "date": "2015-02-07T13:51:36.729730",
          "score": 0.19065148032349793
         },
         {
          "date": "2015-02-12T09:36:28.621622",
          "score": 0.19145066180373294
         },
         {
          "date": "2015-02-17T05:21:20.513514",
          "score": 0.19224927055267466
         },
         {
          "date": "2015-02-22T01:06:12.405406",
          "score": 0.19304730418125926
         },
         {
          "date": "2015-02-26T20:51:04.297297",
          "score": 0.19384476030214326
         },
         {
          "date": "2015-03-03T16:35:56.189189",
          "score": 0.19464163652970518
         },
         {
          "date": "2015-03-08T12:20:48.081081",
          "score": 0.19543793048006647
         },
         {
          "date": "2015-03-13T08:05:39.972973",
          "score": 0.19623363977108166
         },
         {
          "date": "2015-03-18T03:50:31.864865",
          "score": 0.19702876202236147
         },
         {
          "date": "2015-03-22T23:35:23.756757",
          "score": 0.19782329485527111
         },
         {
          "date": "2015-03-27T19:20:15.648649",
          "score": 0.19861723589293695
         },
         {
          "date": "2015-04-01T16:05:07.540540",
          "score": 0.1994105827602547
         },
         {
          "date": "2015-04-06T11:49:59.432432",
          "score": 0.2002033330839016
         },
         {
          "date": "2015-04-11T07:34:51.324324",
          "score": 0.20099548449233937
         },
         {
          "date": "2015-04-16T03:19:43.216216",
          "score": 0.2017870346158158
         },
         {
          "date": "2015-04-20T23:04:35.108108",
          "score": 0.20257798108638544
         },
         {
          "date": "2015-04-25T18:49:27",
          "score": 0.20336832153790013
         },
         {
          "date": "2015-04-30T14:34:18.891892",
          "score": 0.2041580536060314
         },
         {
          "date": "2015-05-05T10:19:10.783784",
          "score": 0.2049471749282701
         },
         {
          "date": "2015-05-10T06:04:02.675676",
          "score": 0.2057356831439286
         },
         {
          "date": "2015-05-15T01:48:54.567568",
          "score": 0.2065235758941611
         },
         {
          "date": "2015-05-19T21:33:46.459460",
          "score": 0.20731085082195538
         },
         {
          "date": "2015-05-24T17:18:38.351351",
          "score": 0.20809750557215276
         },
         {
          "date": "2015-05-29T13:03:30.243243",
          "score": 0.20888353779145058
         },
         {
          "date": "2015-06-03T08:48:22.135135",
          "score": 0.20966894512840423
         },
         {
          "date": "2015-06-08T04:33:14.027027",
          "score": 0.21045372523343858
         },
         {
          "date": "2015-06-13T00:18:05.918919",
          "score": 0.2112378757588585
         },
         {
          "date": "2015-06-17T20:02:57.810811",
          "score": 0.21202139435885214
         },
         {
          "date": "2015-06-22T15:47:49.702703",
          "score": 0.21280427868949356
         },
         {
          "date": "2015-06-27T11:32:41.594594",
          "score": 0.2135865264087598
         },
         {
          "date": "2015-07-02T07:17:33.486486",
          "score": 0.21436813517652675
         },
         {
          "date": "2015-07-07T03:02:25.378378",
          "score": 0.2151491026545863
         },
         {
          "date": "2015-07-11T22:47:17.270270",
          "score": 0.21592942650664873
         },
         {
          "date": "2015-07-16T18:32:09.162162",
          "score": 0.21670910439834523
         },
         {
          "date": "2015-07-21T14:17:01.054054",
          "score": 0.2174881339972451
         },
         {
          "date": "2015-07-26T10:01:52.945946",
          "score": 0.21826651297285155
         },
         {
          "date": "2015-07-31T05:46:44.837838",
          "score": 0.21904423899661965
         },
         {
          "date": "2015-08-05T01:31:36.729730",
          "score": 0.2198213097419521
         },
         {
          "date": "2015-08-09T21:16:28.621622",
          "score": 0.2205977228842181
         },
         {
          "date": "2015-08-14T17:01:20.513514",
          "score": 0.22137347610074742
         },
         {
          "date": "2015-08-19T12:46:12.405406",
          "score": 0.22214856707084904
         },
         {
          "date": "2015-08-24T08:31:04.297297",
          "score": 0.22292299347581307
         },
         {
          "date": "2015-08-29T04:15:56.189189",
          "score": 0.223696752998913
         },
         {
          "date": "2015-09-03T00:00:48.081081",
          "score": 0.22446984332542375
         },
         {
          "date": "2015-09-07T19:45:39.972973",
          "score": 0.22524226214261509
         },
         {
          "date": "2015-09-12T15:30:31.864865",
          "score": 0.22601400713977127
         },
         {
          "date": "2015-09-17T11:15:23.756757",
          "score": 0.22678507600819225
         },
         {
          "date": "2015-09-22T07:00:15.648649",
          "score": 0.22755546644119673
         },
         {
          "date": "2015-09-27T02:45:07.540540",
          "score": 0.22832517613413345
         },
         {
          "date": "2015-10-01T22:29:59.432432",
          "score": 0.22909420278439074
         },
         {
          "date": "2015-10-06T18:14:51.324324",
          "score": 0.2298625440914008
         },
         {
          "date": "2015-10-11T13:59:43.216216",
          "score": 0.2306301977566404
         },
         {
          "date": "2015-10-16T09:44:35.108108",
          "score": 0.23139716148365033
         },
         {
          "date": "2015-10-21T05:29:27",
          "score": 0.23216343297802863
         },
         {
          "date": "2015-10-26T00:14:18.891892",
          "score": 0.23292900994744917
         },
         {
          "date": "2015-10-30T19:59:10.783784",
          "score": 0.23369389010166386
         },
         {
          "date": "2015-11-04T15:44:02.675676",
          "score": 0.23445807115250333
         },
         {
          "date": "2015-11-09T11:28:54.567568",
          "score": 0.23522155081389748
         },
         {
          "date": "2015-11-14T07:13:46.459460",
          "score": 0.23598432680186668
         },
         {
          "date": "2015-11-19T02:58:38.351351",
          "score": 0.23674639683454193
         },
         {
          "date": "2015-11-23T22:43:30.243243",
          "score": 0.237507758632166
         },
         {
          "date": "2015-11-28T18:28:22.135135",
          "score": 0.2382684099170968
         },
         {
          "date": "2015-12-03T14:13:14.027027",
          "score": 0.2390283484138184
         },
         {
          "date": "2015-12-08T09:58:05.918919",
          "score": 0.2397875718489494
         },
         {
          "date": "2015-12-13T05:42:57.810811",
          "score": 0.24054607795124902
         },
         {
          "date": "2015-12-18T01:27:49.702703",
          "score": 0.24130386445161617
         },
         {
          "date": "2015-12-22T21:12:41.594594",
          "score": 0.2420609290831099
         },
         {
          "date": "2015-12-27T16:57:33.486486",
          "score": 0.24281726958094138
         },
         {
          "date": "2016-01-01T12:42:25.378378",
          "score": 0.24357288368249375
         },
         {
          "date": "2016-01-06T08:27:17.270270",
          "score": 0.24432776912732274
         },
         {
          "date": "2016-01-11T04:12:09.162162",
          "score": 0.24508192365715947
         },
         {
          "date": "2016-01-15T23:57:01.054054",
          "score": 0.24583534501592716
         },
         {
          "date": "2016-01-20T19:41:52.945946",
          "score": 0.24658803094973686
         },
         {
          "date": "2016-01-25T15:26:44.837838",
          "score": 0.2473399792069058
         },
         {
          "date": "2016-01-30T11:11:36.729730",
          "score": 0.24809118753795098
         },
         {
          "date": "2016-02-04T06:56:28.621622",
          "score": 0.24884165369561073
         },
         {
          "date": "2016-02-09T02:41:20.513514",
          "score": 0.24959137543483528
         },
         {
          "date": "2016-02-13T22:26:12.405406",
          "score": 0.25034035051280856
         },
         {
          "date": "2016-02-18T18:11:04.297297",
          "score": 0.2510885766889466
         },
         {
          "date": "2016-02-23T13:55:56.189189",
          "score": 0.251836051724902
         },
         {
          "date": "2016-02-28T09:40:48.081081",
          "score": 0.2525827733845805
         },
         {
          "date": "2016-03-04T05:25:39.972973",
          "score": 0.253328739434135
         },
         {
          "date": "2016-03-09T01:10:31.864865",
          "score": 0.25407394764198366
         },
         {
          "date": "2016-03-13T20:55:23.756757",
          "score": 0.2548183957788124
         },
         {
          "date": "2016-03-18T16:40:15.648649",
          "score": 0.25556208161757704
         },
         {
          "date": "2016-03-23T12:25:07.540540",
          "score": 0.2563050029335137
         },
         {
          "date": "2016-03-28T09:09:59.432432",
          "score": 0.25704715750414936
         },
         {
          "date": "2016-04-02T04:54:51.324324",
          "score": 0.2577885431093045
         },
         {
          "date": "2016-04-07T00:39:43.216216",
          "score": 0.25852915753109507
         },
         {
          "date": "2016-04-11T20:24:35.108108",
          "score": 0.2592689985539507
         },
         {
          "date": "2016-04-16T16:09:27",
          "score": 0.26000806396460785
         },
         {
          "date": "2016-04-21T11:54:18.891892",
          "score": 0.26074635155212844
         },
         {
          "date": "2016-04-26T07:39:10.783784",
          "score": 0.2614838591079015
         },
         {
          "date": "2016-05-01T03:24:02.675676",
          "score": 0.26222058442564405
         },
         {
          "date": "2016-05-05T23:08:54.567568",
          "score": 0.26295652530142005
         },
         {
          "date": "2016-05-10T18:53:46.459460",
          "score": 0.2636916795336337
         },
         {
          "date": "2016-05-15T14:38:38.351351",
          "score": 0.2644260449230471
         },
         {
          "date": "2016-05-20T10:23:30.243243",
          "score": 0.26515961927278264
         },
         {
          "date": "2016-05-25T06:08:22.135135",
          "score": 0.2658924003883251
         },
         {
          "date": "2016-05-30T01:53:14.027027",
          "score": 0.26662438607753325
         },
         {
          "date": "2016-06-03T21:38:05.918919",
          "score": 0.26735557415064787
         },
         {
          "date": "2016-06-08T17:22:57.810811",
          "score": 0.2680859624202962
         },
         {
          "date": "2016-06-13T13:07:49.702703",
          "score": 0.26881554870149343
         },
         {
          "date": "2016-06-18T08:52:41.594594",
          "score": 0.26954433081165957
         },
         {
          "date": "2016-06-23T04:37:33.486486",
          "score": 0.270272306570615
         },
         {
          "date": "2016-06-28T00:22:25.378378",
          "score": 0.2709994738005961
         },
         {
          "date": "2016-07-02T20:07:17.270270",
          "score": 0.27172583032625897
         },
         {
          "date": "2016-07-07T15:52:09.162162",
          "score": 0.27245137397467944
         },
         {
          "date": "2016-07-12T11:37:01.054054",
          "score": 0.2731761025753719
         },
         {
          "date": "2016-07-17T07:21:52.945946",
          "score": 0.27390001396028224
         },
         {
          "date": "2016-07-22T03:06:44.837838",
          "score": 0.2746231059638075
         },
         {
          "date": "2016-07-26T22:51:36.729730",
          "score": 0.2753453764227901
         },
         {
          "date": "2016-07-31T18:36:28.621622",
          "score": 0.2760668231765359
         },
         {
          "date": "2016-08-05T14:21:20.513514",
          "score": 0.27678744406680883
         },
         {
          "date": "2016-08-10T10:06:12.405406",
          "score": 0.2775072369378479
         },
         {
          "date": "2016-08-15T05:51:04.297297",
          "score": 0.2782261996363697
         },
         {
          "date": "2016-08-20T01:35:56.189189",
          "score": 0.27894433001156876
         },
         {
          "date": "2016-08-24T21:20:48.081081",
          "score": 0.279661625915137
         },
         {
          "date": "2016-08-29T17:05:39.972973",
          "score": 0.2803780852012549
         },
         {
          "date": "2016-09-03T12:50:31.864865",
          "score": 0.2810937057266118
         },
         {
          "date": "2016-09-08T08:35:23.756757",
          "score": 0.2818084853504057
         },
         {
          "date": "2016-09-13T04:20:15.648649",
          "score": 0.28252242193434673
         },
         {
          "date": "2016-09-18T00:05:07.540540",
          "score": 0.2832355133426673
         },
         {
          "date": "2016-09-22T19:49:59.432432",
          "score": 0.28394775744213147
         },
         {
          "date": "2016-09-27T15:34:51.324324",
          "score": 0.2846591521020378
         },
         {
          "date": "2016-10-02T11:19:43.216216",
          "score": 0.28536969519422123
         },
         {
          "date": "2016-10-07T07:04:35.108108",
          "score": 0.2860793845930709
         },
         {
          "date": "2016-10-12T02:49:27",
          "score": 0.2867882181755231
         },
         {
          "date": "2016-10-16T22:34:18.891892",
          "score": 0.28749619382107916
         },
         {
          "date": "2016-10-21T18:19:10.783784",
          "score": 0.288203309411807
         },
         {
          "date": "2016-10-26T14:04:02.675676",
          "score": 0.28890956283234254
         },
         {
          "date": "2016-10-31T08:48:54.567568",
          "score": 0.2896149519699076
         },
         {
          "date": "2016-11-05T04:33:46.459460",
          "score": 0.2903194747143024
         },
         {
          "date": "2016-11-10T00:18:38.351351",
          "score": 0.29102312895792515
         },
         {
          "date": "2016-11-14T20:03:30.243243",
          "score": 0.2917259125957706
         },
         {
          "date": "2016-11-19T15:48:22.135135",
          "score": 0.2924278235254363
         },
         {
          "date": "2016-11-24T11:33:14.027027",
          "score": 0.29312885964712904
         },
         {
          "date": "2016-11-29T07:18:05.918919",
          "score": 0.2938290188636771
         },
         {
          "date": "2016-12-04T03:02:57.810811",
          "score": 0.29452829908053113
         },
         {
          "date": "2016-12-08T22:47:49.702703",
          "score": 0.2952266982057673
         },
         {
          "date": "2016-12-13T18:32:41.594594",
          "score": 0.2959242141501031
         },
         {
          "date": "2016-12-18T14:17:33.486486",
          "score": 0.2966208448268926
         },
         {
          "date": "2016-12-23T10:02:25.378378",
          "score": 0.29731658815214246
         },
         {
          "date": "2016-12-28T05:47:17.270270",
          "score": 0.2980114420445143
         },
         {
          "date": "2017-01-02T01:32:09.162162",
          "score": 0.2987054044253247
         },
         {
          "date": "2017-01-06T21:17:01.054054",
          "score": 0.29939847321856533
         },
         {
          "date": "2017-01-11T17:01:52.945946",
          "score": 0.30009064635089255
         },
         {
          "date": "2017-01-16T12:46:44.837838",
          "score": 0.30078192175165075
         },
         {
          "date": "2017-01-21T08:31:36.729730",
          "score": 0.30147229735286146
         },
         {
          "date": "2017-01-26T04:16:28.621622",
          "score": 0.3021617710892458
         },
         {
          "date": "2017-01-31T00:01:20.513514",
          "score": 0.30285034089821616
         },
         {
          "date": "2017-02-04T19:46:12.405406",
          "score": 0.3035380047198934
         },
         {
          "date": "2017-02-09T15:31:04.297297",
          "score": 0.30422476049710884
         },
         {
          "date": "2017-02-14T11:15:56.189189",
          "score": 0.3060561880798416
         },
         {
          "date": "2017-02-19T07:00:48.081081",
          "score": 0.3082236295641434
         },
         {
          "date": "2017-02-24T02:45:39.972973",
          "score": 0.310390133744084
         },
         {
          "date": "2017-02-28T22:30:31.864865",
          "score": 0.3125556855402165
         },
         {
          "date": "2017-03-05T18:15:23.756757",
          "score": 0.3147202698761541
         },
         {
          "date": "2017-03-10T14:00:15.648649",
          "score": 0.3168838716786793
         },
         {
          "date": "2017-03-15T09:45:07.540540",
          "score": 0.31904647587787355
         },
         {
          "date": "2017-03-20T05:29:59.432432",
          "score": 0.3212080674072503
         },
         {
          "date": "2017-03-25T01:14:51.324324",
          "score": 0.3233686312038635
         },
         {
          "date": "2017-03-29T21:59:43.216216",
          "score": 0.32552815220841497
         },
         {
          "date": "2017-04-03T17:44:35.108108",
          "score": 0.32768661536540816
         },
         {
          "date": "2017-04-08T13:29:27",
          "score": 0.3298440056232305
         },
         {
          "date": "2017-04-13T09:14:18.891892",
          "score": 0.3320003079343078
         },
         {
          "date": "2017-04-18T04:59:10.783784",
          "score": 0.3341555072552106
         },
         {
          "date": "2017-04-23T00:44:02.675676",
          "score": 0.33630958854675896
         },
         {
          "date": "2017-04-27T20:28:54.567568",
          "score": 0.3384625367741785
         },
         {
          "date": "2017-05-02T16:13:46.459460",
          "score": 0.34061433690718135
         },
         {
          "date": "2017-05-07T11:58:38.351351",
          "score": 0.3427649739201209
         },
         {
          "date": "2017-05-12T07:43:30.243243",
          "score": 0.3449144327920966
         },
         {
          "date": "2017-05-17T03:28:22.135135",
          "score": 0.3470626985070662
         },
         {
          "date": "2017-05-21T23:13:14.027027",
          "score": 0.3492097560539744
         },
         {
          "date": "2017-05-26T18:58:05.918919",
          "score": 0.3513555904268849
         },
         {
          "date": "2017-05-31T14:42:57.810811",
          "score": 0.3535001866250892
         },
         {
          "date": "2017-06-05T10:27:49.702703",
          "score": 0.35564352965321233
         },
         {
          "date": "2017-06-10T06:12:41.594594",
          "score": 0.3577856045213693
         },
         {
          "date": "2017-06-15T01:57:33.486486",
          "score": 0.35992639624524364
         },
         {
          "date": "2017-06-19T21:42:25.378378",
          "score": 0.3620658898462436
         },
         {
          "date": "2017-06-24T17:27:17.270270",
          "score": 0.3642040703516071
         },
         {
          "date": "2017-06-29T13:12:09.162162",
          "score": 0.36634092279450753
         },
         {
          "date": "2017-07-04T08:57:01.054054",
          "score": 0.36847643221420734
         },
         {
          "date": "2017-07-09T04:41:52.945946",
          "score": 0.3706105836561396
         },
         {
          "date": "2017-07-14T00:26:44.837838",
          "score": 0.3727433621720674
         },
         {
          "date": "2017-07-18T20:11:36.729730",
          "score": 0.37487475282016436
         },
         {
          "date": "2017-07-23T15:56:28.621622",
          "score": 0.3770047406651733
         },
         {
          "date": "2017-07-28T11:41:20.513514",
          "score": 0.37913331077848805
         },
         {
          "date": "2017-08-02T07:26:12.405406",
          "score": 0.3812604482383069
         },
         {
          "date": "2017-08-07T03:11:04.297297",
          "score": 0.38338613812973726
         },
         {
          "date": "2017-08-11T22:55:56.189189",
          "score": 0.3855103655449024
         },
         {
          "date": "2017-08-16T18:40:48.081081",
          "score": 0.3876331155830938
         },
         {
          "date": "2017-08-21T14:25:39.972973",
          "score": 0.38975437335085267
         },
         {
          "date": "2017-08-26T10:10:31.864865",
          "score": 0.3918741239621233
         },
         {
          "date": "2017-08-31T05:55:23.756757",
          "score": 0.3939923525383591
         },
         {
          "date": "2017-09-05T01:40:15.648649",
          "score": 0.3961090442086299
         },
         {
          "date": "2017-09-09T21:25:07.540540",
          "score": 0.3982241841097545
         },
         {
          "date": "2017-09-14T17:09:59.432432",
          "score": 0.40033775738642835
         },
         {
          "date": "2017-09-19T12:54:51.324324",
          "score": 0.40244974919133075
         },
         {
          "date": "2017-09-24T08:39:43.216216",
          "score": 0.4045601446852358
         },
         {
          "date": "2017-09-29T04:24:35.108108",
          "score": 0.4066689290371582
         },
         {
          "date": "2017-10-04T00:09:27",
          "score": 0.40877608742444016
         },
         {
          "date": "2017-10-08T19:54:18.891892",
          "score": 0.4108816050329001
         },
         {
          "date": "2017-10-13T15:39:10.783784",
          "score": 0.4129854670569399
         },
         {
          "date": "2017-10-18T11:24:02.675676",
          "score": 0.41508765869964775
         },
         {
          "date": "2017-10-23T07:08:54.567568",
          "score": 0.41718816517295265
         },
         {
          "date": "2017-10-28T02:53:46.459460",
          "score": 0.4192869716977028
         },
         {
          "date": "2017-11-01T21:38:38.351351",
          "score": 0.4213840635038202
         },
         {
          "date": "2017-11-06T17:23:30.243243",
          "score": 0.4234794258304039
         },
         {
          "date": "2017-11-11T13:08:22.135135",
          "score": 0.4255730439258389
         },
         {
          "date": "2017-11-16T08:53:14.027027",
          "score": 0.42766490304792515
         },
         {
          "date": "2017-11-21T04:38:05.918919",
          "score": 0.4297549884640063
         },
         {
          "date": "2017-11-26T00:22:57.810811",
          "score": 0.43184328545107725
         },
         {
          "date": "2017-11-30T20:07:49.702703",
          "score": 0.4339297792958896
         },
         {
          "date": "2017-12-05T15:52:41.594594",
          "score": 0.4360144552951018
         },
         {
          "date": "2017-12-10T11:37:33.486486",
          "score": 0.4380972987553626
         },
         {
          "date": "2017-12-15T07:22:25.378378",
          "score": 0.4401782949934586
         },
         {
          "date": "2017-12-20T03:07:17.270270",
          "score": 0.44225742933642154
         },
         {
          "date": "2017-12-24T22:52:09.162162",
          "score": 0.4443346871216303
         },
         {
          "date": "2017-12-29T18:37:01.054054",
          "score": 0.4464100536969637
         },
         {
          "date": "2018-01-03T14:21:52.945946",
          "score": 0.4484835144208783
         },
         {
          "date": "2018-01-08T10:06:44.837838",
          "score": 0.450555054662567
         },
         {
          "date": "2018-01-13T05:51:36.729730",
          "score": 0.4526246598020369
         },
         {
          "date": "2018-01-18T01:36:28.621622",
          "score": 0.4546923152302663
         },
         {
          "date": "2018-01-22T21:21:20.513514",
          "score": 0.4567580063492835
         },
         {
          "date": "2018-01-27T17:06:12.405406",
          "score": 0.4588217185723184
         },
         {
          "date": "2018-02-01T12:51:04.297297",
          "score": 0.4608834373239055
         },
         {
          "date": "2018-02-06T08:35:56.189189",
          "score": 0.4629431480399866
         },
         {
          "date": "2018-02-11T04:20:48.081081",
          "score": 0.46500083616806226
         },
         {
          "date": "2018-02-16T00:05:39.972973",
          "score": 0.4670564871672714
         },
         {
          "date": "2018-02-20T19:50:31.864865",
          "score": 0.46911008650854036
         },
         {
          "date": "2018-02-25T15:35:23.756757",
          "score": 0.4711616196746867
         },
         {
          "date": "2018-03-02T11:20:15.648649",
          "score": 0.4732110721605266
         },
         {
          "date": "2018-03-07T07:05:07.540540",
          "score": 0.4752584294730017
         },
         {
          "date": "2018-03-12T02:49:59.432432",
          "score": 0.4773036771313054
         },
         {
          "date": "2018-03-16T22:34:51.324324",
          "score": 0.47934680066698854
         },
         {
          "date": "2018-03-21T18:19:43.216216",
          "score": 0.48138778562406453
         },
         {
          "date": "2018-03-26T15:04:35.108108",
          "score": 0.48342661755915695
         },
         {
          "date": "2018-03-31T10:49:27",
          "score": 0.4854632820415798
         },
         {
          "date": "2018-04-05T06:34:18.891892",
          "score": 0.4874977646534853
         },
         {
          "date": "2018-04-10T02:19:10.783784",
          "score": 0.48953005098996727
         },
         {
          "date": "2018-04-14T22:04:02.675676",
          "score": 0.4915601266591632
         },
         {
          "date": "2018-04-19T17:48:54.567568",
          "score": 0.4935879772824036
         },
         {
          "date": "2018-04-24T13:33:46.459460",
          "score": 0.4956135884942878
         },
         {
          "date": "2018-04-29T09:18:38.351351",
          "score": 0.4976369459428375
         },
         {
          "date": "2018-05-04T05:03:30.243243",
          "score": 0.4996580352895939
         },
         {
          "date": "2018-05-09T00:48:22.135135",
          "score": 0.501676842209727
         },
         {
          "date": "2018-05-13T20:33:14.027027",
          "score": 0.5036933523921587
         },
         {
          "date": "2018-05-18T16:18:05.918919",
          "score": 0.5057075515396903
         },
         {
          "date": "2018-05-23T12:02:57.810811",
          "score": 0.5077194253691044
         },
         {
          "date": "2018-05-28T07:47:49.702703",
          "score": 0.5097289596112713
         },
         {
          "date": "2018-06-02T03:32:41.594594",
          "score": 0.5117361400112921
         },
         {
          "date": "2018-06-06T23:17:33.486486",
          "score": 0.5137409523285807
         },
         {
          "date": "2018-06-11T19:02:25.378378",
          "score": 0.5157433823370074
         },
         {
          "date": "2018-06-16T14:47:17.270270",
          "score": 0.5177434158250037
         },
         {
          "date": "2018-06-21T10:32:09.162162",
          "score": 0.51974103859566
         },
         {
          "date": "2018-06-26T06:17:01.054054",
          "score": 0.521736236466875
         },
         {
          "date": "2018-07-01T02:01:52.945946",
          "score": 0.5237289952714311
         },
         {
          "date": "2018-07-05T21:46:44.837838",
          "score": 0.5257193008571485
         },
         {
          "date": "2018-07-10T17:31:36.729730",
          "score": 0.5277071390869599
         },
         {
          "date": "2018-07-15T13:16:28.621622",
          "score": 0.5296924958390636
         },
         {
          "date": "2018-07-20T09:01:20.513514",
          "score": 0.531675357007
         },
         {
          "date": "2018-07-25T04:46:12.405406",
          "score": 0.5336557084997974
         },
         {
          "date": "2018-07-30T00:31:04.297297",
          "score": 0.535633536242073
         },
         {
          "date": "2018-08-03T20:15:56.189189",
          "score": 0.5376088261741323
         },
         {
          "date": "2018-08-08T16:00:48.081081",
          "score": 0.5395815642521143
         },
         {
          "date": "2018-08-13T11:45:39.972973",
          "score": 0.5415517364480708
         },
         {
          "date": "2018-08-18T07:30:31.864865",
          "score": 0.543519328750108
         },
         {
          "date": "2018-08-23T03:15:23.756757",
          "score": 0.5454843271624895
         },
         {
          "date": "2018-08-27T23:00:15.648649",
          "score": 0.5474467177057388
         },
         {
          "date": "2018-09-01T18:45:07.540540",
          "score": 0.5494064864167616
         },
         {
          "date": "2018-09-06T14:29:59.432432",
          "score": 0.5513636193489676
         },
         {
          "date": "2018-09-11T10:14:51.324324",
          "score": 0.5533181025723747
         },
         {
          "date": "2018-09-16T05:59:43.216216",
          "score": 0.5552699221737084
         },
         {
          "date": "2018-09-21T01:44:35.108108",
          "score": 0.5572190642565447
         },
         {
          "date": "2018-09-25T21:29:27",
          "score": 0.5591655149413873
         },
         {
          "date": "2018-09-30T17:14:18.891892",
          "score": 0.5611092603658114
         },
         {
          "date": "2018-10-05T12:59:10.783784",
          "score": 0.5630502866845621
         },
         {
          "date": "2018-10-10T08:44:02.675676",
          "score": 0.5649885800696535
         },
         {
          "date": "2018-10-15T04:28:54.567568",
          "score": 0.5669241267105114
         },
         {
          "date": "2018-10-20T00:13:46.459460",
          "score": 0.5688569128140486
         },
         {
          "date": "2018-10-24T19:58:38.351351",
          "score": 0.5707869246048101
         },
         {
          "date": "2018-10-29T14:43:30.243243",
          "score": 0.5727141483250678
         },
         {
          "date": "2018-11-03T10:28:22.135135",
          "score": 0.5746385702349269
         },
         {
          "date": "2018-11-08T06:13:14.027027",
          "score": 0.5765601766124419
         },
         {
          "date": "2018-11-13T01:58:05.918919",
          "score": 0.5784789537537406
         },
         {
          "date": "2018-11-17T21:42:57.810811",
          "score": 0.5803948879731223
         },
         {
          "date": "2018-11-22T17:27:49.702703",
          "score": 0.5823079656031586
         },
         {
          "date": "2018-11-27T13:12:41.594594",
          "score": 0.584218172994832
         },
         {
          "date": "2018-12-02T08:57:33.486486",
          "score": 0.5861254965176151
         },
         {
          "date": "2018-12-07T04:42:25.378378",
          "score": 0.5880299225596072
         },
         {
          "date": "2018-12-12T00:27:17.270270",
          "score": 0.5899314375276338
         },
         {
          "date": "2018-12-16T20:12:09.162162",
          "score": 0.5918300278473443
         },
         {
          "date": "2018-12-21T15:57:01.054054",
          "score": 0.5937256799633507
         },
         {
          "date": "2018-12-26T11:41:52.945946",
          "score": 0.5956183803393033
         },
         {
          "date": "2018-12-31T07:26:44.837838",
          "score": 0.5975081154580355
         },
         {
          "date": "2019-01-05T03:11:36.729730",
          "score": 0.599394871821638
         },
         {
          "date": "2019-01-09T22:56:28.621622",
          "score": 0.6012786359516031
         },
         {
          "date": "2019-01-14T18:41:20.513514",
          "score": 0.6031593943888993
         },
         {
          "date": "2019-01-19T14:26:12.405406",
          "score": 0.6050371336941099
         },
         {
          "date": "2019-01-24T10:11:04.297297",
          "score": 0.6069118404475303
         },
         {
          "date": "2019-01-29T05:55:56.189189",
          "score": 0.6087835012492624
         },
         {
          "date": "2019-02-03T01:40:48.081081",
          "score": 0.6106521027193549
         },
         {
          "date": "2019-02-07T21:25:39.972973",
          "score": 0.6125176314978751
         },
         {
          "date": "2019-02-12T17:10:31.864865",
          "score": 0.6143800742450496
         },
         {
          "date": "2019-02-17T12:55:23.756757",
          "score": 0.6162394176413581
         },
         {
          "date": "2019-02-22T08:40:15.648649",
          "score": 0.6180956483876332
         },
         {
          "date": "2019-02-27T04:25:07.540540",
          "score": 0.6199487532051764
         },
         {
          "date": "2019-03-04T00:09:59.432432",
          "score": 0.6217987188358758
         },
         {
          "date": "2019-03-08T19:54:51.324324",
          "score": 0.6236455320423019
         },
         {
          "date": "2019-03-13T15:39:43.216216",
          "score": 0.6254891796078066
         },
         {
          "date": "2019-03-18T11:24:35.108108",
          "score": 0.6273296483366547
         },
         {
          "date": "2019-03-23T07:09:27",
          "score": 0.6291669250541032
         },
         {
          "date": "2019-03-28T02:54:18.891892",
          "score": 0.6310009966065322
         },
         {
          "date": "2019-04-01T23:39:10.783784",
          "score": 0.6328318498615408
         },
         {
          "date": "2019-04-06T19:24:02.675676",
          "score": 0.6346594717080438
         },
         {
          "date": "2019-04-11T15:08:54.567568",
          "score": 0.6364838490564027
         },
         {
          "date": "2019-04-16T10:53:46.459460",
          "score": 0.6383049688385016
         },
         {
          "date": "2019-04-21T06:38:38.351351",
          "score": 0.6401228180078811
         },
         {
          "date": "2019-04-26T02:23:30.243243",
          "score": 0.6419373835398327
         },
         {
          "date": "2019-04-30T22:08:22.135135",
          "score": 0.6437486524314944
         },
         {
          "date": "2019-05-05T17:53:14.027027",
          "score": 0.6455566117019663
         },
         {
          "date": "2019-05-10T13:38:05.918919",
          "score": 0.647361248392423
         },
         {
          "date": "2019-05-15T09:22:57.810811",
          "score": 0.6491625495662121
         },
         {
          "date": "2019-05-20T05:07:49.702703",
          "score": 0.6509605023089435
         },
         {
          "date": "2019-05-25T00:52:41.594594",
          "score": 0.652755093728627
         },
         {
          "date": "2019-05-29T20:37:33.486486",
          "score": 0.6545463109557412
         },
         {
          "date": "2019-06-03T16:22:25.378378",
          "score": 0.6563341411433681
         },
         {
          "date": "2019-06-08T12:07:17.270270",
          "score": 0.6581185714672841
         },
         {
          "date": "2019-06-13T07:52:09.162162",
          "score": 0.6598995891260572
         },
         {
          "date": "2019-06-18T03:37:01.054054",
          "score": 0.6616771813411572
         },
         {
          "date": "2019-06-22T23:21:52.945946",
          "score": 0.6634513353570699
         },
         {
          "date": "2019-06-27T19:06:44.837838",
          "score": 0.6652220384413868
         },
         {
          "date": "2019-07-02T14:51:36.729730",
          "score": 0.6669892778849158
         },
         {
          "date": "2019-07-07T10:36:28.621622",
          "score": 0.668753041001775
         },
         {
          "date": "2019-07-12T06:21:20.513514",
          "score": 0.6705133151295024
         },
         {
          "date": "2019-07-17T02:06:12.405406",
          "score": 0.6722700876291653
         },
         {
          "date": "2019-07-21T21:51:04.297297",
          "score": 0.6740233458854562
         },
         {
          "date": "2019-07-26T17:35:56.189189",
          "score": 0.6757730773067847
         },
         {
          "date": "2019-07-31T13:20:48.081081",
          "score": 0.6775192693254045
         },
         {
          "date": "2019-08-05T09:05:39.972973",
          "score": 0.6792619093974868
         },
         {
          "date": "2019-08-10T04:50:31.864865",
          "score": 0.6810009850032469
         },
         {
          "date": "2019-08-15T00:35:23.756757",
          "score": 0.682736483647038
         },
         {
          "date": "2019-08-19T20:20:15.648649",
          "score": 0.6844683928574397
         },
         {
          "date": "2019-08-24T16:05:07.540540",
          "score": 0.6861967001873713
         },
         {
          "date": "2019-08-29T11:49:59.432432",
          "score": 0.6879213932141999
         },
         {
          "date": "2019-09-03T07:34:51.324324",
          "score": 0.6896424595398316
         },
         {
          "date": "2019-09-08T03:19:43.216216",
          "score": 0.6913598867908027
         },
         {
          "date": "2019-09-12T23:04:35.108108",
          "score": 0.6930736626184066
         },
         {
          "date": "2019-09-17T18:49:27",
          "score": 0.6947837746987633
         },
         {
          "date": "2019-09-22T14:34:18.891892",
          "score": 0.6964902107329455
         },
         {
          "date": "2019-09-27T10:19:10.783784",
          "score": 0.6981929584470694
         },
         {
          "date": "2019-10-02T06:04:02.675676",
          "score": 0.69989200559238
         },
         {
          "date": "2019-10-07T01:48:54.567568",
          "score": 0.7015873399453807
         },
         {
          "date": "2019-10-11T21:33:46.459460",
          "score": 0.7032789493078977
         },
         {
          "date": "2019-10-16T17:18:38.351351",
          "score": 0.7049668215072111
         },
         {
          "date": "2019-10-21T13:03:30.243243",
          "score": 0.706650944396138
         },
         {
          "date": "2019-10-26T08:48:22.135135",
          "score": 0.7083313058531264
         },
         {
          "date": "2019-10-31T03:33:14.027027",
          "score": 0.7100078937823593
         },
         {
          "date": "2019-11-04T23:18:05.918919",
          "score": 0.7116806961138628
         },
         {
          "date": "2019-11-09T19:02:57.810811",
          "score": 0.7133497008035943
         },
         {
          "date": "2019-11-14T14:47:49.702703",
          "score": 0.7150148958335314
         },
         {
          "date": "2019-11-19T10:32:41.594594",
          "score": 0.7166762692117937
         },
         {
          "date": "2019-11-24T06:17:33.486486",
          "score": 0.7183338089727126
         },
         {
          "date": "2019-11-29T02:02:25.378378",
          "score": 0.7199875031769527
         },
         {
          "date": "2019-12-03T21:47:17.270270",
          "score": 0.7216373399115992
         },
         {
          "date": "2019-12-08T17:32:09.162162",
          "score": 0.723283307290246
         },
         {
          "date": "2019-12-13T13:17:01.054054",
          "score": 0.7249253934531017
         },
         {
          "date": "2019-12-18T09:01:52.945946",
          "score": 0.7265635865670912
         },
         {
          "date": "2019-12-23T04:46:44.837838",
          "score": 0.7281978748259423
         },
         {
          "date": "2019-12-28T00:31:36.729730",
          "score": 0.7298282464502892
         },
         {
          "date": "2020-01-01T20:16:28.621622",
          "score": 0.7314546896877561
         },
         {
          "date": "2020-01-06T16:01:20.513514",
          "score": 0.7330771928130617
         },
         {
          "date": "2020-01-11T11:46:12.405406",
          "score": 0.7346957441281201
         },
         {
          "date": "2020-01-16T07:31:04.297297",
          "score": 0.7363103319621305
         },
         {
          "date": "2020-01-21T03:15:56.189189",
          "score": 0.7379209446716598
         },
         {
          "date": "2020-01-25T23:00:48.081081",
          "score": 0.7395275706407639
         },
         {
          "date": "2020-01-30T18:45:39.972973",
          "score": 0.7411301982810519
         },
         {
          "date": "2020-02-04T14:30:31.864865",
          "score": 0.7427288160318068
         },
         {
          "date": "2020-02-09T10:15:23.756757",
          "score": 0.744323412360069
         },
         {
          "date": "2020-02-14T06:00:15.648649",
          "score": 0.7459139757607219
         },
         {
          "date": "2020-02-19T01:45:07.540540",
          "score": 0.7475004947565917
         },
         {
          "date": "2020-02-23T21:29:59.432432",
          "score": 0.7490829578985523
         },
         {
          "date": "2020-02-28T17:14:51.324324",
          "score": 0.7506613537656059
         },
         {
          "date": "2020-03-04T12:59:43.216216",
          "score": 0.7522356709649697
         },
         {
          "date": "2020-03-09T08:44:35.108108",
          "score": 0.7538058981321898
         },
         {
          "date": "2020-03-14T04:29:27",
          "score": 0.755372023931209
         },
         {
          "date": "2020-03-19T00:14:18.891892",
          "score": 0.7569340370544808
         },
         {
          "date": "2020-03-23T19:59:10.783784",
          "score": 0.758491926223052
         },
         {
          "date": "2020-03-28T15:44:02.675676",
          "score": 0.7600456801866448
         },
         {
          "date": "2020-04-02T12:28:54.567568",
          "score": 0.761595287723772
         },
         {
          "date": "2020-04-07T08:13:46.459460",
          "score": 0.7631407376418002
         },
         {
          "date": "2020-04-12T03:58:38.351351",
          "score": 0.7646820187770655
         },
         {
          "date": "2020-04-16T23:43:30.243243",
          "score": 0.7662191199949553
         },
         {
          "date": "2020-04-21T19:28:22.135135",
          "score": 0.7677520301899893
         },
         {
          "date": "2020-04-26T15:13:14.027027",
          "score": 0.7692807382859196
         },
         {
          "date": "2020-05-01T10:58:05.918919",
          "score": 0.770805233235826
         },
         {
          "date": "2020-05-06T06:42:57.810811",
          "score": 0.7723255040222003
         },
         {
          "date": "2020-05-11T02:27:49.702703",
          "score": 0.773841539657025
         },
         {
          "date": "2020-05-15T22:12:41.594594",
          "score": 0.7753533291818857
         },
         {
          "date": "2020-05-20T17:57:33.486486",
          "score": 0.7768608616680361
         },
         {
          "date": "2020-05-25T13:42:25.378378",
          "score": 0.7783641262165075
         },
         {
          "date": "2020-05-30T09:27:17.270270",
          "score": 0.7798631119581902
         },
         {
          "date": "2020-06-04T05:12:09.162162",
          "score": 0.7813578080539123
         },
         {
          "date": "2020-06-09T00:57:01.054054",
          "score": 0.7828482036945379
         },
         {
          "date": "2020-06-13T20:41:52.945946",
          "score": 0.7843342881010588
         },
         {
          "date": "2020-06-18T16:26:44.837838",
          "score": 0.7858160505246757
         },
         {
          "date": "2020-06-23T12:11:36.729730",
          "score": 0.7872934802468889
         },
         {
          "date": "2020-06-28T07:56:28.621622",
          "score": 0.7887665665795783
         },
         {
          "date": "2020-07-03T03:41:20.513514",
          "score": 0.7902352988650951
         },
         {
          "date": "2020-07-07T23:26:12.405406",
          "score": 0.7916996664763578
         },
         {
          "date": "2020-07-12T19:11:04.297297",
          "score": 0.7931596588169287
         },
         {
          "date": "2020-07-17T14:55:56.189189",
          "score": 0.7946152653210943
         },
         {
          "date": "2020-07-22T10:40:48.081081",
          "score": 0.7960664754539709
         },
         {
          "date": "2020-07-27T06:25:39.972973",
          "score": 0.7975132787115667
         },
         {
          "date": "2020-08-01T02:10:31.864865",
          "score": 0.7989556646208886
         },
         {
          "date": "2020-08-05T21:55:23.756757",
          "score": 0.8003936227400191
         },
         {
          "date": "2020-08-10T17:40:15.648649",
          "score": 0.8018271426581943
         },
         {
          "date": "2020-08-15T13:25:07.540540",
          "score": 0.8032562139958945
         },
         {
          "date": "2020-08-20T09:09:59.432432",
          "score": 0.804680826404937
         },
         {
          "date": "2020-08-25T04:54:51.324324",
          "score": 0.8061009695685522
         },
         {
          "date": "2020-08-30T00:39:43.216216",
          "score": 0.8075166332014593
         },
         {
          "date": "2020-09-03T20:24:35.108108",
          "score": 0.8089278070499718
         },
         {
          "date": "2020-09-08T16:09:27",
          "score": 0.8103344808920565
         },
         {
          "date": "2020-09-13T11:54:18.891892",
          "score": 0.8117366445374377
         },
         {
          "date": "2020-09-18T07:39:10.783784",
          "score": 0.8131342878276724
         },
         {
          "date": "2020-09-23T03:24:02.675676",
          "score": 0.8145274006362213
         },
         {
          "date": "2020-09-27T23:08:54.567568",
          "score": 0.8159159728685572
         },
         {
          "date": "2020-10-02T18:53:46.459460",
          "score": 0.8172999944622171
         },
         {
          "date": "2020-10-07T14:38:38.351351",
          "score": 0.8186794553869117
         },
         {
          "date": "2020-10-12T10:23:30.243243",
          "score": 0.8200543456445929
         },
         {
          "date": "2020-10-17T06:08:22.135135",
          "score": 0.8214246552695328
         },
         {
          "date": "2020-10-22T01:53:14.027027",
          "score": 0.8227903743284076
         },
         {
          "date": "2020-10-26T20:38:05.918919",
          "score": 0.8241514929203899
         },
         {
          "date": "2020-10-31T16:22:57.810811",
          "score": 0.825508001177217
         },
         {
          "date": "2020-11-05T12:07:49.702703",
          "score": 0.8268598892632679
         },
         {
          "date": "2020-11-10T07:52:41.594594",
          "score": 0.8282071473756607
         },
         {
          "date": "2020-11-15T03:37:33.486486",
          "score": 0.829549765744311
         },
         {
          "date": "2020-11-19T23:22:25.378378",
          "score": 0.8308877346320305
         },
         {
          "date": "2020-11-24T19:07:17.270270",
          "score": 0.8322210443346001
         },
         {
          "date": "2020-11-29T14:52:09.162162",
          "score": 0.8335496851808402
         },
         {
          "date": "2020-12-04T10:37:01.054054",
          "score": 0.8348736475326975
         },
         {
          "date": "2020-12-09T06:21:52.945946",
          "score": 0.8361929217853289
         },
         {
          "date": "2020-12-14T02:06:44.837838",
          "score": 0.8375074983671709
         },
         {
          "date": "2020-12-18T21:51:36.729730",
          "score": 0.8388173677400239
         },
         {
          "date": "2020-12-23T17:36:28.621622",
          "score": 0.8401225203991206
         },
         {
          "date": "2020-12-28T13:21:20.513514",
          "score": 0.8414229468732105
         },
         {
          "date": "2021-01-02T09:06:12.405406",
          "score": 0.8427186377246414
         },
         {
          "date": "2021-01-07T04:51:04.297297",
          "score": 0.8440095835494325
         },
         {
          "date": "2021-01-12T00:35:56.189189",
          "score": 0.8452957749773407
         },
         {
          "date": "2021-01-16T20:20:48.081081",
          "score": 0.8465772026719582
         },
         {
          "date": "2021-01-21T16:05:39.972973",
          "score": 0.8478538573307659
         },
         {
          "date": "2021-01-26T11:50:31.864865",
          "score": 0.8491257296852279
         },
         {
          "date": "2021-01-31T07:35:23.756757",
          "score": 0.8503928105008612
         },
         {
          "date": "2021-02-05T03:20:15.648649",
          "score": 0.8516550905773024
         },
         {
          "date": "2021-02-09T23:05:07.540540",
          "score": 0.8529125607483901
         },
         {
          "date": "2021-02-14T18:49:59.432432",
          "score": 0.8541652118822458
         },
         {
          "date": "2021-02-19T14:34:51.324324",
          "score": 0.8554130348813418
         },
         {
          "date": "2021-02-24T10:19:43.216216",
          "score": 0.8566560206825666
         },
         {
          "date": "2021-03-01T06:04:35.108108",
          "score": 0.8578941602573203
         },
         {
          "date": "2021-03-06T01:49:27",
          "score": 0.8591274446115641
         },
         {
          "date": "2021-03-10T21:34:18.891892",
          "score": 0.8603558647859144
         },
         {
          "date": "2021-03-15T17:19:10.783784",
          "score": 0.8615794118557067
         },
         {
          "date": "2021-03-20T13:04:02.675676",
          "score": 0.862798076931061
         },
         {
          "date": "2021-03-25T08:48:54.567568",
          "score": 0.8640118511569731
         },
         {
          "date": "2021-03-30T05:33:46.459460",
          "score": 0.8652207257133653
         },
         {
          "date": "2021-04-04T01:18:38.351351",
          "score": 0.8664246918151775
         },
         {
          "date": "2021-04-08T21:03:30.243243",
          "score": 0.8676237407124292
         },
         {
          "date": "2021-04-13T16:48:22.135135",
          "score": 0.8688178636902893
         },
         {
          "date": "2021-04-18T12:33:14.027027",
          "score": 0.8700070520691484
         },
         {
          "date": "2021-04-23T08:18:05.918919",
          "score": 0.8711912972046978
         },
         {
          "date": "2021-04-28T04:02:57.810811",
          "score": 0.8723705904879928
         },
         {
          "date": "2021-05-02T23:47:49.702703",
          "score": 0.8735449233455179
         },
         {
          "date": "2021-05-07T19:32:41.594594",
          "score": 0.8747142872392716
         },
         {
          "date": "2021-05-12T15:17:33.486486",
          "score": 0.8758786736668178
         },
         {
          "date": "2021-05-17T11:02:25.378378",
          "score": 0.8770380741613728
         },
         {
          "date": "2021-05-22T06:47:17.270270",
          "score": 0.8781924802918668
         },
         {
          "date": "2021-05-27T02:32:09.162162",
          "score": 0.8793418836630058
         },
         {
          "date": "2021-05-31T22:17:01.054054",
          "score": 0.8804862759153486
         },
         {
          "date": "2021-06-05T18:01:52.945946",
          "score": 0.8816256487253772
         },
         {
          "date": "2021-06-10T13:46:44.837838",
          "score": 0.8827599938055593
         },
         {
          "date": "2021-06-15T09:31:36.729730",
          "score": 0.8838893029044195
         },
         {
          "date": "2021-06-20T05:16:28.621622",
          "score": 0.8850135678065996
         },
         {
          "date": "2021-06-25T01:01:20.513514",
          "score": 0.8861327803329309
         },
         {
          "date": "2021-06-29T20:46:12.405406",
          "score": 0.8872469323405067
         },
         {
          "date": "2021-07-04T16:31:04.297297",
          "score": 0.8883560157227419
         },
         {
          "date": "2021-07-09T12:15:56.189189",
          "score": 0.889460022409434
         },
         {
          "date": "2021-07-14T08:00:48.081081",
          "score": 0.8905589443668445
         },
         {
          "date": "2021-07-19T03:45:39.972973",
          "score": 0.8916527735977462
         },
         {
          "date": "2021-07-23T23:30:31.864865",
          "score": 0.8927415021415048
         },
         {
          "date": "2021-07-28T19:15:23.756757",
          "score": 0.8938251220741367
         },
         {
          "date": "2021-08-02T15:00:15.648649",
          "score": 0.8949036255083695
         },
         {
          "date": "2021-08-07T10:45:07.540540",
          "score": 0.895977004593711
         },
         {
          "date": "2021-08-12T06:29:59.432432",
          "score": 0.8970452515165175
         },
         {
          "date": "2021-08-17T02:14:51.324324",
          "score": 0.8981083585000533
         },
         {
          "date": "2021-08-21T21:59:43.216216",
          "score": 0.899166317804548
         },
         {
          "date": "2021-08-26T17:44:35.108108",
          "score": 0.9002191217272746
         },
         {
          "date": "2021-08-31T13:29:27",
          "score": 0.9012667626025946
         },
         {
          "date": "2021-09-05T09:14:18.891892",
          "score": 0.9023092328020373
         },
         {
          "date": "2021-09-10T04:59:10.783784",
          "score": 0.9033465247343548
         },
         {
          "date": "2021-09-15T00:44:02.675676",
          "score": 0.9043786308455762
         },
         {
          "date": "2021-09-19T20:28:54.567568",
          "score": 0.9054055436190875
         },
         {
          "date": "2021-09-24T16:13:46.459460",
          "score": 0.9064272555756718
         },
         {
          "date": "2021-09-29T11:58:38.351351",
          "score": 0.9074437592735902
         },
         {
          "date": "2021-10-04T07:43:30.243243",
          "score": 0.9084550473086317
         },
         {
          "date": "2021-10-09T03:28:22.135135",
          "score": 0.9094611123141723
         },
         {
          "date": "2021-10-13T23:13:14.027027",
          "score": 0.9104619469612381
         },
         {
          "date": "2021-10-18T18:58:05.918919",
          "score": 0.9114575439585699
         },
         {
          "date": "2021-10-23T14:42:57.810811",
          "score": 0.9124478960526796
         },
         {
          "date": "2021-10-28T10:27:49.702703",
          "score": 0.9134329960279005
         },
         {
          "date": "2021-11-02T05:12:41.594594",
          "score": 0.9144128367064639
         },
         {
          "date": "2021-11-07T00:57:33.486486",
          "score": 0.9153874109485389
         },
         {
          "date": "2021-11-11T20:42:25.378378",
          "score": 0.9163567116523065
         },
         {
          "date": "2021-11-16T16:27:17.270270",
          "score": 0.9173207317540115
         },
         {
          "date": "2021-11-21T12:12:09.162162",
          "score": 0.918279464228015
         },
         {
          "date": "2021-11-26T07:57:01.054054",
          "score": 0.9192329020868566
         },
         {
          "date": "2021-12-01T03:41:52.945946",
          "score": 0.920181038381316
         },
         {
          "date": "2021-12-05T23:26:44.837838",
          "score": 0.9211238662004643
         },
         {
          "date": "2021-12-10T19:11:36.729730",
          "score": 0.9220613786717216
         },
         {
          "date": "2021-12-15T14:56:28.621622",
          "score": 0.9229935689609104
         },
         {
          "date": "2021-12-20T10:41:20.513514",
          "score": 0.9239204302723143
         },
         {
          "date": "2021-12-25T06:26:12.405406",
          "score": 0.9248419558487367
         },
         {
          "date": "2021-12-30T02:11:04.297297",
          "score": 0.9257581389715539
         },
         {
          "date": "2022-01-03T21:55:56.189189",
          "score": 0.9266689729607618
         },
         {
          "date": "2022-01-08T17:40:48.081081",
          "score": 0.9275744511750464
         },
         {
          "date": "2022-01-13T13:25:39.972973",
          "score": 0.9284745670118214
         },
         {
          "date": "2022-01-18T09:10:31.864865",
          "score": 0.9293693139072958
         },
         {
          "date": "2022-01-23T04:55:23.756757",
          "score": 0.9302586853365222
         },
         {
          "date": "2022-01-28T00:40:15.648649",
          "score": 0.9311426748134457
         },
         {
          "date": "2022-02-01T20:25:07.540540",
          "score": 0.9320212758909614
         },
         {
          "date": "2022-02-06T16:09:59.432432",
          "score": 0.93289448216097
         },
         {
          "date": "2022-02-11T11:54:51.324324",
          "score": 0.9337622872544283
         },
         {
          "date": "2022-02-16T07:39:43.216216",
          "score": 0.9346246848413929
         },
         {
          "date": "2022-02-21T03:24:35.108108",
          "score": 0.9354816686310882
         },
         {
          "date": "2022-02-25T23:09:27",
          "score": 0.9363332323719392
         },
         {
          "date": "2022-03-02T18:54:18.891892",
          "score": 0.9371793698516394
         },
         {
          "date": "2022-03-07T14:39:10.783784",
          "score": 0.9380200748971939
         },
         {
          "date": "2022-03-12T10:24:02.675676",
          "score": 0.9388553413749641
         },
         {
          "date": "2022-03-17T06:08:54.567568",
          "score": 0.9396851631907327
         },
         {
          "date": "2022-03-22T01:53:46.459460",
          "score": 0.9405095342897364
         },
         {
          "date": "2022-03-26T21:38:38.351351",
          "score": 0.9413284486567302
         },
         {
          "date": "2022-03-31T18:23:30.243243",
          "score": 0.9421419003160296
         },
         {
          "date": "2022-04-05T14:08:22.135135",
          "score": 0.9429498833315577
         },
         {
          "date": "2022-04-10T09:53:14.027027",
          "score": 0.9437523918068951
         },
         {
          "date": "2022-04-15T05:38:05.918919",
          "score": 0.9445494198853338
         },
         {
          "date": "2022-04-20T01:22:57.810811",
          "score": 0.9453409617499199
         },
         {
          "date": "2022-04-24T21:07:49.702703",
          "score": 0.946127011623497
         },
         {
          "date": "2022-04-29T16:52:41.594594",
          "score": 0.9469075637687652
         },
         {
          "date": "2022-05-04T12:37:33.486486",
          "score": 0.9476826124883142
         },
         {
          "date": "2022-05-09T08:22:25.378378",
          "score": 0.9484521521246818
         },
         {
          "date": "2022-05-14T04:07:17.270270",
          "score": 0.9492161770603964
         },
         {
          "date": "2022-05-18T23:52:09.162162",
          "score": 0.9499746817180167
         },
         {
          "date": "2022-05-23T19:37:01.054054",
          "score": 0.9507276605601834
         },
         {
          "date": "2022-05-28T15:21:52.945946",
          "score": 0.9514751080896668
         },
         {
          "date": "2022-06-02T11:06:44.837838",
          "score": 0.9522170188494068
         },
         {
          "date": "2022-06-07T06:51:36.729730",
          "score": 0.9529533874225605
         },
         {
          "date": "2022-06-12T02:36:28.621622",
          "score": 0.9536842084325429
         },
         {
          "date": "2022-06-16T22:21:20.513514",
          "score": 0.954409476543072
         },
         {
          "date": "2022-06-21T18:06:12.405406",
          "score": 0.9551291864582175
         },
         {
          "date": "2022-06-26T13:51:04.297297",
          "score": 0.9558433329224408
         },
         {
          "date": "2022-07-01T09:35:56.189189",
          "score": 0.9565519107206322
         },
         {
          "date": "2022-07-06T05:20:48.081081",
          "score": 0.9572549146781649
         },
         {
          "date": "2022-07-11T01:05:39.972973",
          "score": 0.9579523396609257
         },
         {
          "date": "2022-07-15T20:50:31.864865",
          "score": 0.9586441805753673
         },
         {
          "date": "2022-07-20T16:35:23.756757",
          "score": 0.9593304323685444
         },
         {
          "date": "2022-07-25T12:20:15.648649",
          "score": 0.9600110900281542
         },
         {
          "date": "2022-07-30T08:05:07.540540",
          "score": 0.9606861485825777
         },
         {
          "date": "2022-08-04T03:49:59.432432",
          "score": 0.9613556031009263
         },
         {
          "date": "2022-08-08T23:34:51.324324",
          "score": 0.9620194486930767
         },
         {
          "date": "2022-08-13T19:19:43.216216",
          "score": 0.9626776805097077
         },
         {
          "date": "2022-08-18T15:04:35.108108",
          "score": 0.96333029374235
         },
         {
          "date": "2022-08-23T10:49:27",
          "score": 0.963977283623414
         },
         {
          "date": "2022-08-28T06:34:18.891892",
          "score": 0.9646186454262383
         },
         {
          "date": "2022-09-02T02:19:10.783784",
          "score": 0.9652543744651247
         },
         {
          "date": "2022-09-06T22:04:02.675676",
          "score": 0.9658844660953723
         },
         {
          "date": "2022-09-11T17:48:54.567568",
          "score": 0.9665089157133251
         },
         {
          "date": "2022-09-16T13:33:46.459460",
          "score": 0.9671277187563985
         },
         {
          "date": "2022-09-21T09:18:38.351351",
          "score": 0.9677408707031264
         },
         {
          "date": "2022-09-26T05:03:30.243243",
          "score": 0.9683483670731939
         },
         {
          "date": "2022-10-01T00:48:22.135135",
          "score": 0.968950203427472
         },
         {
          "date": "2022-10-05T20:33:14.027027",
          "score": 0.9695463753680555
         },
         {
          "date": "2022-10-10T16:18:05.918919",
          "score": 0.9701368785383024
         },
         {
          "date": "2022-10-15T12:02:57.810811",
          "score": 0.970721708622867
         },
         {
          "date": "2022-10-20T07:47:49.702703",
          "score": 0.9713008613477304
         },
         {
          "date": "2022-10-25T03:32:41.594594",
          "score": 0.9718743324802461
         },
         {
          "date": "2022-10-29T23:17:33.486486",
          "score": 0.9724421178291625
         },
         {
          "date": "2022-11-03T18:02:25.378378",
          "score": 0.9730042132446675
         },
         {
          "date": "2022-11-08T13:47:17.270270",
          "score": 0.9735606146184183
         },
         {
          "date": "2022-11-13T09:32:09.162162",
          "score": 0.9741113178835722
         },
         {
          "date": "2022-11-18T05:17:01.054054",
          "score": 0.974656319014823
         },
         {
          "date": "2022-11-23T01:01:52.945946",
          "score": 0.9751956140284357
         },
         {
          "date": "2022-11-27T20:46:44.837838",
          "score": 0.9757291989822761
         },
         {
          "date": "2022-12-02T16:31:36.729730",
          "score": 0.9762570699758447
         },
         {
          "date": "2022-12-07T12:16:28.621622",
          "score": 0.9767792231503056
         },
         {
          "date": "2022-12-12T08:01:20.513514",
          "score": 0.9772956546885214
         },
         {
          "date": "2022-12-17T03:46:12.405406",
          "score": 0.9778063608150841
         },
         {
          "date": "2022-12-21T23:31:04.297297",
          "score": 0.9783113377963459
         },
         {
          "date": "2022-12-26T19:15:56.189189",
          "score": 0.9788105819404469
         },
         {
          "date": "2022-12-31T15:00:48.081081",
          "score": 0.9793040895973504
         },
         {
          "date": "2023-01-05T10:45:39.972973",
          "score": 0.9797918571588666
         },
         {
          "date": "2023-01-10T06:30:31.864865",
          "score": 0.9802738810586882
         },
         {
          "date": "2023-01-15T02:15:23.756757",
          "score": 0.9807501577724176
         },
         {
          "date": "2023-01-19T22:00:15.648649",
          "score": 0.9812206838175924
         },
         {
          "date": "2023-01-24T17:45:07.540540",
          "score": 0.9816854557537167
         },
         {
          "date": "2023-01-29T13:29:59.432432",
          "score": 0.9821444701822908
         },
         {
          "date": "2023-02-03T09:14:51.324324",
          "score": 0.9825977237468386
         },
         {
          "date": "2023-02-08T04:59:43.216216",
          "score": 0.9830452131329293
         },
         {
          "date": "2023-02-13T00:44:35.108108",
          "score": 0.9834869350682138
         },
         {
          "date": "2023-02-17T20:29:27",
          "score": 0.9839228863224428
         },
         {
          "date": "2023-02-22T16:14:18.891892",
          "score": 0.9843530637075001
         },
         {
          "date": "2023-02-27T11:59:10.783784",
          "score": 0.9847774640774258
         },
         {
          "date": "2023-03-04T07:44:02.675676",
          "score": 0.985196084328439
         },
         {
          "date": "2023-03-09T03:28:54.567568",
          "score": 0.98560892139897
         },
         {
          "date": "2023-03-13T23:13:46.459460",
          "score": 0.9860159722696784
         },
         {
          "date": "2023-03-18T18:58:38.351351",
          "score": 0.986417233963483
         },
         {
          "date": "2023-03-23T14:43:30.243243",
          "score": 0.9868127035455851
         },
         {
          "date": "2023-03-28T11:28:22.135135",
          "score": 0.9872023781234894
         },
         {
          "date": "2023-04-02T07:13:14.027027",
          "score": 0.9875862548470296
         },
         {
          "date": "2023-04-07T02:58:05.918919",
          "score": 0.9879643309083945
         },
         {
          "date": "2023-04-11T22:42:57.810811",
          "score": 0.9883366035421481
         },
         {
          "date": "2023-04-16T18:27:49.702703",
          "score": 0.9887030700252504
         },
         {
          "date": "2023-04-21T14:12:41.594594",
          "score": 0.9890637276770851
         },
         {
          "date": "2023-04-26T09:57:33.486486",
          "score": 0.989418573859475
         },
         {
          "date": "2023-05-01T05:42:25.378378",
          "score": 0.98976760597671
         },
         {
          "date": "2023-05-06T01:27:17.270270",
          "score": 0.9901108214755653
         },
         {
          "date": "2023-05-10T21:12:09.162162",
          "score": 0.9904482178453198
         },
         {
          "date": "2023-05-15T16:57:01.054054",
          "score": 0.990779792617781
         },
         {
          "date": "2023-05-20T12:41:52.945946",
          "score": 0.9911055433673036
         },
         {
          "date": "2023-05-25T08:26:44.837838",
          "score": 0.9914254677108092
         },
         {
          "date": "2023-05-30T04:11:36.729730",
          "score": 0.9917395633078059
         },
         {
          "date": "2023-06-03T23:56:28.621622",
          "score": 0.9920478278604064
         },
         {
          "date": "2023-06-08T19:41:20.513514",
          "score": 0.992350259113348
         },
         {
          "date": "2023-06-13T15:26:12.405406",
          "score": 0.9926468548540119
         },
         {
          "date": "2023-06-18T11:11:04.297297",
          "score": 0.9929376129124405
         },
         {
          "date": "2023-06-23T06:55:56.189189",
          "score": 0.9932225311613525
         },
         {
          "date": "2023-06-28T02:40:48.081081",
          "score": 0.9935016075161667
         },
         {
          "date": "2023-07-02T22:25:39.972973",
          "score": 0.9937748399350106
         },
         {
          "date": "2023-07-07T18:10:31.864865",
          "score": 0.9940422264187452
         },
         {
          "date": "2023-07-12T13:55:23.756757",
          "score": 0.9943037650109771
         },
         {
          "date": "2023-07-17T09:40:15.648649",
          "score": 0.9945594537980744
         },
         {
          "date": "2023-07-22T05:25:07.540540",
          "score": 0.9948092909091828
         },
         {
          "date": "2023-07-27T01:09:59.432432",
          "score": 0.9950532745162433
         },
         {
          "date": "2023-07-31T20:54:51.324324",
          "score": 0.9952914028340039
         },
         {
          "date": "2023-08-05T16:39:43.216216",
          "score": 0.9955236741200352
         },
         {
          "date": "2023-08-10T12:24:35.108108",
          "score": 0.9957500866747464
         },
         {
          "date": "2023-08-15T08:09:27",
          "score": 0.9959706388413961
         },
         {
          "date": "2023-08-20T03:54:18.891892",
          "score": 0.9961853290061091
         },
         {
          "date": "2023-08-24T23:39:10.783784",
          "score": 0.9963941555978879
         },
         {
          "date": "2023-08-29T19:24:02.675676",
          "score": 0.9965971170886241
         },
         {
          "date": "2023-09-03T15:08:54.567568",
          "score": 0.996794211993115
         },
         {
          "date": "2023-09-08T10:53:46.459460",
          "score": 0.9969854388690713
         },
         {
          "date": "2023-09-13T06:38:38.351351",
          "score": 0.9971707963171327
         },
         {
          "date": "2023-09-18T02:23:30.243243",
          "score": 0.9973502829808766
         },
         {
          "date": "2023-09-22T22:08:22.135135",
          "score": 0.99752389754683
         },
         {
          "date": "2023-09-27T17:53:14.027027",
          "score": 0.9976916387444809
         },
         {
          "date": "2023-10-02T13:38:05.918919",
          "score": 0.9978535053462885
         },
         {
          "date": "2023-10-07T09:22:57.810811",
          "score": 0.998009496167693
         },
         {
          "date": "2023-10-12T05:07:49.702703",
          "score": 0.9981596100671246
         },
         {
          "date": "2023-10-17T00:52:41.594594",
          "score": 0.9983038459460148
         },
         {
          "date": "2023-10-21T20:37:33.486486",
          "score": 0.9984422027488029
         },
         {
          "date": "2023-10-26T16:22:25.378378",
          "score": 0.9985746794629468
         },
         {
          "date": "2023-10-31T11:07:17.270270",
          "score": 0.9987012751189305
         },
         {
          "date": "2023-11-05T06:52:09.162162",
          "score": 0.9988219887902714
         },
         {
          "date": "2023-11-10T02:37:01.054054",
          "score": 0.9989368195935283
         },
         {
          "date": "2023-11-14T22:21:52.945946",
          "score": 0.9990457666883096
         },
         {
          "date": "2023-11-19T18:06:44.837838",
          "score": 0.9991488292772788
         },
         {
          "date": "2023-11-24T13:51:36.729730",
          "score": 0.999246006606162
         },
         {
          "date": "2023-11-29T09:36:28.621622",
          "score": 0.9993372979637534
         },
         {
          "date": "2023-12-04T05:21:20.513514",
          "score": 0.9994227026819205
         },
         {
          "date": "2023-12-09T01:06:12.405406",
          "score": 0.9995022201356123
         },
         {
          "date": "2023-12-13T20:51:04.297297",
          "score": 0.9995758497428613
         },
         {
          "date": "2023-12-18T16:35:56.189189",
          "score": 0.9996435909647899
         },
         {
          "date": "2023-12-23T12:20:48.081081",
          "score": 0.999705443305615
         },
         {
          "date": "2023-12-28T08:05:39.972973",
          "score": 0.9997614063126501
         },
         {
          "date": "2024-01-02T03:50:31.864865",
          "score": 0.9998114795763117
         },
         {
          "date": "2024-01-06T23:35:23.756757",
          "score": 0.9998556627301215
         },
         {
          "date": "2024-01-11T19:20:15.648649",
          "score": 0.999893955450708
         },
         {
          "date": "2024-01-16T15:05:07.540540",
          "score": 0.9999263574578119
         },
         {
          "date": "2024-01-21T10:49:59.432432",
          "score": 0.9999528685142856
         },
         {
          "date": "2024-01-26T06:34:51.324324",
          "score": 0.999973488426098
         },
         {
          "date": "2024-01-31T02:19:43.216216",
          "score": 0.9999882170423329
         },
         {
          "date": "2024-02-04T22:04:35.108108",
          "score": 0.9999970542551933
         },
         {
          "date": "2024-02-09T17:49:27",
          "score": 1
         }
        ]
       },
       "encoding": {
        "tooltip": [
         {
          "field": "date",
          "type": "temporal"
         }
        ],
        "x": {
         "field": "date",
         "title": "Date",
         "type": "temporal"
        },
        "y": {
         "field": "score",
         "title": "Recency score",
         "type": "quantitative"
        }
       },
       "height": 380,
       "mark": {
        "color": "black",
        "filled": true,
        "size": 10,
        "type": "point"
       },
       "title": "Recency scores (unit weight)",
       "width": 500
      },
      "image/png": "[encoded data removed]",
      "text/plain": [
       "<VegaLite 5 object>\n",
       "\n",
       "If you see this message, it means the renderer has not been properly enabled\n",
       "for the frontend that you are using. For more information, see\n",
       "https://altair-viz.github.io/user_guide/display_frontends.html#troubleshooting\n"
      ]
     },
     "execution_count": 16,
     "metadata": {},
     "output_type": "execute_result"
    }
   ],
   "source": [
    "recency_plotter = RecencyPlotter(recency_space)\n",
    "recency_plotter.plot_recency_curve()"
   ]
  },
  {
   "cell_type": "markdown",
   "id": "e5213ec8-93aa-4e30-91e5-108afe8bac4d",
   "metadata": {},
   "source": [
    "## Queries"
   ]
  },
  {
   "cell_type": "code",
   "execution_count": 17,
   "id": "8531be9a-ad7c-422c-8c74-7e0825ab7733",
   "metadata": {},
   "outputs": [],
   "source": [
    "# quick helper to present the results in a notebook\n",
    "def present_result(result: Result, cols_to_keep: list[str] = [\"description\", \"headline\", \"release_date\", \"id\"]) -> pd.DataFrame:\n",
    "    # parse result to dataframe\n",
    "    df: pd.DataFrame = pd.DataFrame([entry.stored_object for entry in result.entries])\n",
    "    # transform timestamp back to release year. Ts is in milliseconds originally hence the division\n",
    "    df[\"release_date\"] = [datetime.fromtimestamp(timestamp, tz=timezone.utc).date() for timestamp in df[\"release_timestamp\"]]\n",
    "    return df[cols_to_keep]"
   ]
  },
  {
   "cell_type": "markdown",
   "id": "fdd3e696-0613-425e-a750-70f70f679824",
   "metadata": {},
   "source": [
    "Let's search for one of the biggest acquisitions of the last decade! We are going to set recency's weight to 0 as it does not matter at this point."
   ]
  },
  {
   "cell_type": "code",
   "execution_count": 18,
   "id": "5528c3af-67de-4e31-9cfd-c8a8c080cd29",
   "metadata": {
    "scrolled": true
   },
   "outputs": [
    {
     "data": {
      "text/html": [
       "<div>\n",
       "<style scoped>\n",
       "    .dataframe tbody tr th:only-of-type {\n",
       "        vertical-align: middle;\n",
       "    }\n",
       "\n",
       "    .dataframe tbody tr th {\n",
       "        vertical-align: top;\n",
       "    }\n",
       "\n",
       "    .dataframe thead th {\n",
       "        text-align: right;\n",
       "    }\n",
       "</style>\n",
       "<table border=\"1\" class=\"dataframe\">\n",
       "  <thead>\n",
       "    <tr style=\"text-align: right;\">\n",
       "      <th></th>\n",
       "      <th>description</th>\n",
       "      <th>headline</th>\n",
       "      <th>release_date</th>\n",
       "      <th>id</th>\n",
       "    </tr>\n",
       "  </thead>\n",
       "  <tbody>\n",
       "    <tr>\n",
       "      <th>0</th>\n",
       "      <td>(Reuters) - Microsoft Corp  agreed to buy Link...</td>\n",
       "      <td>Microsoft Agrees To Acquire LinkedIn For $26.2...</td>\n",
       "      <td>2016-06-13</td>\n",
       "      <td>64890</td>\n",
       "    </tr>\n",
       "    <tr>\n",
       "      <th>1</th>\n",
       "      <td>Without question, LinkedIn has forever altered...</td>\n",
       "      <td>The LinkedIn of Things</td>\n",
       "      <td>2015-01-06</td>\n",
       "      <td>110756</td>\n",
       "    </tr>\n",
       "    <tr>\n",
       "      <th>2</th>\n",
       "      <td>LinkedIn works very well for the millions of p...</td>\n",
       "      <td>The 7 LinkedIn Job Search Mistakes That Might ...</td>\n",
       "      <td>2014-06-26</td>\n",
       "      <td>127772</td>\n",
       "    </tr>\n",
       "    <tr>\n",
       "      <th>3</th>\n",
       "      <td>Although under-used by average LinkedIn member...</td>\n",
       "      <td>Get LinkedIn to Recruiters for Your Job Search</td>\n",
       "      <td>2014-07-07</td>\n",
       "      <td>126794</td>\n",
       "    </tr>\n",
       "    <tr>\n",
       "      <th>4</th>\n",
       "      <td>NEW YORK (AP) — Anthem is buying rival Cigna f...</td>\n",
       "      <td>MEGA-MERGER: Anthem To Buy Cigna For $54 Billion</td>\n",
       "      <td>2015-07-24</td>\n",
       "      <td>93451</td>\n",
       "    </tr>\n",
       "    <tr>\n",
       "      <th>5</th>\n",
       "      <td>Facebook and the billionaire Mark Zuckerberg h...</td>\n",
       "      <td>Facebook Is No Longer Cool</td>\n",
       "      <td>2012-02-05</td>\n",
       "      <td>208810</td>\n",
       "    </tr>\n",
       "    <tr>\n",
       "      <th>6</th>\n",
       "      <td>The struggling social network is looking for a...</td>\n",
       "      <td>Twitter Is Reportedly In Sales Talks With Goog...</td>\n",
       "      <td>2016-09-23</td>\n",
       "      <td>55880</td>\n",
       "    </tr>\n",
       "    <tr>\n",
       "      <th>7</th>\n",
       "      <td>The company's value has soared in the last fiv...</td>\n",
       "      <td>Snapchat Is Reportedly Planning A $25 Billion IPO</td>\n",
       "      <td>2016-10-06</td>\n",
       "      <td>54727</td>\n",
       "    </tr>\n",
       "    <tr>\n",
       "      <th>8</th>\n",
       "      <td>If failed corporate mergers teach us anything ...</td>\n",
       "      <td>9 Mergers That Epically Failed</td>\n",
       "      <td>2013-02-23</td>\n",
       "      <td>173078</td>\n",
       "    </tr>\n",
       "    <tr>\n",
       "      <th>9</th>\n",
       "      <td>Another day, another merger. Telephone compani...</td>\n",
       "      <td>The Great Remix: Why Mergers Are Booming</td>\n",
       "      <td>2015-11-01</td>\n",
       "      <td>84610</td>\n",
       "    </tr>\n",
       "  </tbody>\n",
       "</table>\n",
       "</div>"
      ],
      "text/plain": [
       "                                         description  \\\n",
       "0  (Reuters) - Microsoft Corp  agreed to buy Link...   \n",
       "1  Without question, LinkedIn has forever altered...   \n",
       "2  LinkedIn works very well for the millions of p...   \n",
       "3  Although under-used by average LinkedIn member...   \n",
       "4  NEW YORK (AP) — Anthem is buying rival Cigna f...   \n",
       "5  Facebook and the billionaire Mark Zuckerberg h...   \n",
       "6  The struggling social network is looking for a...   \n",
       "7  The company's value has soared in the last fiv...   \n",
       "8  If failed corporate mergers teach us anything ...   \n",
       "9  Another day, another merger. Telephone compani...   \n",
       "\n",
       "                                            headline release_date      id  \n",
       "0  Microsoft Agrees To Acquire LinkedIn For $26.2...   2016-06-13   64890  \n",
       "1                             The LinkedIn of Things   2015-01-06  110756  \n",
       "2  The 7 LinkedIn Job Search Mistakes That Might ...   2014-06-26  127772  \n",
       "3     Get LinkedIn to Recruiters for Your Job Search   2014-07-07  126794  \n",
       "4   MEGA-MERGER: Anthem To Buy Cigna For $54 Billion   2015-07-24   93451  \n",
       "5                         Facebook Is No Longer Cool   2012-02-05  208810  \n",
       "6  Twitter Is Reportedly In Sales Talks With Goog...   2016-09-23   55880  \n",
       "7  Snapchat Is Reportedly Planning A $25 Billion IPO   2016-10-06   54727  \n",
       "8                     9 Mergers That Epically Failed   2013-02-23  173078  \n",
       "9           The Great Remix: Why Mergers Are Booming   2015-11-01   84610  "
      ]
     },
     "execution_count": 18,
     "metadata": {},
     "output_type": "execute_result"
    }
   ],
   "source": [
    "result = app.query(\n",
    "    simple_query,\n",
    "    query_text = \"Microsoft acquires LinkedIn\",\n",
    "    description_weight=1,\n",
    "    headline_weight=1,\n",
    "    recency_weight=0\n",
    ")\n",
    "\n",
    "present_result(result)"
   ]
  },
  {
   "cell_type": "markdown",
   "id": "6d74b0af-42df-4166-aa6f-c57676b4b19c",
   "metadata": {},
   "source": [
    "The first result is about the deal, others are related to some aspect of the query. Let's try upweighting recency to see a recent big acquisition jump to the second place."
   ]
  },
  {
   "cell_type": "code",
   "execution_count": 19,
   "id": "3d45edfa-d92f-4196-93e7-a2e91743ffba",
   "metadata": {},
   "outputs": [
    {
     "data": {
      "text/html": [
       "<div>\n",
       "<style scoped>\n",
       "    .dataframe tbody tr th:only-of-type {\n",
       "        vertical-align: middle;\n",
       "    }\n",
       "\n",
       "    .dataframe tbody tr th {\n",
       "        vertical-align: top;\n",
       "    }\n",
       "\n",
       "    .dataframe thead th {\n",
       "        text-align: right;\n",
       "    }\n",
       "</style>\n",
       "<table border=\"1\" class=\"dataframe\">\n",
       "  <thead>\n",
       "    <tr style=\"text-align: right;\">\n",
       "      <th></th>\n",
       "      <th>description</th>\n",
       "      <th>headline</th>\n",
       "      <th>release_date</th>\n",
       "      <th>id</th>\n",
       "    </tr>\n",
       "  </thead>\n",
       "  <tbody>\n",
       "    <tr>\n",
       "      <th>0</th>\n",
       "      <td>(Reuters) - Microsoft Corp  agreed to buy Link...</td>\n",
       "      <td>Microsoft Agrees To Acquire LinkedIn For $26.2...</td>\n",
       "      <td>2016-06-13</td>\n",
       "      <td>64890</td>\n",
       "    </tr>\n",
       "    <tr>\n",
       "      <th>1</th>\n",
       "      <td>“My offer is my best and final offer and if it...</td>\n",
       "      <td>Elon Musk Offers To Buy 100% Of Twitter</td>\n",
       "      <td>2022-04-14</td>\n",
       "      <td>849</td>\n",
       "    </tr>\n",
       "    <tr>\n",
       "      <th>2</th>\n",
       "      <td>Starbucks' move follows McDonald's exit from t...</td>\n",
       "      <td>Starbucks Leaving Russian Market, Shutting 130...</td>\n",
       "      <td>2022-05-23</td>\n",
       "      <td>632</td>\n",
       "    </tr>\n",
       "    <tr>\n",
       "      <th>3</th>\n",
       "      <td>Without question, LinkedIn has forever altered...</td>\n",
       "      <td>The LinkedIn of Things</td>\n",
       "      <td>2015-01-06</td>\n",
       "      <td>110756</td>\n",
       "    </tr>\n",
       "    <tr>\n",
       "      <th>4</th>\n",
       "      <td>Delaware Chancery Judge Kathaleen McCormick de...</td>\n",
       "      <td>Twitter Lawyer Calls Elon Musk 'Committed Enem...</td>\n",
       "      <td>2022-07-20</td>\n",
       "      <td>353</td>\n",
       "    </tr>\n",
       "    <tr>\n",
       "      <th>5</th>\n",
       "      <td>The decision comes as surging oil prices have ...</td>\n",
       "      <td>Shell Says It Will Stop Buying Russian Oil, Na...</td>\n",
       "      <td>2022-03-08</td>\n",
       "      <td>1054</td>\n",
       "    </tr>\n",
       "    <tr>\n",
       "      <th>6</th>\n",
       "      <td>That makes seven Starbucks stores that have vo...</td>\n",
       "      <td>Starbucks Workers In Seattle Vote To Form Union</td>\n",
       "      <td>2022-03-23</td>\n",
       "      <td>967</td>\n",
       "    </tr>\n",
       "    <tr>\n",
       "      <th>7</th>\n",
       "      <td>Recent statements by CEO Howard Schultz offer ...</td>\n",
       "      <td>For The Starbucks Union Campaign, A Bruising C...</td>\n",
       "      <td>2022-04-16</td>\n",
       "      <td>837</td>\n",
       "    </tr>\n",
       "    <tr>\n",
       "      <th>8</th>\n",
       "      <td>The store in Arizona joins two in New York as ...</td>\n",
       "      <td>Another Starbucks Store Votes To Unionize</td>\n",
       "      <td>2022-02-25</td>\n",
       "      <td>1117</td>\n",
       "    </tr>\n",
       "    <tr>\n",
       "      <th>9</th>\n",
       "      <td>Android creator Andy Rubin, accused of sexual ...</td>\n",
       "      <td>Google's Alphabet Settles With Shareholders Ov...</td>\n",
       "      <td>2020-09-26</td>\n",
       "      <td>4025</td>\n",
       "    </tr>\n",
       "  </tbody>\n",
       "</table>\n",
       "</div>"
      ],
      "text/plain": [
       "                                         description  \\\n",
       "0  (Reuters) - Microsoft Corp  agreed to buy Link...   \n",
       "1  “My offer is my best and final offer and if it...   \n",
       "2  Starbucks' move follows McDonald's exit from t...   \n",
       "3  Without question, LinkedIn has forever altered...   \n",
       "4  Delaware Chancery Judge Kathaleen McCormick de...   \n",
       "5  The decision comes as surging oil prices have ...   \n",
       "6  That makes seven Starbucks stores that have vo...   \n",
       "7  Recent statements by CEO Howard Schultz offer ...   \n",
       "8  The store in Arizona joins two in New York as ...   \n",
       "9  Android creator Andy Rubin, accused of sexual ...   \n",
       "\n",
       "                                            headline release_date      id  \n",
       "0  Microsoft Agrees To Acquire LinkedIn For $26.2...   2016-06-13   64890  \n",
       "1            Elon Musk Offers To Buy 100% Of Twitter   2022-04-14     849  \n",
       "2  Starbucks Leaving Russian Market, Shutting 130...   2022-05-23     632  \n",
       "3                             The LinkedIn of Things   2015-01-06  110756  \n",
       "4  Twitter Lawyer Calls Elon Musk 'Committed Enem...   2022-07-20     353  \n",
       "5  Shell Says It Will Stop Buying Russian Oil, Na...   2022-03-08    1054  \n",
       "6    Starbucks Workers In Seattle Vote To Form Union   2022-03-23     967  \n",
       "7  For The Starbucks Union Campaign, A Bruising C...   2022-04-16     837  \n",
       "8          Another Starbucks Store Votes To Unionize   2022-02-25    1117  \n",
       "9  Google's Alphabet Settles With Shareholders Ov...   2020-09-26    4025  "
      ]
     },
     "execution_count": 19,
     "metadata": {},
     "output_type": "execute_result"
    }
   ],
   "source": [
    "result = app.query(\n",
    "    simple_query,\n",
    "    query_text = \"Microsoft acquires LinkedIn\",\n",
    "    description_weight=1,\n",
    "    headline_weight=1,\n",
    "    recency_weight=1,\n",
    ")\n",
    "\n",
    "present_result(result)"
   ]
  },
  {
   "cell_type": "markdown",
   "id": "cc510836-74f6-438d-9db2-e5bde54fe8c9",
   "metadata": {},
   "source": [
    "Subsequently we can also search with the news article about Elon Musk offering to buy Twitter. As the dataset is quite biased towards old articles, what we get back is news about either Elon Musk or Twitter."
   ]
  },
  {
   "cell_type": "code",
   "execution_count": 20,
   "id": "8d8db7ab-909e-49be-a7ab-81a0159c92ff",
   "metadata": {},
   "outputs": [
    {
     "data": {
      "text/html": [
       "<div>\n",
       "<style scoped>\n",
       "    .dataframe tbody tr th:only-of-type {\n",
       "        vertical-align: middle;\n",
       "    }\n",
       "\n",
       "    .dataframe tbody tr th {\n",
       "        vertical-align: top;\n",
       "    }\n",
       "\n",
       "    .dataframe thead th {\n",
       "        text-align: right;\n",
       "    }\n",
       "</style>\n",
       "<table border=\"1\" class=\"dataframe\">\n",
       "  <thead>\n",
       "    <tr style=\"text-align: right;\">\n",
       "      <th></th>\n",
       "      <th>description</th>\n",
       "      <th>headline</th>\n",
       "      <th>release_date</th>\n",
       "      <th>id</th>\n",
       "    </tr>\n",
       "  </thead>\n",
       "  <tbody>\n",
       "    <tr>\n",
       "      <th>0</th>\n",
       "      <td>“My offer is my best and final offer and if it...</td>\n",
       "      <td>Elon Musk Offers To Buy 100% Of Twitter</td>\n",
       "      <td>2022-04-14</td>\n",
       "      <td>849</td>\n",
       "    </tr>\n",
       "    <tr>\n",
       "      <th>1</th>\n",
       "      <td>Don't bet against Musk.</td>\n",
       "      <td>Why Elon Musk’s Plan To Merge Tesla With Solar...</td>\n",
       "      <td>2016-08-16</td>\n",
       "      <td>59220</td>\n",
       "    </tr>\n",
       "    <tr>\n",
       "      <th>2</th>\n",
       "      <td>Elon Musk's empire is consolidating.</td>\n",
       "      <td>Tesla Is Buying Sister Company SolarCity For $...</td>\n",
       "      <td>2016-08-01</td>\n",
       "      <td>60483</td>\n",
       "    </tr>\n",
       "    <tr>\n",
       "      <th>3</th>\n",
       "      <td>The U.S. Securities and Exchange Commission fi...</td>\n",
       "      <td>SEC Says Elon Musk Violated Fraud Settlement W...</td>\n",
       "      <td>2019-02-26</td>\n",
       "      <td>7191</td>\n",
       "    </tr>\n",
       "    <tr>\n",
       "      <th>4</th>\n",
       "      <td>The billionaire wants to marry Tesla and Solar...</td>\n",
       "      <td>The One Company Elon Musk Wants To Keep Indepe...</td>\n",
       "      <td>2016-08-04</td>\n",
       "      <td>60237</td>\n",
       "    </tr>\n",
       "    <tr>\n",
       "      <th>5</th>\n",
       "      <td>The interim CEO purchased 31,000 shares Monday.</td>\n",
       "      <td>Jack Dorsey Bought A Bunch Of Twitter Shares, ...</td>\n",
       "      <td>2015-08-10</td>\n",
       "      <td>91958</td>\n",
       "    </tr>\n",
       "    <tr>\n",
       "      <th>6</th>\n",
       "      <td>Tesla's CEO says hiring self-driving engineers...</td>\n",
       "      <td>Elon Musk Just Dropped Another Hint That Tesla...</td>\n",
       "      <td>2015-11-20</td>\n",
       "      <td>82841</td>\n",
       "    </tr>\n",
       "    <tr>\n",
       "      <th>7</th>\n",
       "      <td>Time Warner rejected an $80 billion offer from...</td>\n",
       "      <td>AT&amp;T Agrees To Buy Time Warner, In Principle</td>\n",
       "      <td>2016-10-21</td>\n",
       "      <td>53309</td>\n",
       "    </tr>\n",
       "    <tr>\n",
       "      <th>8</th>\n",
       "      <td>It's an Elon Musk world, and we're just living...</td>\n",
       "      <td>Elon Musk Is Even Smarter Than We Thought</td>\n",
       "      <td>2014-06-14</td>\n",
       "      <td>128870</td>\n",
       "    </tr>\n",
       "    <tr>\n",
       "      <th>9</th>\n",
       "      <td>This could all be part of the secret sauce kno...</td>\n",
       "      <td>Wall Street Doesn’t Believe Elon Musk Can Prod...</td>\n",
       "      <td>2016-05-09</td>\n",
       "      <td>67933</td>\n",
       "    </tr>\n",
       "  </tbody>\n",
       "</table>\n",
       "</div>"
      ],
      "text/plain": [
       "                                         description  \\\n",
       "0  “My offer is my best and final offer and if it...   \n",
       "1                            Don't bet against Musk.   \n",
       "2               Elon Musk's empire is consolidating.   \n",
       "3  The U.S. Securities and Exchange Commission fi...   \n",
       "4  The billionaire wants to marry Tesla and Solar...   \n",
       "5    The interim CEO purchased 31,000 shares Monday.   \n",
       "6  Tesla's CEO says hiring self-driving engineers...   \n",
       "7  Time Warner rejected an $80 billion offer from...   \n",
       "8  It's an Elon Musk world, and we're just living...   \n",
       "9  This could all be part of the secret sauce kno...   \n",
       "\n",
       "                                            headline release_date      id  \n",
       "0            Elon Musk Offers To Buy 100% Of Twitter   2022-04-14     849  \n",
       "1  Why Elon Musk’s Plan To Merge Tesla With Solar...   2016-08-16   59220  \n",
       "2  Tesla Is Buying Sister Company SolarCity For $...   2016-08-01   60483  \n",
       "3  SEC Says Elon Musk Violated Fraud Settlement W...   2019-02-26    7191  \n",
       "4  The One Company Elon Musk Wants To Keep Indepe...   2016-08-04   60237  \n",
       "5  Jack Dorsey Bought A Bunch Of Twitter Shares, ...   2015-08-10   91958  \n",
       "6  Elon Musk Just Dropped Another Hint That Tesla...   2015-11-20   82841  \n",
       "7       AT&T Agrees To Buy Time Warner, In Principle   2016-10-21   53309  \n",
       "8          Elon Musk Is Even Smarter Than We Thought   2014-06-14  128870  \n",
       "9  Wall Street Doesn’t Believe Elon Musk Can Prod...   2016-05-09   67933  "
      ]
     },
     "execution_count": 20,
     "metadata": {},
     "output_type": "execute_result"
    }
   ],
   "source": [
    "result = app.query(\n",
    "    news_query,\n",
    "    description_weight=1,\n",
    "    headline_weight=1,\n",
    "    recency_weight=0,\n",
    "    news_id=\"849\",\n",
    ")\n",
    "\n",
    "present_result(result)"
   ]
  },
  {
   "cell_type": "markdown",
   "id": "b91aef71-921a-48cf-ba4b-3751b594fa35",
   "metadata": {},
   "source": [
    "That we can start biasing towards recency, navigating the tradeoff of letting less connected but recent news into the mix. "
   ]
  },
  {
   "cell_type": "code",
   "execution_count": 21,
   "id": "9740a69d-b11b-4f63-b13a-8230565f85b7",
   "metadata": {},
   "outputs": [
    {
     "data": {
      "text/html": [
       "<div>\n",
       "<style scoped>\n",
       "    .dataframe tbody tr th:only-of-type {\n",
       "        vertical-align: middle;\n",
       "    }\n",
       "\n",
       "    .dataframe tbody tr th {\n",
       "        vertical-align: top;\n",
       "    }\n",
       "\n",
       "    .dataframe thead th {\n",
       "        text-align: right;\n",
       "    }\n",
       "</style>\n",
       "<table border=\"1\" class=\"dataframe\">\n",
       "  <thead>\n",
       "    <tr style=\"text-align: right;\">\n",
       "      <th></th>\n",
       "      <th>description</th>\n",
       "      <th>headline</th>\n",
       "      <th>release_date</th>\n",
       "      <th>id</th>\n",
       "    </tr>\n",
       "  </thead>\n",
       "  <tbody>\n",
       "    <tr>\n",
       "      <th>0</th>\n",
       "      <td>“My offer is my best and final offer and if it...</td>\n",
       "      <td>Elon Musk Offers To Buy 100% Of Twitter</td>\n",
       "      <td>2022-04-14</td>\n",
       "      <td>849</td>\n",
       "    </tr>\n",
       "    <tr>\n",
       "      <th>1</th>\n",
       "      <td>The U.S. Securities and Exchange Commission fi...</td>\n",
       "      <td>SEC Says Elon Musk Violated Fraud Settlement W...</td>\n",
       "      <td>2019-02-26</td>\n",
       "      <td>7191</td>\n",
       "    </tr>\n",
       "    <tr>\n",
       "      <th>2</th>\n",
       "      <td>Delaware Chancery Judge Kathaleen McCormick de...</td>\n",
       "      <td>Twitter Lawyer Calls Elon Musk 'Committed Enem...</td>\n",
       "      <td>2022-07-20</td>\n",
       "      <td>353</td>\n",
       "    </tr>\n",
       "    <tr>\n",
       "      <th>3</th>\n",
       "      <td>Recent statements by CEO Howard Schultz offer ...</td>\n",
       "      <td>For The Starbucks Union Campaign, A Bruising C...</td>\n",
       "      <td>2022-04-16</td>\n",
       "      <td>837</td>\n",
       "    </tr>\n",
       "    <tr>\n",
       "      <th>4</th>\n",
       "      <td>Android creator Andy Rubin, accused of sexual ...</td>\n",
       "      <td>Google's Alphabet Settles With Shareholders Ov...</td>\n",
       "      <td>2020-09-26</td>\n",
       "      <td>4025</td>\n",
       "    </tr>\n",
       "    <tr>\n",
       "      <th>5</th>\n",
       "      <td>The assets were the subject of recent talks be...</td>\n",
       "      <td>Verizon, Comcast Approach 21st Century Fox Abo...</td>\n",
       "      <td>2017-11-16</td>\n",
       "      <td>20285</td>\n",
       "    </tr>\n",
       "    <tr>\n",
       "      <th>6</th>\n",
       "      <td>The decision comes as surging oil prices have ...</td>\n",
       "      <td>Shell Says It Will Stop Buying Russian Oil, Na...</td>\n",
       "      <td>2022-03-08</td>\n",
       "      <td>1054</td>\n",
       "    </tr>\n",
       "    <tr>\n",
       "      <th>7</th>\n",
       "      <td>Tesla CEO issues a dire warning.</td>\n",
       "      <td>Elon Musk Predicts The Cause Of World War III ...</td>\n",
       "      <td>2017-09-05</td>\n",
       "      <td>25949</td>\n",
       "    </tr>\n",
       "    <tr>\n",
       "      <th>8</th>\n",
       "      <td>Don't bet against Musk.</td>\n",
       "      <td>Why Elon Musk’s Plan To Merge Tesla With Solar...</td>\n",
       "      <td>2016-08-16</td>\n",
       "      <td>59220</td>\n",
       "    </tr>\n",
       "    <tr>\n",
       "      <th>9</th>\n",
       "      <td>Starbucks' move follows McDonald's exit from t...</td>\n",
       "      <td>Starbucks Leaving Russian Market, Shutting 130...</td>\n",
       "      <td>2022-05-23</td>\n",
       "      <td>632</td>\n",
       "    </tr>\n",
       "  </tbody>\n",
       "</table>\n",
       "</div>"
      ],
      "text/plain": [
       "                                         description  \\\n",
       "0  “My offer is my best and final offer and if it...   \n",
       "1  The U.S. Securities and Exchange Commission fi...   \n",
       "2  Delaware Chancery Judge Kathaleen McCormick de...   \n",
       "3  Recent statements by CEO Howard Schultz offer ...   \n",
       "4  Android creator Andy Rubin, accused of sexual ...   \n",
       "5  The assets were the subject of recent talks be...   \n",
       "6  The decision comes as surging oil prices have ...   \n",
       "7                   Tesla CEO issues a dire warning.   \n",
       "8                            Don't bet against Musk.   \n",
       "9  Starbucks' move follows McDonald's exit from t...   \n",
       "\n",
       "                                            headline release_date     id  \n",
       "0            Elon Musk Offers To Buy 100% Of Twitter   2022-04-14    849  \n",
       "1  SEC Says Elon Musk Violated Fraud Settlement W...   2019-02-26   7191  \n",
       "2  Twitter Lawyer Calls Elon Musk 'Committed Enem...   2022-07-20    353  \n",
       "3  For The Starbucks Union Campaign, A Bruising C...   2022-04-16    837  \n",
       "4  Google's Alphabet Settles With Shareholders Ov...   2020-09-26   4025  \n",
       "5  Verizon, Comcast Approach 21st Century Fox Abo...   2017-11-16  20285  \n",
       "6  Shell Says It Will Stop Buying Russian Oil, Na...   2022-03-08   1054  \n",
       "7  Elon Musk Predicts The Cause Of World War III ...   2017-09-05  25949  \n",
       "8  Why Elon Musk’s Plan To Merge Tesla With Solar...   2016-08-16  59220  \n",
       "9  Starbucks Leaving Russian Market, Shutting 130...   2022-05-23    632  "
      ]
     },
     "execution_count": 21,
     "metadata": {},
     "output_type": "execute_result"
    }
   ],
   "source": [
    "result = app.query(\n",
    "    news_query,\n",
    "    description_weight=1,\n",
    "    headline_weight=1,\n",
    "    recency_weight=1,\n",
    "    news_id=\"849\",\n",
    ")\n",
    "\n",
    "present_result(result)"
   ]
  },
  {
   "cell_type": "code",
   "execution_count": null,
   "id": "625a9b2f-fba7-4c5b-b498-a741d2050956",
   "metadata": {},
   "outputs": [],
   "source": []
  }
 ],
 "metadata": {
  "kernelspec": {
   "display_name": "superlinked-venv",
   "language": "python",
   "name": "superlinked-venv"
  },
  "language_info": {
   "codemirror_mode": {
    "name": "ipython",
    "version": 3
   },
   "file_extension": ".py",
   "mimetype": "text/x-python",
   "name": "python",
   "nbconvert_exporter": "python",
   "pygments_lexer": "ipython3",
   "version": "3.10.9"
  }
 },
 "nbformat": 4,
 "nbformat_minor": 5
}

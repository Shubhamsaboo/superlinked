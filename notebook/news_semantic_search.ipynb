{
 "cells": [
  {
   "cell_type": "markdown",
   "id": "49c942f7-d65e-40cd-821b-d2d3071bcf1e",
   "metadata": {},
   "source": [
    "# Semantic search in business news"
   ]
  },
  {
   "cell_type": "markdown",
   "id": "ace3cf1d-86e4-44d1-b958-4c42ed2dc9a2",
   "metadata": {},
   "source": [
    "<div class=\"alert alert-block alert-warning\">\n",
    "Replace <code>YOUR_GITHUB_TOKEN</code> in the install script. To get your token follow the instructions in the <a href=\"../README.md\">README.md</a>\n",
    "</div>"
   ]
  },
  {
   "cell_type": "markdown",
   "id": "aac7c6a1-6af1-4393-b4a9-2c03f9f48f6f",
   "metadata": {},
   "source": [
    "## Boilerplate\n",
    "\n",
    "### Installation"
   ]
  },
  {
   "cell_type": "code",
   "execution_count": 1,
   "id": "a4952853-9474-4643-82e7-5f2c193f6c56",
   "metadata": {},
   "outputs": [],
   "source": [
    "%pip install  'https://us-central1-data-359211.cloudfunctions.net/github-proxy/superlinked-2.20.0-py3-none-any.whl?token=YOUR_GITHUB_TOKEN'"
   ]
  },
  {
   "cell_type": "markdown",
   "id": "52f0f53e-f2d6-49ce-9108-b42743c648d6",
   "metadata": {},
   "source": [
    "### Imports and constants"
   ]
  },
  {
   "cell_type": "code",
   "execution_count": 2,
   "id": "1346b1c0-50b3-48a3-97f9-860c919ca645",
   "metadata": {},
   "outputs": [],
   "source": [
    "from datetime import datetime, timedelta, timezone\n",
    "\n",
    "import altair as alt\n",
    "import pandas as pd\n",
    "\n",
    "from superlinked.evaluation.charts.recency_plotter import RecencyPlotter\n",
    "from superlinked.framework.common.dag.period_time import PeriodTime\n",
    "from superlinked.framework.common.schema.schema import schema\n",
    "from superlinked.framework.common.schema.schema_object import String, Timestamp\n",
    "from superlinked.framework.common.schema.id_schema_object import IdField\n",
    "from superlinked.framework.common.parser.dataframe_parser import DataFrameParser\n",
    "from superlinked.framework.dsl.executor.in_memory.in_memory_executor import InMemoryExecutor, InMemoryApp\n",
    "from superlinked.framework.dsl.index.index import Index\n",
    "from superlinked.framework.dsl.query.param import Param\n",
    "from superlinked.framework.dsl.query.query import Query\n",
    "from superlinked.framework.dsl.query.result import Result\n",
    "from superlinked.framework.dsl.source.in_memory_source import InMemorySource\n",
    "from superlinked.framework.dsl.space.text_similarity_space import TextSimilaritySpace\n",
    "from superlinked.framework.dsl.space.recency_space import RecencySpace\n",
    "\n",
    "alt.renderers.enable(\"mimetype\")\n",
    "pd.set_option('display.max_colwidth', 200)"
   ]
  },
  {
   "cell_type": "code",
   "execution_count": 3,
   "id": "c9738e3d-7d4f-4fbe-9451-c56e11a65acf",
   "metadata": {},
   "outputs": [],
   "source": [
    "MODEL = \"sentence-transformers/all-mpnet-base-v2\"\n",
    "YEAR_IN_DAYS = 365\n",
    "TOP_N = 10\n",
    "DATASET_URL = \"https://storage.googleapis.com/superlinked-notebook-news-dataset/business_news.json\""
   ]
  },
  {
   "cell_type": "markdown",
   "id": "cec9eab8-2c61-40dc-b875-d0c062071221",
   "metadata": {},
   "source": [
    "## Prepare & explore dataset"
   ]
  },
  {
   "cell_type": "code",
   "execution_count": 4,
   "id": "b03bff12-fdf6-4500-b3c5-fb421a8990f5",
   "metadata": {},
   "outputs": [],
   "source": [
    "business_news = pd.read_json(DATASET_URL, convert_dates=True)"
   ]
  },
  {
   "cell_type": "code",
   "execution_count": 5,
   "id": "89d28b5c-c603-4817-b7f8-de80c435e2fb",
   "metadata": {},
   "outputs": [],
   "source": [
    "# we are going to need an id column\n",
    "business_news = business_news.reset_index().rename(columns={\"index\": \"id\"})\n",
    "# we need to handle the timestamp being set in milliseconds\n",
    "business_news[\"date\"] = [date.replace(tzinfo=timezone.utc).timestamp() for date in business_news.date]"
   ]
  },
  {
   "cell_type": "code",
   "execution_count": 6,
   "id": "f08f8086-85f1-4ea8-9446-07c5fdd68609",
   "metadata": {},
   "outputs": [
    {
     "data": {
      "text/html": [
       "<div>\n",
       "<style scoped>\n",
       "    .dataframe tbody tr th:only-of-type {\n",
       "        vertical-align: middle;\n",
       "    }\n",
       "\n",
       "    .dataframe tbody tr th {\n",
       "        vertical-align: top;\n",
       "    }\n",
       "\n",
       "    .dataframe thead th {\n",
       "        text-align: right;\n",
       "    }\n",
       "</style>\n",
       "<table border=\"1\" class=\"dataframe\">\n",
       "  <thead>\n",
       "    <tr style=\"text-align: right;\">\n",
       "      <th></th>\n",
       "      <th>id</th>\n",
       "      <th>link</th>\n",
       "      <th>headline</th>\n",
       "      <th>category</th>\n",
       "      <th>short_description</th>\n",
       "      <th>authors</th>\n",
       "      <th>date</th>\n",
       "    </tr>\n",
       "  </thead>\n",
       "  <tbody>\n",
       "    <tr>\n",
       "      <th>0</th>\n",
       "      <td>162</td>\n",
       "      <td>https://www.huffpost.com/entry/rei-workers-berkeley-store-union_n_6307a5f4e4b0f72c09ded80d</td>\n",
       "      <td>REI Workers At Berkeley Store Vote To Unionize In Another Win For Labor</td>\n",
       "      <td>BUSINESS</td>\n",
       "      <td>They follow in the footsteps of REI workers in New York City who formed a union earlier this year.</td>\n",
       "      <td>Dave Jamieson</td>\n",
       "      <td>1.661386e+09</td>\n",
       "    </tr>\n",
       "    <tr>\n",
       "      <th>1</th>\n",
       "      <td>353</td>\n",
       "      <td>https://www.huffpost.com/entry/twitter-elon-musk-trial-october_n_62d7c115e4b000da23f9c7df</td>\n",
       "      <td>Twitter Lawyer Calls Elon Musk 'Committed Enemy' As Judge Sets October Trial</td>\n",
       "      <td>BUSINESS</td>\n",
       "      <td>Delaware Chancery Judge Kathaleen McCormick dealt the world's richest person a setback in ordering a speedy trial on his abandoned deal to buy Twitter.</td>\n",
       "      <td>Marita Vlachou</td>\n",
       "      <td>1.658275e+09</td>\n",
       "    </tr>\n",
       "    <tr>\n",
       "      <th>2</th>\n",
       "      <td>632</td>\n",
       "      <td>https://www.huffpost.com/entry/starbucks-leaves-russian-market-shuts-stores_n_628b9804e4b05cfc268f4413</td>\n",
       "      <td>Starbucks Leaving Russian Market, Shutting 130 Stores</td>\n",
       "      <td>BUSINESS</td>\n",
       "      <td>Starbucks' move follows McDonald's exit from the Russian market last week.</td>\n",
       "      <td>DEE-ANN DURBIN, AP</td>\n",
       "      <td>1.653264e+09</td>\n",
       "    </tr>\n",
       "    <tr>\n",
       "      <th>3</th>\n",
       "      <td>690</td>\n",
       "      <td>https://www.huffpost.com/entry/coinbase-crypto-slumping_n_627c5582e4b0b74b0e7ed621</td>\n",
       "      <td>Crypto Crash Leaves Trading Platform Coinbase Slumped</td>\n",
       "      <td>BUSINESS</td>\n",
       "      <td>Cryptocurrency trading platform Coinbase has lost half its value in the past week.</td>\n",
       "      <td>Matt Ott, AP</td>\n",
       "      <td>1.652314e+09</td>\n",
       "    </tr>\n",
       "    <tr>\n",
       "      <th>4</th>\n",
       "      <td>727</td>\n",
       "      <td>https://www.huffpost.com/entry/us-april-jobs-report-2022_n_627517dfe4b009a811c295ec</td>\n",
       "      <td>US Added 428,000 Jobs In April Despite Surging Inflation</td>\n",
       "      <td>BUSINESS</td>\n",
       "      <td>At 3.6%, unemployment nearly reached the lowest level in half a century.</td>\n",
       "      <td>Paul Wiseman, AP</td>\n",
       "      <td>1.651795e+09</td>\n",
       "    </tr>\n",
       "  </tbody>\n",
       "</table>\n",
       "</div>"
      ],
      "text/plain": [
       "    id  \\\n",
       "0  162   \n",
       "1  353   \n",
       "2  632   \n",
       "3  690   \n",
       "4  727   \n",
       "\n",
       "                                                                                                     link  \\\n",
       "0              https://www.huffpost.com/entry/rei-workers-berkeley-store-union_n_6307a5f4e4b0f72c09ded80d   \n",
       "1               https://www.huffpost.com/entry/twitter-elon-musk-trial-october_n_62d7c115e4b000da23f9c7df   \n",
       "2  https://www.huffpost.com/entry/starbucks-leaves-russian-market-shuts-stores_n_628b9804e4b05cfc268f4413   \n",
       "3                      https://www.huffpost.com/entry/coinbase-crypto-slumping_n_627c5582e4b0b74b0e7ed621   \n",
       "4                     https://www.huffpost.com/entry/us-april-jobs-report-2022_n_627517dfe4b009a811c295ec   \n",
       "\n",
       "                                                                       headline  \\\n",
       "0       REI Workers At Berkeley Store Vote To Unionize In Another Win For Labor   \n",
       "1  Twitter Lawyer Calls Elon Musk 'Committed Enemy' As Judge Sets October Trial   \n",
       "2                         Starbucks Leaving Russian Market, Shutting 130 Stores   \n",
       "3                         Crypto Crash Leaves Trading Platform Coinbase Slumped   \n",
       "4                      US Added 428,000 Jobs In April Despite Surging Inflation   \n",
       "\n",
       "   category  \\\n",
       "0  BUSINESS   \n",
       "1  BUSINESS   \n",
       "2  BUSINESS   \n",
       "3  BUSINESS   \n",
       "4  BUSINESS   \n",
       "\n",
       "                                                                                                                                         short_description  \\\n",
       "0                                                       They follow in the footsteps of REI workers in New York City who formed a union earlier this year.   \n",
       "1  Delaware Chancery Judge Kathaleen McCormick dealt the world's richest person a setback in ordering a speedy trial on his abandoned deal to buy Twitter.   \n",
       "2                                                                               Starbucks' move follows McDonald's exit from the Russian market last week.   \n",
       "3                                                                       Cryptocurrency trading platform Coinbase has lost half its value in the past week.   \n",
       "4                                                                                 At 3.6%, unemployment nearly reached the lowest level in half a century.   \n",
       "\n",
       "              authors          date  \n",
       "0       Dave Jamieson  1.661386e+09  \n",
       "1      Marita Vlachou  1.658275e+09  \n",
       "2  DEE-ANN DURBIN, AP  1.653264e+09  \n",
       "3        Matt Ott, AP  1.652314e+09  \n",
       "4    Paul Wiseman, AP  1.651795e+09  "
      ]
     },
     "execution_count": 6,
     "metadata": {},
     "output_type": "execute_result"
    }
   ],
   "source": [
    "# a sneak peak into the data\n",
    "business_news.head()"
   ]
  },
  {
   "cell_type": "markdown",
   "id": "228c1c1c-bb7b-4f08-8d08-d5dff9ff60db",
   "metadata": {},
   "source": [
    "### Understand release date distribution"
   ]
  },
  {
   "cell_type": "code",
   "execution_count": 7,
   "id": "e7f7a6fe-5ae2-4704-970b-feb8808ec60e",
   "metadata": {},
   "outputs": [
    {
     "data": {
      "application/vnd.vegalite.v5+json": {
       "$schema": "https://vega.github.io/schema/vega-lite/v5.16.3.json",
       "config": {
        "view": {
         "continuousHeight": 300,
         "continuousWidth": 300
        }
       },
       "data": {
        "name": "data-81f5c67c9986e232199753995406973e"
       },
       "datasets": {
        "data-81f5c67c9986e232199753995406973e": [
         {
          "year_of_publication": 2014
         },
         {
          "year_of_publication": 2013
         },
         {
          "year_of_publication": 2015
         },
         {
          "year_of_publication": 2017
         },
         {
          "year_of_publication": 2014
         },
         {
          "year_of_publication": 2021
         },
         {
          "year_of_publication": 2014
         },
         {
          "year_of_publication": 2012
         },
         {
          "year_of_publication": 2016
         },
         {
          "year_of_publication": 2016
         },
         {
          "year_of_publication": 2012
         },
         {
          "year_of_publication": 2015
         },
         {
          "year_of_publication": 2016
         },
         {
          "year_of_publication": 2015
         },
         {
          "year_of_publication": 2017
         },
         {
          "year_of_publication": 2017
         },
         {
          "year_of_publication": 2016
         },
         {
          "year_of_publication": 2017
         },
         {
          "year_of_publication": 2016
         },
         {
          "year_of_publication": 2015
         },
         {
          "year_of_publication": 2015
         },
         {
          "year_of_publication": 2012
         },
         {
          "year_of_publication": 2015
         },
         {
          "year_of_publication": 2015
         },
         {
          "year_of_publication": 2013
         },
         {
          "year_of_publication": 2014
         },
         {
          "year_of_publication": 2014
         },
         {
          "year_of_publication": 2014
         },
         {
          "year_of_publication": 2015
         },
         {
          "year_of_publication": 2013
         },
         {
          "year_of_publication": 2016
         },
         {
          "year_of_publication": 2014
         },
         {
          "year_of_publication": 2015
         },
         {
          "year_of_publication": 2012
         },
         {
          "year_of_publication": 2013
         },
         {
          "year_of_publication": 2014
         },
         {
          "year_of_publication": 2016
         },
         {
          "year_of_publication": 2014
         },
         {
          "year_of_publication": 2015
         },
         {
          "year_of_publication": 2015
         },
         {
          "year_of_publication": 2012
         },
         {
          "year_of_publication": 2015
         },
         {
          "year_of_publication": 2016
         },
         {
          "year_of_publication": 2014
         },
         {
          "year_of_publication": 2016
         },
         {
          "year_of_publication": 2012
         },
         {
          "year_of_publication": 2015
         },
         {
          "year_of_publication": 2012
         },
         {
          "year_of_publication": 2014
         },
         {
          "year_of_publication": 2017
         },
         {
          "year_of_publication": 2015
         },
         {
          "year_of_publication": 2013
         },
         {
          "year_of_publication": 2014
         },
         {
          "year_of_publication": 2017
         },
         {
          "year_of_publication": 2013
         },
         {
          "year_of_publication": 2013
         },
         {
          "year_of_publication": 2012
         },
         {
          "year_of_publication": 2012
         },
         {
          "year_of_publication": 2016
         },
         {
          "year_of_publication": 2015
         },
         {
          "year_of_publication": 2016
         },
         {
          "year_of_publication": 2014
         },
         {
          "year_of_publication": 2014
         },
         {
          "year_of_publication": 2018
         },
         {
          "year_of_publication": 2015
         },
         {
          "year_of_publication": 2018
         },
         {
          "year_of_publication": 2015
         },
         {
          "year_of_publication": 2014
         },
         {
          "year_of_publication": 2015
         },
         {
          "year_of_publication": 2016
         },
         {
          "year_of_publication": 2015
         },
         {
          "year_of_publication": 2018
         },
         {
          "year_of_publication": 2014
         },
         {
          "year_of_publication": 2013
         },
         {
          "year_of_publication": 2014
         },
         {
          "year_of_publication": 2016
         },
         {
          "year_of_publication": 2018
         },
         {
          "year_of_publication": 2012
         },
         {
          "year_of_publication": 2016
         },
         {
          "year_of_publication": 2015
         },
         {
          "year_of_publication": 2013
         },
         {
          "year_of_publication": 2014
         },
         {
          "year_of_publication": 2018
         },
         {
          "year_of_publication": 2012
         },
         {
          "year_of_publication": 2017
         },
         {
          "year_of_publication": 2016
         },
         {
          "year_of_publication": 2016
         },
         {
          "year_of_publication": 2013
         },
         {
          "year_of_publication": 2015
         },
         {
          "year_of_publication": 2015
         },
         {
          "year_of_publication": 2017
         },
         {
          "year_of_publication": 2015
         },
         {
          "year_of_publication": 2016
         },
         {
          "year_of_publication": 2013
         },
         {
          "year_of_publication": 2014
         },
         {
          "year_of_publication": 2017
         },
         {
          "year_of_publication": 2017
         },
         {
          "year_of_publication": 2017
         },
         {
          "year_of_publication": 2013
         },
         {
          "year_of_publication": 2016
         },
         {
          "year_of_publication": 2014
         },
         {
          "year_of_publication": 2012
         },
         {
          "year_of_publication": 2014
         },
         {
          "year_of_publication": 2014
         },
         {
          "year_of_publication": 2015
         },
         {
          "year_of_publication": 2018
         },
         {
          "year_of_publication": 2014
         },
         {
          "year_of_publication": 2014
         },
         {
          "year_of_publication": 2016
         },
         {
          "year_of_publication": 2012
         },
         {
          "year_of_publication": 2012
         },
         {
          "year_of_publication": 2017
         },
         {
          "year_of_publication": 2015
         },
         {
          "year_of_publication": 2012
         },
         {
          "year_of_publication": 2013
         },
         {
          "year_of_publication": 2015
         },
         {
          "year_of_publication": 2015
         },
         {
          "year_of_publication": 2013
         },
         {
          "year_of_publication": 2012
         },
         {
          "year_of_publication": 2017
         },
         {
          "year_of_publication": 2012
         },
         {
          "year_of_publication": 2015
         },
         {
          "year_of_publication": 2014
         },
         {
          "year_of_publication": 2016
         },
         {
          "year_of_publication": 2014
         },
         {
          "year_of_publication": 2016
         },
         {
          "year_of_publication": 2016
         },
         {
          "year_of_publication": 2014
         },
         {
          "year_of_publication": 2014
         },
         {
          "year_of_publication": 2013
         },
         {
          "year_of_publication": 2016
         },
         {
          "year_of_publication": 2015
         },
         {
          "year_of_publication": 2015
         },
         {
          "year_of_publication": 2016
         },
         {
          "year_of_publication": 2022
         },
         {
          "year_of_publication": 2013
         },
         {
          "year_of_publication": 2012
         },
         {
          "year_of_publication": 2016
         },
         {
          "year_of_publication": 2017
         },
         {
          "year_of_publication": 2017
         },
         {
          "year_of_publication": 2013
         },
         {
          "year_of_publication": 2017
         },
         {
          "year_of_publication": 2013
         },
         {
          "year_of_publication": 2014
         },
         {
          "year_of_publication": 2016
         },
         {
          "year_of_publication": 2016
         },
         {
          "year_of_publication": 2015
         },
         {
          "year_of_publication": 2015
         },
         {
          "year_of_publication": 2014
         },
         {
          "year_of_publication": 2013
         },
         {
          "year_of_publication": 2014
         },
         {
          "year_of_publication": 2015
         },
         {
          "year_of_publication": 2015
         },
         {
          "year_of_publication": 2016
         },
         {
          "year_of_publication": 2013
         },
         {
          "year_of_publication": 2013
         },
         {
          "year_of_publication": 2015
         },
         {
          "year_of_publication": 2012
         },
         {
          "year_of_publication": 2015
         },
         {
          "year_of_publication": 2016
         },
         {
          "year_of_publication": 2012
         },
         {
          "year_of_publication": 2015
         },
         {
          "year_of_publication": 2014
         },
         {
          "year_of_publication": 2014
         },
         {
          "year_of_publication": 2015
         },
         {
          "year_of_publication": 2014
         },
         {
          "year_of_publication": 2012
         },
         {
          "year_of_publication": 2015
         },
         {
          "year_of_publication": 2014
         },
         {
          "year_of_publication": 2014
         },
         {
          "year_of_publication": 2015
         },
         {
          "year_of_publication": 2014
         },
         {
          "year_of_publication": 2012
         },
         {
          "year_of_publication": 2014
         },
         {
          "year_of_publication": 2014
         },
         {
          "year_of_publication": 2013
         },
         {
          "year_of_publication": 2014
         },
         {
          "year_of_publication": 2016
         },
         {
          "year_of_publication": 2015
         },
         {
          "year_of_publication": 2017
         },
         {
          "year_of_publication": 2014
         },
         {
          "year_of_publication": 2012
         },
         {
          "year_of_publication": 2013
         },
         {
          "year_of_publication": 2014
         },
         {
          "year_of_publication": 2014
         },
         {
          "year_of_publication": 2013
         },
         {
          "year_of_publication": 2017
         },
         {
          "year_of_publication": 2016
         },
         {
          "year_of_publication": 2020
         },
         {
          "year_of_publication": 2016
         },
         {
          "year_of_publication": 2014
         },
         {
          "year_of_publication": 2017
         },
         {
          "year_of_publication": 2016
         },
         {
          "year_of_publication": 2012
         },
         {
          "year_of_publication": 2012
         },
         {
          "year_of_publication": 2015
         },
         {
          "year_of_publication": 2016
         },
         {
          "year_of_publication": 2015
         },
         {
          "year_of_publication": 2013
         },
         {
          "year_of_publication": 2012
         },
         {
          "year_of_publication": 2015
         },
         {
          "year_of_publication": 2014
         },
         {
          "year_of_publication": 2016
         },
         {
          "year_of_publication": 2014
         },
         {
          "year_of_publication": 2016
         },
         {
          "year_of_publication": 2017
         },
         {
          "year_of_publication": 2014
         },
         {
          "year_of_publication": 2015
         },
         {
          "year_of_publication": 2016
         },
         {
          "year_of_publication": 2014
         },
         {
          "year_of_publication": 2014
         },
         {
          "year_of_publication": 2015
         },
         {
          "year_of_publication": 2015
         },
         {
          "year_of_publication": 2013
         },
         {
          "year_of_publication": 2013
         },
         {
          "year_of_publication": 2013
         },
         {
          "year_of_publication": 2016
         },
         {
          "year_of_publication": 2015
         },
         {
          "year_of_publication": 2012
         },
         {
          "year_of_publication": 2016
         },
         {
          "year_of_publication": 2015
         },
         {
          "year_of_publication": 2013
         },
         {
          "year_of_publication": 2012
         },
         {
          "year_of_publication": 2016
         },
         {
          "year_of_publication": 2015
         },
         {
          "year_of_publication": 2015
         },
         {
          "year_of_publication": 2012
         },
         {
          "year_of_publication": 2015
         },
         {
          "year_of_publication": 2014
         },
         {
          "year_of_publication": 2013
         },
         {
          "year_of_publication": 2017
         },
         {
          "year_of_publication": 2015
         },
         {
          "year_of_publication": 2012
         },
         {
          "year_of_publication": 2017
         },
         {
          "year_of_publication": 2016
         },
         {
          "year_of_publication": 2015
         },
         {
          "year_of_publication": 2016
         },
         {
          "year_of_publication": 2014
         },
         {
          "year_of_publication": 2015
         },
         {
          "year_of_publication": 2013
         },
         {
          "year_of_publication": 2013
         },
         {
          "year_of_publication": 2015
         },
         {
          "year_of_publication": 2013
         },
         {
          "year_of_publication": 2014
         },
         {
          "year_of_publication": 2012
         },
         {
          "year_of_publication": 2013
         },
         {
          "year_of_publication": 2015
         },
         {
          "year_of_publication": 2016
         },
         {
          "year_of_publication": 2014
         },
         {
          "year_of_publication": 2014
         },
         {
          "year_of_publication": 2013
         },
         {
          "year_of_publication": 2016
         },
         {
          "year_of_publication": 2015
         },
         {
          "year_of_publication": 2015
         },
         {
          "year_of_publication": 2013
         },
         {
          "year_of_publication": 2012
         },
         {
          "year_of_publication": 2016
         },
         {
          "year_of_publication": 2017
         },
         {
          "year_of_publication": 2013
         },
         {
          "year_of_publication": 2014
         },
         {
          "year_of_publication": 2015
         },
         {
          "year_of_publication": 2015
         },
         {
          "year_of_publication": 2012
         },
         {
          "year_of_publication": 2014
         },
         {
          "year_of_publication": 2012
         },
         {
          "year_of_publication": 2015
         },
         {
          "year_of_publication": 2017
         },
         {
          "year_of_publication": 2013
         },
         {
          "year_of_publication": 2017
         },
         {
          "year_of_publication": 2012
         },
         {
          "year_of_publication": 2013
         },
         {
          "year_of_publication": 2013
         },
         {
          "year_of_publication": 2015
         },
         {
          "year_of_publication": 2013
         },
         {
          "year_of_publication": 2013
         },
         {
          "year_of_publication": 2012
         },
         {
          "year_of_publication": 2013
         },
         {
          "year_of_publication": 2014
         },
         {
          "year_of_publication": 2016
         },
         {
          "year_of_publication": 2015
         },
         {
          "year_of_publication": 2015
         },
         {
          "year_of_publication": 2015
         },
         {
          "year_of_publication": 2015
         },
         {
          "year_of_publication": 2014
         },
         {
          "year_of_publication": 2013
         },
         {
          "year_of_publication": 2014
         },
         {
          "year_of_publication": 2014
         },
         {
          "year_of_publication": 2014
         },
         {
          "year_of_publication": 2013
         },
         {
          "year_of_publication": 2016
         },
         {
          "year_of_publication": 2016
         },
         {
          "year_of_publication": 2015
         },
         {
          "year_of_publication": 2016
         },
         {
          "year_of_publication": 2014
         },
         {
          "year_of_publication": 2016
         },
         {
          "year_of_publication": 2012
         },
         {
          "year_of_publication": 2017
         },
         {
          "year_of_publication": 2014
         },
         {
          "year_of_publication": 2012
         },
         {
          "year_of_publication": 2015
         },
         {
          "year_of_publication": 2016
         },
         {
          "year_of_publication": 2017
         },
         {
          "year_of_publication": 2015
         },
         {
          "year_of_publication": 2012
         },
         {
          "year_of_publication": 2013
         },
         {
          "year_of_publication": 2012
         },
         {
          "year_of_publication": 2016
         },
         {
          "year_of_publication": 2016
         },
         {
          "year_of_publication": 2014
         },
         {
          "year_of_publication": 2012
         },
         {
          "year_of_publication": 2014
         },
         {
          "year_of_publication": 2016
         },
         {
          "year_of_publication": 2015
         },
         {
          "year_of_publication": 2015
         },
         {
          "year_of_publication": 2012
         },
         {
          "year_of_publication": 2014
         },
         {
          "year_of_publication": 2014
         },
         {
          "year_of_publication": 2013
         },
         {
          "year_of_publication": 2014
         },
         {
          "year_of_publication": 2013
         },
         {
          "year_of_publication": 2012
         },
         {
          "year_of_publication": 2016
         },
         {
          "year_of_publication": 2013
         },
         {
          "year_of_publication": 2014
         },
         {
          "year_of_publication": 2013
         },
         {
          "year_of_publication": 2014
         },
         {
          "year_of_publication": 2014
         },
         {
          "year_of_publication": 2014
         },
         {
          "year_of_publication": 2015
         },
         {
          "year_of_publication": 2014
         },
         {
          "year_of_publication": 2016
         },
         {
          "year_of_publication": 2013
         },
         {
          "year_of_publication": 2012
         },
         {
          "year_of_publication": 2015
         },
         {
          "year_of_publication": 2014
         },
         {
          "year_of_publication": 2014
         },
         {
          "year_of_publication": 2013
         },
         {
          "year_of_publication": 2017
         },
         {
          "year_of_publication": 2014
         },
         {
          "year_of_publication": 2016
         },
         {
          "year_of_publication": 2017
         },
         {
          "year_of_publication": 2015
         },
         {
          "year_of_publication": 2013
         },
         {
          "year_of_publication": 2017
         },
         {
          "year_of_publication": 2014
         },
         {
          "year_of_publication": 2017
         },
         {
          "year_of_publication": 2016
         },
         {
          "year_of_publication": 2012
         },
         {
          "year_of_publication": 2014
         },
         {
          "year_of_publication": 2012
         },
         {
          "year_of_publication": 2015
         },
         {
          "year_of_publication": 2020
         },
         {
          "year_of_publication": 2015
         },
         {
          "year_of_publication": 2014
         },
         {
          "year_of_publication": 2015
         },
         {
          "year_of_publication": 2014
         },
         {
          "year_of_publication": 2012
         },
         {
          "year_of_publication": 2014
         },
         {
          "year_of_publication": 2017
         },
         {
          "year_of_publication": 2016
         },
         {
          "year_of_publication": 2014
         },
         {
          "year_of_publication": 2013
         },
         {
          "year_of_publication": 2020
         },
         {
          "year_of_publication": 2014
         },
         {
          "year_of_publication": 2013
         },
         {
          "year_of_publication": 2013
         },
         {
          "year_of_publication": 2015
         },
         {
          "year_of_publication": 2015
         },
         {
          "year_of_publication": 2016
         },
         {
          "year_of_publication": 2016
         },
         {
          "year_of_publication": 2012
         },
         {
          "year_of_publication": 2013
         },
         {
          "year_of_publication": 2015
         },
         {
          "year_of_publication": 2012
         },
         {
          "year_of_publication": 2013
         },
         {
          "year_of_publication": 2013
         },
         {
          "year_of_publication": 2015
         },
         {
          "year_of_publication": 2015
         },
         {
          "year_of_publication": 2014
         },
         {
          "year_of_publication": 2015
         },
         {
          "year_of_publication": 2015
         },
         {
          "year_of_publication": 2018
         },
         {
          "year_of_publication": 2014
         },
         {
          "year_of_publication": 2014
         },
         {
          "year_of_publication": 2012
         },
         {
          "year_of_publication": 2015
         },
         {
          "year_of_publication": 2015
         },
         {
          "year_of_publication": 2015
         },
         {
          "year_of_publication": 2015
         },
         {
          "year_of_publication": 2015
         },
         {
          "year_of_publication": 2015
         },
         {
          "year_of_publication": 2016
         },
         {
          "year_of_publication": 2016
         },
         {
          "year_of_publication": 2014
         },
         {
          "year_of_publication": 2015
         },
         {
          "year_of_publication": 2014
         },
         {
          "year_of_publication": 2014
         },
         {
          "year_of_publication": 2013
         },
         {
          "year_of_publication": 2013
         },
         {
          "year_of_publication": 2017
         },
         {
          "year_of_publication": 2014
         },
         {
          "year_of_publication": 2013
         },
         {
          "year_of_publication": 2016
         },
         {
          "year_of_publication": 2013
         },
         {
          "year_of_publication": 2014
         },
         {
          "year_of_publication": 2014
         },
         {
          "year_of_publication": 2012
         },
         {
          "year_of_publication": 2015
         },
         {
          "year_of_publication": 2013
         },
         {
          "year_of_publication": 2017
         },
         {
          "year_of_publication": 2014
         },
         {
          "year_of_publication": 2013
         },
         {
          "year_of_publication": 2016
         },
         {
          "year_of_publication": 2014
         },
         {
          "year_of_publication": 2017
         },
         {
          "year_of_publication": 2014
         },
         {
          "year_of_publication": 2012
         },
         {
          "year_of_publication": 2017
         },
         {
          "year_of_publication": 2014
         },
         {
          "year_of_publication": 2014
         },
         {
          "year_of_publication": 2016
         },
         {
          "year_of_publication": 2015
         },
         {
          "year_of_publication": 2013
         },
         {
          "year_of_publication": 2013
         },
         {
          "year_of_publication": 2013
         },
         {
          "year_of_publication": 2013
         },
         {
          "year_of_publication": 2015
         },
         {
          "year_of_publication": 2014
         },
         {
          "year_of_publication": 2015
         },
         {
          "year_of_publication": 2013
         },
         {
          "year_of_publication": 2012
         },
         {
          "year_of_publication": 2017
         },
         {
          "year_of_publication": 2014
         },
         {
          "year_of_publication": 2015
         },
         {
          "year_of_publication": 2015
         },
         {
          "year_of_publication": 2013
         },
         {
          "year_of_publication": 2012
         },
         {
          "year_of_publication": 2015
         },
         {
          "year_of_publication": 2015
         },
         {
          "year_of_publication": 2014
         },
         {
          "year_of_publication": 2016
         },
         {
          "year_of_publication": 2016
         },
         {
          "year_of_publication": 2015
         },
         {
          "year_of_publication": 2012
         },
         {
          "year_of_publication": 2018
         },
         {
          "year_of_publication": 2013
         },
         {
          "year_of_publication": 2013
         },
         {
          "year_of_publication": 2014
         },
         {
          "year_of_publication": 2015
         },
         {
          "year_of_publication": 2017
         },
         {
          "year_of_publication": 2015
         },
         {
          "year_of_publication": 2014
         },
         {
          "year_of_publication": 2014
         },
         {
          "year_of_publication": 2015
         },
         {
          "year_of_publication": 2015
         },
         {
          "year_of_publication": 2018
         },
         {
          "year_of_publication": 2012
         },
         {
          "year_of_publication": 2015
         },
         {
          "year_of_publication": 2012
         },
         {
          "year_of_publication": 2018
         },
         {
          "year_of_publication": 2015
         },
         {
          "year_of_publication": 2016
         },
         {
          "year_of_publication": 2012
         },
         {
          "year_of_publication": 2014
         },
         {
          "year_of_publication": 2015
         },
         {
          "year_of_publication": 2016
         },
         {
          "year_of_publication": 2015
         },
         {
          "year_of_publication": 2015
         },
         {
          "year_of_publication": 2015
         },
         {
          "year_of_publication": 2013
         },
         {
          "year_of_publication": 2015
         },
         {
          "year_of_publication": 2014
         },
         {
          "year_of_publication": 2015
         },
         {
          "year_of_publication": 2012
         },
         {
          "year_of_publication": 2012
         },
         {
          "year_of_publication": 2014
         },
         {
          "year_of_publication": 2016
         },
         {
          "year_of_publication": 2014
         },
         {
          "year_of_publication": 2015
         },
         {
          "year_of_publication": 2015
         },
         {
          "year_of_publication": 2016
         },
         {
          "year_of_publication": 2016
         },
         {
          "year_of_publication": 2013
         },
         {
          "year_of_publication": 2014
         },
         {
          "year_of_publication": 2015
         },
         {
          "year_of_publication": 2012
         },
         {
          "year_of_publication": 2014
         },
         {
          "year_of_publication": 2016
         },
         {
          "year_of_publication": 2016
         },
         {
          "year_of_publication": 2014
         },
         {
          "year_of_publication": 2013
         },
         {
          "year_of_publication": 2016
         },
         {
          "year_of_publication": 2013
         },
         {
          "year_of_publication": 2017
         },
         {
          "year_of_publication": 2015
         },
         {
          "year_of_publication": 2014
         },
         {
          "year_of_publication": 2014
         },
         {
          "year_of_publication": 2016
         },
         {
          "year_of_publication": 2015
         },
         {
          "year_of_publication": 2018
         },
         {
          "year_of_publication": 2016
         },
         {
          "year_of_publication": 2015
         },
         {
          "year_of_publication": 2016
         },
         {
          "year_of_publication": 2014
         },
         {
          "year_of_publication": 2018
         },
         {
          "year_of_publication": 2014
         },
         {
          "year_of_publication": 2014
         },
         {
          "year_of_publication": 2013
         },
         {
          "year_of_publication": 2016
         },
         {
          "year_of_publication": 2015
         },
         {
          "year_of_publication": 2014
         },
         {
          "year_of_publication": 2013
         },
         {
          "year_of_publication": 2014
         },
         {
          "year_of_publication": 2012
         },
         {
          "year_of_publication": 2015
         },
         {
          "year_of_publication": 2012
         },
         {
          "year_of_publication": 2013
         },
         {
          "year_of_publication": 2015
         },
         {
          "year_of_publication": 2014
         },
         {
          "year_of_publication": 2014
         },
         {
          "year_of_publication": 2014
         },
         {
          "year_of_publication": 2013
         },
         {
          "year_of_publication": 2014
         },
         {
          "year_of_publication": 2013
         },
         {
          "year_of_publication": 2012
         },
         {
          "year_of_publication": 2012
         },
         {
          "year_of_publication": 2015
         },
         {
          "year_of_publication": 2014
         },
         {
          "year_of_publication": 2017
         },
         {
          "year_of_publication": 2013
         },
         {
          "year_of_publication": 2016
         },
         {
          "year_of_publication": 2018
         },
         {
          "year_of_publication": 2015
         },
         {
          "year_of_publication": 2017
         },
         {
          "year_of_publication": 2015
         },
         {
          "year_of_publication": 2013
         },
         {
          "year_of_publication": 2014
         },
         {
          "year_of_publication": 2014
         },
         {
          "year_of_publication": 2014
         },
         {
          "year_of_publication": 2014
         },
         {
          "year_of_publication": 2016
         },
         {
          "year_of_publication": 2012
         },
         {
          "year_of_publication": 2014
         },
         {
          "year_of_publication": 2014
         },
         {
          "year_of_publication": 2014
         },
         {
          "year_of_publication": 2016
         },
         {
          "year_of_publication": 2012
         },
         {
          "year_of_publication": 2014
         },
         {
          "year_of_publication": 2016
         },
         {
          "year_of_publication": 2013
         },
         {
          "year_of_publication": 2012
         },
         {
          "year_of_publication": 2014
         },
         {
          "year_of_publication": 2014
         },
         {
          "year_of_publication": 2012
         },
         {
          "year_of_publication": 2016
         },
         {
          "year_of_publication": 2014
         },
         {
          "year_of_publication": 2013
         },
         {
          "year_of_publication": 2015
         },
         {
          "year_of_publication": 2015
         },
         {
          "year_of_publication": 2015
         },
         {
          "year_of_publication": 2016
         },
         {
          "year_of_publication": 2014
         },
         {
          "year_of_publication": 2012
         },
         {
          "year_of_publication": 2015
         },
         {
          "year_of_publication": 2016
         },
         {
          "year_of_publication": 2014
         },
         {
          "year_of_publication": 2017
         },
         {
          "year_of_publication": 2013
         },
         {
          "year_of_publication": 2014
         },
         {
          "year_of_publication": 2014
         },
         {
          "year_of_publication": 2014
         },
         {
          "year_of_publication": 2015
         },
         {
          "year_of_publication": 2013
         },
         {
          "year_of_publication": 2015
         },
         {
          "year_of_publication": 2014
         },
         {
          "year_of_publication": 2013
         },
         {
          "year_of_publication": 2014
         },
         {
          "year_of_publication": 2018
         },
         {
          "year_of_publication": 2017
         },
         {
          "year_of_publication": 2014
         },
         {
          "year_of_publication": 2015
         },
         {
          "year_of_publication": 2015
         },
         {
          "year_of_publication": 2016
         },
         {
          "year_of_publication": 2017
         },
         {
          "year_of_publication": 2014
         },
         {
          "year_of_publication": 2014
         },
         {
          "year_of_publication": 2015
         },
         {
          "year_of_publication": 2013
         },
         {
          "year_of_publication": 2014
         },
         {
          "year_of_publication": 2015
         },
         {
          "year_of_publication": 2014
         },
         {
          "year_of_publication": 2017
         },
         {
          "year_of_publication": 2015
         },
         {
          "year_of_publication": 2014
         },
         {
          "year_of_publication": 2014
         },
         {
          "year_of_publication": 2015
         },
         {
          "year_of_publication": 2016
         },
         {
          "year_of_publication": 2014
         },
         {
          "year_of_publication": 2013
         },
         {
          "year_of_publication": 2015
         },
         {
          "year_of_publication": 2014
         },
         {
          "year_of_publication": 2018
         },
         {
          "year_of_publication": 2015
         },
         {
          "year_of_publication": 2013
         },
         {
          "year_of_publication": 2015
         },
         {
          "year_of_publication": 2012
         },
         {
          "year_of_publication": 2014
         },
         {
          "year_of_publication": 2015
         },
         {
          "year_of_publication": 2014
         },
         {
          "year_of_publication": 2017
         },
         {
          "year_of_publication": 2016
         },
         {
          "year_of_publication": 2015
         },
         {
          "year_of_publication": 2013
         },
         {
          "year_of_publication": 2013
         },
         {
          "year_of_publication": 2015
         },
         {
          "year_of_publication": 2015
         },
         {
          "year_of_publication": 2015
         },
         {
          "year_of_publication": 2013
         },
         {
          "year_of_publication": 2016
         },
         {
          "year_of_publication": 2013
         },
         {
          "year_of_publication": 2014
         },
         {
          "year_of_publication": 2012
         },
         {
          "year_of_publication": 2016
         },
         {
          "year_of_publication": 2015
         },
         {
          "year_of_publication": 2015
         },
         {
          "year_of_publication": 2015
         },
         {
          "year_of_publication": 2013
         },
         {
          "year_of_publication": 2016
         },
         {
          "year_of_publication": 2014
         },
         {
          "year_of_publication": 2014
         },
         {
          "year_of_publication": 2017
         },
         {
          "year_of_publication": 2014
         },
         {
          "year_of_publication": 2015
         },
         {
          "year_of_publication": 2015
         },
         {
          "year_of_publication": 2015
         },
         {
          "year_of_publication": 2014
         },
         {
          "year_of_publication": 2012
         },
         {
          "year_of_publication": 2013
         },
         {
          "year_of_publication": 2014
         },
         {
          "year_of_publication": 2013
         },
         {
          "year_of_publication": 2017
         },
         {
          "year_of_publication": 2012
         },
         {
          "year_of_publication": 2013
         },
         {
          "year_of_publication": 2012
         },
         {
          "year_of_publication": 2014
         },
         {
          "year_of_publication": 2014
         },
         {
          "year_of_publication": 2015
         },
         {
          "year_of_publication": 2014
         },
         {
          "year_of_publication": 2017
         },
         {
          "year_of_publication": 2015
         },
         {
          "year_of_publication": 2014
         },
         {
          "year_of_publication": 2016
         },
         {
          "year_of_publication": 2015
         },
         {
          "year_of_publication": 2016
         },
         {
          "year_of_publication": 2014
         },
         {
          "year_of_publication": 2016
         },
         {
          "year_of_publication": 2014
         },
         {
          "year_of_publication": 2015
         },
         {
          "year_of_publication": 2014
         },
         {
          "year_of_publication": 2017
         },
         {
          "year_of_publication": 2015
         },
         {
          "year_of_publication": 2014
         },
         {
          "year_of_publication": 2012
         },
         {
          "year_of_publication": 2014
         },
         {
          "year_of_publication": 2014
         },
         {
          "year_of_publication": 2013
         },
         {
          "year_of_publication": 2016
         },
         {
          "year_of_publication": 2018
         },
         {
          "year_of_publication": 2014
         },
         {
          "year_of_publication": 2016
         },
         {
          "year_of_publication": 2012
         },
         {
          "year_of_publication": 2017
         },
         {
          "year_of_publication": 2015
         },
         {
          "year_of_publication": 2012
         },
         {
          "year_of_publication": 2015
         },
         {
          "year_of_publication": 2014
         },
         {
          "year_of_publication": 2014
         },
         {
          "year_of_publication": 2014
         },
         {
          "year_of_publication": 2014
         },
         {
          "year_of_publication": 2012
         },
         {
          "year_of_publication": 2014
         },
         {
          "year_of_publication": 2012
         },
         {
          "year_of_publication": 2012
         },
         {
          "year_of_publication": 2017
         },
         {
          "year_of_publication": 2016
         },
         {
          "year_of_publication": 2014
         },
         {
          "year_of_publication": 2015
         },
         {
          "year_of_publication": 2016
         },
         {
          "year_of_publication": 2014
         },
         {
          "year_of_publication": 2017
         },
         {
          "year_of_publication": 2017
         },
         {
          "year_of_publication": 2014
         },
         {
          "year_of_publication": 2012
         },
         {
          "year_of_publication": 2015
         },
         {
          "year_of_publication": 2013
         },
         {
          "year_of_publication": 2015
         },
         {
          "year_of_publication": 2015
         },
         {
          "year_of_publication": 2015
         },
         {
          "year_of_publication": 2016
         },
         {
          "year_of_publication": 2016
         },
         {
          "year_of_publication": 2017
         },
         {
          "year_of_publication": 2013
         },
         {
          "year_of_publication": 2015
         },
         {
          "year_of_publication": 2012
         },
         {
          "year_of_publication": 2016
         },
         {
          "year_of_publication": 2014
         },
         {
          "year_of_publication": 2016
         },
         {
          "year_of_publication": 2015
         },
         {
          "year_of_publication": 2015
         },
         {
          "year_of_publication": 2015
         },
         {
          "year_of_publication": 2015
         },
         {
          "year_of_publication": 2013
         },
         {
          "year_of_publication": 2016
         },
         {
          "year_of_publication": 2014
         },
         {
          "year_of_publication": 2015
         },
         {
          "year_of_publication": 2013
         },
         {
          "year_of_publication": 2017
         },
         {
          "year_of_publication": 2015
         },
         {
          "year_of_publication": 2015
         },
         {
          "year_of_publication": 2017
         },
         {
          "year_of_publication": 2014
         },
         {
          "year_of_publication": 2014
         },
         {
          "year_of_publication": 2015
         },
         {
          "year_of_publication": 2015
         },
         {
          "year_of_publication": 2013
         },
         {
          "year_of_publication": 2017
         },
         {
          "year_of_publication": 2015
         },
         {
          "year_of_publication": 2015
         },
         {
          "year_of_publication": 2012
         },
         {
          "year_of_publication": 2015
         },
         {
          "year_of_publication": 2015
         },
         {
          "year_of_publication": 2017
         },
         {
          "year_of_publication": 2014
         },
         {
          "year_of_publication": 2015
         },
         {
          "year_of_publication": 2012
         },
         {
          "year_of_publication": 2016
         },
         {
          "year_of_publication": 2015
         },
         {
          "year_of_publication": 2014
         },
         {
          "year_of_publication": 2012
         },
         {
          "year_of_publication": 2015
         },
         {
          "year_of_publication": 2015
         },
         {
          "year_of_publication": 2015
         },
         {
          "year_of_publication": 2015
         },
         {
          "year_of_publication": 2012
         },
         {
          "year_of_publication": 2014
         },
         {
          "year_of_publication": 2014
         },
         {
          "year_of_publication": 2012
         },
         {
          "year_of_publication": 2017
         },
         {
          "year_of_publication": 2015
         },
         {
          "year_of_publication": 2012
         },
         {
          "year_of_publication": 2012
         },
         {
          "year_of_publication": 2014
         },
         {
          "year_of_publication": 2015
         },
         {
          "year_of_publication": 2015
         },
         {
          "year_of_publication": 2014
         },
         {
          "year_of_publication": 2015
         },
         {
          "year_of_publication": 2015
         },
         {
          "year_of_publication": 2013
         },
         {
          "year_of_publication": 2012
         },
         {
          "year_of_publication": 2015
         },
         {
          "year_of_publication": 2014
         },
         {
          "year_of_publication": 2017
         },
         {
          "year_of_publication": 2014
         },
         {
          "year_of_publication": 2013
         },
         {
          "year_of_publication": 2016
         },
         {
          "year_of_publication": 2012
         },
         {
          "year_of_publication": 2014
         },
         {
          "year_of_publication": 2016
         },
         {
          "year_of_publication": 2014
         },
         {
          "year_of_publication": 2012
         },
         {
          "year_of_publication": 2014
         },
         {
          "year_of_publication": 2014
         },
         {
          "year_of_publication": 2016
         },
         {
          "year_of_publication": 2017
         },
         {
          "year_of_publication": 2014
         },
         {
          "year_of_publication": 2016
         },
         {
          "year_of_publication": 2015
         },
         {
          "year_of_publication": 2015
         },
         {
          "year_of_publication": 2015
         },
         {
          "year_of_publication": 2016
         },
         {
          "year_of_publication": 2014
         },
         {
          "year_of_publication": 2015
         },
         {
          "year_of_publication": 2016
         },
         {
          "year_of_publication": 2016
         },
         {
          "year_of_publication": 2013
         },
         {
          "year_of_publication": 2017
         },
         {
          "year_of_publication": 2013
         },
         {
          "year_of_publication": 2016
         },
         {
          "year_of_publication": 2015
         },
         {
          "year_of_publication": 2015
         },
         {
          "year_of_publication": 2012
         },
         {
          "year_of_publication": 2013
         },
         {
          "year_of_publication": 2015
         },
         {
          "year_of_publication": 2014
         },
         {
          "year_of_publication": 2014
         },
         {
          "year_of_publication": 2013
         },
         {
          "year_of_publication": 2015
         },
         {
          "year_of_publication": 2017
         },
         {
          "year_of_publication": 2016
         },
         {
          "year_of_publication": 2015
         },
         {
          "year_of_publication": 2014
         },
         {
          "year_of_publication": 2013
         },
         {
          "year_of_publication": 2013
         },
         {
          "year_of_publication": 2013
         },
         {
          "year_of_publication": 2015
         },
         {
          "year_of_publication": 2015
         },
         {
          "year_of_publication": 2013
         },
         {
          "year_of_publication": 2016
         },
         {
          "year_of_publication": 2015
         },
         {
          "year_of_publication": 2014
         },
         {
          "year_of_publication": 2016
         },
         {
          "year_of_publication": 2012
         },
         {
          "year_of_publication": 2016
         },
         {
          "year_of_publication": 2017
         },
         {
          "year_of_publication": 2019
         },
         {
          "year_of_publication": 2015
         },
         {
          "year_of_publication": 2014
         },
         {
          "year_of_publication": 2013
         },
         {
          "year_of_publication": 2018
         },
         {
          "year_of_publication": 2013
         },
         {
          "year_of_publication": 2016
         },
         {
          "year_of_publication": 2013
         },
         {
          "year_of_publication": 2012
         },
         {
          "year_of_publication": 2015
         },
         {
          "year_of_publication": 2013
         },
         {
          "year_of_publication": 2016
         },
         {
          "year_of_publication": 2013
         },
         {
          "year_of_publication": 2013
         },
         {
          "year_of_publication": 2015
         },
         {
          "year_of_publication": 2013
         },
         {
          "year_of_publication": 2014
         },
         {
          "year_of_publication": 2013
         },
         {
          "year_of_publication": 2015
         },
         {
          "year_of_publication": 2016
         },
         {
          "year_of_publication": 2012
         },
         {
          "year_of_publication": 2012
         },
         {
          "year_of_publication": 2017
         },
         {
          "year_of_publication": 2016
         },
         {
          "year_of_publication": 2017
         },
         {
          "year_of_publication": 2017
         },
         {
          "year_of_publication": 2013
         },
         {
          "year_of_publication": 2012
         },
         {
          "year_of_publication": 2017
         },
         {
          "year_of_publication": 2014
         },
         {
          "year_of_publication": 2014
         },
         {
          "year_of_publication": 2013
         },
         {
          "year_of_publication": 2016
         },
         {
          "year_of_publication": 2015
         },
         {
          "year_of_publication": 2015
         },
         {
          "year_of_publication": 2012
         },
         {
          "year_of_publication": 2015
         },
         {
          "year_of_publication": 2017
         },
         {
          "year_of_publication": 2015
         },
         {
          "year_of_publication": 2015
         },
         {
          "year_of_publication": 2015
         },
         {
          "year_of_publication": 2013
         },
         {
          "year_of_publication": 2016
         },
         {
          "year_of_publication": 2016
         },
         {
          "year_of_publication": 2012
         },
         {
          "year_of_publication": 2014
         },
         {
          "year_of_publication": 2013
         },
         {
          "year_of_publication": 2015
         },
         {
          "year_of_publication": 2016
         },
         {
          "year_of_publication": 2014
         },
         {
          "year_of_publication": 2014
         },
         {
          "year_of_publication": 2014
         },
         {
          "year_of_publication": 2013
         },
         {
          "year_of_publication": 2017
         },
         {
          "year_of_publication": 2015
         },
         {
          "year_of_publication": 2016
         },
         {
          "year_of_publication": 2016
         },
         {
          "year_of_publication": 2013
         },
         {
          "year_of_publication": 2016
         },
         {
          "year_of_publication": 2015
         },
         {
          "year_of_publication": 2015
         },
         {
          "year_of_publication": 2015
         },
         {
          "year_of_publication": 2012
         },
         {
          "year_of_publication": 2012
         },
         {
          "year_of_publication": 2013
         },
         {
          "year_of_publication": 2015
         },
         {
          "year_of_publication": 2014
         },
         {
          "year_of_publication": 2014
         },
         {
          "year_of_publication": 2016
         },
         {
          "year_of_publication": 2018
         },
         {
          "year_of_publication": 2016
         },
         {
          "year_of_publication": 2015
         },
         {
          "year_of_publication": 2013
         },
         {
          "year_of_publication": 2013
         },
         {
          "year_of_publication": 2016
         },
         {
          "year_of_publication": 2014
         },
         {
          "year_of_publication": 2015
         },
         {
          "year_of_publication": 2016
         },
         {
          "year_of_publication": 2015
         },
         {
          "year_of_publication": 2017
         },
         {
          "year_of_publication": 2012
         },
         {
          "year_of_publication": 2014
         },
         {
          "year_of_publication": 2015
         },
         {
          "year_of_publication": 2014
         },
         {
          "year_of_publication": 2012
         },
         {
          "year_of_publication": 2016
         },
         {
          "year_of_publication": 2015
         },
         {
          "year_of_publication": 2015
         },
         {
          "year_of_publication": 2014
         },
         {
          "year_of_publication": 2014
         },
         {
          "year_of_publication": 2014
         },
         {
          "year_of_publication": 2014
         },
         {
          "year_of_publication": 2016
         },
         {
          "year_of_publication": 2015
         },
         {
          "year_of_publication": 2012
         },
         {
          "year_of_publication": 2016
         },
         {
          "year_of_publication": 2013
         },
         {
          "year_of_publication": 2016
         },
         {
          "year_of_publication": 2015
         },
         {
          "year_of_publication": 2014
         },
         {
          "year_of_publication": 2015
         },
         {
          "year_of_publication": 2013
         },
         {
          "year_of_publication": 2013
         },
         {
          "year_of_publication": 2013
         },
         {
          "year_of_publication": 2016
         },
         {
          "year_of_publication": 2015
         },
         {
          "year_of_publication": 2014
         },
         {
          "year_of_publication": 2012
         },
         {
          "year_of_publication": 2015
         },
         {
          "year_of_publication": 2015
         },
         {
          "year_of_publication": 2014
         },
         {
          "year_of_publication": 2014
         },
         {
          "year_of_publication": 2014
         },
         {
          "year_of_publication": 2014
         },
         {
          "year_of_publication": 2017
         },
         {
          "year_of_publication": 2012
         },
         {
          "year_of_publication": 2017
         },
         {
          "year_of_publication": 2013
         },
         {
          "year_of_publication": 2015
         },
         {
          "year_of_publication": 2015
         },
         {
          "year_of_publication": 2015
         },
         {
          "year_of_publication": 2012
         },
         {
          "year_of_publication": 2014
         },
         {
          "year_of_publication": 2014
         },
         {
          "year_of_publication": 2013
         },
         {
          "year_of_publication": 2013
         },
         {
          "year_of_publication": 2014
         },
         {
          "year_of_publication": 2012
         },
         {
          "year_of_publication": 2014
         },
         {
          "year_of_publication": 2015
         },
         {
          "year_of_publication": 2014
         },
         {
          "year_of_publication": 2012
         },
         {
          "year_of_publication": 2016
         },
         {
          "year_of_publication": 2012
         },
         {
          "year_of_publication": 2017
         },
         {
          "year_of_publication": 2012
         },
         {
          "year_of_publication": 2012
         },
         {
          "year_of_publication": 2012
         },
         {
          "year_of_publication": 2013
         },
         {
          "year_of_publication": 2014
         },
         {
          "year_of_publication": 2015
         },
         {
          "year_of_publication": 2014
         },
         {
          "year_of_publication": 2017
         },
         {
          "year_of_publication": 2014
         },
         {
          "year_of_publication": 2015
         },
         {
          "year_of_publication": 2013
         },
         {
          "year_of_publication": 2015
         },
         {
          "year_of_publication": 2015
         },
         {
          "year_of_publication": 2015
         },
         {
          "year_of_publication": 2017
         },
         {
          "year_of_publication": 2016
         },
         {
          "year_of_publication": 2015
         },
         {
          "year_of_publication": 2014
         },
         {
          "year_of_publication": 2016
         },
         {
          "year_of_publication": 2015
         },
         {
          "year_of_publication": 2018
         },
         {
          "year_of_publication": 2012
         },
         {
          "year_of_publication": 2016
         },
         {
          "year_of_publication": 2015
         },
         {
          "year_of_publication": 2017
         },
         {
          "year_of_publication": 2016
         },
         {
          "year_of_publication": 2016
         },
         {
          "year_of_publication": 2012
         },
         {
          "year_of_publication": 2015
         },
         {
          "year_of_publication": 2015
         },
         {
          "year_of_publication": 2014
         },
         {
          "year_of_publication": 2016
         },
         {
          "year_of_publication": 2016
         },
         {
          "year_of_publication": 2015
         },
         {
          "year_of_publication": 2012
         },
         {
          "year_of_publication": 2015
         },
         {
          "year_of_publication": 2015
         },
         {
          "year_of_publication": 2016
         },
         {
          "year_of_publication": 2016
         },
         {
          "year_of_publication": 2014
         },
         {
          "year_of_publication": 2012
         },
         {
          "year_of_publication": 2014
         },
         {
          "year_of_publication": 2013
         },
         {
          "year_of_publication": 2016
         },
         {
          "year_of_publication": 2012
         },
         {
          "year_of_publication": 2013
         },
         {
          "year_of_publication": 2014
         },
         {
          "year_of_publication": 2017
         },
         {
          "year_of_publication": 2017
         },
         {
          "year_of_publication": 2014
         },
         {
          "year_of_publication": 2013
         },
         {
          "year_of_publication": 2014
         },
         {
          "year_of_publication": 2017
         },
         {
          "year_of_publication": 2016
         },
         {
          "year_of_publication": 2012
         },
         {
          "year_of_publication": 2015
         },
         {
          "year_of_publication": 2015
         },
         {
          "year_of_publication": 2015
         },
         {
          "year_of_publication": 2013
         },
         {
          "year_of_publication": 2018
         },
         {
          "year_of_publication": 2013
         },
         {
          "year_of_publication": 2014
         },
         {
          "year_of_publication": 2012
         },
         {
          "year_of_publication": 2013
         },
         {
          "year_of_publication": 2014
         },
         {
          "year_of_publication": 2017
         },
         {
          "year_of_publication": 2016
         },
         {
          "year_of_publication": 2018
         },
         {
          "year_of_publication": 2018
         },
         {
          "year_of_publication": 2015
         },
         {
          "year_of_publication": 2016
         },
         {
          "year_of_publication": 2015
         },
         {
          "year_of_publication": 2015
         },
         {
          "year_of_publication": 2014
         },
         {
          "year_of_publication": 2014
         },
         {
          "year_of_publication": 2015
         },
         {
          "year_of_publication": 2015
         },
         {
          "year_of_publication": 2016
         },
         {
          "year_of_publication": 2014
         },
         {
          "year_of_publication": 2013
         },
         {
          "year_of_publication": 2016
         },
         {
          "year_of_publication": 2015
         },
         {
          "year_of_publication": 2012
         },
         {
          "year_of_publication": 2015
         },
         {
          "year_of_publication": 2015
         },
         {
          "year_of_publication": 2014
         },
         {
          "year_of_publication": 2013
         },
         {
          "year_of_publication": 2014
         },
         {
          "year_of_publication": 2015
         },
         {
          "year_of_publication": 2014
         },
         {
          "year_of_publication": 2014
         },
         {
          "year_of_publication": 2015
         },
         {
          "year_of_publication": 2012
         },
         {
          "year_of_publication": 2015
         },
         {
          "year_of_publication": 2015
         },
         {
          "year_of_publication": 2016
         },
         {
          "year_of_publication": 2017
         },
         {
          "year_of_publication": 2015
         },
         {
          "year_of_publication": 2016
         },
         {
          "year_of_publication": 2015
         },
         {
          "year_of_publication": 2015
         },
         {
          "year_of_publication": 2015
         },
         {
          "year_of_publication": 2013
         },
         {
          "year_of_publication": 2015
         },
         {
          "year_of_publication": 2014
         },
         {
          "year_of_publication": 2016
         },
         {
          "year_of_publication": 2015
         },
         {
          "year_of_publication": 2013
         },
         {
          "year_of_publication": 2015
         },
         {
          "year_of_publication": 2015
         },
         {
          "year_of_publication": 2017
         },
         {
          "year_of_publication": 2014
         },
         {
          "year_of_publication": 2016
         },
         {
          "year_of_publication": 2013
         },
         {
          "year_of_publication": 2012
         },
         {
          "year_of_publication": 2015
         },
         {
          "year_of_publication": 2014
         },
         {
          "year_of_publication": 2014
         },
         {
          "year_of_publication": 2014
         },
         {
          "year_of_publication": 2016
         },
         {
          "year_of_publication": 2013
         },
         {
          "year_of_publication": 2014
         },
         {
          "year_of_publication": 2015
         },
         {
          "year_of_publication": 2012
         },
         {
          "year_of_publication": 2012
         },
         {
          "year_of_publication": 2013
         },
         {
          "year_of_publication": 2015
         },
         {
          "year_of_publication": 2012
         },
         {
          "year_of_publication": 2014
         },
         {
          "year_of_publication": 2014
         },
         {
          "year_of_publication": 2015
         },
         {
          "year_of_publication": 2015
         },
         {
          "year_of_publication": 2014
         },
         {
          "year_of_publication": 2015
         },
         {
          "year_of_publication": 2014
         },
         {
          "year_of_publication": 2012
         },
         {
          "year_of_publication": 2015
         },
         {
          "year_of_publication": 2012
         },
         {
          "year_of_publication": 2017
         },
         {
          "year_of_publication": 2015
         },
         {
          "year_of_publication": 2015
         },
         {
          "year_of_publication": 2015
         },
         {
          "year_of_publication": 2017
         },
         {
          "year_of_publication": 2014
         },
         {
          "year_of_publication": 2015
         },
         {
          "year_of_publication": 2018
         },
         {
          "year_of_publication": 2016
         },
         {
          "year_of_publication": 2015
         },
         {
          "year_of_publication": 2018
         },
         {
          "year_of_publication": 2013
         },
         {
          "year_of_publication": 2013
         },
         {
          "year_of_publication": 2020
         },
         {
          "year_of_publication": 2015
         },
         {
          "year_of_publication": 2014
         },
         {
          "year_of_publication": 2013
         },
         {
          "year_of_publication": 2014
         },
         {
          "year_of_publication": 2013
         },
         {
          "year_of_publication": 2014
         },
         {
          "year_of_publication": 2016
         },
         {
          "year_of_publication": 2013
         },
         {
          "year_of_publication": 2015
         },
         {
          "year_of_publication": 2016
         },
         {
          "year_of_publication": 2013
         },
         {
          "year_of_publication": 2012
         },
         {
          "year_of_publication": 2018
         },
         {
          "year_of_publication": 2015
         },
         {
          "year_of_publication": 2016
         },
         {
          "year_of_publication": 2015
         },
         {
          "year_of_publication": 2013
         },
         {
          "year_of_publication": 2013
         },
         {
          "year_of_publication": 2015
         },
         {
          "year_of_publication": 2013
         },
         {
          "year_of_publication": 2018
         },
         {
          "year_of_publication": 2015
         },
         {
          "year_of_publication": 2020
         },
         {
          "year_of_publication": 2014
         },
         {
          "year_of_publication": 2012
         },
         {
          "year_of_publication": 2012
         },
         {
          "year_of_publication": 2013
         },
         {
          "year_of_publication": 2017
         },
         {
          "year_of_publication": 2012
         },
         {
          "year_of_publication": 2012
         },
         {
          "year_of_publication": 2012
         },
         {
          "year_of_publication": 2014
         },
         {
          "year_of_publication": 2012
         },
         {
          "year_of_publication": 2013
         },
         {
          "year_of_publication": 2014
         },
         {
          "year_of_publication": 2014
         },
         {
          "year_of_publication": 2014
         },
         {
          "year_of_publication": 2014
         },
         {
          "year_of_publication": 2015
         },
         {
          "year_of_publication": 2014
         },
         {
          "year_of_publication": 2015
         },
         {
          "year_of_publication": 2017
         },
         {
          "year_of_publication": 2014
         },
         {
          "year_of_publication": 2014
         },
         {
          "year_of_publication": 2015
         },
         {
          "year_of_publication": 2016
         },
         {
          "year_of_publication": 2015
         },
         {
          "year_of_publication": 2014
         },
         {
          "year_of_publication": 2017
         },
         {
          "year_of_publication": 2015
         },
         {
          "year_of_publication": 2013
         },
         {
          "year_of_publication": 2015
         },
         {
          "year_of_publication": 2014
         },
         {
          "year_of_publication": 2015
         },
         {
          "year_of_publication": 2015
         },
         {
          "year_of_publication": 2016
         },
         {
          "year_of_publication": 2015
         },
         {
          "year_of_publication": 2014
         },
         {
          "year_of_publication": 2015
         },
         {
          "year_of_publication": 2016
         },
         {
          "year_of_publication": 2016
         },
         {
          "year_of_publication": 2014
         },
         {
          "year_of_publication": 2014
         },
         {
          "year_of_publication": 2014
         },
         {
          "year_of_publication": 2013
         },
         {
          "year_of_publication": 2015
         },
         {
          "year_of_publication": 2014
         },
         {
          "year_of_publication": 2012
         },
         {
          "year_of_publication": 2013
         },
         {
          "year_of_publication": 2015
         },
         {
          "year_of_publication": 2016
         },
         {
          "year_of_publication": 2012
         },
         {
          "year_of_publication": 2017
         },
         {
          "year_of_publication": 2014
         },
         {
          "year_of_publication": 2012
         },
         {
          "year_of_publication": 2014
         },
         {
          "year_of_publication": 2013
         },
         {
          "year_of_publication": 2015
         },
         {
          "year_of_publication": 2016
         },
         {
          "year_of_publication": 2012
         },
         {
          "year_of_publication": 2016
         },
         {
          "year_of_publication": 2012
         },
         {
          "year_of_publication": 2020
         },
         {
          "year_of_publication": 2014
         },
         {
          "year_of_publication": 2014
         },
         {
          "year_of_publication": 2015
         },
         {
          "year_of_publication": 2014
         },
         {
          "year_of_publication": 2014
         },
         {
          "year_of_publication": 2017
         },
         {
          "year_of_publication": 2013
         },
         {
          "year_of_publication": 2012
         },
         {
          "year_of_publication": 2014
         },
         {
          "year_of_publication": 2013
         },
         {
          "year_of_publication": 2013
         },
         {
          "year_of_publication": 2014
         },
         {
          "year_of_publication": 2016
         },
         {
          "year_of_publication": 2020
         },
         {
          "year_of_publication": 2014
         },
         {
          "year_of_publication": 2012
         },
         {
          "year_of_publication": 2014
         },
         {
          "year_of_publication": 2014
         },
         {
          "year_of_publication": 2014
         },
         {
          "year_of_publication": 2013
         },
         {
          "year_of_publication": 2017
         },
         {
          "year_of_publication": 2016
         },
         {
          "year_of_publication": 2013
         },
         {
          "year_of_publication": 2016
         },
         {
          "year_of_publication": 2013
         },
         {
          "year_of_publication": 2014
         },
         {
          "year_of_publication": 2015
         },
         {
          "year_of_publication": 2014
         },
         {
          "year_of_publication": 2015
         },
         {
          "year_of_publication": 2015
         },
         {
          "year_of_publication": 2018
         },
         {
          "year_of_publication": 2015
         },
         {
          "year_of_publication": 2016
         },
         {
          "year_of_publication": 2015
         },
         {
          "year_of_publication": 2012
         },
         {
          "year_of_publication": 2012
         },
         {
          "year_of_publication": 2013
         },
         {
          "year_of_publication": 2015
         },
         {
          "year_of_publication": 2014
         },
         {
          "year_of_publication": 2012
         },
         {
          "year_of_publication": 2016
         },
         {
          "year_of_publication": 2012
         },
         {
          "year_of_publication": 2015
         },
         {
          "year_of_publication": 2016
         },
         {
          "year_of_publication": 2017
         },
         {
          "year_of_publication": 2016
         },
         {
          "year_of_publication": 2015
         },
         {
          "year_of_publication": 2018
         },
         {
          "year_of_publication": 2013
         },
         {
          "year_of_publication": 2016
         },
         {
          "year_of_publication": 2013
         },
         {
          "year_of_publication": 2014
         },
         {
          "year_of_publication": 2012
         },
         {
          "year_of_publication": 2015
         },
         {
          "year_of_publication": 2016
         },
         {
          "year_of_publication": 2013
         },
         {
          "year_of_publication": 2012
         },
         {
          "year_of_publication": 2014
         },
         {
          "year_of_publication": 2015
         },
         {
          "year_of_publication": 2014
         },
         {
          "year_of_publication": 2018
         },
         {
          "year_of_publication": 2016
         },
         {
          "year_of_publication": 2016
         },
         {
          "year_of_publication": 2014
         },
         {
          "year_of_publication": 2015
         },
         {
          "year_of_publication": 2012
         },
         {
          "year_of_publication": 2015
         },
         {
          "year_of_publication": 2012
         },
         {
          "year_of_publication": 2013
         },
         {
          "year_of_publication": 2012
         },
         {
          "year_of_publication": 2016
         },
         {
          "year_of_publication": 2013
         },
         {
          "year_of_publication": 2015
         },
         {
          "year_of_publication": 2014
         },
         {
          "year_of_publication": 2014
         },
         {
          "year_of_publication": 2022
         },
         {
          "year_of_publication": 2015
         },
         {
          "year_of_publication": 2012
         },
         {
          "year_of_publication": 2015
         },
         {
          "year_of_publication": 2014
         },
         {
          "year_of_publication": 2013
         },
         {
          "year_of_publication": 2013
         },
         {
          "year_of_publication": 2016
         },
         {
          "year_of_publication": 2015
         },
         {
          "year_of_publication": 2015
         },
         {
          "year_of_publication": 2015
         },
         {
          "year_of_publication": 2014
         },
         {
          "year_of_publication": 2016
         },
         {
          "year_of_publication": 2014
         },
         {
          "year_of_publication": 2016
         },
         {
          "year_of_publication": 2015
         },
         {
          "year_of_publication": 2013
         },
         {
          "year_of_publication": 2012
         },
         {
          "year_of_publication": 2012
         },
         {
          "year_of_publication": 2014
         },
         {
          "year_of_publication": 2015
         },
         {
          "year_of_publication": 2015
         },
         {
          "year_of_publication": 2016
         },
         {
          "year_of_publication": 2014
         },
         {
          "year_of_publication": 2016
         },
         {
          "year_of_publication": 2016
         },
         {
          "year_of_publication": 2015
         },
         {
          "year_of_publication": 2014
         },
         {
          "year_of_publication": 2015
         },
         {
          "year_of_publication": 2016
         },
         {
          "year_of_publication": 2016
         },
         {
          "year_of_publication": 2012
         },
         {
          "year_of_publication": 2014
         },
         {
          "year_of_publication": 2014
         },
         {
          "year_of_publication": 2015
         },
         {
          "year_of_publication": 2015
         },
         {
          "year_of_publication": 2014
         },
         {
          "year_of_publication": 2014
         },
         {
          "year_of_publication": 2017
         },
         {
          "year_of_publication": 2015
         },
         {
          "year_of_publication": 2014
         },
         {
          "year_of_publication": 2016
         },
         {
          "year_of_publication": 2013
         },
         {
          "year_of_publication": 2017
         },
         {
          "year_of_publication": 2015
         },
         {
          "year_of_publication": 2012
         },
         {
          "year_of_publication": 2015
         },
         {
          "year_of_publication": 2015
         },
         {
          "year_of_publication": 2015
         },
         {
          "year_of_publication": 2013
         },
         {
          "year_of_publication": 2015
         },
         {
          "year_of_publication": 2015
         },
         {
          "year_of_publication": 2015
         },
         {
          "year_of_publication": 2013
         },
         {
          "year_of_publication": 2016
         },
         {
          "year_of_publication": 2012
         },
         {
          "year_of_publication": 2012
         },
         {
          "year_of_publication": 2014
         },
         {
          "year_of_publication": 2016
         },
         {
          "year_of_publication": 2015
         },
         {
          "year_of_publication": 2014
         },
         {
          "year_of_publication": 2012
         },
         {
          "year_of_publication": 2018
         },
         {
          "year_of_publication": 2018
         },
         {
          "year_of_publication": 2012
         },
         {
          "year_of_publication": 2014
         },
         {
          "year_of_publication": 2013
         },
         {
          "year_of_publication": 2016
         },
         {
          "year_of_publication": 2012
         },
         {
          "year_of_publication": 2017
         },
         {
          "year_of_publication": 2017
         },
         {
          "year_of_publication": 2015
         },
         {
          "year_of_publication": 2016
         },
         {
          "year_of_publication": 2015
         },
         {
          "year_of_publication": 2014
         },
         {
          "year_of_publication": 2013
         },
         {
          "year_of_publication": 2013
         },
         {
          "year_of_publication": 2016
         },
         {
          "year_of_publication": 2013
         },
         {
          "year_of_publication": 2016
         },
         {
          "year_of_publication": 2013
         },
         {
          "year_of_publication": 2017
         },
         {
          "year_of_publication": 2017
         },
         {
          "year_of_publication": 2015
         },
         {
          "year_of_publication": 2012
         },
         {
          "year_of_publication": 2014
         },
         {
          "year_of_publication": 2013
         },
         {
          "year_of_publication": 2013
         },
         {
          "year_of_publication": 2016
         },
         {
          "year_of_publication": 2015
         },
         {
          "year_of_publication": 2015
         },
         {
          "year_of_publication": 2015
         },
         {
          "year_of_publication": 2015
         },
         {
          "year_of_publication": 2012
         },
         {
          "year_of_publication": 2014
         },
         {
          "year_of_publication": 2014
         },
         {
          "year_of_publication": 2015
         },
         {
          "year_of_publication": 2015
         },
         {
          "year_of_publication": 2014
         },
         {
          "year_of_publication": 2015
         },
         {
          "year_of_publication": 2012
         },
         {
          "year_of_publication": 2013
         },
         {
          "year_of_publication": 2013
         },
         {
          "year_of_publication": 2016
         },
         {
          "year_of_publication": 2013
         },
         {
          "year_of_publication": 2014
         },
         {
          "year_of_publication": 2017
         },
         {
          "year_of_publication": 2013
         },
         {
          "year_of_publication": 2020
         },
         {
          "year_of_publication": 2014
         },
         {
          "year_of_publication": 2015
         },
         {
          "year_of_publication": 2016
         },
         {
          "year_of_publication": 2017
         },
         {
          "year_of_publication": 2012
         },
         {
          "year_of_publication": 2017
         },
         {
          "year_of_publication": 2016
         },
         {
          "year_of_publication": 2016
         },
         {
          "year_of_publication": 2013
         },
         {
          "year_of_publication": 2016
         },
         {
          "year_of_publication": 2013
         },
         {
          "year_of_publication": 2015
         },
         {
          "year_of_publication": 2017
         },
         {
          "year_of_publication": 2012
         },
         {
          "year_of_publication": 2013
         },
         {
          "year_of_publication": 2015
         },
         {
          "year_of_publication": 2015
         },
         {
          "year_of_publication": 2012
         },
         {
          "year_of_publication": 2016
         },
         {
          "year_of_publication": 2014
         },
         {
          "year_of_publication": 2015
         },
         {
          "year_of_publication": 2013
         },
         {
          "year_of_publication": 2013
         },
         {
          "year_of_publication": 2014
         },
         {
          "year_of_publication": 2014
         },
         {
          "year_of_publication": 2012
         },
         {
          "year_of_publication": 2013
         },
         {
          "year_of_publication": 2012
         },
         {
          "year_of_publication": 2014
         },
         {
          "year_of_publication": 2016
         },
         {
          "year_of_publication": 2016
         },
         {
          "year_of_publication": 2016
         },
         {
          "year_of_publication": 2012
         },
         {
          "year_of_publication": 2014
         },
         {
          "year_of_publication": 2014
         },
         {
          "year_of_publication": 2014
         },
         {
          "year_of_publication": 2014
         },
         {
          "year_of_publication": 2017
         },
         {
          "year_of_publication": 2015
         },
         {
          "year_of_publication": 2013
         },
         {
          "year_of_publication": 2015
         },
         {
          "year_of_publication": 2013
         },
         {
          "year_of_publication": 2015
         },
         {
          "year_of_publication": 2014
         },
         {
          "year_of_publication": 2012
         },
         {
          "year_of_publication": 2016
         },
         {
          "year_of_publication": 2014
         },
         {
          "year_of_publication": 2013
         },
         {
          "year_of_publication": 2012
         },
         {
          "year_of_publication": 2014
         },
         {
          "year_of_publication": 2015
         },
         {
          "year_of_publication": 2013
         },
         {
          "year_of_publication": 2015
         },
         {
          "year_of_publication": 2015
         },
         {
          "year_of_publication": 2013
         },
         {
          "year_of_publication": 2017
         },
         {
          "year_of_publication": 2016
         },
         {
          "year_of_publication": 2014
         },
         {
          "year_of_publication": 2015
         },
         {
          "year_of_publication": 2015
         },
         {
          "year_of_publication": 2013
         },
         {
          "year_of_publication": 2015
         },
         {
          "year_of_publication": 2014
         },
         {
          "year_of_publication": 2014
         },
         {
          "year_of_publication": 2015
         },
         {
          "year_of_publication": 2013
         },
         {
          "year_of_publication": 2013
         },
         {
          "year_of_publication": 2018
         },
         {
          "year_of_publication": 2012
         },
         {
          "year_of_publication": 2013
         },
         {
          "year_of_publication": 2017
         },
         {
          "year_of_publication": 2013
         },
         {
          "year_of_publication": 2016
         },
         {
          "year_of_publication": 2015
         },
         {
          "year_of_publication": 2013
         },
         {
          "year_of_publication": 2012
         },
         {
          "year_of_publication": 2013
         },
         {
          "year_of_publication": 2013
         },
         {
          "year_of_publication": 2014
         },
         {
          "year_of_publication": 2013
         },
         {
          "year_of_publication": 2015
         },
         {
          "year_of_publication": 2016
         },
         {
          "year_of_publication": 2013
         },
         {
          "year_of_publication": 2014
         },
         {
          "year_of_publication": 2016
         },
         {
          "year_of_publication": 2015
         },
         {
          "year_of_publication": 2017
         },
         {
          "year_of_publication": 2014
         },
         {
          "year_of_publication": 2016
         },
         {
          "year_of_publication": 2015
         },
         {
          "year_of_publication": 2016
         },
         {
          "year_of_publication": 2014
         },
         {
          "year_of_publication": 2012
         },
         {
          "year_of_publication": 2014
         },
         {
          "year_of_publication": 2015
         },
         {
          "year_of_publication": 2017
         },
         {
          "year_of_publication": 2014
         },
         {
          "year_of_publication": 2016
         },
         {
          "year_of_publication": 2016
         },
         {
          "year_of_publication": 2016
         },
         {
          "year_of_publication": 2013
         },
         {
          "year_of_publication": 2017
         },
         {
          "year_of_publication": 2015
         },
         {
          "year_of_publication": 2014
         },
         {
          "year_of_publication": 2016
         },
         {
          "year_of_publication": 2014
         },
         {
          "year_of_publication": 2013
         },
         {
          "year_of_publication": 2015
         },
         {
          "year_of_publication": 2014
         },
         {
          "year_of_publication": 2014
         },
         {
          "year_of_publication": 2014
         },
         {
          "year_of_publication": 2017
         },
         {
          "year_of_publication": 2015
         },
         {
          "year_of_publication": 2013
         },
         {
          "year_of_publication": 2015
         },
         {
          "year_of_publication": 2015
         },
         {
          "year_of_publication": 2014
         },
         {
          "year_of_publication": 2017
         },
         {
          "year_of_publication": 2014
         },
         {
          "year_of_publication": 2014
         },
         {
          "year_of_publication": 2015
         },
         {
          "year_of_publication": 2015
         },
         {
          "year_of_publication": 2014
         },
         {
          "year_of_publication": 2013
         },
         {
          "year_of_publication": 2015
         },
         {
          "year_of_publication": 2012
         },
         {
          "year_of_publication": 2016
         },
         {
          "year_of_publication": 2014
         },
         {
          "year_of_publication": 2016
         },
         {
          "year_of_publication": 2016
         },
         {
          "year_of_publication": 2014
         },
         {
          "year_of_publication": 2015
         },
         {
          "year_of_publication": 2022
         },
         {
          "year_of_publication": 2013
         },
         {
          "year_of_publication": 2013
         },
         {
          "year_of_publication": 2014
         },
         {
          "year_of_publication": 2014
         },
         {
          "year_of_publication": 2017
         },
         {
          "year_of_publication": 2012
         },
         {
          "year_of_publication": 2012
         },
         {
          "year_of_publication": 2015
         },
         {
          "year_of_publication": 2013
         },
         {
          "year_of_publication": 2016
         },
         {
          "year_of_publication": 2014
         },
         {
          "year_of_publication": 2015
         },
         {
          "year_of_publication": 2012
         },
         {
          "year_of_publication": 2015
         },
         {
          "year_of_publication": 2016
         },
         {
          "year_of_publication": 2015
         },
         {
          "year_of_publication": 2014
         },
         {
          "year_of_publication": 2015
         },
         {
          "year_of_publication": 2016
         },
         {
          "year_of_publication": 2016
         },
         {
          "year_of_publication": 2015
         },
         {
          "year_of_publication": 2013
         },
         {
          "year_of_publication": 2017
         },
         {
          "year_of_publication": 2015
         },
         {
          "year_of_publication": 2015
         },
         {
          "year_of_publication": 2015
         },
         {
          "year_of_publication": 2013
         },
         {
          "year_of_publication": 2015
         },
         {
          "year_of_publication": 2016
         },
         {
          "year_of_publication": 2016
         },
         {
          "year_of_publication": 2012
         },
         {
          "year_of_publication": 2015
         },
         {
          "year_of_publication": 2012
         },
         {
          "year_of_publication": 2014
         },
         {
          "year_of_publication": 2012
         },
         {
          "year_of_publication": 2017
         },
         {
          "year_of_publication": 2014
         },
         {
          "year_of_publication": 2014
         },
         {
          "year_of_publication": 2013
         },
         {
          "year_of_publication": 2014
         },
         {
          "year_of_publication": 2017
         },
         {
          "year_of_publication": 2014
         },
         {
          "year_of_publication": 2014
         },
         {
          "year_of_publication": 2014
         },
         {
          "year_of_publication": 2012
         },
         {
          "year_of_publication": 2014
         },
         {
          "year_of_publication": 2017
         },
         {
          "year_of_publication": 2014
         },
         {
          "year_of_publication": 2016
         },
         {
          "year_of_publication": 2012
         },
         {
          "year_of_publication": 2012
         },
         {
          "year_of_publication": 2017
         },
         {
          "year_of_publication": 2016
         },
         {
          "year_of_publication": 2016
         },
         {
          "year_of_publication": 2016
         },
         {
          "year_of_publication": 2015
         },
         {
          "year_of_publication": 2017
         },
         {
          "year_of_publication": 2016
         },
         {
          "year_of_publication": 2015
         },
         {
          "year_of_publication": 2015
         },
         {
          "year_of_publication": 2017
         },
         {
          "year_of_publication": 2016
         },
         {
          "year_of_publication": 2016
         },
         {
          "year_of_publication": 2012
         },
         {
          "year_of_publication": 2015
         },
         {
          "year_of_publication": 2012
         },
         {
          "year_of_publication": 2014
         },
         {
          "year_of_publication": 2012
         },
         {
          "year_of_publication": 2015
         },
         {
          "year_of_publication": 2012
         },
         {
          "year_of_publication": 2014
         },
         {
          "year_of_publication": 2014
         },
         {
          "year_of_publication": 2015
         },
         {
          "year_of_publication": 2014
         },
         {
          "year_of_publication": 2014
         },
         {
          "year_of_publication": 2016
         },
         {
          "year_of_publication": 2015
         },
         {
          "year_of_publication": 2015
         },
         {
          "year_of_publication": 2014
         },
         {
          "year_of_publication": 2014
         },
         {
          "year_of_publication": 2012
         },
         {
          "year_of_publication": 2014
         },
         {
          "year_of_publication": 2014
         },
         {
          "year_of_publication": 2015
         },
         {
          "year_of_publication": 2012
         },
         {
          "year_of_publication": 2013
         },
         {
          "year_of_publication": 2013
         },
         {
          "year_of_publication": 2013
         },
         {
          "year_of_publication": 2013
         },
         {
          "year_of_publication": 2013
         },
         {
          "year_of_publication": 2017
         },
         {
          "year_of_publication": 2013
         },
         {
          "year_of_publication": 2014
         },
         {
          "year_of_publication": 2013
         },
         {
          "year_of_publication": 2014
         },
         {
          "year_of_publication": 2014
         },
         {
          "year_of_publication": 2014
         },
         {
          "year_of_publication": 2012
         },
         {
          "year_of_publication": 2015
         },
         {
          "year_of_publication": 2013
         },
         {
          "year_of_publication": 2021
         },
         {
          "year_of_publication": 2014
         },
         {
          "year_of_publication": 2016
         },
         {
          "year_of_publication": 2012
         },
         {
          "year_of_publication": 2015
         },
         {
          "year_of_publication": 2015
         },
         {
          "year_of_publication": 2015
         },
         {
          "year_of_publication": 2013
         },
         {
          "year_of_publication": 2015
         },
         {
          "year_of_publication": 2013
         },
         {
          "year_of_publication": 2015
         },
         {
          "year_of_publication": 2015
         },
         {
          "year_of_publication": 2012
         },
         {
          "year_of_publication": 2012
         },
         {
          "year_of_publication": 2013
         },
         {
          "year_of_publication": 2016
         },
         {
          "year_of_publication": 2015
         },
         {
          "year_of_publication": 2020
         },
         {
          "year_of_publication": 2013
         },
         {
          "year_of_publication": 2015
         },
         {
          "year_of_publication": 2014
         },
         {
          "year_of_publication": 2016
         },
         {
          "year_of_publication": 2016
         },
         {
          "year_of_publication": 2015
         },
         {
          "year_of_publication": 2013
         },
         {
          "year_of_publication": 2014
         },
         {
          "year_of_publication": 2012
         },
         {
          "year_of_publication": 2016
         },
         {
          "year_of_publication": 2015
         },
         {
          "year_of_publication": 2014
         },
         {
          "year_of_publication": 2012
         },
         {
          "year_of_publication": 2016
         },
         {
          "year_of_publication": 2015
         },
         {
          "year_of_publication": 2013
         },
         {
          "year_of_publication": 2016
         },
         {
          "year_of_publication": 2017
         },
         {
          "year_of_publication": 2015
         },
         {
          "year_of_publication": 2014
         },
         {
          "year_of_publication": 2016
         },
         {
          "year_of_publication": 2014
         },
         {
          "year_of_publication": 2016
         },
         {
          "year_of_publication": 2014
         },
         {
          "year_of_publication": 2015
         },
         {
          "year_of_publication": 2013
         },
         {
          "year_of_publication": 2017
         },
         {
          "year_of_publication": 2015
         },
         {
          "year_of_publication": 2013
         },
         {
          "year_of_publication": 2015
         },
         {
          "year_of_publication": 2016
         },
         {
          "year_of_publication": 2013
         },
         {
          "year_of_publication": 2016
         },
         {
          "year_of_publication": 2012
         },
         {
          "year_of_publication": 2014
         },
         {
          "year_of_publication": 2015
         },
         {
          "year_of_publication": 2014
         },
         {
          "year_of_publication": 2014
         },
         {
          "year_of_publication": 2015
         },
         {
          "year_of_publication": 2013
         },
         {
          "year_of_publication": 2014
         },
         {
          "year_of_publication": 2016
         },
         {
          "year_of_publication": 2013
         },
         {
          "year_of_publication": 2013
         },
         {
          "year_of_publication": 2015
         },
         {
          "year_of_publication": 2014
         },
         {
          "year_of_publication": 2016
         },
         {
          "year_of_publication": 2014
         },
         {
          "year_of_publication": 2017
         },
         {
          "year_of_publication": 2018
         },
         {
          "year_of_publication": 2014
         },
         {
          "year_of_publication": 2015
         },
         {
          "year_of_publication": 2017
         },
         {
          "year_of_publication": 2012
         },
         {
          "year_of_publication": 2015
         },
         {
          "year_of_publication": 2012
         },
         {
          "year_of_publication": 2015
         },
         {
          "year_of_publication": 2017
         },
         {
          "year_of_publication": 2016
         },
         {
          "year_of_publication": 2014
         },
         {
          "year_of_publication": 2015
         },
         {
          "year_of_publication": 2015
         },
         {
          "year_of_publication": 2017
         },
         {
          "year_of_publication": 2014
         },
         {
          "year_of_publication": 2017
         },
         {
          "year_of_publication": 2014
         },
         {
          "year_of_publication": 2016
         },
         {
          "year_of_publication": 2012
         },
         {
          "year_of_publication": 2015
         },
         {
          "year_of_publication": 2012
         },
         {
          "year_of_publication": 2013
         },
         {
          "year_of_publication": 2014
         },
         {
          "year_of_publication": 2016
         },
         {
          "year_of_publication": 2016
         },
         {
          "year_of_publication": 2016
         },
         {
          "year_of_publication": 2013
         },
         {
          "year_of_publication": 2016
         },
         {
          "year_of_publication": 2013
         },
         {
          "year_of_publication": 2014
         },
         {
          "year_of_publication": 2017
         },
         {
          "year_of_publication": 2012
         },
         {
          "year_of_publication": 2014
         },
         {
          "year_of_publication": 2016
         },
         {
          "year_of_publication": 2013
         },
         {
          "year_of_publication": 2016
         },
         {
          "year_of_publication": 2012
         },
         {
          "year_of_publication": 2014
         },
         {
          "year_of_publication": 2016
         },
         {
          "year_of_publication": 2013
         },
         {
          "year_of_publication": 2014
         },
         {
          "year_of_publication": 2014
         },
         {
          "year_of_publication": 2013
         },
         {
          "year_of_publication": 2013
         },
         {
          "year_of_publication": 2016
         },
         {
          "year_of_publication": 2014
         },
         {
          "year_of_publication": 2016
         },
         {
          "year_of_publication": 2014
         },
         {
          "year_of_publication": 2015
         },
         {
          "year_of_publication": 2013
         },
         {
          "year_of_publication": 2015
         },
         {
          "year_of_publication": 2014
         },
         {
          "year_of_publication": 2017
         },
         {
          "year_of_publication": 2012
         },
         {
          "year_of_publication": 2015
         },
         {
          "year_of_publication": 2014
         },
         {
          "year_of_publication": 2017
         },
         {
          "year_of_publication": 2014
         },
         {
          "year_of_publication": 2016
         },
         {
          "year_of_publication": 2015
         },
         {
          "year_of_publication": 2014
         },
         {
          "year_of_publication": 2016
         },
         {
          "year_of_publication": 2016
         },
         {
          "year_of_publication": 2014
         },
         {
          "year_of_publication": 2015
         },
         {
          "year_of_publication": 2013
         },
         {
          "year_of_publication": 2014
         },
         {
          "year_of_publication": 2015
         },
         {
          "year_of_publication": 2014
         },
         {
          "year_of_publication": 2012
         },
         {
          "year_of_publication": 2016
         },
         {
          "year_of_publication": 2015
         },
         {
          "year_of_publication": 2015
         },
         {
          "year_of_publication": 2015
         },
         {
          "year_of_publication": 2014
         },
         {
          "year_of_publication": 2012
         },
         {
          "year_of_publication": 2016
         },
         {
          "year_of_publication": 2014
         },
         {
          "year_of_publication": 2014
         },
         {
          "year_of_publication": 2015
         },
         {
          "year_of_publication": 2015
         },
         {
          "year_of_publication": 2014
         },
         {
          "year_of_publication": 2016
         },
         {
          "year_of_publication": 2013
         },
         {
          "year_of_publication": 2013
         },
         {
          "year_of_publication": 2013
         },
         {
          "year_of_publication": 2015
         },
         {
          "year_of_publication": 2012
         },
         {
          "year_of_publication": 2017
         },
         {
          "year_of_publication": 2016
         },
         {
          "year_of_publication": 2013
         },
         {
          "year_of_publication": 2012
         },
         {
          "year_of_publication": 2012
         },
         {
          "year_of_publication": 2014
         },
         {
          "year_of_publication": 2014
         },
         {
          "year_of_publication": 2015
         },
         {
          "year_of_publication": 2016
         },
         {
          "year_of_publication": 2014
         },
         {
          "year_of_publication": 2016
         },
         {
          "year_of_publication": 2012
         },
         {
          "year_of_publication": 2016
         },
         {
          "year_of_publication": 2015
         },
         {
          "year_of_publication": 2013
         },
         {
          "year_of_publication": 2015
         },
         {
          "year_of_publication": 2015
         },
         {
          "year_of_publication": 2016
         },
         {
          "year_of_publication": 2016
         },
         {
          "year_of_publication": 2015
         },
         {
          "year_of_publication": 2014
         },
         {
          "year_of_publication": 2013
         },
         {
          "year_of_publication": 2015
         },
         {
          "year_of_publication": 2014
         },
         {
          "year_of_publication": 2014
         },
         {
          "year_of_publication": 2016
         },
         {
          "year_of_publication": 2012
         },
         {
          "year_of_publication": 2016
         },
         {
          "year_of_publication": 2016
         },
         {
          "year_of_publication": 2015
         },
         {
          "year_of_publication": 2016
         },
         {
          "year_of_publication": 2015
         },
         {
          "year_of_publication": 2012
         },
         {
          "year_of_publication": 2015
         },
         {
          "year_of_publication": 2014
         },
         {
          "year_of_publication": 2014
         },
         {
          "year_of_publication": 2016
         },
         {
          "year_of_publication": 2014
         },
         {
          "year_of_publication": 2015
         },
         {
          "year_of_publication": 2015
         },
         {
          "year_of_publication": 2016
         },
         {
          "year_of_publication": 2017
         },
         {
          "year_of_publication": 2014
         },
         {
          "year_of_publication": 2017
         },
         {
          "year_of_publication": 2012
         },
         {
          "year_of_publication": 2015
         },
         {
          "year_of_publication": 2012
         },
         {
          "year_of_publication": 2015
         },
         {
          "year_of_publication": 2016
         },
         {
          "year_of_publication": 2015
         },
         {
          "year_of_publication": 2013
         },
         {
          "year_of_publication": 2014
         },
         {
          "year_of_publication": 2012
         },
         {
          "year_of_publication": 2014
         },
         {
          "year_of_publication": 2017
         },
         {
          "year_of_publication": 2014
         },
         {
          "year_of_publication": 2014
         },
         {
          "year_of_publication": 2015
         },
         {
          "year_of_publication": 2014
         },
         {
          "year_of_publication": 2014
         },
         {
          "year_of_publication": 2016
         },
         {
          "year_of_publication": 2015
         },
         {
          "year_of_publication": 2014
         },
         {
          "year_of_publication": 2012
         },
         {
          "year_of_publication": 2014
         },
         {
          "year_of_publication": 2016
         },
         {
          "year_of_publication": 2012
         },
         {
          "year_of_publication": 2015
         },
         {
          "year_of_publication": 2016
         },
         {
          "year_of_publication": 2020
         },
         {
          "year_of_publication": 2015
         },
         {
          "year_of_publication": 2014
         },
         {
          "year_of_publication": 2016
         },
         {
          "year_of_publication": 2014
         },
         {
          "year_of_publication": 2016
         },
         {
          "year_of_publication": 2012
         },
         {
          "year_of_publication": 2015
         },
         {
          "year_of_publication": 2014
         },
         {
          "year_of_publication": 2015
         },
         {
          "year_of_publication": 2018
         },
         {
          "year_of_publication": 2016
         },
         {
          "year_of_publication": 2015
         },
         {
          "year_of_publication": 2013
         },
         {
          "year_of_publication": 2015
         },
         {
          "year_of_publication": 2016
         },
         {
          "year_of_publication": 2014
         },
         {
          "year_of_publication": 2014
         },
         {
          "year_of_publication": 2017
         },
         {
          "year_of_publication": 2015
         },
         {
          "year_of_publication": 2015
         },
         {
          "year_of_publication": 2015
         },
         {
          "year_of_publication": 2016
         },
         {
          "year_of_publication": 2016
         },
         {
          "year_of_publication": 2012
         },
         {
          "year_of_publication": 2014
         },
         {
          "year_of_publication": 2017
         },
         {
          "year_of_publication": 2012
         },
         {
          "year_of_publication": 2013
         },
         {
          "year_of_publication": 2015
         },
         {
          "year_of_publication": 2014
         },
         {
          "year_of_publication": 2016
         },
         {
          "year_of_publication": 2014
         },
         {
          "year_of_publication": 2012
         },
         {
          "year_of_publication": 2013
         },
         {
          "year_of_publication": 2015
         },
         {
          "year_of_publication": 2015
         },
         {
          "year_of_publication": 2017
         },
         {
          "year_of_publication": 2013
         },
         {
          "year_of_publication": 2016
         },
         {
          "year_of_publication": 2012
         },
         {
          "year_of_publication": 2014
         },
         {
          "year_of_publication": 2014
         },
         {
          "year_of_publication": 2015
         },
         {
          "year_of_publication": 2015
         },
         {
          "year_of_publication": 2017
         },
         {
          "year_of_publication": 2016
         },
         {
          "year_of_publication": 2016
         },
         {
          "year_of_publication": 2015
         },
         {
          "year_of_publication": 2012
         },
         {
          "year_of_publication": 2016
         },
         {
          "year_of_publication": 2014
         },
         {
          "year_of_publication": 2015
         },
         {
          "year_of_publication": 2013
         },
         {
          "year_of_publication": 2014
         },
         {
          "year_of_publication": 2015
         },
         {
          "year_of_publication": 2015
         },
         {
          "year_of_publication": 2014
         },
         {
          "year_of_publication": 2015
         },
         {
          "year_of_publication": 2016
         },
         {
          "year_of_publication": 2016
         },
         {
          "year_of_publication": 2016
         },
         {
          "year_of_publication": 2015
         },
         {
          "year_of_publication": 2013
         },
         {
          "year_of_publication": 2014
         },
         {
          "year_of_publication": 2018
         },
         {
          "year_of_publication": 2016
         },
         {
          "year_of_publication": 2015
         },
         {
          "year_of_publication": 2014
         },
         {
          "year_of_publication": 2013
         },
         {
          "year_of_publication": 2015
         },
         {
          "year_of_publication": 2018
         },
         {
          "year_of_publication": 2015
         },
         {
          "year_of_publication": 2012
         },
         {
          "year_of_publication": 2016
         },
         {
          "year_of_publication": 2014
         },
         {
          "year_of_publication": 2015
         },
         {
          "year_of_publication": 2013
         },
         {
          "year_of_publication": 2013
         },
         {
          "year_of_publication": 2013
         },
         {
          "year_of_publication": 2017
         },
         {
          "year_of_publication": 2012
         },
         {
          "year_of_publication": 2014
         },
         {
          "year_of_publication": 2017
         },
         {
          "year_of_publication": 2016
         },
         {
          "year_of_publication": 2013
         },
         {
          "year_of_publication": 2015
         },
         {
          "year_of_publication": 2015
         },
         {
          "year_of_publication": 2016
         },
         {
          "year_of_publication": 2015
         },
         {
          "year_of_publication": 2013
         },
         {
          "year_of_publication": 2016
         },
         {
          "year_of_publication": 2013
         },
         {
          "year_of_publication": 2015
         },
         {
          "year_of_publication": 2014
         },
         {
          "year_of_publication": 2014
         },
         {
          "year_of_publication": 2015
         },
         {
          "year_of_publication": 2012
         },
         {
          "year_of_publication": 2015
         },
         {
          "year_of_publication": 2016
         },
         {
          "year_of_publication": 2013
         },
         {
          "year_of_publication": 2016
         },
         {
          "year_of_publication": 2017
         },
         {
          "year_of_publication": 2016
         },
         {
          "year_of_publication": 2014
         },
         {
          "year_of_publication": 2014
         },
         {
          "year_of_publication": 2013
         },
         {
          "year_of_publication": 2015
         },
         {
          "year_of_publication": 2012
         },
         {
          "year_of_publication": 2014
         },
         {
          "year_of_publication": 2014
         },
         {
          "year_of_publication": 2012
         },
         {
          "year_of_publication": 2015
         },
         {
          "year_of_publication": 2013
         },
         {
          "year_of_publication": 2013
         },
         {
          "year_of_publication": 2021
         },
         {
          "year_of_publication": 2014
         },
         {
          "year_of_publication": 2015
         },
         {
          "year_of_publication": 2013
         },
         {
          "year_of_publication": 2017
         },
         {
          "year_of_publication": 2014
         },
         {
          "year_of_publication": 2013
         },
         {
          "year_of_publication": 2014
         },
         {
          "year_of_publication": 2012
         },
         {
          "year_of_publication": 2016
         },
         {
          "year_of_publication": 2014
         },
         {
          "year_of_publication": 2013
         },
         {
          "year_of_publication": 2016
         },
         {
          "year_of_publication": 2016
         },
         {
          "year_of_publication": 2015
         },
         {
          "year_of_publication": 2014
         },
         {
          "year_of_publication": 2017
         },
         {
          "year_of_publication": 2014
         },
         {
          "year_of_publication": 2013
         },
         {
          "year_of_publication": 2015
         },
         {
          "year_of_publication": 2012
         },
         {
          "year_of_publication": 2017
         },
         {
          "year_of_publication": 2012
         },
         {
          "year_of_publication": 2013
         },
         {
          "year_of_publication": 2014
         },
         {
          "year_of_publication": 2016
         },
         {
          "year_of_publication": 2014
         },
         {
          "year_of_publication": 2013
         },
         {
          "year_of_publication": 2015
         },
         {
          "year_of_publication": 2014
         },
         {
          "year_of_publication": 2012
         },
         {
          "year_of_publication": 2014
         },
         {
          "year_of_publication": 2014
         },
         {
          "year_of_publication": 2016
         },
         {
          "year_of_publication": 2016
         },
         {
          "year_of_publication": 2016
         },
         {
          "year_of_publication": 2017
         },
         {
          "year_of_publication": 2013
         },
         {
          "year_of_publication": 2012
         },
         {
          "year_of_publication": 2015
         },
         {
          "year_of_publication": 2015
         },
         {
          "year_of_publication": 2014
         },
         {
          "year_of_publication": 2014
         },
         {
          "year_of_publication": 2021
         },
         {
          "year_of_publication": 2014
         },
         {
          "year_of_publication": 2014
         },
         {
          "year_of_publication": 2012
         },
         {
          "year_of_publication": 2015
         },
         {
          "year_of_publication": 2015
         },
         {
          "year_of_publication": 2012
         },
         {
          "year_of_publication": 2013
         },
         {
          "year_of_publication": 2016
         },
         {
          "year_of_publication": 2014
         },
         {
          "year_of_publication": 2013
         },
         {
          "year_of_publication": 2014
         },
         {
          "year_of_publication": 2014
         },
         {
          "year_of_publication": 2016
         },
         {
          "year_of_publication": 2015
         },
         {
          "year_of_publication": 2013
         },
         {
          "year_of_publication": 2012
         },
         {
          "year_of_publication": 2014
         },
         {
          "year_of_publication": 2013
         },
         {
          "year_of_publication": 2013
         },
         {
          "year_of_publication": 2013
         },
         {
          "year_of_publication": 2015
         },
         {
          "year_of_publication": 2015
         },
         {
          "year_of_publication": 2014
         },
         {
          "year_of_publication": 2016
         },
         {
          "year_of_publication": 2014
         },
         {
          "year_of_publication": 2015
         },
         {
          "year_of_publication": 2013
         },
         {
          "year_of_publication": 2016
         },
         {
          "year_of_publication": 2013
         },
         {
          "year_of_publication": 2015
         },
         {
          "year_of_publication": 2017
         },
         {
          "year_of_publication": 2013
         },
         {
          "year_of_publication": 2014
         },
         {
          "year_of_publication": 2014
         },
         {
          "year_of_publication": 2014
         },
         {
          "year_of_publication": 2014
         },
         {
          "year_of_publication": 2015
         },
         {
          "year_of_publication": 2015
         },
         {
          "year_of_publication": 2015
         },
         {
          "year_of_publication": 2014
         },
         {
          "year_of_publication": 2013
         },
         {
          "year_of_publication": 2014
         },
         {
          "year_of_publication": 2014
         },
         {
          "year_of_publication": 2014
         },
         {
          "year_of_publication": 2014
         },
         {
          "year_of_publication": 2012
         },
         {
          "year_of_publication": 2015
         },
         {
          "year_of_publication": 2015
         },
         {
          "year_of_publication": 2015
         },
         {
          "year_of_publication": 2014
         },
         {
          "year_of_publication": 2015
         },
         {
          "year_of_publication": 2015
         },
         {
          "year_of_publication": 2016
         },
         {
          "year_of_publication": 2018
         },
         {
          "year_of_publication": 2012
         },
         {
          "year_of_publication": 2014
         },
         {
          "year_of_publication": 2015
         },
         {
          "year_of_publication": 2015
         },
         {
          "year_of_publication": 2013
         },
         {
          "year_of_publication": 2014
         },
         {
          "year_of_publication": 2015
         },
         {
          "year_of_publication": 2016
         },
         {
          "year_of_publication": 2016
         },
         {
          "year_of_publication": 2015
         },
         {
          "year_of_publication": 2013
         },
         {
          "year_of_publication": 2016
         },
         {
          "year_of_publication": 2015
         },
         {
          "year_of_publication": 2014
         },
         {
          "year_of_publication": 2014
         },
         {
          "year_of_publication": 2015
         },
         {
          "year_of_publication": 2012
         },
         {
          "year_of_publication": 2015
         },
         {
          "year_of_publication": 2014
         },
         {
          "year_of_publication": 2014
         },
         {
          "year_of_publication": 2014
         },
         {
          "year_of_publication": 2013
         },
         {
          "year_of_publication": 2016
         },
         {
          "year_of_publication": 2018
         },
         {
          "year_of_publication": 2015
         },
         {
          "year_of_publication": 2015
         },
         {
          "year_of_publication": 2015
         },
         {
          "year_of_publication": 2015
         },
         {
          "year_of_publication": 2013
         },
         {
          "year_of_publication": 2016
         },
         {
          "year_of_publication": 2014
         },
         {
          "year_of_publication": 2015
         },
         {
          "year_of_publication": 2015
         },
         {
          "year_of_publication": 2015
         },
         {
          "year_of_publication": 2013
         },
         {
          "year_of_publication": 2014
         },
         {
          "year_of_publication": 2020
         },
         {
          "year_of_publication": 2014
         },
         {
          "year_of_publication": 2016
         },
         {
          "year_of_publication": 2015
         },
         {
          "year_of_publication": 2014
         },
         {
          "year_of_publication": 2012
         },
         {
          "year_of_publication": 2012
         },
         {
          "year_of_publication": 2016
         },
         {
          "year_of_publication": 2013
         },
         {
          "year_of_publication": 2015
         },
         {
          "year_of_publication": 2014
         },
         {
          "year_of_publication": 2016
         },
         {
          "year_of_publication": 2015
         },
         {
          "year_of_publication": 2015
         },
         {
          "year_of_publication": 2012
         },
         {
          "year_of_publication": 2016
         },
         {
          "year_of_publication": 2015
         },
         {
          "year_of_publication": 2016
         },
         {
          "year_of_publication": 2015
         },
         {
          "year_of_publication": 2014
         },
         {
          "year_of_publication": 2015
         },
         {
          "year_of_publication": 2013
         },
         {
          "year_of_publication": 2013
         },
         {
          "year_of_publication": 2015
         },
         {
          "year_of_publication": 2014
         },
         {
          "year_of_publication": 2014
         },
         {
          "year_of_publication": 2014
         },
         {
          "year_of_publication": 2016
         },
         {
          "year_of_publication": 2015
         },
         {
          "year_of_publication": 2014
         },
         {
          "year_of_publication": 2015
         },
         {
          "year_of_publication": 2012
         },
         {
          "year_of_publication": 2012
         },
         {
          "year_of_publication": 2015
         },
         {
          "year_of_publication": 2016
         },
         {
          "year_of_publication": 2014
         },
         {
          "year_of_publication": 2015
         },
         {
          "year_of_publication": 2015
         },
         {
          "year_of_publication": 2016
         },
         {
          "year_of_publication": 2015
         },
         {
          "year_of_publication": 2017
         },
         {
          "year_of_publication": 2015
         },
         {
          "year_of_publication": 2017
         },
         {
          "year_of_publication": 2015
         },
         {
          "year_of_publication": 2015
         },
         {
          "year_of_publication": 2016
         },
         {
          "year_of_publication": 2014
         },
         {
          "year_of_publication": 2012
         },
         {
          "year_of_publication": 2017
         },
         {
          "year_of_publication": 2014
         },
         {
          "year_of_publication": 2012
         },
         {
          "year_of_publication": 2012
         },
         {
          "year_of_publication": 2017
         },
         {
          "year_of_publication": 2016
         },
         {
          "year_of_publication": 2016
         },
         {
          "year_of_publication": 2016
         },
         {
          "year_of_publication": 2013
         },
         {
          "year_of_publication": 2012
         },
         {
          "year_of_publication": 2013
         },
         {
          "year_of_publication": 2014
         },
         {
          "year_of_publication": 2014
         },
         {
          "year_of_publication": 2015
         },
         {
          "year_of_publication": 2014
         },
         {
          "year_of_publication": 2014
         },
         {
          "year_of_publication": 2017
         },
         {
          "year_of_publication": 2015
         },
         {
          "year_of_publication": 2014
         },
         {
          "year_of_publication": 2014
         },
         {
          "year_of_publication": 2015
         },
         {
          "year_of_publication": 2015
         },
         {
          "year_of_publication": 2012
         },
         {
          "year_of_publication": 2014
         },
         {
          "year_of_publication": 2015
         },
         {
          "year_of_publication": 2013
         },
         {
          "year_of_publication": 2013
         },
         {
          "year_of_publication": 2015
         },
         {
          "year_of_publication": 2013
         },
         {
          "year_of_publication": 2016
         },
         {
          "year_of_publication": 2015
         },
         {
          "year_of_publication": 2013
         },
         {
          "year_of_publication": 2013
         },
         {
          "year_of_publication": 2014
         },
         {
          "year_of_publication": 2012
         },
         {
          "year_of_publication": 2013
         },
         {
          "year_of_publication": 2012
         },
         {
          "year_of_publication": 2014
         },
         {
          "year_of_publication": 2016
         },
         {
          "year_of_publication": 2013
         },
         {
          "year_of_publication": 2014
         },
         {
          "year_of_publication": 2016
         },
         {
          "year_of_publication": 2016
         },
         {
          "year_of_publication": 2012
         },
         {
          "year_of_publication": 2015
         },
         {
          "year_of_publication": 2013
         },
         {
          "year_of_publication": 2015
         },
         {
          "year_of_publication": 2012
         },
         {
          "year_of_publication": 2012
         },
         {
          "year_of_publication": 2012
         },
         {
          "year_of_publication": 2015
         },
         {
          "year_of_publication": 2016
         },
         {
          "year_of_publication": 2016
         },
         {
          "year_of_publication": 2014
         },
         {
          "year_of_publication": 2015
         },
         {
          "year_of_publication": 2014
         },
         {
          "year_of_publication": 2018
         },
         {
          "year_of_publication": 2017
         },
         {
          "year_of_publication": 2014
         },
         {
          "year_of_publication": 2015
         },
         {
          "year_of_publication": 2015
         },
         {
          "year_of_publication": 2014
         },
         {
          "year_of_publication": 2015
         },
         {
          "year_of_publication": 2016
         },
         {
          "year_of_publication": 2014
         },
         {
          "year_of_publication": 2016
         },
         {
          "year_of_publication": 2012
         },
         {
          "year_of_publication": 2013
         },
         {
          "year_of_publication": 2015
         },
         {
          "year_of_publication": 2014
         },
         {
          "year_of_publication": 2014
         },
         {
          "year_of_publication": 2015
         },
         {
          "year_of_publication": 2014
         },
         {
          "year_of_publication": 2015
         },
         {
          "year_of_publication": 2013
         },
         {
          "year_of_publication": 2015
         },
         {
          "year_of_publication": 2013
         },
         {
          "year_of_publication": 2014
         },
         {
          "year_of_publication": 2014
         },
         {
          "year_of_publication": 2014
         },
         {
          "year_of_publication": 2017
         },
         {
          "year_of_publication": 2014
         },
         {
          "year_of_publication": 2015
         },
         {
          "year_of_publication": 2015
         },
         {
          "year_of_publication": 2012
         },
         {
          "year_of_publication": 2015
         },
         {
          "year_of_publication": 2016
         },
         {
          "year_of_publication": 2014
         },
         {
          "year_of_publication": 2017
         },
         {
          "year_of_publication": 2014
         },
         {
          "year_of_publication": 2013
         },
         {
          "year_of_publication": 2014
         },
         {
          "year_of_publication": 2012
         },
         {
          "year_of_publication": 2013
         },
         {
          "year_of_publication": 2016
         },
         {
          "year_of_publication": 2015
         },
         {
          "year_of_publication": 2016
         },
         {
          "year_of_publication": 2017
         },
         {
          "year_of_publication": 2014
         },
         {
          "year_of_publication": 2012
         },
         {
          "year_of_publication": 2013
         },
         {
          "year_of_publication": 2017
         },
         {
          "year_of_publication": 2016
         },
         {
          "year_of_publication": 2016
         },
         {
          "year_of_publication": 2012
         },
         {
          "year_of_publication": 2013
         },
         {
          "year_of_publication": 2016
         },
         {
          "year_of_publication": 2014
         },
         {
          "year_of_publication": 2013
         },
         {
          "year_of_publication": 2015
         },
         {
          "year_of_publication": 2013
         },
         {
          "year_of_publication": 2012
         },
         {
          "year_of_publication": 2015
         },
         {
          "year_of_publication": 2016
         },
         {
          "year_of_publication": 2015
         },
         {
          "year_of_publication": 2015
         },
         {
          "year_of_publication": 2015
         },
         {
          "year_of_publication": 2014
         },
         {
          "year_of_publication": 2014
         },
         {
          "year_of_publication": 2014
         },
         {
          "year_of_publication": 2014
         },
         {
          "year_of_publication": 2014
         },
         {
          "year_of_publication": 2016
         },
         {
          "year_of_publication": 2015
         },
         {
          "year_of_publication": 2015
         },
         {
          "year_of_publication": 2015
         },
         {
          "year_of_publication": 2017
         },
         {
          "year_of_publication": 2017
         },
         {
          "year_of_publication": 2014
         },
         {
          "year_of_publication": 2015
         },
         {
          "year_of_publication": 2015
         },
         {
          "year_of_publication": 2016
         },
         {
          "year_of_publication": 2013
         },
         {
          "year_of_publication": 2015
         },
         {
          "year_of_publication": 2014
         },
         {
          "year_of_publication": 2016
         },
         {
          "year_of_publication": 2016
         },
         {
          "year_of_publication": 2014
         },
         {
          "year_of_publication": 2014
         },
         {
          "year_of_publication": 2014
         },
         {
          "year_of_publication": 2018
         },
         {
          "year_of_publication": 2015
         },
         {
          "year_of_publication": 2014
         },
         {
          "year_of_publication": 2012
         },
         {
          "year_of_publication": 2015
         },
         {
          "year_of_publication": 2017
         },
         {
          "year_of_publication": 2012
         },
         {
          "year_of_publication": 2014
         },
         {
          "year_of_publication": 2014
         },
         {
          "year_of_publication": 2012
         },
         {
          "year_of_publication": 2012
         },
         {
          "year_of_publication": 2015
         },
         {
          "year_of_publication": 2015
         },
         {
          "year_of_publication": 2013
         },
         {
          "year_of_publication": 2017
         },
         {
          "year_of_publication": 2013
         },
         {
          "year_of_publication": 2013
         },
         {
          "year_of_publication": 2014
         },
         {
          "year_of_publication": 2016
         },
         {
          "year_of_publication": 2012
         },
         {
          "year_of_publication": 2016
         },
         {
          "year_of_publication": 2014
         },
         {
          "year_of_publication": 2012
         },
         {
          "year_of_publication": 2015
         },
         {
          "year_of_publication": 2015
         },
         {
          "year_of_publication": 2015
         },
         {
          "year_of_publication": 2014
         },
         {
          "year_of_publication": 2013
         },
         {
          "year_of_publication": 2016
         },
         {
          "year_of_publication": 2015
         },
         {
          "year_of_publication": 2016
         },
         {
          "year_of_publication": 2015
         },
         {
          "year_of_publication": 2012
         },
         {
          "year_of_publication": 2014
         },
         {
          "year_of_publication": 2015
         },
         {
          "year_of_publication": 2013
         },
         {
          "year_of_publication": 2014
         },
         {
          "year_of_publication": 2017
         },
         {
          "year_of_publication": 2013
         },
         {
          "year_of_publication": 2013
         },
         {
          "year_of_publication": 2015
         },
         {
          "year_of_publication": 2016
         },
         {
          "year_of_publication": 2014
         },
         {
          "year_of_publication": 2014
         },
         {
          "year_of_publication": 2018
         },
         {
          "year_of_publication": 2015
         },
         {
          "year_of_publication": 2014
         },
         {
          "year_of_publication": 2015
         },
         {
          "year_of_publication": 2016
         },
         {
          "year_of_publication": 2015
         },
         {
          "year_of_publication": 2014
         },
         {
          "year_of_publication": 2015
         },
         {
          "year_of_publication": 2015
         },
         {
          "year_of_publication": 2014
         },
         {
          "year_of_publication": 2016
         },
         {
          "year_of_publication": 2014
         },
         {
          "year_of_publication": 2012
         },
         {
          "year_of_publication": 2015
         },
         {
          "year_of_publication": 2013
         },
         {
          "year_of_publication": 2013
         },
         {
          "year_of_publication": 2012
         },
         {
          "year_of_publication": 2016
         },
         {
          "year_of_publication": 2014
         },
         {
          "year_of_publication": 2016
         },
         {
          "year_of_publication": 2013
         },
         {
          "year_of_publication": 2014
         },
         {
          "year_of_publication": 2015
         },
         {
          "year_of_publication": 2018
         },
         {
          "year_of_publication": 2015
         },
         {
          "year_of_publication": 2016
         },
         {
          "year_of_publication": 2016
         },
         {
          "year_of_publication": 2013
         },
         {
          "year_of_publication": 2017
         },
         {
          "year_of_publication": 2014
         },
         {
          "year_of_publication": 2014
         },
         {
          "year_of_publication": 2012
         },
         {
          "year_of_publication": 2014
         },
         {
          "year_of_publication": 2013
         },
         {
          "year_of_publication": 2015
         },
         {
          "year_of_publication": 2013
         },
         {
          "year_of_publication": 2015
         },
         {
          "year_of_publication": 2016
         },
         {
          "year_of_publication": 2014
         },
         {
          "year_of_publication": 2013
         },
         {
          "year_of_publication": 2014
         },
         {
          "year_of_publication": 2015
         },
         {
          "year_of_publication": 2015
         },
         {
          "year_of_publication": 2019
         },
         {
          "year_of_publication": 2013
         },
         {
          "year_of_publication": 2015
         },
         {
          "year_of_publication": 2016
         },
         {
          "year_of_publication": 2015
         },
         {
          "year_of_publication": 2016
         },
         {
          "year_of_publication": 2017
         },
         {
          "year_of_publication": 2015
         },
         {
          "year_of_publication": 2015
         },
         {
          "year_of_publication": 2012
         },
         {
          "year_of_publication": 2022
         },
         {
          "year_of_publication": 2017
         },
         {
          "year_of_publication": 2015
         },
         {
          "year_of_publication": 2015
         },
         {
          "year_of_publication": 2012
         },
         {
          "year_of_publication": 2017
         },
         {
          "year_of_publication": 2015
         },
         {
          "year_of_publication": 2016
         },
         {
          "year_of_publication": 2015
         },
         {
          "year_of_publication": 2015
         },
         {
          "year_of_publication": 2016
         },
         {
          "year_of_publication": 2013
         },
         {
          "year_of_publication": 2017
         },
         {
          "year_of_publication": 2015
         },
         {
          "year_of_publication": 2014
         },
         {
          "year_of_publication": 2013
         },
         {
          "year_of_publication": 2015
         },
         {
          "year_of_publication": 2015
         },
         {
          "year_of_publication": 2017
         },
         {
          "year_of_publication": 2015
         },
         {
          "year_of_publication": 2014
         },
         {
          "year_of_publication": 2017
         },
         {
          "year_of_publication": 2014
         },
         {
          "year_of_publication": 2014
         },
         {
          "year_of_publication": 2012
         },
         {
          "year_of_publication": 2014
         },
         {
          "year_of_publication": 2014
         },
         {
          "year_of_publication": 2014
         },
         {
          "year_of_publication": 2013
         },
         {
          "year_of_publication": 2015
         },
         {
          "year_of_publication": 2014
         },
         {
          "year_of_publication": 2016
         },
         {
          "year_of_publication": 2018
         },
         {
          "year_of_publication": 2015
         },
         {
          "year_of_publication": 2018
         },
         {
          "year_of_publication": 2015
         },
         {
          "year_of_publication": 2014
         },
         {
          "year_of_publication": 2017
         },
         {
          "year_of_publication": 2015
         },
         {
          "year_of_publication": 2017
         },
         {
          "year_of_publication": 2015
         },
         {
          "year_of_publication": 2015
         },
         {
          "year_of_publication": 2014
         },
         {
          "year_of_publication": 2013
         },
         {
          "year_of_publication": 2012
         },
         {
          "year_of_publication": 2015
         },
         {
          "year_of_publication": 2014
         },
         {
          "year_of_publication": 2015
         },
         {
          "year_of_publication": 2012
         },
         {
          "year_of_publication": 2014
         },
         {
          "year_of_publication": 2013
         },
         {
          "year_of_publication": 2015
         },
         {
          "year_of_publication": 2015
         },
         {
          "year_of_publication": 2015
         },
         {
          "year_of_publication": 2015
         },
         {
          "year_of_publication": 2012
         },
         {
          "year_of_publication": 2014
         },
         {
          "year_of_publication": 2012
         },
         {
          "year_of_publication": 2014
         },
         {
          "year_of_publication": 2016
         },
         {
          "year_of_publication": 2014
         },
         {
          "year_of_publication": 2012
         },
         {
          "year_of_publication": 2014
         },
         {
          "year_of_publication": 2016
         },
         {
          "year_of_publication": 2020
         },
         {
          "year_of_publication": 2017
         },
         {
          "year_of_publication": 2016
         },
         {
          "year_of_publication": 2014
         },
         {
          "year_of_publication": 2016
         },
         {
          "year_of_publication": 2015
         },
         {
          "year_of_publication": 2015
         },
         {
          "year_of_publication": 2017
         },
         {
          "year_of_publication": 2015
         },
         {
          "year_of_publication": 2017
         },
         {
          "year_of_publication": 2015
         },
         {
          "year_of_publication": 2016
         },
         {
          "year_of_publication": 2015
         },
         {
          "year_of_publication": 2016
         },
         {
          "year_of_publication": 2015
         },
         {
          "year_of_publication": 2013
         },
         {
          "year_of_publication": 2014
         },
         {
          "year_of_publication": 2015
         },
         {
          "year_of_publication": 2014
         },
         {
          "year_of_publication": 2014
         },
         {
          "year_of_publication": 2015
         },
         {
          "year_of_publication": 2014
         },
         {
          "year_of_publication": 2016
         },
         {
          "year_of_publication": 2013
         },
         {
          "year_of_publication": 2013
         },
         {
          "year_of_publication": 2016
         },
         {
          "year_of_publication": 2017
         },
         {
          "year_of_publication": 2016
         },
         {
          "year_of_publication": 2014
         },
         {
          "year_of_publication": 2015
         },
         {
          "year_of_publication": 2013
         },
         {
          "year_of_publication": 2013
         },
         {
          "year_of_publication": 2013
         },
         {
          "year_of_publication": 2016
         },
         {
          "year_of_publication": 2015
         },
         {
          "year_of_publication": 2014
         },
         {
          "year_of_publication": 2015
         },
         {
          "year_of_publication": 2015
         },
         {
          "year_of_publication": 2016
         },
         {
          "year_of_publication": 2012
         },
         {
          "year_of_publication": 2016
         },
         {
          "year_of_publication": 2016
         },
         {
          "year_of_publication": 2015
         },
         {
          "year_of_publication": 2014
         },
         {
          "year_of_publication": 2014
         },
         {
          "year_of_publication": 2017
         },
         {
          "year_of_publication": 2018
         },
         {
          "year_of_publication": 2014
         },
         {
          "year_of_publication": 2017
         },
         {
          "year_of_publication": 2016
         },
         {
          "year_of_publication": 2017
         },
         {
          "year_of_publication": 2013
         },
         {
          "year_of_publication": 2014
         },
         {
          "year_of_publication": 2013
         },
         {
          "year_of_publication": 2015
         },
         {
          "year_of_publication": 2013
         },
         {
          "year_of_publication": 2022
         },
         {
          "year_of_publication": 2015
         },
         {
          "year_of_publication": 2015
         },
         {
          "year_of_publication": 2016
         },
         {
          "year_of_publication": 2016
         },
         {
          "year_of_publication": 2013
         },
         {
          "year_of_publication": 2015
         },
         {
          "year_of_publication": 2015
         },
         {
          "year_of_publication": 2013
         },
         {
          "year_of_publication": 2013
         },
         {
          "year_of_publication": 2017
         },
         {
          "year_of_publication": 2012
         },
         {
          "year_of_publication": 2015
         },
         {
          "year_of_publication": 2015
         },
         {
          "year_of_publication": 2013
         },
         {
          "year_of_publication": 2012
         },
         {
          "year_of_publication": 2014
         },
         {
          "year_of_publication": 2017
         },
         {
          "year_of_publication": 2013
         },
         {
          "year_of_publication": 2016
         },
         {
          "year_of_publication": 2014
         },
         {
          "year_of_publication": 2015
         },
         {
          "year_of_publication": 2016
         },
         {
          "year_of_publication": 2014
         },
         {
          "year_of_publication": 2013
         },
         {
          "year_of_publication": 2015
         },
         {
          "year_of_publication": 2015
         },
         {
          "year_of_publication": 2014
         },
         {
          "year_of_publication": 2015
         },
         {
          "year_of_publication": 2013
         },
         {
          "year_of_publication": 2015
         },
         {
          "year_of_publication": 2013
         },
         {
          "year_of_publication": 2016
         },
         {
          "year_of_publication": 2016
         },
         {
          "year_of_publication": 2017
         },
         {
          "year_of_publication": 2015
         },
         {
          "year_of_publication": 2015
         },
         {
          "year_of_publication": 2016
         },
         {
          "year_of_publication": 2014
         },
         {
          "year_of_publication": 2015
         },
         {
          "year_of_publication": 2014
         },
         {
          "year_of_publication": 2017
         },
         {
          "year_of_publication": 2014
         },
         {
          "year_of_publication": 2014
         },
         {
          "year_of_publication": 2018
         },
         {
          "year_of_publication": 2013
         },
         {
          "year_of_publication": 2014
         },
         {
          "year_of_publication": 2013
         },
         {
          "year_of_publication": 2014
         },
         {
          "year_of_publication": 2015
         },
         {
          "year_of_publication": 2016
         },
         {
          "year_of_publication": 2012
         },
         {
          "year_of_publication": 2016
         },
         {
          "year_of_publication": 2012
         },
         {
          "year_of_publication": 2012
         },
         {
          "year_of_publication": 2016
         },
         {
          "year_of_publication": 2014
         },
         {
          "year_of_publication": 2014
         },
         {
          "year_of_publication": 2012
         },
         {
          "year_of_publication": 2014
         },
         {
          "year_of_publication": 2015
         },
         {
          "year_of_publication": 2012
         },
         {
          "year_of_publication": 2014
         },
         {
          "year_of_publication": 2015
         },
         {
          "year_of_publication": 2015
         },
         {
          "year_of_publication": 2018
         },
         {
          "year_of_publication": 2017
         },
         {
          "year_of_publication": 2012
         },
         {
          "year_of_publication": 2012
         },
         {
          "year_of_publication": 2013
         },
         {
          "year_of_publication": 2015
         },
         {
          "year_of_publication": 2016
         },
         {
          "year_of_publication": 2012
         },
         {
          "year_of_publication": 2012
         },
         {
          "year_of_publication": 2013
         },
         {
          "year_of_publication": 2014
         },
         {
          "year_of_publication": 2016
         },
         {
          "year_of_publication": 2015
         },
         {
          "year_of_publication": 2015
         },
         {
          "year_of_publication": 2016
         },
         {
          "year_of_publication": 2014
         },
         {
          "year_of_publication": 2014
         },
         {
          "year_of_publication": 2017
         },
         {
          "year_of_publication": 2016
         },
         {
          "year_of_publication": 2014
         },
         {
          "year_of_publication": 2017
         },
         {
          "year_of_publication": 2016
         },
         {
          "year_of_publication": 2014
         },
         {
          "year_of_publication": 2012
         },
         {
          "year_of_publication": 2016
         },
         {
          "year_of_publication": 2014
         },
         {
          "year_of_publication": 2012
         },
         {
          "year_of_publication": 2015
         },
         {
          "year_of_publication": 2015
         },
         {
          "year_of_publication": 2013
         },
         {
          "year_of_publication": 2015
         },
         {
          "year_of_publication": 2015
         },
         {
          "year_of_publication": 2016
         },
         {
          "year_of_publication": 2013
         },
         {
          "year_of_publication": 2015
         },
         {
          "year_of_publication": 2017
         },
         {
          "year_of_publication": 2017
         },
         {
          "year_of_publication": 2013
         },
         {
          "year_of_publication": 2014
         },
         {
          "year_of_publication": 2013
         },
         {
          "year_of_publication": 2014
         },
         {
          "year_of_publication": 2016
         },
         {
          "year_of_publication": 2015
         },
         {
          "year_of_publication": 2013
         },
         {
          "year_of_publication": 2020
         },
         {
          "year_of_publication": 2020
         },
         {
          "year_of_publication": 2014
         },
         {
          "year_of_publication": 2012
         },
         {
          "year_of_publication": 2014
         },
         {
          "year_of_publication": 2013
         },
         {
          "year_of_publication": 2012
         },
         {
          "year_of_publication": 2015
         },
         {
          "year_of_publication": 2014
         },
         {
          "year_of_publication": 2013
         },
         {
          "year_of_publication": 2012
         },
         {
          "year_of_publication": 2016
         },
         {
          "year_of_publication": 2015
         },
         {
          "year_of_publication": 2015
         },
         {
          "year_of_publication": 2018
         },
         {
          "year_of_publication": 2017
         },
         {
          "year_of_publication": 2013
         },
         {
          "year_of_publication": 2014
         },
         {
          "year_of_publication": 2014
         },
         {
          "year_of_publication": 2015
         },
         {
          "year_of_publication": 2016
         },
         {
          "year_of_publication": 2012
         },
         {
          "year_of_publication": 2012
         },
         {
          "year_of_publication": 2014
         },
         {
          "year_of_publication": 2013
         },
         {
          "year_of_publication": 2014
         },
         {
          "year_of_publication": 2015
         },
         {
          "year_of_publication": 2013
         },
         {
          "year_of_publication": 2020
         },
         {
          "year_of_publication": 2016
         },
         {
          "year_of_publication": 2013
         },
         {
          "year_of_publication": 2013
         },
         {
          "year_of_publication": 2014
         },
         {
          "year_of_publication": 2016
         },
         {
          "year_of_publication": 2017
         },
         {
          "year_of_publication": 2015
         },
         {
          "year_of_publication": 2014
         },
         {
          "year_of_publication": 2016
         },
         {
          "year_of_publication": 2016
         },
         {
          "year_of_publication": 2014
         },
         {
          "year_of_publication": 2016
         },
         {
          "year_of_publication": 2013
         },
         {
          "year_of_publication": 2014
         },
         {
          "year_of_publication": 2016
         },
         {
          "year_of_publication": 2015
         },
         {
          "year_of_publication": 2018
         },
         {
          "year_of_publication": 2014
         },
         {
          "year_of_publication": 2014
         },
         {
          "year_of_publication": 2013
         },
         {
          "year_of_publication": 2015
         },
         {
          "year_of_publication": 2014
         },
         {
          "year_of_publication": 2017
         },
         {
          "year_of_publication": 2017
         },
         {
          "year_of_publication": 2022
         },
         {
          "year_of_publication": 2016
         },
         {
          "year_of_publication": 2017
         },
         {
          "year_of_publication": 2018
         },
         {
          "year_of_publication": 2014
         },
         {
          "year_of_publication": 2016
         },
         {
          "year_of_publication": 2016
         },
         {
          "year_of_publication": 2016
         },
         {
          "year_of_publication": 2015
         },
         {
          "year_of_publication": 2013
         },
         {
          "year_of_publication": 2016
         },
         {
          "year_of_publication": 2016
         },
         {
          "year_of_publication": 2015
         },
         {
          "year_of_publication": 2012
         },
         {
          "year_of_publication": 2017
         },
         {
          "year_of_publication": 2014
         },
         {
          "year_of_publication": 2014
         },
         {
          "year_of_publication": 2012
         },
         {
          "year_of_publication": 2013
         },
         {
          "year_of_publication": 2014
         },
         {
          "year_of_publication": 2013
         },
         {
          "year_of_publication": 2013
         },
         {
          "year_of_publication": 2013
         },
         {
          "year_of_publication": 2015
         },
         {
          "year_of_publication": 2015
         },
         {
          "year_of_publication": 2014
         },
         {
          "year_of_publication": 2013
         },
         {
          "year_of_publication": 2014
         },
         {
          "year_of_publication": 2015
         },
         {
          "year_of_publication": 2015
         },
         {
          "year_of_publication": 2014
         },
         {
          "year_of_publication": 2016
         },
         {
          "year_of_publication": 2013
         },
         {
          "year_of_publication": 2015
         },
         {
          "year_of_publication": 2015
         },
         {
          "year_of_publication": 2017
         },
         {
          "year_of_publication": 2016
         },
         {
          "year_of_publication": 2017
         },
         {
          "year_of_publication": 2013
         },
         {
          "year_of_publication": 2015
         },
         {
          "year_of_publication": 2014
         },
         {
          "year_of_publication": 2014
         },
         {
          "year_of_publication": 2013
         },
         {
          "year_of_publication": 2014
         },
         {
          "year_of_publication": 2015
         },
         {
          "year_of_publication": 2015
         },
         {
          "year_of_publication": 2015
         },
         {
          "year_of_publication": 2012
         },
         {
          "year_of_publication": 2016
         },
         {
          "year_of_publication": 2013
         },
         {
          "year_of_publication": 2013
         },
         {
          "year_of_publication": 2014
         },
         {
          "year_of_publication": 2013
         },
         {
          "year_of_publication": 2014
         },
         {
          "year_of_publication": 2017
         },
         {
          "year_of_publication": 2015
         },
         {
          "year_of_publication": 2014
         },
         {
          "year_of_publication": 2015
         },
         {
          "year_of_publication": 2015
         },
         {
          "year_of_publication": 2015
         },
         {
          "year_of_publication": 2014
         },
         {
          "year_of_publication": 2014
         },
         {
          "year_of_publication": 2014
         },
         {
          "year_of_publication": 2016
         },
         {
          "year_of_publication": 2012
         },
         {
          "year_of_publication": 2015
         },
         {
          "year_of_publication": 2014
         },
         {
          "year_of_publication": 2017
         },
         {
          "year_of_publication": 2014
         },
         {
          "year_of_publication": 2015
         },
         {
          "year_of_publication": 2014
         },
         {
          "year_of_publication": 2016
         },
         {
          "year_of_publication": 2014
         },
         {
          "year_of_publication": 2013
         },
         {
          "year_of_publication": 2016
         },
         {
          "year_of_publication": 2012
         },
         {
          "year_of_publication": 2012
         },
         {
          "year_of_publication": 2015
         },
         {
          "year_of_publication": 2018
         },
         {
          "year_of_publication": 2015
         },
         {
          "year_of_publication": 2014
         },
         {
          "year_of_publication": 2014
         },
         {
          "year_of_publication": 2015
         },
         {
          "year_of_publication": 2012
         },
         {
          "year_of_publication": 2013
         },
         {
          "year_of_publication": 2015
         },
         {
          "year_of_publication": 2015
         },
         {
          "year_of_publication": 2016
         },
         {
          "year_of_publication": 2015
         },
         {
          "year_of_publication": 2013
         },
         {
          "year_of_publication": 2013
         },
         {
          "year_of_publication": 2014
         },
         {
          "year_of_publication": 2015
         },
         {
          "year_of_publication": 2013
         },
         {
          "year_of_publication": 2015
         },
         {
          "year_of_publication": 2014
         },
         {
          "year_of_publication": 2012
         },
         {
          "year_of_publication": 2013
         },
         {
          "year_of_publication": 2014
         },
         {
          "year_of_publication": 2014
         },
         {
          "year_of_publication": 2015
         },
         {
          "year_of_publication": 2013
         },
         {
          "year_of_publication": 2015
         },
         {
          "year_of_publication": 2017
         },
         {
          "year_of_publication": 2014
         },
         {
          "year_of_publication": 2014
         },
         {
          "year_of_publication": 2015
         },
         {
          "year_of_publication": 2015
         },
         {
          "year_of_publication": 2012
         },
         {
          "year_of_publication": 2014
         },
         {
          "year_of_publication": 2014
         },
         {
          "year_of_publication": 2016
         },
         {
          "year_of_publication": 2013
         },
         {
          "year_of_publication": 2015
         },
         {
          "year_of_publication": 2017
         },
         {
          "year_of_publication": 2015
         },
         {
          "year_of_publication": 2015
         },
         {
          "year_of_publication": 2015
         },
         {
          "year_of_publication": 2016
         },
         {
          "year_of_publication": 2014
         },
         {
          "year_of_publication": 2014
         },
         {
          "year_of_publication": 2013
         },
         {
          "year_of_publication": 2014
         },
         {
          "year_of_publication": 2015
         },
         {
          "year_of_publication": 2012
         },
         {
          "year_of_publication": 2015
         },
         {
          "year_of_publication": 2015
         },
         {
          "year_of_publication": 2015
         },
         {
          "year_of_publication": 2014
         },
         {
          "year_of_publication": 2016
         },
         {
          "year_of_publication": 2014
         },
         {
          "year_of_publication": 2015
         },
         {
          "year_of_publication": 2013
         },
         {
          "year_of_publication": 2014
         },
         {
          "year_of_publication": 2016
         },
         {
          "year_of_publication": 2014
         },
         {
          "year_of_publication": 2016
         },
         {
          "year_of_publication": 2013
         },
         {
          "year_of_publication": 2016
         },
         {
          "year_of_publication": 2017
         },
         {
          "year_of_publication": 2015
         },
         {
          "year_of_publication": 2016
         },
         {
          "year_of_publication": 2015
         },
         {
          "year_of_publication": 2015
         },
         {
          "year_of_publication": 2016
         },
         {
          "year_of_publication": 2012
         },
         {
          "year_of_publication": 2016
         },
         {
          "year_of_publication": 2015
         },
         {
          "year_of_publication": 2012
         },
         {
          "year_of_publication": 2012
         },
         {
          "year_of_publication": 2018
         },
         {
          "year_of_publication": 2016
         },
         {
          "year_of_publication": 2012
         },
         {
          "year_of_publication": 2016
         },
         {
          "year_of_publication": 2014
         },
         {
          "year_of_publication": 2014
         },
         {
          "year_of_publication": 2014
         },
         {
          "year_of_publication": 2015
         },
         {
          "year_of_publication": 2013
         },
         {
          "year_of_publication": 2014
         },
         {
          "year_of_publication": 2016
         },
         {
          "year_of_publication": 2014
         },
         {
          "year_of_publication": 2012
         },
         {
          "year_of_publication": 2012
         },
         {
          "year_of_publication": 2014
         },
         {
          "year_of_publication": 2012
         },
         {
          "year_of_publication": 2012
         },
         {
          "year_of_publication": 2016
         },
         {
          "year_of_publication": 2015
         },
         {
          "year_of_publication": 2016
         },
         {
          "year_of_publication": 2016
         },
         {
          "year_of_publication": 2014
         },
         {
          "year_of_publication": 2016
         },
         {
          "year_of_publication": 2016
         },
         {
          "year_of_publication": 2013
         },
         {
          "year_of_publication": 2017
         },
         {
          "year_of_publication": 2016
         },
         {
          "year_of_publication": 2012
         },
         {
          "year_of_publication": 2016
         },
         {
          "year_of_publication": 2012
         },
         {
          "year_of_publication": 2016
         },
         {
          "year_of_publication": 2016
         },
         {
          "year_of_publication": 2014
         },
         {
          "year_of_publication": 2013
         },
         {
          "year_of_publication": 2014
         },
         {
          "year_of_publication": 2014
         },
         {
          "year_of_publication": 2013
         },
         {
          "year_of_publication": 2013
         },
         {
          "year_of_publication": 2015
         },
         {
          "year_of_publication": 2013
         },
         {
          "year_of_publication": 2016
         },
         {
          "year_of_publication": 2013
         },
         {
          "year_of_publication": 2013
         },
         {
          "year_of_publication": 2015
         },
         {
          "year_of_publication": 2016
         },
         {
          "year_of_publication": 2014
         },
         {
          "year_of_publication": 2017
         },
         {
          "year_of_publication": 2016
         },
         {
          "year_of_publication": 2014
         },
         {
          "year_of_publication": 2015
         },
         {
          "year_of_publication": 2018
         },
         {
          "year_of_publication": 2015
         },
         {
          "year_of_publication": 2013
         },
         {
          "year_of_publication": 2015
         },
         {
          "year_of_publication": 2016
         },
         {
          "year_of_publication": 2015
         },
         {
          "year_of_publication": 2012
         },
         {
          "year_of_publication": 2012
         },
         {
          "year_of_publication": 2015
         },
         {
          "year_of_publication": 2015
         },
         {
          "year_of_publication": 2015
         },
         {
          "year_of_publication": 2014
         },
         {
          "year_of_publication": 2015
         },
         {
          "year_of_publication": 2012
         },
         {
          "year_of_publication": 2017
         },
         {
          "year_of_publication": 2014
         },
         {
          "year_of_publication": 2014
         },
         {
          "year_of_publication": 2014
         },
         {
          "year_of_publication": 2017
         },
         {
          "year_of_publication": 2014
         },
         {
          "year_of_publication": 2014
         },
         {
          "year_of_publication": 2015
         },
         {
          "year_of_publication": 2014
         },
         {
          "year_of_publication": 2016
         },
         {
          "year_of_publication": 2016
         },
         {
          "year_of_publication": 2017
         },
         {
          "year_of_publication": 2015
         },
         {
          "year_of_publication": 2015
         },
         {
          "year_of_publication": 2013
         },
         {
          "year_of_publication": 2016
         },
         {
          "year_of_publication": 2015
         },
         {
          "year_of_publication": 2017
         },
         {
          "year_of_publication": 2016
         },
         {
          "year_of_publication": 2013
         },
         {
          "year_of_publication": 2015
         },
         {
          "year_of_publication": 2017
         },
         {
          "year_of_publication": 2015
         },
         {
          "year_of_publication": 2012
         },
         {
          "year_of_publication": 2012
         },
         {
          "year_of_publication": 2016
         },
         {
          "year_of_publication": 2013
         },
         {
          "year_of_publication": 2017
         },
         {
          "year_of_publication": 2013
         },
         {
          "year_of_publication": 2013
         },
         {
          "year_of_publication": 2016
         },
         {
          "year_of_publication": 2015
         },
         {
          "year_of_publication": 2014
         },
         {
          "year_of_publication": 2015
         },
         {
          "year_of_publication": 2015
         },
         {
          "year_of_publication": 2015
         },
         {
          "year_of_publication": 2016
         },
         {
          "year_of_publication": 2015
         },
         {
          "year_of_publication": 2016
         },
         {
          "year_of_publication": 2015
         },
         {
          "year_of_publication": 2013
         },
         {
          "year_of_publication": 2013
         },
         {
          "year_of_publication": 2017
         },
         {
          "year_of_publication": 2017
         },
         {
          "year_of_publication": 2015
         },
         {
          "year_of_publication": 2014
         },
         {
          "year_of_publication": 2012
         },
         {
          "year_of_publication": 2014
         },
         {
          "year_of_publication": 2015
         },
         {
          "year_of_publication": 2012
         },
         {
          "year_of_publication": 2015
         },
         {
          "year_of_publication": 2013
         },
         {
          "year_of_publication": 2016
         },
         {
          "year_of_publication": 2016
         },
         {
          "year_of_publication": 2016
         },
         {
          "year_of_publication": 2014
         },
         {
          "year_of_publication": 2016
         },
         {
          "year_of_publication": 2013
         },
         {
          "year_of_publication": 2014
         },
         {
          "year_of_publication": 2016
         },
         {
          "year_of_publication": 2015
         },
         {
          "year_of_publication": 2014
         },
         {
          "year_of_publication": 2012
         },
         {
          "year_of_publication": 2014
         },
         {
          "year_of_publication": 2016
         },
         {
          "year_of_publication": 2015
         },
         {
          "year_of_publication": 2015
         },
         {
          "year_of_publication": 2017
         },
         {
          "year_of_publication": 2014
         },
         {
          "year_of_publication": 2016
         },
         {
          "year_of_publication": 2015
         },
         {
          "year_of_publication": 2015
         },
         {
          "year_of_publication": 2016
         },
         {
          "year_of_publication": 2014
         },
         {
          "year_of_publication": 2014
         },
         {
          "year_of_publication": 2014
         },
         {
          "year_of_publication": 2015
         },
         {
          "year_of_publication": 2015
         },
         {
          "year_of_publication": 2017
         },
         {
          "year_of_publication": 2013
         },
         {
          "year_of_publication": 2015
         },
         {
          "year_of_publication": 2014
         },
         {
          "year_of_publication": 2014
         },
         {
          "year_of_publication": 2013
         },
         {
          "year_of_publication": 2013
         },
         {
          "year_of_publication": 2016
         },
         {
          "year_of_publication": 2015
         },
         {
          "year_of_publication": 2014
         },
         {
          "year_of_publication": 2014
         },
         {
          "year_of_publication": 2013
         },
         {
          "year_of_publication": 2014
         },
         {
          "year_of_publication": 2014
         },
         {
          "year_of_publication": 2014
         },
         {
          "year_of_publication": 2017
         },
         {
          "year_of_publication": 2015
         },
         {
          "year_of_publication": 2012
         },
         {
          "year_of_publication": 2014
         },
         {
          "year_of_publication": 2012
         },
         {
          "year_of_publication": 2012
         },
         {
          "year_of_publication": 2015
         },
         {
          "year_of_publication": 2017
         },
         {
          "year_of_publication": 2013
         },
         {
          "year_of_publication": 2014
         },
         {
          "year_of_publication": 2013
         },
         {
          "year_of_publication": 2017
         },
         {
          "year_of_publication": 2017
         },
         {
          "year_of_publication": 2013
         },
         {
          "year_of_publication": 2014
         },
         {
          "year_of_publication": 2014
         },
         {
          "year_of_publication": 2016
         },
         {
          "year_of_publication": 2016
         },
         {
          "year_of_publication": 2013
         },
         {
          "year_of_publication": 2014
         },
         {
          "year_of_publication": 2013
         },
         {
          "year_of_publication": 2016
         },
         {
          "year_of_publication": 2017
         },
         {
          "year_of_publication": 2012
         },
         {
          "year_of_publication": 2015
         },
         {
          "year_of_publication": 2018
         },
         {
          "year_of_publication": 2015
         },
         {
          "year_of_publication": 2014
         },
         {
          "year_of_publication": 2018
         },
         {
          "year_of_publication": 2015
         },
         {
          "year_of_publication": 2014
         },
         {
          "year_of_publication": 2014
         },
         {
          "year_of_publication": 2012
         },
         {
          "year_of_publication": 2016
         },
         {
          "year_of_publication": 2015
         },
         {
          "year_of_publication": 2014
         },
         {
          "year_of_publication": 2015
         },
         {
          "year_of_publication": 2014
         },
         {
          "year_of_publication": 2018
         },
         {
          "year_of_publication": 2015
         },
         {
          "year_of_publication": 2014
         },
         {
          "year_of_publication": 2015
         },
         {
          "year_of_publication": 2016
         },
         {
          "year_of_publication": 2015
         },
         {
          "year_of_publication": 2016
         },
         {
          "year_of_publication": 2015
         },
         {
          "year_of_publication": 2014
         },
         {
          "year_of_publication": 2015
         },
         {
          "year_of_publication": 2014
         },
         {
          "year_of_publication": 2013
         },
         {
          "year_of_publication": 2014
         },
         {
          "year_of_publication": 2017
         },
         {
          "year_of_publication": 2012
         },
         {
          "year_of_publication": 2014
         },
         {
          "year_of_publication": 2013
         },
         {
          "year_of_publication": 2013
         },
         {
          "year_of_publication": 2017
         },
         {
          "year_of_publication": 2014
         },
         {
          "year_of_publication": 2015
         },
         {
          "year_of_publication": 2017
         },
         {
          "year_of_publication": 2016
         },
         {
          "year_of_publication": 2018
         },
         {
          "year_of_publication": 2016
         },
         {
          "year_of_publication": 2016
         },
         {
          "year_of_publication": 2012
         },
         {
          "year_of_publication": 2012
         },
         {
          "year_of_publication": 2018
         },
         {
          "year_of_publication": 2016
         },
         {
          "year_of_publication": 2015
         },
         {
          "year_of_publication": 2016
         },
         {
          "year_of_publication": 2012
         },
         {
          "year_of_publication": 2015
         },
         {
          "year_of_publication": 2013
         },
         {
          "year_of_publication": 2013
         },
         {
          "year_of_publication": 2016
         },
         {
          "year_of_publication": 2013
         },
         {
          "year_of_publication": 2014
         },
         {
          "year_of_publication": 2015
         },
         {
          "year_of_publication": 2016
         },
         {
          "year_of_publication": 2016
         },
         {
          "year_of_publication": 2015
         },
         {
          "year_of_publication": 2017
         },
         {
          "year_of_publication": 2017
         },
         {
          "year_of_publication": 2017
         },
         {
          "year_of_publication": 2017
         },
         {
          "year_of_publication": 2014
         },
         {
          "year_of_publication": 2018
         },
         {
          "year_of_publication": 2012
         },
         {
          "year_of_publication": 2015
         },
         {
          "year_of_publication": 2016
         },
         {
          "year_of_publication": 2015
         },
         {
          "year_of_publication": 2015
         },
         {
          "year_of_publication": 2013
         },
         {
          "year_of_publication": 2022
         },
         {
          "year_of_publication": 2014
         },
         {
          "year_of_publication": 2016
         },
         {
          "year_of_publication": 2017
         },
         {
          "year_of_publication": 2014
         },
         {
          "year_of_publication": 2014
         },
         {
          "year_of_publication": 2014
         },
         {
          "year_of_publication": 2013
         },
         {
          "year_of_publication": 2015
         },
         {
          "year_of_publication": 2013
         },
         {
          "year_of_publication": 2014
         },
         {
          "year_of_publication": 2013
         },
         {
          "year_of_publication": 2015
         },
         {
          "year_of_publication": 2016
         },
         {
          "year_of_publication": 2015
         },
         {
          "year_of_publication": 2015
         },
         {
          "year_of_publication": 2013
         },
         {
          "year_of_publication": 2012
         },
         {
          "year_of_publication": 2013
         },
         {
          "year_of_publication": 2013
         },
         {
          "year_of_publication": 2016
         },
         {
          "year_of_publication": 2012
         },
         {
          "year_of_publication": 2014
         },
         {
          "year_of_publication": 2015
         },
         {
          "year_of_publication": 2015
         },
         {
          "year_of_publication": 2014
         },
         {
          "year_of_publication": 2013
         },
         {
          "year_of_publication": 2012
         },
         {
          "year_of_publication": 2015
         },
         {
          "year_of_publication": 2016
         },
         {
          "year_of_publication": 2015
         },
         {
          "year_of_publication": 2015
         },
         {
          "year_of_publication": 2015
         },
         {
          "year_of_publication": 2017
         },
         {
          "year_of_publication": 2015
         },
         {
          "year_of_publication": 2014
         },
         {
          "year_of_publication": 2015
         },
         {
          "year_of_publication": 2014
         },
         {
          "year_of_publication": 2013
         },
         {
          "year_of_publication": 2013
         },
         {
          "year_of_publication": 2016
         },
         {
          "year_of_publication": 2015
         },
         {
          "year_of_publication": 2017
         },
         {
          "year_of_publication": 2015
         },
         {
          "year_of_publication": 2013
         },
         {
          "year_of_publication": 2015
         },
         {
          "year_of_publication": 2015
         },
         {
          "year_of_publication": 2015
         },
         {
          "year_of_publication": 2014
         },
         {
          "year_of_publication": 2013
         },
         {
          "year_of_publication": 2015
         },
         {
          "year_of_publication": 2016
         },
         {
          "year_of_publication": 2016
         },
         {
          "year_of_publication": 2015
         },
         {
          "year_of_publication": 2017
         },
         {
          "year_of_publication": 2016
         },
         {
          "year_of_publication": 2015
         },
         {
          "year_of_publication": 2014
         },
         {
          "year_of_publication": 2015
         },
         {
          "year_of_publication": 2016
         },
         {
          "year_of_publication": 2013
         },
         {
          "year_of_publication": 2017
         },
         {
          "year_of_publication": 2013
         },
         {
          "year_of_publication": 2013
         },
         {
          "year_of_publication": 2013
         },
         {
          "year_of_publication": 2012
         },
         {
          "year_of_publication": 2014
         },
         {
          "year_of_publication": 2014
         },
         {
          "year_of_publication": 2015
         },
         {
          "year_of_publication": 2014
         },
         {
          "year_of_publication": 2015
         },
         {
          "year_of_publication": 2015
         },
         {
          "year_of_publication": 2015
         },
         {
          "year_of_publication": 2014
         },
         {
          "year_of_publication": 2012
         },
         {
          "year_of_publication": 2013
         },
         {
          "year_of_publication": 2015
         },
         {
          "year_of_publication": 2015
         },
         {
          "year_of_publication": 2012
         },
         {
          "year_of_publication": 2012
         },
         {
          "year_of_publication": 2015
         },
         {
          "year_of_publication": 2015
         },
         {
          "year_of_publication": 2012
         },
         {
          "year_of_publication": 2015
         },
         {
          "year_of_publication": 2012
         },
         {
          "year_of_publication": 2017
         },
         {
          "year_of_publication": 2015
         },
         {
          "year_of_publication": 2018
         },
         {
          "year_of_publication": 2015
         },
         {
          "year_of_publication": 2014
         },
         {
          "year_of_publication": 2012
         },
         {
          "year_of_publication": 2014
         },
         {
          "year_of_publication": 2015
         },
         {
          "year_of_publication": 2012
         },
         {
          "year_of_publication": 2014
         },
         {
          "year_of_publication": 2015
         },
         {
          "year_of_publication": 2015
         },
         {
          "year_of_publication": 2015
         },
         {
          "year_of_publication": 2014
         },
         {
          "year_of_publication": 2012
         },
         {
          "year_of_publication": 2015
         },
         {
          "year_of_publication": 2012
         },
         {
          "year_of_publication": 2014
         },
         {
          "year_of_publication": 2014
         },
         {
          "year_of_publication": 2014
         },
         {
          "year_of_publication": 2015
         },
         {
          "year_of_publication": 2012
         },
         {
          "year_of_publication": 2017
         },
         {
          "year_of_publication": 2015
         },
         {
          "year_of_publication": 2013
         },
         {
          "year_of_publication": 2016
         },
         {
          "year_of_publication": 2013
         },
         {
          "year_of_publication": 2015
         },
         {
          "year_of_publication": 2013
         },
         {
          "year_of_publication": 2012
         },
         {
          "year_of_publication": 2013
         },
         {
          "year_of_publication": 2013
         },
         {
          "year_of_publication": 2012
         },
         {
          "year_of_publication": 2013
         },
         {
          "year_of_publication": 2016
         },
         {
          "year_of_publication": 2012
         },
         {
          "year_of_publication": 2014
         },
         {
          "year_of_publication": 2015
         },
         {
          "year_of_publication": 2014
         },
         {
          "year_of_publication": 2017
         },
         {
          "year_of_publication": 2013
         },
         {
          "year_of_publication": 2017
         },
         {
          "year_of_publication": 2013
         },
         {
          "year_of_publication": 2013
         },
         {
          "year_of_publication": 2015
         },
         {
          "year_of_publication": 2015
         },
         {
          "year_of_publication": 2015
         },
         {
          "year_of_publication": 2015
         },
         {
          "year_of_publication": 2013
         },
         {
          "year_of_publication": 2017
         },
         {
          "year_of_publication": 2015
         },
         {
          "year_of_publication": 2016
         },
         {
          "year_of_publication": 2015
         },
         {
          "year_of_publication": 2014
         },
         {
          "year_of_publication": 2014
         },
         {
          "year_of_publication": 2014
         },
         {
          "year_of_publication": 2012
         },
         {
          "year_of_publication": 2013
         },
         {
          "year_of_publication": 2016
         },
         {
          "year_of_publication": 2015
         },
         {
          "year_of_publication": 2015
         },
         {
          "year_of_publication": 2016
         },
         {
          "year_of_publication": 2014
         },
         {
          "year_of_publication": 2016
         },
         {
          "year_of_publication": 2014
         },
         {
          "year_of_publication": 2014
         },
         {
          "year_of_publication": 2016
         },
         {
          "year_of_publication": 2016
         },
         {
          "year_of_publication": 2013
         },
         {
          "year_of_publication": 2014
         },
         {
          "year_of_publication": 2013
         },
         {
          "year_of_publication": 2014
         },
         {
          "year_of_publication": 2015
         },
         {
          "year_of_publication": 2012
         },
         {
          "year_of_publication": 2013
         },
         {
          "year_of_publication": 2018
         },
         {
          "year_of_publication": 2012
         },
         {
          "year_of_publication": 2014
         },
         {
          "year_of_publication": 2015
         },
         {
          "year_of_publication": 2012
         },
         {
          "year_of_publication": 2017
         },
         {
          "year_of_publication": 2014
         },
         {
          "year_of_publication": 2015
         },
         {
          "year_of_publication": 2015
         },
         {
          "year_of_publication": 2014
         },
         {
          "year_of_publication": 2014
         },
         {
          "year_of_publication": 2015
         },
         {
          "year_of_publication": 2015
         },
         {
          "year_of_publication": 2016
         },
         {
          "year_of_publication": 2013
         },
         {
          "year_of_publication": 2016
         },
         {
          "year_of_publication": 2014
         },
         {
          "year_of_publication": 2018
         },
         {
          "year_of_publication": 2014
         },
         {
          "year_of_publication": 2016
         },
         {
          "year_of_publication": 2015
         },
         {
          "year_of_publication": 2014
         },
         {
          "year_of_publication": 2013
         },
         {
          "year_of_publication": 2016
         },
         {
          "year_of_publication": 2014
         },
         {
          "year_of_publication": 2014
         },
         {
          "year_of_publication": 2013
         },
         {
          "year_of_publication": 2014
         },
         {
          "year_of_publication": 2015
         },
         {
          "year_of_publication": 2015
         },
         {
          "year_of_publication": 2016
         },
         {
          "year_of_publication": 2016
         },
         {
          "year_of_publication": 2014
         },
         {
          "year_of_publication": 2013
         },
         {
          "year_of_publication": 2016
         },
         {
          "year_of_publication": 2012
         },
         {
          "year_of_publication": 2015
         },
         {
          "year_of_publication": 2013
         },
         {
          "year_of_publication": 2015
         },
         {
          "year_of_publication": 2014
         },
         {
          "year_of_publication": 2015
         },
         {
          "year_of_publication": 2015
         },
         {
          "year_of_publication": 2014
         },
         {
          "year_of_publication": 2015
         },
         {
          "year_of_publication": 2012
         },
         {
          "year_of_publication": 2012
         },
         {
          "year_of_publication": 2015
         },
         {
          "year_of_publication": 2014
         },
         {
          "year_of_publication": 2015
         },
         {
          "year_of_publication": 2014
         },
         {
          "year_of_publication": 2014
         },
         {
          "year_of_publication": 2013
         },
         {
          "year_of_publication": 2016
         },
         {
          "year_of_publication": 2014
         },
         {
          "year_of_publication": 2015
         },
         {
          "year_of_publication": 2014
         },
         {
          "year_of_publication": 2014
         },
         {
          "year_of_publication": 2014
         },
         {
          "year_of_publication": 2016
         },
         {
          "year_of_publication": 2016
         },
         {
          "year_of_publication": 2014
         },
         {
          "year_of_publication": 2016
         },
         {
          "year_of_publication": 2014
         },
         {
          "year_of_publication": 2015
         },
         {
          "year_of_publication": 2014
         },
         {
          "year_of_publication": 2015
         },
         {
          "year_of_publication": 2015
         },
         {
          "year_of_publication": 2016
         },
         {
          "year_of_publication": 2014
         },
         {
          "year_of_publication": 2015
         },
         {
          "year_of_publication": 2013
         },
         {
          "year_of_publication": 2015
         },
         {
          "year_of_publication": 2012
         },
         {
          "year_of_publication": 2012
         },
         {
          "year_of_publication": 2016
         },
         {
          "year_of_publication": 2012
         },
         {
          "year_of_publication": 2017
         },
         {
          "year_of_publication": 2017
         },
         {
          "year_of_publication": 2014
         },
         {
          "year_of_publication": 2013
         },
         {
          "year_of_publication": 2015
         },
         {
          "year_of_publication": 2012
         },
         {
          "year_of_publication": 2020
         },
         {
          "year_of_publication": 2014
         },
         {
          "year_of_publication": 2012
         },
         {
          "year_of_publication": 2014
         },
         {
          "year_of_publication": 2013
         },
         {
          "year_of_publication": 2012
         },
         {
          "year_of_publication": 2013
         },
         {
          "year_of_publication": 2012
         },
         {
          "year_of_publication": 2013
         },
         {
          "year_of_publication": 2012
         },
         {
          "year_of_publication": 2015
         },
         {
          "year_of_publication": 2015
         },
         {
          "year_of_publication": 2015
         },
         {
          "year_of_publication": 2014
         },
         {
          "year_of_publication": 2015
         },
         {
          "year_of_publication": 2016
         },
         {
          "year_of_publication": 2014
         },
         {
          "year_of_publication": 2015
         },
         {
          "year_of_publication": 2015
         },
         {
          "year_of_publication": 2014
         },
         {
          "year_of_publication": 2016
         },
         {
          "year_of_publication": 2012
         },
         {
          "year_of_publication": 2013
         },
         {
          "year_of_publication": 2013
         },
         {
          "year_of_publication": 2015
         },
         {
          "year_of_publication": 2015
         },
         {
          "year_of_publication": 2016
         },
         {
          "year_of_publication": 2015
         },
         {
          "year_of_publication": 2012
         },
         {
          "year_of_publication": 2013
         },
         {
          "year_of_publication": 2014
         },
         {
          "year_of_publication": 2015
         },
         {
          "year_of_publication": 2014
         },
         {
          "year_of_publication": 2013
         },
         {
          "year_of_publication": 2015
         },
         {
          "year_of_publication": 2014
         },
         {
          "year_of_publication": 2016
         },
         {
          "year_of_publication": 2014
         },
         {
          "year_of_publication": 2017
         },
         {
          "year_of_publication": 2014
         },
         {
          "year_of_publication": 2015
         },
         {
          "year_of_publication": 2015
         },
         {
          "year_of_publication": 2015
         },
         {
          "year_of_publication": 2014
         },
         {
          "year_of_publication": 2015
         },
         {
          "year_of_publication": 2014
         },
         {
          "year_of_publication": 2015
         },
         {
          "year_of_publication": 2014
         },
         {
          "year_of_publication": 2016
         },
         {
          "year_of_publication": 2019
         },
         {
          "year_of_publication": 2019
         },
         {
          "year_of_publication": 2016
         },
         {
          "year_of_publication": 2015
         },
         {
          "year_of_publication": 2014
         },
         {
          "year_of_publication": 2014
         },
         {
          "year_of_publication": 2016
         },
         {
          "year_of_publication": 2014
         },
         {
          "year_of_publication": 2014
         },
         {
          "year_of_publication": 2017
         },
         {
          "year_of_publication": 2012
         },
         {
          "year_of_publication": 2013
         },
         {
          "year_of_publication": 2012
         },
         {
          "year_of_publication": 2014
         },
         {
          "year_of_publication": 2016
         },
         {
          "year_of_publication": 2014
         },
         {
          "year_of_publication": 2013
         },
         {
          "year_of_publication": 2016
         },
         {
          "year_of_publication": 2012
         },
         {
          "year_of_publication": 2014
         },
         {
          "year_of_publication": 2015
         },
         {
          "year_of_publication": 2014
         },
         {
          "year_of_publication": 2012
         },
         {
          "year_of_publication": 2013
         },
         {
          "year_of_publication": 2014
         },
         {
          "year_of_publication": 2016
         },
         {
          "year_of_publication": 2013
         },
         {
          "year_of_publication": 2015
         },
         {
          "year_of_publication": 2014
         },
         {
          "year_of_publication": 2014
         },
         {
          "year_of_publication": 2015
         },
         {
          "year_of_publication": 2017
         },
         {
          "year_of_publication": 2013
         },
         {
          "year_of_publication": 2014
         },
         {
          "year_of_publication": 2016
         },
         {
          "year_of_publication": 2012
         },
         {
          "year_of_publication": 2012
         },
         {
          "year_of_publication": 2016
         },
         {
          "year_of_publication": 2015
         },
         {
          "year_of_publication": 2012
         },
         {
          "year_of_publication": 2014
         },
         {
          "year_of_publication": 2014
         },
         {
          "year_of_publication": 2016
         },
         {
          "year_of_publication": 2014
         },
         {
          "year_of_publication": 2013
         },
         {
          "year_of_publication": 2014
         },
         {
          "year_of_publication": 2013
         },
         {
          "year_of_publication": 2013
         },
         {
          "year_of_publication": 2016
         },
         {
          "year_of_publication": 2016
         },
         {
          "year_of_publication": 2013
         },
         {
          "year_of_publication": 2017
         },
         {
          "year_of_publication": 2012
         },
         {
          "year_of_publication": 2015
         },
         {
          "year_of_publication": 2015
         },
         {
          "year_of_publication": 2015
         },
         {
          "year_of_publication": 2015
         },
         {
          "year_of_publication": 2013
         },
         {
          "year_of_publication": 2016
         },
         {
          "year_of_publication": 2015
         },
         {
          "year_of_publication": 2016
         },
         {
          "year_of_publication": 2013
         },
         {
          "year_of_publication": 2014
         },
         {
          "year_of_publication": 2012
         },
         {
          "year_of_publication": 2015
         },
         {
          "year_of_publication": 2014
         },
         {
          "year_of_publication": 2017
         },
         {
          "year_of_publication": 2014
         },
         {
          "year_of_publication": 2017
         },
         {
          "year_of_publication": 2012
         },
         {
          "year_of_publication": 2013
         },
         {
          "year_of_publication": 2014
         },
         {
          "year_of_publication": 2015
         },
         {
          "year_of_publication": 2014
         },
         {
          "year_of_publication": 2018
         },
         {
          "year_of_publication": 2014
         },
         {
          "year_of_publication": 2014
         },
         {
          "year_of_publication": 2012
         },
         {
          "year_of_publication": 2013
         },
         {
          "year_of_publication": 2012
         },
         {
          "year_of_publication": 2015
         },
         {
          "year_of_publication": 2014
         },
         {
          "year_of_publication": 2012
         },
         {
          "year_of_publication": 2013
         },
         {
          "year_of_publication": 2016
         },
         {
          "year_of_publication": 2015
         },
         {
          "year_of_publication": 2012
         },
         {
          "year_of_publication": 2014
         },
         {
          "year_of_publication": 2013
         },
         {
          "year_of_publication": 2016
         },
         {
          "year_of_publication": 2015
         },
         {
          "year_of_publication": 2016
         },
         {
          "year_of_publication": 2015
         },
         {
          "year_of_publication": 2012
         },
         {
          "year_of_publication": 2014
         },
         {
          "year_of_publication": 2012
         },
         {
          "year_of_publication": 2016
         },
         {
          "year_of_publication": 2016
         },
         {
          "year_of_publication": 2012
         },
         {
          "year_of_publication": 2015
         },
         {
          "year_of_publication": 2015
         },
         {
          "year_of_publication": 2012
         },
         {
          "year_of_publication": 2014
         },
         {
          "year_of_publication": 2014
         },
         {
          "year_of_publication": 2016
         },
         {
          "year_of_publication": 2013
         },
         {
          "year_of_publication": 2015
         },
         {
          "year_of_publication": 2015
         },
         {
          "year_of_publication": 2012
         },
         {
          "year_of_publication": 2013
         },
         {
          "year_of_publication": 2014
         },
         {
          "year_of_publication": 2016
         },
         {
          "year_of_publication": 2016
         },
         {
          "year_of_publication": 2014
         },
         {
          "year_of_publication": 2015
         },
         {
          "year_of_publication": 2015
         },
         {
          "year_of_publication": 2014
         },
         {
          "year_of_publication": 2013
         },
         {
          "year_of_publication": 2018
         },
         {
          "year_of_publication": 2013
         },
         {
          "year_of_publication": 2012
         },
         {
          "year_of_publication": 2016
         },
         {
          "year_of_publication": 2015
         },
         {
          "year_of_publication": 2015
         },
         {
          "year_of_publication": 2014
         },
         {
          "year_of_publication": 2014
         },
         {
          "year_of_publication": 2015
         },
         {
          "year_of_publication": 2014
         },
         {
          "year_of_publication": 2013
         },
         {
          "year_of_publication": 2014
         },
         {
          "year_of_publication": 2017
         },
         {
          "year_of_publication": 2014
         },
         {
          "year_of_publication": 2014
         },
         {
          "year_of_publication": 2015
         },
         {
          "year_of_publication": 2012
         },
         {
          "year_of_publication": 2014
         },
         {
          "year_of_publication": 2015
         },
         {
          "year_of_publication": 2012
         },
         {
          "year_of_publication": 2013
         },
         {
          "year_of_publication": 2014
         },
         {
          "year_of_publication": 2015
         },
         {
          "year_of_publication": 2017
         },
         {
          "year_of_publication": 2015
         },
         {
          "year_of_publication": 2015
         },
         {
          "year_of_publication": 2014
         },
         {
          "year_of_publication": 2015
         },
         {
          "year_of_publication": 2014
         },
         {
          "year_of_publication": 2014
         },
         {
          "year_of_publication": 2012
         },
         {
          "year_of_publication": 2015
         },
         {
          "year_of_publication": 2016
         },
         {
          "year_of_publication": 2014
         },
         {
          "year_of_publication": 2012
         },
         {
          "year_of_publication": 2014
         },
         {
          "year_of_publication": 2013
         },
         {
          "year_of_publication": 2015
         },
         {
          "year_of_publication": 2015
         },
         {
          "year_of_publication": 2014
         },
         {
          "year_of_publication": 2014
         },
         {
          "year_of_publication": 2014
         },
         {
          "year_of_publication": 2014
         },
         {
          "year_of_publication": 2015
         },
         {
          "year_of_publication": 2017
         },
         {
          "year_of_publication": 2012
         },
         {
          "year_of_publication": 2015
         },
         {
          "year_of_publication": 2013
         },
         {
          "year_of_publication": 2014
         },
         {
          "year_of_publication": 2012
         },
         {
          "year_of_publication": 2015
         },
         {
          "year_of_publication": 2014
         },
         {
          "year_of_publication": 2015
         },
         {
          "year_of_publication": 2012
         },
         {
          "year_of_publication": 2015
         },
         {
          "year_of_publication": 2014
         },
         {
          "year_of_publication": 2014
         },
         {
          "year_of_publication": 2016
         },
         {
          "year_of_publication": 2015
         },
         {
          "year_of_publication": 2014
         },
         {
          "year_of_publication": 2013
         },
         {
          "year_of_publication": 2014
         },
         {
          "year_of_publication": 2014
         },
         {
          "year_of_publication": 2015
         },
         {
          "year_of_publication": 2017
         },
         {
          "year_of_publication": 2012
         },
         {
          "year_of_publication": 2017
         },
         {
          "year_of_publication": 2012
         },
         {
          "year_of_publication": 2016
         },
         {
          "year_of_publication": 2014
         },
         {
          "year_of_publication": 2015
         },
         {
          "year_of_publication": 2017
         },
         {
          "year_of_publication": 2014
         },
         {
          "year_of_publication": 2013
         },
         {
          "year_of_publication": 2015
         },
         {
          "year_of_publication": 2016
         },
         {
          "year_of_publication": 2014
         },
         {
          "year_of_publication": 2015
         },
         {
          "year_of_publication": 2016
         },
         {
          "year_of_publication": 2014
         },
         {
          "year_of_publication": 2012
         },
         {
          "year_of_publication": 2012
         },
         {
          "year_of_publication": 2015
         },
         {
          "year_of_publication": 2016
         },
         {
          "year_of_publication": 2016
         },
         {
          "year_of_publication": 2014
         },
         {
          "year_of_publication": 2015
         },
         {
          "year_of_publication": 2014
         },
         {
          "year_of_publication": 2014
         },
         {
          "year_of_publication": 2015
         },
         {
          "year_of_publication": 2019
         },
         {
          "year_of_publication": 2015
         },
         {
          "year_of_publication": 2015
         },
         {
          "year_of_publication": 2018
         },
         {
          "year_of_publication": 2016
         },
         {
          "year_of_publication": 2012
         },
         {
          "year_of_publication": 2015
         },
         {
          "year_of_publication": 2013
         },
         {
          "year_of_publication": 2017
         },
         {
          "year_of_publication": 2014
         },
         {
          "year_of_publication": 2015
         },
         {
          "year_of_publication": 2012
         },
         {
          "year_of_publication": 2014
         },
         {
          "year_of_publication": 2014
         },
         {
          "year_of_publication": 2013
         },
         {
          "year_of_publication": 2014
         },
         {
          "year_of_publication": 2012
         },
         {
          "year_of_publication": 2012
         },
         {
          "year_of_publication": 2013
         },
         {
          "year_of_publication": 2015
         },
         {
          "year_of_publication": 2015
         },
         {
          "year_of_publication": 2016
         },
         {
          "year_of_publication": 2013
         },
         {
          "year_of_publication": 2015
         },
         {
          "year_of_publication": 2015
         },
         {
          "year_of_publication": 2016
         },
         {
          "year_of_publication": 2015
         },
         {
          "year_of_publication": 2013
         },
         {
          "year_of_publication": 2016
         },
         {
          "year_of_publication": 2016
         },
         {
          "year_of_publication": 2017
         },
         {
          "year_of_publication": 2012
         },
         {
          "year_of_publication": 2015
         },
         {
          "year_of_publication": 2013
         },
         {
          "year_of_publication": 2013
         },
         {
          "year_of_publication": 2012
         },
         {
          "year_of_publication": 2016
         },
         {
          "year_of_publication": 2012
         },
         {
          "year_of_publication": 2016
         },
         {
          "year_of_publication": 2014
         },
         {
          "year_of_publication": 2014
         },
         {
          "year_of_publication": 2014
         },
         {
          "year_of_publication": 2015
         },
         {
          "year_of_publication": 2012
         },
         {
          "year_of_publication": 2015
         },
         {
          "year_of_publication": 2014
         },
         {
          "year_of_publication": 2016
         },
         {
          "year_of_publication": 2014
         },
         {
          "year_of_publication": 2013
         },
         {
          "year_of_publication": 2016
         },
         {
          "year_of_publication": 2015
         },
         {
          "year_of_publication": 2015
         },
         {
          "year_of_publication": 2015
         },
         {
          "year_of_publication": 2016
         },
         {
          "year_of_publication": 2013
         },
         {
          "year_of_publication": 2017
         },
         {
          "year_of_publication": 2015
         },
         {
          "year_of_publication": 2015
         },
         {
          "year_of_publication": 2013
         },
         {
          "year_of_publication": 2015
         },
         {
          "year_of_publication": 2013
         },
         {
          "year_of_publication": 2015
         },
         {
          "year_of_publication": 2016
         },
         {
          "year_of_publication": 2014
         },
         {
          "year_of_publication": 2016
         },
         {
          "year_of_publication": 2016
         },
         {
          "year_of_publication": 2013
         },
         {
          "year_of_publication": 2012
         },
         {
          "year_of_publication": 2016
         },
         {
          "year_of_publication": 2015
         },
         {
          "year_of_publication": 2014
         },
         {
          "year_of_publication": 2015
         },
         {
          "year_of_publication": 2016
         },
         {
          "year_of_publication": 2016
         },
         {
          "year_of_publication": 2014
         },
         {
          "year_of_publication": 2014
         },
         {
          "year_of_publication": 2016
         },
         {
          "year_of_publication": 2012
         },
         {
          "year_of_publication": 2013
         },
         {
          "year_of_publication": 2014
         },
         {
          "year_of_publication": 2016
         },
         {
          "year_of_publication": 2014
         },
         {
          "year_of_publication": 2015
         },
         {
          "year_of_publication": 2012
         },
         {
          "year_of_publication": 2015
         },
         {
          "year_of_publication": 2014
         },
         {
          "year_of_publication": 2015
         },
         {
          "year_of_publication": 2013
         },
         {
          "year_of_publication": 2015
         },
         {
          "year_of_publication": 2013
         },
         {
          "year_of_publication": 2015
         },
         {
          "year_of_publication": 2016
         },
         {
          "year_of_publication": 2014
         },
         {
          "year_of_publication": 2014
         },
         {
          "year_of_publication": 2015
         },
         {
          "year_of_publication": 2016
         },
         {
          "year_of_publication": 2016
         },
         {
          "year_of_publication": 2015
         },
         {
          "year_of_publication": 2015
         },
         {
          "year_of_publication": 2017
         },
         {
          "year_of_publication": 2015
         },
         {
          "year_of_publication": 2014
         },
         {
          "year_of_publication": 2014
         },
         {
          "year_of_publication": 2015
         },
         {
          "year_of_publication": 2015
         },
         {
          "year_of_publication": 2014
         },
         {
          "year_of_publication": 2013
         },
         {
          "year_of_publication": 2015
         },
         {
          "year_of_publication": 2015
         },
         {
          "year_of_publication": 2016
         },
         {
          "year_of_publication": 2016
         },
         {
          "year_of_publication": 2016
         },
         {
          "year_of_publication": 2015
         },
         {
          "year_of_publication": 2013
         },
         {
          "year_of_publication": 2012
         },
         {
          "year_of_publication": 2014
         },
         {
          "year_of_publication": 2016
         },
         {
          "year_of_publication": 2022
         },
         {
          "year_of_publication": 2017
         },
         {
          "year_of_publication": 2014
         },
         {
          "year_of_publication": 2016
         },
         {
          "year_of_publication": 2015
         },
         {
          "year_of_publication": 2015
         },
         {
          "year_of_publication": 2014
         },
         {
          "year_of_publication": 2015
         },
         {
          "year_of_publication": 2016
         },
         {
          "year_of_publication": 2016
         },
         {
          "year_of_publication": 2015
         },
         {
          "year_of_publication": 2015
         },
         {
          "year_of_publication": 2012
         },
         {
          "year_of_publication": 2013
         },
         {
          "year_of_publication": 2013
         },
         {
          "year_of_publication": 2012
         },
         {
          "year_of_publication": 2012
         },
         {
          "year_of_publication": 2015
         },
         {
          "year_of_publication": 2013
         },
         {
          "year_of_publication": 2014
         },
         {
          "year_of_publication": 2015
         },
         {
          "year_of_publication": 2018
         },
         {
          "year_of_publication": 2017
         },
         {
          "year_of_publication": 2014
         },
         {
          "year_of_publication": 2012
         },
         {
          "year_of_publication": 2015
         },
         {
          "year_of_publication": 2017
         },
         {
          "year_of_publication": 2015
         },
         {
          "year_of_publication": 2016
         },
         {
          "year_of_publication": 2014
         },
         {
          "year_of_publication": 2014
         },
         {
          "year_of_publication": 2015
         },
         {
          "year_of_publication": 2015
         },
         {
          "year_of_publication": 2016
         },
         {
          "year_of_publication": 2015
         },
         {
          "year_of_publication": 2013
         },
         {
          "year_of_publication": 2014
         },
         {
          "year_of_publication": 2012
         },
         {
          "year_of_publication": 2017
         },
         {
          "year_of_publication": 2013
         },
         {
          "year_of_publication": 2014
         },
         {
          "year_of_publication": 2015
         },
         {
          "year_of_publication": 2013
         },
         {
          "year_of_publication": 2015
         },
         {
          "year_of_publication": 2013
         },
         {
          "year_of_publication": 2016
         },
         {
          "year_of_publication": 2018
         },
         {
          "year_of_publication": 2013
         },
         {
          "year_of_publication": 2016
         },
         {
          "year_of_publication": 2015
         },
         {
          "year_of_publication": 2013
         },
         {
          "year_of_publication": 2013
         },
         {
          "year_of_publication": 2014
         },
         {
          "year_of_publication": 2017
         },
         {
          "year_of_publication": 2015
         },
         {
          "year_of_publication": 2014
         },
         {
          "year_of_publication": 2016
         },
         {
          "year_of_publication": 2014
         },
         {
          "year_of_publication": 2014
         },
         {
          "year_of_publication": 2015
         },
         {
          "year_of_publication": 2014
         },
         {
          "year_of_publication": 2015
         },
         {
          "year_of_publication": 2017
         },
         {
          "year_of_publication": 2013
         },
         {
          "year_of_publication": 2014
         },
         {
          "year_of_publication": 2014
         },
         {
          "year_of_publication": 2014
         },
         {
          "year_of_publication": 2017
         },
         {
          "year_of_publication": 2016
         },
         {
          "year_of_publication": 2013
         },
         {
          "year_of_publication": 2014
         },
         {
          "year_of_publication": 2015
         },
         {
          "year_of_publication": 2014
         },
         {
          "year_of_publication": 2015
         },
         {
          "year_of_publication": 2016
         },
         {
          "year_of_publication": 2013
         },
         {
          "year_of_publication": 2013
         },
         {
          "year_of_publication": 2016
         },
         {
          "year_of_publication": 2013
         },
         {
          "year_of_publication": 2014
         },
         {
          "year_of_publication": 2017
         },
         {
          "year_of_publication": 2016
         },
         {
          "year_of_publication": 2015
         },
         {
          "year_of_publication": 2013
         },
         {
          "year_of_publication": 2014
         },
         {
          "year_of_publication": 2012
         },
         {
          "year_of_publication": 2015
         },
         {
          "year_of_publication": 2015
         },
         {
          "year_of_publication": 2014
         },
         {
          "year_of_publication": 2017
         },
         {
          "year_of_publication": 2015
         },
         {
          "year_of_publication": 2012
         },
         {
          "year_of_publication": 2012
         },
         {
          "year_of_publication": 2014
         },
         {
          "year_of_publication": 2012
         },
         {
          "year_of_publication": 2017
         },
         {
          "year_of_publication": 2015
         },
         {
          "year_of_publication": 2015
         },
         {
          "year_of_publication": 2014
         },
         {
          "year_of_publication": 2015
         },
         {
          "year_of_publication": 2012
         },
         {
          "year_of_publication": 2015
         },
         {
          "year_of_publication": 2014
         },
         {
          "year_of_publication": 2016
         },
         {
          "year_of_publication": 2014
         },
         {
          "year_of_publication": 2016
         },
         {
          "year_of_publication": 2015
         },
         {
          "year_of_publication": 2016
         },
         {
          "year_of_publication": 2016
         },
         {
          "year_of_publication": 2015
         },
         {
          "year_of_publication": 2016
         },
         {
          "year_of_publication": 2015
         },
         {
          "year_of_publication": 2015
         },
         {
          "year_of_publication": 2018
         },
         {
          "year_of_publication": 2013
         },
         {
          "year_of_publication": 2015
         },
         {
          "year_of_publication": 2014
         },
         {
          "year_of_publication": 2014
         },
         {
          "year_of_publication": 2018
         },
         {
          "year_of_publication": 2015
         },
         {
          "year_of_publication": 2015
         },
         {
          "year_of_publication": 2014
         },
         {
          "year_of_publication": 2013
         },
         {
          "year_of_publication": 2015
         },
         {
          "year_of_publication": 2015
         },
         {
          "year_of_publication": 2013
         },
         {
          "year_of_publication": 2014
         },
         {
          "year_of_publication": 2013
         },
         {
          "year_of_publication": 2012
         },
         {
          "year_of_publication": 2013
         },
         {
          "year_of_publication": 2015
         },
         {
          "year_of_publication": 2017
         },
         {
          "year_of_publication": 2016
         },
         {
          "year_of_publication": 2012
         },
         {
          "year_of_publication": 2013
         },
         {
          "year_of_publication": 2014
         },
         {
          "year_of_publication": 2016
         },
         {
          "year_of_publication": 2014
         },
         {
          "year_of_publication": 2012
         },
         {
          "year_of_publication": 2015
         },
         {
          "year_of_publication": 2016
         },
         {
          "year_of_publication": 2014
         },
         {
          "year_of_publication": 2013
         },
         {
          "year_of_publication": 2015
         },
         {
          "year_of_publication": 2015
         },
         {
          "year_of_publication": 2014
         },
         {
          "year_of_publication": 2012
         },
         {
          "year_of_publication": 2016
         },
         {
          "year_of_publication": 2013
         },
         {
          "year_of_publication": 2015
         },
         {
          "year_of_publication": 2014
         },
         {
          "year_of_publication": 2014
         },
         {
          "year_of_publication": 2014
         },
         {
          "year_of_publication": 2014
         },
         {
          "year_of_publication": 2015
         },
         {
          "year_of_publication": 2014
         },
         {
          "year_of_publication": 2013
         },
         {
          "year_of_publication": 2016
         },
         {
          "year_of_publication": 2015
         },
         {
          "year_of_publication": 2012
         },
         {
          "year_of_publication": 2014
         },
         {
          "year_of_publication": 2015
         },
         {
          "year_of_publication": 2015
         },
         {
          "year_of_publication": 2013
         },
         {
          "year_of_publication": 2012
         },
         {
          "year_of_publication": 2014
         },
         {
          "year_of_publication": 2013
         },
         {
          "year_of_publication": 2015
         },
         {
          "year_of_publication": 2016
         },
         {
          "year_of_publication": 2013
         },
         {
          "year_of_publication": 2014
         },
         {
          "year_of_publication": 2015
         },
         {
          "year_of_publication": 2012
         },
         {
          "year_of_publication": 2015
         },
         {
          "year_of_publication": 2013
         },
         {
          "year_of_publication": 2013
         },
         {
          "year_of_publication": 2016
         },
         {
          "year_of_publication": 2013
         },
         {
          "year_of_publication": 2012
         },
         {
          "year_of_publication": 2013
         },
         {
          "year_of_publication": 2013
         },
         {
          "year_of_publication": 2012
         },
         {
          "year_of_publication": 2014
         },
         {
          "year_of_publication": 2015
         },
         {
          "year_of_publication": 2015
         },
         {
          "year_of_publication": 2021
         },
         {
          "year_of_publication": 2013
         },
         {
          "year_of_publication": 2013
         },
         {
          "year_of_publication": 2015
         },
         {
          "year_of_publication": 2015
         },
         {
          "year_of_publication": 2014
         },
         {
          "year_of_publication": 2015
         },
         {
          "year_of_publication": 2016
         },
         {
          "year_of_publication": 2015
         },
         {
          "year_of_publication": 2013
         },
         {
          "year_of_publication": 2014
         },
         {
          "year_of_publication": 2015
         },
         {
          "year_of_publication": 2013
         },
         {
          "year_of_publication": 2017
         },
         {
          "year_of_publication": 2013
         },
         {
          "year_of_publication": 2015
         },
         {
          "year_of_publication": 2012
         },
         {
          "year_of_publication": 2015
         },
         {
          "year_of_publication": 2017
         },
         {
          "year_of_publication": 2016
         },
         {
          "year_of_publication": 2016
         },
         {
          "year_of_publication": 2016
         },
         {
          "year_of_publication": 2016
         },
         {
          "year_of_publication": 2015
         },
         {
          "year_of_publication": 2017
         },
         {
          "year_of_publication": 2016
         },
         {
          "year_of_publication": 2015
         },
         {
          "year_of_publication": 2014
         },
         {
          "year_of_publication": 2013
         },
         {
          "year_of_publication": 2015
         },
         {
          "year_of_publication": 2015
         },
         {
          "year_of_publication": 2014
         },
         {
          "year_of_publication": 2014
         },
         {
          "year_of_publication": 2012
         },
         {
          "year_of_publication": 2016
         },
         {
          "year_of_publication": 2015
         },
         {
          "year_of_publication": 2015
         },
         {
          "year_of_publication": 2015
         },
         {
          "year_of_publication": 2014
         },
         {
          "year_of_publication": 2016
         },
         {
          "year_of_publication": 2012
         },
         {
          "year_of_publication": 2015
         },
         {
          "year_of_publication": 2014
         },
         {
          "year_of_publication": 2013
         },
         {
          "year_of_publication": 2014
         },
         {
          "year_of_publication": 2013
         },
         {
          "year_of_publication": 2016
         },
         {
          "year_of_publication": 2014
         },
         {
          "year_of_publication": 2015
         },
         {
          "year_of_publication": 2015
         },
         {
          "year_of_publication": 2014
         },
         {
          "year_of_publication": 2015
         },
         {
          "year_of_publication": 2015
         },
         {
          "year_of_publication": 2013
         },
         {
          "year_of_publication": 2015
         },
         {
          "year_of_publication": 2014
         },
         {
          "year_of_publication": 2013
         },
         {
          "year_of_publication": 2014
         },
         {
          "year_of_publication": 2014
         },
         {
          "year_of_publication": 2016
         },
         {
          "year_of_publication": 2014
         },
         {
          "year_of_publication": 2012
         },
         {
          "year_of_publication": 2013
         },
         {
          "year_of_publication": 2015
         },
         {
          "year_of_publication": 2012
         },
         {
          "year_of_publication": 2014
         },
         {
          "year_of_publication": 2015
         },
         {
          "year_of_publication": 2014
         },
         {
          "year_of_publication": 2016
         },
         {
          "year_of_publication": 2014
         },
         {
          "year_of_publication": 2014
         },
         {
          "year_of_publication": 2015
         },
         {
          "year_of_publication": 2016
         },
         {
          "year_of_publication": 2014
         },
         {
          "year_of_publication": 2013
         },
         {
          "year_of_publication": 2014
         },
         {
          "year_of_publication": 2013
         },
         {
          "year_of_publication": 2016
         },
         {
          "year_of_publication": 2016
         },
         {
          "year_of_publication": 2016
         },
         {
          "year_of_publication": 2014
         },
         {
          "year_of_publication": 2013
         },
         {
          "year_of_publication": 2015
         },
         {
          "year_of_publication": 2016
         },
         {
          "year_of_publication": 2012
         },
         {
          "year_of_publication": 2017
         },
         {
          "year_of_publication": 2015
         },
         {
          "year_of_publication": 2012
         },
         {
          "year_of_publication": 2014
         },
         {
          "year_of_publication": 2013
         },
         {
          "year_of_publication": 2017
         },
         {
          "year_of_publication": 2016
         },
         {
          "year_of_publication": 2015
         },
         {
          "year_of_publication": 2015
         },
         {
          "year_of_publication": 2015
         },
         {
          "year_of_publication": 2015
         },
         {
          "year_of_publication": 2012
         },
         {
          "year_of_publication": 2015
         },
         {
          "year_of_publication": 2014
         },
         {
          "year_of_publication": 2015
         },
         {
          "year_of_publication": 2016
         },
         {
          "year_of_publication": 2015
         },
         {
          "year_of_publication": 2015
         },
         {
          "year_of_publication": 2014
         },
         {
          "year_of_publication": 2013
         },
         {
          "year_of_publication": 2014
         },
         {
          "year_of_publication": 2013
         },
         {
          "year_of_publication": 2015
         },
         {
          "year_of_publication": 2016
         },
         {
          "year_of_publication": 2015
         },
         {
          "year_of_publication": 2012
         },
         {
          "year_of_publication": 2013
         },
         {
          "year_of_publication": 2016
         },
         {
          "year_of_publication": 2014
         },
         {
          "year_of_publication": 2015
         },
         {
          "year_of_publication": 2012
         },
         {
          "year_of_publication": 2016
         },
         {
          "year_of_publication": 2014
         },
         {
          "year_of_publication": 2014
         },
         {
          "year_of_publication": 2012
         },
         {
          "year_of_publication": 2015
         },
         {
          "year_of_publication": 2015
         },
         {
          "year_of_publication": 2014
         },
         {
          "year_of_publication": 2015
         },
         {
          "year_of_publication": 2015
         },
         {
          "year_of_publication": 2018
         },
         {
          "year_of_publication": 2017
         },
         {
          "year_of_publication": 2014
         },
         {
          "year_of_publication": 2014
         },
         {
          "year_of_publication": 2013
         },
         {
          "year_of_publication": 2016
         },
         {
          "year_of_publication": 2013
         },
         {
          "year_of_publication": 2015
         },
         {
          "year_of_publication": 2016
         },
         {
          "year_of_publication": 2015
         },
         {
          "year_of_publication": 2015
         },
         {
          "year_of_publication": 2015
         },
         {
          "year_of_publication": 2013
         },
         {
          "year_of_publication": 2014
         },
         {
          "year_of_publication": 2012
         },
         {
          "year_of_publication": 2016
         },
         {
          "year_of_publication": 2016
         },
         {
          "year_of_publication": 2017
         },
         {
          "year_of_publication": 2013
         },
         {
          "year_of_publication": 2015
         },
         {
          "year_of_publication": 2015
         },
         {
          "year_of_publication": 2015
         },
         {
          "year_of_publication": 2012
         },
         {
          "year_of_publication": 2016
         },
         {
          "year_of_publication": 2014
         },
         {
          "year_of_publication": 2016
         },
         {
          "year_of_publication": 2016
         },
         {
          "year_of_publication": 2015
         },
         {
          "year_of_publication": 2014
         },
         {
          "year_of_publication": 2014
         },
         {
          "year_of_publication": 2015
         },
         {
          "year_of_publication": 2013
         },
         {
          "year_of_publication": 2014
         },
         {
          "year_of_publication": 2017
         },
         {
          "year_of_publication": 2015
         },
         {
          "year_of_publication": 2015
         },
         {
          "year_of_publication": 2013
         },
         {
          "year_of_publication": 2018
         },
         {
          "year_of_publication": 2014
         },
         {
          "year_of_publication": 2014
         },
         {
          "year_of_publication": 2015
         },
         {
          "year_of_publication": 2013
         },
         {
          "year_of_publication": 2017
         },
         {
          "year_of_publication": 2015
         },
         {
          "year_of_publication": 2014
         },
         {
          "year_of_publication": 2012
         },
         {
          "year_of_publication": 2016
         },
         {
          "year_of_publication": 2014
         },
         {
          "year_of_publication": 2015
         },
         {
          "year_of_publication": 2015
         },
         {
          "year_of_publication": 2015
         },
         {
          "year_of_publication": 2014
         },
         {
          "year_of_publication": 2015
         },
         {
          "year_of_publication": 2016
         },
         {
          "year_of_publication": 2014
         },
         {
          "year_of_publication": 2015
         },
         {
          "year_of_publication": 2014
         },
         {
          "year_of_publication": 2012
         },
         {
          "year_of_publication": 2012
         },
         {
          "year_of_publication": 2014
         },
         {
          "year_of_publication": 2012
         },
         {
          "year_of_publication": 2014
         },
         {
          "year_of_publication": 2014
         },
         {
          "year_of_publication": 2015
         },
         {
          "year_of_publication": 2015
         },
         {
          "year_of_publication": 2015
         },
         {
          "year_of_publication": 2014
         },
         {
          "year_of_publication": 2014
         },
         {
          "year_of_publication": 2014
         },
         {
          "year_of_publication": 2013
         },
         {
          "year_of_publication": 2014
         },
         {
          "year_of_publication": 2014
         },
         {
          "year_of_publication": 2015
         },
         {
          "year_of_publication": 2016
         },
         {
          "year_of_publication": 2013
         },
         {
          "year_of_publication": 2017
         },
         {
          "year_of_publication": 2012
         },
         {
          "year_of_publication": 2016
         },
         {
          "year_of_publication": 2012
         },
         {
          "year_of_publication": 2017
         },
         {
          "year_of_publication": 2012
         },
         {
          "year_of_publication": 2014
         },
         {
          "year_of_publication": 2017
         },
         {
          "year_of_publication": 2016
         },
         {
          "year_of_publication": 2014
         },
         {
          "year_of_publication": 2014
         },
         {
          "year_of_publication": 2015
         },
         {
          "year_of_publication": 2015
         },
         {
          "year_of_publication": 2017
         },
         {
          "year_of_publication": 2014
         },
         {
          "year_of_publication": 2015
         },
         {
          "year_of_publication": 2014
         },
         {
          "year_of_publication": 2012
         },
         {
          "year_of_publication": 2013
         },
         {
          "year_of_publication": 2013
         },
         {
          "year_of_publication": 2015
         },
         {
          "year_of_publication": 2015
         },
         {
          "year_of_publication": 2015
         },
         {
          "year_of_publication": 2016
         },
         {
          "year_of_publication": 2014
         },
         {
          "year_of_publication": 2015
         },
         {
          "year_of_publication": 2015
         },
         {
          "year_of_publication": 2015
         },
         {
          "year_of_publication": 2013
         },
         {
          "year_of_publication": 2014
         },
         {
          "year_of_publication": 2017
         },
         {
          "year_of_publication": 2017
         },
         {
          "year_of_publication": 2016
         },
         {
          "year_of_publication": 2016
         },
         {
          "year_of_publication": 2012
         },
         {
          "year_of_publication": 2017
         },
         {
          "year_of_publication": 2012
         },
         {
          "year_of_publication": 2013
         },
         {
          "year_of_publication": 2012
         },
         {
          "year_of_publication": 2016
         },
         {
          "year_of_publication": 2017
         },
         {
          "year_of_publication": 2016
         },
         {
          "year_of_publication": 2015
         },
         {
          "year_of_publication": 2014
         },
         {
          "year_of_publication": 2015
         },
         {
          "year_of_publication": 2017
         },
         {
          "year_of_publication": 2014
         },
         {
          "year_of_publication": 2016
         },
         {
          "year_of_publication": 2015
         },
         {
          "year_of_publication": 2012
         },
         {
          "year_of_publication": 2014
         },
         {
          "year_of_publication": 2016
         },
         {
          "year_of_publication": 2012
         },
         {
          "year_of_publication": 2015
         },
         {
          "year_of_publication": 2015
         },
         {
          "year_of_publication": 2015
         },
         {
          "year_of_publication": 2015
         },
         {
          "year_of_publication": 2016
         },
         {
          "year_of_publication": 2014
         },
         {
          "year_of_publication": 2017
         },
         {
          "year_of_publication": 2015
         },
         {
          "year_of_publication": 2017
         },
         {
          "year_of_publication": 2013
         },
         {
          "year_of_publication": 2014
         },
         {
          "year_of_publication": 2013
         },
         {
          "year_of_publication": 2015
         },
         {
          "year_of_publication": 2012
         },
         {
          "year_of_publication": 2015
         },
         {
          "year_of_publication": 2015
         },
         {
          "year_of_publication": 2012
         },
         {
          "year_of_publication": 2015
         },
         {
          "year_of_publication": 2018
         },
         {
          "year_of_publication": 2014
         },
         {
          "year_of_publication": 2014
         },
         {
          "year_of_publication": 2016
         },
         {
          "year_of_publication": 2015
         },
         {
          "year_of_publication": 2015
         },
         {
          "year_of_publication": 2015
         },
         {
          "year_of_publication": 2017
         },
         {
          "year_of_publication": 2013
         },
         {
          "year_of_publication": 2015
         },
         {
          "year_of_publication": 2015
         },
         {
          "year_of_publication": 2014
         },
         {
          "year_of_publication": 2017
         },
         {
          "year_of_publication": 2017
         },
         {
          "year_of_publication": 2014
         },
         {
          "year_of_publication": 2012
         },
         {
          "year_of_publication": 2015
         },
         {
          "year_of_publication": 2015
         },
         {
          "year_of_publication": 2015
         },
         {
          "year_of_publication": 2013
         },
         {
          "year_of_publication": 2017
         },
         {
          "year_of_publication": 2012
         },
         {
          "year_of_publication": 2015
         },
         {
          "year_of_publication": 2014
         },
         {
          "year_of_publication": 2016
         },
         {
          "year_of_publication": 2014
         },
         {
          "year_of_publication": 2016
         },
         {
          "year_of_publication": 2016
         },
         {
          "year_of_publication": 2013
         },
         {
          "year_of_publication": 2016
         },
         {
          "year_of_publication": 2012
         },
         {
          "year_of_publication": 2015
         },
         {
          "year_of_publication": 2016
         },
         {
          "year_of_publication": 2012
         },
         {
          "year_of_publication": 2014
         },
         {
          "year_of_publication": 2017
         },
         {
          "year_of_publication": 2014
         },
         {
          "year_of_publication": 2015
         },
         {
          "year_of_publication": 2014
         },
         {
          "year_of_publication": 2015
         },
         {
          "year_of_publication": 2015
         },
         {
          "year_of_publication": 2015
         },
         {
          "year_of_publication": 2014
         },
         {
          "year_of_publication": 2014
         },
         {
          "year_of_publication": 2015
         },
         {
          "year_of_publication": 2012
         },
         {
          "year_of_publication": 2014
         },
         {
          "year_of_publication": 2012
         },
         {
          "year_of_publication": 2016
         },
         {
          "year_of_publication": 2016
         },
         {
          "year_of_publication": 2014
         },
         {
          "year_of_publication": 2012
         },
         {
          "year_of_publication": 2018
         },
         {
          "year_of_publication": 2013
         },
         {
          "year_of_publication": 2016
         },
         {
          "year_of_publication": 2015
         },
         {
          "year_of_publication": 2012
         },
         {
          "year_of_publication": 2014
         },
         {
          "year_of_publication": 2016
         },
         {
          "year_of_publication": 2012
         },
         {
          "year_of_publication": 2012
         },
         {
          "year_of_publication": 2012
         },
         {
          "year_of_publication": 2014
         },
         {
          "year_of_publication": 2013
         },
         {
          "year_of_publication": 2017
         },
         {
          "year_of_publication": 2015
         },
         {
          "year_of_publication": 2014
         },
         {
          "year_of_publication": 2013
         },
         {
          "year_of_publication": 2017
         },
         {
          "year_of_publication": 2017
         },
         {
          "year_of_publication": 2014
         },
         {
          "year_of_publication": 2016
         },
         {
          "year_of_publication": 2015
         },
         {
          "year_of_publication": 2012
         },
         {
          "year_of_publication": 2016
         },
         {
          "year_of_publication": 2014
         },
         {
          "year_of_publication": 2013
         },
         {
          "year_of_publication": 2015
         },
         {
          "year_of_publication": 2016
         },
         {
          "year_of_publication": 2016
         },
         {
          "year_of_publication": 2012
         },
         {
          "year_of_publication": 2016
         },
         {
          "year_of_publication": 2014
         },
         {
          "year_of_publication": 2012
         },
         {
          "year_of_publication": 2013
         },
         {
          "year_of_publication": 2014
         },
         {
          "year_of_publication": 2014
         },
         {
          "year_of_publication": 2015
         },
         {
          "year_of_publication": 2012
         },
         {
          "year_of_publication": 2015
         },
         {
          "year_of_publication": 2013
         },
         {
          "year_of_publication": 2014
         },
         {
          "year_of_publication": 2015
         },
         {
          "year_of_publication": 2013
         },
         {
          "year_of_publication": 2017
         },
         {
          "year_of_publication": 2012
         },
         {
          "year_of_publication": 2017
         },
         {
          "year_of_publication": 2013
         },
         {
          "year_of_publication": 2014
         },
         {
          "year_of_publication": 2013
         },
         {
          "year_of_publication": 2014
         },
         {
          "year_of_publication": 2014
         },
         {
          "year_of_publication": 2013
         },
         {
          "year_of_publication": 2016
         },
         {
          "year_of_publication": 2014
         },
         {
          "year_of_publication": 2014
         },
         {
          "year_of_publication": 2012
         },
         {
          "year_of_publication": 2016
         },
         {
          "year_of_publication": 2016
         },
         {
          "year_of_publication": 2013
         },
         {
          "year_of_publication": 2014
         },
         {
          "year_of_publication": 2015
         },
         {
          "year_of_publication": 2016
         },
         {
          "year_of_publication": 2018
         },
         {
          "year_of_publication": 2015
         },
         {
          "year_of_publication": 2015
         },
         {
          "year_of_publication": 2013
         },
         {
          "year_of_publication": 2015
         },
         {
          "year_of_publication": 2014
         },
         {
          "year_of_publication": 2014
         },
         {
          "year_of_publication": 2014
         },
         {
          "year_of_publication": 2012
         },
         {
          "year_of_publication": 2015
         },
         {
          "year_of_publication": 2015
         },
         {
          "year_of_publication": 2016
         },
         {
          "year_of_publication": 2012
         },
         {
          "year_of_publication": 2015
         },
         {
          "year_of_publication": 2015
         },
         {
          "year_of_publication": 2015
         },
         {
          "year_of_publication": 2015
         },
         {
          "year_of_publication": 2014
         },
         {
          "year_of_publication": 2014
         },
         {
          "year_of_publication": 2013
         },
         {
          "year_of_publication": 2014
         },
         {
          "year_of_publication": 2014
         },
         {
          "year_of_publication": 2012
         },
         {
          "year_of_publication": 2016
         },
         {
          "year_of_publication": 2012
         },
         {
          "year_of_publication": 2012
         },
         {
          "year_of_publication": 2014
         },
         {
          "year_of_publication": 2016
         },
         {
          "year_of_publication": 2016
         },
         {
          "year_of_publication": 2022
         },
         {
          "year_of_publication": 2014
         },
         {
          "year_of_publication": 2015
         },
         {
          "year_of_publication": 2018
         },
         {
          "year_of_publication": 2014
         },
         {
          "year_of_publication": 2016
         },
         {
          "year_of_publication": 2015
         },
         {
          "year_of_publication": 2012
         },
         {
          "year_of_publication": 2015
         },
         {
          "year_of_publication": 2015
         },
         {
          "year_of_publication": 2013
         },
         {
          "year_of_publication": 2014
         },
         {
          "year_of_publication": 2016
         },
         {
          "year_of_publication": 2017
         },
         {
          "year_of_publication": 2012
         },
         {
          "year_of_publication": 2015
         },
         {
          "year_of_publication": 2015
         },
         {
          "year_of_publication": 2013
         },
         {
          "year_of_publication": 2015
         },
         {
          "year_of_publication": 2012
         },
         {
          "year_of_publication": 2016
         },
         {
          "year_of_publication": 2014
         },
         {
          "year_of_publication": 2017
         },
         {
          "year_of_publication": 2015
         },
         {
          "year_of_publication": 2013
         },
         {
          "year_of_publication": 2015
         },
         {
          "year_of_publication": 2015
         },
         {
          "year_of_publication": 2015
         },
         {
          "year_of_publication": 2012
         },
         {
          "year_of_publication": 2015
         },
         {
          "year_of_publication": 2017
         },
         {
          "year_of_publication": 2014
         },
         {
          "year_of_publication": 2015
         },
         {
          "year_of_publication": 2013
         },
         {
          "year_of_publication": 2013
         },
         {
          "year_of_publication": 2016
         },
         {
          "year_of_publication": 2017
         },
         {
          "year_of_publication": 2014
         },
         {
          "year_of_publication": 2017
         },
         {
          "year_of_publication": 2013
         },
         {
          "year_of_publication": 2016
         },
         {
          "year_of_publication": 2016
         },
         {
          "year_of_publication": 2013
         },
         {
          "year_of_publication": 2014
         },
         {
          "year_of_publication": 2015
         },
         {
          "year_of_publication": 2014
         },
         {
          "year_of_publication": 2013
         },
         {
          "year_of_publication": 2015
         },
         {
          "year_of_publication": 2015
         },
         {
          "year_of_publication": 2013
         },
         {
          "year_of_publication": 2014
         },
         {
          "year_of_publication": 2016
         },
         {
          "year_of_publication": 2015
         },
         {
          "year_of_publication": 2013
         },
         {
          "year_of_publication": 2014
         },
         {
          "year_of_publication": 2014
         },
         {
          "year_of_publication": 2014
         },
         {
          "year_of_publication": 2012
         },
         {
          "year_of_publication": 2014
         },
         {
          "year_of_publication": 2012
         },
         {
          "year_of_publication": 2017
         },
         {
          "year_of_publication": 2015
         },
         {
          "year_of_publication": 2014
         },
         {
          "year_of_publication": 2013
         },
         {
          "year_of_publication": 2014
         },
         {
          "year_of_publication": 2017
         },
         {
          "year_of_publication": 2012
         },
         {
          "year_of_publication": 2016
         },
         {
          "year_of_publication": 2014
         },
         {
          "year_of_publication": 2013
         },
         {
          "year_of_publication": 2012
         },
         {
          "year_of_publication": 2015
         },
         {
          "year_of_publication": 2014
         },
         {
          "year_of_publication": 2016
         },
         {
          "year_of_publication": 2012
         },
         {
          "year_of_publication": 2016
         },
         {
          "year_of_publication": 2015
         },
         {
          "year_of_publication": 2015
         },
         {
          "year_of_publication": 2014
         },
         {
          "year_of_publication": 2017
         },
         {
          "year_of_publication": 2015
         },
         {
          "year_of_publication": 2013
         },
         {
          "year_of_publication": 2014
         },
         {
          "year_of_publication": 2012
         },
         {
          "year_of_publication": 2018
         },
         {
          "year_of_publication": 2016
         },
         {
          "year_of_publication": 2013
         },
         {
          "year_of_publication": 2015
         },
         {
          "year_of_publication": 2016
         },
         {
          "year_of_publication": 2014
         },
         {
          "year_of_publication": 2015
         },
         {
          "year_of_publication": 2017
         },
         {
          "year_of_publication": 2013
         },
         {
          "year_of_publication": 2012
         },
         {
          "year_of_publication": 2015
         },
         {
          "year_of_publication": 2012
         },
         {
          "year_of_publication": 2014
         },
         {
          "year_of_publication": 2015
         },
         {
          "year_of_publication": 2014
         },
         {
          "year_of_publication": 2015
         },
         {
          "year_of_publication": 2014
         },
         {
          "year_of_publication": 2013
         },
         {
          "year_of_publication": 2017
         },
         {
          "year_of_publication": 2015
         },
         {
          "year_of_publication": 2013
         },
         {
          "year_of_publication": 2015
         },
         {
          "year_of_publication": 2017
         },
         {
          "year_of_publication": 2015
         },
         {
          "year_of_publication": 2012
         },
         {
          "year_of_publication": 2016
         },
         {
          "year_of_publication": 2015
         },
         {
          "year_of_publication": 2013
         },
         {
          "year_of_publication": 2015
         },
         {
          "year_of_publication": 2018
         },
         {
          "year_of_publication": 2013
         },
         {
          "year_of_publication": 2012
         },
         {
          "year_of_publication": 2014
         },
         {
          "year_of_publication": 2015
         },
         {
          "year_of_publication": 2012
         },
         {
          "year_of_publication": 2012
         },
         {
          "year_of_publication": 2015
         },
         {
          "year_of_publication": 2014
         },
         {
          "year_of_publication": 2013
         },
         {
          "year_of_publication": 2016
         },
         {
          "year_of_publication": 2014
         },
         {
          "year_of_publication": 2016
         },
         {
          "year_of_publication": 2015
         },
         {
          "year_of_publication": 2014
         },
         {
          "year_of_publication": 2012
         },
         {
          "year_of_publication": 2013
         },
         {
          "year_of_publication": 2012
         },
         {
          "year_of_publication": 2015
         },
         {
          "year_of_publication": 2013
         },
         {
          "year_of_publication": 2015
         },
         {
          "year_of_publication": 2019
         },
         {
          "year_of_publication": 2013
         },
         {
          "year_of_publication": 2015
         },
         {
          "year_of_publication": 2014
         },
         {
          "year_of_publication": 2012
         },
         {
          "year_of_publication": 2014
         },
         {
          "year_of_publication": 2013
         },
         {
          "year_of_publication": 2012
         },
         {
          "year_of_publication": 2017
         },
         {
          "year_of_publication": 2015
         },
         {
          "year_of_publication": 2014
         },
         {
          "year_of_publication": 2014
         },
         {
          "year_of_publication": 2015
         },
         {
          "year_of_publication": 2015
         },
         {
          "year_of_publication": 2016
         },
         {
          "year_of_publication": 2014
         },
         {
          "year_of_publication": 2016
         },
         {
          "year_of_publication": 2014
         },
         {
          "year_of_publication": 2014
         },
         {
          "year_of_publication": 2015
         },
         {
          "year_of_publication": 2013
         },
         {
          "year_of_publication": 2016
         },
         {
          "year_of_publication": 2012
         },
         {
          "year_of_publication": 2015
         },
         {
          "year_of_publication": 2015
         },
         {
          "year_of_publication": 2014
         },
         {
          "year_of_publication": 2016
         },
         {
          "year_of_publication": 2016
         },
         {
          "year_of_publication": 2016
         },
         {
          "year_of_publication": 2014
         },
         {
          "year_of_publication": 2016
         },
         {
          "year_of_publication": 2014
         },
         {
          "year_of_publication": 2015
         },
         {
          "year_of_publication": 2017
         },
         {
          "year_of_publication": 2015
         },
         {
          "year_of_publication": 2014
         },
         {
          "year_of_publication": 2018
         },
         {
          "year_of_publication": 2014
         },
         {
          "year_of_publication": 2012
         },
         {
          "year_of_publication": 2015
         },
         {
          "year_of_publication": 2013
         },
         {
          "year_of_publication": 2016
         },
         {
          "year_of_publication": 2015
         },
         {
          "year_of_publication": 2014
         },
         {
          "year_of_publication": 2016
         },
         {
          "year_of_publication": 2014
         },
         {
          "year_of_publication": 2017
         },
         {
          "year_of_publication": 2013
         },
         {
          "year_of_publication": 2016
         },
         {
          "year_of_publication": 2014
         },
         {
          "year_of_publication": 2012
         },
         {
          "year_of_publication": 2017
         },
         {
          "year_of_publication": 2017
         },
         {
          "year_of_publication": 2017
         },
         {
          "year_of_publication": 2015
         },
         {
          "year_of_publication": 2015
         },
         {
          "year_of_publication": 2015
         },
         {
          "year_of_publication": 2012
         },
         {
          "year_of_publication": 2015
         },
         {
          "year_of_publication": 2014
         },
         {
          "year_of_publication": 2015
         },
         {
          "year_of_publication": 2015
         },
         {
          "year_of_publication": 2012
         },
         {
          "year_of_publication": 2012
         },
         {
          "year_of_publication": 2018
         },
         {
          "year_of_publication": 2016
         },
         {
          "year_of_publication": 2014
         },
         {
          "year_of_publication": 2015
         },
         {
          "year_of_publication": 2012
         },
         {
          "year_of_publication": 2016
         },
         {
          "year_of_publication": 2015
         },
         {
          "year_of_publication": 2017
         },
         {
          "year_of_publication": 2017
         },
         {
          "year_of_publication": 2015
         },
         {
          "year_of_publication": 2012
         },
         {
          "year_of_publication": 2015
         },
         {
          "year_of_publication": 2015
         },
         {
          "year_of_publication": 2014
         },
         {
          "year_of_publication": 2015
         },
         {
          "year_of_publication": 2014
         },
         {
          "year_of_publication": 2012
         },
         {
          "year_of_publication": 2016
         },
         {
          "year_of_publication": 2015
         },
         {
          "year_of_publication": 2015
         },
         {
          "year_of_publication": 2015
         },
         {
          "year_of_publication": 2013
         },
         {
          "year_of_publication": 2014
         },
         {
          "year_of_publication": 2015
         },
         {
          "year_of_publication": 2014
         },
         {
          "year_of_publication": 2014
         },
         {
          "year_of_publication": 2016
         },
         {
          "year_of_publication": 2015
         },
         {
          "year_of_publication": 2012
         },
         {
          "year_of_publication": 2016
         },
         {
          "year_of_publication": 2015
         },
         {
          "year_of_publication": 2017
         },
         {
          "year_of_publication": 2013
         },
         {
          "year_of_publication": 2014
         },
         {
          "year_of_publication": 2014
         },
         {
          "year_of_publication": 2013
         },
         {
          "year_of_publication": 2012
         },
         {
          "year_of_publication": 2012
         },
         {
          "year_of_publication": 2013
         },
         {
          "year_of_publication": 2012
         },
         {
          "year_of_publication": 2016
         },
         {
          "year_of_publication": 2017
         },
         {
          "year_of_publication": 2014
         },
         {
          "year_of_publication": 2015
         },
         {
          "year_of_publication": 2015
         },
         {
          "year_of_publication": 2014
         },
         {
          "year_of_publication": 2013
         },
         {
          "year_of_publication": 2012
         },
         {
          "year_of_publication": 2015
         },
         {
          "year_of_publication": 2016
         },
         {
          "year_of_publication": 2014
         },
         {
          "year_of_publication": 2016
         },
         {
          "year_of_publication": 2013
         },
         {
          "year_of_publication": 2015
         },
         {
          "year_of_publication": 2016
         },
         {
          "year_of_publication": 2015
         },
         {
          "year_of_publication": 2013
         },
         {
          "year_of_publication": 2015
         },
         {
          "year_of_publication": 2013
         },
         {
          "year_of_publication": 2013
         },
         {
          "year_of_publication": 2015
         },
         {
          "year_of_publication": 2014
         },
         {
          "year_of_publication": 2014
         },
         {
          "year_of_publication": 2013
         },
         {
          "year_of_publication": 2016
         },
         {
          "year_of_publication": 2013
         },
         {
          "year_of_publication": 2016
         },
         {
          "year_of_publication": 2015
         },
         {
          "year_of_publication": 2017
         },
         {
          "year_of_publication": 2014
         },
         {
          "year_of_publication": 2016
         },
         {
          "year_of_publication": 2013
         },
         {
          "year_of_publication": 2014
         },
         {
          "year_of_publication": 2012
         },
         {
          "year_of_publication": 2015
         },
         {
          "year_of_publication": 2017
         },
         {
          "year_of_publication": 2013
         },
         {
          "year_of_publication": 2014
         },
         {
          "year_of_publication": 2016
         },
         {
          "year_of_publication": 2014
         },
         {
          "year_of_publication": 2016
         },
         {
          "year_of_publication": 2014
         },
         {
          "year_of_publication": 2015
         },
         {
          "year_of_publication": 2016
         },
         {
          "year_of_publication": 2015
         },
         {
          "year_of_publication": 2016
         },
         {
          "year_of_publication": 2015
         },
         {
          "year_of_publication": 2017
         },
         {
          "year_of_publication": 2012
         },
         {
          "year_of_publication": 2014
         },
         {
          "year_of_publication": 2014
         },
         {
          "year_of_publication": 2015
         },
         {
          "year_of_publication": 2015
         },
         {
          "year_of_publication": 2015
         },
         {
          "year_of_publication": 2012
         },
         {
          "year_of_publication": 2016
         },
         {
          "year_of_publication": 2012
         },
         {
          "year_of_publication": 2014
         },
         {
          "year_of_publication": 2016
         },
         {
          "year_of_publication": 2015
         },
         {
          "year_of_publication": 2015
         },
         {
          "year_of_publication": 2015
         },
         {
          "year_of_publication": 2017
         },
         {
          "year_of_publication": 2014
         },
         {
          "year_of_publication": 2014
         },
         {
          "year_of_publication": 2016
         },
         {
          "year_of_publication": 2012
         },
         {
          "year_of_publication": 2015
         },
         {
          "year_of_publication": 2015
         },
         {
          "year_of_publication": 2012
         },
         {
          "year_of_publication": 2016
         },
         {
          "year_of_publication": 2014
         },
         {
          "year_of_publication": 2013
         },
         {
          "year_of_publication": 2014
         },
         {
          "year_of_publication": 2016
         },
         {
          "year_of_publication": 2012
         },
         {
          "year_of_publication": 2017
         },
         {
          "year_of_publication": 2016
         },
         {
          "year_of_publication": 2016
         },
         {
          "year_of_publication": 2012
         },
         {
          "year_of_publication": 2015
         },
         {
          "year_of_publication": 2015
         },
         {
          "year_of_publication": 2015
         },
         {
          "year_of_publication": 2014
         },
         {
          "year_of_publication": 2016
         },
         {
          "year_of_publication": 2015
         },
         {
          "year_of_publication": 2014
         },
         {
          "year_of_publication": 2014
         },
         {
          "year_of_publication": 2013
         },
         {
          "year_of_publication": 2014
         },
         {
          "year_of_publication": 2014
         },
         {
          "year_of_publication": 2014
         },
         {
          "year_of_publication": 2015
         },
         {
          "year_of_publication": 2015
         },
         {
          "year_of_publication": 2016
         },
         {
          "year_of_publication": 2016
         },
         {
          "year_of_publication": 2015
         },
         {
          "year_of_publication": 2013
         },
         {
          "year_of_publication": 2017
         },
         {
          "year_of_publication": 2016
         },
         {
          "year_of_publication": 2015
         },
         {
          "year_of_publication": 2016
         },
         {
          "year_of_publication": 2013
         },
         {
          "year_of_publication": 2015
         },
         {
          "year_of_publication": 2013
         },
         {
          "year_of_publication": 2014
         },
         {
          "year_of_publication": 2014
         },
         {
          "year_of_publication": 2017
         },
         {
          "year_of_publication": 2013
         },
         {
          "year_of_publication": 2016
         },
         {
          "year_of_publication": 2014
         },
         {
          "year_of_publication": 2013
         },
         {
          "year_of_publication": 2015
         },
         {
          "year_of_publication": 2013
         },
         {
          "year_of_publication": 2016
         },
         {
          "year_of_publication": 2014
         },
         {
          "year_of_publication": 2014
         },
         {
          "year_of_publication": 2014
         },
         {
          "year_of_publication": 2013
         },
         {
          "year_of_publication": 2015
         },
         {
          "year_of_publication": 2014
         },
         {
          "year_of_publication": 2015
         },
         {
          "year_of_publication": 2015
         },
         {
          "year_of_publication": 2016
         },
         {
          "year_of_publication": 2015
         },
         {
          "year_of_publication": 2014
         },
         {
          "year_of_publication": 2016
         },
         {
          "year_of_publication": 2017
         },
         {
          "year_of_publication": 2012
         },
         {
          "year_of_publication": 2014
         },
         {
          "year_of_publication": 2014
         },
         {
          "year_of_publication": 2016
         },
         {
          "year_of_publication": 2012
         },
         {
          "year_of_publication": 2016
         },
         {
          "year_of_publication": 2014
         },
         {
          "year_of_publication": 2017
         },
         {
          "year_of_publication": 2014
         },
         {
          "year_of_publication": 2015
         },
         {
          "year_of_publication": 2016
         },
         {
          "year_of_publication": 2016
         },
         {
          "year_of_publication": 2015
         },
         {
          "year_of_publication": 2014
         },
         {
          "year_of_publication": 2015
         },
         {
          "year_of_publication": 2014
         },
         {
          "year_of_publication": 2016
         },
         {
          "year_of_publication": 2014
         },
         {
          "year_of_publication": 2015
         },
         {
          "year_of_publication": 2013
         },
         {
          "year_of_publication": 2012
         },
         {
          "year_of_publication": 2012
         },
         {
          "year_of_publication": 2022
         },
         {
          "year_of_publication": 2014
         },
         {
          "year_of_publication": 2016
         },
         {
          "year_of_publication": 2015
         },
         {
          "year_of_publication": 2013
         },
         {
          "year_of_publication": 2013
         },
         {
          "year_of_publication": 2013
         },
         {
          "year_of_publication": 2015
         },
         {
          "year_of_publication": 2012
         },
         {
          "year_of_publication": 2015
         },
         {
          "year_of_publication": 2015
         },
         {
          "year_of_publication": 2014
         },
         {
          "year_of_publication": 2015
         },
         {
          "year_of_publication": 2015
         },
         {
          "year_of_publication": 2015
         },
         {
          "year_of_publication": 2016
         },
         {
          "year_of_publication": 2015
         },
         {
          "year_of_publication": 2015
         },
         {
          "year_of_publication": 2017
         },
         {
          "year_of_publication": 2014
         },
         {
          "year_of_publication": 2014
         },
         {
          "year_of_publication": 2015
         },
         {
          "year_of_publication": 2012
         },
         {
          "year_of_publication": 2013
         },
         {
          "year_of_publication": 2014
         },
         {
          "year_of_publication": 2012
         },
         {
          "year_of_publication": 2016
         },
         {
          "year_of_publication": 2015
         },
         {
          "year_of_publication": 2013
         },
         {
          "year_of_publication": 2015
         },
         {
          "year_of_publication": 2014
         },
         {
          "year_of_publication": 2012
         },
         {
          "year_of_publication": 2015
         },
         {
          "year_of_publication": 2016
         },
         {
          "year_of_publication": 2013
         },
         {
          "year_of_publication": 2015
         },
         {
          "year_of_publication": 2014
         },
         {
          "year_of_publication": 2017
         },
         {
          "year_of_publication": 2014
         },
         {
          "year_of_publication": 2012
         },
         {
          "year_of_publication": 2013
         },
         {
          "year_of_publication": 2014
         },
         {
          "year_of_publication": 2015
         },
         {
          "year_of_publication": 2014
         },
         {
          "year_of_publication": 2015
         },
         {
          "year_of_publication": 2015
         },
         {
          "year_of_publication": 2014
         },
         {
          "year_of_publication": 2015
         },
         {
          "year_of_publication": 2014
         },
         {
          "year_of_publication": 2012
         },
         {
          "year_of_publication": 2016
         },
         {
          "year_of_publication": 2014
         },
         {
          "year_of_publication": 2016
         },
         {
          "year_of_publication": 2015
         },
         {
          "year_of_publication": 2015
         },
         {
          "year_of_publication": 2016
         },
         {
          "year_of_publication": 2013
         },
         {
          "year_of_publication": 2012
         },
         {
          "year_of_publication": 2013
         },
         {
          "year_of_publication": 2014
         },
         {
          "year_of_publication": 2012
         },
         {
          "year_of_publication": 2014
         },
         {
          "year_of_publication": 2013
         },
         {
          "year_of_publication": 2014
         },
         {
          "year_of_publication": 2017
         },
         {
          "year_of_publication": 2014
         },
         {
          "year_of_publication": 2016
         },
         {
          "year_of_publication": 2012
         },
         {
          "year_of_publication": 2013
         },
         {
          "year_of_publication": 2015
         },
         {
          "year_of_publication": 2016
         },
         {
          "year_of_publication": 2013
         },
         {
          "year_of_publication": 2016
         },
         {
          "year_of_publication": 2015
         },
         {
          "year_of_publication": 2016
         },
         {
          "year_of_publication": 2015
         },
         {
          "year_of_publication": 2015
         },
         {
          "year_of_publication": 2015
         },
         {
          "year_of_publication": 2017
         },
         {
          "year_of_publication": 2013
         },
         {
          "year_of_publication": 2021
         },
         {
          "year_of_publication": 2015
         },
         {
          "year_of_publication": 2014
         },
         {
          "year_of_publication": 2014
         },
         {
          "year_of_publication": 2015
         },
         {
          "year_of_publication": 2015
         },
         {
          "year_of_publication": 2016
         },
         {
          "year_of_publication": 2017
         },
         {
          "year_of_publication": 2014
         },
         {
          "year_of_publication": 2014
         },
         {
          "year_of_publication": 2012
         },
         {
          "year_of_publication": 2013
         },
         {
          "year_of_publication": 2013
         },
         {
          "year_of_publication": 2013
         },
         {
          "year_of_publication": 2013
         },
         {
          "year_of_publication": 2016
         },
         {
          "year_of_publication": 2015
         },
         {
          "year_of_publication": 2013
         },
         {
          "year_of_publication": 2016
         },
         {
          "year_of_publication": 2014
         },
         {
          "year_of_publication": 2015
         },
         {
          "year_of_publication": 2014
         },
         {
          "year_of_publication": 2014
         },
         {
          "year_of_publication": 2015
         },
         {
          "year_of_publication": 2014
         },
         {
          "year_of_publication": 2016
         },
         {
          "year_of_publication": 2014
         },
         {
          "year_of_publication": 2015
         },
         {
          "year_of_publication": 2016
         },
         {
          "year_of_publication": 2016
         },
         {
          "year_of_publication": 2015
         },
         {
          "year_of_publication": 2014
         },
         {
          "year_of_publication": 2015
         },
         {
          "year_of_publication": 2015
         },
         {
          "year_of_publication": 2016
         },
         {
          "year_of_publication": 2015
         },
         {
          "year_of_publication": 2015
         },
         {
          "year_of_publication": 2016
         },
         {
          "year_of_publication": 2013
         },
         {
          "year_of_publication": 2015
         },
         {
          "year_of_publication": 2012
         },
         {
          "year_of_publication": 2016
         },
         {
          "year_of_publication": 2014
         },
         {
          "year_of_publication": 2014
         },
         {
          "year_of_publication": 2013
         },
         {
          "year_of_publication": 2014
         },
         {
          "year_of_publication": 2013
         },
         {
          "year_of_publication": 2012
         },
         {
          "year_of_publication": 2015
         },
         {
          "year_of_publication": 2015
         },
         {
          "year_of_publication": 2017
         },
         {
          "year_of_publication": 2018
         },
         {
          "year_of_publication": 2015
         },
         {
          "year_of_publication": 2016
         },
         {
          "year_of_publication": 2015
         },
         {
          "year_of_publication": 2013
         },
         {
          "year_of_publication": 2013
         },
         {
          "year_of_publication": 2015
         },
         {
          "year_of_publication": 2014
         },
         {
          "year_of_publication": 2012
         },
         {
          "year_of_publication": 2016
         },
         {
          "year_of_publication": 2012
         },
         {
          "year_of_publication": 2022
         },
         {
          "year_of_publication": 2014
         },
         {
          "year_of_publication": 2014
         },
         {
          "year_of_publication": 2016
         },
         {
          "year_of_publication": 2012
         },
         {
          "year_of_publication": 2015
         },
         {
          "year_of_publication": 2012
         },
         {
          "year_of_publication": 2016
         },
         {
          "year_of_publication": 2014
         },
         {
          "year_of_publication": 2013
         },
         {
          "year_of_publication": 2015
         },
         {
          "year_of_publication": 2014
         },
         {
          "year_of_publication": 2014
         },
         {
          "year_of_publication": 2016
         },
         {
          "year_of_publication": 2017
         },
         {
          "year_of_publication": 2017
         },
         {
          "year_of_publication": 2014
         },
         {
          "year_of_publication": 2015
         },
         {
          "year_of_publication": 2013
         },
         {
          "year_of_publication": 2014
         },
         {
          "year_of_publication": 2015
         },
         {
          "year_of_publication": 2016
         },
         {
          "year_of_publication": 2015
         },
         {
          "year_of_publication": 2016
         },
         {
          "year_of_publication": 2015
         },
         {
          "year_of_publication": 2014
         },
         {
          "year_of_publication": 2015
         },
         {
          "year_of_publication": 2014
         },
         {
          "year_of_publication": 2012
         },
         {
          "year_of_publication": 2015
         },
         {
          "year_of_publication": 2013
         },
         {
          "year_of_publication": 2013
         },
         {
          "year_of_publication": 2013
         },
         {
          "year_of_publication": 2015
         },
         {
          "year_of_publication": 2012
         },
         {
          "year_of_publication": 2014
         },
         {
          "year_of_publication": 2015
         },
         {
          "year_of_publication": 2017
         },
         {
          "year_of_publication": 2012
         },
         {
          "year_of_publication": 2014
         },
         {
          "year_of_publication": 2013
         },
         {
          "year_of_publication": 2016
         },
         {
          "year_of_publication": 2014
         },
         {
          "year_of_publication": 2014
         },
         {
          "year_of_publication": 2014
         },
         {
          "year_of_publication": 2013
         },
         {
          "year_of_publication": 2017
         },
         {
          "year_of_publication": 2014
         },
         {
          "year_of_publication": 2013
         },
         {
          "year_of_publication": 2015
         },
         {
          "year_of_publication": 2012
         },
         {
          "year_of_publication": 2015
         },
         {
          "year_of_publication": 2014
         },
         {
          "year_of_publication": 2015
         },
         {
          "year_of_publication": 2015
         },
         {
          "year_of_publication": 2017
         },
         {
          "year_of_publication": 2016
         },
         {
          "year_of_publication": 2013
         },
         {
          "year_of_publication": 2013
         },
         {
          "year_of_publication": 2017
         },
         {
          "year_of_publication": 2016
         },
         {
          "year_of_publication": 2013
         },
         {
          "year_of_publication": 2014
         },
         {
          "year_of_publication": 2015
         },
         {
          "year_of_publication": 2012
         },
         {
          "year_of_publication": 2016
         },
         {
          "year_of_publication": 2014
         },
         {
          "year_of_publication": 2013
         },
         {
          "year_of_publication": 2012
         },
         {
          "year_of_publication": 2012
         },
         {
          "year_of_publication": 2012
         },
         {
          "year_of_publication": 2016
         },
         {
          "year_of_publication": 2013
         },
         {
          "year_of_publication": 2016
         },
         {
          "year_of_publication": 2014
         },
         {
          "year_of_publication": 2013
         },
         {
          "year_of_publication": 2013
         },
         {
          "year_of_publication": 2016
         },
         {
          "year_of_publication": 2015
         },
         {
          "year_of_publication": 2015
         },
         {
          "year_of_publication": 2017
         },
         {
          "year_of_publication": 2016
         },
         {
          "year_of_publication": 2016
         },
         {
          "year_of_publication": 2015
         },
         {
          "year_of_publication": 2015
         },
         {
          "year_of_publication": 2017
         },
         {
          "year_of_publication": 2015
         },
         {
          "year_of_publication": 2014
         },
         {
          "year_of_publication": 2016
         },
         {
          "year_of_publication": 2013
         },
         {
          "year_of_publication": 2014
         },
         {
          "year_of_publication": 2013
         },
         {
          "year_of_publication": 2017
         },
         {
          "year_of_publication": 2015
         },
         {
          "year_of_publication": 2016
         },
         {
          "year_of_publication": 2014
         },
         {
          "year_of_publication": 2016
         },
         {
          "year_of_publication": 2014
         },
         {
          "year_of_publication": 2016
         },
         {
          "year_of_publication": 2014
         },
         {
          "year_of_publication": 2018
         },
         {
          "year_of_publication": 2015
         },
         {
          "year_of_publication": 2014
         },
         {
          "year_of_publication": 2015
         },
         {
          "year_of_publication": 2016
         },
         {
          "year_of_publication": 2015
         },
         {
          "year_of_publication": 2014
         },
         {
          "year_of_publication": 2012
         },
         {
          "year_of_publication": 2014
         },
         {
          "year_of_publication": 2016
         },
         {
          "year_of_publication": 2014
         },
         {
          "year_of_publication": 2014
         },
         {
          "year_of_publication": 2015
         },
         {
          "year_of_publication": 2015
         },
         {
          "year_of_publication": 2015
         },
         {
          "year_of_publication": 2016
         },
         {
          "year_of_publication": 2013
         },
         {
          "year_of_publication": 2012
         },
         {
          "year_of_publication": 2013
         },
         {
          "year_of_publication": 2013
         },
         {
          "year_of_publication": 2015
         },
         {
          "year_of_publication": 2015
         },
         {
          "year_of_publication": 2014
         },
         {
          "year_of_publication": 2017
         },
         {
          "year_of_publication": 2016
         },
         {
          "year_of_publication": 2013
         },
         {
          "year_of_publication": 2016
         },
         {
          "year_of_publication": 2015
         },
         {
          "year_of_publication": 2015
         },
         {
          "year_of_publication": 2012
         },
         {
          "year_of_publication": 2017
         },
         {
          "year_of_publication": 2014
         },
         {
          "year_of_publication": 2014
         },
         {
          "year_of_publication": 2014
         },
         {
          "year_of_publication": 2015
         },
         {
          "year_of_publication": 2013
         },
         {
          "year_of_publication": 2017
         },
         {
          "year_of_publication": 2016
         },
         {
          "year_of_publication": 2012
         },
         {
          "year_of_publication": 2012
         },
         {
          "year_of_publication": 2017
         },
         {
          "year_of_publication": 2015
         },
         {
          "year_of_publication": 2014
         },
         {
          "year_of_publication": 2015
         },
         {
          "year_of_publication": 2014
         },
         {
          "year_of_publication": 2017
         },
         {
          "year_of_publication": 2016
         },
         {
          "year_of_publication": 2013
         },
         {
          "year_of_publication": 2017
         },
         {
          "year_of_publication": 2014
         },
         {
          "year_of_publication": 2016
         },
         {
          "year_of_publication": 2017
         },
         {
          "year_of_publication": 2015
         },
         {
          "year_of_publication": 2013
         },
         {
          "year_of_publication": 2012
         },
         {
          "year_of_publication": 2015
         },
         {
          "year_of_publication": 2013
         },
         {
          "year_of_publication": 2014
         },
         {
          "year_of_publication": 2012
         },
         {
          "year_of_publication": 2015
         },
         {
          "year_of_publication": 2014
         },
         {
          "year_of_publication": 2016
         },
         {
          "year_of_publication": 2015
         },
         {
          "year_of_publication": 2021
         },
         {
          "year_of_publication": 2015
         },
         {
          "year_of_publication": 2013
         },
         {
          "year_of_publication": 2014
         },
         {
          "year_of_publication": 2012
         },
         {
          "year_of_publication": 2015
         },
         {
          "year_of_publication": 2013
         },
         {
          "year_of_publication": 2014
         },
         {
          "year_of_publication": 2017
         },
         {
          "year_of_publication": 2014
         },
         {
          "year_of_publication": 2014
         },
         {
          "year_of_publication": 2013
         },
         {
          "year_of_publication": 2013
         },
         {
          "year_of_publication": 2014
         },
         {
          "year_of_publication": 2016
         },
         {
          "year_of_publication": 2012
         },
         {
          "year_of_publication": 2014
         },
         {
          "year_of_publication": 2012
         },
         {
          "year_of_publication": 2016
         },
         {
          "year_of_publication": 2016
         },
         {
          "year_of_publication": 2014
         },
         {
          "year_of_publication": 2014
         },
         {
          "year_of_publication": 2015
         },
         {
          "year_of_publication": 2015
         },
         {
          "year_of_publication": 2014
         },
         {
          "year_of_publication": 2012
         },
         {
          "year_of_publication": 2014
         },
         {
          "year_of_publication": 2016
         },
         {
          "year_of_publication": 2015
         },
         {
          "year_of_publication": 2012
         },
         {
          "year_of_publication": 2014
         },
         {
          "year_of_publication": 2014
         },
         {
          "year_of_publication": 2014
         },
         {
          "year_of_publication": 2015
         },
         {
          "year_of_publication": 2015
         },
         {
          "year_of_publication": 2015
         },
         {
          "year_of_publication": 2015
         },
         {
          "year_of_publication": 2015
         },
         {
          "year_of_publication": 2014
         },
         {
          "year_of_publication": 2015
         },
         {
          "year_of_publication": 2013
         },
         {
          "year_of_publication": 2015
         },
         {
          "year_of_publication": 2013
         },
         {
          "year_of_publication": 2013
         },
         {
          "year_of_publication": 2015
         },
         {
          "year_of_publication": 2014
         },
         {
          "year_of_publication": 2014
         },
         {
          "year_of_publication": 2016
         },
         {
          "year_of_publication": 2014
         },
         {
          "year_of_publication": 2014
         },
         {
          "year_of_publication": 2013
         }
        ]
       },
       "encoding": {
        "x": {
         "bin": true,
         "field": "year_of_publication",
         "title": "Year of publication",
         "type": "nominal"
        },
        "y": {
         "aggregate": "count",
         "title": "Count of articles",
         "type": "quantitative"
        }
       },
       "height": 400,
       "mark": {
        "type": "bar"
       },
       "width": 400
      },
      "image/png": "[encoded data removed]",
      "text/plain": [
       "<VegaLite 5 object>\n",
       "\n",
       "If you see this message, it means the renderer has not been properly enabled\n",
       "for the frontend that you are using. For more information, see\n",
       "https://altair-viz.github.io/user_guide/display_frontends.html#troubleshooting\n"
      ]
     },
     "execution_count": 7,
     "metadata": {},
     "output_type": "execute_result"
    }
   ],
   "source": [
    "# some quick transformations and an altair histogram\n",
    "# note that we take a sample to fit into altair's 5000 record limit\n",
    "years_to_plot: pd.DataFrame = pd.DataFrame(\n",
    "    {\"year_of_publication\": [int(datetime.fromtimestamp(ts).year) for ts in business_news[\"date\"]]}).sample(4999)\n",
    "alt.Chart(years_to_plot).mark_bar().encode(\n",
    "    alt.X(\"year_of_publication:N\", bin=True, title=\"Year of publication\"),\n",
    "    y=alt.Y('count()', title=\"Count of articles\"),\n",
    ").properties(width=400, height=400)"
   ]
  },
  {
   "cell_type": "markdown",
   "id": "453dd57f-26d2-464a-bcee-f4808304ff00",
   "metadata": {},
   "source": [
    "The largest period time should be around 12 years as the oldest article is from 2012.\n",
    "\n",
    "As most articles are between 2012-2017 therefore 7 years can also make sense to differentiate the relatively scarce recent period.\n",
    "\n",
    "It can also make sense to give additional weight to more populous time periods - small differences there can be amplified by adding extra weight compared to regions where the data is scarce and differences are larger on average."
   ]
  },
  {
   "cell_type": "markdown",
   "id": "bb39ab0a-86c9-4bd6-98ca-013a223b2f18",
   "metadata": {},
   "source": [
    "## Set up Superlinked"
   ]
  },
  {
   "cell_type": "code",
   "execution_count": 8,
   "id": "363d1bfb-a842-49b6-a822-99db1f18daa8",
   "metadata": {},
   "outputs": [],
   "source": [
    "@schema\n",
    "class NewsSchema:\n",
    "    description: String\n",
    "    headline: String\n",
    "    release_timestamp: Timestamp\n",
    "    id: IdField"
   ]
  },
  {
   "cell_type": "code",
   "execution_count": 9,
   "id": "7b17ee72-539f-459a-ab8e-f1918579987d",
   "metadata": {},
   "outputs": [],
   "source": [
    "news = NewsSchema()"
   ]
  },
  {
   "cell_type": "code",
   "execution_count": 10,
   "id": "abba40ea-a250-4b12-ad4b-ef90155c3175",
   "metadata": {},
   "outputs": [],
   "source": [
    "description_space = TextSimilaritySpace(text=news.description, model=MODEL)\n",
    "headline_space = TextSimilaritySpace(text=news.headline, model=MODEL)\n",
    "recency_space = RecencySpace(timestamp=news.release_timestamp, period_time_list=[\n",
    "    PeriodTime(timedelta(days=7 * YEAR_IN_DAYS), weight=1),\n",
    "    PeriodTime(timedelta(days=12 * YEAR_IN_DAYS), weight=1)],\n",
    "    negative_filter=0.0)"
   ]
  },
  {
   "cell_type": "code",
   "execution_count": 11,
   "id": "88e05778-8ab1-49c9-922d-cd825c65b93a",
   "metadata": {},
   "outputs": [],
   "source": [
    "news_index = Index(spaces=[description_space, headline_space, recency_space])"
   ]
  },
  {
   "cell_type": "code",
   "execution_count": 12,
   "id": "b56927bf-503c-4f08-98c4-f5f9a49690af",
   "metadata": {},
   "outputs": [],
   "source": [
    "query_text_param = Param(\"query_text\")\n",
    "\n",
    "simple_query = (\n",
    "    Query(news_index, weights={\n",
    "        description_space: Param(\"description_weight\"),\n",
    "        headline_space: Param(\"headline_weight\"),\n",
    "        recency_space: Param(\"recency_weight\")\n",
    "    })\n",
    "    .find(news)\n",
    "    .similar(description_space.text, query_text_param)\n",
    "    .similar(headline_space.text, query_text_param)\n",
    "    .limit(TOP_N)\n",
    ")\n",
    "\n",
    "news_query = (\n",
    "    Query(news_index, weights={\n",
    "        description_space: Param(\"description_weight\"),\n",
    "        headline_space: Param(\"headline_weight\"),\n",
    "        recency_space: Param(\"recency_weight\")\n",
    "    })\n",
    "    .find(news)\n",
    "    .with_vector(news, Param(\"news_id\"))\n",
    "    .limit(TOP_N)\n",
    ")"
   ]
  },
  {
   "cell_type": "code",
   "execution_count": 13,
   "id": "22069eb1-16d6-40db-b5ba-127fa1efa86e",
   "metadata": {},
   "outputs": [],
   "source": [
    "dataframe_parser = DataFrameParser(schema=news, mapping={news.release_timestamp: \"date\", news.description: \"short_description\"})"
   ]
  },
  {
   "cell_type": "code",
   "execution_count": 14,
   "id": "14335931-ba95-45ec-8cb6-19f5e4905fbd",
   "metadata": {},
   "outputs": [],
   "source": [
    "source: InMemorySource = InMemorySource(news, parser=dataframe_parser)\n",
    "executor: InMemoryExecutor = InMemoryExecutor(sources=[source], indices=[news_index])\n",
    "app: InMemoryApp = executor.run()"
   ]
  },
  {
   "cell_type": "markdown",
   "id": "34d44728-5ea7-4114-9c94-a2198e96c77f",
   "metadata": {},
   "source": [
    "This next one might take a few minutes to run. It is scientifically proven, that watching [this video](https://www.youtube.com/watch?v=1prweT95Mo0&ab_channel=YoYoMaVEVO) will make you feel better and the following cell would also probably run meanwhile. If not, you can still do something quick while smiling."
   ]
  },
  {
   "cell_type": "code",
   "execution_count": 15,
   "id": "683cbd59-0744-4cd9-9a36-18814be79760",
   "metadata": {},
   "outputs": [],
   "source": [
    "source.put([business_news])"
   ]
  },
  {
   "cell_type": "markdown",
   "id": "6af286dc-898f-4e7a-8b16-8672bb96b51d",
   "metadata": {},
   "source": [
    "## Understanding recency"
   ]
  },
  {
   "cell_type": "code",
   "execution_count": 16,
   "id": "ec9bde52-d7e8-4c34-8e27-5c512ef08c87",
   "metadata": {},
   "outputs": [
    {
     "data": {
      "application/vnd.vegalite.v5+json": {
       "$schema": "https://vega.github.io/schema/vega-lite/v5.16.3.json",
       "config": {
        "view": {
         "continuousHeight": 300,
         "continuousWidth": 300
        }
       },
       "data": {
        "name": "data-6a7872487748091b788fc90b3ce6f4c8"
       },
       "datasets": {
        "data-6a7872487748091b788fc90b3ce6f4c8": [
         {
          "date": "2010-12-07T12:17:18",
          "score": 0
         },
         {
          "date": "2010-12-12T08:02:09.891892",
          "score": 0
         },
         {
          "date": "2010-12-17T03:47:01.783784",
          "score": 0
         },
         {
          "date": "2010-12-21T23:31:53.675676",
          "score": 0
         },
         {
          "date": "2010-12-26T19:16:45.567568",
          "score": 0
         },
         {
          "date": "2010-12-31T15:01:37.459460",
          "score": 0
         },
         {
          "date": "2011-01-05T10:46:29.351351",
          "score": 0
         },
         {
          "date": "2011-01-10T06:31:21.243243",
          "score": 0
         },
         {
          "date": "2011-01-15T02:16:13.135135",
          "score": 0
         },
         {
          "date": "2011-01-19T22:01:05.027027",
          "score": 0
         },
         {
          "date": "2011-01-24T17:45:56.918919",
          "score": 0
         },
         {
          "date": "2011-01-29T13:30:48.810811",
          "score": 0
         },
         {
          "date": "2011-02-03T09:15:40.702703",
          "score": 0
         },
         {
          "date": "2011-02-08T05:00:32.594594",
          "score": 0
         },
         {
          "date": "2011-02-13T00:45:24.486486",
          "score": 0
         },
         {
          "date": "2011-02-17T20:30:16.378378",
          "score": 0
         },
         {
          "date": "2011-02-22T16:15:08.270270",
          "score": 0
         },
         {
          "date": "2011-02-27T12:00:00.162162",
          "score": 0
         },
         {
          "date": "2011-03-04T07:44:52.054054",
          "score": 0
         },
         {
          "date": "2011-03-09T03:29:43.945946",
          "score": 0
         },
         {
          "date": "2011-03-13T23:14:35.837838",
          "score": 0
         },
         {
          "date": "2011-03-18T18:59:27.729730",
          "score": 0
         },
         {
          "date": "2011-03-23T14:44:19.621622",
          "score": 0
         },
         {
          "date": "2011-03-28T11:29:11.513514",
          "score": 0
         },
         {
          "date": "2011-04-02T07:14:03.405406",
          "score": 0
         },
         {
          "date": "2011-04-07T02:58:55.297297",
          "score": 0
         },
         {
          "date": "2011-04-11T22:43:47.189189",
          "score": 0
         },
         {
          "date": "2011-04-16T18:28:39.081081",
          "score": 0
         },
         {
          "date": "2011-04-21T14:13:30.972973",
          "score": 0
         },
         {
          "date": "2011-04-26T09:58:22.864865",
          "score": 0
         },
         {
          "date": "2011-05-01T05:43:14.756757",
          "score": 0
         },
         {
          "date": "2011-05-06T01:28:06.648649",
          "score": 0
         },
         {
          "date": "2011-05-10T21:12:58.540540",
          "score": 0
         },
         {
          "date": "2011-05-15T16:57:50.432432",
          "score": 0
         },
         {
          "date": "2011-05-20T12:42:42.324324",
          "score": 0
         },
         {
          "date": "2011-05-25T08:27:34.216216",
          "score": 0
         },
         {
          "date": "2011-05-30T04:12:26.108108",
          "score": 0
         },
         {
          "date": "2011-06-03T23:57:18",
          "score": 0
         },
         {
          "date": "2011-06-08T19:42:09.891892",
          "score": 0
         },
         {
          "date": "2011-06-13T15:27:01.783784",
          "score": 0
         },
         {
          "date": "2011-06-18T11:11:53.675676",
          "score": 0
         },
         {
          "date": "2011-06-23T06:56:45.567568",
          "score": 0
         },
         {
          "date": "2011-06-28T02:41:37.459460",
          "score": 0
         },
         {
          "date": "2011-07-02T22:26:29.351351",
          "score": 0
         },
         {
          "date": "2011-07-07T18:11:21.243243",
          "score": 0
         },
         {
          "date": "2011-07-12T13:56:13.135135",
          "score": 0
         },
         {
          "date": "2011-07-17T09:41:05.027027",
          "score": 0
         },
         {
          "date": "2011-07-22T05:25:56.918919",
          "score": 0
         },
         {
          "date": "2011-07-27T01:10:48.810811",
          "score": 0
         },
         {
          "date": "2011-07-31T20:55:40.702703",
          "score": 0
         },
         {
          "date": "2011-08-05T16:40:32.594594",
          "score": 0
         },
         {
          "date": "2011-08-10T12:25:24.486486",
          "score": 0
         },
         {
          "date": "2011-08-15T08:10:16.378378",
          "score": 0
         },
         {
          "date": "2011-08-20T03:55:08.270270",
          "score": 0
         },
         {
          "date": "2011-08-24T23:40:00.162162",
          "score": 0
         },
         {
          "date": "2011-08-29T19:24:52.054054",
          "score": 0
         },
         {
          "date": "2011-09-03T15:09:43.945946",
          "score": 0
         },
         {
          "date": "2011-09-08T10:54:35.837838",
          "score": 0
         },
         {
          "date": "2011-09-13T06:39:27.729730",
          "score": 0
         },
         {
          "date": "2011-09-18T02:24:19.621622",
          "score": 0
         },
         {
          "date": "2011-09-22T22:09:11.513514",
          "score": 0
         },
         {
          "date": "2011-09-27T17:54:03.405406",
          "score": 0
         },
         {
          "date": "2011-10-02T13:38:55.297297",
          "score": 0
         },
         {
          "date": "2011-10-07T09:23:47.189189",
          "score": 0
         },
         {
          "date": "2011-10-12T05:08:39.081081",
          "score": 0
         },
         {
          "date": "2011-10-17T00:53:30.972973",
          "score": 0
         },
         {
          "date": "2011-10-21T20:38:22.864865",
          "score": 0
         },
         {
          "date": "2011-10-26T16:23:14.756757",
          "score": 0
         },
         {
          "date": "2011-10-31T11:08:06.648649",
          "score": 0
         },
         {
          "date": "2011-11-05T06:52:58.540540",
          "score": 0
         },
         {
          "date": "2011-11-10T02:37:50.432432",
          "score": 0
         },
         {
          "date": "2011-11-14T22:22:42.324324",
          "score": 0
         },
         {
          "date": "2011-11-19T18:07:34.216216",
          "score": 0
         },
         {
          "date": "2011-11-24T13:52:26.108108",
          "score": 0
         },
         {
          "date": "2011-11-29T09:37:18",
          "score": 0
         },
         {
          "date": "2011-12-04T05:22:09.891892",
          "score": 0
         },
         {
          "date": "2011-12-09T01:07:01.783784",
          "score": 0
         },
         {
          "date": "2011-12-13T20:51:53.675676",
          "score": 0
         },
         {
          "date": "2011-12-18T16:36:45.567568",
          "score": 0
         },
         {
          "date": "2011-12-23T12:21:37.459460",
          "score": 0
         },
         {
          "date": "2011-12-28T08:06:29.351351",
          "score": 0
         },
         {
          "date": "2012-01-02T03:51:21.243243",
          "score": 0
         },
         {
          "date": "2012-01-06T23:36:13.135135",
          "score": 0
         },
         {
          "date": "2012-01-11T19:21:05.027027",
          "score": 0
         },
         {
          "date": "2012-01-16T15:05:56.918919",
          "score": 0
         },
         {
          "date": "2012-01-21T10:50:48.810811",
          "score": 0
         },
         {
          "date": "2012-01-26T06:35:40.702703",
          "score": 0
         },
         {
          "date": "2012-01-31T02:20:32.594594",
          "score": 0
         },
         {
          "date": "2012-02-04T22:05:24.486486",
          "score": 0
         },
         {
          "date": "2012-02-09T17:50:16.378378",
          "score": 0
         },
         {
          "date": "2012-02-14T13:35:08.270270",
          "score": 0
         },
         {
          "date": "2012-02-19T09:20:00.162162",
          "score": 0.00015723686695678918
         },
         {
          "date": "2012-02-24T05:04:52.054054",
          "score": 0.0010220389403450547
         },
         {
          "date": "2012-02-29T00:49:43.945946",
          "score": 0.0018868379562659576
         },
         {
          "date": "2012-03-04T20:34:35.837838",
          "score": 0.0027516313276479687
         },
         {
          "date": "2012-03-09T16:19:27.729730",
          "score": 0.0036164164674274413
         },
         {
          "date": "2012-03-14T12:04:19.621622",
          "score": 0.00448119078857348
         },
         {
          "date": "2012-03-19T07:49:11.513514",
          "score": 0.005345951704080365
         },
         {
          "date": "2012-03-24T03:34:03.405406",
          "score": 0.006210696626987172
         },
         {
          "date": "2012-03-29T00:18:55.297297",
          "score": 0.007075422970381523
         },
         {
          "date": "2012-04-02T20:03:47.189189",
          "score": 0.007940128147400999
         },
         {
          "date": "2012-04-07T15:48:39.081081",
          "score": 0.00880480957125393
         },
         {
          "date": "2012-04-12T11:33:30.972973",
          "score": 0.009669464655211735
         },
         {
          "date": "2012-04-17T07:18:22.864865",
          "score": 0.010534090812630958
         },
         {
          "date": "2012-04-22T03:03:14.756757",
          "score": 0.011398685456954022
         },
         {
          "date": "2012-04-26T22:48:06.648649",
          "score": 0.012263246001714634
         },
         {
          "date": "2012-05-01T18:32:58.540540",
          "score": 0.013127769860547756
         },
         {
          "date": "2012-05-06T14:17:50.432432",
          "score": 0.013992254447202257
         },
         {
          "date": "2012-05-11T10:02:42.324324",
          "score": 0.014856697175544525
         },
         {
          "date": "2012-05-16T05:47:34.216216",
          "score": 0.015721095459560047
         },
         {
          "date": "2012-05-21T01:32:26.108108",
          "score": 0.016585446713375945
         },
         {
          "date": "2012-05-25T21:17:18",
          "score": 0.01744974835125057
         },
         {
          "date": "2012-05-30T17:02:09.891892",
          "score": 0.018313997787598485
         },
         {
          "date": "2012-06-04T12:47:01.783784",
          "score": 0.019178192436988956
         },
         {
          "date": "2012-06-09T08:31:53.675676",
          "score": 0.020042329714149987
         },
         {
          "date": "2012-06-14T04:16:45.567568",
          "score": 0.020906407033988883
         },
         {
          "date": "2012-06-19T00:01:37.459460",
          "score": 0.021770421811584506
         },
         {
          "date": "2012-06-23T19:46:29.351351",
          "score": 0.022634371462208397
         },
         {
          "date": "2012-06-28T15:31:21.243243",
          "score": 0.023498253401327607
         },
         {
          "date": "2012-07-03T11:16:13.135135",
          "score": 0.024362065044607445
         },
         {
          "date": "2012-07-08T07:01:05.027027",
          "score": 0.025225803807922775
         },
         {
          "date": "2012-07-13T02:45:56.918919",
          "score": 0.026089467107371783
         },
         {
          "date": "2012-07-17T22:30:48.810811",
          "score": 0.02695305235927753
         },
         {
          "date": "2012-07-22T18:15:40.702703",
          "score": 0.02781655698019081
         },
         {
          "date": "2012-07-27T14:00:32.594594",
          "score": 0.028679978386911692
         },
         {
          "date": "2012-08-01T09:45:24.486486",
          "score": 0.029543313996481024
         },
         {
          "date": "2012-08-06T05:30:16.378378",
          "score": 0.03040656122620214
         },
         {
          "date": "2012-08-11T01:15:08.270270",
          "score": 0.03126971749364357
         },
         {
          "date": "2012-08-15T21:00:00.162162",
          "score": 0.03213278021663918
         },
         {
          "date": "2012-08-20T16:44:52.054054",
          "score": 0.03299574681331083
         },
         {
          "date": "2012-08-25T12:29:43.945946",
          "score": 0.0338586147020602
         },
         {
          "date": "2012-08-30T08:14:35.837838",
          "score": 0.034721381301591636
         },
         {
          "date": "2012-09-04T03:59:27.729730",
          "score": 0.03558404403090584
         },
         {
          "date": "2012-09-08T23:44:19.621622",
          "score": 0.036446600309320315
         },
         {
          "date": "2012-09-13T19:29:11.513514",
          "score": 0.03730904755646486
         },
         {
          "date": "2012-09-18T15:14:03.405406",
          "score": 0.038171383192300234
         },
         {
          "date": "2012-09-23T10:58:55.297297",
          "score": 0.03903360463712158
         },
         {
          "date": "2012-09-28T06:43:47.189189",
          "score": 0.03989570931155961
         },
         {
          "date": "2012-10-03T02:28:39.081081",
          "score": 0.04075769463660198
         },
         {
          "date": "2012-10-07T22:13:30.972973",
          "score": 0.04161955803358647
         },
         {
          "date": "2012-10-12T17:58:22.864865",
          "score": 0.0424812969242199
         },
         {
          "date": "2012-10-17T13:43:14.756757",
          "score": 0.04334290873058316
         },
         {
          "date": "2012-10-22T09:28:06.648649",
          "score": 0.04420439087513259
         },
         {
          "date": "2012-10-27T05:12:58.540540",
          "score": 0.045065740780712266
         },
         {
          "date": "2012-10-31T23:57:50.432432",
          "score": 0.04592695587056628
         },
         {
          "date": "2012-11-05T19:42:42.324324",
          "score": 0.046788033568341436
         },
         {
          "date": "2012-11-10T15:27:34.216216",
          "score": 0.04764897129809065
         },
         {
          "date": "2012-11-15T11:12:26.108108",
          "score": 0.04850976648429234
         },
         {
          "date": "2012-11-20T06:57:18",
          "score": 0.0493704165518441
         },
         {
          "date": "2012-11-25T02:42:09.891892",
          "score": 0.05023091892608325
         },
         {
          "date": "2012-11-29T22:27:01.783784",
          "score": 0.051091271032789265
         },
         {
          "date": "2012-12-04T18:11:53.675676",
          "score": 0.051951470298184615
         },
         {
          "date": "2012-12-09T13:56:45.567568",
          "score": 0.052811514148958155
         },
         {
          "date": "2012-12-14T09:41:37.459460",
          "score": 0.053671400012253984
         },
         {
          "date": "2012-12-19T05:26:29.351351",
          "score": 0.05453112531569637
         },
         {
          "date": "2012-12-24T01:11:21.243243",
          "score": 0.05539068748738907
         },
         {
          "date": "2012-12-28T20:56:13.135135",
          "score": 0.05625008395592007
         },
         {
          "date": "2013-01-02T16:41:05.027027",
          "score": 0.05710931215037299
         },
         {
          "date": "2013-01-07T12:25:56.918919",
          "score": 0.057968369500338957
         },
         {
          "date": "2013-01-12T08:10:48.810811",
          "score": 0.058827253435920046
         },
         {
          "date": "2013-01-17T03:55:40.702703",
          "score": 0.05968596138773105
         },
         {
          "date": "2013-01-21T23:40:32.594594",
          "score": 0.060544490786921784
         },
         {
          "date": "2013-01-26T19:25:24.486486",
          "score": 0.0614028390651675
         },
         {
          "date": "2013-01-31T15:10:16.378378",
          "score": 0.0622610036546917
         },
         {
          "date": "2013-02-05T10:55:08.270270",
          "score": 0.06311898198826721
         },
         {
          "date": "2013-02-10T06:40:00.162162",
          "score": 0.06397677149921804
         },
         {
          "date": "2013-02-15T02:24:52.054054",
          "score": 0.0648343696214412
         },
         {
          "date": "2013-02-19T22:09:43.945946",
          "score": 0.06569177378939817
         },
         {
          "date": "2013-02-24T17:54:35.837838",
          "score": 0.06654898143813848
         },
         {
          "date": "2013-03-01T13:39:27.729730",
          "score": 0.06740599000329206
         },
         {
          "date": "2013-03-06T09:24:19.621622",
          "score": 0.068262796921092
         },
         {
          "date": "2013-03-11T05:09:11.513514",
          "score": 0.06911939962836658
         },
         {
          "date": "2013-03-16T00:54:03.405406",
          "score": 0.06997579556256117
         },
         {
          "date": "2013-03-20T20:38:55.297297",
          "score": 0.07083198216173942
         },
         {
          "date": "2013-03-25T16:23:47.189189",
          "score": 0.07168795686458607
         },
         {
          "date": "2013-03-30T12:08:39.081081",
          "score": 0.07254371711042629
         },
         {
          "date": "2013-04-04T08:53:30.972973",
          "score": 0.07339926033922026
         },
         {
          "date": "2013-04-09T04:38:22.864865",
          "score": 0.07425458399158255
         },
         {
          "date": "2013-04-14T00:23:14.756757",
          "score": 0.07510968550878461
         },
         {
          "date": "2013-04-18T20:08:06.648649",
          "score": 0.07596456233275922
         },
         {
          "date": "2013-04-23T15:52:58.540540",
          "score": 0.07681921190610991
         },
         {
          "date": "2013-04-28T11:37:50.432432",
          "score": 0.07767363167212568
         },
         {
          "date": "2013-05-03T07:22:42.324324",
          "score": 0.07852781907478124
         },
         {
          "date": "2013-05-08T03:07:34.216216",
          "score": 0.07938177155874221
         },
         {
          "date": "2013-05-12T22:52:26.108108",
          "score": 0.08023548656938376
         },
         {
          "date": "2013-05-17T18:37:18",
          "score": 0.08108896155278392
         },
         {
          "date": "2013-05-22T14:22:09.891892",
          "score": 0.08194219395574442
         },
         {
          "date": "2013-05-27T10:07:01.783784",
          "score": 0.08279518122579343
         },
         {
          "date": "2013-06-01T05:51:53.675676",
          "score": 0.08364792081118569
         },
         {
          "date": "2013-06-06T01:36:45.567568",
          "score": 0.08450041016092516
         },
         {
          "date": "2013-06-10T21:21:37.459460",
          "score": 0.08535264672475648
         },
         {
          "date": "2013-06-15T17:06:29.351351",
          "score": 0.08620462795318642
         },
         {
          "date": "2013-06-20T12:51:21.243243",
          "score": 0.08705635129748554
         },
         {
          "date": "2013-06-25T08:36:13.135135",
          "score": 0.08790781420969196
         },
         {
          "date": "2013-06-30T04:21:05.027027",
          "score": 0.08875901414262288
         },
         {
          "date": "2013-07-05T00:05:56.918919",
          "score": 0.08960994854988599
         },
         {
          "date": "2013-07-09T19:50:48.810811",
          "score": 0.09046061488588378
         },
         {
          "date": "2013-07-14T15:35:40.702703",
          "score": 0.09131101060581448
         },
         {
          "date": "2013-07-19T11:20:32.594594",
          "score": 0.09216113316569355
         },
         {
          "date": "2013-07-24T07:05:24.486486",
          "score": 0.09301098002234612
         },
         {
          "date": "2013-07-29T02:50:16.378378",
          "score": 0.09386054863342772
         },
         {
          "date": "2013-08-02T22:35:08.270270",
          "score": 0.09470983645742634
         },
         {
          "date": "2013-08-07T18:20:00.162162",
          "score": 0.09555884095366393
         },
         {
          "date": "2013-08-12T14:04:52.054054",
          "score": 0.09640755958231847
         },
         {
          "date": "2013-08-17T09:49:43.945946",
          "score": 0.0972559898044146
         },
         {
          "date": "2013-08-22T05:34:35.837838",
          "score": 0.09810412908184768
         },
         {
          "date": "2013-08-27T01:19:27.729730",
          "score": 0.0989519748773762
         },
         {
          "date": "2013-08-31T21:04:19.621622",
          "score": 0.09979952465464334
         },
         {
          "date": "2013-09-05T16:49:11.513514",
          "score": 0.10064677587817131
         },
         {
          "date": "2013-09-10T12:34:03.405406",
          "score": 0.10149372601338003
         },
         {
          "date": "2013-09-15T08:18:55.297297",
          "score": 0.1023403725265912
         },
         {
          "date": "2013-09-20T04:03:47.189189",
          "score": 0.10318671288502845
         },
         {
          "date": "2013-09-24T23:48:39.081081",
          "score": 0.104032744556839
         },
         {
          "date": "2013-09-29T19:33:30.972973",
          "score": 0.10487846501108614
         },
         {
          "date": "2013-10-04T15:18:22.864865",
          "score": 0.10572387171776945
         },
         {
          "date": "2013-10-09T11:03:14.756757",
          "score": 0.10656896214782743
         },
         {
          "date": "2013-10-14T06:48:06.648649",
          "score": 0.10741373377314117
         },
         {
          "date": "2013-10-19T02:32:58.540540",
          "score": 0.10825818406654486
         },
         {
          "date": "2013-10-23T22:17:50.432432",
          "score": 0.10910231050183822
         },
         {
          "date": "2013-10-28T17:02:42.324324",
          "score": 0.10994611055378961
         },
         {
          "date": "2013-11-02T12:47:34.216216",
          "score": 0.11078958169813782
         },
         {
          "date": "2013-11-07T08:32:26.108108",
          "score": 0.11163272141161429
         },
         {
          "date": "2013-11-12T04:17:18",
          "score": 0.11247552717193249
         },
         {
          "date": "2013-11-17T00:02:09.891892",
          "score": 0.1133179964578126
         },
         {
          "date": "2013-11-21T19:47:01.783784",
          "score": 0.11416012674897993
         },
         {
          "date": "2013-11-26T15:31:53.675676",
          "score": 0.11500191552616884
         },
         {
          "date": "2013-12-01T11:16:45.567568",
          "score": 0.11584336027114286
         },
         {
          "date": "2013-12-06T07:01:37.459460",
          "score": 0.11668445846668704
         },
         {
          "date": "2013-12-11T02:46:29.351351",
          "score": 0.11752520759662863
         },
         {
          "date": "2013-12-15T22:31:21.243243",
          "score": 0.11836560514583988
         },
         {
          "date": "2013-12-20T18:16:13.135135",
          "score": 0.11920564860024019
         },
         {
          "date": "2013-12-25T14:01:05.027027",
          "score": 0.12004533544680854
         },
         {
          "date": "2013-12-30T09:45:56.918919",
          "score": 0.12088466317359459
         },
         {
          "date": "2014-01-04T05:30:48.810811",
          "score": 0.12172362926972216
         },
         {
          "date": "2014-01-09T01:15:40.702703",
          "score": 0.12256223122539134
         },
         {
          "date": "2014-01-13T21:00:32.594594",
          "score": 0.12340046653189915
         },
         {
          "date": "2014-01-18T16:45:24.486486",
          "score": 0.12423833268163148
         },
         {
          "date": "2014-01-23T12:30:16.378378",
          "score": 0.1250758271680851
         },
         {
          "date": "2014-01-28T08:15:08.270270",
          "score": 0.12591294748586804
         },
         {
          "date": "2014-02-02T04:00:00.162162",
          "score": 0.12674969113070184
         },
         {
          "date": "2014-02-06T23:44:52.054054",
          "score": 0.12758605559944283
         },
         {
          "date": "2014-02-11T19:29:43.945946",
          "score": 0.1284220383900737
         },
         {
          "date": "2014-02-16T15:14:35.837838",
          "score": 0.12925763700172685
         },
         {
          "date": "2014-02-21T10:59:27.729730",
          "score": 0.13009284893467665
         },
         {
          "date": "2014-02-26T06:44:19.621622",
          "score": 0.13092767169036068
         },
         {
          "date": "2014-03-03T02:29:11.513514",
          "score": 0.13176210277137462
         },
         {
          "date": "2014-03-07T22:14:03.405406",
          "score": 0.1325961396814906
         },
         {
          "date": "2014-03-12T17:58:55.297297",
          "score": 0.13342977992566
         },
         {
          "date": "2014-03-17T13:43:47.189189",
          "score": 0.13426302101001583
         },
         {
          "date": "2014-03-22T09:28:39.081081",
          "score": 0.13509586044189173
         },
         {
          "date": "2014-03-27T05:13:30.972973",
          "score": 0.13592829572981646
         },
         {
          "date": "2014-04-01T01:58:22.864865",
          "score": 0.13676032438353217
         },
         {
          "date": "2014-04-05T21:43:14.756757",
          "score": 0.13759194391399893
         },
         {
          "date": "2014-04-10T17:28:06.648649",
          "score": 0.1384231518333958
         },
         {
          "date": "2014-04-15T13:12:58.540540",
          "score": 0.13925394565513366
         },
         {
          "date": "2014-04-20T08:57:50.432432",
          "score": 0.14008432289386563
         },
         {
          "date": "2014-04-25T04:42:42.324324",
          "score": 0.1409142810654918
         },
         {
          "date": "2014-04-30T00:27:34.216216",
          "score": 0.14174381768715946
         },
         {
          "date": "2014-05-04T20:12:26.108108",
          "score": 0.14257293027728488
         },
         {
          "date": "2014-05-09T15:57:18",
          "score": 0.14340161635554527
         },
         {
          "date": "2014-05-14T11:42:09.891892",
          "score": 0.14422987344289928
         },
         {
          "date": "2014-05-19T07:27:01.783784",
          "score": 0.1450576990615891
         },
         {
          "date": "2014-05-24T03:11:53.675676",
          "score": 0.14588509073514164
         },
         {
          "date": "2014-05-28T22:56:45.567568",
          "score": 0.14671204598839035
         },
         {
          "date": "2014-06-02T18:41:37.459460",
          "score": 0.14753856234746576
         },
         {
          "date": "2014-06-07T14:26:29.351351",
          "score": 0.14836463733981753
         },
         {
          "date": "2014-06-12T10:11:21.243243",
          "score": 0.14919026849421554
         },
         {
          "date": "2014-06-17T05:56:13.135135",
          "score": 0.15001545334075367
         },
         {
          "date": "2014-06-22T01:41:05.027027",
          "score": 0.15084018941086108
         },
         {
          "date": "2014-06-26T21:25:56.918919",
          "score": 0.15166447423731272
         },
         {
          "date": "2014-07-01T17:10:48.810811",
          "score": 0.15248830535423458
         },
         {
          "date": "2014-07-06T12:55:40.702703",
          "score": 0.15331168029710268
         },
         {
          "date": "2014-07-11T08:40:32.594594",
          "score": 0.15413459660276674
         },
         {
          "date": "2014-07-16T04:25:24.486486",
          "score": 0.1549570518094402
         },
         {
          "date": "2014-07-21T00:10:16.378378",
          "score": 0.1557790434567215
         },
         {
          "date": "2014-07-25T19:55:08.270270",
          "score": 0.15660056908559616
         },
         {
          "date": "2014-07-30T15:40:00.162162",
          "score": 0.157421626238438
         },
         {
          "date": "2014-08-04T11:24:52.054054",
          "score": 0.1582422124590298
         },
         {
          "date": "2014-08-09T07:09:43.945946",
          "score": 0.15906232529255554
         },
         {
          "date": "2014-08-14T02:54:35.837838",
          "score": 0.1598819622856234
         },
         {
          "date": "2014-08-18T22:39:27.729730",
          "score": 0.16070112098625694
         },
         {
          "date": "2014-08-23T18:24:19.621622",
          "score": 0.16151979894391816
         },
         {
          "date": "2014-08-28T14:09:11.513514",
          "score": 0.16233799370949992
         },
         {
          "date": "2014-09-02T09:54:03.405406",
          "score": 0.16315570283534608
         },
         {
          "date": "2014-09-07T05:38:55.297297",
          "score": 0.1639729238752532
         },
         {
          "date": "2014-09-12T01:23:47.189189",
          "score": 0.16478965438447285
         },
         {
          "date": "2014-09-16T21:08:39.081081",
          "score": 0.16560589191973055
         },
         {
          "date": "2014-09-21T16:53:30.972973",
          "score": 0.16642163403922017
         },
         {
          "date": "2014-09-26T12:38:22.864865",
          "score": 0.16723687830262268
         },
         {
          "date": "2014-10-01T08:23:14.756757",
          "score": 0.1680516222711081
         },
         {
          "date": "2014-10-06T04:08:06.648649",
          "score": 0.1688658635073404
         },
         {
          "date": "2014-10-10T23:52:58.540540",
          "score": 0.16967959957548606
         },
         {
          "date": "2014-10-15T19:37:50.432432",
          "score": 0.17049282804122784
         },
         {
          "date": "2014-10-20T15:22:42.324324",
          "score": 0.17130554647176638
         },
         {
          "date": "2014-10-25T11:07:34.216216",
          "score": 0.1721177524358224
         },
         {
          "date": "2014-10-30T05:52:26.108108",
          "score": 0.17292944350365747
         },
         {
          "date": "2014-11-04T01:37:18",
          "score": 0.1737406172470659
         },
         {
          "date": "2014-11-08T21:22:09.891892",
          "score": 0.17455127123939485
         },
         {
          "date": "2014-11-13T17:07:01.783784",
          "score": 0.1753614030555473
         },
         {
          "date": "2014-11-18T12:51:53.675676",
          "score": 0.17617101027198168
         },
         {
          "date": "2014-11-23T08:36:45.567568",
          "score": 0.1769800904667338
         },
         {
          "date": "2014-11-28T04:21:37.459460",
          "score": 0.17778864121940835
         },
         {
          "date": "2014-12-03T00:06:29.351351",
          "score": 0.1785966601111998
         },
         {
          "date": "2014-12-07T19:51:21.243243",
          "score": 0.1794041447248933
         },
         {
          "date": "2014-12-12T15:36:13.135135",
          "score": 0.18021109264486881
         },
         {
          "date": "2014-12-17T11:21:05.027027",
          "score": 0.18101750145711168
         },
         {
          "date": "2014-12-22T07:05:56.918919",
          "score": 0.18182336874922417
         },
         {
          "date": "2014-12-27T02:50:48.810811",
          "score": 0.18262869211042804
         },
         {
          "date": "2014-12-31T22:35:40.702703",
          "score": 0.18343346913156677
         },
         {
          "date": "2015-01-05T18:20:32.594594",
          "score": 0.1842376974051258
         },
         {
          "date": "2015-01-10T14:05:24.486486",
          "score": 0.18504137452522457
         },
         {
          "date": "2015-01-15T09:50:16.378378",
          "score": 0.18584449808763692
         },
         {
          "date": "2015-01-20T05:35:08.270270",
          "score": 0.18664706568979317
         },
         {
          "date": "2015-01-25T01:20:00.162162",
          "score": 0.18744907493078003
         },
         {
          "date": "2015-01-29T21:04:52.054054",
          "score": 0.1882505234113634
         },
         {
          "date": "2015-02-03T16:49:43.945946",
          "score": 0.18905140873397847
         },
         {
          "date": "2015-02-08T12:34:35.837838",
          "score": 0.1898517285027526
         },
         {
          "date": "2015-02-13T08:19:27.729730",
          "score": 0.1906514803234982
         },
         {
          "date": "2015-02-18T04:04:19.621622",
          "score": 0.191450661803733
         },
         {
          "date": "2015-02-22T23:49:11.513514",
          "score": 0.19224927055267488
         },
         {
          "date": "2015-02-27T19:34:03.405406",
          "score": 0.19304730418125926
         },
         {
          "date": "2015-03-04T15:18:55.297297",
          "score": 0.19384476030214326
         },
         {
          "date": "2015-03-09T11:03:47.189189",
          "score": 0.1946416365297054
         },
         {
          "date": "2015-03-14T06:48:39.081081",
          "score": 0.19543793048006647
         },
         {
          "date": "2015-03-19T02:33:30.972973",
          "score": 0.19623363977108169
         },
         {
          "date": "2015-03-23T22:18:22.864865",
          "score": 0.19702876202236141
         },
         {
          "date": "2015-03-28T18:03:14.756757",
          "score": 0.19782329485527111
         },
         {
          "date": "2015-04-02T14:48:06.648649",
          "score": 0.19861723589293698
         },
         {
          "date": "2015-04-07T10:32:58.540540",
          "score": 0.19941058276025464
         },
         {
          "date": "2015-04-12T06:17:50.432432",
          "score": 0.2002033330839016
         },
         {
          "date": "2015-04-17T02:02:42.324324",
          "score": 0.20099548449233934
         },
         {
          "date": "2015-04-21T21:47:34.216216",
          "score": 0.20178703461581576
         },
         {
          "date": "2015-04-26T17:32:26.108108",
          "score": 0.20257798108638525
         },
         {
          "date": "2015-05-01T13:17:18",
          "score": 0.20336832153790013
         },
         {
          "date": "2015-05-06T09:02:09.891892",
          "score": 0.20415805360603145
         },
         {
          "date": "2015-05-11T04:47:01.783784",
          "score": 0.20494717492827008
         },
         {
          "date": "2015-05-16T00:31:53.675676",
          "score": 0.20573568314392865
         },
         {
          "date": "2015-05-20T20:16:45.567568",
          "score": 0.20652357589416115
         },
         {
          "date": "2015-05-25T16:01:37.459460",
          "score": 0.20731085082195516
         },
         {
          "date": "2015-05-30T11:46:29.351351",
          "score": 0.20809750557215276
         },
         {
          "date": "2015-06-04T07:31:21.243243",
          "score": 0.2088835377914506
         },
         {
          "date": "2015-06-09T03:16:13.135135",
          "score": 0.20966894512840425
         },
         {
          "date": "2015-06-13T23:01:05.027027",
          "score": 0.21045372523343855
         },
         {
          "date": "2015-06-18T18:45:56.918919",
          "score": 0.21123787575885852
         },
         {
          "date": "2015-06-23T14:30:48.810811",
          "score": 0.21202139435885242
         },
         {
          "date": "2015-06-28T10:15:40.702703",
          "score": 0.21280427868949353
         },
         {
          "date": "2015-07-03T06:00:32.594594",
          "score": 0.21358652640876
         },
         {
          "date": "2015-07-08T01:45:24.486486",
          "score": 0.21436813517652678
         },
         {
          "date": "2015-07-12T21:30:16.378378",
          "score": 0.2151491026545863
         },
         {
          "date": "2015-07-17T17:15:08.270270",
          "score": 0.21592942650664892
         },
         {
          "date": "2015-07-22T13:00:00.162162",
          "score": 0.21670910439834523
         },
         {
          "date": "2015-07-27T08:44:52.054054",
          "score": 0.21748813399724526
         },
         {
          "date": "2015-08-01T04:29:43.945946",
          "score": 0.21826651297285155
         },
         {
          "date": "2015-08-06T00:14:35.837838",
          "score": 0.2190442389966197
         },
         {
          "date": "2015-08-10T19:59:27.729730",
          "score": 0.2198213097419523
         },
         {
          "date": "2015-08-15T15:44:19.621622",
          "score": 0.22059772288421814
         },
         {
          "date": "2015-08-20T11:29:11.513514",
          "score": 0.22137347610074737
         },
         {
          "date": "2015-08-25T07:14:03.405406",
          "score": 0.22214856707084896
         },
         {
          "date": "2015-08-30T02:58:55.297297",
          "score": 0.22292299347581307
         },
         {
          "date": "2015-09-03T22:43:47.189189",
          "score": 0.2236967529989132
         },
         {
          "date": "2015-09-08T18:28:39.081081",
          "score": 0.2244698433254237
         },
         {
          "date": "2015-09-13T14:13:30.972973",
          "score": 0.22524226214261509
         },
         {
          "date": "2015-09-18T09:58:22.864865",
          "score": 0.22601400713977132
         },
         {
          "date": "2015-09-23T05:43:14.756757",
          "score": 0.22678507600819223
         },
         {
          "date": "2015-09-28T01:28:06.648649",
          "score": 0.22755546644119679
         },
         {
          "date": "2015-10-02T21:12:58.540540",
          "score": 0.22832517613413325
         },
         {
          "date": "2015-10-07T16:57:50.432432",
          "score": 0.22909420278439074
         },
         {
          "date": "2015-10-12T12:42:42.324324",
          "score": 0.22986254409140083
         },
         {
          "date": "2015-10-17T08:27:34.216216",
          "score": 0.23063019775664043
         },
         {
          "date": "2015-10-22T04:12:26.108108",
          "score": 0.23139716148365036
         },
         {
          "date": "2015-10-26T22:57:18",
          "score": 0.2321634329780286
         },
         {
          "date": "2015-10-31T18:42:09.891892",
          "score": 0.23292900994744897
         },
         {
          "date": "2015-11-05T14:27:01.783784",
          "score": 0.23369389010166386
         },
         {
          "date": "2015-11-10T10:11:53.675676",
          "score": 0.23445807115250336
         },
         {
          "date": "2015-11-15T05:56:45.567568",
          "score": 0.23522155081389756
         },
         {
          "date": "2015-11-20T01:41:37.459460",
          "score": 0.23598432680186668
         },
         {
          "date": "2015-11-24T21:26:29.351351",
          "score": 0.23674639683454196
         },
         {
          "date": "2015-11-29T17:11:21.243243",
          "score": 0.23750775863216603
         },
         {
          "date": "2015-12-04T12:56:13.135135",
          "score": 0.23826840991709697
         },
         {
          "date": "2015-12-09T08:41:05.027027",
          "score": 0.23902834841381837
         },
         {
          "date": "2015-12-14T04:25:56.918919",
          "score": 0.23978757184894942
         },
         {
          "date": "2015-12-19T00:10:48.810811",
          "score": 0.2405460779512492
         },
         {
          "date": "2015-12-23T19:55:40.702703",
          "score": 0.24130386445161622
         },
         {
          "date": "2015-12-28T15:40:32.594594",
          "score": 0.24206092908310986
         },
         {
          "date": "2016-01-02T11:25:24.486486",
          "score": 0.2428172695809414
         },
         {
          "date": "2016-01-07T07:10:16.378378",
          "score": 0.2435728836824938
         },
         {
          "date": "2016-01-12T02:55:08.270270",
          "score": 0.24432776912732299
         },
         {
          "date": "2016-01-16T22:40:00.162162",
          "score": 0.2450819236571595
         },
         {
          "date": "2016-01-21T18:24:52.054054",
          "score": 0.24583534501592738
         },
         {
          "date": "2016-01-26T14:09:43.945946",
          "score": 0.24658803094973689
         },
         {
          "date": "2016-01-31T09:54:35.837838",
          "score": 0.24733997920690579
         },
         {
          "date": "2016-02-05T05:39:27.729730",
          "score": 0.2480911875379512
         },
         {
          "date": "2016-02-10T01:24:19.621622",
          "score": 0.24884165369561054
         },
         {
          "date": "2016-02-14T21:09:11.513514",
          "score": 0.24959137543483526
         },
         {
          "date": "2016-02-19T16:54:03.405406",
          "score": 0.25034035051280856
         },
         {
          "date": "2016-02-24T12:38:55.297297",
          "score": 0.2510885766889466
         },
         {
          "date": "2016-02-29T08:23:47.189189",
          "score": 0.251836051724902
         },
         {
          "date": "2016-03-05T04:08:39.081081",
          "score": 0.2525827733845805
         },
         {
          "date": "2016-03-09T23:53:30.972973",
          "score": 0.2533287394341348
         },
         {
          "date": "2016-03-14T19:38:22.864865",
          "score": 0.2540739476419839
         },
         {
          "date": "2016-03-19T15:23:14.756757",
          "score": 0.25481839577881243
         },
         {
          "date": "2016-03-24T11:08:06.648649",
          "score": 0.255562081617577
         },
         {
          "date": "2016-03-29T07:52:58.540540",
          "score": 0.2563050029335137
         },
         {
          "date": "2016-04-03T03:37:50.432432",
          "score": 0.25704715750414936
         },
         {
          "date": "2016-04-07T23:22:42.324324",
          "score": 0.25778854310930444
         },
         {
          "date": "2016-04-12T19:07:34.216216",
          "score": 0.25852915753109507
         },
         {
          "date": "2016-04-17T14:52:26.108108",
          "score": 0.25926899855395064
         },
         {
          "date": "2016-04-22T10:37:18",
          "score": 0.2600080639646077
         },
         {
          "date": "2016-04-27T06:22:09.891892",
          "score": 0.26074635155212844
         },
         {
          "date": "2016-05-02T02:07:01.783784",
          "score": 0.2614838591079015
         },
         {
          "date": "2016-05-06T21:51:53.675676",
          "score": 0.262220584425644
         },
         {
          "date": "2016-05-11T17:36:45.567568",
          "score": 0.2629565253014201
         },
         {
          "date": "2016-05-16T13:21:37.459460",
          "score": 0.2636916795336337
         },
         {
          "date": "2016-05-21T09:06:29.351351",
          "score": 0.264426044923047
         },
         {
          "date": "2016-05-26T04:51:21.243243",
          "score": 0.2651596192727826
         },
         {
          "date": "2016-05-31T00:36:13.135135",
          "score": 0.26589240038832535
         },
         {
          "date": "2016-06-04T20:21:05.027027",
          "score": 0.2666243860775332
         },
         {
          "date": "2016-06-09T16:05:56.918919",
          "score": 0.2673555741506479
         },
         {
          "date": "2016-06-14T11:50:48.810811",
          "score": 0.26808596242029636
         },
         {
          "date": "2016-06-19T07:35:40.702703",
          "score": 0.2688155487014934
         },
         {
          "date": "2016-06-24T03:20:32.594594",
          "score": 0.2695443308116597
         },
         {
          "date": "2016-06-28T23:05:24.486486",
          "score": 0.270272306570615
         },
         {
          "date": "2016-07-03T18:50:16.378378",
          "score": 0.27099947380059614
         },
         {
          "date": "2016-07-08T14:35:08.270270",
          "score": 0.271725830326259
         },
         {
          "date": "2016-07-13T10:20:00.162162",
          "score": 0.2724513739746795
         },
         {
          "date": "2016-07-18T06:04:52.054054",
          "score": 0.2731761025753719
         },
         {
          "date": "2016-07-23T01:49:43.945946",
          "score": 0.27390001396028224
         },
         {
          "date": "2016-07-27T21:34:35.837838",
          "score": 0.2746231059638075
         },
         {
          "date": "2016-08-01T17:19:27.729730",
          "score": 0.2753453764227903
         },
         {
          "date": "2016-08-06T13:04:19.621622",
          "score": 0.27606682317653597
         },
         {
          "date": "2016-08-11T08:49:11.513514",
          "score": 0.2767874440668088
         },
         {
          "date": "2016-08-16T04:34:03.405406",
          "score": 0.27750723693784796
         },
         {
          "date": "2016-08-21T00:18:55.297297",
          "score": 0.2782261996363697
         },
         {
          "date": "2016-08-25T20:03:47.189189",
          "score": 0.2789443300115689
         },
         {
          "date": "2016-08-30T15:48:39.081081",
          "score": 0.2796616259151368
         },
         {
          "date": "2016-09-04T11:33:30.972973",
          "score": 0.2803780852012549
         },
         {
          "date": "2016-09-09T07:18:22.864865",
          "score": 0.281093705726612
         },
         {
          "date": "2016-09-14T03:03:14.756757",
          "score": 0.28180848535040565
         },
         {
          "date": "2016-09-18T22:48:06.648649",
          "score": 0.2825224219343467
         },
         {
          "date": "2016-09-23T18:32:58.540540",
          "score": 0.28323551334266733
         },
         {
          "date": "2016-09-28T14:17:50.432432",
          "score": 0.28394775744213124
         },
         {
          "date": "2016-10-03T10:02:42.324324",
          "score": 0.28465915210203785
         },
         {
          "date": "2016-10-08T05:47:34.216216",
          "score": 0.28536969519422123
         },
         {
          "date": "2016-10-13T01:32:26.108108",
          "score": 0.28607938459307086
         },
         {
          "date": "2016-10-17T21:17:18",
          "score": 0.2867882181755231
         },
         {
          "date": "2016-10-22T17:02:09.891892",
          "score": 0.28749619382107916
         },
         {
          "date": "2016-10-27T12:47:01.783784",
          "score": 0.288203309411807
         },
         {
          "date": "2016-11-01T07:31:53.675676",
          "score": 0.2889095628323426
         },
         {
          "date": "2016-11-06T03:16:45.567568",
          "score": 0.28961495196990744
         },
         {
          "date": "2016-11-10T23:01:37.459460",
          "score": 0.29031947471430253
         },
         {
          "date": "2016-11-15T18:46:29.351351",
          "score": 0.29102312895792526
         },
         {
          "date": "2016-11-20T14:31:21.243243",
          "score": 0.2917259125957708
         },
         {
          "date": "2016-11-25T10:16:13.135135",
          "score": 0.29242782352543634
         },
         {
          "date": "2016-11-30T06:01:05.027027",
          "score": 0.2931288596471292
         },
         {
          "date": "2016-12-05T01:45:56.918919",
          "score": 0.2938290188636772
         },
         {
          "date": "2016-12-09T21:30:48.810811",
          "score": 0.2945282990805313
         },
         {
          "date": "2016-12-14T17:15:40.702703",
          "score": 0.2952266982057671
         },
         {
          "date": "2016-12-19T13:00:32.594594",
          "score": 0.2959242141501032
         },
         {
          "date": "2016-12-24T08:45:24.486486",
          "score": 0.29662084482689266
         },
         {
          "date": "2016-12-29T04:30:16.378378",
          "score": 0.29731658815214257
         },
         {
          "date": "2017-01-03T00:15:08.270270",
          "score": 0.2980114420445141
         },
         {
          "date": "2017-01-07T20:00:00.162162",
          "score": 0.29870540442532495
         },
         {
          "date": "2017-01-12T15:44:52.054054",
          "score": 0.29939847321856505
         },
         {
          "date": "2017-01-17T11:29:43.945946",
          "score": 0.3000906463508928
         },
         {
          "date": "2017-01-22T07:14:35.837838",
          "score": 0.3007819217516506
         },
         {
          "date": "2017-01-27T02:59:27.729730",
          "score": 0.30147229735286146
         },
         {
          "date": "2017-01-31T22:44:19.621622",
          "score": 0.3021617710892459
         },
         {
          "date": "2017-02-05T18:29:11.513514",
          "score": 0.3028503408982162
         },
         {
          "date": "2017-02-10T14:14:03.405406",
          "score": 0.30353800471989323
         },
         {
          "date": "2017-02-15T09:58:55.297297",
          "score": 0.304224760497109
         },
         {
          "date": "2017-02-20T05:43:47.189189",
          "score": 0.30605618807984114
         },
         {
          "date": "2017-02-25T01:28:39.081081",
          "score": 0.3082236295641436
         },
         {
          "date": "2017-03-01T21:13:30.972973",
          "score": 0.31039013374408375
         },
         {
          "date": "2017-03-06T16:58:22.864865",
          "score": 0.31255568554021623
         },
         {
          "date": "2017-03-11T12:43:14.756757",
          "score": 0.31472026987615426
         },
         {
          "date": "2017-03-16T08:28:06.648649",
          "score": 0.3168838716786791
         },
         {
          "date": "2017-03-21T04:12:58.540540",
          "score": 0.31904647587787327
         },
         {
          "date": "2017-03-25T23:57:50.432432",
          "score": 0.32120806740725044
         },
         {
          "date": "2017-03-30T20:42:42.324324",
          "score": 0.3233686312038635
         },
         {
          "date": "2017-04-04T16:27:34.216216",
          "score": 0.32552815220841536
         },
         {
          "date": "2017-04-09T12:12:26.108108",
          "score": 0.32768661536540805
         },
         {
          "date": "2017-04-14T07:57:18",
          "score": 0.3298440056232305
         },
         {
          "date": "2017-04-19T03:42:09.891892",
          "score": 0.33200030793430757
         },
         {
          "date": "2017-04-23T23:27:01.783784",
          "score": 0.33415550725521015
         },
         {
          "date": "2017-04-28T19:11:53.675676",
          "score": 0.3363095885467585
         },
         {
          "date": "2017-05-03T14:56:45.567568",
          "score": 0.3384625367741785
         },
         {
          "date": "2017-05-08T10:41:37.459460",
          "score": 0.34061433690718146
         },
         {
          "date": "2017-05-13T06:26:29.351351",
          "score": 0.34276497392012106
         },
         {
          "date": "2017-05-18T02:11:21.243243",
          "score": 0.34491443279209644
         },
         {
          "date": "2017-05-22T21:56:13.135135",
          "score": 0.347062698507066
         },
         {
          "date": "2017-05-27T17:41:05.027027",
          "score": 0.34920975605397464
         },
         {
          "date": "2017-06-01T13:25:56.918919",
          "score": 0.351355590426885
         },
         {
          "date": "2017-06-06T09:10:48.810811",
          "score": 0.353500186625089
         },
         {
          "date": "2017-06-11T04:55:40.702703",
          "score": 0.3556435296532121
         },
         {
          "date": "2017-06-16T00:40:32.594594",
          "score": 0.3577856045213693
         },
         {
          "date": "2017-06-20T20:25:24.486486",
          "score": 0.35992639624524314
         },
         {
          "date": "2017-06-25T16:10:16.378378",
          "score": 0.36206588984624355
         },
         {
          "date": "2017-06-30T11:55:08.270270",
          "score": 0.3642040703516069
         },
         {
          "date": "2017-07-05T07:40:00.162162",
          "score": 0.3663409227945075
         },
         {
          "date": "2017-07-10T03:24:52.054054",
          "score": 0.3684764322142072
         },
         {
          "date": "2017-07-14T23:09:43.945946",
          "score": 0.3706105836561395
         },
         {
          "date": "2017-07-19T18:54:35.837838",
          "score": 0.37274336217206755
         },
         {
          "date": "2017-07-24T14:39:27.729730",
          "score": 0.3748747528201643
         },
         {
          "date": "2017-07-29T10:24:19.621622",
          "score": 0.3770047406651733
         },
         {
          "date": "2017-08-03T06:09:11.513514",
          "score": 0.3791333107784882
         },
         {
          "date": "2017-08-08T01:54:03.405406",
          "score": 0.3812604482383067
         },
         {
          "date": "2017-08-12T21:38:55.297297",
          "score": 0.3833861381297372
         },
         {
          "date": "2017-08-17T17:23:47.189189",
          "score": 0.38551036554490226
         },
         {
          "date": "2017-08-22T13:08:39.081081",
          "score": 0.3876331155830939
         },
         {
          "date": "2017-08-27T08:53:30.972973",
          "score": 0.38975437335085245
         },
         {
          "date": "2017-09-01T04:38:22.864865",
          "score": 0.3918741239621235
         },
         {
          "date": "2017-09-06T00:23:14.756757",
          "score": 0.39399235253835874
         },
         {
          "date": "2017-09-10T20:08:06.648649",
          "score": 0.3961090442086299
         },
         {
          "date": "2017-09-15T15:52:58.540540",
          "score": 0.3982241841097547
         },
         {
          "date": "2017-09-20T11:37:50.432432",
          "score": 0.4003377573864282
         },
         {
          "date": "2017-09-25T07:22:42.324324",
          "score": 0.4024497491913309
         },
         {
          "date": "2017-09-30T03:07:34.216216",
          "score": 0.40456014468523577
         },
         {
          "date": "2017-10-04T22:52:26.108108",
          "score": 0.4066689290371581
         },
         {
          "date": "2017-10-09T18:37:18",
          "score": 0.40877608742444016
         },
         {
          "date": "2017-10-14T14:22:09.891892",
          "score": 0.4108816050329
         },
         {
          "date": "2017-10-19T10:07:01.783784",
          "score": 0.41298546705693967
         },
         {
          "date": "2017-10-24T05:51:53.675676",
          "score": 0.4150876586996477
         },
         {
          "date": "2017-10-29T01:36:45.567568",
          "score": 0.41718816517295243
         },
         {
          "date": "2017-11-02T20:21:37.459460",
          "score": 0.41928697169770285
         },
         {
          "date": "2017-11-07T16:06:29.351351",
          "score": 0.4213840635038203
         },
         {
          "date": "2017-11-12T11:51:21.243243",
          "score": 0.42347942583040354
         },
         {
          "date": "2017-11-17T07:36:13.135135",
          "score": 0.4255730439258386
         },
         {
          "date": "2017-11-22T03:21:05.027027",
          "score": 0.42766490304792515
         },
         {
          "date": "2017-11-26T23:05:56.918919",
          "score": 0.4297549884640064
         },
         {
          "date": "2017-12-01T18:50:48.810811",
          "score": 0.4318432854510773
         },
         {
          "date": "2017-12-06T14:35:40.702703",
          "score": 0.4339297792958893
         },
         {
          "date": "2017-12-11T10:20:32.594594",
          "score": 0.43601445529510197
         },
         {
          "date": "2017-12-16T06:05:24.486486",
          "score": 0.4380972987553623
         },
         {
          "date": "2017-12-21T01:50:16.378378",
          "score": 0.4401782949934584
         },
         {
          "date": "2017-12-25T21:35:08.270270",
          "score": 0.44225742933642154
         },
         {
          "date": "2017-12-30T17:20:00.162162",
          "score": 0.4443346871216303
         },
         {
          "date": "2018-01-04T13:04:52.054054",
          "score": 0.4464100536969633
         },
         {
          "date": "2018-01-09T08:49:43.945946",
          "score": 0.4484835144208782
         },
         {
          "date": "2018-01-14T04:34:35.837838",
          "score": 0.45055505466256685
         },
         {
          "date": "2018-01-19T00:19:27.729730",
          "score": 0.45262465980203703
         },
         {
          "date": "2018-01-23T20:04:19.621622",
          "score": 0.45469231523026615
         },
         {
          "date": "2018-01-28T15:49:11.513514",
          "score": 0.45675800634928365
         },
         {
          "date": "2018-02-02T11:34:03.405406",
          "score": 0.45882171857231824
         },
         {
          "date": "2018-02-07T07:18:55.297297",
          "score": 0.46088343732390524
         },
         {
          "date": "2018-02-12T03:03:47.189189",
          "score": 0.46294314803998615
         },
         {
          "date": "2018-02-16T22:48:39.081081",
          "score": 0.46500083616806237
         },
         {
          "date": "2018-02-21T18:33:30.972973",
          "score": 0.46705648716727133
         },
         {
          "date": "2018-02-26T14:18:22.864865",
          "score": 0.46911008650854025
         },
         {
          "date": "2018-03-03T10:03:14.756757",
          "score": 0.4711616196746864
         },
         {
          "date": "2018-03-08T05:48:06.648649",
          "score": 0.47321107216052644
         },
         {
          "date": "2018-03-13T01:32:58.540540",
          "score": 0.4752584294730019
         },
         {
          "date": "2018-03-17T21:17:50.432432",
          "score": 0.47730367713130534
         },
         {
          "date": "2018-03-22T17:02:42.324324",
          "score": 0.47934680066698854
         },
         {
          "date": "2018-03-27T13:47:34.216216",
          "score": 0.48138778562406465
         },
         {
          "date": "2018-04-01T09:32:26.108108",
          "score": 0.48342661755915695
         },
         {
          "date": "2018-04-06T05:17:18",
          "score": 0.48546328204157974
         },
         {
          "date": "2018-04-11T01:02:09.891892",
          "score": 0.487497764653485
         },
         {
          "date": "2018-04-15T20:47:01.783784",
          "score": 0.4895300509899671
         },
         {
          "date": "2018-04-20T16:31:53.675676",
          "score": 0.4915601266591632
         },
         {
          "date": "2018-04-25T12:16:45.567568",
          "score": 0.4935879772824031
         },
         {
          "date": "2018-04-30T08:01:37.459460",
          "score": 0.49561358849428777
         },
         {
          "date": "2018-05-05T03:46:29.351351",
          "score": 0.49763694594283786
         },
         {
          "date": "2018-05-09T23:31:21.243243",
          "score": 0.49965803528959385
         },
         {
          "date": "2018-05-14T19:16:13.135135",
          "score": 0.5016768422097267
         },
         {
          "date": "2018-05-19T15:01:05.027027",
          "score": 0.5036933523921588
         },
         {
          "date": "2018-05-24T10:45:56.918919",
          "score": 0.5057075515396903
         },
         {
          "date": "2018-05-29T06:30:48.810811",
          "score": 0.5077194253691044
         },
         {
          "date": "2018-06-03T02:15:40.702703",
          "score": 0.5097289596112712
         },
         {
          "date": "2018-06-07T22:00:32.594594",
          "score": 0.5117361400112922
         },
         {
          "date": "2018-06-12T17:45:24.486486",
          "score": 0.5137409523285803
         },
         {
          "date": "2018-06-17T13:30:16.378378",
          "score": 0.5157433823370074
         },
         {
          "date": "2018-06-22T09:15:08.270270",
          "score": 0.5177434158250036
         },
         {
          "date": "2018-06-27T05:00:00.162162",
          "score": 0.5197410385956601
         },
         {
          "date": "2018-07-02T00:44:52.054054",
          "score": 0.5217362364668746
         },
         {
          "date": "2018-07-06T20:29:43.945946",
          "score": 0.523728995271431
         },
         {
          "date": "2018-07-11T16:14:35.837838",
          "score": 0.5257193008571484
         },
         {
          "date": "2018-07-16T11:59:27.729730",
          "score": 0.5277071390869599
         },
         {
          "date": "2018-07-21T07:44:19.621622",
          "score": 0.5296924958390635
         },
         {
          "date": "2018-07-26T03:29:11.513514",
          "score": 0.531675357007
         },
         {
          "date": "2018-07-30T23:14:03.405406",
          "score": 0.5336557084997973
         },
         {
          "date": "2018-08-04T18:58:55.297297",
          "score": 0.5356335362420731
         },
         {
          "date": "2018-08-09T14:43:47.189189",
          "score": 0.5376088261741319
         },
         {
          "date": "2018-08-14T10:28:39.081081",
          "score": 0.5395815642521145
         },
         {
          "date": "2018-08-19T06:13:30.972973",
          "score": 0.5415517364480705
         },
         {
          "date": "2018-08-24T01:58:22.864865",
          "score": 0.5435193287501081
         },
         {
          "date": "2018-08-28T21:43:14.756757",
          "score": 0.5454843271624896
         },
         {
          "date": "2018-09-02T17:28:06.648649",
          "score": 0.5474467177057386
         },
         {
          "date": "2018-09-07T13:12:58.540540",
          "score": 0.5494064864167616
         },
         {
          "date": "2018-09-12T08:57:50.432432",
          "score": 0.5513636193489676
         },
         {
          "date": "2018-09-17T04:42:42.324324",
          "score": 0.5533181025723749
         },
         {
          "date": "2018-09-22T00:27:34.216216",
          "score": 0.5552699221737086
         },
         {
          "date": "2018-09-26T20:12:26.108108",
          "score": 0.5572190642565445
         },
         {
          "date": "2018-10-01T15:57:18",
          "score": 0.5591655149413871
         },
         {
          "date": "2018-10-06T11:42:09.891892",
          "score": 0.561109260365811
         },
         {
          "date": "2018-10-11T07:27:01.783784",
          "score": 0.563050286684562
         },
         {
          "date": "2018-10-16T03:11:53.675676",
          "score": 0.5649885800696535
         },
         {
          "date": "2018-10-20T22:56:45.567568",
          "score": 0.566924126710511
         },
         {
          "date": "2018-10-25T18:41:37.459460",
          "score": 0.5688569128140486
         },
         {
          "date": "2018-10-30T13:26:29.351351",
          "score": 0.5707869246048101
         },
         {
          "date": "2018-11-04T09:11:21.243243",
          "score": 0.5727141483250678
         },
         {
          "date": "2018-11-09T04:56:13.135135",
          "score": 0.5746385702349268
         },
         {
          "date": "2018-11-14T00:41:05.027027",
          "score": 0.5765601766124421
         },
         {
          "date": "2018-11-18T20:25:56.918919",
          "score": 0.5784789537537404
         },
         {
          "date": "2018-11-23T16:10:48.810811",
          "score": 0.580394887973122
         },
         {
          "date": "2018-11-28T11:55:40.702703",
          "score": 0.5823079656031582
         },
         {
          "date": "2018-12-03T07:40:32.594594",
          "score": 0.5842181729948323
         },
         {
          "date": "2018-12-08T03:25:24.486486",
          "score": 0.586125496517615
         },
         {
          "date": "2018-12-12T23:10:16.378378",
          "score": 0.5880299225596071
         },
         {
          "date": "2018-12-17T18:55:08.270270",
          "score": 0.5899314375276337
         },
         {
          "date": "2018-12-22T14:40:00.162162",
          "score": 0.5918300278473443
         },
         {
          "date": "2018-12-27T10:24:52.054054",
          "score": 0.5937256799633504
         },
         {
          "date": "2019-01-01T06:09:43.945946",
          "score": 0.5956183803393031
         },
         {
          "date": "2019-01-06T01:54:35.837838",
          "score": 0.5975081154580354
         },
         {
          "date": "2019-01-10T21:39:27.729730",
          "score": 0.5993948718216381
         },
         {
          "date": "2019-01-15T17:24:19.621622",
          "score": 0.6012786359516029
         },
         {
          "date": "2019-01-20T13:09:11.513514",
          "score": 0.6031593943888993
         },
         {
          "date": "2019-01-25T08:54:03.405406",
          "score": 0.6050371336941096
         },
         {
          "date": "2019-01-30T04:38:55.297297",
          "score": 0.6069118404475302
         },
         {
          "date": "2019-02-04T00:23:47.189189",
          "score": 0.6087835012492624
         },
         {
          "date": "2019-02-08T20:08:39.081081",
          "score": 0.6106521027193549
         },
         {
          "date": "2019-02-13T15:53:30.972973",
          "score": 0.6125176314978749
         },
         {
          "date": "2019-02-18T11:38:22.864865",
          "score": 0.6143800742450497
         },
         {
          "date": "2019-02-23T07:23:14.756757",
          "score": 0.6162394176413579
         },
         {
          "date": "2019-02-28T03:08:06.648649",
          "score": 0.618095648387633
         },
         {
          "date": "2019-03-04T22:52:58.540540",
          "score": 0.6199487532051764
         },
         {
          "date": "2019-03-09T18:37:50.432432",
          "score": 0.6217987188358757
         },
         {
          "date": "2019-03-14T14:22:42.324324",
          "score": 0.6236455320423018
         },
         {
          "date": "2019-03-19T10:07:34.216216",
          "score": 0.6254891796078064
         },
         {
          "date": "2019-03-24T05:52:26.108108",
          "score": 0.6273296483366548
         },
         {
          "date": "2019-03-29T01:37:18",
          "score": 0.6291669250541032
         },
         {
          "date": "2019-04-02T22:22:09.891892",
          "score": 0.6310009966065317
         },
         {
          "date": "2019-04-07T18:07:01.783784",
          "score": 0.6328318498615406
         },
         {
          "date": "2019-04-12T13:51:53.675676",
          "score": 0.6346594717080439
         },
         {
          "date": "2019-04-17T09:36:45.567568",
          "score": 0.6364838490564024
         },
         {
          "date": "2019-04-22T05:21:37.459460",
          "score": 0.6383049688385015
         },
         {
          "date": "2019-04-27T01:06:29.351351",
          "score": 0.6401228180078811
         },
         {
          "date": "2019-05-01T20:51:21.243243",
          "score": 0.6419373835398323
         },
         {
          "date": "2019-05-06T16:36:13.135135",
          "score": 0.643748652431494
         },
         {
          "date": "2019-05-11T12:21:05.027027",
          "score": 0.6455566117019662
         },
         {
          "date": "2019-05-16T08:05:56.918919",
          "score": 0.6473612483924229
         },
         {
          "date": "2019-05-21T03:50:48.810811",
          "score": 0.6491625495662119
         },
         {
          "date": "2019-05-25T23:35:40.702703",
          "score": 0.6509605023089432
         },
         {
          "date": "2019-05-30T19:20:32.594594",
          "score": 0.6527550937286271
         },
         {
          "date": "2019-06-04T15:05:24.486486",
          "score": 0.654546310955741
         },
         {
          "date": "2019-06-09T10:50:16.378378",
          "score": 0.6563341411433681
         },
         {
          "date": "2019-06-14T06:35:08.270270",
          "score": 0.6581185714672839
         },
         {
          "date": "2019-06-19T02:20:00.162162",
          "score": 0.6598995891260571
         },
         {
          "date": "2019-06-23T22:04:52.054054",
          "score": 0.661677181341157
         },
         {
          "date": "2019-06-28T17:49:43.945946",
          "score": 0.6634513353570699
         },
         {
          "date": "2019-07-03T13:34:35.837838",
          "score": 0.6652220384413865
         },
         {
          "date": "2019-07-08T09:19:27.729730",
          "score": 0.6669892778849158
         },
         {
          "date": "2019-07-13T05:04:19.621622",
          "score": 0.6687530410017754
         },
         {
          "date": "2019-07-18T00:49:11.513514",
          "score": 0.6705133151295023
         },
         {
          "date": "2019-07-22T20:34:03.405406",
          "score": 0.672270087629165
         },
         {
          "date": "2019-07-27T16:18:55.297297",
          "score": 0.6740233458854561
         },
         {
          "date": "2019-08-01T12:03:47.189189",
          "score": 0.6757730773067843
         },
         {
          "date": "2019-08-06T07:48:39.081081",
          "score": 0.6775192693254044
         },
         {
          "date": "2019-08-11T03:33:30.972973",
          "score": 0.6792619093974867
         },
         {
          "date": "2019-08-15T23:18:22.864865",
          "score": 0.6810009850032472
         },
         {
          "date": "2019-08-20T19:03:14.756757",
          "score": 0.6827364836470379
         },
         {
          "date": "2019-08-25T14:48:06.648649",
          "score": 0.6844683928574393
         },
         {
          "date": "2019-08-30T10:32:58.540540",
          "score": 0.6861967001873714
         },
         {
          "date": "2019-09-04T06:17:50.432432",
          "score": 0.6879213932141998
         },
         {
          "date": "2019-09-09T02:02:42.324324",
          "score": 0.6896424595398314
         },
         {
          "date": "2019-09-13T21:47:34.216216",
          "score": 0.6913598867908028
         },
         {
          "date": "2019-09-18T17:32:26.108108",
          "score": 0.6930736626184066
         },
         {
          "date": "2019-09-23T13:17:18",
          "score": 0.6947837746987633
         },
         {
          "date": "2019-09-28T09:02:09.891892",
          "score": 0.6964902107329453
         },
         {
          "date": "2019-10-03T04:47:01.783784",
          "score": 0.6981929584470694
         },
         {
          "date": "2019-10-08T00:31:53.675676",
          "score": 0.69989200559238
         },
         {
          "date": "2019-10-12T20:16:45.567568",
          "score": 0.7015873399453804
         },
         {
          "date": "2019-10-17T16:01:37.459460",
          "score": 0.7032789493078975
         },
         {
          "date": "2019-10-22T11:46:29.351351",
          "score": 0.7049668215072111
         },
         {
          "date": "2019-10-27T06:31:21.243243",
          "score": 0.706650944396138
         },
         {
          "date": "2019-11-01T02:16:13.135135",
          "score": 0.7083313058531262
         },
         {
          "date": "2019-11-05T22:01:05.027027",
          "score": 0.7100078937823593
         },
         {
          "date": "2019-11-10T17:45:56.918919",
          "score": 0.7116806961138626
         },
         {
          "date": "2019-11-15T13:30:48.810811",
          "score": 0.7133497008035943
         },
         {
          "date": "2019-11-20T09:15:40.702703",
          "score": 0.7150148958335312
         },
         {
          "date": "2019-11-25T05:00:32.594594",
          "score": 0.7166762692117936
         },
         {
          "date": "2019-11-30T00:45:24.486486",
          "score": 0.7183338089727123
         },
         {
          "date": "2019-12-04T20:30:16.378378",
          "score": 0.7199875031769525
         },
         {
          "date": "2019-12-09T16:15:08.270270",
          "score": 0.721637339911599
         },
         {
          "date": "2019-12-14T12:00:00.162162",
          "score": 0.723283307290246
         },
         {
          "date": "2019-12-19T07:44:52.054054",
          "score": 0.7249253934531016
         },
         {
          "date": "2019-12-24T03:29:43.945946",
          "score": 0.7265635865670911
         },
         {
          "date": "2019-12-28T23:14:35.837838",
          "score": 0.7281978748259419
         },
         {
          "date": "2020-01-02T18:59:27.729730",
          "score": 0.7298282464502892
         },
         {
          "date": "2020-01-07T14:44:19.621622",
          "score": 0.7314546896877563
         },
         {
          "date": "2020-01-12T10:29:11.513514",
          "score": 0.7330771928130617
         },
         {
          "date": "2020-01-17T06:14:03.405406",
          "score": 0.7346957441281198
         },
         {
          "date": "2020-01-22T01:58:55.297297",
          "score": 0.7363103319621306
         },
         {
          "date": "2020-01-26T21:43:47.189189",
          "score": 0.7379209446716597
         },
         {
          "date": "2020-01-31T17:28:39.081081",
          "score": 0.7395275706407638
         },
         {
          "date": "2020-02-05T13:13:30.972973",
          "score": 0.7411301982810515
         },
         {
          "date": "2020-02-10T08:58:22.864865",
          "score": 0.7427288160318068
         },
         {
          "date": "2020-02-15T04:43:14.756757",
          "score": 0.744323412360069
         },
         {
          "date": "2020-02-20T00:28:06.648649",
          "score": 0.7459139757607216
         },
         {
          "date": "2020-02-24T20:12:58.540540",
          "score": 0.7475004947565916
         },
         {
          "date": "2020-02-29T15:57:50.432432",
          "score": 0.7490829578985523
         },
         {
          "date": "2020-03-05T11:42:42.324324",
          "score": 0.7506613537656059
         },
         {
          "date": "2020-03-10T07:27:34.216216",
          "score": 0.7522356709649696
         },
         {
          "date": "2020-03-15T03:12:26.108108",
          "score": 0.7538058981321901
         },
         {
          "date": "2020-03-19T22:57:18",
          "score": 0.755372023931209
         },
         {
          "date": "2020-03-24T18:42:09.891892",
          "score": 0.7569340370544804
         },
         {
          "date": "2020-03-29T15:27:01.783784",
          "score": 0.7584919262230517
         },
         {
          "date": "2020-04-03T11:11:53.675676",
          "score": 0.7600456801866449
         },
         {
          "date": "2020-04-08T06:56:45.567568",
          "score": 0.7615952877237718
         },
         {
          "date": "2020-04-13T02:41:37.459460",
          "score": 0.7631407376418001
         },
         {
          "date": "2020-04-17T22:26:29.351351",
          "score": 0.7646820187770654
         },
         {
          "date": "2020-04-22T18:11:21.243243",
          "score": 0.7662191199949553
         },
         {
          "date": "2020-04-27T13:56:13.135135",
          "score": 0.7677520301899892
         },
         {
          "date": "2020-05-02T09:41:05.027027",
          "score": 0.7692807382859194
         },
         {
          "date": "2020-05-07T05:25:56.918919",
          "score": 0.770805233235826
         },
         {
          "date": "2020-05-12T01:10:48.810811",
          "score": 0.7723255040222003
         },
         {
          "date": "2020-05-16T20:55:40.702703",
          "score": 0.7738415396570246
         },
         {
          "date": "2020-05-21T16:40:32.594594",
          "score": 0.7753533291818856
         },
         {
          "date": "2020-05-26T12:25:24.486486",
          "score": 0.7768608616680359
         },
         {
          "date": "2020-05-31T08:10:16.378378",
          "score": 0.7783641262165075
         },
         {
          "date": "2020-06-05T03:55:08.270270",
          "score": 0.77986311195819
         },
         {
          "date": "2020-06-09T23:40:00.162162",
          "score": 0.7813578080539123
         },
         {
          "date": "2020-06-14T19:24:52.054054",
          "score": 0.7828482036945377
         },
         {
          "date": "2020-06-19T15:09:43.945946",
          "score": 0.7843342881010588
         },
         {
          "date": "2020-06-24T10:54:35.837838",
          "score": 0.7858160505246754
         },
         {
          "date": "2020-06-29T06:39:27.729730",
          "score": 0.7872934802468888
         },
         {
          "date": "2020-07-04T02:24:19.621622",
          "score": 0.7887665665795782
         },
         {
          "date": "2020-07-08T22:09:11.513514",
          "score": 0.7902352988650951
         },
         {
          "date": "2020-07-13T17:54:03.405406",
          "score": 0.7916996664763575
         },
         {
          "date": "2020-07-18T13:38:55.297297",
          "score": 0.7931596588169286
         },
         {
          "date": "2020-07-23T09:23:47.189189",
          "score": 0.7946152653210942
         },
         {
          "date": "2020-07-28T05:08:39.081081",
          "score": 0.7960664754539709
         },
         {
          "date": "2020-08-02T00:53:30.972973",
          "score": 0.7975132787115664
         },
         {
          "date": "2020-08-06T20:38:22.864865",
          "score": 0.7989556646208887
         },
         {
          "date": "2020-08-11T16:23:14.756757",
          "score": 0.8003936227400192
         },
         {
          "date": "2020-08-16T12:08:06.648649",
          "score": 0.801827142658194
         },
         {
          "date": "2020-08-21T07:52:58.540540",
          "score": 0.8032562139958945
         },
         {
          "date": "2020-08-26T03:37:50.432432",
          "score": 0.804680826404937
         },
         {
          "date": "2020-08-30T23:22:42.324324",
          "score": 0.8061009695685522
         },
         {
          "date": "2020-09-04T19:07:34.216216",
          "score": 0.8075166332014593
         },
         {
          "date": "2020-09-09T14:52:26.108108",
          "score": 0.8089278070499719
         },
         {
          "date": "2020-09-14T10:37:18",
          "score": 0.8103344808920564
         },
         {
          "date": "2020-09-19T06:22:09.891892",
          "score": 0.8117366445374377
         },
         {
          "date": "2020-09-24T02:07:01.783784",
          "score": 0.8131342878276722
         },
         {
          "date": "2020-09-28T21:51:53.675676",
          "score": 0.8145274006362213
         },
         {
          "date": "2020-10-03T17:36:45.567568",
          "score": 0.8159159728685571
         },
         {
          "date": "2020-10-08T13:21:37.459460",
          "score": 0.8172999944622172
         },
         {
          "date": "2020-10-13T09:06:29.351351",
          "score": 0.8186794553869117
         },
         {
          "date": "2020-10-18T04:51:21.243243",
          "score": 0.8200543456445928
         },
         {
          "date": "2020-10-23T00:36:13.135135",
          "score": 0.8214246552695323
         },
         {
          "date": "2020-10-27T19:21:05.027027",
          "score": 0.8227903743284077
         },
         {
          "date": "2020-11-01T15:05:56.918919",
          "score": 0.8241514929203896
         },
         {
          "date": "2020-11-06T10:50:48.810811",
          "score": 0.825508001177217
         },
         {
          "date": "2020-11-11T06:35:40.702703",
          "score": 0.8268598892632678
         },
         {
          "date": "2020-11-16T02:20:32.594594",
          "score": 0.8282071473756606
         },
         {
          "date": "2020-11-20T22:05:24.486486",
          "score": 0.8295497657443107
         },
         {
          "date": "2020-11-25T17:50:16.378378",
          "score": 0.8308877346320306
         },
         {
          "date": "2020-11-30T13:35:08.270270",
          "score": 0.8322210443346
         },
         {
          "date": "2020-12-05T09:20:00.162162",
          "score": 0.8335496851808404
         },
         {
          "date": "2020-12-10T05:04:52.054054",
          "score": 0.8348736475326974
         },
         {
          "date": "2020-12-15T00:49:43.945946",
          "score": 0.836192921785329
         },
         {
          "date": "2020-12-19T20:34:35.837838",
          "score": 0.8375074983671708
         },
         {
          "date": "2020-12-24T16:19:27.729730",
          "score": 0.8388173677400239
         },
         {
          "date": "2020-12-29T12:04:19.621622",
          "score": 0.8401225203991206
         },
         {
          "date": "2021-01-03T07:49:11.513514",
          "score": 0.8414229468732104
         },
         {
          "date": "2021-01-08T03:34:03.405406",
          "score": 0.8427186377246414
         },
         {
          "date": "2021-01-12T23:18:55.297297",
          "score": 0.8440095835494326
         },
         {
          "date": "2021-01-17T19:03:47.189189",
          "score": 0.8452957749773407
         },
         {
          "date": "2021-01-22T14:48:39.081081",
          "score": 0.8465772026719582
         },
         {
          "date": "2021-01-27T10:33:30.972973",
          "score": 0.8478538573307657
         },
         {
          "date": "2021-02-01T06:18:22.864865",
          "score": 0.8491257296852279
         },
         {
          "date": "2021-02-06T02:03:14.756757",
          "score": 0.8503928105008611
         },
         {
          "date": "2021-02-10T21:48:06.648649",
          "score": 0.851655090577302
         },
         {
          "date": "2021-02-15T17:32:58.540540",
          "score": 0.8529125607483902
         },
         {
          "date": "2021-02-20T13:17:50.432432",
          "score": 0.8541652118822458
         },
         {
          "date": "2021-02-25T09:02:42.324324",
          "score": 0.8554130348813417
         },
         {
          "date": "2021-03-02T04:47:34.216216",
          "score": 0.8566560206825666
         },
         {
          "date": "2021-03-07T00:32:26.108108",
          "score": 0.8578941602573203
         },
         {
          "date": "2021-03-11T20:17:18",
          "score": 0.8591274446115639
         },
         {
          "date": "2021-03-16T16:02:09.891892",
          "score": 0.8603558647859143
         },
         {
          "date": "2021-03-21T11:47:01.783784",
          "score": 0.8615794118557065
         },
         {
          "date": "2021-03-26T07:31:53.675676",
          "score": 0.8627980769310609
         },
         {
          "date": "2021-03-31T04:16:45.567568",
          "score": 0.864011851156973
         },
         {
          "date": "2021-04-05T00:01:37.459460",
          "score": 0.8652207257133653
         },
         {
          "date": "2021-04-09T19:46:29.351351",
          "score": 0.8664246918151772
         },
         {
          "date": "2021-04-14T15:31:21.243243",
          "score": 0.8676237407124292
         },
         {
          "date": "2021-04-19T11:16:13.135135",
          "score": 0.8688178636902891
         },
         {
          "date": "2021-04-24T07:01:05.027027",
          "score": 0.8700070520691483
         },
         {
          "date": "2021-04-29T02:45:56.918919",
          "score": 0.8711912972046975
         },
         {
          "date": "2021-05-03T22:30:48.810811",
          "score": 0.8723705904879929
         },
         {
          "date": "2021-05-08T18:15:40.702703",
          "score": 0.8735449233455177
         },
         {
          "date": "2021-05-13T14:00:32.594594",
          "score": 0.8747142872392715
         },
         {
          "date": "2021-05-18T09:45:24.486486",
          "score": 0.8758786736668177
         },
         {
          "date": "2021-05-23T05:30:16.378378",
          "score": 0.8770380741613727
         },
         {
          "date": "2021-05-28T01:15:08.270270",
          "score": 0.8781924802918665
         },
         {
          "date": "2021-06-01T21:00:00.162162",
          "score": 0.8793418836630057
         },
         {
          "date": "2021-06-06T16:44:52.054054",
          "score": 0.8804862759153484
         },
         {
          "date": "2021-06-11T12:29:43.945946",
          "score": 0.8816256487253771
         },
         {
          "date": "2021-06-16T08:14:35.837838",
          "score": 0.8827599938055593
         },
         {
          "date": "2021-06-21T03:59:27.729730",
          "score": 0.8838893029044192
         },
         {
          "date": "2021-06-25T23:44:19.621622",
          "score": 0.8850135678065996
         },
         {
          "date": "2021-06-30T19:29:11.513514",
          "score": 0.886132780332931
         },
         {
          "date": "2021-07-05T15:14:03.405406",
          "score": 0.8872469323405067
         },
         {
          "date": "2021-07-10T10:58:55.297297",
          "score": 0.8883560157227419
         },
         {
          "date": "2021-07-15T06:43:47.189189",
          "score": 0.8894600224094339
         },
         {
          "date": "2021-07-20T02:28:39.081081",
          "score": 0.8905589443668446
         },
         {
          "date": "2021-07-24T22:13:30.972973",
          "score": 0.8916527735977461
         },
         {
          "date": "2021-07-29T17:58:22.864865",
          "score": 0.8927415021415046
         },
         {
          "date": "2021-08-03T13:43:14.756757",
          "score": 0.8938251220741366
         },
         {
          "date": "2021-08-08T09:28:06.648649",
          "score": 0.8949036255083695
         },
         {
          "date": "2021-08-13T05:12:58.540540",
          "score": 0.8959770045937109
         },
         {
          "date": "2021-08-18T00:57:50.432432",
          "score": 0.8970452515165174
         },
         {
          "date": "2021-08-22T20:42:42.324324",
          "score": 0.8981083585000533
         },
         {
          "date": "2021-08-27T16:27:34.216216",
          "score": 0.8991663178045479
         },
         {
          "date": "2021-09-01T12:12:26.108108",
          "score": 0.9002191217272744
         },
         {
          "date": "2021-09-06T07:57:18",
          "score": 0.9012667626025945
         },
         {
          "date": "2021-09-11T03:42:09.891892",
          "score": 0.9023092328020372
         },
         {
          "date": "2021-09-15T23:27:01.783784",
          "score": 0.9033465247343546
         },
         {
          "date": "2021-09-20T19:11:53.675676",
          "score": 0.9043786308455761
         },
         {
          "date": "2021-09-25T14:56:45.567568",
          "score": 0.9054055436190873
         },
         {
          "date": "2021-09-30T10:41:37.459460",
          "score": 0.906427255575672
         },
         {
          "date": "2021-10-05T06:26:29.351351",
          "score": 0.9074437592735901
         },
         {
          "date": "2021-10-10T02:11:21.243243",
          "score": 0.9084550473086319
         },
         {
          "date": "2021-10-14T21:56:13.135135",
          "score": 0.9094611123141721
         },
         {
          "date": "2021-10-19T17:41:05.027027",
          "score": 0.9104619469612378
         },
         {
          "date": "2021-10-24T13:25:56.918919",
          "score": 0.9114575439585697
         },
         {
          "date": "2021-10-29T09:10:48.810811",
          "score": 0.9124478960526795
         },
         {
          "date": "2021-11-03T03:55:40.702703",
          "score": 0.9134329960279003
         },
         {
          "date": "2021-11-07T23:40:32.594594",
          "score": 0.9144128367064639
         },
         {
          "date": "2021-11-12T19:25:24.486486",
          "score": 0.9153874109485387
         },
         {
          "date": "2021-11-17T15:10:16.378378",
          "score": 0.9163567116523066
         },
         {
          "date": "2021-11-22T10:55:08.270270",
          "score": 0.9173207317540114
         },
         {
          "date": "2021-11-27T06:40:00.162162",
          "score": 0.918279464228015
         },
         {
          "date": "2021-12-02T02:24:52.054054",
          "score": 0.9192329020868564
         },
         {
          "date": "2021-12-06T22:09:43.945946",
          "score": 0.9201810383813162
         },
         {
          "date": "2021-12-11T17:54:35.837838",
          "score": 0.9211238662004642
         },
         {
          "date": "2021-12-16T13:39:27.729730",
          "score": 0.9220613786717214
         },
         {
          "date": "2021-12-21T09:24:19.621622",
          "score": 0.9229935689609103
         },
         {
          "date": "2021-12-26T05:09:11.513514",
          "score": 0.9239204302723142
         },
         {
          "date": "2021-12-31T00:54:03.405406",
          "score": 0.9248419558487366
         },
         {
          "date": "2022-01-04T20:38:55.297297",
          "score": 0.9257581389715537
         },
         {
          "date": "2022-01-09T16:23:47.189189",
          "score": 0.9266689729607616
         },
         {
          "date": "2022-01-14T12:08:39.081081",
          "score": 0.9275744511750463
         },
         {
          "date": "2022-01-19T07:53:30.972973",
          "score": 0.9284745670118214
         },
         {
          "date": "2022-01-24T03:38:22.864865",
          "score": 0.9293693139072958
         },
         {
          "date": "2022-01-28T23:23:14.756757",
          "score": 0.9302586853365222
         },
         {
          "date": "2022-02-02T19:08:06.648649",
          "score": 0.9311426748134455
         },
         {
          "date": "2022-02-07T14:52:58.540540",
          "score": 0.9320212758909612
         },
         {
          "date": "2022-02-12T10:37:50.432432",
          "score": 0.9328944821609699
         },
         {
          "date": "2022-02-17T06:22:42.324324",
          "score": 0.9337622872544283
         },
         {
          "date": "2022-02-22T02:07:34.216216",
          "score": 0.9346246848413929
         },
         {
          "date": "2022-02-26T21:52:26.108108",
          "score": 0.9354816686310881
         },
         {
          "date": "2022-03-03T17:37:18",
          "score": 0.936333232371939
         },
         {
          "date": "2022-03-08T13:22:09.891892",
          "score": 0.9371793698516393
         },
         {
          "date": "2022-03-13T09:07:01.783784",
          "score": 0.9380200748971936
         },
         {
          "date": "2022-03-18T04:51:53.675676",
          "score": 0.9388553413749642
         },
         {
          "date": "2022-03-23T00:36:45.567568",
          "score": 0.9396851631907326
         },
         {
          "date": "2022-03-27T21:21:37.459460",
          "score": 0.9405095342897364
         },
         {
          "date": "2022-04-01T17:06:29.351351",
          "score": 0.94132844865673
         },
         {
          "date": "2022-04-06T12:51:21.243243",
          "score": 0.9421419003160297
         },
         {
          "date": "2022-04-11T08:36:13.135135",
          "score": 0.9429498833315576
         },
         {
          "date": "2022-04-16T04:21:05.027027",
          "score": 0.9437523918068951
         },
         {
          "date": "2022-04-21T00:05:56.918919",
          "score": 0.9445494198853335
         },
         {
          "date": "2022-04-25T19:50:48.810811",
          "score": 0.9453409617499198
         },
         {
          "date": "2022-04-30T15:35:40.702703",
          "score": 0.9461270116234969
         },
         {
          "date": "2022-05-05T11:20:32.594594",
          "score": 0.9469075637687651
         },
         {
          "date": "2022-05-10T07:05:24.486486",
          "score": 0.947682612488314
         },
         {
          "date": "2022-05-15T02:50:16.378378",
          "score": 0.9484521521246819
         },
         {
          "date": "2022-05-19T22:35:08.270270",
          "score": 0.9492161770603963
         },
         {
          "date": "2022-05-24T18:20:00.162162",
          "score": 0.9499746817180167
         },
         {
          "date": "2022-05-29T14:04:52.054054",
          "score": 0.9507276605601833
         },
         {
          "date": "2022-06-03T09:49:43.945946",
          "score": 0.9514751080896666
         },
         {
          "date": "2022-06-08T05:34:35.837838",
          "score": 0.9522170188494068
         },
         {
          "date": "2022-06-13T01:19:27.729730",
          "score": 0.9529533874225607
         },
         {
          "date": "2022-06-17T21:04:19.621622",
          "score": 0.9536842084325428
         },
         {
          "date": "2022-06-22T16:49:11.513514",
          "score": 0.9544094765430718
         },
         {
          "date": "2022-06-27T12:34:03.405406",
          "score": 0.9551291864582174
         },
         {
          "date": "2022-07-02T08:18:55.297297",
          "score": 0.955843332922441
         },
         {
          "date": "2022-07-07T04:03:47.189189",
          "score": 0.956551910720632
         },
         {
          "date": "2022-07-11T23:48:39.081081",
          "score": 0.9572549146781648
         },
         {
          "date": "2022-07-16T19:33:30.972973",
          "score": 0.9579523396609256
         },
         {
          "date": "2022-07-21T15:18:22.864865",
          "score": 0.958644180575367
         },
         {
          "date": "2022-07-26T11:03:14.756757",
          "score": 0.9593304323685443
         },
         {
          "date": "2022-07-31T06:48:06.648649",
          "score": 0.960011090028154
         },
         {
          "date": "2022-08-05T02:32:58.540540",
          "score": 0.9606861485825777
         },
         {
          "date": "2022-08-09T22:17:50.432432",
          "score": 0.9613556031009263
         },
         {
          "date": "2022-08-14T18:02:42.324324",
          "score": 0.9620194486930767
         },
         {
          "date": "2022-08-19T13:47:34.216216",
          "score": 0.9626776805097077
         },
         {
          "date": "2022-08-24T09:32:26.108108",
          "score": 0.96333029374235
         },
         {
          "date": "2022-08-29T05:17:18",
          "score": 0.9639772836234138
         },
         {
          "date": "2022-09-03T01:02:09.891892",
          "score": 0.964618645426238
         },
         {
          "date": "2022-09-07T20:47:01.783784",
          "score": 0.9652543744651246
         },
         {
          "date": "2022-09-12T16:31:53.675676",
          "score": 0.9658844660953723
         },
         {
          "date": "2022-09-17T12:16:45.567568",
          "score": 0.9665089157133251
         },
         {
          "date": "2022-09-22T08:01:37.459460",
          "score": 0.9671277187563985
         },
         {
          "date": "2022-09-27T03:46:29.351351",
          "score": 0.9677408707031262
         },
         {
          "date": "2022-10-01T23:31:21.243243",
          "score": 0.9683483670731939
         },
         {
          "date": "2022-10-06T19:16:13.135135",
          "score": 0.968950203427472
         },
         {
          "date": "2022-10-11T15:01:05.027027",
          "score": 0.9695463753680553
         },
         {
          "date": "2022-10-16T10:45:56.918919",
          "score": 0.9701368785383024
         },
         {
          "date": "2022-10-21T06:30:48.810811",
          "score": 0.970721708622867
         },
         {
          "date": "2022-10-26T02:15:40.702703",
          "score": 0.9713008613477304
         },
         {
          "date": "2022-10-30T21:00:32.594594",
          "score": 0.971874332480246
         },
         {
          "date": "2022-11-04T16:45:24.486486",
          "score": 0.9724421178291622
         },
         {
          "date": "2022-11-09T12:30:16.378378",
          "score": 0.9730042132446675
         },
         {
          "date": "2022-11-14T08:15:08.270270",
          "score": 0.973560614618418
         },
         {
          "date": "2022-11-19T04:00:00.162162",
          "score": 0.9741113178835722
         },
         {
          "date": "2022-11-23T23:44:52.054054",
          "score": 0.974656319014823
         },
         {
          "date": "2022-11-28T19:29:43.945946",
          "score": 0.9751956140284357
         },
         {
          "date": "2022-12-03T15:14:35.837838",
          "score": 0.9757291989822758
         },
         {
          "date": "2022-12-08T10:59:27.729730",
          "score": 0.9762570699758447
         },
         {
          "date": "2022-12-13T06:44:19.621622",
          "score": 0.9767792231503056
         },
         {
          "date": "2022-12-18T02:29:11.513514",
          "score": 0.9772956546885213
         },
         {
          "date": "2022-12-22T22:14:03.405406",
          "score": 0.977806360815084
         },
         {
          "date": "2022-12-27T17:58:55.297297",
          "score": 0.9783113377963459
         },
         {
          "date": "2023-01-01T13:43:47.189189",
          "score": 0.9788105819404469
         },
         {
          "date": "2023-01-06T09:28:39.081081",
          "score": 0.9793040895973503
         },
         {
          "date": "2023-01-11T05:13:30.972973",
          "score": 0.9797918571588664
         },
         {
          "date": "2023-01-16T00:58:22.864865",
          "score": 0.9802738810586882
         },
         {
          "date": "2023-01-20T20:43:14.756757",
          "score": 0.9807501577724176
         },
         {
          "date": "2023-01-25T16:28:06.648649",
          "score": 0.9812206838175922
         },
         {
          "date": "2023-01-30T12:12:58.540540",
          "score": 0.9816854557537166
         },
         {
          "date": "2023-02-04T07:57:50.432432",
          "score": 0.9821444701822909
         },
         {
          "date": "2023-02-09T03:42:42.324324",
          "score": 0.9825977237468384
         },
         {
          "date": "2023-02-13T23:27:34.216216",
          "score": 0.9830452131329291
         },
         {
          "date": "2023-02-18T19:12:26.108108",
          "score": 0.9834869350682137
         },
         {
          "date": "2023-02-23T14:57:18",
          "score": 0.983922886322443
         },
         {
          "date": "2023-02-28T10:42:09.891892",
          "score": 0.9843530637075002
         },
         {
          "date": "2023-03-05T06:27:01.783784",
          "score": 0.9847774640774258
         },
         {
          "date": "2023-03-10T02:11:53.675676",
          "score": 0.9851960843284391
         },
         {
          "date": "2023-03-14T21:56:45.567568",
          "score": 0.98560892139897
         },
         {
          "date": "2023-03-19T17:41:37.459460",
          "score": 0.9860159722696783
         },
         {
          "date": "2023-03-24T13:26:29.351351",
          "score": 0.9864172339634831
         },
         {
          "date": "2023-03-29T10:11:21.243243",
          "score": 0.986812703545585
         },
         {
          "date": "2023-04-03T05:56:13.135135",
          "score": 0.9872023781234892
         },
         {
          "date": "2023-04-08T01:41:05.027027",
          "score": 0.9875862548470297
         },
         {
          "date": "2023-04-12T21:25:56.918919",
          "score": 0.9879643309083944
         },
         {
          "date": "2023-04-17T17:10:48.810811",
          "score": 0.9883366035421481
         },
         {
          "date": "2023-04-22T12:55:40.702703",
          "score": 0.9887030700252503
         },
         {
          "date": "2023-04-27T08:40:32.594594",
          "score": 0.9890637276770848
         },
         {
          "date": "2023-05-02T04:25:24.486486",
          "score": 0.989418573859475
         },
         {
          "date": "2023-05-07T00:10:16.378378",
          "score": 0.98976760597671
         },
         {
          "date": "2023-05-11T19:55:08.270270",
          "score": 0.990110821475565
         },
         {
          "date": "2023-05-16T15:40:00.162162",
          "score": 0.9904482178453198
         },
         {
          "date": "2023-05-21T11:24:52.054054",
          "score": 0.990779792617781
         },
         {
          "date": "2023-05-26T07:09:43.945946",
          "score": 0.9911055433673037
         },
         {
          "date": "2023-05-31T02:54:35.837838",
          "score": 0.991425467710809
         },
         {
          "date": "2023-06-04T22:39:27.729730",
          "score": 0.9917395633078059
         },
         {
          "date": "2023-06-09T18:24:19.621622",
          "score": 0.9920478278604064
         },
         {
          "date": "2023-06-14T14:09:11.513514",
          "score": 0.992350259113348
         },
         {
          "date": "2023-06-19T09:54:03.405406",
          "score": 0.9926468548540119
         },
         {
          "date": "2023-06-24T05:38:55.297297",
          "score": 0.9929376129124404
         },
         {
          "date": "2023-06-29T01:23:47.189189",
          "score": 0.9932225311613526
         },
         {
          "date": "2023-07-03T21:08:39.081081",
          "score": 0.9935016075161665
         },
         {
          "date": "2023-07-08T16:53:30.972973",
          "score": 0.9937748399350106
         },
         {
          "date": "2023-07-13T12:38:22.864865",
          "score": 0.9940422264187452
         },
         {
          "date": "2023-07-18T08:23:14.756757",
          "score": 0.9943037650109771
         },
         {
          "date": "2023-07-23T04:08:06.648649",
          "score": 0.9945594537980742
         },
         {
          "date": "2023-07-27T23:52:58.540540",
          "score": 0.9948092909091828
         },
         {
          "date": "2023-08-01T19:37:50.432432",
          "score": 0.995053274516243
         },
         {
          "date": "2023-08-06T15:22:42.324324",
          "score": 0.9952914028340037
         },
         {
          "date": "2023-08-11T11:07:34.216216",
          "score": 0.9955236741200351
         },
         {
          "date": "2023-08-16T06:52:26.108108",
          "score": 0.9957500866747462
         },
         {
          "date": "2023-08-21T02:37:18",
          "score": 0.9959706388413961
         },
         {
          "date": "2023-08-25T22:22:09.891892",
          "score": 0.996185329006109
         },
         {
          "date": "2023-08-30T18:07:01.783784",
          "score": 0.9963941555978878
         },
         {
          "date": "2023-09-04T13:51:53.675676",
          "score": 0.996597117088624
         },
         {
          "date": "2023-09-09T09:36:45.567568",
          "score": 0.996794211993115
         },
         {
          "date": "2023-09-14T05:21:37.459460",
          "score": 0.9969854388690715
         },
         {
          "date": "2023-09-19T01:06:29.351351",
          "score": 0.9971707963171326
         },
         {
          "date": "2023-09-23T20:51:21.243243",
          "score": 0.9973502829808765
         },
         {
          "date": "2023-09-28T16:36:13.135135",
          "score": 0.9975238975468299
         },
         {
          "date": "2023-10-03T12:21:05.027027",
          "score": 0.9976916387444809
         },
         {
          "date": "2023-10-08T08:05:56.918919",
          "score": 0.9978535053462882
         },
         {
          "date": "2023-10-13T03:50:48.810811",
          "score": 0.998009496167693
         },
         {
          "date": "2023-10-17T23:35:40.702703",
          "score": 0.9981596100671246
         },
         {
          "date": "2023-10-22T19:20:32.594594",
          "score": 0.9983038459460147
         },
         {
          "date": "2023-10-27T15:05:24.486486",
          "score": 0.9984422027488029
         },
         {
          "date": "2023-11-01T09:50:16.378378",
          "score": 0.9985746794629468
         },
         {
          "date": "2023-11-06T05:35:08.270270",
          "score": 0.9987012751189306
         },
         {
          "date": "2023-11-11T01:20:00.162162",
          "score": 0.9988219887902714
         },
         {
          "date": "2023-11-15T21:04:52.054054",
          "score": 0.9989368195935283
         },
         {
          "date": "2023-11-20T16:49:43.945946",
          "score": 0.9990457666883096
         },
         {
          "date": "2023-11-25T12:34:35.837838",
          "score": 0.9991488292772788
         },
         {
          "date": "2023-11-30T08:19:27.729730",
          "score": 0.9992460066061621
         },
         {
          "date": "2023-12-05T04:04:19.621622",
          "score": 0.999337297963753
         },
         {
          "date": "2023-12-09T23:49:11.513514",
          "score": 0.9994227026819205
         },
         {
          "date": "2023-12-14T19:34:03.405406",
          "score": 0.9995022201356122
         },
         {
          "date": "2023-12-19T15:18:55.297297",
          "score": 0.9995758497428614
         },
         {
          "date": "2023-12-24T11:03:47.189189",
          "score": 0.99964359096479
         },
         {
          "date": "2023-12-29T06:48:39.081081",
          "score": 0.9997054433056147
         },
         {
          "date": "2024-01-03T02:33:30.972973",
          "score": 0.99976140631265
         },
         {
          "date": "2024-01-07T22:18:22.864865",
          "score": 0.9998114795763116
         },
         {
          "date": "2024-01-12T18:03:14.756757",
          "score": 0.9998556627301214
         },
         {
          "date": "2024-01-17T13:48:06.648649",
          "score": 0.9998939554507079
         },
         {
          "date": "2024-01-22T09:32:58.540540",
          "score": 0.9999263574578118
         },
         {
          "date": "2024-01-27T05:17:50.432432",
          "score": 0.9999528685142858
         },
         {
          "date": "2024-02-01T01:02:42.324324",
          "score": 0.9999734884260979
         },
         {
          "date": "2024-02-05T20:47:34.216216",
          "score": 0.9999882170423329
         },
         {
          "date": "2024-02-10T16:32:26.108108",
          "score": 0.9999970542551931
         },
         {
          "date": "2024-02-15T12:17:18",
          "score": 0.9999999999999998
         }
        ]
       },
       "encoding": {
        "tooltip": [
         {
          "field": "date",
          "type": "temporal"
         }
        ],
        "x": {
         "field": "date",
         "title": "Date",
         "type": "temporal"
        },
        "y": {
         "field": "score",
         "title": "Recency score",
         "type": "quantitative"
        }
       },
       "height": 380,
       "mark": {
        "color": "black",
        "filled": true,
        "size": 10,
        "type": "point"
       },
       "title": "Recency scores (unit weight)",
       "width": 500
      },
      "image/png": "[encoded data removed]",
      "text/plain": [
       "<VegaLite 5 object>\n",
       "\n",
       "If you see this message, it means the renderer has not been properly enabled\n",
       "for the frontend that you are using. For more information, see\n",
       "https://altair-viz.github.io/user_guide/display_frontends.html#troubleshooting\n"
      ]
     },
     "execution_count": 16,
     "metadata": {},
     "output_type": "execute_result"
    }
   ],
   "source": [
    "recency_plotter = RecencyPlotter(recency_space)\n",
    "recency_plotter.plot_recency_curve()"
   ]
  },
  {
   "cell_type": "markdown",
   "id": "e5213ec8-93aa-4e30-91e5-108afe8bac4d",
   "metadata": {},
   "source": [
    "## Queries"
   ]
  },
  {
   "cell_type": "code",
   "execution_count": 17,
   "id": "8531be9a-ad7c-422c-8c74-7e0825ab7733",
   "metadata": {},
   "outputs": [],
   "source": [
    "# quick helper to present the results in a notebook\n",
    "def present_result(result: Result, cols_to_keep: list[str] = [\"description\", \"headline\", \"release_date\", \"id\"]) -> pd.DataFrame:\n",
    "    # parse result to dataframe\n",
    "    df: pd.DataFrame = pd.DataFrame([entry.stored_object for entry in result.entries])\n",
    "    # transform timestamp back to release year. Ts is in milliseconds originally hence the division\n",
    "    df[\"release_date\"] = [datetime.fromtimestamp(timestamp, tz=timezone.utc).date() for timestamp in df[\"release_timestamp\"]]\n",
    "    return df[cols_to_keep]"
   ]
  },
  {
   "cell_type": "markdown",
   "id": "fdd3e696-0613-425e-a750-70f70f679824",
   "metadata": {},
   "source": [
    "Let's search for one of the biggest acquisitions of the last decade! We are going to set recency's weight to 0 as it does not matter at this point."
   ]
  },
  {
   "cell_type": "code",
   "execution_count": 18,
   "id": "5528c3af-67de-4e31-9cfd-c8a8c080cd29",
   "metadata": {
    "scrolled": true
   },
   "outputs": [
    {
     "data": {
      "text/html": [
       "<div>\n",
       "<style scoped>\n",
       "    .dataframe tbody tr th:only-of-type {\n",
       "        vertical-align: middle;\n",
       "    }\n",
       "\n",
       "    .dataframe tbody tr th {\n",
       "        vertical-align: top;\n",
       "    }\n",
       "\n",
       "    .dataframe thead th {\n",
       "        text-align: right;\n",
       "    }\n",
       "</style>\n",
       "<table border=\"1\" class=\"dataframe\">\n",
       "  <thead>\n",
       "    <tr style=\"text-align: right;\">\n",
       "      <th></th>\n",
       "      <th>description</th>\n",
       "      <th>headline</th>\n",
       "      <th>release_date</th>\n",
       "      <th>id</th>\n",
       "    </tr>\n",
       "  </thead>\n",
       "  <tbody>\n",
       "    <tr>\n",
       "      <th>0</th>\n",
       "      <td>(Reuters) - Microsoft Corp  agreed to buy LinkedIn Corp  for $26.2 billion in cash, the companies said in</td>\n",
       "      <td>Microsoft Agrees To Acquire LinkedIn For $26.2 Billion</td>\n",
       "      <td>2016-06-13</td>\n",
       "      <td>64890</td>\n",
       "    </tr>\n",
       "    <tr>\n",
       "      <th>1</th>\n",
       "      <td>Without question, LinkedIn has forever altered the business landscape -- both digitally and in the physical world. Nowadays, so much of what we call business or career development is carried out r...</td>\n",
       "      <td>The LinkedIn of Things</td>\n",
       "      <td>2015-01-06</td>\n",
       "      <td>110756</td>\n",
       "    </tr>\n",
       "    <tr>\n",
       "      <th>2</th>\n",
       "      <td>LinkedIn works very well for the millions of people who make the effort to understand how to leverage it effectively. And those people are very likely not spending more than fifteen a minutes a da...</td>\n",
       "      <td>The 7 LinkedIn Job Search Mistakes That Might Be Costing You a Job</td>\n",
       "      <td>2014-06-26</td>\n",
       "      <td>127772</td>\n",
       "    </tr>\n",
       "    <tr>\n",
       "      <th>3</th>\n",
       "      <td>Although under-used by average LinkedIn members, LinkedIn Groups can be critical to a successful job search because they enable you to communicate directly with recruiters. And vice versa.</td>\n",
       "      <td>Get LinkedIn to Recruiters for Your Job Search</td>\n",
       "      <td>2014-07-07</td>\n",
       "      <td>126794</td>\n",
       "    </tr>\n",
       "    <tr>\n",
       "      <th>4</th>\n",
       "      <td>NEW YORK (AP) — Anthem is buying rival Cigna for $48 billion in a deal that would create the nation's largest health insurer</td>\n",
       "      <td>MEGA-MERGER: Anthem To Buy Cigna For $54 Billion</td>\n",
       "      <td>2015-07-24</td>\n",
       "      <td>93451</td>\n",
       "    </tr>\n",
       "    <tr>\n",
       "      <th>5</th>\n",
       "      <td>Facebook and the billionaire Mark Zuckerberg has joined the establishment. It has become another corporate giant which cheated us, luring on a concept of global friendship which has turned out to ...</td>\n",
       "      <td>Facebook Is No Longer Cool</td>\n",
       "      <td>2012-02-05</td>\n",
       "      <td>208810</td>\n",
       "    </tr>\n",
       "    <tr>\n",
       "      <th>6</th>\n",
       "      <td>The struggling social network is looking for a buyer.</td>\n",
       "      <td>Twitter Is Reportedly In Sales Talks With Google And Salesforce</td>\n",
       "      <td>2016-09-23</td>\n",
       "      <td>55880</td>\n",
       "    </tr>\n",
       "    <tr>\n",
       "      <th>7</th>\n",
       "      <td>The company's value has soared in the last five years and it has more users than Twitter.</td>\n",
       "      <td>Snapchat Is Reportedly Planning A $25 Billion IPO</td>\n",
       "      <td>2016-10-06</td>\n",
       "      <td>54727</td>\n",
       "    </tr>\n",
       "    <tr>\n",
       "      <th>8</th>\n",
       "      <td>If failed corporate mergers teach us anything about business, it's that bigger is not always better. Yep, with a 70 to 90</td>\n",
       "      <td>9 Mergers That Epically Failed</td>\n",
       "      <td>2013-02-23</td>\n",
       "      <td>173078</td>\n",
       "    </tr>\n",
       "    <tr>\n",
       "      <th>9</th>\n",
       "      <td>Another day, another merger. Telephone companies, drug companies, drugstores, airlines, hospitals, retail stores and beer. Why?</td>\n",
       "      <td>The Great Remix: Why Mergers Are Booming</td>\n",
       "      <td>2015-11-01</td>\n",
       "      <td>84610</td>\n",
       "    </tr>\n",
       "  </tbody>\n",
       "</table>\n",
       "</div>"
      ],
      "text/plain": [
       "                                                                                                                                                                                               description  \\\n",
       "0                                                                                                (Reuters) - Microsoft Corp  agreed to buy LinkedIn Corp  for $26.2 billion in cash, the companies said in   \n",
       "1  Without question, LinkedIn has forever altered the business landscape -- both digitally and in the physical world. Nowadays, so much of what we call business or career development is carried out r...   \n",
       "2  LinkedIn works very well for the millions of people who make the effort to understand how to leverage it effectively. And those people are very likely not spending more than fifteen a minutes a da...   \n",
       "3             Although under-used by average LinkedIn members, LinkedIn Groups can be critical to a successful job search because they enable you to communicate directly with recruiters. And vice versa.   \n",
       "4                                                                             NEW YORK (AP) — Anthem is buying rival Cigna for $48 billion in a deal that would create the nation's largest health insurer   \n",
       "5  Facebook and the billionaire Mark Zuckerberg has joined the establishment. It has become another corporate giant which cheated us, luring on a concept of global friendship which has turned out to ...   \n",
       "6                                                                                                                                                    The struggling social network is looking for a buyer.   \n",
       "7                                                                                                                The company's value has soared in the last five years and it has more users than Twitter.   \n",
       "8                                                                                If failed corporate mergers teach us anything about business, it's that bigger is not always better. Yep, with a 70 to 90   \n",
       "9                                                                          Another day, another merger. Telephone companies, drug companies, drugstores, airlines, hospitals, retail stores and beer. Why?   \n",
       "\n",
       "                                                             headline  \\\n",
       "0              Microsoft Agrees To Acquire LinkedIn For $26.2 Billion   \n",
       "1                                              The LinkedIn of Things   \n",
       "2  The 7 LinkedIn Job Search Mistakes That Might Be Costing You a Job   \n",
       "3                      Get LinkedIn to Recruiters for Your Job Search   \n",
       "4                    MEGA-MERGER: Anthem To Buy Cigna For $54 Billion   \n",
       "5                                          Facebook Is No Longer Cool   \n",
       "6     Twitter Is Reportedly In Sales Talks With Google And Salesforce   \n",
       "7                   Snapchat Is Reportedly Planning A $25 Billion IPO   \n",
       "8                                      9 Mergers That Epically Failed   \n",
       "9                            The Great Remix: Why Mergers Are Booming   \n",
       "\n",
       "  release_date      id  \n",
       "0   2016-06-13   64890  \n",
       "1   2015-01-06  110756  \n",
       "2   2014-06-26  127772  \n",
       "3   2014-07-07  126794  \n",
       "4   2015-07-24   93451  \n",
       "5   2012-02-05  208810  \n",
       "6   2016-09-23   55880  \n",
       "7   2016-10-06   54727  \n",
       "8   2013-02-23  173078  \n",
       "9   2015-11-01   84610  "
      ]
     },
     "execution_count": 18,
     "metadata": {},
     "output_type": "execute_result"
    }
   ],
   "source": [
    "result = app.query(\n",
    "    simple_query,\n",
    "    query_text = \"Microsoft acquires LinkedIn\",\n",
    "    description_weight=1,\n",
    "    headline_weight=1,\n",
    "    recency_weight=0\n",
    ")\n",
    "\n",
    "present_result(result)"
   ]
  },
  {
   "cell_type": "markdown",
   "id": "6d74b0af-42df-4166-aa6f-c57676b4b19c",
   "metadata": {},
   "source": [
    "The first result is about the deal, others are related to some aspect of the query. Let's try upweighting recency to see a recent big acquisition jump to the second place."
   ]
  },
  {
   "cell_type": "code",
   "execution_count": 19,
   "id": "3d45edfa-d92f-4196-93e7-a2e91743ffba",
   "metadata": {},
   "outputs": [
    {
     "data": {
      "text/html": [
       "<div>\n",
       "<style scoped>\n",
       "    .dataframe tbody tr th:only-of-type {\n",
       "        vertical-align: middle;\n",
       "    }\n",
       "\n",
       "    .dataframe tbody tr th {\n",
       "        vertical-align: top;\n",
       "    }\n",
       "\n",
       "    .dataframe thead th {\n",
       "        text-align: right;\n",
       "    }\n",
       "</style>\n",
       "<table border=\"1\" class=\"dataframe\">\n",
       "  <thead>\n",
       "    <tr style=\"text-align: right;\">\n",
       "      <th></th>\n",
       "      <th>description</th>\n",
       "      <th>headline</th>\n",
       "      <th>release_date</th>\n",
       "      <th>id</th>\n",
       "    </tr>\n",
       "  </thead>\n",
       "  <tbody>\n",
       "    <tr>\n",
       "      <th>0</th>\n",
       "      <td>(Reuters) - Microsoft Corp  agreed to buy LinkedIn Corp  for $26.2 billion in cash, the companies said in</td>\n",
       "      <td>Microsoft Agrees To Acquire LinkedIn For $26.2 Billion</td>\n",
       "      <td>2016-06-13</td>\n",
       "      <td>64890</td>\n",
       "    </tr>\n",
       "    <tr>\n",
       "      <th>1</th>\n",
       "      <td>“My offer is my best and final offer and if it is not accepted, I would need to reconsider my position as a shareholder,” Musk said in a filing.</td>\n",
       "      <td>Elon Musk Offers To Buy 100% Of Twitter</td>\n",
       "      <td>2022-04-14</td>\n",
       "      <td>849</td>\n",
       "    </tr>\n",
       "    <tr>\n",
       "      <th>2</th>\n",
       "      <td>Starbucks' move follows McDonald's exit from the Russian market last week.</td>\n",
       "      <td>Starbucks Leaving Russian Market, Shutting 130 Stores</td>\n",
       "      <td>2022-05-23</td>\n",
       "      <td>632</td>\n",
       "    </tr>\n",
       "    <tr>\n",
       "      <th>3</th>\n",
       "      <td>Without question, LinkedIn has forever altered the business landscape -- both digitally and in the physical world. Nowadays, so much of what we call business or career development is carried out r...</td>\n",
       "      <td>The LinkedIn of Things</td>\n",
       "      <td>2015-01-06</td>\n",
       "      <td>110756</td>\n",
       "    </tr>\n",
       "    <tr>\n",
       "      <th>4</th>\n",
       "      <td>Delaware Chancery Judge Kathaleen McCormick dealt the world's richest person a setback in ordering a speedy trial on his abandoned deal to buy Twitter.</td>\n",
       "      <td>Twitter Lawyer Calls Elon Musk 'Committed Enemy' As Judge Sets October Trial</td>\n",
       "      <td>2022-07-20</td>\n",
       "      <td>353</td>\n",
       "    </tr>\n",
       "    <tr>\n",
       "      <th>5</th>\n",
       "      <td>The decision comes as surging oil prices have been rattling global markets and after Ukraine’s foreign minister criticized Shell for continuing to buy Russian oil.</td>\n",
       "      <td>Shell Says It Will Stop Buying Russian Oil, Natural Gas</td>\n",
       "      <td>2022-03-08</td>\n",
       "      <td>1054</td>\n",
       "    </tr>\n",
       "    <tr>\n",
       "      <th>6</th>\n",
       "      <td>That makes seven Starbucks stores that have voted to unionize in a matter of months.</td>\n",
       "      <td>Starbucks Workers In Seattle Vote To Form Union</td>\n",
       "      <td>2022-03-23</td>\n",
       "      <td>967</td>\n",
       "    </tr>\n",
       "    <tr>\n",
       "      <th>7</th>\n",
       "      <td>Recent statements by CEO Howard Schultz offer a glimpse of some of the hardball tactics that might lay ahead.</td>\n",
       "      <td>For The Starbucks Union Campaign, A Bruising Contract Fight Is Just Beginning</td>\n",
       "      <td>2022-04-16</td>\n",
       "      <td>837</td>\n",
       "    </tr>\n",
       "    <tr>\n",
       "      <th>8</th>\n",
       "      <td>The store in Arizona joins two in New York as the only corporate Starbucks stores with a union.</td>\n",
       "      <td>Another Starbucks Store Votes To Unionize</td>\n",
       "      <td>2022-02-25</td>\n",
       "      <td>1117</td>\n",
       "    </tr>\n",
       "    <tr>\n",
       "      <th>9</th>\n",
       "      <td>Android creator Andy Rubin, accused of sexual harassment, was given a severance package worth $240 million, according to the lawsuit.</td>\n",
       "      <td>Google's Alphabet Settles With Shareholders Over Payoffs To Execs Accused Of Harassment</td>\n",
       "      <td>2020-09-26</td>\n",
       "      <td>4025</td>\n",
       "    </tr>\n",
       "  </tbody>\n",
       "</table>\n",
       "</div>"
      ],
      "text/plain": [
       "                                                                                                                                                                                               description  \\\n",
       "0                                                                                                (Reuters) - Microsoft Corp  agreed to buy LinkedIn Corp  for $26.2 billion in cash, the companies said in   \n",
       "1                                                         “My offer is my best and final offer and if it is not accepted, I would need to reconsider my position as a shareholder,” Musk said in a filing.   \n",
       "2                                                                                                                               Starbucks' move follows McDonald's exit from the Russian market last week.   \n",
       "3  Without question, LinkedIn has forever altered the business landscape -- both digitally and in the physical world. Nowadays, so much of what we call business or career development is carried out r...   \n",
       "4                                                  Delaware Chancery Judge Kathaleen McCormick dealt the world's richest person a setback in ordering a speedy trial on his abandoned deal to buy Twitter.   \n",
       "5                                      The decision comes as surging oil prices have been rattling global markets and after Ukraine’s foreign minister criticized Shell for continuing to buy Russian oil.   \n",
       "6                                                                                                                     That makes seven Starbucks stores that have voted to unionize in a matter of months.   \n",
       "7                                                                                            Recent statements by CEO Howard Schultz offer a glimpse of some of the hardball tactics that might lay ahead.   \n",
       "8                                                                                                          The store in Arizona joins two in New York as the only corporate Starbucks stores with a union.   \n",
       "9                                                                    Android creator Andy Rubin, accused of sexual harassment, was given a severance package worth $240 million, according to the lawsuit.   \n",
       "\n",
       "                                                                                  headline  \\\n",
       "0                                   Microsoft Agrees To Acquire LinkedIn For $26.2 Billion   \n",
       "1                                                  Elon Musk Offers To Buy 100% Of Twitter   \n",
       "2                                    Starbucks Leaving Russian Market, Shutting 130 Stores   \n",
       "3                                                                   The LinkedIn of Things   \n",
       "4             Twitter Lawyer Calls Elon Musk 'Committed Enemy' As Judge Sets October Trial   \n",
       "5                                  Shell Says It Will Stop Buying Russian Oil, Natural Gas   \n",
       "6                                          Starbucks Workers In Seattle Vote To Form Union   \n",
       "7            For The Starbucks Union Campaign, A Bruising Contract Fight Is Just Beginning   \n",
       "8                                                Another Starbucks Store Votes To Unionize   \n",
       "9  Google's Alphabet Settles With Shareholders Over Payoffs To Execs Accused Of Harassment   \n",
       "\n",
       "  release_date      id  \n",
       "0   2016-06-13   64890  \n",
       "1   2022-04-14     849  \n",
       "2   2022-05-23     632  \n",
       "3   2015-01-06  110756  \n",
       "4   2022-07-20     353  \n",
       "5   2022-03-08    1054  \n",
       "6   2022-03-23     967  \n",
       "7   2022-04-16     837  \n",
       "8   2022-02-25    1117  \n",
       "9   2020-09-26    4025  "
      ]
     },
     "execution_count": 19,
     "metadata": {},
     "output_type": "execute_result"
    }
   ],
   "source": [
    "result = app.query(\n",
    "    simple_query,\n",
    "    query_text = \"Microsoft acquires LinkedIn\",\n",
    "    description_weight=1,\n",
    "    headline_weight=1,\n",
    "    recency_weight=1,\n",
    ")\n",
    "\n",
    "present_result(result)"
   ]
  },
  {
   "cell_type": "markdown",
   "id": "cc510836-74f6-438d-9db2-e5bde54fe8c9",
   "metadata": {},
   "source": [
    "Subsequently we can also search with the news article about Elon Musk offering to buy Twitter. As the dataset is quite biased towards old articles, what we get back is news about either Elon Musk or Twitter."
   ]
  },
  {
   "cell_type": "code",
   "execution_count": 20,
   "id": "8d8db7ab-909e-49be-a7ab-81a0159c92ff",
   "metadata": {},
   "outputs": [
    {
     "data": {
      "text/html": [
       "<div>\n",
       "<style scoped>\n",
       "    .dataframe tbody tr th:only-of-type {\n",
       "        vertical-align: middle;\n",
       "    }\n",
       "\n",
       "    .dataframe tbody tr th {\n",
       "        vertical-align: top;\n",
       "    }\n",
       "\n",
       "    .dataframe thead th {\n",
       "        text-align: right;\n",
       "    }\n",
       "</style>\n",
       "<table border=\"1\" class=\"dataframe\">\n",
       "  <thead>\n",
       "    <tr style=\"text-align: right;\">\n",
       "      <th></th>\n",
       "      <th>description</th>\n",
       "      <th>headline</th>\n",
       "      <th>release_date</th>\n",
       "      <th>id</th>\n",
       "    </tr>\n",
       "  </thead>\n",
       "  <tbody>\n",
       "    <tr>\n",
       "      <th>0</th>\n",
       "      <td>“My offer is my best and final offer and if it is not accepted, I would need to reconsider my position as a shareholder,” Musk said in a filing.</td>\n",
       "      <td>Elon Musk Offers To Buy 100% Of Twitter</td>\n",
       "      <td>2022-04-14</td>\n",
       "      <td>849</td>\n",
       "    </tr>\n",
       "    <tr>\n",
       "      <th>1</th>\n",
       "      <td>Don't bet against Musk.</td>\n",
       "      <td>Why Elon Musk’s Plan To Merge Tesla With SolarCity Will Probably Work</td>\n",
       "      <td>2016-08-16</td>\n",
       "      <td>59220</td>\n",
       "    </tr>\n",
       "    <tr>\n",
       "      <th>2</th>\n",
       "      <td>Elon Musk's empire is consolidating.</td>\n",
       "      <td>Tesla Is Buying Sister Company SolarCity For $2.6 Billion</td>\n",
       "      <td>2016-08-01</td>\n",
       "      <td>60483</td>\n",
       "    </tr>\n",
       "    <tr>\n",
       "      <th>3</th>\n",
       "      <td>The U.S. Securities and Exchange Commission filed a motion asking for the Tesla CEO to show why he shouldn't be held in contempt.</td>\n",
       "      <td>SEC Says Elon Musk Violated Fraud Settlement With Tweet</td>\n",
       "      <td>2019-02-26</td>\n",
       "      <td>7191</td>\n",
       "    </tr>\n",
       "    <tr>\n",
       "      <th>4</th>\n",
       "      <td>The billionaire wants to marry Tesla and SolarCity. But he says SpaceX should remain a bachelor.</td>\n",
       "      <td>The One Company Elon Musk Wants To Keep Independent</td>\n",
       "      <td>2016-08-04</td>\n",
       "      <td>60237</td>\n",
       "    </tr>\n",
       "    <tr>\n",
       "      <th>5</th>\n",
       "      <td>The interim CEO purchased 31,000 shares Monday.</td>\n",
       "      <td>Jack Dorsey Bought A Bunch Of Twitter Shares, And It's Working Out Great</td>\n",
       "      <td>2015-08-10</td>\n",
       "      <td>91958</td>\n",
       "    </tr>\n",
       "    <tr>\n",
       "      <th>6</th>\n",
       "      <td>Tesla's CEO says hiring self-driving engineers is \"a super high priority.\"</td>\n",
       "      <td>Elon Musk Just Dropped Another Hint That Tesla May Take On Uber</td>\n",
       "      <td>2015-11-20</td>\n",
       "      <td>82841</td>\n",
       "    </tr>\n",
       "    <tr>\n",
       "      <th>7</th>\n",
       "      <td>Time Warner rejected an $80 billion offer from a different company in 2014.</td>\n",
       "      <td>AT&amp;T Agrees To Buy Time Warner, In Principle</td>\n",
       "      <td>2016-10-21</td>\n",
       "      <td>53309</td>\n",
       "    </tr>\n",
       "    <tr>\n",
       "      <th>8</th>\n",
       "      <td>It's an Elon Musk world, and we're just living in it. Before we bow down to a seemingly fearless and altruistic pioneer of electric vehicles and libertarianism, it's important to point out the ong...</td>\n",
       "      <td>Elon Musk Is Even Smarter Than We Thought</td>\n",
       "      <td>2014-06-14</td>\n",
       "      <td>128870</td>\n",
       "    </tr>\n",
       "    <tr>\n",
       "      <th>9</th>\n",
       "      <td>This could all be part of the secret sauce known as the \"Musk Doctrine.\"</td>\n",
       "      <td>Wall Street Doesn’t Believe Elon Musk Can Produce 500,000 Cars By 2018</td>\n",
       "      <td>2016-05-09</td>\n",
       "      <td>67933</td>\n",
       "    </tr>\n",
       "  </tbody>\n",
       "</table>\n",
       "</div>"
      ],
      "text/plain": [
       "                                                                                                                                                                                               description  \\\n",
       "0                                                         “My offer is my best and final offer and if it is not accepted, I would need to reconsider my position as a shareholder,” Musk said in a filing.   \n",
       "1                                                                                                                                                                                  Don't bet against Musk.   \n",
       "2                                                                                                                                                                     Elon Musk's empire is consolidating.   \n",
       "3                                                                        The U.S. Securities and Exchange Commission filed a motion asking for the Tesla CEO to show why he shouldn't be held in contempt.   \n",
       "4                                                                                                         The billionaire wants to marry Tesla and SolarCity. But he says SpaceX should remain a bachelor.   \n",
       "5                                                                                                                                                          The interim CEO purchased 31,000 shares Monday.   \n",
       "6                                                                                                                               Tesla's CEO says hiring self-driving engineers is \"a super high priority.\"   \n",
       "7                                                                                                                              Time Warner rejected an $80 billion offer from a different company in 2014.   \n",
       "8  It's an Elon Musk world, and we're just living in it. Before we bow down to a seemingly fearless and altruistic pioneer of electric vehicles and libertarianism, it's important to point out the ong...   \n",
       "9                                                                                                                                 This could all be part of the secret sauce known as the \"Musk Doctrine.\"   \n",
       "\n",
       "                                                                   headline  \\\n",
       "0                                   Elon Musk Offers To Buy 100% Of Twitter   \n",
       "1     Why Elon Musk’s Plan To Merge Tesla With SolarCity Will Probably Work   \n",
       "2                 Tesla Is Buying Sister Company SolarCity For $2.6 Billion   \n",
       "3                   SEC Says Elon Musk Violated Fraud Settlement With Tweet   \n",
       "4                       The One Company Elon Musk Wants To Keep Independent   \n",
       "5  Jack Dorsey Bought A Bunch Of Twitter Shares, And It's Working Out Great   \n",
       "6           Elon Musk Just Dropped Another Hint That Tesla May Take On Uber   \n",
       "7                              AT&T Agrees To Buy Time Warner, In Principle   \n",
       "8                                 Elon Musk Is Even Smarter Than We Thought   \n",
       "9    Wall Street Doesn’t Believe Elon Musk Can Produce 500,000 Cars By 2018   \n",
       "\n",
       "  release_date      id  \n",
       "0   2022-04-14     849  \n",
       "1   2016-08-16   59220  \n",
       "2   2016-08-01   60483  \n",
       "3   2019-02-26    7191  \n",
       "4   2016-08-04   60237  \n",
       "5   2015-08-10   91958  \n",
       "6   2015-11-20   82841  \n",
       "7   2016-10-21   53309  \n",
       "8   2014-06-14  128870  \n",
       "9   2016-05-09   67933  "
      ]
     },
     "execution_count": 20,
     "metadata": {},
     "output_type": "execute_result"
    }
   ],
   "source": [
    "result = app.query(\n",
    "    news_query,\n",
    "    description_weight=1,\n",
    "    headline_weight=1,\n",
    "    recency_weight=0,\n",
    "    news_id=\"849\",\n",
    ")\n",
    "\n",
    "present_result(result)"
   ]
  },
  {
   "cell_type": "markdown",
   "id": "b91aef71-921a-48cf-ba4b-3751b594fa35",
   "metadata": {},
   "source": [
    "That we can start biasing towards recency, navigating the tradeoff of letting less connected but recent news into the mix. "
   ]
  },
  {
   "cell_type": "code",
   "execution_count": 21,
   "id": "9740a69d-b11b-4f63-b13a-8230565f85b7",
   "metadata": {},
   "outputs": [
    {
     "data": {
      "text/html": [
       "<div>\n",
       "<style scoped>\n",
       "    .dataframe tbody tr th:only-of-type {\n",
       "        vertical-align: middle;\n",
       "    }\n",
       "\n",
       "    .dataframe tbody tr th {\n",
       "        vertical-align: top;\n",
       "    }\n",
       "\n",
       "    .dataframe thead th {\n",
       "        text-align: right;\n",
       "    }\n",
       "</style>\n",
       "<table border=\"1\" class=\"dataframe\">\n",
       "  <thead>\n",
       "    <tr style=\"text-align: right;\">\n",
       "      <th></th>\n",
       "      <th>description</th>\n",
       "      <th>headline</th>\n",
       "      <th>release_date</th>\n",
       "      <th>id</th>\n",
       "    </tr>\n",
       "  </thead>\n",
       "  <tbody>\n",
       "    <tr>\n",
       "      <th>0</th>\n",
       "      <td>“My offer is my best and final offer and if it is not accepted, I would need to reconsider my position as a shareholder,” Musk said in a filing.</td>\n",
       "      <td>Elon Musk Offers To Buy 100% Of Twitter</td>\n",
       "      <td>2022-04-14</td>\n",
       "      <td>849</td>\n",
       "    </tr>\n",
       "    <tr>\n",
       "      <th>1</th>\n",
       "      <td>The U.S. Securities and Exchange Commission filed a motion asking for the Tesla CEO to show why he shouldn't be held in contempt.</td>\n",
       "      <td>SEC Says Elon Musk Violated Fraud Settlement With Tweet</td>\n",
       "      <td>2019-02-26</td>\n",
       "      <td>7191</td>\n",
       "    </tr>\n",
       "    <tr>\n",
       "      <th>2</th>\n",
       "      <td>Delaware Chancery Judge Kathaleen McCormick dealt the world's richest person a setback in ordering a speedy trial on his abandoned deal to buy Twitter.</td>\n",
       "      <td>Twitter Lawyer Calls Elon Musk 'Committed Enemy' As Judge Sets October Trial</td>\n",
       "      <td>2022-07-20</td>\n",
       "      <td>353</td>\n",
       "    </tr>\n",
       "    <tr>\n",
       "      <th>3</th>\n",
       "      <td>Recent statements by CEO Howard Schultz offer a glimpse of some of the hardball tactics that might lay ahead.</td>\n",
       "      <td>For The Starbucks Union Campaign, A Bruising Contract Fight Is Just Beginning</td>\n",
       "      <td>2022-04-16</td>\n",
       "      <td>837</td>\n",
       "    </tr>\n",
       "    <tr>\n",
       "      <th>4</th>\n",
       "      <td>Android creator Andy Rubin, accused of sexual harassment, was given a severance package worth $240 million, according to the lawsuit.</td>\n",
       "      <td>Google's Alphabet Settles With Shareholders Over Payoffs To Execs Accused Of Harassment</td>\n",
       "      <td>2020-09-26</td>\n",
       "      <td>4025</td>\n",
       "    </tr>\n",
       "    <tr>\n",
       "      <th>5</th>\n",
       "      <td>The assets were the subject of recent talks between Fox and Walt Disney Co.</td>\n",
       "      <td>Verizon, Comcast Approach 21st Century Fox About Acquiring Assets</td>\n",
       "      <td>2017-11-16</td>\n",
       "      <td>20285</td>\n",
       "    </tr>\n",
       "    <tr>\n",
       "      <th>6</th>\n",
       "      <td>The decision comes as surging oil prices have been rattling global markets and after Ukraine’s foreign minister criticized Shell for continuing to buy Russian oil.</td>\n",
       "      <td>Shell Says It Will Stop Buying Russian Oil, Natural Gas</td>\n",
       "      <td>2022-03-08</td>\n",
       "      <td>1054</td>\n",
       "    </tr>\n",
       "    <tr>\n",
       "      <th>7</th>\n",
       "      <td>Tesla CEO issues a dire warning.</td>\n",
       "      <td>Elon Musk Predicts The Cause Of World War III (And It's Not Donald Trump)</td>\n",
       "      <td>2017-09-05</td>\n",
       "      <td>25949</td>\n",
       "    </tr>\n",
       "    <tr>\n",
       "      <th>8</th>\n",
       "      <td>Don't bet against Musk.</td>\n",
       "      <td>Why Elon Musk’s Plan To Merge Tesla With SolarCity Will Probably Work</td>\n",
       "      <td>2016-08-16</td>\n",
       "      <td>59220</td>\n",
       "    </tr>\n",
       "    <tr>\n",
       "      <th>9</th>\n",
       "      <td>Starbucks' move follows McDonald's exit from the Russian market last week.</td>\n",
       "      <td>Starbucks Leaving Russian Market, Shutting 130 Stores</td>\n",
       "      <td>2022-05-23</td>\n",
       "      <td>632</td>\n",
       "    </tr>\n",
       "  </tbody>\n",
       "</table>\n",
       "</div>"
      ],
      "text/plain": [
       "                                                                                                                                                           description  \\\n",
       "0                     “My offer is my best and final offer and if it is not accepted, I would need to reconsider my position as a shareholder,” Musk said in a filing.   \n",
       "1                                    The U.S. Securities and Exchange Commission filed a motion asking for the Tesla CEO to show why he shouldn't be held in contempt.   \n",
       "2              Delaware Chancery Judge Kathaleen McCormick dealt the world's richest person a setback in ordering a speedy trial on his abandoned deal to buy Twitter.   \n",
       "3                                                        Recent statements by CEO Howard Schultz offer a glimpse of some of the hardball tactics that might lay ahead.   \n",
       "4                                Android creator Andy Rubin, accused of sexual harassment, was given a severance package worth $240 million, according to the lawsuit.   \n",
       "5                                                                                          The assets were the subject of recent talks between Fox and Walt Disney Co.   \n",
       "6  The decision comes as surging oil prices have been rattling global markets and after Ukraine’s foreign minister criticized Shell for continuing to buy Russian oil.   \n",
       "7                                                                                                                                     Tesla CEO issues a dire warning.   \n",
       "8                                                                                                                                              Don't bet against Musk.   \n",
       "9                                                                                           Starbucks' move follows McDonald's exit from the Russian market last week.   \n",
       "\n",
       "                                                                                  headline  \\\n",
       "0                                                  Elon Musk Offers To Buy 100% Of Twitter   \n",
       "1                                  SEC Says Elon Musk Violated Fraud Settlement With Tweet   \n",
       "2             Twitter Lawyer Calls Elon Musk 'Committed Enemy' As Judge Sets October Trial   \n",
       "3            For The Starbucks Union Campaign, A Bruising Contract Fight Is Just Beginning   \n",
       "4  Google's Alphabet Settles With Shareholders Over Payoffs To Execs Accused Of Harassment   \n",
       "5                        Verizon, Comcast Approach 21st Century Fox About Acquiring Assets   \n",
       "6                                  Shell Says It Will Stop Buying Russian Oil, Natural Gas   \n",
       "7                Elon Musk Predicts The Cause Of World War III (And It's Not Donald Trump)   \n",
       "8                    Why Elon Musk’s Plan To Merge Tesla With SolarCity Will Probably Work   \n",
       "9                                    Starbucks Leaving Russian Market, Shutting 130 Stores   \n",
       "\n",
       "  release_date     id  \n",
       "0   2022-04-14    849  \n",
       "1   2019-02-26   7191  \n",
       "2   2022-07-20    353  \n",
       "3   2022-04-16    837  \n",
       "4   2020-09-26   4025  \n",
       "5   2017-11-16  20285  \n",
       "6   2022-03-08   1054  \n",
       "7   2017-09-05  25949  \n",
       "8   2016-08-16  59220  \n",
       "9   2022-05-23    632  "
      ]
     },
     "execution_count": 21,
     "metadata": {},
     "output_type": "execute_result"
    }
   ],
   "source": [
    "result = app.query(\n",
    "    news_query,\n",
    "    description_weight=1,\n",
    "    headline_weight=1,\n",
    "    recency_weight=1,\n",
    "    news_id=\"849\",\n",
    ")\n",
    "\n",
    "present_result(result)"
   ]
  },
  {
   "cell_type": "code",
   "execution_count": null,
   "id": "625a9b2f-fba7-4c5b-b498-a741d2050956",
   "metadata": {},
   "outputs": [],
   "source": []
  }
 ],
 "metadata": {
  "kernelspec": {
   "display_name": "superlinked-venv",
   "language": "python",
   "name": "superlinked-venv"
  },
  "language_info": {
   "codemirror_mode": {
    "name": "ipython",
    "version": 3
   },
   "file_extension": ".py",
   "mimetype": "text/x-python",
   "name": "python",
   "nbconvert_exporter": "python",
   "pygments_lexer": "ipython3",
   "version": "3.10.9"
  }
 },
 "nbformat": 4,
 "nbformat_minor": 5
}

{
 "cells": [
  {
   "cell_type": "markdown",
   "id": "49c942f7-d65e-40cd-821b-d2d3071bcf1e",
   "metadata": {},
   "source": [
    "# Semantic search in business news\n",
    "\n",
    "This notebook implements semantic search in [news](https://www.kaggle.com/datasets/rmisra/news-category-dataset) articles. \n",
    "The dataset is filtered for 'BUSINESS' category news.\n",
    "\n",
    "We are embedding\n",
    "- headlines\n",
    "- news body (short description)\n",
    "- and date\n",
    "  \n",
    "in order to be able to search for\n",
    "- notable events, or\n",
    "- related articles to a specific story.\n",
    "\n",
    "There is a possibility to skew the results towards older or fresher news,\n",
    "and also to influence the results using a specific search term."
   ]
  },
  {
   "cell_type": "markdown",
   "id": "aac7c6a1-6af1-4393-b4a9-2c03f9f48f6f",
   "metadata": {},
   "source": [
    "## Boilerplate\n",
    "\n",
    "### Installation"
   ]
  },
  {
   "cell_type": "markdown",
   "id": "ace3cf1d-86e4-44d1-b958-4c42ed2dc9a2",
   "metadata": {},
   "source": [
    "<div class=\"alert alert-block alert-warning\">\n",
    "Replace <code>YOUR_GITHUB_TOKEN</code> in the install script. To get your token follow the instructions in the <a href=\"../README.md\">README.md</a>\n",
    "</div>"
   ]
  },
  {
   "cell_type": "code",
   "execution_count": 1,
   "id": "a4952853-9474-4643-82e7-5f2c193f6c56",
   "metadata": {},
   "outputs": [],
   "source": [
    "%pip install  'https://us-central1-data-359211.cloudfunctions.net/github-proxy/superlinked-2.24.0-py3-none-any.whl?token=YOUR_GITHUB_TOKEN'\n",
    "%pip install update jupyter ipywidgets"
   ]
  },
  {
   "cell_type": "markdown",
   "id": "52f0f53e-f2d6-49ce-9108-b42743c648d6",
   "metadata": {},
   "source": [
    "### Imports and constants"
   ]
  },
  {
   "cell_type": "code",
   "execution_count": 2,
   "id": "1346b1c0-50b3-48a3-97f9-860c919ca645",
   "metadata": {},
   "outputs": [
    {
     "data": {
      "text/plain": [
       "<superlinked.framework.dsl.query.param.Param at 0x1053b7d90>"
      ]
     },
     "execution_count": 2,
     "metadata": {},
     "output_type": "execute_result"
    }
   ],
   "source": [
    "from datetime import datetime, timedelta, timezone\n",
    "\n",
    "import altair as alt\n",
    "import pandas as pd\n",
    "\n",
    "from superlinked.evaluation.charts.recency_plotter import RecencyPlotter\n",
    "from superlinked.framework.common.dag.context import CONTEXT_COMMON, CONTEXT_COMMON_NOW\n",
    "from superlinked.framework.common.dag.period_time import PeriodTime\n",
    "from superlinked.framework.common.schema.schema import schema\n",
    "from superlinked.framework.common.schema.schema_object import String, Timestamp\n",
    "from superlinked.framework.common.schema.id_schema_object import IdField\n",
    "from superlinked.framework.common.parser.dataframe_parser import DataFrameParser\n",
    "from superlinked.framework.dsl.executor.in_memory.in_memory_executor import InMemoryExecutor, InMemoryApp\n",
    "from superlinked.framework.dsl.index.index import Index\n",
    "from superlinked.framework.dsl.query.param import Param\n",
    "from superlinked.framework.dsl.query.query import Query\n",
    "from superlinked.framework.dsl.query.result import Result\n",
    "from superlinked.framework.dsl.source.in_memory_source import InMemorySource\n",
    "from superlinked.framework.dsl.space.text_similarity_space import TextSimilaritySpace\n",
    "from superlinked.framework.dsl.space.recency_space import RecencySpace\n",
    "\n",
    "alt.renderers.enable(\"mimetype\")\n",
    "pd.set_option('display.max_colwidth', 200)\n",
    "Param(\"query_text\")"
   ]
  },
  {
   "cell_type": "code",
   "execution_count": 3,
   "id": "c9738e3d-7d4f-4fbe-9451-c56e11a65acf",
   "metadata": {},
   "outputs": [],
   "source": [
    "YEAR_IN_DAYS = 365\n",
    "TOP_N = 10\n",
    "DATASET_URL = \"https://storage.googleapis.com/superlinked-notebook-news-dataset/business_news.json\"\n",
    "# as the dataset contains articles from 2022 and before, we can set our application's \"NOW\" to this date\n",
    "END_OF_2022_TS = int(datetime(2022, 12, 31, 23, 59).timestamp())\n",
    "EXECUTOR_DATA = {CONTEXT_COMMON: {CONTEXT_COMMON_NOW: END_OF_2022_TS}}"
   ]
  },
  {
   "cell_type": "markdown",
   "id": "cec9eab8-2c61-40dc-b875-d0c062071221",
   "metadata": {},
   "source": [
    "## Prepare & explore dataset"
   ]
  },
  {
   "cell_type": "code",
   "execution_count": 4,
   "id": "b03bff12-fdf6-4500-b3c5-fb421a8990f5",
   "metadata": {},
   "outputs": [],
   "source": [
    "business_news = pd.read_json(DATASET_URL, convert_dates=True)"
   ]
  },
  {
   "cell_type": "code",
   "execution_count": 5,
   "id": "89d28b5c-c603-4817-b7f8-de80c435e2fb",
   "metadata": {},
   "outputs": [],
   "source": [
    "# we are going to need an id column\n",
    "business_news = business_news.reset_index().rename(columns={\"index\": \"id\"})\n",
    "# we need to handle the timestamp being set in milliseconds\n",
    "business_news[\"date\"] = [date.replace(tzinfo=timezone.utc).timestamp() for date in business_news.date]"
   ]
  },
  {
   "cell_type": "code",
   "execution_count": 6,
   "id": "f08f8086-85f1-4ea8-9446-07c5fdd68609",
   "metadata": {
    "scrolled": true
   },
   "outputs": [
    {
     "data": {
      "text/html": [
       "<div>\n",
       "<style scoped>\n",
       "    .dataframe tbody tr th:only-of-type {\n",
       "        vertical-align: middle;\n",
       "    }\n",
       "\n",
       "    .dataframe tbody tr th {\n",
       "        vertical-align: top;\n",
       "    }\n",
       "\n",
       "    .dataframe thead th {\n",
       "        text-align: right;\n",
       "    }\n",
       "</style>\n",
       "<table border=\"1\" class=\"dataframe\">\n",
       "  <thead>\n",
       "    <tr style=\"text-align: right;\">\n",
       "      <th></th>\n",
       "      <th>id</th>\n",
       "      <th>link</th>\n",
       "      <th>headline</th>\n",
       "      <th>category</th>\n",
       "      <th>short_description</th>\n",
       "      <th>authors</th>\n",
       "      <th>date</th>\n",
       "    </tr>\n",
       "  </thead>\n",
       "  <tbody>\n",
       "    <tr>\n",
       "      <th>0</th>\n",
       "      <td>162</td>\n",
       "      <td>https://www.huffpost.com/entry/rei-workers-berkeley-store-union_n_6307a5f4e4b0f72c09ded80d</td>\n",
       "      <td>REI Workers At Berkeley Store Vote To Unionize In Another Win For Labor</td>\n",
       "      <td>BUSINESS</td>\n",
       "      <td>They follow in the footsteps of REI workers in New York City who formed a union earlier this year.</td>\n",
       "      <td>Dave Jamieson</td>\n",
       "      <td>1.661386e+09</td>\n",
       "    </tr>\n",
       "    <tr>\n",
       "      <th>1</th>\n",
       "      <td>353</td>\n",
       "      <td>https://www.huffpost.com/entry/twitter-elon-musk-trial-october_n_62d7c115e4b000da23f9c7df</td>\n",
       "      <td>Twitter Lawyer Calls Elon Musk 'Committed Enemy' As Judge Sets October Trial</td>\n",
       "      <td>BUSINESS</td>\n",
       "      <td>Delaware Chancery Judge Kathaleen McCormick dealt the world's richest person a setback in ordering a speedy trial on his abandoned deal to buy Twitter.</td>\n",
       "      <td>Marita Vlachou</td>\n",
       "      <td>1.658275e+09</td>\n",
       "    </tr>\n",
       "    <tr>\n",
       "      <th>2</th>\n",
       "      <td>632</td>\n",
       "      <td>https://www.huffpost.com/entry/starbucks-leaves-russian-market-shuts-stores_n_628b9804e4b05cfc268f4413</td>\n",
       "      <td>Starbucks Leaving Russian Market, Shutting 130 Stores</td>\n",
       "      <td>BUSINESS</td>\n",
       "      <td>Starbucks' move follows McDonald's exit from the Russian market last week.</td>\n",
       "      <td>DEE-ANN DURBIN, AP</td>\n",
       "      <td>1.653264e+09</td>\n",
       "    </tr>\n",
       "    <tr>\n",
       "      <th>3</th>\n",
       "      <td>690</td>\n",
       "      <td>https://www.huffpost.com/entry/coinbase-crypto-slumping_n_627c5582e4b0b74b0e7ed621</td>\n",
       "      <td>Crypto Crash Leaves Trading Platform Coinbase Slumped</td>\n",
       "      <td>BUSINESS</td>\n",
       "      <td>Cryptocurrency trading platform Coinbase has lost half its value in the past week.</td>\n",
       "      <td>Matt Ott, AP</td>\n",
       "      <td>1.652314e+09</td>\n",
       "    </tr>\n",
       "    <tr>\n",
       "      <th>4</th>\n",
       "      <td>727</td>\n",
       "      <td>https://www.huffpost.com/entry/us-april-jobs-report-2022_n_627517dfe4b009a811c295ec</td>\n",
       "      <td>US Added 428,000 Jobs In April Despite Surging Inflation</td>\n",
       "      <td>BUSINESS</td>\n",
       "      <td>At 3.6%, unemployment nearly reached the lowest level in half a century.</td>\n",
       "      <td>Paul Wiseman, AP</td>\n",
       "      <td>1.651795e+09</td>\n",
       "    </tr>\n",
       "  </tbody>\n",
       "</table>\n",
       "</div>"
      ],
      "text/plain": [
       "    id  \\\n",
       "0  162   \n",
       "1  353   \n",
       "2  632   \n",
       "3  690   \n",
       "4  727   \n",
       "\n",
       "                                                                                                     link  \\\n",
       "0              https://www.huffpost.com/entry/rei-workers-berkeley-store-union_n_6307a5f4e4b0f72c09ded80d   \n",
       "1               https://www.huffpost.com/entry/twitter-elon-musk-trial-october_n_62d7c115e4b000da23f9c7df   \n",
       "2  https://www.huffpost.com/entry/starbucks-leaves-russian-market-shuts-stores_n_628b9804e4b05cfc268f4413   \n",
       "3                      https://www.huffpost.com/entry/coinbase-crypto-slumping_n_627c5582e4b0b74b0e7ed621   \n",
       "4                     https://www.huffpost.com/entry/us-april-jobs-report-2022_n_627517dfe4b009a811c295ec   \n",
       "\n",
       "                                                                       headline  \\\n",
       "0       REI Workers At Berkeley Store Vote To Unionize In Another Win For Labor   \n",
       "1  Twitter Lawyer Calls Elon Musk 'Committed Enemy' As Judge Sets October Trial   \n",
       "2                         Starbucks Leaving Russian Market, Shutting 130 Stores   \n",
       "3                         Crypto Crash Leaves Trading Platform Coinbase Slumped   \n",
       "4                      US Added 428,000 Jobs In April Despite Surging Inflation   \n",
       "\n",
       "   category  \\\n",
       "0  BUSINESS   \n",
       "1  BUSINESS   \n",
       "2  BUSINESS   \n",
       "3  BUSINESS   \n",
       "4  BUSINESS   \n",
       "\n",
       "                                                                                                                                         short_description  \\\n",
       "0                                                       They follow in the footsteps of REI workers in New York City who formed a union earlier this year.   \n",
       "1  Delaware Chancery Judge Kathaleen McCormick dealt the world's richest person a setback in ordering a speedy trial on his abandoned deal to buy Twitter.   \n",
       "2                                                                               Starbucks' move follows McDonald's exit from the Russian market last week.   \n",
       "3                                                                       Cryptocurrency trading platform Coinbase has lost half its value in the past week.   \n",
       "4                                                                                 At 3.6%, unemployment nearly reached the lowest level in half a century.   \n",
       "\n",
       "              authors          date  \n",
       "0       Dave Jamieson  1.661386e+09  \n",
       "1      Marita Vlachou  1.658275e+09  \n",
       "2  DEE-ANN DURBIN, AP  1.653264e+09  \n",
       "3        Matt Ott, AP  1.652314e+09  \n",
       "4    Paul Wiseman, AP  1.651795e+09  "
      ]
     },
     "execution_count": 6,
     "metadata": {},
     "output_type": "execute_result"
    }
   ],
   "source": [
    "# a sneak peak into the data\n",
    "business_news.head()"
   ]
  },
  {
   "cell_type": "markdown",
   "id": "228c1c1c-bb7b-4f08-8d08-d5dff9ff60db",
   "metadata": {},
   "source": [
    "### Understand release date distribution"
   ]
  },
  {
   "cell_type": "code",
   "execution_count": 7,
   "id": "e7f7a6fe-5ae2-4704-970b-feb8808ec60e",
   "metadata": {},
   "outputs": [
    {
     "data": {
      "application/vnd.vegalite.v5+json": {
       "$schema": "https://vega.github.io/schema/vega-lite/v5.16.3.json",
       "config": {
        "view": {
         "continuousHeight": 300,
         "continuousWidth": 300
        }
       },
       "data": {
        "name": "data-7ff8bf834f6971a25eaf592cb956ddfd"
       },
       "datasets": {
        "data-7ff8bf834f6971a25eaf592cb956ddfd": [
         {
          "year_of_publication": 2015
         },
         {
          "year_of_publication": 2015
         },
         {
          "year_of_publication": 2016
         },
         {
          "year_of_publication": 2014
         },
         {
          "year_of_publication": 2015
         },
         {
          "year_of_publication": 2015
         },
         {
          "year_of_publication": 2014
         },
         {
          "year_of_publication": 2014
         },
         {
          "year_of_publication": 2015
         },
         {
          "year_of_publication": 2014
         },
         {
          "year_of_publication": 2013
         },
         {
          "year_of_publication": 2014
         },
         {
          "year_of_publication": 2015
         },
         {
          "year_of_publication": 2014
         },
         {
          "year_of_publication": 2016
         },
         {
          "year_of_publication": 2017
         },
         {
          "year_of_publication": 2013
         },
         {
          "year_of_publication": 2014
         },
         {
          "year_of_publication": 2013
         },
         {
          "year_of_publication": 2015
         },
         {
          "year_of_publication": 2012
         },
         {
          "year_of_publication": 2015
         },
         {
          "year_of_publication": 2016
         },
         {
          "year_of_publication": 2015
         },
         {
          "year_of_publication": 2014
         },
         {
          "year_of_publication": 2014
         },
         {
          "year_of_publication": 2015
         },
         {
          "year_of_publication": 2014
         },
         {
          "year_of_publication": 2012
         },
         {
          "year_of_publication": 2016
         },
         {
          "year_of_publication": 2014
         },
         {
          "year_of_publication": 2014
         },
         {
          "year_of_publication": 2014
         },
         {
          "year_of_publication": 2016
         },
         {
          "year_of_publication": 2012
         },
         {
          "year_of_publication": 2013
         },
         {
          "year_of_publication": 2016
         },
         {
          "year_of_publication": 2013
         },
         {
          "year_of_publication": 2014
         },
         {
          "year_of_publication": 2014
         },
         {
          "year_of_publication": 2013
         },
         {
          "year_of_publication": 2013
         },
         {
          "year_of_publication": 2013
         },
         {
          "year_of_publication": 2014
         },
         {
          "year_of_publication": 2013
         },
         {
          "year_of_publication": 2014
         },
         {
          "year_of_publication": 2017
         },
         {
          "year_of_publication": 2013
         },
         {
          "year_of_publication": 2015
         },
         {
          "year_of_publication": 2012
         },
         {
          "year_of_publication": 2015
         },
         {
          "year_of_publication": 2015
         },
         {
          "year_of_publication": 2017
         },
         {
          "year_of_publication": 2015
         },
         {
          "year_of_publication": 2014
         },
         {
          "year_of_publication": 2015
         },
         {
          "year_of_publication": 2016
         },
         {
          "year_of_publication": 2012
         },
         {
          "year_of_publication": 2015
         },
         {
          "year_of_publication": 2012
         },
         {
          "year_of_publication": 2014
         },
         {
          "year_of_publication": 2013
         },
         {
          "year_of_publication": 2014
         },
         {
          "year_of_publication": 2015
         },
         {
          "year_of_publication": 2012
         },
         {
          "year_of_publication": 2012
         },
         {
          "year_of_publication": 2016
         },
         {
          "year_of_publication": 2015
         },
         {
          "year_of_publication": 2018
         },
         {
          "year_of_publication": 2017
         },
         {
          "year_of_publication": 2014
         },
         {
          "year_of_publication": 2015
         },
         {
          "year_of_publication": 2012
         },
         {
          "year_of_publication": 2017
         },
         {
          "year_of_publication": 2014
         },
         {
          "year_of_publication": 2014
         },
         {
          "year_of_publication": 2015
         },
         {
          "year_of_publication": 2014
         },
         {
          "year_of_publication": 2015
         },
         {
          "year_of_publication": 2012
         },
         {
          "year_of_publication": 2014
         },
         {
          "year_of_publication": 2014
         },
         {
          "year_of_publication": 2016
         },
         {
          "year_of_publication": 2014
         },
         {
          "year_of_publication": 2013
         },
         {
          "year_of_publication": 2015
         },
         {
          "year_of_publication": 2016
         },
         {
          "year_of_publication": 2014
         },
         {
          "year_of_publication": 2014
         },
         {
          "year_of_publication": 2015
         },
         {
          "year_of_publication": 2013
         },
         {
          "year_of_publication": 2016
         },
         {
          "year_of_publication": 2012
         },
         {
          "year_of_publication": 2014
         },
         {
          "year_of_publication": 2014
         },
         {
          "year_of_publication": 2015
         },
         {
          "year_of_publication": 2016
         },
         {
          "year_of_publication": 2015
         },
         {
          "year_of_publication": 2017
         },
         {
          "year_of_publication": 2014
         },
         {
          "year_of_publication": 2015
         },
         {
          "year_of_publication": 2014
         },
         {
          "year_of_publication": 2017
         },
         {
          "year_of_publication": 2012
         },
         {
          "year_of_publication": 2022
         },
         {
          "year_of_publication": 2014
         },
         {
          "year_of_publication": 2017
         },
         {
          "year_of_publication": 2012
         },
         {
          "year_of_publication": 2014
         },
         {
          "year_of_publication": 2014
         },
         {
          "year_of_publication": 2015
         },
         {
          "year_of_publication": 2015
         },
         {
          "year_of_publication": 2013
         },
         {
          "year_of_publication": 2015
         },
         {
          "year_of_publication": 2015
         },
         {
          "year_of_publication": 2013
         },
         {
          "year_of_publication": 2014
         },
         {
          "year_of_publication": 2012
         },
         {
          "year_of_publication": 2014
         },
         {
          "year_of_publication": 2013
         },
         {
          "year_of_publication": 2017
         },
         {
          "year_of_publication": 2013
         },
         {
          "year_of_publication": 2016
         },
         {
          "year_of_publication": 2012
         },
         {
          "year_of_publication": 2013
         },
         {
          "year_of_publication": 2015
         },
         {
          "year_of_publication": 2015
         },
         {
          "year_of_publication": 2014
         },
         {
          "year_of_publication": 2012
         },
         {
          "year_of_publication": 2012
         },
         {
          "year_of_publication": 2016
         },
         {
          "year_of_publication": 2015
         },
         {
          "year_of_publication": 2016
         },
         {
          "year_of_publication": 2015
         },
         {
          "year_of_publication": 2015
         },
         {
          "year_of_publication": 2014
         },
         {
          "year_of_publication": 2015
         },
         {
          "year_of_publication": 2013
         },
         {
          "year_of_publication": 2014
         },
         {
          "year_of_publication": 2013
         },
         {
          "year_of_publication": 2015
         },
         {
          "year_of_publication": 2017
         },
         {
          "year_of_publication": 2014
         },
         {
          "year_of_publication": 2014
         },
         {
          "year_of_publication": 2014
         },
         {
          "year_of_publication": 2012
         },
         {
          "year_of_publication": 2014
         },
         {
          "year_of_publication": 2015
         },
         {
          "year_of_publication": 2015
         },
         {
          "year_of_publication": 2015
         },
         {
          "year_of_publication": 2014
         },
         {
          "year_of_publication": 2012
         },
         {
          "year_of_publication": 2017
         },
         {
          "year_of_publication": 2014
         },
         {
          "year_of_publication": 2017
         },
         {
          "year_of_publication": 2014
         },
         {
          "year_of_publication": 2014
         },
         {
          "year_of_publication": 2015
         },
         {
          "year_of_publication": 2013
         },
         {
          "year_of_publication": 2015
         },
         {
          "year_of_publication": 2014
         },
         {
          "year_of_publication": 2014
         },
         {
          "year_of_publication": 2015
         },
         {
          "year_of_publication": 2016
         },
         {
          "year_of_publication": 2016
         },
         {
          "year_of_publication": 2017
         },
         {
          "year_of_publication": 2015
         },
         {
          "year_of_publication": 2015
         },
         {
          "year_of_publication": 2012
         },
         {
          "year_of_publication": 2013
         },
         {
          "year_of_publication": 2017
         },
         {
          "year_of_publication": 2016
         },
         {
          "year_of_publication": 2015
         },
         {
          "year_of_publication": 2012
         },
         {
          "year_of_publication": 2014
         },
         {
          "year_of_publication": 2018
         },
         {
          "year_of_publication": 2014
         },
         {
          "year_of_publication": 2012
         },
         {
          "year_of_publication": 2014
         },
         {
          "year_of_publication": 2021
         },
         {
          "year_of_publication": 2015
         },
         {
          "year_of_publication": 2013
         },
         {
          "year_of_publication": 2015
         },
         {
          "year_of_publication": 2017
         },
         {
          "year_of_publication": 2013
         },
         {
          "year_of_publication": 2015
         },
         {
          "year_of_publication": 2014
         },
         {
          "year_of_publication": 2016
         },
         {
          "year_of_publication": 2018
         },
         {
          "year_of_publication": 2015
         },
         {
          "year_of_publication": 2017
         },
         {
          "year_of_publication": 2012
         },
         {
          "year_of_publication": 2013
         },
         {
          "year_of_publication": 2012
         },
         {
          "year_of_publication": 2013
         },
         {
          "year_of_publication": 2014
         },
         {
          "year_of_publication": 2016
         },
         {
          "year_of_publication": 2014
         },
         {
          "year_of_publication": 2015
         },
         {
          "year_of_publication": 2014
         },
         {
          "year_of_publication": 2016
         },
         {
          "year_of_publication": 2013
         },
         {
          "year_of_publication": 2016
         },
         {
          "year_of_publication": 2014
         },
         {
          "year_of_publication": 2014
         },
         {
          "year_of_publication": 2014
         },
         {
          "year_of_publication": 2013
         },
         {
          "year_of_publication": 2016
         },
         {
          "year_of_publication": 2016
         },
         {
          "year_of_publication": 2016
         },
         {
          "year_of_publication": 2013
         },
         {
          "year_of_publication": 2014
         },
         {
          "year_of_publication": 2014
         },
         {
          "year_of_publication": 2015
         },
         {
          "year_of_publication": 2015
         },
         {
          "year_of_publication": 2014
         },
         {
          "year_of_publication": 2015
         },
         {
          "year_of_publication": 2015
         },
         {
          "year_of_publication": 2014
         },
         {
          "year_of_publication": 2013
         },
         {
          "year_of_publication": 2015
         },
         {
          "year_of_publication": 2014
         },
         {
          "year_of_publication": 2012
         },
         {
          "year_of_publication": 2012
         },
         {
          "year_of_publication": 2014
         },
         {
          "year_of_publication": 2018
         },
         {
          "year_of_publication": 2015
         },
         {
          "year_of_publication": 2014
         },
         {
          "year_of_publication": 2013
         },
         {
          "year_of_publication": 2013
         },
         {
          "year_of_publication": 2013
         },
         {
          "year_of_publication": 2014
         },
         {
          "year_of_publication": 2014
         },
         {
          "year_of_publication": 2014
         },
         {
          "year_of_publication": 2014
         },
         {
          "year_of_publication": 2014
         },
         {
          "year_of_publication": 2012
         },
         {
          "year_of_publication": 2013
         },
         {
          "year_of_publication": 2015
         },
         {
          "year_of_publication": 2013
         },
         {
          "year_of_publication": 2012
         },
         {
          "year_of_publication": 2013
         },
         {
          "year_of_publication": 2013
         },
         {
          "year_of_publication": 2015
         },
         {
          "year_of_publication": 2018
         },
         {
          "year_of_publication": 2015
         },
         {
          "year_of_publication": 2016
         },
         {
          "year_of_publication": 2015
         },
         {
          "year_of_publication": 2013
         },
         {
          "year_of_publication": 2016
         },
         {
          "year_of_publication": 2014
         },
         {
          "year_of_publication": 2017
         },
         {
          "year_of_publication": 2014
         },
         {
          "year_of_publication": 2013
         },
         {
          "year_of_publication": 2013
         },
         {
          "year_of_publication": 2013
         },
         {
          "year_of_publication": 2013
         },
         {
          "year_of_publication": 2016
         },
         {
          "year_of_publication": 2015
         },
         {
          "year_of_publication": 2012
         },
         {
          "year_of_publication": 2014
         },
         {
          "year_of_publication": 2013
         },
         {
          "year_of_publication": 2014
         },
         {
          "year_of_publication": 2014
         },
         {
          "year_of_publication": 2012
         },
         {
          "year_of_publication": 2012
         },
         {
          "year_of_publication": 2012
         },
         {
          "year_of_publication": 2016
         },
         {
          "year_of_publication": 2016
         },
         {
          "year_of_publication": 2013
         },
         {
          "year_of_publication": 2016
         },
         {
          "year_of_publication": 2016
         },
         {
          "year_of_publication": 2016
         },
         {
          "year_of_publication": 2014
         },
         {
          "year_of_publication": 2014
         },
         {
          "year_of_publication": 2013
         },
         {
          "year_of_publication": 2012
         },
         {
          "year_of_publication": 2015
         },
         {
          "year_of_publication": 2015
         },
         {
          "year_of_publication": 2012
         },
         {
          "year_of_publication": 2014
         },
         {
          "year_of_publication": 2015
         },
         {
          "year_of_publication": 2015
         },
         {
          "year_of_publication": 2015
         },
         {
          "year_of_publication": 2016
         },
         {
          "year_of_publication": 2012
         },
         {
          "year_of_publication": 2012
         },
         {
          "year_of_publication": 2017
         },
         {
          "year_of_publication": 2015
         },
         {
          "year_of_publication": 2014
         },
         {
          "year_of_publication": 2017
         },
         {
          "year_of_publication": 2016
         },
         {
          "year_of_publication": 2020
         },
         {
          "year_of_publication": 2016
         },
         {
          "year_of_publication": 2016
         },
         {
          "year_of_publication": 2015
         },
         {
          "year_of_publication": 2013
         },
         {
          "year_of_publication": 2015
         },
         {
          "year_of_publication": 2017
         },
         {
          "year_of_publication": 2015
         },
         {
          "year_of_publication": 2015
         },
         {
          "year_of_publication": 2012
         },
         {
          "year_of_publication": 2012
         },
         {
          "year_of_publication": 2015
         },
         {
          "year_of_publication": 2012
         },
         {
          "year_of_publication": 2017
         },
         {
          "year_of_publication": 2016
         },
         {
          "year_of_publication": 2015
         },
         {
          "year_of_publication": 2014
         },
         {
          "year_of_publication": 2016
         },
         {
          "year_of_publication": 2016
         },
         {
          "year_of_publication": 2015
         },
         {
          "year_of_publication": 2016
         },
         {
          "year_of_publication": 2015
         },
         {
          "year_of_publication": 2014
         },
         {
          "year_of_publication": 2014
         },
         {
          "year_of_publication": 2016
         },
         {
          "year_of_publication": 2014
         },
         {
          "year_of_publication": 2015
         },
         {
          "year_of_publication": 2012
         },
         {
          "year_of_publication": 2015
         },
         {
          "year_of_publication": 2015
         },
         {
          "year_of_publication": 2015
         },
         {
          "year_of_publication": 2014
         },
         {
          "year_of_publication": 2017
         },
         {
          "year_of_publication": 2014
         },
         {
          "year_of_publication": 2016
         },
         {
          "year_of_publication": 2015
         },
         {
          "year_of_publication": 2013
         },
         {
          "year_of_publication": 2013
         },
         {
          "year_of_publication": 2017
         },
         {
          "year_of_publication": 2014
         },
         {
          "year_of_publication": 2013
         },
         {
          "year_of_publication": 2015
         },
         {
          "year_of_publication": 2015
         },
         {
          "year_of_publication": 2013
         },
         {
          "year_of_publication": 2012
         },
         {
          "year_of_publication": 2014
         },
         {
          "year_of_publication": 2015
         },
         {
          "year_of_publication": 2016
         },
         {
          "year_of_publication": 2012
         },
         {
          "year_of_publication": 2016
         },
         {
          "year_of_publication": 2014
         },
         {
          "year_of_publication": 2015
         },
         {
          "year_of_publication": 2013
         },
         {
          "year_of_publication": 2014
         },
         {
          "year_of_publication": 2017
         },
         {
          "year_of_publication": 2017
         },
         {
          "year_of_publication": 2017
         },
         {
          "year_of_publication": 2012
         },
         {
          "year_of_publication": 2016
         },
         {
          "year_of_publication": 2015
         },
         {
          "year_of_publication": 2014
         },
         {
          "year_of_publication": 2014
         },
         {
          "year_of_publication": 2015
         },
         {
          "year_of_publication": 2013
         },
         {
          "year_of_publication": 2012
         },
         {
          "year_of_publication": 2015
         },
         {
          "year_of_publication": 2015
         },
         {
          "year_of_publication": 2015
         },
         {
          "year_of_publication": 2016
         },
         {
          "year_of_publication": 2015
         },
         {
          "year_of_publication": 2012
         },
         {
          "year_of_publication": 2016
         },
         {
          "year_of_publication": 2019
         },
         {
          "year_of_publication": 2014
         },
         {
          "year_of_publication": 2013
         },
         {
          "year_of_publication": 2012
         },
         {
          "year_of_publication": 2016
         },
         {
          "year_of_publication": 2017
         },
         {
          "year_of_publication": 2016
         },
         {
          "year_of_publication": 2014
         },
         {
          "year_of_publication": 2016
         },
         {
          "year_of_publication": 2013
         },
         {
          "year_of_publication": 2016
         },
         {
          "year_of_publication": 2017
         },
         {
          "year_of_publication": 2016
         },
         {
          "year_of_publication": 2018
         },
         {
          "year_of_publication": 2014
         },
         {
          "year_of_publication": 2015
         },
         {
          "year_of_publication": 2015
         },
         {
          "year_of_publication": 2013
         },
         {
          "year_of_publication": 2015
         },
         {
          "year_of_publication": 2015
         },
         {
          "year_of_publication": 2013
         },
         {
          "year_of_publication": 2017
         },
         {
          "year_of_publication": 2016
         },
         {
          "year_of_publication": 2015
         },
         {
          "year_of_publication": 2016
         },
         {
          "year_of_publication": 2013
         },
         {
          "year_of_publication": 2013
         },
         {
          "year_of_publication": 2015
         },
         {
          "year_of_publication": 2014
         },
         {
          "year_of_publication": 2013
         },
         {
          "year_of_publication": 2014
         },
         {
          "year_of_publication": 2015
         },
         {
          "year_of_publication": 2013
         },
         {
          "year_of_publication": 2014
         },
         {
          "year_of_publication": 2013
         },
         {
          "year_of_publication": 2015
         },
         {
          "year_of_publication": 2015
         },
         {
          "year_of_publication": 2016
         },
         {
          "year_of_publication": 2016
         },
         {
          "year_of_publication": 2015
         },
         {
          "year_of_publication": 2016
         },
         {
          "year_of_publication": 2017
         },
         {
          "year_of_publication": 2014
         },
         {
          "year_of_publication": 2012
         },
         {
          "year_of_publication": 2015
         },
         {
          "year_of_publication": 2013
         },
         {
          "year_of_publication": 2012
         },
         {
          "year_of_publication": 2013
         },
         {
          "year_of_publication": 2014
         },
         {
          "year_of_publication": 2017
         },
         {
          "year_of_publication": 2013
         },
         {
          "year_of_publication": 2014
         },
         {
          "year_of_publication": 2013
         },
         {
          "year_of_publication": 2015
         },
         {
          "year_of_publication": 2015
         },
         {
          "year_of_publication": 2013
         },
         {
          "year_of_publication": 2012
         },
         {
          "year_of_publication": 2012
         },
         {
          "year_of_publication": 2015
         },
         {
          "year_of_publication": 2012
         },
         {
          "year_of_publication": 2014
         },
         {
          "year_of_publication": 2013
         },
         {
          "year_of_publication": 2015
         },
         {
          "year_of_publication": 2015
         },
         {
          "year_of_publication": 2013
         },
         {
          "year_of_publication": 2017
         },
         {
          "year_of_publication": 2015
         },
         {
          "year_of_publication": 2012
         },
         {
          "year_of_publication": 2012
         },
         {
          "year_of_publication": 2016
         },
         {
          "year_of_publication": 2016
         },
         {
          "year_of_publication": 2016
         },
         {
          "year_of_publication": 2015
         },
         {
          "year_of_publication": 2015
         },
         {
          "year_of_publication": 2012
         },
         {
          "year_of_publication": 2016
         },
         {
          "year_of_publication": 2013
         },
         {
          "year_of_publication": 2014
         },
         {
          "year_of_publication": 2015
         },
         {
          "year_of_publication": 2016
         },
         {
          "year_of_publication": 2016
         },
         {
          "year_of_publication": 2014
         },
         {
          "year_of_publication": 2015
         },
         {
          "year_of_publication": 2016
         },
         {
          "year_of_publication": 2013
         },
         {
          "year_of_publication": 2015
         },
         {
          "year_of_publication": 2016
         },
         {
          "year_of_publication": 2014
         },
         {
          "year_of_publication": 2014
         },
         {
          "year_of_publication": 2015
         },
         {
          "year_of_publication": 2015
         },
         {
          "year_of_publication": 2016
         },
         {
          "year_of_publication": 2015
         },
         {
          "year_of_publication": 2015
         },
         {
          "year_of_publication": 2013
         },
         {
          "year_of_publication": 2016
         },
         {
          "year_of_publication": 2013
         },
         {
          "year_of_publication": 2013
         },
         {
          "year_of_publication": 2013
         },
         {
          "year_of_publication": 2013
         },
         {
          "year_of_publication": 2015
         },
         {
          "year_of_publication": 2016
         },
         {
          "year_of_publication": 2016
         },
         {
          "year_of_publication": 2016
         },
         {
          "year_of_publication": 2014
         },
         {
          "year_of_publication": 2014
         },
         {
          "year_of_publication": 2013
         },
         {
          "year_of_publication": 2015
         },
         {
          "year_of_publication": 2014
         },
         {
          "year_of_publication": 2015
         },
         {
          "year_of_publication": 2012
         },
         {
          "year_of_publication": 2014
         },
         {
          "year_of_publication": 2016
         },
         {
          "year_of_publication": 2016
         },
         {
          "year_of_publication": 2016
         },
         {
          "year_of_publication": 2012
         },
         {
          "year_of_publication": 2017
         },
         {
          "year_of_publication": 2015
         },
         {
          "year_of_publication": 2015
         },
         {
          "year_of_publication": 2013
         },
         {
          "year_of_publication": 2016
         },
         {
          "year_of_publication": 2015
         },
         {
          "year_of_publication": 2016
         },
         {
          "year_of_publication": 2013
         },
         {
          "year_of_publication": 2016
         },
         {
          "year_of_publication": 2013
         },
         {
          "year_of_publication": 2017
         },
         {
          "year_of_publication": 2014
         },
         {
          "year_of_publication": 2015
         },
         {
          "year_of_publication": 2015
         },
         {
          "year_of_publication": 2012
         },
         {
          "year_of_publication": 2014
         },
         {
          "year_of_publication": 2012
         },
         {
          "year_of_publication": 2012
         },
         {
          "year_of_publication": 2016
         },
         {
          "year_of_publication": 2016
         },
         {
          "year_of_publication": 2012
         },
         {
          "year_of_publication": 2015
         },
         {
          "year_of_publication": 2014
         },
         {
          "year_of_publication": 2015
         },
         {
          "year_of_publication": 2015
         },
         {
          "year_of_publication": 2016
         },
         {
          "year_of_publication": 2015
         },
         {
          "year_of_publication": 2013
         },
         {
          "year_of_publication": 2012
         },
         {
          "year_of_publication": 2014
         },
         {
          "year_of_publication": 2015
         },
         {
          "year_of_publication": 2012
         },
         {
          "year_of_publication": 2013
         },
         {
          "year_of_publication": 2015
         },
         {
          "year_of_publication": 2015
         },
         {
          "year_of_publication": 2017
         },
         {
          "year_of_publication": 2014
         },
         {
          "year_of_publication": 2015
         },
         {
          "year_of_publication": 2012
         },
         {
          "year_of_publication": 2016
         },
         {
          "year_of_publication": 2015
         },
         {
          "year_of_publication": 2016
         },
         {
          "year_of_publication": 2014
         },
         {
          "year_of_publication": 2013
         },
         {
          "year_of_publication": 2015
         },
         {
          "year_of_publication": 2016
         },
         {
          "year_of_publication": 2014
         },
         {
          "year_of_publication": 2016
         },
         {
          "year_of_publication": 2013
         },
         {
          "year_of_publication": 2015
         },
         {
          "year_of_publication": 2013
         },
         {
          "year_of_publication": 2015
         },
         {
          "year_of_publication": 2016
         },
         {
          "year_of_publication": 2012
         },
         {
          "year_of_publication": 2015
         },
         {
          "year_of_publication": 2014
         },
         {
          "year_of_publication": 2015
         },
         {
          "year_of_publication": 2014
         },
         {
          "year_of_publication": 2014
         },
         {
          "year_of_publication": 2014
         },
         {
          "year_of_publication": 2012
         },
         {
          "year_of_publication": 2014
         },
         {
          "year_of_publication": 2012
         },
         {
          "year_of_publication": 2015
         },
         {
          "year_of_publication": 2016
         },
         {
          "year_of_publication": 2016
         },
         {
          "year_of_publication": 2012
         },
         {
          "year_of_publication": 2015
         },
         {
          "year_of_publication": 2015
         },
         {
          "year_of_publication": 2016
         },
         {
          "year_of_publication": 2014
         },
         {
          "year_of_publication": 2012
         },
         {
          "year_of_publication": 2016
         },
         {
          "year_of_publication": 2012
         },
         {
          "year_of_publication": 2016
         },
         {
          "year_of_publication": 2013
         },
         {
          "year_of_publication": 2013
         },
         {
          "year_of_publication": 2016
         },
         {
          "year_of_publication": 2016
         },
         {
          "year_of_publication": 2015
         },
         {
          "year_of_publication": 2014
         },
         {
          "year_of_publication": 2012
         },
         {
          "year_of_publication": 2015
         },
         {
          "year_of_publication": 2016
         },
         {
          "year_of_publication": 2015
         },
         {
          "year_of_publication": 2015
         },
         {
          "year_of_publication": 2013
         },
         {
          "year_of_publication": 2015
         },
         {
          "year_of_publication": 2015
         },
         {
          "year_of_publication": 2016
         },
         {
          "year_of_publication": 2016
         },
         {
          "year_of_publication": 2017
         },
         {
          "year_of_publication": 2013
         },
         {
          "year_of_publication": 2015
         },
         {
          "year_of_publication": 2012
         },
         {
          "year_of_publication": 2016
         },
         {
          "year_of_publication": 2013
         },
         {
          "year_of_publication": 2013
         },
         {
          "year_of_publication": 2015
         },
         {
          "year_of_publication": 2012
         },
         {
          "year_of_publication": 2014
         },
         {
          "year_of_publication": 2012
         },
         {
          "year_of_publication": 2013
         },
         {
          "year_of_publication": 2016
         },
         {
          "year_of_publication": 2016
         },
         {
          "year_of_publication": 2015
         },
         {
          "year_of_publication": 2014
         },
         {
          "year_of_publication": 2013
         },
         {
          "year_of_publication": 2013
         },
         {
          "year_of_publication": 2012
         },
         {
          "year_of_publication": 2016
         },
         {
          "year_of_publication": 2015
         },
         {
          "year_of_publication": 2015
         },
         {
          "year_of_publication": 2017
         },
         {
          "year_of_publication": 2013
         },
         {
          "year_of_publication": 2017
         },
         {
          "year_of_publication": 2021
         },
         {
          "year_of_publication": 2013
         },
         {
          "year_of_publication": 2015
         },
         {
          "year_of_publication": 2013
         },
         {
          "year_of_publication": 2014
         },
         {
          "year_of_publication": 2012
         },
         {
          "year_of_publication": 2012
         },
         {
          "year_of_publication": 2016
         },
         {
          "year_of_publication": 2013
         },
         {
          "year_of_publication": 2015
         },
         {
          "year_of_publication": 2014
         },
         {
          "year_of_publication": 2012
         },
         {
          "year_of_publication": 2017
         },
         {
          "year_of_publication": 2015
         },
         {
          "year_of_publication": 2017
         },
         {
          "year_of_publication": 2014
         },
         {
          "year_of_publication": 2016
         },
         {
          "year_of_publication": 2015
         },
         {
          "year_of_publication": 2012
         },
         {
          "year_of_publication": 2015
         },
         {
          "year_of_publication": 2014
         },
         {
          "year_of_publication": 2014
         },
         {
          "year_of_publication": 2013
         },
         {
          "year_of_publication": 2014
         },
         {
          "year_of_publication": 2015
         },
         {
          "year_of_publication": 2015
         },
         {
          "year_of_publication": 2015
         },
         {
          "year_of_publication": 2015
         },
         {
          "year_of_publication": 2013
         },
         {
          "year_of_publication": 2014
         },
         {
          "year_of_publication": 2017
         },
         {
          "year_of_publication": 2012
         },
         {
          "year_of_publication": 2014
         },
         {
          "year_of_publication": 2018
         },
         {
          "year_of_publication": 2016
         },
         {
          "year_of_publication": 2014
         },
         {
          "year_of_publication": 2015
         },
         {
          "year_of_publication": 2016
         },
         {
          "year_of_publication": 2015
         },
         {
          "year_of_publication": 2017
         },
         {
          "year_of_publication": 2012
         },
         {
          "year_of_publication": 2012
         },
         {
          "year_of_publication": 2014
         },
         {
          "year_of_publication": 2012
         },
         {
          "year_of_publication": 2012
         },
         {
          "year_of_publication": 2013
         },
         {
          "year_of_publication": 2014
         },
         {
          "year_of_publication": 2016
         },
         {
          "year_of_publication": 2014
         },
         {
          "year_of_publication": 2014
         },
         {
          "year_of_publication": 2012
         },
         {
          "year_of_publication": 2014
         },
         {
          "year_of_publication": 2014
         },
         {
          "year_of_publication": 2016
         },
         {
          "year_of_publication": 2014
         },
         {
          "year_of_publication": 2015
         },
         {
          "year_of_publication": 2015
         },
         {
          "year_of_publication": 2015
         },
         {
          "year_of_publication": 2015
         },
         {
          "year_of_publication": 2015
         },
         {
          "year_of_publication": 2014
         },
         {
          "year_of_publication": 2014
         },
         {
          "year_of_publication": 2013
         },
         {
          "year_of_publication": 2013
         },
         {
          "year_of_publication": 2014
         },
         {
          "year_of_publication": 2015
         },
         {
          "year_of_publication": 2014
         },
         {
          "year_of_publication": 2012
         },
         {
          "year_of_publication": 2014
         },
         {
          "year_of_publication": 2014
         },
         {
          "year_of_publication": 2014
         },
         {
          "year_of_publication": 2014
         },
         {
          "year_of_publication": 2014
         },
         {
          "year_of_publication": 2015
         },
         {
          "year_of_publication": 2016
         },
         {
          "year_of_publication": 2012
         },
         {
          "year_of_publication": 2016
         },
         {
          "year_of_publication": 2014
         },
         {
          "year_of_publication": 2015
         },
         {
          "year_of_publication": 2014
         },
         {
          "year_of_publication": 2015
         },
         {
          "year_of_publication": 2015
         },
         {
          "year_of_publication": 2015
         },
         {
          "year_of_publication": 2017
         },
         {
          "year_of_publication": 2015
         },
         {
          "year_of_publication": 2013
         },
         {
          "year_of_publication": 2021
         },
         {
          "year_of_publication": 2015
         },
         {
          "year_of_publication": 2014
         },
         {
          "year_of_publication": 2012
         },
         {
          "year_of_publication": 2016
         },
         {
          "year_of_publication": 2014
         },
         {
          "year_of_publication": 2013
         },
         {
          "year_of_publication": 2014
         },
         {
          "year_of_publication": 2016
         },
         {
          "year_of_publication": 2015
         },
         {
          "year_of_publication": 2014
         },
         {
          "year_of_publication": 2015
         },
         {
          "year_of_publication": 2013
         },
         {
          "year_of_publication": 2015
         },
         {
          "year_of_publication": 2014
         },
         {
          "year_of_publication": 2015
         },
         {
          "year_of_publication": 2013
         },
         {
          "year_of_publication": 2016
         },
         {
          "year_of_publication": 2015
         },
         {
          "year_of_publication": 2014
         },
         {
          "year_of_publication": 2016
         },
         {
          "year_of_publication": 2015
         },
         {
          "year_of_publication": 2014
         },
         {
          "year_of_publication": 2013
         },
         {
          "year_of_publication": 2016
         },
         {
          "year_of_publication": 2016
         },
         {
          "year_of_publication": 2012
         },
         {
          "year_of_publication": 2014
         },
         {
          "year_of_publication": 2015
         },
         {
          "year_of_publication": 2014
         },
         {
          "year_of_publication": 2013
         },
         {
          "year_of_publication": 2013
         },
         {
          "year_of_publication": 2014
         },
         {
          "year_of_publication": 2012
         },
         {
          "year_of_publication": 2017
         },
         {
          "year_of_publication": 2013
         },
         {
          "year_of_publication": 2015
         },
         {
          "year_of_publication": 2014
         },
         {
          "year_of_publication": 2016
         },
         {
          "year_of_publication": 2017
         },
         {
          "year_of_publication": 2012
         },
         {
          "year_of_publication": 2014
         },
         {
          "year_of_publication": 2015
         },
         {
          "year_of_publication": 2014
         },
         {
          "year_of_publication": 2017
         },
         {
          "year_of_publication": 2016
         },
         {
          "year_of_publication": 2015
         },
         {
          "year_of_publication": 2014
         },
         {
          "year_of_publication": 2014
         },
         {
          "year_of_publication": 2014
         },
         {
          "year_of_publication": 2014
         },
         {
          "year_of_publication": 2014
         },
         {
          "year_of_publication": 2015
         },
         {
          "year_of_publication": 2013
         },
         {
          "year_of_publication": 2012
         },
         {
          "year_of_publication": 2013
         },
         {
          "year_of_publication": 2016
         },
         {
          "year_of_publication": 2015
         },
         {
          "year_of_publication": 2016
         },
         {
          "year_of_publication": 2012
         },
         {
          "year_of_publication": 2014
         },
         {
          "year_of_publication": 2015
         },
         {
          "year_of_publication": 2016
         },
         {
          "year_of_publication": 2014
         },
         {
          "year_of_publication": 2014
         },
         {
          "year_of_publication": 2016
         },
         {
          "year_of_publication": 2015
         },
         {
          "year_of_publication": 2013
         },
         {
          "year_of_publication": 2014
         },
         {
          "year_of_publication": 2014
         },
         {
          "year_of_publication": 2015
         },
         {
          "year_of_publication": 2015
         },
         {
          "year_of_publication": 2014
         },
         {
          "year_of_publication": 2015
         },
         {
          "year_of_publication": 2017
         },
         {
          "year_of_publication": 2015
         },
         {
          "year_of_publication": 2012
         },
         {
          "year_of_publication": 2016
         },
         {
          "year_of_publication": 2016
         },
         {
          "year_of_publication": 2013
         },
         {
          "year_of_publication": 2012
         },
         {
          "year_of_publication": 2017
         },
         {
          "year_of_publication": 2014
         },
         {
          "year_of_publication": 2016
         },
         {
          "year_of_publication": 2013
         },
         {
          "year_of_publication": 2013
         },
         {
          "year_of_publication": 2013
         },
         {
          "year_of_publication": 2016
         },
         {
          "year_of_publication": 2015
         },
         {
          "year_of_publication": 2014
         },
         {
          "year_of_publication": 2016
         },
         {
          "year_of_publication": 2014
         },
         {
          "year_of_publication": 2012
         },
         {
          "year_of_publication": 2013
         },
         {
          "year_of_publication": 2015
         },
         {
          "year_of_publication": 2013
         },
         {
          "year_of_publication": 2014
         },
         {
          "year_of_publication": 2015
         },
         {
          "year_of_publication": 2013
         },
         {
          "year_of_publication": 2014
         },
         {
          "year_of_publication": 2016
         },
         {
          "year_of_publication": 2015
         },
         {
          "year_of_publication": 2014
         },
         {
          "year_of_publication": 2014
         },
         {
          "year_of_publication": 2016
         },
         {
          "year_of_publication": 2014
         },
         {
          "year_of_publication": 2012
         },
         {
          "year_of_publication": 2015
         },
         {
          "year_of_publication": 2015
         },
         {
          "year_of_publication": 2016
         },
         {
          "year_of_publication": 2017
         },
         {
          "year_of_publication": 2015
         },
         {
          "year_of_publication": 2015
         },
         {
          "year_of_publication": 2013
         },
         {
          "year_of_publication": 2014
         },
         {
          "year_of_publication": 2014
         },
         {
          "year_of_publication": 2015
         },
         {
          "year_of_publication": 2014
         },
         {
          "year_of_publication": 2012
         },
         {
          "year_of_publication": 2016
         },
         {
          "year_of_publication": 2012
         },
         {
          "year_of_publication": 2017
         },
         {
          "year_of_publication": 2015
         },
         {
          "year_of_publication": 2016
         },
         {
          "year_of_publication": 2015
         },
         {
          "year_of_publication": 2015
         },
         {
          "year_of_publication": 2012
         },
         {
          "year_of_publication": 2016
         },
         {
          "year_of_publication": 2016
         },
         {
          "year_of_publication": 2015
         },
         {
          "year_of_publication": 2021
         },
         {
          "year_of_publication": 2016
         },
         {
          "year_of_publication": 2013
         },
         {
          "year_of_publication": 2015
         },
         {
          "year_of_publication": 2015
         },
         {
          "year_of_publication": 2014
         },
         {
          "year_of_publication": 2015
         },
         {
          "year_of_publication": 2013
         },
         {
          "year_of_publication": 2012
         },
         {
          "year_of_publication": 2015
         },
         {
          "year_of_publication": 2013
         },
         {
          "year_of_publication": 2013
         },
         {
          "year_of_publication": 2014
         },
         {
          "year_of_publication": 2014
         },
         {
          "year_of_publication": 2017
         },
         {
          "year_of_publication": 2016
         },
         {
          "year_of_publication": 2014
         },
         {
          "year_of_publication": 2012
         },
         {
          "year_of_publication": 2013
         },
         {
          "year_of_publication": 2012
         },
         {
          "year_of_publication": 2015
         },
         {
          "year_of_publication": 2016
         },
         {
          "year_of_publication": 2016
         },
         {
          "year_of_publication": 2015
         },
         {
          "year_of_publication": 2013
         },
         {
          "year_of_publication": 2015
         },
         {
          "year_of_publication": 2016
         },
         {
          "year_of_publication": 2014
         },
         {
          "year_of_publication": 2014
         },
         {
          "year_of_publication": 2020
         },
         {
          "year_of_publication": 2016
         },
         {
          "year_of_publication": 2017
         },
         {
          "year_of_publication": 2014
         },
         {
          "year_of_publication": 2012
         },
         {
          "year_of_publication": 2013
         },
         {
          "year_of_publication": 2014
         },
         {
          "year_of_publication": 2014
         },
         {
          "year_of_publication": 2016
         },
         {
          "year_of_publication": 2016
         },
         {
          "year_of_publication": 2016
         },
         {
          "year_of_publication": 2016
         },
         {
          "year_of_publication": 2017
         },
         {
          "year_of_publication": 2016
         },
         {
          "year_of_publication": 2015
         },
         {
          "year_of_publication": 2015
         },
         {
          "year_of_publication": 2015
         },
         {
          "year_of_publication": 2013
         },
         {
          "year_of_publication": 2015
         },
         {
          "year_of_publication": 2017
         },
         {
          "year_of_publication": 2015
         },
         {
          "year_of_publication": 2015
         },
         {
          "year_of_publication": 2015
         },
         {
          "year_of_publication": 2016
         },
         {
          "year_of_publication": 2013
         },
         {
          "year_of_publication": 2014
         },
         {
          "year_of_publication": 2016
         },
         {
          "year_of_publication": 2015
         },
         {
          "year_of_publication": 2016
         },
         {
          "year_of_publication": 2015
         },
         {
          "year_of_publication": 2012
         },
         {
          "year_of_publication": 2013
         },
         {
          "year_of_publication": 2017
         },
         {
          "year_of_publication": 2012
         },
         {
          "year_of_publication": 2014
         },
         {
          "year_of_publication": 2013
         },
         {
          "year_of_publication": 2016
         },
         {
          "year_of_publication": 2015
         },
         {
          "year_of_publication": 2014
         },
         {
          "year_of_publication": 2012
         },
         {
          "year_of_publication": 2016
         },
         {
          "year_of_publication": 2012
         },
         {
          "year_of_publication": 2013
         },
         {
          "year_of_publication": 2017
         },
         {
          "year_of_publication": 2014
         },
         {
          "year_of_publication": 2014
         },
         {
          "year_of_publication": 2016
         },
         {
          "year_of_publication": 2012
         },
         {
          "year_of_publication": 2015
         },
         {
          "year_of_publication": 2016
         },
         {
          "year_of_publication": 2016
         },
         {
          "year_of_publication": 2014
         },
         {
          "year_of_publication": 2014
         },
         {
          "year_of_publication": 2020
         },
         {
          "year_of_publication": 2013
         },
         {
          "year_of_publication": 2015
         },
         {
          "year_of_publication": 2012
         },
         {
          "year_of_publication": 2013
         },
         {
          "year_of_publication": 2015
         },
         {
          "year_of_publication": 2012
         },
         {
          "year_of_publication": 2012
         },
         {
          "year_of_publication": 2015
         },
         {
          "year_of_publication": 2012
         },
         {
          "year_of_publication": 2018
         },
         {
          "year_of_publication": 2016
         },
         {
          "year_of_publication": 2014
         },
         {
          "year_of_publication": 2015
         },
         {
          "year_of_publication": 2013
         },
         {
          "year_of_publication": 2012
         },
         {
          "year_of_publication": 2016
         },
         {
          "year_of_publication": 2018
         },
         {
          "year_of_publication": 2014
         },
         {
          "year_of_publication": 2015
         },
         {
          "year_of_publication": 2014
         },
         {
          "year_of_publication": 2014
         },
         {
          "year_of_publication": 2022
         },
         {
          "year_of_publication": 2014
         },
         {
          "year_of_publication": 2014
         },
         {
          "year_of_publication": 2015
         },
         {
          "year_of_publication": 2012
         },
         {
          "year_of_publication": 2012
         },
         {
          "year_of_publication": 2014
         },
         {
          "year_of_publication": 2014
         },
         {
          "year_of_publication": 2016
         },
         {
          "year_of_publication": 2015
         },
         {
          "year_of_publication": 2018
         },
         {
          "year_of_publication": 2018
         },
         {
          "year_of_publication": 2015
         },
         {
          "year_of_publication": 2018
         },
         {
          "year_of_publication": 2012
         },
         {
          "year_of_publication": 2015
         },
         {
          "year_of_publication": 2012
         },
         {
          "year_of_publication": 2013
         },
         {
          "year_of_publication": 2016
         },
         {
          "year_of_publication": 2016
         },
         {
          "year_of_publication": 2014
         },
         {
          "year_of_publication": 2015
         },
         {
          "year_of_publication": 2014
         },
         {
          "year_of_publication": 2016
         },
         {
          "year_of_publication": 2014
         },
         {
          "year_of_publication": 2018
         },
         {
          "year_of_publication": 2012
         },
         {
          "year_of_publication": 2016
         },
         {
          "year_of_publication": 2014
         },
         {
          "year_of_publication": 2016
         },
         {
          "year_of_publication": 2015
         },
         {
          "year_of_publication": 2014
         },
         {
          "year_of_publication": 2014
         },
         {
          "year_of_publication": 2014
         },
         {
          "year_of_publication": 2013
         },
         {
          "year_of_publication": 2016
         },
         {
          "year_of_publication": 2014
         },
         {
          "year_of_publication": 2013
         },
         {
          "year_of_publication": 2016
         },
         {
          "year_of_publication": 2015
         },
         {
          "year_of_publication": 2016
         },
         {
          "year_of_publication": 2017
         },
         {
          "year_of_publication": 2016
         },
         {
          "year_of_publication": 2013
         },
         {
          "year_of_publication": 2014
         },
         {
          "year_of_publication": 2013
         },
         {
          "year_of_publication": 2016
         },
         {
          "year_of_publication": 2015
         },
         {
          "year_of_publication": 2014
         },
         {
          "year_of_publication": 2012
         },
         {
          "year_of_publication": 2012
         },
         {
          "year_of_publication": 2012
         },
         {
          "year_of_publication": 2017
         },
         {
          "year_of_publication": 2015
         },
         {
          "year_of_publication": 2015
         },
         {
          "year_of_publication": 2016
         },
         {
          "year_of_publication": 2013
         },
         {
          "year_of_publication": 2014
         },
         {
          "year_of_publication": 2016
         },
         {
          "year_of_publication": 2013
         },
         {
          "year_of_publication": 2018
         },
         {
          "year_of_publication": 2016
         },
         {
          "year_of_publication": 2015
         },
         {
          "year_of_publication": 2018
         },
         {
          "year_of_publication": 2017
         },
         {
          "year_of_publication": 2020
         },
         {
          "year_of_publication": 2012
         },
         {
          "year_of_publication": 2016
         },
         {
          "year_of_publication": 2016
         },
         {
          "year_of_publication": 2016
         },
         {
          "year_of_publication": 2015
         },
         {
          "year_of_publication": 2015
         },
         {
          "year_of_publication": 2014
         },
         {
          "year_of_publication": 2016
         },
         {
          "year_of_publication": 2014
         },
         {
          "year_of_publication": 2016
         },
         {
          "year_of_publication": 2012
         },
         {
          "year_of_publication": 2014
         },
         {
          "year_of_publication": 2013
         },
         {
          "year_of_publication": 2015
         },
         {
          "year_of_publication": 2014
         },
         {
          "year_of_publication": 2012
         },
         {
          "year_of_publication": 2015
         },
         {
          "year_of_publication": 2015
         },
         {
          "year_of_publication": 2013
         },
         {
          "year_of_publication": 2014
         },
         {
          "year_of_publication": 2016
         },
         {
          "year_of_publication": 2013
         },
         {
          "year_of_publication": 2012
         },
         {
          "year_of_publication": 2015
         },
         {
          "year_of_publication": 2014
         },
         {
          "year_of_publication": 2015
         },
         {
          "year_of_publication": 2016
         },
         {
          "year_of_publication": 2013
         },
         {
          "year_of_publication": 2013
         },
         {
          "year_of_publication": 2014
         },
         {
          "year_of_publication": 2015
         },
         {
          "year_of_publication": 2016
         },
         {
          "year_of_publication": 2015
         },
         {
          "year_of_publication": 2017
         },
         {
          "year_of_publication": 2012
         },
         {
          "year_of_publication": 2012
         },
         {
          "year_of_publication": 2016
         },
         {
          "year_of_publication": 2015
         },
         {
          "year_of_publication": 2014
         },
         {
          "year_of_publication": 2014
         },
         {
          "year_of_publication": 2015
         },
         {
          "year_of_publication": 2013
         },
         {
          "year_of_publication": 2017
         },
         {
          "year_of_publication": 2015
         },
         {
          "year_of_publication": 2014
         },
         {
          "year_of_publication": 2016
         },
         {
          "year_of_publication": 2014
         },
         {
          "year_of_publication": 2015
         },
         {
          "year_of_publication": 2016
         },
         {
          "year_of_publication": 2013
         },
         {
          "year_of_publication": 2013
         },
         {
          "year_of_publication": 2012
         },
         {
          "year_of_publication": 2015
         },
         {
          "year_of_publication": 2016
         },
         {
          "year_of_publication": 2012
         },
         {
          "year_of_publication": 2016
         },
         {
          "year_of_publication": 2013
         },
         {
          "year_of_publication": 2014
         },
         {
          "year_of_publication": 2014
         },
         {
          "year_of_publication": 2015
         },
         {
          "year_of_publication": 2015
         },
         {
          "year_of_publication": 2012
         },
         {
          "year_of_publication": 2015
         },
         {
          "year_of_publication": 2012
         },
         {
          "year_of_publication": 2016
         },
         {
          "year_of_publication": 2012
         },
         {
          "year_of_publication": 2015
         },
         {
          "year_of_publication": 2015
         },
         {
          "year_of_publication": 2013
         },
         {
          "year_of_publication": 2015
         },
         {
          "year_of_publication": 2015
         },
         {
          "year_of_publication": 2022
         },
         {
          "year_of_publication": 2014
         },
         {
          "year_of_publication": 2015
         },
         {
          "year_of_publication": 2015
         },
         {
          "year_of_publication": 2017
         },
         {
          "year_of_publication": 2015
         },
         {
          "year_of_publication": 2015
         },
         {
          "year_of_publication": 2013
         },
         {
          "year_of_publication": 2014
         },
         {
          "year_of_publication": 2016
         },
         {
          "year_of_publication": 2013
         },
         {
          "year_of_publication": 2013
         },
         {
          "year_of_publication": 2016
         },
         {
          "year_of_publication": 2015
         },
         {
          "year_of_publication": 2015
         },
         {
          "year_of_publication": 2014
         },
         {
          "year_of_publication": 2012
         },
         {
          "year_of_publication": 2016
         },
         {
          "year_of_publication": 2015
         },
         {
          "year_of_publication": 2012
         },
         {
          "year_of_publication": 2015
         },
         {
          "year_of_publication": 2016
         },
         {
          "year_of_publication": 2012
         },
         {
          "year_of_publication": 2015
         },
         {
          "year_of_publication": 2012
         },
         {
          "year_of_publication": 2012
         },
         {
          "year_of_publication": 2015
         },
         {
          "year_of_publication": 2013
         },
         {
          "year_of_publication": 2016
         },
         {
          "year_of_publication": 2013
         },
         {
          "year_of_publication": 2015
         },
         {
          "year_of_publication": 2014
         },
         {
          "year_of_publication": 2016
         },
         {
          "year_of_publication": 2016
         },
         {
          "year_of_publication": 2015
         },
         {
          "year_of_publication": 2015
         },
         {
          "year_of_publication": 2013
         },
         {
          "year_of_publication": 2016
         },
         {
          "year_of_publication": 2014
         },
         {
          "year_of_publication": 2014
         },
         {
          "year_of_publication": 2012
         },
         {
          "year_of_publication": 2014
         },
         {
          "year_of_publication": 2014
         },
         {
          "year_of_publication": 2016
         },
         {
          "year_of_publication": 2016
         },
         {
          "year_of_publication": 2016
         },
         {
          "year_of_publication": 2012
         },
         {
          "year_of_publication": 2018
         },
         {
          "year_of_publication": 2014
         },
         {
          "year_of_publication": 2016
         },
         {
          "year_of_publication": 2016
         },
         {
          "year_of_publication": 2015
         },
         {
          "year_of_publication": 2015
         },
         {
          "year_of_publication": 2014
         },
         {
          "year_of_publication": 2014
         },
         {
          "year_of_publication": 2018
         },
         {
          "year_of_publication": 2012
         },
         {
          "year_of_publication": 2016
         },
         {
          "year_of_publication": 2015
         },
         {
          "year_of_publication": 2015
         },
         {
          "year_of_publication": 2015
         },
         {
          "year_of_publication": 2015
         },
         {
          "year_of_publication": 2014
         },
         {
          "year_of_publication": 2013
         },
         {
          "year_of_publication": 2014
         },
         {
          "year_of_publication": 2012
         },
         {
          "year_of_publication": 2016
         },
         {
          "year_of_publication": 2016
         },
         {
          "year_of_publication": 2012
         },
         {
          "year_of_publication": 2014
         },
         {
          "year_of_publication": 2014
         },
         {
          "year_of_publication": 2016
         },
         {
          "year_of_publication": 2014
         },
         {
          "year_of_publication": 2016
         },
         {
          "year_of_publication": 2012
         },
         {
          "year_of_publication": 2014
         },
         {
          "year_of_publication": 2012
         },
         {
          "year_of_publication": 2017
         },
         {
          "year_of_publication": 2014
         },
         {
          "year_of_publication": 2014
         },
         {
          "year_of_publication": 2013
         },
         {
          "year_of_publication": 2015
         },
         {
          "year_of_publication": 2012
         },
         {
          "year_of_publication": 2014
         },
         {
          "year_of_publication": 2016
         },
         {
          "year_of_publication": 2015
         },
         {
          "year_of_publication": 2013
         },
         {
          "year_of_publication": 2016
         },
         {
          "year_of_publication": 2017
         },
         {
          "year_of_publication": 2013
         },
         {
          "year_of_publication": 2015
         },
         {
          "year_of_publication": 2015
         },
         {
          "year_of_publication": 2015
         },
         {
          "year_of_publication": 2015
         },
         {
          "year_of_publication": 2015
         },
         {
          "year_of_publication": 2012
         },
         {
          "year_of_publication": 2015
         },
         {
          "year_of_publication": 2017
         },
         {
          "year_of_publication": 2012
         },
         {
          "year_of_publication": 2014
         },
         {
          "year_of_publication": 2014
         },
         {
          "year_of_publication": 2015
         },
         {
          "year_of_publication": 2015
         },
         {
          "year_of_publication": 2014
         },
         {
          "year_of_publication": 2014
         },
         {
          "year_of_publication": 2015
         },
         {
          "year_of_publication": 2016
         },
         {
          "year_of_publication": 2014
         },
         {
          "year_of_publication": 2015
         },
         {
          "year_of_publication": 2015
         },
         {
          "year_of_publication": 2014
         },
         {
          "year_of_publication": 2015
         },
         {
          "year_of_publication": 2014
         },
         {
          "year_of_publication": 2014
         },
         {
          "year_of_publication": 2012
         },
         {
          "year_of_publication": 2014
         },
         {
          "year_of_publication": 2016
         },
         {
          "year_of_publication": 2013
         },
         {
          "year_of_publication": 2015
         },
         {
          "year_of_publication": 2012
         },
         {
          "year_of_publication": 2012
         },
         {
          "year_of_publication": 2015
         },
         {
          "year_of_publication": 2012
         },
         {
          "year_of_publication": 2017
         },
         {
          "year_of_publication": 2016
         },
         {
          "year_of_publication": 2013
         },
         {
          "year_of_publication": 2013
         },
         {
          "year_of_publication": 2016
         },
         {
          "year_of_publication": 2016
         },
         {
          "year_of_publication": 2015
         },
         {
          "year_of_publication": 2014
         },
         {
          "year_of_publication": 2014
         },
         {
          "year_of_publication": 2016
         },
         {
          "year_of_publication": 2013
         },
         {
          "year_of_publication": 2014
         },
         {
          "year_of_publication": 2015
         },
         {
          "year_of_publication": 2014
         },
         {
          "year_of_publication": 2015
         },
         {
          "year_of_publication": 2014
         },
         {
          "year_of_publication": 2016
         },
         {
          "year_of_publication": 2013
         },
         {
          "year_of_publication": 2012
         },
         {
          "year_of_publication": 2016
         },
         {
          "year_of_publication": 2014
         },
         {
          "year_of_publication": 2015
         },
         {
          "year_of_publication": 2018
         },
         {
          "year_of_publication": 2015
         },
         {
          "year_of_publication": 2015
         },
         {
          "year_of_publication": 2015
         },
         {
          "year_of_publication": 2014
         },
         {
          "year_of_publication": 2017
         },
         {
          "year_of_publication": 2014
         },
         {
          "year_of_publication": 2014
         },
         {
          "year_of_publication": 2016
         },
         {
          "year_of_publication": 2014
         },
         {
          "year_of_publication": 2013
         },
         {
          "year_of_publication": 2015
         },
         {
          "year_of_publication": 2014
         },
         {
          "year_of_publication": 2015
         },
         {
          "year_of_publication": 2015
         },
         {
          "year_of_publication": 2014
         },
         {
          "year_of_publication": 2016
         },
         {
          "year_of_publication": 2015
         },
         {
          "year_of_publication": 2015
         },
         {
          "year_of_publication": 2015
         },
         {
          "year_of_publication": 2015
         },
         {
          "year_of_publication": 2012
         },
         {
          "year_of_publication": 2015
         },
         {
          "year_of_publication": 2014
         },
         {
          "year_of_publication": 2012
         },
         {
          "year_of_publication": 2014
         },
         {
          "year_of_publication": 2014
         },
         {
          "year_of_publication": 2014
         },
         {
          "year_of_publication": 2016
         },
         {
          "year_of_publication": 2012
         },
         {
          "year_of_publication": 2015
         },
         {
          "year_of_publication": 2015
         },
         {
          "year_of_publication": 2013
         },
         {
          "year_of_publication": 2014
         },
         {
          "year_of_publication": 2015
         },
         {
          "year_of_publication": 2015
         },
         {
          "year_of_publication": 2013
         },
         {
          "year_of_publication": 2017
         },
         {
          "year_of_publication": 2013
         },
         {
          "year_of_publication": 2013
         },
         {
          "year_of_publication": 2015
         },
         {
          "year_of_publication": 2016
         },
         {
          "year_of_publication": 2013
         },
         {
          "year_of_publication": 2014
         },
         {
          "year_of_publication": 2015
         },
         {
          "year_of_publication": 2016
         },
         {
          "year_of_publication": 2016
         },
         {
          "year_of_publication": 2013
         },
         {
          "year_of_publication": 2014
         },
         {
          "year_of_publication": 2014
         },
         {
          "year_of_publication": 2014
         },
         {
          "year_of_publication": 2013
         },
         {
          "year_of_publication": 2015
         },
         {
          "year_of_publication": 2016
         },
         {
          "year_of_publication": 2013
         },
         {
          "year_of_publication": 2016
         },
         {
          "year_of_publication": 2016
         },
         {
          "year_of_publication": 2015
         },
         {
          "year_of_publication": 2015
         },
         {
          "year_of_publication": 2015
         },
         {
          "year_of_publication": 2014
         },
         {
          "year_of_publication": 2012
         },
         {
          "year_of_publication": 2014
         },
         {
          "year_of_publication": 2014
         },
         {
          "year_of_publication": 2014
         },
         {
          "year_of_publication": 2017
         },
         {
          "year_of_publication": 2014
         },
         {
          "year_of_publication": 2013
         },
         {
          "year_of_publication": 2014
         },
         {
          "year_of_publication": 2014
         },
         {
          "year_of_publication": 2014
         },
         {
          "year_of_publication": 2016
         },
         {
          "year_of_publication": 2015
         },
         {
          "year_of_publication": 2015
         },
         {
          "year_of_publication": 2016
         },
         {
          "year_of_publication": 2016
         },
         {
          "year_of_publication": 2012
         },
         {
          "year_of_publication": 2015
         },
         {
          "year_of_publication": 2016
         },
         {
          "year_of_publication": 2014
         },
         {
          "year_of_publication": 2014
         },
         {
          "year_of_publication": 2015
         },
         {
          "year_of_publication": 2015
         },
         {
          "year_of_publication": 2014
         },
         {
          "year_of_publication": 2017
         },
         {
          "year_of_publication": 2015
         },
         {
          "year_of_publication": 2020
         },
         {
          "year_of_publication": 2012
         },
         {
          "year_of_publication": 2016
         },
         {
          "year_of_publication": 2014
         },
         {
          "year_of_publication": 2014
         },
         {
          "year_of_publication": 2017
         },
         {
          "year_of_publication": 2013
         },
         {
          "year_of_publication": 2014
         },
         {
          "year_of_publication": 2014
         },
         {
          "year_of_publication": 2014
         },
         {
          "year_of_publication": 2016
         },
         {
          "year_of_publication": 2016
         },
         {
          "year_of_publication": 2016
         },
         {
          "year_of_publication": 2016
         },
         {
          "year_of_publication": 2012
         },
         {
          "year_of_publication": 2014
         },
         {
          "year_of_publication": 2016
         },
         {
          "year_of_publication": 2015
         },
         {
          "year_of_publication": 2013
         },
         {
          "year_of_publication": 2015
         },
         {
          "year_of_publication": 2013
         },
         {
          "year_of_publication": 2017
         },
         {
          "year_of_publication": 2017
         },
         {
          "year_of_publication": 2015
         },
         {
          "year_of_publication": 2013
         },
         {
          "year_of_publication": 2014
         },
         {
          "year_of_publication": 2013
         },
         {
          "year_of_publication": 2015
         },
         {
          "year_of_publication": 2020
         },
         {
          "year_of_publication": 2014
         },
         {
          "year_of_publication": 2014
         },
         {
          "year_of_publication": 2016
         },
         {
          "year_of_publication": 2014
         },
         {
          "year_of_publication": 2014
         },
         {
          "year_of_publication": 2015
         },
         {
          "year_of_publication": 2014
         },
         {
          "year_of_publication": 2014
         },
         {
          "year_of_publication": 2015
         },
         {
          "year_of_publication": 2013
         },
         {
          "year_of_publication": 2016
         },
         {
          "year_of_publication": 2014
         },
         {
          "year_of_publication": 2013
         },
         {
          "year_of_publication": 2014
         },
         {
          "year_of_publication": 2012
         },
         {
          "year_of_publication": 2015
         },
         {
          "year_of_publication": 2014
         },
         {
          "year_of_publication": 2020
         },
         {
          "year_of_publication": 2012
         },
         {
          "year_of_publication": 2015
         },
         {
          "year_of_publication": 2015
         },
         {
          "year_of_publication": 2013
         },
         {
          "year_of_publication": 2014
         },
         {
          "year_of_publication": 2014
         },
         {
          "year_of_publication": 2016
         },
         {
          "year_of_publication": 2012
         },
         {
          "year_of_publication": 2016
         },
         {
          "year_of_publication": 2014
         },
         {
          "year_of_publication": 2014
         },
         {
          "year_of_publication": 2012
         },
         {
          "year_of_publication": 2012
         },
         {
          "year_of_publication": 2013
         },
         {
          "year_of_publication": 2015
         },
         {
          "year_of_publication": 2015
         },
         {
          "year_of_publication": 2014
         },
         {
          "year_of_publication": 2018
         },
         {
          "year_of_publication": 2014
         },
         {
          "year_of_publication": 2014
         },
         {
          "year_of_publication": 2015
         },
         {
          "year_of_publication": 2015
         },
         {
          "year_of_publication": 2016
         },
         {
          "year_of_publication": 2017
         },
         {
          "year_of_publication": 2017
         },
         {
          "year_of_publication": 2017
         },
         {
          "year_of_publication": 2012
         },
         {
          "year_of_publication": 2014
         },
         {
          "year_of_publication": 2014
         },
         {
          "year_of_publication": 2015
         },
         {
          "year_of_publication": 2016
         },
         {
          "year_of_publication": 2012
         },
         {
          "year_of_publication": 2014
         },
         {
          "year_of_publication": 2013
         },
         {
          "year_of_publication": 2014
         },
         {
          "year_of_publication": 2014
         },
         {
          "year_of_publication": 2014
         },
         {
          "year_of_publication": 2016
         },
         {
          "year_of_publication": 2014
         },
         {
          "year_of_publication": 2013
         },
         {
          "year_of_publication": 2013
         },
         {
          "year_of_publication": 2015
         },
         {
          "year_of_publication": 2015
         },
         {
          "year_of_publication": 2016
         },
         {
          "year_of_publication": 2012
         },
         {
          "year_of_publication": 2016
         },
         {
          "year_of_publication": 2016
         },
         {
          "year_of_publication": 2015
         },
         {
          "year_of_publication": 2013
         },
         {
          "year_of_publication": 2016
         },
         {
          "year_of_publication": 2015
         },
         {
          "year_of_publication": 2014
         },
         {
          "year_of_publication": 2015
         },
         {
          "year_of_publication": 2015
         },
         {
          "year_of_publication": 2013
         },
         {
          "year_of_publication": 2016
         },
         {
          "year_of_publication": 2013
         },
         {
          "year_of_publication": 2014
         },
         {
          "year_of_publication": 2015
         },
         {
          "year_of_publication": 2013
         },
         {
          "year_of_publication": 2014
         },
         {
          "year_of_publication": 2014
         },
         {
          "year_of_publication": 2015
         },
         {
          "year_of_publication": 2013
         },
         {
          "year_of_publication": 2013
         },
         {
          "year_of_publication": 2015
         },
         {
          "year_of_publication": 2014
         },
         {
          "year_of_publication": 2018
         },
         {
          "year_of_publication": 2014
         },
         {
          "year_of_publication": 2012
         },
         {
          "year_of_publication": 2016
         },
         {
          "year_of_publication": 2012
         },
         {
          "year_of_publication": 2015
         },
         {
          "year_of_publication": 2015
         },
         {
          "year_of_publication": 2016
         },
         {
          "year_of_publication": 2014
         },
         {
          "year_of_publication": 2016
         },
         {
          "year_of_publication": 2016
         },
         {
          "year_of_publication": 2014
         },
         {
          "year_of_publication": 2016
         },
         {
          "year_of_publication": 2013
         },
         {
          "year_of_publication": 2014
         },
         {
          "year_of_publication": 2015
         },
         {
          "year_of_publication": 2016
         },
         {
          "year_of_publication": 2015
         },
         {
          "year_of_publication": 2013
         },
         {
          "year_of_publication": 2014
         },
         {
          "year_of_publication": 2015
         },
         {
          "year_of_publication": 2016
         },
         {
          "year_of_publication": 2017
         },
         {
          "year_of_publication": 2013
         },
         {
          "year_of_publication": 2012
         },
         {
          "year_of_publication": 2014
         },
         {
          "year_of_publication": 2016
         },
         {
          "year_of_publication": 2016
         },
         {
          "year_of_publication": 2015
         },
         {
          "year_of_publication": 2015
         },
         {
          "year_of_publication": 2013
         },
         {
          "year_of_publication": 2012
         },
         {
          "year_of_publication": 2012
         },
         {
          "year_of_publication": 2015
         },
         {
          "year_of_publication": 2014
         },
         {
          "year_of_publication": 2012
         },
         {
          "year_of_publication": 2013
         },
         {
          "year_of_publication": 2014
         },
         {
          "year_of_publication": 2012
         },
         {
          "year_of_publication": 2013
         },
         {
          "year_of_publication": 2015
         },
         {
          "year_of_publication": 2014
         },
         {
          "year_of_publication": 2012
         },
         {
          "year_of_publication": 2013
         },
         {
          "year_of_publication": 2012
         },
         {
          "year_of_publication": 2013
         },
         {
          "year_of_publication": 2014
         },
         {
          "year_of_publication": 2017
         },
         {
          "year_of_publication": 2012
         },
         {
          "year_of_publication": 2012
         },
         {
          "year_of_publication": 2014
         },
         {
          "year_of_publication": 2014
         },
         {
          "year_of_publication": 2017
         },
         {
          "year_of_publication": 2014
         },
         {
          "year_of_publication": 2013
         },
         {
          "year_of_publication": 2016
         },
         {
          "year_of_publication": 2013
         },
         {
          "year_of_publication": 2014
         },
         {
          "year_of_publication": 2014
         },
         {
          "year_of_publication": 2012
         },
         {
          "year_of_publication": 2016
         },
         {
          "year_of_publication": 2014
         },
         {
          "year_of_publication": 2014
         },
         {
          "year_of_publication": 2012
         },
         {
          "year_of_publication": 2015
         },
         {
          "year_of_publication": 2014
         },
         {
          "year_of_publication": 2015
         },
         {
          "year_of_publication": 2015
         },
         {
          "year_of_publication": 2012
         },
         {
          "year_of_publication": 2013
         },
         {
          "year_of_publication": 2016
         },
         {
          "year_of_publication": 2012
         },
         {
          "year_of_publication": 2014
         },
         {
          "year_of_publication": 2015
         },
         {
          "year_of_publication": 2016
         },
         {
          "year_of_publication": 2014
         },
         {
          "year_of_publication": 2015
         },
         {
          "year_of_publication": 2015
         },
         {
          "year_of_publication": 2014
         },
         {
          "year_of_publication": 2012
         },
         {
          "year_of_publication": 2016
         },
         {
          "year_of_publication": 2012
         },
         {
          "year_of_publication": 2014
         },
         {
          "year_of_publication": 2012
         },
         {
          "year_of_publication": 2015
         },
         {
          "year_of_publication": 2015
         },
         {
          "year_of_publication": 2015
         },
         {
          "year_of_publication": 2014
         },
         {
          "year_of_publication": 2012
         },
         {
          "year_of_publication": 2017
         },
         {
          "year_of_publication": 2016
         },
         {
          "year_of_publication": 2014
         },
         {
          "year_of_publication": 2017
         },
         {
          "year_of_publication": 2012
         },
         {
          "year_of_publication": 2015
         },
         {
          "year_of_publication": 2014
         },
         {
          "year_of_publication": 2012
         },
         {
          "year_of_publication": 2015
         },
         {
          "year_of_publication": 2015
         },
         {
          "year_of_publication": 2012
         },
         {
          "year_of_publication": 2016
         },
         {
          "year_of_publication": 2015
         },
         {
          "year_of_publication": 2014
         },
         {
          "year_of_publication": 2014
         },
         {
          "year_of_publication": 2017
         },
         {
          "year_of_publication": 2017
         },
         {
          "year_of_publication": 2014
         },
         {
          "year_of_publication": 2013
         },
         {
          "year_of_publication": 2013
         },
         {
          "year_of_publication": 2016
         },
         {
          "year_of_publication": 2014
         },
         {
          "year_of_publication": 2018
         },
         {
          "year_of_publication": 2015
         },
         {
          "year_of_publication": 2015
         },
         {
          "year_of_publication": 2015
         },
         {
          "year_of_publication": 2013
         },
         {
          "year_of_publication": 2013
         },
         {
          "year_of_publication": 2016
         },
         {
          "year_of_publication": 2014
         },
         {
          "year_of_publication": 2015
         },
         {
          "year_of_publication": 2012
         },
         {
          "year_of_publication": 2014
         },
         {
          "year_of_publication": 2013
         },
         {
          "year_of_publication": 2014
         },
         {
          "year_of_publication": 2015
         },
         {
          "year_of_publication": 2013
         },
         {
          "year_of_publication": 2015
         },
         {
          "year_of_publication": 2015
         },
         {
          "year_of_publication": 2016
         },
         {
          "year_of_publication": 2014
         },
         {
          "year_of_publication": 2015
         },
         {
          "year_of_publication": 2016
         },
         {
          "year_of_publication": 2014
         },
         {
          "year_of_publication": 2016
         },
         {
          "year_of_publication": 2013
         },
         {
          "year_of_publication": 2013
         },
         {
          "year_of_publication": 2016
         },
         {
          "year_of_publication": 2016
         },
         {
          "year_of_publication": 2015
         },
         {
          "year_of_publication": 2013
         },
         {
          "year_of_publication": 2015
         },
         {
          "year_of_publication": 2015
         },
         {
          "year_of_publication": 2013
         },
         {
          "year_of_publication": 2014
         },
         {
          "year_of_publication": 2015
         },
         {
          "year_of_publication": 2016
         },
         {
          "year_of_publication": 2015
         },
         {
          "year_of_publication": 2016
         },
         {
          "year_of_publication": 2013
         },
         {
          "year_of_publication": 2014
         },
         {
          "year_of_publication": 2012
         },
         {
          "year_of_publication": 2015
         },
         {
          "year_of_publication": 2015
         },
         {
          "year_of_publication": 2014
         },
         {
          "year_of_publication": 2013
         },
         {
          "year_of_publication": 2014
         },
         {
          "year_of_publication": 2013
         },
         {
          "year_of_publication": 2015
         },
         {
          "year_of_publication": 2016
         },
         {
          "year_of_publication": 2016
         },
         {
          "year_of_publication": 2016
         },
         {
          "year_of_publication": 2014
         },
         {
          "year_of_publication": 2013
         },
         {
          "year_of_publication": 2015
         },
         {
          "year_of_publication": 2012
         },
         {
          "year_of_publication": 2015
         },
         {
          "year_of_publication": 2012
         },
         {
          "year_of_publication": 2016
         },
         {
          "year_of_publication": 2015
         },
         {
          "year_of_publication": 2013
         },
         {
          "year_of_publication": 2012
         },
         {
          "year_of_publication": 2016
         },
         {
          "year_of_publication": 2015
         },
         {
          "year_of_publication": 2016
         },
         {
          "year_of_publication": 2012
         },
         {
          "year_of_publication": 2014
         },
         {
          "year_of_publication": 2014
         },
         {
          "year_of_publication": 2015
         },
         {
          "year_of_publication": 2012
         },
         {
          "year_of_publication": 2013
         },
         {
          "year_of_publication": 2016
         },
         {
          "year_of_publication": 2012
         },
         {
          "year_of_publication": 2015
         },
         {
          "year_of_publication": 2016
         },
         {
          "year_of_publication": 2015
         },
         {
          "year_of_publication": 2016
         },
         {
          "year_of_publication": 2012
         },
         {
          "year_of_publication": 2015
         },
         {
          "year_of_publication": 2015
         },
         {
          "year_of_publication": 2012
         },
         {
          "year_of_publication": 2015
         },
         {
          "year_of_publication": 2016
         },
         {
          "year_of_publication": 2014
         },
         {
          "year_of_publication": 2014
         },
         {
          "year_of_publication": 2012
         },
         {
          "year_of_publication": 2013
         },
         {
          "year_of_publication": 2013
         },
         {
          "year_of_publication": 2017
         },
         {
          "year_of_publication": 2015
         },
         {
          "year_of_publication": 2016
         },
         {
          "year_of_publication": 2015
         },
         {
          "year_of_publication": 2015
         },
         {
          "year_of_publication": 2014
         },
         {
          "year_of_publication": 2013
         },
         {
          "year_of_publication": 2014
         },
         {
          "year_of_publication": 2012
         },
         {
          "year_of_publication": 2017
         },
         {
          "year_of_publication": 2017
         },
         {
          "year_of_publication": 2012
         },
         {
          "year_of_publication": 2013
         },
         {
          "year_of_publication": 2012
         },
         {
          "year_of_publication": 2014
         },
         {
          "year_of_publication": 2015
         },
         {
          "year_of_publication": 2016
         },
         {
          "year_of_publication": 2014
         },
         {
          "year_of_publication": 2016
         },
         {
          "year_of_publication": 2014
         },
         {
          "year_of_publication": 2015
         },
         {
          "year_of_publication": 2012
         },
         {
          "year_of_publication": 2014
         },
         {
          "year_of_publication": 2014
         },
         {
          "year_of_publication": 2017
         },
         {
          "year_of_publication": 2013
         },
         {
          "year_of_publication": 2014
         },
         {
          "year_of_publication": 2015
         },
         {
          "year_of_publication": 2014
         },
         {
          "year_of_publication": 2016
         },
         {
          "year_of_publication": 2013
         },
         {
          "year_of_publication": 2015
         },
         {
          "year_of_publication": 2014
         },
         {
          "year_of_publication": 2015
         },
         {
          "year_of_publication": 2016
         },
         {
          "year_of_publication": 2014
         },
         {
          "year_of_publication": 2012
         },
         {
          "year_of_publication": 2014
         },
         {
          "year_of_publication": 2013
         },
         {
          "year_of_publication": 2014
         },
         {
          "year_of_publication": 2015
         },
         {
          "year_of_publication": 2013
         },
         {
          "year_of_publication": 2015
         },
         {
          "year_of_publication": 2015
         },
         {
          "year_of_publication": 2015
         },
         {
          "year_of_publication": 2014
         },
         {
          "year_of_publication": 2014
         },
         {
          "year_of_publication": 2015
         },
         {
          "year_of_publication": 2012
         },
         {
          "year_of_publication": 2015
         },
         {
          "year_of_publication": 2017
         },
         {
          "year_of_publication": 2015
         },
         {
          "year_of_publication": 2016
         },
         {
          "year_of_publication": 2015
         },
         {
          "year_of_publication": 2013
         },
         {
          "year_of_publication": 2016
         },
         {
          "year_of_publication": 2016
         },
         {
          "year_of_publication": 2018
         },
         {
          "year_of_publication": 2014
         },
         {
          "year_of_publication": 2014
         },
         {
          "year_of_publication": 2014
         },
         {
          "year_of_publication": 2015
         },
         {
          "year_of_publication": 2015
         },
         {
          "year_of_publication": 2015
         },
         {
          "year_of_publication": 2012
         },
         {
          "year_of_publication": 2012
         },
         {
          "year_of_publication": 2012
         },
         {
          "year_of_publication": 2015
         },
         {
          "year_of_publication": 2015
         },
         {
          "year_of_publication": 2015
         },
         {
          "year_of_publication": 2013
         },
         {
          "year_of_publication": 2013
         },
         {
          "year_of_publication": 2012
         },
         {
          "year_of_publication": 2012
         },
         {
          "year_of_publication": 2014
         },
         {
          "year_of_publication": 2014
         },
         {
          "year_of_publication": 2016
         },
         {
          "year_of_publication": 2014
         },
         {
          "year_of_publication": 2012
         },
         {
          "year_of_publication": 2014
         },
         {
          "year_of_publication": 2013
         },
         {
          "year_of_publication": 2014
         },
         {
          "year_of_publication": 2014
         },
         {
          "year_of_publication": 2014
         },
         {
          "year_of_publication": 2013
         },
         {
          "year_of_publication": 2014
         },
         {
          "year_of_publication": 2015
         },
         {
          "year_of_publication": 2017
         },
         {
          "year_of_publication": 2015
         },
         {
          "year_of_publication": 2016
         },
         {
          "year_of_publication": 2014
         },
         {
          "year_of_publication": 2015
         },
         {
          "year_of_publication": 2016
         },
         {
          "year_of_publication": 2016
         },
         {
          "year_of_publication": 2015
         },
         {
          "year_of_publication": 2012
         },
         {
          "year_of_publication": 2013
         },
         {
          "year_of_publication": 2015
         },
         {
          "year_of_publication": 2016
         },
         {
          "year_of_publication": 2015
         },
         {
          "year_of_publication": 2017
         },
         {
          "year_of_publication": 2016
         },
         {
          "year_of_publication": 2012
         },
         {
          "year_of_publication": 2016
         },
         {
          "year_of_publication": 2014
         },
         {
          "year_of_publication": 2012
         },
         {
          "year_of_publication": 2015
         },
         {
          "year_of_publication": 2016
         },
         {
          "year_of_publication": 2012
         },
         {
          "year_of_publication": 2017
         },
         {
          "year_of_publication": 2018
         },
         {
          "year_of_publication": 2012
         },
         {
          "year_of_publication": 2013
         },
         {
          "year_of_publication": 2012
         },
         {
          "year_of_publication": 2016
         },
         {
          "year_of_publication": 2014
         },
         {
          "year_of_publication": 2015
         },
         {
          "year_of_publication": 2014
         },
         {
          "year_of_publication": 2014
         },
         {
          "year_of_publication": 2015
         },
         {
          "year_of_publication": 2016
         },
         {
          "year_of_publication": 2013
         },
         {
          "year_of_publication": 2013
         },
         {
          "year_of_publication": 2013
         },
         {
          "year_of_publication": 2012
         },
         {
          "year_of_publication": 2012
         },
         {
          "year_of_publication": 2015
         },
         {
          "year_of_publication": 2016
         },
         {
          "year_of_publication": 2012
         },
         {
          "year_of_publication": 2015
         },
         {
          "year_of_publication": 2015
         },
         {
          "year_of_publication": 2013
         },
         {
          "year_of_publication": 2013
         },
         {
          "year_of_publication": 2019
         },
         {
          "year_of_publication": 2012
         },
         {
          "year_of_publication": 2018
         },
         {
          "year_of_publication": 2012
         },
         {
          "year_of_publication": 2016
         },
         {
          "year_of_publication": 2013
         },
         {
          "year_of_publication": 2015
         },
         {
          "year_of_publication": 2012
         },
         {
          "year_of_publication": 2015
         },
         {
          "year_of_publication": 2014
         },
         {
          "year_of_publication": 2017
         },
         {
          "year_of_publication": 2014
         },
         {
          "year_of_publication": 2021
         },
         {
          "year_of_publication": 2013
         },
         {
          "year_of_publication": 2015
         },
         {
          "year_of_publication": 2013
         },
         {
          "year_of_publication": 2015
         },
         {
          "year_of_publication": 2014
         },
         {
          "year_of_publication": 2014
         },
         {
          "year_of_publication": 2015
         },
         {
          "year_of_publication": 2016
         },
         {
          "year_of_publication": 2015
         },
         {
          "year_of_publication": 2014
         },
         {
          "year_of_publication": 2013
         },
         {
          "year_of_publication": 2012
         },
         {
          "year_of_publication": 2014
         },
         {
          "year_of_publication": 2012
         },
         {
          "year_of_publication": 2014
         },
         {
          "year_of_publication": 2016
         },
         {
          "year_of_publication": 2015
         },
         {
          "year_of_publication": 2015
         },
         {
          "year_of_publication": 2018
         },
         {
          "year_of_publication": 2017
         },
         {
          "year_of_publication": 2016
         },
         {
          "year_of_publication": 2015
         },
         {
          "year_of_publication": 2014
         },
         {
          "year_of_publication": 2015
         },
         {
          "year_of_publication": 2017
         },
         {
          "year_of_publication": 2017
         },
         {
          "year_of_publication": 2015
         },
         {
          "year_of_publication": 2016
         },
         {
          "year_of_publication": 2014
         },
         {
          "year_of_publication": 2016
         },
         {
          "year_of_publication": 2015
         },
         {
          "year_of_publication": 2013
         },
         {
          "year_of_publication": 2014
         },
         {
          "year_of_publication": 2015
         },
         {
          "year_of_publication": 2014
         },
         {
          "year_of_publication": 2016
         },
         {
          "year_of_publication": 2015
         },
         {
          "year_of_publication": 2014
         },
         {
          "year_of_publication": 2016
         },
         {
          "year_of_publication": 2016
         },
         {
          "year_of_publication": 2015
         },
         {
          "year_of_publication": 2013
         },
         {
          "year_of_publication": 2012
         },
         {
          "year_of_publication": 2014
         },
         {
          "year_of_publication": 2017
         },
         {
          "year_of_publication": 2014
         },
         {
          "year_of_publication": 2015
         },
         {
          "year_of_publication": 2016
         },
         {
          "year_of_publication": 2015
         },
         {
          "year_of_publication": 2015
         },
         {
          "year_of_publication": 2012
         },
         {
          "year_of_publication": 2014
         },
         {
          "year_of_publication": 2015
         },
         {
          "year_of_publication": 2017
         },
         {
          "year_of_publication": 2015
         },
         {
          "year_of_publication": 2014
         },
         {
          "year_of_publication": 2014
         },
         {
          "year_of_publication": 2014
         },
         {
          "year_of_publication": 2014
         },
         {
          "year_of_publication": 2014
         },
         {
          "year_of_publication": 2015
         },
         {
          "year_of_publication": 2014
         },
         {
          "year_of_publication": 2014
         },
         {
          "year_of_publication": 2014
         },
         {
          "year_of_publication": 2020
         },
         {
          "year_of_publication": 2013
         },
         {
          "year_of_publication": 2013
         },
         {
          "year_of_publication": 2016
         },
         {
          "year_of_publication": 2014
         },
         {
          "year_of_publication": 2015
         },
         {
          "year_of_publication": 2012
         },
         {
          "year_of_publication": 2012
         },
         {
          "year_of_publication": 2013
         },
         {
          "year_of_publication": 2013
         },
         {
          "year_of_publication": 2016
         },
         {
          "year_of_publication": 2014
         },
         {
          "year_of_publication": 2014
         },
         {
          "year_of_publication": 2016
         },
         {
          "year_of_publication": 2014
         },
         {
          "year_of_publication": 2014
         },
         {
          "year_of_publication": 2015
         },
         {
          "year_of_publication": 2014
         },
         {
          "year_of_publication": 2015
         },
         {
          "year_of_publication": 2016
         },
         {
          "year_of_publication": 2014
         },
         {
          "year_of_publication": 2014
         },
         {
          "year_of_publication": 2016
         },
         {
          "year_of_publication": 2012
         },
         {
          "year_of_publication": 2016
         },
         {
          "year_of_publication": 2014
         },
         {
          "year_of_publication": 2014
         },
         {
          "year_of_publication": 2014
         },
         {
          "year_of_publication": 2015
         },
         {
          "year_of_publication": 2013
         },
         {
          "year_of_publication": 2016
         },
         {
          "year_of_publication": 2012
         },
         {
          "year_of_publication": 2014
         },
         {
          "year_of_publication": 2017
         },
         {
          "year_of_publication": 2014
         },
         {
          "year_of_publication": 2013
         },
         {
          "year_of_publication": 2016
         },
         {
          "year_of_publication": 2014
         },
         {
          "year_of_publication": 2018
         },
         {
          "year_of_publication": 2017
         },
         {
          "year_of_publication": 2012
         },
         {
          "year_of_publication": 2014
         },
         {
          "year_of_publication": 2014
         },
         {
          "year_of_publication": 2013
         },
         {
          "year_of_publication": 2015
         },
         {
          "year_of_publication": 2014
         },
         {
          "year_of_publication": 2014
         },
         {
          "year_of_publication": 2015
         },
         {
          "year_of_publication": 2012
         },
         {
          "year_of_publication": 2016
         },
         {
          "year_of_publication": 2014
         },
         {
          "year_of_publication": 2015
         },
         {
          "year_of_publication": 2012
         },
         {
          "year_of_publication": 2013
         },
         {
          "year_of_publication": 2016
         },
         {
          "year_of_publication": 2015
         },
         {
          "year_of_publication": 2014
         },
         {
          "year_of_publication": 2015
         },
         {
          "year_of_publication": 2015
         },
         {
          "year_of_publication": 2013
         },
         {
          "year_of_publication": 2016
         },
         {
          "year_of_publication": 2016
         },
         {
          "year_of_publication": 2014
         },
         {
          "year_of_publication": 2018
         },
         {
          "year_of_publication": 2012
         },
         {
          "year_of_publication": 2012
         },
         {
          "year_of_publication": 2015
         },
         {
          "year_of_publication": 2016
         },
         {
          "year_of_publication": 2013
         },
         {
          "year_of_publication": 2012
         },
         {
          "year_of_publication": 2016
         },
         {
          "year_of_publication": 2014
         },
         {
          "year_of_publication": 2015
         },
         {
          "year_of_publication": 2017
         },
         {
          "year_of_publication": 2012
         },
         {
          "year_of_publication": 2016
         },
         {
          "year_of_publication": 2014
         },
         {
          "year_of_publication": 2015
         },
         {
          "year_of_publication": 2015
         },
         {
          "year_of_publication": 2015
         },
         {
          "year_of_publication": 2015
         },
         {
          "year_of_publication": 2015
         },
         {
          "year_of_publication": 2015
         },
         {
          "year_of_publication": 2014
         },
         {
          "year_of_publication": 2014
         },
         {
          "year_of_publication": 2012
         },
         {
          "year_of_publication": 2015
         },
         {
          "year_of_publication": 2015
         },
         {
          "year_of_publication": 2015
         },
         {
          "year_of_publication": 2015
         },
         {
          "year_of_publication": 2016
         },
         {
          "year_of_publication": 2015
         },
         {
          "year_of_publication": 2014
         },
         {
          "year_of_publication": 2013
         },
         {
          "year_of_publication": 2014
         },
         {
          "year_of_publication": 2015
         },
         {
          "year_of_publication": 2012
         },
         {
          "year_of_publication": 2015
         },
         {
          "year_of_publication": 2013
         },
         {
          "year_of_publication": 2015
         },
         {
          "year_of_publication": 2013
         },
         {
          "year_of_publication": 2012
         },
         {
          "year_of_publication": 2014
         },
         {
          "year_of_publication": 2015
         },
         {
          "year_of_publication": 2016
         },
         {
          "year_of_publication": 2012
         },
         {
          "year_of_publication": 2016
         },
         {
          "year_of_publication": 2015
         },
         {
          "year_of_publication": 2013
         },
         {
          "year_of_publication": 2016
         },
         {
          "year_of_publication": 2013
         },
         {
          "year_of_publication": 2016
         },
         {
          "year_of_publication": 2014
         },
         {
          "year_of_publication": 2012
         },
         {
          "year_of_publication": 2014
         },
         {
          "year_of_publication": 2013
         },
         {
          "year_of_publication": 2013
         },
         {
          "year_of_publication": 2013
         },
         {
          "year_of_publication": 2015
         },
         {
          "year_of_publication": 2014
         },
         {
          "year_of_publication": 2012
         },
         {
          "year_of_publication": 2016
         },
         {
          "year_of_publication": 2015
         },
         {
          "year_of_publication": 2015
         },
         {
          "year_of_publication": 2016
         },
         {
          "year_of_publication": 2015
         },
         {
          "year_of_publication": 2017
         },
         {
          "year_of_publication": 2015
         },
         {
          "year_of_publication": 2014
         },
         {
          "year_of_publication": 2016
         },
         {
          "year_of_publication": 2014
         },
         {
          "year_of_publication": 2016
         },
         {
          "year_of_publication": 2016
         },
         {
          "year_of_publication": 2013
         },
         {
          "year_of_publication": 2015
         },
         {
          "year_of_publication": 2013
         },
         {
          "year_of_publication": 2014
         },
         {
          "year_of_publication": 2015
         },
         {
          "year_of_publication": 2013
         },
         {
          "year_of_publication": 2015
         },
         {
          "year_of_publication": 2016
         },
         {
          "year_of_publication": 2016
         },
         {
          "year_of_publication": 2016
         },
         {
          "year_of_publication": 2014
         },
         {
          "year_of_publication": 2015
         },
         {
          "year_of_publication": 2017
         },
         {
          "year_of_publication": 2016
         },
         {
          "year_of_publication": 2014
         },
         {
          "year_of_publication": 2014
         },
         {
          "year_of_publication": 2014
         },
         {
          "year_of_publication": 2013
         },
         {
          "year_of_publication": 2015
         },
         {
          "year_of_publication": 2015
         },
         {
          "year_of_publication": 2020
         },
         {
          "year_of_publication": 2015
         },
         {
          "year_of_publication": 2015
         },
         {
          "year_of_publication": 2013
         },
         {
          "year_of_publication": 2015
         },
         {
          "year_of_publication": 2013
         },
         {
          "year_of_publication": 2015
         },
         {
          "year_of_publication": 2015
         },
         {
          "year_of_publication": 2012
         },
         {
          "year_of_publication": 2015
         },
         {
          "year_of_publication": 2014
         },
         {
          "year_of_publication": 2012
         },
         {
          "year_of_publication": 2014
         },
         {
          "year_of_publication": 2015
         },
         {
          "year_of_publication": 2013
         },
         {
          "year_of_publication": 2014
         },
         {
          "year_of_publication": 2014
         },
         {
          "year_of_publication": 2015
         },
         {
          "year_of_publication": 2013
         },
         {
          "year_of_publication": 2014
         },
         {
          "year_of_publication": 2015
         },
         {
          "year_of_publication": 2013
         },
         {
          "year_of_publication": 2014
         },
         {
          "year_of_publication": 2016
         },
         {
          "year_of_publication": 2013
         },
         {
          "year_of_publication": 2015
         },
         {
          "year_of_publication": 2014
         },
         {
          "year_of_publication": 2016
         },
         {
          "year_of_publication": 2015
         },
         {
          "year_of_publication": 2014
         },
         {
          "year_of_publication": 2017
         },
         {
          "year_of_publication": 2016
         },
         {
          "year_of_publication": 2014
         },
         {
          "year_of_publication": 2017
         },
         {
          "year_of_publication": 2015
         },
         {
          "year_of_publication": 2012
         },
         {
          "year_of_publication": 2016
         },
         {
          "year_of_publication": 2015
         },
         {
          "year_of_publication": 2013
         },
         {
          "year_of_publication": 2013
         },
         {
          "year_of_publication": 2016
         },
         {
          "year_of_publication": 2015
         },
         {
          "year_of_publication": 2012
         },
         {
          "year_of_publication": 2017
         },
         {
          "year_of_publication": 2016
         },
         {
          "year_of_publication": 2016
         },
         {
          "year_of_publication": 2013
         },
         {
          "year_of_publication": 2014
         },
         {
          "year_of_publication": 2017
         },
         {
          "year_of_publication": 2014
         },
         {
          "year_of_publication": 2014
         },
         {
          "year_of_publication": 2015
         },
         {
          "year_of_publication": 2013
         },
         {
          "year_of_publication": 2015
         },
         {
          "year_of_publication": 2014
         },
         {
          "year_of_publication": 2014
         },
         {
          "year_of_publication": 2015
         },
         {
          "year_of_publication": 2014
         },
         {
          "year_of_publication": 2015
         },
         {
          "year_of_publication": 2013
         },
         {
          "year_of_publication": 2016
         },
         {
          "year_of_publication": 2013
         },
         {
          "year_of_publication": 2016
         },
         {
          "year_of_publication": 2015
         },
         {
          "year_of_publication": 2014
         },
         {
          "year_of_publication": 2014
         },
         {
          "year_of_publication": 2015
         },
         {
          "year_of_publication": 2014
         },
         {
          "year_of_publication": 2012
         },
         {
          "year_of_publication": 2015
         },
         {
          "year_of_publication": 2013
         },
         {
          "year_of_publication": 2012
         },
         {
          "year_of_publication": 2016
         },
         {
          "year_of_publication": 2014
         },
         {
          "year_of_publication": 2014
         },
         {
          "year_of_publication": 2015
         },
         {
          "year_of_publication": 2014
         },
         {
          "year_of_publication": 2015
         },
         {
          "year_of_publication": 2015
         },
         {
          "year_of_publication": 2015
         },
         {
          "year_of_publication": 2013
         },
         {
          "year_of_publication": 2017
         },
         {
          "year_of_publication": 2016
         },
         {
          "year_of_publication": 2016
         },
         {
          "year_of_publication": 2015
         },
         {
          "year_of_publication": 2012
         },
         {
          "year_of_publication": 2015
         },
         {
          "year_of_publication": 2017
         },
         {
          "year_of_publication": 2017
         },
         {
          "year_of_publication": 2012
         },
         {
          "year_of_publication": 2013
         },
         {
          "year_of_publication": 2018
         },
         {
          "year_of_publication": 2015
         },
         {
          "year_of_publication": 2014
         },
         {
          "year_of_publication": 2015
         },
         {
          "year_of_publication": 2016
         },
         {
          "year_of_publication": 2012
         },
         {
          "year_of_publication": 2013
         },
         {
          "year_of_publication": 2016
         },
         {
          "year_of_publication": 2013
         },
         {
          "year_of_publication": 2015
         },
         {
          "year_of_publication": 2015
         },
         {
          "year_of_publication": 2014
         },
         {
          "year_of_publication": 2015
         },
         {
          "year_of_publication": 2016
         },
         {
          "year_of_publication": 2013
         },
         {
          "year_of_publication": 2017
         },
         {
          "year_of_publication": 2013
         },
         {
          "year_of_publication": 2015
         },
         {
          "year_of_publication": 2016
         },
         {
          "year_of_publication": 2016
         },
         {
          "year_of_publication": 2016
         },
         {
          "year_of_publication": 2014
         },
         {
          "year_of_publication": 2014
         },
         {
          "year_of_publication": 2014
         },
         {
          "year_of_publication": 2014
         },
         {
          "year_of_publication": 2015
         },
         {
          "year_of_publication": 2015
         },
         {
          "year_of_publication": 2012
         },
         {
          "year_of_publication": 2017
         },
         {
          "year_of_publication": 2013
         },
         {
          "year_of_publication": 2014
         },
         {
          "year_of_publication": 2015
         },
         {
          "year_of_publication": 2014
         },
         {
          "year_of_publication": 2012
         },
         {
          "year_of_publication": 2017
         },
         {
          "year_of_publication": 2016
         },
         {
          "year_of_publication": 2016
         },
         {
          "year_of_publication": 2015
         },
         {
          "year_of_publication": 2016
         },
         {
          "year_of_publication": 2014
         },
         {
          "year_of_publication": 2014
         },
         {
          "year_of_publication": 2014
         },
         {
          "year_of_publication": 2015
         },
         {
          "year_of_publication": 2015
         },
         {
          "year_of_publication": 2013
         },
         {
          "year_of_publication": 2012
         },
         {
          "year_of_publication": 2015
         },
         {
          "year_of_publication": 2015
         },
         {
          "year_of_publication": 2013
         },
         {
          "year_of_publication": 2015
         },
         {
          "year_of_publication": 2015
         },
         {
          "year_of_publication": 2015
         },
         {
          "year_of_publication": 2017
         },
         {
          "year_of_publication": 2014
         },
         {
          "year_of_publication": 2015
         },
         {
          "year_of_publication": 2013
         },
         {
          "year_of_publication": 2012
         },
         {
          "year_of_publication": 2013
         },
         {
          "year_of_publication": 2017
         },
         {
          "year_of_publication": 2015
         },
         {
          "year_of_publication": 2014
         },
         {
          "year_of_publication": 2017
         },
         {
          "year_of_publication": 2015
         },
         {
          "year_of_publication": 2017
         },
         {
          "year_of_publication": 2013
         },
         {
          "year_of_publication": 2012
         },
         {
          "year_of_publication": 2012
         },
         {
          "year_of_publication": 2015
         },
         {
          "year_of_publication": 2016
         },
         {
          "year_of_publication": 2014
         },
         {
          "year_of_publication": 2013
         },
         {
          "year_of_publication": 2015
         },
         {
          "year_of_publication": 2014
         },
         {
          "year_of_publication": 2015
         },
         {
          "year_of_publication": 2012
         },
         {
          "year_of_publication": 2013
         },
         {
          "year_of_publication": 2015
         },
         {
          "year_of_publication": 2015
         },
         {
          "year_of_publication": 2016
         },
         {
          "year_of_publication": 2015
         },
         {
          "year_of_publication": 2014
         },
         {
          "year_of_publication": 2015
         },
         {
          "year_of_publication": 2015
         },
         {
          "year_of_publication": 2015
         },
         {
          "year_of_publication": 2016
         },
         {
          "year_of_publication": 2016
         },
         {
          "year_of_publication": 2013
         },
         {
          "year_of_publication": 2016
         },
         {
          "year_of_publication": 2015
         },
         {
          "year_of_publication": 2017
         },
         {
          "year_of_publication": 2014
         },
         {
          "year_of_publication": 2014
         },
         {
          "year_of_publication": 2014
         },
         {
          "year_of_publication": 2014
         },
         {
          "year_of_publication": 2012
         },
         {
          "year_of_publication": 2015
         },
         {
          "year_of_publication": 2014
         },
         {
          "year_of_publication": 2014
         },
         {
          "year_of_publication": 2014
         },
         {
          "year_of_publication": 2014
         },
         {
          "year_of_publication": 2015
         },
         {
          "year_of_publication": 2015
         },
         {
          "year_of_publication": 2014
         },
         {
          "year_of_publication": 2014
         },
         {
          "year_of_publication": 2022
         },
         {
          "year_of_publication": 2016
         },
         {
          "year_of_publication": 2015
         },
         {
          "year_of_publication": 2014
         },
         {
          "year_of_publication": 2014
         },
         {
          "year_of_publication": 2016
         },
         {
          "year_of_publication": 2016
         },
         {
          "year_of_publication": 2015
         },
         {
          "year_of_publication": 2014
         },
         {
          "year_of_publication": 2016
         },
         {
          "year_of_publication": 2014
         },
         {
          "year_of_publication": 2015
         },
         {
          "year_of_publication": 2015
         },
         {
          "year_of_publication": 2013
         },
         {
          "year_of_publication": 2014
         },
         {
          "year_of_publication": 2015
         },
         {
          "year_of_publication": 2012
         },
         {
          "year_of_publication": 2014
         },
         {
          "year_of_publication": 2016
         },
         {
          "year_of_publication": 2014
         },
         {
          "year_of_publication": 2015
         },
         {
          "year_of_publication": 2015
         },
         {
          "year_of_publication": 2017
         },
         {
          "year_of_publication": 2012
         },
         {
          "year_of_publication": 2014
         },
         {
          "year_of_publication": 2016
         },
         {
          "year_of_publication": 2014
         },
         {
          "year_of_publication": 2014
         },
         {
          "year_of_publication": 2014
         },
         {
          "year_of_publication": 2017
         },
         {
          "year_of_publication": 2013
         },
         {
          "year_of_publication": 2013
         },
         {
          "year_of_publication": 2014
         },
         {
          "year_of_publication": 2014
         },
         {
          "year_of_publication": 2013
         },
         {
          "year_of_publication": 2015
         },
         {
          "year_of_publication": 2013
         },
         {
          "year_of_publication": 2016
         },
         {
          "year_of_publication": 2015
         },
         {
          "year_of_publication": 2012
         },
         {
          "year_of_publication": 2015
         },
         {
          "year_of_publication": 2015
         },
         {
          "year_of_publication": 2014
         },
         {
          "year_of_publication": 2015
         },
         {
          "year_of_publication": 2015
         },
         {
          "year_of_publication": 2014
         },
         {
          "year_of_publication": 2014
         },
         {
          "year_of_publication": 2014
         },
         {
          "year_of_publication": 2013
         },
         {
          "year_of_publication": 2014
         },
         {
          "year_of_publication": 2014
         },
         {
          "year_of_publication": 2014
         },
         {
          "year_of_publication": 2015
         },
         {
          "year_of_publication": 2015
         },
         {
          "year_of_publication": 2014
         },
         {
          "year_of_publication": 2014
         },
         {
          "year_of_publication": 2013
         },
         {
          "year_of_publication": 2014
         },
         {
          "year_of_publication": 2013
         },
         {
          "year_of_publication": 2015
         },
         {
          "year_of_publication": 2015
         },
         {
          "year_of_publication": 2016
         },
         {
          "year_of_publication": 2013
         },
         {
          "year_of_publication": 2014
         },
         {
          "year_of_publication": 2015
         },
         {
          "year_of_publication": 2015
         },
         {
          "year_of_publication": 2015
         },
         {
          "year_of_publication": 2015
         },
         {
          "year_of_publication": 2013
         },
         {
          "year_of_publication": 2015
         },
         {
          "year_of_publication": 2012
         },
         {
          "year_of_publication": 2016
         },
         {
          "year_of_publication": 2012
         },
         {
          "year_of_publication": 2012
         },
         {
          "year_of_publication": 2014
         },
         {
          "year_of_publication": 2016
         },
         {
          "year_of_publication": 2015
         },
         {
          "year_of_publication": 2015
         },
         {
          "year_of_publication": 2015
         },
         {
          "year_of_publication": 2016
         },
         {
          "year_of_publication": 2016
         },
         {
          "year_of_publication": 2013
         },
         {
          "year_of_publication": 2017
         },
         {
          "year_of_publication": 2014
         },
         {
          "year_of_publication": 2012
         },
         {
          "year_of_publication": 2015
         },
         {
          "year_of_publication": 2015
         },
         {
          "year_of_publication": 2012
         },
         {
          "year_of_publication": 2014
         },
         {
          "year_of_publication": 2014
         },
         {
          "year_of_publication": 2015
         },
         {
          "year_of_publication": 2015
         },
         {
          "year_of_publication": 2016
         },
         {
          "year_of_publication": 2014
         },
         {
          "year_of_publication": 2012
         },
         {
          "year_of_publication": 2015
         },
         {
          "year_of_publication": 2014
         },
         {
          "year_of_publication": 2014
         },
         {
          "year_of_publication": 2014
         },
         {
          "year_of_publication": 2013
         },
         {
          "year_of_publication": 2012
         },
         {
          "year_of_publication": 2015
         },
         {
          "year_of_publication": 2017
         },
         {
          "year_of_publication": 2014
         },
         {
          "year_of_publication": 2015
         },
         {
          "year_of_publication": 2014
         },
         {
          "year_of_publication": 2012
         },
         {
          "year_of_publication": 2013
         },
         {
          "year_of_publication": 2016
         },
         {
          "year_of_publication": 2015
         },
         {
          "year_of_publication": 2017
         },
         {
          "year_of_publication": 2015
         },
         {
          "year_of_publication": 2015
         },
         {
          "year_of_publication": 2012
         },
         {
          "year_of_publication": 2014
         },
         {
          "year_of_publication": 2015
         },
         {
          "year_of_publication": 2015
         },
         {
          "year_of_publication": 2012
         },
         {
          "year_of_publication": 2014
         },
         {
          "year_of_publication": 2016
         },
         {
          "year_of_publication": 2015
         },
         {
          "year_of_publication": 2012
         },
         {
          "year_of_publication": 2017
         },
         {
          "year_of_publication": 2014
         },
         {
          "year_of_publication": 2015
         },
         {
          "year_of_publication": 2013
         },
         {
          "year_of_publication": 2015
         },
         {
          "year_of_publication": 2015
         },
         {
          "year_of_publication": 2014
         },
         {
          "year_of_publication": 2015
         },
         {
          "year_of_publication": 2015
         },
         {
          "year_of_publication": 2016
         },
         {
          "year_of_publication": 2021
         },
         {
          "year_of_publication": 2013
         },
         {
          "year_of_publication": 2013
         },
         {
          "year_of_publication": 2016
         },
         {
          "year_of_publication": 2015
         },
         {
          "year_of_publication": 2016
         },
         {
          "year_of_publication": 2014
         },
         {
          "year_of_publication": 2012
         },
         {
          "year_of_publication": 2015
         },
         {
          "year_of_publication": 2016
         },
         {
          "year_of_publication": 2016
         },
         {
          "year_of_publication": 2015
         },
         {
          "year_of_publication": 2014
         },
         {
          "year_of_publication": 2014
         },
         {
          "year_of_publication": 2014
         },
         {
          "year_of_publication": 2013
         },
         {
          "year_of_publication": 2017
         },
         {
          "year_of_publication": 2017
         },
         {
          "year_of_publication": 2012
         },
         {
          "year_of_publication": 2015
         },
         {
          "year_of_publication": 2016
         },
         {
          "year_of_publication": 2015
         },
         {
          "year_of_publication": 2016
         },
         {
          "year_of_publication": 2015
         },
         {
          "year_of_publication": 2013
         },
         {
          "year_of_publication": 2013
         },
         {
          "year_of_publication": 2015
         },
         {
          "year_of_publication": 2012
         },
         {
          "year_of_publication": 2016
         },
         {
          "year_of_publication": 2013
         },
         {
          "year_of_publication": 2014
         },
         {
          "year_of_publication": 2015
         },
         {
          "year_of_publication": 2012
         },
         {
          "year_of_publication": 2013
         },
         {
          "year_of_publication": 2014
         },
         {
          "year_of_publication": 2015
         },
         {
          "year_of_publication": 2012
         },
         {
          "year_of_publication": 2012
         },
         {
          "year_of_publication": 2013
         },
         {
          "year_of_publication": 2015
         },
         {
          "year_of_publication": 2013
         },
         {
          "year_of_publication": 2015
         },
         {
          "year_of_publication": 2014
         },
         {
          "year_of_publication": 2015
         },
         {
          "year_of_publication": 2015
         },
         {
          "year_of_publication": 2016
         },
         {
          "year_of_publication": 2016
         },
         {
          "year_of_publication": 2017
         },
         {
          "year_of_publication": 2012
         },
         {
          "year_of_publication": 2013
         },
         {
          "year_of_publication": 2015
         },
         {
          "year_of_publication": 2015
         },
         {
          "year_of_publication": 2013
         },
         {
          "year_of_publication": 2013
         },
         {
          "year_of_publication": 2016
         },
         {
          "year_of_publication": 2016
         },
         {
          "year_of_publication": 2013
         },
         {
          "year_of_publication": 2012
         },
         {
          "year_of_publication": 2014
         },
         {
          "year_of_publication": 2014
         },
         {
          "year_of_publication": 2016
         },
         {
          "year_of_publication": 2013
         },
         {
          "year_of_publication": 2015
         },
         {
          "year_of_publication": 2015
         },
         {
          "year_of_publication": 2012
         },
         {
          "year_of_publication": 2017
         },
         {
          "year_of_publication": 2015
         },
         {
          "year_of_publication": 2014
         },
         {
          "year_of_publication": 2014
         },
         {
          "year_of_publication": 2013
         },
         {
          "year_of_publication": 2014
         },
         {
          "year_of_publication": 2014
         },
         {
          "year_of_publication": 2015
         },
         {
          "year_of_publication": 2016
         },
         {
          "year_of_publication": 2015
         },
         {
          "year_of_publication": 2012
         },
         {
          "year_of_publication": 2013
         },
         {
          "year_of_publication": 2017
         },
         {
          "year_of_publication": 2016
         },
         {
          "year_of_publication": 2014
         },
         {
          "year_of_publication": 2015
         },
         {
          "year_of_publication": 2015
         },
         {
          "year_of_publication": 2016
         },
         {
          "year_of_publication": 2017
         },
         {
          "year_of_publication": 2013
         },
         {
          "year_of_publication": 2015
         },
         {
          "year_of_publication": 2014
         },
         {
          "year_of_publication": 2014
         },
         {
          "year_of_publication": 2015
         },
         {
          "year_of_publication": 2016
         },
         {
          "year_of_publication": 2012
         },
         {
          "year_of_publication": 2016
         },
         {
          "year_of_publication": 2015
         },
         {
          "year_of_publication": 2016
         },
         {
          "year_of_publication": 2012
         },
         {
          "year_of_publication": 2014
         },
         {
          "year_of_publication": 2015
         },
         {
          "year_of_publication": 2014
         },
         {
          "year_of_publication": 2015
         },
         {
          "year_of_publication": 2014
         },
         {
          "year_of_publication": 2015
         },
         {
          "year_of_publication": 2014
         },
         {
          "year_of_publication": 2015
         },
         {
          "year_of_publication": 2016
         },
         {
          "year_of_publication": 2016
         },
         {
          "year_of_publication": 2014
         },
         {
          "year_of_publication": 2014
         },
         {
          "year_of_publication": 2013
         },
         {
          "year_of_publication": 2013
         },
         {
          "year_of_publication": 2012
         },
         {
          "year_of_publication": 2015
         },
         {
          "year_of_publication": 2016
         },
         {
          "year_of_publication": 2012
         },
         {
          "year_of_publication": 2018
         },
         {
          "year_of_publication": 2016
         },
         {
          "year_of_publication": 2016
         },
         {
          "year_of_publication": 2015
         },
         {
          "year_of_publication": 2013
         },
         {
          "year_of_publication": 2017
         },
         {
          "year_of_publication": 2013
         },
         {
          "year_of_publication": 2016
         },
         {
          "year_of_publication": 2015
         },
         {
          "year_of_publication": 2015
         },
         {
          "year_of_publication": 2015
         },
         {
          "year_of_publication": 2014
         },
         {
          "year_of_publication": 2014
         },
         {
          "year_of_publication": 2015
         },
         {
          "year_of_publication": 2012
         },
         {
          "year_of_publication": 2014
         },
         {
          "year_of_publication": 2014
         },
         {
          "year_of_publication": 2014
         },
         {
          "year_of_publication": 2015
         },
         {
          "year_of_publication": 2014
         },
         {
          "year_of_publication": 2016
         },
         {
          "year_of_publication": 2016
         },
         {
          "year_of_publication": 2016
         },
         {
          "year_of_publication": 2016
         },
         {
          "year_of_publication": 2014
         },
         {
          "year_of_publication": 2013
         },
         {
          "year_of_publication": 2012
         },
         {
          "year_of_publication": 2017
         },
         {
          "year_of_publication": 2013
         },
         {
          "year_of_publication": 2016
         },
         {
          "year_of_publication": 2015
         },
         {
          "year_of_publication": 2012
         },
         {
          "year_of_publication": 2014
         },
         {
          "year_of_publication": 2013
         },
         {
          "year_of_publication": 2014
         },
         {
          "year_of_publication": 2014
         },
         {
          "year_of_publication": 2014
         },
         {
          "year_of_publication": 2014
         },
         {
          "year_of_publication": 2013
         },
         {
          "year_of_publication": 2014
         },
         {
          "year_of_publication": 2013
         },
         {
          "year_of_publication": 2013
         },
         {
          "year_of_publication": 2014
         },
         {
          "year_of_publication": 2015
         },
         {
          "year_of_publication": 2015
         },
         {
          "year_of_publication": 2017
         },
         {
          "year_of_publication": 2017
         },
         {
          "year_of_publication": 2012
         },
         {
          "year_of_publication": 2017
         },
         {
          "year_of_publication": 2014
         },
         {
          "year_of_publication": 2016
         },
         {
          "year_of_publication": 2013
         },
         {
          "year_of_publication": 2015
         },
         {
          "year_of_publication": 2014
         },
         {
          "year_of_publication": 2015
         },
         {
          "year_of_publication": 2015
         },
         {
          "year_of_publication": 2015
         },
         {
          "year_of_publication": 2015
         },
         {
          "year_of_publication": 2016
         },
         {
          "year_of_publication": 2013
         },
         {
          "year_of_publication": 2012
         },
         {
          "year_of_publication": 2015
         },
         {
          "year_of_publication": 2014
         },
         {
          "year_of_publication": 2015
         },
         {
          "year_of_publication": 2013
         },
         {
          "year_of_publication": 2015
         },
         {
          "year_of_publication": 2013
         },
         {
          "year_of_publication": 2013
         },
         {
          "year_of_publication": 2015
         },
         {
          "year_of_publication": 2015
         },
         {
          "year_of_publication": 2017
         },
         {
          "year_of_publication": 2016
         },
         {
          "year_of_publication": 2015
         },
         {
          "year_of_publication": 2014
         },
         {
          "year_of_publication": 2016
         },
         {
          "year_of_publication": 2014
         },
         {
          "year_of_publication": 2014
         },
         {
          "year_of_publication": 2016
         },
         {
          "year_of_publication": 2014
         },
         {
          "year_of_publication": 2012
         },
         {
          "year_of_publication": 2016
         },
         {
          "year_of_publication": 2016
         },
         {
          "year_of_publication": 2014
         },
         {
          "year_of_publication": 2015
         },
         {
          "year_of_publication": 2014
         },
         {
          "year_of_publication": 2014
         },
         {
          "year_of_publication": 2014
         },
         {
          "year_of_publication": 2014
         },
         {
          "year_of_publication": 2015
         },
         {
          "year_of_publication": 2016
         },
         {
          "year_of_publication": 2015
         },
         {
          "year_of_publication": 2017
         },
         {
          "year_of_publication": 2013
         },
         {
          "year_of_publication": 2014
         },
         {
          "year_of_publication": 2015
         },
         {
          "year_of_publication": 2016
         },
         {
          "year_of_publication": 2016
         },
         {
          "year_of_publication": 2017
         },
         {
          "year_of_publication": 2015
         },
         {
          "year_of_publication": 2016
         },
         {
          "year_of_publication": 2016
         },
         {
          "year_of_publication": 2015
         },
         {
          "year_of_publication": 2016
         },
         {
          "year_of_publication": 2016
         },
         {
          "year_of_publication": 2012
         },
         {
          "year_of_publication": 2014
         },
         {
          "year_of_publication": 2012
         },
         {
          "year_of_publication": 2014
         },
         {
          "year_of_publication": 2016
         },
         {
          "year_of_publication": 2015
         },
         {
          "year_of_publication": 2016
         },
         {
          "year_of_publication": 2014
         },
         {
          "year_of_publication": 2013
         },
         {
          "year_of_publication": 2015
         },
         {
          "year_of_publication": 2014
         },
         {
          "year_of_publication": 2014
         },
         {
          "year_of_publication": 2015
         },
         {
          "year_of_publication": 2013
         },
         {
          "year_of_publication": 2015
         },
         {
          "year_of_publication": 2013
         },
         {
          "year_of_publication": 2015
         },
         {
          "year_of_publication": 2012
         },
         {
          "year_of_publication": 2016
         },
         {
          "year_of_publication": 2014
         },
         {
          "year_of_publication": 2014
         },
         {
          "year_of_publication": 2012
         },
         {
          "year_of_publication": 2016
         },
         {
          "year_of_publication": 2014
         },
         {
          "year_of_publication": 2014
         },
         {
          "year_of_publication": 2012
         },
         {
          "year_of_publication": 2014
         },
         {
          "year_of_publication": 2014
         },
         {
          "year_of_publication": 2015
         },
         {
          "year_of_publication": 2013
         },
         {
          "year_of_publication": 2014
         },
         {
          "year_of_publication": 2017
         },
         {
          "year_of_publication": 2015
         },
         {
          "year_of_publication": 2014
         },
         {
          "year_of_publication": 2015
         },
         {
          "year_of_publication": 2015
         },
         {
          "year_of_publication": 2015
         },
         {
          "year_of_publication": 2016
         },
         {
          "year_of_publication": 2014
         },
         {
          "year_of_publication": 2015
         },
         {
          "year_of_publication": 2012
         },
         {
          "year_of_publication": 2012
         },
         {
          "year_of_publication": 2015
         },
         {
          "year_of_publication": 2013
         },
         {
          "year_of_publication": 2017
         },
         {
          "year_of_publication": 2013
         },
         {
          "year_of_publication": 2014
         },
         {
          "year_of_publication": 2013
         },
         {
          "year_of_publication": 2015
         },
         {
          "year_of_publication": 2014
         },
         {
          "year_of_publication": 2014
         },
         {
          "year_of_publication": 2015
         },
         {
          "year_of_publication": 2014
         },
         {
          "year_of_publication": 2016
         },
         {
          "year_of_publication": 2015
         },
         {
          "year_of_publication": 2017
         },
         {
          "year_of_publication": 2012
         },
         {
          "year_of_publication": 2014
         },
         {
          "year_of_publication": 2016
         },
         {
          "year_of_publication": 2017
         },
         {
          "year_of_publication": 2015
         },
         {
          "year_of_publication": 2015
         },
         {
          "year_of_publication": 2015
         },
         {
          "year_of_publication": 2014
         },
         {
          "year_of_publication": 2017
         },
         {
          "year_of_publication": 2015
         },
         {
          "year_of_publication": 2014
         },
         {
          "year_of_publication": 2014
         },
         {
          "year_of_publication": 2015
         },
         {
          "year_of_publication": 2013
         },
         {
          "year_of_publication": 2014
         },
         {
          "year_of_publication": 2012
         },
         {
          "year_of_publication": 2014
         },
         {
          "year_of_publication": 2016
         },
         {
          "year_of_publication": 2012
         },
         {
          "year_of_publication": 2012
         },
         {
          "year_of_publication": 2012
         },
         {
          "year_of_publication": 2018
         },
         {
          "year_of_publication": 2014
         },
         {
          "year_of_publication": 2015
         },
         {
          "year_of_publication": 2015
         },
         {
          "year_of_publication": 2012
         },
         {
          "year_of_publication": 2016
         },
         {
          "year_of_publication": 2015
         },
         {
          "year_of_publication": 2014
         },
         {
          "year_of_publication": 2015
         },
         {
          "year_of_publication": 2012
         },
         {
          "year_of_publication": 2016
         },
         {
          "year_of_publication": 2016
         },
         {
          "year_of_publication": 2015
         },
         {
          "year_of_publication": 2017
         },
         {
          "year_of_publication": 2016
         },
         {
          "year_of_publication": 2016
         },
         {
          "year_of_publication": 2014
         },
         {
          "year_of_publication": 2016
         },
         {
          "year_of_publication": 2016
         },
         {
          "year_of_publication": 2014
         },
         {
          "year_of_publication": 2015
         },
         {
          "year_of_publication": 2012
         },
         {
          "year_of_publication": 2014
         },
         {
          "year_of_publication": 2013
         },
         {
          "year_of_publication": 2014
         },
         {
          "year_of_publication": 2017
         },
         {
          "year_of_publication": 2017
         },
         {
          "year_of_publication": 2018
         },
         {
          "year_of_publication": 2012
         },
         {
          "year_of_publication": 2014
         },
         {
          "year_of_publication": 2016
         },
         {
          "year_of_publication": 2013
         },
         {
          "year_of_publication": 2013
         },
         {
          "year_of_publication": 2016
         },
         {
          "year_of_publication": 2012
         },
         {
          "year_of_publication": 2015
         },
         {
          "year_of_publication": 2016
         },
         {
          "year_of_publication": 2015
         },
         {
          "year_of_publication": 2015
         },
         {
          "year_of_publication": 2015
         },
         {
          "year_of_publication": 2015
         },
         {
          "year_of_publication": 2017
         },
         {
          "year_of_publication": 2013
         },
         {
          "year_of_publication": 2017
         },
         {
          "year_of_publication": 2014
         },
         {
          "year_of_publication": 2016
         },
         {
          "year_of_publication": 2013
         },
         {
          "year_of_publication": 2015
         },
         {
          "year_of_publication": 2015
         },
         {
          "year_of_publication": 2017
         },
         {
          "year_of_publication": 2014
         },
         {
          "year_of_publication": 2015
         },
         {
          "year_of_publication": 2015
         },
         {
          "year_of_publication": 2014
         },
         {
          "year_of_publication": 2014
         },
         {
          "year_of_publication": 2017
         },
         {
          "year_of_publication": 2016
         },
         {
          "year_of_publication": 2013
         },
         {
          "year_of_publication": 2015
         },
         {
          "year_of_publication": 2013
         },
         {
          "year_of_publication": 2014
         },
         {
          "year_of_publication": 2018
         },
         {
          "year_of_publication": 2012
         },
         {
          "year_of_publication": 2013
         },
         {
          "year_of_publication": 2014
         },
         {
          "year_of_publication": 2014
         },
         {
          "year_of_publication": 2014
         },
         {
          "year_of_publication": 2015
         },
         {
          "year_of_publication": 2014
         },
         {
          "year_of_publication": 2015
         },
         {
          "year_of_publication": 2015
         },
         {
          "year_of_publication": 2013
         },
         {
          "year_of_publication": 2013
         },
         {
          "year_of_publication": 2014
         },
         {
          "year_of_publication": 2014
         },
         {
          "year_of_publication": 2013
         },
         {
          "year_of_publication": 2014
         },
         {
          "year_of_publication": 2012
         },
         {
          "year_of_publication": 2017
         },
         {
          "year_of_publication": 2014
         },
         {
          "year_of_publication": 2014
         },
         {
          "year_of_publication": 2012
         },
         {
          "year_of_publication": 2017
         },
         {
          "year_of_publication": 2016
         },
         {
          "year_of_publication": 2012
         },
         {
          "year_of_publication": 2013
         },
         {
          "year_of_publication": 2016
         },
         {
          "year_of_publication": 2014
         },
         {
          "year_of_publication": 2015
         },
         {
          "year_of_publication": 2013
         },
         {
          "year_of_publication": 2015
         },
         {
          "year_of_publication": 2014
         },
         {
          "year_of_publication": 2015
         },
         {
          "year_of_publication": 2014
         },
         {
          "year_of_publication": 2012
         },
         {
          "year_of_publication": 2012
         },
         {
          "year_of_publication": 2016
         },
         {
          "year_of_publication": 2015
         },
         {
          "year_of_publication": 2017
         },
         {
          "year_of_publication": 2016
         },
         {
          "year_of_publication": 2013
         },
         {
          "year_of_publication": 2014
         },
         {
          "year_of_publication": 2012
         },
         {
          "year_of_publication": 2013
         },
         {
          "year_of_publication": 2017
         },
         {
          "year_of_publication": 2016
         },
         {
          "year_of_publication": 2015
         },
         {
          "year_of_publication": 2016
         },
         {
          "year_of_publication": 2014
         },
         {
          "year_of_publication": 2015
         },
         {
          "year_of_publication": 2014
         },
         {
          "year_of_publication": 2012
         },
         {
          "year_of_publication": 2015
         },
         {
          "year_of_publication": 2016
         },
         {
          "year_of_publication": 2016
         },
         {
          "year_of_publication": 2014
         },
         {
          "year_of_publication": 2015
         },
         {
          "year_of_publication": 2014
         },
         {
          "year_of_publication": 2012
         },
         {
          "year_of_publication": 2013
         },
         {
          "year_of_publication": 2014
         },
         {
          "year_of_publication": 2015
         },
         {
          "year_of_publication": 2017
         },
         {
          "year_of_publication": 2015
         },
         {
          "year_of_publication": 2016
         },
         {
          "year_of_publication": 2016
         },
         {
          "year_of_publication": 2015
         },
         {
          "year_of_publication": 2015
         },
         {
          "year_of_publication": 2014
         },
         {
          "year_of_publication": 2017
         },
         {
          "year_of_publication": 2013
         },
         {
          "year_of_publication": 2014
         },
         {
          "year_of_publication": 2014
         },
         {
          "year_of_publication": 2012
         },
         {
          "year_of_publication": 2014
         },
         {
          "year_of_publication": 2015
         },
         {
          "year_of_publication": 2018
         },
         {
          "year_of_publication": 2016
         },
         {
          "year_of_publication": 2016
         },
         {
          "year_of_publication": 2013
         },
         {
          "year_of_publication": 2015
         },
         {
          "year_of_publication": 2015
         },
         {
          "year_of_publication": 2015
         },
         {
          "year_of_publication": 2015
         },
         {
          "year_of_publication": 2014
         },
         {
          "year_of_publication": 2016
         },
         {
          "year_of_publication": 2015
         },
         {
          "year_of_publication": 2015
         },
         {
          "year_of_publication": 2014
         },
         {
          "year_of_publication": 2014
         },
         {
          "year_of_publication": 2017
         },
         {
          "year_of_publication": 2014
         },
         {
          "year_of_publication": 2014
         },
         {
          "year_of_publication": 2013
         },
         {
          "year_of_publication": 2013
         },
         {
          "year_of_publication": 2014
         },
         {
          "year_of_publication": 2014
         },
         {
          "year_of_publication": 2012
         },
         {
          "year_of_publication": 2013
         },
         {
          "year_of_publication": 2016
         },
         {
          "year_of_publication": 2013
         },
         {
          "year_of_publication": 2013
         },
         {
          "year_of_publication": 2014
         },
         {
          "year_of_publication": 2018
         },
         {
          "year_of_publication": 2016
         },
         {
          "year_of_publication": 2013
         },
         {
          "year_of_publication": 2017
         },
         {
          "year_of_publication": 2013
         },
         {
          "year_of_publication": 2012
         },
         {
          "year_of_publication": 2012
         },
         {
          "year_of_publication": 2014
         },
         {
          "year_of_publication": 2016
         },
         {
          "year_of_publication": 2015
         },
         {
          "year_of_publication": 2017
         },
         {
          "year_of_publication": 2014
         },
         {
          "year_of_publication": 2016
         },
         {
          "year_of_publication": 2014
         },
         {
          "year_of_publication": 2016
         },
         {
          "year_of_publication": 2013
         },
         {
          "year_of_publication": 2016
         },
         {
          "year_of_publication": 2015
         },
         {
          "year_of_publication": 2014
         },
         {
          "year_of_publication": 2013
         },
         {
          "year_of_publication": 2014
         },
         {
          "year_of_publication": 2012
         },
         {
          "year_of_publication": 2012
         },
         {
          "year_of_publication": 2013
         },
         {
          "year_of_publication": 2014
         },
         {
          "year_of_publication": 2013
         },
         {
          "year_of_publication": 2015
         },
         {
          "year_of_publication": 2014
         },
         {
          "year_of_publication": 2013
         },
         {
          "year_of_publication": 2014
         },
         {
          "year_of_publication": 2015
         },
         {
          "year_of_publication": 2015
         },
         {
          "year_of_publication": 2015
         },
         {
          "year_of_publication": 2016
         },
         {
          "year_of_publication": 2016
         },
         {
          "year_of_publication": 2015
         },
         {
          "year_of_publication": 2017
         },
         {
          "year_of_publication": 2012
         },
         {
          "year_of_publication": 2015
         },
         {
          "year_of_publication": 2015
         },
         {
          "year_of_publication": 2015
         },
         {
          "year_of_publication": 2017
         },
         {
          "year_of_publication": 2018
         },
         {
          "year_of_publication": 2013
         },
         {
          "year_of_publication": 2015
         },
         {
          "year_of_publication": 2016
         },
         {
          "year_of_publication": 2016
         },
         {
          "year_of_publication": 2014
         },
         {
          "year_of_publication": 2015
         },
         {
          "year_of_publication": 2015
         },
         {
          "year_of_publication": 2016
         },
         {
          "year_of_publication": 2014
         },
         {
          "year_of_publication": 2015
         },
         {
          "year_of_publication": 2013
         },
         {
          "year_of_publication": 2012
         },
         {
          "year_of_publication": 2014
         },
         {
          "year_of_publication": 2014
         },
         {
          "year_of_publication": 2012
         },
         {
          "year_of_publication": 2015
         },
         {
          "year_of_publication": 2016
         },
         {
          "year_of_publication": 2016
         },
         {
          "year_of_publication": 2015
         },
         {
          "year_of_publication": 2016
         },
         {
          "year_of_publication": 2013
         },
         {
          "year_of_publication": 2016
         },
         {
          "year_of_publication": 2014
         },
         {
          "year_of_publication": 2013
         },
         {
          "year_of_publication": 2015
         },
         {
          "year_of_publication": 2016
         },
         {
          "year_of_publication": 2013
         },
         {
          "year_of_publication": 2013
         },
         {
          "year_of_publication": 2013
         },
         {
          "year_of_publication": 2015
         },
         {
          "year_of_publication": 2017
         },
         {
          "year_of_publication": 2016
         },
         {
          "year_of_publication": 2015
         },
         {
          "year_of_publication": 2014
         },
         {
          "year_of_publication": 2014
         },
         {
          "year_of_publication": 2012
         },
         {
          "year_of_publication": 2012
         },
         {
          "year_of_publication": 2014
         },
         {
          "year_of_publication": 2016
         },
         {
          "year_of_publication": 2012
         },
         {
          "year_of_publication": 2013
         },
         {
          "year_of_publication": 2015
         },
         {
          "year_of_publication": 2016
         },
         {
          "year_of_publication": 2016
         },
         {
          "year_of_publication": 2012
         },
         {
          "year_of_publication": 2013
         },
         {
          "year_of_publication": 2014
         },
         {
          "year_of_publication": 2016
         },
         {
          "year_of_publication": 2017
         },
         {
          "year_of_publication": 2016
         },
         {
          "year_of_publication": 2015
         },
         {
          "year_of_publication": 2015
         },
         {
          "year_of_publication": 2015
         },
         {
          "year_of_publication": 2014
         },
         {
          "year_of_publication": 2015
         },
         {
          "year_of_publication": 2015
         },
         {
          "year_of_publication": 2013
         },
         {
          "year_of_publication": 2014
         },
         {
          "year_of_publication": 2014
         },
         {
          "year_of_publication": 2016
         },
         {
          "year_of_publication": 2015
         },
         {
          "year_of_publication": 2014
         },
         {
          "year_of_publication": 2013
         },
         {
          "year_of_publication": 2018
         },
         {
          "year_of_publication": 2013
         },
         {
          "year_of_publication": 2016
         },
         {
          "year_of_publication": 2015
         },
         {
          "year_of_publication": 2013
         },
         {
          "year_of_publication": 2014
         },
         {
          "year_of_publication": 2014
         },
         {
          "year_of_publication": 2013
         },
         {
          "year_of_publication": 2016
         },
         {
          "year_of_publication": 2015
         },
         {
          "year_of_publication": 2016
         },
         {
          "year_of_publication": 2014
         },
         {
          "year_of_publication": 2014
         },
         {
          "year_of_publication": 2014
         },
         {
          "year_of_publication": 2014
         },
         {
          "year_of_publication": 2013
         },
         {
          "year_of_publication": 2012
         },
         {
          "year_of_publication": 2016
         },
         {
          "year_of_publication": 2014
         },
         {
          "year_of_publication": 2017
         },
         {
          "year_of_publication": 2017
         },
         {
          "year_of_publication": 2012
         },
         {
          "year_of_publication": 2015
         },
         {
          "year_of_publication": 2015
         },
         {
          "year_of_publication": 2012
         },
         {
          "year_of_publication": 2014
         },
         {
          "year_of_publication": 2013
         },
         {
          "year_of_publication": 2015
         },
         {
          "year_of_publication": 2013
         },
         {
          "year_of_publication": 2015
         },
         {
          "year_of_publication": 2015
         },
         {
          "year_of_publication": 2013
         },
         {
          "year_of_publication": 2015
         },
         {
          "year_of_publication": 2014
         },
         {
          "year_of_publication": 2016
         },
         {
          "year_of_publication": 2015
         },
         {
          "year_of_publication": 2015
         },
         {
          "year_of_publication": 2013
         },
         {
          "year_of_publication": 2022
         },
         {
          "year_of_publication": 2017
         },
         {
          "year_of_publication": 2015
         },
         {
          "year_of_publication": 2015
         },
         {
          "year_of_publication": 2014
         },
         {
          "year_of_publication": 2015
         },
         {
          "year_of_publication": 2015
         },
         {
          "year_of_publication": 2015
         },
         {
          "year_of_publication": 2017
         },
         {
          "year_of_publication": 2013
         },
         {
          "year_of_publication": 2013
         },
         {
          "year_of_publication": 2014
         },
         {
          "year_of_publication": 2018
         },
         {
          "year_of_publication": 2012
         },
         {
          "year_of_publication": 2014
         },
         {
          "year_of_publication": 2014
         },
         {
          "year_of_publication": 2014
         },
         {
          "year_of_publication": 2014
         },
         {
          "year_of_publication": 2016
         },
         {
          "year_of_publication": 2014
         },
         {
          "year_of_publication": 2012
         },
         {
          "year_of_publication": 2016
         },
         {
          "year_of_publication": 2015
         },
         {
          "year_of_publication": 2016
         },
         {
          "year_of_publication": 2014
         },
         {
          "year_of_publication": 2014
         },
         {
          "year_of_publication": 2013
         },
         {
          "year_of_publication": 2014
         },
         {
          "year_of_publication": 2015
         },
         {
          "year_of_publication": 2012
         },
         {
          "year_of_publication": 2016
         },
         {
          "year_of_publication": 2012
         },
         {
          "year_of_publication": 2016
         },
         {
          "year_of_publication": 2012
         },
         {
          "year_of_publication": 2014
         },
         {
          "year_of_publication": 2014
         },
         {
          "year_of_publication": 2014
         },
         {
          "year_of_publication": 2012
         },
         {
          "year_of_publication": 2014
         },
         {
          "year_of_publication": 2014
         },
         {
          "year_of_publication": 2015
         },
         {
          "year_of_publication": 2017
         },
         {
          "year_of_publication": 2014
         },
         {
          "year_of_publication": 2013
         },
         {
          "year_of_publication": 2016
         },
         {
          "year_of_publication": 2012
         },
         {
          "year_of_publication": 2014
         },
         {
          "year_of_publication": 2013
         },
         {
          "year_of_publication": 2013
         },
         {
          "year_of_publication": 2015
         },
         {
          "year_of_publication": 2015
         },
         {
          "year_of_publication": 2012
         },
         {
          "year_of_publication": 2013
         },
         {
          "year_of_publication": 2014
         },
         {
          "year_of_publication": 2015
         },
         {
          "year_of_publication": 2012
         },
         {
          "year_of_publication": 2016
         },
         {
          "year_of_publication": 2015
         },
         {
          "year_of_publication": 2013
         },
         {
          "year_of_publication": 2013
         },
         {
          "year_of_publication": 2017
         },
         {
          "year_of_publication": 2015
         },
         {
          "year_of_publication": 2015
         },
         {
          "year_of_publication": 2016
         },
         {
          "year_of_publication": 2015
         },
         {
          "year_of_publication": 2012
         },
         {
          "year_of_publication": 2015
         },
         {
          "year_of_publication": 2012
         },
         {
          "year_of_publication": 2015
         },
         {
          "year_of_publication": 2012
         },
         {
          "year_of_publication": 2014
         },
         {
          "year_of_publication": 2013
         },
         {
          "year_of_publication": 2015
         },
         {
          "year_of_publication": 2015
         },
         {
          "year_of_publication": 2016
         },
         {
          "year_of_publication": 2015
         },
         {
          "year_of_publication": 2016
         },
         {
          "year_of_publication": 2014
         },
         {
          "year_of_publication": 2015
         },
         {
          "year_of_publication": 2013
         },
         {
          "year_of_publication": 2013
         },
         {
          "year_of_publication": 2015
         },
         {
          "year_of_publication": 2012
         },
         {
          "year_of_publication": 2013
         },
         {
          "year_of_publication": 2016
         },
         {
          "year_of_publication": 2012
         },
         {
          "year_of_publication": 2013
         },
         {
          "year_of_publication": 2014
         },
         {
          "year_of_publication": 2013
         },
         {
          "year_of_publication": 2015
         },
         {
          "year_of_publication": 2016
         },
         {
          "year_of_publication": 2013
         },
         {
          "year_of_publication": 2015
         },
         {
          "year_of_publication": 2016
         },
         {
          "year_of_publication": 2013
         },
         {
          "year_of_publication": 2013
         },
         {
          "year_of_publication": 2015
         },
         {
          "year_of_publication": 2017
         },
         {
          "year_of_publication": 2014
         },
         {
          "year_of_publication": 2015
         },
         {
          "year_of_publication": 2016
         },
         {
          "year_of_publication": 2013
         },
         {
          "year_of_publication": 2015
         },
         {
          "year_of_publication": 2015
         },
         {
          "year_of_publication": 2017
         },
         {
          "year_of_publication": 2018
         },
         {
          "year_of_publication": 2017
         },
         {
          "year_of_publication": 2018
         },
         {
          "year_of_publication": 2014
         },
         {
          "year_of_publication": 2014
         },
         {
          "year_of_publication": 2013
         },
         {
          "year_of_publication": 2012
         },
         {
          "year_of_publication": 2015
         },
         {
          "year_of_publication": 2016
         },
         {
          "year_of_publication": 2015
         },
         {
          "year_of_publication": 2014
         },
         {
          "year_of_publication": 2016
         },
         {
          "year_of_publication": 2014
         },
         {
          "year_of_publication": 2015
         },
         {
          "year_of_publication": 2013
         },
         {
          "year_of_publication": 2016
         },
         {
          "year_of_publication": 2013
         },
         {
          "year_of_publication": 2014
         },
         {
          "year_of_publication": 2015
         },
         {
          "year_of_publication": 2016
         },
         {
          "year_of_publication": 2015
         },
         {
          "year_of_publication": 2013
         },
         {
          "year_of_publication": 2016
         },
         {
          "year_of_publication": 2015
         },
         {
          "year_of_publication": 2014
         },
         {
          "year_of_publication": 2015
         },
         {
          "year_of_publication": 2012
         },
         {
          "year_of_publication": 2015
         },
         {
          "year_of_publication": 2014
         },
         {
          "year_of_publication": 2015
         },
         {
          "year_of_publication": 2017
         },
         {
          "year_of_publication": 2015
         },
         {
          "year_of_publication": 2014
         },
         {
          "year_of_publication": 2018
         },
         {
          "year_of_publication": 2016
         },
         {
          "year_of_publication": 2015
         },
         {
          "year_of_publication": 2014
         },
         {
          "year_of_publication": 2013
         },
         {
          "year_of_publication": 2013
         },
         {
          "year_of_publication": 2015
         },
         {
          "year_of_publication": 2017
         },
         {
          "year_of_publication": 2013
         },
         {
          "year_of_publication": 2012
         },
         {
          "year_of_publication": 2015
         },
         {
          "year_of_publication": 2015
         },
         {
          "year_of_publication": 2015
         },
         {
          "year_of_publication": 2016
         },
         {
          "year_of_publication": 2015
         },
         {
          "year_of_publication": 2015
         },
         {
          "year_of_publication": 2015
         },
         {
          "year_of_publication": 2014
         },
         {
          "year_of_publication": 2012
         },
         {
          "year_of_publication": 2016
         },
         {
          "year_of_publication": 2016
         },
         {
          "year_of_publication": 2017
         },
         {
          "year_of_publication": 2015
         },
         {
          "year_of_publication": 2014
         },
         {
          "year_of_publication": 2013
         },
         {
          "year_of_publication": 2018
         },
         {
          "year_of_publication": 2015
         },
         {
          "year_of_publication": 2016
         },
         {
          "year_of_publication": 2014
         },
         {
          "year_of_publication": 2014
         },
         {
          "year_of_publication": 2013
         },
         {
          "year_of_publication": 2015
         },
         {
          "year_of_publication": 2012
         },
         {
          "year_of_publication": 2014
         },
         {
          "year_of_publication": 2013
         },
         {
          "year_of_publication": 2017
         },
         {
          "year_of_publication": 2012
         },
         {
          "year_of_publication": 2013
         },
         {
          "year_of_publication": 2017
         },
         {
          "year_of_publication": 2015
         },
         {
          "year_of_publication": 2015
         },
         {
          "year_of_publication": 2020
         },
         {
          "year_of_publication": 2014
         },
         {
          "year_of_publication": 2015
         },
         {
          "year_of_publication": 2012
         },
         {
          "year_of_publication": 2016
         },
         {
          "year_of_publication": 2012
         },
         {
          "year_of_publication": 2015
         },
         {
          "year_of_publication": 2015
         },
         {
          "year_of_publication": 2015
         },
         {
          "year_of_publication": 2012
         },
         {
          "year_of_publication": 2013
         },
         {
          "year_of_publication": 2017
         },
         {
          "year_of_publication": 2012
         },
         {
          "year_of_publication": 2014
         },
         {
          "year_of_publication": 2013
         },
         {
          "year_of_publication": 2019
         },
         {
          "year_of_publication": 2015
         },
         {
          "year_of_publication": 2014
         },
         {
          "year_of_publication": 2013
         },
         {
          "year_of_publication": 2018
         },
         {
          "year_of_publication": 2017
         },
         {
          "year_of_publication": 2013
         },
         {
          "year_of_publication": 2016
         },
         {
          "year_of_publication": 2016
         },
         {
          "year_of_publication": 2015
         },
         {
          "year_of_publication": 2014
         },
         {
          "year_of_publication": 2015
         },
         {
          "year_of_publication": 2012
         },
         {
          "year_of_publication": 2013
         },
         {
          "year_of_publication": 2015
         },
         {
          "year_of_publication": 2015
         },
         {
          "year_of_publication": 2014
         },
         {
          "year_of_publication": 2014
         },
         {
          "year_of_publication": 2016
         },
         {
          "year_of_publication": 2014
         },
         {
          "year_of_publication": 2016
         },
         {
          "year_of_publication": 2016
         },
         {
          "year_of_publication": 2016
         },
         {
          "year_of_publication": 2015
         },
         {
          "year_of_publication": 2014
         },
         {
          "year_of_publication": 2014
         },
         {
          "year_of_publication": 2018
         },
         {
          "year_of_publication": 2015
         },
         {
          "year_of_publication": 2014
         },
         {
          "year_of_publication": 2013
         },
         {
          "year_of_publication": 2016
         },
         {
          "year_of_publication": 2013
         },
         {
          "year_of_publication": 2012
         },
         {
          "year_of_publication": 2014
         },
         {
          "year_of_publication": 2014
         },
         {
          "year_of_publication": 2013
         },
         {
          "year_of_publication": 2014
         },
         {
          "year_of_publication": 2014
         },
         {
          "year_of_publication": 2014
         },
         {
          "year_of_publication": 2015
         },
         {
          "year_of_publication": 2015
         },
         {
          "year_of_publication": 2014
         },
         {
          "year_of_publication": 2013
         },
         {
          "year_of_publication": 2015
         },
         {
          "year_of_publication": 2013
         },
         {
          "year_of_publication": 2015
         },
         {
          "year_of_publication": 2014
         },
         {
          "year_of_publication": 2015
         },
         {
          "year_of_publication": 2015
         },
         {
          "year_of_publication": 2016
         },
         {
          "year_of_publication": 2015
         },
         {
          "year_of_publication": 2014
         },
         {
          "year_of_publication": 2018
         },
         {
          "year_of_publication": 2018
         },
         {
          "year_of_publication": 2016
         },
         {
          "year_of_publication": 2015
         },
         {
          "year_of_publication": 2014
         },
         {
          "year_of_publication": 2013
         },
         {
          "year_of_publication": 2016
         },
         {
          "year_of_publication": 2017
         },
         {
          "year_of_publication": 2015
         },
         {
          "year_of_publication": 2014
         },
         {
          "year_of_publication": 2013
         },
         {
          "year_of_publication": 2015
         },
         {
          "year_of_publication": 2016
         },
         {
          "year_of_publication": 2014
         },
         {
          "year_of_publication": 2015
         },
         {
          "year_of_publication": 2015
         },
         {
          "year_of_publication": 2014
         },
         {
          "year_of_publication": 2017
         },
         {
          "year_of_publication": 2014
         },
         {
          "year_of_publication": 2014
         },
         {
          "year_of_publication": 2013
         },
         {
          "year_of_publication": 2016
         },
         {
          "year_of_publication": 2014
         },
         {
          "year_of_publication": 2013
         },
         {
          "year_of_publication": 2016
         },
         {
          "year_of_publication": 2015
         },
         {
          "year_of_publication": 2012
         },
         {
          "year_of_publication": 2015
         },
         {
          "year_of_publication": 2016
         },
         {
          "year_of_publication": 2013
         },
         {
          "year_of_publication": 2014
         },
         {
          "year_of_publication": 2015
         },
         {
          "year_of_publication": 2015
         },
         {
          "year_of_publication": 2014
         },
         {
          "year_of_publication": 2012
         },
         {
          "year_of_publication": 2015
         },
         {
          "year_of_publication": 2016
         },
         {
          "year_of_publication": 2012
         },
         {
          "year_of_publication": 2014
         },
         {
          "year_of_publication": 2015
         },
         {
          "year_of_publication": 2017
         },
         {
          "year_of_publication": 2015
         },
         {
          "year_of_publication": 2015
         },
         {
          "year_of_publication": 2015
         },
         {
          "year_of_publication": 2014
         },
         {
          "year_of_publication": 2015
         },
         {
          "year_of_publication": 2015
         },
         {
          "year_of_publication": 2014
         },
         {
          "year_of_publication": 2012
         },
         {
          "year_of_publication": 2017
         },
         {
          "year_of_publication": 2015
         },
         {
          "year_of_publication": 2012
         },
         {
          "year_of_publication": 2013
         },
         {
          "year_of_publication": 2015
         },
         {
          "year_of_publication": 2016
         },
         {
          "year_of_publication": 2012
         },
         {
          "year_of_publication": 2015
         },
         {
          "year_of_publication": 2013
         },
         {
          "year_of_publication": 2015
         },
         {
          "year_of_publication": 2013
         },
         {
          "year_of_publication": 2016
         },
         {
          "year_of_publication": 2014
         },
         {
          "year_of_publication": 2014
         },
         {
          "year_of_publication": 2016
         },
         {
          "year_of_publication": 2013
         },
         {
          "year_of_publication": 2014
         },
         {
          "year_of_publication": 2012
         },
         {
          "year_of_publication": 2018
         },
         {
          "year_of_publication": 2012
         },
         {
          "year_of_publication": 2014
         },
         {
          "year_of_publication": 2016
         },
         {
          "year_of_publication": 2013
         },
         {
          "year_of_publication": 2017
         },
         {
          "year_of_publication": 2015
         },
         {
          "year_of_publication": 2014
         },
         {
          "year_of_publication": 2015
         },
         {
          "year_of_publication": 2014
         },
         {
          "year_of_publication": 2014
         },
         {
          "year_of_publication": 2012
         },
         {
          "year_of_publication": 2014
         },
         {
          "year_of_publication": 2014
         },
         {
          "year_of_publication": 2013
         },
         {
          "year_of_publication": 2015
         },
         {
          "year_of_publication": 2013
         },
         {
          "year_of_publication": 2013
         },
         {
          "year_of_publication": 2015
         },
         {
          "year_of_publication": 2012
         },
         {
          "year_of_publication": 2014
         },
         {
          "year_of_publication": 2015
         },
         {
          "year_of_publication": 2015
         },
         {
          "year_of_publication": 2015
         },
         {
          "year_of_publication": 2016
         },
         {
          "year_of_publication": 2016
         },
         {
          "year_of_publication": 2015
         },
         {
          "year_of_publication": 2015
         },
         {
          "year_of_publication": 2015
         },
         {
          "year_of_publication": 2013
         },
         {
          "year_of_publication": 2012
         },
         {
          "year_of_publication": 2022
         },
         {
          "year_of_publication": 2013
         },
         {
          "year_of_publication": 2013
         },
         {
          "year_of_publication": 2016
         },
         {
          "year_of_publication": 2012
         },
         {
          "year_of_publication": 2014
         },
         {
          "year_of_publication": 2013
         },
         {
          "year_of_publication": 2013
         },
         {
          "year_of_publication": 2015
         },
         {
          "year_of_publication": 2014
         },
         {
          "year_of_publication": 2017
         },
         {
          "year_of_publication": 2014
         },
         {
          "year_of_publication": 2012
         },
         {
          "year_of_publication": 2015
         },
         {
          "year_of_publication": 2015
         },
         {
          "year_of_publication": 2017
         },
         {
          "year_of_publication": 2012
         },
         {
          "year_of_publication": 2014
         },
         {
          "year_of_publication": 2015
         },
         {
          "year_of_publication": 2015
         },
         {
          "year_of_publication": 2012
         },
         {
          "year_of_publication": 2015
         },
         {
          "year_of_publication": 2012
         },
         {
          "year_of_publication": 2015
         },
         {
          "year_of_publication": 2013
         },
         {
          "year_of_publication": 2015
         },
         {
          "year_of_publication": 2015
         },
         {
          "year_of_publication": 2014
         },
         {
          "year_of_publication": 2013
         },
         {
          "year_of_publication": 2020
         },
         {
          "year_of_publication": 2013
         },
         {
          "year_of_publication": 2017
         },
         {
          "year_of_publication": 2017
         },
         {
          "year_of_publication": 2015
         },
         {
          "year_of_publication": 2016
         },
         {
          "year_of_publication": 2013
         },
         {
          "year_of_publication": 2012
         },
         {
          "year_of_publication": 2012
         },
         {
          "year_of_publication": 2012
         },
         {
          "year_of_publication": 2012
         },
         {
          "year_of_publication": 2014
         },
         {
          "year_of_publication": 2015
         },
         {
          "year_of_publication": 2015
         },
         {
          "year_of_publication": 2015
         },
         {
          "year_of_publication": 2015
         },
         {
          "year_of_publication": 2015
         },
         {
          "year_of_publication": 2013
         },
         {
          "year_of_publication": 2015
         },
         {
          "year_of_publication": 2012
         },
         {
          "year_of_publication": 2013
         },
         {
          "year_of_publication": 2016
         },
         {
          "year_of_publication": 2015
         },
         {
          "year_of_publication": 2012
         },
         {
          "year_of_publication": 2012
         },
         {
          "year_of_publication": 2016
         },
         {
          "year_of_publication": 2013
         },
         {
          "year_of_publication": 2014
         },
         {
          "year_of_publication": 2012
         },
         {
          "year_of_publication": 2018
         },
         {
          "year_of_publication": 2013
         },
         {
          "year_of_publication": 2015
         },
         {
          "year_of_publication": 2015
         },
         {
          "year_of_publication": 2012
         },
         {
          "year_of_publication": 2014
         },
         {
          "year_of_publication": 2014
         },
         {
          "year_of_publication": 2015
         },
         {
          "year_of_publication": 2018
         },
         {
          "year_of_publication": 2016
         },
         {
          "year_of_publication": 2015
         },
         {
          "year_of_publication": 2015
         },
         {
          "year_of_publication": 2014
         },
         {
          "year_of_publication": 2013
         },
         {
          "year_of_publication": 2015
         },
         {
          "year_of_publication": 2015
         },
         {
          "year_of_publication": 2014
         },
         {
          "year_of_publication": 2012
         },
         {
          "year_of_publication": 2014
         },
         {
          "year_of_publication": 2014
         },
         {
          "year_of_publication": 2015
         },
         {
          "year_of_publication": 2013
         },
         {
          "year_of_publication": 2013
         },
         {
          "year_of_publication": 2017
         },
         {
          "year_of_publication": 2015
         },
         {
          "year_of_publication": 2013
         },
         {
          "year_of_publication": 2015
         },
         {
          "year_of_publication": 2016
         },
         {
          "year_of_publication": 2018
         },
         {
          "year_of_publication": 2017
         },
         {
          "year_of_publication": 2015
         },
         {
          "year_of_publication": 2017
         },
         {
          "year_of_publication": 2015
         },
         {
          "year_of_publication": 2013
         },
         {
          "year_of_publication": 2015
         },
         {
          "year_of_publication": 2016
         },
         {
          "year_of_publication": 2017
         },
         {
          "year_of_publication": 2016
         },
         {
          "year_of_publication": 2015
         },
         {
          "year_of_publication": 2014
         },
         {
          "year_of_publication": 2014
         },
         {
          "year_of_publication": 2016
         },
         {
          "year_of_publication": 2020
         },
         {
          "year_of_publication": 2013
         },
         {
          "year_of_publication": 2012
         },
         {
          "year_of_publication": 2014
         },
         {
          "year_of_publication": 2014
         },
         {
          "year_of_publication": 2012
         },
         {
          "year_of_publication": 2015
         },
         {
          "year_of_publication": 2014
         },
         {
          "year_of_publication": 2015
         },
         {
          "year_of_publication": 2015
         },
         {
          "year_of_publication": 2014
         },
         {
          "year_of_publication": 2014
         },
         {
          "year_of_publication": 2014
         },
         {
          "year_of_publication": 2015
         },
         {
          "year_of_publication": 2014
         },
         {
          "year_of_publication": 2015
         },
         {
          "year_of_publication": 2013
         },
         {
          "year_of_publication": 2015
         },
         {
          "year_of_publication": 2015
         },
         {
          "year_of_publication": 2013
         },
         {
          "year_of_publication": 2014
         },
         {
          "year_of_publication": 2012
         },
         {
          "year_of_publication": 2016
         },
         {
          "year_of_publication": 2015
         },
         {
          "year_of_publication": 2014
         },
         {
          "year_of_publication": 2016
         },
         {
          "year_of_publication": 2016
         },
         {
          "year_of_publication": 2018
         },
         {
          "year_of_publication": 2016
         },
         {
          "year_of_publication": 2012
         },
         {
          "year_of_publication": 2014
         },
         {
          "year_of_publication": 2018
         },
         {
          "year_of_publication": 2013
         },
         {
          "year_of_publication": 2016
         },
         {
          "year_of_publication": 2013
         },
         {
          "year_of_publication": 2017
         },
         {
          "year_of_publication": 2015
         },
         {
          "year_of_publication": 2014
         },
         {
          "year_of_publication": 2014
         },
         {
          "year_of_publication": 2016
         },
         {
          "year_of_publication": 2015
         },
         {
          "year_of_publication": 2015
         },
         {
          "year_of_publication": 2014
         },
         {
          "year_of_publication": 2013
         },
         {
          "year_of_publication": 2016
         },
         {
          "year_of_publication": 2014
         },
         {
          "year_of_publication": 2014
         },
         {
          "year_of_publication": 2014
         },
         {
          "year_of_publication": 2016
         },
         {
          "year_of_publication": 2016
         },
         {
          "year_of_publication": 2015
         },
         {
          "year_of_publication": 2013
         },
         {
          "year_of_publication": 2016
         },
         {
          "year_of_publication": 2014
         },
         {
          "year_of_publication": 2014
         },
         {
          "year_of_publication": 2016
         },
         {
          "year_of_publication": 2013
         },
         {
          "year_of_publication": 2014
         },
         {
          "year_of_publication": 2014
         },
         {
          "year_of_publication": 2015
         },
         {
          "year_of_publication": 2014
         },
         {
          "year_of_publication": 2015
         },
         {
          "year_of_publication": 2015
         },
         {
          "year_of_publication": 2013
         },
         {
          "year_of_publication": 2014
         },
         {
          "year_of_publication": 2015
         },
         {
          "year_of_publication": 2012
         },
         {
          "year_of_publication": 2017
         },
         {
          "year_of_publication": 2014
         },
         {
          "year_of_publication": 2017
         },
         {
          "year_of_publication": 2015
         },
         {
          "year_of_publication": 2013
         },
         {
          "year_of_publication": 2013
         },
         {
          "year_of_publication": 2016
         },
         {
          "year_of_publication": 2016
         },
         {
          "year_of_publication": 2013
         },
         {
          "year_of_publication": 2014
         },
         {
          "year_of_publication": 2017
         },
         {
          "year_of_publication": 2015
         },
         {
          "year_of_publication": 2015
         },
         {
          "year_of_publication": 2014
         },
         {
          "year_of_publication": 2014
         },
         {
          "year_of_publication": 2012
         },
         {
          "year_of_publication": 2015
         },
         {
          "year_of_publication": 2015
         },
         {
          "year_of_publication": 2013
         },
         {
          "year_of_publication": 2014
         },
         {
          "year_of_publication": 2012
         },
         {
          "year_of_publication": 2015
         },
         {
          "year_of_publication": 2017
         },
         {
          "year_of_publication": 2012
         },
         {
          "year_of_publication": 2014
         },
         {
          "year_of_publication": 2015
         },
         {
          "year_of_publication": 2015
         },
         {
          "year_of_publication": 2017
         },
         {
          "year_of_publication": 2016
         },
         {
          "year_of_publication": 2015
         },
         {
          "year_of_publication": 2015
         },
         {
          "year_of_publication": 2014
         },
         {
          "year_of_publication": 2020
         },
         {
          "year_of_publication": 2013
         },
         {
          "year_of_publication": 2014
         },
         {
          "year_of_publication": 2014
         },
         {
          "year_of_publication": 2013
         },
         {
          "year_of_publication": 2018
         },
         {
          "year_of_publication": 2012
         },
         {
          "year_of_publication": 2015
         },
         {
          "year_of_publication": 2015
         },
         {
          "year_of_publication": 2013
         },
         {
          "year_of_publication": 2014
         },
         {
          "year_of_publication": 2014
         },
         {
          "year_of_publication": 2014
         },
         {
          "year_of_publication": 2013
         },
         {
          "year_of_publication": 2016
         },
         {
          "year_of_publication": 2013
         },
         {
          "year_of_publication": 2014
         },
         {
          "year_of_publication": 2012
         },
         {
          "year_of_publication": 2013
         },
         {
          "year_of_publication": 2013
         },
         {
          "year_of_publication": 2015
         },
         {
          "year_of_publication": 2016
         },
         {
          "year_of_publication": 2013
         },
         {
          "year_of_publication": 2016
         },
         {
          "year_of_publication": 2012
         },
         {
          "year_of_publication": 2014
         },
         {
          "year_of_publication": 2013
         },
         {
          "year_of_publication": 2015
         },
         {
          "year_of_publication": 2012
         },
         {
          "year_of_publication": 2013
         },
         {
          "year_of_publication": 2014
         },
         {
          "year_of_publication": 2015
         },
         {
          "year_of_publication": 2016
         },
         {
          "year_of_publication": 2013
         },
         {
          "year_of_publication": 2017
         },
         {
          "year_of_publication": 2015
         },
         {
          "year_of_publication": 2015
         },
         {
          "year_of_publication": 2015
         },
         {
          "year_of_publication": 2014
         },
         {
          "year_of_publication": 2012
         },
         {
          "year_of_publication": 2016
         },
         {
          "year_of_publication": 2016
         },
         {
          "year_of_publication": 2015
         },
         {
          "year_of_publication": 2016
         },
         {
          "year_of_publication": 2015
         },
         {
          "year_of_publication": 2016
         },
         {
          "year_of_publication": 2012
         },
         {
          "year_of_publication": 2016
         },
         {
          "year_of_publication": 2016
         },
         {
          "year_of_publication": 2014
         },
         {
          "year_of_publication": 2015
         },
         {
          "year_of_publication": 2015
         },
         {
          "year_of_publication": 2013
         },
         {
          "year_of_publication": 2015
         },
         {
          "year_of_publication": 2014
         },
         {
          "year_of_publication": 2013
         },
         {
          "year_of_publication": 2016
         },
         {
          "year_of_publication": 2015
         },
         {
          "year_of_publication": 2014
         },
         {
          "year_of_publication": 2014
         },
         {
          "year_of_publication": 2015
         },
         {
          "year_of_publication": 2014
         },
         {
          "year_of_publication": 2014
         },
         {
          "year_of_publication": 2015
         },
         {
          "year_of_publication": 2015
         },
         {
          "year_of_publication": 2012
         },
         {
          "year_of_publication": 2012
         },
         {
          "year_of_publication": 2014
         },
         {
          "year_of_publication": 2012
         },
         {
          "year_of_publication": 2014
         },
         {
          "year_of_publication": 2016
         },
         {
          "year_of_publication": 2014
         },
         {
          "year_of_publication": 2012
         },
         {
          "year_of_publication": 2013
         },
         {
          "year_of_publication": 2016
         },
         {
          "year_of_publication": 2018
         },
         {
          "year_of_publication": 2015
         },
         {
          "year_of_publication": 2014
         },
         {
          "year_of_publication": 2015
         },
         {
          "year_of_publication": 2016
         },
         {
          "year_of_publication": 2014
         },
         {
          "year_of_publication": 2015
         },
         {
          "year_of_publication": 2016
         },
         {
          "year_of_publication": 2012
         },
         {
          "year_of_publication": 2016
         },
         {
          "year_of_publication": 2013
         },
         {
          "year_of_publication": 2014
         },
         {
          "year_of_publication": 2013
         },
         {
          "year_of_publication": 2016
         },
         {
          "year_of_publication": 2016
         },
         {
          "year_of_publication": 2016
         },
         {
          "year_of_publication": 2017
         },
         {
          "year_of_publication": 2015
         },
         {
          "year_of_publication": 2018
         },
         {
          "year_of_publication": 2015
         },
         {
          "year_of_publication": 2015
         },
         {
          "year_of_publication": 2017
         },
         {
          "year_of_publication": 2015
         },
         {
          "year_of_publication": 2015
         },
         {
          "year_of_publication": 2015
         },
         {
          "year_of_publication": 2016
         },
         {
          "year_of_publication": 2015
         },
         {
          "year_of_publication": 2016
         },
         {
          "year_of_publication": 2014
         },
         {
          "year_of_publication": 2016
         },
         {
          "year_of_publication": 2014
         },
         {
          "year_of_publication": 2013
         },
         {
          "year_of_publication": 2013
         },
         {
          "year_of_publication": 2016
         },
         {
          "year_of_publication": 2016
         },
         {
          "year_of_publication": 2015
         },
         {
          "year_of_publication": 2012
         },
         {
          "year_of_publication": 2016
         },
         {
          "year_of_publication": 2014
         },
         {
          "year_of_publication": 2014
         },
         {
          "year_of_publication": 2016
         },
         {
          "year_of_publication": 2016
         },
         {
          "year_of_publication": 2015
         },
         {
          "year_of_publication": 2014
         },
         {
          "year_of_publication": 2014
         },
         {
          "year_of_publication": 2014
         },
         {
          "year_of_publication": 2016
         },
         {
          "year_of_publication": 2016
         },
         {
          "year_of_publication": 2014
         },
         {
          "year_of_publication": 2013
         },
         {
          "year_of_publication": 2015
         },
         {
          "year_of_publication": 2012
         },
         {
          "year_of_publication": 2013
         },
         {
          "year_of_publication": 2015
         },
         {
          "year_of_publication": 2018
         },
         {
          "year_of_publication": 2015
         },
         {
          "year_of_publication": 2013
         },
         {
          "year_of_publication": 2014
         },
         {
          "year_of_publication": 2016
         },
         {
          "year_of_publication": 2013
         },
         {
          "year_of_publication": 2013
         },
         {
          "year_of_publication": 2014
         },
         {
          "year_of_publication": 2012
         },
         {
          "year_of_publication": 2017
         },
         {
          "year_of_publication": 2015
         },
         {
          "year_of_publication": 2015
         },
         {
          "year_of_publication": 2014
         },
         {
          "year_of_publication": 2015
         },
         {
          "year_of_publication": 2013
         },
         {
          "year_of_publication": 2015
         },
         {
          "year_of_publication": 2013
         },
         {
          "year_of_publication": 2015
         },
         {
          "year_of_publication": 2015
         },
         {
          "year_of_publication": 2016
         },
         {
          "year_of_publication": 2017
         },
         {
          "year_of_publication": 2017
         },
         {
          "year_of_publication": 2015
         },
         {
          "year_of_publication": 2014
         },
         {
          "year_of_publication": 2018
         },
         {
          "year_of_publication": 2016
         },
         {
          "year_of_publication": 2015
         },
         {
          "year_of_publication": 2012
         },
         {
          "year_of_publication": 2013
         },
         {
          "year_of_publication": 2014
         },
         {
          "year_of_publication": 2015
         },
         {
          "year_of_publication": 2014
         },
         {
          "year_of_publication": 2014
         },
         {
          "year_of_publication": 2014
         },
         {
          "year_of_publication": 2015
         },
         {
          "year_of_publication": 2015
         },
         {
          "year_of_publication": 2015
         },
         {
          "year_of_publication": 2012
         },
         {
          "year_of_publication": 2014
         },
         {
          "year_of_publication": 2014
         },
         {
          "year_of_publication": 2014
         },
         {
          "year_of_publication": 2017
         },
         {
          "year_of_publication": 2018
         },
         {
          "year_of_publication": 2016
         },
         {
          "year_of_publication": 2015
         },
         {
          "year_of_publication": 2015
         },
         {
          "year_of_publication": 2013
         },
         {
          "year_of_publication": 2013
         },
         {
          "year_of_publication": 2014
         },
         {
          "year_of_publication": 2014
         },
         {
          "year_of_publication": 2014
         },
         {
          "year_of_publication": 2014
         },
         {
          "year_of_publication": 2016
         },
         {
          "year_of_publication": 2016
         },
         {
          "year_of_publication": 2012
         },
         {
          "year_of_publication": 2013
         },
         {
          "year_of_publication": 2017
         },
         {
          "year_of_publication": 2016
         },
         {
          "year_of_publication": 2014
         },
         {
          "year_of_publication": 2014
         },
         {
          "year_of_publication": 2014
         },
         {
          "year_of_publication": 2017
         },
         {
          "year_of_publication": 2015
         },
         {
          "year_of_publication": 2014
         },
         {
          "year_of_publication": 2017
         },
         {
          "year_of_publication": 2015
         },
         {
          "year_of_publication": 2012
         },
         {
          "year_of_publication": 2013
         },
         {
          "year_of_publication": 2014
         },
         {
          "year_of_publication": 2012
         },
         {
          "year_of_publication": 2013
         },
         {
          "year_of_publication": 2013
         },
         {
          "year_of_publication": 2012
         },
         {
          "year_of_publication": 2016
         },
         {
          "year_of_publication": 2013
         },
         {
          "year_of_publication": 2016
         },
         {
          "year_of_publication": 2014
         },
         {
          "year_of_publication": 2017
         },
         {
          "year_of_publication": 2016
         },
         {
          "year_of_publication": 2015
         },
         {
          "year_of_publication": 2013
         },
         {
          "year_of_publication": 2015
         },
         {
          "year_of_publication": 2012
         },
         {
          "year_of_publication": 2016
         },
         {
          "year_of_publication": 2014
         },
         {
          "year_of_publication": 2015
         },
         {
          "year_of_publication": 2012
         },
         {
          "year_of_publication": 2016
         },
         {
          "year_of_publication": 2016
         },
         {
          "year_of_publication": 2014
         },
         {
          "year_of_publication": 2014
         },
         {
          "year_of_publication": 2016
         },
         {
          "year_of_publication": 2017
         },
         {
          "year_of_publication": 2015
         },
         {
          "year_of_publication": 2012
         },
         {
          "year_of_publication": 2015
         },
         {
          "year_of_publication": 2017
         },
         {
          "year_of_publication": 2015
         },
         {
          "year_of_publication": 2017
         },
         {
          "year_of_publication": 2013
         },
         {
          "year_of_publication": 2012
         },
         {
          "year_of_publication": 2012
         },
         {
          "year_of_publication": 2017
         },
         {
          "year_of_publication": 2014
         },
         {
          "year_of_publication": 2012
         },
         {
          "year_of_publication": 2012
         },
         {
          "year_of_publication": 2014
         },
         {
          "year_of_publication": 2014
         },
         {
          "year_of_publication": 2014
         },
         {
          "year_of_publication": 2015
         },
         {
          "year_of_publication": 2017
         },
         {
          "year_of_publication": 2016
         },
         {
          "year_of_publication": 2013
         },
         {
          "year_of_publication": 2015
         },
         {
          "year_of_publication": 2015
         },
         {
          "year_of_publication": 2014
         },
         {
          "year_of_publication": 2014
         },
         {
          "year_of_publication": 2014
         },
         {
          "year_of_publication": 2012
         },
         {
          "year_of_publication": 2014
         },
         {
          "year_of_publication": 2015
         },
         {
          "year_of_publication": 2013
         },
         {
          "year_of_publication": 2013
         },
         {
          "year_of_publication": 2013
         },
         {
          "year_of_publication": 2014
         },
         {
          "year_of_publication": 2015
         },
         {
          "year_of_publication": 2015
         },
         {
          "year_of_publication": 2013
         },
         {
          "year_of_publication": 2013
         },
         {
          "year_of_publication": 2013
         },
         {
          "year_of_publication": 2013
         },
         {
          "year_of_publication": 2013
         },
         {
          "year_of_publication": 2013
         },
         {
          "year_of_publication": 2014
         },
         {
          "year_of_publication": 2015
         },
         {
          "year_of_publication": 2015
         },
         {
          "year_of_publication": 2012
         },
         {
          "year_of_publication": 2014
         },
         {
          "year_of_publication": 2016
         },
         {
          "year_of_publication": 2012
         },
         {
          "year_of_publication": 2015
         },
         {
          "year_of_publication": 2012
         },
         {
          "year_of_publication": 2018
         },
         {
          "year_of_publication": 2016
         },
         {
          "year_of_publication": 2014
         },
         {
          "year_of_publication": 2015
         },
         {
          "year_of_publication": 2012
         },
         {
          "year_of_publication": 2014
         },
         {
          "year_of_publication": 2014
         },
         {
          "year_of_publication": 2015
         },
         {
          "year_of_publication": 2015
         },
         {
          "year_of_publication": 2017
         },
         {
          "year_of_publication": 2015
         },
         {
          "year_of_publication": 2014
         },
         {
          "year_of_publication": 2015
         },
         {
          "year_of_publication": 2013
         },
         {
          "year_of_publication": 2015
         },
         {
          "year_of_publication": 2013
         },
         {
          "year_of_publication": 2014
         },
         {
          "year_of_publication": 2017
         },
         {
          "year_of_publication": 2012
         },
         {
          "year_of_publication": 2012
         },
         {
          "year_of_publication": 2017
         },
         {
          "year_of_publication": 2015
         },
         {
          "year_of_publication": 2016
         },
         {
          "year_of_publication": 2018
         },
         {
          "year_of_publication": 2016
         },
         {
          "year_of_publication": 2014
         },
         {
          "year_of_publication": 2014
         },
         {
          "year_of_publication": 2012
         },
         {
          "year_of_publication": 2015
         },
         {
          "year_of_publication": 2015
         },
         {
          "year_of_publication": 2014
         },
         {
          "year_of_publication": 2015
         },
         {
          "year_of_publication": 2012
         },
         {
          "year_of_publication": 2014
         },
         {
          "year_of_publication": 2014
         },
         {
          "year_of_publication": 2014
         },
         {
          "year_of_publication": 2015
         },
         {
          "year_of_publication": 2015
         },
         {
          "year_of_publication": 2014
         },
         {
          "year_of_publication": 2013
         },
         {
          "year_of_publication": 2017
         },
         {
          "year_of_publication": 2012
         },
         {
          "year_of_publication": 2016
         },
         {
          "year_of_publication": 2015
         },
         {
          "year_of_publication": 2012
         },
         {
          "year_of_publication": 2015
         },
         {
          "year_of_publication": 2015
         },
         {
          "year_of_publication": 2015
         },
         {
          "year_of_publication": 2017
         },
         {
          "year_of_publication": 2014
         },
         {
          "year_of_publication": 2013
         },
         {
          "year_of_publication": 2014
         },
         {
          "year_of_publication": 2014
         },
         {
          "year_of_publication": 2020
         },
         {
          "year_of_publication": 2015
         },
         {
          "year_of_publication": 2015
         },
         {
          "year_of_publication": 2017
         },
         {
          "year_of_publication": 2013
         },
         {
          "year_of_publication": 2015
         },
         {
          "year_of_publication": 2013
         },
         {
          "year_of_publication": 2017
         },
         {
          "year_of_publication": 2017
         },
         {
          "year_of_publication": 2014
         },
         {
          "year_of_publication": 2015
         },
         {
          "year_of_publication": 2014
         },
         {
          "year_of_publication": 2015
         },
         {
          "year_of_publication": 2014
         },
         {
          "year_of_publication": 2014
         },
         {
          "year_of_publication": 2012
         },
         {
          "year_of_publication": 2015
         },
         {
          "year_of_publication": 2015
         },
         {
          "year_of_publication": 2016
         },
         {
          "year_of_publication": 2014
         },
         {
          "year_of_publication": 2016
         },
         {
          "year_of_publication": 2015
         },
         {
          "year_of_publication": 2014
         },
         {
          "year_of_publication": 2017
         },
         {
          "year_of_publication": 2014
         },
         {
          "year_of_publication": 2013
         },
         {
          "year_of_publication": 2015
         },
         {
          "year_of_publication": 2015
         },
         {
          "year_of_publication": 2014
         },
         {
          "year_of_publication": 2012
         },
         {
          "year_of_publication": 2014
         },
         {
          "year_of_publication": 2012
         },
         {
          "year_of_publication": 2015
         },
         {
          "year_of_publication": 2015
         },
         {
          "year_of_publication": 2013
         },
         {
          "year_of_publication": 2013
         },
         {
          "year_of_publication": 2014
         },
         {
          "year_of_publication": 2012
         },
         {
          "year_of_publication": 2015
         },
         {
          "year_of_publication": 2013
         },
         {
          "year_of_publication": 2015
         },
         {
          "year_of_publication": 2013
         },
         {
          "year_of_publication": 2016
         },
         {
          "year_of_publication": 2012
         },
         {
          "year_of_publication": 2016
         },
         {
          "year_of_publication": 2014
         },
         {
          "year_of_publication": 2016
         },
         {
          "year_of_publication": 2013
         },
         {
          "year_of_publication": 2014
         },
         {
          "year_of_publication": 2014
         },
         {
          "year_of_publication": 2013
         },
         {
          "year_of_publication": 2016
         },
         {
          "year_of_publication": 2016
         },
         {
          "year_of_publication": 2013
         },
         {
          "year_of_publication": 2015
         },
         {
          "year_of_publication": 2016
         },
         {
          "year_of_publication": 2015
         },
         {
          "year_of_publication": 2014
         },
         {
          "year_of_publication": 2017
         },
         {
          "year_of_publication": 2016
         },
         {
          "year_of_publication": 2013
         },
         {
          "year_of_publication": 2014
         },
         {
          "year_of_publication": 2014
         },
         {
          "year_of_publication": 2015
         },
         {
          "year_of_publication": 2012
         },
         {
          "year_of_publication": 2014
         },
         {
          "year_of_publication": 2012
         },
         {
          "year_of_publication": 2012
         },
         {
          "year_of_publication": 2013
         },
         {
          "year_of_publication": 2014
         },
         {
          "year_of_publication": 2013
         },
         {
          "year_of_publication": 2014
         },
         {
          "year_of_publication": 2012
         },
         {
          "year_of_publication": 2013
         },
         {
          "year_of_publication": 2013
         },
         {
          "year_of_publication": 2014
         },
         {
          "year_of_publication": 2015
         },
         {
          "year_of_publication": 2014
         },
         {
          "year_of_publication": 2014
         },
         {
          "year_of_publication": 2016
         },
         {
          "year_of_publication": 2017
         },
         {
          "year_of_publication": 2012
         },
         {
          "year_of_publication": 2015
         },
         {
          "year_of_publication": 2015
         },
         {
          "year_of_publication": 2012
         },
         {
          "year_of_publication": 2012
         },
         {
          "year_of_publication": 2017
         },
         {
          "year_of_publication": 2014
         },
         {
          "year_of_publication": 2015
         },
         {
          "year_of_publication": 2013
         },
         {
          "year_of_publication": 2012
         },
         {
          "year_of_publication": 2014
         },
         {
          "year_of_publication": 2017
         },
         {
          "year_of_publication": 2014
         },
         {
          "year_of_publication": 2014
         },
         {
          "year_of_publication": 2015
         },
         {
          "year_of_publication": 2015
         },
         {
          "year_of_publication": 2016
         },
         {
          "year_of_publication": 2015
         },
         {
          "year_of_publication": 2013
         },
         {
          "year_of_publication": 2012
         },
         {
          "year_of_publication": 2013
         },
         {
          "year_of_publication": 2015
         },
         {
          "year_of_publication": 2012
         },
         {
          "year_of_publication": 2014
         },
         {
          "year_of_publication": 2014
         },
         {
          "year_of_publication": 2012
         },
         {
          "year_of_publication": 2015
         },
         {
          "year_of_publication": 2016
         },
         {
          "year_of_publication": 2016
         },
         {
          "year_of_publication": 2015
         },
         {
          "year_of_publication": 2015
         },
         {
          "year_of_publication": 2014
         },
         {
          "year_of_publication": 2016
         },
         {
          "year_of_publication": 2013
         },
         {
          "year_of_publication": 2015
         },
         {
          "year_of_publication": 2012
         },
         {
          "year_of_publication": 2016
         },
         {
          "year_of_publication": 2014
         },
         {
          "year_of_publication": 2014
         },
         {
          "year_of_publication": 2017
         },
         {
          "year_of_publication": 2013
         },
         {
          "year_of_publication": 2014
         },
         {
          "year_of_publication": 2014
         },
         {
          "year_of_publication": 2014
         },
         {
          "year_of_publication": 2012
         },
         {
          "year_of_publication": 2016
         },
         {
          "year_of_publication": 2012
         },
         {
          "year_of_publication": 2013
         },
         {
          "year_of_publication": 2015
         },
         {
          "year_of_publication": 2015
         },
         {
          "year_of_publication": 2015
         },
         {
          "year_of_publication": 2014
         },
         {
          "year_of_publication": 2012
         },
         {
          "year_of_publication": 2012
         },
         {
          "year_of_publication": 2014
         },
         {
          "year_of_publication": 2017
         },
         {
          "year_of_publication": 2014
         },
         {
          "year_of_publication": 2017
         },
         {
          "year_of_publication": 2012
         },
         {
          "year_of_publication": 2016
         },
         {
          "year_of_publication": 2015
         },
         {
          "year_of_publication": 2014
         },
         {
          "year_of_publication": 2014
         },
         {
          "year_of_publication": 2013
         },
         {
          "year_of_publication": 2016
         },
         {
          "year_of_publication": 2015
         },
         {
          "year_of_publication": 2016
         },
         {
          "year_of_publication": 2015
         },
         {
          "year_of_publication": 2016
         },
         {
          "year_of_publication": 2013
         },
         {
          "year_of_publication": 2016
         },
         {
          "year_of_publication": 2013
         },
         {
          "year_of_publication": 2015
         },
         {
          "year_of_publication": 2022
         },
         {
          "year_of_publication": 2015
         },
         {
          "year_of_publication": 2012
         },
         {
          "year_of_publication": 2014
         },
         {
          "year_of_publication": 2016
         },
         {
          "year_of_publication": 2012
         },
         {
          "year_of_publication": 2014
         },
         {
          "year_of_publication": 2015
         },
         {
          "year_of_publication": 2016
         },
         {
          "year_of_publication": 2012
         },
         {
          "year_of_publication": 2014
         },
         {
          "year_of_publication": 2014
         },
         {
          "year_of_publication": 2017
         },
         {
          "year_of_publication": 2017
         },
         {
          "year_of_publication": 2014
         },
         {
          "year_of_publication": 2014
         },
         {
          "year_of_publication": 2015
         },
         {
          "year_of_publication": 2015
         },
         {
          "year_of_publication": 2015
         },
         {
          "year_of_publication": 2014
         },
         {
          "year_of_publication": 2014
         },
         {
          "year_of_publication": 2017
         },
         {
          "year_of_publication": 2018
         },
         {
          "year_of_publication": 2013
         },
         {
          "year_of_publication": 2017
         },
         {
          "year_of_publication": 2017
         },
         {
          "year_of_publication": 2015
         },
         {
          "year_of_publication": 2013
         },
         {
          "year_of_publication": 2014
         },
         {
          "year_of_publication": 2014
         },
         {
          "year_of_publication": 2013
         },
         {
          "year_of_publication": 2015
         },
         {
          "year_of_publication": 2014
         },
         {
          "year_of_publication": 2014
         },
         {
          "year_of_publication": 2017
         },
         {
          "year_of_publication": 2014
         },
         {
          "year_of_publication": 2014
         },
         {
          "year_of_publication": 2022
         },
         {
          "year_of_publication": 2015
         },
         {
          "year_of_publication": 2015
         },
         {
          "year_of_publication": 2013
         },
         {
          "year_of_publication": 2016
         },
         {
          "year_of_publication": 2014
         },
         {
          "year_of_publication": 2015
         },
         {
          "year_of_publication": 2015
         },
         {
          "year_of_publication": 2017
         },
         {
          "year_of_publication": 2014
         },
         {
          "year_of_publication": 2015
         },
         {
          "year_of_publication": 2014
         },
         {
          "year_of_publication": 2014
         },
         {
          "year_of_publication": 2016
         },
         {
          "year_of_publication": 2013
         },
         {
          "year_of_publication": 2015
         },
         {
          "year_of_publication": 2016
         },
         {
          "year_of_publication": 2013
         },
         {
          "year_of_publication": 2015
         },
         {
          "year_of_publication": 2016
         },
         {
          "year_of_publication": 2015
         },
         {
          "year_of_publication": 2015
         },
         {
          "year_of_publication": 2014
         },
         {
          "year_of_publication": 2014
         },
         {
          "year_of_publication": 2015
         },
         {
          "year_of_publication": 2013
         },
         {
          "year_of_publication": 2013
         },
         {
          "year_of_publication": 2017
         },
         {
          "year_of_publication": 2016
         },
         {
          "year_of_publication": 2016
         },
         {
          "year_of_publication": 2016
         },
         {
          "year_of_publication": 2015
         },
         {
          "year_of_publication": 2016
         },
         {
          "year_of_publication": 2015
         },
         {
          "year_of_publication": 2014
         },
         {
          "year_of_publication": 2012
         },
         {
          "year_of_publication": 2016
         },
         {
          "year_of_publication": 2015
         },
         {
          "year_of_publication": 2018
         },
         {
          "year_of_publication": 2012
         },
         {
          "year_of_publication": 2017
         },
         {
          "year_of_publication": 2014
         },
         {
          "year_of_publication": 2013
         },
         {
          "year_of_publication": 2015
         },
         {
          "year_of_publication": 2013
         },
         {
          "year_of_publication": 2016
         },
         {
          "year_of_publication": 2015
         },
         {
          "year_of_publication": 2014
         },
         {
          "year_of_publication": 2017
         },
         {
          "year_of_publication": 2013
         },
         {
          "year_of_publication": 2013
         },
         {
          "year_of_publication": 2014
         },
         {
          "year_of_publication": 2015
         },
         {
          "year_of_publication": 2013
         },
         {
          "year_of_publication": 2015
         },
         {
          "year_of_publication": 2015
         },
         {
          "year_of_publication": 2016
         },
         {
          "year_of_publication": 2013
         },
         {
          "year_of_publication": 2014
         },
         {
          "year_of_publication": 2014
         },
         {
          "year_of_publication": 2015
         },
         {
          "year_of_publication": 2014
         },
         {
          "year_of_publication": 2016
         },
         {
          "year_of_publication": 2013
         },
         {
          "year_of_publication": 2013
         },
         {
          "year_of_publication": 2015
         },
         {
          "year_of_publication": 2015
         },
         {
          "year_of_publication": 2016
         },
         {
          "year_of_publication": 2012
         },
         {
          "year_of_publication": 2016
         },
         {
          "year_of_publication": 2012
         },
         {
          "year_of_publication": 2013
         },
         {
          "year_of_publication": 2015
         },
         {
          "year_of_publication": 2017
         },
         {
          "year_of_publication": 2017
         },
         {
          "year_of_publication": 2014
         },
         {
          "year_of_publication": 2015
         },
         {
          "year_of_publication": 2014
         },
         {
          "year_of_publication": 2013
         },
         {
          "year_of_publication": 2014
         },
         {
          "year_of_publication": 2014
         },
         {
          "year_of_publication": 2013
         },
         {
          "year_of_publication": 2014
         },
         {
          "year_of_publication": 2015
         },
         {
          "year_of_publication": 2015
         },
         {
          "year_of_publication": 2016
         },
         {
          "year_of_publication": 2016
         },
         {
          "year_of_publication": 2014
         },
         {
          "year_of_publication": 2017
         },
         {
          "year_of_publication": 2012
         },
         {
          "year_of_publication": 2014
         },
         {
          "year_of_publication": 2017
         },
         {
          "year_of_publication": 2014
         },
         {
          "year_of_publication": 2017
         },
         {
          "year_of_publication": 2013
         },
         {
          "year_of_publication": 2012
         },
         {
          "year_of_publication": 2013
         },
         {
          "year_of_publication": 2016
         },
         {
          "year_of_publication": 2013
         },
         {
          "year_of_publication": 2016
         },
         {
          "year_of_publication": 2013
         },
         {
          "year_of_publication": 2016
         },
         {
          "year_of_publication": 2014
         },
         {
          "year_of_publication": 2015
         },
         {
          "year_of_publication": 2015
         },
         {
          "year_of_publication": 2017
         },
         {
          "year_of_publication": 2014
         },
         {
          "year_of_publication": 2018
         },
         {
          "year_of_publication": 2015
         },
         {
          "year_of_publication": 2013
         },
         {
          "year_of_publication": 2015
         },
         {
          "year_of_publication": 2015
         },
         {
          "year_of_publication": 2014
         },
         {
          "year_of_publication": 2012
         },
         {
          "year_of_publication": 2014
         },
         {
          "year_of_publication": 2015
         },
         {
          "year_of_publication": 2014
         },
         {
          "year_of_publication": 2014
         },
         {
          "year_of_publication": 2015
         },
         {
          "year_of_publication": 2022
         },
         {
          "year_of_publication": 2014
         },
         {
          "year_of_publication": 2014
         },
         {
          "year_of_publication": 2015
         },
         {
          "year_of_publication": 2018
         },
         {
          "year_of_publication": 2015
         },
         {
          "year_of_publication": 2015
         },
         {
          "year_of_publication": 2016
         },
         {
          "year_of_publication": 2012
         },
         {
          "year_of_publication": 2015
         },
         {
          "year_of_publication": 2016
         },
         {
          "year_of_publication": 2014
         },
         {
          "year_of_publication": 2012
         },
         {
          "year_of_publication": 2014
         },
         {
          "year_of_publication": 2014
         },
         {
          "year_of_publication": 2013
         },
         {
          "year_of_publication": 2015
         },
         {
          "year_of_publication": 2013
         },
         {
          "year_of_publication": 2014
         },
         {
          "year_of_publication": 2013
         },
         {
          "year_of_publication": 2013
         },
         {
          "year_of_publication": 2017
         },
         {
          "year_of_publication": 2016
         },
         {
          "year_of_publication": 2021
         },
         {
          "year_of_publication": 2014
         },
         {
          "year_of_publication": 2014
         },
         {
          "year_of_publication": 2016
         },
         {
          "year_of_publication": 2014
         },
         {
          "year_of_publication": 2017
         },
         {
          "year_of_publication": 2015
         },
         {
          "year_of_publication": 2017
         },
         {
          "year_of_publication": 2016
         },
         {
          "year_of_publication": 2017
         },
         {
          "year_of_publication": 2016
         },
         {
          "year_of_publication": 2015
         },
         {
          "year_of_publication": 2012
         },
         {
          "year_of_publication": 2013
         },
         {
          "year_of_publication": 2015
         },
         {
          "year_of_publication": 2017
         },
         {
          "year_of_publication": 2013
         },
         {
          "year_of_publication": 2012
         },
         {
          "year_of_publication": 2013
         },
         {
          "year_of_publication": 2016
         },
         {
          "year_of_publication": 2016
         },
         {
          "year_of_publication": 2014
         },
         {
          "year_of_publication": 2017
         },
         {
          "year_of_publication": 2013
         },
         {
          "year_of_publication": 2014
         },
         {
          "year_of_publication": 2012
         },
         {
          "year_of_publication": 2014
         },
         {
          "year_of_publication": 2015
         },
         {
          "year_of_publication": 2014
         },
         {
          "year_of_publication": 2013
         },
         {
          "year_of_publication": 2013
         },
         {
          "year_of_publication": 2017
         },
         {
          "year_of_publication": 2015
         },
         {
          "year_of_publication": 2014
         },
         {
          "year_of_publication": 2014
         },
         {
          "year_of_publication": 2012
         },
         {
          "year_of_publication": 2017
         },
         {
          "year_of_publication": 2014
         },
         {
          "year_of_publication": 2014
         },
         {
          "year_of_publication": 2015
         },
         {
          "year_of_publication": 2015
         },
         {
          "year_of_publication": 2014
         },
         {
          "year_of_publication": 2013
         },
         {
          "year_of_publication": 2012
         },
         {
          "year_of_publication": 2013
         },
         {
          "year_of_publication": 2015
         },
         {
          "year_of_publication": 2014
         },
         {
          "year_of_publication": 2012
         },
         {
          "year_of_publication": 2015
         },
         {
          "year_of_publication": 2012
         },
         {
          "year_of_publication": 2014
         },
         {
          "year_of_publication": 2014
         },
         {
          "year_of_publication": 2016
         },
         {
          "year_of_publication": 2014
         },
         {
          "year_of_publication": 2014
         },
         {
          "year_of_publication": 2015
         },
         {
          "year_of_publication": 2014
         },
         {
          "year_of_publication": 2014
         },
         {
          "year_of_publication": 2012
         },
         {
          "year_of_publication": 2014
         },
         {
          "year_of_publication": 2013
         },
         {
          "year_of_publication": 2014
         },
         {
          "year_of_publication": 2014
         },
         {
          "year_of_publication": 2014
         },
         {
          "year_of_publication": 2012
         },
         {
          "year_of_publication": 2014
         },
         {
          "year_of_publication": 2014
         },
         {
          "year_of_publication": 2017
         },
         {
          "year_of_publication": 2013
         },
         {
          "year_of_publication": 2017
         },
         {
          "year_of_publication": 2015
         },
         {
          "year_of_publication": 2013
         },
         {
          "year_of_publication": 2017
         },
         {
          "year_of_publication": 2015
         },
         {
          "year_of_publication": 2012
         },
         {
          "year_of_publication": 2015
         },
         {
          "year_of_publication": 2012
         },
         {
          "year_of_publication": 2015
         },
         {
          "year_of_publication": 2014
         },
         {
          "year_of_publication": 2015
         },
         {
          "year_of_publication": 2017
         },
         {
          "year_of_publication": 2016
         },
         {
          "year_of_publication": 2014
         },
         {
          "year_of_publication": 2017
         },
         {
          "year_of_publication": 2014
         },
         {
          "year_of_publication": 2017
         },
         {
          "year_of_publication": 2014
         },
         {
          "year_of_publication": 2015
         },
         {
          "year_of_publication": 2013
         },
         {
          "year_of_publication": 2012
         },
         {
          "year_of_publication": 2015
         },
         {
          "year_of_publication": 2016
         },
         {
          "year_of_publication": 2016
         },
         {
          "year_of_publication": 2014
         },
         {
          "year_of_publication": 2015
         },
         {
          "year_of_publication": 2016
         },
         {
          "year_of_publication": 2012
         },
         {
          "year_of_publication": 2014
         },
         {
          "year_of_publication": 2015
         },
         {
          "year_of_publication": 2015
         },
         {
          "year_of_publication": 2014
         },
         {
          "year_of_publication": 2014
         },
         {
          "year_of_publication": 2018
         },
         {
          "year_of_publication": 2018
         },
         {
          "year_of_publication": 2014
         },
         {
          "year_of_publication": 2015
         },
         {
          "year_of_publication": 2015
         },
         {
          "year_of_publication": 2015
         },
         {
          "year_of_publication": 2015
         },
         {
          "year_of_publication": 2014
         },
         {
          "year_of_publication": 2016
         },
         {
          "year_of_publication": 2015
         },
         {
          "year_of_publication": 2015
         },
         {
          "year_of_publication": 2015
         },
         {
          "year_of_publication": 2014
         },
         {
          "year_of_publication": 2012
         },
         {
          "year_of_publication": 2015
         },
         {
          "year_of_publication": 2016
         },
         {
          "year_of_publication": 2015
         },
         {
          "year_of_publication": 2015
         },
         {
          "year_of_publication": 2015
         },
         {
          "year_of_publication": 2013
         },
         {
          "year_of_publication": 2014
         },
         {
          "year_of_publication": 2012
         },
         {
          "year_of_publication": 2015
         },
         {
          "year_of_publication": 2015
         },
         {
          "year_of_publication": 2013
         },
         {
          "year_of_publication": 2017
         },
         {
          "year_of_publication": 2014
         },
         {
          "year_of_publication": 2012
         },
         {
          "year_of_publication": 2015
         },
         {
          "year_of_publication": 2013
         },
         {
          "year_of_publication": 2015
         },
         {
          "year_of_publication": 2013
         },
         {
          "year_of_publication": 2015
         },
         {
          "year_of_publication": 2014
         },
         {
          "year_of_publication": 2015
         },
         {
          "year_of_publication": 2013
         },
         {
          "year_of_publication": 2014
         },
         {
          "year_of_publication": 2013
         },
         {
          "year_of_publication": 2014
         },
         {
          "year_of_publication": 2016
         },
         {
          "year_of_publication": 2013
         },
         {
          "year_of_publication": 2015
         },
         {
          "year_of_publication": 2014
         },
         {
          "year_of_publication": 2018
         },
         {
          "year_of_publication": 2015
         },
         {
          "year_of_publication": 2015
         },
         {
          "year_of_publication": 2014
         },
         {
          "year_of_publication": 2014
         },
         {
          "year_of_publication": 2015
         },
         {
          "year_of_publication": 2014
         },
         {
          "year_of_publication": 2017
         },
         {
          "year_of_publication": 2012
         },
         {
          "year_of_publication": 2016
         },
         {
          "year_of_publication": 2013
         },
         {
          "year_of_publication": 2016
         },
         {
          "year_of_publication": 2014
         },
         {
          "year_of_publication": 2018
         },
         {
          "year_of_publication": 2017
         },
         {
          "year_of_publication": 2012
         },
         {
          "year_of_publication": 2014
         },
         {
          "year_of_publication": 2013
         },
         {
          "year_of_publication": 2017
         },
         {
          "year_of_publication": 2015
         },
         {
          "year_of_publication": 2018
         },
         {
          "year_of_publication": 2014
         },
         {
          "year_of_publication": 2013
         },
         {
          "year_of_publication": 2015
         },
         {
          "year_of_publication": 2020
         },
         {
          "year_of_publication": 2016
         },
         {
          "year_of_publication": 2013
         },
         {
          "year_of_publication": 2015
         },
         {
          "year_of_publication": 2013
         },
         {
          "year_of_publication": 2017
         },
         {
          "year_of_publication": 2014
         },
         {
          "year_of_publication": 2015
         },
         {
          "year_of_publication": 2013
         },
         {
          "year_of_publication": 2015
         },
         {
          "year_of_publication": 2013
         },
         {
          "year_of_publication": 2012
         },
         {
          "year_of_publication": 2012
         },
         {
          "year_of_publication": 2016
         },
         {
          "year_of_publication": 2014
         },
         {
          "year_of_publication": 2017
         },
         {
          "year_of_publication": 2015
         },
         {
          "year_of_publication": 2015
         },
         {
          "year_of_publication": 2015
         },
         {
          "year_of_publication": 2015
         },
         {
          "year_of_publication": 2016
         },
         {
          "year_of_publication": 2014
         },
         {
          "year_of_publication": 2017
         },
         {
          "year_of_publication": 2018
         },
         {
          "year_of_publication": 2014
         },
         {
          "year_of_publication": 2012
         },
         {
          "year_of_publication": 2013
         },
         {
          "year_of_publication": 2016
         },
         {
          "year_of_publication": 2013
         },
         {
          "year_of_publication": 2015
         },
         {
          "year_of_publication": 2012
         },
         {
          "year_of_publication": 2015
         },
         {
          "year_of_publication": 2013
         },
         {
          "year_of_publication": 2018
         },
         {
          "year_of_publication": 2016
         },
         {
          "year_of_publication": 2014
         },
         {
          "year_of_publication": 2013
         },
         {
          "year_of_publication": 2015
         },
         {
          "year_of_publication": 2013
         },
         {
          "year_of_publication": 2012
         },
         {
          "year_of_publication": 2016
         },
         {
          "year_of_publication": 2016
         },
         {
          "year_of_publication": 2013
         },
         {
          "year_of_publication": 2014
         },
         {
          "year_of_publication": 2016
         },
         {
          "year_of_publication": 2014
         },
         {
          "year_of_publication": 2018
         },
         {
          "year_of_publication": 2016
         },
         {
          "year_of_publication": 2014
         },
         {
          "year_of_publication": 2017
         },
         {
          "year_of_publication": 2016
         },
         {
          "year_of_publication": 2014
         },
         {
          "year_of_publication": 2014
         },
         {
          "year_of_publication": 2013
         },
         {
          "year_of_publication": 2015
         },
         {
          "year_of_publication": 2014
         },
         {
          "year_of_publication": 2017
         },
         {
          "year_of_publication": 2014
         },
         {
          "year_of_publication": 2014
         },
         {
          "year_of_publication": 2012
         },
         {
          "year_of_publication": 2015
         },
         {
          "year_of_publication": 2013
         },
         {
          "year_of_publication": 2017
         },
         {
          "year_of_publication": 2015
         },
         {
          "year_of_publication": 2015
         },
         {
          "year_of_publication": 2017
         },
         {
          "year_of_publication": 2013
         },
         {
          "year_of_publication": 2012
         },
         {
          "year_of_publication": 2014
         },
         {
          "year_of_publication": 2013
         },
         {
          "year_of_publication": 2016
         },
         {
          "year_of_publication": 2012
         },
         {
          "year_of_publication": 2016
         },
         {
          "year_of_publication": 2015
         },
         {
          "year_of_publication": 2013
         },
         {
          "year_of_publication": 2015
         },
         {
          "year_of_publication": 2015
         },
         {
          "year_of_publication": 2015
         },
         {
          "year_of_publication": 2013
         },
         {
          "year_of_publication": 2014
         },
         {
          "year_of_publication": 2017
         },
         {
          "year_of_publication": 2013
         },
         {
          "year_of_publication": 2013
         },
         {
          "year_of_publication": 2014
         },
         {
          "year_of_publication": 2012
         },
         {
          "year_of_publication": 2014
         },
         {
          "year_of_publication": 2013
         },
         {
          "year_of_publication": 2015
         },
         {
          "year_of_publication": 2014
         },
         {
          "year_of_publication": 2014
         },
         {
          "year_of_publication": 2014
         },
         {
          "year_of_publication": 2013
         },
         {
          "year_of_publication": 2015
         },
         {
          "year_of_publication": 2014
         },
         {
          "year_of_publication": 2013
         },
         {
          "year_of_publication": 2015
         },
         {
          "year_of_publication": 2013
         },
         {
          "year_of_publication": 2013
         },
         {
          "year_of_publication": 2013
         },
         {
          "year_of_publication": 2012
         },
         {
          "year_of_publication": 2014
         },
         {
          "year_of_publication": 2013
         },
         {
          "year_of_publication": 2014
         },
         {
          "year_of_publication": 2013
         },
         {
          "year_of_publication": 2014
         },
         {
          "year_of_publication": 2014
         },
         {
          "year_of_publication": 2012
         },
         {
          "year_of_publication": 2013
         },
         {
          "year_of_publication": 2015
         },
         {
          "year_of_publication": 2014
         },
         {
          "year_of_publication": 2013
         },
         {
          "year_of_publication": 2012
         },
         {
          "year_of_publication": 2015
         },
         {
          "year_of_publication": 2015
         },
         {
          "year_of_publication": 2014
         },
         {
          "year_of_publication": 2014
         },
         {
          "year_of_publication": 2012
         },
         {
          "year_of_publication": 2016
         },
         {
          "year_of_publication": 2012
         },
         {
          "year_of_publication": 2015
         },
         {
          "year_of_publication": 2016
         },
         {
          "year_of_publication": 2015
         },
         {
          "year_of_publication": 2012
         },
         {
          "year_of_publication": 2014
         },
         {
          "year_of_publication": 2015
         },
         {
          "year_of_publication": 2014
         },
         {
          "year_of_publication": 2016
         },
         {
          "year_of_publication": 2017
         },
         {
          "year_of_publication": 2014
         },
         {
          "year_of_publication": 2012
         },
         {
          "year_of_publication": 2014
         },
         {
          "year_of_publication": 2015
         },
         {
          "year_of_publication": 2014
         },
         {
          "year_of_publication": 2015
         },
         {
          "year_of_publication": 2016
         },
         {
          "year_of_publication": 2015
         },
         {
          "year_of_publication": 2013
         },
         {
          "year_of_publication": 2018
         },
         {
          "year_of_publication": 2016
         },
         {
          "year_of_publication": 2014
         },
         {
          "year_of_publication": 2014
         },
         {
          "year_of_publication": 2016
         },
         {
          "year_of_publication": 2017
         },
         {
          "year_of_publication": 2017
         },
         {
          "year_of_publication": 2014
         },
         {
          "year_of_publication": 2015
         },
         {
          "year_of_publication": 2012
         },
         {
          "year_of_publication": 2017
         },
         {
          "year_of_publication": 2014
         },
         {
          "year_of_publication": 2017
         },
         {
          "year_of_publication": 2014
         },
         {
          "year_of_publication": 2018
         },
         {
          "year_of_publication": 2016
         },
         {
          "year_of_publication": 2014
         },
         {
          "year_of_publication": 2013
         },
         {
          "year_of_publication": 2013
         },
         {
          "year_of_publication": 2017
         },
         {
          "year_of_publication": 2017
         },
         {
          "year_of_publication": 2013
         },
         {
          "year_of_publication": 2015
         },
         {
          "year_of_publication": 2014
         },
         {
          "year_of_publication": 2013
         },
         {
          "year_of_publication": 2015
         },
         {
          "year_of_publication": 2012
         },
         {
          "year_of_publication": 2012
         },
         {
          "year_of_publication": 2015
         },
         {
          "year_of_publication": 2014
         },
         {
          "year_of_publication": 2012
         },
         {
          "year_of_publication": 2016
         },
         {
          "year_of_publication": 2015
         },
         {
          "year_of_publication": 2014
         },
         {
          "year_of_publication": 2019
         },
         {
          "year_of_publication": 2015
         },
         {
          "year_of_publication": 2012
         },
         {
          "year_of_publication": 2014
         },
         {
          "year_of_publication": 2014
         },
         {
          "year_of_publication": 2015
         },
         {
          "year_of_publication": 2015
         },
         {
          "year_of_publication": 2015
         },
         {
          "year_of_publication": 2013
         },
         {
          "year_of_publication": 2015
         },
         {
          "year_of_publication": 2017
         },
         {
          "year_of_publication": 2015
         },
         {
          "year_of_publication": 2017
         },
         {
          "year_of_publication": 2014
         },
         {
          "year_of_publication": 2015
         },
         {
          "year_of_publication": 2013
         },
         {
          "year_of_publication": 2013
         },
         {
          "year_of_publication": 2014
         },
         {
          "year_of_publication": 2016
         },
         {
          "year_of_publication": 2015
         },
         {
          "year_of_publication": 2013
         },
         {
          "year_of_publication": 2013
         },
         {
          "year_of_publication": 2017
         },
         {
          "year_of_publication": 2015
         },
         {
          "year_of_publication": 2014
         },
         {
          "year_of_publication": 2014
         },
         {
          "year_of_publication": 2014
         },
         {
          "year_of_publication": 2016
         },
         {
          "year_of_publication": 2012
         },
         {
          "year_of_publication": 2014
         },
         {
          "year_of_publication": 2014
         },
         {
          "year_of_publication": 2015
         },
         {
          "year_of_publication": 2012
         },
         {
          "year_of_publication": 2016
         },
         {
          "year_of_publication": 2014
         },
         {
          "year_of_publication": 2016
         },
         {
          "year_of_publication": 2014
         },
         {
          "year_of_publication": 2012
         },
         {
          "year_of_publication": 2017
         },
         {
          "year_of_publication": 2013
         },
         {
          "year_of_publication": 2015
         },
         {
          "year_of_publication": 2013
         },
         {
          "year_of_publication": 2014
         },
         {
          "year_of_publication": 2012
         },
         {
          "year_of_publication": 2014
         },
         {
          "year_of_publication": 2013
         },
         {
          "year_of_publication": 2016
         },
         {
          "year_of_publication": 2016
         },
         {
          "year_of_publication": 2012
         },
         {
          "year_of_publication": 2015
         },
         {
          "year_of_publication": 2013
         },
         {
          "year_of_publication": 2014
         },
         {
          "year_of_publication": 2015
         },
         {
          "year_of_publication": 2016
         },
         {
          "year_of_publication": 2014
         },
         {
          "year_of_publication": 2014
         },
         {
          "year_of_publication": 2017
         },
         {
          "year_of_publication": 2015
         },
         {
          "year_of_publication": 2015
         },
         {
          "year_of_publication": 2014
         },
         {
          "year_of_publication": 2012
         },
         {
          "year_of_publication": 2017
         },
         {
          "year_of_publication": 2012
         },
         {
          "year_of_publication": 2017
         },
         {
          "year_of_publication": 2012
         },
         {
          "year_of_publication": 2014
         },
         {
          "year_of_publication": 2015
         },
         {
          "year_of_publication": 2014
         },
         {
          "year_of_publication": 2015
         },
         {
          "year_of_publication": 2012
         },
         {
          "year_of_publication": 2015
         },
         {
          "year_of_publication": 2016
         },
         {
          "year_of_publication": 2017
         },
         {
          "year_of_publication": 2013
         },
         {
          "year_of_publication": 2014
         },
         {
          "year_of_publication": 2015
         },
         {
          "year_of_publication": 2015
         },
         {
          "year_of_publication": 2015
         },
         {
          "year_of_publication": 2015
         },
         {
          "year_of_publication": 2015
         },
         {
          "year_of_publication": 2015
         },
         {
          "year_of_publication": 2015
         },
         {
          "year_of_publication": 2015
         },
         {
          "year_of_publication": 2015
         },
         {
          "year_of_publication": 2016
         },
         {
          "year_of_publication": 2016
         },
         {
          "year_of_publication": 2014
         },
         {
          "year_of_publication": 2013
         },
         {
          "year_of_publication": 2015
         },
         {
          "year_of_publication": 2015
         },
         {
          "year_of_publication": 2015
         },
         {
          "year_of_publication": 2013
         },
         {
          "year_of_publication": 2017
         },
         {
          "year_of_publication": 2015
         },
         {
          "year_of_publication": 2012
         },
         {
          "year_of_publication": 2015
         },
         {
          "year_of_publication": 2015
         },
         {
          "year_of_publication": 2013
         },
         {
          "year_of_publication": 2013
         },
         {
          "year_of_publication": 2016
         },
         {
          "year_of_publication": 2015
         },
         {
          "year_of_publication": 2016
         },
         {
          "year_of_publication": 2013
         },
         {
          "year_of_publication": 2014
         },
         {
          "year_of_publication": 2017
         },
         {
          "year_of_publication": 2012
         },
         {
          "year_of_publication": 2016
         },
         {
          "year_of_publication": 2015
         },
         {
          "year_of_publication": 2014
         },
         {
          "year_of_publication": 2014
         },
         {
          "year_of_publication": 2015
         },
         {
          "year_of_publication": 2017
         },
         {
          "year_of_publication": 2012
         },
         {
          "year_of_publication": 2014
         },
         {
          "year_of_publication": 2012
         },
         {
          "year_of_publication": 2018
         },
         {
          "year_of_publication": 2014
         },
         {
          "year_of_publication": 2018
         },
         {
          "year_of_publication": 2013
         },
         {
          "year_of_publication": 2015
         },
         {
          "year_of_publication": 2016
         },
         {
          "year_of_publication": 2013
         },
         {
          "year_of_publication": 2016
         },
         {
          "year_of_publication": 2014
         },
         {
          "year_of_publication": 2015
         },
         {
          "year_of_publication": 2015
         },
         {
          "year_of_publication": 2016
         },
         {
          "year_of_publication": 2015
         },
         {
          "year_of_publication": 2014
         },
         {
          "year_of_publication": 2015
         },
         {
          "year_of_publication": 2015
         },
         {
          "year_of_publication": 2018
         },
         {
          "year_of_publication": 2014
         },
         {
          "year_of_publication": 2013
         },
         {
          "year_of_publication": 2012
         },
         {
          "year_of_publication": 2014
         },
         {
          "year_of_publication": 2012
         },
         {
          "year_of_publication": 2017
         },
         {
          "year_of_publication": 2014
         },
         {
          "year_of_publication": 2014
         },
         {
          "year_of_publication": 2014
         },
         {
          "year_of_publication": 2015
         },
         {
          "year_of_publication": 2015
         },
         {
          "year_of_publication": 2013
         },
         {
          "year_of_publication": 2016
         },
         {
          "year_of_publication": 2016
         },
         {
          "year_of_publication": 2014
         },
         {
          "year_of_publication": 2014
         },
         {
          "year_of_publication": 2016
         },
         {
          "year_of_publication": 2015
         },
         {
          "year_of_publication": 2015
         },
         {
          "year_of_publication": 2015
         },
         {
          "year_of_publication": 2013
         },
         {
          "year_of_publication": 2015
         },
         {
          "year_of_publication": 2015
         },
         {
          "year_of_publication": 2015
         },
         {
          "year_of_publication": 2016
         },
         {
          "year_of_publication": 2013
         },
         {
          "year_of_publication": 2015
         },
         {
          "year_of_publication": 2017
         },
         {
          "year_of_publication": 2012
         },
         {
          "year_of_publication": 2015
         },
         {
          "year_of_publication": 2015
         },
         {
          "year_of_publication": 2012
         },
         {
          "year_of_publication": 2016
         },
         {
          "year_of_publication": 2014
         },
         {
          "year_of_publication": 2012
         },
         {
          "year_of_publication": 2013
         },
         {
          "year_of_publication": 2013
         },
         {
          "year_of_publication": 2015
         },
         {
          "year_of_publication": 2015
         },
         {
          "year_of_publication": 2016
         },
         {
          "year_of_publication": 2012
         },
         {
          "year_of_publication": 2017
         },
         {
          "year_of_publication": 2014
         },
         {
          "year_of_publication": 2012
         },
         {
          "year_of_publication": 2015
         },
         {
          "year_of_publication": 2016
         },
         {
          "year_of_publication": 2015
         },
         {
          "year_of_publication": 2014
         },
         {
          "year_of_publication": 2017
         },
         {
          "year_of_publication": 2013
         },
         {
          "year_of_publication": 2014
         },
         {
          "year_of_publication": 2015
         },
         {
          "year_of_publication": 2014
         },
         {
          "year_of_publication": 2015
         },
         {
          "year_of_publication": 2016
         },
         {
          "year_of_publication": 2017
         },
         {
          "year_of_publication": 2015
         },
         {
          "year_of_publication": 2016
         },
         {
          "year_of_publication": 2014
         },
         {
          "year_of_publication": 2015
         },
         {
          "year_of_publication": 2015
         },
         {
          "year_of_publication": 2015
         },
         {
          "year_of_publication": 2017
         },
         {
          "year_of_publication": 2013
         },
         {
          "year_of_publication": 2013
         },
         {
          "year_of_publication": 2013
         },
         {
          "year_of_publication": 2015
         },
         {
          "year_of_publication": 2012
         },
         {
          "year_of_publication": 2015
         },
         {
          "year_of_publication": 2017
         },
         {
          "year_of_publication": 2012
         },
         {
          "year_of_publication": 2016
         },
         {
          "year_of_publication": 2014
         },
         {
          "year_of_publication": 2016
         },
         {
          "year_of_publication": 2014
         },
         {
          "year_of_publication": 2016
         },
         {
          "year_of_publication": 2016
         },
         {
          "year_of_publication": 2014
         },
         {
          "year_of_publication": 2018
         },
         {
          "year_of_publication": 2012
         },
         {
          "year_of_publication": 2016
         },
         {
          "year_of_publication": 2014
         },
         {
          "year_of_publication": 2013
         },
         {
          "year_of_publication": 2016
         },
         {
          "year_of_publication": 2014
         },
         {
          "year_of_publication": 2012
         },
         {
          "year_of_publication": 2017
         },
         {
          "year_of_publication": 2019
         },
         {
          "year_of_publication": 2015
         },
         {
          "year_of_publication": 2013
         },
         {
          "year_of_publication": 2015
         },
         {
          "year_of_publication": 2016
         },
         {
          "year_of_publication": 2014
         },
         {
          "year_of_publication": 2016
         },
         {
          "year_of_publication": 2017
         },
         {
          "year_of_publication": 2014
         },
         {
          "year_of_publication": 2016
         },
         {
          "year_of_publication": 2012
         },
         {
          "year_of_publication": 2014
         },
         {
          "year_of_publication": 2013
         },
         {
          "year_of_publication": 2014
         },
         {
          "year_of_publication": 2016
         },
         {
          "year_of_publication": 2014
         },
         {
          "year_of_publication": 2015
         },
         {
          "year_of_publication": 2016
         },
         {
          "year_of_publication": 2012
         },
         {
          "year_of_publication": 2013
         },
         {
          "year_of_publication": 2015
         },
         {
          "year_of_publication": 2014
         },
         {
          "year_of_publication": 2015
         },
         {
          "year_of_publication": 2013
         },
         {
          "year_of_publication": 2013
         },
         {
          "year_of_publication": 2012
         },
         {
          "year_of_publication": 2016
         },
         {
          "year_of_publication": 2017
         },
         {
          "year_of_publication": 2014
         },
         {
          "year_of_publication": 2012
         },
         {
          "year_of_publication": 2017
         },
         {
          "year_of_publication": 2016
         },
         {
          "year_of_publication": 2014
         },
         {
          "year_of_publication": 2017
         },
         {
          "year_of_publication": 2015
         },
         {
          "year_of_publication": 2014
         },
         {
          "year_of_publication": 2012
         },
         {
          "year_of_publication": 2013
         },
         {
          "year_of_publication": 2015
         },
         {
          "year_of_publication": 2013
         },
         {
          "year_of_publication": 2014
         },
         {
          "year_of_publication": 2012
         },
         {
          "year_of_publication": 2015
         },
         {
          "year_of_publication": 2015
         },
         {
          "year_of_publication": 2013
         },
         {
          "year_of_publication": 2015
         },
         {
          "year_of_publication": 2014
         },
         {
          "year_of_publication": 2014
         },
         {
          "year_of_publication": 2014
         },
         {
          "year_of_publication": 2013
         },
         {
          "year_of_publication": 2014
         },
         {
          "year_of_publication": 2016
         },
         {
          "year_of_publication": 2014
         },
         {
          "year_of_publication": 2012
         },
         {
          "year_of_publication": 2014
         },
         {
          "year_of_publication": 2016
         },
         {
          "year_of_publication": 2015
         },
         {
          "year_of_publication": 2016
         },
         {
          "year_of_publication": 2014
         },
         {
          "year_of_publication": 2016
         },
         {
          "year_of_publication": 2014
         },
         {
          "year_of_publication": 2015
         },
         {
          "year_of_publication": 2015
         },
         {
          "year_of_publication": 2013
         },
         {
          "year_of_publication": 2014
         },
         {
          "year_of_publication": 2015
         },
         {
          "year_of_publication": 2015
         },
         {
          "year_of_publication": 2016
         },
         {
          "year_of_publication": 2014
         },
         {
          "year_of_publication": 2012
         },
         {
          "year_of_publication": 2015
         },
         {
          "year_of_publication": 2014
         },
         {
          "year_of_publication": 2013
         },
         {
          "year_of_publication": 2016
         },
         {
          "year_of_publication": 2012
         },
         {
          "year_of_publication": 2015
         },
         {
          "year_of_publication": 2014
         },
         {
          "year_of_publication": 2012
         },
         {
          "year_of_publication": 2016
         },
         {
          "year_of_publication": 2014
         },
         {
          "year_of_publication": 2015
         },
         {
          "year_of_publication": 2015
         },
         {
          "year_of_publication": 2014
         },
         {
          "year_of_publication": 2013
         },
         {
          "year_of_publication": 2014
         },
         {
          "year_of_publication": 2014
         },
         {
          "year_of_publication": 2016
         },
         {
          "year_of_publication": 2012
         },
         {
          "year_of_publication": 2016
         },
         {
          "year_of_publication": 2018
         },
         {
          "year_of_publication": 2015
         },
         {
          "year_of_publication": 2014
         },
         {
          "year_of_publication": 2013
         },
         {
          "year_of_publication": 2014
         },
         {
          "year_of_publication": 2015
         },
         {
          "year_of_publication": 2017
         },
         {
          "year_of_publication": 2015
         },
         {
          "year_of_publication": 2015
         },
         {
          "year_of_publication": 2015
         },
         {
          "year_of_publication": 2016
         },
         {
          "year_of_publication": 2015
         },
         {
          "year_of_publication": 2015
         },
         {
          "year_of_publication": 2015
         },
         {
          "year_of_publication": 2016
         },
         {
          "year_of_publication": 2016
         },
         {
          "year_of_publication": 2014
         },
         {
          "year_of_publication": 2021
         },
         {
          "year_of_publication": 2014
         },
         {
          "year_of_publication": 2013
         },
         {
          "year_of_publication": 2012
         },
         {
          "year_of_publication": 2014
         },
         {
          "year_of_publication": 2015
         },
         {
          "year_of_publication": 2012
         },
         {
          "year_of_publication": 2022
         },
         {
          "year_of_publication": 2017
         },
         {
          "year_of_publication": 2012
         },
         {
          "year_of_publication": 2016
         },
         {
          "year_of_publication": 2014
         },
         {
          "year_of_publication": 2014
         },
         {
          "year_of_publication": 2014
         },
         {
          "year_of_publication": 2014
         },
         {
          "year_of_publication": 2012
         },
         {
          "year_of_publication": 2016
         },
         {
          "year_of_publication": 2012
         },
         {
          "year_of_publication": 2015
         },
         {
          "year_of_publication": 2017
         },
         {
          "year_of_publication": 2013
         },
         {
          "year_of_publication": 2014
         },
         {
          "year_of_publication": 2016
         },
         {
          "year_of_publication": 2020
         },
         {
          "year_of_publication": 2012
         },
         {
          "year_of_publication": 2014
         },
         {
          "year_of_publication": 2013
         },
         {
          "year_of_publication": 2013
         },
         {
          "year_of_publication": 2014
         },
         {
          "year_of_publication": 2016
         },
         {
          "year_of_publication": 2012
         },
         {
          "year_of_publication": 2012
         },
         {
          "year_of_publication": 2013
         },
         {
          "year_of_publication": 2016
         },
         {
          "year_of_publication": 2015
         },
         {
          "year_of_publication": 2014
         },
         {
          "year_of_publication": 2015
         },
         {
          "year_of_publication": 2014
         },
         {
          "year_of_publication": 2016
         },
         {
          "year_of_publication": 2015
         },
         {
          "year_of_publication": 2013
         },
         {
          "year_of_publication": 2013
         },
         {
          "year_of_publication": 2017
         },
         {
          "year_of_publication": 2014
         },
         {
          "year_of_publication": 2015
         },
         {
          "year_of_publication": 2015
         },
         {
          "year_of_publication": 2012
         },
         {
          "year_of_publication": 2014
         },
         {
          "year_of_publication": 2013
         },
         {
          "year_of_publication": 2012
         },
         {
          "year_of_publication": 2014
         },
         {
          "year_of_publication": 2015
         },
         {
          "year_of_publication": 2013
         },
         {
          "year_of_publication": 2015
         },
         {
          "year_of_publication": 2014
         },
         {
          "year_of_publication": 2015
         },
         {
          "year_of_publication": 2013
         },
         {
          "year_of_publication": 2015
         },
         {
          "year_of_publication": 2017
         },
         {
          "year_of_publication": 2017
         },
         {
          "year_of_publication": 2015
         },
         {
          "year_of_publication": 2014
         },
         {
          "year_of_publication": 2014
         },
         {
          "year_of_publication": 2014
         },
         {
          "year_of_publication": 2016
         },
         {
          "year_of_publication": 2013
         },
         {
          "year_of_publication": 2017
         },
         {
          "year_of_publication": 2013
         },
         {
          "year_of_publication": 2014
         },
         {
          "year_of_publication": 2015
         },
         {
          "year_of_publication": 2015
         },
         {
          "year_of_publication": 2015
         },
         {
          "year_of_publication": 2015
         },
         {
          "year_of_publication": 2014
         },
         {
          "year_of_publication": 2013
         },
         {
          "year_of_publication": 2014
         },
         {
          "year_of_publication": 2015
         },
         {
          "year_of_publication": 2016
         },
         {
          "year_of_publication": 2016
         },
         {
          "year_of_publication": 2015
         },
         {
          "year_of_publication": 2013
         },
         {
          "year_of_publication": 2014
         },
         {
          "year_of_publication": 2015
         },
         {
          "year_of_publication": 2015
         },
         {
          "year_of_publication": 2012
         },
         {
          "year_of_publication": 2015
         },
         {
          "year_of_publication": 2012
         },
         {
          "year_of_publication": 2013
         },
         {
          "year_of_publication": 2015
         },
         {
          "year_of_publication": 2016
         },
         {
          "year_of_publication": 2015
         },
         {
          "year_of_publication": 2013
         },
         {
          "year_of_publication": 2015
         },
         {
          "year_of_publication": 2015
         },
         {
          "year_of_publication": 2014
         },
         {
          "year_of_publication": 2014
         },
         {
          "year_of_publication": 2014
         },
         {
          "year_of_publication": 2013
         },
         {
          "year_of_publication": 2013
         },
         {
          "year_of_publication": 2012
         },
         {
          "year_of_publication": 2015
         },
         {
          "year_of_publication": 2012
         },
         {
          "year_of_publication": 2015
         },
         {
          "year_of_publication": 2015
         },
         {
          "year_of_publication": 2015
         },
         {
          "year_of_publication": 2015
         },
         {
          "year_of_publication": 2014
         },
         {
          "year_of_publication": 2017
         },
         {
          "year_of_publication": 2015
         },
         {
          "year_of_publication": 2014
         },
         {
          "year_of_publication": 2015
         },
         {
          "year_of_publication": 2012
         },
         {
          "year_of_publication": 2014
         },
         {
          "year_of_publication": 2012
         },
         {
          "year_of_publication": 2016
         },
         {
          "year_of_publication": 2014
         },
         {
          "year_of_publication": 2016
         },
         {
          "year_of_publication": 2015
         },
         {
          "year_of_publication": 2014
         },
         {
          "year_of_publication": 2014
         },
         {
          "year_of_publication": 2012
         },
         {
          "year_of_publication": 2012
         },
         {
          "year_of_publication": 2013
         },
         {
          "year_of_publication": 2015
         },
         {
          "year_of_publication": 2015
         },
         {
          "year_of_publication": 2013
         },
         {
          "year_of_publication": 2016
         },
         {
          "year_of_publication": 2017
         },
         {
          "year_of_publication": 2015
         },
         {
          "year_of_publication": 2016
         },
         {
          "year_of_publication": 2013
         },
         {
          "year_of_publication": 2014
         },
         {
          "year_of_publication": 2014
         },
         {
          "year_of_publication": 2014
         },
         {
          "year_of_publication": 2015
         },
         {
          "year_of_publication": 2016
         },
         {
          "year_of_publication": 2014
         },
         {
          "year_of_publication": 2015
         },
         {
          "year_of_publication": 2014
         },
         {
          "year_of_publication": 2016
         },
         {
          "year_of_publication": 2012
         },
         {
          "year_of_publication": 2013
         },
         {
          "year_of_publication": 2014
         },
         {
          "year_of_publication": 2015
         },
         {
          "year_of_publication": 2014
         },
         {
          "year_of_publication": 2013
         },
         {
          "year_of_publication": 2016
         },
         {
          "year_of_publication": 2014
         },
         {
          "year_of_publication": 2012
         },
         {
          "year_of_publication": 2015
         },
         {
          "year_of_publication": 2014
         },
         {
          "year_of_publication": 2014
         },
         {
          "year_of_publication": 2015
         },
         {
          "year_of_publication": 2014
         },
         {
          "year_of_publication": 2012
         },
         {
          "year_of_publication": 2013
         },
         {
          "year_of_publication": 2015
         },
         {
          "year_of_publication": 2015
         },
         {
          "year_of_publication": 2014
         },
         {
          "year_of_publication": 2015
         },
         {
          "year_of_publication": 2013
         },
         {
          "year_of_publication": 2015
         },
         {
          "year_of_publication": 2012
         },
         {
          "year_of_publication": 2015
         },
         {
          "year_of_publication": 2016
         },
         {
          "year_of_publication": 2015
         },
         {
          "year_of_publication": 2017
         },
         {
          "year_of_publication": 2016
         },
         {
          "year_of_publication": 2016
         },
         {
          "year_of_publication": 2017
         },
         {
          "year_of_publication": 2018
         },
         {
          "year_of_publication": 2015
         },
         {
          "year_of_publication": 2013
         },
         {
          "year_of_publication": 2016
         },
         {
          "year_of_publication": 2014
         },
         {
          "year_of_publication": 2015
         },
         {
          "year_of_publication": 2018
         },
         {
          "year_of_publication": 2016
         },
         {
          "year_of_publication": 2014
         },
         {
          "year_of_publication": 2015
         },
         {
          "year_of_publication": 2014
         },
         {
          "year_of_publication": 2014
         },
         {
          "year_of_publication": 2015
         },
         {
          "year_of_publication": 2014
         },
         {
          "year_of_publication": 2012
         },
         {
          "year_of_publication": 2016
         },
         {
          "year_of_publication": 2016
         },
         {
          "year_of_publication": 2014
         },
         {
          "year_of_publication": 2014
         },
         {
          "year_of_publication": 2015
         },
         {
          "year_of_publication": 2015
         },
         {
          "year_of_publication": 2014
         },
         {
          "year_of_publication": 2014
         },
         {
          "year_of_publication": 2017
         },
         {
          "year_of_publication": 2012
         },
         {
          "year_of_publication": 2014
         },
         {
          "year_of_publication": 2016
         },
         {
          "year_of_publication": 2017
         },
         {
          "year_of_publication": 2016
         },
         {
          "year_of_publication": 2016
         },
         {
          "year_of_publication": 2017
         },
         {
          "year_of_publication": 2016
         },
         {
          "year_of_publication": 2013
         },
         {
          "year_of_publication": 2013
         },
         {
          "year_of_publication": 2015
         },
         {
          "year_of_publication": 2015
         },
         {
          "year_of_publication": 2014
         },
         {
          "year_of_publication": 2012
         },
         {
          "year_of_publication": 2017
         },
         {
          "year_of_publication": 2015
         },
         {
          "year_of_publication": 2016
         },
         {
          "year_of_publication": 2015
         },
         {
          "year_of_publication": 2012
         },
         {
          "year_of_publication": 2017
         },
         {
          "year_of_publication": 2016
         },
         {
          "year_of_publication": 2013
         },
         {
          "year_of_publication": 2016
         },
         {
          "year_of_publication": 2015
         },
         {
          "year_of_publication": 2012
         },
         {
          "year_of_publication": 2014
         },
         {
          "year_of_publication": 2013
         },
         {
          "year_of_publication": 2014
         },
         {
          "year_of_publication": 2012
         },
         {
          "year_of_publication": 2015
         },
         {
          "year_of_publication": 2014
         },
         {
          "year_of_publication": 2015
         },
         {
          "year_of_publication": 2014
         },
         {
          "year_of_publication": 2015
         },
         {
          "year_of_publication": 2014
         },
         {
          "year_of_publication": 2012
         },
         {
          "year_of_publication": 2013
         },
         {
          "year_of_publication": 2013
         },
         {
          "year_of_publication": 2014
         },
         {
          "year_of_publication": 2014
         },
         {
          "year_of_publication": 2016
         },
         {
          "year_of_publication": 2014
         },
         {
          "year_of_publication": 2014
         },
         {
          "year_of_publication": 2015
         },
         {
          "year_of_publication": 2016
         },
         {
          "year_of_publication": 2017
         },
         {
          "year_of_publication": 2017
         },
         {
          "year_of_publication": 2013
         },
         {
          "year_of_publication": 2016
         },
         {
          "year_of_publication": 2012
         },
         {
          "year_of_publication": 2013
         },
         {
          "year_of_publication": 2015
         },
         {
          "year_of_publication": 2013
         },
         {
          "year_of_publication": 2016
         }
        ]
       },
       "encoding": {
        "x": {
         "bin": true,
         "field": "year_of_publication",
         "title": "Year of publication",
         "type": "nominal"
        },
        "y": {
         "aggregate": "count",
         "title": "Count of articles",
         "type": "quantitative"
        }
       },
       "height": 400,
       "mark": {
        "type": "bar"
       },
       "width": 400
      },
      "image/png": "[encoded data removed]",
      "text/plain": [
       "<VegaLite 5 object>\n",
       "\n",
       "If you see this message, it means the renderer has not been properly enabled\n",
       "for the frontend that you are using. For more information, see\n",
       "https://altair-viz.github.io/user_guide/display_frontends.html#troubleshooting\n"
      ]
     },
     "execution_count": 7,
     "metadata": {},
     "output_type": "execute_result"
    }
   ],
   "source": [
    "# some quick transformations and an altair histogram\n",
    "# note that we take a sample to fit into altair's 5000 record limit\n",
    "years_to_plot: pd.DataFrame = pd.DataFrame(\n",
    "    {\"year_of_publication\": [int(datetime.fromtimestamp(ts).year) for ts in business_news[\"date\"]]}).sample(4999)\n",
    "alt.Chart(years_to_plot).mark_bar().encode(\n",
    "    alt.X(\"year_of_publication:N\", bin=True, title=\"Year of publication\"),\n",
    "    y=alt.Y('count()', title=\"Count of articles\"),\n",
    ").properties(width=400, height=400)"
   ]
  },
  {
   "cell_type": "markdown",
   "id": "453dd57f-26d2-464a-bcee-f4808304ff00",
   "metadata": {},
   "source": [
    "The largest period time should be around 11 years as the oldest article is from 2012.\n",
    "\n",
    "As most articles are between 2012-2017 therefore 4 years can also make sense to differentiate the relatively scarce recent period.\n",
    "\n",
    "It can also make sense to give additional weight to more populous time periods - small differences there can be amplified by adding extra weight compared to regions where the data is scarce and differences are larger on average."
   ]
  },
  {
   "cell_type": "markdown",
   "id": "bb39ab0a-86c9-4bd6-98ca-013a223b2f18",
   "metadata": {},
   "source": [
    "## Set up Superlinked"
   ]
  },
  {
   "cell_type": "code",
   "execution_count": 8,
   "id": "363d1bfb-a842-49b6-a822-99db1f18daa8",
   "metadata": {},
   "outputs": [],
   "source": [
    "# set up schema to accomodate our inputs\n",
    "@schema\n",
    "class NewsSchema:\n",
    "    description: String\n",
    "    headline: String\n",
    "    release_timestamp: Timestamp\n",
    "    id: IdField"
   ]
  },
  {
   "cell_type": "code",
   "execution_count": 9,
   "id": "7b17ee72-539f-459a-ab8e-f1918579987d",
   "metadata": {},
   "outputs": [],
   "source": [
    "news = NewsSchema()"
   ]
  },
  {
   "cell_type": "code",
   "execution_count": 10,
   "id": "abba40ea-a250-4b12-ad4b-ef90155c3175",
   "metadata": {},
   "outputs": [],
   "source": [
    "# textual characteristics are embedded using a sentence-transformers model\n",
    "description_space = TextSimilaritySpace(text=news.description, model=\"sentence-transformers/all-mpnet-base-v2\")\n",
    "headline_space = TextSimilaritySpace(text=news.headline, model=\"sentence-transformers/all-mpnet-base-v2\")\n",
    "# release date is encoded using our recency embedding algorithm\n",
    "recency_space = RecencySpace(timestamp=news.release_timestamp, period_time_list=[\n",
    "    PeriodTime(timedelta(days=4 * YEAR_IN_DAYS), weight=1),\n",
    "    PeriodTime(timedelta(days=11 * YEAR_IN_DAYS), weight=2)],\n",
    "    negative_filter=0.0)"
   ]
  },
  {
   "cell_type": "code",
   "execution_count": 11,
   "id": "88e05778-8ab1-49c9-922d-cd825c65b93a",
   "metadata": {},
   "outputs": [],
   "source": [
    "# we create an index of our spaces\n",
    "news_index = Index(spaces=[description_space, headline_space, recency_space])"
   ]
  },
  {
   "cell_type": "code",
   "execution_count": 12,
   "id": "b56927bf-503c-4f08-98c4-f5f9a49690af",
   "metadata": {},
   "outputs": [],
   "source": [
    "# simple query will serve us right when we simply want to search the dataset with a search term\n",
    "# the term will search in both textual fields\n",
    "# and we will have to option to weight certain inputs' importance\n",
    "simple_query = (\n",
    "    Query(news_index, weights={\n",
    "        description_space: Param(\"description_weight\"),\n",
    "        headline_space: Param(\"headline_weight\"),\n",
    "        recency_space: Param(\"recency_weight\")\n",
    "    })\n",
    "    .find(news)\n",
    "    .similar(description_space.text, Param(\"query_text\"))\n",
    "    .similar(headline_space.text, Param(\"query_text\"))\n",
    "    .limit(TOP_N)\n",
    ")\n",
    "\n",
    "# news query on the other hand will search in the database with the vector of a news article\n",
    "# weighting possibility is still there\n",
    "news_query = (\n",
    "    Query(news_index, weights={\n",
    "        description_space: Param(\"description_weight\"),\n",
    "        headline_space: Param(\"headline_weight\"),\n",
    "        recency_space: Param(\"recency_weight\")\n",
    "    })\n",
    "    .find(news)\n",
    "    .with_vector(news, Param(\"news_id\"))\n",
    "    .limit(TOP_N)\n",
    ")"
   ]
  },
  {
   "cell_type": "code",
   "execution_count": 13,
   "id": "22069eb1-16d6-40db-b5ba-127fa1efa86e",
   "metadata": {},
   "outputs": [],
   "source": [
    "dataframe_parser = DataFrameParser(schema=news, mapping={news.release_timestamp: \"date\", news.description: \"short_description\"})"
   ]
  },
  {
   "cell_type": "code",
   "execution_count": 14,
   "id": "14335931-ba95-45ec-8cb6-19f5e4905fbd",
   "metadata": {},
   "outputs": [],
   "source": [
    "source: InMemorySource = InMemorySource(news, parser=dataframe_parser)\n",
    "executor: InMemoryExecutor = InMemoryExecutor(sources=[source], indices=[news_index], context_data=EXECUTOR_DATA)\n",
    "app: InMemoryApp = executor.run()"
   ]
  },
  {
   "cell_type": "markdown",
   "id": "34d44728-5ea7-4114-9c94-a2198e96c77f",
   "metadata": {},
   "source": [
    "This next one might take a few minutes to run. It is scientifically proven, that watching [this video](https://www.youtube.com/watch?v=1prweT95Mo0&ab_channel=YoYoMaVEVO) will make you feel better and the following cell would also probably run meanwhile. If not, you can still do something quick while smiling."
   ]
  },
  {
   "cell_type": "code",
   "execution_count": 15,
   "id": "683cbd59-0744-4cd9-9a36-18814be79760",
   "metadata": {},
   "outputs": [],
   "source": [
    "source.put([business_news])"
   ]
  },
  {
   "cell_type": "markdown",
   "id": "6af286dc-898f-4e7a-8b16-8672bb96b51d",
   "metadata": {},
   "source": [
    "## Understanding recency"
   ]
  },
  {
   "cell_type": "code",
   "execution_count": 16,
   "id": "ec9bde52-d7e8-4c34-8e27-5c512ef08c87",
   "metadata": {},
   "outputs": [
    {
     "data": {
      "application/vnd.vegalite.v5+json": {
       "$schema": "https://vega.github.io/schema/vega-lite/v5.16.3.json",
       "config": {
        "view": {
         "continuousHeight": 300,
         "continuousWidth": 300
        }
       },
       "data": {
        "name": "data-1989935cba1d8c07d4102c7a3f8ab72b"
       },
       "datasets": {
        "data-1989935cba1d8c07d4102c7a3f8ab72b": [
         {
          "date": "2012-01-19T23:28:02",
          "score": 0
         },
         {
          "date": "2012-01-24T09:34:09.567568",
          "score": 0
         },
         {
          "date": "2012-01-28T19:40:17.135135",
          "score": 0
         },
         {
          "date": "2012-02-02T05:46:24.702703",
          "score": 0
         },
         {
          "date": "2012-02-06T15:52:32.270270",
          "score": 0
         },
         {
          "date": "2012-02-11T01:58:39.837838",
          "score": 0
         },
         {
          "date": "2012-02-15T12:04:47.405406",
          "score": 0
         },
         {
          "date": "2012-02-19T22:10:54.972973",
          "score": 0
         },
         {
          "date": "2012-02-24T08:17:02.540540",
          "score": 0
         },
         {
          "date": "2012-02-28T18:23:10.108108",
          "score": 0
         },
         {
          "date": "2012-03-04T04:29:17.675676",
          "score": 0
         },
         {
          "date": "2012-03-08T14:35:25.243243",
          "score": 0
         },
         {
          "date": "2012-03-13T00:41:32.810811",
          "score": 0
         },
         {
          "date": "2012-03-17T10:47:40.378378",
          "score": 0
         },
         {
          "date": "2012-03-21T20:53:47.945946",
          "score": 0
         },
         {
          "date": "2012-03-26T07:59:55.513514",
          "score": 0
         },
         {
          "date": "2012-03-30T18:06:03.081081",
          "score": 0
         },
         {
          "date": "2012-04-04T04:12:10.648649",
          "score": 0
         },
         {
          "date": "2012-04-08T14:18:18.216216",
          "score": 0
         },
         {
          "date": "2012-04-13T00:24:25.783784",
          "score": 0
         },
         {
          "date": "2012-04-17T10:30:33.351351",
          "score": 0
         },
         {
          "date": "2012-04-21T20:36:40.918919",
          "score": 0
         },
         {
          "date": "2012-04-26T06:42:48.486486",
          "score": 0
         },
         {
          "date": "2012-04-30T16:48:56.054054",
          "score": 0
         },
         {
          "date": "2012-05-05T02:55:03.621622",
          "score": 0
         },
         {
          "date": "2012-05-09T13:01:11.189189",
          "score": 0
         },
         {
          "date": "2012-05-13T23:07:18.756757",
          "score": 0
         },
         {
          "date": "2012-05-18T09:13:26.324324",
          "score": 0
         },
         {
          "date": "2012-05-22T19:19:33.891892",
          "score": 0
         },
         {
          "date": "2012-05-27T05:25:41.459460",
          "score": 0
         },
         {
          "date": "2012-05-31T15:31:49.027027",
          "score": 0
         },
         {
          "date": "2012-06-05T01:37:56.594594",
          "score": 0
         },
         {
          "date": "2012-06-09T11:44:04.162162",
          "score": 0
         },
         {
          "date": "2012-06-13T21:50:11.729730",
          "score": 0
         },
         {
          "date": "2012-06-18T07:56:19.297297",
          "score": 0
         },
         {
          "date": "2012-06-22T18:02:26.864865",
          "score": 0
         },
         {
          "date": "2012-06-27T04:08:34.432432",
          "score": 0
         },
         {
          "date": "2012-07-01T14:14:42",
          "score": 0
         },
         {
          "date": "2012-07-06T00:20:49.567568",
          "score": 0
         },
         {
          "date": "2012-07-10T10:26:57.135135",
          "score": 0
         },
         {
          "date": "2012-07-14T20:33:04.702703",
          "score": 0
         },
         {
          "date": "2012-07-19T06:39:12.270270",
          "score": 0
         },
         {
          "date": "2012-07-23T16:45:19.837838",
          "score": 0
         },
         {
          "date": "2012-07-28T02:51:27.405406",
          "score": 0
         },
         {
          "date": "2012-08-01T12:57:34.972973",
          "score": 0
         },
         {
          "date": "2012-08-05T23:03:42.540540",
          "score": 0
         },
         {
          "date": "2012-08-10T09:09:50.108108",
          "score": 0
         },
         {
          "date": "2012-08-14T19:15:57.675676",
          "score": 0
         },
         {
          "date": "2012-08-19T05:22:05.243243",
          "score": 0
         },
         {
          "date": "2012-08-23T15:28:12.810811",
          "score": 0
         },
         {
          "date": "2012-08-28T01:34:20.378378",
          "score": 0
         },
         {
          "date": "2012-09-01T11:40:27.945946",
          "score": 0
         },
         {
          "date": "2012-09-05T21:46:35.513514",
          "score": 0
         },
         {
          "date": "2012-09-10T07:52:43.081081",
          "score": 0
         },
         {
          "date": "2012-09-14T17:58:50.648649",
          "score": 0
         },
         {
          "date": "2012-09-19T04:04:58.216216",
          "score": 0
         },
         {
          "date": "2012-09-23T14:11:05.783784",
          "score": 0
         },
         {
          "date": "2012-09-28T00:17:13.351351",
          "score": 0
         },
         {
          "date": "2012-10-02T10:23:20.918919",
          "score": 0
         },
         {
          "date": "2012-10-06T20:29:28.486486",
          "score": 0
         },
         {
          "date": "2012-10-11T06:35:36.054054",
          "score": 0
         },
         {
          "date": "2012-10-15T16:41:43.621622",
          "score": 0
         },
         {
          "date": "2012-10-20T02:47:51.189189",
          "score": 0
         },
         {
          "date": "2012-10-24T12:53:58.756757",
          "score": 0
         },
         {
          "date": "2012-10-28T22:00:06.324324",
          "score": 0
         },
         {
          "date": "2012-11-02T08:06:13.891892",
          "score": 0
         },
         {
          "date": "2012-11-06T18:12:21.459460",
          "score": 0
         },
         {
          "date": "2012-11-11T04:18:29.027027",
          "score": 0
         },
         {
          "date": "2012-11-15T14:24:36.594594",
          "score": 0
         },
         {
          "date": "2012-11-20T00:30:44.162162",
          "score": 0
         },
         {
          "date": "2012-11-24T10:36:51.729730",
          "score": 0
         },
         {
          "date": "2012-11-28T20:42:59.297297",
          "score": 0
         },
         {
          "date": "2012-12-03T06:49:06.864865",
          "score": 0
         },
         {
          "date": "2012-12-07T16:55:14.432432",
          "score": 0
         },
         {
          "date": "2012-12-12T03:01:22",
          "score": 0
         },
         {
          "date": "2012-12-16T13:07:29.567568",
          "score": 0
         },
         {
          "date": "2012-12-20T23:13:37.135135",
          "score": 0
         },
         {
          "date": "2012-12-25T09:19:44.702703",
          "score": 0
         },
         {
          "date": "2012-12-29T19:25:52.270270",
          "score": 0
         },
         {
          "date": "2013-01-03T05:31:59.837838",
          "score": 0
         },
         {
          "date": "2013-01-07T15:38:07.405406",
          "score": 0
         },
         {
          "date": "2013-01-12T01:44:14.972973",
          "score": 0
         },
         {
          "date": "2013-01-16T11:50:22.540540",
          "score": 0
         },
         {
          "date": "2013-01-20T21:56:30.108108",
          "score": 0
         },
         {
          "date": "2013-01-25T08:02:37.675676",
          "score": 0
         },
         {
          "date": "2013-01-29T18:08:45.243243",
          "score": 0
         },
         {
          "date": "2013-02-03T04:14:52.810811",
          "score": 0
         },
         {
          "date": "2013-02-07T14:21:00.378378",
          "score": 0
         },
         {
          "date": "2013-02-12T00:27:07.945946",
          "score": 0
         },
         {
          "date": "2013-02-16T10:33:15.513514",
          "score": 0
         },
         {
          "date": "2013-02-20T20:39:23.081081",
          "score": 0
         },
         {
          "date": "2013-02-25T06:45:30.648649",
          "score": 0.00025157898713368265
         },
         {
          "date": "2013-03-01T16:51:38.216216",
          "score": 0.0016352623045503556
         },
         {
          "date": "2013-03-06T02:57:45.783784",
          "score": 0.0030189407300266757
         },
         {
          "date": "2013-03-10T13:03:53.351351",
          "score": 0.00440261012423282
         },
         {
          "date": "2013-03-14T23:10:00.918919",
          "score": 0.005786266347882485
         },
         {
          "date": "2013-03-19T09:16:08.486486",
          "score": 0.007169905261715792
         },
         {
          "date": "2013-03-23T19:22:16.054054",
          "score": 0.008553522726528928
         },
         {
          "date": "2013-03-28T05:28:23.621622",
          "score": 0.009937114603181585
         },
         {
          "date": "2013-04-01T16:34:31.189189",
          "score": 0.011320676752608727
         },
         {
          "date": "2013-04-06T02:40:38.756757",
          "score": 0.012704205035842353
         },
         {
          "date": "2013-04-10T12:46:46.324324",
          "score": 0.01408769531400561
         },
         {
          "date": "2013-04-14T22:52:53.891892",
          "score": 0.01547114344833711
         },
         {
          "date": "2013-04-19T08:59:01.459460",
          "score": 0.01685454530021019
         },
         {
          "date": "2013-04-23T19:05:09.027027",
          "score": 0.018237896731126746
         },
         {
          "date": "2013-04-28T05:11:16.594594",
          "score": 0.019621193602742393
         },
         {
          "date": "2013-05-02T15:17:24.162162",
          "score": 0.021004431776874333
         },
         {
          "date": "2013-05-07T01:23:31.729730",
          "score": 0.02238760711552401
         },
         {
          "date": "2013-05-11T11:29:39.297297",
          "score": 0.02377071548087023
         },
         {
          "date": "2013-05-15T21:35:46.864865",
          "score": 0.025153752735294244
         },
         {
          "date": "2013-05-20T07:41:54.432432",
          "score": 0.02653671474139857
         },
         {
          "date": "2013-05-24T17:48:02",
          "score": 0.02791959736200017
         },
         {
          "date": "2013-05-29T03:54:09.567568",
          "score": 0.02930239646015914
         },
         {
          "date": "2013-06-02T14:00:17.135135",
          "score": 0.030685107899183273
         },
         {
          "date": "2013-06-07T00:06:24.702703",
          "score": 0.03206772754263992
         },
         {
          "date": "2013-06-11T10:12:32.270270",
          "score": 0.03345025125438089
         },
         {
          "date": "2013-06-15T20:18:39.837838",
          "score": 0.03483267489853631
         },
         {
          "date": "2013-06-20T06:24:47.405406",
          "score": 0.03621499433953451
         },
         {
          "date": "2013-06-24T16:30:54.972973",
          "score": 0.03759720544212386
         },
         {
          "date": "2013-06-29T02:37:02.540540",
          "score": 0.03897930407136979
         },
         {
          "date": "2013-07-03T12:43:10.108108",
          "score": 0.040361286092677195
         },
         {
          "date": "2013-07-07T22:49:17.675676",
          "score": 0.04174314737179452
         },
         {
          "date": "2013-07-12T08:55:25.243243",
          "score": 0.043124883774843026
         },
         {
          "date": "2013-07-16T19:01:32.810811",
          "score": 0.044506491168306794
         },
         {
          "date": "2013-07-21T05:07:40.378378",
          "score": 0.045887965419055154
         },
         {
          "date": "2013-07-25T15:13:47.945946",
          "score": 0.047269302394368606
         },
         {
          "date": "2013-07-30T01:19:55.513514",
          "score": 0.04865049796192522
         },
         {
          "date": "2013-08-03T11:26:03.081081",
          "score": 0.05003154798983078
         },
         {
          "date": "2013-08-07T21:32:10.648649",
          "score": 0.05141244834662556
         },
         {
          "date": "2013-08-12T07:38:18.216216",
          "score": 0.05279319490129597
         },
         {
          "date": "2013-08-16T17:44:25.783784",
          "score": 0.054173783523297436
         },
         {
          "date": "2013-08-21T03:50:33.351351",
          "score": 0.05555421008254313
         },
         {
          "date": "2013-08-25T13:56:40.918919",
          "score": 0.056934470449447994
         },
         {
          "date": "2013-08-30T00:02:48.486486",
          "score": 0.05831456049491074
         },
         {
          "date": "2013-09-03T10:08:56.054054",
          "score": 0.059694476090344395
         },
         {
          "date": "2013-09-07T20:15:03.621622",
          "score": 0.061074213107682795
         },
         {
          "date": "2013-09-12T06:21:11.189189",
          "score": 0.06245376741939279
         },
         {
          "date": "2013-09-16T16:27:18.756757",
          "score": 0.06383313489849601
         },
         {
          "date": "2013-09-21T02:33:26.324324",
          "score": 0.06521231141856282
         },
         {
          "date": "2013-09-25T12:39:33.891892",
          "score": 0.0665912928537366
         },
         {
          "date": "2013-09-29T22:45:41.459460",
          "score": 0.06797007507875291
         },
         {
          "date": "2013-10-04T08:51:49.027027",
          "score": 0.06934865396893347
         },
         {
          "date": "2013-10-08T18:57:56.594594",
          "score": 0.07072702540021103
         },
         {
          "date": "2013-10-13T05:04:04.162162",
          "score": 0.0721051852491375
         },
         {
          "date": "2013-10-17T15:10:11.729730",
          "score": 0.07348312939290641
         },
         {
          "date": "2013-10-22T01:16:19.297297",
          "score": 0.07486085370934564
         },
         {
          "date": "2013-10-26T11:22:26.864865",
          "score": 0.07623835407694324
         },
         {
          "date": "2013-10-30T20:28:34.432432",
          "score": 0.07761562637486535
         },
         {
          "date": "2013-11-04T06:34:42",
          "score": 0.07899266648294984
         },
         {
          "date": "2013-11-08T16:40:49.567568",
          "score": 0.08036947028173497
         },
         {
          "date": "2013-11-13T02:46:57.135135",
          "score": 0.08174603365246386
         },
         {
          "date": "2013-11-17T12:53:04.702703",
          "score": 0.08312235247709504
         },
         {
          "date": "2013-11-21T22:59:12.270270",
          "score": 0.08449842263833168
         },
         {
          "date": "2013-11-26T09:05:19.837838",
          "score": 0.08587424001960786
         },
         {
          "date": "2013-11-30T19:11:27.405406",
          "score": 0.0872498005051146
         },
         {
          "date": "2013-12-05T05:17:34.972973",
          "score": 0.08862509997982149
         },
         {
          "date": "2013-12-09T15:23:42.540540",
          "score": 0.0900001343294703
         },
         {
          "date": "2013-12-14T01:29:50.108108",
          "score": 0.09137489944059746
         },
         {
          "date": "2013-12-18T11:35:57.675676",
          "score": 0.09274939120054193
         },
         {
          "date": "2013-12-22T21:42:05.243243",
          "score": 0.09412360549747029
         },
         {
          "date": "2013-12-27T07:48:12.810811",
          "score": 0.09549753822037071
         },
         {
          "date": "2013-12-31T17:54:20.378378",
          "score": 0.09687118525907157
         },
         {
          "date": "2014-01-05T04:00:27.945946",
          "score": 0.09824454250426734
         },
         {
          "date": "2014-01-09T14:06:35.513514",
          "score": 0.09961760584750778
         },
         {
          "date": "2014-01-14T00:12:43.081081",
          "score": 0.10099037118122783
         },
         {
          "date": "2014-01-18T10:18:50.648649",
          "score": 0.10236283439875105
         },
         {
          "date": "2014-01-22T20:24:58.216216",
          "score": 0.10373499139430459
         },
         {
          "date": "2014-01-27T06:31:05.783784",
          "score": 0.1051068380630375
         },
         {
          "date": "2014-01-31T16:37:13.351351",
          "score": 0.10647837030101803
         },
         {
          "date": "2014-02-05T02:43:20.918919",
          "score": 0.10784958400526623
         },
         {
          "date": "2014-02-09T12:49:28.486486",
          "score": 0.10922047507374544
         },
         {
          "date": "2014-02-13T22:55:36.054054",
          "score": 0.11059103940538728
         },
         {
          "date": "2014-02-18T09:01:43.621622",
          "score": 0.11196127290010038
         },
         {
          "date": "2014-02-22T19:07:51.189189",
          "score": 0.11333117145878169
         },
         {
          "date": "2014-02-27T05:13:58.756757",
          "score": 0.1147007309833385
         },
         {
          "date": "2014-03-03T15:20:06.324324",
          "score": 0.11606994737668169
         },
         {
          "date": "2014-03-08T01:26:13.891892",
          "score": 0.11743881654275101
         },
         {
          "date": "2014-03-12T11:32:21.459460",
          "score": 0.11880733438653324
         },
         {
          "date": "2014-03-16T21:38:29.027027",
          "score": 0.1201754968140561
         },
         {
          "date": "2014-03-21T07:44:36.594594",
          "score": 0.12154329973241373
         },
         {
          "date": "2014-03-25T17:50:44.162162",
          "score": 0.12291073904977406
         },
         {
          "date": "2014-03-30T04:56:51.729730",
          "score": 0.12427781067540139
         },
         {
          "date": "2014-04-03T15:02:59.297297",
          "score": 0.1256445105196494
         },
         {
          "date": "2014-04-08T01:09:06.864865",
          "score": 0.12701083449398584
         },
         {
          "date": "2014-04-12T11:15:14.432432",
          "score": 0.12837677851101162
         },
         {
          "date": "2014-04-16T21:21:22",
          "score": 0.12974233848445366
         },
         {
          "date": "2014-04-21T07:27:29.567568",
          "score": 0.13110751032919324
         },
         {
          "date": "2014-04-25T17:33:37.135135",
          "score": 0.1324722899612709
         },
         {
          "date": "2014-04-30T03:39:44.702703",
          "score": 0.13383667329789678
         },
         {
          "date": "2014-05-04T13:45:52.270270",
          "score": 0.1352006562574793
         },
         {
          "date": "2014-05-08T23:51:59.837838",
          "score": 0.13656423475961182
         },
         {
          "date": "2014-05-13T09:58:07.405406",
          "score": 0.13792740472509868
         },
         {
          "date": "2014-05-17T20:04:14.972973",
          "score": 0.13929016207597586
         },
         {
          "date": "2014-05-22T06:10:22.540540",
          "score": 0.1406525027355054
         },
         {
          "date": "2014-05-26T16:16:30.108108",
          "score": 0.1420144226281973
         },
         {
          "date": "2014-05-31T02:22:37.675676",
          "score": 0.14337591767981686
         },
         {
          "date": "2014-06-04T12:28:45.243243",
          "score": 0.1447369838174127
         },
         {
          "date": "2014-06-08T22:34:52.810811",
          "score": 0.14609761696930423
         },
         {
          "date": "2014-06-13T08:41:00.378378",
          "score": 0.14745781306510655
         },
         {
          "date": "2014-06-17T18:47:07.945946",
          "score": 0.1488175680357524
         },
         {
          "date": "2014-06-22T04:53:15.513514",
          "score": 0.15017687781348538
         },
         {
          "date": "2014-06-26T14:59:23.081081",
          "score": 0.1515357383318825
         },
         {
          "date": "2014-07-01T01:05:30.648649",
          "score": 0.1528941455258648
         },
         {
          "date": "2014-07-05T11:11:38.216216",
          "score": 0.15425209533170783
         },
         {
          "date": "2014-07-09T21:17:45.783784",
          "score": 0.1556095836870641
         },
         {
          "date": "2014-07-14T07:23:53.351351",
          "score": 0.1569666065309531
         },
         {
          "date": "2014-07-18T17:30:00.918919",
          "score": 0.1583231598038009
         },
         {
          "date": "2014-07-23T03:36:08.486486",
          "score": 0.15967923944742723
         },
         {
          "date": "2014-07-27T13:42:16.054054",
          "score": 0.16103484140507415
         },
         {
          "date": "2014-07-31T23:48:23.621622",
          "score": 0.16238996162141017
         },
         {
          "date": "2014-08-05T09:54:31.189189",
          "score": 0.16374459604254457
         },
         {
          "date": "2014-08-09T20:00:38.756757",
          "score": 0.16509874061604585
         },
         {
          "date": "2014-08-14T06:06:46.324324",
          "score": 0.16645239129094214
         },
         {
          "date": "2014-08-18T16:12:53.891892",
          "score": 0.16780554401773645
         },
         {
          "date": "2014-08-23T02:19:01.459460",
          "score": 0.16915819474843222
         },
         {
          "date": "2014-08-27T12:25:09.027027",
          "score": 0.17051033943652394
         },
         {
          "date": "2014-08-31T22:31:16.594594",
          "score": 0.17186197403702522
         },
         {
          "date": "2014-09-05T08:37:24.162162",
          "score": 0.17321309450647013
         },
         {
          "date": "2014-09-09T18:43:31.729730",
          "score": 0.17456369680294181
         },
         {
          "date": "2014-09-14T04:49:39.297297",
          "score": 0.17591377688606272
         },
         {
          "date": "2014-09-18T14:55:46.864865",
          "score": 0.17726333071701916
         },
         {
          "date": "2014-09-23T01:01:54.432432",
          "score": 0.17861235425858044
         },
         {
          "date": "2014-09-27T11:08:02",
          "score": 0.17996084347509175
         },
         {
          "date": "2014-10-01T21:14:09.567568",
          "score": 0.1813087943325022
         },
         {
          "date": "2014-10-06T07:20:17.135135",
          "score": 0.18265620279836928
         },
         {
          "date": "2014-10-10T17:26:24.702703",
          "score": 0.18400306484186985
         },
         {
          "date": "2014-10-15T03:32:32.270270",
          "score": 0.18534937643382765
         },
         {
          "date": "2014-10-19T13:38:39.837838",
          "score": 0.18669513354670073
         },
         {
          "date": "2014-10-23T23:44:47.405406",
          "score": 0.18804033215460658
         },
         {
          "date": "2014-10-28T08:50:54.972973",
          "score": 0.1893849682333432
         },
         {
          "date": "2014-11-01T18:57:02.540540",
          "score": 0.19072903776038302
         },
         {
          "date": "2014-11-06T05:03:10.108108",
          "score": 0.19207253671489474
         },
         {
          "date": "2014-11-10T15:09:17.675676",
          "score": 0.1934154610777506
         },
         {
          "date": "2014-11-15T01:15:25.243243",
          "score": 0.19475780683155408
         },
         {
          "date": "2014-11-19T11:21:32.810811",
          "score": 0.1960995699606272
         },
         {
          "date": "2014-11-23T21:27:40.378378",
          "score": 0.19744074645103488
         },
         {
          "date": "2014-11-28T07:33:47.945946",
          "score": 0.19878133229060937
         },
         {
          "date": "2014-12-02T17:39:55.513514",
          "score": 0.20012132346893766
         },
         {
          "date": "2014-12-07T03:46:03.081081",
          "score": 0.20146071597738957
         },
         {
          "date": "2014-12-11T13:52:10.648649",
          "score": 0.20279950580912542
         },
         {
          "date": "2014-12-15T23:58:18.216216",
          "score": 0.20413768895910678
         },
         {
          "date": "2014-12-20T10:04:25.783784",
          "score": 0.20547526142411876
         },
         {
          "date": "2014-12-24T20:10:33.351351",
          "score": 0.20681221920275988
         },
         {
          "date": "2014-12-29T06:16:40.918919",
          "score": 0.20814855829548093
         },
         {
          "date": "2015-01-02T16:22:48.486486",
          "score": 0.20948427470457512
         },
         {
          "date": "2015-01-07T02:28:56.054054",
          "score": 0.2108193644341997
         },
         {
          "date": "2015-01-11T12:35:03.621622",
          "score": 0.212153823490387
         },
         {
          "date": "2015-01-15T22:41:11.189189",
          "score": 0.21348764788105423
         },
         {
          "date": "2015-01-20T08:47:18.756757",
          "score": 0.2148208336160258
         },
         {
          "date": "2015-01-24T18:53:26.324324",
          "score": 0.21615337670702606
         },
         {
          "date": "2015-01-29T04:59:33.891892",
          "score": 0.21748527316770505
         },
         {
          "date": "2015-02-02T15:05:41.459460",
          "score": 0.21881651901365226
         },
         {
          "date": "2015-02-07T01:11:49.027027",
          "score": 0.22014711026239833
         },
         {
          "date": "2015-02-11T11:17:56.594594",
          "score": 0.22147704293343196
         },
         {
          "date": "2015-02-15T21:24:04.162162",
          "score": 0.22280631304821216
         },
         {
          "date": "2015-02-20T07:30:11.729730",
          "score": 0.2241349166301854
         },
         {
          "date": "2015-02-24T17:36:19.297297",
          "score": 0.22546284970478653
         },
         {
          "date": "2015-03-01T03:42:26.864865",
          "score": 0.22679010829945379
         },
         {
          "date": "2015-03-05T13:48:34.432432",
          "score": 0.22811668844365382
         },
         {
          "date": "2015-03-09T23:54:42",
          "score": 0.22944258616887211
         },
         {
          "date": "2015-03-14T10:00:49.567568",
          "score": 0.2307677975086409
         },
         {
          "date": "2015-03-18T20:06:57.135135",
          "score": 0.23209231849854325
         },
         {
          "date": "2015-03-23T06:13:04.702703",
          "score": 0.23341614517622666
         },
         {
          "date": "2015-03-27T16:19:12.270270",
          "score": 0.23473927358142388
         },
         {
          "date": "2015-04-01T03:25:19.837838",
          "score": 0.23606169975594696
         },
         {
          "date": "2015-04-05T13:31:27.405406",
          "score": 0.23738341974370877
         },
         {
          "date": "2015-04-09T23:37:34.972973",
          "score": 0.23870442959074425
         },
         {
          "date": "2015-04-14T09:43:42.540540",
          "score": 0.24002472534520464
         },
         {
          "date": "2015-04-18T19:49:50.108108",
          "score": 0.24134430305737872
         },
         {
          "date": "2015-04-23T05:55:57.675676",
          "score": 0.24266315877970002
         },
         {
          "date": "2015-04-27T16:02:05.243243",
          "score": 0.24398128856677406
         },
         {
          "date": "2015-05-02T02:08:12.810811",
          "score": 0.2452986884753657
         },
         {
          "date": "2015-05-06T12:14:20.378378",
          "score": 0.2466153545644235
         },
         {
          "date": "2015-05-10T22:20:27.945946",
          "score": 0.24793128289510327
         },
         {
          "date": "2015-05-15T08:26:35.513514",
          "score": 0.2492464695307558
         },
         {
          "date": "2015-05-19T18:32:43.081081",
          "score": 0.2505609105369545
         },
         {
          "date": "2015-05-24T04:38:50.648649",
          "score": 0.2518746019815032
         },
         {
          "date": "2015-05-28T14:44:58.216216",
          "score": 0.25318753993444615
         },
         {
          "date": "2015-06-02T00:51:05.783784",
          "score": 0.2544997204680899
         },
         {
          "date": "2015-06-06T10:57:13.351351",
          "score": 0.25581113965699376
         },
         {
          "date": "2015-06-10T21:03:20.918919",
          "score": 0.2571217935780097
         },
         {
          "date": "2015-06-15T07:09:28.486486",
          "score": 0.25843167831026703
         },
         {
          "date": "2015-06-19T17:15:36.054054",
          "score": 0.25974078993520033
         },
         {
          "date": "2015-06-24T03:21:43.621622",
          "score": 0.2610491245365558
         },
         {
          "date": "2015-06-28T13:27:51.189189",
          "score": 0.2623566782004034
         },
         {
          "date": "2015-07-02T23:33:58.756757",
          "score": 0.26366344701515704
         },
         {
          "date": "2015-07-07T09:40:06.324324",
          "score": 0.26496942707156834
         },
         {
          "date": "2015-07-11T19:46:13.891892",
          "score": 0.2662746144627507
         },
         {
          "date": "2015-07-16T05:52:21.459460",
          "score": 0.267579005284197
         },
         {
          "date": "2015-07-20T15:58:29.027027",
          "score": 0.2688825956337726
         },
         {
          "date": "2015-07-25T02:04:36.594594",
          "score": 0.2701853816117433
         },
         {
          "date": "2015-07-29T12:10:44.162162",
          "score": 0.2714873593207757
         },
         {
          "date": "2015-08-02T22:16:51.729730",
          "score": 0.27278852486596494
         },
         {
          "date": "2015-08-07T08:22:59.297297",
          "score": 0.27408887435482515
         },
         {
          "date": "2015-08-11T18:29:06.864865",
          "score": 0.27538840389731456
         },
         {
          "date": "2015-08-16T04:35:14.432432",
          "score": 0.2766871096058493
         },
         {
          "date": "2015-08-20T14:41:22",
          "score": 0.2779849875953051
         },
         {
          "date": "2015-08-25T00:47:29.567568",
          "score": 0.27928203398303353
         },
         {
          "date": "2015-08-29T10:53:37.135135",
          "score": 0.2805782448888767
         },
         {
          "date": "2015-09-02T20:59:44.702703",
          "score": 0.2818736164351707
         },
         {
          "date": "2015-09-07T07:05:52.270270",
          "score": 0.2831681447467734
         },
         {
          "date": "2015-09-11T17:11:59.837838",
          "score": 0.28446182595105446
         },
         {
          "date": "2015-09-16T03:18:07.405406",
          "score": 0.28575465617792034
         },
         {
          "date": "2015-09-20T13:24:14.972973",
          "score": 0.2870466315598287
         },
         {
          "date": "2015-09-24T23:30:22.540540",
          "score": 0.28833774823178887
         },
         {
          "date": "2015-09-29T09:36:30.108108",
          "score": 0.28962800233137936
         },
         {
          "date": "2015-10-03T19:42:37.675676",
          "score": 0.2909173899987584
         },
         {
          "date": "2015-10-08T05:48:45.243243",
          "score": 0.29220590737668395
         },
         {
          "date": "2015-10-12T15:54:52.810811",
          "score": 0.29349355061050825
         },
         {
          "date": "2015-10-17T02:01:00.378378",
          "score": 0.2947803158481981
         },
         {
          "date": "2015-10-21T12:07:07.945946",
          "score": 0.2960661992403585
         },
         {
          "date": "2015-10-25T21:13:15.513514",
          "score": 0.2973511969402208
         },
         {
          "date": "2015-10-30T07:19:23.081081",
          "score": 0.29863530510366976
         },
         {
          "date": "2015-11-03T17:25:30.648649",
          "score": 0.2999185198892508
         },
         {
          "date": "2015-11-08T03:31:38.216216",
          "score": 0.3012008374581802
         },
         {
          "date": "2015-11-12T13:37:45.783784",
          "score": 0.30248225397436657
         },
         {
          "date": "2015-11-16T23:43:53.351351",
          "score": 0.30376276560440085
         },
         {
          "date": "2015-11-21T09:50:00.918919",
          "score": 0.30504236851759586
         },
         {
          "date": "2015-11-25T19:56:08.486486",
          "score": 0.3063210588859711
         },
         {
          "date": "2015-11-30T06:02:16.054054",
          "score": 0.30759883288428025
         },
         {
          "date": "2015-12-04T16:08:23.621622",
          "score": 0.3088756866900172
         },
         {
          "date": "2015-12-09T02:14:31.189189",
          "score": 0.31015161648342765
         },
         {
          "date": "2015-12-13T12:20:38.756757",
          "score": 0.3114266184475294
         },
         {
          "date": "2015-12-17T22:26:46.324324",
          "score": 0.31270068876810575
         },
         {
          "date": "2015-12-22T08:32:53.891892",
          "score": 0.3139738236337294
         },
         {
          "date": "2015-12-26T18:39:01.459460",
          "score": 0.31524601923577905
         },
         {
          "date": "2015-12-31T04:45:09.027027",
          "score": 0.31651727176843353
         },
         {
          "date": "2016-01-04T14:51:16.594594",
          "score": 0.3177875774286981
         },
         {
          "date": "2016-01-09T00:57:24.162162",
          "score": 0.3190569324164056
         },
         {
          "date": "2016-01-13T11:03:31.729730",
          "score": 0.32032533293424287
         },
         {
          "date": "2016-01-17T21:09:39.297297",
          "score": 0.32159277518774204
         },
         {
          "date": "2016-01-22T07:15:46.864865",
          "score": 0.32285925538530363
         },
         {
          "date": "2016-01-26T17:21:54.432432",
          "score": 0.3241247697382142
         },
         {
          "date": "2016-01-31T03:28:02",
          "score": 0.3253893144606396
         },
         {
          "date": "2016-02-04T13:34:09.567568",
          "score": 0.32665288576965196
         },
         {
          "date": "2016-02-08T23:40:17.135135",
          "score": 0.3279154798852332
         },
         {
          "date": "2016-02-13T09:46:24.702703",
          "score": 0.3291770930302859
         },
         {
          "date": "2016-02-17T19:52:32.270270",
          "score": 0.33043772143065653
         },
         {
          "date": "2016-02-22T05:58:39.837838",
          "score": 0.3316973613151296
         },
         {
          "date": "2016-02-26T16:04:47.405406",
          "score": 0.33295600891544475
         },
         {
          "date": "2016-03-02T02:10:54.972973",
          "score": 0.3342136604663208
         },
         {
          "date": "2016-03-06T12:17:02.540540",
          "score": 0.3354703122054452
         },
         {
          "date": "2016-03-10T22:23:10.108108",
          "score": 0.33672596037350244
         },
         {
          "date": "2016-03-15T08:29:17.675676",
          "score": 0.3379806012141733
         },
         {
          "date": "2016-03-19T18:35:25.243243",
          "score": 0.33923423097416294
         },
         {
          "date": "2016-03-24T04:41:32.810811",
          "score": 0.3404868459031904
         },
         {
          "date": "2016-03-28T15:47:40.378378",
          "score": 0.34173844225401284
         },
         {
          "date": "2016-04-02T01:53:47.945946",
          "score": 0.34298901628244227
         },
         {
          "date": "2016-04-06T11:59:55.513514",
          "score": 0.34423856424733973
         },
         {
          "date": "2016-04-10T22:06:03.081081",
          "score": 0.3454870824106387
         },
         {
          "date": "2016-04-15T08:12:10.648649",
          "score": 0.34673456703735495
         },
         {
          "date": "2016-04-19T18:18:18.216216",
          "score": 0.3479810143955912
         },
         {
          "date": "2016-04-24T04:24:25.783784",
          "score": 0.34922642075656346
         },
         {
          "date": "2016-04-28T14:30:33.351351",
          "score": 0.3504707823945883
         },
         {
          "date": "2016-05-03T00:36:40.918919",
          "score": 0.3517140955871224
         },
         {
          "date": "2016-05-07T10:42:48.486486",
          "score": 0.35295635661474745
         },
         {
          "date": "2016-05-11T20:48:56.054054",
          "score": 0.35419756176119654
         },
         {
          "date": "2016-05-16T06:55:03.621622",
          "score": 0.3554377073133607
         },
         {
          "date": "2016-05-20T17:01:11.189189",
          "score": 0.3566767895612998
         },
         {
          "date": "2016-05-25T03:07:18.756757",
          "score": 0.3579148047982619
         },
         {
          "date": "2016-05-29T13:13:26.324324",
          "score": 0.35915174932067767
         },
         {
          "date": "2016-06-02T23:19:33.891892",
          "score": 0.3603876194281829
         },
         {
          "date": "2016-06-07T09:25:41.459460",
          "score": 0.3616224114236351
         },
         {
          "date": "2016-06-11T19:31:49.027027",
          "score": 0.3628561216131073
         },
         {
          "date": "2016-06-16T05:37:56.594594",
          "score": 0.3640887463059139
         },
         {
          "date": "2016-06-20T15:44:04.162162",
          "score": 0.36532028181461174
         },
         {
          "date": "2016-06-25T01:50:11.729730",
          "score": 0.3665507244550259
         },
         {
          "date": "2016-06-29T11:56:19.297297",
          "score": 0.36778007054624084
         },
         {
          "date": "2016-07-03T22:02:26.864865",
          "score": 0.36900831641062315
         },
         {
          "date": "2016-07-08T08:08:34.432432",
          "score": 0.3702354583738384
         },
         {
          "date": "2016-07-12T18:14:42",
          "score": 0.3714614927648452
         },
         {
          "date": "2016-07-17T04:20:49.567568",
          "score": 0.37268641591592033
         },
         {
          "date": "2016-07-21T14:26:57.135135",
          "score": 0.3739102241626632
         },
         {
          "date": "2016-07-26T00:33:04.702703",
          "score": 0.37513291384400516
         },
         {
          "date": "2016-07-30T10:39:12.270270",
          "score": 0.37635448130223514
         },
         {
          "date": "2016-08-03T20:45:19.837838",
          "score": 0.37757492288298805
         },
         {
          "date": "2016-08-08T06:51:27.405406",
          "score": 0.3787942349352674
         },
         {
          "date": "2016-08-12T16:57:34.972973",
          "score": 0.3800124138114648
         },
         {
          "date": "2016-08-17T03:03:42.540540",
          "score": 0.38122945586735374
         },
         {
          "date": "2016-08-21T13:09:50.108108",
          "score": 0.3824453574621101
         },
         {
          "date": "2016-08-25T23:15:57.675676",
          "score": 0.38366011495831853
         },
         {
          "date": "2016-08-30T09:22:05.243243",
          "score": 0.38487372472199727
         },
         {
          "date": "2016-09-03T19:28:12.810811",
          "score": 0.3860861831225869
         },
         {
          "date": "2016-09-08T05:34:20.378378",
          "score": 0.3872974865329731
         },
         {
          "date": "2016-09-12T15:40:27.945946",
          "score": 0.3885076313295057
         },
         {
          "date": "2016-09-17T01:46:35.513514",
          "score": 0.3897166138919911
         },
         {
          "date": "2016-09-21T11:52:43.081081",
          "score": 0.3909244306037171
         },
         {
          "date": "2016-09-25T21:58:50.648649",
          "score": 0.39213107785145707
         },
         {
          "date": "2016-09-30T08:04:58.216216",
          "score": 0.3933365520254826
         },
         {
          "date": "2016-10-04T18:11:05.783784",
          "score": 0.39454084951957963
         },
         {
          "date": "2016-10-09T04:17:13.351351",
          "score": 0.3957439667310462
         },
         {
          "date": "2016-10-13T14:23:20.918919",
          "score": 0.396945900060721
         },
         {
          "date": "2016-10-18T00:29:28.486486",
          "score": 0.3981466459129757
         },
         {
          "date": "2016-10-22T10:35:36.054054",
          "score": 0.3993462006957368
         },
         {
          "date": "2016-10-26T20:41:43.621622",
          "score": 0.4005445608204959
         },
         {
          "date": "2016-10-31T05:47:51.189189",
          "score": 0.40174172270231323
         },
         {
          "date": "2016-11-04T15:53:58.756757",
          "score": 0.4029376827598438
         },
         {
          "date": "2016-11-09T02:00:06.324324",
          "score": 0.40413243741532867
         },
         {
          "date": "2016-11-13T12:06:13.891892",
          "score": 0.4053259830946149
         },
         {
          "date": "2016-11-17T22:12:21.459460",
          "score": 0.406518316227175
         },
         {
          "date": "2016-11-22T08:18:29.027027",
          "score": 0.40770943324610026
         },
         {
          "date": "2016-11-26T18:24:36.594594",
          "score": 0.4088993305881228
         },
         {
          "date": "2016-12-01T04:30:44.162162",
          "score": 0.41008800469362044
         },
         {
          "date": "2016-12-05T14:36:51.729730",
          "score": 0.4112754520066394
         },
         {
          "date": "2016-12-10T00:42:59.297297",
          "score": 0.41246166897488684
         },
         {
          "date": "2016-12-14T10:49:06.864865",
          "score": 0.4136466520497507
         },
         {
          "date": "2016-12-18T20:55:14.432432",
          "score": 0.4148303976863189
         },
         {
          "date": "2016-12-23T07:01:22",
          "score": 0.4160129023433724
         },
         {
          "date": "2016-12-27T17:07:29.567568",
          "score": 0.4171941624834075
         },
         {
          "date": "2017-01-01T03:13:37.135135",
          "score": 0.41837417457264364
         },
         {
          "date": "2017-01-05T13:19:44.702703",
          "score": 0.4195529350810307
         },
         {
          "date": "2017-01-09T23:25:52.270270",
          "score": 0.4207304404822716
         },
         {
          "date": "2017-01-14T09:31:59.837838",
          "score": 0.4219066872538153
         },
         {
          "date": "2017-01-18T19:38:07.405406",
          "score": 0.42308167187687573
         },
         {
          "date": "2017-01-23T05:44:14.972973",
          "score": 0.42425539083645175
         },
         {
          "date": "2017-01-27T15:50:22.540540",
          "score": 0.4254278406213192
         },
         {
          "date": "2017-02-01T01:56:30.108108",
          "score": 0.4265990177240542
         },
         {
          "date": "2017-02-05T12:02:37.675676",
          "score": 0.4277689186410366
         },
         {
          "date": "2017-02-09T22:08:45.243243",
          "score": 0.4289375398724734
         },
         {
          "date": "2017-02-14T08:14:52.810811",
          "score": 0.43010487792239055
         },
         {
          "date": "2017-02-18T18:21:00.378378",
          "score": 0.43127092929865296
         },
         {
          "date": "2017-02-23T04:27:07.945946",
          "score": 0.43243569051298336
         },
         {
          "date": "2017-02-27T14:33:15.513514",
          "score": 0.4335991580809553
         },
         {
          "date": "2017-03-04T00:39:23.081081",
          "score": 0.4347613285220151
         },
         {
          "date": "2017-03-08T10:45:30.648649",
          "score": 0.43592219835948975
         },
         {
          "date": "2017-03-12T20:51:38.216216",
          "score": 0.437081764120594
         },
         {
          "date": "2017-03-17T06:57:45.783784",
          "score": 0.4382400223364524
         },
         {
          "date": "2017-03-21T17:03:53.351351",
          "score": 0.43939696954208946
         },
         {
          "date": "2017-03-26T04:10:00.918919",
          "score": 0.4405526022764635
         },
         {
          "date": "2017-03-30T14:16:08.486486",
          "score": 0.4417069170824561
         },
         {
          "date": "2017-04-04T00:22:16.054054",
          "score": 0.44285991050689455
         },
         {
          "date": "2017-04-08T10:28:23.621622",
          "score": 0.44401157910055905
         },
         {
          "date": "2017-04-12T20:34:31.189189",
          "score": 0.44516191941819017
         },
         {
          "date": "2017-04-17T06:40:38.756757",
          "score": 0.4463109280185108
         },
         {
          "date": "2017-04-21T16:46:46.324324",
          "score": 0.447458601464219
         },
         {
          "date": "2017-04-26T02:52:53.891892",
          "score": 0.4486049363220069
         },
         {
          "date": "2017-04-30T12:59:01.459460",
          "score": 0.4497499291625799
         },
         {
          "date": "2017-05-04T23:05:09.027027",
          "score": 0.45089357656064927
         },
         {
          "date": "2017-05-09T09:11:16.594594",
          "score": 0.45203587509495413
         },
         {
          "date": "2017-05-13T19:17:24.162162",
          "score": 0.45317682134826615
         },
         {
          "date": "2017-05-18T05:23:31.729730",
          "score": 0.4543164119074107
         },
         {
          "date": "2017-05-22T15:29:39.297297",
          "score": 0.4554546433632601
         },
         {
          "date": "2017-05-27T01:35:46.864865",
          "score": 0.4565915123107528
         },
         {
          "date": "2017-05-31T11:41:54.432432",
          "score": 0.4577270153489116
         },
         {
          "date": "2017-06-04T21:48:02",
          "score": 0.4588611490808369
         },
         {
          "date": "2017-06-09T07:54:09.567568",
          "score": 0.4599939101137285
         },
         {
          "date": "2017-06-13T18:00:17.135135",
          "score": 0.4611252950588922
         },
         {
          "date": "2017-06-18T04:06:24.702703",
          "score": 0.4622553005317482
         },
         {
          "date": "2017-06-22T14:12:32.270270",
          "score": 0.4633839231518515
         },
         {
          "date": "2017-06-27T00:18:39.837838",
          "score": 0.46451115954288547
         },
         {
          "date": "2017-07-01T10:24:47.405406",
          "score": 0.4656370063326807
         },
         {
          "date": "2017-07-05T20:30:54.972973",
          "score": 0.46676146015323305
         },
         {
          "date": "2017-07-10T06:37:02.540540",
          "score": 0.46788451764069716
         },
         {
          "date": "2017-07-14T16:43:10.108108",
          "score": 0.46900617543540757
         },
         {
          "date": "2017-07-19T02:49:17.675676",
          "score": 0.47012643018188327
         },
         {
          "date": "2017-07-23T12:55:25.243243",
          "score": 0.4712452785288492
         },
         {
          "date": "2017-07-27T23:01:32.810811",
          "score": 0.4723627171292286
         },
         {
          "date": "2017-08-01T09:07:40.378378",
          "score": 0.47347874264016265
         },
         {
          "date": "2017-08-05T19:13:47.945946",
          "score": 0.47459335172302775
         },
         {
          "date": "2017-08-10T05:19:55.513514",
          "score": 0.4757065410434295
         },
         {
          "date": "2017-08-14T15:26:03.081081",
          "score": 0.47681830727122343
         },
         {
          "date": "2017-08-19T01:32:10.648649",
          "score": 0.4779286470805223
         },
         {
          "date": "2017-08-23T11:38:18.216216",
          "score": 0.4790375571497033
         },
         {
          "date": "2017-08-27T21:44:25.783784",
          "score": 0.4801450341614292
         },
         {
          "date": "2017-09-01T07:50:33.351351",
          "score": 0.4812510748026384
         },
         {
          "date": "2017-09-05T17:56:40.918919",
          "score": 0.4823556757645776
         },
         {
          "date": "2017-09-10T04:02:48.486486",
          "score": 0.483458833742792
         },
         {
          "date": "2017-09-14T14:08:56.054054",
          "score": 0.4845605454371462
         },
         {
          "date": "2017-09-19T00:15:03.621622",
          "score": 0.48566080755183155
         },
         {
          "date": "2017-09-23T10:21:11.189189",
          "score": 0.48675961679537305
         },
         {
          "date": "2017-09-27T20:27:18.756757",
          "score": 0.48785696988065014
         },
         {
          "date": "2017-10-02T06:33:26.324324",
          "score": 0.4889528635248903
         },
         {
          "date": "2017-10-06T16:39:33.891892",
          "score": 0.4900472944496871
         },
         {
          "date": "2017-10-11T02:45:41.459460",
          "score": 0.49114025938101785
         },
         {
          "date": "2017-10-15T12:51:49.027027",
          "score": 0.4922317550492374
         },
         {
          "date": "2017-10-19T22:57:56.594594",
          "score": 0.49332177818909856
         },
         {
          "date": "2017-10-24T09:04:04.162162",
          "score": 0.4944103255397565
         },
         {
          "date": "2017-10-28T19:10:11.729730",
          "score": 0.49549739384478986
         },
         {
          "date": "2017-11-02T04:16:19.297297",
          "score": 0.49658297985219313
         },
         {
          "date": "2017-11-06T14:22:26.864865",
          "score": 0.4976670803143954
         },
         {
          "date": "2017-11-11T00:28:34.432432",
          "score": 0.4987496919882782
         },
         {
          "date": "2017-11-15T10:34:42",
          "score": 0.4998308116351682
         },
         {
          "date": "2017-11-19T20:40:49.567568",
          "score": 0.5009104360208586
         },
         {
          "date": "2017-11-24T06:46:57.135135",
          "score": 0.5019885619156158
         },
         {
          "date": "2017-11-28T16:53:04.702703",
          "score": 0.5030651860941859
         },
         {
          "date": "2017-12-03T02:59:12.270270",
          "score": 0.5041403053358159
         },
         {
          "date": "2017-12-07T13:05:19.837838",
          "score": 0.5052139164242465
         },
         {
          "date": "2017-12-11T23:11:27.405406",
          "score": 0.5062860161477303
         },
         {
          "date": "2017-12-16T09:17:34.972973",
          "score": 0.5073566012990491
         },
         {
          "date": "2017-12-20T19:23:42.540540",
          "score": 0.5084256686755078
         },
         {
          "date": "2017-12-25T05:29:50.108108",
          "score": 0.5094932150789541
         },
         {
          "date": "2017-12-29T15:35:57.675676",
          "score": 0.5105592373157832
         },
         {
          "date": "2018-01-03T01:42:05.243243",
          "score": 0.5116237321969581
         },
         {
          "date": "2018-01-07T11:48:12.810811",
          "score": 0.5126866965380028
         },
         {
          "date": "2018-01-11T21:54:20.378378",
          "score": 0.5137481271590201
         },
         {
          "date": "2018-01-16T08:00:27.945946",
          "score": 0.5148080208847085
         },
         {
          "date": "2018-01-20T18:06:35.513514",
          "score": 0.5158663745443567
         },
         {
          "date": "2018-01-25T04:12:43.081081",
          "score": 0.5169231849718631
         },
         {
          "date": "2018-01-29T14:18:50.648649",
          "score": 0.5179784490057425
         },
         {
          "date": "2018-02-03T00:24:58.216216",
          "score": 0.5190321634891335
         },
         {
          "date": "2018-02-07T10:31:05.783784",
          "score": 0.5200843252698178
         },
         {
          "date": "2018-02-11T20:37:13.351351",
          "score": 0.5211349312002119
         },
         {
          "date": "2018-02-16T06:43:20.918919",
          "score": 0.5221839781373968
         },
         {
          "date": "2018-02-20T16:49:28.486486",
          "score": 0.5232314629431097
         },
         {
          "date": "2018-02-25T02:55:36.054054",
          "score": 0.5242773824837635
         },
         {
          "date": "2018-03-01T13:01:43.621622",
          "score": 0.5253217336304535
         },
         {
          "date": "2018-03-05T23:07:51.189189",
          "score": 0.5263645132589647
         },
         {
          "date": "2018-03-10T09:13:58.756757",
          "score": 0.5274057182497907
         },
         {
          "date": "2018-03-14T19:20:06.324324",
          "score": 0.528445345488128
         },
         {
          "date": "2018-03-19T05:26:13.891892",
          "score": 0.5294833918638934
         },
         {
          "date": "2018-03-23T15:32:21.459460",
          "score": 0.53051985427174
         },
         {
          "date": "2018-03-28T02:38:29.027027",
          "score": 0.5315547296110522
         },
         {
          "date": "2018-04-01T12:44:36.594594",
          "score": 0.5325880147859645
         },
         {
          "date": "2018-04-05T22:50:44.162162",
          "score": 0.533619706705366
         },
         {
          "date": "2018-04-10T08:56:51.729730",
          "score": 0.5346498022829196
         },
         {
          "date": "2018-04-14T19:02:59.297297",
          "score": 0.535678298437056
         },
         {
          "date": "2018-04-19T05:09:06.864865",
          "score": 0.5367051920909909
         },
         {
          "date": "2018-04-23T15:15:14.432432",
          "score": 0.5377304801727415
         },
         {
          "date": "2018-04-28T01:21:22",
          "score": 0.5387541596151204
         },
         {
          "date": "2018-05-02T11:27:29.567568",
          "score": 0.5397762273557547
         },
         {
          "date": "2018-05-06T21:33:37.135135",
          "score": 0.5407966803370938
         },
         {
          "date": "2018-05-11T07:39:44.702703",
          "score": 0.5418155155064145
         },
         {
          "date": "2018-05-15T17:45:52.270270",
          "score": 0.5428327298158412
         },
         {
          "date": "2018-05-20T03:51:59.837838",
          "score": 0.5438483202223393
         },
         {
          "date": "2018-05-24T13:58:07.405406",
          "score": 0.5448622836877326
         },
         {
          "date": "2018-05-29T00:04:14.972973",
          "score": 0.5458746171787191
         },
         {
          "date": "2018-06-02T10:10:22.540540",
          "score": 0.5468853176668658
         },
         {
          "date": "2018-06-06T20:16:30.108108",
          "score": 0.547894382128627
         },
         {
          "date": "2018-06-11T06:22:37.675676",
          "score": 0.5489018075453487
         },
         {
          "date": "2018-06-15T16:28:45.243243",
          "score": 0.5499075909032882
         },
         {
          "date": "2018-06-20T02:34:52.810811",
          "score": 0.550911729193607
         },
         {
          "date": "2018-06-24T12:41:00.378378",
          "score": 0.5519142194123882
         },
         {
          "date": "2018-06-28T22:47:07.945946",
          "score": 0.5529150585606525
         },
         {
          "date": "2018-07-03T08:53:15.513514",
          "score": 0.5539142436443524
         },
         {
          "date": "2018-07-07T18:59:23.081081",
          "score": 0.554911771674391
         },
         {
          "date": "2018-07-12T05:05:30.648649",
          "score": 0.5559076396666287
         },
         {
          "date": "2018-07-16T15:11:38.216216",
          "score": 0.5569018446418895
         },
         {
          "date": "2018-07-21T01:17:45.783784",
          "score": 0.5578943836259797
         },
         {
          "date": "2018-07-25T11:23:53.351351",
          "score": 0.5588852536496793
         },
         {
          "date": "2018-07-29T21:30:00.918919",
          "score": 0.5598744517487715
         },
         {
          "date": "2018-08-03T07:36:08.486486",
          "score": 0.5608619749640333
         },
         {
          "date": "2018-08-07T17:42:16.054054",
          "score": 0.5618478203412549
         },
         {
          "date": "2018-08-12T03:48:23.621622",
          "score": 0.5628319849312455
         },
         {
          "date": "2018-08-16T13:54:31.189189",
          "score": 0.5638144657898402
         },
         {
          "date": "2018-08-21T00:00:38.756757",
          "score": 0.5647952599779185
         },
         {
          "date": "2018-08-25T10:06:46.324324",
          "score": 0.565774364561398
         },
         {
          "date": "2018-08-29T20:12:53.891892",
          "score": 0.5667517766112509
         },
         {
          "date": "2018-09-03T06:19:01.459460",
          "score": 0.5677274932035203
         },
         {
          "date": "2018-09-07T16:25:09.027027",
          "score": 0.5687015114193135
         },
         {
          "date": "2018-09-12T02:31:16.594594",
          "score": 0.5696738283448214
         },
         {
          "date": "2018-09-16T12:37:24.162162",
          "score": 0.5706444410713216
         },
         {
          "date": "2018-09-20T22:43:31.729730",
          "score": 0.5716133466951976
         },
         {
          "date": "2018-09-25T08:49:39.297297",
          "score": 0.572580542317932
         },
         {
          "date": "2018-09-29T18:55:46.864865",
          "score": 0.5735460250461233
         },
         {
          "date": "2018-10-04T05:01:54.432432",
          "score": 0.5745097919915011
         },
         {
          "date": "2018-10-08T15:08:02",
          "score": 0.5754718402709209
         },
         {
          "date": "2018-10-13T01:14:09.567568",
          "score": 0.5764321670063819
         },
         {
          "date": "2018-10-17T11:20:17.135135",
          "score": 0.5773907693250334
         },
         {
          "date": "2018-10-21T21:26:24.702703",
          "score": 0.5783476443591808
         },
         {
          "date": "2018-10-26T07:32:32.270270",
          "score": 0.5793027892463044
         },
         {
          "date": "2018-10-30T16:38:39.837838",
          "score": 0.5802562011290523
         },
         {
          "date": "2018-11-04T02:44:47.405406",
          "score": 0.5812078771552578
         },
         {
          "date": "2018-11-08T12:50:54.972973",
          "score": 0.5821578144779536
         },
         {
          "date": "2018-11-12T22:57:02.540540",
          "score": 0.583106010255367
         },
         {
          "date": "2018-11-17T09:03:10.108108",
          "score": 0.5840524616509375
         },
         {
          "date": "2018-11-21T19:09:17.675676",
          "score": 0.5849971658333204
         },
         {
          "date": "2018-11-26T05:15:25.243243",
          "score": 0.5859401199764053
         },
         {
          "date": "2018-11-30T15:21:32.810811",
          "score": 0.5868813212593098
         },
         {
          "date": "2018-12-05T01:27:40.378378",
          "score": 0.5878207668663952
         },
         {
          "date": "2018-12-09T11:33:47.945946",
          "score": 0.5887584539872822
         },
         {
          "date": "2018-12-13T21:39:55.513514",
          "score": 0.5896943798168449
         },
         {
          "date": "2018-12-18T07:46:03.081081",
          "score": 0.5906285415552286
         },
         {
          "date": "2018-12-22T17:52:10.648649",
          "score": 0.5915609364078563
         },
         {
          "date": "2018-12-27T03:58:18.216216",
          "score": 0.5924915615854339
         },
         {
          "date": "2018-12-31T14:04:25.783784",
          "score": 0.593420414303969
         },
         {
          "date": "2019-01-05T00:10:33.351351",
          "score": 0.5943474917847613
         },
         {
          "date": "2019-01-09T10:16:40.918919",
          "score": 0.5952727912544314
         },
         {
          "date": "2019-01-13T20:22:48.486486",
          "score": 0.5961963099449115
         },
         {
          "date": "2019-01-18T06:28:56.054054",
          "score": 0.5971180450934631
         },
         {
          "date": "2019-01-22T16:35:03.621622",
          "score": 0.598037993942684
         },
         {
          "date": "2019-01-27T02:41:11.189189",
          "score": 0.5989561537405128
         },
         {
          "date": "2019-01-31T12:47:18.756757",
          "score": 0.5998725217402472
         },
         {
          "date": "2019-02-04T22:53:26.324324",
          "score": 0.6007870952005383
         },
         {
          "date": "2019-02-09T08:59:33.891892",
          "score": 0.6016998713854058
         },
         {
          "date": "2019-02-13T19:05:41.459460",
          "score": 0.6026108475642522
         },
         {
          "date": "2019-02-18T05:11:49.027027",
          "score": 0.603520021011859
         },
         {
          "date": "2019-02-22T15:17:56.594594",
          "score": 0.6044273890084019
         },
         {
          "date": "2019-02-27T01:24:04.162162",
          "score": 0.605332948839456
         },
         {
          "date": "2019-03-03T11:30:11.729730",
          "score": 0.6062366977960121
         },
         {
          "date": "2019-03-07T21:36:19.297297",
          "score": 0.6071386331744715
         },
         {
          "date": "2019-03-12T07:42:26.864865",
          "score": 0.6080387522766613
         },
         {
          "date": "2019-03-16T17:48:34.432432",
          "score": 0.6089370524098483
         },
         {
          "date": "2019-03-21T03:54:42",
          "score": 0.6098335308867343
         },
         {
          "date": "2019-03-25T14:00:49.567568",
          "score": 0.610728185025473
         },
         {
          "date": "2019-03-30T00:06:57.135135",
          "score": 0.6116210121496752
         },
         {
          "date": "2019-04-03T11:13:04.702703",
          "score": 0.6125120095884158
         },
         {
          "date": "2019-04-07T21:19:12.270270",
          "score": 0.6134011746762491
         },
         {
          "date": "2019-04-12T07:25:19.837838",
          "score": 0.614288504753205
         },
         {
          "date": "2019-04-16T17:31:27.405406",
          "score": 0.6151739971648025
         },
         {
          "date": "2019-04-21T03:37:34.972973",
          "score": 0.6160576492620647
         },
         {
          "date": "2019-04-25T13:43:42.540540",
          "score": 0.6169394584015137
         },
         {
          "date": "2019-04-29T23:49:50.108108",
          "score": 0.6178194219451867
         },
         {
          "date": "2019-05-04T09:55:57.675676",
          "score": 0.6186975372606403
         },
         {
          "date": "2019-05-08T20:02:05.243243",
          "score": 0.6195738017209661
         },
         {
          "date": "2019-05-13T06:08:12.810811",
          "score": 0.6204482127047867
         },
         {
          "date": "2019-05-17T16:14:20.378378",
          "score": 0.6213207675962692
         },
         {
          "date": "2019-05-22T02:20:27.945946",
          "score": 0.6221914637851396
         },
         {
          "date": "2019-05-26T12:26:35.513514",
          "score": 0.6230602986666778
         },
         {
          "date": "2019-05-30T22:32:43.081081",
          "score": 0.6239272696417342
         },
         {
          "date": "2019-06-04T08:38:50.648649",
          "score": 0.6247923741167353
         },
         {
          "date": "2019-06-08T18:44:58.216216",
          "score": 0.6256556095036887
         },
         {
          "date": "2019-06-13T04:51:05.783784",
          "score": 0.6265169732202001
         },
         {
          "date": "2019-06-17T14:57:13.351351",
          "score": 0.6273764626894659
         },
         {
          "date": "2019-06-22T01:03:20.918919",
          "score": 0.6282340753402977
         },
         {
          "date": "2019-06-26T11:09:28.486486",
          "score": 0.6290898086071157
         },
         {
          "date": "2019-06-30T21:15:36.054054",
          "score": 0.6299436599299637
         },
         {
          "date": "2019-07-05T07:21:43.621622",
          "score": 0.6307956267545163
         },
         {
          "date": "2019-07-09T17:27:51.189189",
          "score": 0.631645706532083
         },
         {
          "date": "2019-07-14T03:33:58.756757",
          "score": 0.6324938967196245
         },
         {
          "date": "2019-07-18T13:40:06.324324",
          "score": 0.6333401947797489
         },
         {
          "date": "2019-07-22T23:46:13.891892",
          "score": 0.6341845981807239
         },
         {
          "date": "2019-07-27T09:52:21.459460",
          "score": 0.6350271043964915
         },
         {
          "date": "2019-07-31T19:58:29.027027",
          "score": 0.6358677109066633
         },
         {
          "date": "2019-08-05T06:04:36.594594",
          "score": 0.6367064151965356
         },
         {
          "date": "2019-08-09T16:10:44.162162",
          "score": 0.6375432147570934
         },
         {
          "date": "2019-08-14T02:16:51.729730",
          "score": 0.6383781070850261
         },
         {
          "date": "2019-08-18T12:22:59.297297",
          "score": 0.6392110896827221
         },
         {
          "date": "2019-08-22T22:29:06.864865",
          "score": 0.6400421600582831
         },
         {
          "date": "2019-08-27T08:35:14.432432",
          "score": 0.6408713157255375
         },
         {
          "date": "2019-08-31T18:41:22",
          "score": 0.641698554204035
         },
         {
          "date": "2019-09-05T04:47:29.567568",
          "score": 0.6425238730190634
         },
         {
          "date": "2019-09-09T14:53:37.135135",
          "score": 0.6433472697016526
         },
         {
          "date": "2019-09-14T00:59:44.702703",
          "score": 0.6441687417885809
         },
         {
          "date": "2019-09-18T11:05:52.270270",
          "score": 0.6449882868223902
         },
         {
          "date": "2019-09-22T21:11:59.837838",
          "score": 0.645805902351381
         },
         {
          "date": "2019-09-27T07:18:07.405406",
          "score": 0.6466215859296262
         },
         {
          "date": "2019-10-01T17:24:14.972973",
          "score": 0.647435335116984
         },
         {
          "date": "2019-10-06T03:30:22.540540",
          "score": 0.6482471474790936
         },
         {
          "date": "2019-10-10T13:36:30.108108",
          "score": 0.6490570205873902
         },
         {
          "date": "2019-10-14T23:42:37.675676",
          "score": 0.6498649520191082
         },
         {
          "date": "2019-10-19T09:48:45.243243",
          "score": 0.6506709393572967
         },
         {
          "date": "2019-10-23T19:54:52.810811",
          "score": 0.6514749801908147
         },
         {
          "date": "2019-10-28T05:01:00.378378",
          "score": 0.6522770721143443
         },
         {
          "date": "2019-11-01T15:07:07.945946",
          "score": 0.6530772127284035
         },
         {
          "date": "2019-11-06T01:13:15.513514",
          "score": 0.653875399639342
         },
         {
          "date": "2019-11-10T11:19:23.081081",
          "score": 0.6546716304593561
         },
         {
          "date": "2019-11-14T21:25:30.648649",
          "score": 0.6554659028064935
         },
         {
          "date": "2019-11-19T07:31:38.216216",
          "score": 0.6562582143046591
         },
         {
          "date": "2019-11-23T17:37:45.783784",
          "score": 0.6570485625836293
         },
         {
          "date": "2019-11-28T03:43:53.351351",
          "score": 0.6578369452790463
         },
         {
          "date": "2019-12-02T13:50:00.918919",
          "score": 0.6586233600324396
         },
         {
          "date": "2019-12-06T23:56:08.486486",
          "score": 0.6594078044912204
         },
         {
          "date": "2019-12-11T10:02:16.054054",
          "score": 0.6601902763086956
         },
         {
          "date": "2019-12-15T20:08:23.621622",
          "score": 0.6609707731440739
         },
         {
          "date": "2019-12-20T06:14:31.189189",
          "score": 0.66174929266247
         },
         {
          "date": "2019-12-24T16:20:38.756757",
          "score": 0.6625258325349195
         },
         {
          "date": "2019-12-29T02:26:46.324324",
          "score": 0.6633003904383747
         },
         {
          "date": "2020-01-02T12:32:53.891892",
          "score": 0.6640729640557168
         },
         {
          "date": "2020-01-06T22:39:01.459460",
          "score": 0.6648435510757689
         },
         {
          "date": "2020-01-11T08:45:09.027027",
          "score": 0.6656121491932911
         },
         {
          "date": "2020-01-15T18:51:16.594594",
          "score": 0.6663787561089957
         },
         {
          "date": "2020-01-20T04:57:24.162162",
          "score": 0.6671433695295497
         },
         {
          "date": "2020-01-24T15:03:31.729730",
          "score": 0.667905987167589
         },
         {
          "date": "2020-01-29T01:09:39.297297",
          "score": 0.6686666067417151
         },
         {
          "date": "2020-02-02T11:15:46.864865",
          "score": 0.6694252259765058
         },
         {
          "date": "2020-02-06T21:21:54.432432",
          "score": 0.6701818426025294
         },
         {
          "date": "2020-02-11T07:28:02",
          "score": 0.6709364543563392
         },
         {
          "date": "2020-02-15T17:34:09.567568",
          "score": 0.6716890589804878
         },
         {
          "date": "2020-02-20T03:40:17.135135",
          "score": 0.6724396542235326
         },
         {
          "date": "2020-02-24T13:46:24.702703",
          "score": 0.6734240930896962
         },
         {
          "date": "2020-02-28T23:52:32.270270",
          "score": 0.6751219389847443
         },
         {
          "date": "2020-03-04T09:58:39.837838",
          "score": 0.6768177419234531
         },
         {
          "date": "2020-03-08T20:04:47.405406",
          "score": 0.6785114781579258
         },
         {
          "date": "2020-03-13T06:10:54.972973",
          "score": 0.68020312394741
         },
         {
          "date": "2020-03-17T16:17:02.540540",
          "score": 0.6818926555587665
         },
         {
          "date": "2020-03-22T02:23:10.108108",
          "score": 0.6835800492669801
         },
         {
          "date": "2020-03-26T12:29:17.675676",
          "score": 0.6852652813556438
         },
         {
          "date": "2020-03-30T23:35:25.243243",
          "score": 0.6869483281174693
         },
         {
          "date": "2020-04-04T09:41:32.810811",
          "score": 0.6886291658547543
         },
         {
          "date": "2020-04-08T19:47:40.378378",
          "score": 0.6903077708798899
         },
         {
          "date": "2020-04-13T05:53:47.945946",
          "score": 0.6919841195158636
         },
         {
          "date": "2020-04-17T15:59:55.513514",
          "score": 0.6936581880967293
         },
         {
          "date": "2020-04-22T02:06:03.081081",
          "score": 0.6953299529681162
         },
         {
          "date": "2020-04-26T12:12:10.648649",
          "score": 0.6969993904877168
         },
         {
          "date": "2020-04-30T22:18:18.216216",
          "score": 0.6986664770257749
         },
         {
          "date": "2020-05-05T08:24:25.783784",
          "score": 0.7003311889655955
         },
         {
          "date": "2020-05-09T18:30:33.351351",
          "score": 0.7019935027040075
         },
         {
          "date": "2020-05-14T04:36:40.918919",
          "score": 0.7036533946518883
         },
         {
          "date": "2020-05-18T14:42:48.486486",
          "score": 0.7053108412346272
         },
         {
          "date": "2020-05-23T00:48:56.054054",
          "score": 0.7069658188926325
         },
         {
          "date": "2020-05-27T10:55:03.621622",
          "score": 0.7086183040818206
         },
         {
          "date": "2020-05-31T21:01:11.189189",
          "score": 0.7102682732741006
         },
         {
          "date": "2020-06-05T07:07:18.756757",
          "score": 0.7119157029578829
         },
         {
          "date": "2020-06-09T17:13:26.324324",
          "score": 0.7135605696385454
         },
         {
          "date": "2020-06-14T03:19:33.891892",
          "score": 0.7152028498389355
         },
         {
          "date": "2020-06-18T13:25:41.459460",
          "score": 0.716842520099872
         },
         {
          "date": "2020-06-22T23:31:49.027027",
          "score": 0.7184795569806116
         },
         {
          "date": "2020-06-27T09:37:56.594594",
          "score": 0.7201139370593537
         },
         {
          "date": "2020-07-01T19:44:04.162162",
          "score": 0.7217456369337218
         },
         {
          "date": "2020-07-06T05:50:11.729730",
          "score": 0.7233746332212683
         },
         {
          "date": "2020-07-10T15:56:19.297297",
          "score": 0.7250009025599393
         },
         {
          "date": "2020-07-15T02:02:26.864865",
          "score": 0.7266244216085742
         },
         {
          "date": "2020-07-19T12:08:34.432432",
          "score": 0.7282451670474055
         },
         {
          "date": "2020-07-23T22:14:42",
          "score": 0.7298631155785233
         },
         {
          "date": "2020-07-28T08:20:49.567568",
          "score": 0.7314782439263776
         },
         {
          "date": "2020-08-01T18:26:57.135135",
          "score": 0.7330905288382602
         },
         {
          "date": "2020-08-06T04:33:04.702703",
          "score": 0.7346999470847888
         },
         {
          "date": "2020-08-10T14:39:12.270270",
          "score": 0.7363064754604075
         },
         {
          "date": "2020-08-15T00:45:19.837838",
          "score": 0.737910090783845
         },
         {
          "date": "2020-08-19T10:51:27.405406",
          "score": 0.7395107698986312
         },
         {
          "date": "2020-08-23T20:57:34.972973",
          "score": 0.741108489673554
         },
         {
          "date": "2020-08-28T07:03:42.540540",
          "score": 0.7427032270031599
         },
         {
          "date": "2020-09-01T17:09:50.108108",
          "score": 0.744294958808233
         },
         {
          "date": "2020-09-06T03:15:57.675676",
          "score": 0.7458836620362748
         },
         {
          "date": "2020-09-10T13:22:05.243243",
          "score": 0.7474693136620021
         },
         {
          "date": "2020-09-14T23:28:12.810811",
          "score": 0.7490518906878071
         },
         {
          "date": "2020-09-19T09:34:20.378378",
          "score": 0.7506313701442489
         },
         {
          "date": "2020-09-23T19:40:27.945946",
          "score": 0.7522077290905478
         },
         {
          "date": "2020-09-28T05:46:35.513514",
          "score": 0.7537809446150431
         },
         {
          "date": "2020-10-02T15:52:43.081081",
          "score": 0.755350993835687
         },
         {
          "date": "2020-10-07T01:58:50.648649",
          "score": 0.7569178539005228
         },
         {
          "date": "2020-10-11T12:04:58.216216",
          "score": 0.7584815019881576
         },
         {
          "date": "2020-10-15T22:11:05.783784",
          "score": 0.7600419153082583
         },
         {
          "date": "2020-10-20T08:17:13.351351",
          "score": 0.7615990711020015
         },
         {
          "date": "2020-10-24T18:23:20.918919",
          "score": 0.7631529466425815
         },
         {
          "date": "2020-10-29T03:29:28.486486",
          "score": 0.7647035192356613
         },
         {
          "date": "2020-11-02T13:35:36.054054",
          "score": 0.7662507662198633
         },
         {
          "date": "2020-11-06T23:41:43.621622",
          "score": 0.7677946649672405
         },
         {
          "date": "2020-11-11T09:47:51.189189",
          "score": 0.7693351928837484
         },
         {
          "date": "2020-11-15T19:53:58.756757",
          "score": 0.7708723274097347
         },
         {
          "date": "2020-11-20T06:00:06.324324",
          "score": 0.7724060460203886
         },
         {
          "date": "2020-11-24T16:06:13.891892",
          "score": 0.7739363262262278
         },
         {
          "date": "2020-11-29T02:12:21.459460",
          "score": 0.7754631455735785
         },
         {
          "date": "2020-12-03T12:18:29.027027",
          "score": 0.776986481645028
         },
         {
          "date": "2020-12-07T22:24:36.594594",
          "score": 0.7785063120599083
         },
         {
          "date": "2020-12-12T08:30:44.162162",
          "score": 0.7800226144747626
         },
         {
          "date": "2020-12-16T18:36:51.729730",
          "score": 0.7815353665838127
         },
         {
          "date": "2020-12-21T04:42:59.297297",
          "score": 0.7830445461194411
         },
         {
          "date": "2020-12-25T14:49:06.864865",
          "score": 0.7845501308526333
         },
         {
          "date": "2020-12-30T00:55:14.432432",
          "score": 0.7860520985934749
         },
         {
          "date": "2021-01-03T11:01:22",
          "score": 0.7875504271915925
         },
         {
          "date": "2021-01-07T21:07:29.567568",
          "score": 0.7890450945366332
         },
         {
          "date": "2021-01-12T07:13:37.135135",
          "score": 0.7905360785587277
         },
         {
          "date": "2021-01-16T17:19:44.702703",
          "score": 0.7920233572289481
         },
         {
          "date": "2021-01-21T03:25:52.270270",
          "score": 0.7935069085597888
         },
         {
          "date": "2021-01-25T13:31:59.837838",
          "score": 0.7949867106056014
         },
         {
          "date": "2021-01-29T23:38:07.405406",
          "score": 0.7964627414630867
         },
         {
          "date": "2021-02-03T09:44:14.972973",
          "score": 0.7979349792717295
         },
         {
          "date": "2021-02-07T19:50:22.540540",
          "score": 0.7994034022142732
         },
         {
          "date": "2021-02-12T05:56:30.108108",
          "score": 0.8008679885171761
         },
         {
          "date": "2021-02-16T16:02:37.675676",
          "score": 0.8023287164510651
         },
         {
          "date": "2021-02-21T02:08:45.243243",
          "score": 0.803785564331209
         },
         {
          "date": "2021-02-25T12:14:52.810811",
          "score": 0.8052385105179516
         },
         {
          "date": "2021-03-01T22:21:00.378378",
          "score": 0.8066875334171801
         },
         {
          "date": "2021-03-06T08:27:07.945946",
          "score": 0.8081326114807899
         },
         {
          "date": "2021-03-10T18:33:15.513514",
          "score": 0.8095737232071156
         },
         {
          "date": "2021-03-15T04:39:23.081081",
          "score": 0.8110108471414009
         },
         {
          "date": "2021-03-19T14:45:30.648649",
          "score": 0.812443961876245
         },
         {
          "date": "2021-03-24T00:51:38.216216",
          "score": 0.8138730460520512
         },
         {
          "date": "2021-03-28T11:57:45.783784",
          "score": 0.8152980783574909
         },
         {
          "date": "2021-04-01T22:03:53.351351",
          "score": 0.8167190375299276
         },
         {
          "date": "2021-04-06T08:10:00.918919",
          "score": 0.818135902355894
         },
         {
          "date": "2021-04-10T18:16:08.486486",
          "score": 0.819548651671514
         },
         {
          "date": "2021-04-15T04:22:16.054054",
          "score": 0.8209572643629638
         },
         {
          "date": "2021-04-19T14:28:23.621622",
          "score": 0.8223617193669125
         },
         {
          "date": "2021-04-24T00:34:31.189189",
          "score": 0.8237619956709634
         },
         {
          "date": "2021-04-28T10:40:38.756757",
          "score": 0.8251580723141116
         },
         {
          "date": "2021-05-02T20:46:46.324324",
          "score": 0.8265499283871642
         },
         {
          "date": "2021-05-07T06:52:53.891892",
          "score": 0.8279375430331923
         },
         {
          "date": "2021-05-11T16:59:01.459460",
          "score": 0.8293208954479826
         },
         {
          "date": "2021-05-16T03:05:09.027027",
          "score": 0.8306999648804532
         },
         {
          "date": "2021-05-20T13:11:16.594594",
          "score": 0.8320747306331076
         },
         {
          "date": "2021-05-24T23:17:24.162162",
          "score": 0.8334451720624663
         },
         {
          "date": "2021-05-29T09:23:31.729730",
          "score": 0.8348112685795015
         },
         {
          "date": "2021-06-02T19:29:39.297297",
          "score": 0.8361729996500818
         },
         {
          "date": "2021-06-07T05:35:46.864865",
          "score": 0.8375303447953861
         },
         {
          "date": "2021-06-11T15:41:54.432432",
          "score": 0.8388832835923596
         },
         {
          "date": "2021-06-16T01:48:02",
          "score": 0.8402317956741234
         },
         {
          "date": "2021-06-20T11:54:09.567568",
          "score": 0.8415758607304176
         },
         {
          "date": "2021-06-24T22:00:17.135135",
          "score": 0.8429154585080261
         },
         {
          "date": "2021-06-29T08:06:24.702703",
          "score": 0.8442505688112029
         },
         {
          "date": "2021-07-03T18:12:32.270270",
          "score": 0.8455811715021108
         },
         {
          "date": "2021-07-08T04:18:39.837838",
          "score": 0.8469072465012231
         },
         {
          "date": "2021-07-12T14:24:47.405406",
          "score": 0.8482287737877758
         },
         {
          "date": "2021-07-17T00:30:54.972973",
          "score": 0.849545733400167
         },
         {
          "date": "2021-07-21T10:37:02.540540",
          "score": 0.8508581054363915
         },
         {
          "date": "2021-07-25T20:43:10.108108",
          "score": 0.8521658700544585
         },
         {
          "date": "2021-07-30T06:49:17.675676",
          "score": 0.8534690074728075
         },
         {
          "date": "2021-08-03T16:55:25.243243",
          "score": 0.8547674979707409
         },
         {
          "date": "2021-08-08T03:01:32.810811",
          "score": 0.8560613218888192
         },
         {
          "date": "2021-08-12T13:07:40.378378",
          "score": 0.8573504596292879
         },
         {
          "date": "2021-08-16T23:13:47.945946",
          "score": 0.8586348916565019
         },
         {
          "date": "2021-08-21T09:19:55.513514",
          "score": 0.859914598497318
         },
         {
          "date": "2021-08-25T19:26:03.081081",
          "score": 0.8611895607415205
         },
         {
          "date": "2021-08-30T05:32:10.648649",
          "score": 0.8624597590422286
         },
         {
          "date": "2021-09-03T15:38:18.216216",
          "score": 0.8637251741163023
         },
         {
          "date": "2021-09-08T01:44:25.783784",
          "score": 0.8649857867447635
         },
         {
          "date": "2021-09-12T11:50:33.351351",
          "score": 0.8662415777731792
         },
         {
          "date": "2021-09-16T21:56:40.918919",
          "score": 0.867492528112094
         },
         {
          "date": "2021-09-21T08:02:48.486486",
          "score": 0.8687386187374098
         },
         {
          "date": "2021-09-25T18:08:56.054054",
          "score": 0.8699798306908035
         },
         {
          "date": "2021-09-30T04:15:03.621622",
          "score": 0.8712161450801228
         },
         {
          "date": "2021-10-04T14:21:11.189189",
          "score": 0.8724475430797851
         },
         {
          "date": "2021-10-09T00:27:18.756757",
          "score": 0.8736740059311868
         },
         {
          "date": "2021-10-13T10:33:26.324324",
          "score": 0.8748955149430824
         },
         {
          "date": "2021-10-17T20:39:33.891892",
          "score": 0.8761120514919902
         },
         {
          "date": "2021-10-22T06:45:41.459460",
          "score": 0.877323597022595
         },
         {
          "date": "2021-10-26T16:51:49.027027",
          "score": 0.8785301330481228
         },
         {
          "date": "2021-10-31T02:57:56.594594",
          "score": 0.8797316411507454
         },
         {
          "date": "2021-11-04T12:04:04.162162",
          "score": 0.8809281029819667
         },
         {
          "date": "2021-11-08T22:10:11.729730",
          "score": 0.8821195002630081
         },
         {
          "date": "2021-11-13T08:16:19.297297",
          "score": 0.8833058147852084
         },
         {
          "date": "2021-11-17T18:22:26.864865",
          "score": 0.8844870284103886
         },
         {
          "date": "2021-11-22T04:28:34.432432",
          "score": 0.8856631230712597
         },
         {
          "date": "2021-11-26T14:34:42",
          "score": 0.8868340807717849
         },
         {
          "date": "2021-12-01T00:40:49.567568",
          "score": 0.8879998835875728
         },
         {
          "date": "2021-12-05T10:46:57.135135",
          "score": 0.8891605136662546
         },
         {
          "date": "2021-12-09T20:53:04.702703",
          "score": 0.8903159532278594
         },
         {
          "date": "2021-12-14T06:59:12.270270",
          "score": 0.8914661845652023
         },
         {
          "date": "2021-12-18T17:05:19.837838",
          "score": 0.89261119004424
         },
         {
          "date": "2021-12-23T03:11:27.405406",
          "score": 0.8937509521044681
         },
         {
          "date": "2021-12-27T13:17:34.972973",
          "score": 0.8948854532592717
         },
         {
          "date": "2021-12-31T23:23:42.540540",
          "score": 0.8960146760963096
         },
         {
          "date": "2022-01-05T09:29:50.108108",
          "score": 0.8971386032778798
         },
         {
          "date": "2022-01-09T19:35:57.675676",
          "score": 0.898257217541284
         },
         {
          "date": "2022-01-14T05:42:05.243243",
          "score": 0.8993705016992055
         },
         {
          "date": "2022-01-18T15:48:12.810811",
          "score": 0.9004784386400564
         },
         {
          "date": "2022-01-23T01:54:20.378378",
          "score": 0.9015810113283503
         },
         {
          "date": "2022-01-27T12:00:27.945946",
          "score": 0.9026782028050699
         },
         {
          "date": "2022-01-31T22:06:35.513514",
          "score": 0.9037699961880118
         },
         {
          "date": "2022-02-05T08:12:43.081081",
          "score": 0.9048563746721552
         },
         {
          "date": "2022-02-09T18:18:50.648649",
          "score": 0.905937321530016
         },
         {
          "date": "2022-02-14T04:24:58.216216",
          "score": 0.9070128201119982
         },
         {
          "date": "2022-02-18T14:31:05.783784",
          "score": 0.908082853846759
         },
         {
          "date": "2022-02-23T00:37:13.351351",
          "score": 0.909147406241541
         },
         {
          "date": "2022-02-27T10:43:20.918919",
          "score": 0.9102064608825444
         },
         {
          "date": "2022-03-03T20:49:28.486486",
          "score": 0.9112600014352557
         },
         {
          "date": "2022-03-08T06:55:36.054054",
          "score": 0.9123080116448055
         },
         {
          "date": "2022-03-12T17:01:43.621622",
          "score": 0.9133504753363118
         },
         {
          "date": "2022-03-17T03:07:51.189189",
          "score": 0.9143873764152192
         },
         {
          "date": "2022-03-21T13:13:58.756757",
          "score": 0.9154186988676525
         },
         {
          "date": "2022-03-25T23:20:06.324324",
          "score": 0.9164444267607399
         },
         {
          "date": "2022-03-30T10:26:13.891892",
          "score": 0.9174645442429599
         },
         {
          "date": "2022-04-03T20:32:21.459460",
          "score": 0.9184790355444855
         },
         {
          "date": "2022-04-08T06:38:29.027027",
          "score": 0.9194878849775032
         },
         {
          "date": "2022-04-12T16:44:36.594594",
          "score": 0.9204910769365575
         },
         {
          "date": "2022-04-17T02:50:44.162162",
          "score": 0.9214885958988785
         },
         {
          "date": "2022-04-21T12:56:51.729730",
          "score": 0.92248042642471
         },
         {
          "date": "2022-04-25T23:02:59.297297",
          "score": 0.9234665531576474
         },
         {
          "date": "2022-04-30T09:09:06.864865",
          "score": 0.9244469608249456
         },
         {
          "date": "2022-05-04T19:15:14.432432",
          "score": 0.9254216342378647
         },
         {
          "date": "2022-05-09T05:21:22",
          "score": 0.9263905582919747
         },
         {
          "date": "2022-05-13T15:27:29.567568",
          "score": 0.9273537179674861
         },
         {
          "date": "2022-05-18T01:33:37.135135",
          "score": 0.9283110983295667
         },
         {
          "date": "2022-05-22T11:39:44.702703",
          "score": 0.9292626845286569
         },
         {
          "date": "2022-05-26T21:45:52.270270",
          "score": 0.9302084618007949
         },
         {
          "date": "2022-05-31T07:51:59.837838",
          "score": 0.9311484154679128
         },
         {
          "date": "2022-06-04T17:58:07.405406",
          "score": 0.9320825309381688
         },
         {
          "date": "2022-06-09T04:04:14.972973",
          "score": 0.9330107937062404
         },
         {
          "date": "2022-06-13T14:10:22.540540",
          "score": 0.9339331893536416
         },
         {
          "date": "2022-06-18T00:16:30.108108",
          "score": 0.9348497035490275
         },
         {
          "date": "2022-06-22T10:22:37.675676",
          "score": 0.9357603220484976
         },
         {
          "date": "2022-06-26T20:28:45.243243",
          "score": 0.9366650306959055
         },
         {
          "date": "2022-07-01T06:34:52.810811",
          "score": 0.9375638154231486
         },
         {
          "date": "2022-07-05T16:41:00.378378",
          "score": 0.9384566622504728
         },
         {
          "date": "2022-07-10T02:47:07.945946",
          "score": 0.9393435572867759
         },
         {
          "date": "2022-07-14T12:53:15.513514",
          "score": 0.9402244867298915
         },
         {
          "date": "2022-07-18T22:59:23.081081",
          "score": 0.9410994368668898
         },
         {
          "date": "2022-07-23T09:05:30.648649",
          "score": 0.9419683940743673
         },
         {
          "date": "2022-07-27T19:11:38.216216",
          "score": 0.9428313448187353
         },
         {
          "date": "2022-08-01T05:17:45.783784",
          "score": 0.9436882756565146
         },
         {
          "date": "2022-08-05T15:23:53.351351",
          "score": 0.9445391732346087
         },
         {
          "date": "2022-08-10T01:30:00.918919",
          "score": 0.9453840242906026
         },
         {
          "date": "2022-08-14T11:36:08.486486",
          "score": 0.9462228156530321
         },
         {
          "date": "2022-08-18T21:42:16.054054",
          "score": 0.9470555342416711
         },
         {
          "date": "2022-08-23T07:48:23.621622",
          "score": 0.947882167067808
         },
         {
          "date": "2022-08-27T17:54:31.189189",
          "score": 0.948702701234521
         },
         {
          "date": "2022-09-01T04:00:38.756757",
          "score": 0.9495171239369592
         },
         {
          "date": "2022-09-05T14:06:46.324324",
          "score": 0.9503254224626039
         },
         {
          "date": "2022-09-10T00:12:53.891892",
          "score": 0.951127584191545
         },
         {
          "date": "2022-09-14T10:19:01.459460",
          "score": 0.9519235965967546
         },
         {
          "date": "2022-09-18T20:25:09.027027",
          "score": 0.9527134472443435
         },
         {
          "date": "2022-09-23T06:31:16.594594",
          "score": 0.9534971237938321
         },
         {
          "date": "2022-09-27T16:37:24.162162",
          "score": 0.9542746139984117
         },
         {
          "date": "2022-10-02T02:43:31.729730",
          "score": 0.9550459057052038
         },
         {
          "date": "2022-10-06T12:49:39.297297",
          "score": 0.9558109868555247
         },
         {
          "date": "2022-10-10T22:55:46.864865",
          "score": 0.9565698454851311
         },
         {
          "date": "2022-10-15T09:01:54.432432",
          "score": 0.9573224697244884
         },
         {
          "date": "2022-10-19T19:08:02",
          "score": 0.9580688477990102
         },
         {
          "date": "2022-10-24T05:14:09.567568",
          "score": 0.9588089680293179
         },
         {
          "date": "2022-10-28T15:20:17.135135",
          "score": 0.9595428188314854
         },
         {
          "date": "2022-11-02T00:26:24.702703",
          "score": 0.9602703887172859
         },
         {
          "date": "2022-11-06T10:32:32.270270",
          "score": 0.9609916662944421
         },
         {
          "date": "2022-11-10T20:38:39.837838",
          "score": 0.9617066402668573
         },
         {
          "date": "2022-11-15T06:44:47.405406",
          "score": 0.9624152994348698
         },
         {
          "date": "2022-11-19T16:50:54.972973",
          "score": 0.9631176326954793
         },
         {
          "date": "2022-11-24T02:57:02.540541",
          "score": 0.9638136290425893
         },
         {
          "date": "2022-11-28T13:03:10.108108",
          "score": 0.9645032775672412
         },
         {
          "date": "2022-12-02T23:09:17.675676",
          "score": 0.965186567457844
         },
         {
          "date": "2022-12-07T09:15:25.243243",
          "score": 0.965863488000412
         },
         {
          "date": "2022-12-11T19:21:32.810811",
          "score": 0.9665340285787821
         },
         {
          "date": "2022-12-16T05:27:40.378378",
          "score": 0.9671981786748454
         },
         {
          "date": "2022-12-20T15:33:47.945946",
          "score": 0.9678559278687762
         },
         {
          "date": "2022-12-25T01:39:55.513514",
          "score": 0.968507265839244
         },
         {
          "date": "2022-12-29T11:46:03.081081",
          "score": 0.96915218236364
         },
         {
          "date": "2023-01-02T21:52:10.648649",
          "score": 0.969790667318293
         },
         {
          "date": "2023-01-07T07:58:18.216216",
          "score": 0.970422710678684
         },
         {
          "date": "2023-01-11T18:04:25.783784",
          "score": 0.9710483025196657
         },
         {
          "date": "2023-01-16T04:10:33.351351",
          "score": 0.9716674330156622
         },
         {
          "date": "2023-01-20T14:16:40.918919",
          "score": 0.9722800924408928
         },
         {
          "date": "2023-01-25T00:22:48.486486",
          "score": 0.9728862711695666
         },
         {
          "date": "2023-01-29T10:28:56.054054",
          "score": 0.9734859596760943
         },
         {
          "date": "2023-02-02T20:35:03.621622",
          "score": 0.9740791485352901
         },
         {
          "date": "2023-02-07T06:41:11.189189",
          "score": 0.9746658284225702
         },
         {
          "date": "2023-02-11T16:47:18.756757",
          "score": 0.9752459901141582
         },
         {
          "date": "2023-02-16T02:53:26.324324",
          "score": 0.9758196244872726
         },
         {
          "date": "2023-02-20T12:59:33.891892",
          "score": 0.9763867225203249
         },
         {
          "date": "2023-02-24T23:05:41.459460",
          "score": 0.9769472752931179
         },
         {
          "date": "2023-03-01T09:11:49.027027",
          "score": 0.9775012739870248
         },
         {
          "date": "2023-03-05T19:17:56.594594",
          "score": 0.9780487098851854
         },
         {
          "date": "2023-03-10T05:24:04.162162",
          "score": 0.9785895743726882
         },
         {
          "date": "2023-03-14T15:30:11.729730",
          "score": 0.9791238589367547
         },
         {
          "date": "2023-03-19T01:36:19.297297",
          "score": 0.9796515551669245
         },
         {
          "date": "2023-03-23T11:42:26.864865",
          "score": 0.9801726547552264
         },
         {
          "date": "2023-03-27T22:48:34.432432",
          "score": 0.9806871494963654
         },
         {
          "date": "2023-04-01T08:54:42",
          "score": 0.9811950312878884
         },
         {
          "date": "2023-04-05T19:00:49.567568",
          "score": 0.9816962921303634
         },
         {
          "date": "2023-04-10T05:06:57.135135",
          "score": 0.9821909241275463
         },
         {
          "date": "2023-04-14T15:13:04.702703",
          "score": 0.9826789194865508
         },
         {
          "date": "2023-04-19T01:19:12.270270",
          "score": 0.9831602705180176
         },
         {
          "date": "2023-04-23T11:25:19.837838",
          "score": 0.9836349696362698
         },
         {
          "date": "2023-04-27T21:31:27.405406",
          "score": 0.984103009359486
         },
         {
          "date": "2023-05-02T07:37:34.972973",
          "score": 0.9845643823098491
         },
         {
          "date": "2023-05-06T17:43:42.540541",
          "score": 0.9850190812137095
         },
         {
          "date": "2023-05-11T03:49:50.108108",
          "score": 0.98546709890174
         },
         {
          "date": "2023-05-15T13:55:57.675676",
          "score": 0.9859084283090856
         },
         {
          "date": "2023-05-20T00:02:05.243243",
          "score": 0.9863430624755202
         },
         {
          "date": "2023-05-24T10:08:12.810811",
          "score": 0.9867709945455871
         },
         {
          "date": "2023-05-28T20:14:20.378378",
          "score": 0.9871922177687497
         },
         {
          "date": "2023-06-02T06:20:27.945946",
          "score": 0.9876067254995378
         },
         {
          "date": "2023-06-06T16:26:35.513514",
          "score": 0.9880145111976834
         },
         {
          "date": "2023-06-11T02:32:43.081081",
          "score": 0.9884155684282638
         },
         {
          "date": "2023-06-15T12:38:50.648649",
          "score": 0.9888098908618387
         },
         {
          "date": "2023-06-19T22:44:58.216216",
          "score": 0.9891974722745835
         },
         {
          "date": "2023-06-24T08:51:05.783784",
          "score": 0.989578306548426
         },
         {
          "date": "2023-06-28T18:57:13.351351",
          "score": 0.9899523876711706
         },
         {
          "date": "2023-07-03T05:03:20.918919",
          "score": 0.9903197097366333
         },
         {
          "date": "2023-07-07T15:09:28.486486",
          "score": 0.9906802669447624
         },
         {
          "date": "2023-07-12T01:15:36.054054",
          "score": 0.9910340536017641
         },
         {
          "date": "2023-07-16T11:21:43.621622",
          "score": 0.991381064120225
         },
         {
          "date": "2023-07-20T21:27:51.189189",
          "score": 0.9917212930192287
         },
         {
          "date": "2023-07-25T07:33:58.756757",
          "score": 0.9920547349244776
         },
         {
          "date": "2023-07-29T17:40:06.324324",
          "score": 0.9923813845684013
         },
         {
          "date": "2023-08-03T03:46:13.891892",
          "score": 0.9927012367902719
         },
         {
          "date": "2023-08-07T13:52:21.459460",
          "score": 0.9930142865363168
         },
         {
          "date": "2023-08-11T23:58:29.027027",
          "score": 0.9933205288598216
         },
         {
          "date": "2023-08-16T10:04:36.594594",
          "score": 0.9936199589212381
         },
         {
          "date": "2023-08-20T20:10:44.162162",
          "score": 0.9939125719882875
         },
         {
          "date": "2023-08-25T06:16:51.729730",
          "score": 0.9941983634360609
         },
         {
          "date": "2023-08-29T16:22:59.297297",
          "score": 0.9944773287471196
         },
         {
          "date": "2023-09-03T02:29:06.864865",
          "score": 0.9947494635115876
         },
         {
          "date": "2023-09-07T12:35:14.432432",
          "score": 0.9950147634272508
         },
         {
          "date": "2023-09-11T22:41:22",
          "score": 0.9952732242996447
         },
         {
          "date": "2023-09-16T08:47:29.567568",
          "score": 0.995524842042145
         },
         {
          "date": "2023-09-20T18:53:37.135135",
          "score": 0.9957696126760559
         },
         {
          "date": "2023-09-25T04:59:44.702703",
          "score": 0.9960075323306934
         },
         {
          "date": "2023-09-29T15:05:52.270270",
          "score": 0.9962385972434702
         },
         {
          "date": "2023-10-04T01:11:59.837838",
          "score": 0.9964628037599722
         },
         {
          "date": "2023-10-08T11:18:07.405406",
          "score": 0.9966801483340413
         },
         {
          "date": "2023-10-12T21:24:14.972973",
          "score": 0.9968906275278466
         },
         {
          "date": "2023-10-17T07:30:22.540541",
          "score": 0.9970942380119602
         },
         {
          "date": "2023-10-21T17:36:30.108108",
          "score": 0.9972909765654276
         },
         {
          "date": "2023-10-26T03:42:37.675676",
          "score": 0.9974808400758359
         },
         {
          "date": "2023-10-30T12:48:45.243243",
          "score": 0.997663825539383
         },
         {
          "date": "2023-11-03T22:54:52.810811",
          "score": 0.9978399300609369
         },
         {
          "date": "2023-11-08T09:01:00.378378",
          "score": 0.9980091508541011
         },
         {
          "date": "2023-11-12T19:07:07.945946",
          "score": 0.9981714852412736
         },
         {
          "date": "2023-11-17T05:13:15.513514",
          "score": 0.9983269306537028
         },
         {
          "date": "2023-11-21T15:19:23.081081",
          "score": 0.9984754846315433
         },
         {
          "date": "2023-11-26T01:25:30.648649",
          "score": 0.9986171448239074
         },
         {
          "date": "2023-11-30T11:31:38.216216",
          "score": 0.9987519089889163
         },
         {
          "date": "2023-12-04T21:37:45.783784",
          "score": 0.9988797749937484
         },
         {
          "date": "2023-12-09T07:43:53.351351",
          "score": 0.9990007408146824
         },
         {
          "date": "2023-12-13T17:50:00.918919",
          "score": 0.999114804537144
         },
         {
          "date": "2023-12-18T03:56:08.486486",
          "score": 0.9992219643557428
         },
         {
          "date": "2023-12-22T14:02:16.054054",
          "score": 0.9993222185743142
         },
         {
          "date": "2023-12-27T00:08:23.621622",
          "score": 0.999415565605954
         },
         {
          "date": "2023-12-31T10:14:31.189189",
          "score": 0.9995020039730516
         },
         {
          "date": "2024-01-04T20:20:38.756757",
          "score": 0.9995815323073236
         },
         {
          "date": "2024-01-09T06:26:46.324324",
          "score": 0.9996541493498414
         },
         {
          "date": "2024-01-13T16:32:53.891892",
          "score": 0.9997198539510584
         },
         {
          "date": "2024-01-18T02:39:01.459460",
          "score": 0.9997786450708348
         },
         {
          "date": "2024-01-22T12:45:09.027027",
          "score": 0.9998305217784595
         },
         {
          "date": "2024-01-26T22:51:16.594594",
          "score": 0.99987548325267
         },
         {
          "date": "2024-01-31T08:57:24.162162",
          "score": 0.99991352878167
         },
         {
          "date": "2024-02-04T19:03:31.729730",
          "score": 0.9999446577631448
         },
         {
          "date": "2024-02-09T05:09:39.297297",
          "score": 0.9999688697042739
         },
         {
          "date": "2024-02-13T15:15:46.864865",
          "score": 0.9999861642217415
         },
         {
          "date": "2024-02-18T01:21:54.432432",
          "score": 0.9999965410417448
         },
         {
          "date": "2024-02-22T11:28:02",
          "score": 1
         }
        ]
       },
       "encoding": {
        "tooltip": [
         {
          "field": "date",
          "type": "temporal"
         }
        ],
        "x": {
         "field": "date",
         "title": "Date",
         "type": "temporal"
        },
        "y": {
         "field": "score",
         "title": "Recency score",
         "type": "quantitative"
        }
       },
       "height": 380,
       "mark": {
        "color": "black",
        "filled": true,
        "size": 10,
        "type": "point"
       },
       "title": "Recency scores (unit weight)",
       "width": 500
      },
      "image/png": "[encoded data removed]",
      "text/plain": [
       "<VegaLite 5 object>\n",
       "\n",
       "If you see this message, it means the renderer has not been properly enabled\n",
       "for the frontend that you are using. For more information, see\n",
       "https://altair-viz.github.io/user_guide/display_frontends.html#troubleshooting\n"
      ]
     },
     "execution_count": 16,
     "metadata": {},
     "output_type": "execute_result"
    }
   ],
   "source": [
    "recency_plotter = RecencyPlotter(recency_space)\n",
    "recency_plotter.plot_recency_curve()"
   ]
  },
  {
   "cell_type": "markdown",
   "id": "e5213ec8-93aa-4e30-91e5-108afe8bac4d",
   "metadata": {},
   "source": [
    "## Queries"
   ]
  },
  {
   "cell_type": "code",
   "execution_count": 17,
   "id": "8531be9a-ad7c-422c-8c74-7e0825ab7733",
   "metadata": {},
   "outputs": [],
   "source": [
    "# quick helper to present the results in a notebook\n",
    "def present_result(result: Result, cols_to_keep: list[str] = [\"description\", \"headline\", \"release_date\", \"id\"]) -> pd.DataFrame:\n",
    "    # parse result to dataframe\n",
    "    df: pd.DataFrame = pd.DataFrame([entry.stored_object for entry in result.entries])\n",
    "    # transform timestamp back to release year. Ts is in milliseconds originally hence the division\n",
    "    df[\"release_date\"] = [datetime.fromtimestamp(timestamp, tz=timezone.utc).date() for timestamp in df[\"release_timestamp\"]]\n",
    "    return df[cols_to_keep]"
   ]
  },
  {
   "cell_type": "markdown",
   "id": "fdd3e696-0613-425e-a750-70f70f679824",
   "metadata": {},
   "source": [
    "Let's search for one of the biggest acquisitions of the last decade! We are going to set recency's weight to 0 as it does not matter at this point."
   ]
  },
  {
   "cell_type": "code",
   "execution_count": 18,
   "id": "5528c3af-67de-4e31-9cfd-c8a8c080cd29",
   "metadata": {
    "scrolled": true
   },
   "outputs": [
    {
     "data": {
      "text/html": [
       "<div>\n",
       "<style scoped>\n",
       "    .dataframe tbody tr th:only-of-type {\n",
       "        vertical-align: middle;\n",
       "    }\n",
       "\n",
       "    .dataframe tbody tr th {\n",
       "        vertical-align: top;\n",
       "    }\n",
       "\n",
       "    .dataframe thead th {\n",
       "        text-align: right;\n",
       "    }\n",
       "</style>\n",
       "<table border=\"1\" class=\"dataframe\">\n",
       "  <thead>\n",
       "    <tr style=\"text-align: right;\">\n",
       "      <th></th>\n",
       "      <th>description</th>\n",
       "      <th>headline</th>\n",
       "      <th>release_date</th>\n",
       "      <th>id</th>\n",
       "    </tr>\n",
       "  </thead>\n",
       "  <tbody>\n",
       "    <tr>\n",
       "      <th>0</th>\n",
       "      <td>(Reuters) - Microsoft Corp  agreed to buy LinkedIn Corp  for $26.2 billion in cash, the companies said in</td>\n",
       "      <td>Microsoft Agrees To Acquire LinkedIn For $26.2 Billion</td>\n",
       "      <td>2016-06-13</td>\n",
       "      <td>64890</td>\n",
       "    </tr>\n",
       "    <tr>\n",
       "      <th>1</th>\n",
       "      <td>Without question, LinkedIn has forever altered the business landscape -- both digitally and in the physical world. Nowadays, so much of what we call business or career development is carried out r...</td>\n",
       "      <td>The LinkedIn of Things</td>\n",
       "      <td>2015-01-06</td>\n",
       "      <td>110756</td>\n",
       "    </tr>\n",
       "    <tr>\n",
       "      <th>2</th>\n",
       "      <td>LinkedIn works very well for the millions of people who make the effort to understand how to leverage it effectively. And those people are very likely not spending more than fifteen a minutes a da...</td>\n",
       "      <td>The 7 LinkedIn Job Search Mistakes That Might Be Costing You a Job</td>\n",
       "      <td>2014-06-26</td>\n",
       "      <td>127772</td>\n",
       "    </tr>\n",
       "    <tr>\n",
       "      <th>3</th>\n",
       "      <td>Although under-used by average LinkedIn members, LinkedIn Groups can be critical to a successful job search because they enable you to communicate directly with recruiters. And vice versa.</td>\n",
       "      <td>Get LinkedIn to Recruiters for Your Job Search</td>\n",
       "      <td>2014-07-07</td>\n",
       "      <td>126794</td>\n",
       "    </tr>\n",
       "    <tr>\n",
       "      <th>4</th>\n",
       "      <td>NEW YORK (AP) — Anthem is buying rival Cigna for $48 billion in a deal that would create the nation's largest health insurer</td>\n",
       "      <td>MEGA-MERGER: Anthem To Buy Cigna For $54 Billion</td>\n",
       "      <td>2015-07-24</td>\n",
       "      <td>93451</td>\n",
       "    </tr>\n",
       "    <tr>\n",
       "      <th>5</th>\n",
       "      <td>The struggling social network is looking for a buyer.</td>\n",
       "      <td>Twitter Is Reportedly In Sales Talks With Google And Salesforce</td>\n",
       "      <td>2016-09-23</td>\n",
       "      <td>55880</td>\n",
       "    </tr>\n",
       "    <tr>\n",
       "      <th>6</th>\n",
       "      <td>The company's value has soared in the last five years and it has more users than Twitter.</td>\n",
       "      <td>Snapchat Is Reportedly Planning A $25 Billion IPO</td>\n",
       "      <td>2016-10-06</td>\n",
       "      <td>54727</td>\n",
       "    </tr>\n",
       "    <tr>\n",
       "      <th>7</th>\n",
       "      <td>If failed corporate mergers teach us anything about business, it's that bigger is not always better. Yep, with a 70 to 90</td>\n",
       "      <td>9 Mergers That Epically Failed</td>\n",
       "      <td>2013-02-23</td>\n",
       "      <td>173078</td>\n",
       "    </tr>\n",
       "    <tr>\n",
       "      <th>8</th>\n",
       "      <td>“With the Snap investment, we have invested over $1.5 billion in promising digital businesses in the last eighteen months.”</td>\n",
       "      <td>NBCUniversal Invested $500 Million In Snap Inc As Part Of IPO</td>\n",
       "      <td>2017-03-03</td>\n",
       "      <td>41556</td>\n",
       "    </tr>\n",
       "    <tr>\n",
       "      <th>9</th>\n",
       "      <td>Another day, another merger. Telephone companies, drug companies, drugstores, airlines, hospitals, retail stores and beer. Why?</td>\n",
       "      <td>The Great Remix: Why Mergers Are Booming</td>\n",
       "      <td>2015-11-01</td>\n",
       "      <td>84610</td>\n",
       "    </tr>\n",
       "  </tbody>\n",
       "</table>\n",
       "</div>"
      ],
      "text/plain": [
       "                                                                                                                                                                                               description  \\\n",
       "0                                                                                                (Reuters) - Microsoft Corp  agreed to buy LinkedIn Corp  for $26.2 billion in cash, the companies said in   \n",
       "1  Without question, LinkedIn has forever altered the business landscape -- both digitally and in the physical world. Nowadays, so much of what we call business or career development is carried out r...   \n",
       "2  LinkedIn works very well for the millions of people who make the effort to understand how to leverage it effectively. And those people are very likely not spending more than fifteen a minutes a da...   \n",
       "3             Although under-used by average LinkedIn members, LinkedIn Groups can be critical to a successful job search because they enable you to communicate directly with recruiters. And vice versa.   \n",
       "4                                                                             NEW YORK (AP) — Anthem is buying rival Cigna for $48 billion in a deal that would create the nation's largest health insurer   \n",
       "5                                                                                                                                                    The struggling social network is looking for a buyer.   \n",
       "6                                                                                                                The company's value has soared in the last five years and it has more users than Twitter.   \n",
       "7                                                                                If failed corporate mergers teach us anything about business, it's that bigger is not always better. Yep, with a 70 to 90   \n",
       "8                                                                              “With the Snap investment, we have invested over $1.5 billion in promising digital businesses in the last eighteen months.”   \n",
       "9                                                                          Another day, another merger. Telephone companies, drug companies, drugstores, airlines, hospitals, retail stores and beer. Why?   \n",
       "\n",
       "                                                             headline  \\\n",
       "0              Microsoft Agrees To Acquire LinkedIn For $26.2 Billion   \n",
       "1                                              The LinkedIn of Things   \n",
       "2  The 7 LinkedIn Job Search Mistakes That Might Be Costing You a Job   \n",
       "3                      Get LinkedIn to Recruiters for Your Job Search   \n",
       "4                    MEGA-MERGER: Anthem To Buy Cigna For $54 Billion   \n",
       "5     Twitter Is Reportedly In Sales Talks With Google And Salesforce   \n",
       "6                   Snapchat Is Reportedly Planning A $25 Billion IPO   \n",
       "7                                      9 Mergers That Epically Failed   \n",
       "8       NBCUniversal Invested $500 Million In Snap Inc As Part Of IPO   \n",
       "9                            The Great Remix: Why Mergers Are Booming   \n",
       "\n",
       "  release_date      id  \n",
       "0   2016-06-13   64890  \n",
       "1   2015-01-06  110756  \n",
       "2   2014-06-26  127772  \n",
       "3   2014-07-07  126794  \n",
       "4   2015-07-24   93451  \n",
       "5   2016-09-23   55880  \n",
       "6   2016-10-06   54727  \n",
       "7   2013-02-23  173078  \n",
       "8   2017-03-03   41556  \n",
       "9   2015-11-01   84610  "
      ]
     },
     "execution_count": 18,
     "metadata": {},
     "output_type": "execute_result"
    }
   ],
   "source": [
    "result = app.query(\n",
    "    simple_query,\n",
    "    query_text = \"Microsoft acquires LinkedIn\",\n",
    "    description_weight=1,\n",
    "    headline_weight=1,\n",
    "    recency_weight=0\n",
    ")\n",
    "\n",
    "present_result(result)"
   ]
  },
  {
   "cell_type": "markdown",
   "id": "6d74b0af-42df-4166-aa6f-c57676b4b19c",
   "metadata": {},
   "source": [
    "The first result is about the deal, others are related to some aspect of the query. Let's try upweighting recency to see a recent big acquisition jump to the second place."
   ]
  },
  {
   "cell_type": "code",
   "execution_count": 19,
   "id": "3d45edfa-d92f-4196-93e7-a2e91743ffba",
   "metadata": {},
   "outputs": [
    {
     "data": {
      "text/html": [
       "<div>\n",
       "<style scoped>\n",
       "    .dataframe tbody tr th:only-of-type {\n",
       "        vertical-align: middle;\n",
       "    }\n",
       "\n",
       "    .dataframe tbody tr th {\n",
       "        vertical-align: top;\n",
       "    }\n",
       "\n",
       "    .dataframe thead th {\n",
       "        text-align: right;\n",
       "    }\n",
       "</style>\n",
       "<table border=\"1\" class=\"dataframe\">\n",
       "  <thead>\n",
       "    <tr style=\"text-align: right;\">\n",
       "      <th></th>\n",
       "      <th>description</th>\n",
       "      <th>headline</th>\n",
       "      <th>release_date</th>\n",
       "      <th>id</th>\n",
       "    </tr>\n",
       "  </thead>\n",
       "  <tbody>\n",
       "    <tr>\n",
       "      <th>0</th>\n",
       "      <td>(Reuters) - Microsoft Corp  agreed to buy LinkedIn Corp  for $26.2 billion in cash, the companies said in</td>\n",
       "      <td>Microsoft Agrees To Acquire LinkedIn For $26.2 Billion</td>\n",
       "      <td>2016-06-13</td>\n",
       "      <td>64890</td>\n",
       "    </tr>\n",
       "    <tr>\n",
       "      <th>1</th>\n",
       "      <td>“My offer is my best and final offer and if it is not accepted, I would need to reconsider my position as a shareholder,” Musk said in a filing.</td>\n",
       "      <td>Elon Musk Offers To Buy 100% Of Twitter</td>\n",
       "      <td>2022-04-14</td>\n",
       "      <td>849</td>\n",
       "    </tr>\n",
       "    <tr>\n",
       "      <th>2</th>\n",
       "      <td>Starbucks' move follows McDonald's exit from the Russian market last week.</td>\n",
       "      <td>Starbucks Leaving Russian Market, Shutting 130 Stores</td>\n",
       "      <td>2022-05-23</td>\n",
       "      <td>632</td>\n",
       "    </tr>\n",
       "    <tr>\n",
       "      <th>3</th>\n",
       "      <td>Delaware Chancery Judge Kathaleen McCormick dealt the world's richest person a setback in ordering a speedy trial on his abandoned deal to buy Twitter.</td>\n",
       "      <td>Twitter Lawyer Calls Elon Musk 'Committed Enemy' As Judge Sets October Trial</td>\n",
       "      <td>2022-07-20</td>\n",
       "      <td>353</td>\n",
       "    </tr>\n",
       "    <tr>\n",
       "      <th>4</th>\n",
       "      <td>Without question, LinkedIn has forever altered the business landscape -- both digitally and in the physical world. Nowadays, so much of what we call business or career development is carried out r...</td>\n",
       "      <td>The LinkedIn of Things</td>\n",
       "      <td>2015-01-06</td>\n",
       "      <td>110756</td>\n",
       "    </tr>\n",
       "    <tr>\n",
       "      <th>5</th>\n",
       "      <td>The decision comes as surging oil prices have been rattling global markets and after Ukraine’s foreign minister criticized Shell for continuing to buy Russian oil.</td>\n",
       "      <td>Shell Says It Will Stop Buying Russian Oil, Natural Gas</td>\n",
       "      <td>2022-03-08</td>\n",
       "      <td>1054</td>\n",
       "    </tr>\n",
       "    <tr>\n",
       "      <th>6</th>\n",
       "      <td>That makes seven Starbucks stores that have voted to unionize in a matter of months.</td>\n",
       "      <td>Starbucks Workers In Seattle Vote To Form Union</td>\n",
       "      <td>2022-03-23</td>\n",
       "      <td>967</td>\n",
       "    </tr>\n",
       "    <tr>\n",
       "      <th>7</th>\n",
       "      <td>Recent statements by CEO Howard Schultz offer a glimpse of some of the hardball tactics that might lay ahead.</td>\n",
       "      <td>For The Starbucks Union Campaign, A Bruising Contract Fight Is Just Beginning</td>\n",
       "      <td>2022-04-16</td>\n",
       "      <td>837</td>\n",
       "    </tr>\n",
       "    <tr>\n",
       "      <th>8</th>\n",
       "      <td>The store in Arizona joins two in New York as the only corporate Starbucks stores with a union.</td>\n",
       "      <td>Another Starbucks Store Votes To Unionize</td>\n",
       "      <td>2022-02-25</td>\n",
       "      <td>1117</td>\n",
       "    </tr>\n",
       "    <tr>\n",
       "      <th>9</th>\n",
       "      <td>Asian and European stock markets plunged and oil prices surged to nearly $100 a barrel Thursday after Russia attacked Ukraine.</td>\n",
       "      <td>Russian Military Action In Ukraine Causes Oil Prices To Soar</td>\n",
       "      <td>2022-02-24</td>\n",
       "      <td>1121</td>\n",
       "    </tr>\n",
       "  </tbody>\n",
       "</table>\n",
       "</div>"
      ],
      "text/plain": [
       "                                                                                                                                                                                               description  \\\n",
       "0                                                                                                (Reuters) - Microsoft Corp  agreed to buy LinkedIn Corp  for $26.2 billion in cash, the companies said in   \n",
       "1                                                         “My offer is my best and final offer and if it is not accepted, I would need to reconsider my position as a shareholder,” Musk said in a filing.   \n",
       "2                                                                                                                               Starbucks' move follows McDonald's exit from the Russian market last week.   \n",
       "3                                                  Delaware Chancery Judge Kathaleen McCormick dealt the world's richest person a setback in ordering a speedy trial on his abandoned deal to buy Twitter.   \n",
       "4  Without question, LinkedIn has forever altered the business landscape -- both digitally and in the physical world. Nowadays, so much of what we call business or career development is carried out r...   \n",
       "5                                      The decision comes as surging oil prices have been rattling global markets and after Ukraine’s foreign minister criticized Shell for continuing to buy Russian oil.   \n",
       "6                                                                                                                     That makes seven Starbucks stores that have voted to unionize in a matter of months.   \n",
       "7                                                                                            Recent statements by CEO Howard Schultz offer a glimpse of some of the hardball tactics that might lay ahead.   \n",
       "8                                                                                                          The store in Arizona joins two in New York as the only corporate Starbucks stores with a union.   \n",
       "9                                                                           Asian and European stock markets plunged and oil prices surged to nearly $100 a barrel Thursday after Russia attacked Ukraine.   \n",
       "\n",
       "                                                                        headline  \\\n",
       "0                         Microsoft Agrees To Acquire LinkedIn For $26.2 Billion   \n",
       "1                                        Elon Musk Offers To Buy 100% Of Twitter   \n",
       "2                          Starbucks Leaving Russian Market, Shutting 130 Stores   \n",
       "3   Twitter Lawyer Calls Elon Musk 'Committed Enemy' As Judge Sets October Trial   \n",
       "4                                                         The LinkedIn of Things   \n",
       "5                        Shell Says It Will Stop Buying Russian Oil, Natural Gas   \n",
       "6                                Starbucks Workers In Seattle Vote To Form Union   \n",
       "7  For The Starbucks Union Campaign, A Bruising Contract Fight Is Just Beginning   \n",
       "8                                      Another Starbucks Store Votes To Unionize   \n",
       "9                   Russian Military Action In Ukraine Causes Oil Prices To Soar   \n",
       "\n",
       "  release_date      id  \n",
       "0   2016-06-13   64890  \n",
       "1   2022-04-14     849  \n",
       "2   2022-05-23     632  \n",
       "3   2022-07-20     353  \n",
       "4   2015-01-06  110756  \n",
       "5   2022-03-08    1054  \n",
       "6   2022-03-23     967  \n",
       "7   2022-04-16     837  \n",
       "8   2022-02-25    1117  \n",
       "9   2022-02-24    1121  "
      ]
     },
     "execution_count": 19,
     "metadata": {},
     "output_type": "execute_result"
    }
   ],
   "source": [
    "result = app.query(\n",
    "    simple_query,\n",
    "    query_text = \"Microsoft acquires LinkedIn\",\n",
    "    description_weight=1,\n",
    "    headline_weight=1,\n",
    "    recency_weight=1,\n",
    ")\n",
    "\n",
    "present_result(result)"
   ]
  },
  {
   "cell_type": "markdown",
   "id": "cc510836-74f6-438d-9db2-e5bde54fe8c9",
   "metadata": {},
   "source": [
    "Subsequently we can also search with the news article about Elon Musk offering to buy Twitter. As the dataset is quite biased towards old articles, what we get back is news about either Elon Musk or Twitter."
   ]
  },
  {
   "cell_type": "code",
   "execution_count": 20,
   "id": "8d8db7ab-909e-49be-a7ab-81a0159c92ff",
   "metadata": {},
   "outputs": [
    {
     "data": {
      "text/html": [
       "<div>\n",
       "<style scoped>\n",
       "    .dataframe tbody tr th:only-of-type {\n",
       "        vertical-align: middle;\n",
       "    }\n",
       "\n",
       "    .dataframe tbody tr th {\n",
       "        vertical-align: top;\n",
       "    }\n",
       "\n",
       "    .dataframe thead th {\n",
       "        text-align: right;\n",
       "    }\n",
       "</style>\n",
       "<table border=\"1\" class=\"dataframe\">\n",
       "  <thead>\n",
       "    <tr style=\"text-align: right;\">\n",
       "      <th></th>\n",
       "      <th>description</th>\n",
       "      <th>headline</th>\n",
       "      <th>release_date</th>\n",
       "      <th>id</th>\n",
       "    </tr>\n",
       "  </thead>\n",
       "  <tbody>\n",
       "    <tr>\n",
       "      <th>0</th>\n",
       "      <td>“My offer is my best and final offer and if it is not accepted, I would need to reconsider my position as a shareholder,” Musk said in a filing.</td>\n",
       "      <td>Elon Musk Offers To Buy 100% Of Twitter</td>\n",
       "      <td>2022-04-14</td>\n",
       "      <td>849</td>\n",
       "    </tr>\n",
       "    <tr>\n",
       "      <th>1</th>\n",
       "      <td>The U.S. Securities and Exchange Commission filed a motion asking for the Tesla CEO to show why he shouldn't be held in contempt.</td>\n",
       "      <td>SEC Says Elon Musk Violated Fraud Settlement With Tweet</td>\n",
       "      <td>2019-02-26</td>\n",
       "      <td>7191</td>\n",
       "    </tr>\n",
       "    <tr>\n",
       "      <th>2</th>\n",
       "      <td>Don't bet against Musk.</td>\n",
       "      <td>Why Elon Musk’s Plan To Merge Tesla With SolarCity Will Probably Work</td>\n",
       "      <td>2016-08-16</td>\n",
       "      <td>59220</td>\n",
       "    </tr>\n",
       "    <tr>\n",
       "      <th>3</th>\n",
       "      <td>Elon Musk's empire is consolidating.</td>\n",
       "      <td>Tesla Is Buying Sister Company SolarCity For $2.6 Billion</td>\n",
       "      <td>2016-08-01</td>\n",
       "      <td>60483</td>\n",
       "    </tr>\n",
       "    <tr>\n",
       "      <th>4</th>\n",
       "      <td>The billionaire wants to marry Tesla and SolarCity. But he says SpaceX should remain a bachelor.</td>\n",
       "      <td>The One Company Elon Musk Wants To Keep Independent</td>\n",
       "      <td>2016-08-04</td>\n",
       "      <td>60237</td>\n",
       "    </tr>\n",
       "    <tr>\n",
       "      <th>5</th>\n",
       "      <td>The interim CEO purchased 31,000 shares Monday.</td>\n",
       "      <td>Jack Dorsey Bought A Bunch Of Twitter Shares, And It's Working Out Great</td>\n",
       "      <td>2015-08-10</td>\n",
       "      <td>91958</td>\n",
       "    </tr>\n",
       "    <tr>\n",
       "      <th>6</th>\n",
       "      <td>Tesla's CEO says hiring self-driving engineers is \"a super high priority.\"</td>\n",
       "      <td>Elon Musk Just Dropped Another Hint That Tesla May Take On Uber</td>\n",
       "      <td>2015-11-20</td>\n",
       "      <td>82841</td>\n",
       "    </tr>\n",
       "    <tr>\n",
       "      <th>7</th>\n",
       "      <td>Time Warner rejected an $80 billion offer from a different company in 2014.</td>\n",
       "      <td>AT&amp;T Agrees To Buy Time Warner, In Principle</td>\n",
       "      <td>2016-10-21</td>\n",
       "      <td>53309</td>\n",
       "    </tr>\n",
       "    <tr>\n",
       "      <th>8</th>\n",
       "      <td>It's an Elon Musk world, and we're just living in it. Before we bow down to a seemingly fearless and altruistic pioneer of electric vehicles and libertarianism, it's important to point out the ong...</td>\n",
       "      <td>Elon Musk Is Even Smarter Than We Thought</td>\n",
       "      <td>2014-06-14</td>\n",
       "      <td>128870</td>\n",
       "    </tr>\n",
       "    <tr>\n",
       "      <th>9</th>\n",
       "      <td>This could all be part of the secret sauce known as the \"Musk Doctrine.\"</td>\n",
       "      <td>Wall Street Doesn’t Believe Elon Musk Can Produce 500,000 Cars By 2018</td>\n",
       "      <td>2016-05-09</td>\n",
       "      <td>67933</td>\n",
       "    </tr>\n",
       "  </tbody>\n",
       "</table>\n",
       "</div>"
      ],
      "text/plain": [
       "                                                                                                                                                                                               description  \\\n",
       "0                                                         “My offer is my best and final offer and if it is not accepted, I would need to reconsider my position as a shareholder,” Musk said in a filing.   \n",
       "1                                                                        The U.S. Securities and Exchange Commission filed a motion asking for the Tesla CEO to show why he shouldn't be held in contempt.   \n",
       "2                                                                                                                                                                                  Don't bet against Musk.   \n",
       "3                                                                                                                                                                     Elon Musk's empire is consolidating.   \n",
       "4                                                                                                         The billionaire wants to marry Tesla and SolarCity. But he says SpaceX should remain a bachelor.   \n",
       "5                                                                                                                                                          The interim CEO purchased 31,000 shares Monday.   \n",
       "6                                                                                                                               Tesla's CEO says hiring self-driving engineers is \"a super high priority.\"   \n",
       "7                                                                                                                              Time Warner rejected an $80 billion offer from a different company in 2014.   \n",
       "8  It's an Elon Musk world, and we're just living in it. Before we bow down to a seemingly fearless and altruistic pioneer of electric vehicles and libertarianism, it's important to point out the ong...   \n",
       "9                                                                                                                                 This could all be part of the secret sauce known as the \"Musk Doctrine.\"   \n",
       "\n",
       "                                                                   headline  \\\n",
       "0                                   Elon Musk Offers To Buy 100% Of Twitter   \n",
       "1                   SEC Says Elon Musk Violated Fraud Settlement With Tweet   \n",
       "2     Why Elon Musk’s Plan To Merge Tesla With SolarCity Will Probably Work   \n",
       "3                 Tesla Is Buying Sister Company SolarCity For $2.6 Billion   \n",
       "4                       The One Company Elon Musk Wants To Keep Independent   \n",
       "5  Jack Dorsey Bought A Bunch Of Twitter Shares, And It's Working Out Great   \n",
       "6           Elon Musk Just Dropped Another Hint That Tesla May Take On Uber   \n",
       "7                              AT&T Agrees To Buy Time Warner, In Principle   \n",
       "8                                 Elon Musk Is Even Smarter Than We Thought   \n",
       "9    Wall Street Doesn’t Believe Elon Musk Can Produce 500,000 Cars By 2018   \n",
       "\n",
       "  release_date      id  \n",
       "0   2022-04-14     849  \n",
       "1   2019-02-26    7191  \n",
       "2   2016-08-16   59220  \n",
       "3   2016-08-01   60483  \n",
       "4   2016-08-04   60237  \n",
       "5   2015-08-10   91958  \n",
       "6   2015-11-20   82841  \n",
       "7   2016-10-21   53309  \n",
       "8   2014-06-14  128870  \n",
       "9   2016-05-09   67933  "
      ]
     },
     "execution_count": 20,
     "metadata": {},
     "output_type": "execute_result"
    }
   ],
   "source": [
    "result = app.query(\n",
    "    news_query,\n",
    "    description_weight=1,\n",
    "    headline_weight=1,\n",
    "    recency_weight=0,\n",
    "    news_id=\"849\",\n",
    ")\n",
    "\n",
    "present_result(result)"
   ]
  },
  {
   "cell_type": "markdown",
   "id": "b91aef71-921a-48cf-ba4b-3751b594fa35",
   "metadata": {},
   "source": [
    "That we can start biasing towards recency, navigating the tradeoff of letting less connected but recent news into the mix. "
   ]
  },
  {
   "cell_type": "code",
   "execution_count": 21,
   "id": "9740a69d-b11b-4f63-b13a-8230565f85b7",
   "metadata": {},
   "outputs": [
    {
     "data": {
      "text/html": [
       "<div>\n",
       "<style scoped>\n",
       "    .dataframe tbody tr th:only-of-type {\n",
       "        vertical-align: middle;\n",
       "    }\n",
       "\n",
       "    .dataframe tbody tr th {\n",
       "        vertical-align: top;\n",
       "    }\n",
       "\n",
       "    .dataframe thead th {\n",
       "        text-align: right;\n",
       "    }\n",
       "</style>\n",
       "<table border=\"1\" class=\"dataframe\">\n",
       "  <thead>\n",
       "    <tr style=\"text-align: right;\">\n",
       "      <th></th>\n",
       "      <th>description</th>\n",
       "      <th>headline</th>\n",
       "      <th>release_date</th>\n",
       "      <th>id</th>\n",
       "    </tr>\n",
       "  </thead>\n",
       "  <tbody>\n",
       "    <tr>\n",
       "      <th>0</th>\n",
       "      <td>“My offer is my best and final offer and if it is not accepted, I would need to reconsider my position as a shareholder,” Musk said in a filing.</td>\n",
       "      <td>Elon Musk Offers To Buy 100% Of Twitter</td>\n",
       "      <td>2022-04-14</td>\n",
       "      <td>849</td>\n",
       "    </tr>\n",
       "    <tr>\n",
       "      <th>1</th>\n",
       "      <td>The U.S. Securities and Exchange Commission filed a motion asking for the Tesla CEO to show why he shouldn't be held in contempt.</td>\n",
       "      <td>SEC Says Elon Musk Violated Fraud Settlement With Tweet</td>\n",
       "      <td>2019-02-26</td>\n",
       "      <td>7191</td>\n",
       "    </tr>\n",
       "    <tr>\n",
       "      <th>2</th>\n",
       "      <td>Delaware Chancery Judge Kathaleen McCormick dealt the world's richest person a setback in ordering a speedy trial on his abandoned deal to buy Twitter.</td>\n",
       "      <td>Twitter Lawyer Calls Elon Musk 'Committed Enemy' As Judge Sets October Trial</td>\n",
       "      <td>2022-07-20</td>\n",
       "      <td>353</td>\n",
       "    </tr>\n",
       "    <tr>\n",
       "      <th>3</th>\n",
       "      <td>Don't bet against Musk.</td>\n",
       "      <td>Why Elon Musk’s Plan To Merge Tesla With SolarCity Will Probably Work</td>\n",
       "      <td>2016-08-16</td>\n",
       "      <td>59220</td>\n",
       "    </tr>\n",
       "    <tr>\n",
       "      <th>4</th>\n",
       "      <td>Recent statements by CEO Howard Schultz offer a glimpse of some of the hardball tactics that might lay ahead.</td>\n",
       "      <td>For The Starbucks Union Campaign, A Bruising Contract Fight Is Just Beginning</td>\n",
       "      <td>2022-04-16</td>\n",
       "      <td>837</td>\n",
       "    </tr>\n",
       "    <tr>\n",
       "      <th>5</th>\n",
       "      <td>Elon Musk's empire is consolidating.</td>\n",
       "      <td>Tesla Is Buying Sister Company SolarCity For $2.6 Billion</td>\n",
       "      <td>2016-08-01</td>\n",
       "      <td>60483</td>\n",
       "    </tr>\n",
       "    <tr>\n",
       "      <th>6</th>\n",
       "      <td>The billionaire wants to marry Tesla and SolarCity. But he says SpaceX should remain a bachelor.</td>\n",
       "      <td>The One Company Elon Musk Wants To Keep Independent</td>\n",
       "      <td>2016-08-04</td>\n",
       "      <td>60237</td>\n",
       "    </tr>\n",
       "    <tr>\n",
       "      <th>7</th>\n",
       "      <td>Android creator Andy Rubin, accused of sexual harassment, was given a severance package worth $240 million, according to the lawsuit.</td>\n",
       "      <td>Google's Alphabet Settles With Shareholders Over Payoffs To Execs Accused Of Harassment</td>\n",
       "      <td>2020-09-26</td>\n",
       "      <td>4025</td>\n",
       "    </tr>\n",
       "    <tr>\n",
       "      <th>8</th>\n",
       "      <td>The assets were the subject of recent talks between Fox and Walt Disney Co.</td>\n",
       "      <td>Verizon, Comcast Approach 21st Century Fox About Acquiring Assets</td>\n",
       "      <td>2017-11-16</td>\n",
       "      <td>20285</td>\n",
       "    </tr>\n",
       "    <tr>\n",
       "      <th>9</th>\n",
       "      <td>Tesla CEO issues a dire warning.</td>\n",
       "      <td>Elon Musk Predicts The Cause Of World War III (And It's Not Donald Trump)</td>\n",
       "      <td>2017-09-05</td>\n",
       "      <td>25949</td>\n",
       "    </tr>\n",
       "  </tbody>\n",
       "</table>\n",
       "</div>"
      ],
      "text/plain": [
       "                                                                                                                                               description  \\\n",
       "0         “My offer is my best and final offer and if it is not accepted, I would need to reconsider my position as a shareholder,” Musk said in a filing.   \n",
       "1                        The U.S. Securities and Exchange Commission filed a motion asking for the Tesla CEO to show why he shouldn't be held in contempt.   \n",
       "2  Delaware Chancery Judge Kathaleen McCormick dealt the world's richest person a setback in ordering a speedy trial on his abandoned deal to buy Twitter.   \n",
       "3                                                                                                                                  Don't bet against Musk.   \n",
       "4                                            Recent statements by CEO Howard Schultz offer a glimpse of some of the hardball tactics that might lay ahead.   \n",
       "5                                                                                                                     Elon Musk's empire is consolidating.   \n",
       "6                                                         The billionaire wants to marry Tesla and SolarCity. But he says SpaceX should remain a bachelor.   \n",
       "7                    Android creator Andy Rubin, accused of sexual harassment, was given a severance package worth $240 million, according to the lawsuit.   \n",
       "8                                                                              The assets were the subject of recent talks between Fox and Walt Disney Co.   \n",
       "9                                                                                                                         Tesla CEO issues a dire warning.   \n",
       "\n",
       "                                                                                  headline  \\\n",
       "0                                                  Elon Musk Offers To Buy 100% Of Twitter   \n",
       "1                                  SEC Says Elon Musk Violated Fraud Settlement With Tweet   \n",
       "2             Twitter Lawyer Calls Elon Musk 'Committed Enemy' As Judge Sets October Trial   \n",
       "3                    Why Elon Musk’s Plan To Merge Tesla With SolarCity Will Probably Work   \n",
       "4            For The Starbucks Union Campaign, A Bruising Contract Fight Is Just Beginning   \n",
       "5                                Tesla Is Buying Sister Company SolarCity For $2.6 Billion   \n",
       "6                                      The One Company Elon Musk Wants To Keep Independent   \n",
       "7  Google's Alphabet Settles With Shareholders Over Payoffs To Execs Accused Of Harassment   \n",
       "8                        Verizon, Comcast Approach 21st Century Fox About Acquiring Assets   \n",
       "9                Elon Musk Predicts The Cause Of World War III (And It's Not Donald Trump)   \n",
       "\n",
       "  release_date     id  \n",
       "0   2022-04-14    849  \n",
       "1   2019-02-26   7191  \n",
       "2   2022-07-20    353  \n",
       "3   2016-08-16  59220  \n",
       "4   2022-04-16    837  \n",
       "5   2016-08-01  60483  \n",
       "6   2016-08-04  60237  \n",
       "7   2020-09-26   4025  \n",
       "8   2017-11-16  20285  \n",
       "9   2017-09-05  25949  "
      ]
     },
     "execution_count": 21,
     "metadata": {},
     "output_type": "execute_result"
    }
   ],
   "source": [
    "result = app.query(\n",
    "    news_query,\n",
    "    description_weight=1,\n",
    "    headline_weight=1,\n",
    "    recency_weight=1,\n",
    "    news_id=\"849\",\n",
    ")\n",
    "\n",
    "present_result(result)"
   ]
  }
 ],
 "metadata": {
  "kernelspec": {
   "display_name": "superlinked-py3.10",
   "language": "python",
   "name": "superlinked-py3.10"
  },
  "language_info": {
   "codemirror_mode": {
    "name": "ipython",
    "version": 3
   },
   "file_extension": ".py",
   "mimetype": "text/x-python",
   "name": "python",
   "nbconvert_exporter": "python",
   "pygments_lexer": "ipython3",
   "version": "3.10.9"
  }
 },
 "nbformat": 4,
 "nbformat_minor": 5
}
